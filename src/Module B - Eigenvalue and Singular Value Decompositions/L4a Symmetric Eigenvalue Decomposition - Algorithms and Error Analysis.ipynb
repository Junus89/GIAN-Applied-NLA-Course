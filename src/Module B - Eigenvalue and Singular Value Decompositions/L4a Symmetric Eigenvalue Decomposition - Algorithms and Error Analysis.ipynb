{
 "cells": [
  {
   "cell_type": "markdown",
   "metadata": {},
   "source": [
    "# Symmetric Eigenvalue Decomposition - Algorithms and Error Analysis\n",
    "\n",
    "---\n",
    "\n",
    "We study only algorithms for real symmetric matrices, which are most commonly used in the applications described in this course. \n",
    "\n",
    "For more details, see \n",
    "[I. Slapničar, Symmetric Matrix Eigenvalue Techniques][Hog14] and the references therein.\n",
    "\n",
    "[Hog14]: #1 \"L. Hogben, ed., 'Handbook of Linear Algebra', pp. 55.1-55.25, CRC Press, Boca Raton, 2014.\"\n",
    "\n",
    "\n",
    "## Prerequisites\n",
    "\n",
    "The reader should be familiar with basic linear algebra concepts and facts on eigenvalue decomposition and perturbation theory\n",
    "\n",
    " \n",
    "## Competences \n",
    "\n",
    "The reader should be able to apply adequate algorithm to a given problem, and to assess accuracy of the solution.\n",
    "\n",
    "---"
   ]
  },
  {
   "cell_type": "markdown",
   "metadata": {},
   "source": [
    "## Backward error and stability\n",
    "\n",
    "### Definitions\n",
    "\n",
    "If the value of a function $f(x)$ is computed with an algorithm  $\\mathrm{alg(x)}$, the \n",
    "__algorithm error__ is \n",
    "\n",
    "$$\n",
    "\\|\\mathrm{alg(x)}-f(x)\\|,\n",
    "$$\n",
    "\n",
    "and the __relative algorithm error__ is\n",
    "\n",
    "$$\n",
    "\\frac{\\| \\mathrm{alg}(x)-f(x)\\|}{\\| f(x) \\|},\n",
    "$$\n",
    "in respective norms. Therse errors can be hard or even impossible to estimate directly. \n",
    "\n",
    "In this case, assume that $f(x)$ computed by $\\mathrm{alg}(x)$ is equal to exact value of the function for a perturbed argument,\n",
    "\n",
    "$$\n",
    "\\mathrm{alg}(x)=f(x+\\delta x),\n",
    "$$\n",
    "for some  __backward error__ $\\delta x$.\n",
    "\n",
    "Algoritam is __stable__ is the above equality always holds for small $\\delta x$."
   ]
  },
  {
   "cell_type": "markdown",
   "metadata": {},
   "source": [
    "## Basic methods\n",
    "\n",
    "### Definitions\n",
    "\n",
    "The eigenvalue decomposition (EVD) of a real symmetric matrix\n",
    "$A=[a_{ij}]$ is $A=U\\Lambda U^T$,\n",
    "where $U$ is a $n\\times n$ real orthonormal matrix, $U^TU=UU^T=I_n$, and \n",
    "$\\Lambda=\\mathop{\\mathrm{diag}} (\\lambda_1,\\dots, \\lambda_n)$ is a real diagonal matrix.\n",
    "\n",
    "The numbers $\\lambda_i$ are the eigenvalues of $A$, the vectors $U_{:i}$,\n",
    "$i=1,\\dots,n$, are the eigenvectors of $A$, and\n",
    "$AU_{:i}=\\lambda_i U_{:i}$, $i=1,\\dots,n$.\n",
    "\n",
    "If $|\\lambda_1|> |\\lambda_2| \\geq \\cdots \\geq |\\lambda_n|$, we say that\n",
    "  $\\lambda_1$ is the __dominant eigenvalue__.\n",
    "\n",
    "__Deflation__ is a process of reducing the size of the matrix whose\n",
    "EVD is to be determined, given that one eigenvector is known.\n",
    "\n",
    "The __shifted matrix__ of the matrix $A$ is the matrix $A-\\mu I$, where\n",
    "$\\mu$ is the __shift__.\n",
    "\n",
    "__Power method__ starts from vector $x_0$ and computes the sequences\n",
    "$$\n",
    "\\nu_k=x_k^T A x_k, \\qquad x_{k+1}= A x_k /\n",
    " \\| A x_k \\|, \\qquad k=0,1,2,\\dots,\n",
    "$$\n",
    "until convergence. Normalization of $x_k$ can be performed in any norm and serves\n",
    "the numerical stability of the algorithm (avoiding overflow or underflow).\n",
    "\n",
    "__Inverse iteration__ is the power method applied to the inverse of\n",
    "a shifted matrix:\n",
    "$$\n",
    "\\nu_k=x_k^T A x_k, \\quad \n",
    "x_{k+1}= (A-\\mu I)^{-1} x_k, \\quad \n",
    "x_{k+1} = x_{k+1}/\\|x_{k+1}\\|, \\quad k=0,1,2,\\dots.\n",
    "$$\n",
    "\n",
    "__QR iteration__ starts from the matrix $A_0=A$ and forms the sequence of matrices\n",
    "$$\n",
    "  A_k=Q_kR_k \\quad \\textrm{(QR factorization)}, \\qquad\n",
    "  A_{k+1}=R_kQ_k,\\qquad k=0,1,2,\\ldots \n",
    "$$\n",
    "\n",
    "__Shifted QR iteration__ is the QR iteration applied to a shifted matrix:\n",
    "$$\n",
    "A_k-\\mu I=Q_kR_k \\quad \\textrm{(QR factorization)}, \\quad\n",
    "  A_{k+1}=R_kQ_k+\\mu I ,\\quad k=0,1,2,\\ldots \n",
    "$$\n",
    "\n",
    "### Facts\n",
    "\n",
    "1. If $\\lambda_1$ is the dominant eigenvalue and if  $x_0$ is not\n",
    "orthogonal to $U_{:1}$, then $\\nu_k\\to \\lambda_1$ and $x_k\\to U_{:1}$. In other\n",
    "words, the power method converges to the dominant eigenvalue and its eigenvector.\n",
    "\n",
    "2. The convergence is linear in the sense that \n",
    "$$\n",
    "|\\lambda_1-\\nu_k|\\approx \\left|\\frac{c_2}{c_1}\\right| \\left|\n",
    " \\frac{\\lambda_2}{\\lambda_1}\\right|^k,\\qquad\n",
    "\\|U_{:1}-x_k\\|_2 =O\\bigg(\\bigg|\n",
    " \\frac{\\lambda_2}{\\lambda_1}\\bigg|^k\\bigg)\\!, \n",
    "$$\n",
    "where $c_i$ is the coefficient of the $i$-th eigenvector in the linear\n",
    "combination expressing the starting vector $x_0$.\n",
    " \n",
    "3. Since $\\lambda_1$ is not available, the convergence is\n",
    "determined using residuals:  if $\\| Ax_k-\\nu_k x_k\\|_2\\leq tol$, \n",
    "where $tol$ is a user prescribed stopping criterion,\n",
    "then $|\\lambda_1-\\nu_k|\\leq tol$.\n",
    "\n",
    "4. After computing the dominant eigenpair, we can perform deflation\n",
    "to reduce the given EVD for $A$ to the one of size $n-1$ for $A_1$:\n",
    "$$\n",
    "\\begin{bmatrix} U_{:1} & X \\end{bmatrix}^T A  \\begin{bmatrix} U_{:1} & X \\end{bmatrix}=\n",
    "\\begin{bmatrix} \\lambda_1 & \\\\ & A_1 \\end{bmatrix}, \\quad\n",
    "\\begin{bmatrix} U_{:1} & X \\end{bmatrix} \\textrm{orthonormal}, \\quad A_1=X^TAX.\n",
    "$$\n",
    "\n",
    "5. The EVD of the shifted matrix $A-\\mu I$ is $U(\\Lambda-\\mu I) U^T$.  \n",
    "\n",
    "6. Inverse iteration requires solving the system of linear equations \n",
    "$(A-\\mu I)x_{k+1}= x_k$ for $x_{k+1}$ in each step. \n",
    "At the beginning, LU factorization of \n",
    "$A-\\mu I$ needs to be computed, which requires $2n^3/3$ operations. \n",
    "In each subsequent step, two triangular systems need to be solved, which requires $2n^2$\n",
    "operations.\n",
    "\n",
    "7. If $\\mu$ is close to some eigenvalue of $A$, the\n",
    "eigenvalues of the shifted matrix satisfy $|\\lambda_1|\\gg\n",
    "|\\lambda_2|\\geq\\cdots\\geq |\\lambda_n|$, so the convergence of the inverse\n",
    "iteration method is fast.\n",
    "  \n",
    "8. If $\\mu$ is very close to some eigenvalue of $A$, then the\n",
    "matrix $A-\\mu I$ is nearly singular, so the solutions of linear\n",
    "systems may have large errors. However, these errors are almost\n",
    "entirely in the direction of the dominant eigenvector so the inverse\n",
    "iteration method is both fast and accurate.\n",
    "  \n",
    "9. We can further increase the speed of convergence of inverse iterations by substituting\n",
    "  the shift $\\mu$ with the Rayleigh quotient $\\nu_k$\n",
    "  at the cost of computing new LU factorization.\n",
    "  \n",
    "10. Matrices $A_k$ and $A_{k+1}$ from both QR iterations are orthogonally\n",
    "similar, $A_{k+1}=Q_k^TA_kQ_k$.\n",
    "\n",
    "11. The QR iteration method is essentially equivalent to the power method and\n",
    "  the shifted QR iteration method is essentially equivalent to the\n",
    "  inverse power method on the shifted matrix. \n",
    "  \n",
    "12. The straightforward application of the QR iteration requires $O(n^3)$ operations per step, so better implementation is needed.\n",
    "\n",
    "\n",
    "\n",
    "  \n",
    "### Examples\n",
    "\n",
    "In order to keep the programs simple, in the examples below we do not compute full matrix of eigenvectors. "
   ]
  },
  {
   "cell_type": "code",
   "execution_count": 1,
   "metadata": {
    "collapsed": false
   },
   "outputs": [
    {
     "data": {
      "text/plain": [
       "myPower (generic function with 1 method)"
      ]
     },
     "execution_count": 1,
     "metadata": {},
     "output_type": "execute_result"
    }
   ],
   "source": [
    "function myPower(A::Array,x::Vector,tol::Float64)\n",
    "    y=A*x\n",
    "    ν=x⋅y\n",
    "    steps=1\n",
    "    while norm(y-ν*x)>tol\n",
    "        x=y/norm(y)\n",
    "        y=A*x\n",
    "        ν=x⋅y\n",
    "        steps+=1\n",
    "    end\n",
    "    ν, y/norm(y), steps\n",
    "end"
   ]
  },
  {
   "cell_type": "code",
   "execution_count": 2,
   "metadata": {
    "collapsed": false
   },
   "outputs": [
    {
     "data": {
      "text/plain": [
       "6×6 Array{Int64,2}:\n",
       "  3  -3   8  -5   1  -1\n",
       " -3  -1  -9   4  -3   9\n",
       "  8  -9  -9   5   1  -5\n",
       " -5   4   5   7  -8  -4\n",
       "  1  -3   1  -8  -3  -4\n",
       " -1   9  -5  -4  -4   3"
      ]
     },
     "execution_count": 2,
     "metadata": {},
     "output_type": "execute_result"
    }
   ],
   "source": [
    "n=6\n",
    "A=full(Symmetric(rand(-9:9,n,n)))"
   ]
  },
  {
   "cell_type": "code",
   "execution_count": 3,
   "metadata": {
    "collapsed": false
   },
   "outputs": [
    {
     "data": {
      "text/plain": [
       "6-element Array{Int64,1}:\n",
       " -3\n",
       " -4\n",
       " -4\n",
       "  6\n",
       "  9\n",
       " -3"
      ]
     },
     "execution_count": 3,
     "metadata": {},
     "output_type": "execute_result"
    }
   ],
   "source": [
    "x0=rand(-9:9,n)"
   ]
  },
  {
   "cell_type": "code",
   "execution_count": 4,
   "metadata": {
    "collapsed": false
   },
   "outputs": [
    {
     "data": {
      "text/plain": [
       "(-18.89828763808032,[0.292736,-0.43803,-0.763059,0.330958,0.139928,0.10518],1024)"
      ]
     },
     "execution_count": 4,
     "metadata": {},
     "output_type": "execute_result"
    }
   ],
   "source": [
    "ν,x=myPower(A,x0,1e-10)"
   ]
  },
  {
   "cell_type": "code",
   "execution_count": 5,
   "metadata": {
    "collapsed": false
   },
   "outputs": [
    {
     "data": {
      "text/plain": [
       "6-element Array{Float64,1}:\n",
       " -18.8983 \n",
       "  -9.57876\n",
       "  -6.65722\n",
       "   3.17723\n",
       "  13.5227 \n",
       "  18.4344 "
      ]
     },
     "execution_count": 5,
     "metadata": {},
     "output_type": "execute_result"
    }
   ],
   "source": [
    "eigvals(A)"
   ]
  },
  {
   "cell_type": "code",
   "execution_count": 6,
   "metadata": {
    "collapsed": false
   },
   "outputs": [
    {
     "data": {
      "text/plain": [
       "-18.898287638080316"
      ]
     },
     "execution_count": 6,
     "metadata": {},
     "output_type": "execute_result"
    }
   ],
   "source": [
    "ans[1]"
   ]
  },
  {
   "cell_type": "code",
   "execution_count": 7,
   "metadata": {
    "collapsed": false
   },
   "outputs": [
    {
     "data": {
      "text/plain": [
       "6×2 Array{Float64,2}:\n",
       "  0.292736   0.292736\n",
       " -0.43803   -0.43803 \n",
       " -0.763059  -0.763059\n",
       "  0.330958   0.330958\n",
       "  0.139928   0.139928\n",
       "  0.10518    0.10518 "
      ]
     },
     "execution_count": 7,
     "metadata": {},
     "output_type": "execute_result"
    }
   ],
   "source": [
    "[eigvecs(A)[:,1] x]"
   ]
  },
  {
   "cell_type": "code",
   "execution_count": 8,
   "metadata": {
    "collapsed": false
   },
   "outputs": [
    {
     "data": {
      "text/plain": [
       "-3.552713678800501e-15"
      ]
     },
     "execution_count": 8,
     "metadata": {},
     "output_type": "execute_result"
    }
   ],
   "source": [
    "ν-eigvals(A)[1]"
   ]
  },
  {
   "cell_type": "code",
   "execution_count": 9,
   "metadata": {
    "collapsed": false
   },
   "outputs": [
    {
     "data": {
      "text/plain": [
       "myDeflation (generic function with 1 method)"
      ]
     },
     "execution_count": 9,
     "metadata": {},
     "output_type": "execute_result"
    }
   ],
   "source": [
    "# Deflation\n",
    "function myDeflation(A::Array,x::Vector)\n",
    "    n,m=size(A)\n",
    "    # Need to convert x to 2D array\n",
    "    X,R=qr(x[:,:],thin=false)\n",
    "    full(Symmetric(X[:,2:n]'*A*X[:,2:n]))\n",
    "end"
   ]
  },
  {
   "cell_type": "code",
   "execution_count": 10,
   "metadata": {
    "collapsed": false
   },
   "outputs": [
    {
     "data": {
      "text/plain": [
       "5×5 Array{Float64,2}:\n",
       " -0.518847  -3.6803     1.17422  -3.13959    8.30154\n",
       " -3.6803     8.07396   -3.30863  -0.674779  -7.29283\n",
       "  1.17422   -3.30863   10.9954   -7.10798   -2.88104\n",
       " -3.13959   -0.674779  -7.10798  -2.95992   -3.78027\n",
       "  8.30154   -7.29283   -2.88104  -3.78027    3.30769"
      ]
     },
     "execution_count": 10,
     "metadata": {},
     "output_type": "execute_result"
    }
   ],
   "source": [
    "A1=myDeflation(A,x)"
   ]
  },
  {
   "cell_type": "code",
   "execution_count": 11,
   "metadata": {
    "collapsed": false
   },
   "outputs": [
    {
     "data": {
      "text/plain": [
       "([-9.57876,-6.65722,3.17723,13.5227,18.4344],\n",
       "[0.249405 0.761041 … 0.165932 0.405479; -0.279592 0.068201 … -0.181887 -0.605697; … ; -0.626581 0.529478 … 0.244753 -0.257064; -0.582577 -0.349 … 0.411769 0.505815])"
      ]
     },
     "execution_count": 11,
     "metadata": {},
     "output_type": "execute_result"
    }
   ],
   "source": [
    "eig(A1)"
   ]
  },
  {
   "cell_type": "code",
   "execution_count": 12,
   "metadata": {
    "collapsed": false
   },
   "outputs": [
    {
     "data": {
      "text/plain": [
       "(18.434385327019047,[0.405479,-0.605697,0.383128,-0.257064,0.505815],78)"
      ]
     },
     "execution_count": 12,
     "metadata": {},
     "output_type": "execute_result"
    }
   ],
   "source": [
    "myPower(A1,rand(n-1),1e-10)"
   ]
  },
  {
   "cell_type": "code",
   "execution_count": 13,
   "metadata": {
    "collapsed": false
   },
   "outputs": [
    {
     "data": {
      "text/plain": [
       "myPowerMethod (generic function with 1 method)"
      ]
     },
     "execution_count": 13,
     "metadata": {},
     "output_type": "execute_result"
    }
   ],
   "source": [
    "# Put it all together - eigenvectors are ommited for the sake of simplicty\n",
    "function myPowerMethod(A::Array, tol::Float64)\n",
    "    n,m=size(A)\n",
    "    λ=Array(Float64,n)\n",
    "    for i=1:n\n",
    "        λ[i],x,steps=myPower(A,rand(n-i+1),tol)\n",
    "        A=myDeflation(A,x)\n",
    "    end\n",
    "    λ\n",
    "end"
   ]
  },
  {
   "cell_type": "code",
   "execution_count": 14,
   "metadata": {
    "collapsed": false
   },
   "outputs": [
    {
     "data": {
      "text/plain": [
       "6-element Array{Float64,1}:\n",
       " -18.8983 \n",
       "  18.4344 \n",
       "  13.5227 \n",
       "  -9.57876\n",
       "  -6.65722\n",
       "   3.17723"
      ]
     },
     "execution_count": 14,
     "metadata": {},
     "output_type": "execute_result"
    }
   ],
   "source": [
    "myPowerMethod(A,1e-10)"
   ]
  },
  {
   "cell_type": "code",
   "execution_count": 15,
   "metadata": {
    "collapsed": false
   },
   "outputs": [
    {
     "data": {
      "text/plain": [
       "myQRIteration (generic function with 1 method)"
      ]
     },
     "execution_count": 15,
     "metadata": {},
     "output_type": "execute_result"
    }
   ],
   "source": [
    "# QR iteration\n",
    "function myQRIteration(A::Array, tol::Float64)\n",
    "    steps=1\n",
    "    while norm(tril(A,-1))>tol\n",
    "        Q,R=qr(A)\n",
    "        A=R*Q\n",
    "        steps+=1\n",
    "    end\n",
    "    A,steps\n",
    "end"
   ]
  },
  {
   "cell_type": "code",
   "execution_count": 16,
   "metadata": {
    "collapsed": false
   },
   "outputs": [
    {
     "data": {
      "text/plain": [
       "6×6 Array{Float64,2}:\n",
       " -18.8983         9.80718e-6    -9.9278e-15    …  -1.55906e-15    2.15756e-15\n",
       "   9.80718e-6    18.4344        -9.41774e-15      -9.29303e-16    7.81376e-16\n",
       "  -2.53354e-89   -1.37472e-83   13.5227            8.61382e-15    6.9353e-16 \n",
       "   4.50418e-184   2.2256e-176    8.05429e-93       6.55172e-16   -1.02133e-15\n",
       "  -6.7958e-284   -7.69542e-275  -2.90589e-191     -6.65722        9.32992e-16\n",
       "   0.0            0.0            0.0           …   1.33051e-200   3.17723    "
      ]
     },
     "execution_count": 16,
     "metadata": {},
     "output_type": "execute_result"
    }
   ],
   "source": [
    "B,steps=myQRIteration(A,1e-5)\n",
    "B"
   ]
  },
  {
   "cell_type": "code",
   "execution_count": 17,
   "metadata": {
    "collapsed": false
   },
   "outputs": [
    {
     "data": {
      "text/plain": [
       "6-element Array{Float64,1}:\n",
       " -18.8983 \n",
       "  18.4344 \n",
       "  13.5227 \n",
       "  -9.57876\n",
       "  -6.65722\n",
       "   3.17723"
      ]
     },
     "execution_count": 17,
     "metadata": {},
     "output_type": "execute_result"
    }
   ],
   "source": [
    "diag(B)"
   ]
  },
  {
   "cell_type": "markdown",
   "metadata": {},
   "source": [
    "##  Tridiagonalization\n",
    "\n",
    "The following implementation of $QR$ iteration requires a total of $O(n^3)$ operations:\n",
    "\n",
    "1. Reduce $A$ to tridiagonal form $T$ by orthogonal similarities, $X^TAX=T$.\n",
    "2. Compute the EVD of $T$ with QR iterations, $T=Q\\Lambda Q^T$.\n",
    "3. Multiply $U=XQ$.\n",
    "\n",
    "One step of QR iterations on $T$ requires $O(n)$ operations if only $\\Lambda$ is computed, and $O(n^2)$ operations if\n",
    "$Q$ is accumulated, as well.\n",
    "\n",
    "### Facts\n",
    "\n",
    "1. Tridiagonal form is not unique.\n",
    "\n",
    "2. The reduction of $A$ to tridiagonal matrix by Householder reflections is performed as follows. Let \n",
    "$$\n",
    "A=\\begin{bmatrix} \\alpha & a^T  \\\\ a & B \\end{bmatrix},\n",
    "$$ \n",
    "let $H$ be the __Householder reflector__,\n",
    "$$\n",
    "v=a+\\mathrm{\\mathop{sign}}(a_{1})\\|a\\|_2 e_1,\\quad\n",
    "H= I - 2 \\frac{v v^T}{v^Tv},\n",
    "$$\n",
    "and set\n",
    "$$\n",
    "H_1=\\begin{bmatrix} 1 & \\\\ & H \\end{bmatrix}.\n",
    "$$\n",
    "Then\n",
    "$$\n",
    "H_1AH_1=\n",
    "\\begin{bmatrix} \\alpha & a^T H \\\\ Ha & HBH \\end{bmatrix} =\n",
    "\\begin{bmatrix} \\alpha & \\nu e_1^T \\\\ \\nu e_1 & A_1 \\end{bmatrix},\n",
    "\\quad  \\nu=-\\mathop{\\mathrm{sign}}(a_{1}) \\|a\\|_2.\n",
    "$$\n",
    "This step annihilates all elements in the first column below the\n",
    "first subdiagonal and all elements in the first row to the right of\n",
    "the first subdiagonal.\n",
    "Applying this procedure recursively yields the tridiagonal matrix \n",
    "$T=X^T AX$, $X=H_1H_2\\cdots H_{n-2}$.\n",
    "\n",
    "3. $H$ does not depend on the normalization of $v$. With the\n",
    "normalization $v_1=1$, $a_{2:n-1}$ can be overwritten by\n",
    "$v_{2:n-1}$  (and $v_1$ does not need to be stored).\n",
    "\n",
    "4. The matrix $H$ is not formed explicitly - given $v$, $B$ is overwritten with $HBH$ in\n",
    "$O(n^2)$ operations by using one matrix-vector multiplication and two rank-one updates.\n",
    "\n",
    "5. When symmetry is exploited in performing rank-2 update, tridiagonalization \n",
    "requires $4n^3/3$ operations. Instead of\n",
    "performing rank-2 update on $B$, one can\n",
    "accumulate $p$ transformations and perform rank-$2p$ update. \n",
    "This __block algorithm__ is rich in matrix--matrix multiplications (roughly one\n",
    "half of the operations is performed using BLAS 3 routines), but\n",
    "it requires extra workspace for $U$ and $V$.\n",
    "\n",
    "6. If the matrix $X$ is needed explicitly, it can be computed from the \n",
    "stored Householder vectors $v$.\n",
    "In order to minimize the operation count, the computation\n",
    "starts from the smallest matrix and the size is gradually\n",
    "increased:\n",
    "$$\n",
    "H_{n-2},\\quad H_{n-3}H_{n-2},\\dots,\\quad X=H_1\\cdots H_{n-2}. \n",
    "$$\n",
    "A column-oriented version is possible as well, and the operation count in both\n",
    "cases is $4n^3/3$. If the Householder reflectors $H_i$ are accumulated in the order\n",
    "in which they are generated, the operation count is $2n^3$.\n",
    "\n",
    "7. The backward error bounds for functions `myTridiag()` and `myTridiagX()` are as follows: \n",
    "The computed matrix $\\tilde T$ is equal to the matrix which\n",
    "would be obtained by exact tridiagonalization of some perturbed matrix $A+\\Delta A$, \n",
    "where $\\|\\Delta A\\|_2 \\leq \\psi \\varepsilon \\|A\\|_2$ and $\\psi$ is a\n",
    "slowly increasing function of $n$.\n",
    "The computed matrix $\\tilde X$ satisfies $\\tilde X=X+\\Delta X$, where\n",
    "$\\|\\Delta X \\|_2\\leq \\phi \\varepsilon$ \n",
    "and $\\phi$ is a slowly increasing function of $n$.\n",
    "\n",
    "8. Tridiagonalization using Givens rotations requires $(n-1)(n-2)/2$ plane rotations, which \n",
    "amounts to $4n^3$ operations if symmetry is properly exploited. \n",
    "The operation count is reduced to $8n^3/3$ if fast rotations are used. Fast rotations are\n",
    "obtained by factoring out absolutely larger of $c$ and $s$ from $G$.\n",
    "\n",
    "10. Givens rotations in the function `myTridiagG()`  can be performed in different\n",
    "orderings. For example, the elements in the first column and row can be annihilated by\n",
    "rotations in the planes $(n-1,n)$, $(n-2,n-1)$, $\\ldots$, $(2,3)$.\n",
    "Givens rotations act more selectively than Householder reflectors, and\n",
    "are useful if $A$ has some special structure, for example, if $A$ is a banded matrix. \n",
    "\n",
    "11. Error bounds for function `myTridiagG()` are the same as above, \n",
    "but with slightly different functions $\\psi$ and $\\phi$.\n",
    "\n",
    "12. The block version of tridiagonal reduction is implemented in the \n",
    "[LAPACK](http://www.netlib.org/lapack) subroutine \n",
    "[DSYTRD](http://www.netlib.org/lapack/explore-3.1.1-html/dsytrd.f.html).\n",
    "The computation of $X$ is implemented in the subroutine \n",
    "[DORGTR](http://www.netlib.org/lapack/lapack-3.1.1/html/dorgtr.f.html).\n",
    "The size of the required extra workspace (in elements) is \n",
    "$lwork=nb*n$, where $nb$ is\n",
    "the optimal block size (here, $nb=64)$, and it\n",
    "is determined automatically by the subroutines. \n",
    "The subroutine [DSBTRD](http://www.netlib.org/lapack/explore-html/d0/d62/dsbtrd_8f.html) tridiagonalizes a symmetric band matrix by using Givens rotations. _Julia wappers for those routines do nost exist yet!_"
   ]
  },
  {
   "cell_type": "code",
   "execution_count": 18,
   "metadata": {
    "collapsed": false
   },
   "outputs": [
    {
     "data": {
      "text/plain": [
       "myTridiag (generic function with 1 method)"
      ]
     },
     "execution_count": 18,
     "metadata": {},
     "output_type": "execute_result"
    }
   ],
   "source": [
    "function myTridiag{T}(A::Array{T})\n",
    "    # Normalized Householder vectors are stored in the lower triangular part of A\n",
    "    # below the first subdiagonal\n",
    "    n,m=size(A)\n",
    "    v=Array(T,n)\n",
    "    Trid=SymTridiagonal(zeros(n),zeros(n-1))\n",
    "    for j = 1 : n-2\n",
    "        μ = sign(A[j+1,j])*vecnorm(A[j+1:n, j])\n",
    "        if μ != zero(T)\n",
    "            β =A[j+1,j]+μ\n",
    "            v[j+2:n] = A[j+2:n,j] / β\n",
    "        end\n",
    "        A[j+1,j]=-μ\n",
    "        A[j,j+1]=-μ\n",
    "        v[j+1] = one(Float64)\n",
    "        γ = -2 / (v[j+1:n]⋅v[j+1:n])\n",
    "        w = γ* A[j+1:n, j+1:n]*v[j+1:n]\n",
    "        q = w + γ * v[j+1:n]*(v[j+1:n]⋅w) / 2 \n",
    "        A[j+1:n, j+1:n] = A[j+1:n,j+1:n] + v[j+1:n]*q' + q*v[j+1:n]'\n",
    "        A[j+2:n, j] = v[j+2:n]\n",
    "    end\n",
    "    SymTridiagonal(diag(A),diag(A,1)), tril(A,-2)\n",
    "end"
   ]
  },
  {
   "cell_type": "code",
   "execution_count": 19,
   "metadata": {
    "collapsed": false
   },
   "outputs": [
    {
     "data": {
      "text/plain": [
       "6-element Array{Float64,1}:\n",
       " -18.8983 \n",
       "  -9.57876\n",
       "  -6.65722\n",
       "   3.17723\n",
       "  13.5227 \n",
       "  18.4344 "
      ]
     },
     "execution_count": 19,
     "metadata": {},
     "output_type": "execute_result"
    }
   ],
   "source": [
    "eigvals(A)"
   ]
  },
  {
   "cell_type": "code",
   "execution_count": 20,
   "metadata": {
    "collapsed": false
   },
   "outputs": [
    {
     "data": {
      "text/plain": [
       "(\n",
       "[3.0 10.0 … 0.0 0.0; 10.0 -0.42 … 0.0 0.0; … ; 0.0 0.0 … 10.4492 6.2478; 0.0 0.0 … 6.2478 -6.82284],\n",
       "\n",
       "[0.0 0.0 … 0.0 0.0; 0.0 0.0 … 0.0 0.0; … ; -0.0769231 -0.189074 … 0.0 0.0; 0.0769231 0.174114 … 0.0 0.0])"
      ]
     },
     "execution_count": 20,
     "metadata": {},
     "output_type": "execute_result"
    }
   ],
   "source": [
    "T,H=myTridiag(map(Float64,A))"
   ]
  },
  {
   "cell_type": "code",
   "execution_count": 21,
   "metadata": {
    "collapsed": false
   },
   "outputs": [
    {
     "data": {
      "text/plain": [
       "6×2 Array{Float64,2}:\n",
       " -18.8983   -18.8983 \n",
       "  -9.57876   -9.57876\n",
       "  -6.65722   -6.65722\n",
       "   3.17723    3.17723\n",
       "  13.5227    13.5227 \n",
       "  18.4344    18.4344 "
      ]
     },
     "execution_count": 21,
     "metadata": {},
     "output_type": "execute_result"
    }
   ],
   "source": [
    "[eigvals(A) eigvals(T)]"
   ]
  },
  {
   "cell_type": "code",
   "execution_count": 22,
   "metadata": {
    "collapsed": false
   },
   "outputs": [
    {
     "data": {
      "text/plain": [
       "myTridiagX (generic function with 1 method)"
      ]
     },
     "execution_count": 22,
     "metadata": {},
     "output_type": "execute_result"
    }
   ],
   "source": [
    "# Extract X\n",
    "function myTridiagX{T}(H::Array{T})\n",
    "    n,m=size(H)\n",
    "    X = eye(T,n)\n",
    "    v=Array(T,n)\n",
    "    for j = n-2 : -1 : 1\n",
    "        v[j+1] = one(T)\n",
    "        v[j+2:n] = H[j+2:n, j]\n",
    "        γ = -2 / (v[j+1:n]⋅v[j+1:n])\n",
    "        w = γ * X[j+1:n, j+1:n]'*v[j+1:n]\n",
    "        X[j+1:n, j+1:n] = X[j+1:n, j+1:n] + v[j+1:n]*w'\n",
    "    end\n",
    "    X\n",
    "end"
   ]
  },
  {
   "cell_type": "code",
   "execution_count": 23,
   "metadata": {
    "collapsed": false
   },
   "outputs": [
    {
     "data": {
      "text/plain": [
       "6×6 Array{Float64,2}:\n",
       " 1.0   0.0   0.0         0.0         0.0        0.0     \n",
       " 0.0  -0.3  -0.711094    0.531962    0.270993   0.218918\n",
       " 0.0   0.8  -0.421677    0.0534471  -0.410336   0.104672\n",
       " 0.0  -0.5  -0.0910945  -0.0263534  -0.850119   0.135297\n",
       " 0.0   0.1   0.40624     0.221407    0.0308964  0.880337\n",
       " 0.0  -0.1  -0.378425   -0.815135    0.185823   0.384473"
      ]
     },
     "execution_count": 23,
     "metadata": {},
     "output_type": "execute_result"
    }
   ],
   "source": [
    "X=myTridiagX(H)"
   ]
  },
  {
   "cell_type": "code",
   "execution_count": 24,
   "metadata": {
    "collapsed": false
   },
   "outputs": [
    {
     "data": {
      "text/plain": [
       "6×6 Array{Float64,2}:\n",
       " 1.0   0.0           0.0          0.0           0.0          0.0        \n",
       " 0.0   1.0          -2.77556e-17  2.22045e-16  -4.51028e-17  5.55112e-17\n",
       " 0.0  -2.77556e-17   1.0          0.0          -1.38778e-17  0.0        \n",
       " 0.0   2.22045e-16   0.0          1.0           1.38778e-16  0.0        \n",
       " 0.0  -4.51028e-17  -1.38778e-17  1.38778e-16   1.0          6.93889e-17\n",
       " 0.0   5.55112e-17   0.0          0.0           6.93889e-17  1.0        "
      ]
     },
     "execution_count": 24,
     "metadata": {},
     "output_type": "execute_result"
    }
   ],
   "source": [
    "# Fact 7: norm(ΔX)<ϕ*eps()\n",
    "X'*X"
   ]
  },
  {
   "cell_type": "code",
   "execution_count": 25,
   "metadata": {
    "collapsed": false
   },
   "outputs": [
    {
     "data": {
      "text/plain": [
       "6×6 Array{Float64,2}:\n",
       "  3.0          10.0           7.77156e-16  …  -7.77156e-16   1.11022e-16\n",
       " 10.0          -0.42         14.3807           0.0           2.66454e-15\n",
       "  7.77156e-16  14.3807       -0.423546         6.66134e-16   0.0        \n",
       "  1.33227e-15  -1.77636e-15   6.63636         -4.88406       2.77556e-16\n",
       " -7.77156e-16   2.22045e-16   8.88178e-16     10.4492        6.2478     \n",
       "  1.11022e-16   1.08247e-15   1.11022e-16  …   6.2478       -6.82284    "
      ]
     },
     "execution_count": 25,
     "metadata": {},
     "output_type": "execute_result"
    }
   ],
   "source": [
    "X'*A*X"
   ]
  },
  {
   "cell_type": "code",
   "execution_count": 26,
   "metadata": {
    "collapsed": false
   },
   "outputs": [
    {
     "data": {
      "text/plain": [
       "myTridiagG (generic function with 1 method)"
      ]
     },
     "execution_count": 26,
     "metadata": {},
     "output_type": "execute_result"
    }
   ],
   "source": [
    "# Tridiagonalization using Givens rotations\n",
    "function myTridiagG{T}(A::Array{T})\n",
    "    n,m=size(A)\n",
    "    X=eye(T,n)\n",
    "    for j = 1 : n-2\n",
    "        for i = j+2 : n\n",
    "            G,r=givens(A,j+1,i,j)\n",
    "            A=(G*A)*G'\n",
    "            X*=G'\n",
    "        end\n",
    "    end\n",
    "    SymTridiagonal(diag(A),diag(A,1)), X\n",
    "end"
   ]
  },
  {
   "cell_type": "code",
   "execution_count": 27,
   "metadata": {
    "collapsed": false
   },
   "outputs": [
    {
     "data": {
      "text/html": [
       "3 methods for generic function <b>givens</b>:<ul><li> givens(A::<b>AbstractArray{T<:Any,2}</b>, i1::<b>Integer</b>, i2::<b>Integer</b>, j::<b>Integer</b>) at <a href=\"https://github.com/JuliaLang/julia/tree/6445c82d0060dbe82b88436f0f4371a4ee64d918/base/linalg/givens.jl#L280\" target=\"_blank\">linalg/givens.jl:280</a></li> <li> givens(x::<b>AbstractArray{T<:Any,1}</b>, i1::<b>Integer</b>, i2::<b>Integer</b>) at <a href=\"https://github.com/JuliaLang/julia/tree/6445c82d0060dbe82b88436f0f4371a4ee64d918/base/linalg/givens.jl#L299\" target=\"_blank\">linalg/givens.jl:299</a></li> <li> givens<i>{T}</i>(f::<b>T</b>, g::<b>T</b>, i1::<b>Integer</b>, i2::<b>Integer</b>) at <a href=\"https://github.com/JuliaLang/julia/tree/6445c82d0060dbe82b88436f0f4371a4ee64d918/base/linalg/givens.jl#L255\" target=\"_blank\">linalg/givens.jl:255</a></li> </ul>"
      ],
      "text/plain": [
       "# 3 methods for generic function \"givens\":\n",
       "givens(A::AbstractArray{T<:Any,2}, i1::Integer, i2::Integer, j::Integer) at linalg/givens.jl:280\n",
       "givens(x::AbstractArray{T<:Any,1}, i1::Integer, i2::Integer) at linalg/givens.jl:299\n",
       "givens{T}(f::T, g::T, i1::Integer, i2::Integer) at linalg/givens.jl:255"
      ]
     },
     "execution_count": 27,
     "metadata": {},
     "output_type": "execute_result"
    }
   ],
   "source": [
    "methods(givens)"
   ]
  },
  {
   "cell_type": "code",
   "execution_count": 28,
   "metadata": {
    "collapsed": false
   },
   "outputs": [
    {
     "data": {
      "text/plain": [
       "(\n",
       "[3.0 10.0 … 0.0 0.0; 10.0 -0.42 … 0.0 0.0; … ; 0.0 0.0 … 10.4492 6.2478; 0.0 0.0 … 6.2478 -6.82284],\n",
       "\n",
       "[1.0 0.0 … 0.0 0.0; 0.0 -0.3 … 0.270993 0.218918; … ; 0.0 0.1 … 0.0308964 0.880337; 0.0 -0.1 … 0.185823 0.384473])"
      ]
     },
     "execution_count": 28,
     "metadata": {},
     "output_type": "execute_result"
    }
   ],
   "source": [
    "Tg,Xg=myTridiagG(map(Float64,A))"
   ]
  },
  {
   "cell_type": "code",
   "execution_count": 29,
   "metadata": {
    "collapsed": false
   },
   "outputs": [
    {
     "data": {
      "text/plain": [
       "6×6 SymTridiagonal{Float64}:\n",
       "  3.0  10.0       ⋅          ⋅         ⋅         ⋅     \n",
       " 10.0  -0.42    14.3807      ⋅         ⋅         ⋅     \n",
       "   ⋅   14.3807  -0.423546   6.63636    ⋅         ⋅     \n",
       "   ⋅     ⋅       6.63636   -5.78277  -4.88406    ⋅     \n",
       "   ⋅     ⋅        ⋅        -4.88406  10.4492    6.2478 \n",
       "   ⋅     ⋅        ⋅          ⋅        6.2478   -6.82284"
      ]
     },
     "execution_count": 29,
     "metadata": {},
     "output_type": "execute_result"
    }
   ],
   "source": [
    "T"
   ]
  },
  {
   "cell_type": "code",
   "execution_count": 30,
   "metadata": {
    "collapsed": false
   },
   "outputs": [
    {
     "data": {
      "text/plain": [
       "6×6 Array{Float64,2}:\n",
       " 1.0   0.0           0.0           0.0           0.0           0.0        \n",
       " 0.0   1.0          -2.77556e-17  -1.38778e-17   4.51028e-17   0.0        \n",
       " 0.0  -2.77556e-17   1.0           0.0           9.71445e-17  -8.32667e-17\n",
       " 0.0  -1.38778e-17   0.0           1.0          -2.77556e-17  -5.55112e-17\n",
       " 0.0   4.51028e-17   9.71445e-17  -2.77556e-17   1.0          -5.55112e-17\n",
       " 0.0   0.0          -8.32667e-17  -5.55112e-17  -5.55112e-17   1.0        "
      ]
     },
     "execution_count": 30,
     "metadata": {},
     "output_type": "execute_result"
    }
   ],
   "source": [
    "Xg'*Xg"
   ]
  },
  {
   "cell_type": "code",
   "execution_count": 31,
   "metadata": {
    "collapsed": false
   },
   "outputs": [
    {
     "data": {
      "text/plain": [
       "6×6 Array{Float64,2}:\n",
       "  3.0          10.0           4.44089e-16  …   1.05471e-15  -5.55112e-17\n",
       " 10.0          -0.42         14.3807          -8.88178e-16  -4.44089e-16\n",
       "  4.44089e-16  14.3807       -0.423546        -1.77636e-15   8.88178e-16\n",
       "  1.11022e-16   6.10623e-16   6.63636         -4.88406      -2.22045e-16\n",
       "  1.05471e-15   9.99201e-16   8.88178e-16     10.4492        6.2478     \n",
       " -5.55112e-17  -9.99201e-16   8.88178e-16  …   6.2478       -6.82284    "
      ]
     },
     "execution_count": 31,
     "metadata": {},
     "output_type": "execute_result"
    }
   ],
   "source": [
    "Xg'*A*Xg"
   ]
  },
  {
   "cell_type": "markdown",
   "metadata": {},
   "source": [
    "## Tridiagonal QR method\n",
    "\n",
    "Let $T$ be a real symmetric tridiagonal matrix of order $n$ and $T=Q\\Lambda Q^T$ be its EVD.\n",
    "\n",
    "Each step of the shifted QR iterations can be elegantly implemented without explicitly computing the \n",
    "shifted matrix  $T-\\mu I$.\n",
    "\n",
    "\n",
    "### Definition\n",
    "\n",
    "__Wilkinson's shift__ $\\mu$ is the eigenvalue of the bottom right $2\\times 2$ submatrix of $T$, which\n",
    "  is closer to $T_{n,n}$. \n",
    "\n",
    "\n",
    "### Facts\n",
    "\n",
    "1. The stable formula for the Wilkinson's shift is\n",
    "$$\n",
    "\\mu=T_{n,n}-\n",
    "\\frac{T_{n,n-1}^2}{\\tau+\\mathop{\\mathrm{sign}}(\\tau)\\sqrt{\\tau^2+T_{n,n-1}^2}},\\qquad\n",
    "\\tau=\\frac{T_{n-1,n-1}-T_{n,n}}{2}.\n",
    "$$\n",
    "\n",
    "2. Wilkinson's shift is the most commonly used shift. \n",
    "  With Wilkinson's shift, the algorithm always converges in\n",
    "  the sense that $T_{n-1,n}\\to 0$. The convergence is quadratic, that\n",
    "  is, $|[T_{k+1}]_{n-1,n}|\\leq c |[T_{k}]_{n-1,n}|^2$ for some\n",
    "  constant $c$, where $T_k$ is the matrix after the $k$-th sweep. \n",
    "  Even more, the convergence is usually cubic. However,\n",
    "  it can also happen that some $T_{i,i+i}$, $i\\neq n-1$, becomes\n",
    "  sufficiently small before $T_{n-1,n}$, so the practical program has to check\n",
    "  for deflation at each step.\n",
    "\n",
    "3. _(Chasing the Bulge)_ The plane rotation parameters at the start of the sweep are computed \n",
    "as if the shifted $T-\\mu I$ has been formed. Since the rotation is\n",
    "applied to the original $T$ and not to $T-\\mu I$, \n",
    "this creates new nonzero elements at the positions $(3,1)$ and\n",
    "$(1, 3)$, the so-called __bulge__.  The subsequent rotations simply\n",
    "chase the bulge out of the lower right corner of the matrix. The\n",
    "rotation in the $(2,3)$ plane sets the elements $(3,1)$ and $(1,3)$\n",
    "back to zero, but it generates two new nonzero elements at positions\n",
    "$(4,2)$ and $(2,4)$; the rotation in the $(3,4)$ plane sets the\n",
    "\\hbox{elements} $(4,2)$ and $(2,4)$ back to zero, but it generates two new\n",
    "nonzero elements at positions $(5,3)$ and $(3,5)$, etc.\n",
    "\n",
    "4. The effect of this procedure is the following. At the end of the first sweep, the\n",
    "resulting matrix $T_1$ is equal to the the matrix\n",
    "that would have been obtained by factorizing $T-\\mu I=QR$\n",
    "and computing $T_1=RQ+\\mu I$.\n",
    "\n",
    "5. Since the convergence of the function `myTridEigQR()` is quadratic (or even cubic), \n",
    "  an eigenvalue is isolated after just a few steps, which requires\n",
    "  $O(n)$ operations. This means that $O(n^2)$ operations are needed to\n",
    "  compute all eigenvalues. \n",
    "\n",
    "6. If the eigenvector matrix $Q$ is desired, the plane rotations need to be\n",
    "accumulated similarly to the accumulation of $X$ in the function `myTridiagG()`.\n",
    "This accumulation requires $O(n^3)$ operations. Another, faster, algorithm to \n",
    "first compute only $\\Lambda$ and then compute $Q$ using inverse iterations. \n",
    "Inverse iteration on s tridiagonal matrix are implemented in the LAPACK routine \n",
    "[DSTEIN](http://www.netlib.org/lapack/explore-html/d8/d35/dstein_8f.html).\n",
    "\n",
    "7. __Error bounds__: Let $U\\Lambda U^T$ and $\\tilde U \\tilde \\Lambda \\tilde U^T$ be the\n",
    "exact and the computed EVDs of $A$, respectively, such that the diagonals of $\\Lambda$\n",
    "and $\\tilde \\Lambda$ are in the same order.\n",
    "Numerical methods generally compute the EVD with the errors bounded by\n",
    "$$\n",
    "|\\lambda_i-\\tilde \\lambda_i|\\leq \\phi \\epsilon\\|A\\|_2,\n",
    "\\qquad\n",
    "\\|u_i-\\tilde u_i\\|_2\\leq \\psi\\epsilon \\frac{\\|A\\|_2}\n",
    "{\\min_{j\\neq i} \n",
    "|\\lambda_i-\\tilde \\lambda_j|},\n",
    "$$\n",
    "where $\\epsilon$ is machine precision and $\\phi$ and $\\psi$\n",
    "are slowly growing polynomial functions of\n",
    "$n$ which depend upon the algorithm used (typically $O(n)$ or $O(n^2)$).\n",
    "Such bounds are obtained by combining perturbation bounds with the floating-point error analysis of the respective\n",
    "algorithms.\n",
    "\n",
    "8. The eigenvalue decomposition $T=Q\\Lambda Q^T$ computed by `myTridEigQR()` satisfies the\n",
    "error bounds from fact 7. with $A$ replaced by $T$ and $U$ replaced by $Q$. The deflation criterion \n",
    "implies $|T_{i,i+1}|\\leq \\epsilon \\|T\\|_F$, which is within these\n",
    "bounds.\n",
    "   \n",
    "9. The EVD computed by function `mySymEigQR()` satisfies the error bounds given in Fact 7. \n",
    "However, the algorithm tends to perform better on matrices, which are\n",
    "graded downwards, that is, on matrices that exhibit systematic decrease\n",
    "in the size of the matrix elements as we move along the diagonal.  \n",
    "For such matrices the tiny eigenvalues can usually be computed with higher\n",
    "relative accuracy (although counterexamples can be easily constructed).\n",
    "If the tiny eigenvalues are of interest, it should be checked whether\n",
    "there exists a symmetric permutation that moves larger elements to the\n",
    "upper left corner, thus converting the given matrix to the\n",
    "one that is graded downwards.\n",
    "\n",
    "10. The function `myTridEigQR()` is implemented in the \n",
    "LAPACK subroutine [DSTEQR](http://www.netlib.org/lapack/explore-html/d9/d3f/dsteqr_8f.html). \n",
    "This routine can compute just the\n",
    "eigenvalues, or both eigenvalues and eigenvectors.\n",
    "\n",
    "11. The function `mySymEigQR()` is  Algorithm 5 is implemented in the functions `eig()`, `eigvals()` and `eigvecs()`, \n",
    "and in the  LAPACK routine [DSYEV](http://www.netlib.org/lapack/explore-html/dd/d4c/dsyev_8f.html).\n",
    "To compute only eigenvalues, DSYEV calls DSYTRD and DSTEQR\n",
    "without the eigenvector option. To compute both eigenvalues and eigenvectors,\n",
    "DSYEV calls DSYTRD, DORGTR, and DSTEQR with the eigenvector\n",
    "option.\n",
    "\n",
    "### Examples"
   ]
  },
  {
   "cell_type": "code",
   "execution_count": 32,
   "metadata": {
    "collapsed": false
   },
   "outputs": [
    {
     "data": {
      "text/plain": [
       "myTridEigQR (generic function with 1 method)"
      ]
     },
     "execution_count": 32,
     "metadata": {},
     "output_type": "execute_result"
    }
   ],
   "source": [
    "function myTridEigQR{T}(A1::SymTridiagonal{T})\n",
    "    A=deepcopy(A1)\n",
    "    n=length(A.dv)\n",
    "    λ=Array(T,n)\n",
    "    Temp=Array{T}\n",
    "    if n==1\n",
    "        return map(T,A.dv)\n",
    "    end\n",
    "    if n==2\n",
    "        τ=(A.dv[end-1]-A.dv[end])/2\n",
    "        μ=A.dv[end]-A.ev[end]^2/(τ+sign(τ)*sqrt(τ^2+A.ev[end]^2))\n",
    "        # Only rotation\n",
    "        Temp=A[1:2,1:2]\n",
    "        G,r=givens(Temp-μ*I,1,2,1)\n",
    "        Temp=(G*Temp)*G'\n",
    "        return diag(Temp)[1:2]\n",
    "    end\n",
    "    steps=1\n",
    "    k=0\n",
    "    while k==0 && steps<=10\n",
    "        # Shift\n",
    "        τ=(A.dv[end-1]-A.dv[end])/2\n",
    "        μ=A.dv[end]-A.ev[end]^2/(τ+sign(τ)*sqrt(τ^2+A.ev[end]^2))\n",
    "        # First rotation\n",
    "        Temp=A[1:3,1:3]\n",
    "        G,r=givens(Temp-μ*I,1,2,1)\n",
    "        Temp=(G*Temp)*G'\n",
    "        A.dv[1:2]=diag(Temp)[1:2]\n",
    "        A.ev[1:2]=diag(Temp,-1)\n",
    "        bulge=Temp[3,1]\n",
    "        # Bulge chasing\n",
    "        for i = 2 : n-2\n",
    "            Temp=A[i-1:i+2,i-1:i+2]\n",
    "            Temp[3,1]=bulge\n",
    "            Temp[1,3]=bulge\n",
    "            G,r=givens(Temp,2,3,1)\n",
    "            Temp=(G*Temp)*G'\n",
    "            A.dv[i:i+1]=diag(Temp)[2:3]\n",
    "            A.ev[i-1:i+1]=diag(Temp,-1)\n",
    "            bulge=Temp[4,2]\n",
    "        end\n",
    "        # Last rotation\n",
    "        Temp=A[n-2:n,n-2:n]\n",
    "        Temp[3,1]=bulge\n",
    "        Temp[1,3]=bulge\n",
    "        G,r=givens(Temp,2,3,1)\n",
    "        Temp=(G*Temp)*G'\n",
    "        A.dv[n-1:n]=diag(Temp)[2:3]\n",
    "        A.ev[n-2:n-1]=diag(Temp,-1)\n",
    "        steps+=1\n",
    "        # Deflation criterion\n",
    "        k=findfirst(abs(A.ev) .< sqrt(abs(A.dv[1:n-1].*A.dv[2:n]))*eps(T))\n",
    "    end\n",
    "    λ[1:k]=myTridEigQR(SymTridiagonal(A.dv[1:k],A.ev[1:k-1]))\n",
    "    λ[k+1:n]=myTridEigQR(SymTridiagonal(A.dv[k+1:n],A.ev[k+1:n-1]))\n",
    "    λ\n",
    "end"
   ]
  },
  {
   "cell_type": "code",
   "execution_count": 33,
   "metadata": {
    "collapsed": false
   },
   "outputs": [
    {
     "name": "stdout",
     "output_type": "stream",
     "text": [
      "search: \u001b[1mf\u001b[22m\u001b[1mi\u001b[22m\u001b[1mn\u001b[22m\u001b[1md\u001b[22m\u001b[1mf\u001b[22m\u001b[1mi\u001b[22m\u001b[1mr\u001b[22m\u001b[1ms\u001b[22m\u001b[1mt\u001b[22m\n",
      "\n"
     ]
    }
   ],
   "source": [
    "?findfirst"
   ]
  },
  {
   "cell_type": "code",
   "execution_count": 34,
   "metadata": {
    "collapsed": false
   },
   "outputs": [
    {
     "data": {
      "text/plain": [
       "6-element Array{Float64,1}:\n",
       " -18.8983 \n",
       "  -9.57876\n",
       "  -6.65722\n",
       "   3.17723\n",
       "  13.5227 \n",
       "  18.4344 "
      ]
     },
     "execution_count": 34,
     "metadata": {},
     "output_type": "execute_result"
    }
   ],
   "source": [
    "λ=eigvals(T)"
   ]
  },
  {
   "cell_type": "code",
   "execution_count": 35,
   "metadata": {
    "collapsed": false
   },
   "outputs": [
    {
     "data": {
      "text/plain": [
       "6-element Array{Float64,1}:\n",
       " -18.8983 \n",
       "  18.4344 \n",
       "  13.5227 \n",
       "   3.17723\n",
       "  -6.65722\n",
       "  -9.57876"
      ]
     },
     "execution_count": 35,
     "metadata": {},
     "output_type": "execute_result"
    }
   ],
   "source": [
    "λ1=myTridEigQR(T)"
   ]
  },
  {
   "cell_type": "code",
   "execution_count": 36,
   "metadata": {
    "collapsed": false
   },
   "outputs": [
    {
     "data": {
      "text/plain": [
       "6-element Array{Float64,1}:\n",
       " 7.51965e-16\n",
       " 1.48358e-15\n",
       " 5.33663e-16\n",
       " 1.39773e-16\n",
       " 3.94085e-16\n",
       " 3.85444e-16"
      ]
     },
     "execution_count": 36,
     "metadata": {},
     "output_type": "execute_result"
    }
   ],
   "source": [
    "(sort(λ)-sort(λ1))./sort(λ)"
   ]
  },
  {
   "cell_type": "markdown",
   "metadata": {},
   "source": [
    "###  Computing the eigenvectors \n",
    "\n",
    "Once the eigenvalues are computed, the eigeenvectors can be efficiently computed with inverse iterations. \n",
    "Inverse iterations for tridiagonal matrices are implemented in the LAPACK routine \n",
    "[DSTEIN](http://www.netlib.org/lapack/explore-html/d8/d35/dstein_8f.html)."
   ]
  },
  {
   "cell_type": "code",
   "execution_count": 37,
   "metadata": {
    "collapsed": false
   },
   "outputs": [
    {
     "data": {
      "text/plain": [
       "6×6 Array{Float64,2}:\n",
       " -0.292736   -0.163087    0.308834    0.768345    0.135191    0.428601 \n",
       "  0.641042    0.205143   -0.298248    0.0136172   0.142256    0.661519 \n",
       " -0.620138   -0.0172445  -0.0853995  -0.530884    0.0439149   0.569273 \n",
       "  0.337275   -0.420746    0.726506   -0.317557   -0.215976    0.184171 \n",
       "  0.063078   -0.350443    0.0140358  -0.138784    0.913369   -0.13968  \n",
       " -0.0326364   0.794471    0.529498   -0.0867089   0.280482   -0.0345523"
      ]
     },
     "execution_count": 37,
     "metadata": {},
     "output_type": "execute_result"
    }
   ],
   "source": [
    "U=LAPACK.stein!(T.dv,T.ev,λ)"
   ]
  },
  {
   "cell_type": "code",
   "execution_count": 38,
   "metadata": {
    "collapsed": false
   },
   "outputs": [
    {
     "data": {
      "text/plain": [
       "3.6339207217963683e-16"
      ]
     },
     "execution_count": 38,
     "metadata": {},
     "output_type": "execute_result"
    }
   ],
   "source": [
    "# Orthogonality\n",
    "norm(U'*U-I)"
   ]
  },
  {
   "cell_type": "code",
   "execution_count": 39,
   "metadata": {
    "collapsed": false
   },
   "outputs": [
    {
     "data": {
      "text/plain": [
       "9.137597606126221e-15"
      ]
     },
     "execution_count": 39,
     "metadata": {},
     "output_type": "execute_result"
    }
   ],
   "source": [
    "# Residual\n",
    "norm(T*U-U*diagm(λ))"
   ]
  },
  {
   "cell_type": "code",
   "execution_count": 40,
   "metadata": {
    "collapsed": false
   },
   "outputs": [
    {
     "name": "stdout",
     "output_type": "stream",
     "text": [
      "  0.179776 seconds (2.30 M allocations: 224.019 MB, 22.95% gc time)\n",
      "  0.004359 seconds (12 allocations: 13.234 KB)\n",
      "  0.014475 seconds (25 allocations: 1.266 MB)\n"
     ]
    }
   ],
   "source": [
    "# Some timings - n=100, 200, 400 myTridEigQR() is 200x slower!?\n",
    "n=400\n",
    "Tbig=SymTridiagonal(rand(n),rand(n-1))\n",
    "@time myTridEigQR(Tbig);\n",
    "@time λbig=eigvals(Tbig);\n",
    "@time LAPACK.stein!(Tbig.dv,Tbig.ev,λbig);"
   ]
  },
  {
   "cell_type": "code",
   "execution_count": 41,
   "metadata": {
    "collapsed": false
   },
   "outputs": [
    {
     "name": "stdout",
     "output_type": "stream",
     "text": [
      "  0.097394 seconds (12 allocations: 63.141 KB)\n",
      "  0.402687 seconds (30 allocations: 30.722 MB, 0.54% gc time)\n",
      "  0.745467 seconds (127.60 k allocations: 36.100 MB, 2.69% gc time)\n"
     ]
    }
   ],
   "source": [
    "n=2000\n",
    "Tbig=SymTridiagonal(rand(n),rand(n-1))\n",
    "@time λbig=eigvals(Tbig);\n",
    "@time U=LAPACK.stein!(Tbig.dv,Tbig.ev,λbig);\n",
    "@time eig(Tbig);"
   ]
  },
  {
   "cell_type": "code",
   "execution_count": 42,
   "metadata": {
    "collapsed": false
   },
   "outputs": [
    {
     "data": {
      "text/html": [
       "eigvals<i>{T}</i>(A::<b>SymTridiagonal{T}</b>) at <a href=\"https://github.com/JuliaLang/julia/tree/6445c82d0060dbe82b88436f0f4371a4ee64d918/base/linalg/tridiag.jl#L155\" target=\"_blank\">linalg/tridiag.jl:155</a>"
      ],
      "text/plain": [
       "eigvals{T}(A::SymTridiagonal{T}) at linalg/tridiag.jl:155"
      ]
     },
     "execution_count": 42,
     "metadata": {},
     "output_type": "execute_result"
    }
   ],
   "source": [
    "@which eigvals(Tbig)"
   ]
  },
  {
   "cell_type": "markdown",
   "metadata": {},
   "source": [
    "Alternatively, the rotations in `myTridEigQR()` can be accumulated to compute the eignevctors. This is not optimal, but is instructive. We make use of Julia's multiple dispatch feature."
   ]
  },
  {
   "cell_type": "code",
   "execution_count": 43,
   "metadata": {
    "collapsed": false
   },
   "outputs": [
    {
     "data": {
      "text/plain": [
       "myTridEigQR (generic function with 2 methods)"
      ]
     },
     "execution_count": 43,
     "metadata": {},
     "output_type": "execute_result"
    }
   ],
   "source": [
    "function myTridEigQR{T}(A1::SymTridiagonal{T},U::Array{T})\n",
    "    # U is either the identity matrix or the output from myTridiagX()\n",
    "    A=deepcopy(A1)\n",
    "    n=length(A.dv)\n",
    "    λ=Array(T,n)\n",
    "    Temp=Array{T}\n",
    "    if n==1\n",
    "        return map(T,A.dv), U\n",
    "    end\n",
    "    if n==2\n",
    "        τ=(A.dv[end-1]-A.dv[end])/2\n",
    "        μ=A.dv[end]-A.ev[end]^2/(τ+sign(τ)*sqrt(τ^2+A.ev[end]^2))\n",
    "        # Only rotation\n",
    "        Temp=A[1:2,1:2]\n",
    "        G,r=givens(Temp-μ*I,1,2,1)\n",
    "        Temp=(G*Temp)*G'\n",
    "        U*=G'\n",
    "        return diag(Temp)[1:2], U\n",
    "    end\n",
    "    steps=1\n",
    "    k=0\n",
    "    while k==0 && steps<=10\n",
    "        # Shift\n",
    "        τ=(A.dv[end-1]-A.dv[end])/2\n",
    "        μ=A.dv[end]-A.ev[end]^2/(τ+sign(τ)*sqrt(τ^2+A.ev[end]^2))\n",
    "        # First rotation\n",
    "        Temp=A[1:3,1:3]\n",
    "        G,r=givens(Temp-μ*I,1,2,1)\n",
    "        Temp=(G*Temp)*G'\n",
    "        U[:,1:3]*=G'\n",
    "        A.dv[1:2]=diag(Temp)[1:2]\n",
    "        A.ev[1:2]=diag(Temp,-1)\n",
    "        bulge=Temp[3,1]\n",
    "        # Bulge chasing\n",
    "        for i = 2 : n-2\n",
    "            Temp=A[i-1:i+2,i-1:i+2]\n",
    "            Temp[3,1]=bulge\n",
    "            Temp[1,3]=bulge\n",
    "            G,r=givens(Temp,2,3,1)\n",
    "            Temp=(G*Temp)*G'\n",
    "            U[:,i-1:i+2]=U[:,i-1:i+2]*G'\n",
    "            A.dv[i:i+1]=diag(Temp)[2:3]\n",
    "            A.ev[i-1:i+1]=diag(Temp,-1)\n",
    "            bulge=Temp[4,2]\n",
    "        end\n",
    "        # Last rotation\n",
    "        Temp=A[n-2:n,n-2:n]\n",
    "        Temp[3,1]=bulge\n",
    "        Temp[1,3]=bulge\n",
    "        G,r=givens(Temp,2,3,1)\n",
    "        Temp=(G*Temp)*G'\n",
    "        U[:,n-2:n]*=G'\n",
    "        A.dv[n-1:n]=diag(Temp)[2:3]\n",
    "        A.ev[n-2:n-1]=diag(Temp,-1)\n",
    "        steps+=1\n",
    "        # Deflation criterion\n",
    "        k=findfirst(abs(A.ev) .< sqrt(abs(A.dv[1:n-1].*A.dv[2:n]))*eps(T))\n",
    "    end\n",
    "    λ[1:k], U[:,1:k]=myTridEigQR(SymTridiagonal(A.dv[1:k],A.ev[1:k-1]),U[:,1:k])\n",
    "    λ[k+1:n], U[:,k+1:n]=myTridEigQR(SymTridiagonal(A.dv[k+1:n],A.ev[k+1:n-1]),U[:,k+1:n])\n",
    "    λ, U\n",
    "end"
   ]
  },
  {
   "cell_type": "code",
   "execution_count": 44,
   "metadata": {
    "collapsed": false
   },
   "outputs": [
    {
     "data": {
      "text/plain": [
       "6-element Array{Float64,1}:\n",
       " -18.8983 \n",
       "  18.4344 \n",
       "  13.5227 \n",
       "   3.17723\n",
       "  -6.65722\n",
       "  -9.57876"
      ]
     },
     "execution_count": 44,
     "metadata": {},
     "output_type": "execute_result"
    }
   ],
   "source": [
    "λ,U=myTridEigQR(T,eye(T))\n",
    "λ"
   ]
  },
  {
   "cell_type": "code",
   "execution_count": 45,
   "metadata": {
    "collapsed": false
   },
   "outputs": [
    {
     "data": {
      "text/plain": [
       "6×6 Array{Float64,2}:\n",
       " -0.292736    0.428601    0.135191   -0.768345    0.308834    0.163087 \n",
       "  0.641042    0.661519    0.142256   -0.0136172  -0.298248   -0.205143 \n",
       " -0.620138    0.569273    0.0439149   0.530884   -0.0853995   0.0172445\n",
       "  0.337275    0.184171   -0.215976    0.317557    0.726506    0.420746 \n",
       "  0.063078   -0.13968     0.913369    0.138784    0.0140358   0.350443 \n",
       " -0.0326364  -0.0345523   0.280482    0.0867089   0.529498   -0.794471 "
      ]
     },
     "execution_count": 45,
     "metadata": {},
     "output_type": "execute_result"
    }
   ],
   "source": [
    "U"
   ]
  },
  {
   "cell_type": "code",
   "execution_count": 46,
   "metadata": {
    "collapsed": false
   },
   "outputs": [
    {
     "data": {
      "text/plain": [
       "9.519099297934917e-16"
      ]
     },
     "execution_count": 46,
     "metadata": {},
     "output_type": "execute_result"
    }
   ],
   "source": [
    "# Orthogonality\n",
    "norm(U'*U-I)"
   ]
  },
  {
   "cell_type": "code",
   "execution_count": 47,
   "metadata": {
    "collapsed": false
   },
   "outputs": [
    {
     "data": {
      "text/plain": [
       "2.0584685908379973e-14"
      ]
     },
     "execution_count": 47,
     "metadata": {},
     "output_type": "execute_result"
    }
   ],
   "source": [
    "# Residual\n",
    "norm(T*U-U*diagm(λ))"
   ]
  },
  {
   "cell_type": "markdown",
   "metadata": {},
   "source": [
    "### Symmetric QR method\n",
    "\n",
    "Combining `myTridiag()`, `myTridiagX()` and `myTridEigQR()`, we get the method for computing symmetric EVD."
   ]
  },
  {
   "cell_type": "code",
   "execution_count": 48,
   "metadata": {
    "collapsed": false
   },
   "outputs": [
    {
     "data": {
      "text/plain": [
       "mySymEigQR (generic function with 1 method)"
      ]
     },
     "execution_count": 48,
     "metadata": {},
     "output_type": "execute_result"
    }
   ],
   "source": [
    "function mySymEigQR{T}(A::Array{T})\n",
    "    Tr,H=myTridiag(A)\n",
    "    X=myTridiagX(H)\n",
    "    # λ, U\n",
    "    myTridEigQR(Tr,X)\n",
    "end"
   ]
  },
  {
   "cell_type": "code",
   "execution_count": 49,
   "metadata": {
    "collapsed": false
   },
   "outputs": [
    {
     "data": {
      "text/plain": [
       "6-element Array{Float64,1}:\n",
       " -18.8983 \n",
       "  18.4344 \n",
       "  13.5227 \n",
       "   3.17723\n",
       "  -6.65722\n",
       "  -9.57876"
      ]
     },
     "execution_count": 49,
     "metadata": {},
     "output_type": "execute_result"
    }
   ],
   "source": [
    "λ,U=mySymEigQR(map(Float64,A))\n",
    "λ"
   ]
  },
  {
   "cell_type": "code",
   "execution_count": 50,
   "metadata": {
    "collapsed": false
   },
   "outputs": [
    {
     "data": {
      "text/plain": [
       "6×6 Array{Float64,2}:\n",
       " -0.292736   0.428601   0.135191  -0.768345   0.308834   0.163087\n",
       "  0.43803   -0.550706   0.120124  -0.147903   0.656395   0.194145\n",
       "  0.763059   0.352708  -0.261685  -0.265655  -0.114093  -0.375857\n",
       " -0.330958  -0.2734    -0.80796   -0.156172   0.197465  -0.315495\n",
       " -0.139928   0.303457   0.259386   0.365235   0.562907  -0.608928\n",
       " -0.10518   -0.470943   0.422769  -0.399263  -0.323872  -0.569308"
      ]
     },
     "execution_count": 50,
     "metadata": {},
     "output_type": "execute_result"
    }
   ],
   "source": [
    "U"
   ]
  },
  {
   "cell_type": "code",
   "execution_count": 51,
   "metadata": {
    "collapsed": false
   },
   "outputs": [
    {
     "data": {
      "text/plain": [
       "1.4222576469524266e-15"
      ]
     },
     "execution_count": 51,
     "metadata": {},
     "output_type": "execute_result"
    }
   ],
   "source": [
    "# Orthogonality \n",
    "norm(U'*U-I)"
   ]
  },
  {
   "cell_type": "code",
   "execution_count": 52,
   "metadata": {
    "collapsed": false
   },
   "outputs": [
    {
     "data": {
      "text/plain": [
       "2.3440479941797436e-14"
      ]
     },
     "execution_count": 52,
     "metadata": {},
     "output_type": "execute_result"
    }
   ],
   "source": [
    "# Residual\n",
    "norm(A*U-U*diagm(λ))"
   ]
  },
  {
   "cell_type": "code",
   "execution_count": 53,
   "metadata": {
    "collapsed": false
   },
   "outputs": [
    {
     "data": {
      "text/plain": [
       "5×5 Array{Float64,2}:\n",
       " 0.763066  0.189223  0.90701    0.338208  0.693955\n",
       " 0.84866   0.120373  0.0859561  0.402226  0.425489\n",
       " 0.63742   0.653295  0.166992   0.636343  0.560271\n",
       " 0.987076  0.306147  0.546927   0.817767  0.692812\n",
       " 0.3827    0.552587  0.0553407  0.217432  0.236079"
      ]
     },
     "execution_count": 53,
     "metadata": {},
     "output_type": "execute_result"
    }
   ],
   "source": [
    "# Non-symmetric matrices\n",
    "A=rand(5,5)"
   ]
  },
  {
   "cell_type": "code",
   "execution_count": 54,
   "metadata": {
    "collapsed": false
   },
   "outputs": [
    {
     "data": {
      "text/plain": [
       "5-element Array{Complex{Float64},1}:\n",
       "   2.48017+0.0im   \n",
       " -0.258904+0.4697im\n",
       " -0.258904-0.4697im\n",
       "  0.243399+0.0im   \n",
       " -0.101481+0.0im   "
      ]
     },
     "execution_count": 54,
     "metadata": {},
     "output_type": "execute_result"
    }
   ],
   "source": [
    "λ,X=eig(A)\n",
    "λ"
   ]
  },
  {
   "cell_type": "code",
   "execution_count": 55,
   "metadata": {
    "collapsed": false
   },
   "outputs": [
    {
     "data": {
      "text/plain": [
       "5×5 Array{Complex{Float64},2}:\n",
       " -0.496172+0.0im    0.577131+0.0im       …  -0.224003+0.0im  -0.305991+0.0im\n",
       " -0.341866+0.0im   -0.251331-0.466849im     -0.196058+0.0im  -0.262808+0.0im\n",
       " -0.458424+0.0im   -0.333458+0.278887im      0.190891+0.0im  -0.292166+0.0im\n",
       " -0.607998+0.0im  0.00261934-0.155157im      0.829387+0.0im  -0.061948+0.0im\n",
       " -0.239012+0.0im   -0.346837+0.229034im     -0.432507+0.0im   0.864929+0.0im"
      ]
     },
     "execution_count": 55,
     "metadata": {},
     "output_type": "execute_result"
    }
   ],
   "source": [
    "X"
   ]
  },
  {
   "cell_type": "code",
   "execution_count": 56,
   "metadata": {
    "collapsed": false
   },
   "outputs": [
    {
     "data": {
      "text/plain": [
       "Base.LinAlg.Hessenberg{Float64,Array{Float64,2}}([0.763066 -0.892632 … 0.509952 -0.0266166; -1.4991 1.57315 … -0.240617 -0.573524; … ; 0.420433 0.258511 … 0.090081 0.0196382; 0.163006 0.205227 … 0.046225 -0.127032],[1.56611,1.80351,1.82986,0.0])"
      ]
     },
     "execution_count": 56,
     "metadata": {},
     "output_type": "execute_result"
    }
   ],
   "source": [
    "B=hessfact(A)"
   ]
  },
  {
   "cell_type": "code",
   "execution_count": 57,
   "metadata": {
    "collapsed": false
   },
   "outputs": [
    {
     "name": "stdout",
     "output_type": "stream",
     "text": [
      "search: \u001b[1mh\u001b[22m\u001b[1me\u001b[22m\u001b[1ms\u001b[22m\u001b[1ms\u001b[22m\u001b[1mf\u001b[22m\u001b[1ma\u001b[22m\u001b[1mc\u001b[22m\u001b[1mt\u001b[22m \u001b[1mh\u001b[22m\u001b[1me\u001b[22m\u001b[1ms\u001b[22m\u001b[1ms\u001b[22m\u001b[1mf\u001b[22m\u001b[1ma\u001b[22m\u001b[1mc\u001b[22m\u001b[1mt\u001b[22m!\n",
      "\n"
     ]
    },
    {
     "data": {
      "text/markdown": [
       "```\n",
       "hessfact(A)\n",
       "```\n",
       "\n",
       "Compute the Hessenberg decomposition of `A` and return a `Hessenberg` object. If `F` is the factorization object, the unitary matrix can be accessed with `F[:Q]` and the Hessenberg matrix with `F[:H]`. When `Q` is extracted, the resulting type is the `HessenbergQ` object, and may be converted to a regular matrix with [`full`](:func:`full`).\n"
      ],
      "text/plain": [
       "```\n",
       "hessfact(A)\n",
       "```\n",
       "\n",
       "Compute the Hessenberg decomposition of `A` and return a `Hessenberg` object. If `F` is the factorization object, the unitary matrix can be accessed with `F[:Q]` and the Hessenberg matrix with `F[:H]`. When `Q` is extracted, the resulting type is the `HessenbergQ` object, and may be converted to a regular matrix with [`full`](:func:`full`).\n"
      ]
     },
     "execution_count": 57,
     "metadata": {},
     "output_type": "execute_result"
    }
   ],
   "source": [
    "?hessfact"
   ]
  },
  {
   "cell_type": "code",
   "execution_count": 58,
   "metadata": {
    "collapsed": false
   },
   "outputs": [
    {
     "data": {
      "text/plain": [
       "5×5 Array{Float64,2}:\n",
       "  0.763066  -0.892632  -0.629984   0.509952  -0.0266166\n",
       " -1.4991     1.57315    0.201378  -0.240617  -0.573524 \n",
       "  0.0        0.554982  -0.194992  -0.119665  -0.0240894\n",
       "  0.0        0.0        0.448706   0.090081   0.0196382\n",
       "  0.0        0.0        0.0        0.046225  -0.127032 "
      ]
     },
     "execution_count": 58,
     "metadata": {},
     "output_type": "execute_result"
    }
   ],
   "source": [
    "B[:H]"
   ]
  },
  {
   "cell_type": "code",
   "execution_count": 59,
   "metadata": {
    "collapsed": false
   },
   "outputs": [
    {
     "data": {
      "text/plain": [
       "5×5 Array{Float64,2}:\n",
       " 0.763066  0.189223  0.90701    0.338208  0.693955\n",
       " 0.84866   0.120373  0.0859561  0.402226  0.425489\n",
       " 0.63742   0.653295  0.166992   0.636343  0.560271\n",
       " 0.987076  0.306147  0.546927   0.817767  0.692812\n",
       " 0.3827    0.552587  0.0553407  0.217432  0.236079"
      ]
     },
     "execution_count": 59,
     "metadata": {},
     "output_type": "execute_result"
    }
   ],
   "source": [
    "full(B)"
   ]
  },
  {
   "cell_type": "code",
   "execution_count": 60,
   "metadata": {
    "collapsed": false
   },
   "outputs": [
    {
     "data": {
      "text/html": [
       "hessfact<i>{T<:Union{Complex{Float32},Complex{Float64},Float32,Float64}}</i>(A::<b>Union{Base.ReshapedArray{T,2,A<:DenseArray,MI<:Tuple{Vararg{Base.MultiplicativeInverses.SignedMultiplicativeInverse{Int64},N<:Any}}},DenseArray{T,2},SubArray{T,2,A<:Union{Base.ReshapedArray{T<:Any,N<:Any,A<:DenseArray,MI<:Tuple{Vararg{Base.MultiplicativeInverses.SignedMultiplicativeInverse{Int64},N<:Any}}},DenseArray},I<:Tuple{Vararg{Union{Base.AbstractCartesianIndex,Colon,Int64,Range{Int64}},N<:Any}},L<:Any}}</b>) at <a href=\"https://github.com/JuliaLang/julia/tree/6445c82d0060dbe82b88436f0f4371a4ee64d918/base/linalg/hessenberg.jl#L14\" target=\"_blank\">linalg/hessenberg.jl:14</a>"
      ],
      "text/plain": [
       "hessfact{T<:Union{Complex{Float32},Complex{Float64},Float32,Float64}}(A::Union{Base.ReshapedArray{T,2,A<:DenseArray,MI<:Tuple{Vararg{Base.MultiplicativeInverses.SignedMultiplicativeInverse{Int64},N<:Any}}},DenseArray{T,2},SubArray{T,2,A<:Union{Base.ReshapedArray{T<:Any,N<:Any,A<:DenseArray,MI<:Tuple{Vararg{Base.MultiplicativeInverses.SignedMultiplicativeInverse{Int64},N<:Any}}},DenseArray},I<:Tuple{Vararg{Union{Base.AbstractCartesianIndex,Colon,Int64,Range{Int64}},N<:Any}},L<:Any}}) at linalg/hessenberg.jl:14"
      ]
     },
     "execution_count": 60,
     "metadata": {},
     "output_type": "execute_result"
    }
   ],
   "source": [
    "@which hessfact(A)"
   ]
  },
  {
   "cell_type": "code",
   "execution_count": 61,
   "metadata": {
    "collapsed": false,
    "scrolled": true
   },
   "outputs": [
    {
     "data": {
      "text/plain": [
       "(\n",
       "[2.48017 -0.338899 … 0.705094 -0.385443; 0.0 -0.258904 … -0.0350775 -0.160669; … ; 0.0 0.0 … 0.243399 0.119054; 0.0 0.0 … 0.0 -0.101481],\n",
       "\n",
       "[-0.496172 0.265905 … -0.403254 -0.0763205; -0.341866 -0.810378 … -0.392193 -0.202238; … ; -0.607998 -0.17544 … 0.658184 0.403799; -0.239012 0.285522 … -0.488024 0.62774],\n",
       "\n",
       "Complex{Float64}[2.48017+0.0im,-0.258904+0.4697im,-0.258904-0.4697im,0.243399+0.0im,-0.101481+0.0im])"
      ]
     },
     "execution_count": 61,
     "metadata": {},
     "output_type": "execute_result"
    }
   ],
   "source": [
    "schur(A)"
   ]
  },
  {
   "cell_type": "code",
   "execution_count": null,
   "metadata": {
    "collapsed": true
   },
   "outputs": [],
   "source": []
  }
 ],
 "metadata": {
  "anaconda-cloud": {},
  "kernelspec": {
   "display_name": "Julia 0.5.1",
   "language": "julia",
   "name": "julia-0.5"
  },
  "language_info": {
   "file_extension": ".jl",
   "mimetype": "application/julia",
   "name": "julia",
   "version": "0.5.1"
  }
 },
 "nbformat": 4,
 "nbformat_minor": 0
}
