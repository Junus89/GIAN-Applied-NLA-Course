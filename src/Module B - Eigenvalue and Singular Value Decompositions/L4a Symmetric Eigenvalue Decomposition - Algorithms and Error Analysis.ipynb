{
 "cells": [
  {
   "cell_type": "markdown",
   "metadata": {},
   "source": [
    "# Symmetric Eigenvalue Decomposition - Algorithms and Error Analysis\n",
    "\n",
    "---\n",
    "\n",
    "We study only algorithms for real symmetric matrices, which are most commonly used in the applications described in this course. \n",
    "\n",
    "For more details, see \n",
    "[I. Slapničar, Symmetric Matrix Eigenvalue Techniques][Hog14] and the references therein.\n",
    "\n",
    "[Hog14]: #1 \"L. Hogben, ed., 'Handbook of Linear Algebra', pp. 55.1-55.25, CRC Press, Boca Raton, 2014.\"\n",
    "\n",
    "\n",
    "## Prerequisites\n",
    "\n",
    "The reader should be familiar with basic linear algebra concepts and facts on eigenvalue decomposition and perturbation theory\n",
    "\n",
    " \n",
    "## Competences \n",
    "\n",
    "The reader should be able to apply adequate algorithm to a given problem, and to assess accuracy of the solution.\n",
    "\n",
    "---"
   ]
  },
  {
   "cell_type": "markdown",
   "metadata": {},
   "source": [
    "## Backward error and stability\n",
    "\n",
    "### Definitions\n",
    "\n",
    "If the value of a function $f(x)$ is computed with an algorithm  $\\mathrm{alg(x)}$, the \n",
    "__algorithm error__ is \n",
    "\n",
    "$$\n",
    "\\|\\mathrm{alg(x)}-f(x)\\|,\n",
    "$$\n",
    "\n",
    "and the __relative algorithm error__ is\n",
    "\n",
    "$$\n",
    "\\frac{\\| \\mathrm{alg}(x)-f(x)\\|}{\\| f(x) \\|},\n",
    "$$\n",
    "in respective norms. Therse errors can be hard or even impossible to estimate directly. \n",
    "\n",
    "In this case, assume that $f(x)$ computed by $\\mathrm{alg}(x)$ is equal to exact value of the function for a perturbed argument,\n",
    "\n",
    "$$\n",
    "\\mathrm{alg}(x)=f(x+\\delta x),\n",
    "$$\n",
    "for some  __backward error__ $\\delta x$.\n",
    "\n",
    "Algoritam is __stable__ is the above equality always holds for small $\\delta x$."
   ]
  },
  {
   "cell_type": "markdown",
   "metadata": {},
   "source": [
    "## Basic methods\n",
    "\n",
    "### Definitions\n",
    "\n",
    "The eigenvalue decomposition (EVD) of a real symmetric matrix\n",
    "$A=[a_{ij}]$ is $A=U\\Lambda U^T$,\n",
    "where $U$ is a $n\\times n$ real orthonormal matrix, $U^TU=UU^T=I_n$, and \n",
    "$\\Lambda=\\mathop{\\mathrm{diag}} (\\lambda_1,\\dots, \\lambda_n)$ is a real diagonal matrix.\n",
    "\n",
    "The numbers $\\lambda_i$ are the eigenvalues of $A$, the vectors $U_{:i}$,\n",
    "$i=1,\\dots,n$, are the eigenvectors of $A$, and\n",
    "$AU_{:i}=\\lambda_i U_{:i}$, $i=1,\\dots,n$.\n",
    "\n",
    "If $|\\lambda_1|> |\\lambda_2| \\geq \\cdots \\geq |\\lambda_n|$, we say that\n",
    "  $\\lambda_1$ is the __dominant eigenvalue__.\n",
    "\n",
    "__Deflation__ is a process of reducing the size of the matrix whose\n",
    "EVD is to be determined, given that one eigenvector is known.\n",
    "\n",
    "The __shifted matrix__ of the matrix $A$ is the matrix $A-\\mu I$, where\n",
    "$\\mu$ is the __shift__.\n",
    "\n",
    "__Power method__ starts from vector $x_0$ and computes the sequences\n",
    "$$\n",
    "\\nu_k=x_k^T A x_k, \\qquad x_{k+1}= A x_k /\n",
    " \\| A x_k \\|, \\qquad k=0,1,2,\\dots,\n",
    "$$\n",
    "until convergence. Normalization of $x_k$ can be performed in any norm and serves\n",
    "the numerical stability of the algorithm (avoiding overflow or underflow).\n",
    "\n",
    "__Inverse iteration__ is the power method applied to the inverse of\n",
    "a shifted matrix:\n",
    "$$\n",
    "\\nu_k=x_k^T A x_k, \\quad \n",
    "x_{k+1}= (A-\\mu I)^{-1} x_k, \\quad \n",
    "x_{k+1} = x_{k+1}/\\|x_{k+1}\\|, \\quad k=0,1,2,\\dots.\n",
    "$$\n",
    "\n",
    "__QR iteration__ starts from the matrix $A_0=A$ and forms the sequence of matrices\n",
    "$$\n",
    "  A_k=Q_kR_k \\quad \\textrm{(QR factorization)}, \\qquad\n",
    "  A_{k+1}=R_kQ_k,\\qquad k=0,1,2,\\ldots \n",
    "$$\n",
    "\n",
    "__Shifted QR iteration__ is the QR iteration applied to a shifted matrix:\n",
    "$$\n",
    "A_k-\\mu I=Q_kR_k \\quad \\textrm{(QR factorization)}, \\quad\n",
    "  A_{k+1}=R_kQ_k+\\mu I ,\\quad k=0,1,2,\\ldots \n",
    "$$\n",
    "\n",
    "### Facts\n",
    "\n",
    "1. If $\\lambda_1$ is the dominant eigenvalue and if  $x_0$ is not\n",
    "orthogonal to $U_{:1}$, then $\\nu_k\\to \\lambda_1$ and $x_k\\to U_{:i}$. In other\n",
    "words, the power method converges to the dominant eigenvalue and its eigenvector.\n",
    "\n",
    "2. The convergence is linear in the sense that \n",
    "$$\n",
    "|\\lambda_1-\\nu_k|\\approx \\left|\\frac{c_2}{c_1}\\right| \\left|\n",
    " \\frac{\\lambda_2}{\\lambda_1}\\right|^k,\\qquad\n",
    "\\|U_{:1}-x_k\\|_2 =O\\bigg(\\bigg|\n",
    " \\frac{\\lambda_2}{\\lambda_1}\\bigg|^k\\bigg)\\!, \n",
    "$$\n",
    "where $c_i$ is the coefficient of the $i$-th eigenvector in the linear\n",
    "combination expressing the starting vector $x_0$.\n",
    " \n",
    "3. Since $\\lambda_1$ is not available, the convergence is\n",
    "determined using residuals:  if $\\| Ax_k-\\nu_k x_k\\|_2\\leq tol$, \n",
    "where $tol$ is a user prescribed stopping criterion,\n",
    "then $|\\lambda_1-\\nu_k|\\leq tol$.\n",
    "\n",
    "4. After computing the dominant eigenpair, we can perform deflation\n",
    "to reduce the given EVD for $A$ to the one of size $n-1$ for $A_1$:\n",
    "$$\n",
    "\\begin{bmatrix} U_{:1} & X \\end{bmatrix}^T A  \\begin{bmatrix} U_{:1} & X \\end{bmatrix}=\n",
    "\\begin{bmatrix} \\lambda_1 & \\\\ & A_1 \\end{bmatrix}, \\quad\n",
    "\\begin{bmatrix} U_{:1} & X \\end{bmatrix} \\textrm{orthonormal}, \\quad A_1=X^TAX.\n",
    "$$\n",
    "\n",
    "5. The EVD of the shifted matrix $A-\\mu I$ is $U(\\Lambda-\\mu I) U^T$.  \n",
    "\n",
    "6. Inverse iteration requires solving the system of linear equations \n",
    "$(A-\\mu I)v_{k+1}= x_k$ for $v_{k+1}$ in each step. \n",
    "At the beginning, LU factorization of \n",
    "$A-\\mu I$ needs to be computed, which requires $2n^3/3$ operations. \n",
    "In each subsequent step, two triangular systems need to be solved, which requires $2n^2$\n",
    "operations.\n",
    "\n",
    "7. If $\\mu$ is close to some eigenvalue of $A$, the\n",
    "eigenvalues of the shifted matrix satisfy $|\\lambda_1|\\gg\n",
    "|\\lambda_2|\\geq\\cdots\\geq |\\lambda_n|$, so the convergence of the inverse\n",
    "iteration method is fast.\n",
    "  \n",
    "8. If $\\mu$ is very close to some eigenvalue of $A$, then the\n",
    "matrix $A-\\mu I$ is nearly singular, so the solutions of linear\n",
    "systems may have large errors. However, these errors are almost\n",
    "entirely in the direction of the dominant eigenvector so the inverse\n",
    "iteration method is both fast and accurate.\n",
    "  \n",
    "9. We can further increase the speed of convergence of inverse iterations by substituting\n",
    "  the shift $\\mu$ with the Rayleigh quotient $\\nu_k$\n",
    "  at the cost of computing new LU factorization.\n",
    "  \n",
    "10. Matrices $A_k$ and $A_{k+1}$ from both QR iterations are orthogonally\n",
    "similar, $A_{k+1}=Q_k^TA_kQ_k$.\n",
    "\n",
    "11. The QR iteration method is essentially equivalent to the power method and\n",
    "  the shifted QR iteration method is essentially equivalent to the\n",
    "  inverse power method on the shifted matrix. \n",
    "  \n",
    "12. The straightforward application of the QR iteration requires $O(n^3)$ operations per step, so better implementation is needed.\n",
    "\n",
    "\n",
    "\n",
    "  \n",
    "### Examples\n",
    "\n",
    "In order to keep the programs simple, in the examples below we do not compute full matrix of eigenvectors. "
   ]
  },
  {
   "cell_type": "code",
   "execution_count": 12,
   "metadata": {
    "collapsed": false
   },
   "outputs": [
    {
     "data": {
      "text/plain": [
       "myPower (generic function with 1 method)"
      ]
     },
     "execution_count": 12,
     "metadata": {},
     "output_type": "execute_result"
    }
   ],
   "source": [
    "function myPower(A::Array,x::Vector,tol::Float64)\n",
    "    y=A*x\n",
    "    ν=x⋅y\n",
    "    steps=1\n",
    "    while norm(y-ν*x)>tol\n",
    "        x=y/norm(y)\n",
    "        y=A*x\n",
    "        ν=x⋅y\n",
    "        steps+=1\n",
    "    end\n",
    "    ν, y/norm(y), steps\n",
    "end"
   ]
  },
  {
   "cell_type": "code",
   "execution_count": 13,
   "metadata": {
    "collapsed": false
   },
   "outputs": [
    {
     "data": {
      "text/plain": [
       "6x6 Array{Int64,2}:\n",
       "  7  -8  -1  -1   0   9\n",
       " -8   3   0   5   9  -4\n",
       " -1   0   7   8   8  -4\n",
       " -1   5   8  -3  -7   2\n",
       "  0   9   8  -7  -7   9\n",
       "  9  -4  -4   2   9   9"
      ]
     },
     "execution_count": 13,
     "metadata": {},
     "output_type": "execute_result"
    }
   ],
   "source": [
    "n=6\n",
    "A=full(Symmetric(rand(-9:9,n,n)))"
   ]
  },
  {
   "cell_type": "code",
   "execution_count": 14,
   "metadata": {
    "collapsed": false
   },
   "outputs": [
    {
     "data": {
      "text/plain": [
       "6-element Array{Int64,1}:\n",
       "  1\n",
       " -8\n",
       " -2\n",
       "  2\n",
       " -9\n",
       " -7"
      ]
     },
     "execution_count": 14,
     "metadata": {},
     "output_type": "execute_result"
    }
   ],
   "source": [
    "x0=rand(-9:9,n)"
   ]
  },
  {
   "cell_type": "code",
   "execution_count": 15,
   "metadata": {
    "collapsed": false
   },
   "outputs": [
    {
     "data": {
      "text/plain": [
       "(-24.192972887681066,[-0.001634773623847979,-0.35436862085836557,-0.331090071957873,0.4615323651904332,0.6818063415013799,-0.29483480270703727],312)"
      ]
     },
     "execution_count": 15,
     "metadata": {},
     "output_type": "execute_result"
    }
   ],
   "source": [
    "ν,x=myPower(A,x0,1e-10)"
   ]
  },
  {
   "cell_type": "code",
   "execution_count": 16,
   "metadata": {
    "collapsed": false
   },
   "outputs": [
    {
     "data": {
      "text/plain": [
       "6-element Array{Float64,1}:\n",
       " -24.193  \n",
       "  -3.88805\n",
       "   0.24995\n",
       "   8.24827\n",
       "  13.4085 \n",
       "  22.1743 "
      ]
     },
     "execution_count": 16,
     "metadata": {},
     "output_type": "execute_result"
    }
   ],
   "source": [
    "eigvals(A)"
   ]
  },
  {
   "cell_type": "code",
   "execution_count": 17,
   "metadata": {
    "collapsed": false
   },
   "outputs": [
    {
     "data": {
      "text/plain": [
       "-24.192972887681066"
      ]
     },
     "execution_count": 17,
     "metadata": {},
     "output_type": "execute_result"
    }
   ],
   "source": [
    "ans[1]"
   ]
  },
  {
   "cell_type": "code",
   "execution_count": 18,
   "metadata": {
    "collapsed": false
   },
   "outputs": [
    {
     "data": {
      "text/plain": [
       "6x2 Array{Float64,2}:\n",
       "  0.00163477  -0.00163477\n",
       "  0.354369    -0.354369  \n",
       "  0.33109     -0.33109   \n",
       " -0.461532     0.461532  \n",
       " -0.681806     0.681806  \n",
       "  0.294835    -0.294835  "
      ]
     },
     "execution_count": 18,
     "metadata": {},
     "output_type": "execute_result"
    }
   ],
   "source": [
    "[eigvecs(A)[:,1] x]"
   ]
  },
  {
   "cell_type": "code",
   "execution_count": 19,
   "metadata": {
    "collapsed": false
   },
   "outputs": [
    {
     "data": {
      "text/plain": [
       "0.0"
      ]
     },
     "execution_count": 19,
     "metadata": {},
     "output_type": "execute_result"
    }
   ],
   "source": [
    "ν-eigvals(A)[1]"
   ]
  },
  {
   "cell_type": "code",
   "execution_count": 20,
   "metadata": {
    "collapsed": false
   },
   "outputs": [
    {
     "data": {
      "text/plain": [
       "myDeflation (generic function with 1 method)"
      ]
     },
     "execution_count": 20,
     "metadata": {},
     "output_type": "execute_result"
    }
   ],
   "source": [
    "# Deflation\n",
    "function myDeflation(A::Array,x::Vector)\n",
    "    n,m=size(A)\n",
    "    # Need to convert x to 2D array\n",
    "    X,R=qr(x[:,:],thin=false)\n",
    "    full(Symmetric(X[:,2:n]'*A*X[:,2:n]))\n",
    "end"
   ]
  },
  {
   "cell_type": "code",
   "execution_count": 21,
   "metadata": {
    "collapsed": false
   },
   "outputs": [
    {
     "data": {
      "text/plain": [
       "5x5 Array{Float64,2}:\n",
       " 12.565     6.64606   -3.41749  -3.95753   -1.58086\n",
       "  6.64606  11.0693     3.11876   0.300792  -3.64556\n",
       " -3.41749   3.11876    2.70125   2.10296    2.2106 \n",
       " -3.95753   0.300792   2.10296   7.45307    8.87627\n",
       " -1.58086  -3.64556    2.2106    8.87627    6.40432"
      ]
     },
     "execution_count": 21,
     "metadata": {},
     "output_type": "execute_result"
    }
   ],
   "source": [
    "A1=myDeflation(A,x)"
   ]
  },
  {
   "cell_type": "code",
   "execution_count": 22,
   "metadata": {
    "collapsed": false
   },
   "outputs": [
    {
     "data": {
      "text/plain": [
       "([-3.888046074451741,0.2499498899672714,8.248273869142709,13.408532865926883,22.174262337095893],\n",
       "5x5 Array{Float64,2}:\n",
       " -0.289305   0.234623  -0.629818  -0.281981   0.62054 \n",
       "  0.364229  -0.246282   0.471159  -0.606666   0.465455\n",
       " -0.361188   0.75898    0.444891  -0.279988  -0.131045\n",
       " -0.524732  -0.461935  -0.115151  -0.553154  -0.438215\n",
       "  0.614686   0.307998  -0.412493  -0.409964  -0.43483 )"
      ]
     },
     "execution_count": 22,
     "metadata": {},
     "output_type": "execute_result"
    }
   ],
   "source": [
    "eig(A1)"
   ]
  },
  {
   "cell_type": "code",
   "execution_count": 25,
   "metadata": {
    "collapsed": false
   },
   "outputs": [
    {
     "data": {
      "text/plain": [
       "(22.17426233709591,[-0.6205400872535936,-0.4654545623051483,0.1310448361926121,0.438215037244324,0.43482971676373794],53)"
      ]
     },
     "execution_count": 25,
     "metadata": {},
     "output_type": "execute_result"
    }
   ],
   "source": [
    "myPower(A1,rand(n-1),1e-10)"
   ]
  },
  {
   "cell_type": "code",
   "execution_count": 26,
   "metadata": {
    "collapsed": false
   },
   "outputs": [
    {
     "data": {
      "text/plain": [
       "myPowerMethod (generic function with 1 method)"
      ]
     },
     "execution_count": 26,
     "metadata": {},
     "output_type": "execute_result"
    }
   ],
   "source": [
    "# Put it all together - eigenvectors are ommited for the sake of simplicty\n",
    "function myPowerMethod(A::Array, tol::Float64)\n",
    "    n,m=size(A)\n",
    "    λ=Array(Float64,n)\n",
    "    for i=1:n\n",
    "        λ[i],x,steps=myPower(A,rand(n-i+1),tol)\n",
    "        A=myDeflation(A,x)\n",
    "    end\n",
    "    λ\n",
    "end"
   ]
  },
  {
   "cell_type": "code",
   "execution_count": 27,
   "metadata": {
    "collapsed": false
   },
   "outputs": [
    {
     "data": {
      "text/plain": [
       "6-element Array{Float64,1}:\n",
       " -24.193  \n",
       "  22.1743 \n",
       "  13.4085 \n",
       "   8.24827\n",
       "  -3.88805\n",
       "   0.24995"
      ]
     },
     "execution_count": 27,
     "metadata": {},
     "output_type": "execute_result"
    }
   ],
   "source": [
    "myPowerMethod(A,1e-10)"
   ]
  },
  {
   "cell_type": "code",
   "execution_count": 28,
   "metadata": {
    "collapsed": false
   },
   "outputs": [
    {
     "data": {
      "text/plain": [
       "myQRIteration (generic function with 1 method)"
      ]
     },
     "execution_count": 28,
     "metadata": {},
     "output_type": "execute_result"
    }
   ],
   "source": [
    "# QR iteration\n",
    "function myQRIteration(A::Array, tol::Float64)\n",
    "    steps=1\n",
    "    while norm(tril(A,-1))>tol\n",
    "        Q,R=qr(A)\n",
    "        A=R*Q\n",
    "        steps+=1\n",
    "    end\n",
    "    A,steps\n",
    "end"
   ]
  },
  {
   "cell_type": "code",
   "execution_count": 29,
   "metadata": {
    "collapsed": false
   },
   "outputs": [
    {
     "data": {
      "text/plain": [
       "(\n",
       "6x6 Array{Float64,2}:\n",
       " -24.193          9.199e-6      -4.50097e-15   …   2.1432e-15    -2.23425e-15\n",
       "   9.199e-6      22.1743         3.32379e-15       5.1332e-15     1.4684e-15 \n",
       "   6.50399e-61    3.59329e-54   13.4085            4.26315e-16    1.62188e-15\n",
       "   4.76448e-112   2.1644e-105   -3.14661e-51      -6.37386e-15    5.38373e-16\n",
       "  -4.38351e-191  -2.20019e-184  -3.39625e-131     -3.88805       -6.87376e-16\n",
       "   0.0            0.0            0.0           …   5.57464e-292   0.24995    ,\n",
       "\n",
       "246)"
      ]
     },
     "execution_count": 29,
     "metadata": {},
     "output_type": "execute_result"
    }
   ],
   "source": [
    "B=myQRIteration(A,1e-5)"
   ]
  },
  {
   "cell_type": "code",
   "execution_count": 30,
   "metadata": {
    "collapsed": false
   },
   "outputs": [
    {
     "data": {
      "text/plain": [
       "6-element Array{Float64,1}:\n",
       " -24.193  \n",
       "  22.1743 \n",
       "  13.4085 \n",
       "   8.24827\n",
       "  -3.88805\n",
       "   0.24995"
      ]
     },
     "execution_count": 30,
     "metadata": {},
     "output_type": "execute_result"
    }
   ],
   "source": [
    "diag(B[1])"
   ]
  },
  {
   "cell_type": "markdown",
   "metadata": {},
   "source": [
    "##  Tridiagonalization\n",
    "\n",
    "The following implementation of $QR$ iteration requires a total of $O(n^3)$ operations:\n",
    "\n",
    "1. Reduce $A$ to tridiagonal form $T$ by orthogonal similarities, $X^TAX=T$.\n",
    "2. Compute the EVD of $T$ with QR iterations, $T=Q\\Lambda Q^T$.\n",
    "3. Multiply $U=XQ$.\n",
    "\n",
    "One step of QR iterations on $T$ requires $O(n)$ operations if only $\\Lambda$ is computed, and $O(n^2)$ operations if\n",
    "$Q$ is accumulated, as well.\n",
    "\n",
    "### Facts\n",
    "\n",
    "1. Tridiagonal form is not unique.\n",
    "\n",
    "2. The reduction of $A$ to tridiagonal matrix by Householder reflections is performed as follows. Let \n",
    "$$\n",
    "A=\\begin{bmatrix} \\alpha & a^T  \\\\ a & B \\end{bmatrix},\n",
    "$$ \n",
    "let $H$ be the __Householder reflector__,\n",
    "$$\n",
    "v=a+\\mathrm{\\mathop{sign}}(a_{1})\\|a\\|_2 e_1,\\quad\n",
    "H= I - 2 \\frac{v v^T}{v^Tv},\n",
    "$$\n",
    "and set\n",
    "$$\n",
    "H_1=\\begin{bmatrix} 1 & \\\\ & H \\end{bmatrix}.\n",
    "$$\n",
    "Then\n",
    "$$\n",
    "H_1AH_1=\n",
    "\\begin{bmatrix} \\alpha & a^T H \\\\ Ha & HBH \\end{bmatrix} =\n",
    "\\begin{bmatrix} \\alpha & \\nu e_1^T \\\\ \\nu e_1 & A_1 \\end{bmatrix},\n",
    "\\quad  \\nu=-\\mathop{\\mathrm{sign}}(a_{1}) \\|a\\|_2.\n",
    "$$\n",
    "This step annihilates all elements in the first column below the\n",
    "first subdiagonal and all elements in the first row to the right of\n",
    "the first subdiagonal.\n",
    "Applying this procedure recursively yields the tridiagonal matrix \n",
    "$T=X^T AX$, $X=H_1H_2\\cdots H_{n-2}$.\n",
    "\n",
    "3. $H$ does not depend on the normalization of $v$. With the\n",
    "normalization $v_1=1$, $a_{2:n-1}$ can be overwritten by\n",
    "$v_{2:n-1}$  (and $v_1$ does not need to be stored).\n",
    "\n",
    "4. The matrix $H$ is not formed explicitly - given $v$, $B$ is overwritten with $HBH$ in\n",
    "$O(n^2)$ operations by using one matrix-vector multiplication and two rank-one updates.\n",
    "\n",
    "5. When symmetry is exploited in performing rank-2 update, tridiagonalization \n",
    "requires $4n^3/3$ operations. Instead of\n",
    "performing rank-2 update on $B$, one can\n",
    "accumulate $p$ transformations and perform rank-$2p$ update. \n",
    "This __block algorithm__ is rich in matrix--matrix multiplications (roughly one\n",
    "half of the operations is performed using BLAS 3 routines), but\n",
    "it requires extra workspace for $U$ and $V$.\n",
    "\n",
    "6. If the matrix $X$ is needed explicitly, it can be computed from the \n",
    "stored Householder vectors $v$.\n",
    "In order to minimize the operation count, the computation\n",
    "starts from the smallest matrix and the size is gradually\n",
    "increased:\n",
    "$$\n",
    "H_{n-2},\\quad H_{n-3}H_{n-2},\\dots,\\quad X=H_1\\cdots H_{n-2}. \n",
    "$$\n",
    "A column-oriented version is possible as well, and the operation count in both\n",
    "cases is $4n^3/3$. If the Householder reflectors $H_i$ are accumulated in the order\n",
    "in which they are generated, the operation count is $2n^3$.\n",
    "\n",
    "7. The backward error bounds for functions `myTridiag()` and `myTridiagX()` are as follows: \n",
    "The computed matrix $\\tilde T$ is equal to the matrix which\n",
    "would be obtained by exact tridiagonalization of some perturbed matrix $A+\\Delta A$, \n",
    "where $\\|\\Delta A\\|_2 \\leq \\psi \\varepsilon \\|A\\|_2$ and $\\psi$ is a\n",
    "slowly increasing function of $n$.\n",
    "The computed matrix $\\tilde X$ satisfies $\\tilde X=X+\\Delta X$, where\n",
    "$\\|\\Delta X \\|_2\\leq \\phi \\varepsilon$ \n",
    "and $\\phi$ is a slowly increasing function of $n$.\n",
    "\n",
    "8. Tridiagonalization using Givens rotations requires $(n-1)(n-2)/2$ plane rotations, which \n",
    "amounts to $4n^3$ operations if symmetry is properly exploited. \n",
    "The operation count is reduced to $8n^3/3$ if fast rotations are used. Fast rotations are\n",
    "obtained by factoring out absolutely larger of $c$ and $s$ from $G$.\n",
    "\n",
    "10. Givens rotations in the function `myTridiagG()`  can be performed in different\n",
    "orderings. For example, the elements in the first column and row can be annihilated by\n",
    "rotations in the planes $(n-1,n)$, $(n-2,n-1)$, $\\ldots$, $(2,3)$.\n",
    "Givens rotations act more selectively than Householder reflectors, and\n",
    "are useful if $A$ has some special structure, for example, if $A$ is a banded matrix. \n",
    "\n",
    "11. Error bounds for function `myTridiagG()` are the same as above, \n",
    "but with slightly different functions $\\psi$ and $\\phi$.\n",
    "\n",
    "12. The block version of tridiagonal reduction is implemented in the \n",
    "[LAPACK](http://www.netlib.org/lapack) subroutine \n",
    "[DSYTRD](http://www.netlib.org/lapack/explore-3.1.1-html/dsytrd.f.html).\n",
    "The computation of $X$ is implemented in the subroutine \n",
    "[DORGTR](http://www.netlib.org/lapack/lapack-3.1.1/html/dorgtr.f.html).\n",
    "The size of the required extra workspace (in elements) is \n",
    "$lwork=nb*n$, where $nb$ is\n",
    "the optimal block size (here, $nb=64)$, and it\n",
    "is determined automatically by the subroutines. \n",
    "The subroutine [DSBTRD](http://www.netlib.org/lapack/explore-html/d0/d62/dsbtrd_8f.html) tridiagonalizes a symmetric band matrix by using Givens rotations. _Julia wappers for those routines do nost exist yet!_"
   ]
  },
  {
   "cell_type": "code",
   "execution_count": 31,
   "metadata": {
    "collapsed": false
   },
   "outputs": [
    {
     "data": {
      "text/plain": [
       "myTridiag (generic function with 1 method)"
      ]
     },
     "execution_count": 31,
     "metadata": {},
     "output_type": "execute_result"
    }
   ],
   "source": [
    "function myTridiag{T}(A::Array{T})\n",
    "    # Normalized Householder vectors are stored in the lower triangular part of A\n",
    "    # below the first subdiagonal\n",
    "    n,m=size(A)\n",
    "    v=Array(T,n)\n",
    "    Trid=SymTridiagonal(zeros(n),zeros(n-1))\n",
    "    for j = 1 : n-2\n",
    "        μ = sign(A[j+1,j])*vecnorm(A[j+1:n, j])\n",
    "        if μ != zero(T)\n",
    "            β =A[j+1,j]+μ\n",
    "            v[j+2:n] = A[j+2:n,j] / β\n",
    "        end\n",
    "        A[j+1,j]=-μ\n",
    "        A[j,j+1]=-μ\n",
    "        v[j+1] = one(Float64)\n",
    "        γ = -2 / (v[j+1:n]⋅v[j+1:n])\n",
    "        w = γ* A[j+1:n, j+1:n]*v[j+1:n]\n",
    "        q = w + γ * v[j+1:n]*(v[j+1:n]⋅w) / 2 \n",
    "        A[j+1:n, j+1:n] = A[j+1:n,j+1:n] + v[j+1:n]*q' + q*v[j+1:n]'\n",
    "        A[j+2:n, j] = v[j+2:n]\n",
    "    end\n",
    "    SymTridiagonal(diag(A),diag(A,1)), tril(A,-2)\n",
    "end"
   ]
  },
  {
   "cell_type": "code",
   "execution_count": 32,
   "metadata": {
    "collapsed": false
   },
   "outputs": [
    {
     "data": {
      "text/plain": [
       "(\n",
       "6x6 SymTridiagonal{Float64}:\n",
       "  7.0     12.1244  0.0       0.0         0.0       0.0     \n",
       " 12.1244  11.1088  4.2883    0.0         0.0       0.0     \n",
       "  0.0      4.2883  8.60709   1.77151     0.0       0.0     \n",
       "  0.0      0.0     1.77151  -0.600788   16.0622    0.0     \n",
       "  0.0      0.0     0.0      16.0622    -10.6641   -7.93985 \n",
       "  0.0      0.0     0.0       0.0        -7.93985   0.548908,\n",
       "\n",
       "6x6 Array{Float64,2}:\n",
       "  0.0        0.0         0.0        0.0       0.0  0.0\n",
       "  0.0        0.0         0.0        0.0       0.0  0.0\n",
       "  0.049691   0.0         0.0        0.0       0.0  0.0\n",
       "  0.049691   0.183489    0.0        0.0       0.0  0.0\n",
       " -0.0       -0.0859566  -0.132962   0.0       0.0  0.0\n",
       " -0.447219  -0.276091    0.855126  -0.182691  0.0  0.0)"
      ]
     },
     "execution_count": 32,
     "metadata": {},
     "output_type": "execute_result"
    }
   ],
   "source": [
    "T,H=myTridiag(map(Float64,A))"
   ]
  },
  {
   "cell_type": "code",
   "execution_count": 33,
   "metadata": {
    "collapsed": false
   },
   "outputs": [
    {
     "data": {
      "text/plain": [
       "([-24.192972887681066,-3.888046074451743,0.24994988996727108,8.24827386914272,13.408532865926901,22.17426233709592],[-24.19297288768106,-3.8880460744517467,0.24994988996727535,8.24827386914271,13.4085328659269,22.17426233709591])"
      ]
     },
     "execution_count": 33,
     "metadata": {},
     "output_type": "execute_result"
    }
   ],
   "source": [
    "eigvals(A), eigvals(T)"
   ]
  },
  {
   "cell_type": "code",
   "execution_count": 34,
   "metadata": {
    "collapsed": false
   },
   "outputs": [
    {
     "data": {
      "text/plain": [
       "myTridiagX (generic function with 1 method)"
      ]
     },
     "execution_count": 34,
     "metadata": {},
     "output_type": "execute_result"
    }
   ],
   "source": [
    "# Extract X\n",
    "function myTridiagX{T}(H::Array{T})\n",
    "    n,m=size(H)\n",
    "    X = eye(T,n)\n",
    "    v=Array(T,n)\n",
    "    for j = n-2 : -1 : 1\n",
    "        v[j+1] = one(T)\n",
    "        v[j+2:n] = H[j+2:n, j]\n",
    "        γ = -2 / (v[j+1:n]⋅v[j+1:n])\n",
    "        w = γ * X[j+1:n, j+1:n]'*v[j+1:n]\n",
    "        X[j+1:n, j+1:n] = X[j+1:n, j+1:n] + v[j+1:n]*w'\n",
    "    end\n",
    "    X\n",
    "end"
   ]
  },
  {
   "cell_type": "code",
   "execution_count": 35,
   "metadata": {
    "collapsed": false
   },
   "outputs": [
    {
     "data": {
      "text/plain": [
       "6x6 Array{Float64,2}:\n",
       " 1.0   0.0         0.0        0.0        0.0          0.0      \n",
       " 0.0  -0.659829    0.459116  -0.589177  -0.00548849   0.0817277\n",
       " 0.0  -0.0824786  -0.767243  -0.44202   -0.00542211   0.457302 \n",
       " 0.0  -0.0824786  -0.305641  -0.248573  -0.48921     -0.773735 \n",
       " 0.0   0.0         0.153867   0.187529  -0.870076     0.429098 \n",
       " 0.0   0.742307    0.288894  -0.600445  -0.0598378    0.0374877"
      ]
     },
     "execution_count": 35,
     "metadata": {},
     "output_type": "execute_result"
    }
   ],
   "source": [
    "X=myTridiagX(H)"
   ]
  },
  {
   "cell_type": "code",
   "execution_count": 36,
   "metadata": {
    "collapsed": false
   },
   "outputs": [
    {
     "data": {
      "text/plain": [
       "6x6 Array{Float64,2}:\n",
       " 1.0   0.0           0.0           0.0           0.0          0.0        \n",
       " 0.0   1.0           9.18234e-17  -1.30124e-16   6.19494e-18  5.34512e-18\n",
       " 0.0   9.18234e-17   1.0          -5.1783e-17   -2.72636e-17  1.64581e-16\n",
       " 0.0  -1.30124e-16  -5.1783e-17    1.0           9.67213e-17  1.96819e-16\n",
       " 0.0   6.19494e-18  -2.72636e-17   9.67213e-17   1.0          5.89222e-17\n",
       " 0.0   5.34512e-18   1.64581e-16   1.96819e-16   5.89222e-17  1.0        "
      ]
     },
     "execution_count": 36,
     "metadata": {},
     "output_type": "execute_result"
    }
   ],
   "source": [
    "# Fact 7: norm(ΔX)<ϕ*eps()\n",
    "X'*X"
   ]
  },
  {
   "cell_type": "code",
   "execution_count": 37,
   "metadata": {
    "collapsed": false
   },
   "outputs": [
    {
     "data": {
      "text/plain": [
       "6x6 Array{Float64,2}:\n",
       "  7.0          12.1244       -4.44089e-16  …    1.38778e-17   4.85723e-17\n",
       " 12.1244       11.1088        4.2883            5.44162e-16  -3.31228e-16\n",
       " -4.44089e-16   4.2883        8.60709           1.03125e-15   3.29628e-15\n",
       "  0.0          -6.9507e-17    1.77151          16.0622       -4.27678e-16\n",
       "  0.0           8.13538e-16   7.16253e-16     -10.6641       -7.93985    \n",
       "  5.55112e-17  -3.84061e-16   2.76941e-15  …   -7.93985       0.548908   "
      ]
     },
     "execution_count": 37,
     "metadata": {},
     "output_type": "execute_result"
    }
   ],
   "source": [
    "X'*A*X"
   ]
  },
  {
   "cell_type": "code",
   "execution_count": 38,
   "metadata": {
    "collapsed": false
   },
   "outputs": [
    {
     "data": {
      "text/plain": [
       "myTridiagG (generic function with 1 method)"
      ]
     },
     "execution_count": 38,
     "metadata": {},
     "output_type": "execute_result"
    }
   ],
   "source": [
    "# Tridiagonalization using Givens rotations\n",
    "function myTridiagG{T}(A::Array{T})\n",
    "    n,m=size(A)\n",
    "    X=eye(T,n)\n",
    "    for j = 1 : n-2\n",
    "        for i = j+2 : n\n",
    "            G,r=givens(A,j+1,i,j)\n",
    "            A=(G*A)*G'\n",
    "            X*=G'\n",
    "        end\n",
    "    end\n",
    "    SymTridiagonal(diag(A),diag(A,1)), X\n",
    "end"
   ]
  },
  {
   "cell_type": "code",
   "execution_count": 39,
   "metadata": {
    "collapsed": false
   },
   "outputs": [
    {
     "data": {
      "text/html": [
       "3 methods for generic function <b>givens</b>:<ul><li> givens<i>{T}</i>(A::<b>AbstractArray{T,2}</b>, i1::<b>Integer</b>, i2::<b>Integer</b>, col::<b>Integer</b>) at <a href=\"https://github.com/JuliaLang/julia/tree/2ac304dfba75fad148d4070ef4f8a2e400c305bb/base/linalg/givens.jl#L257\" target=\"_blank\">linalg/givens.jl:257</a><li> givens<i>{T}</i>(f::<b>T</b>, g::<b>T</b>, i1::<b>Integer</b>, i2::<b>Integer</b>) at <a href=\"https://github.com/JuliaLang/julia/tree/2ac304dfba75fad148d4070ef4f8a2e400c305bb/base/linalg/givens.jl#L237\" target=\"_blank\">linalg/givens.jl:237</a><li> givens<i>{T}</i>(f::<b>T</b>, g::<b>T</b>, i1::<b>Integer</b>, i2::<b>Integer</b>, cols::<b>Integer</b>) at <a href=\"https://github.com/JuliaLang/julia/tree/2ac304dfba75fad148d4070ef4f8a2e400c305bb/base/deprecated.jl#L49\" target=\"_blank\">deprecated.jl:49</a></ul>"
      ],
      "text/plain": [
       "# 3 methods for generic function \"givens\":\n",
       "givens{T}(A::AbstractArray{T,2}, i1::Integer, i2::Integer, col::Integer) at linalg/givens.jl:257\n",
       "givens{T}(f::T, g::T, i1::Integer, i2::Integer) at linalg/givens.jl:237\n",
       "givens{T}(f::T, g::T, i1::Integer, i2::Integer, cols::Integer) at deprecated.jl:49"
      ]
     },
     "execution_count": 39,
     "metadata": {},
     "output_type": "execute_result"
    }
   ],
   "source": [
    "methods(givens)"
   ]
  },
  {
   "cell_type": "code",
   "execution_count": 40,
   "metadata": {
    "collapsed": false
   },
   "outputs": [
    {
     "data": {
      "text/plain": [
       "(\n",
       "6x6 SymTridiagonal{Float64}:\n",
       "  7.0     12.1244   0.0       0.0         0.0       0.0     \n",
       " 12.1244  11.1088  -4.2883    0.0         0.0       0.0     \n",
       "  0.0     -4.2883   8.60709   1.77151     0.0       0.0     \n",
       "  0.0      0.0      1.77151  -0.600788   16.0622    0.0     \n",
       "  0.0      0.0      0.0      16.0622    -10.6641   -7.93985 \n",
       "  0.0      0.0      0.0       0.0        -7.93985   0.548908,\n",
       "\n",
       "6x6 Array{Float64,2}:\n",
       " 1.0   0.0         0.0        0.0       0.0          0.0      \n",
       " 0.0  -0.659829   -0.459116   0.589177  0.00548849  -0.0817277\n",
       " 0.0  -0.0824786   0.767243   0.44202   0.00542211  -0.457302 \n",
       " 0.0  -0.0824786   0.305641   0.248573  0.48921      0.773735 \n",
       " 0.0   0.0        -0.153867  -0.187529  0.870076    -0.429098 \n",
       " 0.0   0.742307   -0.288894   0.600445  0.0598378   -0.0374877)"
      ]
     },
     "execution_count": 40,
     "metadata": {},
     "output_type": "execute_result"
    }
   ],
   "source": [
    "Tg,Xg=myTridiagG(map(Float64,A))"
   ]
  },
  {
   "cell_type": "code",
   "execution_count": 41,
   "metadata": {
    "collapsed": false
   },
   "outputs": [
    {
     "data": {
      "text/plain": [
       "6x6 SymTridiagonal{Float64}:\n",
       "  7.0     12.1244  0.0       0.0         0.0       0.0     \n",
       " 12.1244  11.1088  4.2883    0.0         0.0       0.0     \n",
       "  0.0      4.2883  8.60709   1.77151     0.0       0.0     \n",
       "  0.0      0.0     1.77151  -0.600788   16.0622    0.0     \n",
       "  0.0      0.0     0.0      16.0622    -10.6641   -7.93985 \n",
       "  0.0      0.0     0.0       0.0        -7.93985   0.548908"
      ]
     },
     "execution_count": 41,
     "metadata": {},
     "output_type": "execute_result"
    }
   ],
   "source": [
    "T"
   ]
  },
  {
   "cell_type": "code",
   "execution_count": 42,
   "metadata": {
    "collapsed": false
   },
   "outputs": [
    {
     "data": {
      "text/plain": [
       "6x6 Array{Float64,2}:\n",
       " 1.0   0.0           0.0           0.0           0.0           0.0        \n",
       " 0.0   1.0           7.64182e-17  -5.81863e-17   5.51937e-18   8.10546e-18\n",
       " 0.0   7.64182e-17   1.0          -4.38599e-17  -3.77384e-17  -2.56677e-17\n",
       " 0.0  -5.81863e-17  -4.38599e-17   1.0          -9.78187e-18  -1.0931e-17 \n",
       " 0.0   5.51937e-18  -3.77384e-17  -9.78187e-18   1.0          -8.13446e-17\n",
       " 0.0   8.10546e-18  -2.56677e-17  -1.0931e-17   -8.13446e-17   1.0        "
      ]
     },
     "execution_count": 42,
     "metadata": {},
     "output_type": "execute_result"
    }
   ],
   "source": [
    "Xg'*Xg"
   ]
  },
  {
   "cell_type": "code",
   "execution_count": 43,
   "metadata": {
    "collapsed": false
   },
   "outputs": [
    {
     "data": {
      "text/plain": [
       "6x6 Array{Float64,2}:\n",
       "  7.0          12.1244       -2.22045e-16  …    1.17961e-16  -9.02056e-17\n",
       " 12.1244       11.1088       -4.2883            1.10191e-15  -8.66851e-16\n",
       " -4.44089e-16  -4.2883        8.60709           1.58111e-15  -3.0932e-16 \n",
       "  8.88178e-16  -3.41889e-16   1.77151          16.0622        1.47969e-15\n",
       "  1.11022e-16   1.82367e-15   7.32617e-16     -10.6641       -7.93985    \n",
       " -1.11022e-16  -4.92361e-16  -8.69822e-17  …   -7.93985       0.548908   "
      ]
     },
     "execution_count": 43,
     "metadata": {},
     "output_type": "execute_result"
    }
   ],
   "source": [
    "Xg'*A*Xg"
   ]
  },
  {
   "cell_type": "markdown",
   "metadata": {},
   "source": [
    "## Tridiagonal QR method\n",
    "\n",
    "Let $T$ be a real symmetric tridiagonal matrix of order $n$ and $T=Q\\Lambda Q^T$ be its EVD.\n",
    "\n",
    "Each step of the shifted QR iterations can be elegantly implemented without explicitly computing the \n",
    "shifted matrix  $T-\\mu I$.\n",
    "\n",
    "\n",
    "### Definition\n",
    "\n",
    "__Wilkinson's shift__ $\\mu$ is the eigenvalue of the bottom right $2\\times 2$ submatrix of $T$, which\n",
    "  is closer to $T_{n,n}$. \n",
    "\n",
    "\n",
    "### Facts\n",
    "\n",
    "1. The stable formula for the Wilkinson's shift is\n",
    "$$\n",
    "\\mu=T_{n,n}-\n",
    "\\frac{T_{n,n-1}^2}{\\tau+\\mathop{\\mathrm{sign}}(\\tau)\\sqrt{\\tau^2+T_{n,n-1}^2}},\\qquad\n",
    "\\tau=\\frac{T_{n-1,n-1}-T_{n,n}}{2}.\n",
    "$$\n",
    "\n",
    "2. Wilkinson's shift is the most commonly used shift. \n",
    "  With Wilkinson's shift, the algorithm always converges in\n",
    "  the sense that $T_{n-1,n}\\to 0$. The convergence is quadratic, that\n",
    "  is, $|[T_{k+1}]_{n-1,n}|\\leq c |[T_{k}]_{n-1,n}|^2$ for some\n",
    "  constant $c$, where $T_k$ is the matrix after the $k$-th sweep. \n",
    "  Even more, the convergence is usually cubic. However,\n",
    "  it can also happen that some $T_{i,i+i}$, $i\\neq n-1$, becomes\n",
    "  sufficiently small before $T_{n-1,n}$, so the practical program has to check\n",
    "  for deflation at each step.\n",
    "\n",
    "3. _(Chasing the Bulge)_ The plane rotation parameters at the start of the sweep are computed \n",
    "as if the shifted $T-\\mu I$ has been formed. Since the rotation is\n",
    "applied to the original $T$ and not to $T-\\mu I$, \n",
    "this creates new nonzero elements at the positions $(3,1)$ and\n",
    "$(1, 3)$, the so-called __bulge__.  The subsequent rotations simply\n",
    "chase the bulge out of the lower right corner of the matrix. The\n",
    "rotation in the $(2,3)$ plane sets the elements $(3,1)$ and $(1,3)$\n",
    "back to zero, but it generates two new nonzero elements at positions\n",
    "$(4,2)$ and $(2,4)$; the rotation in the $(3,4)$ plane sets the\n",
    "\\hbox{elements} $(4,2)$ and $(2,4)$ back to zero, but it generates two new\n",
    "nonzero elements at positions $(5,3)$ and $(3,5)$, etc.\n",
    "\n",
    "4. The effect of this procedure is the following. At the end of the first sweep, the\n",
    "resulting matrix $T_1$ is equal to the the matrix\n",
    "that would have been obtained by factorizing $T-\\mu I=QR$\n",
    "and computing $T_1=RQ+\\mu I$.\n",
    "\n",
    "5. Since the convergence of the function `myTridEigQR()` is quadratic (or even cubic), \n",
    "  an eigenvalue is isolated after just a few steps, which requires\n",
    "  $O(n)$ operations. This means that $O(n^2)$ operations are needed to\n",
    "  compute all eigenvalues. \n",
    "\n",
    "6. If the eigenvector matrix $Q$ is desired, the plane rotations need to be\n",
    "accumulated similarly to the accumulation of $X$ in the function `myTridiagG()`.\n",
    "This accumulation requires $O(n^3)$ operations. Another, faster, algorithm to \n",
    "first compute only $\\Lambda$ and then compute $Q$ using inverse iterations. \n",
    "Inverse iteration on s tridiagonal matrix are implemented in the LAPACK routine \n",
    "[DSTEIN](http://www.netlib.org/lapack/explore-html/d8/d35/dstein_8f.html).\n",
    "\n",
    "7. __Error bounds__: Let $U\\Lambda U^T$ and $\\tilde U \\tilde \\Lambda \\tilde U^T$ be the\n",
    "exact and the computed EVDs of $A$, respectively, such that the diagonals of $\\Lambda$\n",
    "and $\\tilde \\Lambda$ are in the same order.\n",
    "Numerical methods generally compute the EVD with the errors bounded by\n",
    "$$\n",
    "|\\lambda_i-\\tilde \\lambda_i|\\leq \\phi \\epsilon\\|A\\|_2,\n",
    "\\qquad\n",
    "\\|u_i-\\tilde u_i\\|_2\\leq \\psi\\epsilon \\frac{\\|A\\|_2}\n",
    "{\\min_{j\\neq i} \n",
    "|\\lambda_i-\\tilde \\lambda_j|},\n",
    "$$\n",
    "where $\\epsilon$ is machine precision and $\\phi$ and $\\psi$\n",
    "are slowly growing polynomial functions of\n",
    "$n$ which depend upon the algorithm used (typically $O(n)$ or $O(n^2)$).\n",
    "Such bounds are obtained by combining perturbation bounds with the floating-point error analysis of the respective\n",
    "algorithms.\n",
    "\n",
    "8. The eigenvalue decomposition $T=Q\\Lambda Q^T$ computed by `myTridEigQR()` satisfies the\n",
    "error bounds from fact 7. with $A$ replaced by $T$ and $U$ replaced by $Q$. The deflation criterion \n",
    "implies $|T_{i,i+1}|\\leq \\epsilon \\|T\\|_F$, which is within these\n",
    "bounds.\n",
    "   \n",
    "9. The EVD computed by function `mySymEigQR()` satisfies the error bounds given in Fact 7. \n",
    "However, the algorithm tends to perform better on matrices, which are\n",
    "graded downwards, that is, on matrices that exhibit systematic decrease\n",
    "in the size of the matrix elements as we move along the diagonal.  \n",
    "For such matrices the tiny eigenvalues can usually be computed with higher\n",
    "relative accuracy (although counterexamples can be easily constructed).\n",
    "If the tiny eigenvalues are of interest, it should be checked whether\n",
    "there exists a symmetric permutation that moves larger elements to the\n",
    "upper left corner, thus converting the given matrix to the\n",
    "one that is graded downwards.\n",
    "\n",
    "10. The function `myTridEigQR()` is implemented in the \n",
    "LAPACK subroutine [DSTEQR](http://www.netlib.org/lapack/explore-html/d9/d3f/dsteqr_8f.html). \n",
    "This routine can compute just the\n",
    "eigenvalues, or both eigenvalues and eigenvectors.\n",
    "\n",
    "11. The function `mySymEigQR()` is  Algorithm 5 is implemented in the functions `eig()`, `eigvals()` and `eigvecs()`, \n",
    "and in the  LAPACK routine [DSYEV](http://www.netlib.org/lapack/explore-html/dd/d4c/dsyev_8f.html).\n",
    "To compute only eigenvalues, DSYEV calls DSYTRD and DSTEQR\n",
    "without the eigenvector option. To compute both eigenvalues and eigenvectors,\n",
    "DSYEV calls DSYTRD, DORGTR, and DSTEQR with the eigenvector\n",
    "option.\n",
    "\n",
    "### Examples"
   ]
  },
  {
   "cell_type": "code",
   "execution_count": 44,
   "metadata": {
    "collapsed": false
   },
   "outputs": [
    {
     "data": {
      "text/plain": [
       "myTridEigQR (generic function with 1 method)"
      ]
     },
     "execution_count": 44,
     "metadata": {},
     "output_type": "execute_result"
    }
   ],
   "source": [
    "function myTridEigQR{T}(A1::SymTridiagonal{T})\n",
    "    A=deepcopy(A1)\n",
    "    n=length(A.dv)\n",
    "    λ=Array(T,n)\n",
    "    Temp=Array{T}\n",
    "    if n==1\n",
    "        return map(T,A.dv)\n",
    "    end\n",
    "    if n==2\n",
    "        τ=(A.dv[end-1]-A.dv[end])/2\n",
    "        μ=A.dv[end]-A.ev[end]^2/(τ+sign(τ)*sqrt(τ^2+A.ev[end]^2))\n",
    "        # Only rotation\n",
    "        Temp=A[1:2,1:2]\n",
    "        G,r=givens(Temp-μ*I,1,2,1)\n",
    "        Temp=(G*Temp)*G'\n",
    "        return diag(Temp)[1:2]\n",
    "    end\n",
    "    steps=1\n",
    "    k=0\n",
    "    while k==0 && steps<=10\n",
    "        # Shift\n",
    "        τ=(A.dv[end-1]-A.dv[end])/2\n",
    "        μ=A.dv[end]-A.ev[end]^2/(τ+sign(τ)*sqrt(τ^2+A.ev[end]^2))\n",
    "        # First rotation\n",
    "        Temp=A[1:3,1:3]\n",
    "        G,r=givens(Temp-μ*I,1,2,1)\n",
    "        Temp=(G*Temp)*G'\n",
    "        A.dv[1:2]=diag(Temp)[1:2]\n",
    "        A.ev[1:2]=diag(Temp,-1)\n",
    "        bulge=Temp[3,1]\n",
    "        # Bulge chasing\n",
    "        for i = 2 : n-2\n",
    "            Temp=A[i-1:i+2,i-1:i+2]\n",
    "            Temp[3,1]=bulge\n",
    "            Temp[1,3]=bulge\n",
    "            G,r=givens(Temp,2,3,1)\n",
    "            Temp=(G*Temp)*G'\n",
    "            A.dv[i:i+1]=diag(Temp)[2:3]\n",
    "            A.ev[i-1:i+1]=diag(Temp,-1)\n",
    "            bulge=Temp[4,2]\n",
    "        end\n",
    "        # Last rotation\n",
    "        Temp=A[n-2:n,n-2:n]\n",
    "        Temp[3,1]=bulge\n",
    "        Temp[1,3]=bulge\n",
    "        G,r=givens(Temp,2,3,1)\n",
    "        Temp=(G*Temp)*G'\n",
    "        A.dv[n-1:n]=diag(Temp)[2:3]\n",
    "        A.ev[n-2:n-1]=diag(Temp,-1)\n",
    "        steps+=1\n",
    "        # Deflation criterion\n",
    "        k=findfirst(abs(A.ev) .< sqrt(abs(A.dv[1:n-1].*A.dv[2:n]))*eps(T))\n",
    "    end\n",
    "    λ[1:k]=myTridEigQR(SymTridiagonal(A.dv[1:k],A.ev[1:k-1]))\n",
    "    λ[k+1:n]=myTridEigQR(SymTridiagonal(A.dv[k+1:n],A.ev[k+1:n-1]))\n",
    "    λ\n",
    "end"
   ]
  },
  {
   "cell_type": "code",
   "execution_count": 45,
   "metadata": {
    "collapsed": false
   },
   "outputs": [
    {
     "name": "stdout",
     "output_type": "stream",
     "text": [
      "search: findfirst\n",
      "\n"
     ]
    },
    {
     "data": {
      "text/latex": [
       "\\begin{verbatim}\n",
       "findfirst(A,v)\n",
       "\\end{verbatim}\n",
       "Return the index of the first element equal to \\texttt{v} in \\texttt{A}.\n",
       "\\begin{verbatim}\n",
       "findfirst(A)\n",
       "\\end{verbatim}\n",
       "Return the index of the first non-zero value in \\texttt{A} (determined by \\texttt{A[i]!=0}).\n",
       "\\begin{verbatim}\n",
       "findfirst(predicate, A)\n",
       "\\end{verbatim}\n",
       "Return the index of the first element of \\texttt{A} for which \\texttt{predicate} returns \\texttt{true}.\n"
      ],
      "text/markdown": [
       "```\n",
       "findfirst(A,v)\n",
       "```\n",
       "\n",
       "Return the index of the first element equal to `v` in `A`.\n",
       "\n",
       "```\n",
       "findfirst(A)\n",
       "```\n",
       "\n",
       "Return the index of the first non-zero value in `A` (determined by `A[i]!=0`).\n",
       "\n",
       "```\n",
       "findfirst(predicate, A)\n",
       "```\n",
       "\n",
       "Return the index of the first element of `A` for which `predicate` returns `true`.\n"
      ],
      "text/plain": [
       "```\n",
       "findfirst(A,v)\n",
       "```\n",
       "\n",
       "Return the index of the first element equal to `v` in `A`.\n",
       "\n",
       "```\n",
       "findfirst(A)\n",
       "```\n",
       "\n",
       "Return the index of the first non-zero value in `A` (determined by `A[i]!=0`).\n",
       "\n",
       "```\n",
       "findfirst(predicate, A)\n",
       "```\n",
       "\n",
       "Return the index of the first element of `A` for which `predicate` returns `true`.\n"
      ]
     },
     "execution_count": 45,
     "metadata": {},
     "output_type": "execute_result"
    }
   ],
   "source": [
    "?findfirst"
   ]
  },
  {
   "cell_type": "code",
   "execution_count": 46,
   "metadata": {
    "collapsed": false
   },
   "outputs": [
    {
     "data": {
      "text/plain": [
       "6-element Array{Float64,1}:\n",
       " -24.193  \n",
       "  -3.88805\n",
       "   0.24995\n",
       "   8.24827\n",
       "  13.4085 \n",
       "  22.1743 "
      ]
     },
     "execution_count": 46,
     "metadata": {},
     "output_type": "execute_result"
    }
   ],
   "source": [
    "λ=eigvals(T)"
   ]
  },
  {
   "cell_type": "code",
   "execution_count": 47,
   "metadata": {
    "collapsed": false
   },
   "outputs": [
    {
     "data": {
      "text/plain": [
       "6-element Array{Float64,1}:\n",
       " -24.193  \n",
       "  22.1743 \n",
       "  -3.88805\n",
       "  13.4085 \n",
       "   8.24827\n",
       "   0.24995"
      ]
     },
     "execution_count": 47,
     "metadata": {},
     "output_type": "execute_result"
    }
   ],
   "source": [
    "λ1=myTridEigQR(T)"
   ]
  },
  {
   "cell_type": "code",
   "execution_count": 48,
   "metadata": {
    "collapsed": false
   },
   "outputs": [
    {
     "data": {
      "text/plain": [
       "6-element Array{Float64,1}:\n",
       " -1.46849e-16\n",
       "  1.14219e-15\n",
       " -1.66567e-15\n",
       "  8.61444e-16\n",
       "  3.97439e-16\n",
       " -3.20436e-16"
      ]
     },
     "execution_count": 48,
     "metadata": {},
     "output_type": "execute_result"
    }
   ],
   "source": [
    "(sort(λ)-sort(λ1))./sort(λ)"
   ]
  },
  {
   "cell_type": "markdown",
   "metadata": {},
   "source": [
    "###  Computing the eigenvectors \n",
    "\n",
    "Once the eigenvalues are computed, the eigeenvectors can be efficiently computed with inverse iterations. \n",
    "Inverse iterations for tridiagonal matrices are implemented in the LAPACK routine \n",
    "[DSTEIN](http://www.netlib.org/lapack/explore-html/d8/d35/dstein_8f.html)."
   ]
  },
  {
   "cell_type": "code",
   "execution_count": 49,
   "metadata": {
    "collapsed": false
   },
   "outputs": [
    {
     "data": {
      "text/plain": [
       "6x6 Array{Float64,2}:\n",
       "  0.00163477   0.723768    0.0570669  -0.31563   -0.0847094   0.605064  \n",
       " -0.00420587  -0.649966   -0.0317711  -0.032496  -0.0447746   0.757269  \n",
       "  0.0300012    0.226721   -0.0808945   0.914061   0.215488    0.243334  \n",
       " -0.5453      -0.025776    0.458529   -0.106478   0.692437    0.0304575 \n",
       "  0.797628    -0.01973     0.033208   -0.159474   0.580171    0.016349  \n",
       "  0.255965    -0.0353065   0.881951    0.164455  -0.358212   -0.00600262"
      ]
     },
     "execution_count": 49,
     "metadata": {},
     "output_type": "execute_result"
    }
   ],
   "source": [
    "U=LAPACK.stein!(T.dv,T.ev,λ)"
   ]
  },
  {
   "cell_type": "code",
   "execution_count": 50,
   "metadata": {
    "collapsed": false
   },
   "outputs": [
    {
     "data": {
      "text/plain": [
       "2.868731977786956e-16"
      ]
     },
     "execution_count": 50,
     "metadata": {},
     "output_type": "execute_result"
    }
   ],
   "source": [
    "# Orthogonality\n",
    "norm(U'*U-I)"
   ]
  },
  {
   "cell_type": "code",
   "execution_count": 51,
   "metadata": {
    "collapsed": false
   },
   "outputs": [
    {
     "data": {
      "text/plain": [
       "6.980277840801172e-15"
      ]
     },
     "execution_count": 51,
     "metadata": {},
     "output_type": "execute_result"
    }
   ],
   "source": [
    "# Residual\n",
    "norm(T*U-U*diagm(λ))"
   ]
  },
  {
   "cell_type": "code",
   "execution_count": 52,
   "metadata": {
    "collapsed": false
   },
   "outputs": [
    {
     "name": "stdout",
     "output_type": "stream",
     "text": [
      "  0.405962 seconds (3.98 M allocations: 255.493 MB, 11.05% gc time)\n",
      "  0.003311 seconds (13 allocations: 13.156 KB)\n",
      "  0.014908 seconds (31 allocations: 1.266 MB)\n"
     ]
    }
   ],
   "source": [
    "# Some timings - n=100, 200, 400 myTridEigQR() is 200x slower!?\n",
    "n=400\n",
    "Tbig=SymTridiagonal(rand(n),rand(n-1))\n",
    "@time myTridEigQR(Tbig);\n",
    "@time λbig=eigvals(Tbig);\n",
    "@time LAPACK.stein!(Tbig.dv,Tbig.ev,λbig);"
   ]
  },
  {
   "cell_type": "code",
   "execution_count": 53,
   "metadata": {
    "collapsed": false
   },
   "outputs": [
    {
     "name": "stdout",
     "output_type": "stream",
     "text": [
      "  0.086312 seconds (14 allocations: 63.109 KB)\n",
      "  0.413978 seconds (38 allocations: 30.722 MB, 0.80% gc time)\n",
      "  0.752684 seconds (213.86 k allocations: 72.021 MB, 0.63% gc time)\n"
     ]
    }
   ],
   "source": [
    "n=2000\n",
    "Tbig=SymTridiagonal(rand(n),rand(n-1))\n",
    "@time λbig=eigvals(Tbig);\n",
    "@time U=LAPACK.stein!(Tbig.dv,Tbig.ev,λbig);\n",
    "@time eig(Tbig);"
   ]
  },
  {
   "cell_type": "code",
   "execution_count": 54,
   "metadata": {
    "collapsed": false
   },
   "outputs": [
    {
     "data": {
      "text/html": [
       "eigvals<i>{T}</i>(A::<b>SymTridiagonal{T}</b>) at <a href=\"https://github.com/JuliaLang/julia/tree/2ac304dfba75fad148d4070ef4f8a2e400c305bb/base/linalg/tridiag.jl#L129\" target=\"_blank\">linalg/tridiag.jl:129</a>"
      ],
      "text/plain": [
       "eigvals{T}(A::SymTridiagonal{T}) at linalg/tridiag.jl:129"
      ]
     },
     "execution_count": 54,
     "metadata": {},
     "output_type": "execute_result"
    }
   ],
   "source": [
    "@which eigvals(Tbig)"
   ]
  },
  {
   "cell_type": "markdown",
   "metadata": {},
   "source": [
    "Alternatively, the rotations in `myTridEigQR()` can be accumulated to compute the eignevctors. This is not optimal, but is instructive. We make use of Julia's multiple dispatch feature."
   ]
  },
  {
   "cell_type": "code",
   "execution_count": 55,
   "metadata": {
    "collapsed": false
   },
   "outputs": [
    {
     "data": {
      "text/plain": [
       "myTridEigQR (generic function with 2 methods)"
      ]
     },
     "execution_count": 55,
     "metadata": {},
     "output_type": "execute_result"
    }
   ],
   "source": [
    "function myTridEigQR{T}(A1::SymTridiagonal{T},U::Array{T})\n",
    "    # U is either the identity matrix or the output from myTridiagX()\n",
    "    A=deepcopy(A1)\n",
    "    n=length(A.dv)\n",
    "    λ=Array(T,n)\n",
    "    Temp=Array{T}\n",
    "    if n==1\n",
    "        return map(T,A.dv), U\n",
    "    end\n",
    "    if n==2\n",
    "        τ=(A.dv[end-1]-A.dv[end])/2\n",
    "        μ=A.dv[end]-A.ev[end]^2/(τ+sign(τ)*sqrt(τ^2+A.ev[end]^2))\n",
    "        # Only rotation\n",
    "        Temp=A[1:2,1:2]\n",
    "        G,r=givens(Temp-μ*I,1,2,1)\n",
    "        Temp=(G*Temp)*G'\n",
    "        U*=G'\n",
    "        return diag(Temp)[1:2], U\n",
    "    end\n",
    "    steps=1\n",
    "    k=0\n",
    "    while k==0 && steps<=10\n",
    "        # Shift\n",
    "        τ=(A.dv[end-1]-A.dv[end])/2\n",
    "        μ=A.dv[end]-A.ev[end]^2/(τ+sign(τ)*sqrt(τ^2+A.ev[end]^2))\n",
    "        # First rotation\n",
    "        Temp=A[1:3,1:3]\n",
    "        G,r=givens(Temp-μ*I,1,2,1)\n",
    "        Temp=(G*Temp)*G'\n",
    "        U[:,1:3]*=G'\n",
    "        A.dv[1:2]=diag(Temp)[1:2]\n",
    "        A.ev[1:2]=diag(Temp,-1)\n",
    "        bulge=Temp[3,1]\n",
    "        # Bulge chasing\n",
    "        for i = 2 : n-2\n",
    "            Temp=A[i-1:i+2,i-1:i+2]\n",
    "            Temp[3,1]=bulge\n",
    "            Temp[1,3]=bulge\n",
    "            G,r=givens(Temp,2,3,1)\n",
    "            Temp=(G*Temp)*G'\n",
    "            U[:,i-1:i+2]=U[:,i-1:i+2]*G'\n",
    "            A.dv[i:i+1]=diag(Temp)[2:3]\n",
    "            A.ev[i-1:i+1]=diag(Temp,-1)\n",
    "            bulge=Temp[4,2]\n",
    "        end\n",
    "        # Last rotation\n",
    "        Temp=A[n-2:n,n-2:n]\n",
    "        Temp[3,1]=bulge\n",
    "        Temp[1,3]=bulge\n",
    "        G,r=givens(Temp,2,3,1)\n",
    "        Temp=(G*Temp)*G'\n",
    "        U[:,n-2:n]*=G'\n",
    "        A.dv[n-1:n]=diag(Temp)[2:3]\n",
    "        A.ev[n-2:n-1]=diag(Temp,-1)\n",
    "        steps+=1\n",
    "        # Deflation criterion\n",
    "        k=findfirst(abs(A.ev) .< sqrt(abs(A.dv[1:n-1].*A.dv[2:n]))*eps(T))\n",
    "    end\n",
    "    λ[1:k], U[:,1:k]=myTridEigQR(SymTridiagonal(A.dv[1:k],A.ev[1:k-1]),U[:,1:k])\n",
    "    λ[k+1:n], U[:,k+1:n]=myTridEigQR(SymTridiagonal(A.dv[k+1:n],A.ev[k+1:n-1]),U[:,k+1:n])\n",
    "    λ, U\n",
    "end"
   ]
  },
  {
   "cell_type": "code",
   "execution_count": 56,
   "metadata": {
    "collapsed": false
   },
   "outputs": [
    {
     "data": {
      "text/plain": [
       "([-24.192972887681062,22.174262337095918,-3.888046074451742,13.408532865926894,8.248273869142704,0.24994988996727577],\n",
       "6x6 Array{Float64,2}:\n",
       "  0.00163477   0.605064    -0.723768    0.0847094  -0.31563    0.0570669\n",
       " -0.00420587   0.757269     0.649966    0.0447746  -0.032496  -0.0317711\n",
       "  0.0300012    0.243334    -0.226721   -0.215488    0.914061  -0.0808945\n",
       " -0.5453       0.0304575    0.025776   -0.692437   -0.106478   0.458529 \n",
       "  0.797628     0.016349     0.01973    -0.580171   -0.159474   0.033208 \n",
       "  0.255965    -0.00600262   0.0353065   0.358212    0.164455   0.881951 )"
      ]
     },
     "execution_count": 56,
     "metadata": {},
     "output_type": "execute_result"
    }
   ],
   "source": [
    "λ,U=myTridEigQR(T,eye(T))"
   ]
  },
  {
   "cell_type": "code",
   "execution_count": 59,
   "metadata": {
    "collapsed": false
   },
   "outputs": [
    {
     "data": {
      "text/plain": [
       "1.416938598192507e-15"
      ]
     },
     "execution_count": 59,
     "metadata": {},
     "output_type": "execute_result"
    }
   ],
   "source": [
    "# Orthogonality\n",
    "norm(U'*U-I)"
   ]
  },
  {
   "cell_type": "code",
   "execution_count": 62,
   "metadata": {
    "collapsed": false
   },
   "outputs": [
    {
     "data": {
      "text/plain": [
       "1.2198482531015603e-14"
      ]
     },
     "execution_count": 62,
     "metadata": {},
     "output_type": "execute_result"
    }
   ],
   "source": [
    "# Residual\n",
    "norm(T*U-U*diagm(λ))"
   ]
  },
  {
   "cell_type": "markdown",
   "metadata": {},
   "source": [
    "### Symmetric QR method\n",
    "\n",
    "Combining `myTridiag()`, `myTridiagX()` and `myTridEigQR()`, we get the method for computing symmetric EVD."
   ]
  },
  {
   "cell_type": "code",
   "execution_count": 63,
   "metadata": {
    "collapsed": false
   },
   "outputs": [
    {
     "data": {
      "text/plain": [
       "mySymEigQR (generic function with 1 method)"
      ]
     },
     "execution_count": 63,
     "metadata": {},
     "output_type": "execute_result"
    }
   ],
   "source": [
    "function mySymEigQR{T}(A::Array{T})\n",
    "    Tr,H=myTridiag(A)\n",
    "    X=myTridiagX(H)\n",
    "    # λ, U\n",
    "    myTridEigQR(Tr,X)\n",
    "end"
   ]
  },
  {
   "cell_type": "code",
   "execution_count": 64,
   "metadata": {
    "collapsed": false
   },
   "outputs": [
    {
     "data": {
      "text/plain": [
       "([-24.192972887681062,22.174262337095918,-3.888046074451742,13.408532865926894,8.248273869142704,0.24994988996727577],\n",
       "6x6 Array{Float64,2}:\n",
       "  0.00163477   0.605064   -0.723768   0.0847094  -0.31563    0.0570669\n",
       "  0.354369    -0.406474   -0.545367   0.31195     0.518152  -0.214434 \n",
       "  0.33109     -0.265451    0.124987   0.634667   -0.575491   0.265145 \n",
       " -0.461532    -0.147756   -0.0276902  0.240955   -0.299455  -0.785275 \n",
       " -0.681806     0.0263521  -0.0320679  0.495493    0.329998   0.42309  \n",
       "  0.294835     0.612932    0.401643   0.434899    0.319586  -0.2912   )"
      ]
     },
     "execution_count": 64,
     "metadata": {},
     "output_type": "execute_result"
    }
   ],
   "source": [
    "λ,U=mySymEigQR(map(Float64,A))"
   ]
  },
  {
   "cell_type": "code",
   "execution_count": 67,
   "metadata": {
    "collapsed": false
   },
   "outputs": [
    {
     "data": {
      "text/plain": [
       "9.251896054207711e-16"
      ]
     },
     "execution_count": 67,
     "metadata": {},
     "output_type": "execute_result"
    }
   ],
   "source": [
    "# Orthogonality \n",
    "norm(U'*U-I)"
   ]
  },
  {
   "cell_type": "code",
   "execution_count": 68,
   "metadata": {
    "collapsed": false
   },
   "outputs": [
    {
     "data": {
      "text/plain": [
       "1.897880993424932e-14"
      ]
     },
     "execution_count": 68,
     "metadata": {},
     "output_type": "execute_result"
    }
   ],
   "source": [
    "# Residual\n",
    "norm(A*U-U*diagm(λ))"
   ]
  },
  {
   "cell_type": "code",
   "execution_count": 70,
   "metadata": {
    "collapsed": false
   },
   "outputs": [
    {
     "data": {
      "text/plain": [
       "5x5 Array{Float64,2}:\n",
       " 0.219415  0.590559  0.143175  0.291829   0.184854\n",
       " 0.126936  0.410569  0.299185  0.22243    0.792284\n",
       " 0.608528  0.394731  0.557154  0.0588954  0.503908\n",
       " 0.859499  0.31694   0.287758  0.340839   0.561728\n",
       " 0.290553  0.654032  0.73519   0.854072   0.248193"
      ]
     },
     "execution_count": 70,
     "metadata": {},
     "output_type": "execute_result"
    }
   ],
   "source": [
    "# Non-symmetric matrices\n",
    "A=rand(5,5)"
   ]
  },
  {
   "cell_type": "code",
   "execution_count": 71,
   "metadata": {
    "collapsed": false
   },
   "outputs": [
    {
     "data": {
      "text/plain": [
       "(Complex{Float64}[2.116580207077202 + 0.0im,-0.7364197999579702 + 0.0im,0.034120088168536455 + 0.4158976343164847im,0.034120088168536455 - 0.4158976343164847im,0.32776919784447467 + 0.0im],\n",
       "5x5 Array{Complex{Float64},2}:\n",
       " 0.292807+0.0im   0.261881+0.0im  0.0118182-0.457802im   …  -0.231331+0.0im\n",
       " 0.425261+0.0im  -0.387511+0.0im   0.606748+0.0im            0.120258+0.0im\n",
       "  0.42585+0.0im  -0.273236+0.0im  -0.287366-0.0905851im      0.720024+0.0im\n",
       " 0.468949+0.0im  -0.405806+0.0im  -0.397552+0.0998381im     -0.639518+0.0im\n",
       "  0.57633+0.0im    0.73615+0.0im  -0.070059+0.398028im      -0.067862+0.0im)"
      ]
     },
     "execution_count": 71,
     "metadata": {},
     "output_type": "execute_result"
    }
   ],
   "source": [
    "λ,X=eig(A)"
   ]
  },
  {
   "cell_type": "code",
   "execution_count": 72,
   "metadata": {
    "collapsed": false
   },
   "outputs": [
    {
     "data": {
      "text/plain": [
       "Base.LinAlg.Hessenberg{Float64,Array{Float64,2}}(5x5 Array{Float64,2}:\n",
       "  0.219415  -0.424279   0.316865   0.425601  -0.164445 \n",
       " -1.09981    1.16192   -0.809761  -0.278314  -0.190637 \n",
       "  0.496052  -1.06726    0.291389   0.405778  -0.0165549\n",
       "  0.700634   0.441675   0.621061  -0.170034   0.110055 \n",
       "  0.236849  -0.56809    0.505217   0.152254   0.273484 ,[1.1154160751926359,1.317694690965529,1.593314961101539,0.0])"
      ]
     },
     "execution_count": 72,
     "metadata": {},
     "output_type": "execute_result"
    }
   ],
   "source": [
    "B=hessfact(A)"
   ]
  },
  {
   "cell_type": "code",
   "execution_count": 70,
   "metadata": {
    "collapsed": false
   },
   "outputs": [
    {
     "name": "stdout",
     "output_type": "stream",
     "text": [
      "search: hessfact hessfact!\n",
      "\n"
     ]
    },
    {
     "data": {
      "text/latex": [
       "\\begin{verbatim}\n",
       "..  hessfact(A)\n",
       "\n",
       "Compute the Hessenberg decomposition of ``A`` and return a ``Hessenberg`` object. If ``F`` is the factorization object, the unitary matrix can be accessed with ``F[:Q]`` and the Hessenberg matrix with ``F[:H]``. When ``Q`` is extracted, the resulting type is the ``HessenbergQ`` object, and may be converted to a regular matrix with :func:`full`.\n",
       "\\end{verbatim}\n"
      ],
      "text/markdown": [
       "```rst\n",
       "..  hessfact(A)\n",
       "\n",
       "Compute the Hessenberg decomposition of ``A`` and return a ``Hessenberg`` object. If ``F`` is the factorization object, the unitary matrix can be accessed with ``F[:Q]`` and the Hessenberg matrix with ``F[:H]``. When ``Q`` is extracted, the resulting type is the ``HessenbergQ`` object, and may be converted to a regular matrix with :func:`full`.\n",
       "```\n"
      ],
      "text/plain": [
       "```rst\n",
       "..  hessfact(A)\n",
       "\n",
       "Compute the Hessenberg decomposition of ``A`` and return a ``Hessenberg`` object. If ``F`` is the factorization object, the unitary matrix can be accessed with ``F[:Q]`` and the Hessenberg matrix with ``F[:H]``. When ``Q`` is extracted, the resulting type is the ``HessenbergQ`` object, and may be converted to a regular matrix with :func:`full`.\n",
       "```\n"
      ]
     },
     "execution_count": 70,
     "metadata": {},
     "output_type": "execute_result"
    }
   ],
   "source": [
    "?hessfact"
   ]
  },
  {
   "cell_type": "code",
   "execution_count": 80,
   "metadata": {
    "collapsed": false
   },
   "outputs": [
    {
     "data": {
      "text/plain": [
       "(\n",
       "5x5 Array{Float64,2}:\n",
       "  0.219415  -0.424279   0.316865   0.425601  -0.164445 \n",
       " -1.09981    1.16192   -0.809761  -0.278314  -0.190637 \n",
       "  0.0       -1.06726    0.291389   0.405778  -0.0165549\n",
       "  0.0        0.0        0.621061  -0.170034   0.110055 \n",
       "  0.0        0.0        0.0        0.152254   0.273484 ,\n",
       "\n",
       "5x5 Array{Float64,2}:\n",
       " 0.219415  0.590559  0.143175  0.291829   0.184854\n",
       " 0.126936  0.410569  0.299185  0.22243    0.792284\n",
       " 0.608528  0.394731  0.557154  0.0588954  0.503908\n",
       " 0.859499  0.31694   0.287758  0.340839   0.561728\n",
       " 0.290553  0.654032  0.73519   0.854072   0.248193)"
      ]
     },
     "execution_count": 80,
     "metadata": {},
     "output_type": "execute_result"
    }
   ],
   "source": [
    "B[:H], full(B)"
   ]
  },
  {
   "cell_type": "code",
   "execution_count": 75,
   "metadata": {
    "collapsed": false
   },
   "outputs": [
    {
     "data": {
      "text/html": [
       "hessfact<i>{T<:Union{Complex{Float32},Complex{Float64},Float32,Float64}}</i>(A::<b>Union{DenseArray{T<:Union{Complex{Float32},Complex{Float64},Float32,Float64},2},SubArray{T<:Union{Complex{Float32},Complex{Float64},Float32,Float64},2,A<:DenseArray{T,N},I<:Tuple{Vararg{Union{Colon,Int64,Range{Int64}}}},LD}}</b>) at <a href=\"https://github.com/JuliaLang/julia/tree/2ac304dfba75fad148d4070ef4f8a2e400c305bb/base/linalg/qr.jl#L432\" target=\"_blank\">linalg/qr.jl:432</a>"
      ],
      "text/plain": [
       "hessfact{T<:Union{Complex{Float32},Complex{Float64},Float32,Float64}}(A::Union{DenseArray{T<:Union{Complex{Float32},Complex{Float64},Float32,Float64},2},SubArray{T<:Union{Complex{Float32},Complex{Float64},Float32,Float64},2,A<:DenseArray{T,N},I<:Tuple{Vararg{Union{Colon,Int64,Range{Int64}}}},LD}}) at linalg/qr.jl:432"
      ]
     },
     "execution_count": 75,
     "metadata": {},
     "output_type": "execute_result"
    }
   ],
   "source": [
    "@which hessfact(A)"
   ]
  },
  {
   "cell_type": "code",
   "execution_count": 76,
   "metadata": {
    "collapsed": false,
    "scrolled": true
   },
   "outputs": [
    {
     "data": {
      "text/plain": [
       "(\n",
       "5x5 Array{Float64,2}:\n",
       " 2.11658  -0.0841776   0.374489    0.210543    0.0383052\n",
       " 0.0      -0.73642    -0.151548   -0.137995   -0.0752359\n",
       " 0.0       0.0         0.0341201   0.314458   -0.0396245\n",
       " 0.0       0.0        -0.55006     0.0341201   0.060631 \n",
       " 0.0       0.0         0.0         0.0         0.327769 ,\n",
       "\n",
       "5x5 Array{Float64,2}:\n",
       " 0.292807   0.253355   0.877512   0.143374   -0.24391  \n",
       " 0.425261  -0.400227  -0.159521   0.795862   -0.0112965\n",
       " 0.42585   -0.28592    0.206527  -0.319012    0.769727 \n",
       " 0.468949  -0.419819  -0.118126  -0.493727   -0.588319 \n",
       " 0.57633    0.719466  -0.384602  -0.0226376   0.0422082,\n",
       "\n",
       "Complex{Float64}[2.116580207077202 + 0.0im,-0.7364197999579702 + 0.0im,0.034120088168536455 + 0.4158976343164847im,0.034120088168536455 - 0.4158976343164847im,0.32776919784447467 + 0.0im])"
      ]
     },
     "execution_count": 76,
     "metadata": {},
     "output_type": "execute_result"
    }
   ],
   "source": [
    "schur(A)"
   ]
  },
  {
   "cell_type": "code",
   "execution_count": null,
   "metadata": {
    "collapsed": true
   },
   "outputs": [],
   "source": []
  }
 ],
 "metadata": {
  "kernelspec": {
   "display_name": "Julia 0.4.5",
   "language": "julia",
   "name": "julia-0.4"
  },
  "language_info": {
   "file_extension": ".jl",
   "mimetype": "application/julia",
   "name": "julia",
   "version": "0.4.5"
  }
 },
 "nbformat": 4,
 "nbformat_minor": 0
}
