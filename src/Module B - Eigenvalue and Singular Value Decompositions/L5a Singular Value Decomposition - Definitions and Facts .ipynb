{
 "cells": [
  {
   "cell_type": "markdown",
   "metadata": {},
   "source": [
    "# Singular Value Decomposition - Definitions and Facts\n",
    "\n",
    "---\n",
    "\n",
    "## Prerequisites\n",
    "\n",
    "The reader should be familiar with basic linear algebra concepts and notebooks related to\n",
    "eigenvalue decomposition.\n",
    "\n",
    " \n",
    "## Competences \n",
    "\n",
    "The reader should be able to undestand and check the facts about singular value decomposition.\n",
    "\n",
    "## Selected references\n",
    "\n",
    "There are many excellent books on the subject. Here we list a few:\n",
    "\n",
    "[J. W. Demmel, Applied Numerical Linear Algebra][Dem97]\n",
    "\n",
    "[G. H. Golub and C. F. Van Loan, Matrix Computations][GV13]\n",
    "\n",
    "[N. Higham, Accuracy and Stability of Numerical Algorithms][Hig02]\n",
    "\n",
    "[L. Hogben, ed., Handbook of Linear Algebra][Hog14]\n",
    "\n",
    "[G. W. Stewart, Matrix Algorithms, Vol. II: Eigensystems][Ste01]\n",
    "\n",
    "[L. N. Trefethen and D. Bau, III, Numerical Linear Algebra][TB97]\n",
    "\n",
    "\n",
    "[Dem97]: #1 \"J.W. Demmel, 'Applied Numerical Linear Algebra', SIAM, Philadelphia, 1997.\"\n",
    "  \n",
    "[GV13]: #1 \"G. H. Golub and C. F. Van Loan, 'Matrix Computations', 4th ed., The John Hopkins University Press, Baltimore, MD, 2013.\"\n",
    "  \n",
    "[Hig02]: #1 \"N. Higham, 'Accuracy and Stability of Numerical Algorithms', SIAM, Philadelphia, 2nd ed., 2002.\"\n",
    "    \n",
    "[Hog14]: #1 \"L. Hogben, ed., 'Handbook of Linear Algebra', CRC Press, Boca Raton, 2014.\"\n",
    "\n",
    "[Ste01]: #1 \"G. W. Stewart, 'Matrix Algorithms, Vol. II: Eigensystems', SIAM, Philadelphia, 2001.\" \n",
    "\n",
    "[TB97]: #1 \"L. N. Trefethen and D. Bau, III, 'Numerical Linear Algebra', SIAM, Philadelphia, 1997.\"\n",
    "\n",
    "\n",
    "    \n",
    "\n",
    "---"
   ]
  },
  {
   "cell_type": "markdown",
   "metadata": {},
   "source": [
    "## Singular value problems\n",
    "\n",
    "For more details and the proofs of the Facts below, see \n",
    "[R. C. Li, Matrix Perturbation Theory][Hog14] and \n",
    "[R. Mathias, Singular Values and Singular Value Inequalities][Hog14a] and the references therein.\n",
    "\n",
    "[Hog14]: #1 \"L. Hogben, ed., 'Handbook of Linear Algebra', pp. 21.6-21.8, CRC Press, Boca Raton, 2014.\"\n",
    "\n",
    "[Hog14a]: #1 \"L. Hogben, ed., 'Handbook of Linear Algebra', pp. 24.1-24.17, CRC Press, Boca Raton, 2014.\"\n",
    "\n",
    "### Definitions\n",
    "\n",
    "Let $A\\in\\mathbb{C}^{m\\times n}$ and let $q=\\min\\{m,n\\}$.\n",
    "\n",
    "The __singular value decomposition__ (SVD) of $A$ is $A=U\\Sigma V^*$,\n",
    "where $U\\in\\mathbb{C}^{m\\times m}$ and $V\\in\\mathbb{C}^{n\\times n}$ are unitary, and \n",
    "$\\Sigma=\\mathop{\\mathrm{diag}}(\\sigma_1,\\sigma_2,\\ldots)\\in\\mathbb{R}^{m\\times n}$ with all \n",
    "$\\sigma_j\\geq 0$.\n",
    "\n",
    "Here $\\sigma_j$ is the __singular value__, $u_j\\equiv U_{:,j}$ is the corresponding __left singular vector__, and $v_j\\equiv V_{:,j}$ is the corresponding __right singular vector__.\n",
    "\n",
    "The __set of singular values__ is $sv(A)=\\{\\sigma_1,\\sigma_2,\\ldots,\\sigma_{q}\\}$.\n",
    "\n",
    "We assume that singular values are ordered, $\\sigma_1\\geq\\sigma_2\\geq\\cdots\\sigma_q\\geq 0$.\n",
    "\n",
    "The __Jordan-Wielandt__ matrix is the Hermitian matrix \n",
    "$$\n",
    "J=\\begin{bmatrix}0 & A \\\\ A^* & 0 \\end{bmatrix}\n",
    "\\in \\mathbb{C}^{(m+n) \\times (m+n)}.\n",
    "$$"
   ]
  },
  {
   "cell_type": "markdown",
   "metadata": {},
   "source": [
    "### Facts\n",
    "\n",
    "There are many facts related to the singular value problem for general matrices. We state some basic ones:\n",
    "\n",
    "1. If $A\\in\\mathbb{R}^{m\\times n}$, then $U$ and $V$ are real.\n",
    "\n",
    "2. Singular values are unique.\n",
    "\n",
    "3. $\\sigma_j(A^T)=\\sigma_j(A^*)=\\sigma_j(\\bar A)=\\sigma_j(A)$ for $j=1,2,\\ldots,q$.\n",
    "\n",
    "3. $A v_j=\\sigma_j u_{j}$ and $A^* u_{j}=\\sigma_j v_{j}$ for $j=1,2,\\ldots,q$.\n",
    "\n",
    "3. $A=\\sigma_1 u_{1} v_{1}^* + \\sigma_2 u_{2} v_{2}^* +\\cdots +\n",
    "\\sigma_q u_{q} v_{q}^*$.\n",
    "\n",
    "3. _(Unitary invariance)_ For any unitary \n",
    "$U\\in\\mathbb{C}^{m\\times m}$ and $V\\in\\mathbb{C}^{n\\times n}$, \n",
    "$sv(A)=sv(UAV)$.\n",
    "\n",
    "4. There exist unitary matrices  $U\\in\\mathbb{C}^{m\\times m}$ and \n",
    "$V\\in\\mathbb{C}^{n\\times n}$ such that $A=UBV$ if and only if  $sv(A)=sv(B)$.\n",
    "\n",
    "5. SVD of $A$ is related to eigenvalue decompositions of Hermitian matrices $A^*A=V\\Sigma^T\\Sigma V^*$ and $AA^*=U\\Sigma\\Sigma^TU^*$. Thus, \n",
    "$\\sigma_j^2(A)=\\lambda_j(A^*A)=\\lambda_j(AA^*)$ for $j=1,2,\\ldots,q$.\n",
    "\n",
    "6. The eigenvalues of Jordan-Wielandt matrix are $\\pm \\sigma_1(A), \\pm\\sigma_2(A), \\cdots,\\pm\\sigma_q(A)$ together with $|m-n|$ zeros. The eigenvectors are obtained from an SVD of $A$. This relationship is used to deduce singular value results from the results for eigenvalues of Hermitian matrices.\n",
    "\n",
    "3. $\\mathop{\\mathrm{trace}}(|A|_{spr})=\\sum_{i=1}^q \\sigma_i$, where $|A|_{spr}=(A^*A)^{1/2}$.\n",
    "\n",
    "4. If $A$ is square, then $|\\det(A)|=\\prod_{i=1}^n \\sigma_i$.\n",
    "\n",
    "5. If $A$ is square, then $A$ is singular $\\Leftrightarrow$ $\\sigma_j(A)=0$ for some $j$.\n",
    "\n",
    "8. _(Min-max Theorem)_ It holds:\n",
    "\\begin{align*}\n",
    "\\sigma_k& =\\max_{\\dim(W)=k}\\min_{x\\in W, \\|x\\|_2=1} \\|Ax\\|_2\\\\\n",
    "& =\\min_{\\dim(W)=n-k+1}\\max_{x\\in W, \\|x\\|_2=1} \\|Ax\\|_2.\n",
    "\\end{align*} \n",
    "\n",
    "9. $\\|A\\|_2=\\sigma_1(A)$.\n",
    "\n",
    "9. For $B\\in\\mathbb{C}^{m\\times n}$,\n",
    "$$\n",
    "|\\mathop{\\mathrm{trace}}(AB^*)|\\leq \\sum_{j=1}^q \\sigma_j(A)\\sigma_j(B).\n",
    "$$\n",
    "\n",
    "10. _(Interlace Theorems)_ Let $B$ denote $A$ with the one of its rows _or_ columns deleted. Then\n",
    "$$\n",
    "\\sigma_{j+1}(A)\\leq \\sigma_j(B)\\leq \\sigma_j(A),\\quad j=1,\\ldots,q-1.\n",
    "$$\n",
    "Let $B$ denote $A$ with the one of its rows _and_ columns deleted. Then\n",
    "$$\n",
    "\\sigma_{j+2}(A)\\leq \\sigma_j(B)\\leq \\sigma_j(A),\\quad j=1,\\ldots,q-2.\n",
    "$$\n",
    "\n",
    "9. _(Weyl Inequalities)_ For $B\\in\\mathbb{C}^{m\\times n}$, it holds:\n",
    "\\begin{align*}\n",
    "   \\sigma_{j+k-1}(A+B)& \\leq \\sigma_j(A)+\\sigma_k(B), \\quad  j+k\\leq n+1,\\\\\n",
    "   \\sum_{j=1}^k \\sigma_j(A+B)& \\leq \\sum_{j=1}^k \\sigma_j(A) + \\sum_{j=1}^k \\sigma_j(A), \n",
    "   \\quad k=1,\\ldots,q.\n",
    "\\end{align*}"
   ]
  },
  {
   "cell_type": "markdown",
   "metadata": {},
   "source": [
    "### Example - Symbolic computation"
   ]
  },
  {
   "cell_type": "code",
   "execution_count": 1,
   "metadata": {
    "collapsed": false
   },
   "outputs": [],
   "source": [
    "using SymPy"
   ]
  },
  {
   "cell_type": "code",
   "execution_count": 2,
   "metadata": {
    "collapsed": false
   },
   "outputs": [
    {
     "data": {
      "text/plain": [
       "3×3 Array{Int64,2}:\n",
       "  3   2   1\n",
       " -5  -1  -4\n",
       "  5   0   2"
      ]
     },
     "execution_count": 2,
     "metadata": {},
     "output_type": "execute_result"
    }
   ],
   "source": [
    "A=[  3   2   1\n",
    " -5  -1  -4\n",
    "  5   0   2]"
   ]
  },
  {
   "cell_type": "code",
   "execution_count": 3,
   "metadata": {
    "collapsed": false
   },
   "outputs": [
    {
     "data": {
      "text/plain": [
       "(x,)"
      ]
     },
     "execution_count": 3,
     "metadata": {},
     "output_type": "execute_result"
    }
   ],
   "source": [
    "@vars x"
   ]
  },
  {
   "cell_type": "code",
   "execution_count": 4,
   "metadata": {
    "collapsed": false
   },
   "outputs": [
    {
     "data": {
      "text/plain": [
       "3×3 Array{Int64,2}:\n",
       " 59  11  33\n",
       " 11   5   6\n",
       " 33   6  21"
      ]
     },
     "execution_count": 4,
     "metadata": {},
     "output_type": "execute_result"
    }
   ],
   "source": [
    "B=A'*A"
   ]
  },
  {
   "cell_type": "code",
   "execution_count": 5,
   "metadata": {
    "collapsed": false
   },
   "outputs": [
    {
     "data": {
      "text/latex": [
       "$$- x^{3} + 85 x^{2} - 393 x + 441$$"
      ],
      "text/plain": [
       "   3       2              \n",
       "- x  + 85⋅x  - 393⋅x + 441"
      ]
     },
     "execution_count": 5,
     "metadata": {},
     "output_type": "execute_result"
    }
   ],
   "source": [
    "# Characteristic polynomial p_B(λ)\n",
    "p(x)=simplify(det(B-x*I))\n",
    "p(x)"
   ]
  },
  {
   "cell_type": "code",
   "execution_count": 6,
   "metadata": {
    "collapsed": false
   },
   "outputs": [
    {
     "data": {
      "text/plain": [
       "3-element Array{Rational{Int64},1}:\n",
       "                3//1               \n",
       " 2064549086305011//1125899906842624\n",
       " 5641202704674385//70368744177664  "
      ]
     },
     "execution_count": 6,
     "metadata": {},
     "output_type": "execute_result"
    }
   ],
   "source": [
    "λ=map(Rational,solve(p(x),x))"
   ]
  },
  {
   "cell_type": "code",
   "execution_count": 7,
   "metadata": {
    "collapsed": false
   },
   "outputs": [
    {
     "data": {
      "text/plain": [
       "3×3 Array{Any,2}:\n",
       " -3.2754f-7  -0.519818  -0.854277\n",
       "  0.948684    0.270146  -0.164381\n",
       " -0.316227    0.810438  -0.493142"
      ]
     },
     "execution_count": 7,
     "metadata": {},
     "output_type": "execute_result"
    }
   ],
   "source": [
    "V=Array(Any,3,3)\n",
    "for j=1:3\n",
    "    V[:,j]=nullspace(B-λ[j]*I)\n",
    "end\n",
    "V"
   ]
  },
  {
   "cell_type": "code",
   "execution_count": 8,
   "metadata": {
    "collapsed": false
   },
   "outputs": [
    {
     "data": {
      "text/plain": [
       "3×3 Array{Any,2}:\n",
       "  0.912871  -0.154138  -0.378032\n",
       "  0.182574  -0.67409    0.71573 \n",
       " -0.365148  -0.722388  -0.587215"
      ]
     },
     "execution_count": 8,
     "metadata": {},
     "output_type": "execute_result"
    }
   ],
   "source": [
    "U=Array(Any,3,3)\n",
    "for j=1:3\n",
    "    U[:,j]=nullspace(A*A'-λ[j]*I)\n",
    "end\n",
    "U"
   ]
  },
  {
   "cell_type": "code",
   "execution_count": 9,
   "metadata": {
    "collapsed": false
   },
   "outputs": [
    {
     "data": {
      "text/plain": [
       "3-element Array{Float64,1}:\n",
       " 1.73205\n",
       " 1.35414\n",
       " 8.95356"
      ]
     },
     "execution_count": 9,
     "metadata": {},
     "output_type": "execute_result"
    }
   ],
   "source": [
    "σ=sqrt(λ)"
   ]
  },
  {
   "cell_type": "code",
   "execution_count": 10,
   "metadata": {
    "collapsed": false
   },
   "outputs": [
    {
     "data": {
      "text/plain": [
       "3×3 Array{Float64,2}:\n",
       "  2.02284e-7   3.05213e-7   9.51424e-7\n",
       "  9.53544e-7  -6.66283e-7  -7.23387e-7\n",
       " -7.64795e-7   1.85427e-8   3.64772e-7"
      ]
     },
     "execution_count": 10,
     "metadata": {},
     "output_type": "execute_result"
    }
   ],
   "source": [
    "A-U*diagm(σ)*V'"
   ]
  },
  {
   "cell_type": "code",
   "execution_count": 11,
   "metadata": {
    "collapsed": false
   },
   "outputs": [
    {
     "data": {
      "text/plain": [
       "(\n",
       "[-0.378032 -0.912871 -0.154137; 0.71573 -0.182574 -0.67409; -0.587215 0.365148 -0.722388],\n",
       "\n",
       "[8.95356,1.73205,1.35414],\n",
       "[-0.854277 0.0 -0.519818; -0.164381 -0.948683 0.270146; -0.493143 0.316228 0.810438])"
      ]
     },
     "execution_count": 11,
     "metadata": {},
     "output_type": "execute_result"
    }
   ],
   "source": [
    "svd(A)"
   ]
  },
  {
   "cell_type": "code",
   "execution_count": 12,
   "metadata": {
    "collapsed": false
   },
   "outputs": [
    {
     "data": {
      "text/plain": [
       "3×3 Array{Any,2}:\n",
       " -3.2754f-7  -0.519818  -0.854277\n",
       "  0.948684    0.270146  -0.164381\n",
       " -0.316227    0.810438  -0.493142"
      ]
     },
     "execution_count": 12,
     "metadata": {},
     "output_type": "execute_result"
    }
   ],
   "source": [
    "V"
   ]
  },
  {
   "cell_type": "markdown",
   "metadata": {},
   "source": [
    "### Example - Random complex matrix"
   ]
  },
  {
   "cell_type": "code",
   "execution_count": 13,
   "metadata": {
    "collapsed": false
   },
   "outputs": [
    {
     "data": {
      "text/plain": [
       "5×3 Array{Complex{Float64},2}:\n",
       "  0.932001+0.497349im  0.549128+0.365893im   0.0518003+0.576645im \n",
       "  0.916104+0.717342im  0.425278+0.368326im    0.763184+0.0517265im\n",
       " 0.0709602+0.758937im  0.877229+0.946184im    0.129196+0.621388im \n",
       "  0.309679+0.730288im  0.227962+0.469102im    0.388402+0.0936242im\n",
       "  0.263442+0.648308im  0.177297+0.0203897im   0.918352+0.763066im "
      ]
     },
     "execution_count": 13,
     "metadata": {},
     "output_type": "execute_result"
    }
   ],
   "source": [
    "m=5\n",
    "n=3\n",
    "q=min(m,n)\n",
    "A=rand(m,n)+im*rand(m,n)"
   ]
  },
  {
   "cell_type": "code",
   "execution_count": 14,
   "metadata": {
    "collapsed": false
   },
   "outputs": [
    {
     "data": {
      "text/plain": [
       "5×5 Array{Complex{Float64},2}:\n",
       " -0.290943-0.317969im  0.241703-0.322874im  …  -0.118236-0.396656im \n",
       " -0.410504-0.298477im  0.125317+0.342299im     -0.222182+0.658536im \n",
       " -0.116723-0.509726im  0.288008-0.318103im      0.042185-0.117987im \n",
       " -0.154879-0.302109im  0.133489+0.277729im     0.0517681+0.0620829im\n",
       " -0.228657-0.340087im  -0.63659+0.141847im      0.554367-0.126858im "
      ]
     },
     "execution_count": 14,
     "metadata": {},
     "output_type": "execute_result"
    }
   ],
   "source": [
    "U,σ,V=svd(A, thin=false)\n",
    "U"
   ]
  },
  {
   "cell_type": "code",
   "execution_count": 15,
   "metadata": {
    "collapsed": false
   },
   "outputs": [
    {
     "data": {
      "text/plain": [
       "3-element Array{Float64,1}:\n",
       " 2.83049 \n",
       " 1.17048 \n",
       " 0.645814"
      ]
     },
     "execution_count": 15,
     "metadata": {},
     "output_type": "execute_result"
    }
   ],
   "source": [
    "σ"
   ]
  },
  {
   "cell_type": "code",
   "execution_count": 16,
   "metadata": {
    "collapsed": false
   },
   "outputs": [
    {
     "data": {
      "text/plain": [
       "3×3 Array{Complex{Float64},2}:\n",
       " -0.693844-0.0im        0.318218-0.0im       0.646002-0.0im     \n",
       " -0.483949-0.15278im    0.167765-0.580153im  -0.60243+0.121686im\n",
       " -0.500588-0.102195im  -0.529096+0.504055im  -0.27703-0.35806im "
      ]
     },
     "execution_count": 16,
     "metadata": {},
     "output_type": "execute_result"
    }
   ],
   "source": [
    "V"
   ]
  },
  {
   "cell_type": "code",
   "execution_count": 17,
   "metadata": {
    "collapsed": false
   },
   "outputs": [
    {
     "data": {
      "text/plain": [
       "(2.4396095039930115e-15,1.542194216808028e-15,1.5339294760862833e-15)"
      ]
     },
     "execution_count": 17,
     "metadata": {},
     "output_type": "execute_result"
    }
   ],
   "source": [
    "norm(A-U[:,1:q]*diagm(σ)*V'), norm(U'*U-I), norm(V'*V-I)"
   ]
  },
  {
   "cell_type": "code",
   "execution_count": 18,
   "metadata": {
    "collapsed": false
   },
   "outputs": [
    {
     "name": "stdout",
     "output_type": "stream",
     "text": [
      "k = rand(1:q) = 1\n"
     ]
    },
    {
     "data": {
      "text/plain": [
       "(9.930136612989092e-16,1.1226435567921847e-15)"
      ]
     },
     "execution_count": 18,
     "metadata": {},
     "output_type": "execute_result"
    }
   ],
   "source": [
    "# Fact 4\n",
    "@show k=rand(1:q)\n",
    "norm(A*V[:,k]-σ[k]*U[:,k],Inf), norm(A'*U[:,k]-σ[k]*V[:,k],Inf)"
   ]
  },
  {
   "cell_type": "code",
   "execution_count": 19,
   "metadata": {
    "collapsed": false
   },
   "outputs": [
    {
     "data": {
      "text/plain": [
       "([0.417075,1.37003,8.01167],\n",
       "Complex{Float64}[-0.395307+0.510931im -0.2304-0.219496im -0.679822+0.138786im; 0.272401-0.550933im -0.521637+0.304331im -0.504728-0.0528914im; 0.452717+0.0im 0.730763+0.0im -0.510914-0.0im])"
      ]
     },
     "execution_count": 19,
     "metadata": {},
     "output_type": "execute_result"
    }
   ],
   "source": [
    "λV,V1=eig(A'*A)"
   ]
  },
  {
   "cell_type": "code",
   "execution_count": 20,
   "metadata": {
    "collapsed": false
   },
   "outputs": [
    {
     "data": {
      "text/plain": [
       "3-element Array{Float64,1}:\n",
       " 0.645814\n",
       " 1.17048 \n",
       " 2.83049 "
      ]
     },
     "execution_count": 20,
     "metadata": {},
     "output_type": "execute_result"
    }
   ],
   "source": [
    "sqrt(λV)"
   ]
  },
  {
   "cell_type": "code",
   "execution_count": 21,
   "metadata": {
    "collapsed": false
   },
   "outputs": [
    {
     "data": {
      "text/plain": [
       "([-9.4369e-16,-3.63861e-16,0.417075,1.37003,8.01167],\n",
       "Complex{Float64}[-0.0906746-0.179896im 0.0963215+0.425195im … -0.306139+0.262578im -0.426207+0.064031im; 0.520389+0.0907525im 0.301669-0.465222im … -0.0478714-0.361361im -0.476741+0.174126im; … ; -0.787138-0.207382im 0.109042-0.31244im … -0.0698906-0.300113im -0.337127-0.0400353im; 0.0+0.0im -0.601097-0.0im … 0.652202+0.0im -0.409809-0.0im])"
      ]
     },
     "execution_count": 21,
     "metadata": {},
     "output_type": "execute_result"
    }
   ],
   "source": [
    "λU,U1=eig(A*A')"
   ]
  },
  {
   "cell_type": "code",
   "execution_count": 22,
   "metadata": {
    "collapsed": false
   },
   "outputs": [
    {
     "data": {
      "text/plain": [
       "3×3 Array{Complex{Float64},2}:\n",
       " -0.693844-0.0im        0.318218-0.0im       0.646002-0.0im     \n",
       " -0.483949-0.15278im    0.167765-0.580153im  -0.60243+0.121686im\n",
       " -0.500588-0.102195im  -0.529096+0.504055im  -0.27703-0.35806im "
      ]
     },
     "execution_count": 22,
     "metadata": {},
     "output_type": "execute_result"
    }
   ],
   "source": [
    "V"
   ]
  },
  {
   "cell_type": "code",
   "execution_count": 23,
   "metadata": {
    "collapsed": false
   },
   "outputs": [
    {
     "data": {
      "text/plain": [
       "3×3 Array{Complex{Float64},2}:\n",
       " -0.395307+0.510931im    -0.2304-0.219496im  -0.679822+0.138786im \n",
       "  0.272401-0.550933im  -0.521637+0.304331im  -0.504728-0.0528914im\n",
       "  0.452717+0.0im        0.730763+0.0im       -0.510914-0.0im      "
      ]
     },
     "execution_count": 23,
     "metadata": {},
     "output_type": "execute_result"
    }
   ],
   "source": [
    "V1"
   ]
  },
  {
   "cell_type": "markdown",
   "metadata": {},
   "source": [
    "__Explain the non-uniqueness of $U$ and $V$!__"
   ]
  },
  {
   "cell_type": "code",
   "execution_count": 24,
   "metadata": {
    "collapsed": false
   },
   "outputs": [
    {
     "data": {
      "text/plain": [
       "8×8 Array{Complex{Float64},2}:\n",
       "       0.0+0.0im            0.0+0.0im        …  0.0518003+0.576645im \n",
       "       0.0+0.0im            0.0+0.0im            0.763184+0.0517265im\n",
       "       0.0+0.0im            0.0+0.0im            0.129196+0.621388im \n",
       "       0.0+0.0im            0.0+0.0im            0.388402+0.0936242im\n",
       "       0.0+0.0im            0.0+0.0im            0.918352+0.763066im \n",
       "  0.932001-0.497349im  0.916104-0.717342im   …        0.0+0.0im      \n",
       "  0.549128-0.365893im  0.425278-0.368326im            0.0+0.0im      \n",
       " 0.0518003-0.576645im  0.763184-0.0517265im           0.0+0.0im      "
      ]
     },
     "execution_count": 24,
     "metadata": {},
     "output_type": "execute_result"
    }
   ],
   "source": [
    "# Jordan-Wielandt matrix\n",
    "J=[zeros(A*A') A; A' zeros(A'*A)]"
   ]
  },
  {
   "cell_type": "code",
   "execution_count": 25,
   "metadata": {
    "collapsed": false
   },
   "outputs": [
    {
     "data": {
      "text/plain": [
       "([-2.83049,-1.17048,-0.645814,1.68095e-17,1.19662e-16,0.645814,1.17048,2.83049],\n",
       "Complex{Float64}[-0.246544-0.179144im 0.281222-0.0474135im … 0.281222-0.0474135im -0.246544-0.179144im; -0.32662-0.148729im -0.102794+0.236368im … -0.102794+0.236368im -0.32662-0.148729im; … ; 0.356897+0.0373999im -0.368853+0.215194im … 0.368853-0.215194im -0.356897-0.0373999im; 0.36127+0.0im 0.516728+0.0im … -0.516728-0.0im -0.36127-0.0im])"
      ]
     },
     "execution_count": 25,
     "metadata": {},
     "output_type": "execute_result"
    }
   ],
   "source": [
    "λJ,UJ=eig(J)"
   ]
  },
  {
   "cell_type": "markdown",
   "metadata": {},
   "source": [
    "### Example - Random real matrix"
   ]
  },
  {
   "cell_type": "code",
   "execution_count": 26,
   "metadata": {
    "collapsed": false
   },
   "outputs": [
    {
     "data": {
      "text/plain": [
       "8×5 Array{Int64,2}:\n",
       "  9   3   6  -9   4\n",
       "  3   2  -4   8  -2\n",
       "  1  -9   5  -1   5\n",
       "  4  -9   7  -3  -7\n",
       " -2  -8  -7  -1   4\n",
       "  1  -3   2   7  -7\n",
       " -1  -9  -7   0  -6\n",
       " -6   5   9   3  -4"
      ]
     },
     "execution_count": 26,
     "metadata": {},
     "output_type": "execute_result"
    }
   ],
   "source": [
    "m=8\n",
    "n=5\n",
    "q=min(m,n)\n",
    "A=rand(-9:9,m,n)"
   ]
  },
  {
   "cell_type": "code",
   "execution_count": 27,
   "metadata": {
    "collapsed": false
   },
   "outputs": [
    {
     "data": {
      "text/plain": [
       "(\n",
       "[0.535412 0.479685 … 0.435466 -0.00467364; -0.17208 -0.335768 … 0.4759 0.530452; … ; -0.592506 0.132183 … 0.149116 -0.436216; 0.291067 -0.319524 … -0.476686 -0.136223],\n",
       "\n",
       "[20.2195,18.7785,17.1087,10.7559,8.19412],\n",
       "[0.16274 0.367467 … 0.839978 0.364553; 0.676537 -0.639189 … 0.225544 -0.180308; … ; -0.301359 -0.597505 … 0.0172811 0.700214; 0.254584 0.216777 … -0.382872 0.541338])"
      ]
     },
     "execution_count": 27,
     "metadata": {},
     "output_type": "execute_result"
    }
   ],
   "source": [
    "U,σ,V=svd(A)"
   ]
  },
  {
   "cell_type": "code",
   "execution_count": 28,
   "metadata": {
    "collapsed": false
   },
   "outputs": [
    {
     "data": {
      "text/plain": [
       "(75.05670313141746,75.05670313141742)"
      ]
     },
     "execution_count": 28,
     "metadata": {},
     "output_type": "execute_result"
    }
   ],
   "source": [
    "# Fact 10\n",
    "trace(sqrtm(A'*A)), sum(σ)"
   ]
  },
  {
   "cell_type": "code",
   "execution_count": 29,
   "metadata": {
    "collapsed": false
   },
   "outputs": [
    {
     "data": {
      "text/plain": [
       "(-0.03952140814897745,0.03952140814897753)"
      ]
     },
     "execution_count": 29,
     "metadata": {},
     "output_type": "execute_result"
    }
   ],
   "source": [
    "# Fact 11\n",
    "B=rand(n,n)\n",
    "det(B), prod(svdvals(B))"
   ]
  },
  {
   "cell_type": "code",
   "execution_count": 30,
   "metadata": {
    "collapsed": false
   },
   "outputs": [
    {
     "data": {
      "text/plain": [
       "(20.219465281720783,20.219465281720783)"
      ]
     },
     "execution_count": 30,
     "metadata": {},
     "output_type": "execute_result"
    }
   ],
   "source": [
    "# Fact 14\n",
    "norm(A), σ[1]"
   ]
  },
  {
   "cell_type": "code",
   "execution_count": 31,
   "metadata": {
    "collapsed": false
   },
   "outputs": [
    {
     "data": {
      "text/plain": [
       "(21.710438162114606,118.9613657940937)"
      ]
     },
     "execution_count": 31,
     "metadata": {},
     "output_type": "execute_result"
    }
   ],
   "source": [
    "# Fact 15\n",
    "B=rand(m,n)\n",
    "abs(trace(A*B')), sum(svdvals(A)⋅svdvals(B))"
   ]
  },
  {
   "cell_type": "code",
   "execution_count": 32,
   "metadata": {
    "collapsed": false
   },
   "outputs": [
    {
     "data": {
      "text/plain": [
       "(2,[20.2195,18.7785,17.1087,10.7559,8.19412],[20.0649,17.7701,17.106,9.8676,5.62497],[19.4918,17.2413,11.4509,8.64202])"
      ]
     },
     "execution_count": 32,
     "metadata": {},
     "output_type": "execute_result"
    }
   ],
   "source": [
    "# Interlace Theorems (repeat several times)\n",
    "j=rand(1:q)\n",
    "σBrow=svdvals(A[[1:j-1;j+1:m],:])\n",
    "σBcol=svdvals(A[:,[1:j-1;j+1:n]])\n",
    "j, σ, σBrow, σBcol"
   ]
  },
  {
   "cell_type": "code",
   "execution_count": 33,
   "metadata": {
    "collapsed": false
   },
   "outputs": [
    {
     "data": {
      "text/plain": [
       "(Bool[true,true,true,true,true],Bool[true,true,true,true],Bool[true,true,true,true],Bool[true,true,true,true])"
      ]
     },
     "execution_count": 33,
     "metadata": {},
     "output_type": "execute_result"
    }
   ],
   "source": [
    "σ[1:end].>=σBrow, σ[1:end-1].>=σBcol, σ[2:end].<=σBrow[1:end-1], σ[2:end].<=σBcol"
   ]
  },
  {
   "cell_type": "code",
   "execution_count": 34,
   "metadata": {
    "collapsed": false
   },
   "outputs": [
    {
     "data": {
      "text/plain": [
       "5×3 Array{Float64,2}:\n",
       " 19.9823   20.2195   3.51047 \n",
       " 18.6219   18.7785   0.851435\n",
       " 16.8212   17.1087   0.823055\n",
       " 10.7905   10.7559   0.560236\n",
       "  9.52517   8.19412  0.470984"
      ]
     },
     "execution_count": 34,
     "metadata": {},
     "output_type": "execute_result"
    }
   ],
   "source": [
    "# Weyl Inequalities\n",
    "B=rand(m,n)\n",
    "μ=svdvals(B)\n",
    "γ=svdvals(A+B)\n",
    "[γ σ μ]"
   ]
  },
  {
   "cell_type": "code",
   "execution_count": 35,
   "metadata": {
    "collapsed": false
   },
   "outputs": [
    {
     "name": "stdout",
     "output_type": "stream",
     "text": [
      "k = rand(1:q) = 1\n"
     ]
    },
    {
     "data": {
      "text/plain": [
       "(19.982344004800378,23.729940081485523)"
      ]
     },
     "execution_count": 35,
     "metadata": {},
     "output_type": "execute_result"
    }
   ],
   "source": [
    "@show k=rand(1:q)\n",
    "sum(γ[1:k]),sum(σ[1:k])+sum(μ[1:k])"
   ]
  },
  {
   "cell_type": "markdown",
   "metadata": {},
   "source": [
    "## Matrix approximation\n",
    "\n",
    "Let $A=U\\Sigma V^*$, let $\\tilde \\Sigma$ be equal to $\\Sigma$ except that \n",
    "$\\tilde \\Sigma_{jj}=0$ for $j>k$, and let $\\tilde A=U\\tilde \\Sigma V^*$. \n",
    "Then $\\mathop{\\mathrm{rank}}(\\tilde A)\\leq k$ and\n",
    "\\begin{align*}\n",
    "\\min\\{\\|A-B\\|_2: \\mathop{\\mathrm{rank}}(B)\\leq k\\} & =\\|A-\\tilde A\\|_2=\\sigma_{k+1}(A)\\\\\n",
    "\\min\\{\\|A-B\\|_F: \\mathop{\\mathrm{rank}}(B)\\leq k\\} & =\\|A-\\tilde A\\|_F=\n",
    "\\bigg(\\sum_{j=k+1}^{q}\\sigma_{j}^2(A)\\bigg)^{1/2}.\n",
    "\\end{align*}\n",
    "\n",
    "This is the __Eckart-Young-Mirsky Theorem__."
   ]
  },
  {
   "cell_type": "code",
   "execution_count": 36,
   "metadata": {
    "collapsed": false
   },
   "outputs": [
    {
     "data": {
      "text/plain": [
       "8×5 Array{Int64,2}:\n",
       "  9   3   6  -9   4\n",
       "  3   2  -4   8  -2\n",
       "  1  -9   5  -1   5\n",
       "  4  -9   7  -3  -7\n",
       " -2  -8  -7  -1   4\n",
       "  1  -3   2   7  -7\n",
       " -1  -9  -7   0  -6\n",
       " -6   5   9   3  -4"
      ]
     },
     "execution_count": 36,
     "metadata": {},
     "output_type": "execute_result"
    }
   ],
   "source": [
    "A"
   ]
  },
  {
   "cell_type": "code",
   "execution_count": 37,
   "metadata": {
    "collapsed": false
   },
   "outputs": [
    {
     "data": {
      "text/plain": [
       "5-element Array{Float64,1}:\n",
       " 20.2195 \n",
       " 18.7785 \n",
       " 17.1087 \n",
       " 10.7559 \n",
       "  8.19412"
      ]
     },
     "execution_count": 37,
     "metadata": {},
     "output_type": "execute_result"
    }
   ],
   "source": [
    "σ"
   ]
  },
  {
   "cell_type": "code",
   "execution_count": 38,
   "metadata": {
    "collapsed": false
   },
   "outputs": [
    {
     "name": "stdout",
     "output_type": "stream",
     "text": [
      "k = rand(1:q - 1) = 4\n"
     ]
    },
    {
     "data": {
      "text/plain": [
       "8×5 Array{Float64,2}:\n",
       "  5.07965     1.93669   7.46501  -9.05413   5.81404 \n",
       " -2.88418     1.62923  -3.39237   4.868    -2.39315 \n",
       "  3.05934    -7.02111   2.38572  -4.50825   0.434893\n",
       "  2.94972    -9.62264   7.83118  -2.17343  -5.65498 \n",
       "  0.182945   -7.24863  -8.02263  -1.36649   2.5848  \n",
       " -1.86827    -3.08293   2.16916   5.22974  -7.44039 \n",
       " -1.04416   -10.0062   -5.69217   2.47513  -3.45096 \n",
       " -1.28636     5.95514   7.65849   3.8702   -5.3588  "
      ]
     },
     "execution_count": 38,
     "metadata": {},
     "output_type": "execute_result"
    }
   ],
   "source": [
    "@show k=rand(1:q-1)\n",
    "k=3\n",
    "B=U*diagm([σ[1:k];zeros(q-k)])*V'"
   ]
  },
  {
   "cell_type": "code",
   "execution_count": 39,
   "metadata": {
    "collapsed": false
   },
   "outputs": [
    {
     "data": {
      "text/plain": [
       "8×5 Array{Int64,2}:\n",
       "  9   3   6  -9   4\n",
       "  3   2  -4   8  -2\n",
       "  1  -9   5  -1   5\n",
       "  4  -9   7  -3  -7\n",
       " -2  -8  -7  -1   4\n",
       "  1  -3   2   7  -7\n",
       " -1  -9  -7   0  -6\n",
       " -6   5   9   3  -4"
      ]
     },
     "execution_count": 39,
     "metadata": {},
     "output_type": "execute_result"
    }
   ],
   "source": [
    "A"
   ]
  },
  {
   "cell_type": "code",
   "execution_count": 40,
   "metadata": {
    "collapsed": false
   },
   "outputs": [
    {
     "data": {
      "text/plain": [
       "(10.755898615699365,10.755898615699362)"
      ]
     },
     "execution_count": 40,
     "metadata": {},
     "output_type": "execute_result"
    }
   ],
   "source": [
    "norm(A-B), σ[k+1]"
   ]
  },
  {
   "cell_type": "code",
   "execution_count": 41,
   "metadata": {
    "collapsed": false
   },
   "outputs": [
    {
     "data": {
      "text/plain": [
       "(13.521574043778843,13.52157404377884)"
      ]
     },
     "execution_count": 41,
     "metadata": {},
     "output_type": "execute_result"
    }
   ],
   "source": [
    "vecnorm(A-B),vecnorm(σ[k+1:q])"
   ]
  },
  {
   "cell_type": "code",
   "execution_count": null,
   "metadata": {
    "collapsed": true
   },
   "outputs": [],
   "source": []
  }
 ],
 "metadata": {
  "anaconda-cloud": {},
  "kernelspec": {
   "display_name": "Julia 0.5.1",
   "language": "julia",
   "name": "julia-0.5"
  },
  "language_info": {
   "file_extension": ".jl",
   "mimetype": "application/julia",
   "name": "julia",
   "version": "0.5.1"
  }
 },
 "nbformat": 4,
 "nbformat_minor": 0
}
