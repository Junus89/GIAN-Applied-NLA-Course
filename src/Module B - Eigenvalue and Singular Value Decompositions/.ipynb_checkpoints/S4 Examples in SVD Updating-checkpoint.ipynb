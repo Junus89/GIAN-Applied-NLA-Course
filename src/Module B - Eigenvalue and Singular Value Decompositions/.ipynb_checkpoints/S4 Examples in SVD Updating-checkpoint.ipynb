{
 "cells": [
  {
   "cell_type": "markdown",
   "metadata": {},
   "source": [
    "# Solutions 4 - Examples in SVD Updating\n",
    "\n",
    "---"
   ]
  },
  {
   "cell_type": "markdown",
   "metadata": {},
   "source": [
    "## Assignment 1"
   ]
  },
  {
   "cell_type": "code",
   "execution_count": 1,
   "metadata": {
    "collapsed": false
   },
   "outputs": [],
   "source": [
    "# Pkg.clone(\"git://github.com/aaw/IncrementalSVD.jl.git\")"
   ]
  },
  {
   "cell_type": "code",
   "execution_count": 2,
   "metadata": {
    "collapsed": false
   },
   "outputs": [],
   "source": [
    "import IncrementalSVD"
   ]
  },
  {
   "cell_type": "code",
   "execution_count": 3,
   "metadata": {
    "collapsed": false
   },
   "outputs": [
    {
     "name": "stdout",
     "output_type": "stream",
     "text": [
      "                IncrementalSVD     56 KB     Module\n",
      "                        Rating    136 bytes  DataType\n",
      "                     RatingSet    148 bytes  DataType\n",
      "                  RatingsModel    160 bytes  DataType\n",
      "             cosine_similarity   1480 bytes  Function\n",
      "          get_predicted_rating   1350 bytes  Function\n",
      "                 item_features    597 bytes  Function\n",
      "                   item_search   1223 bytes  Function\n",
      "                         items    529 bytes  Function\n",
      "    load_book_crossing_dataset   2219 bytes  Function\n",
      "  load_large_movielens_dataset    966 bytes  Function\n",
      "  load_small_movielens_dataset    966 bytes  Function\n",
      "                          rmse   1649 bytes  Function\n",
      "                 similar_items   1584 bytes  Function\n",
      "                 similar_users   1608 bytes  Function\n",
      "                 split_ratings   2489 bytes  Function\n",
      "                         train   2091 bytes  Function\n",
      "               truncate_model!   1078 bytes  Function\n",
      "                 user_features    609 bytes  Function\n",
      "                  user_ratings   1753 bytes  Function\n",
      "                         users    529 bytes  Function\n"
     ]
    }
   ],
   "source": [
    "whos(IncrementalSVD)"
   ]
  },
  {
   "cell_type": "code",
   "execution_count": 4,
   "metadata": {
    "collapsed": false
   },
   "outputs": [
    {
     "name": "stdout",
     "output_type": "stream",
     "text": [
      "Reusing existing downloaded files...\n",
      "Loading ratings 100% Time: 0:00:03\n"
     ]
    }
   ],
   "source": [
    "rating_set = IncrementalSVD.load_small_movielens_dataset();"
   ]
  },
  {
   "cell_type": "code",
   "execution_count": 7,
   "metadata": {
    "collapsed": false
   },
   "outputs": [
    {
     "name": "stdout",
     "output_type": "stream",
     "text": [
      "Computing truncated rank 25 SVD 100% Time: 0:02:14\n"
     ]
    }
   ],
   "source": [
    "# This takes several minutes\n",
    "model = IncrementalSVD.train(rating_set, 25);"
   ]
  },
  {
   "cell_type": "code",
   "execution_count": 8,
   "metadata": {
    "collapsed": false
   },
   "outputs": [
    {
     "data": {
      "text/plain": [
       "Base.KeyIterator for a Dict{AbstractString,Int32} with 3706 entries. Keys:\n",
       "  \"Fried Green Tomatoes (1991)\"\n",
       "  \"Milk Money (1994)\"\n",
       "  \"From Russia with Love (1963)\"\n",
       "  \"House II: The Second Story (1987)\"\n",
       "  \"Held Up (2000)\"\n",
       "  \"Missing in Action 2: The Beginning (1985)\"\n",
       "  \"Murder, My Sweet (1944)\"\n",
       "  \"Hidden, The (1987)\"\n",
       "  \"Cable Guy, The (1996)\"\n",
       "  \"Big Kahuna, The (2000)\"\n",
       "  \"Addams Family Values (1993)\"\n",
       "  \"Farinelli: il castrato (1994)\"\n",
       "  \"Education of Little Tree, The (1997)\"\n",
       "  \"In God's Hands (1998)\"\n",
       "  \"Last Man Standing (1996)\"\n",
       "  \"Sixth Sense, The (1999)\"\n",
       "  \"Star Maps (1997)\"\n",
       "  \"Girl, Interrupted (1999)\"\n",
       "  \"Stand by Me (1986)\"\n",
       "  \"Rob Roy (1995)\"\n",
       "  \"Caligula (1980)\"\n",
       "  \"Flirting With Disaster (1996)\"\n",
       "  \"Hook (1991)\"\n",
       "  \"Institute Benjamenta, or This Dream People Call Human Life (1995)\"\n",
       "  ⋮"
      ]
     },
     "execution_count": 8,
     "metadata": {},
     "output_type": "execute_result"
    }
   ],
   "source": [
    "IncrementalSVD.items(model)"
   ]
  },
  {
   "cell_type": "code",
   "execution_count": 5,
   "metadata": {
    "collapsed": false
   },
   "outputs": [
    {
     "data": {
      "text/plain": [
       "Dict{AbstractString,Int32} with 3706 entries:\n",
       "  \"Fried Green Tomatoes (… => 594\n",
       "  \"Milk Money (1994)\"      => 1361\n",
       "  \"From Russia with Love … => 729\n",
       "  \"House II: The Second S… => 1247\n",
       "  \"Held Up (2000)\"         => 3549\n",
       "  \"Missing in Action 2: T… => 2177\n",
       "  \"Murder, My Sweet (1944… => 996\n",
       "  \"Hidden, The (1987)\"     => 981\n",
       "  \"Cable Guy, The (1996)\"  => 669\n",
       "  \"Big Kahuna, The (2000)\" => 893\n",
       "  \"Addams Family Values (… => 1857\n",
       "  \"Farinelli: il castrato… => 1945\n",
       "  \"Education of Little Tr… => 2759\n",
       "  \"In God's Hands (1998)\"  => 2814\n",
       "  \"Last Man Standing (199… => 1840\n",
       "  \"Sixth Sense, The (1999… => 39\n",
       "  \"Star Maps (1997)\"       => 2670\n",
       "  \"Girl, Interrupted (199… => 32\n",
       "  \"Stand by Me (1986)\"     => 85\n",
       "  \"Rob Roy (1995)\"         => 449\n",
       "  \"Caligula (1980)\"        => 2532\n",
       "  \"Flirting With Disaster… => 1290\n",
       "  \"Hook (1991)\"            => 657\n",
       "  \"Institute Benjamenta, … => 3397\n",
       "  \"Way We Were, The (1973… => 762\n",
       "  ⋮                        => ⋮"
      ]
     },
     "execution_count": 5,
     "metadata": {},
     "output_type": "execute_result"
    }
   ],
   "source": [
    "rating_set.item_to_index"
   ]
  },
  {
   "cell_type": "code",
   "execution_count": 6,
   "metadata": {
    "collapsed": false
   },
   "outputs": [
    {
     "data": {
      "text/plain": [
       "Dict{AbstractString,Int32} with 6040 entries:\n",
       "  \"4304\" => 4304\n",
       "  \"3935\" => 3935\n",
       "  \"5422\" => 5422\n",
       "  \"5734\" => 5734\n",
       "  \"2243\" => 2243\n",
       "  \"1881\" => 1881\n",
       "  \"5425\" => 5425\n",
       "  \"4209\" => 4209\n",
       "  \"1907\" => 1907\n",
       "  \"2923\" => 2923\n",
       "  \"599\"  => 599\n",
       "  \"2491\" => 2491\n",
       "  \"5944\" => 5944\n",
       "  \"228\"  => 228\n",
       "  \"2590\" => 2590\n",
       "  \"3697\" => 3697\n",
       "  \"5031\" => 5031\n",
       "  \"2579\" => 2579\n",
       "  \"5551\" => 5551\n",
       "  \"1880\" => 1880\n",
       "  \"2562\" => 2562\n",
       "  \"3215\" => 3215\n",
       "  \"3991\" => 3991\n",
       "  \"4652\" => 4652\n",
       "  \"4088\" => 4088\n",
       "  ⋮      => ⋮"
      ]
     },
     "execution_count": 6,
     "metadata": {},
     "output_type": "execute_result"
    }
   ],
   "source": [
    "rating_set.user_to_index"
   ]
  },
  {
   "cell_type": "code",
   "execution_count": 9,
   "metadata": {
    "collapsed": false
   },
   "outputs": [
    {
     "data": {
      "text/plain": [
       "10-element Array{AbstractString,1}:\n",
       " \"Friday the 13th (1980)\"                   \n",
       " \"Amityville Horror, The (1979)\"            \n",
       " \"Jaws 2 (1978)\"                            \n",
       " \"Pet Sematary (1989)\"                      \n",
       " \"Omen, The (1976)\"                         \n",
       " \"Freddy's Dead: The Final Nightmare (1991)\"\n",
       " \"Cujo (1983)\"                              \n",
       " \"Friday the 13th Part 2 (1981)\"            \n",
       " \"Friday the 13th Part 3: 3D (1982)\"        \n",
       " \"Halloween II (1981)\"                      "
      ]
     },
     "execution_count": 9,
     "metadata": {},
     "output_type": "execute_result"
    }
   ],
   "source": [
    "IncrementalSVD.similar_items(model, \"Friday the 13th (1980)\")"
   ]
  },
  {
   "cell_type": "code",
   "execution_count": 10,
   "metadata": {
    "collapsed": false
   },
   "outputs": [
    {
     "data": {
      "text/plain": [
       "10-element Array{AbstractString,1}:\n",
       " \"Friday the 13th Part 2 (1981)\"                       \n",
       " \"Halloween II (1981)\"                                 \n",
       " \"Friday the 13th Part V: A New Beginning (1985)\"      \n",
       " \"Cujo (1983)\"                                         \n",
       " \"Friday the 13th Part 3: 3D (1982)\"                   \n",
       " \"Towering Inferno, The (1974)\"                        \n",
       " \"Friday the 13th: The Final Chapter (1984)\"           \n",
       " \"Friday the 13th Part VI: Jason Lives (1986)\"         \n",
       " \"Nightmare on Elm Street 5: The Dream Child, A (1989)\"\n",
       " \"Blind Date (1987)\"                                   "
      ]
     },
     "execution_count": 10,
     "metadata": {},
     "output_type": "execute_result"
    }
   ],
   "source": [
    "IncrementalSVD.similar_items(model, \"Friday the 13th Part 2 (1981)\")"
   ]
  },
  {
   "cell_type": "code",
   "execution_count": 11,
   "metadata": {
    "collapsed": false
   },
   "outputs": [
    {
     "data": {
      "text/plain": [
       "10-element Array{AbstractString,1}:\n",
       " \"Godfather, The (1972)\"                    \n",
       " \"Godfather: Part II, The (1974)\"           \n",
       " \"One Flew Over the Cuckoo's Nest (1975)\"   \n",
       " \"GoodFellas (1990)\"                        \n",
       " \"Butch Cassidy and the Sundance Kid (1969)\"\n",
       " \"Taxi Driver (1976)\"                       \n",
       " \"Silence of the Lambs, The (1991)\"         \n",
       " \"Casablanca (1942)\"                        \n",
       " \"Citizen Kane (1941)\"                      \n",
       " \"Close Encounters of the Third Kind (1977)\""
      ]
     },
     "execution_count": 11,
     "metadata": {},
     "output_type": "execute_result"
    }
   ],
   "source": [
    "IncrementalSVD.similar_items(model, \"Godfather, The (1972)\")"
   ]
  },
  {
   "cell_type": "code",
   "execution_count": 12,
   "metadata": {
    "collapsed": false
   },
   "outputs": [
    {
     "data": {
      "text/plain": [
       "3706-element Array{AbstractString,1}:\n",
       " \"Nueba Yol (1995)\"                                  \n",
       " \"Silence of the Palace, The (Saimt el Qusur) (1994)\"\n",
       " \"Windows (1980)\"                                    \n",
       " \"Mutters Courage (1995)\"                            \n",
       " \"Loves of Carmen, The (1948)\"                       \n",
       " \"Diebinnen (1995)\"                                  \n",
       " \"Aiqing wansui (1994)\"                              \n",
       " \"Uninvited Guest, An (2000)\"                        \n",
       " \"Roula (1995)\"                                      \n",
       " \"With Byrd at the South Pole (1930)\"                \n",
       " \"Chain of Fools (2000)\"                             \n",
       " \"Legal Deceit (1997)\"                               \n",
       " \"White Boys (1999)\"                                 \n",
       " ⋮                                                   \n",
       " \"Wrong Trousers, The (1993)\"                        \n",
       " \"Usual Suspects, The (1995)\"                        \n",
       " \"Casablanca (1942)\"                                 \n",
       " \"Silence of the Lambs, The (1991)\"                  \n",
       " \"Sixth Sense, The (1999)\"                           \n",
       " \"Raiders of the Lost Ark (1981)\"                    \n",
       " \"One Flew Over the Cuckoo's Nest (1975)\"            \n",
       " \"Shawshank Redemption, The (1994)\"                  \n",
       " \"American Beauty (1999)\"                            \n",
       " \"Schindler's List (1993)\"                           \n",
       " \"Star Wars: Episode IV - A New Hope (1977)\"         \n",
       " \"Godfather, The (1972)\"                             "
      ]
     },
     "execution_count": 12,
     "metadata": {},
     "output_type": "execute_result"
    }
   ],
   "source": [
    "# The 1st feature is the pricipal vector, similar to Principal Component Analysis. \n",
    "IncrementalSVD.show_items_by_feature(model, 1)"
   ]
  },
  {
   "cell_type": "code",
   "execution_count": 13,
   "metadata": {
    "collapsed": false
   },
   "outputs": [
    {
     "data": {
      "text/plain": [
       "3706-element Array{AbstractString,1}:\n",
       " \"Batman (1989)\"                                 \n",
       " \"Superman (1978)\"                               \n",
       " \"Die Hard (1988)\"                               \n",
       " \"Rocky (1976)\"                                  \n",
       " \"Wayne's World (1992)\"                          \n",
       " \"Indiana Jones and the Last Crusade (1989)\"     \n",
       " \"Blues Brothers, The (1980)\"                    \n",
       " \"Ferris Bueller's Day Off (1986)\"               \n",
       " \"Predator (1987)\"                               \n",
       " \"Untouchables, The (1987)\"                      \n",
       " \"Indiana Jones and the Temple of Doom (1984)\"   \n",
       " \"Robocop (1987)\"                                \n",
       " \"Back to the Future Part II (1989)\"             \n",
       " ⋮                                               \n",
       " \"Laura (1944)\"                                  \n",
       " \"Shadow of a Doubt (1943)\"                      \n",
       " \"Bank Dick, The (1940)\"                         \n",
       " \"On the Town (1949)\"                            \n",
       " \"Lady Vanishes, The (1938)\"                     \n",
       " \"Grand Illusion (Grande illusion, La) (1937)\"   \n",
       " \"General, The (1927)\"                           \n",
       " \"Pawnbroker, The (1965)\"                        \n",
       " \"Yojimbo (1961)\"                                \n",
       " \"Anatomy of a Murder (1959)\"                    \n",
       " \"City Lights (1931)\"                            \n",
       " \"400 Blows, The (Les Quatre cents coups) (1959)\""
      ]
     },
     "execution_count": 13,
     "metadata": {},
     "output_type": "execute_result"
    }
   ],
   "source": [
    "IncrementalSVD.show_items_by_feature(model, 2)"
   ]
  },
  {
   "cell_type": "code",
   "execution_count": 14,
   "metadata": {
    "collapsed": false
   },
   "outputs": [
    {
     "data": {
      "text/plain": [
       "1x25 Array{Float32,2}:\n",
       " 0.00112145  0.0022229  0.00367367  …  0.00983054  0.0100363  0.010909"
      ]
     },
     "execution_count": 14,
     "metadata": {},
     "output_type": "execute_result"
    }
   ],
   "source": [
    "IncrementalSVD.item_features(model, \"Nueba Yol (1995)\")"
   ]
  },
  {
   "cell_type": "code",
   "execution_count": 15,
   "metadata": {
    "collapsed": false
   },
   "outputs": [
    {
     "data": {
      "text/plain": [
       "101-element Array{Tuple{SubString{ASCIIString},Float32},1}:\n",
       " (\"Caddyshack (1980)\",5.0f0)                            \n",
       " (\"Brazil (1985)\",5.0f0)                                \n",
       " (\"Princess Bride, The (1987)\",5.0f0)                   \n",
       " (\"Twelve Monkeys (1995)\",5.0f0)                        \n",
       " (\"Gattaca (1997)\",5.0f0)                               \n",
       " (\"Brothers McMullen, The (1995)\",5.0f0)                \n",
       " (\"American Beauty (1999)\",5.0f0)                       \n",
       " (\"Time Bandits (1981)\",5.0f0)                          \n",
       " (\"Babe (1995)\",5.0f0)                                  \n",
       " (\"One Flew Over the Cuckoo's Nest (1975)\",5.0f0)       \n",
       " (\"Defending Your Life (1991)\",5.0f0)                   \n",
       " (\"Rock, The (1996)\",5.0f0)                             \n",
       " (\"Groundhog Day (1993)\",5.0f0)                         \n",
       " ⋮                                                      \n",
       " (\"Total Recall (1990)\",2.0f0)                          \n",
       " (\"Empire Records (1995)\",2.0f0)                        \n",
       " (\"Dirty Dancing (1987)\",1.0f0)                         \n",
       " (\"Blue Lagoon, The (1980)\",1.0f0)                      \n",
       " (\"Flashdance (1983)\",1.0f0)                            \n",
       " (\"Jewel of the Nile, The (1985)\",1.0f0)                \n",
       " (\"Star Trek VI: The Undiscovered Country (1991)\",1.0f0)\n",
       " (\"Blind Date (1987)\",1.0f0)                            \n",
       " (\"Sphere (1998)\",1.0f0)                                \n",
       " (\"Sudden Death (1995)\",1.0f0)                          \n",
       " (\"Grease 2 (1982)\",1.0f0)                              \n",
       " (\"Mission: Impossible (1996)\",1.0f0)                   "
      ]
     },
     "execution_count": 15,
     "metadata": {},
     "output_type": "execute_result"
    }
   ],
   "source": [
    "IncrementalSVD.user_ratings(rating_set, \"3000\")"
   ]
  },
  {
   "cell_type": "code",
   "execution_count": 16,
   "metadata": {
    "collapsed": false
   },
   "outputs": [
    {
     "data": {
      "text/plain": [
       "4.323812f0"
      ]
     },
     "execution_count": 16,
     "metadata": {},
     "output_type": "execute_result"
    }
   ],
   "source": [
    "IncrementalSVD.get_predicted_rating(model, \"3000\", \"Blade Runner (1982)\")"
   ]
  },
  {
   "cell_type": "code",
   "execution_count": 17,
   "metadata": {
    "collapsed": false
   },
   "outputs": [
    {
     "data": {
      "text/plain": [
       "2.7629623f0"
      ]
     },
     "execution_count": 17,
     "metadata": {},
     "output_type": "execute_result"
    }
   ],
   "source": [
    "IncrementalSVD.get_predicted_rating(model, \"3000\", \"Footloose (1984)\")"
   ]
  },
  {
   "cell_type": "code",
   "execution_count": null,
   "metadata": {
    "collapsed": true
   },
   "outputs": [],
   "source": []
  }
 ],
 "metadata": {
  "kernelspec": {
   "display_name": "Julia 0.4.5",
   "language": "julia",
   "name": "julia-0.4"
  },
  "language_info": {
   "file_extension": ".jl",
   "mimetype": "application/julia",
   "name": "julia",
   "version": "0.4.5"
  }
 },
 "nbformat": 4,
 "nbformat_minor": 0
}
