{
 "cells": [
  {
   "cell_type": "markdown",
   "metadata": {},
   "source": [
    "# Singular Value Decomposition - Perturbation Theory\n",
    "\n",
    "---\n",
    "\n",
    "## Prerequisites\n",
    "\n",
    "The reader should be familiar with eigenvalue decomposition, singular value decompostion, and perturbation theory for eigenvalue decomposition.\n",
    "\n",
    "## Competences \n",
    "\n",
    "The reader should be able to understand and check the facts about perturbations of singular values and vectors.\n",
    "\n",
    "---"
   ]
  },
  {
   "cell_type": "markdown",
   "metadata": {},
   "source": [
    "## Peturbation bounds\n",
    "\n",
    "For more details and the proofs of the Facts below, see \n",
    "[R.-C. Li, Matrix Perturbation Theory][Hog14], and the references therein.\n",
    "\n",
    "[Hog14]: #1 \"L. Hogben, ed., 'Handbook of Linear Algebra', pp. 21.6-21.8 and 21.16-21.18, CRC Press, Boca Raton, 2014.\"\n",
    "\n",
    "### Definitions\n",
    "Let $A\\in\\mathbb{C}^{m\\times n}$ and let $A=U\\Sigma V^*$ be its SVD.\n",
    "\n",
    "The set of $A$'s singular values is $sv(B)=\\{\\sigma_1,\\sigma_2,\\ldots)$, with \n",
    "$\\sigma_1\\geq \\sigma_2\\geq \\cdots\\geq 0$, and let \n",
    "$sv_{ext}(B)=sv(B)$ unless $m>n$ for which $sv_{ext}(B)=sv(B)\\cup \\{0,\\ldots,0\\}$ (additional $|m-n|$ zeros).\n",
    "\n",
    "Triplet $(u,\\sigma,v)\\in\\times\\mathbb{C}^{m}\\times\\mathbb{R}\\times\\mathbb{C}^{n}$ is a __singular triplet__ of $A$ if $\\|u\\|_2=1$, $\\|v\\|_2=1$, $\\sigma\\geq 0$, and $Av=\\sigma u$ and $A^*u=\\sigma v$.\n",
    "\n",
    "$\\tilde A=A+\\Delta A$ is a __perturbed matrix__, where $\\Delta A$ is __perturbation__.\n",
    "_The same notation is adopted to $\\tilde A$, except all symbols are with tildes._\n",
    "\n",
    "__Spectral condition number__ of $A$ is $\\kappa_2(A)=\\sigma_{\\max}(A)/ \\sigma_{\\min}(A)$.\n",
    "\n",
    "Let $X,Y\\in\\mathbb{C}^{n\\times k}$ with $\\mathop{\\mathrm{rank}}(X)=\\mathop{\\mathrm{rank}}(Y)=k$. The __canonical angles__ between their column spaces are $\\theta_i=\\cos^{-1}\\sigma_i$, where $\\sigma_i$ are the singular values of \n",
    "$(Y^*Y)^{-1/2}Y^*X(X^*X)^{-1/2}$. The __canonical angle matrix__ between $X$ and $Y$ is \n",
    "$$\\Theta(X,Y)=\\mathop{\\mathrm{diag}}(\\theta_1,\\theta_2,\\ldots,\\theta_k).\n",
    "$$\n",
    "    "
   ]
  },
  {
   "cell_type": "markdown",
   "metadata": {},
   "source": [
    "### Facts\n",
    "\n",
    "1. _(Mirsky)_ $\\|\\Sigma-\\tilde\\Sigma\\|_2\\leq \\|\\Delta A\\|_2$ and \n",
    "$\\|\\Sigma-\\tilde\\Sigma\\|_F\\leq \\|\\Delta A\\|_F$.\n",
    "\n",
    "2.  _(Residual bounds)_ Let $\\|\\tilde u\\|_2=\\|\\tilde v\\|_2=1$ and \n",
    "$\\tilde \\mu=\\tilde u^* A \\tilde v$. Let residuals $r=A\\tilde v-\\tilde \\mu \\tilde u$ and $s=A^*\\tilde u - \\tilde \\mu \\tilde v$, and let \n",
    "$\\varepsilon=\\max\\{\\|r\\|_2,\\|s\\|_2\\}$. Then $|\\tilde \\mu -\\mu|\\leq \\varepsilon$ for some singular value $\\mu$ of $A$. \n",
    "\n",
    "3. The smallest error matrix $\\Delta A$ for which $(\\tilde u, \\tilde \\mu, \\tilde v)$ is a singular triplet of $\\tilde A$ satisfies $\\| \\Delta A\\|_2=\\varepsilon$.\n",
    "\n",
    "4. Let $\\mu$ be the closest singular value in $sv_{ext}(A)$ to $\\tilde \\mu$ and $(u,\\mu,v)$\n",
    "be the associated singular triplet, and let\n",
    "$$\\eta=\\mathop{\\mathrm{gap}}(\\tilde\\mu)= \\min_{\\mu\\neq\\sigma\\in sv_{ext}(A)}|\\tilde\\mu-\\sigma|.$$\n",
    "If $\\eta>0$, then\n",
    "\\begin{align*}\n",
    "|\\tilde\\mu-\\mu |&\\leq \\frac{\\varepsilon^2}{\\eta},\\\\\n",
    "\\sqrt{\\sin^2\\theta(u,\\tilde u)+ \\sin^2\\theta(v,\\tilde v)} & \\leq \n",
    "\\frac{\\sqrt{\\|r\\|_2^2 + \\|s\\|_2^2}}{\\eta}.\n",
    "\\end{align*}\n",
    "\n",
    "5. Let \n",
    "$$\n",
    "A=\\begin{bmatrix} M & E \\\\ F & H \\end{bmatrix}, \\quad \n",
    "\\tilde A=\\begin{bmatrix} M & 0 \\\\ 0 & H \\end{bmatrix},\n",
    "$$ \n",
    "where $M\\in\\mathbb{C}^{k\\times k}$, and set $\\eta=\\min |\\mu-\\nu|$ over all $\\mu\\in sv(M)$ and $\\nu\\in sv_{ext}(H)$, and $\\varepsilon =\\max \\{ \\|E\\|_2,\\|F\\|_2 \\}$. Then\n",
    "$$ \n",
    "\\max |\\sigma_j -\\tilde\\sigma_j| \\leq \\frac{2\\varepsilon^2}{\\eta+\\sqrt{\\eta^2+4\\varepsilon^2}}.\n",
    "$$\n",
    "\n",
    "6. Let $m\\geq n$ and let\n",
    "$$\n",
    "\\begin{bmatrix} U_1^*\\\\ U_2^* \\end{bmatrix} A \\begin{bmatrix} V_1 & V_2 \\end{bmatrix}=\n",
    "\\begin{bmatrix} A_1 &  \\\\ & A_2 \\end{bmatrix}, \\quad \n",
    "\\begin{bmatrix} \\tilde U_1^*\\\\ \\tilde U_2^* \\end{bmatrix} \\tilde A \\begin{bmatrix} \\tilde V_1 & \\tilde V_2 \\end{bmatrix}=\n",
    "\\begin{bmatrix} \\tilde A_1 &  \\\\ & \\tilde A_2 \\end{bmatrix},\n",
    "$$\n",
    "where $\\begin{bmatrix} U_1 & U_2 \\end{bmatrix}$, \n",
    "$\\begin{bmatrix} V_1 & V_2 \\end{bmatrix}$,\n",
    "$\\begin{bmatrix} \\tilde U_1 & \\tilde U_2 \\end{bmatrix}$, and\n",
    "$\\begin{bmatrix} \\tilde V_1 & \\tilde V_2 \\end{bmatrix}$ are unitary, and \n",
    "$U_1,\\tilde U_1\\in \\mathbb{C}^{m\\times k}$, \n",
    "$V_1,\\tilde V_1\\in \\mathbb{C}^{n\\times k}$. Set\n",
    "$$\n",
    "R=A\\tilde V_1-\\tilde U_1\\tilde A_1,\\quad \n",
    "S=A^*\\tilde U_1-\\tilde V_1 \\tilde A_1.\n",
    "$$\n",
    "Let $\\eta=\\min|\\tilde \\mu-\\nu|$ over all $\\tilde \\mu\\in sv(\\tilde A_1)$ and \n",
    "$\\nu\\in sv_{ext}(A_2)$. If $\\eta > 0$, then\n",
    "$$\n",
    "\\sqrt{\\|\\sin\\Theta(U_1,\\tilde U_1)\\|_F^2 +\n",
    "\\|\\sin\\Theta(V_1,\\tilde V_1)\\|_F^2}\n",
    "\\leq \\frac{\\sqrt{\\|R\\|_F^2 + \\|S\\|_F^2 }}{\\eta}.\n",
    "$$\n"
   ]
  },
  {
   "cell_type": "markdown",
   "metadata": {},
   "source": [
    "### Example"
   ]
  },
  {
   "cell_type": "code",
   "execution_count": 1,
   "metadata": {
    "collapsed": false
   },
   "outputs": [
    {
     "data": {
      "text/plain": [
       "8×5 Array{Int64,2}:\n",
       " -3  -1   8  -8   9\n",
       "  3  -2  -8  -4   1\n",
       "  9   2  -1   0   2\n",
       " -7  -7  -7  -6   2\n",
       "  6   6   4   5  -4\n",
       " -3   6  -3   0   0\n",
       "  6  -8  -4  -4   5\n",
       " -1   3  -6  -1  -6"
      ]
     },
     "execution_count": 1,
     "metadata": {},
     "output_type": "execute_result"
    }
   ],
   "source": [
    "m=8\n",
    "n=5\n",
    "k=min(m,n)\n",
    "A=rand(-9:9,m,n)"
   ]
  },
  {
   "cell_type": "code",
   "execution_count": 2,
   "metadata": {
    "collapsed": false
   },
   "outputs": [
    {
     "data": {
      "text/plain": [
       "8×5 Array{Float64,2}:\n",
       " -2.99086  -0.995529   8.00744   -7.99853      9.00246   \n",
       "  3.00777  -1.99162   -7.99317   -3.99099      1.00549   \n",
       "  9.00878   2.00729   -0.994105   0.00955933   2.00614   \n",
       " -6.99801  -6.99132   -7.0       -5.99156      2.00949   \n",
       "  6.00106   6.00074    4.00222    5.00747     -3.99324   \n",
       " -2.99197   6.00039   -2.99567    0.00721638   0.00229287\n",
       "  6.00176  -7.99428   -3.99393   -3.99898      5.00369   \n",
       " -0.99484   3.00301   -5.99195   -0.996826    -5.99034   "
      ]
     },
     "execution_count": 2,
     "metadata": {},
     "output_type": "execute_result"
    }
   ],
   "source": [
    "ΔA=rand(m,n)/100\n",
    "B=A+ΔA"
   ]
  },
  {
   "cell_type": "code",
   "execution_count": 3,
   "metadata": {
    "collapsed": false
   },
   "outputs": [
    {
     "data": {
      "text/plain": [
       "(\n",
       "[-0.34865 0.735496 … -0.463624 0.339866; -0.255233 -0.380887 … -0.359283 0.0672928; … ; -0.411064 -0.0811639 … 0.160698 -0.0305385; 0.0835215 -0.467984 … -0.305297 0.677471],\n",
       "\n",
       "[20.9205,16.6371,14.8149,8.14198,3.51658],\n",
       "[0.27623 -0.0644051 … -0.0686091 0.163659; 0.592144 0.0327687 … -0.770251 -0.106633; … ; 0.549272 -0.105472 … 0.512743 -0.651117; -0.428469 0.471787 … -0.285341 -0.669502])"
      ]
     },
     "execution_count": 3,
     "metadata": {},
     "output_type": "execute_result"
    }
   ],
   "source": [
    "U,σ,V=svd(A)\n",
    "UB,μ,VB=svd(B)"
   ]
  },
  {
   "cell_type": "code",
   "execution_count": 4,
   "metadata": {
    "collapsed": false
   },
   "outputs": [
    {
     "data": {
      "text/plain": [
       "(0.0075373382873564765,0.03551088858911506,0.010135443641603063,0.03911839366177477)"
      ]
     },
     "execution_count": 4,
     "metadata": {},
     "output_type": "execute_result"
    }
   ],
   "source": [
    "# Mirsky's Theorems\n",
    "maxabs(σ-μ), norm(ΔA), vecnorm(σ-μ), vecnorm(ΔA)"
   ]
  },
  {
   "cell_type": "code",
   "execution_count": 5,
   "metadata": {
    "collapsed": false
   },
   "outputs": [
    {
     "data": {
      "text/plain": [
       "([20.928,16.6418,14.8116,8.14199,3.52017],2,16.641821209596337)"
      ]
     },
     "execution_count": 5,
     "metadata": {},
     "output_type": "execute_result"
    }
   ],
   "source": [
    "# Residual bounds - how close is (x,ζ,y) to (U[:,j],σ[j],V[:,j])\n",
    "j=rand(2:k-1)\n",
    "x=round(U[:,j],3)\n",
    "y=round(V[:,j],3)\n",
    "x=x/norm(x)\n",
    "y=y/norm(y)\n",
    "ζ=(x'*A*y)[]\n",
    "σ, j, ζ"
   ]
  },
  {
   "cell_type": "code",
   "execution_count": 6,
   "metadata": {
    "collapsed": false
   },
   "outputs": [
    {
     "data": {
      "text/plain": [
       "0.01465129735211335"
      ]
     },
     "execution_count": 6,
     "metadata": {},
     "output_type": "execute_result"
    }
   ],
   "source": [
    "# Fact 2\n",
    "r=A*y-ζ*x\n",
    "s=A'*x-ζ*y\n",
    "ϵ=max(norm(r),norm(s))"
   ]
  },
  {
   "cell_type": "code",
   "execution_count": 7,
   "metadata": {
    "collapsed": false
   },
   "outputs": [
    {
     "data": {
      "text/plain": [
       "(7.3049148134884945e-6,0.01465129735211335)"
      ]
     },
     "execution_count": 7,
     "metadata": {},
     "output_type": "execute_result"
    }
   ],
   "source": [
    "minimum(abs(σ-ζ)), ϵ"
   ]
  },
  {
   "cell_type": "code",
   "execution_count": 8,
   "metadata": {
    "collapsed": false
   },
   "outputs": [
    {
     "data": {
      "text/plain": [
       "1.8301838235704118"
      ]
     },
     "execution_count": 8,
     "metadata": {},
     "output_type": "execute_result"
    }
   ],
   "source": [
    "# Fact 4\n",
    "η=min(abs(ζ-σ[j-1]),abs(ζ-σ[j+1]))"
   ]
  },
  {
   "cell_type": "code",
   "execution_count": 9,
   "metadata": {
    "collapsed": false
   },
   "outputs": [
    {
     "data": {
      "text/plain": [
       "(-7.3049148134884945e-6,0.00011728904568792083)"
      ]
     },
     "execution_count": 9,
     "metadata": {},
     "output_type": "execute_result"
    }
   ],
   "source": [
    "ζ-σ[j], ϵ^2/η"
   ]
  },
  {
   "cell_type": "code",
   "execution_count": 10,
   "metadata": {
    "collapsed": false
   },
   "outputs": [
    {
     "data": {
      "text/plain": [
       "(0.001030338443831892,0.008611871657769964)"
      ]
     },
     "execution_count": 10,
     "metadata": {},
     "output_type": "execute_result"
    }
   ],
   "source": [
    "# Eigenvector bound\n",
    "# cos(θ)\n",
    "cosθU=dot(x,U[:,j])\n",
    "cosθV=dot(y,V[:,j])\n",
    "# Bound\n",
    "sqrt(1-cosθU^2+1-cosθV^2), sqrt(norm(r)^2+norm(s)^2)/η"
   ]
  },
  {
   "cell_type": "code",
   "execution_count": 11,
   "metadata": {
    "collapsed": false
   },
   "outputs": [
    {
     "data": {
      "text/plain": [
       "8×5 Array{Int64,2}:\n",
       " -3  -1   8   0   0\n",
       "  3  -2  -8   0   0\n",
       "  9   2  -1   0   0\n",
       "  0   0   0  -6   2\n",
       "  0   0   0   5  -4\n",
       "  0   0   0   0   0\n",
       "  0   0   0  -4   5\n",
       "  0   0   0  -1  -6"
      ]
     },
     "execution_count": 11,
     "metadata": {},
     "output_type": "execute_result"
    }
   ],
   "source": [
    "# Fact 5 - we create small off-diagonal block perturbation\n",
    "j=3\n",
    "M=A[1:j,1:j]\n",
    "H=A[j+1:m,j+1:n]\n",
    "B=cat([1,2],M,H)"
   ]
  },
  {
   "cell_type": "code",
   "execution_count": 12,
   "metadata": {
    "collapsed": false
   },
   "outputs": [
    {
     "data": {
      "text/plain": [
       "8×5 Array{Float64,2}:\n",
       " -3.0         -1.0          8.0          0.00159212   0.0060245  \n",
       "  3.0         -2.0         -8.0          0.00207048   0.00925301 \n",
       "  9.0          2.0         -1.0          0.0057695    0.000564695\n",
       "  0.00854628   9.12756e-5   0.00428263  -6.0          2.0        \n",
       "  0.00211289   0.0064007    0.00326013   5.0         -4.0        \n",
       "  0.00257978   0.00964825   0.00707589   0.0          0.0        \n",
       "  0.00474951   0.0063167    0.00107806  -4.0          5.0        \n",
       "  0.00993646   0.00231309   0.00144315  -1.0         -6.0        "
      ]
     },
     "execution_count": 12,
     "metadata": {},
     "output_type": "execute_result"
    }
   ],
   "source": [
    "E=rand(size(A[1:j,j+1:n]))/100\n",
    "F=rand(size(A[j+1:m,1:j]))/100\n",
    "C=map(Float64,B)\n",
    "C[1:j,j+1:n]=E\n",
    "C[j+1:m,1:j]=F\n",
    "C"
   ]
  },
  {
   "cell_type": "code",
   "execution_count": 13,
   "metadata": {
    "collapsed": false
   },
   "outputs": [
    {
     "data": {
      "text/plain": [
       "3×2 Array{Float64,2}:\n",
       "  1.95148   7.36944\n",
       " -3.47078   1.94718\n",
       " -9.16896  -3.75099"
      ]
     },
     "execution_count": 13,
     "metadata": {},
     "output_type": "execute_result"
    }
   ],
   "source": [
    "svdvals(M).-svdvals(H)'"
   ]
  },
  {
   "cell_type": "code",
   "execution_count": 14,
   "metadata": {
    "collapsed": false
   },
   "outputs": [
    {
     "data": {
      "text/plain": [
       "(\n",
       "[13.1552 13.1552; 11.2038 11.2038; … ; 5.78581 5.78581; 2.03481 2.03484],\n",
       "\n",
       "2.5766814953698258e-5,0.00017800064849323415)"
      ]
     },
     "execution_count": 14,
     "metadata": {},
     "output_type": "execute_result"
    }
   ],
   "source": [
    "ϵ=max(norm(E), norm(F))\n",
    "β=svdvals(B)\n",
    "γ=svdvals(C)\n",
    "η=minabs(svdvals(M).-svdvals(H)')\n",
    "[β γ], maxabs(β-γ), 2*ϵ^2/(η+sqrt(η^2+4*ϵ^2))"
   ]
  },
  {
   "cell_type": "markdown",
   "metadata": {},
   "source": [
    "## Relative perturbation theory\n",
    "\n",
    "### Definitions\n",
    "\n",
    "Matrix $A\\in\\mathbb{C}^{m\\times n}$ is __multiplicatively pertubed__ to $\\tilde A$ if\n",
    "$\\tilde A=D_L^* A D_R$ for some $D_L\\in\\mathbb{C}^{m\\times m}$ and \n",
    "$D_R\\in\\mathbb{C}^{n\\times n}$. \n",
    "\n",
    "Matrix $A$ is (highly) __graded__ if it can be scaled as $A=GS$ such that $G$ is _well-behaved_ (that is, $\\kappa_2(G)$ is of modest magnitude), where the __scaling matrix__ $S$ is often diagonal. Interesting cases are when $\\kappa_2(G)\\ll \\kappa_2(A)$.\n",
    "\n",
    "__Relative distances__ between two complex numbers $\\alpha$ and $\\tilde \\alpha$ are:\n",
    "\\begin{align*}\n",
    "\\zeta(\\alpha,\\tilde \\alpha)&=\\frac{|\\alpha-\\tilde\\alpha|}{\\sqrt{|\\alpha\\tilde \\alpha|}}, \\quad \\textrm{for } \\alpha\\tilde\\alpha\\neq 0,\\\\\n",
    "\\varrho(\\alpha,\\tilde \\alpha)&=\\frac{|\\alpha-\\tilde\\alpha|}\n",
    "{\\sqrt{|\\alpha|^2 +  |\\tilde \\alpha|^2}}, \\quad \\textrm{for } |\\alpha|+|\\tilde\\alpha|> 0.\n",
    "\\end{align*}"
   ]
  },
  {
   "cell_type": "markdown",
   "metadata": {},
   "source": [
    "### Facts\n",
    "\n",
    "1. If $D_L$ and $D_R$ are non-singular and $m\\geq n$, then\n",
    "\\begin{align*}\n",
    "\\frac{\\sigma_j}{\\|D_L^{-1}\\|_2\\|D_R^{-1}\\|_2}& \\leq \\tilde\\sigma_j \\leq\n",
    "\\sigma_j \\|D_L\\|_2\\|D_R\\|_2, \\quad \\textrm{for } i=1,\\ldots,n, \\\\\n",
    "\\| \\mathop{\\mathrm{diag}}(\\zeta(\\sigma_1,\\tilde \\sigma_1),\\ldots,\n",
    "\\zeta(\\sigma_n,\\tilde \\sigma_n)\\|_{2,F} & \\leq\n",
    "\\frac{1}{2}\\|D_L^*-D_L^{-1}\\|_{2,F} + \\frac{1}{2}\\|D_R^*-D_R^{-1}\\|_{2,F}.\n",
    "\\end{align*}\n",
    "\n",
    "2. Let $m\\geq n$ and let\n",
    "$$\n",
    "\\begin{bmatrix} U_1^*\\\\ U_2^* \\end{bmatrix} A \\begin{bmatrix} V_1 & V_2 \\end{bmatrix}=\n",
    "\\begin{bmatrix} A_1 &  \\\\ & A_2 \\end{bmatrix}, \\quad \n",
    "\\begin{bmatrix} \\tilde U_1^*\\\\ \\tilde U_2^* \\end{bmatrix} \\tilde A \\begin{bmatrix} \\tilde V_1 & \\tilde V_2 \\end{bmatrix}=\n",
    "\\begin{bmatrix} \\tilde A_1 &  \\\\ & \\tilde A_2 \\end{bmatrix},\n",
    "$$\n",
    "where $\\begin{bmatrix} U_1 & U_2 \\end{bmatrix}$, \n",
    "$\\begin{bmatrix} V_1 & V_2 \\end{bmatrix}$,\n",
    "$\\begin{bmatrix} \\tilde U_1 & \\tilde U_2 \\end{bmatrix}$, and\n",
    "$\\begin{bmatrix} \\tilde V_1 & \\tilde V_2 \\end{bmatrix}$ are unitary, and \n",
    "$U_1,\\tilde U_1\\in \\mathbb{C}^{m\\times k}$, \n",
    "$V_1,\\tilde V_1\\in \\mathbb{C}^{n\\times k}$. Set\n",
    "$$\n",
    "R=A\\tilde V_1-\\tilde U_1\\tilde A_1,\\quad \n",
    "S=A^*\\tilde U_1-\\tilde V_1 \\tilde A_1.\n",
    "$$\n",
    "Let $\\eta=\\min \\varrho(\\mu,\\tilde \\mu)$ over all $\\mu\\in sv(A_1)$ and \n",
    "$\\tilde \\mu\\in sv_{ext}(A_2)$. If $\\eta > 0$, then\n",
    "\\begin{align*}\n",
    "& \\sqrt{\\|\\sin\\Theta(U_1,\\tilde U_1)\\|_F^2 +\n",
    "\\|\\sin\\Theta(V_1,\\tilde V_1)\\|_F^2} \\\\\n",
    "& \\leq \\frac{1}{\\eta}( \\|(I-D_L^*)U_1\\|_F^2+ \\|(I-D_L^{-1})U_1\\|_F^2 \\\\\n",
    "& \\quad +\\|(I-D_R^*)V_1\\|_F^2+ \\|(I-D_R^{-1})V_1\\|_F^2 )^{1/2}.\n",
    "\\end{align*}\n",
    "\n",
    "3. Let $A=GS$ and $\\tilde A=\\tilde GS$, and let \n",
    "$\\Delta G=\\tilde G-G$. Then $\\tilde A=DA$, where $D=I+(\\Delta G) G^{\\dagger}$, and \n",
    "Fact 1 applies with $D_L=D$, $D_R=I$, and \n",
    "$$\n",
    "\\|D^*-D^{-1}\\|_{2,F} \\leq \\bigg(1+\\frac{1}{1-\\|(\\Delta G) G^{\\dagger}\\|_{2}}\\bigg)\n",
    "\\frac{\\|(\\Delta G) G^{\\dagger}\\|_{2,F}}{2}.\n",
    "$$\n",
    "According to the notebook on \n",
    "[Jacobi Method and High Relative Accuracy](L4c Symmetric Eigenvalue Decomposition - Jacobi Method and High Relative Accuracy.ipynb), nearly optimal diagonal scaling is such that all columns of $G$ have unit norms, $S=\\mathop{\\mathrm{diag}} \\big( \\| A_{:,1}\\|_2,\\ldots,\\|A_{:,n}\\|_2 \\big)$.\n",
    "\n",
    "4. Let $A$ be an real upper-bidiagonal matrix with diagonal entries $a_1,a_2,\\ldots,a_n$ and \n",
    "the super-diagonal entries $b_1,b_2, \\ldots,b_{n-1}$. Let the diagonal entries of \n",
    "$\\tilde A$ be $\\alpha_1 a_1,\\alpha_2 a_2,\\ldots,\\alpha_n a_n$, and its super-diagonal entries be\n",
    "$\\beta_1 b_1,\\beta_2 b_2,\\ldots,\\beta_{n-1} b_{n-1}$. Then $\\tilde A=D_L^* A D_R$ with \n",
    "\\begin{align*}\n",
    "D_L &=\\mathop{\\mathrm{diag}} \\bigg(\\alpha_1,\\frac{\\alpha_1 \\alpha_2}{\\beta_1},\n",
    "\\frac{\\alpha_1 \\alpha_2 \\alpha_3}{\\beta_1 \\beta_2},\\cdots\\bigg),\\\\\n",
    "D_R &=\\mathop{\\mathrm{diag}} \\bigg(1, \\frac{\\beta_1}{\\alpha_1},\n",
    "\\frac{\\beta_1 \\beta_2}{\\alpha_1 \\alpha_2},\\cdots\\bigg).\n",
    "\\end{align*}\n",
    "Let $\\alpha=\\prod\\limits_{j=1}^n \\max\\{\\alpha_j, 1/\\alpha_j\\}$ and \n",
    "$\\beta=\\prod\\limits_{j=1}^{n-1} \\max\\{\\beta_j, 1/\\beta_j\\}$. Then\n",
    "$$\n",
    "(\\alpha\\beta)^{-1}\\leq \\big(\\| D_L^{-1}\\|_2 \\|D_R^{-1}\\|_2 \\leq\n",
    "\\| D_L\\|_2 \\|D_R\\|_2  \\leq \\alpha\\beta,\n",
    "$$\n",
    "and Fact 1 applies.\n",
    " \n",
    "5. Consider the block partitioned matrices\n",
    "\\begin{align*}\n",
    "A & =\\begin{bmatrix} B & C \\\\ 0 & D\\end{bmatrix}, \\\\\n",
    "\\tilde A & =  \\begin{bmatrix} B & 0 \\\\ 0 & D\\end{bmatrix}\n",
    "=A \\begin{bmatrix} I & -B^{-1} C \\\\ 0 & I \\end{bmatrix}\\equiv A D_R.\n",
    "\\end{align*}\n",
    "By Fact 1, $\\zeta(\\sigma_j,\\tilde \\sigma_j) \\leq \\frac{1}{2} \\|B^{-1}C\\|_2$. This is used as a deflation criterion in the SVD algorithm for bidiagonal matrices."
   ]
  },
  {
   "cell_type": "markdown",
   "metadata": {
    "collapsed": true
   },
   "source": [
    "### Example - Bidiagonal matrix\n",
    "\n",
    "In order to illustrate Facts 1 to 3, we need an algorithm which computes the singular values with high relative acuracy. Such algorithm, the one-sided Jacobi method, is discussed in the following notebook. \n",
    "\n",
    "The algorithm actually used in the function `svdvals()` for `Bidiagonal` is the zero-shift bidiagonal QR algorithm, which attains the accuracy given by Fact 4: if all\n",
    "$1-\\varepsilon \\leq \\alpha_i,\\beta_j \\leq 1+\\varepsilon$, then\n",
    "$$\n",
    "(1-\\varepsilon)^{2n-1} \\leq (\\alpha\\beta)^{-1} \\leq \\alpha\\beta \\leq (1-\\varepsilon)^{2n-1}.\n",
    "$$\n",
    "In other words, $\\varepsilon$ relative changes in diagonal and super-diagonal elements, cause at most $(2n-1)\\varepsilon$ relative changes in the singular values.\n",
    "\n",
    "__However__, if singular values and vectors are desired, the function `svd()` calls the standard algorithm, described in the next notebook, which __does not attain this accuracy__ ."
   ]
  },
  {
   "cell_type": "code",
   "execution_count": 15,
   "metadata": {
    "collapsed": false
   },
   "outputs": [
    {
     "data": {
      "text/plain": [
       "50-element Array{Float64,1}:\n",
       "  4.19583e-6\n",
       " -2.09241e-6\n",
       " -1.39335e-6\n",
       " -5.09234e-8\n",
       " -1.44286e-6\n",
       "  1.34773e-6\n",
       "  2.21681e-6\n",
       " -6.43832e-6\n",
       "  2.44523e-6\n",
       " -7.6082e-7 \n",
       "  5.20543e-7\n",
       "  4.11967e-6\n",
       " -1.5319e-7 \n",
       "  ⋮         \n",
       " -7.72779e-7\n",
       " -1.40317e-6\n",
       " -3.89109e-6\n",
       " -7.25101e-6\n",
       "  2.79374e-6\n",
       " -1.58138e-6\n",
       " -1.84248e-6\n",
       "  2.63186e-6\n",
       "  8.15129e-6\n",
       " -6.1743e-6 \n",
       " -3.55404e-6\n",
       "  2.94443e-6"
      ]
     },
     "execution_count": 15,
     "metadata": {},
     "output_type": "execute_result"
    }
   ],
   "source": [
    "n=50\n",
    "δ=100000\n",
    "# The starting matrix\n",
    "a=exp(50*(rand(n)-0.5))\n",
    "b=exp(50*(rand(n-1)-0.5))\n",
    "A=Bidiagonal(a,b, true)\n",
    "# Multiplicative perturbation\n",
    "DL=ones(n)+(rand(n)-0.5)/δ\n",
    "DR=ones(n)+(rand(n)-0.5)/δ\n",
    "# The perturbed matrix\n",
    "α=DL.*a.*DR\n",
    "β=DL[1:end-1].*b.*DR[2:end]\n",
    "B=Bidiagonal(α,β,true)\n",
    "(A.dv-B.dv)./A.dv"
   ]
  },
  {
   "cell_type": "code",
   "execution_count": 16,
   "metadata": {
    "collapsed": false
   },
   "outputs": [
    {
     "data": {
      "text/plain": [
       "([4.19583e-6,-2.09241e-6,-1.39335e-6,-5.09234e-8,-1.44286e-6,1.34773e-6,2.21681e-6,-6.43832e-6,2.44523e-6,-7.6082e-7  …  -3.89109e-6,-7.25101e-6,2.79374e-6,-1.58138e-6,-1.84248e-6,2.63186e-6,8.15129e-6,-6.1743e-6,-3.55404e-6,2.94443e-6],[1.32336e-6,3.29319e-7,-5.89954e-6,5.58612e-6,9.0123e-7,-1.16395e-7,-3.38469e-6,-5.11299e-6,6.07394e-6,1.35835e-6  …  -3.6934e-6,-4.33311e-6,-6.76433e-6,2.44723e-6,2.62953e-7,1.29481e-7,5.62422e-6,2.23457e-6,-9.59318e-6,4.14818e-6])"
      ]
     },
     "execution_count": 16,
     "metadata": {},
     "output_type": "execute_result"
    }
   ],
   "source": [
    "(a-α)./a, (b-β)./b"
   ]
  },
  {
   "cell_type": "code",
   "execution_count": 17,
   "metadata": {
    "collapsed": false
   },
   "outputs": [
    {
     "data": {
      "text/html": [
       "svdvals<i>{T<:Union{Complex{Float32},Complex{Float64},Float32,Float64}}</i>(A::<b>AbstractArray{T,2}</b>) at <a href=\"https://github.com/JuliaLang/julia/tree/6445c82d0060dbe82b88436f0f4371a4ee64d918/base/linalg/svd.jl#L81\" target=\"_blank\">linalg/svd.jl:81</a>"
      ],
      "text/plain": [
       "svdvals{T<:Union{Complex{Float32},Complex{Float64},Float32,Float64}}(A::AbstractArray{T,2}) at linalg/svd.jl:81"
      ]
     },
     "execution_count": 17,
     "metadata": {},
     "output_type": "execute_result"
    }
   ],
   "source": [
    "@which svdvals(A)"
   ]
  },
  {
   "cell_type": "code",
   "execution_count": 18,
   "metadata": {
    "collapsed": false
   },
   "outputs": [
    {
     "data": {
      "text/plain": [
       "50×2 Array{Float64,2}:\n",
       " 7.04716e10   -1.40317e-6\n",
       " 3.52903e10   -1.44278e-6\n",
       " 2.37267e10    2.44523e-6\n",
       " 1.3133e10    -1.45838e-6\n",
       " 1.22502e10    4.26538e-6\n",
       " 1.20807e10   -4.57784e-7\n",
       " 5.97298e9    -1.84248e-6\n",
       " 3.0402e9      1.35835e-6\n",
       " 2.8041e9      1.10341e-7\n",
       " 2.62328e9     4.14818e-6\n",
       " 2.41426e9    -9.59318e-6\n",
       " 4.97002e8    -7.25101e-6\n",
       " 2.08498e8     2.44723e-6\n",
       " ⋮                       \n",
       " 0.00038784    5.59419e-6\n",
       " 0.000137832  -5.89954e-6\n",
       " 6.08007e-6   -2.10985e-6\n",
       " 2.33132e-7   -3.51311e-6\n",
       " 4.41986e-8    2.23511e-6\n",
       " 1.79833e-10  -1.59863e-6\n",
       " 1.52181e-11  -4.76893e-6\n",
       " 4.9063e-17   -3.24597e-6\n",
       " 1.56358e-26  -4.48218e-7\n",
       " 1.05726e-33   1.04431e-6\n",
       " 1.43197e-38  -1.16808e-6\n",
       " 3.96918e-89  -2.21179e-6"
      ]
     },
     "execution_count": 18,
     "metadata": {},
     "output_type": "execute_result"
    }
   ],
   "source": [
    "σ=svdvals(A)\n",
    "μ=svdvals(B)\n",
    "[σ (σ-μ)./σ]"
   ]
  },
  {
   "cell_type": "code",
   "execution_count": 19,
   "metadata": {
    "collapsed": false
   },
   "outputs": [
    {
     "data": {
      "text/plain": [
       "1.775471444108934e99"
      ]
     },
     "execution_count": 19,
     "metadata": {},
     "output_type": "execute_result"
    }
   ],
   "source": [
    "cond(A)"
   ]
  },
  {
   "cell_type": "code",
   "execution_count": 20,
   "metadata": {
    "collapsed": false
   },
   "outputs": [],
   "source": [
    "# The standard algorithm\n",
    "U,ν,V=svd(A);"
   ]
  },
  {
   "cell_type": "code",
   "execution_count": 21,
   "metadata": {
    "collapsed": false
   },
   "outputs": [
    {
     "data": {
      "text/plain": [
       "50-element Array{Float64,1}:\n",
       "     2.16524e-16\n",
       "    -2.16189e-16\n",
       "     0.0        \n",
       "    -1.45233e-16\n",
       "     1.55699e-16\n",
       "     0.0        \n",
       "    -1.59665e-16\n",
       "     0.0        \n",
       "     0.0        \n",
       "     0.0        \n",
       "     0.0        \n",
       "     0.0        \n",
       "     0.0        \n",
       "     ⋮          \n",
       "     6.98871e-16\n",
       "     4.10611e-13\n",
       "    -0.528138   \n",
       "   -29.2046     \n",
       "    -8.72718    \n",
       "     0.0        \n",
       "    -0.680816   \n",
       "     1.0        \n",
       "    -1.5429     \n",
       " -2654.08       \n",
       " -3848.78       \n",
       "    -9.42275e43 "
      ]
     },
     "execution_count": 21,
     "metadata": {},
     "output_type": "execute_result"
    }
   ],
   "source": [
    "(σ-ν)./σ"
   ]
  },
  {
   "cell_type": "code",
   "execution_count": null,
   "metadata": {
    "collapsed": true
   },
   "outputs": [],
   "source": []
  }
 ],
 "metadata": {
  "anaconda-cloud": {},
  "kernelspec": {
   "display_name": "Julia 0.5.1",
   "language": "julia",
   "name": "julia-0.5"
  },
  "language_info": {
   "file_extension": ".jl",
   "mimetype": "application/julia",
   "name": "julia",
   "version": "0.5.1"
  }
 },
 "nbformat": 4,
 "nbformat_minor": 0
}
