{
 "cells": [
  {
   "cell_type": "markdown",
   "metadata": {},
   "source": [
    "# Singular Value Decomposition - Definitions and Facts\n",
    "\n",
    "---\n",
    "\n",
    "## Prerequisites\n",
    "\n",
    "The reader should be familiar with basic linear algebra concepts and notebooks related to\n",
    "eigenvalue decomposition.\n",
    "\n",
    " \n",
    "## Competences \n",
    "\n",
    "The reader should be able to undestand and check the facts about singular value decomposition.\n",
    "\n",
    "## Selected references\n",
    "\n",
    "There are many excellent books on the subject. Here we list a few:\n",
    "\n",
    "[J. W. Demmel, Applied Numerical Linear Algebra][Dem97]\n",
    "\n",
    "[G. H. Golub and C. F. Van Loan, Matrix Computations][GV13]\n",
    "\n",
    "[N. Higham, Accuracy and Stability of Numerical Algorithms][Hig02]\n",
    "\n",
    "[L. Hogben, ed., Handbook of Linear Algebra][Hog14]\n",
    "\n",
    "[G. W. Stewart, Matrix Algorithms, Vol. II: Eigensystems][Ste01]\n",
    "\n",
    "[L. N. Trefethen and D. Bau, III, Numerical Linear Algebra][TB97]\n",
    "\n",
    "\n",
    "[Dem97]: #1 \"J.W. Demmel, 'Applied Numerical Linear Algebra', SIAM, Philadelphia, 1997.\"\n",
    "  \n",
    "[GV13]: #1 \"G. H. Golub and C. F. Van Loan, 'Matrix Computations', 4th ed., The John Hopkins University Press, Baltimore, MD, 2013.\"\n",
    "  \n",
    "[Hig02]: #1 \"N. Higham, 'Accuracy and Stability of Numerical Algorithms', SIAM, Philadelphia, 2nd ed., 2002.\"\n",
    "    \n",
    "[Hog14]: #1 \"L. Hogben, ed., 'Handbook of Linear Algebra', CRC Press, Boca Raton, 2014.\"\n",
    "\n",
    "[Ste01]: #1 \"G. W. Stewart, 'Matrix Algorithms, Vol. II: Eigensystems', SIAM, Philadelphia, 2001.\" \n",
    "\n",
    "[TB97]: #1 \"L. N. Trefethen and D. Bau, III, 'Numerical Linear Algebra', SIAM, Philadelphia, 1997.\"\n",
    "\n",
    "\n",
    "    \n",
    "\n",
    "---"
   ]
  },
  {
   "cell_type": "markdown",
   "metadata": {},
   "source": [
    "## Singular value problems\n",
    "\n",
    "For more details and the proofs of the Facts below, see \n",
    "[R. C. Li, Matrix Perturbation Theory][Hog14] and \n",
    "[R. Mathias, Singular Values and Singular Value Inequalities][Hog14a] and the references therein.\n",
    "\n",
    "[Hog14]: #1 \"L. Hogben, ed., 'Handbook of Linear Algebra', pp. 21.6-21.8, CRC Press, Boca Raton, 2014.\"\n",
    "\n",
    "[Hog14a]: #1 \"L. Hogben, ed., 'Handbook of Linear Algebra', pp. 24.1-24.17, CRC Press, Boca Raton, 2014.\"\n",
    "\n",
    "### Definitions\n",
    "\n",
    "Let $A\\in\\mathbb{C}^{m\\times n}$ and let $q=\\min\\{m,n\\}$.\n",
    "\n",
    "The __singular value decomposition__ (SVD) of $A$ is $A=U\\Sigma V^*$,\n",
    "where $U\\in\\mathbb{C}^{m\\times m}$ and $V\\in\\mathbb{C}^{n\\times n}$ are unitary, and \n",
    "$\\Sigma=\\mathop{\\mathrm{diag}}(\\sigma_1,\\sigma_2,\\ldots)\\in\\mathbb{R}^{m\\times n}$ with all \n",
    "$\\sigma_j\\geq 0$.\n",
    "\n",
    "Here $\\sigma_j$ is the __singular value__, $u_j\\equiv U_{:,j}$ is the corresponding __left singular vector__, and $v_j\\equiv V_{:,j}$ is the corresponding __right singular vector__.\n",
    "\n",
    "The __set of singular values__ is $sv(A)=\\{\\sigma_1,\\sigma_2,\\ldots,\\sigma_{q}\\}$.\n",
    "\n",
    "We assume that singular values are ordered, $\\sigma_1\\geq\\sigma_2\\geq\\cdots\\sigma_q\\geq 0$.\n",
    "\n",
    "The __Jordan-Wielandt__ matrix is the Hermitian matrix \n",
    "$$\n",
    "J=\\begin{bmatrix}0 & A \\\\ A^* & 0 \\end{bmatrix}\n",
    "\\in \\mathbb{C}^{(m+n) \\times (m+n)}.\n",
    "$$"
   ]
  },
  {
   "cell_type": "markdown",
   "metadata": {},
   "source": [
    "### Facts\n",
    "\n",
    "There are many facts related to the singular value problem for general matrices. We state some basic ones:\n",
    "\n",
    "1. If $A\\in\\mathbb{R}^{m\\times n}$, then $U$ and $V$ are real.\n",
    "\n",
    "2. Singular values are unique.\n",
    "\n",
    "3. $\\sigma_j(A^T)=\\sigma_j(A^*)=\\sigma_j(\\bar A)=\\sigma_j(A)$ for $j=1,2,\\ldots,q$.\n",
    "\n",
    "3. $A v_j=\\sigma_j u_{j}$ and $A^* u_{j}=\\sigma_j v_{j}$ for $j=1,2,\\ldots,q$.\n",
    "\n",
    "3. $A=\\sigma_1 u_{1} v_{1}^* + \\sigma_2 u_{2} v_{2}^* +\\cdots +\n",
    "\\sigma_q u_{q} v_{q}^*$.\n",
    "\n",
    "3. _(Unitary invariance)_ For any unitary \n",
    "$U\\in\\mathbb{C}^{m\\times m}$ and $V\\in\\mathbb{C}^{n\\times n}$, \n",
    "$sv(A)=sv(UAV)$.\n",
    "\n",
    "4. There exist unitary matrices  $U\\in\\mathbb{C}^{m\\times m}$ and \n",
    "$V\\in\\mathbb{C}^{n\\times n}$ such that $A=UBV$ if and only if  $sv(A)=sv(B)$.\n",
    "\n",
    "5. SVD of $A$ is related to eigenvalue decompositions of Hermitian matrices $A^*A=V\\Sigma^T\\Sigma V^*$ and $AA^*=U\\Sigma\\Sigma^TU^*$. Thus, \n",
    "$\\sigma_j^2(A)=\\lambda_j(A^*A)=\\lambda_j(AA^*)$ for $j=1,2,\\ldots,q$.\n",
    "\n",
    "6. The eigenvalues of Jordan-Wielandt matrix are $\\pm \\sigma_1(A), \\pm\\sigma_2(A), \\cdots,\\pm\\sigma_q(A)$ together with $|m-n|$ zeros. The eigenvectors are obtained from an SVD of $A$. This relationship is used to deduce singular value results from the results for eigenvalues of Hermitian matrices.\n",
    "\n",
    "3. $\\mathop{\\mathrm{trace}}(|A|_{spr})=\\sum_{i=1}^q \\sigma_i$, where $|A|_{spr}=(A^*A)^{1/2}$.\n",
    "\n",
    "4. If $A$ is square, then $|\\det(A)|=\\prod_{i=1}^n \\sigma_i$.\n",
    "\n",
    "5. If $A$ is square, then $A$ is singular $\\Leftrightarrow$ $\\sigma_j(A)=0$ for some $j$.\n",
    "\n",
    "8. _(Min-max Theorem)_ It holds:\n",
    "\\begin{align*}\n",
    "\\sigma_k& =\\max_{\\dim(W)=k}\\min_{x\\in W, \\|x\\|_2=1} \\|Ax\\|_2\\\\\n",
    "& =\\min_{\\dim(W)=n-k+1}\\max_{x\\in W, \\|x\\|_2=1} \\|Ax\\|_2.\n",
    "\\end{align*} \n",
    "\n",
    "9. $\\|A\\|_2=\\sigma_1(A)$.\n",
    "\n",
    "9. For $B\\in\\mathbb{C}^{m\\times n}$,\n",
    "$$\n",
    "|\\mathop{\\mathrm{trace}}(AB^*)|\\leq \\sum_{j=1}^q \\sigma_j(A)\\sigma_j(B).\n",
    "$$\n",
    "\n",
    "10. _(Interlace Theorems)_ Let $B$ denote $A$ with the one of its rows _or_ columns deleted. Then\n",
    "$$\n",
    "\\sigma_{j+1}(A)\\leq \\sigma_j(B)\\leq \\sigma_j(A),\\quad j=1,\\ldots,q-1.\n",
    "$$\n",
    "Let $B$ denote $A$ with the one of its rows _and_ columns deleted. Then\n",
    "$$\n",
    "\\sigma_{j+2}(A)\\leq \\sigma_j(B)\\leq \\sigma_j(A),\\quad j=1,\\ldots,q-2.\n",
    "$$\n",
    "\n",
    "9. _(Weyl Inequalities)_ For $B\\in\\mathbb{C}^{m\\times n}$, it holds:\n",
    "\\begin{align*}\n",
    "   \\sigma_{j+k-1}(A+B)& \\leq \\sigma_j(A)+\\sigma_k(B), \\quad  j+k\\leq n+1,\\\\\n",
    "   \\sum_{j=1}^k \\sigma_j(A+B)& \\leq \\sum_{j=1}^k \\sigma_j(A) + \\sum_{j=1}^k \\sigma_j(A), \n",
    "   \\quad k=1,\\ldots,q.\n",
    "\\end{align*}"
   ]
  },
  {
   "cell_type": "markdown",
   "metadata": {},
   "source": [
    "### Example - Symbolic computation"
   ]
  },
  {
   "cell_type": "code",
   "execution_count": 1,
   "metadata": {
    "collapsed": false
   },
   "outputs": [],
   "source": [
    "using SymPy"
   ]
  },
  {
   "cell_type": "code",
   "execution_count": 2,
   "metadata": {
    "collapsed": false
   },
   "outputs": [
    {
     "data": {
      "text/plain": [
       "3x3 Array{Int64,2}:\n",
       "  3   2   1\n",
       " -5  -1  -4\n",
       "  5   0   2"
      ]
     },
     "execution_count": 2,
     "metadata": {},
     "output_type": "execute_result"
    }
   ],
   "source": [
    "A=[  3   2   1\n",
    " -5  -1  -4\n",
    "  5   0   2]"
   ]
  },
  {
   "cell_type": "code",
   "execution_count": 3,
   "metadata": {
    "collapsed": false
   },
   "outputs": [
    {
     "data": {
      "text/plain": [
       "(x,)"
      ]
     },
     "execution_count": 3,
     "metadata": {},
     "output_type": "execute_result"
    }
   ],
   "source": [
    "@vars x"
   ]
  },
  {
   "cell_type": "code",
   "execution_count": 4,
   "metadata": {
    "collapsed": false
   },
   "outputs": [
    {
     "data": {
      "text/plain": [
       "3x3 Array{Int64,2}:\n",
       " 59  11  33\n",
       " 11   5   6\n",
       " 33   6  21"
      ]
     },
     "execution_count": 4,
     "metadata": {},
     "output_type": "execute_result"
    }
   ],
   "source": [
    "B=A'*A"
   ]
  },
  {
   "cell_type": "code",
   "execution_count": 5,
   "metadata": {
    "collapsed": false
   },
   "outputs": [
    {
     "data": {
      "text/latex": [
       "$$- x^{3} + 85 x^{2} - 393 x + 441$$"
      ],
      "text/plain": [
       "   3       2              \n",
       "- x  + 85*x  - 393*x + 441"
      ]
     },
     "execution_count": 5,
     "metadata": {},
     "output_type": "execute_result"
    }
   ],
   "source": [
    "# Characteristic polynomial p_B(λ)\n",
    "p(x)=simplify(det(B-x*I))\n",
    "p(x)"
   ]
  },
  {
   "cell_type": "code",
   "execution_count": 6,
   "metadata": {
    "collapsed": false
   },
   "outputs": [
    {
     "data": {
      "text/plain": [
       "3-element Array{Rational{Int64},1}:\n",
       "                3//1               \n",
       " 2064549086305011//1125899906842624\n",
       " 5641202704674385//70368744177664  "
      ]
     },
     "execution_count": 6,
     "metadata": {},
     "output_type": "execute_result"
    }
   ],
   "source": [
    "λ=map(Rational,solve(p(x),x))"
   ]
  },
  {
   "cell_type": "code",
   "execution_count": 7,
   "metadata": {
    "collapsed": false
   },
   "outputs": [
    {
     "data": {
      "text/plain": [
       "3x3 Array{Any,2}:\n",
       " -3.2754e-7  -0.519818  -0.854277\n",
       "  0.948684    0.270146  -0.164381\n",
       " -0.316227    0.810438  -0.493142"
      ]
     },
     "execution_count": 7,
     "metadata": {},
     "output_type": "execute_result"
    }
   ],
   "source": [
    "V=Array(Any,3,3)\n",
    "for j=1:3\n",
    "    V[:,j]=nullspace(B-λ[j]*I)\n",
    "end\n",
    "V"
   ]
  },
  {
   "cell_type": "code",
   "execution_count": 8,
   "metadata": {
    "collapsed": false
   },
   "outputs": [
    {
     "data": {
      "text/plain": [
       "3x3 Array{Any,2}:\n",
       "  0.912871  -0.154138  -0.378032\n",
       "  0.182574  -0.67409    0.71573 \n",
       " -0.365148  -0.722388  -0.587215"
      ]
     },
     "execution_count": 8,
     "metadata": {},
     "output_type": "execute_result"
    }
   ],
   "source": [
    "U=Array(Any,3,3)\n",
    "for j=1:3\n",
    "    U[:,j]=nullspace(A*A'-λ[j]*I)\n",
    "end\n",
    "U"
   ]
  },
  {
   "cell_type": "code",
   "execution_count": 9,
   "metadata": {
    "collapsed": false
   },
   "outputs": [
    {
     "data": {
      "text/plain": [
       "3-element Array{Float64,1}:\n",
       " 1.73205\n",
       " 1.35414\n",
       " 8.95356"
      ]
     },
     "execution_count": 9,
     "metadata": {},
     "output_type": "execute_result"
    }
   ],
   "source": [
    "σ=sqrt(λ)"
   ]
  },
  {
   "cell_type": "code",
   "execution_count": 10,
   "metadata": {
    "collapsed": false
   },
   "outputs": [
    {
     "data": {
      "text/plain": [
       "3x3 Array{Any,2}:\n",
       "  2.02284e-7   3.05213e-7   9.51424e-7\n",
       "  9.53544e-7  -6.66283e-7  -7.23387e-7\n",
       " -7.64795e-7   1.85427e-8   3.64772e-7"
      ]
     },
     "execution_count": 10,
     "metadata": {},
     "output_type": "execute_result"
    }
   ],
   "source": [
    "A-U*diagm(σ)*V'"
   ]
  },
  {
   "cell_type": "code",
   "execution_count": 11,
   "metadata": {
    "collapsed": false
   },
   "outputs": [
    {
     "data": {
      "text/plain": [
       "(\n",
       "3x3 Array{Float64,2}:\n",
       " -0.378032  -0.912871  -0.154137\n",
       "  0.71573   -0.182574  -0.67409 \n",
       " -0.587215   0.365148  -0.722388,\n",
       "\n",
       "[8.95356420958337,1.7320508075688772,1.3541373434285466],\n",
       "3x3 Array{Float64,2}:\n",
       " -0.854277   0.0       -0.519818\n",
       " -0.164381  -0.948683   0.270146\n",
       " -0.493143   0.316228   0.810438)"
      ]
     },
     "execution_count": 11,
     "metadata": {},
     "output_type": "execute_result"
    }
   ],
   "source": [
    "svd(A)"
   ]
  },
  {
   "cell_type": "code",
   "execution_count": 14,
   "metadata": {
    "collapsed": false
   },
   "outputs": [
    {
     "data": {
      "text/plain": [
       "3x3 Array{Any,2}:\n",
       " -3.2754e-7  -0.519818  -0.854277\n",
       "  0.948684    0.270146  -0.164381\n",
       " -0.316227    0.810438  -0.493142"
      ]
     },
     "execution_count": 14,
     "metadata": {},
     "output_type": "execute_result"
    }
   ],
   "source": [
    "V"
   ]
  },
  {
   "cell_type": "markdown",
   "metadata": {},
   "source": [
    "### Example - Random complex matrix"
   ]
  },
  {
   "cell_type": "code",
   "execution_count": 15,
   "metadata": {
    "collapsed": false
   },
   "outputs": [
    {
     "data": {
      "text/plain": [
       "5x3 Array{Complex{Float64},2}:\n",
       " 0.603802+0.283992im  0.434373+0.225105im   0.220856+0.970898im\n",
       " 0.951521+0.831857im  0.903725+0.735156im  0.0902839+0.638573im\n",
       " 0.143863+0.520913im   0.40897+0.918242im   0.240807+0.879953im\n",
       " 0.489436+0.811486im  0.784298+0.384556im   0.453414+0.13073im \n",
       " 0.902376+0.40869im   0.183027+0.412292im   0.267248+0.910355im"
      ]
     },
     "execution_count": 15,
     "metadata": {},
     "output_type": "execute_result"
    }
   ],
   "source": [
    "m=5\n",
    "n=3\n",
    "q=min(m,n)\n",
    "A=rand(m,n)+im*rand(m,n)"
   ]
  },
  {
   "cell_type": "code",
   "execution_count": 16,
   "metadata": {
    "collapsed": false
   },
   "outputs": [
    {
     "data": {
      "text/plain": [
       "(\n",
       "5x5 Array{Complex{Float64},2}:\n",
       " -0.305311-0.230886im  -0.199222+0.358025im  …   -0.652987-0.121721im\n",
       " -0.415644-0.39451im   -0.156498-0.281728im     -0.0370492+0.320021im\n",
       " -0.203501-0.390741im   0.330402+0.266075im       0.254221+0.283653im\n",
       " -0.320177-0.221262im   0.245147-0.521236im      -0.184591-0.186168im\n",
       " -0.320566-0.277046im  -0.266998+0.381094im       0.407019-0.274813im,\n",
       "\n",
       "[3.1232486357010782,1.0855051686256347,0.46578087325589657],\n",
       "3x3 Array{Complex{Float64},2}:\n",
       "   -0.6228-0.0im         -0.556353-0.0im       -0.550083-0.0im     \n",
       "  -0.57676-0.00781758im   0.115186-0.421011im   0.536505+0.434662im\n",
       " -0.475743+0.230381im     0.683422+0.18135im   -0.152578-0.444253im)"
      ]
     },
     "execution_count": 16,
     "metadata": {},
     "output_type": "execute_result"
    }
   ],
   "source": [
    "U,σ,V=svd(A, thin=false)"
   ]
  },
  {
   "cell_type": "code",
   "execution_count": 17,
   "metadata": {
    "collapsed": false
   },
   "outputs": [
    {
     "data": {
      "text/plain": [
       "(1.4616598439869937e-15,1.1318652365853774e-15,8.017548910657297e-16)"
      ]
     },
     "execution_count": 17,
     "metadata": {},
     "output_type": "execute_result"
    }
   ],
   "source": [
    "norm(A-U[:,1:q]*diagm(σ)*V'), norm(U'*U-I), norm(V'*V-I)"
   ]
  },
  {
   "cell_type": "code",
   "execution_count": 18,
   "metadata": {
    "collapsed": false
   },
   "outputs": [
    {
     "name": "stdout",
     "output_type": "stream",
     "text": [
      "k = rand(1:q) = 3\n"
     ]
    },
    {
     "data": {
      "text/plain": [
       "(2.772303046984639e-16,5.578801654593729e-16)"
      ]
     },
     "execution_count": 18,
     "metadata": {},
     "output_type": "execute_result"
    }
   ],
   "source": [
    "# Fact 4\n",
    "@show k=rand(1:q)\n",
    "norm(A*V[:,k]-σ[k]*U[:,k],Inf), norm(A'*U[:,k]-σ[k]*V[:,k],Inf)"
   ]
  },
  {
   "cell_type": "code",
   "execution_count": 19,
   "metadata": {
    "collapsed": false
   },
   "outputs": [
    {
     "data": {
      "text/plain": [
       "([0.21695182189102608,1.178321471112968,9.754682040408639],\n",
       "3x3 Array{Complex{Float64},2}:\n",
       " -0.178681+0.520254im   -0.537743+0.142693im  -0.560535-0.271442im\n",
       "  0.585362-0.366223im  0.00335216-0.436471im  -0.515691-0.258411im\n",
       " -0.469724-0.0im         0.707073+0.0im       -0.528589-0.0im     )"
      ]
     },
     "execution_count": 19,
     "metadata": {},
     "output_type": "execute_result"
    }
   ],
   "source": [
    "λV,V1=eig(A'*A)"
   ]
  },
  {
   "cell_type": "code",
   "execution_count": 20,
   "metadata": {
    "collapsed": false
   },
   "outputs": [
    {
     "data": {
      "text/plain": [
       "3-element Array{Float64,1}:\n",
       " 0.465781\n",
       " 1.08551 \n",
       " 3.12325 "
      ]
     },
     "execution_count": 20,
     "metadata": {},
     "output_type": "execute_result"
    }
   ],
   "source": [
    "sqrt(λV)"
   ]
  },
  {
   "cell_type": "code",
   "execution_count": 21,
   "metadata": {
    "collapsed": false
   },
   "outputs": [
    {
     "data": {
      "text/plain": [
       "([-9.436895709313827e-16,4.440892041146436e-16,0.2169518218910254,1.178321471112966,9.75468204040864],\n",
       "5x5 Array{Complex{Float64},2}:\n",
       " -0.0874881+0.110494im   -0.471458-0.466964im  …   -0.38197+0.0249495im\n",
       "   0.246671+0.447553im   -0.209661+0.238094im     -0.572437-0.0267033im\n",
       "  -0.439561-0.382687im   0.0543389+0.384301im     -0.409466-0.162568im \n",
       "   0.263255-0.556795im  -0.0551822-0.253211im     -0.386924+0.041951im \n",
       "        0.0+0.0im         0.491146+0.0im          -0.423695-0.0im      )"
      ]
     },
     "execution_count": 21,
     "metadata": {},
     "output_type": "execute_result"
    }
   ],
   "source": [
    "λU,U1=eig(A*A')"
   ]
  },
  {
   "cell_type": "code",
   "execution_count": 19,
   "metadata": {
    "collapsed": false
   },
   "outputs": [
    {
     "data": {
      "text/plain": [
       "(\n",
       "3x3 Array{Complex{Float64},2}:\n",
       " -0.670689-0.0im         0.538362-0.0im         0.510238-0.0im      \n",
       "  -0.42927+0.157316im    0.240547-0.0404805im  -0.818064+0.249498im \n",
       " -0.579403+0.0738135im  -0.803844+0.0670857im  0.0865478+0.0262416im,\n",
       "\n",
       "3x3 Array{Complex{Float64},2}:\n",
       "  -0.488287+0.148051im  -0.536497-0.044774im   0.665311+0.084758im\n",
       "   0.710475-0.476133im   -0.24308+0.0203347im  0.445709-0.101806im\n",
       " -0.0904386-0.0im        0.806638+0.0im        0.584086+0.0im     )"
      ]
     },
     "execution_count": 19,
     "metadata": {},
     "output_type": "execute_result"
    }
   ],
   "source": [
    "V,V1"
   ]
  },
  {
   "cell_type": "markdown",
   "metadata": {},
   "source": [
    "__Explain the non-uniqueness of $U$ and $V$!__"
   ]
  },
  {
   "cell_type": "code",
   "execution_count": 23,
   "metadata": {
    "collapsed": false
   },
   "outputs": [
    {
     "data": {
      "text/plain": [
       "8x8 Array{Complex{Float64},2}:\n",
       "      0.0+0.0im             0.0+0.0im       …   0.220856+0.970898im\n",
       "      0.0+0.0im             0.0+0.0im          0.0902839+0.638573im\n",
       "      0.0+0.0im             0.0+0.0im           0.240807+0.879953im\n",
       "      0.0+0.0im             0.0+0.0im           0.453414+0.13073im \n",
       "      0.0+0.0im             0.0+0.0im           0.267248+0.910355im\n",
       " 0.603802-0.283992im   0.951521-0.831857im  …        0.0+0.0im     \n",
       " 0.434373-0.225105im   0.903725-0.735156im           0.0+0.0im     \n",
       " 0.220856-0.970898im  0.0902839-0.638573im           0.0+0.0im     "
      ]
     },
     "execution_count": 23,
     "metadata": {},
     "output_type": "execute_result"
    }
   ],
   "source": [
    "# Jordan-Wielandt matrix\n",
    "J=[zeros(A*A') A; A' zeros(A'*A)]"
   ]
  },
  {
   "cell_type": "code",
   "execution_count": 24,
   "metadata": {
    "collapsed": false
   },
   "outputs": [
    {
     "data": {
      "text/plain": [
       "([-3.1232486357010814,-1.0855051686256356,-0.46578087325589657,-1.02440538327047e-17,-5.25081947507013e-18,0.4657808732558979,1.0855051686256338,3.123248635701079],\n",
       "8x8 Array{Complex{Float64},2}:\n",
       "   -0.123148-0.241032im   -0.0712282+0.280824im  …    -0.123148-0.241032im\n",
       "   -0.142939-0.379167im    -0.158053-0.164166im       -0.142939-0.379167im\n",
       " -0.00908977-0.311389im     0.274069+0.121929im     -0.00908977-0.311389im\n",
       "   -0.135575-0.239488im     0.073016-0.400701im       -0.135575-0.239488im\n",
       "   -0.118631-0.27511im     -0.113366+0.308883im       -0.118631-0.27511im \n",
       "    0.396358+0.191938im     0.380242-0.100899im  …    -0.396358-0.191938im\n",
       "    0.364648+0.182724im  -0.00237033+0.308632im       -0.364648-0.182724im\n",
       "    0.373769-0.0im         -0.499976-0.0im            -0.373769-0.0im     )"
      ]
     },
     "execution_count": 24,
     "metadata": {},
     "output_type": "execute_result"
    }
   ],
   "source": [
    "λJ,UJ=eig(J)"
   ]
  },
  {
   "cell_type": "markdown",
   "metadata": {},
   "source": [
    "### Example - Random real matrix"
   ]
  },
  {
   "cell_type": "code",
   "execution_count": 25,
   "metadata": {
    "collapsed": false
   },
   "outputs": [
    {
     "data": {
      "text/plain": [
       "8x5 Array{Int64,2}:\n",
       "  2   5  -5   3  -1\n",
       " -9  -2   8  -9  -6\n",
       " -4   7   7  -5   5\n",
       " -9   5   6  -5  -1\n",
       "  7  -6   9  -2  -6\n",
       "  3   5  -3   6   6\n",
       " -7   3   2   5   1\n",
       " -6  -9   3   7  -6"
      ]
     },
     "execution_count": 25,
     "metadata": {},
     "output_type": "execute_result"
    }
   ],
   "source": [
    "m=8\n",
    "n=5\n",
    "q=min(m,n)\n",
    "A=rand(-9:9,m,n)"
   ]
  },
  {
   "cell_type": "code",
   "execution_count": 26,
   "metadata": {
    "collapsed": false
   },
   "outputs": [
    {
     "data": {
      "text/plain": [
       "(\n",
       "8x5 Array{Float64,2}:\n",
       " -0.247869    0.110532   0.0702362  -0.16999    -0.845087   \n",
       "  0.668338    0.026889  -0.0214588  -0.305329   -0.0765168  \n",
       "  0.253609    0.515339  -0.196471    0.449346    0.18766    \n",
       "  0.430229    0.383028   0.107321    0.0108258  -0.286404   \n",
       "  0.234849   -0.503407  -0.476192    0.563721   -0.355658   \n",
       " -0.36884     0.226197   0.0939514   0.435804    0.000752062\n",
       "  0.0783951   0.210839   0.514788    0.354172   -0.176848   \n",
       "  0.212433   -0.47512    0.666255    0.206648    0.0704355  ,\n",
       "\n",
       "[24.04021035798122,19.57210689385944,14.625830255318812,8.853973721965398,5.356599327250373],\n",
       "5x5 Array{Float64,2}:\n",
       " -0.527583  -0.35765    -0.717835  0.231255  -0.158039\n",
       " -0.148901   0.770556   -0.107319  0.108385  -0.600672\n",
       "  0.622163  -0.0329522  -0.190995  0.758085  -0.025588\n",
       " -0.4568    -0.220206    0.656606  0.524274  -0.19196 \n",
       " -0.322072   0.478282   -0.074734  0.29192    0.759417)"
      ]
     },
     "execution_count": 26,
     "metadata": {},
     "output_type": "execute_result"
    }
   ],
   "source": [
    "U,σ,V=svd(A)"
   ]
  },
  {
   "cell_type": "code",
   "execution_count": 27,
   "metadata": {
    "collapsed": false
   },
   "outputs": [
    {
     "data": {
      "text/plain": [
       "(72.44872055637524,72.44872055637525)"
      ]
     },
     "execution_count": 27,
     "metadata": {},
     "output_type": "execute_result"
    }
   ],
   "source": [
    "# Fact 10\n",
    "trace(sqrtm(A'*A)), sum(σ)"
   ]
  },
  {
   "cell_type": "code",
   "execution_count": 28,
   "metadata": {
    "collapsed": false
   },
   "outputs": [
    {
     "data": {
      "text/plain": [
       "(0.030929292599958275,0.030929292599958264)"
      ]
     },
     "execution_count": 28,
     "metadata": {},
     "output_type": "execute_result"
    }
   ],
   "source": [
    "# Fact 11\n",
    "B=rand(n,n)\n",
    "det(B), prod(svdvals(B))"
   ]
  },
  {
   "cell_type": "code",
   "execution_count": 29,
   "metadata": {
    "collapsed": false
   },
   "outputs": [
    {
     "data": {
      "text/plain": [
       "(24.040210357981213,24.04021035798122)"
      ]
     },
     "execution_count": 29,
     "metadata": {},
     "output_type": "execute_result"
    }
   ],
   "source": [
    "# Fact 14\n",
    "norm(A), σ[1]"
   ]
  },
  {
   "cell_type": "code",
   "execution_count": 30,
   "metadata": {
    "collapsed": false
   },
   "outputs": [
    {
     "data": {
      "text/plain": [
       "(20.527823917508197,132.223184095751)"
      ]
     },
     "execution_count": 30,
     "metadata": {},
     "output_type": "execute_result"
    }
   ],
   "source": [
    "# Fact 15\n",
    "B=rand(m,n)\n",
    "abs(trace(A*B')), sum(svdvals(A)⋅svdvals(B))"
   ]
  },
  {
   "cell_type": "code",
   "execution_count": 31,
   "metadata": {
    "collapsed": false
   },
   "outputs": [
    {
     "data": {
      "text/plain": [
       "(3,[24.04021035798122,19.57210689385944,14.625830255318812,8.853973721965398,5.356599327250373],[23.56689509285716,16.95432759859379,14.043049794414276,7.249511462141338,5.038806147661224],[19.868242680148384,19.438697687082097,14.270401071165042,5.3614940362786205])"
      ]
     },
     "execution_count": 31,
     "metadata": {},
     "output_type": "execute_result"
    }
   ],
   "source": [
    "# Interlace Theorems (repeat several times)\n",
    "j=rand(1:q)\n",
    "σBrow=svdvals(A[[1:j-1;j+1:m],:])\n",
    "σBcol=svdvals(A[:,[1:j-1;j+1:n]])\n",
    "j, σ, σBrow, σBcol"
   ]
  },
  {
   "cell_type": "code",
   "execution_count": 32,
   "metadata": {
    "collapsed": false
   },
   "outputs": [
    {
     "data": {
      "text/plain": [
       "(Bool[true,true,true,true,true],Bool[true,true,true,true],Bool[true,true,true,true],Bool[true,true,true,true])"
      ]
     },
     "execution_count": 32,
     "metadata": {},
     "output_type": "execute_result"
    }
   ],
   "source": [
    "σ[1:end].>=σBrow, σ[1:end-1].>=σBcol, σ[2:end].<=σBrow[1:end-1], σ[2:end].<=σBcol"
   ]
  },
  {
   "cell_type": "code",
   "execution_count": 33,
   "metadata": {
    "collapsed": false
   },
   "outputs": [
    {
     "data": {
      "text/plain": [
       "5x3 Array{Float64,2}:\n",
       " 23.1467   24.0402   3.46996 \n",
       " 20.1704   19.5721   1.04603 \n",
       " 14.0031   14.6258   0.786453\n",
       " 10.2075    8.85397  0.648469\n",
       "  5.83982   5.3566   0.266707"
      ]
     },
     "execution_count": 33,
     "metadata": {},
     "output_type": "execute_result"
    }
   ],
   "source": [
    "# Weyl Inequalities\n",
    "B=rand(m,n)\n",
    "μ=svdvals(B)\n",
    "γ=svdvals(A+B)\n",
    "[γ σ μ]"
   ]
  },
  {
   "cell_type": "code",
   "execution_count": 34,
   "metadata": {
    "collapsed": false
   },
   "outputs": [
    {
     "name": "stdout",
     "output_type": "stream",
     "text": [
      "k = rand(1:q) = 4\n"
     ]
    },
    {
     "data": {
      "text/plain": [
       "(67.52769131218425,73.04303297759762)"
      ]
     },
     "execution_count": 34,
     "metadata": {},
     "output_type": "execute_result"
    }
   ],
   "source": [
    "@show k=rand(1:q)\n",
    "sum(γ[1:k]),sum(σ[1:k])+sum(μ[1:k])"
   ]
  },
  {
   "cell_type": "markdown",
   "metadata": {},
   "source": [
    "## Matrix approximation\n",
    "\n",
    "Let $A=U\\Sigma V^*$, let $\\tilde \\Sigma$ be equal to $\\Sigma$ except that \n",
    "$\\tilde \\Sigma_{jj}=0$ for $j>k$, and let $\\tilde A=U\\tilde \\Sigma V^*$. \n",
    "Then $\\mathop{\\mathrm{rank}}(\\tilde A)\\leq k$ and\n",
    "\\begin{align*}\n",
    "\\min\\{\\|A-B\\|_2: \\mathop{\\mathrm{rank}}(B)\\leq k\\} & =\\|A-\\tilde A\\|_2=\\sigma_{k+1}(A)\\\\\n",
    "\\min\\{\\|A-B\\|_F: \\mathop{\\mathrm{rank}}(B)\\leq k\\} & =\\|A-\\tilde A\\|_F=\n",
    "\\bigg(\\sum_{j=k+1}^{q}\\sigma_{j}^2(A)\\bigg)^{1/2}.\n",
    "\\end{align*}\n",
    "\n",
    "This is the __Eckart-Young-Mirsky Theorem__."
   ]
  },
  {
   "cell_type": "code",
   "execution_count": 35,
   "metadata": {
    "collapsed": false
   },
   "outputs": [
    {
     "data": {
      "text/plain": [
       "8x5 Array{Int64,2}:\n",
       "  2   5  -5   3  -1\n",
       " -9  -2   8  -9  -6\n",
       " -4   7   7  -5   5\n",
       " -9   5   6  -5  -1\n",
       "  7  -6   9  -2  -6\n",
       "  3   5  -3   6   6\n",
       " -7   3   2   5   1\n",
       " -6  -9   3   7  -6"
      ]
     },
     "execution_count": 35,
     "metadata": {},
     "output_type": "execute_result"
    }
   ],
   "source": [
    "A"
   ]
  },
  {
   "cell_type": "code",
   "execution_count": 36,
   "metadata": {
    "collapsed": false
   },
   "outputs": [
    {
     "data": {
      "text/plain": [
       "5-element Array{Float64,1}:\n",
       " 24.0402 \n",
       " 19.5721 \n",
       " 14.6258 \n",
       "  8.85397\n",
       "  5.3566 "
      ]
     },
     "execution_count": 36,
     "metadata": {},
     "output_type": "execute_result"
    }
   ],
   "source": [
    "σ"
   ]
  },
  {
   "cell_type": "code",
   "execution_count": 37,
   "metadata": {
    "collapsed": false
   },
   "outputs": [
    {
     "name": "stdout",
     "output_type": "stream",
     "text": [
      "k = rand(1:q - 1) = 4\n"
     ]
    },
    {
     "data": {
      "text/plain": [
       "8x5 Array{Float64,2}:\n",
       "  1.63265   2.44401  -3.97485    2.92011   2.87709 \n",
       " -8.43961  -1.95319  10.0389    -7.66137  -4.89957 \n",
       " -4.76118   7.1726    4.00968   -6.89286   3.07521 \n",
       " -9.26462   4.06809   5.88808   -5.34475   0.13708 \n",
       "  5.54468  -7.68532   5.16752   -4.98245  -6.01025 \n",
       "  2.10832   4.5842   -5.92504    3.97781   4.87054 \n",
       " -7.87489   2.0911   -0.401467   3.17412   0.803985\n",
       " -6.36349  -8.97168   1.62262    6.11318  -6.82064 "
      ]
     },
     "execution_count": 37,
     "metadata": {},
     "output_type": "execute_result"
    }
   ],
   "source": [
    "@show k=rand(1:q-1)\n",
    "k=3\n",
    "B=U*diagm([σ[1:k];zeros(q-k)])*V'"
   ]
  },
  {
   "cell_type": "code",
   "execution_count": 38,
   "metadata": {
    "collapsed": false
   },
   "outputs": [
    {
     "data": {
      "text/plain": [
       "8x5 Array{Int64,2}:\n",
       "  2   5  -5   3  -1\n",
       " -9  -2   8  -9  -6\n",
       " -4   7   7  -5   5\n",
       " -9   5   6  -5  -1\n",
       "  7  -6   9  -2  -6\n",
       "  3   5  -3   6   6\n",
       " -7   3   2   5   1\n",
       " -6  -9   3   7  -6"
      ]
     },
     "execution_count": 38,
     "metadata": {},
     "output_type": "execute_result"
    }
   ],
   "source": [
    "A"
   ]
  },
  {
   "cell_type": "code",
   "execution_count": 39,
   "metadata": {
    "collapsed": false
   },
   "outputs": [
    {
     "data": {
      "text/plain": [
       "(8.853973721965403,8.853973721965398)"
      ]
     },
     "execution_count": 39,
     "metadata": {},
     "output_type": "execute_result"
    }
   ],
   "source": [
    "norm(A-B), σ[k+1]"
   ]
  },
  {
   "cell_type": "code",
   "execution_count": null,
   "metadata": {
    "collapsed": true
   },
   "outputs": [],
   "source": []
  },
  {
   "cell_type": "code",
   "execution_count": 40,
   "metadata": {
    "collapsed": false
   },
   "outputs": [
    {
     "data": {
      "text/plain": [
       "(10.348236904031188,10.348236904031186)"
      ]
     },
     "execution_count": 40,
     "metadata": {},
     "output_type": "execute_result"
    }
   ],
   "source": [
    "vecnorm(A-B),vecnorm(σ[k+1:q])"
   ]
  },
  {
   "cell_type": "code",
   "execution_count": null,
   "metadata": {
    "collapsed": true
   },
   "outputs": [],
   "source": []
  }
 ],
 "metadata": {
  "kernelspec": {
   "display_name": "Julia 0.4.5",
   "language": "julia",
   "name": "julia-0.4"
  },
  "language_info": {
   "file_extension": ".jl",
   "mimetype": "application/julia",
   "name": "julia",
   "version": "0.4.5"
  }
 },
 "nbformat": 4,
 "nbformat_minor": 0
}
