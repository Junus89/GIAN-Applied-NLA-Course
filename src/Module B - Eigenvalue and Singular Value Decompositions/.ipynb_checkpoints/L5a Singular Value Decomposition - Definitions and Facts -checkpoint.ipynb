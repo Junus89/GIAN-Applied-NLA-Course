{
 "cells": [
  {
   "cell_type": "markdown",
   "metadata": {},
   "source": [
    "# Singular Value Decomposition - Definitions and Facts\n",
    "\n",
    "---\n",
    "\n",
    "## Prerequisites\n",
    "\n",
    "The reader should be familiar with basic linear algebra concepts and notebooks related to\n",
    "eigenvalue decomposition.\n",
    "\n",
    " \n",
    "## Competences \n",
    "\n",
    "The reader should be able to undestand and check the facts about singular value decomposition.\n",
    "\n",
    "## Selected references\n",
    "\n",
    "There are many excellent books on the subject. Here we list a few:\n",
    "\n",
    "[J. W. Demmel, Applied Numerical Linear Algebra][Dem97]\n",
    "\n",
    "[G. H. Golub and C. F. Van Loan, Matrix Computations][GV13]\n",
    "\n",
    "[N. Higham, Accuracy and Stability of Numerical Algorithms][Hig02]\n",
    "\n",
    "[L. Hogben, ed., Handbook of Linear Algebra][Hog14]\n",
    "\n",
    "[G. W. Stewart, Matrix Algorithms, Vol. II: Eigensystems][Ste01]\n",
    "\n",
    "[L. N. Trefethen and D. Bau, III, Numerical Linear Algebra][TB97]\n",
    "\n",
    "\n",
    "[Dem97]: #1 \"J.W. Demmel, 'Applied Numerical Linear Algebra', SIAM, Philadelphia, 1997.\"\n",
    "  \n",
    "[GV13]: #1 \"G. H. Golub and C. F. Van Loan, 'Matrix Computations', 4th ed., The John Hopkins University Press, Baltimore, MD, 2013.\"\n",
    "  \n",
    "[Hig02]: #1 \"N. Higham, 'Accuracy and Stability of Numerical Algorithms', SIAM, Philadelphia, 2nd ed., 2002.\"\n",
    "    \n",
    "[Hog14]: #1 \"L. Hogben, ed., 'Handbook of Linear Algebra', CRC Press, Boca Raton, 2014.\"\n",
    "\n",
    "[Ste01]: #1 \"G. W. Stewart, 'Matrix Algorithms, Vol. II: Eigensystems', SIAM, Philadelphia, 2001.\" \n",
    "\n",
    "[TB97]: #1 \"L. N. Trefethen and D. Bau, III, 'Numerical Linear Algebra', SIAM, Philadelphia, 1997.\"\n",
    "\n",
    "\n",
    "    \n",
    "\n",
    "---"
   ]
  },
  {
   "cell_type": "markdown",
   "metadata": {},
   "source": [
    "## Singular value problems\n",
    "\n",
    "For more details and the proofs of the Facts below, see \n",
    "[R. C. Li, Matrix Perturbation Theory][Hog14] and \n",
    "[R. Mathias, Singular Values and Singular Value Inequalities][Hog14a] and the references therein.\n",
    "\n",
    "[Hog14]: #1 \"L. Hogben, ed., 'Handbook of Linear Algebra', pp. 21.6-21.8, CRC Press, Boca Raton, 2014.\"\n",
    "\n",
    "[Hog14a]: #1 \"L. Hogben, ed., 'Handbook of Linear Algebra', pp. 24.1-24.17, CRC Press, Boca Raton, 2014.\"\n",
    "\n",
    "### Definitions\n",
    "\n",
    "Let $A\\in\\mathbb{C}^{m\\times n}$ and let $q=\\min\\{m,n\\}$.\n",
    "\n",
    "The __singular value decomposition__ (SVD) of $A$ is $A=U\\Sigma V^*$,\n",
    "where $U\\in\\mathbb{C}^{m\\times m}$ and $V\\in\\mathbb{C}^{n\\times n}$ are unitary, and \n",
    "$\\Sigma=\\mathop{\\mathrm{diag}}(\\sigma_1,\\sigma_2,\\ldots)\\in\\mathbb{R}^{m\\times n}$ with all \n",
    "$\\sigma_j\\geq 0$.\n",
    "\n",
    "Here $\\sigma_j$ is the __singular value__, $u_j\\equiv U_{:,j}$ is the corresponding __left singular vector__, and $v_j\\equiv V_{:,j}$ is the corresponding __right singular vector__.\n",
    "\n",
    "The __set of singular values__ is $sv(A)=\\{\\sigma_1,\\sigma_2,\\ldots,\\sigma_{q}\\}$.\n",
    "\n",
    "We assume that singular values are ordered, $\\sigma_1\\geq\\sigma_2\\geq\\cdots\\sigma_q\\geq 0$.\n",
    "\n",
    "The __Jordan-Wielandt__ matrix is the Hermitian matrix \n",
    "$$\n",
    "J=\\begin{bmatrix}0 & A \\\\ A^* & 0 \\end{bmatrix}\n",
    "\\in \\mathbb{C}^{(m+n) \\times (m+n)}.\n",
    "$$"
   ]
  },
  {
   "cell_type": "markdown",
   "metadata": {},
   "source": [
    "### Facts\n",
    "\n",
    "There are many facts related to the singular value problem for general matrices. We state some basic ones:\n",
    "\n",
    "1. If $A\\in\\mathbb{R}^{m\\times n}$, then $U$ and $V$ are real.\n",
    "\n",
    "2. Singular values are unique.\n",
    "\n",
    "3. $\\sigma_j(A^T)=\\sigma_j(A^*)=\\sigma_j(\\bar A)=\\sigma_j(A)$ for $j=1,2,\\ldots,q$.\n",
    "\n",
    "3. $A v_j=\\sigma_j u_{j}$ and $A^* u_{j}=\\sigma_j v_{j}$ for $j=1,2,\\ldots,q$.\n",
    "\n",
    "3. $A=\\sigma_1 u_{1} v_{1}^* + \\sigma_2 u_{2} v_{2}^* +\\cdots +\n",
    "\\sigma_q u_{q} v_{q}^*$.\n",
    "\n",
    "3. _(Unitary invariance)_ For any unitary \n",
    "$U\\in\\mathbb{C}^{m\\times m}$ and $V\\in\\mathbb{C}^{n\\times n}$, \n",
    "$sv(A)=sv(UAV)$.\n",
    "\n",
    "4. There exist unitary matrices  $U\\in\\mathbb{C}^{m\\times m}$ and \n",
    "$V\\in\\mathbb{C}^{n\\times n}$ such that $A=UBV$ if and only if  $sv(A)=sv(B)$.\n",
    "\n",
    "5. SVD of $A$ is related to eigenvalue decompositions of Hermitian matrices $A^*A=V\\Sigma^T\\Sigma V^*$ and $AA^*=U\\Sigma\\Sigma^TU^*$. Thus, \n",
    "$\\sigma_j^2(A)=\\lambda_j(A^*A)=\\lambda_j(AA^*)$ for $j=1,2,\\ldots,q$.\n",
    "\n",
    "6. The eigenvalues of Jordan-Wielandt matrix are $\\pm \\sigma_1(A), \\pm\\sigma_2(A), \\cdots,\\pm\\sigma_q(A)$ together with $|m-n|$ zeros. The eigenvectors are obtained from an SVD of $A$. This relationship is used to deduce singular value results from the results for eigenvalues of Hermitian matrices.\n",
    "\n",
    "3. $\\mathop{\\mathrm{trace}}(|A|_{spr})=\\sum_{i=1}^q \\sigma_i$, where $|A|_{spr}=(A^*A)^{1/2}$.\n",
    "\n",
    "4. If $A$ is square, then $|\\det(A)|=\\prod_{i=1}^n \\sigma_i$.\n",
    "\n",
    "5. If $A$ is square, then $A$ is singular $\\Leftrightarrow$ $\\sigma_j(A)=0$ for some $j$.\n",
    "\n",
    "8. _(Min-max Theorem)_ It holds:\n",
    "\\begin{align*}\n",
    "\\sigma_k& =\\max_{\\dim(W)=k}\\min_{x\\in W, \\|x\\|_2=1} \\|Ax\\|_2\\\\\n",
    "& =\\min_{\\dim(W)=n-k+1}\\max_{x\\in W, \\|x\\|_2=1} \\|Ax\\|_2.\n",
    "\\end{align*} \n",
    "\n",
    "9. $\\|A\\|_2=\\sigma_1(A)$.\n",
    "\n",
    "9. For $B\\in\\mathbb{C}^{m\\times n}$,\n",
    "$$\n",
    "|\\mathop{\\mathrm{trace}}(AB^*)|\\leq \\sum_{j=1}^q \\sigma_j(A)\\sigma_j(B).\n",
    "$$\n",
    "\n",
    "10. _(Interlace Theorems)_ Let $B$ denote $A$ with the one of its rows _or_ columns deleted. Then\n",
    "$$\n",
    "\\sigma_{j+1}(A)\\leq \\sigma_j(B)\\leq \\sigma_j(A),\\quad j=1,\\ldots,q-1.\n",
    "$$\n",
    "Let $B$ denote $A$ with the one of its rows _and_ columns deleted. Then\n",
    "$$\n",
    "\\sigma_{j+2}(A)\\leq \\sigma_j(B)\\leq \\sigma_j(A),\\quad j=1,\\ldots,q-2.\n",
    "$$\n",
    "\n",
    "9. _(Weyl Inequalities)_ For $B\\in\\mathbb{C}^{m\\times n}$, it holds:\n",
    "\\begin{align*}\n",
    "   \\sigma_{j+k-1}(A+B)& \\leq \\sigma_j(A)+\\sigma_k(B), \\quad  j+k\\leq n+1,\\\\\n",
    "   \\sum_{j=1}^k \\sigma_j(A+B)& \\leq \\sum_{j=1}^k \\sigma_j(A) + \\sum_{j=1}^k \\sigma_j(A), \n",
    "   \\quad k=1,\\ldots,q.\n",
    "\\end{align*}"
   ]
  },
  {
   "cell_type": "markdown",
   "metadata": {},
   "source": [
    "### Example - Symbolic computation"
   ]
  },
  {
   "cell_type": "code",
   "execution_count": 1,
   "metadata": {
    "collapsed": false
   },
   "outputs": [],
   "source": [
    "using SymPy"
   ]
  },
  {
   "cell_type": "code",
   "execution_count": 2,
   "metadata": {
    "collapsed": false
   },
   "outputs": [
    {
     "data": {
      "text/plain": [
       "3x3 Array{Int64,2}:\n",
       "  3   2   1\n",
       " -5  -1  -4\n",
       "  5   0   2"
      ]
     },
     "execution_count": 2,
     "metadata": {},
     "output_type": "execute_result"
    }
   ],
   "source": [
    "A=[  3   2   1\n",
    " -5  -1  -4\n",
    "  5   0   2]"
   ]
  },
  {
   "cell_type": "code",
   "execution_count": 3,
   "metadata": {
    "collapsed": false
   },
   "outputs": [
    {
     "data": {
      "text/plain": [
       "(x,)"
      ]
     },
     "execution_count": 3,
     "metadata": {},
     "output_type": "execute_result"
    }
   ],
   "source": [
    "@vars x"
   ]
  },
  {
   "cell_type": "code",
   "execution_count": 4,
   "metadata": {
    "collapsed": false
   },
   "outputs": [
    {
     "data": {
      "text/plain": [
       "3x3 Array{Int64,2}:\n",
       " 59  11  33\n",
       " 11   5   6\n",
       " 33   6  21"
      ]
     },
     "execution_count": 4,
     "metadata": {},
     "output_type": "execute_result"
    }
   ],
   "source": [
    "B=A'*A"
   ]
  },
  {
   "cell_type": "code",
   "execution_count": 5,
   "metadata": {
    "collapsed": false
   },
   "outputs": [
    {
     "data": {
      "text/latex": [
       "$$- x^{3} + 85 x^{2} - 393 x + 441$$"
      ],
      "text/plain": [
       "   3       2              \n",
       "- x  + 85⋅x  - 393⋅x + 441"
      ]
     },
     "execution_count": 5,
     "metadata": {},
     "output_type": "execute_result"
    }
   ],
   "source": [
    "# Characteristic polynomial p_B(λ)\n",
    "p(x)=simplify(det(B-x*I))\n",
    "p(x)"
   ]
  },
  {
   "cell_type": "code",
   "execution_count": 6,
   "metadata": {
    "collapsed": false
   },
   "outputs": [
    {
     "data": {
      "text/plain": [
       "3-element Array{Rational{Int64},1}:\n",
       "                3//1               \n",
       " 2064549086305011//1125899906842624\n",
       " 5641202704674385//70368744177664  "
      ]
     },
     "execution_count": 6,
     "metadata": {},
     "output_type": "execute_result"
    }
   ],
   "source": [
    "λ=map(Rational,solve(p(x),x))"
   ]
  },
  {
   "cell_type": "code",
   "execution_count": 7,
   "metadata": {
    "collapsed": false
   },
   "outputs": [
    {
     "data": {
      "text/plain": [
       "3x3 Array{Any,2}:\n",
       " -3.2754e-7  -0.519818  -0.854277\n",
       "  0.948684    0.270146  -0.164381\n",
       " -0.316227    0.810438  -0.493142"
      ]
     },
     "execution_count": 7,
     "metadata": {},
     "output_type": "execute_result"
    }
   ],
   "source": [
    "V=Array(Any,3,3)\n",
    "for j=1:3\n",
    "    V[:,j]=nullspace(B-λ[j]*I)\n",
    "end\n",
    "V"
   ]
  },
  {
   "cell_type": "code",
   "execution_count": 8,
   "metadata": {
    "collapsed": false
   },
   "outputs": [
    {
     "data": {
      "text/plain": [
       "3x3 Array{Any,2}:\n",
       "  0.912871  -0.154138  -0.378032\n",
       "  0.182574  -0.67409    0.71573 \n",
       " -0.365148  -0.722388  -0.587215"
      ]
     },
     "execution_count": 8,
     "metadata": {},
     "output_type": "execute_result"
    }
   ],
   "source": [
    "U=Array(Any,3,3)\n",
    "for j=1:3\n",
    "    U[:,j]=nullspace(A*A'-λ[j]*I)\n",
    "end\n",
    "U"
   ]
  },
  {
   "cell_type": "code",
   "execution_count": 9,
   "metadata": {
    "collapsed": false
   },
   "outputs": [
    {
     "data": {
      "text/plain": [
       "3-element Array{Float64,1}:\n",
       " 1.73205\n",
       " 1.35414\n",
       " 8.95356"
      ]
     },
     "execution_count": 9,
     "metadata": {},
     "output_type": "execute_result"
    }
   ],
   "source": [
    "σ=sqrt(λ)"
   ]
  },
  {
   "cell_type": "code",
   "execution_count": 10,
   "metadata": {
    "collapsed": false
   },
   "outputs": [
    {
     "data": {
      "text/plain": [
       "3x3 Array{Any,2}:\n",
       "  2.02284e-7   3.05213e-7   9.51424e-7\n",
       "  9.53544e-7  -6.66283e-7  -7.23387e-7\n",
       " -7.64795e-7   1.85427e-8   3.64772e-7"
      ]
     },
     "execution_count": 10,
     "metadata": {},
     "output_type": "execute_result"
    }
   ],
   "source": [
    "A-U*diagm(σ)*V'"
   ]
  },
  {
   "cell_type": "code",
   "execution_count": 11,
   "metadata": {
    "collapsed": false
   },
   "outputs": [
    {
     "data": {
      "text/plain": [
       "(\n",
       "3x3 Array{Float64,2}:\n",
       " -0.378032  -0.912871  -0.154137\n",
       "  0.71573   -0.182574  -0.67409 \n",
       " -0.587215   0.365148  -0.722388,\n",
       "\n",
       "[8.95356420958337,1.7320508075688772,1.3541373434285466],\n",
       "3x3 Array{Float64,2}:\n",
       " -0.854277   0.0       -0.519818\n",
       " -0.164381  -0.948683   0.270146\n",
       " -0.493143   0.316228   0.810438)"
      ]
     },
     "execution_count": 11,
     "metadata": {},
     "output_type": "execute_result"
    }
   ],
   "source": [
    "svd(A)"
   ]
  },
  {
   "cell_type": "markdown",
   "metadata": {},
   "source": [
    "### Example - Random complex matrix"
   ]
  },
  {
   "cell_type": "code",
   "execution_count": 12,
   "metadata": {
    "collapsed": false
   },
   "outputs": [
    {
     "data": {
      "text/plain": [
       "5x3 Array{Complex{Float64},2}:\n",
       " 0.840481+0.754007im    0.789838+0.26694im    0.15832+0.353723im\n",
       " 0.978061+0.764122im    0.037961+0.912471im  0.550265+0.914916im\n",
       " 0.175202+0.685971im  0.00701676+0.263729im  0.901928+0.294551im\n",
       " 0.298071+0.627254im    0.205681+0.161038im  0.394636+0.682877im\n",
       " 0.560192+0.202763im    0.246736+0.729301im  0.321625+0.702612im"
      ]
     },
     "execution_count": 12,
     "metadata": {},
     "output_type": "execute_result"
    }
   ],
   "source": [
    "m=5\n",
    "n=3\n",
    "q=min(m,n)\n",
    "A=rand(m,n)+im*rand(m,n)"
   ]
  },
  {
   "cell_type": "code",
   "execution_count": 13,
   "metadata": {
    "collapsed": false
   },
   "outputs": [
    {
     "data": {
      "text/plain": [
       "(\n",
       "5x5 Array{Complex{Float64},2}:\n",
       "   -0.3691-0.239435im   0.533531+0.17468im    …  -0.0300464+0.128464im \n",
       " -0.417586-0.482031im  0.0732014-0.0735096im       -0.47182-0.367117im \n",
       "  -0.24535-0.234908im  -0.677775+0.272126im        0.141541+0.273095im \n",
       " -0.205844-0.286222im   -0.15569-0.163952im       0.0198208+0.0437499im\n",
       " -0.289897-0.275663im  0.0900631-0.28532im         0.718303+0.111017im ,\n",
       "\n",
       "[2.8788636227103237,0.9414389301313411,0.8055571946914614],\n",
       "3x3 Array{Complex{Float64},2}:\n",
       " -0.670689-0.0im         0.538362-0.0im         0.510238-0.0im      \n",
       "  -0.42927+0.157316im    0.240547-0.0404805im  -0.818064+0.249498im \n",
       " -0.579403+0.0738135im  -0.803844+0.0670857im  0.0865478+0.0262416im)"
      ]
     },
     "execution_count": 13,
     "metadata": {},
     "output_type": "execute_result"
    }
   ],
   "source": [
    "U,σ,V=svd(A, thin=false)"
   ]
  },
  {
   "cell_type": "code",
   "execution_count": 14,
   "metadata": {
    "collapsed": false
   },
   "outputs": [
    {
     "data": {
      "text/plain": [
       "(1.4687615521463284e-15,5.37008467320231e-16,4.183902309112554e-16)"
      ]
     },
     "execution_count": 14,
     "metadata": {},
     "output_type": "execute_result"
    }
   ],
   "source": [
    "norm(A-U[:,1:q]*diagm(σ)*V'), norm(U'*U-I), norm(V'*V-I)"
   ]
  },
  {
   "cell_type": "code",
   "execution_count": 15,
   "metadata": {
    "collapsed": false
   },
   "outputs": [
    {
     "name": "stdout",
     "output_type": "stream",
     "text": [
      "k = rand(1:q) = 2\n"
     ]
    },
    {
     "data": {
      "text/plain": [
       "(5.578801654593729e-16,7.816041058999314e-16)"
      ]
     },
     "execution_count": 15,
     "metadata": {},
     "output_type": "execute_result"
    }
   ],
   "source": [
    "# Fact 4\n",
    "@show k=rand(1:q)\n",
    "norm(A*V[:,k]-σ[k]*U[:,k],Inf), norm(A'*U[:,k]-σ[k]*V[:,k],Inf)"
   ]
  },
  {
   "cell_type": "code",
   "execution_count": 16,
   "metadata": {
    "collapsed": false
   },
   "outputs": [
    {
     "data": {
      "text/plain": [
       "([0.6489223939191779,0.8863072591668464,8.287855758164794],\n",
       "3x3 Array{Complex{Float64},2}:\n",
       "  -0.488287+0.148051im  -0.536497-0.044774im   0.665311+0.084758im\n",
       "   0.710475-0.476133im   -0.24308+0.0203347im  0.445709-0.101806im\n",
       " -0.0904386-0.0im        0.806638+0.0im        0.584086+0.0im     )"
      ]
     },
     "execution_count": 16,
     "metadata": {},
     "output_type": "execute_result"
    }
   ],
   "source": [
    "λV,V1=eig(A'*A)"
   ]
  },
  {
   "cell_type": "code",
   "execution_count": 17,
   "metadata": {
    "collapsed": false
   },
   "outputs": [
    {
     "data": {
      "text/plain": [
       "3-element Array{Float64,1}:\n",
       " 0.805557\n",
       " 0.941439\n",
       " 2.87886 "
      ]
     },
     "execution_count": 17,
     "metadata": {},
     "output_type": "execute_result"
    }
   ],
   "source": [
    "sqrt(λV)"
   ]
  },
  {
   "cell_type": "code",
   "execution_count": 18,
   "metadata": {
    "collapsed": false
   },
   "outputs": [
    {
     "data": {
      "text/plain": [
       "([-6.106226640262088e-16,7.097554593628281e-16,0.6489223939191757,0.8863072591668442,8.287855758164806],\n",
       "5x5 Array{Complex{Float64},2}:\n",
       "  0.108369+0.167766im   -0.245751-0.162165im   …   -0.43247+0.0808321im \n",
       " -0.472394-0.292261im     -0.2476-0.0790917im     -0.634777-0.0615589im \n",
       "  0.295752+0.113347im   -0.340116+0.265275im      -0.339672-0.00116311im\n",
       " -0.273781+0.0549008im   0.734847+0.238574im      -0.346404-0.0655717im \n",
       "  0.687932+0.0im          0.25056+0.0im           -0.400038-0.0im       )"
      ]
     },
     "execution_count": 18,
     "metadata": {},
     "output_type": "execute_result"
    }
   ],
   "source": [
    "λU,U1=eig(A*A')"
   ]
  },
  {
   "cell_type": "code",
   "execution_count": 19,
   "metadata": {
    "collapsed": false
   },
   "outputs": [
    {
     "data": {
      "text/plain": [
       "(\n",
       "3x3 Array{Complex{Float64},2}:\n",
       " -0.670689-0.0im         0.538362-0.0im         0.510238-0.0im      \n",
       "  -0.42927+0.157316im    0.240547-0.0404805im  -0.818064+0.249498im \n",
       " -0.579403+0.0738135im  -0.803844+0.0670857im  0.0865478+0.0262416im,\n",
       "\n",
       "3x3 Array{Complex{Float64},2}:\n",
       "  -0.488287+0.148051im  -0.536497-0.044774im   0.665311+0.084758im\n",
       "   0.710475-0.476133im   -0.24308+0.0203347im  0.445709-0.101806im\n",
       " -0.0904386-0.0im        0.806638+0.0im        0.584086+0.0im     )"
      ]
     },
     "execution_count": 19,
     "metadata": {},
     "output_type": "execute_result"
    }
   ],
   "source": [
    "V,V1"
   ]
  },
  {
   "cell_type": "markdown",
   "metadata": {},
   "source": [
    "__Explain the non-uniqueness of $U$ and $V$!__"
   ]
  },
  {
   "cell_type": "code",
   "execution_count": 20,
   "metadata": {
    "collapsed": false
   },
   "outputs": [
    {
     "data": {
      "text/plain": [
       "8x8 Array{Complex{Float64},2}:\n",
       "      0.0+0.0im            0.0+0.0im       …   0.15832+0.353723im\n",
       "      0.0+0.0im            0.0+0.0im          0.550265+0.914916im\n",
       "      0.0+0.0im            0.0+0.0im          0.901928+0.294551im\n",
       "      0.0+0.0im            0.0+0.0im          0.394636+0.682877im\n",
       "      0.0+0.0im            0.0+0.0im          0.321625+0.702612im\n",
       " 0.840481-0.754007im  0.978061-0.764122im  …       0.0+0.0im     \n",
       " 0.789838-0.26694im   0.037961-0.912471im          0.0+0.0im     \n",
       "  0.15832-0.353723im  0.550265-0.914916im          0.0+0.0im     "
      ]
     },
     "execution_count": 20,
     "metadata": {},
     "output_type": "execute_result"
    }
   ],
   "source": [
    "# Jordan-Wielandt matrix\n",
    "J=[zeros(A*A') A; A' zeros(A'*A)]"
   ]
  },
  {
   "cell_type": "code",
   "execution_count": 21,
   "metadata": {
    "collapsed": false
   },
   "outputs": [
    {
     "data": {
      "text/plain": [
       "([-2.878863622710325,-0.9414389301313433,-0.8055571946914597,-5.3104555203255555e-17,5.4559574387278616e-18,0.8055571946914628,0.9414389301313404,2.878863622710323],\n",
       "8x8 Array{Complex{Float64},2}:\n",
       "  0.237505+0.200932im    0.365684+0.154465im   …  -0.237505-0.200932im \n",
       "  0.249836+0.37543im    0.0559048-0.0474942im     -0.249836-0.37543im  \n",
       "  0.151106+0.186698im   -0.493602+0.151897im      -0.151106-0.186698im \n",
       "   0.11881+0.219161im   -0.100066-0.124686im       -0.11881-0.219161im \n",
       "  0.178711+0.219266im   0.0802427-0.195756im      -0.178711-0.219266im \n",
       " -0.470446-0.0599329im  -0.379361-0.03166im    …  -0.470446-0.0599329im\n",
       " -0.315164+0.0719879im  -0.171884+0.0143788im     -0.315164+0.0719879im\n",
       " -0.413011-0.0im         0.570379+0.0im           -0.413011-0.0im      )"
      ]
     },
     "execution_count": 21,
     "metadata": {},
     "output_type": "execute_result"
    }
   ],
   "source": [
    "λJ,UJ=eig(J)"
   ]
  },
  {
   "cell_type": "markdown",
   "metadata": {},
   "source": [
    "### Example - Random real matrix"
   ]
  },
  {
   "cell_type": "code",
   "execution_count": 22,
   "metadata": {
    "collapsed": false
   },
   "outputs": [
    {
     "data": {
      "text/plain": [
       "8x5 Array{Int64,2}:\n",
       "  8  -3   1   9  -7\n",
       " -9   8  -6   1  -1\n",
       " -5   8   1  -3  -9\n",
       "  4   8  -6   9   7\n",
       "  9   4  -6   8   2\n",
       " -4   7   3   6  -7\n",
       " -4   7  -8  -4  -2\n",
       " -9   5  -1   0   8"
      ]
     },
     "execution_count": 22,
     "metadata": {},
     "output_type": "execute_result"
    }
   ],
   "source": [
    "m=8\n",
    "n=5\n",
    "q=min(m,n)\n",
    "A=rand(-9:9,m,n)"
   ]
  },
  {
   "cell_type": "code",
   "execution_count": 23,
   "metadata": {
    "collapsed": false
   },
   "outputs": [
    {
     "data": {
      "text/plain": [
       "(\n",
       "8x5 Array{Float64,2}:\n",
       " -0.426362    0.217265   -0.471716    -0.0774665   0.474191 \n",
       "  0.510042    0.216984   -0.0733038    0.0183391   0.617511 \n",
       "  0.375413   -0.0664926  -0.525767     0.13404    -0.521785 \n",
       "  0.0143749   0.699875    0.208505    -0.125711   -0.276064 \n",
       " -0.222732    0.595224   -0.00288216   0.247566   -0.148558 \n",
       "  0.201234    0.166994   -0.547027    -0.504665   -0.0733812\n",
       "  0.405197    0.143128   -0.0413489    0.641799    0.126587 \n",
       "  0.403288    0.0938272   0.388907    -0.481676    0.0432935,\n",
       "\n",
       "[24.043444540388922,21.601117837961112,17.8635139679196,10.289332947275364,4.830008178234782],\n",
       "5x5 Array{Float64,2}:\n",
       " -0.743685    0.286527  -0.0461132   0.394274    -0.455254\n",
       "  0.575968    0.517197  -0.218042   -0.00120866  -0.594327\n",
       " -0.20389    -0.44718   -0.195403   -0.675583    -0.513676\n",
       " -0.271148    0.641724  -0.224185   -0.566318     0.37907 \n",
       " -0.0100566   0.196544   0.92838    -0.25965     -0.178778)"
      ]
     },
     "execution_count": 23,
     "metadata": {},
     "output_type": "execute_result"
    }
   ],
   "source": [
    "U,σ,V=svd(A)"
   ]
  },
  {
   "cell_type": "code",
   "execution_count": 24,
   "metadata": {
    "collapsed": false
   },
   "outputs": [
    {
     "data": {
      "text/plain": [
       "(78.62741747177996,78.62741747177978)"
      ]
     },
     "execution_count": 24,
     "metadata": {},
     "output_type": "execute_result"
    }
   ],
   "source": [
    "# Fact 10\n",
    "trace(sqrtm(A'*A)), sum(σ)"
   ]
  },
  {
   "cell_type": "code",
   "execution_count": 25,
   "metadata": {
    "collapsed": false
   },
   "outputs": [
    {
     "data": {
      "text/plain": [
       "(0.03558723899892767,0.03558723899892767)"
      ]
     },
     "execution_count": 25,
     "metadata": {},
     "output_type": "execute_result"
    }
   ],
   "source": [
    "# Fact 11\n",
    "B=rand(n,n)\n",
    "det(B), prod(svdvals(B))"
   ]
  },
  {
   "cell_type": "code",
   "execution_count": 26,
   "metadata": {
    "collapsed": false
   },
   "outputs": [
    {
     "data": {
      "text/plain": [
       "(24.04344454038893,24.043444540388922)"
      ]
     },
     "execution_count": 26,
     "metadata": {},
     "output_type": "execute_result"
    }
   ],
   "source": [
    "# Fact 14\n",
    "norm(A), σ[1]"
   ]
  },
  {
   "cell_type": "code",
   "execution_count": 27,
   "metadata": {
    "collapsed": false
   },
   "outputs": [
    {
     "data": {
      "text/plain": [
       "(11.518737671982173,134.5922565166571)"
      ]
     },
     "execution_count": 27,
     "metadata": {},
     "output_type": "execute_result"
    }
   ],
   "source": [
    "# Fact 15\n",
    "B=rand(m,n)\n",
    "abs(trace(A*B')), sum(svdvals(A)⋅svdvals(B))"
   ]
  },
  {
   "cell_type": "code",
   "execution_count": 28,
   "metadata": {
    "collapsed": false
   },
   "outputs": [
    {
     "data": {
      "text/plain": [
       "(2,[24.043444540388922,21.601117837961112,17.8635139679196,10.289332947275364,4.830008178234782],[22.245176412903383,19.63022520898167,17.712075282351382,10.286931097521208,3.204344299640121],[22.83127345245567,18.416624778515274,13.663494099604073,10.289305773309232])"
      ]
     },
     "execution_count": 28,
     "metadata": {},
     "output_type": "execute_result"
    }
   ],
   "source": [
    "# Interlace Theorems (repeat several times)\n",
    "j=rand(1:q)\n",
    "σBrow=svdvals(A[[1:j-1;j+1:m],:])\n",
    "σBcol=svdvals(A[:,[1:j-1;j+1:n]])\n",
    "j, σ, σBrow, σBcol"
   ]
  },
  {
   "cell_type": "code",
   "execution_count": 29,
   "metadata": {
    "collapsed": false
   },
   "outputs": [
    {
     "data": {
      "text/plain": [
       "(Bool[true,true,true,true,true],Bool[true,true,true,true],Bool[true,true,true,true],Bool[true,true,true,true])"
      ]
     },
     "execution_count": 29,
     "metadata": {},
     "output_type": "execute_result"
    }
   ],
   "source": [
    "σ[1:end].>=σBrow, σ[1:end-1].>=σBcol, σ[2:end].<=σBrow[1:end-1], σ[2:end].<=σBcol"
   ]
  },
  {
   "cell_type": "code",
   "execution_count": 30,
   "metadata": {
    "collapsed": false
   },
   "outputs": [
    {
     "data": {
      "text/plain": [
       "5x3 Array{Float64,2}:\n",
       " 23.9055   24.0434   3.0671  \n",
       " 22.6926   21.6011   1.11292 \n",
       " 17.7938   17.8635   0.951415\n",
       " 10.269    10.2893   0.645251\n",
       "  4.65344   4.83001  0.558815"
      ]
     },
     "execution_count": 30,
     "metadata": {},
     "output_type": "execute_result"
    }
   ],
   "source": [
    "# Weyl Inequalities\n",
    "B=rand(m,n)\n",
    "μ=svdvals(B)\n",
    "γ=svdvals(A+B)\n",
    "[γ σ μ]"
   ]
  },
  {
   "cell_type": "code",
   "execution_count": 31,
   "metadata": {
    "collapsed": false
   },
   "outputs": [
    {
     "name": "stdout",
     "output_type": "stream",
     "text": [
      "k = rand(1:q) = 3\n"
     ]
    },
    {
     "data": {
      "text/plain": [
       "(64.39198222605349,68.639507885397)"
      ]
     },
     "execution_count": 31,
     "metadata": {},
     "output_type": "execute_result"
    }
   ],
   "source": [
    "@show k=rand(1:q)\n",
    "sum(γ[1:k]),sum(σ[1:k])+sum(μ[1:k])"
   ]
  },
  {
   "cell_type": "markdown",
   "metadata": {},
   "source": [
    "## Matrix approximation\n",
    "\n",
    "Let $A=U\\Sigma V^*$, let $\\tilde \\Sigma$ be equal to $\\Sigma$ except that \n",
    "$\\tilde \\Sigma_{jj}=0$ for $j>k$, and let $\\tilde A=U\\tilde \\Sigma V^*$. \n",
    "Then $\\mathop{\\mathrm{rank}}(\\tilde A)\\leq k$ and\n",
    "\\begin{align*}\n",
    "\\min\\{\\|A-B\\|_2: \\mathop{\\mathrm{rank}}(B)\\leq k\\} & =\\|A-\\tilde A\\|_2=\\sigma_{k+1}(A)\\\\\n",
    "\\min\\{\\|A-B\\|_F: \\mathop{\\mathrm{rank}}(B)\\leq k\\} & =\\|A-\\tilde A\\|_F=\n",
    "\\bigg(\\sum_{j=k+1}^{q}\\sigma_{j}^2(A)\\bigg)^{1/2}.\n",
    "\\end{align*}\n",
    "\n",
    "This is the __Eckart-Young-Mirsky Theorem__."
   ]
  },
  {
   "cell_type": "code",
   "execution_count": 32,
   "metadata": {
    "collapsed": false
   },
   "outputs": [
    {
     "name": "stdout",
     "output_type": "stream",
     "text": [
      "k = rand(1:q - 1) = 3\n"
     ]
    },
    {
     "data": {
      "text/plain": [
       "8x5 Array{Float64,2}:\n",
       "  9.35696  -1.63975   1.638      7.6804     -6.7975  \n",
       " -7.71657   9.77286  -4.34044   -0.0237447  -0.417785\n",
       " -6.69112   6.50383   0.637169  -1.2636     -9.09246 \n",
       "  3.90295   7.20597  -7.55878    8.77293     6.42577 \n",
       "  7.66901   3.57663  -4.64767    9.71457     2.53312 \n",
       " -2.11402   6.78308  -0.690142   3.19366    -8.41164 \n",
       " -6.32531   7.37136  -3.22459   -0.491988   -0.176049\n",
       " -6.95073   5.11829  -4.24086   -2.88601     6.75053 "
      ]
     },
     "execution_count": 32,
     "metadata": {},
     "output_type": "execute_result"
    }
   ],
   "source": [
    "@show k=rand(1:q-1)\n",
    "B=U*diagm([σ[1:k];zeros(q-k)])*V'"
   ]
  },
  {
   "cell_type": "code",
   "execution_count": 33,
   "metadata": {
    "collapsed": false
   },
   "outputs": [
    {
     "data": {
      "text/plain": [
       "(10.289332947275367,10.289332947275364)"
      ]
     },
     "execution_count": 33,
     "metadata": {},
     "output_type": "execute_result"
    }
   ],
   "source": [
    "norm(A-B), σ[k+1]"
   ]
  },
  {
   "cell_type": "code",
   "execution_count": 34,
   "metadata": {
    "collapsed": false
   },
   "outputs": [
    {
     "data": {
      "text/plain": [
       "(11.366589264229676,11.36658926422967)"
      ]
     },
     "execution_count": 34,
     "metadata": {},
     "output_type": "execute_result"
    }
   ],
   "source": [
    "vecnorm(A-B),vecnorm(σ[k+1:q])"
   ]
  },
  {
   "cell_type": "code",
   "execution_count": null,
   "metadata": {
    "collapsed": true
   },
   "outputs": [],
   "source": []
  }
 ],
 "metadata": {
  "kernelspec": {
   "display_name": "Julia 0.4.5",
   "language": "julia",
   "name": "julia-0.4"
  },
  "language_info": {
   "file_extension": ".jl",
   "mimetype": "application/julia",
   "name": "julia",
   "version": "0.4.5"
  }
 },
 "nbformat": 4,
 "nbformat_minor": 0
}
