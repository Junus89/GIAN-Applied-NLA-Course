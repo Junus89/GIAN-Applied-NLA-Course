{
 "cells": [
  {
   "cell_type": "markdown",
   "metadata": {},
   "source": [
    "# Updating of the SVD\n",
    "\n",
    "---\n",
    "\n",
    "In many applications which are bsed on SVD, arrival of new data requires SVD of the new matrix. Instead of computing from scratch, existing SVD can be updated. \n",
    "\n",
    "## Prerequisites\n",
    "\n",
    "The reader should be familiar with concepts of singular values and singular vectors, related perturbation theory, and algorithms.\n",
    " \n",
    "## Competences \n",
    "\n",
    "The reader should be able to recognise applications where SVD updating can be sucessfully applied and apply it.\n",
    "\n",
    "---"
   ]
  },
  {
   "cell_type": "markdown",
   "metadata": {},
   "source": [
    "## Facts\n",
    "\n",
    "Cite Gu Eisenstat\n",
    "\n",
    "\n",
    "1. Formulas\n",
    "\n",
    "2. Fast matrix multiply by FMM. Not yet in Julia. not for the timid quote by Steven G Johnson\n",
    "\n",
    "3. Formulas for update of the low rank approximation\n",
    "Check??\n",
    "\n",
    "\n",
    "\n",
    "\n"
   ]
  },
  {
   "cell_type": "code",
   "execution_count": 1,
   "metadata": {
    "collapsed": true
   },
   "outputs": [],
   "source": [
    "using Arrowhead"
   ]
  },
  {
   "cell_type": "code",
   "execution_count": 2,
   "metadata": {
    "collapsed": false
   },
   "outputs": [
    {
     "data": {
      "text/plain": [
       "mySVDupdate (generic function with 1 method)"
      ]
     },
     "execution_count": 2,
     "metadata": {},
     "output_type": "execute_result"
    }
   ],
   "source": [
    "function mySVDupdate{T}(svdA::Tuple,a::Array{T})\n",
    "    # Create the transposed  half-arrowhead\n",
    "    M=HalfArrow(svdA[2],vec(a*svdA[3]))\n",
    "    tols=[1e2,1e2,1e2,1e2]\n",
    "    U,σ,V=svd(M,tols)\n",
    "    # Return the updated SVD\n",
    "    m,n=size(svdA[1])\n",
    "    [svdA[1] zeros(T,m); zeros(T,1,n) one(T)]*V, σ, svdA[3]*U\n",
    "end "
   ]
  },
  {
   "cell_type": "code",
   "execution_count": 3,
   "metadata": {
    "collapsed": false
   },
   "outputs": [
    {
     "data": {
      "text/plain": [
       "1x6 Array{Float64,2}:\n",
       " 0.946012  0.0968017  0.939166  0.0293074  0.248543  0.347684"
      ]
     },
     "execution_count": 3,
     "metadata": {},
     "output_type": "execute_result"
    }
   ],
   "source": [
    "A=rand(10,6)\n",
    "a=rand(1,6)"
   ]
  },
  {
   "cell_type": "code",
   "execution_count": 4,
   "metadata": {
    "collapsed": false
   },
   "outputs": [
    {
     "data": {
      "text/plain": [
       "(\n",
       "10x6 Array{Float64,2}:\n",
       " -0.306815   0.337989   -0.560656   -0.174645   0.277643   0.107255 \n",
       " -0.349173  -0.287713   -0.404794    0.1691    -0.272782  -0.257683 \n",
       " -0.300912   0.018961    0.252369    0.189688  -0.351073  -0.317779 \n",
       " -0.316434   0.573323    0.0686027  -0.442953  -0.191134  -0.0857077\n",
       " -0.27584   -0.15399    -0.0886679   0.215055   0.55988    0.326521 \n",
       " -0.308098  -0.530847   -0.223337   -0.464906  -0.14838   -0.0313142\n",
       " -0.343128  -0.0345154   0.523302   -0.337503   0.13745    0.245049 \n",
       " -0.322639   0.137913    0.148894    0.29044    0.424686  -0.607882 \n",
       " -0.242793  -0.342442    0.315422   -0.014873   0.105006   0.0617331\n",
       " -0.376126   0.175887    0.012758    0.49784   -0.378102   0.522293 ,\n",
       "\n",
       "[4.129581986862035,1.471894428280029,1.184617553731599,0.9820142812542063,0.7569617184370029,0.459072134801279],\n",
       "6x6 Array{Float64,2}:\n",
       " -0.441653   0.441845  -0.382408    0.338141   -0.346594  -0.478552 \n",
       " -0.299133   0.350101  -0.0836182  -0.0575854  -0.28749    0.833661 \n",
       " -0.329555  -0.100683   0.0326145  -0.867256   -0.275998  -0.227781 \n",
       " -0.458498   0.400417   0.464813   -0.0397635   0.638031  -0.0687736\n",
       " -0.314538  -0.336728  -0.709981   -0.0651836   0.512423   0.129544 \n",
       " -0.545619  -0.631146   0.35438     0.352677   -0.226685   0.051009 )"
      ]
     },
     "execution_count": 4,
     "metadata": {},
     "output_type": "execute_result"
    }
   ],
   "source": [
    "svdA=svd(A)"
   ]
  },
  {
   "cell_type": "code",
   "execution_count": 5,
   "metadata": {
    "collapsed": false
   },
   "outputs": [
    {
     "data": {
      "text/plain": [
       "Tuple{Array{Float64,2},Array{Float64,1},Array{Float64,2}}"
      ]
     },
     "execution_count": 5,
     "metadata": {},
     "output_type": "execute_result"
    }
   ],
   "source": [
    "typeof(svdA)"
   ]
  },
  {
   "cell_type": "code",
   "execution_count": 6,
   "metadata": {
    "collapsed": false
   },
   "outputs": [
    {
     "data": {
      "text/plain": [
       "(\n",
       "11x6 Array{Float64,2}:\n",
       " -0.299894  -0.356744    -0.308518     0.329022   0.464735    0.0714526 \n",
       " -0.341419   0.26599     -0.309563     0.291419  -0.211272    0.00331226\n",
       " -0.291312  -0.00170872   0.189701    -0.104917  -0.427039   -0.0906741 \n",
       " -0.310298  -0.575683     0.00319067  -0.34804    0.153198    0.154221  \n",
       " -0.261243   0.182222     0.154816     0.379709   0.330238   -0.0711825 \n",
       " -0.302204   0.501868    -0.342012    -0.209804   0.242666    0.195408  \n",
       " -0.328298   0.0720045    0.389199    -0.458011   0.245105    0.129758  \n",
       " -0.308973  -0.104681     0.284546     0.189476   0.0207847  -0.72281   \n",
       " -0.231237   0.369066     0.248892    -0.157201   0.0315147  -0.0365259 \n",
       " -0.361331  -0.148895     0.197787     0.325657  -0.454031    0.521521  \n",
       " -0.255927  -0.104738    -0.54639     -0.331729  -0.312991   -0.327134  ,\n",
       "\n",
       "[4.264728253485725,1.475373686390643,1.3177444264714173,1.0741180485233488,0.8749849272255268,0.5663697893037765],\n",
       "6x6 Array{Float64,2}:\n",
       " -0.471223  -0.484667   -0.357252    0.264853    -0.505377   -0.299774  \n",
       " -0.286211  -0.333747    0.0777894   0.0903882    0.0521812   0.88868   \n",
       " -0.366239   0.0381966  -0.439109   -0.795794     0.195671    0.00428115\n",
       " -0.429639  -0.32893     0.6313     -0.0605774    0.437762   -0.336704  \n",
       " -0.30998    0.313426   -0.420615    0.533589     0.585566   -0.0339615 \n",
       " -0.530306   0.667698    0.313123    0.00263966  -0.41117     0.0764301 )"
      ]
     },
     "execution_count": 6,
     "metadata": {},
     "output_type": "execute_result"
    }
   ],
   "source": [
    "U,σ,V=mySVDupdate(svdA,a)"
   ]
  },
  {
   "cell_type": "code",
   "execution_count": 7,
   "metadata": {
    "collapsed": false
   },
   "outputs": [
    {
     "data": {
      "text/plain": [
       "(2.512604090902993e-15,1.062105824865259e-15,1.3105623731303996e-15)"
      ]
     },
     "execution_count": 7,
     "metadata": {},
     "output_type": "execute_result"
    }
   ],
   "source": [
    "# Check the residual and orthogonality\n",
    "norm([A;a]*V-U*diagm(σ)), norm(U'*U-I), norm(V'*V-I)"
   ]
  },
  {
   "cell_type": "code",
   "execution_count": 68,
   "metadata": {
    "collapsed": false
   },
   "outputs": [
    {
     "data": {
      "text/plain": [
       "(\n",
       "6x6 Array{Float64,2}:\n",
       " -0.281999   0.342436   0.0666467  -0.232775    0.781496   -0.365858 \n",
       " -0.342072  -0.220217  -0.232909    0.656641    0.394435    0.439873 \n",
       " -0.455005  -0.528283  -0.48063    -0.52735    -0.0625835  -0.0294635\n",
       " -0.488597   0.265966  -0.181113    0.401787   -0.421863   -0.564209 \n",
       " -0.490137  -0.267391   0.817571   -0.0464552  -0.105116    0.0814748\n",
       " -0.342742   0.642591  -0.0953018  -0.270093   -0.201868    0.588915 ,\n",
       "\n",
       "[4.141654822132848,1.0130096189045434,0.7751011927223213,0.7145760551997399,0.6755955736910462,0.36155550505707673],\n",
       "10x6 Array{Float64,2}:\n",
       " -0.264798  -0.121022   0.239101   -0.380422    0.395491    0.344028 \n",
       " -0.397134   0.20734    0.177677    0.30377    -0.143297    0.169275 \n",
       " -0.415609   0.398775  -0.571998   -0.145926    0.264855   -0.0860118\n",
       " -0.378371  -0.26802    0.044335   -0.270809    0.209556   -0.471084 \n",
       " -0.193933  -0.206378  -0.48869    -0.152805   -0.132934    0.545448 \n",
       " -0.253689   0.216705   0.0438136   0.687766    0.329775    0.0449294\n",
       " -0.248577   0.341137   0.556283   -0.302176    0.019732    0.0794861\n",
       " -0.313098  -0.615079   0.157244    0.247805   -0.0625169   0.248565 \n",
       " -0.284237  -0.301969  -0.0825142   0.099931   -0.0908554  -0.503802 \n",
       " -0.337181   0.18993    0.0198019  -0.0964178  -0.754994   -0.0471344)"
      ]
     },
     "execution_count": 68,
     "metadata": {},
     "output_type": "execute_result"
    }
   ],
   "source": [
    "# Now flat matrix\n",
    "A=rand(6,10)\n",
    "a=rand(1,10)\n",
    "svdA=svd(A)"
   ]
  },
  {
   "cell_type": "code",
   "execution_count": 70,
   "metadata": {
    "collapsed": false
   },
   "outputs": [
    {
     "data": {
      "text/plain": [
       "(3.3808026136706135e-15,1.2370444518846416e-15,1.6126633287411169e-15)"
      ]
     },
     "execution_count": 70,
     "metadata": {},
     "output_type": "execute_result"
    }
   ],
   "source": [
    "U,σ,V=mySVDupdate(svdA,a)\n",
    "norm([A;a]*V-U*diagm(σ)), norm(U'*U-I), norm(V'*V-I)\n",
    "# size(U), size(V), size(σ)"
   ]
  },
  {
   "cell_type": "code",
   "execution_count": 72,
   "metadata": {
    "collapsed": false
   },
   "outputs": [
    {
     "ename": "LoadError",
     "evalue": "LoadError: DimensionMismatch(\"dimensions must match\")\nwhile loading In[72], in expression starting on line 1",
     "output_type": "error",
     "traceback": [
      "LoadError: DimensionMismatch(\"dimensions must match\")\nwhile loading In[72], in expression starting on line 1",
      "",
      " in - at arraymath.jl:96"
     ]
    }
   ],
   "source": [
    "σ-svdvals( [A;a])"
   ]
  },
  {
   "cell_type": "code",
   "execution_count": 71,
   "metadata": {
    "collapsed": false
   },
   "outputs": [
    {
     "data": {
      "text/plain": [
       "(\n",
       "7x7 Array{Float64,2}:\n",
       " -0.262359  -0.280627   -0.165621   …  -0.755576    0.34356     0.303017 \n",
       " -0.313486   0.301929   -0.0667273     -0.441609   -0.264032   -0.402582 \n",
       " -0.423945   0.321332    0.610069       0.126129    0.566626   -0.083875 \n",
       " -0.450043  -0.0926336  -0.333465       0.396297    0.0910133   0.547395 \n",
       " -0.447492   0.490037   -0.372479       0.0833281  -0.265048   -0.0351029\n",
       " -0.320303  -0.562082   -0.254215   …   0.232102    0.201515   -0.644509 \n",
       " -0.384426  -0.402715    0.530441      -0.0176475  -0.609956    0.151026 ,\n",
       "\n",
       "[4.474468165033492,1.0438634751489035,0.9427737690466722,0.7448358448818903,0.6759935278841166,0.4671121950183406,0.35497015083843114],\n",
       "10x7 Array{Float64,2}:\n",
       " -0.281618   0.0183395   0.189534   …  -0.373395    -0.146902   -0.294382 \n",
       " -0.367914   0.0411765  -0.480864       0.117476     0.046802   -0.219599 \n",
       " -0.430664  -0.497152    0.144214      -0.22926      0.453588   -0.0142073\n",
       " -0.40321    0.0937859   0.358878      -0.193661    -0.141124    0.55757  \n",
       " -0.2151    -0.01951     0.492299       0.157455     0.0204651  -0.547927 \n",
       " -0.254769  -0.0868853  -0.323396   …  -0.392757    -0.56832     0.0961471\n",
       " -0.227733  -0.125077   -0.479407      -0.00469563   0.227893   -0.159518 \n",
       " -0.285582   0.694787    0.0198105      0.0372529   -0.10598    -0.253797 \n",
       " -0.249528   0.414778   -0.0681206      0.093447     0.502075    0.359786 \n",
       " -0.36114   -0.252326    0.0380567      0.753338    -0.334543    0.158919 )"
      ]
     },
     "execution_count": 71,
     "metadata": {},
     "output_type": "execute_result"
    }
   ],
   "source": [
    "svd([A;a])"
   ]
  },
  {
   "cell_type": "code",
   "execution_count": 22,
   "metadata": {
    "collapsed": false
   },
   "outputs": [],
   "source": [
    "## Adding column\n",
    "A=rand(10,6)\n",
    "a=rand(10);"
   ]
  },
  {
   "cell_type": "code",
   "execution_count": 26,
   "metadata": {
    "collapsed": false
   },
   "outputs": [
    {
     "data": {
      "text/plain": [
       "(\n",
       "10x6 Array{Float64,2}:\n",
       " -0.334945   0.107286    0.550626   -0.0899171   0.238544    0.362826 \n",
       " -0.252387  -0.0699709   0.193986   -0.564571   -0.244706   -0.298284 \n",
       " -0.362409  -0.531473    0.122371    0.244457    0.0463312   0.275004 \n",
       " -0.338202   0.265972   -0.273067    0.127383    0.318774   -0.0335259\n",
       " -0.227804   0.0923144   0.409618   -0.292387   -0.106216   -0.140736 \n",
       " -0.328838   0.367364    0.16184     0.489107   -0.0434299  -0.594752 \n",
       " -0.250651   0.200837   -0.0256626   0.30983    -0.698287    0.427664 \n",
       " -0.342296  -0.215244   -0.471947   -0.240229   -0.352626   -0.15894  \n",
       " -0.287924   0.466598   -0.358564   -0.325253    0.250056    0.321486 \n",
       " -0.394296  -0.427237   -0.153946    0.113928    0.302996   -0.132603 ,\n",
       "\n",
       "[4.290546367102431,1.1252803872795551,1.0983833723410092,0.7544162294031178,0.5118807487246582,0.36317254976471386],\n",
       "6x6 Array{Float64,2}:\n",
       " -0.539833   0.0884078  -0.304157   0.311429   0.446038    0.558852  \n",
       " -0.352672   0.744103    0.434293  -0.336851  -0.124841    0.0653366 \n",
       " -0.323123  -0.181766   -0.562621  -0.691969  -0.259192    0.00289975\n",
       " -0.411522  -0.362912    0.296233   0.306129  -0.690517    0.201648  \n",
       " -0.389495  -0.478513    0.479581  -0.266704   0.489001   -0.28119   \n",
       " -0.398419   0.211604   -0.290834   0.381937  -0.0484603  -0.750785  )"
      ]
     },
     "execution_count": 26,
     "metadata": {},
     "output_type": "execute_result"
    }
   ],
   "source": [
    "svdA=svd(A)"
   ]
  },
  {
   "cell_type": "code",
   "execution_count": 65,
   "metadata": {
    "collapsed": false
   },
   "outputs": [
    {
     "data": {
      "text/plain": [
       "mySVDupdate (generic function with 2 methods)"
      ]
     },
     "execution_count": 65,
     "metadata": {},
     "output_type": "execute_result"
    }
   ],
   "source": [
    "function mySVDupdate{T}(svdA::Tuple,a::Vector{T})\n",
    "    # Create the half-arrowhead\n",
    "    M=HalfArrow(svdA[2],svdA[1]'*a)\n",
    "    @show size(M)\n",
    "    tols=[1e2,1e2,1e2,1e2]\n",
    "    U,σ,V=svd(M,tols)\n",
    "    @show size(U), size(σ), size(V)\n",
    "    # Return the updated SVD\n",
    "    m,n=size(svdA[3])\n",
    "    svdA[1]*U, σ, [svdA[3] zeros(T,m); zeros(T,1,n) one(T)]*V\n",
    "end "
   ]
  },
  {
   "cell_type": "code",
   "execution_count": 66,
   "metadata": {
    "collapsed": false
   },
   "outputs": [
    {
     "name": "stdout",
     "output_type": "stream",
     "text": [
      "size(M) = (6,7)\n",
      "(size(U),size(σ),size(V)) = ((6,6),(6,),(7,6))\n"
     ]
    },
    {
     "data": {
      "text/plain": [
       "(\n",
       "10x6 Array{Float64,2}:\n",
       " -0.365159  -0.491145   -0.196811    0.205438    0.120388    -0.39182  \n",
       " -0.240547   0.0308788  -0.147385    0.583556   -0.2165       0.32538  \n",
       " -0.367274   0.100694   -0.523612   -0.29502    -0.0187657   -0.244384 \n",
       " -0.327544   0.127761    0.372217   -0.0896152   0.312192    -0.104912 \n",
       " -0.238545  -0.292052   -0.128551    0.39112    -0.0521563    0.174252 \n",
       " -0.340378  -0.29861     0.227316   -0.277457    0.371653     0.626354 \n",
       " -0.288643  -0.294844    0.165054   -0.451697   -0.684252    -0.0243784\n",
       " -0.311267   0.541856    0.0685329   0.0698027  -0.37176      0.235112 \n",
       " -0.278804   0.114232    0.590842    0.26538    -0.00306744  -0.43651  \n",
       " -0.368682   0.404115   -0.278559   -0.113595    0.30587     -0.0278903,\n",
       "\n",
       "[4.551960818695622,1.302391394540045,1.1185264235104846,0.8060191902172774,0.5666453928912423,0.43254955780157367],\n",
       "7x6 Array{Float64,2}:\n",
       " -0.50652    0.237134    0.235101   -0.298829   0.318598    -0.58265  \n",
       " -0.339959  -0.51813     0.422183    0.5699     0.00882759   0.135718 \n",
       " -0.294309   0.597164    0.146399    0.407543  -0.559059    -0.079567 \n",
       " -0.391335  -0.0402472  -0.466234   -0.276495  -0.415717     0.333227 \n",
       " -0.365639   0.0333535  -0.643793    0.418179   0.46505     -0.0215604\n",
       " -0.372786   0.175195    0.334447   -0.299182   0.288116     0.664394 \n",
       " -0.33977   -0.534115   -0.0368567  -0.281052  -0.337295    -0.287827 )"
      ]
     },
     "execution_count": 66,
     "metadata": {},
     "output_type": "execute_result"
    }
   ],
   "source": [
    "U,σ,V=mySVDupdate(svdA,a)"
   ]
  },
  {
   "cell_type": "code",
   "execution_count": 60,
   "metadata": {
    "collapsed": false
   },
   "outputs": [
    {
     "data": {
      "text/plain": [
       "7-element Array{Float64,1}:\n",
       " 4.55759 \n",
       " 1.35785 \n",
       " 1.11878 \n",
       " 0.834983\n",
       " 0.626184\n",
       " 0.471131\n",
       " 0.287832"
      ]
     },
     "execution_count": 60,
     "metadata": {},
     "output_type": "execute_result"
    }
   ],
   "source": [
    "svdvals([A a])"
   ]
  },
  {
   "cell_type": "code",
   "execution_count": 43,
   "metadata": {
    "collapsed": false
   },
   "outputs": [
    {
     "data": {
      "text/plain": [
       "6x6 Array{Float64,2}:\n",
       "  1.0          -1.94289e-16  -2.77556e-17  …  -6.93889e-17  -2.48065e-16\n",
       " -1.94289e-16   1.0           3.46945e-16      9.71445e-17  -3.08781e-16\n",
       " -2.77556e-17   3.46945e-16   1.0              2.77556e-17  -1.73472e-17\n",
       "  1.17961e-16  -2.15106e-16   1.38778e-17      4.996e-16    -4.74013e-16\n",
       " -6.93889e-17   9.71445e-17   2.77556e-17      1.0          -2.42861e-16\n",
       " -2.48065e-16  -3.08781e-16  -1.73472e-17  …  -2.42861e-16   1.0        "
      ]
     },
     "execution_count": 43,
     "metadata": {},
     "output_type": "execute_result"
    }
   ],
   "source": [
    "U'*U"
   ]
  },
  {
   "cell_type": "code",
   "execution_count": 48,
   "metadata": {
    "collapsed": false
   },
   "outputs": [
    {
     "data": {
      "text/plain": [
       "6x6 Array{Float64,2}:\n",
       "  1.0           5.55112e-17   3.64292e-17  …  -1.38778e-17  -1.11022e-16\n",
       "  5.55112e-17   1.0          -1.52656e-16      5.55112e-17   8.32667e-17\n",
       "  3.64292e-17  -1.52656e-16   1.0              2.42861e-16   2.56739e-16\n",
       " -5.55112e-17   2.77556e-16  -3.60822e-16     -4.02456e-16   1.249e-16  \n",
       " -1.38778e-17   5.55112e-17   2.42861e-16      1.0          -2.08167e-16\n",
       " -1.11022e-16   8.32667e-17   2.56739e-16  …  -2.08167e-16   1.0        "
      ]
     },
     "execution_count": 48,
     "metadata": {},
     "output_type": "execute_result"
    }
   ],
   "source": [
    "V'*V"
   ]
  },
  {
   "cell_type": "code",
   "execution_count": 53,
   "metadata": {
    "collapsed": false
   },
   "outputs": [
    {
     "data": {
      "text/plain": [
       "((10,6),(7,6),(6,),(7,))"
      ]
     },
     "execution_count": 53,
     "metadata": {},
     "output_type": "execute_result"
    }
   ],
   "source": [
    "size(U), size(V), size(σ), size(svdvals([A a]))"
   ]
  },
  {
   "cell_type": "code",
   "execution_count": 45,
   "metadata": {
    "collapsed": false
   },
   "outputs": [
    {
     "ename": "LoadError",
     "evalue": "LoadError: DimensionMismatch(\"vectors must have same lengths\")\nwhile loading In[45], in expression starting on line 1",
     "output_type": "error",
     "traceback": [
      "LoadError: DimensionMismatch(\"vectors must have same lengths\")\nwhile loading In[45], in expression starting on line 1",
      ""
     ]
    }
   ],
   "source": [
    "[σ svdvals([A a])]"
   ]
  },
  {
   "cell_type": "code",
   "execution_count": 44,
   "metadata": {
    "collapsed": false
   },
   "outputs": [
    {
     "data": {
      "text/plain": [
       "(0.5433617351502733,1.7185954739242217e-15,8.690024405000181e-16)"
      ]
     },
     "execution_count": 44,
     "metadata": {},
     "output_type": "execute_result"
    }
   ],
   "source": [
    "norm([A a]*V-U*diagm(σ)), norm(U'*U-I), norm(V'*V-I)"
   ]
  },
  {
   "cell_type": "code",
   "execution_count": 18,
   "metadata": {
    "collapsed": false
   },
   "outputs": [
    {
     "data": {
      "text/plain": [
       "11x7 Array{Float64,2}:\n",
       " -0.310347   0.543758    0.441248   0.114664    0.00844302    0.107802   0.0\n",
       " -0.284931  -0.0716041   0.145376  -0.37171     0.0679037     0.464136   0.0\n",
       " -0.243492  -0.168846   -0.319086   0.700472    0.439367      0.220461   0.0\n",
       " -0.307528  -0.255613    0.564394   0.330007    0.0120029    -0.258747   0.0\n",
       " -0.345389  -0.195198    0.256736  -0.220623    0.164508      0.278901   0.0\n",
       " -0.364148   0.161774   -0.439008  -0.102759    0.000185864   0.308708   0.0\n",
       " -0.246942  -0.496497   -0.119943  -0.383784    0.28328      -0.330109   0.0\n",
       " -0.217994   0.523153   -0.139184  -0.185431    0.490077     -0.48469    0.0\n",
       " -0.374841   0.0914266  -0.22611    0.0337843  -0.547967     -0.0217932  0.0\n",
       " -0.409551  -0.111903   -0.14242    0.0840736  -0.392908     -0.374092   0.0\n",
       "  0.0        0.0         0.0        0.0         0.0           0.0        1.0"
      ]
     },
     "execution_count": 18,
     "metadata": {},
     "output_type": "execute_result"
    }
   ],
   "source": [
    "m,n=size(U)\n",
    "U0=[U zeros(m); zeros(1,n) 1]"
   ]
  },
  {
   "cell_type": "code",
   "execution_count": 35,
   "metadata": {
    "collapsed": false
   },
   "outputs": [
    {
     "data": {
      "text/plain": [
       "7x6 Array{Float64,2}:\n",
       "  1.77636e-15  -4.1877e-16   -4.31918e-16  …   6.72662e-16   7.46064e-16\n",
       "  9.41254e-16  -2.22045e-16  -3.37497e-17     -5.73316e-16  -2.77792e-16\n",
       " -6.45435e-16   2.19738e-16  -2.22045e-16     -3.95135e-16   1.37814e-16\n",
       "  2.32779e-16  -2.75947e-17   3.12168e-16     -2.14166e-16  -5.96204e-17\n",
       "  2.43254e-16   6.292e-18    -2.52017e-17      3.33067e-16  -6.55537e-17\n",
       " -4.93285e-16   1.04436e-16  -7.77247e-17  …   6.82968e-18  -2.77556e-16\n",
       "  0.0           0.0           0.0              0.0           0.0        "
      ]
     },
     "execution_count": 35,
     "metadata": {},
     "output_type": "execute_result"
    }
   ],
   "source": [
    "U0'*A1*V-full(M)'"
   ]
  },
  {
   "cell_type": "code",
   "execution_count": 19,
   "metadata": {
    "collapsed": false
   },
   "outputs": [
    {
     "data": {
      "text/plain": [
       "(\n",
       "1x6 Array{Float64,2}:\n",
       " 0.642881  0.403617  0.196846  0.130349  0.149231  0.952014,\n",
       "\n",
       "1x6 Array{Float64,2}:\n",
       " -0.976089  0.368572  0.643954  -0.141822  -0.0873498  0.171836)"
      ]
     },
     "execution_count": 19,
     "metadata": {},
     "output_type": "execute_result"
    }
   ],
   "source": [
    "a, a*V"
   ]
  },
  {
   "cell_type": "code",
   "execution_count": 31,
   "metadata": {
    "collapsed": false
   },
   "outputs": [
    {
     "data": {
      "text/plain": [
       "6-element Array{Float64,1}:\n",
       " -0.976089 \n",
       "  0.368572 \n",
       "  0.643954 \n",
       " -0.141822 \n",
       " -0.0873498\n",
       "  0.171836 "
      ]
     },
     "execution_count": 31,
     "metadata": {},
     "output_type": "execute_result"
    }
   ],
   "source": [
    "vec(a*V)"
   ]
  },
  {
   "cell_type": "code",
   "execution_count": 32,
   "metadata": {
    "collapsed": false
   },
   "outputs": [
    {
     "data": {
      "text/plain": [
       "6x7 Arrowhead.HalfArrow{Float64}:\n",
       " 4.40368  0.0     0.0      0.0       0.0      0.0       -0.976089 \n",
       " 0.0      1.2214  0.0      0.0       0.0      0.0        0.368572 \n",
       " 0.0      0.0     1.11329  0.0       0.0      0.0        0.643954 \n",
       " 0.0      0.0     0.0      0.931373  0.0      0.0       -0.141822 \n",
       " 0.0      0.0     0.0      0.0       0.76747  0.0       -0.0873498\n",
       " 0.0      0.0     0.0      0.0       0.0      0.309547   0.171836 "
      ]
     },
     "execution_count": 32,
     "metadata": {},
     "output_type": "execute_result"
    }
   ],
   "source": [
    "M=HalfArrow(σ,vec(a*V))"
   ]
  },
  {
   "cell_type": "code",
   "execution_count": 34,
   "metadata": {
    "collapsed": false
   },
   "outputs": [
    {
     "data": {
      "text/plain": [
       "7x6 Array{Float64,2}:\n",
       "  4.40368   0.0       0.0        0.0        0.0        0.0     \n",
       "  0.0       1.2214    0.0        0.0        0.0        0.0     \n",
       "  0.0       0.0       1.11329    0.0        0.0        0.0     \n",
       "  0.0       0.0       0.0        0.931373   0.0        0.0     \n",
       "  0.0       0.0       0.0        0.0        0.76747    0.0     \n",
       "  0.0       0.0       0.0        0.0        0.0        0.309547\n",
       " -0.976089  0.368572  0.643954  -0.141822  -0.0873498  0.171836"
      ]
     },
     "execution_count": 34,
     "metadata": {},
     "output_type": "execute_result"
    }
   ],
   "source": [
    "full(M)'"
   ]
  },
  {
   "cell_type": "code",
   "execution_count": 41,
   "metadata": {
    "collapsed": false
   },
   "outputs": [
    {
     "data": {
      "text/plain": [
       "(\n",
       "6x6 Array{Float64,2}:\n",
       "  0.999159    -0.0393088  -0.00945199  -0.0031621  -0.00243759  -0.00556286\n",
       " -0.0196583   -0.68306     0.728366     0.0359029   0.0192541    0.0294058 \n",
       " -0.0338931   -0.717641   -0.682933     0.106297    0.0467775    0.0629066 \n",
       "  0.00732217   0.0995589   0.0460727    0.993425   -0.02427     -0.0207006 \n",
       "  0.00444635   0.0480168   0.0186777    0.0182561   0.99829     -0.0202353 \n",
       " -0.00853422  -0.0682387  -0.0228872   -0.0132114  -0.0162222   -0.997151  ,\n",
       "\n",
       "[4.514020344770876,1.3684005689347913,1.1847630243586456,0.9359586877589603,0.7701411288311224,0.3387510609428389],\n",
       "7x6 Array{Float64,2}:\n",
       "  0.974736     -0.1265     -0.0351324   -0.0148776   -0.0139382   -0.0723158\n",
       " -0.0053191    -0.609681    0.750888     0.0468522    0.0305359    0.106025 \n",
       " -0.00835902   -0.583851   -0.641733     0.126436     0.0676199    0.20674  \n",
       "  0.00151077    0.0677627   0.036219     0.988558    -0.029351    -0.0569148\n",
       "  0.000755964   0.0269303   0.0120991    0.0149697    0.994827    -0.0458449\n",
       " -0.00058523   -0.0154363  -0.00597981  -0.00436938  -0.00652028  -0.911186 \n",
       " -0.223134     -0.515606   -0.147029    -0.0640892   -0.0609597   -0.324326 ,\n",
       "\n",
       "[1,2,2,4,5,6],[1.0046047141885857,2.863408048844883,2.863408048844883,1.716183991864268,2.805297206534745,25.602288249309133],[1.0,9.54830969601963,9.54830969601963,32.54158956250485,64.11838335705399,80.80996958518675],[1.1942788120196381,5.805947471417275,1.3442667821904928,1.2487681950267457,1.1986778024837608,1.6792449629914872],[0.0,0.0,0.0,0.0,0.0,0.0],[0,0,0,0,0,0])"
      ]
     },
     "execution_count": 41,
     "metadata": {},
     "output_type": "execute_result"
    }
   ],
   "source": [
    "tols=[1e2,1e2,1e2,1e2]\n",
    "U2,σ2,V2=svd(M,tols)"
   ]
  },
  {
   "cell_type": "code",
   "execution_count": 43,
   "metadata": {
    "collapsed": false
   },
   "outputs": [
    {
     "data": {
      "text/plain": [
       "7x6 Array{Float64,2}:\n",
       "  0.974736     -0.1265     -0.0351324   -0.0148776   -0.0139382   -0.0723158\n",
       " -0.0053191    -0.609681    0.750888     0.0468522    0.0305359    0.106025 \n",
       " -0.00835902   -0.583851   -0.641733     0.126436     0.0676199    0.20674  \n",
       "  0.00151077    0.0677627   0.036219     0.988558    -0.029351    -0.0569148\n",
       "  0.000755964   0.0269303   0.0120991    0.0149697    0.994827    -0.0458449\n",
       " -0.00058523   -0.0154363  -0.00597981  -0.00436938  -0.00652028  -0.911186 \n",
       " -0.223134     -0.515606   -0.147029    -0.0640892   -0.0609597   -0.324326 "
      ]
     },
     "execution_count": 43,
     "metadata": {},
     "output_type": "execute_result"
    }
   ],
   "source": [
    "V2"
   ]
  },
  {
   "cell_type": "code",
   "execution_count": 42,
   "metadata": {
    "collapsed": false
   },
   "outputs": [
    {
     "data": {
      "text/plain": [
       "6-element Array{Float64,1}:\n",
       " -1.77636e-15\n",
       "  0.0        \n",
       " -8.88178e-16\n",
       " -2.22045e-16\n",
       " -3.33067e-16\n",
       " -5.55112e-16"
      ]
     },
     "execution_count": 42,
     "metadata": {},
     "output_type": "execute_result"
    }
   ],
   "source": [
    "σ1-σ2"
   ]
  },
  {
   "cell_type": "code",
   "execution_count": 45,
   "metadata": {
    "collapsed": false
   },
   "outputs": [
    {
     "data": {
      "text/plain": [
       "11x6 Array{Float64,2}:\n",
       " -0.30897   -0.54355      0.139652    0.19889      0.0550979   0.066178 \n",
       " -0.279349  -0.0357022   -0.152466   -0.349204     0.0870514  -0.361804 \n",
       " -0.232513   0.375938     0.115905    0.653439     0.391759   -0.327152 \n",
       " -0.302457  -0.108098    -0.529678    0.391501     0.0385871   0.328255 \n",
       " -0.338143  -0.00202013  -0.306861   -0.1884       0.184528   -0.191758 \n",
       " -0.352475   0.192026     0.410429   -0.145438    -0.0184821  -0.322725 \n",
       " -0.237233   0.39069     -0.295666   -0.408463     0.275402    0.250067 \n",
       " -0.213732  -0.202003     0.491919   -0.163699     0.505746    0.472186 \n",
       " -0.364318   0.11156      0.221647    0.00656188  -0.553255    0.0331109\n",
       " -0.397369   0.204076     0.0222857   0.0617077   -0.398243    0.342403 \n",
       " -0.223134  -0.515606    -0.147029   -0.0640892   -0.0609597  -0.324326 "
      ]
     },
     "execution_count": 45,
     "metadata": {},
     "output_type": "execute_result"
    }
   ],
   "source": [
    "U3=U0*V2"
   ]
  },
  {
   "cell_type": "code",
   "execution_count": 47,
   "metadata": {
    "collapsed": false
   },
   "outputs": [
    {
     "data": {
      "text/plain": [
       "6x6 Array{Float64,2}:\n",
       "  1.0           1.05611e-16   2.30403e-16  …   1.07919e-16  1.14292e-18\n",
       " -1.89864e-16  -1.0           4.09408e-15     -2.52225e-16  4.79774e-18\n",
       "  2.31026e-16  -4.23942e-15  -1.0             -3.69906e-16  1.87658e-16\n",
       " -3.68549e-18   3.24273e-16   7.46816e-16      2.90536e-16  1.95574e-16\n",
       " -1.81887e-17   2.23886e-16   2.32669e-16     -1.0          5.78448e-16\n",
       " -1.8735e-16    3.34177e-17   7.71201e-17  …   6.30672e-16  1.0        "
      ]
     },
     "execution_count": 47,
     "metadata": {},
     "output_type": "execute_result"
    }
   ],
   "source": [
    "U1'*U3"
   ]
  },
  {
   "cell_type": "code",
   "execution_count": 61,
   "metadata": {
    "collapsed": false
   },
   "outputs": [
    {
     "data": {
      "text/plain": [
       "6x6 Array{Float64,2}:\n",
       " -0.523682  -0.270147   0.205787  -0.397521   -0.174285    0.649639\n",
       " -0.356794  -0.203338   0.653516   0.0895813   0.492284   -0.392302\n",
       " -0.396251   0.462735  -0.171205  -0.595925   -0.138538   -0.474585\n",
       " -0.443001   0.425452  -0.365098   0.372025    0.510829    0.300156\n",
       " -0.343474   0.22816    0.249803   0.563471   -0.664178   -0.094523\n",
       " -0.356673  -0.662181  -0.552774   0.151408   -0.0775157  -0.315925"
      ]
     },
     "execution_count": 61,
     "metadata": {},
     "output_type": "execute_result"
    }
   ],
   "source": [
    "V3=V*U2"
   ]
  },
  {
   "cell_type": "code",
   "execution_count": 62,
   "metadata": {
    "collapsed": false
   },
   "outputs": [
    {
     "data": {
      "text/plain": [
       "6x6 Array{Float64,2}:\n",
       "  1.0           1.89356e-16   6.92567e-17  …   1.99463e-16  -2.4481e-16 \n",
       " -3.20586e-17  -1.0           3.70151e-15     -7.48401e-16   3.93587e-16\n",
       "  2.25308e-16  -4.94572e-15  -1.0             -3.74124e-16  -3.16732e-16\n",
       "  4.11038e-17   2.92499e-16   1.20515e-16      7.51529e-16   2.87029e-16\n",
       "  1.35691e-16   4.4131e-16    4.2814e-16      -1.0           1.37344e-16\n",
       " -5.62596e-17  -2.82631e-16  -6.20154e-17  …   3.37623e-16   1.0        "
      ]
     },
     "execution_count": 62,
     "metadata": {},
     "output_type": "execute_result"
    }
   ],
   "source": [
    "V1'*V3"
   ]
  },
  {
   "cell_type": "code",
   "execution_count": 64,
   "metadata": {
    "collapsed": false
   },
   "outputs": [
    {
     "data": {
      "text/plain": [
       "3.77831371065132e-15"
      ]
     },
     "execution_count": 64,
     "metadata": {},
     "output_type": "execute_result"
    }
   ],
   "source": [
    "# Residual\n",
    "norm(A1*V3-U3*diagm(σ2))"
   ]
  },
  {
   "cell_type": "code",
   "execution_count": null,
   "metadata": {
    "collapsed": true
   },
   "outputs": [],
   "source": []
  },
  {
   "cell_type": "code",
   "execution_count": 38,
   "metadata": {
    "collapsed": false
   },
   "outputs": [
    {
     "data": {
      "text/html": [
       "8 methods for generic function <b>svd</b>:<ul><li> svd(A::<b>Base.LinAlg.AbstractTriangular{T,S<:AbstractArray{T,2}}</b>) at <a href=\"https://github.com/JuliaLang/julia/tree/2ac304dfba75fad148d4070ef4f8a2e400c305bb/base/linalg/triangular.jl#L1300\" target=\"_blank\">linalg/triangular.jl:1300</a><li> svd<i>{T<:Number}</i>(D::<b>Diagonal{T<:Number}</b>) at <a href=\"https://github.com/JuliaLang/julia/tree/2ac304dfba75fad148d4070ef4f8a2e400c305bb/base/linalg/diagonal.jl#L211\" target=\"_blank\">linalg/diagonal.jl:211</a><li> svd<i>{T<:Union{Float32,Float64}}</i>(M::<b>Bidiagonal{T<:Union{Float32,Float64}}</b>) at <a href=\"https://github.com/JuliaLang/julia/tree/2ac304dfba75fad148d4070ef4f8a2e400c305bb/base/linalg/bidiag.jl#L79\" target=\"_blank\">linalg/bidiag.jl:79</a><li> svd(A::<b>BitArray{2}</b>) at <a href=\"https://github.com/JuliaLang/julia/tree/2ac304dfba75fad148d4070ef4f8a2e400c305bb/base/linalg/bitarray.jl#L101\" target=\"_blank\">linalg/bitarray.jl:101</a><li> svd(A::<b>Arrowhead.HalfArrow{T<:Real}</b>, tols::<b>Array{Float64,1}</b>) at <a href=\"file://C:\\Users\\Ivan\\.julia\\v0.4\\Arrowhead\\src\\arrowhead6.jl\" target=\"_blank\">C:\\Users\\Ivan\\.julia\\v0.4\\Arrowhead\\src\\arrowhead6.jl:479</a><li> svd(A::<b>AbstractArray{T,2}</b>, B::<b>AbstractArray{T,2}</b>) at <a href=\"https://github.com/JuliaLang/julia/tree/2ac304dfba75fad148d4070ef4f8a2e400c305bb/base/linalg/svd.jl#L90\" target=\"_blank\">linalg/svd.jl:90</a><li> svd(A::<b>Arrowhead.HalfArrow{T<:Real}</b>, k::<b>Integer</b>, tols::<b>Array{Float64,1}</b>) at <a href=\"file://C:\\Users\\Ivan\\.julia\\v0.4\\Arrowhead\\src\\arrowhead6.jl\" target=\"_blank\">C:\\Users\\Ivan\\.julia\\v0.4\\Arrowhead\\src\\arrowhead6.jl:291</a><li> svd(A::<b>Union{AbstractArray{T,N},Number}</b>) at <a href=\"https://github.com/JuliaLang/julia/tree/2ac304dfba75fad148d4070ef4f8a2e400c305bb/base/linalg/svd.jl#L29\" target=\"_blank\">linalg/svd.jl:29</a></ul>"
      ],
      "text/plain": [
       "# 8 methods for generic function \"svd\":\n",
       "svd(A::Base.LinAlg.AbstractTriangular{T,S<:AbstractArray{T,2}}) at linalg/triangular.jl:1300\n",
       "svd{T<:Number}(D::Diagonal{T<:Number}) at linalg/diagonal.jl:211\n",
       "svd{T<:Union{Float32,Float64}}(M::Bidiagonal{T<:Union{Float32,Float64}}) at linalg/bidiag.jl:79\n",
       "svd(A::BitArray{2}) at linalg/bitarray.jl:101\n",
       "svd(A::Arrowhead.HalfArrow{T<:Real}, tols::Array{Float64,1}) at C:\\Users\\Ivan\\.julia\\v0.4\\Arrowhead\\src\\arrowhead6.jl:479\n",
       "svd(A::AbstractArray{T,2}, B::AbstractArray{T,2}) at linalg/svd.jl:90\n",
       "svd(A::Arrowhead.HalfArrow{T<:Real}, k::Integer, tols::Array{Float64,1}) at C:\\Users\\Ivan\\.julia\\v0.4\\Arrowhead\\src\\arrowhead6.jl:291\n",
       "svd(A::Union{AbstractArray{T,N},Number}) at linalg/svd.jl:29"
      ]
     },
     "execution_count": 38,
     "metadata": {},
     "output_type": "execute_result"
    }
   ],
   "source": [
    "methods(svd)"
   ]
  },
  {
   "cell_type": "code",
   "execution_count": null,
   "metadata": {
    "collapsed": true
   },
   "outputs": [],
   "source": [
    "# Check the flat matrix\n",
    "\n",
    "# Check the updating the low rank approximation.\n",
    "\n",
    "# Tutorial assignment - netflix.\n",
    "\n"
   ]
  }
 ],
 "metadata": {
  "kernelspec": {
   "display_name": "Julia 0.4.5",
   "language": "julia",
   "name": "julia-0.4"
  },
  "language_info": {
   "file_extension": ".jl",
   "mimetype": "application/julia",
   "name": "julia",
   "version": "0.4.5"
  }
 },
 "nbformat": 4,
 "nbformat_minor": 0
}
