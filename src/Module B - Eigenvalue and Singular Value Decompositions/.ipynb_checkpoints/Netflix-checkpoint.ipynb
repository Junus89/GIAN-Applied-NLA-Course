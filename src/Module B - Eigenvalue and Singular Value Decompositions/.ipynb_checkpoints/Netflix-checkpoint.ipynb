{
 "cells": [
  {
   "cell_type": "code",
   "execution_count": 2,
   "metadata": {
    "collapsed": false
   },
   "outputs": [],
   "source": [
    "# Pkg.clone(\"git://github.com/aaw/IncrementalSVD.jl.git\")"
   ]
  },
  {
   "cell_type": "code",
   "execution_count": 4,
   "metadata": {
    "collapsed": false
   },
   "outputs": [],
   "source": [
    "import IncrementalSVD"
   ]
  },
  {
   "cell_type": "code",
   "execution_count": 17,
   "metadata": {
    "collapsed": false
   },
   "outputs": [
    {
     "name": "stdout",
     "output_type": "stream",
     "text": [
      "                IncrementalSVD    106 KB     Module\n",
      "                        Rating    136 bytes  DataType\n",
      "                     RatingSet    148 bytes  DataType\n",
      "                  RatingsModel    160 bytes  DataType\n",
      "             cosine_similarity   4509 bytes  Function\n",
      "          get_predicted_rating   1350 bytes  Function\n",
      "                 item_features   6159 bytes  Function\n",
      "                   item_search   3418 bytes  Function\n",
      "                         items    728 bytes  Function\n",
      "    load_book_crossing_dataset   2219 bytes  Function\n",
      "  load_large_movielens_dataset    966 bytes  Function\n",
      "  load_small_movielens_dataset   1603 bytes  Function\n",
      "                          rmse   1649 bytes  Function\n",
      "                 similar_items   2229 bytes  Function\n",
      "                 similar_users   1608 bytes  Function\n",
      "                 split_ratings   6897 bytes  Function\n",
      "                         train   2775 bytes  Function\n",
      "               truncate_model!   1078 bytes  Function\n",
      "                 user_features    609 bytes  Function\n",
      "                  user_ratings   1753 bytes  Function\n",
      "                         users    529 bytes  Function\n"
     ]
    }
   ],
   "source": [
    "whos(IncrementalSVD)"
   ]
  },
  {
   "cell_type": "code",
   "execution_count": 6,
   "metadata": {
    "collapsed": false
   },
   "outputs": [
    {
     "name": "stdout",
     "output_type": "stream",
     "text": [
      "Reusing existing downloaded files...\n",
      "Loading ratings 100% Time: 0:00:03\n"
     ]
    }
   ],
   "source": [
    "rating_set = IncrementalSVD.load_small_movielens_dataset();"
   ]
  },
  {
   "cell_type": "code",
   "execution_count": 41,
   "metadata": {
    "collapsed": false
   },
   "outputs": [
    {
     "data": {
      "text/plain": [
       "Base.KeyIterator for a Dict{AbstractString,Int32} with 3706 entries. Keys:\n",
       "  \"Fried Green Tomatoes (1991)\"\n",
       "  \"Milk Money (1994)\"\n",
       "  \"From Russia with Love (1963)\"\n",
       "  \"House II: The Second Story (1987)\"\n",
       "  \"Held Up (2000)\"\n",
       "  \"Missing in Action 2: The Beginning (1985)\"\n",
       "  \"Murder, My Sweet (1944)\"\n",
       "  \"Hidden, The (1987)\"\n",
       "  \"Cable Guy, The (1996)\"\n",
       "  \"Big Kahuna, The (2000)\"\n",
       "  \"Addams Family Values (1993)\"\n",
       "  \"Farinelli: il castrato (1994)\"\n",
       "  \"Education of Little Tree, The (1997)\"\n",
       "  \"In God's Hands (1998)\"\n",
       "  \"Last Man Standing (1996)\"\n",
       "  \"Sixth Sense, The (1999)\"\n",
       "  \"Star Maps (1997)\"\n",
       "  \"Girl, Interrupted (1999)\"\n",
       "  \"Stand by Me (1986)\"\n",
       "  \"Rob Roy (1995)\"\n",
       "  \"Caligula (1980)\"\n",
       "  \"Flirting With Disaster (1996)\"\n",
       "  \"Hook (1991)\"\n",
       "  \"Institute Benjamenta, or This Dream People Call Human Life (1995)\"\n",
       "  ⋮"
      ]
     },
     "execution_count": 41,
     "metadata": {},
     "output_type": "execute_result"
    }
   ],
   "source": [
    "IncrementalSVD.items(model)"
   ]
  },
  {
   "cell_type": "code",
   "execution_count": 21,
   "metadata": {
    "collapsed": false
   },
   "outputs": [
    {
     "data": {
      "text/plain": [
       "Dict{AbstractString,Int32} with 3706 entries:\n",
       "  \"Fried Green Tomatoes (… => 594\n",
       "  \"Milk Money (1994)\"      => 1361\n",
       "  \"From Russia with Love … => 729\n",
       "  \"House II: The Second S… => 1247\n",
       "  \"Held Up (2000)\"         => 3549\n",
       "  \"Missing in Action 2: T… => 2177\n",
       "  \"Murder, My Sweet (1944… => 996\n",
       "  \"Hidden, The (1987)\"     => 981\n",
       "  \"Cable Guy, The (1996)\"  => 669\n",
       "  \"Big Kahuna, The (2000)\" => 893\n",
       "  \"Addams Family Values (… => 1857\n",
       "  \"Farinelli: il castrato… => 1945\n",
       "  \"Education of Little Tr… => 2759\n",
       "  \"In God's Hands (1998)\"  => 2814\n",
       "  \"Last Man Standing (199… => 1840\n",
       "  \"Sixth Sense, The (1999… => 39\n",
       "  \"Star Maps (1997)\"       => 2670\n",
       "  \"Girl, Interrupted (199… => 32\n",
       "  \"Stand by Me (1986)\"     => 85\n",
       "  \"Rob Roy (1995)\"         => 449\n",
       "  \"Caligula (1980)\"        => 2532\n",
       "  \"Flirting With Disaster… => 1290\n",
       "  \"Hook (1991)\"            => 657\n",
       "  \"Institute Benjamenta, … => 3397\n",
       "  \"Way We Were, The (1973… => 762\n",
       "  ⋮                        => ⋮"
      ]
     },
     "execution_count": 21,
     "metadata": {},
     "output_type": "execute_result"
    }
   ],
   "source": [
    "rating_set.item_to_index"
   ]
  },
  {
   "cell_type": "code",
   "execution_count": 22,
   "metadata": {
    "collapsed": false
   },
   "outputs": [
    {
     "data": {
      "text/plain": [
       "Dict{AbstractString,Int32} with 6040 entries:\n",
       "  \"4304\" => 4304\n",
       "  \"3935\" => 3935\n",
       "  \"5422\" => 5422\n",
       "  \"5734\" => 5734\n",
       "  \"2243\" => 2243\n",
       "  \"1881\" => 1881\n",
       "  \"5425\" => 5425\n",
       "  \"4209\" => 4209\n",
       "  \"1907\" => 1907\n",
       "  \"2923\" => 2923\n",
       "  \"599\"  => 599\n",
       "  \"2491\" => 2491\n",
       "  \"5944\" => 5944\n",
       "  \"228\"  => 228\n",
       "  \"2590\" => 2590\n",
       "  \"3697\" => 3697\n",
       "  \"5031\" => 5031\n",
       "  \"2579\" => 2579\n",
       "  \"5551\" => 5551\n",
       "  \"1880\" => 1880\n",
       "  \"2562\" => 2562\n",
       "  \"3215\" => 3215\n",
       "  \"3991\" => 3991\n",
       "  \"4652\" => 4652\n",
       "  \"4088\" => 4088\n",
       "  ⋮      => ⋮"
      ]
     },
     "execution_count": 22,
     "metadata": {},
     "output_type": "execute_result"
    }
   ],
   "source": [
    "rating_set.user_to_index"
   ]
  },
  {
   "cell_type": "code",
   "execution_count": 7,
   "metadata": {
    "collapsed": false
   },
   "outputs": [
    {
     "name": "stdout",
     "output_type": "stream",
     "text": [
      "Computing truncated rank 25 SVD 100% Time: 0:02:22\n"
     ]
    }
   ],
   "source": [
    "# This takes several minutes\n",
    "model = IncrementalSVD.train(rating_set, 25);"
   ]
  },
  {
   "cell_type": "code",
   "execution_count": 8,
   "metadata": {
    "collapsed": false
   },
   "outputs": [
    {
     "data": {
      "text/plain": [
       "10-element Array{AbstractString,1}:\n",
       " \"Friday the 13th (1980)\"                   \n",
       " \"Jaws 2 (1978)\"                            \n",
       " \"Amityville Horror, The (1979)\"            \n",
       " \"Friday the 13th Part 3: 3D (1982)\"        \n",
       " \"Halloween II (1981)\"                      \n",
       " \"Friday the 13th: The Final Chapter (1984)\"\n",
       " \"Friday the 13th Part 2 (1981)\"            \n",
       " \"Pet Sematary (1989)\"                      \n",
       " \"Porky's (1981)\"                           \n",
       " \"Omen, The (1976)\"                         "
      ]
     },
     "execution_count": 8,
     "metadata": {},
     "output_type": "execute_result"
    }
   ],
   "source": [
    "IncrementalSVD.similar_items(model, \"Friday the 13th (1980)\")"
   ]
  },
  {
   "cell_type": "code",
   "execution_count": 11,
   "metadata": {
    "collapsed": false
   },
   "outputs": [
    {
     "data": {
      "text/plain": [
       "10-element Array{AbstractString,1}:\n",
       " \"Friday the 13th Part 2 (1981)\"                 \n",
       " \"Halloween II (1981)\"                           \n",
       " \"Friday the 13th Part 3: 3D (1982)\"             \n",
       " \"Missing in Action (1984)\"                      \n",
       " \"Friday the 13th: The Final Chapter (1984)\"     \n",
       " \"Cujo (1983)\"                                   \n",
       " \"Children of the Corn (1984)\"                   \n",
       " \"Blind Date (1987)\"                             \n",
       " \"Friday the 13th Part V: A New Beginning (1985)\"\n",
       " \"Towering Inferno, The (1974)\"                  "
      ]
     },
     "execution_count": 11,
     "metadata": {},
     "output_type": "execute_result"
    }
   ],
   "source": [
    "IncrementalSVD.similar_items(model, \"Friday the 13th Part 2 (1981)\")"
   ]
  },
  {
   "cell_type": "code",
   "execution_count": 42,
   "metadata": {
    "collapsed": false
   },
   "outputs": [
    {
     "data": {
      "text/plain": [
       "10-element Array{AbstractString,1}:\n",
       " \"Godfather, The (1972)\"                    \n",
       " \"Godfather: Part II, The (1974)\"           \n",
       " \"One Flew Over the Cuckoo's Nest (1975)\"   \n",
       " \"GoodFellas (1990)\"                        \n",
       " \"Casablanca (1942)\"                        \n",
       " \"Butch Cassidy and the Sundance Kid (1969)\"\n",
       " \"Citizen Kane (1941)\"                      \n",
       " \"Taxi Driver (1976)\"                       \n",
       " \"Rear Window (1954)\"                       \n",
       " \"Graduate, The (1967)\"                     "
      ]
     },
     "execution_count": 42,
     "metadata": {},
     "output_type": "execute_result"
    }
   ],
   "source": [
    "IncrementalSVD.similar_items(model, \"Godfather, The (1972)\")"
   ]
  },
  {
   "cell_type": "code",
   "execution_count": 46,
   "metadata": {
    "collapsed": false
   },
   "outputs": [
    {
     "ename": "LoadError",
     "evalue": "LoadError: KeyError: 594 not found\nwhile loading In[46], in expression starting on line 1",
     "output_type": "error",
     "traceback": [
      "LoadError: KeyError: 594 not found\nwhile loading In[46], in expression starting on line 1",
      "",
      " in item_features at /home/slap/.julia/v0.4/IncrementalSVD/src/util.jl:85",
      " in similar_items at /home/slap/.julia/v0.4/IncrementalSVD/src/util.jl:113"
     ]
    }
   ],
   "source": [
    "IncrementalSVD.similar_items(model, 594)"
   ]
  },
  {
   "cell_type": "code",
   "execution_count": 47,
   "metadata": {
    "collapsed": false
   },
   "outputs": [
    {
     "data": {
      "text/plain": [
       "3706-element Array{AbstractString,1}:\n",
       " \"Nueba Yol (1995)\"                                  \n",
       " \"Silence of the Palace, The (Saimt el Qusur) (1994)\"\n",
       " \"Mutters Courage (1995)\"                            \n",
       " \"Windows (1980)\"                                    \n",
       " \"Loves of Carmen, The (1948)\"                       \n",
       " \"Spring Fever USA (a.k.a. Lauderdale) (1989)\"       \n",
       " \"Intimate Relations (1996)\"                         \n",
       " \"Diebinnen (1995)\"                                  \n",
       " \"Chain of Fools (2000)\"                             \n",
       " \"Roula (1995)\"                                      \n",
       " \"Aiqing wansui (1994)\"                              \n",
       " \"With Byrd at the South Pole (1930)\"                \n",
       " \"Make Them Die Slowly (Cannibal Ferox) (1980)\"      \n",
       " ⋮                                                   \n",
       " \"Usual Suspects, The (1995)\"                        \n",
       " \"Wrong Trousers, The (1993)\"                        \n",
       " \"Silence of the Lambs, The (1991)\"                  \n",
       " \"Casablanca (1942)\"                                 \n",
       " \"Sixth Sense, The (1999)\"                           \n",
       " \"Raiders of the Lost Ark (1981)\"                    \n",
       " \"One Flew Over the Cuckoo's Nest (1975)\"            \n",
       " \"Shawshank Redemption, The (1994)\"                  \n",
       " \"Star Wars: Episode IV - A New Hope (1977)\"         \n",
       " \"Godfather, The (1972)\"                             \n",
       " \"Schindler's List (1993)\"                           \n",
       " \"American Beauty (1999)\"                            "
      ]
     },
     "execution_count": 47,
     "metadata": {},
     "output_type": "execute_result"
    }
   ],
   "source": [
    "# The 1st feature is the pricipal vector, similar to Principal Component Analysis. \n",
    "IncrementalSVD.show_items_by_feature(model, 1)"
   ]
  },
  {
   "cell_type": "code",
   "execution_count": null,
   "metadata": {
    "collapsed": true
   },
   "outputs": [],
   "source": [
    "IncrementalSVD.show_items_by_feature(model, 1)"
   ]
  },
  {
   "cell_type": "code",
   "execution_count": 49,
   "metadata": {
    "collapsed": false
   },
   "outputs": [
    {
     "data": {
      "text/plain": [
       "1x25 Array{Float32,2}:\n",
       " 0.00112126  0.00222461  0.00366828  …  0.00964093  0.00997783  0.010778"
      ]
     },
     "execution_count": 49,
     "metadata": {},
     "output_type": "execute_result"
    }
   ],
   "source": [
    "IncrementalSVD.item_features(model, \"Nueba Yol (1995)\")"
   ]
  },
  {
   "cell_type": "code",
   "execution_count": 50,
   "metadata": {
    "collapsed": false
   },
   "outputs": [
    {
     "data": {
      "text/plain": [
       "94-element Array{Tuple{SubString{ASCIIString},Float32},1}:\n",
       " (\"One Flew Over the Cuckoo's Nest (1975)\",5.0f0)       \n",
       " (\"Caddyshack (1980)\",5.0f0)                            \n",
       " (\"Princess Bride, The (1987)\",5.0f0)                   \n",
       " (\"Brazil (1985)\",5.0f0)                                \n",
       " (\"Gattaca (1997)\",5.0f0)                               \n",
       " (\"Twelve Monkeys (1995)\",5.0f0)                        \n",
       " (\"Dances with Wolves (1990)\",5.0f0)                    \n",
       " (\"Rock, The (1996)\",5.0f0)                             \n",
       " (\"American Beauty (1999)\",5.0f0)                       \n",
       " (\"Defending Your Life (1991)\",5.0f0)                   \n",
       " (\"Groundhog Day (1993)\",5.0f0)                         \n",
       " (\"Babe (1995)\",5.0f0)                                  \n",
       " (\"When Harry Met Sally... (1989)\",5.0f0)               \n",
       " ⋮                                                      \n",
       " (\"Simon Birch (1998)\",2.0f0)                           \n",
       " (\"Mad Max (1979)\",2.0f0)                               \n",
       " (\"Young Sherlock Holmes (1985)\",2.0f0)                 \n",
       " (\"Grease 2 (1982)\",1.0f0)                              \n",
       " (\"Blue Lagoon, The (1980)\",1.0f0)                      \n",
       " (\"Blind Date (1987)\",1.0f0)                            \n",
       " (\"Jewel of the Nile, The (1985)\",1.0f0)                \n",
       " (\"Sudden Death (1995)\",1.0f0)                          \n",
       " (\"Mission: Impossible (1996)\",1.0f0)                   \n",
       " (\"Dirty Dancing (1987)\",1.0f0)                         \n",
       " (\"Sphere (1998)\",1.0f0)                                \n",
       " (\"Star Trek VI: The Undiscovered Country (1991)\",1.0f0)"
      ]
     },
     "execution_count": 50,
     "metadata": {},
     "output_type": "execute_result"
    }
   ],
   "source": [
    "IncrementalSVD.user_ratings(rating_set, \"3000\")"
   ]
  },
  {
   "cell_type": "code",
   "execution_count": 51,
   "metadata": {
    "collapsed": false
   },
   "outputs": [
    {
     "data": {
      "text/plain": [
       "4.1279526f0"
      ]
     },
     "execution_count": 51,
     "metadata": {},
     "output_type": "execute_result"
    }
   ],
   "source": [
    "IncrementalSVD.get_predicted_rating(model, \"3000\", \"Blade Runner (1982)\")"
   ]
  },
  {
   "cell_type": "code",
   "execution_count": 52,
   "metadata": {
    "collapsed": false
   },
   "outputs": [
    {
     "data": {
      "text/plain": [
       "2.706702f0"
      ]
     },
     "execution_count": 52,
     "metadata": {},
     "output_type": "execute_result"
    }
   ],
   "source": [
    "IncrementalSVD.get_predicted_rating(model, \"3000\", \"Footloose (1984)\")"
   ]
  },
  {
   "cell_type": "markdown",
   "metadata": {},
   "source": [
    "Let :\n",
    "\n",
    "$R_{ij}$ be the known rating by user $i$ for an item $j$\n",
    "\n",
    "$p_{ij}$ be the predicted rating for that user and item.\n",
    "\n",
    "$k$ represent the index of the singular vectors $[0,N)$.\n",
    "\n",
    "$u_{ki}$ be the element of the $k$-th singular user vector for the $i$-th\n",
    "user\n",
    "\n",
    "$v_{kj}$ be the element of the $k$-th singular item vector for the $j$-th\n",
    "item\n",
    "\n",
    "The standard SVD formulation then says that the prediction is computed by:\n",
    "\n",
    "$$\n",
    "p_{ij}=\\sum\\limits_{k}u_{ki}v_{kj}\n",
    "$$\n",
    "\n",
    "The error in the prediction is obviously:\n",
    "\n",
    "$$\n",
    "E=R_{ij}-p_{ij}\n",
    "$$\n",
    "\n",
    "For gradient descent, you want to take the (partial) derivative of the\n",
    "squared error with respect to each parameter, i.e. with respect to each $%\n",
    "u_{ki}$ and each v$_{kj}$.\n",
    "\n",
    "So let's compute this for one particular rating for user $i=I$ and item $j=J$\n",
    ", for one singular vector $k=K$, for the user parameter $u$ value.\n",
    "\n",
    "$$\n",
    "d(E^{2})/du_{Ki}=2\\cdot E\\cdot dE/du_{Ki}\n",
    "$$\n",
    "\n",
    "Since $E=R-p$, and since $R$ is a constant, $dE/du_{Ki}$ is just $-dp/du_{Ki}\n",
    "$. Now $p$ is just a $\\sum $ over $N$ terms (one for each singular vector),\n",
    "and only one of them is a function of $u_{Ki}$, namely the term $u_{Ki}\\cdot\n",
    "v_{KJ}$. Its derivative with respect to $u_{Ki}$ is clearly just $v_{KJ}$,\n",
    "and the derivatives of all the other terms are zero.\n",
    "\n",
    "Putting this all together, for the single rating by user $i=I$ for item $j=J$\n",
    ", considering just one singular vector $k=K$.\n",
    "\n",
    "$$\n",
    "d( E^{2}) /du_{Ki}=2\\cdot E\\cdot ( -v_{KJ}) =-2\\cdot\n",
    "(R_{ij}-p_{ij}) \\cdot v_{KJ}\n",
    "$$\n",
    "\n",
    "This is for one rating; the full derivative for $u_{Ki}$ is then just the\n",
    "sum over all the ratings (by user $I$).\n",
    "\n",
    "If you follow the same procedure to take the partial derivative with respect\n",
    "to $v_{KJ}$, you'll get\n",
    "\n",
    "$$\n",
    "d( E^{2}) /dv_{KJ}=2\\cdot E\\cdot ( -u_{Ki}) =-2\\cdot\n",
    "(R_{ij}-p_{ij}) \\cdot u_{Ki}\n",
    "$$\n",
    "\n",
    "When using the simple backpropagation algorithm for gradient descent, which\n",
    "is the technique Simon described, one uses an arbitrary parameter called the\n",
    "learning rate as a multiplier on the gradient to use as the step to add to\n",
    "the parameter. So you get:\n",
    "\n",
    "$$\n",
    "newU_{Ki}=d( E^{2}) /du_{Ki}=oldU_{Ki}-Irate\\cdot 2\\cdot E\\cdot\n",
    "oldV_{KJ}\n",
    "$$\n",
    "\n",
    "And since $lrate$ is just an arbitrary constant (although its value is\n",
    "important), Simon just absorbed the factor of 2 into it and wrote:\n",
    "\n",
    "$$\n",
    "newU_{Ki}=oldU_{Ki}-Irate\\cdot E\\cdot oldV_{KJ}\n",
    "$$\n",
    "\n",
    "or, in Simon's notation:\n",
    "\n",
    "real err = lrate * (rating - predictRating(movie, user));\n",
    "\n",
    "userValue[user] + = err * movieValue[movie];\n",
    "\n",
    "movieValue[movie] + = err * userValue[user];\n",
    "\n",
    "Here he is using \"movie\" where I have used \"j\", \"user\" where I have used\n",
    "\"i\", and he is implicitly considering just one singular vector k, i.e. he\n",
    "has abbreviated userValue[k][user] as just userValue[user] and abbreviated\n",
    "movieValue[k][movie] as movieValue[movie].\n",
    "            "
   ]
  },
  {
   "cell_type": "markdown",
   "metadata": {},
   "source": [
    "#Thin SVD update"
   ]
  },
  {
   "cell_type": "markdown",
   "metadata": {},
   "source": [
    "Adding a column\n",
    "\n",
    "Let\n",
    "$$\n",
    "A_{k}=U_{k}\\Sigma _{k}V_{k}^{T},\n",
    "$$\n",
    "\n",
    "Neka je matrica $D$ matrica dokumenta koje dodajemo.\n",
    "\n",
    "Pretpostavimo da novih $s$ stupaca dodajemo u postojeću matricu.\n",
    "\n",
    "Neka je: $A_{k}$ reducirana matrica $A\\in \\mathbb{R}^{m\\times n},$\n",
    "\n",
    "$A_{k}=U_{k}\\Sigma _{k}V_{k}^{T}$ \\ njen \"kratki\" SVD rastav,\n",
    "\n",
    "$D$ matrica novih stupaca, $D\\in \\mathbb{R}^{m\\times s},$\\\n",
    "$B=[\n",
    "\\begin{array}{cc}\n",
    "A_{k} & D\n",
    "\\end{array}] $ matrica $m\\times ( n+s) .$\n",
    "\n",
    "Rang matrice $B$ je, po konstrukciji, veći ili jednak rangu $k$ matrice $\n",
    "A_{k}$. Naąa aproksimacija SVD rastava matrice $B$ daje aproksimaciju ranga $\n",
    "k$ SVD rastava matrice $B.$ Dakle, cilj nam je izračunati komponente SVD\n",
    "rastava matrice\n",
    "$$\n",
    "B=U_{B}\\Sigma _{B}V_{B}^{T}.\n",
    "$$\n",
    "Formiramo QR rastav matrice $( I-U_{k}U_{k}^{T}) D$ na slijedeći\n",
    "način:\n",
    "$$\n",
    "( I-U_{k}U_{k}^{T}) D=\\widehat{U}_{k}R_{S}\n",
    "$$\n",
    "($\\widehat{U}_{k}$ je matrica ortonormalnih stupaca, a $R_{s}$ je $\\left(\n",
    "s\\times s\\right) $ gornje trokutasta matrica). Vrijedi\n",
    "$$\n",
    "B=\\left[\n",
    "\\begin{array}{cc}\n",
    "A_{k} & D%\n",
    "\\end{array}%\n",
    "\\right] =\\left[\n",
    "\\begin{array}{cc}\n",
    "U_{k} & \\widehat{U}_{k}%\n",
    "\\end{array}%\n",
    "\\right] \\left[\n",
    "\\begin{array}{cc}\n",
    "\\Sigma _{k} & U_{k}^{T}D \\\\\n",
    "0 & R_{s}%\n",
    "\\end{array}%\n",
    "\\right] \\left[\n",
    "\\begin{array}{cc}\n",
    "V_{k}^{T} & 0 \\\\\n",
    "0 & I_{s}%\n",
    "\\end{array}%\n",
    "\\right] .\n",
    "$$\n",
    "Sada računamo SVD rastav matrice%\n",
    "$$\n",
    "\\overline{B}=\\left[\n",
    "\\begin{array}{cc}\n",
    "\\Sigma _{k} & U_{k}^{T}D \\\\\n",
    "0 & R_{s}%\n",
    "\\end{array}%\n",
    "\\right] =\\left[\n",
    "\\begin{array}{cc}\n",
    "\\overline{U}_{k} & \\overline{U}_{k}^{\\perp }%\n",
    "\\end{array}%\n",
    "\\right] \\left[\n",
    "\\begin{array}{cc}\n",
    "\\overline{\\Sigma }_{k} & 0 \\\\\n",
    "0 & \\overline{\\Sigma }_{s}%\n",
    "\\end{array}%\n",
    "\\right] \\left[\n",
    "\\begin{array}{cc}\n",
    "\\overline{V}_{k} & \\overline{V}_{k}^{\\perp }%\n",
    "\\end{array}%\n",
    "\\right] ^{T},\n",
    "$$\n",
    "gdje je $\\overline{U}_{k}$ $\\left( k+s\\right) \\times k$ matrica\n",
    "ortonormalnih stupaca, $\\overline{V}_{k}$ je $\\left( k+s\\right) \\times k$\n",
    "matrica ortonormalnih stupaca, a $\\overline{\\Sigma }_{k}$ je $k\\times k$\n",
    "dijagonalna matrica. Najbolja aproksimacija\\ matrice $B$ ranga $k$ sada je%\n",
    "$$\n",
    "B_{k}=\\left( \\left[\n",
    "\\begin{array}{cc}\n",
    "U_{k} & \\widehat{U}_{k}%\n",
    "\\end{array}%\n",
    "\\right] \\overline{U}_{k}\\right) \\overline{\\Sigma }_{k}\\left( \\left[\n",
    "\\begin{array}{cc}\n",
    "V_{k} & 0 \\\\\n",
    "0 & I_{s}%\n",
    "\\end{array}%\n",
    "\\right] \\overline{V}_{k}\\right) ^{T},\n",
    "$$\n",
    "pa su komponente SVD rastava matrice $B:$%\n",
    "$$\n",
    "U_{B}=\\left[\n",
    "\\begin{array}{cc}\n",
    "U_{k} & \\widehat{U}_{k}%\n",
    "\\end{array}\n",
    "\\right] \\overline{U}_{k}\\text{, }\\Sigma _{B}=\\overline{\\Sigma }_{k}\\text{,\n",
    "}V_{B}^{T}=\\left[\n",
    "\\begin{array}{cc}\n",
    "V_{k} & 0 \\\\\n",
    "0 & I_{s}%\n",
    "\\end{array}%\n",
    "\\right] \\overline{V}_{k}.\n",
    "$$"
   ]
  },
  {
   "cell_type": "markdown",
   "metadata": {},
   "source": [
    "function\\ [UB,SB,VB]=Alg1(D,Uk,Sk,Vk)\n",
    "\n",
    "[m,k]=size(Uk);\n",
    "\n",
    "(n,k)=size(Vk)\n",
    "[n,k]=size(Vk);\n",
    "\n",
    "F1=Uk'*D;\n",
    "\n",
    "[Q,R]=qr(D-Uk*F1,0);\n",
    "\n",
    "[mr,nr]=size(R);\n",
    "\n",
    "[mq,nq]=size(Q);\n",
    "\n",
    "F=Sk;\n",
    "\n",
    "F(1:k,k+1:k+s)=F1;\n",
    "\n",
    "F(k+1:k+mr,k+1:k+nr)=R;\n",
    "\n",
    "[Uf,Sf,Vf]=svd(F,0);\n",
    "\n",
    "U=Uk;\n",
    "\n",
    "U(1:m,k+1:k+nq)=Q;\n",
    "\n",
    "L=Vk;\n",
    "\n",
    "L(n+1:n+s,k+1:k+s)=eye(s);\n",
    "\n",
    "UB=U*Uf(:,1:k);\n",
    "\n",
    "SB=Sf(1:k,1:k);\n",
    "\n",
    "VB=L*Vf(:,1:k);\n",
    "\n",
    "end\n"
   ]
  },
  {
   "cell_type": "code",
   "execution_count": 71,
   "metadata": {
    "collapsed": false
   },
   "outputs": [
    {
     "data": {
      "text/plain": [
       "addcolumn (generic function with 3 methods)"
      ]
     },
     "execution_count": 71,
     "metadata": {},
     "output_type": "execute_result"
    }
   ],
   "source": [
    "function addcolumn(D::Array,Uk::Array,Sk::Array,Vk::Array) \n",
    "(m,k)=size(Uk)\n",
    "    #(m,s)=size(D)\n",
    "    s=length(D)\n",
    "(n,k)=size(Vk)\n",
    "F1=Uk'*D\n",
    "     @show F1\n",
    "    (Q,R)=qr([D-Uk*F1 0])\n",
    "   \n",
    "(mr,nr)=size(R)\n",
    "(mq,nq)=size(Q)\n",
    "F=Sk\n",
    "F[1:k,k+1:k+s]=F1\n",
    "F[k+1:k+mr,k+1:k+nr]=R\n",
    "(Uf,Sf,Vf)=svd(F,0)\n",
    "U=Uk\n",
    "U[1:m,k+1:k+nq]=Q\n",
    "L=Vk\n",
    "L[n+1:n+s,k+1:k+s]=eye(s)\n",
    "    UB=U*Uf[:,1:k]\n",
    "    SB=Sf[1:k,1:k]\n",
    "    VB=L*Vf[:,1:k]\n",
    "    return UB,SB,VB\n",
    "end"
   ]
  },
  {
   "cell_type": "code",
   "execution_count": 38,
   "metadata": {
    "collapsed": false
   },
   "outputs": [
    {
     "data": {
      "text/plain": [
       "2x3 Array{Int64,2}:\n",
       " 1  2  3\n",
       " 3  4  5"
      ]
     },
     "execution_count": 38,
     "metadata": {},
     "output_type": "execute_result"
    }
   ],
   "source": [
    "D=[2 \n",
    "    3]\n",
    "Uk=[1 2 3\n",
    "3 4 5]"
   ]
  },
  {
   "cell_type": "code",
   "execution_count": 40,
   "metadata": {
    "collapsed": false
   },
   "outputs": [
    {
     "data": {
      "text/plain": [
       "3x3 Array{Int64,2}:\n",
       " 1  2  3\n",
       " 3  4  5\n",
       " 1  2  4"
      ]
     },
     "execution_count": 40,
     "metadata": {},
     "output_type": "execute_result"
    }
   ],
   "source": [
    "Sk=[1 2 3\n",
    "3 4 5\n",
    "1 2 4]"
   ]
  },
  {
   "cell_type": "code",
   "execution_count": 41,
   "metadata": {
    "collapsed": false
   },
   "outputs": [
    {
     "data": {
      "text/plain": [
       "3x2 Array{Int64,2}:\n",
       " 1  2\n",
       " 3  4\n",
       " 1  2"
      ]
     },
     "execution_count": 41,
     "metadata": {},
     "output_type": "execute_result"
    }
   ],
   "source": [
    "Vk=[1 2 \n",
    "3 4 \n",
    "1 2 ]"
   ]
  },
  {
   "cell_type": "code",
   "execution_count": 72,
   "metadata": {
    "collapsed": false
   },
   "outputs": [
    {
     "name": "stdout",
     "output_type": "stream",
     "text": [
      "F1 = "
     ]
    },
    {
     "ename": "LoadError",
     "evalue": "LoadError: DimensionMismatch(\"mismatch in dimension 1 (expected 2 got 1)\")\nwhile loading In[72], in expression starting on line 1",
     "output_type": "error",
     "traceback": [
      "LoadError: DimensionMismatch(\"mismatch in dimension 1 (expected 2 got 1)\")\nwhile loading In[72], in expression starting on line 1",
      "",
      " in cat_t at abstractarray.jl:850",
      " in addcolumn at In[71]:8"
     ]
    },
    {
     "name": "stdout",
     "output_type": "stream",
     "text": [
      "[11,16,21]\n"
     ]
    }
   ],
   "source": [
    "addcolumn(D,Uk,Sk,Vk)"
   ]
  },
  {
   "cell_type": "code",
   "execution_count": null,
   "metadata": {
    "collapsed": true
   },
   "outputs": [],
   "source": []
  }
 ],
 "metadata": {
  "kernelspec": {
   "display_name": "Julia 0.4.5",
   "language": "julia",
   "name": "julia-0.4"
  },
  "language_info": {
   "file_extension": ".jl",
   "mimetype": "application/julia",
   "name": "julia",
   "version": "0.4.5"
  }
 },
 "nbformat": 4,
 "nbformat_minor": 0
}
