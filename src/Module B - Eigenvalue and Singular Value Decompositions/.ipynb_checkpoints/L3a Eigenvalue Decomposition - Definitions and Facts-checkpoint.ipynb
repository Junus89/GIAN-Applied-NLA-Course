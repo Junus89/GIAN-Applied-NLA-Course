{
 "cells": [
  {
   "cell_type": "markdown",
   "metadata": {},
   "source": [
    "# Eigenvalue Decomposition - Definitions and Facts\n",
    "\n",
    "---\n",
    "\n",
    "## Prerequisites\n",
    "\n",
    "The reader should be familiar with basic linear algebra concepts. \n",
    "\n",
    " \n",
    "## Competences \n",
    "\n",
    "The reader should be able to undestand and check the facts about eigenvalue decomposition.\n",
    "\n",
    "## Selected references\n",
    "\n",
    "There are many excellent books on the subject. Here we list a few:\n",
    "\n",
    "[J. W. Demmel, Applied Numerical Linear Algebra][Dem97]\n",
    "\n",
    "[G. H. Golub and C. F. Van Loan, Matrix Computations][GV13]\n",
    "\n",
    "[N. Higham, Accuracy and Stability of Numerical Algorithms][Hig02]\n",
    "\n",
    "[L. Hogben, ed., Handbook of Linear Algebra][Hog14]\n",
    "\n",
    "[B. N. Parlett, The Symmetric Eigenvalue Problem][Par80]\n",
    "\n",
    "[G. W. Stewart, Matrix Algorithms, Vol. II: Eigensystems][Ste01]\n",
    "\n",
    "[L. N. Trefethen and D. Bau, III, Numerical Linear Algebra][TB97]\n",
    "\n",
    "[J. H. Wilkinson, The Algebraic Eigenvalue Problem][Wil65]\n",
    "\n",
    "\n",
    "[Dem97]: #1 \"J.W. Demmel, 'Applied Numerical Linear Algebra', SIAM, Philadelphia, 1997.\"\n",
    "  \n",
    "[GV13]: #1 \"G. H. Golub and C. F. Van Loan, 'Matrix Computations', 4th ed., The John Hopkins University Press, Baltimore, MD, 2013.\"\n",
    "  \n",
    "[Hig02]: #1 \"N. Higham, 'Accuracy and Stability of Numerical Algorithms', SIAM, Philadelphia, 2nd ed., 2002.\"\n",
    "    \n",
    "[Hog14]: #1 \"L. Hogben, ed., 'Handbook of Linear Algebra', CRC Press, Boca Raton, 2014.\"\n",
    "\n",
    "[Par80]: #1 \"B. N. Parlett, 'The Symmetric Eigenvalue Problem', Prentice-Hall, Englewood Cliffs, NJ, 1980, also SIAM, Philadelphia, 1998.\"\n",
    "\n",
    "[Ste01]: #1 \"G. W. Stewart, 'Matrix Algorithms, Vol. II: Eigensystems', SIAM, Philadelphia, 2001.\" \n",
    "\n",
    "[TB97]: #1 \"L. N. Trefethen and D. Bau, III, 'Numerical Linear Algebra', SIAM, Philadelphia, 1997.\"\n",
    "\n",
    "[Wil65]: #1 \"J. H. Wilkinson, 'The Algebraic Eigenvalue Problem', Clarendon Press, Oxford, U.K.,  1965.\"\n",
    "    \n",
    "\n",
    "---"
   ]
  },
  {
   "cell_type": "markdown",
   "metadata": {},
   "source": [
    "## General matrices\n",
    "\n",
    "For more details and the proofs of the Facts below, see \n",
    "[L. M. DeAlba, Determinants and Eigenvalues][Hog14] and the references therein.\n",
    "\n",
    "[Hog14]: #1 \"L. Hogben, ed., 'Handbook of Linear Algebra', pp. 4.1-4.15, CRC Press, Boca Raton, 2014.\"\n",
    "\n",
    "### Definitions\n",
    "\n",
    "We state the basic definitions:\n",
    "\n",
    "Let $F=\\mathbb{R}$ or $F=\\mathbb{C}$ and let $A\\in F^{n\\times n}$ with elements $a_{ij}\\in F$.\n",
    "\n",
    "An element $\\lambda \\in F$ is an __eigenvalue__ of $A$ if\n",
    "$\\exists x\\in F$, $x\\neq 0$ such that\n",
    "\n",
    "$$\n",
    "Ax=\\lambda x,\n",
    "$$\n",
    "and $x$ is an __eigenvector__ of $\\lambda$.\n",
    "\n",
    "__Characteristic polynomial__ of $A$ is $p_A(x)=\\det(A-xI)$.\n",
    "\n",
    "__Algebraic multiplicty__, $\\alpha(\\lambda)$, is the multiplicity of $\\lambda$ as a root of $p_A(x)$.\n",
    "\n",
    "__Spectrum of $A$__, $\\sigma(A)$, is the multiset of all eigenvalues of $A$, with each eigenvalue appearing $\\alpha(A)$ times.\n",
    "\n",
    "__Spectral radius__ of $A$ is \n",
    "$$\\rho(A)=\\max\\{|\\lambda|, \\lambda \\in \\sigma(A)\\}.\n",
    "$$\n",
    "\n",
    "__Eigenspace__ of $\\lambda$ is \n",
    "\n",
    "$$\n",
    "E_{\\lambda}(A)=\\ker(A-\\lambda I).\n",
    "$$\n",
    "\n",
    "__Geometric multiplicity__ of $\\lambda$ is \n",
    "$$\\gamma(\\lambda)=\\dim(E_{\\lambda}(A)).\n",
    "$$\n",
    "\n",
    "$\\lambda$ is __simple__ if $\\alpha(\\lambda)=1$.\n",
    "\n",
    "$\\lambda$ is __semisimple__ if $\\alpha(\\lambda)=\\gamma(\\lambda)$.\n",
    "\n",
    "$A$ is __nonderogatory__ if $\\gamma(\\lambda)=1$ for all $\\lambda$.\n",
    "\n",
    "$A$ is __nondefective__ if every $\\lambda$ is semisimple.\n",
    "\n",
    "$A$ is __diagonalizable__ if there exists nonsingular $B$ matrix and diagonal matrix $D$ such that\n",
    "$A=BDB^{-1}$.\n",
    "\n",
    "__Trace__ of $A$ is \n",
    "$$\\mathop{\\mathrm{tr}}(A)=\\sum_i a_{ii}.$$\n",
    "\n",
    "$Q\\in\\mathbb{C}^{n\\times n}$ is __unitary__ if $Q^*Q=QQ^*=I$,\n",
    "where $Q^*=(\\bar Q)^T$.\n",
    "\n",
    "__Schur decomposition__ of $A$ is $A=QTQ^*$,\n",
    "where $Q$ is unitary and $T$ is upper triangular.\n",
    "\n",
    "$A$ and $B$ are __similar__ if $B=QAQ^{-1}$ for some nonsingular matrix $Q$.\n",
    "\n",
    "$A$ is __normal__ if $AA^*=A^*A$. "
   ]
  },
  {
   "cell_type": "markdown",
   "metadata": {},
   "source": [
    "### Facts\n",
    "\n",
    "There are many facts related to the eigenvalue problem for general matrices. We state some basic ones:\n",
    "\n",
    "1. $\\lambda\\in\\sigma(A) \\Leftrightarrow p_A(\\lambda)=0$.\n",
    "\n",
    "1. $p_A(A)=0$. _(Cayley-Hamilton Theorem)_\n",
    "\n",
    "2. A simple eigenvalue is semisimple.\n",
    "\n",
    "3. $\\mathop{\\mathrm{tr}}(A)=\\sum_{i=1}^n \\lambda_i$.\n",
    "\n",
    "4. $\\det(A)=\\prod_{i=1}^n \\lambda_i$.\n",
    "\n",
    "5. $A$ is singular $\\Leftrightarrow$ $\\det(A)=0$ $\\Leftrightarrow$ $0\\in\\sigma(A)$.\n",
    "\n",
    "7. If $A$ is triangular, $\\sigma(A)=\\{a_{11},a_{22},\\ldots,a_{nn}\\}$.\n",
    "\n",
    "6. For $A\\in\\mathbb{C}^{n\\times n}$, $\\lambda\\in\\sigma(A)$ $\\Leftrightarrow$ $\\bar\\lambda\\in\\sigma(A^*)$.\n",
    "\n",
    "8. For $A\\in\\mathbb{R}^{n\\times n}$, $\\lambda\\in\\sigma(A)$ $\\Leftrightarrow$ $\\bar\\lambda\\in\\sigma(A)$. _(Corollary of the Fundamental theorem of algebra)_\n",
    "\n",
    "9. If $(\\lambda,x)$ is an eigenpair of a nonsingular $A$, then $(1/\\lambda,x)$ is an eigenpair of $A^{-1}$.\n",
    "\n",
    "10. Eigenvectors corresponding to distinct eigenvalues are linearly independent.\n",
    "\n",
    "11. $A$ is diagonalizable $\\Leftrightarrow$ $A$ is nondefective $\\Leftrightarrow$ $A$ has $n$ linearly independent eigenvectors. \n",
    "\n",
    "12. Every $A$ has Schur decomposition. Moreover, $T_{ii}=\\lambda_i$.\n",
    "\n",
    "14. If $A$ is normal, matrix $T$ from its Schur decomposition is normal. Consequently:\n",
    "    * $T$ is diagonal, and has eigenvalues of $A$ on diagonal,\n",
    "    * matrix $Q$ of the Schur decomposition is the unitary matrix of eigenvectors,\n",
    "    * all eigenvalues of $A$ are semisimple and $A$ is nondefective.\n",
    "\n",
    "13. If $A$ and $B$ are similar, $\\sigma(A)=\\sigma(B)$. Consequently, $\\mathop{\\mathrm{tr}}(A)=\\mathop{\\mathrm{tr}}(B)$ and $\\det(A)=\\det(B)$.\n",
    "\n",
    "11. Eigenvalues and eigenvectors are continous and differentiable: if $\\lambda$ is a simple eigenvalue of $A$ and $A(\\varepsilon)=A+\\varepsilon E$ for some $E\\in F^{n\\times n}$, for small $\\varepsilon$ there exist differentiable functions $\\lambda(\\varepsilon)$ and $x(\\varepsilon)$ such that\n",
    "$$\n",
    "A(\\varepsilon) x(\\varepsilon) = \\lambda(\\varepsilon) x(\\varepsilon).\n",
    "$$\n",
    "\n",
    "15. Classical motivation for the eigenvalue problem is the following: consider the system of linear differential equations with constant coefficients,\n",
    "$$ \\dot y(t)=Ay(t).$$ If the solution is $y=e^{\\lambda t} x$ for some constant vector $x$, then\n",
    "$\\lambda e^{\\lambda t} x=Ae^{\\lambda t} x$, or $Ax=\\lambda x$.\n"
   ]
  },
  {
   "cell_type": "markdown",
   "metadata": {},
   "source": [
    "### Examples\n",
    "\n",
    "We shall illustrate above Definitions and Facts on several small examples, using symbolic computation:"
   ]
  },
  {
   "cell_type": "code",
   "execution_count": 2,
   "metadata": {
    "collapsed": false
   },
   "outputs": [],
   "source": [
    "using SymPy"
   ]
  },
  {
   "cell_type": "code",
   "execution_count": 3,
   "metadata": {
    "collapsed": false
   },
   "outputs": [
    {
     "data": {
      "text/plain": [
       "3×3 Array{Int64,2}:\n",
       " -3    7  -1\n",
       "  6    8  -2\n",
       " 72  -28  19"
      ]
     },
     "execution_count": 3,
     "metadata": {},
     "output_type": "execute_result"
    }
   ],
   "source": [
    "A=[-3 7 -1; 6 8 -2; 72 -28 19]"
   ]
  },
  {
   "cell_type": "code",
   "execution_count": 4,
   "metadata": {
    "collapsed": false
   },
   "outputs": [
    {
     "data": {
      "text/plain": [
       "(x,)"
      ]
     },
     "execution_count": 4,
     "metadata": {},
     "output_type": "execute_result"
    }
   ],
   "source": [
    "@vars x"
   ]
  },
  {
   "cell_type": "code",
   "execution_count": 5,
   "metadata": {
    "collapsed": false
   },
   "outputs": [
    {
     "data": {
      "text/latex": [
       "\\begin{bmatrix}- x - 3&7&-1\\\\6&- x + 8&-2\\\\72&-28&- x + 19\\end{bmatrix}"
      ],
      "text/plain": [
       "3×3 Array{SymPy.Sym,2}\n",
       "⎡-x - 3    7       -1   ⎤\n",
       "⎢                       ⎥\n",
       "⎢  6     -x + 8    -2   ⎥\n",
       "⎢                       ⎥\n",
       "⎣  72     -28    -x + 19⎦"
      ]
     },
     "execution_count": 5,
     "metadata": {},
     "output_type": "execute_result"
    }
   ],
   "source": [
    "A-x*I"
   ]
  },
  {
   "cell_type": "code",
   "execution_count": 6,
   "metadata": {
    "collapsed": false
   },
   "outputs": [
    {
     "data": {
      "text/latex": [
       "$$\\left(- x - 3\\right) \\left(- x + 8 - \\frac{42}{- x - 3}\\right) \\left(- x - \\frac{\\left(-28 - \\frac{504}{- x - 3}\\right) \\left(-2 + \\frac{6}{- x - 3}\\right)}{- x + 8 - \\frac{42}{- x - 3}} + 19 + \\frac{72}{- x - 3}\\right)$$"
      ],
      "text/plain": [
       "                           ⎛     ⎛       504  ⎞ ⎛       6   ⎞              ⎞\n",
       "                           ⎜     ⎜-28 - ──────⎟⋅⎜-2 + ──────⎟              ⎟\n",
       "         ⎛           42  ⎞ ⎜     ⎝      -x - 3⎠ ⎝     -x - 3⎠          72  ⎟\n",
       "(-x - 3)⋅⎜-x + 8 - ──────⎟⋅⎜-x - ──────────────────────────── + 19 + ──────⎟\n",
       "         ⎝         -x - 3⎠ ⎜                      42                 -x - 3⎟\n",
       "                           ⎜           -x + 8 - ──────                     ⎟\n",
       "                           ⎝                    -x - 3                     ⎠"
      ]
     },
     "execution_count": 6,
     "metadata": {},
     "output_type": "execute_result"
    }
   ],
   "source": [
    "# Characteristic polynomial p_A(λ)\n",
    "p(x)=det(A-x*I)\n",
    "p(x)"
   ]
  },
  {
   "cell_type": "code",
   "execution_count": 8,
   "metadata": {
    "collapsed": false
   },
   "outputs": [
    {
     "name": "stderr",
     "output_type": "stream",
     "text": [
      "WARNING: Method definition p(Any) in module Main at In[7]:2 overwritten at In[8]:2.\n"
     ]
    },
    {
     "data": {
      "text/latex": [
       "$$- \\left(x - 15\\right)^{2} \\left(x + 6\\right)$$"
      ],
      "text/plain": [
       "         2        \n",
       "-(x - 15) ⋅(x + 6)"
      ]
     },
     "execution_count": 8,
     "metadata": {},
     "output_type": "execute_result"
    }
   ],
   "source": [
    "# Characteristic polynomial in nicer form\n",
    "p(x)=factor(det(A-x*I))\n",
    "p(x)"
   ]
  },
  {
   "cell_type": "code",
   "execution_count": 9,
   "metadata": {
    "collapsed": false
   },
   "outputs": [
    {
     "data": {
      "text/latex": [
       "\\begin{bmatrix}-6\\\\15\\end{bmatrix}"
      ],
      "text/plain": [
       "2-element Array{SymPy.Sym,1}\n",
       "⎡-6⎤\n",
       "⎢  ⎥\n",
       "⎣15⎦"
      ]
     },
     "execution_count": 9,
     "metadata": {},
     "output_type": "execute_result"
    }
   ],
   "source": [
    "λ=solve(p(x),x)"
   ]
  },
  {
   "cell_type": "markdown",
   "metadata": {},
   "source": [
    "The eigenvalues are $\\lambda_1=-6$ and $\\lambda_2=15$ with algebraic multiplicities\n",
    "$\\alpha(\\lambda_1)=1$ and $\\alpha(\\lambda_2)=2$."
   ]
  },
  {
   "cell_type": "code",
   "execution_count": 10,
   "metadata": {
    "collapsed": false
   },
   "outputs": [
    {
     "data": {
      "text/plain": [
       "1-element Array{Any,1}:\n",
       " \n",
       "⎡-1/4⎤\n",
       "⎢    ⎥\n",
       "⎢1/4 ⎥\n",
       "⎢    ⎥\n",
       "⎣ 1  ⎦"
      ]
     },
     "execution_count": 10,
     "metadata": {},
     "output_type": "execute_result"
    }
   ],
   "source": [
    "g=nullspace(A-λ[1]*I)"
   ]
  },
  {
   "cell_type": "code",
   "execution_count": 11,
   "metadata": {
    "collapsed": false
   },
   "outputs": [
    {
     "data": {
      "text/plain": [
       "1-element Array{Any,1}:\n",
       " \n",
       "⎡-1/4⎤\n",
       "⎢    ⎥\n",
       "⎢-1/2⎥\n",
       "⎢    ⎥\n",
       "⎣ 1  ⎦"
      ]
     },
     "execution_count": 11,
     "metadata": {},
     "output_type": "execute_result"
    }
   ],
   "source": [
    "h=nullspace(A-λ[2]*I)"
   ]
  },
  {
   "cell_type": "markdown",
   "metadata": {},
   "source": [
    "The geometric multiplicities are $\\gamma(\\lambda_1)=1$ and $\\gamma(\\lambda_2)=1$. Thus, $\\lambda_2$ is not semisimple, therefore $A$ is defective and not diagonalizable."
   ]
  },
  {
   "cell_type": "code",
   "execution_count": 12,
   "metadata": {
    "collapsed": false
   },
   "outputs": [
    {
     "data": {
      "text/plain": [
       "(24,24)"
      ]
     },
     "execution_count": 12,
     "metadata": {},
     "output_type": "execute_result"
    }
   ],
   "source": [
    "# Trace and determinant\n",
    "trace(A), λ[1]+λ[2]+λ[2]"
   ]
  },
  {
   "cell_type": "code",
   "execution_count": 13,
   "metadata": {
    "collapsed": false
   },
   "outputs": [
    {
     "data": {
      "text/plain": [
       "(-1350.0000000000002,-1350)"
      ]
     },
     "execution_count": 13,
     "metadata": {},
     "output_type": "execute_result"
    }
   ],
   "source": [
    "det(A), λ[1]*λ[2]*λ[2]"
   ]
  },
  {
   "cell_type": "code",
   "execution_count": 14,
   "metadata": {
    "collapsed": false
   },
   "outputs": [
    {
     "data": {
      "text/plain": [
       "(\n",
       "[-6.0 25.4662 -72.2009; 0.0 15.0 -12.0208; 0.0 1.48587e-15 15.0],\n",
       "\n",
       "[-0.235702 -0.0571662 -0.970143; 0.235702 -0.971825 -5.90663e-16; 0.942809 0.228665 -0.242536],\n",
       "\n",
       "Complex{Float64}[-6.0+0.0im,15.0+1.33647e-7im,15.0-1.33647e-7im])"
      ]
     },
     "execution_count": 14,
     "metadata": {},
     "output_type": "execute_result"
    }
   ],
   "source": [
    "# Schur decomposition\n",
    "T,Q=schur(A)"
   ]
  },
  {
   "cell_type": "code",
   "execution_count": 15,
   "metadata": {
    "collapsed": false
   },
   "outputs": [
    {
     "data": {
      "text/html": [
       "schur(A::<b>Union{Base.ReshapedArray{T<:Any,2,A<:DenseArray,MI<:Tuple{Vararg{Base.MultiplicativeInverses.SignedMultiplicativeInverse{Int64},N<:Any}}},DenseArray{T<:Any,2},SubArray{T<:Any,2,A<:Union{Base.ReshapedArray{T<:Any,N<:Any,A<:DenseArray,MI<:Tuple{Vararg{Base.MultiplicativeInverses.SignedMultiplicativeInverse{Int64},N<:Any}}},DenseArray},I<:Tuple{Vararg{Union{Base.AbstractCartesianIndex,Colon,Int64,Range{Int64}},N<:Any}},L<:Any}}</b>) at <a href=\"https://github.com/JuliaLang/julia/tree/6445c82d0060dbe82b88436f0f4371a4ee64d918/base/linalg/schur.jl#L55\" target=\"_blank\">linalg/schur.jl:55</a>"
      ],
      "text/plain": [
       "schur(A::Union{Base.ReshapedArray{T<:Any,2,A<:DenseArray,MI<:Tuple{Vararg{Base.MultiplicativeInverses.SignedMultiplicativeInverse{Int64},N<:Any}}},DenseArray{T<:Any,2},SubArray{T<:Any,2,A<:Union{Base.ReshapedArray{T<:Any,N<:Any,A<:DenseArray,MI<:Tuple{Vararg{Base.MultiplicativeInverses.SignedMultiplicativeInverse{Int64},N<:Any}}},DenseArray},I<:Tuple{Vararg{Union{Base.AbstractCartesianIndex,Colon,Int64,Range{Int64}},N<:Any}},L<:Any}}) at linalg/schur.jl:55"
      ]
     },
     "execution_count": 15,
     "metadata": {},
     "output_type": "execute_result"
    }
   ],
   "source": [
    "@which schur(A)"
   ]
  },
  {
   "cell_type": "code",
   "execution_count": 16,
   "metadata": {
    "collapsed": false
   },
   "outputs": [
    {
     "data": {
      "text/plain": [
       "Base.LinAlg.Schur{Float64,Array{Float64,2}}([-6.0 25.4662 -72.2009; 0.0 15.0 -12.0208; 0.0 1.48587e-15 15.0],[-0.235702 -0.0571662 -0.970143; 0.235702 -0.971825 -5.90663e-16; 0.942809 0.228665 -0.242536],Complex{Float64}[-6.0+0.0im,15.0+1.33647e-7im,15.0-1.33647e-7im])"
      ]
     },
     "execution_count": 16,
     "metadata": {},
     "output_type": "execute_result"
    }
   ],
   "source": [
    "F=schurfact(A)"
   ]
  },
  {
   "cell_type": "code",
   "execution_count": 17,
   "metadata": {
    "collapsed": false
   },
   "outputs": [
    {
     "data": {
      "text/plain": [
       "3-element Array{Symbol,1}:\n",
       " :T     \n",
       " :Z     \n",
       " :values"
      ]
     },
     "execution_count": 17,
     "metadata": {},
     "output_type": "execute_result"
    }
   ],
   "source": [
    "fieldnames(F)"
   ]
  },
  {
   "cell_type": "code",
   "execution_count": 18,
   "metadata": {
    "collapsed": false
   },
   "outputs": [
    {
     "data": {
      "text/plain": [
       "(\n",
       "[-0.235702 -0.0571662 -0.970143; 0.235702 -0.971825 -5.90663e-16; 0.942809 0.228665 -0.242536],\n",
       "\n",
       "[-0.235702 -0.0571662 -0.970143; 0.235702 -0.971825 -5.90663e-16; 0.942809 0.228665 -0.242536])"
      ]
     },
     "execution_count": 18,
     "metadata": {},
     "output_type": "execute_result"
    }
   ],
   "source": [
    "F.Z, F[:Z]"
   ]
  },
  {
   "cell_type": "code",
   "execution_count": 19,
   "metadata": {
    "collapsed": false
   },
   "outputs": [
    {
     "name": "stdout",
     "output_type": "stream",
     "text": [
      "[-6.0,15.0,15.0]\n"
     ]
    }
   ],
   "source": [
    "println(diag(T))"
   ]
  },
  {
   "cell_type": "code",
   "execution_count": 20,
   "metadata": {
    "collapsed": false
   },
   "outputs": [
    {
     "data": {
      "text/plain": [
       "(\n",
       "[1.0 1.11022e-16 2.77556e-17; 1.11022e-16 1.0 1.52656e-16; 2.77556e-17 1.52656e-16 1.0],\n",
       "\n",
       "[1.0 1.35877e-16 0.0; 1.35877e-16 1.0 3.22346e-17; 0.0 3.22346e-17 1.0])"
      ]
     },
     "execution_count": 20,
     "metadata": {},
     "output_type": "execute_result"
    }
   ],
   "source": [
    "Q'*Q, Q*Q'"
   ]
  },
  {
   "cell_type": "code",
   "execution_count": 21,
   "metadata": {
    "collapsed": false
   },
   "outputs": [
    {
     "data": {
      "text/plain": [
       "([-6.0,15.0,15.0],24.0,-1350.000000000047)"
      ]
     },
     "execution_count": 21,
     "metadata": {},
     "output_type": "execute_result"
    }
   ],
   "source": [
    "# Similar matrices\n",
    "M=rand(-5:5,3,3)\n",
    "B=M*A*inv(M)\n",
    "eigvals(B), trace(B), det(B)"
   ]
  },
  {
   "cell_type": "markdown",
   "metadata": {},
   "source": [
    "### Example\n",
    "\n",
    "This matrix is nondefective and diagonalizable."
   ]
  },
  {
   "cell_type": "code",
   "execution_count": 22,
   "metadata": {
    "collapsed": false
   },
   "outputs": [
    {
     "data": {
      "text/plain": [
       "3×3 Array{Int64,2}:\n",
       "   57  -21   21\n",
       "  -14   22   -7\n",
       " -140   70  -55"
      ]
     },
     "execution_count": 22,
     "metadata": {},
     "output_type": "execute_result"
    }
   ],
   "source": [
    "A=[57 -21 21; -14 22 -7; -140 70 -55]"
   ]
  },
  {
   "cell_type": "code",
   "execution_count": 23,
   "metadata": {
    "collapsed": false
   },
   "outputs": [
    {
     "name": "stderr",
     "output_type": "stream",
     "text": [
      "WARNING: Method definition p(Any) in module Main at In[8]:2 overwritten at In[23]:1.\n"
     ]
    },
    {
     "data": {
      "text/latex": [
       "$$- \\left(x - 15\\right)^{2} \\left(x + 6\\right)$$"
      ],
      "text/plain": [
       "         2        \n",
       "-(x - 15) ⋅(x + 6)"
      ]
     },
     "execution_count": 23,
     "metadata": {},
     "output_type": "execute_result"
    }
   ],
   "source": [
    "p(x)=factor(det(A-x*I))\n",
    "p(x)"
   ]
  },
  {
   "cell_type": "code",
   "execution_count": 24,
   "metadata": {
    "collapsed": false
   },
   "outputs": [
    {
     "data": {
      "text/latex": [
       "\\begin{bmatrix}-6\\\\15\\end{bmatrix}"
      ],
      "text/plain": [
       "2-element Array{SymPy.Sym,1}\n",
       "⎡-6⎤\n",
       "⎢  ⎥\n",
       "⎣15⎦"
      ]
     },
     "execution_count": 24,
     "metadata": {},
     "output_type": "execute_result"
    }
   ],
   "source": [
    "λ=solve(p(x),x)"
   ]
  },
  {
   "cell_type": "code",
   "execution_count": 25,
   "metadata": {
    "collapsed": false
   },
   "outputs": [
    {
     "data": {
      "text/plain": [
       "2-element Array{Any,1}:\n",
       " \n",
       "⎡1/2⎤\n",
       "⎢   ⎥\n",
       "⎢ 1 ⎥\n",
       "⎢   ⎥\n",
       "⎣ 0 ⎦     \n",
       " \n",
       "⎡-1/2⎤\n",
       "⎢    ⎥\n",
       "⎢ 0  ⎥\n",
       "⎢    ⎥\n",
       "⎣ 1  ⎦"
      ]
     },
     "execution_count": 25,
     "metadata": {},
     "output_type": "execute_result"
    }
   ],
   "source": [
    "h=nullspace(A-λ[2]*I)"
   ]
  },
  {
   "cell_type": "markdown",
   "metadata": {},
   "source": [
    "### Example\n",
    "\n",
    "Let us try some random examples of dimension $n=4$ (the largest $n$ for which we can compute eigevalues symbolically)."
   ]
  },
  {
   "cell_type": "code",
   "execution_count": 26,
   "metadata": {
    "collapsed": false
   },
   "outputs": [
    {
     "data": {
      "text/plain": [
       "4×4 Array{Int64,2}:\n",
       "  1   2  0  -3\n",
       " -4   2  0  -2\n",
       "  2   0  4   0\n",
       " -3  -1  1  -3"
      ]
     },
     "execution_count": 26,
     "metadata": {},
     "output_type": "execute_result"
    }
   ],
   "source": [
    "A=rand(-4:4,4,4)"
   ]
  },
  {
   "cell_type": "code",
   "execution_count": 27,
   "metadata": {
    "collapsed": false
   },
   "outputs": [
    {
     "name": "stderr",
     "output_type": "stream",
     "text": [
      "WARNING: Method definition p(Any) in module Main at In[23]:1 overwritten at In[27]:1.\n"
     ]
    },
    {
     "data": {
      "text/latex": [
       "$$x^{4} - 4 x^{3} - 10 x^{2} + 96 x - 204$$"
      ],
      "text/plain": [
       " 4      3       2             \n",
       "x  - 4⋅x  - 10⋅x  + 96⋅x - 204"
      ]
     },
     "execution_count": 27,
     "metadata": {},
     "output_type": "execute_result"
    }
   ],
   "source": [
    "p(x)=factor(det(A-x*I))\n",
    "p(x)"
   ]
  },
  {
   "cell_type": "code",
   "execution_count": 28,
   "metadata": {
    "collapsed": false
   },
   "outputs": [
    {
     "data": {
      "text/latex": [
       "\\begin{bmatrix}1 + \\frac{1}{2} \\sqrt{- \\frac{598}{9 \\sqrt[3]{- \\frac{1421}{27} + \\frac{2 \\sqrt{88735}}{3}}} + 2 \\sqrt[3]{- \\frac{1421}{27} + \\frac{2 \\sqrt{88735}}{3}} + \\frac{32}{3}} - \\frac{1}{2} \\sqrt{- \\frac{136}{\\sqrt{- \\frac{598}{9 \\sqrt[3]{- \\frac{1421}{27} + \\frac{2 \\sqrt{88735}}{3}}} + 2 \\sqrt[3]{- \\frac{1421}{27} + \\frac{2 \\sqrt{88735}}{3}} + \\frac{32}{3}}} - 2 \\sqrt[3]{- \\frac{1421}{27} + \\frac{2 \\sqrt{88735}}{3}} + \\frac{598}{9 \\sqrt[3]{- \\frac{1421}{27} + \\frac{2 \\sqrt{88735}}{3}}} + \\frac{64}{3}}\\\\1 + \\frac{1}{2} \\sqrt{- \\frac{598}{9 \\sqrt[3]{- \\frac{1421}{27} + \\frac{2 \\sqrt{88735}}{3}}} + 2 \\sqrt[3]{- \\frac{1421}{27} + \\frac{2 \\sqrt{88735}}{3}} + \\frac{32}{3}} + \\frac{1}{2} \\sqrt{- \\frac{136}{\\sqrt{- \\frac{598}{9 \\sqrt[3]{- \\frac{1421}{27} + \\frac{2 \\sqrt{88735}}{3}}} + 2 \\sqrt[3]{- \\frac{1421}{27} + \\frac{2 \\sqrt{88735}}{3}} + \\frac{32}{3}}} - 2 \\sqrt[3]{- \\frac{1421}{27} + \\frac{2 \\sqrt{88735}}{3}} + \\frac{598}{9 \\sqrt[3]{- \\frac{1421}{27} + \\frac{2 \\sqrt{88735}}{3}}} + \\frac{64}{3}}\\\\- \\frac{1}{2} \\sqrt{- \\frac{598}{9 \\sqrt[3]{- \\frac{1421}{27} + \\frac{2 \\sqrt{88735}}{3}}} + 2 \\sqrt[3]{- \\frac{1421}{27} + \\frac{2 \\sqrt{88735}}{3}} + \\frac{32}{3}} + 1 + \\frac{1}{2} \\sqrt{- 2 \\sqrt[3]{- \\frac{1421}{27} + \\frac{2 \\sqrt{88735}}{3}} + \\frac{598}{9 \\sqrt[3]{- \\frac{1421}{27} + \\frac{2 \\sqrt{88735}}{3}}} + \\frac{64}{3} + \\frac{136}{\\sqrt{- \\frac{598}{9 \\sqrt[3]{- \\frac{1421}{27} + \\frac{2 \\sqrt{88735}}{3}}} + 2 \\sqrt[3]{- \\frac{1421}{27} + \\frac{2 \\sqrt{88735}}{3}} + \\frac{32}{3}}}}\\\\- \\frac{1}{2} \\sqrt{- 2 \\sqrt[3]{- \\frac{1421}{27} + \\frac{2 \\sqrt{88735}}{3}} + \\frac{598}{9 \\sqrt[3]{- \\frac{1421}{27} + \\frac{2 \\sqrt{88735}}{3}}} + \\frac{64}{3} + \\frac{136}{\\sqrt{- \\frac{598}{9 \\sqrt[3]{- \\frac{1421}{27} + \\frac{2 \\sqrt{88735}}{3}}} + 2 \\sqrt[3]{- \\frac{1421}{27} + \\frac{2 \\sqrt{88735}}{3}} + \\frac{32}{3}}}} - \\frac{1}{2} \\sqrt{- \\frac{598}{9 \\sqrt[3]{- \\frac{1421}{27} + \\frac{2 \\sqrt{88735}}{3}}} + 2 \\sqrt[3]{- \\frac{1421}{27} + \\frac{2 \\sqrt{88735}}{3}} + \\frac{32}{3}} + 1\\end{bmatrix}"
      ],
      "text/plain": [
       "4-element Array{SymPy.Sym,1}\n",
       "⎡                                                                             \n",
       "⎢                                                                             \n",
       "⎢                                                                             \n",
       "⎢                                                                             \n",
       "⎢             ______________________________________________________________  \n",
       "⎢            ╱                                     ___________________        \n",
       "⎢           ╱               598                   ╱   1421   2⋅√88735    32   \n",
       "⎢          ╱   - ───────────────────────── + 2⋅3 ╱  - ──── + ────────  + ──   \n",
       "⎢         ╱            ___________________     ╲╱      27       3        3    \n",
       "⎢        ╱            ╱   1421   2⋅√88735                                     \n",
       "⎢       ╱        9⋅3 ╱  - ──── + ────────                                     \n",
       "⎢     ╲╱           ╲╱      27       3                                         \n",
       "⎢ 1 + ────────────────────────────────────────────────────────────────────── -\n",
       "⎢                                       2                                     \n",
       "⎢                                                                             \n",
       "⎢                                                                             \n",
       "⎢                                                                             \n",
       "⎢                                                                             \n",
       "⎢                                                                             \n",
       "⎢             ______________________________________________________________  \n",
       "⎢            ╱                                     ___________________        \n",
       "⎢           ╱               598                   ╱   1421   2⋅√88735    32   \n",
       "⎢          ╱   - ───────────────────────── + 2⋅3 ╱  - ──── + ────────  + ──   \n",
       "⎢         ╱            ___________________     ╲╱      27       3        3    \n",
       "⎢        ╱            ╱   1421   2⋅√88735                                     \n",
       "⎢       ╱        9⋅3 ╱  - ──── + ────────                                     \n",
       "⎢     ╲╱           ╲╱      27       3                                         \n",
       "⎢ 1 + ────────────────────────────────────────────────────────────────────── +\n",
       "⎢                                       2                                     \n",
       "⎢                                                                             \n",
       "⎢                                                                             \n",
       "⎢                                                                             \n",
       "⎢                                                                             \n",
       "⎢                                                                             \n",
       "⎢          ______________________________________________________________     \n",
       "⎢         ╱                                     ___________________           \n",
       "⎢        ╱               598                   ╱   1421   2⋅√88735    32      \n",
       "⎢       ╱   - ───────────────────────── + 2⋅3 ╱  - ──── + ────────  + ──      \n",
       "⎢      ╱            ___________________     ╲╱      27       3        3       \n",
       "⎢     ╱            ╱   1421   2⋅√88735                                        \n",
       "⎢    ╱        9⋅3 ╱  - ──── + ────────                                        \n",
       "⎢  ╲╱           ╲╱      27       3                                            \n",
       "⎢- ────────────────────────────────────────────────────────────────────── + 1 \n",
       "⎢                                    2                                        \n",
       "⎢                                                                             \n",
       "⎢              _______________________________________________________________\n",
       "⎢             ╱         ___________________                                   \n",
       "⎢            ╱         ╱   1421   2⋅√88735               598              64  \n",
       "⎢           ╱   - 2⋅3 ╱  - ──── + ────────  + ───────────────────────── + ── +\n",
       "⎢          ╱        ╲╱      27       3              ___________________   3   \n",
       "⎢         ╱                                        ╱   1421   2⋅√88735        \n",
       "⎢        ╱                                    9⋅3 ╱  - ──── + ────────        \n",
       "⎢       ╱                                       ╲╱      27       3            \n",
       "⎢      ╱                                                                      \n",
       "⎢     ╱                                                                       \n",
       "⎢    ╱                                                                        \n",
       "⎢  ╲╱                                                                         \n",
       "⎢- ───────────────────────────────────────────────────────────────────────────\n",
       "⎣                                                                           2 \n",
       "\n",
       "             _________________________________________________________________\n",
       "            ╱                                                                 \n",
       "           ╱                                     136                          \n",
       "          ╱   - ──────────────────────────────────────────────────────────────\n",
       "         ╱              ______________________________________________________\n",
       "        ╱              ╱                                     _________________\n",
       "       ╱              ╱               598                   ╱   1421   2⋅√8873\n",
       "      ╱              ╱   - ───────────────────────── + 2⋅3 ╱  - ──── + ───────\n",
       "     ╱              ╱            ___________________     ╲╱      27       3   \n",
       "    ╱              ╱            ╱   1421   2⋅√88735                           \n",
       "   ╱              ╱        9⋅3 ╱  - ──── + ────────                           \n",
       " ╲╱             ╲╱           ╲╱      27       3                               \n",
       " ─────────────────────────────────────────────────────────────────────────────\n",
       "                                                                          2   \n",
       "                                                                              \n",
       "             _________________________________________________________________\n",
       "            ╱                                                                 \n",
       "           ╱                                     136                          \n",
       "          ╱   - ──────────────────────────────────────────────────────────────\n",
       "         ╱              ______________________________________________________\n",
       "        ╱              ╱                                     _________________\n",
       "       ╱              ╱               598                   ╱   1421   2⋅√8873\n",
       "      ╱              ╱   - ───────────────────────── + 2⋅3 ╱  - ──── + ───────\n",
       "     ╱              ╱            ___________________     ╲╱      27       3   \n",
       "    ╱              ╱            ╱   1421   2⋅√88735                           \n",
       "   ╱              ╱        9⋅3 ╱  - ──── + ────────                           \n",
       " ╲╱             ╲╱           ╲╱      27       3                               \n",
       " ─────────────────────────────────────────────────────────────────────────────\n",
       "                                                                          2   \n",
       "                                                                              \n",
       "              ________________________________________________________________\n",
       "             ╱         ___________________                                    \n",
       "            ╱         ╱   1421   2⋅√88735               598              64   \n",
       "           ╱   - 2⋅3 ╱  - ──── + ────────  + ───────────────────────── + ── + \n",
       "          ╱        ╲╱      27       3              ___________________   3    \n",
       "         ╱                                        ╱   1421   2⋅√88735         \n",
       "        ╱                                    9⋅3 ╱  - ──── + ────────         \n",
       "       ╱                                       ╲╱      27       3             \n",
       "      ╱                                                                       \n",
       "     ╱                                                                        \n",
       "    ╱                                                                         \n",
       "  ╲╱                                                                          \n",
       "+ ────────────────────────────────────────────────────────────────────────────\n",
       "                                                                           2  \n",
       "                                                                              \n",
       "________________________________________________________________________      \n",
       "                                                                              \n",
       "                                  136                                         \n",
       " ──────────────────────────────────────────────────────────────────────       \n",
       "         ______________________________________________________________       \n",
       "        ╱                                     ___________________             \n",
       "       ╱               598                   ╱   1421   2⋅√88735    32        \n",
       "      ╱   - ───────────────────────── + 2⋅3 ╱  - ──── + ────────  + ──        \n",
       "     ╱            ___________________     ╲╱      27       3        3         \n",
       "    ╱            ╱   1421   2⋅√88735                                          \n",
       "   ╱        9⋅3 ╱  - ──── + ────────                                         ╱\n",
       " ╲╱           ╲╱      27       3                                           ╲╱ \n",
       "──────────────────────────────────────────────────────────────────────── - ───\n",
       "                                                                              \n",
       "\n",
       "______________________________________________________________________ ⎤\n",
       "                 ___________________                                   ⎥\n",
       "                ╱   1421   2⋅√88735               598              64  ⎥\n",
       "──────── - 2⋅3 ╱  - ──── + ────────  + ───────────────────────── + ──  ⎥\n",
       "________     ╲╱      27       3              ___________________   3   ⎥\n",
       "__                                          ╱   1421   2⋅√88735        ⎥\n",
       "5    32                                9⋅3 ╱  - ──── + ────────        ⎥\n",
       "─  + ──                                  ╲╱      27       3            ⎥\n",
       "     3                                                                 ⎥\n",
       "                                                                       ⎥\n",
       "                                                                       ⎥\n",
       "                                                                       ⎥\n",
       "────────────────────────────────────────────────────────────────────── ⎥\n",
       "                                                                       ⎥\n",
       "                                                                       ⎥\n",
       "______________________________________________________________________ ⎥\n",
       "                 ___________________                                   ⎥\n",
       "                ╱   1421   2⋅√88735               598              64  ⎥\n",
       "──────── - 2⋅3 ╱  - ──── + ────────  + ───────────────────────── + ──  ⎥\n",
       "________     ╲╱      27       3              ___________________   3   ⎥\n",
       "__                                          ╱   1421   2⋅√88735        ⎥\n",
       "5    32                                9⋅3 ╱  - ──── + ────────        ⎥\n",
       "─  + ──                                  ╲╱      27       3            ⎥\n",
       "     3                                                                 ⎥\n",
       "                                                                       ⎥\n",
       "                                                                       ⎥\n",
       "                                                                       ⎥\n",
       "────────────────────────────────────────────────────────────────────── ⎥\n",
       "                                                                       ⎥\n",
       "                                                                       ⎥\n",
       "_______________________________________________________________________⎥\n",
       "                                                                       ⎥\n",
       "                                 136                                   ⎥\n",
       "────────────────────────────────────────────────────────────────────── ⎥\n",
       "        ______________________________________________________________ ⎥\n",
       "       ╱                                     ___________________       ⎥\n",
       "      ╱               598                   ╱   1421   2⋅√88735    32  ⎥\n",
       "     ╱   - ───────────────────────── + 2⋅3 ╱  - ──── + ────────  + ──  ⎥\n",
       "    ╱            ___________________     ╲╱      27       3        3   ⎥\n",
       "   ╱            ╱   1421   2⋅√88735                                    ⎥\n",
       "  ╱        9⋅3 ╱  - ──── + ────────                                    ⎥\n",
       "╲╱           ╲╱      27       3                                        ⎥\n",
       "───────────────────────────────────────────────────────────────────────⎥\n",
       "                                                                       ⎥\n",
       "                                                                       ⎥\n",
       "                                                                       ⎥\n",
       "                                                                       ⎥\n",
       "                                                                       ⎥\n",
       "                                                                       ⎥\n",
       "     ______________________________________________________________    ⎥\n",
       "    ╱                                     ___________________          ⎥\n",
       "   ╱               598                   ╱   1421   2⋅√88735    32     ⎥\n",
       "  ╱   - ───────────────────────── + 2⋅3 ╱  - ──── + ────────  + ──     ⎥\n",
       " ╱            ___________________     ╲╱      27       3        3      ⎥\n",
       "╱            ╱   1421   2⋅√88735                                       ⎥\n",
       "        9⋅3 ╱  - ──── + ────────                                       ⎥\n",
       "          ╲╱      27       3                                           ⎥\n",
       "─────────────────────────────────────────────────────────────────── + 1⎥\n",
       "                               2                                       ⎦"
      ]
     },
     "execution_count": 28,
     "metadata": {},
     "output_type": "execute_result"
    }
   ],
   "source": [
    "λ=solve(p(x),x)"
   ]
  },
  {
   "cell_type": "code",
   "execution_count": 29,
   "metadata": {
    "collapsed": false,
    "scrolled": true
   },
   "outputs": [
    {
     "data": {
      "text/plain": [
       "4"
      ]
     },
     "execution_count": 29,
     "metadata": {},
     "output_type": "execute_result"
    }
   ],
   "source": [
    "length(λ)"
   ]
  },
  {
   "cell_type": "markdown",
   "metadata": {},
   "source": [
    "Since all eigenvalues are distinct, they are all simple and the matrix is diagonalizable. \n",
    "With high probability, all eigenvalues of a random matrix are simple.\n",
    "\n",
    "Do not try to use `nullspace()` here."
   ]
  },
  {
   "cell_type": "code",
   "execution_count": 30,
   "metadata": {
    "collapsed": false
   },
   "outputs": [
    {
     "name": "stderr",
     "output_type": "stream",
     "text": [
      "WARNING: Method definition p(Any) in module Main at In[27]:1 overwritten at In[30]:2.\n"
     ]
    },
    {
     "data": {
      "text/latex": [
       "$$\\frac{1}{\\left(1.0 x - 0.799441699648248\\right)^{2} \\left(1.0 x^{2} - 1.75192264563369 x + 0.406681275421676\\right)} \\left(1.0 x^{8} - 6.16477573764709 x^{7} + 13.9045597232854 x^{6} - 14.1284541394031 x^{5} + 5.62526633810746 x^{4} + 0.741145767878922 x^{3} - 1.28847915938842 x^{2} + 0.350422749975604 x - 0.0295972666726823\\right)$$"
      ],
      "text/plain": [
       "    ⎛     8                     7                     6                     5 \n",
       "1.0⋅⎝1.0⋅x  - 6.16477573764709⋅x  + 13.9045597232854⋅x  - 14.1284541394031⋅x  \n",
       "──────────────────────────────────────────────────────────────────────────────\n",
       "                                                                              \n",
       "                                                       (1.0⋅x - 0.799441699648\n",
       "\n",
       "                    4                      3                     2            \n",
       "+ 5.62526633810746⋅x  + 0.741145767878922⋅x  - 1.28847915938842⋅x  + 0.3504227\n",
       "──────────────────────────────────────────────────────────────────────────────\n",
       "    2 ⎛     2                                         ⎞                       \n",
       "248) ⋅⎝1.0⋅x  - 1.75192264563369⋅x + 0.406681275421676⎠                       \n",
       "\n",
       "                               ⎞\n",
       "49975604⋅x - 0.0295972666726823⎠\n",
       "────────────────────────────────\n",
       "                                \n",
       "                                "
      ]
     },
     "execution_count": 30,
     "metadata": {},
     "output_type": "execute_result"
    }
   ],
   "source": [
    "A=rand(4,4)\n",
    "p(x)=factor(det(A-x*I))\n",
    "p(x)"
   ]
  },
  {
   "cell_type": "markdown",
   "metadata": {
    "collapsed": false
   },
   "source": [
    "In this case, symbolic computation does not work well with floating-point numbers - the degree of $p_A(x)$ is 8 instead of 4.\n",
    "\n",
    "Let us try `Rational` numbers:"
   ]
  },
  {
   "cell_type": "code",
   "execution_count": 31,
   "metadata": {
    "collapsed": false
   },
   "outputs": [
    {
     "data": {
      "text/plain": [
       "4×4 Array{Rational{Int64},2}:\n",
       "  900091335160071//1125899906842624  …   496858866342101//562949953421312 \n",
       " 1828949512257257//2251799813685248     3551292642094905//4503599627370496\n",
       " 2258740753586979//4503599627370496     1028536715288335//4503599627370496\n",
       " 3436667273632221//4503599627370496      135142385909607//562949953421312 "
      ]
     },
     "execution_count": 31,
     "metadata": {},
     "output_type": "execute_result"
    }
   ],
   "source": [
    "A=map(Rational,A)"
   ]
  },
  {
   "cell_type": "code",
   "execution_count": 32,
   "metadata": {
    "collapsed": false
   },
   "outputs": [
    {
     "name": "stderr",
     "output_type": "stream",
     "text": [
      "WARNING: Method definition p(Any) in module Main at In[30]:2 overwritten at In[32]:1.\n"
     ]
    },
    {
     "data": {
      "text/latex": [
       "$$\\frac{1}{25711008708143844408671393477458601640355247900524685364822016} \\left(25711008708143844408671393477458601640355247900524685364822016 x^{4} - 72349999273897222479592143499800431637257084841497061119492096 x^{3} + 16161547342544314027758998740413643240625210146412726126116864 x^{2} + 14727185107397550264730009924101866422460907034408247661428736 x - 2927810396462480707038474565458690332448261597292799967814237\\right)$$"
      ],
      "text/plain": [
       "                                                                4             \n",
       "25711008708143844408671393477458601640355247900524685364822016⋅x  - 7234999927\n",
       "──────────────────────────────────────────────────────────────────────────────\n",
       "                                                                              \n",
       "\n",
       "                                                      3                       \n",
       "3897222479592143499800431637257084841497061119492096⋅x  + 16161547342544314027\n",
       "──────────────────────────────────────────────────────────────────────────────\n",
       "                                                         257110087081438444086\n",
       "\n",
       "                                            2                                 \n",
       "758998740413643240625210146412726126116864⋅x  + 147271851073975502647300099241\n",
       "──────────────────────────────────────────────────────────────────────────────\n",
       "71393477458601640355247900524685364822016                                     \n",
       "\n",
       "                                                                              \n",
       "01866422460907034408247661428736⋅x - 29278103964624807070384745654586903324482\n",
       "──────────────────────────────────────────────────────────────────────────────\n",
       "                                                                              \n",
       "\n",
       "                    \n",
       "61597292799967814237\n",
       "────────────────────\n",
       "                    "
      ]
     },
     "execution_count": 32,
     "metadata": {},
     "output_type": "execute_result"
    }
   ],
   "source": [
    "p(x)=factor(det(A-x*I))\n",
    "p(x)"
   ]
  },
  {
   "cell_type": "code",
   "execution_count": 33,
   "metadata": {
    "collapsed": false
   },
   "outputs": [
    {
     "data": {
      "text/latex": [
       "\\begin{bmatrix}\\frac{6336496429775863}{9007199254740992} - \\frac{1}{2} \\sqrt{\\frac{94955135280863284252235248776079}{60847228810955011271841753858048} + \\frac{794805877526104661260394241487464884218882282846657498368026855}{3702385253972713594848680660754038636211155697675554692534370304 \\sqrt[3]{- \\frac{5993520559777921744212484079693094397872461573669860896411596247328095047697509405371166531257}{3604478123116535764041599129161119193392063881476851549285632713199995787254830928163748521705472} + \\frac{\\sqrt{197913806449909855652268339857168992785246798945589081659531330168311028440594924244081713694996380451995520872099415399610731195741083899363353318957072338920029181860789660691409140262271} i}{400497569235170640449066569906791021488007097941872394365070301466666198583870103129305391300608}}} + 2 \\sqrt[3]{- \\frac{5993520559777921744212484079693094397872461573669860896411596247328095047697509405371166531257}{3604478123116535764041599129161119193392063881476851549285632713199995787254830928163748521705472} + \\frac{\\sqrt{197913806449909855652268339857168992785246798945589081659531330168311028440594924244081713694996380451995520872099415399610731195741083899363353318957072338920029181860789660691409140262271} i}{400497569235170640449066569906791021488007097941872394365070301466666198583870103129305391300608}}} - \\frac{1}{2} \\sqrt{\\frac{94955135280863284252235248776079}{30423614405477505635920876929024} - 2 \\sqrt[3]{- \\frac{5993520559777921744212484079693094397872461573669860896411596247328095047697509405371166531257}{3604478123116535764041599129161119193392063881476851549285632713199995787254830928163748521705472} + \\frac{\\sqrt{197913806449909855652268339857168992785246798945589081659531330168311028440594924244081713694996380451995520872099415399610731195741083899363353318957072338920029181860789660691409140262271} i}{400497569235170640449066569906791021488007097941872394365070301466666198583870103129305391300608}} - \\frac{15163879914240369353238771737539520063027646573}{5708990770823839524233143877797980545530986496 \\sqrt{\\frac{94955135280863284252235248776079}{60847228810955011271841753858048} + \\frac{794805877526104661260394241487464884218882282846657498368026855}{3702385253972713594848680660754038636211155697675554692534370304 \\sqrt[3]{- \\frac{5993520559777921744212484079693094397872461573669860896411596247328095047697509405371166531257}{3604478123116535764041599129161119193392063881476851549285632713199995787254830928163748521705472} + \\frac{\\sqrt{197913806449909855652268339857168992785246798945589081659531330168311028440594924244081713694996380451995520872099415399610731195741083899363353318957072338920029181860789660691409140262271} i}{400497569235170640449066569906791021488007097941872394365070301466666198583870103129305391300608}}} + 2 \\sqrt[3]{- \\frac{5993520559777921744212484079693094397872461573669860896411596247328095047697509405371166531257}{3604478123116535764041599129161119193392063881476851549285632713199995787254830928163748521705472} + \\frac{\\sqrt{197913806449909855652268339857168992785246798945589081659531330168311028440594924244081713694996380451995520872099415399610731195741083899363353318957072338920029181860789660691409140262271} i}{400497569235170640449066569906791021488007097941872394365070301466666198583870103129305391300608}}}} - \\frac{794805877526104661260394241487464884218882282846657498368026855}{3702385253972713594848680660754038636211155697675554692534370304 \\sqrt[3]{- \\frac{5993520559777921744212484079693094397872461573669860896411596247328095047697509405371166531257}{3604478123116535764041599129161119193392063881476851549285632713199995787254830928163748521705472} + \\frac{\\sqrt{197913806449909855652268339857168992785246798945589081659531330168311028440594924244081713694996380451995520872099415399610731195741083899363353318957072338920029181860789660691409140262271} i}{400497569235170640449066569906791021488007097941872394365070301466666198583870103129305391300608}}}}\\\\\\frac{6336496429775863}{9007199254740992} + \\frac{1}{2} \\sqrt{\\frac{94955135280863284252235248776079}{30423614405477505635920876929024} - 2 \\sqrt[3]{- \\frac{5993520559777921744212484079693094397872461573669860896411596247328095047697509405371166531257}{3604478123116535764041599129161119193392063881476851549285632713199995787254830928163748521705472} + \\frac{\\sqrt{197913806449909855652268339857168992785246798945589081659531330168311028440594924244081713694996380451995520872099415399610731195741083899363353318957072338920029181860789660691409140262271} i}{400497569235170640449066569906791021488007097941872394365070301466666198583870103129305391300608}} - \\frac{15163879914240369353238771737539520063027646573}{5708990770823839524233143877797980545530986496 \\sqrt{\\frac{94955135280863284252235248776079}{60847228810955011271841753858048} + \\frac{794805877526104661260394241487464884218882282846657498368026855}{3702385253972713594848680660754038636211155697675554692534370304 \\sqrt[3]{- \\frac{5993520559777921744212484079693094397872461573669860896411596247328095047697509405371166531257}{3604478123116535764041599129161119193392063881476851549285632713199995787254830928163748521705472} + \\frac{\\sqrt{197913806449909855652268339857168992785246798945589081659531330168311028440594924244081713694996380451995520872099415399610731195741083899363353318957072338920029181860789660691409140262271} i}{400497569235170640449066569906791021488007097941872394365070301466666198583870103129305391300608}}} + 2 \\sqrt[3]{- \\frac{5993520559777921744212484079693094397872461573669860896411596247328095047697509405371166531257}{3604478123116535764041599129161119193392063881476851549285632713199995787254830928163748521705472} + \\frac{\\sqrt{197913806449909855652268339857168992785246798945589081659531330168311028440594924244081713694996380451995520872099415399610731195741083899363353318957072338920029181860789660691409140262271} i}{400497569235170640449066569906791021488007097941872394365070301466666198583870103129305391300608}}}} - \\frac{794805877526104661260394241487464884218882282846657498368026855}{3702385253972713594848680660754038636211155697675554692534370304 \\sqrt[3]{- \\frac{5993520559777921744212484079693094397872461573669860896411596247328095047697509405371166531257}{3604478123116535764041599129161119193392063881476851549285632713199995787254830928163748521705472} + \\frac{\\sqrt{197913806449909855652268339857168992785246798945589081659531330168311028440594924244081713694996380451995520872099415399610731195741083899363353318957072338920029181860789660691409140262271} i}{400497569235170640449066569906791021488007097941872394365070301466666198583870103129305391300608}}}} - \\frac{1}{2} \\sqrt{\\frac{94955135280863284252235248776079}{60847228810955011271841753858048} + \\frac{794805877526104661260394241487464884218882282846657498368026855}{3702385253972713594848680660754038636211155697675554692534370304 \\sqrt[3]{- \\frac{5993520559777921744212484079693094397872461573669860896411596247328095047697509405371166531257}{3604478123116535764041599129161119193392063881476851549285632713199995787254830928163748521705472} + \\frac{\\sqrt{197913806449909855652268339857168992785246798945589081659531330168311028440594924244081713694996380451995520872099415399610731195741083899363353318957072338920029181860789660691409140262271} i}{400497569235170640449066569906791021488007097941872394365070301466666198583870103129305391300608}}} + 2 \\sqrt[3]{- \\frac{5993520559777921744212484079693094397872461573669860896411596247328095047697509405371166531257}{3604478123116535764041599129161119193392063881476851549285632713199995787254830928163748521705472} + \\frac{\\sqrt{197913806449909855652268339857168992785246798945589081659531330168311028440594924244081713694996380451995520872099415399610731195741083899363353318957072338920029181860789660691409140262271} i}{400497569235170640449066569906791021488007097941872394365070301466666198583870103129305391300608}}}\\\\\\frac{6336496429775863}{9007199254740992} - \\frac{1}{2} \\sqrt{\\frac{94955135280863284252235248776079}{30423614405477505635920876929024} - 2 \\sqrt[3]{- \\frac{5993520559777921744212484079693094397872461573669860896411596247328095047697509405371166531257}{3604478123116535764041599129161119193392063881476851549285632713199995787254830928163748521705472} + \\frac{\\sqrt{197913806449909855652268339857168992785246798945589081659531330168311028440594924244081713694996380451995520872099415399610731195741083899363353318957072338920029181860789660691409140262271} i}{400497569235170640449066569906791021488007097941872394365070301466666198583870103129305391300608}} + \\frac{15163879914240369353238771737539520063027646573}{5708990770823839524233143877797980545530986496 \\sqrt{\\frac{94955135280863284252235248776079}{60847228810955011271841753858048} + \\frac{794805877526104661260394241487464884218882282846657498368026855}{3702385253972713594848680660754038636211155697675554692534370304 \\sqrt[3]{- \\frac{5993520559777921744212484079693094397872461573669860896411596247328095047697509405371166531257}{3604478123116535764041599129161119193392063881476851549285632713199995787254830928163748521705472} + \\frac{\\sqrt{197913806449909855652268339857168992785246798945589081659531330168311028440594924244081713694996380451995520872099415399610731195741083899363353318957072338920029181860789660691409140262271} i}{400497569235170640449066569906791021488007097941872394365070301466666198583870103129305391300608}}} + 2 \\sqrt[3]{- \\frac{5993520559777921744212484079693094397872461573669860896411596247328095047697509405371166531257}{3604478123116535764041599129161119193392063881476851549285632713199995787254830928163748521705472} + \\frac{\\sqrt{197913806449909855652268339857168992785246798945589081659531330168311028440594924244081713694996380451995520872099415399610731195741083899363353318957072338920029181860789660691409140262271} i}{400497569235170640449066569906791021488007097941872394365070301466666198583870103129305391300608}}}} - \\frac{794805877526104661260394241487464884218882282846657498368026855}{3702385253972713594848680660754038636211155697675554692534370304 \\sqrt[3]{- \\frac{5993520559777921744212484079693094397872461573669860896411596247328095047697509405371166531257}{3604478123116535764041599129161119193392063881476851549285632713199995787254830928163748521705472} + \\frac{\\sqrt{197913806449909855652268339857168992785246798945589081659531330168311028440594924244081713694996380451995520872099415399610731195741083899363353318957072338920029181860789660691409140262271} i}{400497569235170640449066569906791021488007097941872394365070301466666198583870103129305391300608}}}} + \\frac{1}{2} \\sqrt{\\frac{94955135280863284252235248776079}{60847228810955011271841753858048} + \\frac{794805877526104661260394241487464884218882282846657498368026855}{3702385253972713594848680660754038636211155697675554692534370304 \\sqrt[3]{- \\frac{5993520559777921744212484079693094397872461573669860896411596247328095047697509405371166531257}{3604478123116535764041599129161119193392063881476851549285632713199995787254830928163748521705472} + \\frac{\\sqrt{197913806449909855652268339857168992785246798945589081659531330168311028440594924244081713694996380451995520872099415399610731195741083899363353318957072338920029181860789660691409140262271} i}{400497569235170640449066569906791021488007097941872394365070301466666198583870103129305391300608}}} + 2 \\sqrt[3]{- \\frac{5993520559777921744212484079693094397872461573669860896411596247328095047697509405371166531257}{3604478123116535764041599129161119193392063881476851549285632713199995787254830928163748521705472} + \\frac{\\sqrt{197913806449909855652268339857168992785246798945589081659531330168311028440594924244081713694996380451995520872099415399610731195741083899363353318957072338920029181860789660691409140262271} i}{400497569235170640449066569906791021488007097941872394365070301466666198583870103129305391300608}}}\\\\\\frac{6336496429775863}{9007199254740992} + \\frac{1}{2} \\sqrt{\\frac{94955135280863284252235248776079}{30423614405477505635920876929024} - 2 \\sqrt[3]{- \\frac{5993520559777921744212484079693094397872461573669860896411596247328095047697509405371166531257}{3604478123116535764041599129161119193392063881476851549285632713199995787254830928163748521705472} + \\frac{\\sqrt{197913806449909855652268339857168992785246798945589081659531330168311028440594924244081713694996380451995520872099415399610731195741083899363353318957072338920029181860789660691409140262271} i}{400497569235170640449066569906791021488007097941872394365070301466666198583870103129305391300608}} + \\frac{15163879914240369353238771737539520063027646573}{5708990770823839524233143877797980545530986496 \\sqrt{\\frac{94955135280863284252235248776079}{60847228810955011271841753858048} + \\frac{794805877526104661260394241487464884218882282846657498368026855}{3702385253972713594848680660754038636211155697675554692534370304 \\sqrt[3]{- \\frac{5993520559777921744212484079693094397872461573669860896411596247328095047697509405371166531257}{3604478123116535764041599129161119193392063881476851549285632713199995787254830928163748521705472} + \\frac{\\sqrt{197913806449909855652268339857168992785246798945589081659531330168311028440594924244081713694996380451995520872099415399610731195741083899363353318957072338920029181860789660691409140262271} i}{400497569235170640449066569906791021488007097941872394365070301466666198583870103129305391300608}}} + 2 \\sqrt[3]{- \\frac{5993520559777921744212484079693094397872461573669860896411596247328095047697509405371166531257}{3604478123116535764041599129161119193392063881476851549285632713199995787254830928163748521705472} + \\frac{\\sqrt{197913806449909855652268339857168992785246798945589081659531330168311028440594924244081713694996380451995520872099415399610731195741083899363353318957072338920029181860789660691409140262271} i}{400497569235170640449066569906791021488007097941872394365070301466666198583870103129305391300608}}}} - \\frac{794805877526104661260394241487464884218882282846657498368026855}{3702385253972713594848680660754038636211155697675554692534370304 \\sqrt[3]{- \\frac{5993520559777921744212484079693094397872461573669860896411596247328095047697509405371166531257}{3604478123116535764041599129161119193392063881476851549285632713199995787254830928163748521705472} + \\frac{\\sqrt{197913806449909855652268339857168992785246798945589081659531330168311028440594924244081713694996380451995520872099415399610731195741083899363353318957072338920029181860789660691409140262271} i}{400497569235170640449066569906791021488007097941872394365070301466666198583870103129305391300608}}}} + \\frac{1}{2} \\sqrt{\\frac{94955135280863284252235248776079}{60847228810955011271841753858048} + \\frac{794805877526104661260394241487464884218882282846657498368026855}{3702385253972713594848680660754038636211155697675554692534370304 \\sqrt[3]{- \\frac{5993520559777921744212484079693094397872461573669860896411596247328095047697509405371166531257}{3604478123116535764041599129161119193392063881476851549285632713199995787254830928163748521705472} + \\frac{\\sqrt{197913806449909855652268339857168992785246798945589081659531330168311028440594924244081713694996380451995520872099415399610731195741083899363353318957072338920029181860789660691409140262271} i}{400497569235170640449066569906791021488007097941872394365070301466666198583870103129305391300608}}} + 2 \\sqrt[3]{- \\frac{5993520559777921744212484079693094397872461573669860896411596247328095047697509405371166531257}{3604478123116535764041599129161119193392063881476851549285632713199995787254830928163748521705472} + \\frac{\\sqrt{197913806449909855652268339857168992785246798945589081659531330168311028440594924244081713694996380451995520872099415399610731195741083899363353318957072338920029181860789660691409140262271} i}{400497569235170640449066569906791021488007097941872394365070301466666198583870103129305391300608}}}\\end{bmatrix}"
      ],
      "text/plain": [
       "4-element Array{SymPy.Sym,1}\n",
       "⎡                                                                             \n",
       "⎢                                                                             \n",
       "⎢                                                                             \n",
       "⎢                                                                             \n",
       "⎢                           __________________________________________________\n",
       "⎢                          ╱                                                  \n",
       "⎢                         ╱  94955135280863284252235248776079                 \n",
       "⎢                        ╱   ──────────────────────────────── + ──────────────\n",
       "⎢                       ╱    60847228810955011271841753858048                 \n",
       "⎢                      ╱                                                      \n",
       "⎢                     ╱                                         37023852539727\n",
       "⎢6336496429775863   ╲╱                                                        \n",
       "⎢──────────────── - ──────────────────────────────────────────────────────────\n",
       "⎢9007199254740992                                                             \n",
       "⎢                                                                             \n",
       "⎢                               ______________________________________________\n",
       "⎢                              ╱                                          ____\n",
       "⎢                             ╱  94955135280863284252235248776079        ╱    \n",
       "⎢                            ╱   ──────────────────────────────── - 2⋅3 ╱  - ─\n",
       "⎢                           ╱    30423614405477505635920876929024     ╲╱     3\n",
       "⎢                          ╱                                                  \n",
       "⎢                         ╱                                                   \n",
       "⎢                        ╱                                                    \n",
       "⎢                       ╱                                                     \n",
       "⎢                      ╱                                                      \n",
       "⎢                     ╱                                                       \n",
       "⎢6336496429775863   ╲╱                                                        \n",
       "⎢──────────────── + ──────────────────────────────────────────────────────────\n",
       "⎢9007199254740992                                                             \n",
       "⎢                                                                             \n",
       "⎢                               ______________________________________________\n",
       "⎢                              ╱                                          ____\n",
       "⎢                             ╱  94955135280863284252235248776079        ╱    \n",
       "⎢                            ╱   ──────────────────────────────── - 2⋅3 ╱  - ─\n",
       "⎢                           ╱    30423614405477505635920876929024     ╲╱     3\n",
       "⎢                          ╱                                                  \n",
       "⎢                         ╱                                                   \n",
       "⎢                        ╱                                                    \n",
       "⎢                       ╱                                                     \n",
       "⎢                      ╱                                                      \n",
       "⎢                     ╱                                                       \n",
       "⎢6336496429775863   ╲╱                                                        \n",
       "⎢──────────────── - ──────────────────────────────────────────────────────────\n",
       "⎢9007199254740992                                                             \n",
       "⎢                                                                             \n",
       "⎢                               ______________________________________________\n",
       "⎢                              ╱                                          ____\n",
       "⎢                             ╱  94955135280863284252235248776079        ╱    \n",
       "⎢                            ╱   ──────────────────────────────── - 2⋅3 ╱  - ─\n",
       "⎢                           ╱    30423614405477505635920876929024     ╲╱     3\n",
       "⎢                          ╱                                                  \n",
       "⎢                         ╱                                                   \n",
       "⎢                        ╱                                                    \n",
       "⎢                       ╱                                                     \n",
       "⎢                      ╱                                                      \n",
       "⎢                     ╱                                                       \n",
       "⎢6336496429775863   ╲╱                                                        \n",
       "⎢──────────────── + ──────────────────────────────────────────────────────────\n",
       "⎣9007199254740992                                                             \n",
       "\n",
       "                                                                              \n",
       "                                                                              \n",
       "                                                                              \n",
       "                                                                              \n",
       "______________________________________________________________________________\n",
       "                                                                              \n",
       "                                                                              \n",
       "──────────────────────────────────────────────────────────────────────────────\n",
       "                                                       _______________________\n",
       "                                                      ╱     599352055977792174\n",
       "13594848680660754038636211155697675554692534370304⋅3 ╱  - ────────────────────\n",
       "                                                   ╲╱     36044781231165357640\n",
       "──────────────────────────────────────────────────────────────────────────────\n",
       "                                                                              \n",
       "                                                                              \n",
       "______________________________________________________________________________\n",
       "______________________________________________________________________________\n",
       " 59935205597779217442124840796930943978724615736698608964115962473280950476975\n",
       "──────────────────────────────────────────────────────────────────────────────\n",
       "604478123116535764041599129161119193392063881476851549285632713199995787254830\n",
       "                                                                              \n",
       "                                                                              \n",
       "                                                                              \n",
       "                                                                              \n",
       "                                                                              \n",
       "                                                                              \n",
       "                                                                              \n",
       "──────────────────────────────────────────────────────────────────────────────\n",
       "                                                                              \n",
       "                                                                              \n",
       "______________________________________________________________________________\n",
       "______________________________________________________________________________\n",
       " 59935205597779217442124840796930943978724615736698608964115962473280950476975\n",
       "──────────────────────────────────────────────────────────────────────────────\n",
       "604478123116535764041599129161119193392063881476851549285632713199995787254830\n",
       "                                                                              \n",
       "                                                                              \n",
       "                                                                              \n",
       "                                                                              \n",
       "                                                                              \n",
       "                                                                              \n",
       "                                                                              \n",
       "──────────────────────────────────────────────────────────────────────────────\n",
       "                                                                              \n",
       "                                                                              \n",
       "______________________________________________________________________________\n",
       "______________________________________________________________________________\n",
       " 59935205597779217442124840796930943978724615736698608964115962473280950476975\n",
       "──────────────────────────────────────────────────────────────────────────────\n",
       "604478123116535764041599129161119193392063881476851549285632713199995787254830\n",
       "                                                                              \n",
       "                                                                              \n",
       "                                                                              \n",
       "                                                                              \n",
       "                                                                              \n",
       "                                                                              \n",
       "                                                                              \n",
       "──────────────────────────────────────────────────────────────────────────────\n",
       "                                                                              \n",
       "\n",
       "                                                                              \n",
       "                                                                              \n",
       "                                                                              \n",
       "                                                                              \n",
       "______________________________________________________________________________\n",
       "                                                                              \n",
       "                                                           7948058775261046612\n",
       "──────────────────────────────────────────────────────────────────────────────\n",
       "______________________________________________________________________________\n",
       "4212484079693094397872461573669860896411596247328095047697509405371166531257  \n",
       "───────────────────────────────────────────────────────────────────────────── \n",
       "41599129161119193392063881476851549285632713199995787254830928163748521705472 \n",
       "──────────────────────────────────────────────────────────────────────────────\n",
       "                                                                              \n",
       "                                                                              \n",
       "______________________________________________________________________________\n",
       "______________________________________________________________________________\n",
       "09405371166531257    √19791380644990985565226833985716899278524679894558908165\n",
       "────────────────── + ─────────────────────────────────────────────────────────\n",
       "928163748521705472                                                   400497569\n",
       "                                                                              \n",
       "                                                                              \n",
       "                                                                              \n",
       "                                                                              \n",
       "                                                                              \n",
       "                                                                              \n",
       "                                                                              \n",
       "──────────────────────────────────────────────────────────────────────────────\n",
       "                                                                              \n",
       "                                                                              \n",
       "______________________________________________________________________________\n",
       "______________________________________________________________________________\n",
       "09405371166531257    √19791380644990985565226833985716899278524679894558908165\n",
       "────────────────── + ─────────────────────────────────────────────────────────\n",
       "928163748521705472                                                   400497569\n",
       "                                                                              \n",
       "                                                                              \n",
       "                                                                              \n",
       "                                                                              \n",
       "                                                                              \n",
       "                                                                              \n",
       "                                                                              \n",
       "──────────────────────────────────────────────────────────────────────────────\n",
       "                                                                              \n",
       "                                                                              \n",
       "______________________________________________________________________________\n",
       "______________________________________________________________________________\n",
       "09405371166531257    √19791380644990985565226833985716899278524679894558908165\n",
       "────────────────── + ─────────────────────────────────────────────────────────\n",
       "928163748521705472                                                   400497569\n",
       "                                                                              \n",
       "                                                                              \n",
       "                                                                              \n",
       "                                                                              \n",
       "                                                                              \n",
       "                                                                              \n",
       "                                                                              \n",
       "──────────────────────────────────────────────────────────────────────────────\n",
       "                                                                              \n",
       "\n",
       "                                                                              \n",
       "                                                                              \n",
       "                                                                              \n",
       "                                                                              \n",
       "______________________________________________________________________________\n",
       "                                                                              \n",
       "60394241487464884218882282846657498368026855                                  \n",
       "──────────────────────────────────────────────────────────────────────────────\n",
       "______________________________________________________________________________\n",
       "  √197913806449909855652268339857168992785246798945589081659531330168311028440\n",
       "+ ────────────────────────────────────────────────────────────────────────────\n",
       "                                                  4004975692351706404490665699\n",
       "──────────────────────────────────────────────────────────────────────────────\n",
       "                                                                              \n",
       "                                                                              \n",
       "______________________________________________________________________________\n",
       "______________________________________________________________________________\n",
       "953133016831102844059492424408171369499638045199552087209941539961073119574108\n",
       "──────────────────────────────────────────────────────────────────────────────\n",
       "235170640449066569906791021488007097941872394365070301466666198583870103129305\n",
       "                                                                              \n",
       "                                                                              \n",
       "                                                                              \n",
       "                                                                              \n",
       "                                                                              \n",
       "                                                                              \n",
       "                                                                              \n",
       "──────────────────────────────────────────────────────────────────────────────\n",
       "                                                                              \n",
       "                                                                              \n",
       "______________________________________________________________________________\n",
       "______________________________________________________________________________\n",
       "953133016831102844059492424408171369499638045199552087209941539961073119574108\n",
       "──────────────────────────────────────────────────────────────────────────────\n",
       "235170640449066569906791021488007097941872394365070301466666198583870103129305\n",
       "                                                                              \n",
       "                                                                              \n",
       "                                                                              \n",
       "                                                                              \n",
       "                                                                              \n",
       "                                                                              \n",
       "                                                                              \n",
       "──────────────────────────────────────────────────────────────────────────────\n",
       "                                                                              \n",
       "                                                                              \n",
       "______________________________________________________________________________\n",
       "______________________________________________________________________________\n",
       "953133016831102844059492424408171369499638045199552087209941539961073119574108\n",
       "──────────────────────────────────────────────────────────────────────────────\n",
       "235170640449066569906791021488007097941872394365070301466666198583870103129305\n",
       "                                                                              \n",
       "                                                                              \n",
       "                                                                              \n",
       "                                                                              \n",
       "                                                                              \n",
       "                                                                              \n",
       "                                                                              \n",
       "──────────────────────────────────────────────────────────────────────────────\n",
       "                                                                              \n",
       "\n",
       "                                                                              \n",
       "                                                                              \n",
       "                                                                              \n",
       "                                                                              \n",
       "______________________________________________________________________________\n",
       "                                                                              \n",
       "                                                                              \n",
       "──────────────────────────────────────────────────────────────────────────────\n",
       "______________________________________________________________________________\n",
       "594924244081713694996380451995520872099415399610731195741083899363353318957072\n",
       "──────────────────────────────────────────────────────────────────────────────\n",
       "06791021488007097941872394365070301466666198583870103129305391300608          \n",
       "──────────────────────────────────────────────────────────────────────────────\n",
       "                                                                 2            \n",
       "                                                                              \n",
       "______________________________________________________________________________\n",
       "__________________________________________________________                    \n",
       "3899363353318957072338920029181860789660691409140262271⋅ⅈ                     \n",
       "─────────────────────────────────────────────────────────  - ─────────────────\n",
       "391300608                                                                     \n",
       "                                                                              \n",
       "                                                                              \n",
       "                                                             57089907708238395\n",
       "                                                                              \n",
       "                                                                              \n",
       "                                                                              \n",
       "                                                                              \n",
       "──────────────────────────────────────────────────────────────────────────────\n",
       "                                                                              \n",
       "                                                                              \n",
       "______________________________________________________________________________\n",
       "__________________________________________________________                    \n",
       "3899363353318957072338920029181860789660691409140262271⋅ⅈ                     \n",
       "─────────────────────────────────────────────────────────  + ─────────────────\n",
       "391300608                                                                     \n",
       "                                                                              \n",
       "                                                                              \n",
       "                                                             57089907708238395\n",
       "                                                                              \n",
       "                                                                              \n",
       "                                                                              \n",
       "                                                                              \n",
       "──────────────────────────────────────────────────────────────────────────────\n",
       "                                                                              \n",
       "                                                                              \n",
       "______________________________________________________________________________\n",
       "__________________________________________________________                    \n",
       "3899363353318957072338920029181860789660691409140262271⋅ⅈ                     \n",
       "─────────────────────────────────────────────────────────  + ─────────────────\n",
       "391300608                                                                     \n",
       "                                                                              \n",
       "                                                                              \n",
       "                                                             57089907708238395\n",
       "                                                                              \n",
       "                                                                              \n",
       "                                                                              \n",
       "                                                                              \n",
       "──────────────────────────────────────────────────────────────────────────────\n",
       "                                                                              \n",
       "\n",
       "                                                                              \n",
       "                                                                              \n",
       "                                                                              \n",
       "                                                                              \n",
       "______________________________________________________________________________\n",
       "                                                ______________________________\n",
       "                                               ╱     5993520559777921744212484\n",
       "─────────────────────────────────────── + 2⋅3 ╱  - ───────────────────────────\n",
       "_______________________________________     ╲╱     360447812311653576404159912\n",
       "338920029181860789660691409140262271⋅ⅈ                                        \n",
       "──────────────────────────────────────                                        \n",
       "                                                                              \n",
       "──────────────────────────────────────────────────────────────────────────────\n",
       "                                                                              \n",
       "                                                                              \n",
       "______________________________________________________________________________\n",
       "                                                                              \n",
       "                                                                              \n",
       "──────────────────────────────────────────────────────────────────────────────\n",
       "                                      ________________________________________\n",
       "                                     ╱                                        \n",
       "                                    ╱  94955135280863284252235248776079       \n",
       "24233143877797980545530986496⋅     ╱   ──────────────────────────────── + ────\n",
       "                                  ╱    60847228810955011271841753858048       \n",
       "                                 ╱                                            \n",
       "                                ╱                                         3702\n",
       "                              ╲╱                                              \n",
       "──────────────────────────────────────────────────────────────────────────────\n",
       "                                                                              \n",
       "                                                                              \n",
       "______________________________________________________________________________\n",
       "                                                                              \n",
       "                                                                              \n",
       "──────────────────────────────────────────────────────────────────────────────\n",
       "                                      ________________________________________\n",
       "                                     ╱                                        \n",
       "                                    ╱  94955135280863284252235248776079       \n",
       "24233143877797980545530986496⋅     ╱   ──────────────────────────────── + ────\n",
       "                                  ╱    60847228810955011271841753858048       \n",
       "                                 ╱                                            \n",
       "                                ╱                                         3702\n",
       "                              ╲╱                                              \n",
       "──────────────────────────────────────────────────────────────────────────────\n",
       "                                                                              \n",
       "                                                                              \n",
       "______________________________________________________________________________\n",
       "                                                                              \n",
       "                                                                              \n",
       "──────────────────────────────────────────────────────────────────────────────\n",
       "                                      ________________________________________\n",
       "                                     ╱                                        \n",
       "                                    ╱  94955135280863284252235248776079       \n",
       "24233143877797980545530986496⋅     ╱   ──────────────────────────────── + ────\n",
       "                                  ╱    60847228810955011271841753858048       \n",
       "                                 ╱                                            \n",
       "                                ╱                                         3702\n",
       "                              ╲╱                                              \n",
       "──────────────────────────────────────────────────────────────────────────────\n",
       "                                                                              \n",
       "\n",
       "                                                                              \n",
       "                                                                              \n",
       "                                                                              \n",
       "                                                                              \n",
       "______________________________________________________________________________\n",
       "______________________________________________________________________________\n",
       "079693094397872461573669860896411596247328095047697509405371166531257    √1979\n",
       "────────────────────────────────────────────────────────────────────── + ─────\n",
       "9161119193392063881476851549285632713199995787254830928163748521705472        \n",
       "                                                                              \n",
       "                                                                              \n",
       "                                                                              \n",
       "──────────────────────────────────────────────────────────────────────────────\n",
       "                                                                              \n",
       "                                                                              \n",
       "______________________________________________________________________________\n",
       "                                                                              \n",
       "                                                                              \n",
       "──────────────────────────────────────────────────────────────────────────────\n",
       "______________________________________________________________________________\n",
       "                                                                              \n",
       "                                                                              \n",
       "──────────────────────────────────────────────────────────────────────────────\n",
       "                                                                 _____________\n",
       "                                                                ╱     59935205\n",
       "385253972713594848680660754038636211155697675554692534370304⋅3 ╱  - ──────────\n",
       "                                                             ╲╱     3604478123\n",
       "──────────────────────────────────────────────────────────────────────────────\n",
       "                                                                              \n",
       "                                                                              \n",
       "______________________________________________________________________________\n",
       "                                                                              \n",
       "                                                                              \n",
       "──────────────────────────────────────────────────────────────────────────────\n",
       "______________________________________________________________________________\n",
       "                                                                              \n",
       "                                                                              \n",
       "──────────────────────────────────────────────────────────────────────────────\n",
       "                                                                 _____________\n",
       "                                                                ╱     59935205\n",
       "385253972713594848680660754038636211155697675554692534370304⋅3 ╱  - ──────────\n",
       "                                                             ╲╱     3604478123\n",
       "──────────────────────────────────────────────────────────────────────────────\n",
       "                                                                              \n",
       "                                                                              \n",
       "______________________________________________________________________________\n",
       "                                                                              \n",
       "                                                                              \n",
       "──────────────────────────────────────────────────────────────────────────────\n",
       "______________________________________________________________________________\n",
       "                                                                              \n",
       "                                                                              \n",
       "──────────────────────────────────────────────────────────────────────────────\n",
       "                                                                 _____________\n",
       "                                                                ╱     59935205\n",
       "385253972713594848680660754038636211155697675554692534370304⋅3 ╱  - ──────────\n",
       "                                                             ╲╱     3604478123\n",
       "──────────────────────────────────────────────────────────────────────────────\n",
       "                                                                              \n",
       "\n",
       "                                                                              \n",
       "                                                                              \n",
       "                                                                              \n",
       "                                                                              \n",
       "______________________________________________________________________________\n",
       "______________________________________________________________________________\n",
       "138064499098556522683398571689927852467989455890816595313301683110284405949242\n",
       "──────────────────────────────────────────────────────────────────────────────\n",
       "                                           40049756923517064044906656990679102\n",
       "                                                                              \n",
       "                                                                              \n",
       "                                                                              \n",
       "──────────────────────────────────────────────────────────────────────────────\n",
       "                                                                              \n",
       "                                                                              \n",
       "______________________________________________________________________________\n",
       "                                                                              \n",
       "                                                                              \n",
       "──────────────────────────────────────────────────────────────────────────────\n",
       "______________________________________________________________________________\n",
       "                                                                              \n",
       "                                                                     794805877\n",
       "──────────────────────────────────────────────────────────────────────────────\n",
       "______________________________________________________________________________\n",
       "597779217442124840796930943978724615736698608964115962473280950476975094053711\n",
       "──────────────────────────────────────────────────────────────────────────────\n",
       "116535764041599129161119193392063881476851549285632713199995787254830928163748\n",
       "──────────────────────────────────────────────────────────────────────────────\n",
       "                                                                              \n",
       "                                                                              \n",
       "______________________________________________________________________________\n",
       "                                                                              \n",
       "                                                                              \n",
       "──────────────────────────────────────────────────────────────────────────────\n",
       "______________________________________________________________________________\n",
       "                                                                              \n",
       "                                                                     794805877\n",
       "──────────────────────────────────────────────────────────────────────────────\n",
       "______________________________________________________________________________\n",
       "597779217442124840796930943978724615736698608964115962473280950476975094053711\n",
       "──────────────────────────────────────────────────────────────────────────────\n",
       "116535764041599129161119193392063881476851549285632713199995787254830928163748\n",
       "──────────────────────────────────────────────────────────────────────────────\n",
       "                                                                              \n",
       "                                                                              \n",
       "______________________________________________________________________________\n",
       "                                                                              \n",
       "                                                                              \n",
       "──────────────────────────────────────────────────────────────────────────────\n",
       "______________________________________________________________________________\n",
       "                                                                              \n",
       "                                                                     794805877\n",
       "──────────────────────────────────────────────────────────────────────────────\n",
       "______________________________________________________________________________\n",
       "597779217442124840796930943978724615736698608964115962473280950476975094053711\n",
       "──────────────────────────────────────────────────────────────────────────────\n",
       "116535764041599129161119193392063881476851549285632713199995787254830928163748\n",
       "──────────────────────────────────────────────────────────────────────────────\n",
       "                                                                              \n",
       "\n",
       "                                                                              \n",
       "                                                                              \n",
       "                                                                              \n",
       "                                                                              \n",
       "______________________________________________________________________________\n",
       "______________________________________________________________________________\n",
       "440817136949963804519955208720994153996107311957410838993633533189570723389200\n",
       "──────────────────────────────────────────────────────────────────────────────\n",
       "1488007097941872394365070301466666198583870103129305391300608                 \n",
       "                                                                              \n",
       "                                                                              \n",
       "                                                                              \n",
       "──────────────────────────────────────────────────────────────────────────────\n",
       "                                                                              \n",
       "                                                                              \n",
       "______________________________________________________________________________\n",
       "                                                                              \n",
       "                                                                              \n",
       "──────────────────────────────────────────────────────────────────────────────\n",
       "______________________________________________________________________________\n",
       "                                                                              \n",
       "526104661260394241487464884218882282846657498368026855                        \n",
       "──────────────────────────────────────────────────────────────────────────────\n",
       "______________________________________________________________________________\n",
       "66531257    √19791380644990985565226833985716899278524679894558908165953133016\n",
       "───────── + ──────────────────────────────────────────────────────────────────\n",
       "521705472                                                   400497569235170640\n",
       "──────────────────────────────────────────────────────────────────────────────\n",
       "                                                                              \n",
       "                                                                              \n",
       "______________________________________________________________________________\n",
       "                                                                              \n",
       "                                                                              \n",
       "──────────────────────────────────────────────────────────────────────────────\n",
       "______________________________________________________________________________\n",
       "                                                                              \n",
       "526104661260394241487464884218882282846657498368026855                        \n",
       "──────────────────────────────────────────────────────────────────────────────\n",
       "______________________________________________________________________________\n",
       "66531257    √19791380644990985565226833985716899278524679894558908165953133016\n",
       "───────── + ──────────────────────────────────────────────────────────────────\n",
       "521705472                                                   400497569235170640\n",
       "──────────────────────────────────────────────────────────────────────────────\n",
       "                                                                              \n",
       "                                                                              \n",
       "______________________________________________________________________________\n",
       "                                                                              \n",
       "                                                                              \n",
       "──────────────────────────────────────────────────────────────────────────────\n",
       "______________________________________________________________________________\n",
       "                                                                              \n",
       "526104661260394241487464884218882282846657498368026855                        \n",
       "──────────────────────────────────────────────────────────────────────────────\n",
       "______________________________________________________________________________\n",
       "66531257    √19791380644990985565226833985716899278524679894558908165953133016\n",
       "───────── + ──────────────────────────────────────────────────────────────────\n",
       "521705472                                                   400497569235170640\n",
       "──────────────────────────────────────────────────────────────────────────────\n",
       "                                                                              \n",
       "\n",
       "                                                ______________________________\n",
       "                                               ╱                              \n",
       "                                              ╱  94955135280863284252235248776\n",
       "                                             ╱   ─────────────────────────────\n",
       "_________________________________           ╱    30423614405477505635920876929\n",
       "________________________________           ╱                                  \n",
       "29181860789660691409140262271⋅ⅈ           ╱                                   \n",
       "───────────────────────────────          ╱                                    \n",
       "                                        ╱                                     \n",
       "                                       ╱                                      \n",
       "                                      ╱                                       \n",
       "                                    ╲╱                                        \n",
       "───────────────────────────────── - ──────────────────────────────────────────\n",
       "                                                                              \n",
       "                                                                              \n",
       "______________________________________________________________________________\n",
       "                                                                              \n",
       "                            15163879914240369353238771737539520063027646573   \n",
       "──────────────────────────────────────────────────────────────────────────────\n",
       "______________________________________________________________________________\n",
       "                                                                              \n",
       "                                                                              \n",
       "──────────────────────────────────────────────────────────────────────────────\n",
       "______________________________________________________________________________\n",
       "831102844059492424408171369499638045199552087209941539961073119574108389936335\n",
       "──────────────────────────────────────────────────────────────────────────────\n",
       "449066569906791021488007097941872394365070301466666198583870103129305391300608\n",
       "──────────────────────────────────────────────────────────────────────────────\n",
       "                                                           2                  \n",
       "                                                                              \n",
       "______________________________________________________________________________\n",
       "                                                                              \n",
       "                            15163879914240369353238771737539520063027646573   \n",
       "──────────────────────────────────────────────────────────────────────────────\n",
       "______________________________________________________________________________\n",
       "                                                                              \n",
       "                                                                              \n",
       "──────────────────────────────────────────────────────────────────────────────\n",
       "______________________________________________________________________________\n",
       "831102844059492424408171369499638045199552087209941539961073119574108389936335\n",
       "──────────────────────────────────────────────────────────────────────────────\n",
       "449066569906791021488007097941872394365070301466666198583870103129305391300608\n",
       "──────────────────────────────────────────────────────────────────────────────\n",
       "                                                           2                  \n",
       "                                                                              \n",
       "______________________________________________________________________________\n",
       "                                                                              \n",
       "                            15163879914240369353238771737539520063027646573   \n",
       "──────────────────────────────────────────────────────────────────────────────\n",
       "______________________________________________________________________________\n",
       "                                                                              \n",
       "                                                                              \n",
       "──────────────────────────────────────────────────────────────────────────────\n",
       "______________________________________________________________________________\n",
       "831102844059492424408171369499638045199552087209941539961073119574108389936335\n",
       "──────────────────────────────────────────────────────────────────────────────\n",
       "449066569906791021488007097941872394365070301466666198583870103129305391300608\n",
       "──────────────────────────────────────────────────────────────────────────────\n",
       "                                                           2                  \n",
       "\n",
       "______________________________________________________________________________\n",
       "            __________________________________________________________________\n",
       "079        ╱     5993520559777921744212484079693094397872461573669860896411596\n",
       "─── - 2⋅3 ╱  - ───────────────────────────────────────────────────────────────\n",
       "024     ╲╱     360447812311653576404159912916111919339206388147685154928563271\n",
       "                                                                              \n",
       "                                                                              \n",
       "                                                                              \n",
       "                                                                              \n",
       "                                                                              \n",
       "                                                                              \n",
       "                                                                              \n",
       "──────────────────────────────────────────────────────────────────────────────\n",
       "                                                                              \n",
       "                                                                              \n",
       "______________________________________________________________________________\n",
       "                                                                              \n",
       "                                                                              \n",
       "──────────────────────────────────────────────────────────────────────────────\n",
       "______________________________________________________________________________\n",
       "                                                          ____________________\n",
       "                                                         ╱     599352055977792\n",
       "───────────────────────────────────────────────── + 2⋅3 ╱  - ─────────────────\n",
       "_________________________________________________     ╲╱     36044781231165357\n",
       "3318957072338920029181860789660691409140262271⋅ⅈ                              \n",
       "────────────────────────────────────────────────                              \n",
       "                                                                              \n",
       "──────────────────────────────────────────────────────────────────────────────\n",
       "                                                                              \n",
       "                                                                              \n",
       "______________________________________________________________________________\n",
       "                                                                              \n",
       "                                                                              \n",
       "──────────────────────────────────────────────────────────────────────────────\n",
       "______________________________________________________________________________\n",
       "                                                          ____________________\n",
       "                                                         ╱     599352055977792\n",
       "───────────────────────────────────────────────── + 2⋅3 ╱  - ─────────────────\n",
       "_________________________________________________     ╲╱     36044781231165357\n",
       "3318957072338920029181860789660691409140262271⋅ⅈ                              \n",
       "────────────────────────────────────────────────                              \n",
       "                                                                              \n",
       "──────────────────────────────────────────────────────────────────────────────\n",
       "                                                                              \n",
       "                                                                              \n",
       "______________________________________________________________________________\n",
       "                                                                              \n",
       "                                                                              \n",
       "──────────────────────────────────────────────────────────────────────────────\n",
       "______________________________________________________________________________\n",
       "                                                          ____________________\n",
       "                                                         ╱     599352055977792\n",
       "───────────────────────────────────────────────── + 2⋅3 ╱  - ─────────────────\n",
       "_________________________________________________     ╲╱     36044781231165357\n",
       "3318957072338920029181860789660691409140262271⋅ⅈ                              \n",
       "────────────────────────────────────────────────                              \n",
       "                                                                              \n",
       "──────────────────────────────────────────────────────────────────────────────\n",
       "                                                                              \n",
       "\n",
       "______________________________________________________________________________\n",
       "______________________________________________________________________________\n",
       "247328095047697509405371166531257    √1979138064499098556522683398571689927852\n",
       "────────────────────────────────── + ─────────────────────────────────────────\n",
       "3199995787254830928163748521705472                                            \n",
       "                                                                              \n",
       "                                                                              \n",
       "                                                                              \n",
       "                                                                              \n",
       "                                                                              \n",
       "                                                                              \n",
       "                                                                              \n",
       "──────────────────────────────────────────────────────────────────────────────\n",
       "                                                                              \n",
       "                                                                              \n",
       "______________________________________________________________________________\n",
       "                                                                              \n",
       "                                                                              \n",
       "──────────────────────────────────────────────────────────────────────────────\n",
       "______________________________________________________________________________\n",
       "______________________________________________________________________________\n",
       "174421248407969309439787246157366986089641159624732809504769750940537116653125\n",
       "──────────────────────────────────────────────────────────────────────────────\n",
       "640415991291611191933920638814768515492856327131999957872548309281637485217054\n",
       "                                                                              \n",
       "                                                                              \n",
       "                                                                              \n",
       "──────────────────────────────────────────────────────────────────────────────\n",
       "                                                                              \n",
       "                                                                              \n",
       "______________________________________________________________________________\n",
       "                                                                              \n",
       "                                                                              \n",
       "──────────────────────────────────────────────────────────────────────────────\n",
       "______________________________________________________________________________\n",
       "______________________________________________________________________________\n",
       "174421248407969309439787246157366986089641159624732809504769750940537116653125\n",
       "──────────────────────────────────────────────────────────────────────────────\n",
       "640415991291611191933920638814768515492856327131999957872548309281637485217054\n",
       "                                                                              \n",
       "                                                                              \n",
       "                                                                              \n",
       "──────────────────────────────────────────────────────────────────────────────\n",
       "                                                                              \n",
       "                                                                              \n",
       "______________________________________________________________________________\n",
       "                                                                              \n",
       "                                                                              \n",
       "──────────────────────────────────────────────────────────────────────────────\n",
       "______________________________________________________________________________\n",
       "______________________________________________________________________________\n",
       "174421248407969309439787246157366986089641159624732809504769750940537116653125\n",
       "──────────────────────────────────────────────────────────────────────────────\n",
       "640415991291611191933920638814768515492856327131999957872548309281637485217054\n",
       "                                                                              \n",
       "                                                                              \n",
       "                                                                              \n",
       "──────────────────────────────────────────────────────────────────────────────\n",
       "                                                                              \n",
       "\n",
       "______________________________________________________________________________\n",
       "______________________________________________________________________________\n",
       "467989455890816595313301683110284405949242440817136949963804519955208720994153\n",
       "──────────────────────────────────────────────────────────────────────────────\n",
       "       40049756923517064044906656990679102148800709794187239436507030146666619\n",
       "                                                                              \n",
       "                                                                              \n",
       "                                                                              \n",
       "                                                                              \n",
       "                                                                              \n",
       "                                                                              \n",
       "                                                                              \n",
       "──────────────────────────────────────────────────────────────────────────────\n",
       "                                                                              \n",
       "                                                                              \n",
       "______________________________________________________________________________\n",
       "                                                                              \n",
       "                                                                              \n",
       "──────────────────────────────────────────────────────────────────────────────\n",
       "______________________________________________________________________________\n",
       "______________________________________________________________________________\n",
       "7    √197913806449909855652268339857168992785246798945589081659531330168311028\n",
       "── + ─────────────────────────────────────────────────────────────────────────\n",
       "72                                                   4004975692351706404490665\n",
       "                                                                              \n",
       "                                                                              \n",
       "                                                                              \n",
       "──────────────────────────────────────────────────────────────────────────────\n",
       "                                                                              \n",
       "                                                                              \n",
       "______________________________________________________________________________\n",
       "                                                                              \n",
       "                                                                              \n",
       "──────────────────────────────────────────────────────────────────────────────\n",
       "______________________________________________________________________________\n",
       "______________________________________________________________________________\n",
       "7    √197913806449909855652268339857168992785246798945589081659531330168311028\n",
       "── + ─────────────────────────────────────────────────────────────────────────\n",
       "72                                                   4004975692351706404490665\n",
       "                                                                              \n",
       "                                                                              \n",
       "                                                                              \n",
       "──────────────────────────────────────────────────────────────────────────────\n",
       "                                                                              \n",
       "                                                                              \n",
       "______________________________________________________________________________\n",
       "                                                                              \n",
       "                                                                              \n",
       "──────────────────────────────────────────────────────────────────────────────\n",
       "______________________________________________________________________________\n",
       "______________________________________________________________________________\n",
       "7    √197913806449909855652268339857168992785246798945589081659531330168311028\n",
       "── + ─────────────────────────────────────────────────────────────────────────\n",
       "72                                                   4004975692351706404490665\n",
       "                                                                              \n",
       "                                                                              \n",
       "                                                                              \n",
       "──────────────────────────────────────────────────────────────────────────────\n",
       "                                                                              \n",
       "\n",
       "______________________________________________________________________________\n",
       "__________________________________________________________________________    \n",
       "99610731195741083899363353318957072338920029181860789660691409140262271⋅ⅈ     \n",
       "─────────────────────────────────────────────────────────────────────────  - ─\n",
       "8583870103129305391300608                                                     \n",
       "                                                                              \n",
       "                                                                              \n",
       "                                                                             5\n",
       "                                                                              \n",
       "                                                                              \n",
       "                                                                              \n",
       "                                                                              \n",
       "──────────────────────────────────────────────────────────────────────────────\n",
       "                                                                              \n",
       "                                                                              \n",
       "______________________________________________________________________________\n",
       "                                                                              \n",
       "                                                                              \n",
       "──────────────────────────────────────────────────────────────────────────────\n",
       "______________________________________________________________________________\n",
       "______________________________________________________________________________\n",
       "440594924244081713694996380451995520872099415399610731195741083899363353318957\n",
       "──────────────────────────────────────────────────────────────────────────────\n",
       "69906791021488007097941872394365070301466666198583870103129305391300608       \n",
       "                                                                              \n",
       "                                                                              \n",
       "                                                                              \n",
       "──────────────────────────────────────────────────────────────────────────────\n",
       "                                                                              \n",
       "                                                                              \n",
       "______________________________________________________________________________\n",
       "                                                                              \n",
       "                                                                              \n",
       "──────────────────────────────────────────────────────────────────────────────\n",
       "______________________________________________________________________________\n",
       "______________________________________________________________________________\n",
       "440594924244081713694996380451995520872099415399610731195741083899363353318957\n",
       "──────────────────────────────────────────────────────────────────────────────\n",
       "69906791021488007097941872394365070301466666198583870103129305391300608       \n",
       "                                                                              \n",
       "                                                                              \n",
       "                                                                              \n",
       "──────────────────────────────────────────────────────────────────────────────\n",
       "                                                                              \n",
       "                                                                              \n",
       "______________________________________________________________________________\n",
       "                                                                              \n",
       "                                                                              \n",
       "──────────────────────────────────────────────────────────────────────────────\n",
       "______________________________________________________________________________\n",
       "______________________________________________________________________________\n",
       "440594924244081713694996380451995520872099415399610731195741083899363353318957\n",
       "──────────────────────────────────────────────────────────────────────────────\n",
       "69906791021488007097941872394365070301466666198583870103129305391300608       \n",
       "                                                                              \n",
       "                                                                              \n",
       "                                                                              \n",
       "──────────────────────────────────────────────────────────────────────────────\n",
       "                                                                              \n",
       "\n",
       "______________________________________________________________________________\n",
       "                                                                              \n",
       "                                                                              \n",
       "──────────────────────────────────────────────────────────────────────────────\n",
       "                                                      ________________________\n",
       "                                                     ╱                        \n",
       "                                                    ╱  94955135280863284252235\n",
       "708990770823839524233143877797980545530986496⋅     ╱   ───────────────────────\n",
       "                                                  ╱    60847228810955011271841\n",
       "                                                 ╱                            \n",
       "                                                ╱                             \n",
       "                                              ╲╱                              \n",
       "──────────────────────────────────────────────────────────────────────────────\n",
       "                                                                              \n",
       "                                                                              \n",
       "______________________________________________________________________________\n",
       "                                                                              \n",
       "                                                                              \n",
       "─────────────────────────────────────────── - ────────────────────────────────\n",
       "___________________________________________                                   \n",
       "__________________________________________                                    \n",
       "072338920029181860789660691409140262271⋅ⅈ     37023852539727135948486806607540\n",
       "─────────────────────────────────────────                                     \n",
       "                                                                              \n",
       "                                                                              \n",
       "                                                                              \n",
       "                                                                              \n",
       "──────────────────────────────────────────────────────────────────────────────\n",
       "                                                                              \n",
       "                                                                              \n",
       "______________________________________________________________________________\n",
       "                                                                              \n",
       "                                                                              \n",
       "─────────────────────────────────────────── - ────────────────────────────────\n",
       "___________________________________________                                   \n",
       "__________________________________________                                    \n",
       "072338920029181860789660691409140262271⋅ⅈ     37023852539727135948486806607540\n",
       "─────────────────────────────────────────                                     \n",
       "                                                                              \n",
       "                                                                              \n",
       "                                                                              \n",
       "                                                                              \n",
       "──────────────────────────────────────────────────────────────────────────────\n",
       "                                                                              \n",
       "                                                                              \n",
       "______________________________________________________________________________\n",
       "                                                                              \n",
       "                                                                              \n",
       "─────────────────────────────────────────── - ────────────────────────────────\n",
       "___________________________________________                                   \n",
       "__________________________________________                                    \n",
       "072338920029181860789660691409140262271⋅ⅈ     37023852539727135948486806607540\n",
       "─────────────────────────────────────────                                     \n",
       "                                                                              \n",
       "                                                                              \n",
       "                                                                              \n",
       "                                                                              \n",
       "──────────────────────────────────────────────────────────────────────────────\n",
       "                                                                              \n",
       "\n",
       "______________________________________________________________________________\n",
       "                                                                              \n",
       "                                                                              \n",
       "──────────────────────────────────────────────────────────────────────────────\n",
       "______________________________________________________________________________\n",
       "                                                                              \n",
       "248776079                                                                     \n",
       "───────── + ──────────────────────────────────────────────────────────────────\n",
       "753858048                                                                     \n",
       "                                                                              \n",
       "            3702385253972713594848680660754038636211155697675554692534370304⋅3\n",
       "                                                                             ╲\n",
       "──────────────────────────────────────────────────────────────────────────────\n",
       "                                                                              \n",
       "                                                                              \n",
       "______________________________________________________________________________\n",
       "                                                                              \n",
       "                                                                              \n",
       "──────────────────────────────────────────────────────────────────────────────\n",
       "                                     _________________________________________\n",
       "                                    ╱     599352055977792174421248407969309439\n",
       "38636211155697675554692534370304⋅3 ╱  - ──────────────────────────────────────\n",
       "                                 ╲╱     36044781231165357640415991291611191933\n",
       "                                                                              \n",
       "                                                                              \n",
       "                                                                              \n",
       "                                                                              \n",
       "──────────────────────────────────────────────────────────────────────────────\n",
       "                                                                              \n",
       "                                                                              \n",
       "______________________________________________________________________________\n",
       "                                                                              \n",
       "                                                                              \n",
       "──────────────────────────────────────────────────────────────────────────────\n",
       "                                     _________________________________________\n",
       "                                    ╱     599352055977792174421248407969309439\n",
       "38636211155697675554692534370304⋅3 ╱  - ──────────────────────────────────────\n",
       "                                 ╲╱     36044781231165357640415991291611191933\n",
       "                                                                              \n",
       "                                                                              \n",
       "                                                                              \n",
       "                                                                              \n",
       "──────────────────────────────────────────────────────────────────────────────\n",
       "                                                                              \n",
       "                                                                              \n",
       "______________________________________________________________________________\n",
       "                                                                              \n",
       "                                                                              \n",
       "──────────────────────────────────────────────────────────────────────────────\n",
       "                                     _________________________________________\n",
       "                                    ╱     599352055977792174421248407969309439\n",
       "38636211155697675554692534370304⋅3 ╱  - ──────────────────────────────────────\n",
       "                                 ╲╱     36044781231165357640415991291611191933\n",
       "                                                                              \n",
       "                                                                              \n",
       "                                                                              \n",
       "                                                                              \n",
       "──────────────────────────────────────────────────────────────────────────────\n",
       "                                                                              \n",
       "\n",
       "______________________________________________________________________________\n",
       "                                                                              \n",
       "                                                                              \n",
       "──────────────────────────────────────────────────────────────────────────────\n",
       "______________________________________________________________________________\n",
       "                                                                              \n",
       "                                                                              \n",
       "──────────────────────────────────────────────────────────────────────────────\n",
       "   ___________________________________________________________________________\n",
       "  ╱     5993520559777921744212484079693094397872461573669860896411596247328095\n",
       " ╱  - ────────────────────────────────────────────────────────────────────────\n",
       "╱     360447812311653576404159912916111919339206388147685154928563271319999578\n",
       "──────────────────────────────────────────────────────────────────────────────\n",
       "                                                                              \n",
       "                                                                              \n",
       "______________________________________________________________________________\n",
       "                                                                              \n",
       "                                         7948058775261046612603942414874648842\n",
       "──────────────────────────────────────────────────────────────────────────────\n",
       "______________________________________________________________________________\n",
       "7872461573669860896411596247328095047697509405371166531257    √197913806449909\n",
       "─────────────────────────────────────────────────────────── + ────────────────\n",
       "92063881476851549285632713199995787254830928163748521705472                   \n",
       "                                                                              \n",
       "                                                                              \n",
       "                                                                              \n",
       "                                                                              \n",
       "──────────────────────────────────────────────────────────────────────────────\n",
       "                                                                              \n",
       "                                                                              \n",
       "______________________________________________________________________________\n",
       "                                                                              \n",
       "                                         7948058775261046612603942414874648842\n",
       "──────────────────────────────────────────────────────────────────────────────\n",
       "______________________________________________________________________________\n",
       "7872461573669860896411596247328095047697509405371166531257    √197913806449909\n",
       "─────────────────────────────────────────────────────────── + ────────────────\n",
       "92063881476851549285632713199995787254830928163748521705472                   \n",
       "                                                                              \n",
       "                                                                              \n",
       "                                                                              \n",
       "                                                                              \n",
       "──────────────────────────────────────────────────────────────────────────────\n",
       "                                                                              \n",
       "                                                                              \n",
       "______________________________________________________________________________\n",
       "                                                                              \n",
       "                                         7948058775261046612603942414874648842\n",
       "──────────────────────────────────────────────────────────────────────────────\n",
       "______________________________________________________________________________\n",
       "7872461573669860896411596247328095047697509405371166531257    √197913806449909\n",
       "─────────────────────────────────────────────────────────── + ────────────────\n",
       "92063881476851549285632713199995787254830928163748521705472                   \n",
       "                                                                              \n",
       "                                                                              \n",
       "                                                                              \n",
       "                                                                              \n",
       "──────────────────────────────────────────────────────────────────────────────\n",
       "                                                                              \n",
       "\n",
       "______________________________________________________________________________\n",
       "                                                                              \n",
       "                                                                              \n",
       "──────────────────────────────────────────────────────────────────────────────\n",
       "______________________________________________________________________________\n",
       "                                                                              \n",
       "       794805877526104661260394241487464884218882282846657498368026855        \n",
       "──────────────────────────────────────────────────────────────────────────────\n",
       "______________________________________________________________________________\n",
       "047697509405371166531257    √1979138064499098556522683398571689927852467989455\n",
       "───────────────────────── + ──────────────────────────────────────────────────\n",
       "7254830928163748521705472                                                   40\n",
       "──────────────────────────────────────────────────────────────────────────────\n",
       "                                                                              \n",
       "                                                                              \n",
       "______________________________________________________________________________\n",
       "                                                                              \n",
       "18882282846657498368026855                                                    \n",
       "──────────────────────────────────────────────────────────────────────────────\n",
       "______________________________________________________________________________\n",
       "855652268339857168992785246798945589081659531330168311028440594924244081713694\n",
       "──────────────────────────────────────────────────────────────────────────────\n",
       "                                4004975692351706404490665699067910214880070979\n",
       "                                                                              \n",
       "                                                                              \n",
       "                                                                              \n",
       "                                                                              \n",
       "──────────────────────────────────────────────────────────────────────────────\n",
       "                                                                              \n",
       "                                                                              \n",
       "______________________________________________________________________________\n",
       "                                                                              \n",
       "18882282846657498368026855                                                    \n",
       "──────────────────────────────────────────────────────────────────────────────\n",
       "______________________________________________________________________________\n",
       "855652268339857168992785246798945589081659531330168311028440594924244081713694\n",
       "──────────────────────────────────────────────────────────────────────────────\n",
       "                                4004975692351706404490665699067910214880070979\n",
       "                                                                              \n",
       "                                                                              \n",
       "                                                                              \n",
       "                                                                              \n",
       "──────────────────────────────────────────────────────────────────────────────\n",
       "                                                                              \n",
       "                                                                              \n",
       "______________________________________________________________________________\n",
       "                                                                              \n",
       "18882282846657498368026855                                                    \n",
       "──────────────────────────────────────────────────────────────────────────────\n",
       "______________________________________________________________________________\n",
       "855652268339857168992785246798945589081659531330168311028440594924244081713694\n",
       "──────────────────────────────────────────────────────────────────────────────\n",
       "                                4004975692351706404490665699067910214880070979\n",
       "                                                                              \n",
       "                                                                              \n",
       "                                                                              \n",
       "                                                                              \n",
       "──────────────────────────────────────────────────────────────────────────────\n",
       "                                                                              \n",
       "\n",
       "______________________________________________________________________________\n",
       "                                                                              \n",
       "                                            1516387991424036935323877173753952\n",
       "──────────────────────────────────────────────────────────────────────────────\n",
       "______________________________________________________________________________\n",
       "                                                                              \n",
       "                                                                              \n",
       "──────────────────────────────────────────────────────────────────────────────\n",
       "______________________________________________________________________________\n",
       "890816595313301683110284405949242440817136949963804519955208720994153996107311\n",
       "──────────────────────────────────────────────────────────────────────────────\n",
       "049756923517064044906656990679102148800709794187239436507030146666619858387010\n",
       "──────────────────────────────────────────────────────────────────────────────\n",
       "                                                                           2  \n",
       "                                                                              \n",
       "______________________________________________________________________________\n",
       "                                                                              \n",
       "                                                                              \n",
       "──────────────────────────────────────────────────────────────────────────────\n",
       "______________________________________________________________________________\n",
       "996380451995520872099415399610731195741083899363353318957072338920029181860789\n",
       "──────────────────────────────────────────────────────────────────────────────\n",
       "41872394365070301466666198583870103129305391300608                            \n",
       "                                                                              \n",
       "                                                                              \n",
       "                                                                              \n",
       "                                                                              \n",
       "──────────────────────────────────────────────────────────────────────────────\n",
       "                                                                              \n",
       "                                                                              \n",
       "______________________________________________________________________________\n",
       "                                                                              \n",
       "                                                                              \n",
       "──────────────────────────────────────────────────────────────────────────────\n",
       "______________________________________________________________________________\n",
       "996380451995520872099415399610731195741083899363353318957072338920029181860789\n",
       "──────────────────────────────────────────────────────────────────────────────\n",
       "41872394365070301466666198583870103129305391300608                            \n",
       "                                                                              \n",
       "                                                                              \n",
       "                                                                              \n",
       "                                                                              \n",
       "──────────────────────────────────────────────────────────────────────────────\n",
       "                                                                              \n",
       "                                                                              \n",
       "______________________________________________________________________________\n",
       "                                                                              \n",
       "                                                                              \n",
       "──────────────────────────────────────────────────────────────────────────────\n",
       "______________________________________________________________________________\n",
       "996380451995520872099415399610731195741083899363353318957072338920029181860789\n",
       "──────────────────────────────────────────────────────────────────────────────\n",
       "41872394365070301466666198583870103129305391300608                            \n",
       "                                                                              \n",
       "                                                                              \n",
       "                                                                              \n",
       "                                                                              \n",
       "──────────────────────────────────────────────────────────────────────────────\n",
       "                                                                              \n",
       "\n",
       "______________________________________________________________________________\n",
       "                                                                              \n",
       "0063027646573                                                                 \n",
       "──────────────────────────────────────────────────────────────────────────────\n",
       "______________________________________________________________________________\n",
       "                                                                          ____\n",
       "                                                                         ╱    \n",
       "───────────────────────────────────────────────────────────────── + 2⋅3 ╱  - ─\n",
       "_________________________________________________________________     ╲╱     3\n",
       "95741083899363353318957072338920029181860789660691409140262271⋅ⅈ              \n",
       "────────────────────────────────────────────────────────────────              \n",
       "3129305391300608                                                              \n",
       "──────────────────────────────────────────────────────────────────────────────\n",
       "                                                                              \n",
       "                                                                              \n",
       "______________________                                                        \n",
       "                                                                              \n",
       "                                                                              \n",
       "─────────────────────                                                         \n",
       "_____________________            _____________________________________________\n",
       "660691409140262271⋅ⅈ            ╱                                             \n",
       "────────────────────           ╱  94955135280863284252235248776079            \n",
       "                              ╱   ──────────────────────────────── + ─────────\n",
       "                             ╱    60847228810955011271841753858048            \n",
       "                            ╱                                                 \n",
       "                           ╱                                         370238525\n",
       "                         ╲╱                                                   \n",
       "────────────────────── - ─────────────────────────────────────────────────────\n",
       "                                                                              \n",
       "                                                                              \n",
       "______________________                                                        \n",
       "                                                                              \n",
       "                                                                              \n",
       "─────────────────────                                                         \n",
       "_____________________            _____________________________________________\n",
       "660691409140262271⋅ⅈ            ╱                                             \n",
       "────────────────────           ╱  94955135280863284252235248776079            \n",
       "                              ╱   ──────────────────────────────── + ─────────\n",
       "                             ╱    60847228810955011271841753858048            \n",
       "                            ╱                                                 \n",
       "                           ╱                                         370238525\n",
       "                         ╲╱                                                   \n",
       "────────────────────── + ─────────────────────────────────────────────────────\n",
       "                                                                              \n",
       "                                                                              \n",
       "______________________                                                        \n",
       "                                                                              \n",
       "                                                                              \n",
       "─────────────────────                                                         \n",
       "_____________________            _____________________________________________\n",
       "660691409140262271⋅ⅈ            ╱                                             \n",
       "────────────────────           ╱  94955135280863284252235248776079            \n",
       "                              ╱   ──────────────────────────────── + ─────────\n",
       "                             ╱    60847228810955011271841753858048            \n",
       "                            ╱                                                 \n",
       "                           ╱                                         370238525\n",
       "                         ╲╱                                                   \n",
       "────────────────────── + ─────────────────────────────────────────────────────\n",
       "                                                                              \n",
       "\n",
       "______________________________________________________________________________\n",
       "                                                                              \n",
       "                                                                              \n",
       "──────────────────────────────────────────────────────────────────────────────\n",
       "______________________________________________________________________________\n",
       "______________________________________________________________________________\n",
       " 59935205597779217442124840796930943978724615736698608964115962473280950476975\n",
       "──────────────────────────────────────────────────────────────────────────────\n",
       "604478123116535764041599129161119193392063881476851549285632713199995787254830\n",
       "                                                                              \n",
       "                                                                              \n",
       "                                                                              \n",
       "──────────────────────────────────────────────────────────────────────────────\n",
       "                                                                              \n",
       "                                                                              \n",
       "                                                                              \n",
       "                                                                              \n",
       "                                                                              \n",
       "                                                                              \n",
       "______________________________________________________________________________\n",
       "                                                                              \n",
       "                                                                              \n",
       "──────────────────────────────────────────────────────────────────────────────\n",
       "                                                            __________________\n",
       "                                                           ╱     5993520559777\n",
       "3972713594848680660754038636211155697675554692534370304⋅3 ╱  - ───────────────\n",
       "                                                        ╲╱     360447812311653\n",
       "──────────────────────────────────────────────────────────────────────────────\n",
       "                                                                              \n",
       "                                                                              \n",
       "                                                                              \n",
       "                                                                              \n",
       "                                                                              \n",
       "                                                                              \n",
       "______________________________________________________________________________\n",
       "                                                                              \n",
       "                                                                              \n",
       "──────────────────────────────────────────────────────────────────────────────\n",
       "                                                            __________________\n",
       "                                                           ╱     5993520559777\n",
       "3972713594848680660754038636211155697675554692534370304⋅3 ╱  - ───────────────\n",
       "                                                        ╲╱     360447812311653\n",
       "──────────────────────────────────────────────────────────────────────────────\n",
       "                                                                              \n",
       "                                                                              \n",
       "                                                                              \n",
       "                                                                              \n",
       "                                                                              \n",
       "                                                                              \n",
       "______________________________________________________________________________\n",
       "                                                                              \n",
       "                                                                              \n",
       "──────────────────────────────────────────────────────────────────────────────\n",
       "                                                            __________________\n",
       "                                                           ╱     5993520559777\n",
       "3972713594848680660754038636211155697675554692534370304⋅3 ╱  - ───────────────\n",
       "                                                        ╲╱     360447812311653\n",
       "──────────────────────────────────────────────────────────────────────────────\n",
       "                                                                              \n",
       "\n",
       "______________________________________________________________________________\n",
       "                                                                              \n",
       "                                                                              \n",
       "──────────────────────────────────────────────────────────────────────────────\n",
       "______________________________________________________________________________\n",
       "______________________________________________________________________________\n",
       "09405371166531257    √19791380644990985565226833985716899278524679894558908165\n",
       "────────────────── + ─────────────────────────────────────────────────────────\n",
       "928163748521705472                                                   400497569\n",
       "                                                                              \n",
       "                                                                              \n",
       "                                                                              \n",
       "──────────────────────────────────────────────────────────────────────────────\n",
       "                                                                              \n",
       "                                                                              \n",
       "                                                                              \n",
       "                                                                              \n",
       "                                                                              \n",
       "                                                                              \n",
       "______________________________________________________________________________\n",
       "                                                                              \n",
       "                                                                79480587752610\n",
       "──────────────────────────────────────────────────────────────────────────────\n",
       "______________________________________________________________________________\n",
       "921744212484079693094397872461573669860896411596247328095047697509405371166531\n",
       "──────────────────────────────────────────────────────────────────────────────\n",
       "576404159912916111919339206388147685154928563271319999578725483092816374852170\n",
       "──────────────────────────────────────────────────────────────────────────────\n",
       "                                                                              \n",
       "                                                                              \n",
       "                                                                              \n",
       "                                                                              \n",
       "                                                                              \n",
       "                                                                              \n",
       "______________________________________________________________________________\n",
       "                                                                              \n",
       "                                                                79480587752610\n",
       "──────────────────────────────────────────────────────────────────────────────\n",
       "______________________________________________________________________________\n",
       "921744212484079693094397872461573669860896411596247328095047697509405371166531\n",
       "──────────────────────────────────────────────────────────────────────────────\n",
       "576404159912916111919339206388147685154928563271319999578725483092816374852170\n",
       "──────────────────────────────────────────────────────────────────────────────\n",
       "                                                                              \n",
       "                                                                              \n",
       "                                                                              \n",
       "                                                                              \n",
       "                                                                              \n",
       "                                                                              \n",
       "______________________________________________________________________________\n",
       "                                                                              \n",
       "                                                                79480587752610\n",
       "──────────────────────────────────────────────────────────────────────────────\n",
       "______________________________________________________________________________\n",
       "921744212484079693094397872461573669860896411596247328095047697509405371166531\n",
       "──────────────────────────────────────────────────────────────────────────────\n",
       "576404159912916111919339206388147685154928563271319999578725483092816374852170\n",
       "──────────────────────────────────────────────────────────────────────────────\n",
       "                                                                              \n",
       "\n",
       "______________________________________________________________________________\n",
       "                                                                              \n",
       "                                                                              \n",
       "──────────────────────────────────────────────────────────────────────────────\n",
       "______________________________________________________________________________\n",
       "______________________________________________________________________________\n",
       "953133016831102844059492424408171369499638045199552087209941539961073119574108\n",
       "──────────────────────────────────────────────────────────────────────────────\n",
       "235170640449066569906791021488007097941872394365070301466666198583870103129305\n",
       "                                                                              \n",
       "                                                                              \n",
       "                                                                              \n",
       "──────────────────────────────────────────────────────────────────────────────\n",
       "                                                                              \n",
       "                                                                              \n",
       "                                                                              \n",
       "                                                                              \n",
       "                                                                              \n",
       "                                                                              \n",
       "______________________________________________________________________________\n",
       "                                                                              \n",
       "4661260394241487464884218882282846657498368026855                             \n",
       "──────────────────────────────────────────────────────────────────────────────\n",
       "______________________________________________________________________________\n",
       "257    √1979138064499098556522683398571689927852467989455890816595313301683110\n",
       "──── + ───────────────────────────────────────────────────────────────────────\n",
       "5472                                                   40049756923517064044906\n",
       "──────────────────────────────────────────────────────────────────────────────\n",
       "                                                                              \n",
       "                                                                              \n",
       "                                                                              \n",
       "                                                                              \n",
       "                                                                              \n",
       "                                                                              \n",
       "______________________________________________________________________________\n",
       "                                                                              \n",
       "4661260394241487464884218882282846657498368026855                             \n",
       "──────────────────────────────────────────────────────────────────────────────\n",
       "______________________________________________________________________________\n",
       "257    √1979138064499098556522683398571689927852467989455890816595313301683110\n",
       "──── + ───────────────────────────────────────────────────────────────────────\n",
       "5472                                                   40049756923517064044906\n",
       "──────────────────────────────────────────────────────────────────────────────\n",
       "                                                                              \n",
       "                                                                              \n",
       "                                                                              \n",
       "                                                                              \n",
       "                                                                              \n",
       "                                                                              \n",
       "______________________________________________________________________________\n",
       "                                                                              \n",
       "4661260394241487464884218882282846657498368026855                             \n",
       "──────────────────────────────────────────────────────────────────────────────\n",
       "______________________________________________________________________________\n",
       "257    √1979138064499098556522683398571689927852467989455890816595313301683110\n",
       "──── + ───────────────────────────────────────────────────────────────────────\n",
       "5472                                                   40049756923517064044906\n",
       "──────────────────────────────────────────────────────────────────────────────\n",
       "                                                                              \n",
       "\n",
       "______________________________________________________________________________\n",
       "                                                                              \n",
       "                                                                              \n",
       "─────────────────────────────────────────────────────────── - ────────────────\n",
       "___________________________________________________________                   \n",
       "__________________________________________________________                    \n",
       "3899363353318957072338920029181860789660691409140262271⋅ⅈ     3702385253972713\n",
       "─────────────────────────────────────────────────────────                     \n",
       "391300608                                                                     \n",
       "                                                                              \n",
       "                                                                              \n",
       "                                                                              \n",
       "──────────────────────────────────────────────────────────────────────────────\n",
       "                                                                              \n",
       "                                                                              \n",
       "                                                                              \n",
       "                                                                              \n",
       "                                                                              \n",
       "                                                                              \n",
       "______________________________________________________________________________\n",
       "                                                                              \n",
       "                                                                              \n",
       "──────────────────────────────────────────────────────────────────────────────\n",
       "______________________________________________________________________________\n",
       "284405949242440817136949963804519955208720994153996107311957410838993633533189\n",
       "──────────────────────────────────────────────────────────────────────────────\n",
       "6569906791021488007097941872394365070301466666198583870103129305391300608     \n",
       "──────────────────────────────────────────────────────────────────────────────\n",
       "                                                                      2       \n",
       "                                                                              \n",
       "                                                                              \n",
       "                                                                              \n",
       "                                                                              \n",
       "                                                                              \n",
       "______________________________________________________________________________\n",
       "                                                                              \n",
       "                                                                              \n",
       "──────────────────────────────────────────────────────────────────────────────\n",
       "______________________________________________________________________________\n",
       "284405949242440817136949963804519955208720994153996107311957410838993633533189\n",
       "──────────────────────────────────────────────────────────────────────────────\n",
       "6569906791021488007097941872394365070301466666198583870103129305391300608     \n",
       "──────────────────────────────────────────────────────────────────────────────\n",
       "                                                                      2       \n",
       "                                                                              \n",
       "                                                                              \n",
       "                                                                              \n",
       "                                                                              \n",
       "                                                                              \n",
       "______________________________________________________________________________\n",
       "                                                                              \n",
       "                                                                              \n",
       "──────────────────────────────────────────────────────────────────────────────\n",
       "______________________________________________________________________________\n",
       "284405949242440817136949963804519955208720994153996107311957410838993633533189\n",
       "──────────────────────────────────────────────────────────────────────────────\n",
       "6569906791021488007097941872394365070301466666198583870103129305391300608     \n",
       "──────────────────────────────────────────────────────────────────────────────\n",
       "                                                                      2       \n",
       "\n",
       "______________________________________________________________________________\n",
       "                                                                              \n",
       "                                                                              \n",
       "──────────────────────────────────────────────────────────────────────────────\n",
       "                                                     _________________________\n",
       "                                                    ╱     59935205597779217442\n",
       "594848680660754038636211155697675554692534370304⋅3 ╱  - ──────────────────────\n",
       "                                                 ╲╱     3604478123116535764041\n",
       "                                                                              \n",
       "                                                                              \n",
       "                                                                              \n",
       "                                                                              \n",
       "──────────────────────────────────────────────────────────────────────────────\n",
       "                                                                              \n",
       "                                                                              \n",
       "                                                                              \n",
       "                                                                              \n",
       "                                                                              \n",
       "                                                                              \n",
       "______________________________________________________________________________\n",
       "                                                     _________________________\n",
       "                                                    ╱     59935205597779217442\n",
       "──────────────────────────────────────────── + 2⋅3 ╱  - ──────────────────────\n",
       "____________________________________________     ╲╱     3604478123116535764041\n",
       "57072338920029181860789660691409140262271⋅ⅈ                                   \n",
       "───────────────────────────────────────────                                   \n",
       "                                                                              \n",
       "──────────────────────────────────────────────────────────────────────────────\n",
       "                                                                              \n",
       "                                                                              \n",
       "                                                                              \n",
       "                                                                              \n",
       "                                                                              \n",
       "                                                                              \n",
       "______________________________________________________________________________\n",
       "                                                     _________________________\n",
       "                                                    ╱     59935205597779217442\n",
       "──────────────────────────────────────────── + 2⋅3 ╱  - ──────────────────────\n",
       "____________________________________________     ╲╱     3604478123116535764041\n",
       "57072338920029181860789660691409140262271⋅ⅈ                                   \n",
       "───────────────────────────────────────────                                   \n",
       "                                                                              \n",
       "──────────────────────────────────────────────────────────────────────────────\n",
       "                                                                              \n",
       "                                                                              \n",
       "                                                                              \n",
       "                                                                              \n",
       "                                                                              \n",
       "                                                                              \n",
       "______________________________________________________________________________\n",
       "                                                     _________________________\n",
       "                                                    ╱     59935205597779217442\n",
       "──────────────────────────────────────────── + 2⋅3 ╱  - ──────────────────────\n",
       "____________________________________________     ╲╱     3604478123116535764041\n",
       "57072338920029181860789660691409140262271⋅ⅈ                                   \n",
       "───────────────────────────────────────────                                   \n",
       "                                                                              \n",
       "──────────────────────────────────────────────────────────────────────────────\n",
       "                                                                              \n",
       "\n",
       "______________________________________________________________________________\n",
       "                                                                              \n",
       "                                                         794805877526104661260\n",
       "──────────────────────────────────────────────────────────────────────────────\n",
       "______________________________________________________________________________\n",
       "12484079693094397872461573669860896411596247328095047697509405371166531257    \n",
       "─────────────────────────────────────────────────────────────────────────── + \n",
       "599129161119193392063881476851549285632713199995787254830928163748521705472   \n",
       "                                                                              \n",
       "                                                                              \n",
       "                                                                              \n",
       "                                                                              \n",
       "──────────────────────────────────────────────────────────────────────────────\n",
       "                                                                              \n",
       "                                                                              \n",
       "                                                                              \n",
       "                                                                              \n",
       "                                                                              \n",
       "                                                                              \n",
       "______________________________________________________________________________\n",
       "______________________________________________________________________________\n",
       "12484079693094397872461573669860896411596247328095047697509405371166531257    \n",
       "─────────────────────────────────────────────────────────────────────────── + \n",
       "599129161119193392063881476851549285632713199995787254830928163748521705472   \n",
       "                                                                              \n",
       "                                                                              \n",
       "                                                                              \n",
       "──────────────────────────────────────────────────────────────────────────────\n",
       "                                                                              \n",
       "                                                                              \n",
       "                                                                              \n",
       "                                                                              \n",
       "                                                                              \n",
       "                                                                              \n",
       "______________________________________________________________________________\n",
       "______________________________________________________________________________\n",
       "12484079693094397872461573669860896411596247328095047697509405371166531257    \n",
       "─────────────────────────────────────────────────────────────────────────── + \n",
       "599129161119193392063881476851549285632713199995787254830928163748521705472   \n",
       "                                                                              \n",
       "                                                                              \n",
       "                                                                              \n",
       "──────────────────────────────────────────────────────────────────────────────\n",
       "                                                                              \n",
       "                                                                              \n",
       "                                                                              \n",
       "                                                                              \n",
       "                                                                              \n",
       "                                                                              \n",
       "______________________________________________________________________________\n",
       "______________________________________________________________________________\n",
       "12484079693094397872461573669860896411596247328095047697509405371166531257    \n",
       "─────────────────────────────────────────────────────────────────────────── + \n",
       "599129161119193392063881476851549285632713199995787254830928163748521705472   \n",
       "                                                                              \n",
       "                                                                              \n",
       "                                                                              \n",
       "──────────────────────────────────────────────────────────────────────────────\n",
       "                                                                              \n",
       "\n",
       "______________________________________________________________________________\n",
       "                                                                              \n",
       "394241487464884218882282846657498368026855                                    \n",
       "──────────────────────────────────────────────────────────────────────────────\n",
       "______________________________________________________________________________\n",
       "√19791380644990985565226833985716899278524679894558908165953133016831102844059\n",
       "──────────────────────────────────────────────────────────────────────────────\n",
       "                                                400497569235170640449066569906\n",
       "                                                                              \n",
       "                                                                              \n",
       "                                                                              \n",
       "                                                                              \n",
       "──────────────────────────────────────────────────────────────────────────────\n",
       "                                                                              \n",
       "                                                                              \n",
       "                                                                              \n",
       "                                                                              \n",
       "                                                                              \n",
       "                                                                              \n",
       "______________________________________________________________________________\n",
       "______________________________________________________________________________\n",
       "√19791380644990985565226833985716899278524679894558908165953133016831102844059\n",
       "──────────────────────────────────────────────────────────────────────────────\n",
       "                                                400497569235170640449066569906\n",
       "                                                                              \n",
       "                                                                              \n",
       "                                                                              \n",
       "──────────────────────────────────────────────────────────────────────────────\n",
       "                                                                              \n",
       "                                                                              \n",
       "                                                                              \n",
       "                                                                              \n",
       "                                                                              \n",
       "                                                                              \n",
       "______________________________________________________________________________\n",
       "______________________________________________________________________________\n",
       "√19791380644990985565226833985716899278524679894558908165953133016831102844059\n",
       "──────────────────────────────────────────────────────────────────────────────\n",
       "                                                400497569235170640449066569906\n",
       "                                                                              \n",
       "                                                                              \n",
       "                                                                              \n",
       "──────────────────────────────────────────────────────────────────────────────\n",
       "                                                                              \n",
       "                                                                              \n",
       "                                                                              \n",
       "                                                                              \n",
       "                                                                              \n",
       "                                                                              \n",
       "______________________________________________________________________________\n",
       "______________________________________________________________________________\n",
       "√19791380644990985565226833985716899278524679894558908165953133016831102844059\n",
       "──────────────────────────────────────────────────────────────────────────────\n",
       "                                                400497569235170640449066569906\n",
       "                                                                              \n",
       "                                                                              \n",
       "                                                                              \n",
       "──────────────────────────────────────────────────────────────────────────────\n",
       "                                                                              \n",
       "\n",
       "______________________________________________________________________________\n",
       "                                                                              \n",
       "                                                                              \n",
       "──────────────────────────────────────────────────────────────────────────────\n",
       "______________________________________________________________________________\n",
       "492424408171369499638045199552087209941539961073119574108389936335331895707233\n",
       "──────────────────────────────────────────────────────────────────────────────\n",
       "791021488007097941872394365070301466666198583870103129305391300608            \n",
       "                                                                              \n",
       "                                                                              \n",
       "                                                                              \n",
       "                                                                              \n",
       "──────────────────────────────────────────────────────────────────────────────\n",
       "                                                                              \n",
       "                                                                              \n",
       "                                                                              \n",
       "                                                                              \n",
       "                                                                              \n",
       "                                                                              \n",
       "______________________________________________________________________________\n",
       "______________________________________________________________________________\n",
       "492424408171369499638045199552087209941539961073119574108389936335331895707233\n",
       "──────────────────────────────────────────────────────────────────────────────\n",
       "791021488007097941872394365070301466666198583870103129305391300608            \n",
       "                                                                              \n",
       "                                                                              \n",
       "                                                                              \n",
       "──────────────────────────────────────────────────────────────────────────────\n",
       "                                                                              \n",
       "                                                                              \n",
       "                                                                              \n",
       "                                                                              \n",
       "                                                                              \n",
       "                                                                              \n",
       "______________________________________________________________________________\n",
       "______________________________________________________________________________\n",
       "492424408171369499638045199552087209941539961073119574108389936335331895707233\n",
       "──────────────────────────────────────────────────────────────────────────────\n",
       "791021488007097941872394365070301466666198583870103129305391300608            \n",
       "                                                                              \n",
       "                                                                              \n",
       "                                                                              \n",
       "──────────────────────────────────────────────────────────────────────────────\n",
       "                                                                              \n",
       "                                                                              \n",
       "                                                                              \n",
       "                                                                              \n",
       "                                                                              \n",
       "                                                                              \n",
       "______________________________________________________________________________\n",
       "______________________________________________________________________________\n",
       "492424408171369499638045199552087209941539961073119574108389936335331895707233\n",
       "──────────────────────────────────────────────────────────────────────────────\n",
       "791021488007097941872394365070301466666198583870103129305391300608            \n",
       "                                                                              \n",
       "                                                                              \n",
       "                                                                              \n",
       "──────────────────────────────────────────────────────────────────────────────\n",
       "                                                                              \n",
       "\n",
       "______________________________________⎤\n",
       "                                      ⎥\n",
       "                                      ⎥\n",
       "───────────────────────────────────── ⎥\n",
       "_____________________________________ ⎥\n",
       "8920029181860789660691409140262271⋅ⅈ  ⎥\n",
       "────────────────────────────────────  ⎥\n",
       "                                      ⎥\n",
       "                                      ⎥\n",
       "                                      ⎥\n",
       "                                      ⎥\n",
       "                                      ⎥\n",
       "──────────────────────────────────────⎥\n",
       "                                      ⎥\n",
       "                                      ⎥\n",
       "                                      ⎥\n",
       "                                      ⎥\n",
       "                                      ⎥\n",
       "                                      ⎥\n",
       "______________________________________⎥\n",
       "_____________________________________ ⎥\n",
       "8920029181860789660691409140262271⋅ⅈ  ⎥\n",
       "────────────────────────────────────  ⎥\n",
       "                                      ⎥\n",
       "                                      ⎥\n",
       "                                      ⎥\n",
       "                                      ⎥\n",
       "──────────────────────────────────────⎥\n",
       "                                      ⎥\n",
       "                                      ⎥\n",
       "                                      ⎥\n",
       "                                      ⎥\n",
       "                                      ⎥\n",
       "                                      ⎥\n",
       "______________________________________⎥\n",
       "_____________________________________ ⎥\n",
       "8920029181860789660691409140262271⋅ⅈ  ⎥\n",
       "────────────────────────────────────  ⎥\n",
       "                                      ⎥\n",
       "                                      ⎥\n",
       "                                      ⎥\n",
       "                                      ⎥\n",
       "──────────────────────────────────────⎥\n",
       "                                      ⎥\n",
       "                                      ⎥\n",
       "                                      ⎥\n",
       "                                      ⎥\n",
       "                                      ⎥\n",
       "                                      ⎥\n",
       "______________________________________⎥\n",
       "_____________________________________ ⎥\n",
       "8920029181860789660691409140262271⋅ⅈ  ⎥\n",
       "────────────────────────────────────  ⎥\n",
       "                                      ⎥\n",
       "                                      ⎥\n",
       "                                      ⎥\n",
       "                                      ⎥\n",
       "──────────────────────────────────────⎥\n",
       "                                      ⎦"
      ]
     },
     "execution_count": 33,
     "metadata": {},
     "output_type": "execute_result"
    }
   ],
   "source": [
    "λ=solve(p(x),x)"
   ]
  },
  {
   "cell_type": "code",
   "execution_count": 34,
   "metadata": {
    "collapsed": false
   },
   "outputs": [
    {
     "data": {
      "text/plain": [
       "4"
      ]
     },
     "execution_count": 34,
     "metadata": {},
     "output_type": "execute_result"
    }
   ],
   "source": [
    "length(λ)"
   ]
  },
  {
   "cell_type": "markdown",
   "metadata": {},
   "source": [
    "### Example - Circulant matrix\n",
    "\n",
    "For more details, see \n",
    "[A. B&ouml;ttcher and I. Spitkovsky, Special Types of Matrices][BoSp14] and the references therein.\n",
    "\n",
    "[BoSp14]: #1 \"L. Hogben, ed., 'Handbook of Linear Algebra', pp. 22.1-22.20, CRC Press, Boca Raton, 2014.\"\n",
    "\n",
    "Given $a_0,a_1,\\ldots,a_{n-1}\\in \\mathbb{C}$, the __circulant matrix__ is\n",
    "\n",
    "$$\n",
    "C(a_0,a_1,\\ldots,a_{n-1})=\\begin{bmatrix}\n",
    "a_0 & a_{n-1} & a_{n-2} & \\cdots & a_{1} \\\\\n",
    "a_1 & a_0 & a_{n-1} & \\cdots & a_{2} \\\\\n",
    "a_2 & a_1 & a_{0} & \\cdots & a_{3} \\\\\n",
    "\\vdots & \\vdots & \\vdots & \\ddots & \\vdots \\\\\n",
    "a_{n-1} & a_{n-2} & a_{n-3} & \\cdots & a_{0}\n",
    "\\end{bmatrix}.\n",
    "$$\n",
    "\n",
    "Let $a(z)=a_0+a_1z+a_2z^2+\\cdots +a_{n-1}z^{n-1}$ be the associated complex polynomial.\n",
    "\n",
    "Let $\\omega_n=\\exp(2\\pi i/n)$. The __Fourier matrix__ of order $n$ is\n",
    "\n",
    "$$\n",
    "F_n=\\frac{1}{\\sqrt{n}} \\bigg[ \\omega_n^{(j-1)(k-1)}\\bigg]_{j,k=1}^n=\n",
    "\\frac{1}{\\sqrt{n}} \\begin{bmatrix} \n",
    "1 & & 1 & \\cdots & 1 \\\\\n",
    "1& \\omega_n & \\omega_n^2 & \\cdots \\omega_n^{n-1} \\\\\n",
    "1& \\omega_n^2 & \\omega_n^4 & \\cdots \\omega_n^{2(n-1)} \\\\\n",
    "\\vdots & \\vdots & \\vdots & \\ddots & \\vdots \\\\\n",
    "1& \\omega_n^{n-1} & \\omega_n^{2(n-1)} & \\cdots \\omega_n^{(n-1)(n-1)}\n",
    "\\end{bmatrix}.\n",
    "$$\n",
    "\n",
    "Fourier matrix is unitary. \n",
    "Fourier matrix is Vandermonde matrix, $F_n=\\displaystyle\\frac{1}{\\sqrt{n}} V(1,\\omega_n,\\omega_n^2,\\ldots, \\omega_n^{n-1})$.\n",
    "\n",
    "Circulant matrix is normal and, thus, unitarily diagonalizable, with the eigenvalue decomposition\n",
    "\n",
    "$$\n",
    "C(a_0,a_1,\\ldots,a_{n-1})=F_n^*\\mathop{\\mathrm{diag}}[(a(1),a(\\omega_n),a(\\omega_n^2),\\ldots, \n",
    "a(\\omega_n^{n-1})]F_n.\n",
    "$$\n",
    "\n",
    "We shall use the package [SpecialMatrices.jl](https://github.com/jiahao/SpecialMatrices.jl)."
   ]
  },
  {
   "cell_type": "code",
   "execution_count": 35,
   "metadata": {
    "collapsed": false
   },
   "outputs": [
    {
     "name": "stderr",
     "output_type": "stream",
     "text": [
      "WARNING: Method definition (::Type{SpecialMatrices.Hankel})(Array{#T<:Any, 1}) in module SpecialMatrices at /home/slap/.julia/v0.5/SpecialMatrices/src/hankel.jl:4 overwritten at /home/slap/.julia/v0.5/SpecialMatrices/src/hankel.jl:6.\n"
     ]
    }
   ],
   "source": [
    "using SpecialMatrices\n",
    "using Polynomials"
   ]
  },
  {
   "cell_type": "code",
   "execution_count": 36,
   "metadata": {
    "collapsed": false
   },
   "outputs": [
    {
     "name": "stdout",
     "output_type": "stream",
     "text": [
      "                        Cauchy    180 bytes  DataType\n",
      "                     Circulant    168 bytes  DataType\n",
      "                     Companion    168 bytes  DataType\n",
      "                     Frobenius    180 bytes  DataType\n",
      "                        Hankel    168 bytes  DataType\n",
      "                       Hilbert    180 bytes  DataType\n",
      "                         Kahan    244 bytes  DataType\n",
      "                       Riemann    168 bytes  DataType\n",
      "               SpecialMatrices   8085 bytes  Module\n",
      "                        Strang    168 bytes  DataType\n",
      "                      Toeplitz    168 bytes  DataType\n",
      "                   Vandermonde    168 bytes  DataType\n"
     ]
    }
   ],
   "source": [
    "whos(SpecialMatrices)"
   ]
  },
  {
   "cell_type": "code",
   "execution_count": 37,
   "metadata": {
    "collapsed": false
   },
   "outputs": [
    {
     "data": {
      "text/plain": [
       "6-element Array{Int64,1}:\n",
       "  0\n",
       "  2\n",
       "  7\n",
       "  7\n",
       " -5\n",
       " -8"
      ]
     },
     "execution_count": 37,
     "metadata": {},
     "output_type": "execute_result"
    }
   ],
   "source": [
    "n=6\n",
    "a=rand(-9:9,n)"
   ]
  },
  {
   "cell_type": "code",
   "execution_count": 38,
   "metadata": {
    "collapsed": false
   },
   "outputs": [
    {
     "data": {
      "text/plain": [
       "6×6 SpecialMatrices.Circulant{Int64}:\n",
       "  0  -8  -5   7   7   2\n",
       "  2   0  -8  -5   7   7\n",
       "  7   2   0  -8  -5   7\n",
       "  7   7   2   0  -8  -5\n",
       " -5   7   7   2   0  -8\n",
       " -8  -5   7   7   2   0"
      ]
     },
     "execution_count": 38,
     "metadata": {},
     "output_type": "execute_result"
    }
   ],
   "source": [
    "C=Circulant(a)"
   ]
  },
  {
   "cell_type": "code",
   "execution_count": 39,
   "metadata": {
    "collapsed": false
   },
   "outputs": [
    {
     "data": {
      "text/plain": [
       "6×6 Array{Int64,2}:\n",
       " 0  0  0  0  0  0\n",
       " 0  0  0  0  0  0\n",
       " 0  0  0  0  0  0\n",
       " 0  0  0  0  0  0\n",
       " 0  0  0  0  0  0\n",
       " 0  0  0  0  0  0"
      ]
     },
     "execution_count": 39,
     "metadata": {},
     "output_type": "execute_result"
    }
   ],
   "source": [
    "# Check for normality\n",
    "full(C)*full(C)'-full(C)'*full(C)"
   ]
  },
  {
   "cell_type": "code",
   "execution_count": 40,
   "metadata": {
    "collapsed": false
   },
   "outputs": [
    {
     "data": {
      "text/plain": [
       "Poly(2x + 7x^2 + 7x^3 - 5x^4 - 8x^5)"
      ]
     },
     "execution_count": 40,
     "metadata": {},
     "output_type": "execute_result"
    }
   ],
   "source": [
    "p1=Polynomials.Poly(a)"
   ]
  },
  {
   "cell_type": "code",
   "execution_count": 41,
   "metadata": {
    "collapsed": false
   },
   "outputs": [
    {
     "data": {
      "text/plain": [
       "0.5000000000000001 + 0.8660254037844386im"
      ]
     },
     "execution_count": 41,
     "metadata": {},
     "output_type": "execute_result"
    }
   ],
   "source": [
    "ω=exp(2*π*im/n)"
   ]
  },
  {
   "cell_type": "code",
   "execution_count": 42,
   "metadata": {
    "collapsed": false
   },
   "outputs": [
    {
     "data": {
      "text/plain": [
       "6×6 SpecialMatrices.Vandermonde{Complex{Float64}}:\n",
       " 1.0+0.0im            1.0+0.0im       …            1.0+0.0im     \n",
       " 1.0+0.0im            0.5+0.866025im               0.5-0.866025im\n",
       " 1.0+0.0im           -0.5+0.866025im              -0.5-0.866025im\n",
       " 1.0+0.0im  -1.0+3.88578e-16im           -1.0+1.94289e-15im      \n",
       " 1.0+0.0im           -0.5-0.866025im              -0.5+0.866025im\n",
       " 1.0+0.0im            0.5-0.866025im  …            0.5+0.866025im"
      ]
     },
     "execution_count": 42,
     "metadata": {},
     "output_type": "execute_result"
    }
   ],
   "source": [
    "v=map(Complex,[ω^k for k=0:n-1])\n",
    "F=Vandermonde(v)"
   ]
  },
  {
   "cell_type": "code",
   "execution_count": 43,
   "metadata": {
    "collapsed": false
   },
   "outputs": [
    {
     "data": {
      "text/plain": [
       "6×6 Array{Complex{Float64},2}:\n",
       "                   3.0+0.0im  …   1.94289e-15-1.72085e-15im     \n",
       " -4.44089e-16+1.33227e-15im       7.99361e-15+8.88178e-15im     \n",
       "          0.0+6.66134e-16im       1.44329e-15-5.10703e-15im     \n",
       "  2.77556e-17+5.82867e-16im       2.17637e-15-4.60743e-15im     \n",
       "  6.66134e-16+1.11022e-15im      -2.55351e-15-1.60982e-14im     \n",
       "  6.66134e-16+1.33227e-15im   …                  -11.0-19.0526im"
      ]
     },
     "execution_count": 43,
     "metadata": {},
     "output_type": "execute_result"
    }
   ],
   "source": [
    "Fn=full(F)/sqrt(n)\n",
    "Λ=Fn*full(C)*Fn'"
   ]
  },
  {
   "cell_type": "code",
   "execution_count": 44,
   "metadata": {
    "collapsed": false
   },
   "outputs": [
    {
     "data": {
      "text/plain": [
       "6×3 Array{Complex{Float64},2}:\n",
       "   3.0+0.0im               3.0+0.0im      -11.0+19.0526im\n",
       " -11.0+19.0526im         -11.0+19.0526im  -11.0-19.0526im\n",
       "   9.0-1.73205im           9.0-1.73205im    9.0+1.73205im\n",
       "   1.0+0.0im      1.0-4.27436e-15im         9.0-1.73205im\n",
       "   9.0+1.73205im           9.0+1.73205im    1.0+0.0im    \n",
       " -11.0-19.0526im         -11.0-19.0526im    3.0+0.0im    "
      ]
     },
     "execution_count": 44,
     "metadata": {},
     "output_type": "execute_result"
    }
   ],
   "source": [
    "[diag(Λ) p1(v) eigvals(full(C))]"
   ]
  },
  {
   "cell_type": "markdown",
   "metadata": {},
   "source": [
    "\n",
    "## Hermitian and real symmetric matrices\n",
    "\n",
    "For more details and the proofs of the Facts below, see \n",
    "[W. Barrett, Hermitian and Positive Definite Matrices][Bar14] and the references therein.\n",
    "\n",
    "[Bar14]: #1 \"L. Hogben, ed., 'Handbook of Linear Algebra', pp. 9.1-9.13, CRC Press, Boca Raton, 2014.\"\n",
    "\n",
    "### Definitions\n",
    "\n",
    "Matrix $A\\in \\mathbb{C}^{n\\times n}$ is __Hermitian__ or __self-adjoint__ if $A^*=A$, \n",
    "or element-wise, $\\bar a_{ij}=a_{ji}$. We say $A\\in\\mathcal{H}_n$.\n",
    "\n",
    "Matrix $A\\in \\mathbb{R}^{n\\times n}$ is __symmetric__ if $A^T=A$, or element-wise, $a_{ij}=a_{ji}$.\n",
    "We say $A\\in\\mathcal{S}_n$.\n",
    "\n",
    "__Rayleigh qoutient__ of $A\\in\\mathcal{H}_n$ and nonzero vector $x\\in\\mathbb{C}^n$ is\n",
    "\n",
    "$$\n",
    "R_A(x)=\\frac{x^*Ax}{x^*x}.\n",
    "$$\n",
    "\n",
    "Matrices $A,B \\in\\mathcal{H}_n$ are __congruent__ if there exists nonsingular matrix $C$ such that \n",
    "$B=C^*AC$.\n",
    "\n",
    "__Inertia__ of $A\\in\\mathcal{H}_n$ is the ordered triple \n",
    "$$\\mathop{\\mathrm{in}}(A)=(\\pi(A),\\nu(A),\\zeta(A)),$$\n",
    "\n",
    "where $\\pi(A)$ is the number of positive eigenvalues of $A$,  $\\nu(A)$ is the number of negative eigenvalues of $A$,\n",
    "and $\\zeta(A)$ is the number of zero eigenvalues of $A$.\n",
    "\n",
    "__Gram matrix__ of a set of vectors $x_1,x_2,\\ldots,x_k\\in\\mathbb{C}^{n}$ is the matrix $G$ with entries $G_{ij}=x_i^*x_j$. "
   ]
  },
  {
   "cell_type": "markdown",
   "metadata": {},
   "source": [
    "### Facts\n",
    "\n",
    "Assume $A$ is Hermitian and $x\\in\\mathbb{C}^n$ is nonzero. Then\n",
    "\n",
    "1. Real symmetric matrix is Hermitian, and real Hermitian matrix is symmetric.\n",
    "2. Hermitian and real symmetric matrices are normal.\n",
    "2. $A+A^*$, $A^*A$, and $AA^*$ are Hermitian.\n",
    "3. If $A$ is nonsingular, $A^{-1}$ is Hermitian.\n",
    "4. Main diagonal entries of $A$ are real.\n",
    "5. Matrix $T$ from the Schur decomposition of $A$ is Hermitian. Consequently:\n",
    "    * $T$ is diagonal and real, and has eigenvalues of $A$ on diagonal,\n",
    "    * matrix $Q$ of the Schur decomposition is the unitary matrix of eigenvectors,\n",
    "    * all eigenvalues of $A$ are semisimple and $A$ is nondefective,\n",
    "    * eigenvectors corresponding to distinct eigenvalues are orthogonal.\n",
    "6. To summarize _(Spectral Theorem)_:\n",
    "    * if $A\\in\\mathcal{H}_n$, there is a unitary matrix $U$ and real diagonal matrix $\\Lambda$ such that \n",
    "    $A=U\\Lambda U^*$. The diagonal entries of $\\Lambda$ are the eigenvalues of $A$, and the \n",
    "    columns of $U$ are the corresponding eigenvectors.\n",
    "    * if $A\\in\\mathcal{S}_n$, the same holds with orthogonal matrix $U$, $A=U\\Lambda U^T$.\n",
    "    * if $A\\in\\mathcal{H}_n$ with eigenpairs $(\\lambda_i,u_i)$, then\n",
    "    $$ A=\\lambda_1u_1u_1^*+\\lambda_2 u_2u_2^* +\\cdots +\\lambda_n u_nu_n^*.$$\n",
    "    * similarly, if  $A\\in\\mathcal{S}_n$, then\n",
    "    $$ A=\\lambda_1u_1u_1^T+\\lambda_2 u_2u_2^T +\\cdots +\\lambda_n u_nu_n^T.$$\n",
    "\n",
    "7. Since all eigenvalues of $A$ are real, they can be ordered:\n",
    "$$\\lambda_1\\geq \\lambda_2\\geq \\cdots \\geq \\lambda_n.$$\n",
    "8. _(Rayleigh-Ritz Theorem)_ It holds:\n",
    "\\begin{align*}\n",
    "\\lambda_n &\\leq \\frac{x^*Ax}{x^*x} \\leq \\lambda_1, \\\\\n",
    "\\lambda_1&=\\max_x\\frac{x^*Ax}{x^*x} =\\max_{\\|x\\|_2=1} x^*Ax, \\\\\n",
    "\\lambda_n&=\\min_x\\frac{x^*Ax}{x^*x} =\\min_{\\|x\\|_2=1} x^*Ax.\n",
    "\\end{align*}\n",
    "\n",
    "8. _(Courant-Fischer Theorem)_ Iz holds:\n",
    "\\begin{align*}\n",
    "\\lambda_k& =\\max_{\\dim(W)=k}\\min_{x\\in W} \\frac{x^*Ax}{x^*x}\\\\\n",
    "& =\\min_{\\dim(W)=n-k+1}\\max_{x\\in W} \\frac{x^*Ax}{x^*x}.\n",
    "\\end{align*} \n",
    "\n",
    "10. _(Cauchy Interlace Theorem)_ For $i\\in\\{1,2,\\ldots,n\\}$, let $A(i)$ be the principal submatrix of $A$ obtained by deleting its $t$-th row and $i$-th column with ordered eigenvalues $\\mu_1\\geq \\mu_2\\geq \\cdots \\geq \\mu_{n-1}$. Then\n",
    "$$\n",
    "\\lambda_1\\geq \\mu_1\\geq \\lambda_2\\geq \\mu_2\\geq \\lambda_3\\geq\\cdots\\geq \\lambda_{n-1}\\geq\\mu_{n-1}\\geq\\lambda_n.\n",
    "$$\n",
    "\n",
    "9. _(Weyl Inequalities)_ For $A,B\\in\\mathcal{H}_n$, it holds:\n",
    "\\begin{align*}\n",
    "   \\lambda_{j+k-1}(A+B)& \\leq \\lambda_j(A)+\\lambda_k(B), & \\textrm{for} \\ j+k\\leq n+1,\\\\\n",
    "   \\lambda_{j+k-n}(A+B)& \\geq \\lambda_j(A)+\\lambda_k(B), & \\textrm{for} \\ j+k\\geq n+1,\n",
    "\\end{align*}\n",
    "and, in particular, \n",
    "$$\n",
    "\\lambda_j(A)+\\lambda_n(B) \\leq \\lambda_j(A+B) \\leq \\lambda_j(A)+\\lambda_1(B),\\quad \\textrm{for} \\ j=1,2,\\ldots,n.\n",
    "$$\n",
    "\n",
    "11. $\\pi(A)+\\mu(A)+\\zeta(A)=n$.\n",
    "\n",
    "12. $\\mathop{\\mathrm{rank}}(A)=\\pi(A)+\\mu(A)$.\n",
    "\n",
    "13. If $A$ is nonsingular, $\\mathop{\\mathrm{in}}(A)=\\mathop{\\mathrm{in}}(A^{-1})$.\n",
    "\n",
    "13. If $A,B \\in\\mathcal{H}_n$ are similar,  $\\mathop{\\mathrm{in}}(A)=\\mathop{\\mathrm{in}}(B)$.\n",
    "\n",
    "14. _(Sylvester's Law of Inertia)_ $A,B \\in\\mathcal{H}_n$ are congruent if and only if $\\mathop{\\mathrm{in}}(A)=\\mathop{\\mathrm{in}}(B)$.\n",
    "\n",
    "15. _(Subadditivity of Inertia)_ For $A,B \\in\\mathcal{H}_n$, \n",
    "$$\n",
    "\\pi(A+B)\\leq \\pi(A)+\\pi(B), \\qquad \\nu(A+B)\\leq \\nu(A)+\\nu(B).\n",
    "$$\n",
    "\n",
    "16. Gram matrix is Hermitian."
   ]
  },
  {
   "cell_type": "markdown",
   "metadata": {},
   "source": [
    "### Example - Hermitian matrix"
   ]
  },
  {
   "cell_type": "code",
   "execution_count": 45,
   "metadata": {
    "collapsed": false
   },
   "outputs": [
    {
     "data": {
      "text/plain": [
       "5×5 Array{Complex{Float64},2}:\n",
       " 0.609941+0.0im         0.95104+0.904727im   …   1.31882-0.807091im \n",
       "  0.95104-0.904727im   0.146908+0.0im             1.0992-0.0676985im\n",
       "  1.13154-0.0897536im  0.530177+0.321175im      0.949873+0.266066im \n",
       " 0.738894-0.690763im   0.410169+0.0204921im     0.968509+0.0112296im\n",
       "  1.31882+0.807091im     1.0992+0.0676985im      1.31081+0.0im      "
      ]
     },
     "execution_count": 45,
     "metadata": {},
     "output_type": "execute_result"
    }
   ],
   "source": [
    "# Generating Hermitian matrix\n",
    "n=5\n",
    "A=rand(n,n)+im*rand(n,n)\n",
    "A=A+A'"
   ]
  },
  {
   "cell_type": "code",
   "execution_count": 46,
   "metadata": {
    "collapsed": false
   },
   "outputs": [
    {
     "data": {
      "text/plain": [
       "true"
      ]
     },
     "execution_count": 46,
     "metadata": {},
     "output_type": "execute_result"
    }
   ],
   "source": [
    "ishermitian(A)"
   ]
  },
  {
   "cell_type": "code",
   "execution_count": 47,
   "metadata": {
    "collapsed": false
   },
   "outputs": [
    {
     "data": {
      "text/plain": [
       "5-element Array{Complex{Float64},1}:\n",
       " 0.609941+0.0im\n",
       " 0.146908+0.0im\n",
       " 0.591668+0.0im\n",
       "  1.94405+0.0im\n",
       "  1.31081+0.0im"
      ]
     },
     "execution_count": 47,
     "metadata": {},
     "output_type": "execute_result"
    }
   ],
   "source": [
    "# Diagonal entries\n",
    "diag(A)"
   ]
  },
  {
   "cell_type": "code",
   "execution_count": 48,
   "metadata": {
    "collapsed": false
   },
   "outputs": [
    {
     "data": {
      "text/plain": [
       "(\n",
       "Complex{Float64}[4.94585-1.33153e-16im 8.29198e-16-3.57348e-16im … 2.35652e-16+3.40432e-16im 7.715e-17+1.67848e-16im; 0.0+0.0im -1.71407-1.55155e-16im … -1.04632e-16+2.91e-16im 1.96932e-16-3.335e-16im; … ; 0.0+0.0im 0.0+0.0im … 0.356278+4.13862e-16im 3.39039e-16-1.41311e-16im; 0.0+0.0im 0.0+0.0im … 0.0+0.0im -0.479309+2.95097e-17im],\n",
       "\n",
       "Complex{Float64}[-0.456466+2.007e-16im -0.659493-8.41039e-16im … -0.413751-1.29353e-8im 0.0822486-2.72303e-12im; -0.291407+0.136507im 0.179913-0.485591im … 0.249061+0.559305im 0.0372921-0.458616im; … ; -0.500413+0.111135im -0.00877338-0.18536im … 0.0614784-0.25406im 0.368533+0.0232963im; -0.497369+0.00326961im 0.147966+0.436687im … 0.49633-0.238821im 0.0714694-0.0039909im],\n",
       "\n",
       "Complex{Float64}[4.94585-1.33153e-16im,-1.71407-1.55155e-16im,1.49462-2.40841e-18im,0.356278+4.13862e-16im,-0.479309+2.95097e-17im])"
      ]
     },
     "execution_count": 48,
     "metadata": {},
     "output_type": "execute_result"
    }
   ],
   "source": [
    "# Schur decomposition\n",
    "T,Q=schur(A)"
   ]
  },
  {
   "cell_type": "code",
   "execution_count": 49,
   "metadata": {
    "collapsed": false
   },
   "outputs": [
    {
     "data": {
      "text/plain": [
       "([-1.71407,-0.479309,0.356278,1.49462,4.94585],\n",
       "Complex{Float64}[-0.211641+0.624611im -0.0821207-0.00458567im … -0.14554+0.396952im -0.456456-0.00300066im; -0.40217-0.326231im -0.0628036+0.455823im … -0.0945804+0.181006im -0.292298+0.134588im; … ; -0.178371-0.0511755im -0.366661-0.0438072im … 0.591156-0.385551im -0.501132+0.107843im; 0.461074+0.0im -0.0715808-0.0im … -0.481167-0.0im -0.49738-0.0im])"
      ]
     },
     "execution_count": 49,
     "metadata": {},
     "output_type": "execute_result"
    }
   ],
   "source": [
    "λ,U=eig(A)"
   ]
  },
  {
   "cell_type": "code",
   "execution_count": 50,
   "metadata": {
    "collapsed": false
   },
   "outputs": [
    {
     "data": {
      "text/plain": [
       "4.252243675504411e-15"
      ]
     },
     "execution_count": 50,
     "metadata": {},
     "output_type": "execute_result"
    }
   ],
   "source": [
    "# Spectral theorem\n",
    "norm(A-U*diagm(λ)*U')"
   ]
  },
  {
   "cell_type": "code",
   "execution_count": 51,
   "metadata": {
    "collapsed": false
   },
   "outputs": [
    {
     "data": {
      "text/plain": [
       "5×5 Array{Complex{Float64},2}:\n",
       "  1.33227e-15+1.38778e-17im  …          0.0+1.11022e-16im \n",
       "  5.55112e-16-1.11022e-15im     2.22045e-16-2.22045e-16im \n",
       "  1.11022e-15-1.94289e-16im     5.55112e-16-1.11022e-16im \n",
       " -1.33227e-15-6.66134e-16im     3.33067e-16-1.11022e-16im \n",
       "          0.0-1.11022e-16im              2.88658e-15+0.0im"
      ]
     },
     "execution_count": 51,
     "metadata": {},
     "output_type": "execute_result"
    }
   ],
   "source": [
    "# Spectral theorem\n",
    "A-sum([λ[i]*U[:,i]*U[:,i]' for i=1:n])"
   ]
  },
  {
   "cell_type": "code",
   "execution_count": 52,
   "metadata": {
    "collapsed": false
   },
   "outputs": [
    {
     "data": {
      "text/plain": [
       "5-element Array{Float64,1}:\n",
       " -1.71407 \n",
       " -0.479309\n",
       "  0.356278\n",
       "  1.49462 \n",
       "  4.94585 "
      ]
     },
     "execution_count": 52,
     "metadata": {},
     "output_type": "execute_result"
    }
   ],
   "source": [
    "λ"
   ]
  },
  {
   "cell_type": "code",
   "execution_count": 53,
   "metadata": {
    "collapsed": false
   },
   "outputs": [
    {
     "name": "stdout",
     "output_type": "stream",
     "text": [
      "i = rand(1:n) = 3\n"
     ]
    },
    {
     "data": {
      "text/plain": [
       "4-element Array{Float64,1}:\n",
       " -1.63585 \n",
       "  0.255709\n",
       "  1.36803 \n",
       "  4.02381 "
      ]
     },
     "execution_count": 53,
     "metadata": {},
     "output_type": "execute_result"
    }
   ],
   "source": [
    "# Cauchy Interlace Theorem (repeat several times)\n",
    "@show i=rand(1:n)\n",
    "μ=eigvals(A[[1:i-1;i+1:n],[1:i-1;i+1:n]])"
   ]
  },
  {
   "cell_type": "code",
   "execution_count": 54,
   "metadata": {
    "collapsed": false
   },
   "outputs": [
    {
     "data": {
      "text/plain": [
       "inertia (generic function with 1 method)"
      ]
     },
     "execution_count": 54,
     "metadata": {},
     "output_type": "execute_result"
    }
   ],
   "source": [
    "# Inertia\n",
    "inertia(A)=[sum(eigvals(A).>0), sum(eigvals(A).<0), sum(eigvals(A).==0)]"
   ]
  },
  {
   "cell_type": "code",
   "execution_count": 55,
   "metadata": {
    "collapsed": false
   },
   "outputs": [
    {
     "data": {
      "text/plain": [
       "3-element Array{Int64,1}:\n",
       " 3\n",
       " 2\n",
       " 0"
      ]
     },
     "execution_count": 55,
     "metadata": {},
     "output_type": "execute_result"
    }
   ],
   "source": [
    "inertia(A)"
   ]
  },
  {
   "cell_type": "code",
   "execution_count": 56,
   "metadata": {
    "collapsed": false
   },
   "outputs": [
    {
     "ename": "LoadError",
     "evalue": "MethodError: no method matching isless(::Int64, ::Complex{Float64})\u001b[0m\nClosest candidates are:\n  isless(\u001b[1m\u001b[31m::SymPy.Sym\u001b[0m, ::Number) at /home/slap/.julia/v0.5/SymPy/src/logical.jl:105\n  isless(::Real, \u001b[1m\u001b[31m::AbstractFloat\u001b[0m) at operators.jl:41\n  isless(::Real, \u001b[1m\u001b[31m::Real\u001b[0m) at operators.jl:75\n  ...\u001b[0m",
     "output_type": "error",
     "traceback": [
      "MethodError: no method matching isless(::Int64, ::Complex{Float64})\u001b[0m\nClosest candidates are:\n  isless(\u001b[1m\u001b[31m::SymPy.Sym\u001b[0m, ::Number) at /home/slap/.julia/v0.5/SymPy/src/logical.jl:105\n  isless(::Real, \u001b[1m\u001b[31m::AbstractFloat\u001b[0m) at operators.jl:41\n  isless(::Real, \u001b[1m\u001b[31m::Real\u001b[0m) at operators.jl:75\n  ...\u001b[0m",
      "",
      " in bitcache(::Base.#<, ::Int64, ::Array{Complex{Float64},1}, ::Base.Broadcast.##11#13, ::Base.Broadcast.##12#14, ::Int64, ::Int64, ::Array{Bool,1}) at ./broadcast.jl:348",
      " in .<(::Int64, ::Array{Complex{Float64},1}) at ./broadcast.jl:379",
      " in .>(::Array{Complex{Float64},1}, ::Int64) at ./operators.jl:69",
      " in inertia(::Array{Complex{Float64},2}) at ./In[54]:2"
     ]
    }
   ],
   "source": [
    "# Similar matrices\n",
    "C=rand(n,n)+im*rand(n,n)\n",
    "inertia(A)\n",
    "B=C*A*inv(C)\n",
    "inertia(A)==inertia(B)"
   ]
  },
  {
   "cell_type": "markdown",
   "metadata": {},
   "source": [
    "This did not work numerically due to rounding errors!"
   ]
  },
  {
   "cell_type": "code",
   "execution_count": 57,
   "metadata": {
    "collapsed": false
   },
   "outputs": [
    {
     "data": {
      "text/plain": [
       "5-element Array{Complex{Float64},1}:\n",
       "   4.94585+1.73799e-13im\n",
       "    1.49462-2.6186e-13im\n",
       "  -1.71407-2.05767e-15im\n",
       "  0.356278+1.77339e-13im\n",
       " -0.479309-6.61201e-14im"
      ]
     },
     "execution_count": 57,
     "metadata": {},
     "output_type": "execute_result"
    }
   ],
   "source": [
    "eigvals(B)"
   ]
  },
  {
   "cell_type": "code",
   "execution_count": 58,
   "metadata": {
    "collapsed": false
   },
   "outputs": [
    {
     "ename": "LoadError",
     "evalue": "MethodError: no method matching isless(::Int64, ::Complex{Float64})\u001b[0m\nClosest candidates are:\n  isless(\u001b[1m\u001b[31m::SymPy.Sym\u001b[0m, ::Number) at /home/slap/.julia/v0.5/SymPy/src/logical.jl:105\n  isless(::Real, \u001b[1m\u001b[31m::AbstractFloat\u001b[0m) at operators.jl:41\n  isless(::Real, \u001b[1m\u001b[31m::Real\u001b[0m) at operators.jl:75\n  ...\u001b[0m",
     "output_type": "error",
     "traceback": [
      "MethodError: no method matching isless(::Int64, ::Complex{Float64})\u001b[0m\nClosest candidates are:\n  isless(\u001b[1m\u001b[31m::SymPy.Sym\u001b[0m, ::Number) at /home/slap/.julia/v0.5/SymPy/src/logical.jl:105\n  isless(::Real, \u001b[1m\u001b[31m::AbstractFloat\u001b[0m) at operators.jl:41\n  isless(::Real, \u001b[1m\u001b[31m::Real\u001b[0m) at operators.jl:75\n  ...\u001b[0m",
      "",
      " in bitcache(::Base.#<, ::Int64, ::Array{Complex{Float64},1}, ::Base.Broadcast.##11#13, ::Base.Broadcast.##12#14, ::Int64, ::Int64, ::Array{Bool,1}) at ./broadcast.jl:348",
      " in .<(::Int64, ::Array{Complex{Float64},1}) at ./broadcast.jl:379",
      " in .>(::Array{Complex{Float64},1}, ::Int64) at ./operators.jl:69",
      " in inertia(::Array{Complex{Float64},2}) at ./In[54]:2"
     ]
    }
   ],
   "source": [
    "# Congruent matrices - this does not work either, without some preparation\n",
    "B=C'*A*C\n",
    "inertia(A)==inertia(B)"
   ]
  },
  {
   "cell_type": "code",
   "execution_count": 59,
   "metadata": {
    "collapsed": false
   },
   "outputs": [
    {
     "ename": "LoadError",
     "evalue": "ArgumentError: Cannot construct Hermitian from matrix with nonreal diagonals",
     "output_type": "error",
     "traceback": [
      "ArgumentError: Cannot construct Hermitian from matrix with nonreal diagonals",
      "",
      " in Hermitian{T,S<:AbstractArray{T,2}}(::Array{Complex{Float64},2}, ::Symbol) at ./linalg/symmetric.jl:50",
      " in Hermitian{T,S<:AbstractArray{T,2}}(::Array{Complex{Float64},2}) at ./linalg/symmetric.jl:48"
     ]
    }
   ],
   "source": [
    "Hermitian(B)"
   ]
  },
  {
   "cell_type": "code",
   "execution_count": 60,
   "metadata": {
    "collapsed": false
   },
   "outputs": [
    {
     "data": {
      "text/plain": [
       "(false,true,true)"
      ]
     },
     "execution_count": 60,
     "metadata": {},
     "output_type": "execute_result"
    }
   ],
   "source": [
    "# We need to symmetrize B so that the right algorithm is called\n",
    "ishermitian(B), ishermitian((B+B')/2), inertia(A)==inertia((B+B')/2)"
   ]
  },
  {
   "cell_type": "code",
   "execution_count": 61,
   "metadata": {
    "collapsed": false
   },
   "outputs": [
    {
     "data": {
      "text/html": [
       "eigvals<i>{T}</i>(A::<b>Union{Base.ReshapedArray{T,2,A<:DenseArray,MI<:Tuple{Vararg{Base.MultiplicativeInverses.SignedMultiplicativeInverse{Int64},N<:Any}}},DenseArray{T,2},SubArray{T,2,A<:Union{Base.ReshapedArray{T<:Any,N<:Any,A<:DenseArray,MI<:Tuple{Vararg{Base.MultiplicativeInverses.SignedMultiplicativeInverse{Int64},N<:Any}}},DenseArray},I<:Tuple{Vararg{Union{Base.AbstractCartesianIndex,Colon,Int64,Range{Int64}},N<:Any}},L<:Any}}</b>) at <a href=\"https://github.com/JuliaLang/julia/tree/6445c82d0060dbe82b88436f0f4371a4ee64d918/base/linalg/eigen.jl#L143\" target=\"_blank\">linalg/eigen.jl:143</a>"
      ],
      "text/plain": [
       "eigvals{T}(A::Union{Base.ReshapedArray{T,2,A<:DenseArray,MI<:Tuple{Vararg{Base.MultiplicativeInverses.SignedMultiplicativeInverse{Int64},N<:Any}}},DenseArray{T,2},SubArray{T,2,A<:Union{Base.ReshapedArray{T<:Any,N<:Any,A<:DenseArray,MI<:Tuple{Vararg{Base.MultiplicativeInverses.SignedMultiplicativeInverse{Int64},N<:Any}}},DenseArray},I<:Tuple{Vararg{Union{Base.AbstractCartesianIndex,Colon,Int64,Range{Int64}},N<:Any}},L<:Any}}) at linalg/eigen.jl:143"
      ]
     },
     "execution_count": 61,
     "metadata": {},
     "output_type": "execute_result"
    }
   ],
   "source": [
    "@which eigvals(B)"
   ]
  },
  {
   "cell_type": "code",
   "execution_count": 62,
   "metadata": {
    "collapsed": false
   },
   "outputs": [
    {
     "data": {
      "text/plain": [
       "5×5 Array{Complex{Float64},2}:\n",
       " 12.6742+0.0im        8.4561-0.747586im  …  14.7644-3.66686im\n",
       "  8.4561+0.747586im  5.38381+0.0im          9.92617-1.59173im\n",
       " 8.42669-3.38448im   5.15998-2.73961im       8.6082-6.76537im\n",
       " 14.0364-2.95764im   9.02578-2.5729im       15.5089-7.83613im\n",
       " 14.7644+3.66686im   9.92617+1.59173im      18.4889+0.0im    "
      ]
     },
     "execution_count": 62,
     "metadata": {},
     "output_type": "execute_result"
    }
   ],
   "source": [
    "B=(B+B')/2"
   ]
  },
  {
   "cell_type": "code",
   "execution_count": 63,
   "metadata": {
    "collapsed": false
   },
   "outputs": [
    {
     "data": {
      "text/html": [
       "eigvals<i>{T}</i>(A::<b>Union{Base.ReshapedArray{T,2,A<:DenseArray,MI<:Tuple{Vararg{Base.MultiplicativeInverses.SignedMultiplicativeInverse{Int64},N<:Any}}},DenseArray{T,2},SubArray{T,2,A<:Union{Base.ReshapedArray{T<:Any,N<:Any,A<:DenseArray,MI<:Tuple{Vararg{Base.MultiplicativeInverses.SignedMultiplicativeInverse{Int64},N<:Any}}},DenseArray},I<:Tuple{Vararg{Union{Base.AbstractCartesianIndex,Colon,Int64,Range{Int64}},N<:Any}},L<:Any}}</b>) at <a href=\"https://github.com/JuliaLang/julia/tree/6445c82d0060dbe82b88436f0f4371a4ee64d918/base/linalg/eigen.jl#L143\" target=\"_blank\">linalg/eigen.jl:143</a>"
      ],
      "text/plain": [
       "eigvals{T}(A::Union{Base.ReshapedArray{T,2,A<:DenseArray,MI<:Tuple{Vararg{Base.MultiplicativeInverses.SignedMultiplicativeInverse{Int64},N<:Any}}},DenseArray{T,2},SubArray{T,2,A<:Union{Base.ReshapedArray{T<:Any,N<:Any,A<:DenseArray,MI<:Tuple{Vararg{Base.MultiplicativeInverses.SignedMultiplicativeInverse{Int64},N<:Any}}},DenseArray},I<:Tuple{Vararg{Union{Base.AbstractCartesianIndex,Colon,Int64,Range{Int64}},N<:Any}},L<:Any}}) at linalg/eigen.jl:143"
      ]
     },
     "execution_count": 63,
     "metadata": {},
     "output_type": "execute_result"
    }
   ],
   "source": [
    "@which eigvals(B)"
   ]
  },
  {
   "cell_type": "code",
   "execution_count": 64,
   "metadata": {
    "collapsed": false
   },
   "outputs": [
    {
     "data": {
      "text/plain": [
       "5-element Array{Float64,1}:\n",
       " -1.71407 \n",
       " -0.479309\n",
       "  0.356278\n",
       "  1.49462 \n",
       "  4.94585 "
      ]
     },
     "execution_count": 64,
     "metadata": {},
     "output_type": "execute_result"
    }
   ],
   "source": [
    "eigvals(A)"
   ]
  },
  {
   "cell_type": "code",
   "execution_count": 65,
   "metadata": {
    "collapsed": false
   },
   "outputs": [
    {
     "name": "stdout",
     "output_type": "stream",
     "text": [
      "λ = [-1.71407,-0.479309,0.356278,1.49462,4.94585]\n"
     ]
    },
    {
     "data": {
      "text/plain": [
       "([-0.0695305,0.00965862,0.0735879,0.219862,0.419326],[-1.64737,-0.471981,0.461268,1.57947,5.3349])"
      ]
     },
     "execution_count": 65,
     "metadata": {},
     "output_type": "execute_result"
    }
   ],
   "source": [
    "# Weyl Inequalities\n",
    "B=rand(n,n)+im*rand(n,n)\n",
    "B=(B+B')/10\n",
    "@show λ\n",
    "μ=eigvals(B)\n",
    "γ=eigvals(A+B)\n",
    "μ,γ"
   ]
  },
  {
   "cell_type": "code",
   "execution_count": 66,
   "metadata": {
    "collapsed": false
   },
   "outputs": [
    {
     "name": "stdout",
     "output_type": "stream",
     "text": [
      "(j,k) = (4,1)\n",
      "((sort(γ,rev=true))[(j + k) - 1],(sort(λ,rev=true))[j] + (sort(μ,rev=true))[k]) = (-0.47198119017491236,-0.05998333874258843)\n"
     ]
    }
   ],
   "source": [
    "# Theorem uses different order!\n",
    "j=rand(1:n)\n",
    "k=rand(1:n)\n",
    "@show j,k\n",
    "if j+k<=n+1\n",
    "    @show sort(γ,rev=true)[j+k-1], sort(λ,rev=true)[j]+sort(μ,rev=true)[k]\n",
    "end\n",
    "if j+k>=n+1\n",
    "    sort(γ,rev=true)[j+k-n], sort(λ,rev=true)[j]+sort(μ,rev=true)[k]\n",
    "end"
   ]
  },
  {
   "cell_type": "code",
   "execution_count": 67,
   "metadata": {
    "collapsed": false
   },
   "outputs": [
    {
     "data": {
      "text/plain": [
       "5-element Array{Float64,1}:\n",
       "  4.94585 \n",
       "  1.49462 \n",
       "  0.356278\n",
       " -0.479309\n",
       " -1.71407 "
      ]
     },
     "execution_count": 67,
     "metadata": {},
     "output_type": "execute_result"
    }
   ],
   "source": [
    "sort(λ,rev=true)"
   ]
  },
  {
   "cell_type": "markdown",
   "metadata": {},
   "source": [
    "### Example - Real symmetric matrix"
   ]
  },
  {
   "cell_type": "code",
   "execution_count": 68,
   "metadata": {
    "collapsed": false
   },
   "outputs": [
    {
     "data": {
      "text/plain": [
       "6×6 Array{Int64,2}:\n",
       " -12    9   11   -6    5   5\n",
       "   9   12  -10  -14   -6  -9\n",
       "  11  -10   18   -4   13   5\n",
       "  -6  -14   -4   14   11  -5\n",
       "   5   -6   13   11  -14   2\n",
       "   5   -9    5   -5    2  -8"
      ]
     },
     "execution_count": 68,
     "metadata": {},
     "output_type": "execute_result"
    }
   ],
   "source": [
    "# Generating real symmetric matrix\n",
    "n=6\n",
    "A=rand(-9:9,n,n)\n",
    "A=A+A'"
   ]
  },
  {
   "cell_type": "code",
   "execution_count": 70,
   "metadata": {
    "collapsed": false
   },
   "outputs": [
    {
     "data": {
      "text/plain": [
       "true"
      ]
     },
     "execution_count": 70,
     "metadata": {},
     "output_type": "execute_result"
    }
   ],
   "source": [
    "issymmetric(A)"
   ]
  },
  {
   "cell_type": "code",
   "execution_count": 71,
   "metadata": {
    "collapsed": false
   },
   "outputs": [
    {
     "data": {
      "text/plain": [
       "(\n",
       "[-23.7316 -4.996e-16 … 4.63605e-15 -1.10073e-14; 0.0 -22.8097 … -6.39736e-15 -5.67762e-15; … ; 0.0 0.0 … 27.0894 -3.29032e-17; 0.0 0.0 … 0.0 35.5791],\n",
       "\n",
       "[-0.634632 0.415075 … 0.356446 0.00198053; 0.246969 -0.353861 … 0.216603 -0.626934; … ; 0.677689 0.544671 … 0.0625888 0.320232; 0.2075 -0.419425 … 0.177878 0.156783],\n",
       "\n",
       "[-23.7316,-22.8097,-9.69891,3.57174,27.0894,35.5791])"
      ]
     },
     "execution_count": 71,
     "metadata": {},
     "output_type": "execute_result"
    }
   ],
   "source": [
    "T,Q=schur(A)"
   ]
  },
  {
   "cell_type": "code",
   "execution_count": 72,
   "metadata": {
    "collapsed": false
   },
   "outputs": [
    {
     "data": {
      "text/plain": [
       "6×6 Array{Float64,2}:\n",
       " -23.7316   -4.996e-16  -4.41625e-15  4.92466e-15   4.63605e-15  -1.10073e-14\n",
       "   0.0     -22.8097     -7.44689e-16  1.99591e-16  -6.39736e-15  -5.67762e-15\n",
       "   0.0       0.0        -9.69891      5.0613e-16    6.20086e-15   4.48492e-15\n",
       "   0.0       0.0         0.0          3.57174       6.08937e-15  -3.7498e-15 \n",
       "   0.0       0.0         0.0          0.0          27.0894       -3.29032e-17\n",
       "   0.0       0.0         0.0          0.0           0.0          35.5791     "
      ]
     },
     "execution_count": 72,
     "metadata": {},
     "output_type": "execute_result"
    }
   ],
   "source": [
    "T"
   ]
  },
  {
   "cell_type": "code",
   "execution_count": 73,
   "metadata": {
    "collapsed": false
   },
   "outputs": [
    {
     "data": {
      "text/plain": [
       "6×6 Array{Float64,2}:\n",
       " -0.634632   0.415075  -0.47689    0.265468   0.356446    0.00198053\n",
       "  0.246969  -0.353861  -0.146988   0.593481   0.216603   -0.626934  \n",
       " -0.026974  -0.352562   0.337917   0.219395   0.648224    0.540792  \n",
       " -0.182213  -0.324979  -0.209806   0.509437  -0.608504    0.432857  \n",
       "  0.677689   0.544671  -0.209109   0.306396   0.0625888   0.320232  \n",
       "  0.2075    -0.419425  -0.740971  -0.419246   0.177878    0.156783  "
      ]
     },
     "execution_count": 73,
     "metadata": {},
     "output_type": "execute_result"
    }
   ],
   "source": [
    "Q"
   ]
  },
  {
   "cell_type": "code",
   "execution_count": 75,
   "metadata": {
    "collapsed": false
   },
   "outputs": [
    {
     "data": {
      "text/plain": [
       "6-element Array{Float64,1}:\n",
       " -23.7316 \n",
       " -22.8097 \n",
       "  -9.69891\n",
       "   3.57174\n",
       "  27.0894 \n",
       "  35.5791 "
      ]
     },
     "execution_count": 75,
     "metadata": {},
     "output_type": "execute_result"
    }
   ],
   "source": [
    "λ,U=eig(A)\n",
    "λ"
   ]
  },
  {
   "cell_type": "code",
   "execution_count": 76,
   "metadata": {
    "collapsed": false
   },
   "outputs": [
    {
     "data": {
      "text/plain": [
       "6×6 Array{Float64,2}:\n",
       "  0.634632   0.415075   0.47689    0.265468  -0.356446   -0.00198053\n",
       " -0.246969  -0.353861   0.146988   0.593481  -0.216603    0.626934  \n",
       "  0.026974  -0.352562  -0.337917   0.219395  -0.648224   -0.540792  \n",
       "  0.182213  -0.324979   0.209806   0.509437   0.608504   -0.432857  \n",
       " -0.677689   0.544671   0.209109   0.306396  -0.0625888  -0.320232  \n",
       " -0.2075    -0.419425   0.740971  -0.419246  -0.177878   -0.156783  "
      ]
     },
     "execution_count": 76,
     "metadata": {},
     "output_type": "execute_result"
    }
   ],
   "source": [
    "U"
   ]
  },
  {
   "cell_type": "code",
   "execution_count": 77,
   "metadata": {
    "collapsed": false
   },
   "outputs": [
    {
     "data": {
      "text/plain": [
       "6×6 Array{Float64,2}:\n",
       "  0.0          -3.55271e-15   1.06581e-14  …   6.21725e-15  -1.24345e-14\n",
       " -3.55271e-15   3.37508e-14   3.55271e-15     -1.06581e-14   8.88178e-15\n",
       "  1.06581e-14   3.55271e-15   1.77636e-14      3.55271e-15  -8.88178e-16\n",
       "  8.88178e-16  -1.95399e-14   5.32907e-15      1.77636e-14   7.10543e-15\n",
       "  4.44089e-15  -1.06581e-14   7.10543e-15      8.88178e-15  -2.66454e-15\n",
       " -1.33227e-14   8.88178e-15  -8.88178e-16  …  -2.22045e-15  -3.73035e-14"
      ]
     },
     "execution_count": 77,
     "metadata": {},
     "output_type": "execute_result"
    }
   ],
   "source": [
    "A-sum([λ[i]*U[:,i]*U[:,i]' for i=1:n])"
   ]
  },
  {
   "cell_type": "code",
   "execution_count": 78,
   "metadata": {
    "collapsed": false
   },
   "outputs": [
    {
     "data": {
      "text/plain": [
       "3-element Array{Int64,1}:\n",
       " 3\n",
       " 3\n",
       " 0"
      ]
     },
     "execution_count": 78,
     "metadata": {},
     "output_type": "execute_result"
    }
   ],
   "source": [
    "inertia(A)"
   ]
  },
  {
   "cell_type": "code",
   "execution_count": 79,
   "metadata": {
    "collapsed": false
   },
   "outputs": [
    {
     "data": {
      "text/plain": [
       "3-element Array{Int64,1}:\n",
       " 3\n",
       " 3\n",
       " 0"
      ]
     },
     "execution_count": 79,
     "metadata": {},
     "output_type": "execute_result"
    }
   ],
   "source": [
    "C=rand(n,n)\n",
    "inertia(C'*A*C)"
   ]
  },
  {
   "cell_type": "markdown",
   "metadata": {},
   "source": [
    "## Positive definite matrices\n",
    "\n",
    "These matrices are an important subset of Hermitian or real symmteric matrices.\n",
    "\n",
    "### Definitions\n",
    "\n",
    "Matrix $A\\in\\mathcal{H}_n$ is __positive definite__ (PD) if $x^*Ax>0$ for all nonzero $x\\in\\mathbb{C}^n$.\n",
    "\n",
    "Matrix $A\\in\\mathcal{H}_n$ is __positive semidefinite__ (PSD) if $x^*Ax\\geq 0$ for all nonzero $x\\in\\mathbb{C}^n$.\n",
    "\n",
    "### Facts\n",
    "\n",
    "1. $A\\in\\mathcal{S}_n$ is PD if $x^TAx>0$ for all nonzero $x\\in \\mathbb{R}^n$, and is PSD if $x^TAx\\geq 0$ for all $x\\in \\mathbb{R}^n$.\n",
    " \n",
    "2. If $A,B\\in \\mathrm{PSD}_n$, then $A+B\\in \\mathrm{PSD}_n$. If, in addition, $A\\in \\mathrm{PD}_n$, then $A+B\\in \\mathrm{PD}_n$.\n",
    "\n",
    "3. If $A\\in \\mathrm{PD}_n$, then $\\mathop{\\mathrm{tr}}(A)>0$ and $\\det(A)>0$. \n",
    "\n",
    "3. If $A\\in \\mathrm{PSD}_n$, then $\\mathop{\\mathrm{tr}}(A)\\geq 0$ and $\\det(A)\\geq 0$.\n",
    "\n",
    "4. Any principal submatrix of a PD matrix is PD. Any principal submatrix of a PSD matrix is PSD. Consequently, all minors are positive or nonnegative, respectively.\n",
    "\n",
    "5. $A\\in\\mathcal{H}_n$ is PD iff _every leading_ principal minor of $A$ is positive. $A\\in\\mathcal{H}_n$ is PSD iff\n",
    "_every_ principal minor is nonnegative.\n",
    "\n",
    "6. For $A\\in \\mathrm{PSD}_n$, there exists unique PSD $k$-th __root__, $A^{1/k}=U\\Lambda^{1/k} U^*$.\n",
    "\n",
    "7. _(Cholesky Factorization)_ $A\\in\\mathcal{H}_n$ if PD iff there is an invertible lower triangular matrix $L$ with positive diagonal entries such that $A=LL^*$.\n",
    "\n",
    "8. Gram matrix is PSD. If the vectors are linearly independent, Gram matrix is PD."
   ]
  },
  {
   "cell_type": "markdown",
   "metadata": {},
   "source": [
    "### Example - Positive definite matrix"
   ]
  },
  {
   "cell_type": "code",
   "execution_count": 80,
   "metadata": {
    "collapsed": false
   },
   "outputs": [
    {
     "data": {
      "text/plain": [
       "5×5 Array{Complex{Float64},2}:\n",
       " 2.82909+0.0im        1.75652+0.585726im  …  2.76127+0.0844252im\n",
       " 1.75652-0.585726im   2.53462+0.0im          2.54745-0.288796im \n",
       " 2.25759-0.98831im    2.28984-0.192925im      2.4855-0.780352im \n",
       " 2.14228+0.0820993im  1.79987+0.23922im       2.6684-0.240113im \n",
       " 2.76127-0.0844252im  2.54745+0.288796im     3.70096+0.0im      "
      ]
     },
     "execution_count": 80,
     "metadata": {},
     "output_type": "execute_result"
    }
   ],
   "source": [
    "# Generating positive definite matrix as a Gram matrix\n",
    "n=5\n",
    "A=rand(n,n)+im*rand(n,n)\n",
    "A=A*A'"
   ]
  },
  {
   "cell_type": "code",
   "execution_count": 81,
   "metadata": {
    "collapsed": false
   },
   "outputs": [
    {
     "data": {
      "text/plain": [
       "true"
      ]
     },
     "execution_count": 81,
     "metadata": {},
     "output_type": "execute_result"
    }
   ],
   "source": [
    "ishermitian(A)"
   ]
  },
  {
   "cell_type": "code",
   "execution_count": 82,
   "metadata": {
    "collapsed": false
   },
   "outputs": [
    {
     "data": {
      "text/plain": [
       "5-element Array{Float64,1}:\n",
       "  0.00345874\n",
       "  0.215856  \n",
       "  0.835916  \n",
       "  1.6312    \n",
       " 12.5731    "
      ]
     },
     "execution_count": 82,
     "metadata": {},
     "output_type": "execute_result"
    }
   ],
   "source": [
    "eigvals(A)"
   ]
  },
  {
   "cell_type": "code",
   "execution_count": 83,
   "metadata": {
    "collapsed": false
   },
   "outputs": [
    {
     "data": {
      "text/plain": [
       "5-element Array{Complex{Float64},1}:\n",
       "            2.82909+0.0im\n",
       "            3.74222+0.0im\n",
       "   4.39757+5.55112e-17im \n",
       "   1.15952+1.46368e-17im \n",
       " 0.0127996+7.28584e-17im "
      ]
     },
     "execution_count": 83,
     "metadata": {},
     "output_type": "execute_result"
    }
   ],
   "source": [
    "# Positivity of principal leading minors\n",
    "[det(A[1:i,1:i]) for i=1:n]"
   ]
  },
  {
   "cell_type": "code",
   "execution_count": 84,
   "metadata": {
    "collapsed": false
   },
   "outputs": [
    {
     "data": {
      "text/plain": [
       "5×5 Array{Complex{Float64},2}:\n",
       " 1.33227e-15-2.77556e-17im  …  8.88178e-16-1.38778e-17im \n",
       " 6.66134e-16-6.66134e-16im     8.88178e-16-2.22045e-16im \n",
       " 1.33227e-15-6.66134e-16im     8.88178e-16-2.22045e-16im \n",
       " 8.88178e-16+7.07767e-16im     1.33227e-15+1.94289e-16im \n",
       " 4.44089e-16-5.55112e-17im              8.88178e-16+0.0im"
      ]
     },
     "execution_count": 84,
     "metadata": {},
     "output_type": "execute_result"
    }
   ],
   "source": [
    "# Square root\n",
    "λ,U=eig(A)\n",
    "Ar=U*diagm(sqrt(λ))*U'\n",
    "A-Ar*Ar"
   ]
  },
  {
   "cell_type": "code",
   "execution_count": 85,
   "metadata": {
    "collapsed": false
   },
   "outputs": [
    {
     "data": {
      "text/plain": [
       "5×5 UpperTriangular{Complex{Float64},Array{Complex{Float64},2}}:\n",
       " 1.68199+0.0im  1.04431+0.348234im  …    1.64167+0.0501936im\n",
       "         ⋅      1.15011+0.0im           0.709113+0.200389im \n",
       "         ⋅              ⋅              -0.163318+0.0245362im\n",
       "         ⋅              ⋅               0.505167-0.408484im \n",
       "         ⋅              ⋅               0.105065+0.0im      "
      ]
     },
     "execution_count": 85,
     "metadata": {},
     "output_type": "execute_result"
    }
   ],
   "source": [
    "# Cholesky factorization - the upper triangular factor is returned\n",
    "L=chol(A)"
   ]
  },
  {
   "cell_type": "code",
   "execution_count": 86,
   "metadata": {
    "collapsed": false
   },
   "outputs": [
    {
     "data": {
      "text/plain": [
       "7.815521799364256e-16"
      ]
     },
     "execution_count": 86,
     "metadata": {},
     "output_type": "execute_result"
    }
   ],
   "source": [
    "norm(A-L'*L)"
   ]
  },
  {
   "cell_type": "markdown",
   "metadata": {},
   "source": [
    "### Example - Positive semidefinite matrix"
   ]
  },
  {
   "cell_type": "code",
   "execution_count": 87,
   "metadata": {
    "collapsed": false
   },
   "outputs": [
    {
     "data": {
      "text/plain": [
       "6×4 Array{Int64,2}:\n",
       " -3  -2   1   8\n",
       "  4   8  -4  -8\n",
       " -5  -6  -1   3\n",
       " -1  -7   3   4\n",
       " -4   4  -6   9\n",
       " -8  -1  -8   3"
      ]
     },
     "execution_count": 87,
     "metadata": {},
     "output_type": "execute_result"
    }
   ],
   "source": [
    "# Generating positive semidefinite matrix as a Gram matrix, try it several times\n",
    "n=6\n",
    "m=4\n",
    "A=rand(-9:9,n,m)"
   ]
  },
  {
   "cell_type": "code",
   "execution_count": 88,
   "metadata": {
    "collapsed": false
   },
   "outputs": [
    {
     "data": {
      "text/plain": [
       "6×6 Array{Int64,2}:\n",
       "  78   -96   50    52   70   42\n",
       " -96   160  -88  -104  -32  -32\n",
       "  50   -88   71    56   29   63\n",
       "  52  -104   56    75   -6    3\n",
       "  70   -32   29    -6  149  103\n",
       "  42   -32   63     3  103  138"
      ]
     },
     "execution_count": 88,
     "metadata": {},
     "output_type": "execute_result"
    }
   ],
   "source": [
    "A=A*A'"
   ]
  },
  {
   "cell_type": "code",
   "execution_count": 89,
   "metadata": {
    "collapsed": false
   },
   "outputs": [
    {
     "data": {
      "text/plain": [
       "6-element Array{Float64,1}:\n",
       "  -7.35886e-15\n",
       "   2.04317e-14\n",
       "   1.97961    \n",
       "  64.539      \n",
       " 209.206      \n",
       " 395.275      "
      ]
     },
     "execution_count": 89,
     "metadata": {},
     "output_type": "execute_result"
    }
   ],
   "source": [
    "# There are rounding errors!\n",
    "eigvals(A)"
   ]
  },
  {
   "cell_type": "code",
   "execution_count": 90,
   "metadata": {
    "collapsed": false
   },
   "outputs": [
    {
     "data": {
      "text/html": [
       "rank(A::<b>AbstractArray{T<:Any,2}</b>) at <a href=\"https://github.com/JuliaLang/julia/tree/6445c82d0060dbe82b88436f0f4371a4ee64d918/base/linalg/generic.jl#L308\" target=\"_blank\">linalg/generic.jl:308</a>"
      ],
      "text/plain": [
       "rank(A::AbstractArray{T<:Any,2}) at linalg/generic.jl:308"
      ]
     },
     "execution_count": 90,
     "metadata": {},
     "output_type": "execute_result"
    }
   ],
   "source": [
    "@which rank(A)"
   ]
  },
  {
   "cell_type": "code",
   "execution_count": 91,
   "metadata": {
    "collapsed": false
   },
   "outputs": [
    {
     "ename": "LoadError",
     "evalue": "Base.LinAlg.PosDefException(6)",
     "output_type": "error",
     "traceback": [
      "Base.LinAlg.PosDefException(6)",
      "",
      " in _chol!(::Array{Float64,2}, ::Type{UpperTriangular}) at ./linalg/cholesky.jl:55",
      " in chol!(::Hermitian{Float64,Array{Float64,2}}) at ./linalg/cholesky.jl:124",
      " in chol(::Hermitian{Int64,Array{Int64,2}}) at ./linalg/cholesky.jl:145",
      " in chol(::Array{Int64,2}) at ./linalg/cholesky.jl:167"
     ]
    }
   ],
   "source": [
    "# Cholesky factorization - this can fail\n",
    "L=chol(A)"
   ]
  },
  {
   "cell_type": "markdown",
   "metadata": {},
   "source": [
    "### Example - Covariance and correlation matrices \n",
    "\n",
    "[Covariance and correlation matrices](https://en.wikipedia.org/wiki/Covariance_matrix) are PSD.\n",
    "\n",
    "Correlation matrix is diagonally scaled covariance matrix."
   ]
  },
  {
   "cell_type": "code",
   "execution_count": 92,
   "metadata": {
    "collapsed": false
   },
   "outputs": [
    {
     "data": {
      "text/plain": [
       "10×5 Array{Float64,2}:\n",
       " 0.569831   0.632067   0.851115  0.478397   0.952154\n",
       " 0.892138   0.539856   0.883027  0.261322   0.292749\n",
       " 0.636383   0.441635   0.255677  0.841009   0.277352\n",
       " 0.0563273  0.799821   0.561393  0.343341   0.599379\n",
       " 0.705302   0.795369   0.175034  0.679189   0.277166\n",
       " 0.645198   0.0109015  0.866785  0.658113   0.208469\n",
       " 0.951813   0.788371   0.69451   0.914396   0.436035\n",
       " 0.951154   0.737863   0.862087  0.385466   0.205167\n",
       " 0.0991314  0.645094   0.588053  0.863145   0.393721\n",
       " 0.719353   0.6014     0.650913  0.0266536  0.689451"
      ]
     },
     "execution_count": 92,
     "metadata": {},
     "output_type": "execute_result"
    }
   ],
   "source": [
    "x=rand(10,5)"
   ]
  },
  {
   "cell_type": "code",
   "execution_count": 93,
   "metadata": {
    "collapsed": false
   },
   "outputs": [
    {
     "data": {
      "text/plain": [
       "5×5 Array{Float64,2}:\n",
       "  0.100372    -0.00517263   0.0199349  -0.00983511  -0.0231115\n",
       " -0.00517263   0.0568199   -0.0165089  -0.00571719   0.0169505\n",
       "  0.0199349   -0.0165089    0.0644709  -0.0283479    0.0109113\n",
       " -0.00983511  -0.00571719  -0.0283479   0.0862001   -0.0254093\n",
       " -0.0231115    0.0169505    0.0109113  -0.0254093    0.0594472"
      ]
     },
     "execution_count": 93,
     "metadata": {},
     "output_type": "execute_result"
    }
   ],
   "source": [
    "A=cov(x)"
   ]
  },
  {
   "cell_type": "code",
   "execution_count": 94,
   "metadata": {
    "collapsed": false
   },
   "outputs": [
    {
     "data": {
      "text/plain": [
       "5×5 Array{Float64,2}:\n",
       " 0.0           0.0           3.46945e-18   0.0           0.0        \n",
       " 0.0           0.0          -3.46945e-18   0.0           0.0        \n",
       " 3.46945e-18  -3.46945e-18   0.0           0.0           0.0        \n",
       " 0.0           0.0           0.0           0.0          -3.46945e-18\n",
       " 0.0           0.0           0.0          -3.46945e-18   0.0        "
      ]
     },
     "execution_count": 94,
     "metadata": {},
     "output_type": "execute_result"
    }
   ],
   "source": [
    "# Covariance matrix is a Gram matrix\n",
    "(x.-mean(x,1))'*(x.-mean(x,1))/9-A"
   ]
  },
  {
   "cell_type": "code",
   "execution_count": 95,
   "metadata": {
    "collapsed": false
   },
   "outputs": [
    {
     "data": {
      "text/plain": [
       "5×5 Array{Float64,2}:\n",
       "  1.0        -0.0684943   0.247813  -0.105735   -0.299196\n",
       " -0.0684943   1.0        -0.272763  -0.0816919   0.291654\n",
       "  0.247813   -0.272763    1.0       -0.380264    0.17625 \n",
       " -0.105735   -0.0816919  -0.380264   1.0        -0.354955\n",
       " -0.299196    0.291654    0.17625   -0.354955    1.0     "
      ]
     },
     "execution_count": 95,
     "metadata": {},
     "output_type": "execute_result"
    }
   ],
   "source": [
    "B=cor(x)"
   ]
  },
  {
   "cell_type": "code",
   "execution_count": 96,
   "metadata": {
    "collapsed": false
   },
   "outputs": [
    {
     "data": {
      "text/plain": [
       "5-element Array{Float64,1}:\n",
       " 3.15641\n",
       " 4.19517\n",
       " 3.93839\n",
       " 3.40601\n",
       " 4.10142"
      ]
     },
     "execution_count": 96,
     "metadata": {},
     "output_type": "execute_result"
    }
   ],
   "source": [
    "# Diagonal scaling\n",
    "D=1./sqrt(diag(A))"
   ]
  },
  {
   "cell_type": "code",
   "execution_count": 97,
   "metadata": {
    "collapsed": false
   },
   "outputs": [
    {
     "data": {
      "text/plain": [
       "5×5 Array{Float64,2}:\n",
       "  1.0        -0.0684943   0.247813  -0.105735   -0.299196\n",
       " -0.0684943   1.0        -0.272763  -0.0816919   0.291654\n",
       "  0.247813   -0.272763    1.0       -0.380264    0.17625 \n",
       " -0.105735   -0.0816919  -0.380264   1.0        -0.354955\n",
       " -0.299196    0.291654    0.17625   -0.354955    1.0     "
      ]
     },
     "execution_count": 97,
     "metadata": {},
     "output_type": "execute_result"
    }
   ],
   "source": [
    "diagm(D)*A*diagm(D)"
   ]
  },
  {
   "cell_type": "code",
   "execution_count": 98,
   "metadata": {
    "collapsed": false
   },
   "outputs": [
    {
     "data": {
      "text/plain": [
       "5-element Array{Float64,1}:\n",
       " 0.0241858\n",
       " 0.0388824\n",
       " 0.066356 \n",
       " 0.113423 \n",
       " 0.124463 "
      ]
     },
     "execution_count": 98,
     "metadata": {},
     "output_type": "execute_result"
    }
   ],
   "source": [
    "eigvals(A)"
   ]
  },
  {
   "cell_type": "code",
   "execution_count": 99,
   "metadata": {
    "collapsed": false
   },
   "outputs": [
    {
     "data": {
      "text/plain": [
       "5-element Array{Float64,1}:\n",
       " 0.37606 \n",
       " 0.528602\n",
       " 0.95526 \n",
       " 1.51628 \n",
       " 1.6238  "
      ]
     },
     "execution_count": 99,
     "metadata": {},
     "output_type": "execute_result"
    }
   ],
   "source": [
    "eigvals(B)"
   ]
  },
  {
   "cell_type": "code",
   "execution_count": 100,
   "metadata": {
    "collapsed": false
   },
   "outputs": [
    {
     "data": {
      "text/plain": [
       "10×10 Array{Float64,2}:\n",
       "  0.0392576    0.00149369  -0.0456441   …  -0.0128373    0.0351617\n",
       "  0.00149369   0.0936862   -0.0185339      -0.0472287    0.0519286\n",
       " -0.0456441   -0.0185339    0.0617749       0.015925    -0.0536673\n",
       "  0.0264945   -0.0278516   -0.0424741       0.0404505    0.0101438\n",
       " -0.0478399   -0.00963154   0.0505355       0.0045856   -0.0265129\n",
       " -0.00979008   0.0521934    0.0191254   …  -0.0016253   -0.0220786\n",
       " -0.0381862    0.0206632    0.0412857       0.00305554  -0.0247078\n",
       " -0.0167554    0.0915382   -0.00201968     -0.0340392    0.0379957\n",
       " -0.0128373   -0.0472287    0.015925        0.0827703   -0.0638267\n",
       "  0.0351617    0.0519286   -0.0536673      -0.0638267    0.0835174"
      ]
     },
     "execution_count": 100,
     "metadata": {},
     "output_type": "execute_result"
    }
   ],
   "source": [
    "C=cov(x')"
   ]
  },
  {
   "cell_type": "code",
   "execution_count": 101,
   "metadata": {
    "collapsed": false
   },
   "outputs": [
    {
     "data": {
      "text/plain": [
       "10-element Array{Float64,1}:\n",
       " -2.035e-17  \n",
       " -1.01412e-17\n",
       "  6.12283e-18\n",
       "  1.62659e-17\n",
       "  3.85578e-17\n",
       "  4.70188e-17\n",
       "  0.0855204  \n",
       "  0.142546   \n",
       "  0.263679   \n",
       "  0.298312   "
      ]
     },
     "execution_count": 101,
     "metadata": {},
     "output_type": "execute_result"
    }
   ],
   "source": [
    "eigvals(C)"
   ]
  },
  {
   "cell_type": "code",
   "execution_count": 102,
   "metadata": {
    "collapsed": false
   },
   "outputs": [
    {
     "data": {
      "text/plain": [
       "3-element Array{Int64,1}:\n",
       " 8\n",
       " 2\n",
       " 0"
      ]
     },
     "execution_count": 102,
     "metadata": {},
     "output_type": "execute_result"
    }
   ],
   "source": [
    "inertia(C)"
   ]
  },
  {
   "cell_type": "code",
   "execution_count": 103,
   "metadata": {
    "collapsed": false
   },
   "outputs": [
    {
     "data": {
      "text/html": [
       "rank(A::<b>AbstractArray{T<:Any,2}</b>) at <a href=\"https://github.com/JuliaLang/julia/tree/6445c82d0060dbe82b88436f0f4371a4ee64d918/base/linalg/generic.jl#L308\" target=\"_blank\">linalg/generic.jl:308</a>"
      ],
      "text/plain": [
       "rank(A::AbstractArray{T<:Any,2}) at linalg/generic.jl:308"
      ]
     },
     "execution_count": 103,
     "metadata": {},
     "output_type": "execute_result"
    }
   ],
   "source": [
    "@which rank(C)"
   ]
  },
  {
   "cell_type": "markdown",
   "metadata": {},
   "source": [
    "Explain the function `rank()`."
   ]
  },
  {
   "cell_type": "code",
   "execution_count": null,
   "metadata": {
    "collapsed": true
   },
   "outputs": [],
   "source": []
  }
 ],
 "metadata": {
  "anaconda-cloud": {},
  "kernelspec": {
   "display_name": "Julia 0.5.1",
   "language": "julia",
   "name": "julia-0.5"
  },
  "language_info": {
   "file_extension": ".jl",
   "mimetype": "application/julia",
   "name": "julia",
   "version": "0.5.1"
  }
 },
 "nbformat": 4,
 "nbformat_minor": 0
}
