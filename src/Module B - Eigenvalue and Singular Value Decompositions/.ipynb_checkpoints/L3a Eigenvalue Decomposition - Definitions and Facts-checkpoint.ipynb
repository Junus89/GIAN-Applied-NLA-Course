{
 "cells": [
  {
   "cell_type": "markdown",
   "metadata": {},
   "source": [
    "# Eigenvalue Decomposition - Definitions and Facts\n",
    "\n",
    "---\n",
    "\n",
    "## Prerequisites\n",
    "\n",
    "The reader should be familiar with basic linear algebra concepts. \n",
    "\n",
    " \n",
    "## Competences \n",
    "\n",
    "The reader should be able to undestand and check the facts about eigenvalue decomposition.\n",
    "\n",
    "## Selected references\n",
    "\n",
    "There are many excellent books on the subject. Here we list a few:\n",
    "\n",
    "[J. W. Demmel, Applied Numerical Linear Algebra][Dem97]\n",
    "\n",
    "[G. H. Golub and C. F. Van Loan, Matrix Computations][GV13]\n",
    "\n",
    "[N. Higham, Accuracy and Stability of Numerical Algorithms][Hig02]\n",
    "\n",
    "[L. Hogben, ed., Handbook of Linear Algebra][Hog14]\n",
    "\n",
    "[B. N. Parlett, The Symmetric Eigenvalue Problem][Par80]\n",
    "\n",
    "[G. W. Stewart, Matrix Algorithms, Vol. II: Eigensystems][Ste01]\n",
    "\n",
    "[L. N. Trefethen and D. Bau, III, Numerical Linear Algebra][TB97]\n",
    "\n",
    "[J. H. Wilkinson, The Algebraic Eigenvalue Problem][Wil65]\n",
    "\n",
    "\n",
    "[Dem97]: #1 \"J.W. Demmel, 'Applied Numerical Linear Algebra', SIAM, Philadelphia, 1997.\"\n",
    "  \n",
    "[GV13]: #1 \"G. H. Golub and C. F. Van Loan, 'Matrix Computations', 4th ed., The John Hopkins University Press, Baltimore, MD, 2013.\"\n",
    "  \n",
    "[Hig02]: #1 \"N. Higham, 'Accuracy and Stability of Numerical Algorithms', SIAM, Philadelphia, 2nd ed., 2002.\"\n",
    "    \n",
    "[Hog14]: #1 \"L. Hogben, ed., 'Handbook of Linear Algebra', CRC Press, Boca Raton, 2014.\"\n",
    "\n",
    "[Par80]: #1 \"B. N. Parlett, 'The Symmetric Eigenvalue Problem', Prentice-Hall, Englewood Cliffs, NJ, 1980, also SIAM, Philadelphia, 1998.\"\n",
    "\n",
    "[Ste01]: #1 \"G. W. Stewart, 'Matrix Algorithms, Vol. II: Eigensystems', SIAM, Philadelphia, 2001.\" \n",
    "\n",
    "[TB97]: #1 \"L. N. Trefethen and D. Bau, III, 'Numerical Linear Algebra', SIAM, Philadelphia, 1997.\"\n",
    "\n",
    "[Wil65]: #1 \"J. H. Wilkinson, 'The Algebraic Eigenvalue Problem', Clarendon Press, Oxford, U.K.,  1965.\"\n",
    "    \n",
    "\n",
    "---"
   ]
  },
  {
   "cell_type": "markdown",
   "metadata": {},
   "source": [
    "## General matrices\n",
    "\n",
    "For more details and the proofs of the Facts below, see \n",
    "[L. M. DeAlba, Determinants and Eigenvalues][Hog14] and the references therein.\n",
    "\n",
    "[Hog14]: #1 \"L. Hogben, ed., 'Handbook of Linear Algebra', pp. 4.1-4.15, CRC Press, Boca Raton, 2014.\"\n",
    "\n",
    "### Definitions\n",
    "\n",
    "We state the basic definitions:\n",
    "\n",
    "Let $F=\\mathbb{R}$ or $F=\\mathbb{C}$ and let $A\\in F^{n\\times n}$ with elements $a_{ij}\\in F$.\n",
    "\n",
    "An element $\\lambda \\in F$ is an __eigenvalue__ of $A$ if\n",
    "$\\exists x\\in F$, $x\\neq 0$ such that\n",
    "\n",
    "$$\n",
    "Ax=\\lambda x,\n",
    "$$\n",
    "and $x$ is an __eigenvector__ of $\\lambda$.\n",
    "\n",
    "__Characteristic polynomial__ of $A$ is $p_A(x)=\\det(A-xI)$.\n",
    "\n",
    "__Algebraic multiplicty__, $\\alpha(\\lambda)$, is the multiplicity of $\\lambda$ as a root of $p_A(x)$.\n",
    "\n",
    "__Spectrum of $A$__, $\\sigma(A)$, is the multiset of all eigenvalues of $A$, with each eigenvalue appearing $\\alpha(A)$ times.\n",
    "\n",
    "__Spectral radius__ of $A$ is \n",
    "$$\\rho(A)=\\max\\{|\\lambda|, \\lambda \\in \\sigma(A)\\}.\n",
    "$$\n",
    "\n",
    "__Eigenspace__ of $\\lambda$ is \n",
    "\n",
    "$$\n",
    "E_{\\lambda}(A)=\\ker(A-\\lambda I).\n",
    "$$\n",
    "\n",
    "__Geometric multiplicity__ of $\\lambda$ is \n",
    "$$\\gamma(\\lambda)=\\dim(E_{\\lambda}(A)).\n",
    "$$\n",
    "\n",
    "$\\lambda$ is __simple__ if $\\alpha(\\lambda)=1$.\n",
    "\n",
    "$\\lambda$ is __semisimple__ if $\\alpha(\\lambda)=\\gamma(\\lambda)$.\n",
    "\n",
    "$A$ is __nonderogatory__ if $\\gamma(\\lambda)=1$ for all $\\lambda$.\n",
    "\n",
    "$A$ is __nondefective__ if every $\\lambda$ is semisimple.\n",
    "\n",
    "$A$ is __diagonalizable__ if there exists nonsingular $B$ matrix and diagonal matrix $D$ such that\n",
    "$A=BDB^{-1}$.\n",
    "\n",
    "__Trace__ of $A$ is \n",
    "$$\\mathop{\\mathrm{tr}}(A)=\\sum_i a_{ii}.$$\n",
    "\n",
    "$Q\\in\\mathbb{C}^{n\\times n}$ is __unitary__ if $Q^*Q=QQ^*=I$,\n",
    "where $Q^*=(\\bar Q)^T$.\n",
    "\n",
    "__Schur decomposition__ of $A$ is $A=QTQ^*$,\n",
    "where $Q$ is unitary and $T$ is upper triangular.\n",
    "\n",
    "$A$ and $B$ are __similar__ if $B=QAQ^{-1}$ for some nonsingular matrix $Q$.\n",
    "\n",
    "$A$ is __normal__ if $AA^*=A^*A$. "
   ]
  },
  {
   "cell_type": "markdown",
   "metadata": {},
   "source": [
    "### Facts\n",
    "\n",
    "There are many facts related to the eigenvalue problem for general matrices. We state some basic ones:\n",
    "\n",
    "1. $\\lambda\\in\\sigma(A) \\Leftrightarrow p_A(\\lambda)=0$.\n",
    "\n",
    "1. $p_A(A)=0$. _(Cayley-Hamilton Theorem)_\n",
    "\n",
    "2. A simple eigenvalue is semisimple.\n",
    "\n",
    "3. $\\mathop{\\mathrm{tr}}(A)=\\sum_{i=1}^n \\lambda_i$.\n",
    "\n",
    "4. $\\det(A)=\\prod_{i=1}^n \\lambda_i$.\n",
    "\n",
    "5. $A$ is singular $\\Leftrightarrow$ $\\det(A)=0$ $\\Leftrightarrow$ $0\\in\\sigma(A)$.\n",
    "\n",
    "7. If $A$ is triangular, $\\sigma(A)=\\{a_{11},a_{22},\\ldots,a_{nn}\\}$.\n",
    "\n",
    "6. For $A\\in\\mathbb{C}^{n\\times n}$, $\\lambda\\in\\sigma(A)$ $\\Leftrightarrow$ $\\bar\\lambda\\in\\sigma(A^*)$.\n",
    "\n",
    "8. For $A\\in\\mathbb{R}^{n\\times n}$, $\\lambda\\in\\sigma(A)$ $\\Leftrightarrow$ $\\bar\\lambda\\in\\sigma(A)$. _(Corollary of the Fundamental theorem of algebra)_\n",
    "\n",
    "9. If $(\\lambda,x)$ is an eigenpair of a nonsingular $A$, then $(1/\\lambda,x)$ is an eigenpair of $A^{-1}$.\n",
    "\n",
    "10. Eigenvectors corresponding to distinct eigenvalues are linearly independent.\n",
    "\n",
    "11. $A$ is diagonalizable $\\Leftrightarrow$ $A$ is nondefective $\\Leftrightarrow$ $A$ has $n$ linearly independent eigenvectors. \n",
    "\n",
    "12. Every $A$ has Schur decomposition. Moreover, $T_{ii}=\\lambda_i$.\n",
    "\n",
    "14. If $A$ is normal, matrix $T$ from its Schur decomposition is normal. Consequently:\n",
    "    * $T$ is diagonal, and has eigenvalues of $A$ on diagonal,\n",
    "    * matrix $Q$ of the Schur decomposition is the unitary matrix of eigenvectors,\n",
    "    * all eigenvalues of $A$ are semisimple and $A$ is nondefective.\n",
    "\n",
    "13. If $A$ and $B$ are similar, $\\sigma(A)=\\sigma(B)$. Consequently, $\\mathop{\\mathrm{tr}}(A)=\\mathop{\\mathrm{tr}}(B)$ and $\\det(A)=\\det(B)$.\n",
    "\n",
    "11. Eigenvalues and eigenvectors are continous and differentiable: if $\\lambda$ is a simple eigenvalue of $A$ and $A(\\varepsilon)=A+\\varepsilon E$ for some $E\\in F^{n\\times n}$, for small $\\varepsilon$ there exist differentiable functions $\\lambda(\\varepsilon)$ and $x(\\varepsilon)$ such that\n",
    "$$\n",
    "A(\\varepsilon) x(\\varepsilon) = \\lambda(\\varepsilon) x(\\varepsilon).\n",
    "$$\n",
    "\n",
    "15. Classical motivation for the eigenvalue problem is the following: consider the system of linear differential equations with constant coefficients,\n",
    "$$ \\dot y(t)=Ay(t).$$ If the solution is $y=e^{\\lambda t} x$ for some constant vector $x$, then\n",
    "$\\lambda e^{\\lambda t} x=Ae^{\\lambda t} x$, or $Ax=\\lambda x$.\n"
   ]
  },
  {
   "cell_type": "markdown",
   "metadata": {},
   "source": [
    "### Examples\n",
    "\n",
    "We shall illustrate above Definitions and Facts on several small examples, using symbolic computation:"
   ]
  },
  {
   "cell_type": "code",
   "execution_count": 1,
   "metadata": {
    "collapsed": false
   },
   "outputs": [],
   "source": [
    "using SymPy"
   ]
  },
  {
   "cell_type": "code",
   "execution_count": 2,
   "metadata": {
    "collapsed": false
   },
   "outputs": [
    {
     "data": {
      "text/plain": [
       "3x3 Array{Int64,2}:\n",
       " -3    7  -1\n",
       "  6    8  -2\n",
       " 72  -28  19"
      ]
     },
     "execution_count": 2,
     "metadata": {},
     "output_type": "execute_result"
    }
   ],
   "source": [
    "A=[-3 7 -1; 6 8 -2; 72 -28 19]"
   ]
  },
  {
   "cell_type": "code",
   "execution_count": 3,
   "metadata": {
    "collapsed": false
   },
   "outputs": [
    {
     "data": {
      "text/plain": [
       "(x,)"
      ]
     },
     "execution_count": 3,
     "metadata": {},
     "output_type": "execute_result"
    }
   ],
   "source": [
    "@vars x"
   ]
  },
  {
   "cell_type": "code",
   "execution_count": 4,
   "metadata": {
    "collapsed": false
   },
   "outputs": [
    {
     "data": {
      "text/latex": [
       "\\begin{bmatrix}- x - 3&7&-1\\\\6&- x + 8&-2\\\\72&-28&- x + 19\\end{bmatrix}"
      ],
      "text/plain": [
       "3x3 Array{SymPy.Sym,2}\n",
       "[-x - 3    7       -1   ]\n",
       "[                       ]\n",
       "[  6     -x + 8    -2   ]\n",
       "[                       ]\n",
       "[  72     -28    -x + 19]"
      ]
     },
     "execution_count": 4,
     "metadata": {},
     "output_type": "execute_result"
    }
   ],
   "source": [
    "A-x*I"
   ]
  },
  {
   "cell_type": "code",
   "execution_count": 5,
   "metadata": {
    "collapsed": false
   },
   "outputs": [
    {
     "data": {
      "text/latex": [
       "$$\\left(- x - 3\\right) \\left(- x + 8 - \\frac{42}{- x - 3}\\right) \\left(- x - \\frac{\\left(-28 - \\frac{504}{- x - 3}\\right) \\left(-2 + \\frac{6}{- x - 3}\\right)}{- x + 8 - \\frac{42}{- x - 3}} + 19 + \\frac{72}{- x - 3}\\right)$$"
      ],
      "text/plain": [
       "                           /     /       504  \\ /       6   \\              \\\n",
       "                           |     |-28 - ------|*|-2 + ------|              |\n",
       "         /           42  \\ |     \\      -x - 3/ \\     -x - 3/          72  |\n",
       "(-x - 3)*|-x + 8 - ------|*|-x - ---------------------------- + 19 + ------|\n",
       "         \\         -x - 3/ |                      42                 -x - 3|\n",
       "                           |           -x + 8 - ------                     |\n",
       "                           \\                    -x - 3                     /"
      ]
     },
     "execution_count": 5,
     "metadata": {},
     "output_type": "execute_result"
    }
   ],
   "source": [
    "# Characteristic polynomial p_A(λ)\n",
    "p(x)=det(A-x*I)\n",
    "p(x)"
   ]
  },
  {
   "cell_type": "code",
   "execution_count": 6,
   "metadata": {
    "collapsed": false
   },
   "outputs": [
    {
     "data": {
      "text/latex": [
       "$$- \\left(x - 15\\right)^{2} \\left(x + 6\\right)$$"
      ],
      "text/plain": [
       "         2        \n",
       "-(x - 15) *(x + 6)"
      ]
     },
     "execution_count": 6,
     "metadata": {},
     "output_type": "execute_result"
    }
   ],
   "source": [
    "# Characteristic polynomial in nicer form\n",
    "p(x)=factor(det(A-x*I))\n",
    "p(x)"
   ]
  },
  {
   "cell_type": "code",
   "execution_count": 7,
   "metadata": {
    "collapsed": false
   },
   "outputs": [
    {
     "data": {
      "text/latex": [
       "\\begin{bmatrix}-6\\\\15\\end{bmatrix}"
      ],
      "text/plain": [
       "2-element Array{SymPy.Sym,1}\n",
       "[-6]\n",
       "[  ]\n",
       "[15]"
      ]
     },
     "execution_count": 7,
     "metadata": {},
     "output_type": "execute_result"
    }
   ],
   "source": [
    "λ=solve(p(x),x)"
   ]
  },
  {
   "cell_type": "markdown",
   "metadata": {},
   "source": [
    "The eigenvalues are $\\lambda_1=-6$ and $\\lambda_2=15$ with algebraic multiplicities\n",
    "$\\alpha(\\lambda_1)=1$ and $\\alpha(\\lambda_2)=2$."
   ]
  },
  {
   "cell_type": "code",
   "execution_count": 8,
   "metadata": {
    "collapsed": false
   },
   "outputs": [
    {
     "data": {
      "text/plain": [
       "1-element Array{Any,1}:\n",
       " SymPy.SymMatrix(PyObject Matrix([\n",
       "[-1/4],\n",
       "[ 1/4],\n",
       "[   1]]))"
      ]
     },
     "execution_count": 8,
     "metadata": {},
     "output_type": "execute_result"
    }
   ],
   "source": [
    "g=nullspace(A-λ[1]*I)"
   ]
  },
  {
   "cell_type": "code",
   "execution_count": 9,
   "metadata": {
    "collapsed": false
   },
   "outputs": [
    {
     "data": {
      "text/plain": [
       "1-element Array{Any,1}:\n",
       " SymPy.SymMatrix(PyObject Matrix([\n",
       "[-1/4],\n",
       "[-1/2],\n",
       "[   1]]))"
      ]
     },
     "execution_count": 9,
     "metadata": {},
     "output_type": "execute_result"
    }
   ],
   "source": [
    "h=nullspace(A-λ[2]*I)"
   ]
  },
  {
   "cell_type": "markdown",
   "metadata": {},
   "source": [
    "The geometric multiplicities are $\\gamma(\\lambda_1)=1$ and $\\gamma(\\lambda_2)=1$. Thus, $\\lambda_2$ is not semisimple, therefore $A$ is defective and not diagonalizable."
   ]
  },
  {
   "cell_type": "code",
   "execution_count": 10,
   "metadata": {
    "collapsed": false
   },
   "outputs": [
    {
     "data": {
      "text/plain": [
       "(24,24)"
      ]
     },
     "execution_count": 10,
     "metadata": {},
     "output_type": "execute_result"
    }
   ],
   "source": [
    "# Trace and determinant\n",
    "trace(A), λ[1]+λ[2]+λ[2]"
   ]
  },
  {
   "cell_type": "code",
   "execution_count": 11,
   "metadata": {
    "collapsed": false
   },
   "outputs": [
    {
     "data": {
      "text/plain": [
       "(-1350.0000000000002,-1350)"
      ]
     },
     "execution_count": 11,
     "metadata": {},
     "output_type": "execute_result"
    }
   ],
   "source": [
    "det(A), λ[1]*λ[2]*λ[2]"
   ]
  },
  {
   "cell_type": "code",
   "execution_count": 12,
   "metadata": {
    "collapsed": false
   },
   "outputs": [
    {
     "data": {
      "text/plain": [
       "(\n",
       "3x3 Array{Float64,2}:\n",
       " -6.0  25.4662       -72.2009\n",
       "  0.0  15.0          -12.0208\n",
       "  0.0   1.48587e-15   15.0   ,\n",
       "\n",
       "3x3 Array{Float64,2}:\n",
       " -0.235702  -0.0571662  -0.970143   \n",
       "  0.235702  -0.971825   -5.90663e-16\n",
       "  0.942809   0.228665   -0.242536   ,\n",
       "\n",
       "Complex{Float64}[-6.000000000000002 + 0.0im,14.999999999999988 + 1.3364652075324566e-7im,14.999999999999988 - 1.3364652075324566e-7im])"
      ]
     },
     "execution_count": 12,
     "metadata": {},
     "output_type": "execute_result"
    }
   ],
   "source": [
    "# Schur decomposition\n",
    "T,Q=schur(A)"
   ]
  },
  {
   "cell_type": "code",
   "execution_count": 19,
   "metadata": {
    "collapsed": false
   },
   "outputs": [
    {
     "data": {
      "text/html": [
       "schur(A::<b>Union{DenseArray{T,2},SubArray{T,2,A<:DenseArray{T,N},I<:Tuple{Vararg{Union{Colon,Int64,Range{Int64}}}},LD}}</b>) at <a href=\"https://github.com/JuliaLang/julia/tree/2ac304dfba75fad148d4070ef4f8a2e400c305bb/base/linalg/schur.jl#L32\" target=\"_blank\">linalg/schur.jl:32</a>"
      ],
      "text/plain": [
       "schur(A::Union{DenseArray{T,2},SubArray{T,2,A<:DenseArray{T,N},I<:Tuple{Vararg{Union{Colon,Int64,Range{Int64}}}},LD}}) at linalg/schur.jl:32"
      ]
     },
     "execution_count": 19,
     "metadata": {},
     "output_type": "execute_result"
    }
   ],
   "source": [
    "@which schur(A)"
   ]
  },
  {
   "cell_type": "code",
   "execution_count": 20,
   "metadata": {
    "collapsed": false
   },
   "outputs": [
    {
     "data": {
      "text/plain": [
       "Base.LinAlg.Schur{Float64,Array{Float64,2}}(3x3 Array{Float64,2}:\n",
       " -6.0  25.4662       -72.2009\n",
       "  0.0  15.0          -12.0208\n",
       "  0.0   1.48587e-15   15.0   ,3x3 Array{Float64,2}:\n",
       " -0.235702  -0.0571662  -0.970143   \n",
       "  0.235702  -0.971825   -5.90663e-16\n",
       "  0.942809   0.228665   -0.242536   ,Complex{Float64}[-6.000000000000002 + 0.0im,14.999999999999988 + 1.3364652075324566e-7im,14.999999999999988 - 1.3364652075324566e-7im])"
      ]
     },
     "execution_count": 20,
     "metadata": {},
     "output_type": "execute_result"
    }
   ],
   "source": [
    "F=schurfact(A)"
   ]
  },
  {
   "cell_type": "code",
   "execution_count": 21,
   "metadata": {
    "collapsed": false
   },
   "outputs": [
    {
     "data": {
      "text/plain": [
       "3-element Array{Symbol,1}:\n",
       " :T     \n",
       " :Z     \n",
       " :values"
      ]
     },
     "execution_count": 21,
     "metadata": {},
     "output_type": "execute_result"
    }
   ],
   "source": [
    "fieldnames(F)"
   ]
  },
  {
   "cell_type": "code",
   "execution_count": 23,
   "metadata": {
    "collapsed": false
   },
   "outputs": [
    {
     "data": {
      "text/plain": [
       "(\n",
       "3x3 Array{Float64,2}:\n",
       " -0.235702  -0.0571662  -0.970143   \n",
       "  0.235702  -0.971825   -5.90663e-16\n",
       "  0.942809   0.228665   -0.242536   ,\n",
       "\n",
       "3x3 Array{Float64,2}:\n",
       " -0.235702  -0.0571662  -0.970143   \n",
       "  0.235702  -0.971825   -5.90663e-16\n",
       "  0.942809   0.228665   -0.242536   )"
      ]
     },
     "execution_count": 23,
     "metadata": {},
     "output_type": "execute_result"
    }
   ],
   "source": [
    "F.Z, F[:Z]"
   ]
  },
  {
   "cell_type": "code",
   "execution_count": 24,
   "metadata": {
    "collapsed": false
   },
   "outputs": [
    {
     "name": "stdout",
     "output_type": "stream",
     "text": [
      "[-6.000000000000002,14.999999999999988,14.999999999999988]\n"
     ]
    }
   ],
   "source": [
    "println(diag(T))"
   ]
  },
  {
   "cell_type": "code",
   "execution_count": 25,
   "metadata": {
    "collapsed": false
   },
   "outputs": [
    {
     "data": {
      "text/plain": [
       "(\n",
       "3x3 Array{Float64,2}:\n",
       " 1.0          1.11022e-16  2.77556e-17\n",
       " 1.11022e-16  1.0          1.52656e-16\n",
       " 2.77556e-17  1.52656e-16  1.0        ,\n",
       "\n",
       "3x3 Array{Float64,2}:\n",
       " 1.0          1.35877e-16  0.0        \n",
       " 1.35877e-16  1.0          3.22346e-17\n",
       " 0.0          3.22346e-17  1.0        )"
      ]
     },
     "execution_count": 25,
     "metadata": {},
     "output_type": "execute_result"
    }
   ],
   "source": [
    "Q'*Q, Q*Q'"
   ]
  },
  {
   "cell_type": "code",
   "execution_count": 26,
   "metadata": {
    "collapsed": false
   },
   "outputs": [
    {
     "data": {
      "text/plain": [
       "(Complex{Float64}[-6.0 + 0.0im,14.999999999999995 + 2.318147123049959e-7im,14.999999999999995 - 2.318147123049959e-7im],24.000000000000007,-1349.9999999999993)"
      ]
     },
     "execution_count": 26,
     "metadata": {},
     "output_type": "execute_result"
    }
   ],
   "source": [
    "# Similar matrices\n",
    "M=rand(-5:5,3,3)\n",
    "B=M*A*inv(M)\n",
    "eigvals(B), trace(B), det(B)"
   ]
  },
  {
   "cell_type": "markdown",
   "metadata": {},
   "source": [
    "### Example\n",
    "\n",
    "This matrix is nondefective and diagonalizable."
   ]
  },
  {
   "cell_type": "code",
   "execution_count": 27,
   "metadata": {
    "collapsed": false
   },
   "outputs": [
    {
     "data": {
      "text/plain": [
       "3x3 Array{Int64,2}:\n",
       "   57  -21   21\n",
       "  -14   22   -7\n",
       " -140   70  -55"
      ]
     },
     "execution_count": 27,
     "metadata": {},
     "output_type": "execute_result"
    }
   ],
   "source": [
    "A=[57 -21 21; -14 22 -7; -140 70 -55]"
   ]
  },
  {
   "cell_type": "code",
   "execution_count": 28,
   "metadata": {
    "collapsed": false
   },
   "outputs": [
    {
     "data": {
      "text/latex": [
       "$$- \\left(x - 15\\right)^{2} \\left(x + 6\\right)$$"
      ],
      "text/plain": [
       "         2        \n",
       "-(x - 15) *(x + 6)"
      ]
     },
     "execution_count": 28,
     "metadata": {},
     "output_type": "execute_result"
    }
   ],
   "source": [
    "p(x)=factor(det(A-x*I))\n",
    "p(x)"
   ]
  },
  {
   "cell_type": "code",
   "execution_count": 29,
   "metadata": {
    "collapsed": false
   },
   "outputs": [
    {
     "data": {
      "text/latex": [
       "\\begin{bmatrix}-6\\\\15\\end{bmatrix}"
      ],
      "text/plain": [
       "2-element Array{SymPy.Sym,1}\n",
       "[-6]\n",
       "[  ]\n",
       "[15]"
      ]
     },
     "execution_count": 29,
     "metadata": {},
     "output_type": "execute_result"
    }
   ],
   "source": [
    "λ=solve(p(x),x)"
   ]
  },
  {
   "cell_type": "code",
   "execution_count": 30,
   "metadata": {
    "collapsed": false
   },
   "outputs": [
    {
     "data": {
      "text/plain": [
       "2-element Array{Any,1}:\n",
       " \n",
       "[1/2]\n",
       "[   ]\n",
       "[ 1 ]\n",
       "[   ]\n",
       "[ 0 ]     \n",
       " \n",
       "[-1/2]\n",
       "[    ]\n",
       "[ 0  ]\n",
       "[    ]\n",
       "[ 1  ]"
      ]
     },
     "execution_count": 30,
     "metadata": {},
     "output_type": "execute_result"
    }
   ],
   "source": [
    "h=nullspace(A-λ[2]*I)"
   ]
  },
  {
   "cell_type": "markdown",
   "metadata": {},
   "source": [
    "### Example\n",
    "\n",
    "Let us try some random examples of dimension $n=4$ (the largest $n$ for which we can compute eigevalues symbolically)."
   ]
  },
  {
   "cell_type": "code",
   "execution_count": 31,
   "metadata": {
    "collapsed": false
   },
   "outputs": [
    {
     "data": {
      "text/plain": [
       "4x4 Array{Int64,2}:\n",
       " -1   1   1  0\n",
       "  1  -2  -4  1\n",
       " -4  -4   2  2\n",
       " -4  -3   1  0"
      ]
     },
     "execution_count": 31,
     "metadata": {},
     "output_type": "execute_result"
    }
   ],
   "source": [
    "A=rand(-4:4,4,4)"
   ]
  },
  {
   "cell_type": "code",
   "execution_count": 32,
   "metadata": {
    "collapsed": false
   },
   "outputs": [
    {
     "data": {
      "text/latex": [
       "$$x^{4} + x^{3} - 16 x^{2} - 39 x - 46$$"
      ],
      "text/plain": [
       " 4    3       2            \n",
       "x  + x  - 16*x  - 39*x - 46"
      ]
     },
     "execution_count": 32,
     "metadata": {},
     "output_type": "execute_result"
    }
   ],
   "source": [
    "p(x)=factor(det(A-x*I))\n",
    "p(x)"
   ]
  },
  {
   "cell_type": "code",
   "execution_count": 33,
   "metadata": {
    "collapsed": false
   },
   "outputs": [
    {
     "data": {
      "text/latex": [
       "\\begin{bmatrix}- \\frac{1}{4} + \\frac{1}{2} \\sqrt{- \\frac{179}{18 \\sqrt[3]{- \\frac{26975}{432} + \\frac{\\sqrt{83399109}}{144}}} + 2 \\sqrt[3]{- \\frac{26975}{432} + \\frac{\\sqrt{83399109}}{144}} + \\frac{131}{12}} + \\frac{1}{2} \\sqrt{- 2 \\sqrt[3]{- \\frac{26975}{432} + \\frac{\\sqrt{83399109}}{144}} + \\frac{179}{18 \\sqrt[3]{- \\frac{26975}{432} + \\frac{\\sqrt{83399109}}{144}}} + \\frac{131}{6} + \\frac{247}{4 \\sqrt{- \\frac{179}{18 \\sqrt[3]{- \\frac{26975}{432} + \\frac{\\sqrt{83399109}}{144}}} + 2 \\sqrt[3]{- \\frac{26975}{432} + \\frac{\\sqrt{83399109}}{144}} + \\frac{131}{12}}}}\\\\- \\frac{1}{2} \\sqrt{- \\frac{179}{18 \\sqrt[3]{- \\frac{26975}{432} + \\frac{\\sqrt{83399109}}{144}}} + 2 \\sqrt[3]{- \\frac{26975}{432} + \\frac{\\sqrt{83399109}}{144}} + \\frac{131}{12}} - \\frac{1}{4} - \\frac{1}{2} \\sqrt{- \\frac{247}{4 \\sqrt{- \\frac{179}{18 \\sqrt[3]{- \\frac{26975}{432} + \\frac{\\sqrt{83399109}}{144}}} + 2 \\sqrt[3]{- \\frac{26975}{432} + \\frac{\\sqrt{83399109}}{144}} + \\frac{131}{12}}} - 2 \\sqrt[3]{- \\frac{26975}{432} + \\frac{\\sqrt{83399109}}{144}} + \\frac{179}{18 \\sqrt[3]{- \\frac{26975}{432} + \\frac{\\sqrt{83399109}}{144}}} + \\frac{131}{6}}\\\\- \\frac{1}{2} \\sqrt{- \\frac{179}{18 \\sqrt[3]{- \\frac{26975}{432} + \\frac{\\sqrt{83399109}}{144}}} + 2 \\sqrt[3]{- \\frac{26975}{432} + \\frac{\\sqrt{83399109}}{144}} + \\frac{131}{12}} - \\frac{1}{4} + \\frac{1}{2} \\sqrt{- \\frac{247}{4 \\sqrt{- \\frac{179}{18 \\sqrt[3]{- \\frac{26975}{432} + \\frac{\\sqrt{83399109}}{144}}} + 2 \\sqrt[3]{- \\frac{26975}{432} + \\frac{\\sqrt{83399109}}{144}} + \\frac{131}{12}}} - 2 \\sqrt[3]{- \\frac{26975}{432} + \\frac{\\sqrt{83399109}}{144}} + \\frac{179}{18 \\sqrt[3]{- \\frac{26975}{432} + \\frac{\\sqrt{83399109}}{144}}} + \\frac{131}{6}}\\\\- \\frac{1}{2} \\sqrt{- 2 \\sqrt[3]{- \\frac{26975}{432} + \\frac{\\sqrt{83399109}}{144}} + \\frac{179}{18 \\sqrt[3]{- \\frac{26975}{432} + \\frac{\\sqrt{83399109}}{144}}} + \\frac{131}{6} + \\frac{247}{4 \\sqrt{- \\frac{179}{18 \\sqrt[3]{- \\frac{26975}{432} + \\frac{\\sqrt{83399109}}{144}}} + 2 \\sqrt[3]{- \\frac{26975}{432} + \\frac{\\sqrt{83399109}}{144}} + \\frac{131}{12}}}} - \\frac{1}{4} + \\frac{1}{2} \\sqrt{- \\frac{179}{18 \\sqrt[3]{- \\frac{26975}{432} + \\frac{\\sqrt{83399109}}{144}}} + 2 \\sqrt[3]{- \\frac{26975}{432} + \\frac{\\sqrt{83399109}}{144}} + \\frac{131}{12}}\\end{bmatrix}"
      ],
      "text/plain": [
       "4-element Array{SymPy.Sym,1}\n",
       "[                                                                             \n",
       "[                                                                             \n",
       "[                                                                             \n",
       "[                                                                             \n",
       "[                                                                             \n",
       "[                _____________________________________________________________\n",
       "[               /                                             ________________\n",
       "[              /                                             /             ___\n",
       "[             /                   179                       /    26975   \\/ 83\n",
       "[            /    - -------------------------------- + 2*3 /   - ----- + -----\n",
       "[           /               ________________________     \\/       432        1\n",
       "[          /               /             __________                           \n",
       "[         /               /    26975   \\/ 83399109                            \n",
       "[        /          18*3 /   - ----- + ------------                           \n",
       "[  1   \\/              \\/       432        144                                \n",
       "[- - + -----------------------------------------------------------------------\n",
       "[  4                                             2                            \n",
       "[                                                                             \n",
       "[                                                                             \n",
       "[                                                                             \n",
       "[                                                                             \n",
       "[                                                                             \n",
       "[                                                                             \n",
       "[            _________________________________________________________________\n",
       "[           /                                             ____________________\n",
       "[          /                                             /             _______\n",
       "[         /                   179                       /    26975   \\/ 833991\n",
       "[        /    - -------------------------------- + 2*3 /   - ----- + ---------\n",
       "[       /               ________________________     \\/       432        144  \n",
       "[      /               /             __________                               \n",
       "[     /               /    26975   \\/ 83399109                                \n",
       "[    /          18*3 /   - ----- + ------------                               \n",
       "[  \\/              \\/       432        144                                    \n",
       "[- ---------------------------------------------------------------------------\n",
       "[                                            2                                \n",
       "[                                                                             \n",
       "[                                                                             \n",
       "[                                                                             \n",
       "[                                                                             \n",
       "[                                                                             \n",
       "[                                                                             \n",
       "[            _________________________________________________________________\n",
       "[           /                                             ____________________\n",
       "[          /                                             /             _______\n",
       "[         /                   179                       /    26975   \\/ 833991\n",
       "[        /    - -------------------------------- + 2*3 /   - ----- + ---------\n",
       "[       /               ________________________     \\/       432        144  \n",
       "[      /               /             __________                               \n",
       "[     /               /    26975   \\/ 83399109                                \n",
       "[    /          18*3 /   - ----- + ------------                               \n",
       "[  \\/              \\/       432        144                                    \n",
       "[- ---------------------------------------------------------------------------\n",
       "[                                            2                                \n",
       "[                                                                             \n",
       "[                 ____________________________________________________________\n",
       "[                /          ________________________                          \n",
       "[               /          /             __________                           \n",
       "[              /          /    26975   \\/ 83399109                   179      \n",
       "[             /    - 2*3 /   - ----- + ------------  + -----------------------\n",
       "[            /         \\/       432        144                 _______________\n",
       "[           /                                                 /             __\n",
       "[          /                                                 /    26975   \\/ 8\n",
       "[         /                                            18*3 /   - ----- + ----\n",
       "[        /                                                \\/       432        \n",
       "[       /                                                                     \n",
       "[      /                                                                      \n",
       "[     /                                                                       \n",
       "[    /                                                                        \n",
       "[  \\/                                                                         \n",
       "[- ---------------------------------------------------------------------------\n",
       "[                                                                             \n",
       "\n",
       "                                 _____________________________________________\n",
       "                                /          ________________________           \n",
       "                               /          /             __________            \n",
       "                              /          /    26975   \\/ 83399109             \n",
       "                             /    - 2*3 /   - ----- + ------------  + --------\n",
       "_______________             /         \\/       432        144                 \n",
       "________                   /                                                 /\n",
       "_______                   /                                                 / \n",
       "399109     131           /                                            18*3 /  \n",
       "-------  + ---          /                                                \\/   \n",
       "44          12         /                                                      \n",
       "                      /                                                       \n",
       "                     /                                                        \n",
       "                    /                                                         \n",
       "                  \\/                                                          \n",
       "--------------- + ------------------------------------------------------------\n",
       "                                                                              \n",
       "                                                                              \n",
       "                                 _____________________________________________\n",
       "                                /                                             \n",
       "                               /                                              \n",
       "                              /                                               \n",
       "                             /    - ------------------------------------------\n",
       "___________                 /                   ______________________________\n",
       "____                       /                   /                              \n",
       "___                       /                   /                               \n",
       "09     131               /                   /                   179          \n",
       "---  + ---              /           4*      /    - ---------------------------\n",
       "        12             /                   /               ___________________\n",
       "                      /                   /               /             ______\n",
       "                     /                   /               /    26975   \\/ 83399\n",
       "                    /                   /          18*3 /   - ----- + --------\n",
       "              1   \\/                  \\/              \\/       432        144 \n",
       "----------- - - - ------------------------------------------------------------\n",
       "              4                                                               \n",
       "                                                                              \n",
       "                                 _____________________________________________\n",
       "                                /                                             \n",
       "                               /                                              \n",
       "                              /                                               \n",
       "                             /    - ------------------------------------------\n",
       "___________                 /                   ______________________________\n",
       "____                       /                   /                              \n",
       "___                       /                   /                               \n",
       "09     131               /                   /                   179          \n",
       "---  + ---              /           4*      /    - ---------------------------\n",
       "        12             /                   /               ___________________\n",
       "                      /                   /               /             ______\n",
       "                     /                   /               /    26975   \\/ 83399\n",
       "                    /                   /          18*3 /   - ----- + --------\n",
       "              1   \\/                  \\/              \\/       432        144 \n",
       "----------- - - + ------------------------------------------------------------\n",
       "              4                                                               \n",
       "                                                                              \n",
       "______________________________________________________________________________\n",
       "                                                                              \n",
       "                                                                              \n",
       "            131                                             247               \n",
       "--------- + --- + ------------------------------------------------------------\n",
       "_________    6                ________________________________________________\n",
       "________                     /                                             ___\n",
       "3399109                     /                                             /   \n",
       "--------                   /                   179                       /    \n",
       "144               4*      /    - -------------------------------- + 2*3 /   - \n",
       "                         /               ________________________     \\/      \n",
       "                        /               /             __________              \n",
       "                       /               /    26975   \\/ 83399109               \n",
       "                      /          18*3 /   - ----- + ------------              \n",
       "                    \\/              \\/       432        144                   \n",
       "------------------------------------------------------------------------------\n",
       "               2                                                              \n",
       "\n",
       "______________________________________________________________________________\n",
       "                                                                              \n",
       "                                                                              \n",
       "      179                  131                                             247\n",
       "------------------------ + --- + ---------------------------------------------\n",
       "________________________    6                _________________________________\n",
       "             __________                     /                                 \n",
       "   26975   \\/ 83399109                     /                                  \n",
       " - ----- + ------------                   /                   179             \n",
       "    432        144               4*      /    - ------------------------------\n",
       "                                        /               ______________________\n",
       "                                       /               /             _________\n",
       "                                      /               /    26975   \\/ 83399109\n",
       "                                     /          18*3 /   - ----- + -----------\n",
       "                                   \\/              \\/       432        144    \n",
       "------------------------------------------------------------------------------\n",
       "                              2                                               \n",
       "                                                                              \n",
       "______________________________________________________________________________\n",
       "                                                        ______________________\n",
       "                                                       /             _________\n",
       "247                                                   /    26975   \\/ 83399109\n",
       "---------------------------------------------- - 2*3 /   - ----- + -----------\n",
       "______________________________________________     \\/       432        144    \n",
       "               ________________________                                       \n",
       "              /             __________                                        \n",
       "             /    26975   \\/ 83399109     131                                 \n",
       "----- + 2*3 /   - ----- + ------------  + ---                                 \n",
       "_____     \\/       432        144          12                                 \n",
       "____                                                                          \n",
       "109                                                                           \n",
       "----                                                                          \n",
       "                                                                              \n",
       "------------------------------------------------------------------------------\n",
       "                              2                                               \n",
       "                                                                              \n",
       "______________________________________________________________________________\n",
       "                                                        ______________________\n",
       "                                                       /             _________\n",
       "247                                                   /    26975   \\/ 83399109\n",
       "---------------------------------------------- - 2*3 /   - ----- + -----------\n",
       "______________________________________________     \\/       432        144    \n",
       "               ________________________                                       \n",
       "              /             __________                                        \n",
       "             /    26975   \\/ 83399109     131                                 \n",
       "----- + 2*3 /   - ----- + ------------  + ---                                 \n",
       "_____     \\/       432        144          12                                 \n",
       "____                                                                          \n",
       "109                                                                           \n",
       "----                                                                          \n",
       "                                                                              \n",
       "------------------------------------------------------------------------------\n",
       "                              2                                               \n",
       "                                                                              \n",
       "_____________________________                                                 \n",
       "                                                                              \n",
       "                                                                              \n",
       "                                                                              \n",
       "----------------------------                                                  \n",
       "____________________________                  ________________________________\n",
       "_____________________                        /                                \n",
       "          __________                        /                                 \n",
       "26975   \\/ 83399109     131                /                   179            \n",
       "----- + ------------  + ---               /    - -----------------------------\n",
       " 432        144          12              /               _____________________\n",
       "                                        /               /             ________\n",
       "                                       /               /    26975   \\/ 8339910\n",
       "                                      /          18*3 /   - ----- + ----------\n",
       "                                1   \\/              \\/       432        144   \n",
       "----------------------------- - - + ------------------------------------------\n",
       "                                4                                             \n",
       "\n",
       "____________________________________________]\n",
       "                                            ]\n",
       "                                            ]\n",
       "                                            ]\n",
       "------------------------------------------- ]\n",
       "___________________________________________ ]\n",
       "            ________________________        ]\n",
       "           /             __________         ]\n",
       "          /    26975   \\/ 83399109     131  ]\n",
       "-- + 2*3 /   - ----- + ------------  + ---  ]\n",
       "__     \\/       432        144          12  ]\n",
       "_                                           ]\n",
       "                                            ]\n",
       "-                                           ]\n",
       "                                            ]\n",
       "--------------------------------------------]\n",
       "                                            ]\n",
       "                                            ]\n",
       "____________________________________________]\n",
       "__                                          ]\n",
       "_                                           ]\n",
       "                   179                  131 ]\n",
       "-  + -------------------------------- + --- ]\n",
       "             ________________________    6  ]\n",
       "            /             __________        ]\n",
       "           /    26975   \\/ 83399109         ]\n",
       "     18*3 /   - ----- + ------------        ]\n",
       "        \\/       432        144             ]\n",
       "                                            ]\n",
       "                                            ]\n",
       "                                            ]\n",
       "                                            ]\n",
       "                                            ]\n",
       "--------------------------------------------]\n",
       "                                            ]\n",
       "                                            ]\n",
       "____________________________________________]\n",
       "__                                          ]\n",
       "_                                           ]\n",
       "                   179                  131 ]\n",
       "-  + -------------------------------- + --- ]\n",
       "             ________________________    6  ]\n",
       "            /             __________        ]\n",
       "           /    26975   \\/ 83399109         ]\n",
       "     18*3 /   - ----- + ------------        ]\n",
       "        \\/       432        144             ]\n",
       "                                            ]\n",
       "                                            ]\n",
       "                                            ]\n",
       "                                            ]\n",
       "                                            ]\n",
       "--------------------------------------------]\n",
       "                                            ]\n",
       "                                            ]\n",
       "                                            ]\n",
       "                                            ]\n",
       "                                            ]\n",
       "                                            ]\n",
       "                                            ]\n",
       "____________________________________________]\n",
       "             ________________________       ]\n",
       "            /             __________        ]\n",
       "           /    26975   \\/ 83399109     131 ]\n",
       "--- + 2*3 /   - ----- + ------------  + --- ]\n",
       "___     \\/       432        144          12 ]\n",
       "__                                          ]\n",
       "9                                           ]\n",
       "--                                          ]\n",
       "                                            ]\n",
       "--------------------------------------------]\n",
       "2                                           ]"
      ]
     },
     "execution_count": 33,
     "metadata": {},
     "output_type": "execute_result"
    }
   ],
   "source": [
    "λ=solve(p(x),x)"
   ]
  },
  {
   "cell_type": "code",
   "execution_count": 34,
   "metadata": {
    "collapsed": false,
    "scrolled": true
   },
   "outputs": [
    {
     "data": {
      "text/plain": [
       "4"
      ]
     },
     "execution_count": 34,
     "metadata": {},
     "output_type": "execute_result"
    }
   ],
   "source": [
    "length(λ)"
   ]
  },
  {
   "cell_type": "markdown",
   "metadata": {},
   "source": [
    "Since all eigenvalues are distinct, they are all simple and the matrix is diagonalizable. \n",
    "With high probability, all eigenvalues of a random matrix are simple.\n",
    "\n",
    "Do not try to use `nullspace()` here."
   ]
  },
  {
   "cell_type": "code",
   "execution_count": 35,
   "metadata": {
    "collapsed": false
   },
   "outputs": [
    {
     "data": {
      "text/latex": [
       "$$\\frac{1}{\\left(1.0 x - 0.302328559035265\\right)^{2} \\left(1.0 x^{2} - 1.13942263088262 x + 0.119323983130476\\right)} \\left(1.0 x^{8} - 3.55552256081553 x^{7} + 3.70335671880447 x^{6} - 1.23257775680928 x^{5} + 0.0873594809905589 x^{4} + 0.00879282413385674 x^{3} + 0.000266975596437989 x^{2} + 0.000293933879663258 x - 4.97606505323467 \\cdot 10^{-5}\\right)$$"
      ],
      "text/plain": [
       "    /     8                     7                     6                     5 \n",
       "1.0*\\1.0*x  - 3.55552256081553*x  + 3.70335671880447*x  - 1.23257775680928*x  \n",
       "------------------------------------------------------------------------------\n",
       "                                                                              \n",
       "                                                             (1.0*x - 0.302328\n",
       "\n",
       "                      4                        3                         2    \n",
       "+ 0.0873594809905589*x  + 0.00879282413385674*x  + 0.000266975596437989*x  + 0\n",
       "------------------------------------------------------------------------------\n",
       "          2 /     2                                         \\                 \n",
       "559035265) *\\1.0*x  - 1.13942263088262*x + 0.119323983130476/                 \n",
       "\n",
       "                                           \\\n",
       ".000293933879663258*x - 4.97606505323467e-5/\n",
       "--------------------------------------------\n",
       "                                            \n",
       "                                            "
      ]
     },
     "execution_count": 35,
     "metadata": {},
     "output_type": "execute_result"
    }
   ],
   "source": [
    "A=rand(4,4)\n",
    "p(x)=factor(det(A-x*I))\n",
    "p(x)"
   ]
  },
  {
   "cell_type": "markdown",
   "metadata": {
    "collapsed": false
   },
   "source": [
    "In this case, symbolic computation does not work well with floating-point numbers - the degree of $p_A(x)$ is 8 instead of 4.\n",
    "\n",
    "Let us try `Rational` numbers:"
   ]
  },
  {
   "cell_type": "code",
   "execution_count": 36,
   "metadata": {
    "collapsed": false
   },
   "outputs": [
    {
     "data": {
      "text/plain": [
       "4x4 Array{Rational{Int64},2}:\n",
       " 1361566785814677//4503599627370496  …  2011830747201567//4503599627370496\n",
       " 1024438098162271//4503599627370496      404259269583693//562949953421312 \n",
       "  305617849701401//4503599627370496     4244962815661879//4503599627370496\n",
       " 2907321712552637//4503599627370496     1045434586366897//4503599627370496"
      ]
     },
     "execution_count": 36,
     "metadata": {},
     "output_type": "execute_result"
    }
   ],
   "source": [
    "A=map(Rational,A)"
   ]
  },
  {
   "cell_type": "code",
   "execution_count": 37,
   "metadata": {
    "collapsed": false
   },
   "outputs": [
    {
     "data": {
      "text/latex": [
       "$$\\frac{1}{205688069665150755269371147819668813122841983204197482918576128} \\left(205688069665150755269371147819668813122841983204197482918576128 x^{4} - 372592175280786335733965480405788042989757223495788492509675520 x^{3} - 73148961496509592834062418004518975777796295406862454371647488 x^{2} - 9625962074667344646045559340228396665654834567868493437337600 x - 938445511618926402189544014854463615640792753241764850042125\\right)$$"
      ],
      "text/plain": [
       "                                                                 4            \n",
       "205688069665150755269371147819668813122841983204197482918576128*x  - 372592175\n",
       "------------------------------------------------------------------------------\n",
       "                                                                              \n",
       "\n",
       "                                                        3                     \n",
       "280786335733965480405788042989757223495788492509675520*x  - 731489614965095928\n",
       "------------------------------------------------------------------------------\n",
       "                                                        2056880696651507552693\n",
       "\n",
       "                                              2                               \n",
       "34062418004518975777796295406862454371647488*x  - 9625962074667344646045559340\n",
       "------------------------------------------------------------------------------\n",
       "71147819668813122841983204197482918576128                                     \n",
       "\n",
       "                                                                              \n",
       "228396665654834567868493437337600*x - 9384455116189264021895440148544636156407\n",
       "------------------------------------------------------------------------------\n",
       "                                                                              \n",
       "\n",
       "                    \n",
       "92753241764850042125\n",
       "--------------------\n",
       "                    "
      ]
     },
     "execution_count": 37,
     "metadata": {},
     "output_type": "execute_result"
    }
   ],
   "source": [
    "p(x)=factor(det(A-x*I))\n",
    "p(x)"
   ]
  },
  {
   "cell_type": "code",
   "execution_count": 38,
   "metadata": {
    "collapsed": false
   },
   "outputs": [
    {
     "data": {
      "text/latex": [
       "\\begin{bmatrix}\\frac{4079006586253195}{9007199254740992} + \\frac{1}{2} \\sqrt{- \\frac{25038653398874812527384369585933987495865994509014135162402593}{2468256835981809063232453773836025757474103798450369795022913536 \\sqrt[3]{- \\frac{43345375323296993669410046974766786634285622333648701299500617869082638480673101469567421453}{66749594872528440074844428317798503581334516323645399060845050244444366430645017188217565216768} + \\frac{155 \\sqrt{2073645246893043384939155831553163082321827084032915885994672213380065836279914857788252693921088955033031121648495443700150312802202262422142533878988633762787139046952952648886335}}{300373176926377980336799927430093266116005323456404295773802726099999648937902577346979043475456}}} + 2 \\sqrt[3]{- \\frac{43345375323296993669410046974766786634285622333648701299500617869082638480673101469567421453}{66749594872528440074844428317798503581334516323645399060845050244444366430645017188217565216768} + \\frac{155 \\sqrt{2073645246893043384939155831553163082321827084032915885994672213380065836279914857788252693921088955033031121648495443700150312802202262422142533878988633762787139046952952648886335}}{300373176926377980336799927430093266116005323456404295773802726099999648937902577346979043475456}} + \\frac{21446991062539734856865030805899}{20282409603651670423947251286016}} + \\frac{1}{2} \\sqrt{- 2 \\sqrt[3]{- \\frac{43345375323296993669410046974766786634285622333648701299500617869082638480673101469567421453}{66749594872528440074844428317798503581334516323645399060845050244444366430645017188217565216768} + \\frac{155 \\sqrt{2073645246893043384939155831553163082321827084032915885994672213380065836279914857788252693921088955033031121648495443700150312802202262422142533878988633762787139046952952648886335}}{300373176926377980336799927430093266116005323456404295773802726099999648937902577346979043475456}} + \\frac{25038653398874812527384369585933987495865994509014135162402593}{2468256835981809063232453773836025757474103798450369795022913536 \\sqrt[3]{- \\frac{43345375323296993669410046974766786634285622333648701299500617869082638480673101469567421453}{66749594872528440074844428317798503581334516323645399060845050244444366430645017188217565216768} + \\frac{155 \\sqrt{2073645246893043384939155831553163082321827084032915885994672213380065836279914857788252693921088955033031121648495443700150312802202262422142533878988633762787139046952952648886335}}{300373176926377980336799927430093266116005323456404295773802726099999648937902577346979043475456}}} + \\frac{21446991062539734856865030805899}{10141204801825835211973625643008} + \\frac{50782277847818920188422111293208806136531606735}{22835963083295358096932575511191922182123945984 \\sqrt{- \\frac{25038653398874812527384369585933987495865994509014135162402593}{2468256835981809063232453773836025757474103798450369795022913536 \\sqrt[3]{- \\frac{43345375323296993669410046974766786634285622333648701299500617869082638480673101469567421453}{66749594872528440074844428317798503581334516323645399060845050244444366430645017188217565216768} + \\frac{155 \\sqrt{2073645246893043384939155831553163082321827084032915885994672213380065836279914857788252693921088955033031121648495443700150312802202262422142533878988633762787139046952952648886335}}{300373176926377980336799927430093266116005323456404295773802726099999648937902577346979043475456}}} + 2 \\sqrt[3]{- \\frac{43345375323296993669410046974766786634285622333648701299500617869082638480673101469567421453}{66749594872528440074844428317798503581334516323645399060845050244444366430645017188217565216768} + \\frac{155 \\sqrt{2073645246893043384939155831553163082321827084032915885994672213380065836279914857788252693921088955033031121648495443700150312802202262422142533878988633762787139046952952648886335}}{300373176926377980336799927430093266116005323456404295773802726099999648937902577346979043475456}} + \\frac{21446991062539734856865030805899}{20282409603651670423947251286016}}}}\\\\- \\frac{1}{2} \\sqrt{- \\frac{25038653398874812527384369585933987495865994509014135162402593}{2468256835981809063232453773836025757474103798450369795022913536 \\sqrt[3]{- \\frac{43345375323296993669410046974766786634285622333648701299500617869082638480673101469567421453}{66749594872528440074844428317798503581334516323645399060845050244444366430645017188217565216768} + \\frac{155 \\sqrt{2073645246893043384939155831553163082321827084032915885994672213380065836279914857788252693921088955033031121648495443700150312802202262422142533878988633762787139046952952648886335}}{300373176926377980336799927430093266116005323456404295773802726099999648937902577346979043475456}}} + 2 \\sqrt[3]{- \\frac{43345375323296993669410046974766786634285622333648701299500617869082638480673101469567421453}{66749594872528440074844428317798503581334516323645399060845050244444366430645017188217565216768} + \\frac{155 \\sqrt{2073645246893043384939155831553163082321827084032915885994672213380065836279914857788252693921088955033031121648495443700150312802202262422142533878988633762787139046952952648886335}}{300373176926377980336799927430093266116005323456404295773802726099999648937902577346979043475456}} + \\frac{21446991062539734856865030805899}{20282409603651670423947251286016}} + \\frac{4079006586253195}{9007199254740992} - \\frac{1}{2} \\sqrt{- \\frac{50782277847818920188422111293208806136531606735}{22835963083295358096932575511191922182123945984 \\sqrt{- \\frac{25038653398874812527384369585933987495865994509014135162402593}{2468256835981809063232453773836025757474103798450369795022913536 \\sqrt[3]{- \\frac{43345375323296993669410046974766786634285622333648701299500617869082638480673101469567421453}{66749594872528440074844428317798503581334516323645399060845050244444366430645017188217565216768} + \\frac{155 \\sqrt{2073645246893043384939155831553163082321827084032915885994672213380065836279914857788252693921088955033031121648495443700150312802202262422142533878988633762787139046952952648886335}}{300373176926377980336799927430093266116005323456404295773802726099999648937902577346979043475456}}} + 2 \\sqrt[3]{- \\frac{43345375323296993669410046974766786634285622333648701299500617869082638480673101469567421453}{66749594872528440074844428317798503581334516323645399060845050244444366430645017188217565216768} + \\frac{155 \\sqrt{2073645246893043384939155831553163082321827084032915885994672213380065836279914857788252693921088955033031121648495443700150312802202262422142533878988633762787139046952952648886335}}{300373176926377980336799927430093266116005323456404295773802726099999648937902577346979043475456}} + \\frac{21446991062539734856865030805899}{20282409603651670423947251286016}}} - 2 \\sqrt[3]{- \\frac{43345375323296993669410046974766786634285622333648701299500617869082638480673101469567421453}{66749594872528440074844428317798503581334516323645399060845050244444366430645017188217565216768} + \\frac{155 \\sqrt{2073645246893043384939155831553163082321827084032915885994672213380065836279914857788252693921088955033031121648495443700150312802202262422142533878988633762787139046952952648886335}}{300373176926377980336799927430093266116005323456404295773802726099999648937902577346979043475456}} + \\frac{25038653398874812527384369585933987495865994509014135162402593}{2468256835981809063232453773836025757474103798450369795022913536 \\sqrt[3]{- \\frac{43345375323296993669410046974766786634285622333648701299500617869082638480673101469567421453}{66749594872528440074844428317798503581334516323645399060845050244444366430645017188217565216768} + \\frac{155 \\sqrt{2073645246893043384939155831553163082321827084032915885994672213380065836279914857788252693921088955033031121648495443700150312802202262422142533878988633762787139046952952648886335}}{300373176926377980336799927430093266116005323456404295773802726099999648937902577346979043475456}}} + \\frac{21446991062539734856865030805899}{10141204801825835211973625643008}}\\\\- \\frac{1}{2} \\sqrt{- \\frac{25038653398874812527384369585933987495865994509014135162402593}{2468256835981809063232453773836025757474103798450369795022913536 \\sqrt[3]{- \\frac{43345375323296993669410046974766786634285622333648701299500617869082638480673101469567421453}{66749594872528440074844428317798503581334516323645399060845050244444366430645017188217565216768} + \\frac{155 \\sqrt{2073645246893043384939155831553163082321827084032915885994672213380065836279914857788252693921088955033031121648495443700150312802202262422142533878988633762787139046952952648886335}}{300373176926377980336799927430093266116005323456404295773802726099999648937902577346979043475456}}} + 2 \\sqrt[3]{- \\frac{43345375323296993669410046974766786634285622333648701299500617869082638480673101469567421453}{66749594872528440074844428317798503581334516323645399060845050244444366430645017188217565216768} + \\frac{155 \\sqrt{2073645246893043384939155831553163082321827084032915885994672213380065836279914857788252693921088955033031121648495443700150312802202262422142533878988633762787139046952952648886335}}{300373176926377980336799927430093266116005323456404295773802726099999648937902577346979043475456}} + \\frac{21446991062539734856865030805899}{20282409603651670423947251286016}} + \\frac{4079006586253195}{9007199254740992} + \\frac{1}{2} \\sqrt{- \\frac{50782277847818920188422111293208806136531606735}{22835963083295358096932575511191922182123945984 \\sqrt{- \\frac{25038653398874812527384369585933987495865994509014135162402593}{2468256835981809063232453773836025757474103798450369795022913536 \\sqrt[3]{- \\frac{43345375323296993669410046974766786634285622333648701299500617869082638480673101469567421453}{66749594872528440074844428317798503581334516323645399060845050244444366430645017188217565216768} + \\frac{155 \\sqrt{2073645246893043384939155831553163082321827084032915885994672213380065836279914857788252693921088955033031121648495443700150312802202262422142533878988633762787139046952952648886335}}{300373176926377980336799927430093266116005323456404295773802726099999648937902577346979043475456}}} + 2 \\sqrt[3]{- \\frac{43345375323296993669410046974766786634285622333648701299500617869082638480673101469567421453}{66749594872528440074844428317798503581334516323645399060845050244444366430645017188217565216768} + \\frac{155 \\sqrt{2073645246893043384939155831553163082321827084032915885994672213380065836279914857788252693921088955033031121648495443700150312802202262422142533878988633762787139046952952648886335}}{300373176926377980336799927430093266116005323456404295773802726099999648937902577346979043475456}} + \\frac{21446991062539734856865030805899}{20282409603651670423947251286016}}} - 2 \\sqrt[3]{- \\frac{43345375323296993669410046974766786634285622333648701299500617869082638480673101469567421453}{66749594872528440074844428317798503581334516323645399060845050244444366430645017188217565216768} + \\frac{155 \\sqrt{2073645246893043384939155831553163082321827084032915885994672213380065836279914857788252693921088955033031121648495443700150312802202262422142533878988633762787139046952952648886335}}{300373176926377980336799927430093266116005323456404295773802726099999648937902577346979043475456}} + \\frac{25038653398874812527384369585933987495865994509014135162402593}{2468256835981809063232453773836025757474103798450369795022913536 \\sqrt[3]{- \\frac{43345375323296993669410046974766786634285622333648701299500617869082638480673101469567421453}{66749594872528440074844428317798503581334516323645399060845050244444366430645017188217565216768} + \\frac{155 \\sqrt{2073645246893043384939155831553163082321827084032915885994672213380065836279914857788252693921088955033031121648495443700150312802202262422142533878988633762787139046952952648886335}}{300373176926377980336799927430093266116005323456404295773802726099999648937902577346979043475456}}} + \\frac{21446991062539734856865030805899}{10141204801825835211973625643008}}\\\\- \\frac{1}{2} \\sqrt{- 2 \\sqrt[3]{- \\frac{43345375323296993669410046974766786634285622333648701299500617869082638480673101469567421453}{66749594872528440074844428317798503581334516323645399060845050244444366430645017188217565216768} + \\frac{155 \\sqrt{2073645246893043384939155831553163082321827084032915885994672213380065836279914857788252693921088955033031121648495443700150312802202262422142533878988633762787139046952952648886335}}{300373176926377980336799927430093266116005323456404295773802726099999648937902577346979043475456}} + \\frac{25038653398874812527384369585933987495865994509014135162402593}{2468256835981809063232453773836025757474103798450369795022913536 \\sqrt[3]{- \\frac{43345375323296993669410046974766786634285622333648701299500617869082638480673101469567421453}{66749594872528440074844428317798503581334516323645399060845050244444366430645017188217565216768} + \\frac{155 \\sqrt{2073645246893043384939155831553163082321827084032915885994672213380065836279914857788252693921088955033031121648495443700150312802202262422142533878988633762787139046952952648886335}}{300373176926377980336799927430093266116005323456404295773802726099999648937902577346979043475456}}} + \\frac{21446991062539734856865030805899}{10141204801825835211973625643008} + \\frac{50782277847818920188422111293208806136531606735}{22835963083295358096932575511191922182123945984 \\sqrt{- \\frac{25038653398874812527384369585933987495865994509014135162402593}{2468256835981809063232453773836025757474103798450369795022913536 \\sqrt[3]{- \\frac{43345375323296993669410046974766786634285622333648701299500617869082638480673101469567421453}{66749594872528440074844428317798503581334516323645399060845050244444366430645017188217565216768} + \\frac{155 \\sqrt{2073645246893043384939155831553163082321827084032915885994672213380065836279914857788252693921088955033031121648495443700150312802202262422142533878988633762787139046952952648886335}}{300373176926377980336799927430093266116005323456404295773802726099999648937902577346979043475456}}} + 2 \\sqrt[3]{- \\frac{43345375323296993669410046974766786634285622333648701299500617869082638480673101469567421453}{66749594872528440074844428317798503581334516323645399060845050244444366430645017188217565216768} + \\frac{155 \\sqrt{2073645246893043384939155831553163082321827084032915885994672213380065836279914857788252693921088955033031121648495443700150312802202262422142533878988633762787139046952952648886335}}{300373176926377980336799927430093266116005323456404295773802726099999648937902577346979043475456}} + \\frac{21446991062539734856865030805899}{20282409603651670423947251286016}}}} + \\frac{4079006586253195}{9007199254740992} + \\frac{1}{2} \\sqrt{- \\frac{25038653398874812527384369585933987495865994509014135162402593}{2468256835981809063232453773836025757474103798450369795022913536 \\sqrt[3]{- \\frac{43345375323296993669410046974766786634285622333648701299500617869082638480673101469567421453}{66749594872528440074844428317798503581334516323645399060845050244444366430645017188217565216768} + \\frac{155 \\sqrt{2073645246893043384939155831553163082321827084032915885994672213380065836279914857788252693921088955033031121648495443700150312802202262422142533878988633762787139046952952648886335}}{300373176926377980336799927430093266116005323456404295773802726099999648937902577346979043475456}}} + 2 \\sqrt[3]{- \\frac{43345375323296993669410046974766786634285622333648701299500617869082638480673101469567421453}{66749594872528440074844428317798503581334516323645399060845050244444366430645017188217565216768} + \\frac{155 \\sqrt{2073645246893043384939155831553163082321827084032915885994672213380065836279914857788252693921088955033031121648495443700150312802202262422142533878988633762787139046952952648886335}}{300373176926377980336799927430093266116005323456404295773802726099999648937902577346979043475456}} + \\frac{21446991062539734856865030805899}{20282409603651670423947251286016}}\\end{bmatrix}"
      ],
      "text/plain": [
       "4-element Array{SymPy.Sym,1}\n",
       "[                                                                             \n",
       "[                                                                             \n",
       "[                                                                             \n",
       "[                                                                             \n",
       "[                                                                             \n",
       "[                              _______________________________________________\n",
       "[                             /                                               \n",
       "[                            /                                                \n",
       "[                           /                                                 \n",
       "[                          /    - --------------------------------------------\n",
       "[                         /                                                   \n",
       "[                        /                                                    \n",
       "[                       /                                                     \n",
       "[                      /          24682568359818090632324537738360257574741037\n",
       "[ 4079006586253195   \\/                                                       \n",
       "[ ---------------- + ---------------------------------------------------------\n",
       "[ 9007199254740992                                                            \n",
       "[                                                                             \n",
       "[                                                                             \n",
       "[                                                                             \n",
       "[                                                                             \n",
       "[                                                                             \n",
       "[                                                                             \n",
       "[            _________________________________________________________________\n",
       "[           /                                                                 \n",
       "[          /                                                                  \n",
       "[         /                                                                   \n",
       "[        /    - --------------------------------------------------------------\n",
       "[       /                                                                     \n",
       "[      /                                                                      \n",
       "[     /                                                                       \n",
       "[    /          24682568359818090632324537738360257574741037984503697950229135\n",
       "[  \\/                                                                         \n",
       "[- ---------------------------------------------------------------------------\n",
       "[                                                                             \n",
       "[                                                                             \n",
       "[                                                                             \n",
       "[                                                                             \n",
       "[                                                                             \n",
       "[                                                                             \n",
       "[                                                                             \n",
       "[            _________________________________________________________________\n",
       "[           /                                                                 \n",
       "[          /                                                                  \n",
       "[         /                                                                   \n",
       "[        /    - --------------------------------------------------------------\n",
       "[       /                                                                     \n",
       "[      /                                                                      \n",
       "[     /                                                                       \n",
       "[    /          24682568359818090632324537738360257574741037984503697950229135\n",
       "[  \\/                                                                         \n",
       "[- ---------------------------------------------------------------------------\n",
       "[                                                                             \n",
       "[                                                                             \n",
       "[                 ____________________________________________________________\n",
       "[                /          __________________________________________________\n",
       "[               /          /                                                  \n",
       "[              /          /      433453753232969936694100469747667866342856223\n",
       "[             /    - 2*3 /   - -----------------------------------------------\n",
       "[            /         \\/      66749594872528440074844428317798503581334516323\n",
       "[           /                                                                 \n",
       "[          /                                                                  \n",
       "[         /                                                                   \n",
       "[        /                                                                    \n",
       "[       /                                                                     \n",
       "[      /                                                                      \n",
       "[     /                                                                       \n",
       "[    /                                                                        \n",
       "[  \\/                                                                         \n",
       "[- ---------------------------------------------------------------------------\n",
       "[                                                                             \n",
       "\n",
       "                                                                              \n",
       "                                                                              \n",
       "                                                                              \n",
       "                                                                              \n",
       "                                                                              \n",
       "______________________________________________________________________________\n",
       "                                                                              \n",
       "                                                                              \n",
       "                                                                              \n",
       "------------------------------------------------------------------------------\n",
       "                          ____________________________________________________\n",
       "                         /                                                    \n",
       "                        /      43345375323296993669410046974766786634285622333\n",
       "98450369795022913536*3 /   - -------------------------------------------------\n",
       "                     \\/      6674959487252844007484442831779850358133451632364\n",
       "------------------------------------------------------------------------------\n",
       "                                                                              \n",
       "                                                                              \n",
       "                                                                              \n",
       "                                                                              \n",
       "                                                                              \n",
       "                                                                              \n",
       "                                                                              \n",
       "______________________________________________________________________________\n",
       "                                                                              \n",
       "                                                                              \n",
       "                                                                              \n",
       "------------------------------------------------------------------------------\n",
       "        ______________________________________________________________________\n",
       "       /                                                                      \n",
       "      /      43345375323296993669410046974766786634285622333648701299500617869\n",
       "36*3 /   - -------------------------------------------------------------------\n",
       "   \\/      6674959487252844007484442831779850358133451632364539906084505024444\n",
       "------------------------------------------------------------------------------\n",
       "                                                                              \n",
       "                                                                              \n",
       "                                                                              \n",
       "                                                                              \n",
       "                                                                              \n",
       "                                                                              \n",
       "                                                                              \n",
       "______________________________________________________________________________\n",
       "                                                                              \n",
       "                                                                              \n",
       "                                                                              \n",
       "------------------------------------------------------------------------------\n",
       "        ______________________________________________________________________\n",
       "       /                                                                      \n",
       "      /      43345375323296993669410046974766786634285622333648701299500617869\n",
       "36*3 /   - -------------------------------------------------------------------\n",
       "   \\/      6674959487252844007484442831779850358133451632364539906084505024444\n",
       "------------------------------------------------------------------------------\n",
       "                                                                              \n",
       "                                                                              \n",
       "______________________________________________________________________________\n",
       "______________________________________________________________________________\n",
       "                                                         _____________________\n",
       "33648701299500617869082638480673101469567421453    155*\\/ 20736452468930433849\n",
       "------------------------------------------------ + ---------------------------\n",
       "645399060845050244444366430645017188217565216768                              \n",
       "                                                                              \n",
       "                                                                              \n",
       "                                                                              \n",
       "                                                                              \n",
       "                                                                              \n",
       "                                                                              \n",
       "                                                                              \n",
       "                                                                              \n",
       "                                                                              \n",
       "------------------------------------------------------------------------------\n",
       "                                                                              \n",
       "\n",
       "                                                                              \n",
       "                                                                              \n",
       "                                                                              \n",
       "                                                                              \n",
       "                                                                              \n",
       "______________________________________________________________________________\n",
       "                                                                              \n",
       "                                                                              \n",
       "                            25038653398874812527384369585933987495865994509014\n",
       "------------------------------------------------------------------------------\n",
       "______________________________________________________________________________\n",
       "                                                       _______________________\n",
       "648701299500617869082638480673101469567421453    155*\\/ 2073645246893043384939\n",
       "---------------------------------------------- + -----------------------------\n",
       "5399060845050244444366430645017188217565216768                                \n",
       "------------------------------------------------------------------------------\n",
       "                                                                              \n",
       "                                                                              \n",
       "                                                                              \n",
       "                                                                              \n",
       "                                                                              \n",
       "                                                                              \n",
       "                                                                              \n",
       "______________________________________________________________________________\n",
       "                                                                              \n",
       "                                                                              \n",
       "          25038653398874812527384369585933987495865994509014135162402593      \n",
       "------------------------------------------------------------------------------\n",
       "______________________________________________________________________________\n",
       "                                     _________________________________________\n",
       "082638480673101469567421453    155*\\/ 2073645246893043384939155831553163082321\n",
       "---------------------------- + -----------------------------------------------\n",
       "4366430645017188217565216768                                                  \n",
       "------------------------------------------------------------------------------\n",
       "                                                                              \n",
       "                                                                              \n",
       "                                                                              \n",
       "                                                                              \n",
       "                                                                              \n",
       "                                                                              \n",
       "                                                                              \n",
       "______________________________________________________________________________\n",
       "                                                                              \n",
       "                                                                              \n",
       "          25038653398874812527384369585933987495865994509014135162402593      \n",
       "------------------------------------------------------------------------------\n",
       "______________________________________________________________________________\n",
       "                                     _________________________________________\n",
       "082638480673101469567421453    155*\\/ 2073645246893043384939155831553163082321\n",
       "---------------------------- + -----------------------------------------------\n",
       "4366430645017188217565216768                                                  \n",
       "------------------------------------------------------------------------------\n",
       "                                                                              \n",
       "                                                                              \n",
       "______________________________________________________________________________\n",
       "______________________________________________________________________________\n",
       "______________________________________________________________________________\n",
       "391558315531630823218270840329158859946722133800658362799148577882526939210889\n",
       "------------------------------------------------------------------------------\n",
       "                    3003731769263779803367999274300932661160053234564042957738\n",
       "                                                                              \n",
       "                                                                              \n",
       "                                                                              \n",
       "                                                                              \n",
       "                                                                              \n",
       "                                                                              \n",
       "                                                                              \n",
       "                                                                              \n",
       "                                                                              \n",
       "------------------------------------------------------------------------------\n",
       "                                                                              \n",
       "\n",
       "                                                                              \n",
       "                                                                              \n",
       "                                                                              \n",
       "                                                                              \n",
       "                                                                              \n",
       "______________________________________________________________________________\n",
       "                                                                              \n",
       "                                                                              \n",
       "135162402593                                                                  \n",
       "------------------------------------------------------------------------------\n",
       "______________________________________________________________________________\n",
       "______________________________________________________________________________\n",
       "155831553163082321827084032915885994672213380065836279914857788252693921088955\n",
       "------------------------------------------------------------------------------\n",
       "                  300373176926377980336799927430093266116005323456404295773802\n",
       "------------------------------------------------------------------------------\n",
       "                                                                              \n",
       "                                                                              \n",
       "                                                                              \n",
       "                                                                              \n",
       "                                                                              \n",
       "                                                                              \n",
       "                                                                              \n",
       "______________________________________________________________________________\n",
       "                                                                              \n",
       "                                                                              \n",
       "                                                                              \n",
       "------------------------------------------------------------------------------\n",
       "______________________________________________________________________________\n",
       "______________________________________________________________________________\n",
       "827084032915885994672213380065836279914857788252693921088955033031121648495443\n",
       "------------------------------------------------------------------------------\n",
       "300373176926377980336799927430093266116005323456404295773802726099999648937902\n",
       "------------------------------------------------------------------------------\n",
       "                                                                              \n",
       "                                                                              \n",
       "                                                                              \n",
       "                                                                              \n",
       "                                                                              \n",
       "                                                                              \n",
       "                                                                              \n",
       "______________________________________________________________________________\n",
       "                                                                              \n",
       "                                                                              \n",
       "                                                                              \n",
       "------------------------------------------------------------------------------\n",
       "______________________________________________________________________________\n",
       "______________________________________________________________________________\n",
       "827084032915885994672213380065836279914857788252693921088955033031121648495443\n",
       "------------------------------------------------------------------------------\n",
       "300373176926377980336799927430093266116005323456404295773802726099999648937902\n",
       "------------------------------------------------------------------------------\n",
       "                                                                              \n",
       "                                                                              \n",
       "______________________________________________________________________________\n",
       "______________________________________________________________________________\n",
       "______________________________________________________________________________\n",
       "550330311216484954437001503128022022624221425338789886337627871390469529526488\n",
       "------------------------------------------------------------------------------\n",
       "02726099999648937902577346979043475456                                        \n",
       "                                                                              \n",
       "                                                                              \n",
       "                                                                              \n",
       "                                                                              \n",
       "                                                                              \n",
       "                                                                              \n",
       "                                                                              \n",
       "                                                                              \n",
       "                                                                              \n",
       "------------------------------------------------------------------------------\n",
       "                                                                              \n",
       "\n",
       "                                                                              \n",
       "                                                                              \n",
       "                                                                              \n",
       "                                                                              \n",
       "                                                                              \n",
       "______________________________________________________________________________\n",
       "                                                                              \n",
       "                                                                              \n",
       "                                                                              \n",
       "------------------------------------------------------------------------------\n",
       "______________________________________________________________________________\n",
       "______________________________________________________________________________\n",
       "033031121648495443700150312802202262422142533878988633762787139046952952648886\n",
       "------------------------------------------------------------------------------\n",
       "726099999648937902577346979043475456                                          \n",
       "------------------------------------------------------------------------------\n",
       "                                                                2             \n",
       "                                                                              \n",
       "                                                                              \n",
       "                                                                              \n",
       "                                                                              \n",
       "                                                                              \n",
       "                                                                              \n",
       "______________________________________________________________________________\n",
       "                                                                           ___\n",
       "                                                                          /   \n",
       "                                                                         /    \n",
       "----------------------------------------------------------------- + 2*3 /   - \n",
       "_________________________________________________________________     \\/      \n",
       "________________________________________________________________              \n",
       "700150312802202262422142533878988633762787139046952952648886335               \n",
       "----------------------------------------------------------------              \n",
       "577346979043475456                                                            \n",
       "------------------------------------------------------------------------------\n",
       "                                              2                               \n",
       "                                                                              \n",
       "                                                                              \n",
       "                                                                              \n",
       "                                                                              \n",
       "                                                                              \n",
       "                                                                              \n",
       "______________________________________________________________________________\n",
       "                                                                           ___\n",
       "                                                                          /   \n",
       "                                                                         /    \n",
       "----------------------------------------------------------------- + 2*3 /   - \n",
       "_________________________________________________________________     \\/      \n",
       "________________________________________________________________              \n",
       "700150312802202262422142533878988633762787139046952952648886335               \n",
       "----------------------------------------------------------------              \n",
       "577346979043475456                                                            \n",
       "------------------------------------------------------------------------------\n",
       "                                              2                               \n",
       "                                                                              \n",
       "______________________________________________________________________________\n",
       "_______                                                                       \n",
       "______                                                                        \n",
       "86335                                                                         \n",
       "------  + --------------------------------------------------------------------\n",
       "                                                                              \n",
       "                                                                              \n",
       "                                                                              \n",
       "          2468256835981809063232453773836025757474103798450369795022913536*3 /\n",
       "                                                                           \\/ \n",
       "                                                                              \n",
       "                                                                              \n",
       "                                                                              \n",
       "                                                                              \n",
       "                                                                              \n",
       "------------------------------------------------------------------------------\n",
       "                                                                              \n",
       "\n",
       "                                                                              \n",
       "                                                                              \n",
       "                                                                              \n",
       "                                                                              \n",
       "                                                                              \n",
       "______________________________________________________________________________\n",
       "               _______________________________________________________________\n",
       "              /                                                               \n",
       "             /      4334537532329699366941004697476678663428562233364870129950\n",
       "----- + 2*3 /   - ------------------------------------------------------------\n",
       "_____     \\/      667495948725284400748444283177985035813345163236453990608450\n",
       "____                                                                          \n",
       "335                                                                           \n",
       "----                                                                          \n",
       "                                                                              \n",
       "------------------------------------------------------------------------------\n",
       "                                                                              \n",
       "                                                                              \n",
       "                                                                              \n",
       "                                                                              \n",
       "                                                                              \n",
       "                                                                              \n",
       "                                                                              \n",
       "______________________________________________________________________________\n",
       "______________________________________________________________________________\n",
       "                                                                              \n",
       "  4334537532329699366941004697476678663428562233364870129950061786908263848067\n",
       "------------------------------------------------------------------------------\n",
       "667495948725284400748444283177985035813345163236453990608450502444443664306450\n",
       "                                                                              \n",
       "                                                                              \n",
       "                                                                              \n",
       "                                                                              \n",
       "------------------------------------------------------------------------------\n",
       "                                                                              \n",
       "                                                                              \n",
       "                                                                              \n",
       "                                                                              \n",
       "                                                                              \n",
       "                                                                              \n",
       "                                                                              \n",
       "______________________________________________________________________________\n",
       "______________________________________________________________________________\n",
       "                                                                              \n",
       "  4334537532329699366941004697476678663428562233364870129950061786908263848067\n",
       "------------------------------------------------------------------------------\n",
       "667495948725284400748444283177985035813345163236453990608450502444443664306450\n",
       "                                                                              \n",
       "                                                                              \n",
       "                                                                              \n",
       "                                                                              \n",
       "------------------------------------------------------------------------------\n",
       "                                                                              \n",
       "                                                                              \n",
       "______________________________________________________________________________\n",
       "                                                                              \n",
       "                                                                              \n",
       "                                                                              \n",
       "------------------------------------------------------------------------------\n",
       "  ____________________________________________________________________________\n",
       " /                                                                            \n",
       "/      43345375323296993669410046974766786634285622333648701299500617869082638\n",
       "   - -------------------------------------------------------------------------\n",
       "     6674959487252844007484442831779850358133451632364539906084505024444436643\n",
       "                                                                              \n",
       "                                                                              \n",
       "                                                                              \n",
       "                                                                              \n",
       "                                                                              \n",
       "------------------------------------------------------------------------------\n",
       "                                                                              \n",
       "\n",
       "                                                                              \n",
       "                                                                              \n",
       "                                                                              \n",
       "                                                                              \n",
       "                                                                              \n",
       "______________________________________________________________________________\n",
       "______________________________________________________________________________\n",
       "                                            __________________________________\n",
       "0617869082638480673101469567421453    155*\\/ 207364524689304338493915583155316\n",
       "----------------------------------- + ----------------------------------------\n",
       "50244444366430645017188217565216768                                           \n",
       "                                                                              \n",
       "                                                                              \n",
       "                                                                              \n",
       "                                                                              \n",
       "------------------------------------------------------------------------------\n",
       "                                                                              \n",
       "                                                                              \n",
       "                                                                              \n",
       "                                                                              \n",
       "                                                                              \n",
       "                                                                              \n",
       "                                                                              \n",
       "______________________________________________________________________________\n",
       "______________________________________________________________________________\n",
       "                          ____________________________________________________\n",
       "3101469567421453    155*\\/ 207364524689304338493915583155316308232182708403291\n",
       "----------------- + ----------------------------------------------------------\n",
       "17188217565216768                                                  30037317692\n",
       "                                                                              \n",
       "                                                                              \n",
       "                                                                              \n",
       "                                                                              \n",
       "------------------------------------------------------------------------------\n",
       "                                                                              \n",
       "                                                                              \n",
       "                                                                              \n",
       "                                                                              \n",
       "                                                                              \n",
       "                                                                              \n",
       "                                                                              \n",
       "______________________________________________________________________________\n",
       "______________________________________________________________________________\n",
       "                          ____________________________________________________\n",
       "3101469567421453    155*\\/ 207364524689304338493915583155316308232182708403291\n",
       "----------------- + ----------------------------------------------------------\n",
       "17188217565216768                                                  30037317692\n",
       "                                                                              \n",
       "                                                                              \n",
       "                                                                              \n",
       "                                                                              \n",
       "------------------------------------------------------------------------------\n",
       "                                                                              \n",
       "                                                                              \n",
       "______________________________________________________________________________\n",
       "                                                                              \n",
       "                                                                              \n",
       "    25038653398874812527384369585933987495865994509014135162402593            \n",
       "------------------------------------------------------------------------------\n",
       "______________________________________________________________________________\n",
       "                               _______________________________________________\n",
       "480673101469567421453    155*\\/ 2073645246893043384939155831553163082321827084\n",
       "---------------------- + -----------------------------------------------------\n",
       "0645017188217565216768                                                  300373\n",
       "                                                                              \n",
       "                                                                              \n",
       "                                                                              \n",
       "                                                                              \n",
       "                                                                              \n",
       "------------------------------------------------------------------------------\n",
       "                                                                              \n",
       "\n",
       "                                                                              \n",
       "                                                                              \n",
       "                                                                              \n",
       "                                                                              \n",
       "                                                                              \n",
       "______________________________________________________________________________\n",
       "______________________________________________________________________________\n",
       "______________________________________________________________________________\n",
       "308232182708403291588599467221338006583627991485778825269392108895503303112164\n",
       "------------------------------------------------------------------------------\n",
       "       30037317692637798033679992743009326611600532345640429577380272609999964\n",
       "                                                                              \n",
       "                                                                              \n",
       "                                                                              \n",
       "                                                                              \n",
       "------------------------------------------------------------------------------\n",
       "                                                                              \n",
       "                                                                              \n",
       "                                                                              \n",
       "                                                                              \n",
       "                                                                              \n",
       "                                                                              \n",
       "                                                                              \n",
       "______________________________________________________________________________\n",
       "______________________________________________________________________________\n",
       "______________________________________________________________________________\n",
       "588599467221338006583627991485778825269392108895503303112164849544370015031280\n",
       "------------------------------------------------------------------------------\n",
       "637798033679992743009326611600532345640429577380272609999964893790257734697904\n",
       "                                                                              \n",
       "                                                                              \n",
       "                                                                              \n",
       "                                                                              \n",
       "------------------------------------------------------------------------------\n",
       "                                                                              \n",
       "                                                                              \n",
       "                                                                              \n",
       "                                                                              \n",
       "                                                                              \n",
       "                                                                              \n",
       "                                                                              \n",
       "______________________________________________________________________________\n",
       "______________________________________________________________________________\n",
       "______________________________________________________________________________\n",
       "588599467221338006583627991485778825269392108895503303112164849544370015031280\n",
       "------------------------------------------------------------------------------\n",
       "637798033679992743009326611600532345640429577380272609999964893790257734697904\n",
       "                                                                              \n",
       "                                                                              \n",
       "                                                                              \n",
       "                                                                              \n",
       "------------------------------------------------------------------------------\n",
       "                                                                              \n",
       "                                                                              \n",
       "______________________________________________________________________________\n",
       "                                                                              \n",
       "                                                                              \n",
       "                                                                              \n",
       "------------------------------------------------------------------------------\n",
       "______________________________________________________________________________\n",
       "______________________________________________________________________________\n",
       "032915885994672213380065836279914857788252693921088955033031121648495443700150\n",
       "------------------------------------------------------------------------------\n",
       "176926377980336799927430093266116005323456404295773802726099999648937902577346\n",
       "                                                                              \n",
       "                                                                              \n",
       "                                                                              \n",
       "                                                                              \n",
       "                                                                              \n",
       "------------------------------------------------------------------------------\n",
       "                                                                              \n",
       "\n",
       "                                                                              \n",
       "                                                                              \n",
       "                                                                              \n",
       "                                                                              \n",
       "                                                                              \n",
       "______________________________________________________________________________\n",
       "________________________________________________________________________      \n",
       "_______________________________________________________________________       \n",
       "8495443700150312802202262422142533878988633762787139046952952648886335     214\n",
       "-----------------------------------------------------------------------  + ---\n",
       "8937902577346979043475456                                                  202\n",
       "                                                                              \n",
       "                                                                              \n",
       "                                                                              \n",
       "                                                                              \n",
       "------------------------------------------------------------------------------\n",
       "                                                                              \n",
       "                                                                              \n",
       "                                                                              \n",
       "                                                                              \n",
       "                                                                              \n",
       "                                                                              \n",
       "                                                                              \n",
       "______________________________________________________________________________\n",
       "______________________________________________________                        \n",
       "_____________________________________________________                         \n",
       "2202262422142533878988633762787139046952952648886335     214469910625397348568\n",
       "-----------------------------------------------------  + ---------------------\n",
       "3475456                                                  202824096036516704239\n",
       "                                                                              \n",
       "                                                                              \n",
       "                                                                              \n",
       "                                                                              \n",
       "------------------------------------------------------------------------------\n",
       "                                                                              \n",
       "                                                                              \n",
       "                                                                              \n",
       "                                                                              \n",
       "                                                                              \n",
       "                                                                              \n",
       "                                                                              \n",
       "______________________________________________________________________________\n",
       "______________________________________________________                        \n",
       "_____________________________________________________                         \n",
       "2202262422142533878988633762787139046952952648886335     214469910625397348568\n",
       "-----------------------------------------------------  + ---------------------\n",
       "3475456                                                  202824096036516704239\n",
       "                                                                              \n",
       "                                                                              \n",
       "                                                                              \n",
       "                                                                              \n",
       "------------------------------------------------------------------------------\n",
       "                                                                              \n",
       "                                                                              \n",
       "______________________________________________________________________________\n",
       "                                                                              \n",
       "                                                                              \n",
       "                                                              2144699106253973\n",
       "----------------------------------------------------------- + ----------------\n",
       "___________________________________________________________   1014120480182583\n",
       "__________________________________________________________                    \n",
       "312802202262422142533878988633762787139046952952648886335                     \n",
       "----------------------------------------------------------                    \n",
       "979043475456                                                                  \n",
       "                                                                              \n",
       "                                                                              \n",
       "                                                                              \n",
       "                                                                              \n",
       "                                                                              \n",
       "------------------------------------------------------------------------------\n",
       "                                                                              \n",
       "\n",
       "                                                ______________________________\n",
       "                                               /          ____________________\n",
       "                                              /          /                    \n",
       "                                             /          /      433453753232969\n",
       "                                            /    - 2*3 /   - -----------------\n",
       "______________________________             /         \\/      66749594872528440\n",
       "                                          /                                   \n",
       "                                         /                                    \n",
       "46991062539734856865030805899           /                                     \n",
       "-----------------------------          /                                      \n",
       "82409603651670423947251286016         /                                       \n",
       "                                     /                                        \n",
       "                                    /                                         \n",
       "                                   /                                          \n",
       "                                 \\/                                           \n",
       "------------------------------ + ---------------------------------------------\n",
       "                                                                              \n",
       "                                                                              \n",
       "                                                 _____________________________\n",
       "                                                /                             \n",
       "                                               /                              \n",
       "                                              /                               \n",
       "                                             /    - --------------------------\n",
       "____________                                /                                 \n",
       "                                           /                                  \n",
       "                                          /                                   \n",
       "65030805899                              /                                    \n",
       "-----------                             /           22835963083295358096932575\n",
       "47251286016                            /                                      \n",
       "                                      /                                       \n",
       "                                     /                                        \n",
       "                                    /                                         \n",
       "               4079006586253195   \\/                                          \n",
       "------------ + ---------------- - --------------------------------------------\n",
       "               9007199254740992                                               \n",
       "                                                                              \n",
       "                                                 _____________________________\n",
       "                                                /                             \n",
       "                                               /                              \n",
       "                                              /                               \n",
       "                                             /    - --------------------------\n",
       "____________                                /                                 \n",
       "                                           /                                  \n",
       "                                          /                                   \n",
       "65030805899                              /                                    \n",
       "-----------                             /           22835963083295358096932575\n",
       "47251286016                            /                                      \n",
       "                                      /                                       \n",
       "                                     /                                        \n",
       "                                    /                                         \n",
       "               4079006586253195   \\/                                          \n",
       "------------ + ---------------- + --------------------------------------------\n",
       "               9007199254740992                                               \n",
       "                                                                              \n",
       "______________________________________________________________________________\n",
       "                                                                              \n",
       "                                                                              \n",
       "4856865030805899                                                              \n",
       "---------------- + -----------------------------------------------------------\n",
       "5211973625643008                                                             _\n",
       "                                                                            / \n",
       "                                                                           /  \n",
       "                                                                          /   \n",
       "                   22835963083295358096932575511191922182123945984*      /    \n",
       "                                                                        /     \n",
       "                                                                       /      \n",
       "                                                                      /       \n",
       "                                                                     /        \n",
       "                                                                   \\/         \n",
       "------------------------------------------------------------------------------\n",
       "                                       2                                      \n",
       "\n",
       "______________________________________________________________________________\n",
       "______________________________________________________________________________\n",
       "                                                                              \n",
       "93669410046974766786634285622333648701299500617869082638480673101469567421453 \n",
       "------------------------------------------------------------------------------\n",
       "074844428317798503581334516323645399060845050244444366430645017188217565216768\n",
       "                                                                              \n",
       "                                                                              \n",
       "                                                                              \n",
       "                                                                              \n",
       "                                                                              \n",
       "                                                                              \n",
       "                                                                              \n",
       "                                                                              \n",
       "                                                                              \n",
       "------------------------------------------------------------------------------\n",
       "                                                                              \n",
       "                                                                              \n",
       "______________________________________________________________________________\n",
       "                                                                              \n",
       "                                                                              \n",
       "                                                                              \n",
       "------------------------------------------------------------------------------\n",
       "                                ______________________________________________\n",
       "                               /                                              \n",
       "                              /                                               \n",
       "                             /                                                \n",
       "511191922182123945984*      /    - -------------------------------------------\n",
       "                           /                                                  \n",
       "                          /                                                   \n",
       "                         /                                                    \n",
       "                        /          2468256835981809063232453773836025757474103\n",
       "                      \\/                                                      \n",
       "------------------------------------------------------------------------------\n",
       "                                                                              \n",
       "                                                                              \n",
       "______________________________________________________________________________\n",
       "                                                                              \n",
       "                                                                              \n",
       "                                                                              \n",
       "------------------------------------------------------------------------------\n",
       "                                ______________________________________________\n",
       "                               /                                              \n",
       "                              /                                               \n",
       "                             /                                                \n",
       "511191922182123945984*      /    - -------------------------------------------\n",
       "                           /                                                  \n",
       "                          /                                                   \n",
       "                         /                                                    \n",
       "                        /          2468256835981809063232453773836025757474103\n",
       "                      \\/                                                      \n",
       "------------------------------------------------------------------------------\n",
       "                                                                              \n",
       "                                                                              \n",
       "______________________________________________________________________________\n",
       "                                                                              \n",
       "                                                                              \n",
       "                                                                              \n",
       "------------------------------------------------------------------------------\n",
       "______________________________________________________________________________\n",
       "                                                                              \n",
       "                                                                              \n",
       "                                                                              \n",
       "- ----------------------------------------------------------------------------\n",
       "                                                                        ______\n",
       "                                                                       /      \n",
       "                                                                      /      4\n",
       "  2468256835981809063232453773836025757474103798450369795022913536*3 /   - ---\n",
       "                                                                   \\/      667\n",
       "------------------------------------------------------------------------------\n",
       "                                                                              \n",
       "\n",
       "______________________________________________________________________________\n",
       "______________________________________________________________________________\n",
       "         _____________________________________________________________________\n",
       "   155*\\/ 20736452468930433849391558315531630823218270840329158859946722133800\n",
       " + ---------------------------------------------------------------------------\n",
       "                                                  3003731769263779803367999274\n",
       "                                                                              \n",
       "                                                                              \n",
       "                                                                              \n",
       "                                                                              \n",
       "                                                                              \n",
       "                                                                              \n",
       "                                                                              \n",
       "                                                                              \n",
       "                                                                              \n",
       "------------------------------------------------------------------------------\n",
       "                                                                              \n",
       "                                                                              \n",
       "______________________________________________________________________________\n",
       "                                                                              \n",
       "                                                                              \n",
       "                                                                              \n",
       "------------------------------------------------------------------------------\n",
       "______________________________________________________________________________\n",
       "                                                                              \n",
       "                                                                              \n",
       "                                                                              \n",
       "------------------------------------------------------------------------------\n",
       "                           ___________________________________________________\n",
       "                          /                                                   \n",
       "                         /      4334537532329699366941004697476678663428562233\n",
       "798450369795022913536*3 /   - ------------------------------------------------\n",
       "                      \\/      667495948725284400748444283177985035813345163236\n",
       "------------------------------------------------------------------------------\n",
       "                                                                              \n",
       "                                                                              \n",
       "______________________________________________________________________________\n",
       "                                                                              \n",
       "                                                                              \n",
       "                                                                              \n",
       "------------------------------------------------------------------------------\n",
       "______________________________________________________________________________\n",
       "                                                                              \n",
       "                                                                              \n",
       "                                                                              \n",
       "------------------------------------------------------------------------------\n",
       "                           ___________________________________________________\n",
       "                          /                                                   \n",
       "                         /      4334537532329699366941004697476678663428562233\n",
       "798450369795022913536*3 /   - ------------------------------------------------\n",
       "                      \\/      667495948725284400748444283177985035813345163236\n",
       "------------------------------------------------------------------------------\n",
       "                                                                              \n",
       "                                                                              \n",
       "______________________________________________________________________________\n",
       "                                                                              \n",
       "                                                                              \n",
       "                                                                              \n",
       "------------------------------------------------------------------------------\n",
       "______________________________________________________________________________\n",
       "                                                                              \n",
       "                                                                              \n",
       "                                                                          2503\n",
       "------------------------------------------------------------------------------\n",
       "______________________________________________________________________________\n",
       "                                                                              \n",
       "334537532329699366941004697476678663428562233364870129950061786908263848067310\n",
       "------------------------------------------------------------------------------\n",
       "495948725284400748444283177985035813345163236453990608450502444443664306450171\n",
       "------------------------------------------------------------------------------\n",
       "                                                                              \n",
       "\n",
       "______________________________________________________________________________\n",
       "______________________________________________________________________________\n",
       "______________________________________________________________________________\n",
       "658362799148577882526939210889550330311216484954437001503128022022624221425338\n",
       "------------------------------------------------------------------------------\n",
       "30093266116005323456404295773802726099999648937902577346979043475456          \n",
       "                                                                              \n",
       "                                                                              \n",
       "                                                                              \n",
       "                                                                              \n",
       "                                                                              \n",
       "                                                                              \n",
       "                                                                              \n",
       "                                                                              \n",
       "                                                                              \n",
       "------------------------------------------------------------------------------\n",
       "                                                                              \n",
       "                                                                              \n",
       "______________________________________________________________________________\n",
       "                                                                              \n",
       "                                                                              \n",
       "                                                                              \n",
       "------------------------------------------------------------------------------\n",
       "______________________________________________________________________________\n",
       "                                                                              \n",
       "                                                                              \n",
       "                             2503865339887481252738436958593398749586599450901\n",
       "------------------------------------------------------------------------------\n",
       "______________________________________________________________________________\n",
       "                                                        ______________________\n",
       "3648701299500617869082638480673101469567421453    155*\\/ 207364524689304338493\n",
       "----------------------------------------------- + ----------------------------\n",
       "45399060845050244444366430645017188217565216768                               \n",
       "------------------------------------------------------------------------------\n",
       "                                                                              \n",
       "                                                                              \n",
       "______________________________________________________________________________\n",
       "                                                                              \n",
       "                                                                              \n",
       "                                                                              \n",
       "------------------------------------------------------------------------------\n",
       "______________________________________________________________________________\n",
       "                                                                              \n",
       "                                                                              \n",
       "                             2503865339887481252738436958593398749586599450901\n",
       "------------------------------------------------------------------------------\n",
       "______________________________________________________________________________\n",
       "                                                        ______________________\n",
       "3648701299500617869082638480673101469567421453    155*\\/ 207364524689304338493\n",
       "----------------------------------------------- + ----------------------------\n",
       "45399060845050244444366430645017188217565216768                               \n",
       "------------------------------------------------------------------------------\n",
       "                                                                              \n",
       "                                                                              \n",
       "______________________________________________________________________________\n",
       "                                                                              \n",
       "                                                                              \n",
       "                                                                              \n",
       "------------------------------------------------------------------------------\n",
       "______________________________________________________________________________\n",
       "                                                                              \n",
       "                                                                              \n",
       "8653398874812527384369585933987495865994509014135162402593                    \n",
       "------------------------------------------------------------------------------\n",
       "______________________________________________________________________________\n",
       "                       _______________________________________________________\n",
       "1469567421453    155*\\/ 207364524689304338493915583155316308232182708403291588\n",
       "-------------- + -------------------------------------------------------------\n",
       "88217565216768                                                  30037317692637\n",
       "------------------------------------------------------------------------------\n",
       "                                                                              \n",
       "\n",
       "______________________________________________________________________________\n",
       "_____________________________________                                         \n",
       "____________________________________                                          \n",
       "78988633762787139046952952648886335                                           \n",
       "------------------------------------  + --------------------------------------\n",
       "                                                                              \n",
       "                                                                              \n",
       "                                                                              \n",
       "                                        24682568359818090632324537738360257574\n",
       "                                                                              \n",
       "                                                                              \n",
       "                                                                              \n",
       "                                                                              \n",
       "                                                                              \n",
       "                                                                              \n",
       "------------------------------------------------------------------------------\n",
       "                                                                              \n",
       "                                                                              \n",
       "______________________________________________________________________________\n",
       "                                                                              \n",
       "                                                                              \n",
       "                                                                              \n",
       "------------------------------------------------------------------------------\n",
       "______________________________________________________________________________\n",
       "                                                                              \n",
       "                                                                              \n",
       "4135162402593                                                                 \n",
       "------------------------------------------------------------------------------\n",
       "______________________________________________________________________________\n",
       "______________________________________________________________________________\n",
       "915583155316308232182708403291588599467221338006583627991485778825269392108895\n",
       "------------------------------------------------------------------------------\n",
       "                   30037317692637798033679992743009326611600532345640429577380\n",
       "------------------------------------------------------------------------------\n",
       "                                                                              \n",
       "                                                                              \n",
       "______________________________________________________________________________\n",
       "                                                                              \n",
       "                                                                              \n",
       "                                                                              \n",
       "------------------------------------------------------------------------------\n",
       "______________________________________________________________________________\n",
       "                                                                              \n",
       "                                                                              \n",
       "4135162402593                                                                 \n",
       "------------------------------------------------------------------------------\n",
       "______________________________________________________________________________\n",
       "______________________________________________________________________________\n",
       "915583155316308232182708403291588599467221338006583627991485778825269392108895\n",
       "------------------------------------------------------------------------------\n",
       "                   30037317692637798033679992743009326611600532345640429577380\n",
       "------------------------------------------------------------------------------\n",
       "                                                                              \n",
       "                                                                              \n",
       "______________________________________________________________________________\n",
       "                                                                              \n",
       "                                                                              \n",
       "                                                               507822778478189\n",
       "------------------------------------------------------------------------------\n",
       "______________________________________________________________________________\n",
       "                                                                              \n",
       "                                                                              \n",
       "                                                                              \n",
       "------------------------------------------------------------------------------\n",
       "______________________________________________________________________________\n",
       "______________________________________________________________________________\n",
       "599467221338006583627991485778825269392108895503303112164849544370015031280220\n",
       "------------------------------------------------------------------------------\n",
       "798033679992743009326611600532345640429577380272609999964893790257734697904347\n",
       "------------------------------------------------------------------------------\n",
       "                                                                              \n",
       "\n",
       "______________________________________________________________________________\n",
       "                                                                              \n",
       "                                                                              \n",
       "                                                                              \n",
       "------------------------------------------------------------------------------\n",
       "                                ______________________________________________\n",
       "                               /                                              \n",
       "                              /      43345375323296993669410046974766786634285\n",
       "74103798450369795022913536*3 /   - -------------------------------------------\n",
       "                           \\/      6674959487252844007484442831779850358133451\n",
       "                                                                              \n",
       "                                                                              \n",
       "                                                                              \n",
       "                                                                              \n",
       "                                                                              \n",
       "------------------------------------------------------------------------------\n",
       "                                                                              \n",
       "                                                                              \n",
       "______________________________________________________________________________\n",
       "                                                                              \n",
       "                                                                              \n",
       "                  50782277847818920188422111293208806136531606735             \n",
       "------------------------------------------------------------------------------\n",
       "______________________________________________________________________________\n",
       "                                                                              \n",
       "                                                                              \n",
       "                                                                              \n",
       "------------------------------------------------------------------------------\n",
       "______________________________________________________________________________\n",
       "______________________________________________________________________________\n",
       "503303112164849544370015031280220226242214253387898863376278713904695295264888\n",
       "------------------------------------------------------------------------------\n",
       "2726099999648937902577346979043475456                                         \n",
       "------------------------------------------------------------------------------\n",
       "                                                                              \n",
       "                                                                              \n",
       "______________________________________________________________________________\n",
       "                                                                              \n",
       "                                                                              \n",
       "                  50782277847818920188422111293208806136531606735             \n",
       "------------------------------------------------------------------------------\n",
       "______________________________________________________________________________\n",
       "                                                                              \n",
       "                                                                              \n",
       "                                                                              \n",
       "------------------------------------------------------------------------------\n",
       "______________________________________________________________________________\n",
       "______________________________________________________________________________\n",
       "503303112164849544370015031280220226242214253387898863376278713904695295264888\n",
       "------------------------------------------------------------------------------\n",
       "2726099999648937902577346979043475456                                         \n",
       "------------------------------------------------------------------------------\n",
       "                                                                              \n",
       "                                                                              \n",
       "______________________________________________________________________________\n",
       "                                                                              \n",
       "                                                                              \n",
       "20188422111293208806136531606735                                              \n",
       "------------------------------------------------------------------------------\n",
       "______________________________________________________________________________\n",
       "                                                             _________________\n",
       "                                                            /                 \n",
       "                                                           /      433453753232\n",
       "--------------------------------------------------- + 2*3 /   - --------------\n",
       "___________________________________________________     \\/      66749594872528\n",
       "__________________________________________________                            \n",
       "2262422142533878988633762787139046952952648886335                             \n",
       "--------------------------------------------------                            \n",
       "5456                                                                          \n",
       "------------------------------------------------------------------------------\n",
       "                                                                              \n",
       "\n",
       "______________________________________________________________________________\n",
       "                                                                              \n",
       "                                                                              \n",
       "                                  25038653398874812527384369585933987495865994\n",
       "------------------------------------------------------------------------------\n",
       "______________________________________________________________________________\n",
       "                                                             _________________\n",
       "622333648701299500617869082638480673101469567421453    155*\\/ 2073645246893043\n",
       "---------------------------------------------------- + -----------------------\n",
       "6323645399060845050244444366430645017188217565216768                          \n",
       "                                                                              \n",
       "                                                                              \n",
       "                                                                              \n",
       "                                                                              \n",
       "                                                                              \n",
       "------------------------------------------------------------------------------\n",
       "                                                                              \n",
       "                                                                              \n",
       "______________________________________________________________________________\n",
       "                                                                              \n",
       "                                                                              \n",
       "                                                                              \n",
       "------------------------------------------------------------------------------\n",
       "______________________________________________________________________________\n",
       "                ______________________________________________________________\n",
       "               /                                                              \n",
       "              /      433453753232969936694100469747667866342856223336487012995\n",
       "------ + 2*3 /   - -----------------------------------------------------------\n",
       "______     \\/      66749594872528440074844428317798503581334516323645399060845\n",
       "_____                                                                         \n",
       "6335                                                                          \n",
       "-----                                                                         \n",
       "                                                                              \n",
       "------------------------------------------------------------------------------\n",
       "                                                                              \n",
       "                                                                              \n",
       "______________________________________________________________________________\n",
       "                                                                              \n",
       "                                                                              \n",
       "                                                                              \n",
       "------------------------------------------------------------------------------\n",
       "______________________________________________________________________________\n",
       "                ______________________________________________________________\n",
       "               /                                                              \n",
       "              /      433453753232969936694100469747667866342856223336487012995\n",
       "------ + 2*3 /   - -----------------------------------------------------------\n",
       "______     \\/      66749594872528440074844428317798503581334516323645399060845\n",
       "_____                                                                         \n",
       "6335                                                                          \n",
       "-----                                                                         \n",
       "                                                                              \n",
       "------------------------------------------------------------------------------\n",
       "                                                                              \n",
       "                                                                              \n",
       "______________________________________________________________________________\n",
       "                                                                              \n",
       "                                                                              \n",
       "                                                                              \n",
       "------------------------------------------------------------------------------\n",
       "______________________________________________________________________________\n",
       "______________________________________________________________________________\n",
       "                                                                              \n",
       "969936694100469747667866342856223336487012995006178690826384806731014695674214\n",
       "------------------------------------------------------------------------------\n",
       "440074844428317798503581334516323645399060845050244444366430645017188217565216\n",
       "                                                                              \n",
       "                                                                              \n",
       "                                                                              \n",
       "                                                                              \n",
       "------------------------------------------------------------------------------\n",
       "                                                                              \n",
       "\n",
       "______________________________________________________________________________\n",
       "                                                                              \n",
       "                                                                              \n",
       "509014135162402593                                                            \n",
       "------------------------------------------------------------------------------\n",
       "______________________________________________________________________________\n",
       "______________________________________________________________________________\n",
       "384939155831553163082321827084032915885994672213380065836279914857788252693921\n",
       "------------------------------------------------------------------------------\n",
       "                        300373176926377980336799927430093266116005323456404295\n",
       "                                                                              \n",
       "                                                                              \n",
       "                                                                              \n",
       "                                                                              \n",
       "                                                                              \n",
       "------------------------------------------------------------------------------\n",
       "                                                                              \n",
       "                                                                              \n",
       "______________________________________________________________________________\n",
       "                                                                              \n",
       "                                                                              \n",
       "                                                                              \n",
       "------------------------------------------------------------------------------\n",
       "______________________________________________________________________________\n",
       "______________________________________________________________________________\n",
       "                                             _________________________________\n",
       "00617869082638480673101469567421453    155*\\/ 20736452468930433849391558315531\n",
       "------------------------------------ + ---------------------------------------\n",
       "050244444366430645017188217565216768                                          \n",
       "                                                                              \n",
       "                                                                              \n",
       "                                                                              \n",
       "                                                                              \n",
       "------------------------------------------------------------------------------\n",
       "                                                                              \n",
       "                                                                              \n",
       "______________________________________________________________________________\n",
       "                                                                              \n",
       "                                                                              \n",
       "                                                                              \n",
       "------------------------------------------------------------------------------\n",
       "______________________________________________________________________________\n",
       "______________________________________________________________________________\n",
       "                                             _________________________________\n",
       "00617869082638480673101469567421453    155*\\/ 20736452468930433849391558315531\n",
       "------------------------------------ + ---------------------------------------\n",
       "050244444366430645017188217565216768                                          \n",
       "                                                                              \n",
       "                                                                              \n",
       "                                                                              \n",
       "                                                                              \n",
       "------------------------------------------------------------------------------\n",
       "                                                                              \n",
       "                                                                              \n",
       "______________________________________________________________________________\n",
       "                                                                              \n",
       "                                                                              \n",
       "                                                                              \n",
       "------------------------------------------------------------------------------\n",
       "______________________________________________________________________________\n",
       "______________________________________________________________________________\n",
       "            __________________________________________________________________\n",
       "53    155*\\/ 20736452468930433849391558315531630823218270840329158859946722133\n",
       "--- + ------------------------------------------------------------------------\n",
       "768                                                  3003731769263779803367999\n",
       "                                                                              \n",
       "                                                                              \n",
       "                                                                              \n",
       "                                                                              \n",
       "------------------------------------------------------------------------------\n",
       "                                                                              \n",
       "\n",
       "______________________________________________________________________________\n",
       "                                                                              \n",
       "                                                                              \n",
       "                                                                              \n",
       "------------------------------------------------------------------------------\n",
       "______________________________________________________________________________\n",
       "______________________________________________________________________________\n",
       "088955033031121648495443700150312802202262422142533878988633762787139046952952\n",
       "------------------------------------------------------------------------------\n",
       "773802726099999648937902577346979043475456                                    \n",
       "                                                                              \n",
       "                                                                              \n",
       "                                                                              \n",
       "                                                                              \n",
       "                                                                              \n",
       "------------------------------------------------------------------------------\n",
       "                                                                              \n",
       "                                                                              \n",
       "______________________________________________________________________________\n",
       "                                                                              \n",
       "                                                                              \n",
       "                                                                              \n",
       "------------------------------------------------------------------------------\n",
       "______________________________________________________________________________\n",
       "______________________________________________________________________________\n",
       "______________________________________________________________________________\n",
       "630823218270840329158859946722133800658362799148577882526939210889550330311216\n",
       "------------------------------------------------------------------------------\n",
       "        3003731769263779803367999274300932661160053234564042957738027260999996\n",
       "                                                                              \n",
       "                                                                              \n",
       "                                                                              \n",
       "                                                                              \n",
       "------------------------------------------------------------------------------\n",
       "                                                                              \n",
       "                                                                              \n",
       "______________________________________________________________________________\n",
       "                                                                              \n",
       "                                                                              \n",
       "                                                                              \n",
       "------------------------------------------------------------------------------\n",
       "______________________________________________________________________________\n",
       "______________________________________________________________________________\n",
       "______________________________________________________________________________\n",
       "630823218270840329158859946722133800658362799148577882526939210889550330311216\n",
       "------------------------------------------------------------------------------\n",
       "        3003731769263779803367999274300932661160053234564042957738027260999996\n",
       "                                                                              \n",
       "                                                                              \n",
       "                                                                              \n",
       "                                                                              \n",
       "------------------------------------------------------------------------------\n",
       "                                                                              \n",
       "                                                                              \n",
       "______________________________________________________________________________\n",
       "                                                                              \n",
       "                                                                              \n",
       "                                                                              \n",
       "------------------------------------------------------------------------------\n",
       "______________________________________________________________________________\n",
       "______________________________________________________________________________\n",
       "______________________________________________________________________________\n",
       "800658362799148577882526939210889550330311216484954437001503128022022624221425\n",
       "------------------------------------------------------------------------------\n",
       "27430093266116005323456404295773802726099999648937902577346979043475456       \n",
       "                                                                              \n",
       "                                                                              \n",
       "                                                                              \n",
       "                                                                              \n",
       "------------------------------------------------------------------------------\n",
       "                                                                              \n",
       "\n",
       "______________________________________________________________________________\n",
       "                                                                              \n",
       "                                                                              \n",
       "              21446991062539734856865030805899                                \n",
       "----------- + -------------------------------- + -----------------------------\n",
       "___________   10141204801825835211973625643008                                \n",
       "__________                                                                    \n",
       "648886335                                                                     \n",
       "----------                                                                    \n",
       "                                                 22835963083295358096932575511\n",
       "                                                                              \n",
       "                                                                              \n",
       "                                                                              \n",
       "                                                                              \n",
       "                                                                              \n",
       "------------------------------------------------------------------------------\n",
       "                                                                     2        \n",
       "                                                                              \n",
       "______________________________________________________________________________\n",
       "                                                                              \n",
       "                                                                              \n",
       "                                                                              \n",
       "------------------------------------------------------------------------------\n",
       "______________________________________________________________________________\n",
       "_________________________________________________________________________     \n",
       "________________________________________________________________________      \n",
       "48495443700150312802202262422142533878988633762787139046952952648886335     21\n",
       "------------------------------------------------------------------------  + --\n",
       "48937902577346979043475456                                                  20\n",
       "                                                                              \n",
       "                                                                              \n",
       "                                                                              \n",
       "                                                                              \n",
       "------------------------------------------------------------------------------\n",
       "                                                                      2       \n",
       "                                                                              \n",
       "______________________________________________________________________________\n",
       "                                                                              \n",
       "                                                                              \n",
       "                                                                              \n",
       "------------------------------------------------------------------------------\n",
       "______________________________________________________________________________\n",
       "_________________________________________________________________________     \n",
       "________________________________________________________________________      \n",
       "48495443700150312802202262422142533878988633762787139046952952648886335     21\n",
       "------------------------------------------------------------------------  + --\n",
       "48937902577346979043475456                                                  20\n",
       "                                                                              \n",
       "                                                                              \n",
       "                                                                              \n",
       "                                                                              \n",
       "------------------------------------------------------------------------------\n",
       "                                                                      2       \n",
       "                                                                              \n",
       "_____________________________________________________________________________ \n",
       "                                                                              \n",
       "                                                                              \n",
       "                                                                              \n",
       "----------------------------------------------------------------------------  \n",
       "____________________________________________________________________________  \n",
       "________________________________________                                      \n",
       "_______________________________________                                       \n",
       "33878988633762787139046952952648886335     21446991062539734856865030805899   \n",
       "---------------------------------------  + --------------------------------   \n",
       "                                           20282409603651670423947251286016   \n",
       "                                                                              \n",
       "                                                                              \n",
       "                                                                              \n",
       "                                                                              \n",
       "----------------------------------------------------------------------------- \n",
       "                                                                              \n",
       "\n",
       "______________________________________________________________________________\n",
       "                                                                              \n",
       "                                                                              \n",
       "                                                                              \n",
       "------------------------------------------------------------------------------\n",
       "                             _________________________________________________\n",
       "                            /                                                 \n",
       "                           /                                                  \n",
       "                          /                                                   \n",
       "191922182123945984*      /    - ----------------------------------------------\n",
       "                        /                                                     \n",
       "                       /                                                      \n",
       "                      /                                                       \n",
       "                     /          2468256835981809063232453773836025757474103798\n",
       "                   \\/                                                         \n",
       "------------------------------------------------------------------------------\n",
       "                                                                              \n",
       "                                                                              \n",
       "______________________________________________________________________________\n",
       "                                         _____________________________________\n",
       "                                        /                                     \n",
       "                                       /      43345375323296993669410046974766\n",
       "------------------------------- - 2*3 /   - ----------------------------------\n",
       "_______________________________     \\/      6674959487252844007484442831779850\n",
       "                                                                              \n",
       "                                                                              \n",
       "446991062539734856865030805899                                                \n",
       "------------------------------                                                \n",
       "282409603651670423947251286016                                                \n",
       "                                                                              \n",
       "                                                                              \n",
       "                                                                              \n",
       "                                                                              \n",
       "------------------------------------------------------------------------------\n",
       "                                                                              \n",
       "                                                                              \n",
       "______________________________________________________________________________\n",
       "                                         _____________________________________\n",
       "                                        /                                     \n",
       "                                       /      43345375323296993669410046974766\n",
       "------------------------------- - 2*3 /   - ----------------------------------\n",
       "_______________________________     \\/      6674959487252844007484442831779850\n",
       "                                                                              \n",
       "                                                                              \n",
       "446991062539734856865030805899                                                \n",
       "------------------------------                                                \n",
       "282409603651670423947251286016                                                \n",
       "                                                                              \n",
       "                                                                              \n",
       "                                                                              \n",
       "                                                                              \n",
       "------------------------------------------------------------------------------\n",
       "                                                                              \n",
       "                                                                              \n",
       "                                                                              \n",
       "                                                                              \n",
       "                                                                              \n",
       "                                                                              \n",
       "                                                                              \n",
       "                               _______________________________________________\n",
       "                              /                                               \n",
       "                             /                                                \n",
       "                            /                                                 \n",
       "                           /    - --------------------------------------------\n",
       "                          /                                                   \n",
       "                         /                                                    \n",
       "                        /                                                     \n",
       "                       /          24682568359818090632324537738360257574741037\n",
       "  4079006586253195   \\/                                                       \n",
       "+ ---------------- + ---------------------------------------------------------\n",
       "  9007199254740992                                                            \n",
       "\n",
       "______________________________________________________________________________\n",
       "                                                                              \n",
       "                                                                              \n",
       "                                                                              \n",
       "------------------------------------------------------------------------------\n",
       "______________________________________________________________________________\n",
       "                                                                              \n",
       "                                                                              \n",
       "                                                                              \n",
       "------------------------------------------------------------------------------\n",
       "                        ______________________________________________________\n",
       "                       /                                                      \n",
       "                      /      4334537532329699366941004697476678663428562233364\n",
       "450369795022913536*3 /   - ---------------------------------------------------\n",
       "                   \\/      667495948725284400748444283177985035813345163236453\n",
       "------------------------------------------------------------------------------\n",
       "                                                                              \n",
       "                                                                              \n",
       "______________________________________________________________________________\n",
       "______________________________________________________________________________\n",
       "                                                                      ________\n",
       "786634285622333648701299500617869082638480673101469567421453    155*\\/ 2073645\n",
       "------------------------------------------------------------- + --------------\n",
       "3581334516323645399060845050244444366430645017188217565216768                 \n",
       "                                                                              \n",
       "                                                                              \n",
       "                                                                              \n",
       "                                                                              \n",
       "                                                                              \n",
       "                                                                              \n",
       "                                                                              \n",
       "                                                                              \n",
       "                                                                              \n",
       "------------------------------------------------------------------------------\n",
       "                                                                              \n",
       "                                                                              \n",
       "______________________________________________________________________________\n",
       "______________________________________________________________________________\n",
       "                                                                      ________\n",
       "786634285622333648701299500617869082638480673101469567421453    155*\\/ 2073645\n",
       "------------------------------------------------------------- + --------------\n",
       "3581334516323645399060845050244444366430645017188217565216768                 \n",
       "                                                                              \n",
       "                                                                              \n",
       "                                                                              \n",
       "                                                                              \n",
       "                                                                              \n",
       "                                                                              \n",
       "                                                                              \n",
       "                                                                              \n",
       "                                                                              \n",
       "------------------------------------------------------------------------------\n",
       "                                                                              \n",
       "                                                                              \n",
       "                                                                              \n",
       "                                                                              \n",
       "                                                                              \n",
       "                                                                              \n",
       "                                                                              \n",
       "______________________________________________________________________________\n",
       "                                                                              \n",
       "                                                                              \n",
       "                                                                              \n",
       "------------------------------------------------------------------------------\n",
       "                          ____________________________________________________\n",
       "                         /                                                    \n",
       "                        /      43345375323296993669410046974766786634285622333\n",
       "98450369795022913536*3 /   - -------------------------------------------------\n",
       "                     \\/      6674959487252844007484442831779850358133451632364\n",
       "------------------------------------------------------------------------------\n",
       "                                                                              \n",
       "\n",
       "______________________________________________________________________________\n",
       "                                                                              \n",
       "                                                                              \n",
       "                                                                              \n",
       "------------------------------------------------------------------------------\n",
       "______________________________________________________________________________\n",
       "                                                                              \n",
       "                                                                              \n",
       "                          2503865339887481252738436958593398749586599450901413\n",
       "------------------------------------------------------------------------------\n",
       "______________________________________________________________________________\n",
       "                                                     _________________________\n",
       "8701299500617869082638480673101469567421453    155*\\/ 207364524689304338493915\n",
       "-------------------------------------------- + -------------------------------\n",
       "99060845050244444366430645017188217565216768                                  \n",
       "------------------------------------------------------------------------------\n",
       "                                                                              \n",
       "                                                                              \n",
       "______________________________________________________________________________\n",
       "______________________________________________________________________________\n",
       "______________________________________________________________________________\n",
       "246893043384939155831553163082321827084032915885994672213380065836279914857788\n",
       "------------------------------------------------------------------------------\n",
       "                                 300373176926377980336799927430093266116005323\n",
       "                                                                              \n",
       "                                                                              \n",
       "                                                                              \n",
       "                                                                              \n",
       "                                                                              \n",
       "                                                                              \n",
       "                                                                              \n",
       "                                                                              \n",
       "                                                                              \n",
       "------------------------------------------------------------------------------\n",
       "                                                                              \n",
       "                                                                              \n",
       "______________________________________________________________________________\n",
       "______________________________________________________________________________\n",
       "______________________________________________________________________________\n",
       "246893043384939155831553163082321827084032915885994672213380065836279914857788\n",
       "------------------------------------------------------------------------------\n",
       "                                 300373176926377980336799927430093266116005323\n",
       "                                                                              \n",
       "                                                                              \n",
       "                                                                              \n",
       "                                                                              \n",
       "                                                                              \n",
       "                                                                              \n",
       "                                                                              \n",
       "                                                                              \n",
       "                                                                              \n",
       "------------------------------------------------------------------------------\n",
       "                                                                              \n",
       "                                                                              \n",
       "                                                                              \n",
       "                                                                              \n",
       "                                                                              \n",
       "                                                                              \n",
       "                                                                              \n",
       "______________________________________________________________________________\n",
       "                                                                              \n",
       "                                                                              \n",
       "                            25038653398874812527384369585933987495865994509014\n",
       "------------------------------------------------------------------------------\n",
       "______________________________________________________________________________\n",
       "                                                       _______________________\n",
       "648701299500617869082638480673101469567421453    155*\\/ 2073645246893043384939\n",
       "---------------------------------------------- + -----------------------------\n",
       "5399060845050244444366430645017188217565216768                                \n",
       "------------------------------------------------------------------------------\n",
       "                                                                              \n",
       "\n",
       "______________________________________________________________________________\n",
       "                                                                              \n",
       "                                                                              \n",
       "                                                                              \n",
       "------------------------------------------------------------------------------\n",
       "______________________________________________________________________________\n",
       "                                                                              \n",
       "                                                                              \n",
       "5162402593                                                                    \n",
       "------------------------------------------------------------------------------\n",
       "______________________________________________________________________________\n",
       "______________________________________________________________________________\n",
       "583155316308232182708403291588599467221338006583627991485778825269392108895503\n",
       "------------------------------------------------------------------------------\n",
       "                30037317692637798033679992743009326611600532345640429577380272\n",
       "------------------------------------------------------------------------------\n",
       "                                                                              \n",
       "                                                                              \n",
       "______________________________________________________________________________\n",
       "______________________________________________________________________________\n",
       "______________________________________________________________________________\n",
       "252693921088955033031121648495443700150312802202262422142533878988633762787139\n",
       "------------------------------------------------------------------------------\n",
       "456404295773802726099999648937902577346979043475456                           \n",
       "                                                                              \n",
       "                                                                              \n",
       "                                                                              \n",
       "                                                                              \n",
       "                                                                              \n",
       "                                                                              \n",
       "                                                                              \n",
       "                                                                              \n",
       "                                                                              \n",
       "------------------------------------------------------------------------------\n",
       "                                                                              \n",
       "                                                                              \n",
       "______________________________________________________________________________\n",
       "______________________________________________________________________________\n",
       "______________________________________________________________________________\n",
       "252693921088955033031121648495443700150312802202262422142533878988633762787139\n",
       "------------------------------------------------------------------------------\n",
       "456404295773802726099999648937902577346979043475456                           \n",
       "                                                                              \n",
       "                                                                              \n",
       "                                                                              \n",
       "                                                                              \n",
       "                                                                              \n",
       "                                                                              \n",
       "                                                                              \n",
       "                                                                              \n",
       "                                                                              \n",
       "------------------------------------------------------------------------------\n",
       "                                                                              \n",
       "                                                                              \n",
       "                                                                              \n",
       "                                                                              \n",
       "                                                                              \n",
       "                                                                              \n",
       "                                                                              \n",
       "______________________________________________________________________________\n",
       "                                                                              \n",
       "                                                                              \n",
       "135162402593                                                                  \n",
       "------------------------------------------------------------------------------\n",
       "______________________________________________________________________________\n",
       "______________________________________________________________________________\n",
       "155831553163082321827084032915885994672213380065836279914857788252693921088955\n",
       "------------------------------------------------------------------------------\n",
       "                  300373176926377980336799927430093266116005323456404295773802\n",
       "------------------------------------------------------------------------------\n",
       "                                                                              \n",
       "\n",
       "______________________________________________________________________________\n",
       "                                                                              \n",
       "                                                                              \n",
       "               50782277847818920188422111293208806136531606735                \n",
       "------------------------------------------------------------------------------\n",
       "______________________________________________________________________________\n",
       "                                                                              \n",
       "                                                                              \n",
       "                                                                              \n",
       "------------------------------------------------------------------------------\n",
       "______________________________________________________________________________\n",
       "______________________________________________________________________________\n",
       "303112164849544370015031280220226242214253387898863376278713904695295264888633\n",
       "------------------------------------------------------------------------------\n",
       "6099999648937902577346979043475456                                            \n",
       "------------------------------------------------------------------------------\n",
       "                                                                              \n",
       "                                                                              \n",
       "______________________________________________________________________________\n",
       "____________________                                                          \n",
       "___________________                                                           \n",
       "046952952648886335                                                            \n",
       "-------------------  + -------------------------------------------------------\n",
       "                                                                              \n",
       "                                                                              \n",
       "                                                                              \n",
       "                       2468256835981809063232453773836025757474103798450369795\n",
       "                                                                              \n",
       "                                                                              \n",
       "                                                                              \n",
       "                                                                              \n",
       "                                                                              \n",
       "                                                                              \n",
       "------------------------------------------------------------------------------\n",
       "                                                                              \n",
       "                                                                              \n",
       "______________________________________________________________________________\n",
       "____________________                                                          \n",
       "___________________                                                           \n",
       "046952952648886335                                                            \n",
       "-------------------  + -------------------------------------------------------\n",
       "                                                                              \n",
       "                                                                              \n",
       "                                                                              \n",
       "                       2468256835981809063232453773836025757474103798450369795\n",
       "                                                                              \n",
       "                                                                              \n",
       "                                                                              \n",
       "                                                                              \n",
       "                                                                              \n",
       "                                                                              \n",
       "------------------------------------------------------------------------------\n",
       "                                                                              \n",
       "                                                                              \n",
       "                                                                              \n",
       "                                                                              \n",
       "                                                                              \n",
       "                                                                              \n",
       "                                                                              \n",
       "______________________________________________________________________________\n",
       "                                                                              \n",
       "                                                                              \n",
       "                                                                              \n",
       "------------------------------------------------------------------------------\n",
       "______________________________________________________________________________\n",
       "______________________________________________________________________________\n",
       "033031121648495443700150312802202262422142533878988633762787139046952952648886\n",
       "------------------------------------------------------------------------------\n",
       "726099999648937902577346979043475456                                          \n",
       "------------------------------------------------------------------------------\n",
       "                                                                2             \n",
       "\n",
       "______________________________________________________________________________\n",
       "                                                                              \n",
       "                                                                              \n",
       "                                                                              \n",
       "------------------------------------------------------------------------------\n",
       "______________________________________________________________________________\n",
       "             _________________________________________________________________\n",
       "            /                                                                 \n",
       "           /      433453753232969936694100469747667866342856223336487012995006\n",
       "--- + 2*3 /   - --------------------------------------------------------------\n",
       "___     \\/      66749594872528440074844428317798503581334516323645399060845050\n",
       "__                                                                            \n",
       "5                                                                             \n",
       "--                                                                            \n",
       "                                                                              \n",
       "------------------------------------------------------------------------------\n",
       "                                                                              \n",
       "                                                                              \n",
       "______________________________________________________________________________\n",
       "                                                                              \n",
       "                                                                              \n",
       "                                                                              \n",
       "------------------------------------------------------------------------------\n",
       "               _______________________________________________________________\n",
       "              /                                                               \n",
       "             /      4334537532329699366941004697476678663428562233364870129950\n",
       "022913536*3 /   - ------------------------------------------------------------\n",
       "          \\/      667495948725284400748444283177985035813345163236453990608450\n",
       "                                                                              \n",
       "                                                                              \n",
       "                                                                              \n",
       "                                                                              \n",
       "                                                                              \n",
       "------------------------------------------------------------------------------\n",
       "                                                                              \n",
       "                                                                              \n",
       "______________________________________________________________________________\n",
       "                                                                              \n",
       "                                                                              \n",
       "                                                                              \n",
       "------------------------------------------------------------------------------\n",
       "               _______________________________________________________________\n",
       "              /                                                               \n",
       "             /      4334537532329699366941004697476678663428562233364870129950\n",
       "022913536*3 /   - ------------------------------------------------------------\n",
       "          \\/      667495948725284400748444283177985035813345163236453990608450\n",
       "                                                                              \n",
       "                                                                              \n",
       "                                                                              \n",
       "                                                                              \n",
       "                                                                              \n",
       "------------------------------------------------------------------------------\n",
       "                                                                              \n",
       "                                                                              \n",
       "                                                                              \n",
       "                                                                              \n",
       "                                                                              \n",
       "                                                                              \n",
       "                                                                              \n",
       "______________________________________________________________________________\n",
       "               _______________________________________________________________\n",
       "              /                                                               \n",
       "             /      4334537532329699366941004697476678663428562233364870129950\n",
       "----- + 2*3 /   - ------------------------------------------------------------\n",
       "_____     \\/      667495948725284400748444283177985035813345163236453990608450\n",
       "____                                                                          \n",
       "335                                                                           \n",
       "----                                                                          \n",
       "                                                                              \n",
       "------------------------------------------------------------------------------\n",
       "                                                                              \n",
       "\n",
       "______________________________________________________________________________\n",
       "                                                                              \n",
       "                                                                              \n",
       "                                                                              \n",
       "------------------------------------------------------------------------------\n",
       "______________________________________________________________________________\n",
       "______________________________________________________________________________\n",
       "                                          ____________________________________\n",
       "17869082638480673101469567421453    155*\\/ 20736452468930433849391558315531630\n",
       "--------------------------------- + ------------------------------------------\n",
       "244444366430645017188217565216768                                             \n",
       "                                                                              \n",
       "                                                                              \n",
       "                                                                              \n",
       "                                                                              \n",
       "------------------------------------------------------------------------------\n",
       "                                                                              \n",
       "                                                                              \n",
       "______________________________________________________________________________\n",
       "                                                                              \n",
       "                                                                              \n",
       "                 2503865339887481252738436958593398749586599450901413516240259\n",
       "------------------------------------------------------------------------------\n",
       "______________________________________________________________________________\n",
       "                                            __________________________________\n",
       "0617869082638480673101469567421453    155*\\/ 207364524689304338493915583155316\n",
       "----------------------------------- + ----------------------------------------\n",
       "50244444366430645017188217565216768                                           \n",
       "                                                                              \n",
       "                                                                              \n",
       "                                                                              \n",
       "                                                                              \n",
       "                                                                              \n",
       "------------------------------------------------------------------------------\n",
       "                                                                              \n",
       "                                                                              \n",
       "______________________________________________________________________________\n",
       "                                                                              \n",
       "                                                                              \n",
       "                 2503865339887481252738436958593398749586599450901413516240259\n",
       "------------------------------------------------------------------------------\n",
       "______________________________________________________________________________\n",
       "                                            __________________________________\n",
       "0617869082638480673101469567421453    155*\\/ 207364524689304338493915583155316\n",
       "----------------------------------- + ----------------------------------------\n",
       "50244444366430645017188217565216768                                           \n",
       "                                                                              \n",
       "                                                                              \n",
       "                                                                              \n",
       "                                                                              \n",
       "                                                                              \n",
       "------------------------------------------------------------------------------\n",
       "                                                                              \n",
       "                                                                              \n",
       "                                                                              \n",
       "                                                                              \n",
       "                                                                              \n",
       "                                                                              \n",
       "                                                                              \n",
       "______________________________________________________________________________\n",
       "______________________________________________________________________________\n",
       "                                            __________________________________\n",
       "0617869082638480673101469567421453    155*\\/ 207364524689304338493915583155316\n",
       "----------------------------------- + ----------------------------------------\n",
       "50244444366430645017188217565216768                                           \n",
       "                                                                              \n",
       "                                                                              \n",
       "                                                                              \n",
       "                                                                              \n",
       "------------------------------------------------------------------------------\n",
       "                                                                              \n",
       "\n",
       "______________________________________________________________________________\n",
       "                                                                              \n",
       "                                                                              \n",
       "                                                                              \n",
       "------------------------------------------------------------------------------\n",
       "______________________________________________________________________________\n",
       "______________________________________________________________________________\n",
       "______________________________________________________________________________\n",
       "823218270840329158859946722133800658362799148577882526939210889550330311216484\n",
       "------------------------------------------------------------------------------\n",
       "     3003731769263779803367999274300932661160053234564042957738027260999996489\n",
       "                                                                              \n",
       "                                                                              \n",
       "                                                                              \n",
       "                                                                              \n",
       "------------------------------------------------------------------------------\n",
       "                                                                              \n",
       "                                                                              \n",
       "______________________________________________________________________________\n",
       "                                                                              \n",
       "                                                                              \n",
       "3                                                                             \n",
       "------------------------------------------------------------------------------\n",
       "______________________________________________________________________________\n",
       "______________________________________________________________________________\n",
       "308232182708403291588599467221338006583627991485778825269392108895503303112164\n",
       "------------------------------------------------------------------------------\n",
       "       30037317692637798033679992743009326611600532345640429577380272609999964\n",
       "                                                                              \n",
       "                                                                              \n",
       "                                                                              \n",
       "                                                                              \n",
       "                                                                              \n",
       "------------------------------------------------------------------------------\n",
       "                                                                              \n",
       "                                                                              \n",
       "______________________________________________________________________________\n",
       "                                                                              \n",
       "                                                                              \n",
       "3                                                                             \n",
       "------------------------------------------------------------------------------\n",
       "______________________________________________________________________________\n",
       "______________________________________________________________________________\n",
       "308232182708403291588599467221338006583627991485778825269392108895503303112164\n",
       "------------------------------------------------------------------------------\n",
       "       30037317692637798033679992743009326611600532345640429577380272609999964\n",
       "                                                                              \n",
       "                                                                              \n",
       "                                                                              \n",
       "                                                                              \n",
       "                                                                              \n",
       "------------------------------------------------------------------------------\n",
       "                                                                              \n",
       "                                                                              \n",
       "                                                                              \n",
       "                                                                              \n",
       "                                                                              \n",
       "                                                                              \n",
       "                                                                              \n",
       "______________________________________________________________________________\n",
       "______________________________________________________________________________\n",
       "______________________________________________________________________________\n",
       "308232182708403291588599467221338006583627991485778825269392108895503303112164\n",
       "------------------------------------------------------------------------------\n",
       "       30037317692637798033679992743009326611600532345640429577380272609999964\n",
       "                                                                              \n",
       "                                                                              \n",
       "                                                                              \n",
       "                                                                              \n",
       "------------------------------------------------------------------------------\n",
       "                                                                              \n",
       "\n",
       "______________________________________________________________________________\n",
       "                                                                              \n",
       "                                                                              \n",
       "                                                                              \n",
       "------------------------------------------------------------------------------\n",
       "______________________________________________________________________________\n",
       "______________________________________________________________________        \n",
       "_____________________________________________________________________         \n",
       "95443700150312802202262422142533878988633762787139046952952648886335     21446\n",
       "---------------------------------------------------------------------  + -----\n",
       "37902577346979043475456                                                  20282\n",
       "                                                                              \n",
       "                                                                              \n",
       "                                                                              \n",
       "                                                                              \n",
       "------------------------------------------------------------------------------\n",
       "                                                                              \n",
       "                                                                              \n",
       "______________________________________________________________________________\n",
       "                                                                              \n",
       "                                                                              \n",
       "                                                                           214\n",
       "------------------------------------------------------------------------ + ---\n",
       "________________________________________________________________________   101\n",
       "_______________________________________________________________________       \n",
       "8495443700150312802202262422142533878988633762787139046952952648886335        \n",
       "-----------------------------------------------------------------------       \n",
       "8937902577346979043475456                                                     \n",
       "                                                                              \n",
       "                                                                              \n",
       "                                                                              \n",
       "                                                                              \n",
       "                                                                              \n",
       "------------------------------------------------------------------------------\n",
       "                                                                              \n",
       "                                                                              \n",
       "______________________________________________________________________________\n",
       "                                                                              \n",
       "                                                                              \n",
       "                                                                           214\n",
       "------------------------------------------------------------------------ + ---\n",
       "________________________________________________________________________   101\n",
       "_______________________________________________________________________       \n",
       "8495443700150312802202262422142533878988633762787139046952952648886335        \n",
       "-----------------------------------------------------------------------       \n",
       "8937902577346979043475456                                                     \n",
       "                                                                              \n",
       "                                                                              \n",
       "                                                                              \n",
       "                                                                              \n",
       "                                                                              \n",
       "------------------------------------------------------------------------------\n",
       "                                                                              \n",
       "                                                                              \n",
       "                                                                              \n",
       "                                                                              \n",
       "                                                                              \n",
       "                                                                              \n",
       "                                                                              \n",
       "______________________________________________________________________________\n",
       "________________________________________________________________________      \n",
       "_______________________________________________________________________       \n",
       "8495443700150312802202262422142533878988633762787139046952952648886335     214\n",
       "-----------------------------------------------------------------------  + ---\n",
       "8937902577346979043475456                                                  202\n",
       "                                                                              \n",
       "                                                                              \n",
       "                                                                              \n",
       "                                                                              \n",
       "------------------------------------------------------------------------------\n",
       "                                                                              \n",
       "\n",
       "_____________________________ ]\n",
       "                              ]\n",
       "                              ]\n",
       "                              ]\n",
       "----------------------------  ]\n",
       "____________________________  ]\n",
       "                              ]\n",
       "                              ]\n",
       "991062539734856865030805899   ]\n",
       "---------------------------   ]\n",
       "409603651670423947251286016   ]\n",
       "                              ]\n",
       "                              ]\n",
       "                              ]\n",
       "                              ]\n",
       "----------------------------- ]\n",
       "                              ]\n",
       "                              ]\n",
       "______________________________]\n",
       "                              ]\n",
       "                              ]\n",
       "46991062539734856865030805899 ]\n",
       "----------------------------- ]\n",
       "41204801825835211973625643008 ]\n",
       "                              ]\n",
       "                              ]\n",
       "                              ]\n",
       "                              ]\n",
       "                              ]\n",
       "                              ]\n",
       "                              ]\n",
       "                              ]\n",
       "                              ]\n",
       "------------------------------]\n",
       "                              ]\n",
       "                              ]\n",
       "______________________________]\n",
       "                              ]\n",
       "                              ]\n",
       "46991062539734856865030805899 ]\n",
       "----------------------------- ]\n",
       "41204801825835211973625643008 ]\n",
       "                              ]\n",
       "                              ]\n",
       "                              ]\n",
       "                              ]\n",
       "                              ]\n",
       "                              ]\n",
       "                              ]\n",
       "                              ]\n",
       "                              ]\n",
       "------------------------------]\n",
       "                              ]\n",
       "                              ]\n",
       "                              ]\n",
       "                              ]\n",
       "                              ]\n",
       "                              ]\n",
       "                              ]\n",
       "______________________________]\n",
       "                              ]\n",
       "                              ]\n",
       "46991062539734856865030805899 ]\n",
       "----------------------------- ]\n",
       "82409603651670423947251286016 ]\n",
       "                              ]\n",
       "                              ]\n",
       "                              ]\n",
       "                              ]\n",
       "------------------------------]\n",
       "                              ]"
      ]
     },
     "execution_count": 38,
     "metadata": {},
     "output_type": "execute_result"
    }
   ],
   "source": [
    "λ=solve(p(x),x)"
   ]
  },
  {
   "cell_type": "code",
   "execution_count": 39,
   "metadata": {
    "collapsed": false
   },
   "outputs": [
    {
     "data": {
      "text/plain": [
       "4"
      ]
     },
     "execution_count": 39,
     "metadata": {},
     "output_type": "execute_result"
    }
   ],
   "source": [
    "length(λ)"
   ]
  },
  {
   "cell_type": "markdown",
   "metadata": {},
   "source": [
    "### Example - Circulant matrix\n",
    "\n",
    "For more details, see \n",
    "[A. B&ouml;ttcher and I. Spitkovsky, Special Types of Matrices][BoSp14] and the references therein.\n",
    "\n",
    "[BoSp14]: #1 \"L. Hogben, ed., 'Handbook of Linear Algebra', pp. 22.1-22.20, CRC Press, Boca Raton, 2014.\"\n",
    "\n",
    "Given $a_0,a_1,\\ldots,a_{n-1}\\in \\mathbb{C}$, the __circulant matrix__ is\n",
    "\n",
    "$$\n",
    "C(a_0,a_1,\\ldots,a_{n-1})=\\begin{bmatrix}\n",
    "a_0 & a_{n-1} & a_{n-2} & \\cdots & a_{1} \\\\\n",
    "a_1 & a_0 & a_{n-1} & \\cdots & a_{2} \\\\\n",
    "a_2 & a_1 & a_{0} & \\cdots & a_{3} \\\\\n",
    "\\vdots & \\vdots & \\vdots & \\ddots & \\vdots \\\\\n",
    "a_{n-1} & a_{n-2} & a_{n-3} & \\cdots & a_{0}\n",
    "\\end{bmatrix}.\n",
    "$$\n",
    "\n",
    "Let $a(z)=a_0+a_1z+a_2z^2+\\cdots +a_{n-1}z^{n-1}$ be the associated complex polynomial.\n",
    "\n",
    "Let $\\omega_n=\\exp(2\\pi i/n)$. The __Fourier matrix__ of order $n$ is\n",
    "\n",
    "$$\n",
    "F_n=\\frac{1}{\\sqrt{n}} \\bigg[ \\omega_n^{(j-1)(k-1)}\\bigg]_{j,k=1}^n=\n",
    "\\frac{1}{\\sqrt{n}} \\begin{bmatrix} \n",
    "1 & & 1 & \\cdots & 1 \\\\\n",
    "1& \\omega_n & \\omega_n^2 & \\cdots \\omega_n^{n-1} \\\\\n",
    "1& \\omega_n^2 & \\omega_n^4 & \\cdots \\omega_n^{2(n-1)} \\\\\n",
    "\\vdots & \\vdots & \\vdots & \\ddots & \\vdots \\\\\n",
    "1& \\omega_n^{n-1} & \\omega_n^{2(n-1)} & \\cdots \\omega_n^{(n-1)(n-1)}\n",
    "\\end{bmatrix}.\n",
    "$$\n",
    "\n",
    "Fourier matrix is unitary. \n",
    "Fourier matrix is Vandermonde matrix, $F_n=\\displaystyle\\frac{1}{\\sqrt{n}} V(1,\\omega_n,\\omega_n^2,\\ldots, \\omega_n^{n-1})$.\n",
    "\n",
    "Circulant matrix is normal and, thus, unitarily diagonalizable, with the eigenvalue decomposition\n",
    "\n",
    "$$\n",
    "C(a_0,a_1,\\ldots,a_{n-1})=F_n^*\\mathop{\\mathrm{diag}}[(a(1),a(\\omega_n),a(\\omega_n^2),\\ldots, \n",
    "a(\\omega_n^{n-1})]F_n.\n",
    "$$\n",
    "\n",
    "We shall use the package [SpecialMatrices.jl](https://github.com/jiahao/SpecialMatrices.jl)."
   ]
  },
  {
   "cell_type": "code",
   "execution_count": 40,
   "metadata": {
    "collapsed": true
   },
   "outputs": [],
   "source": [
    "using SpecialMatrices\n",
    "using Polynomials"
   ]
  },
  {
   "cell_type": "code",
   "execution_count": 41,
   "metadata": {
    "collapsed": false
   },
   "outputs": [
    {
     "name": "stdout",
     "output_type": "stream",
     "text": [
      "                        Cauchy    180 bytes  DataType\n",
      "                     Circulant    168 bytes  DataType\n",
      "                     Companion    168 bytes  DataType\n",
      "                     Frobenius    180 bytes  DataType\n",
      "                        Hankel    168 bytes  DataType\n",
      "                       Hilbert    180 bytes  DataType\n",
      "                         Kahan    244 bytes  DataType\n",
      "                       Riemann    168 bytes  DataType\n",
      "               SpecialMatrices   3466 bytes  Module\n",
      "                        Strang    168 bytes  DataType\n",
      "                      Toeplitz    168 bytes  DataType\n",
      "                   Vandermonde    168 bytes  DataType\n"
     ]
    }
   ],
   "source": [
    "whos(SpecialMatrices)"
   ]
  },
  {
   "cell_type": "code",
   "execution_count": 42,
   "metadata": {
    "collapsed": false
   },
   "outputs": [
    {
     "data": {
      "text/plain": [
       "6-element Array{Int64,1}:\n",
       "  1\n",
       " -8\n",
       "  8\n",
       " -2\n",
       "  9\n",
       "  5"
      ]
     },
     "execution_count": 42,
     "metadata": {},
     "output_type": "execute_result"
    }
   ],
   "source": [
    "n=6\n",
    "a=rand(-9:9,n)"
   ]
  },
  {
   "cell_type": "code",
   "execution_count": 117,
   "metadata": {
    "collapsed": false
   },
   "outputs": [
    {
     "data": {
      "text/plain": [
       "6x6 SpecialMatrices.Circulant{Int64}:\n",
       "  1   5   9  -2   8  -8\n",
       " -8   1   5   9  -2   8\n",
       "  8  -8   1   5   9  -2\n",
       " -2   8  -8   1   5   9\n",
       "  9  -2   8  -8   1   5\n",
       "  5   9  -2   8  -8   1"
      ]
     },
     "execution_count": 117,
     "metadata": {},
     "output_type": "execute_result"
    }
   ],
   "source": [
    "C=Circulant(a)"
   ]
  },
  {
   "cell_type": "code",
   "execution_count": 118,
   "metadata": {
    "collapsed": false
   },
   "outputs": [
    {
     "data": {
      "text/plain": [
       "6x6 Array{Int64,2}:\n",
       " 0  0  0  0  0  0\n",
       " 0  0  0  0  0  0\n",
       " 0  0  0  0  0  0\n",
       " 0  0  0  0  0  0\n",
       " 0  0  0  0  0  0\n",
       " 0  0  0  0  0  0"
      ]
     },
     "execution_count": 118,
     "metadata": {},
     "output_type": "execute_result"
    }
   ],
   "source": [
    "# Check for normality\n",
    "full(C)*full(C)'-full(C)'*full(C)"
   ]
  },
  {
   "cell_type": "code",
   "execution_count": 119,
   "metadata": {
    "collapsed": false
   },
   "outputs": [
    {
     "data": {
      "text/plain": [
       "Poly(1 - 8x + 8x^2 - 2x^3 + 9x^4 + 5x^5)"
      ]
     },
     "execution_count": 119,
     "metadata": {},
     "output_type": "execute_result"
    }
   ],
   "source": [
    "p1=Polynomials.Poly(a)"
   ]
  },
  {
   "cell_type": "code",
   "execution_count": 120,
   "metadata": {
    "collapsed": false
   },
   "outputs": [
    {
     "data": {
      "text/plain": [
       "0.5000000000000001 + 0.8660254037844386im"
      ]
     },
     "execution_count": 120,
     "metadata": {},
     "output_type": "execute_result"
    }
   ],
   "source": [
    "ω=exp(2*π*im/n)"
   ]
  },
  {
   "cell_type": "code",
   "execution_count": 121,
   "metadata": {
    "collapsed": false
   },
   "outputs": [
    {
     "data": {
      "text/plain": [
       "6x6 SpecialMatrices.Vandermonde{Complex{Float64}}:\n",
       " 1.0+0.0im            1.0+0.0im       …            1.0+0.0im     \n",
       " 1.0+0.0im            0.5+0.866025im               0.5-0.866025im\n",
       " 1.0+0.0im           -0.5+0.866025im              -0.5-0.866025im\n",
       " 1.0+0.0im  -1.0+3.88578e-16im           -1.0+1.94289e-15im      \n",
       " 1.0+0.0im           -0.5-0.866025im              -0.5+0.866025im\n",
       " 1.0+0.0im            0.5-0.866025im  …            0.5+0.866025im"
      ]
     },
     "execution_count": 121,
     "metadata": {},
     "output_type": "execute_result"
    }
   ],
   "source": [
    "v=map(Complex,[ω^k for k=0:n-1])\n",
    "F=Vandermonde(v)"
   ]
  },
  {
   "cell_type": "code",
   "execution_count": 122,
   "metadata": {
    "collapsed": false
   },
   "outputs": [
    {
     "data": {
      "text/plain": [
       "6x6 Array{Complex{Float64},2}:\n",
       "                  13.0+0.0im  …     8.07165e-15-6.407e-15im     \n",
       " -1.25775e-15+1.71292e-15im      -6.66134e-15-8.88178e-16im     \n",
       "  -1.36883e-15+1.1459e-15im      -5.07977e-15+4.27661e-15im     \n",
       "   1.8148e-16+2.52576e-15im        -1.024e-14-7.35459e-15im     \n",
       "  1.43327e-15+4.67212e-15im      -2.26414e-16-2.13169e-15im     \n",
       "  8.46735e-15+8.99286e-15im   …                   -7.0+12.1244im"
      ]
     },
     "execution_count": 122,
     "metadata": {},
     "output_type": "execute_result"
    }
   ],
   "source": [
    "Fn=full(F)/sqrt(n)\n",
    "Λ=Fn*full(C)*Fn'"
   ]
  },
  {
   "cell_type": "code",
   "execution_count": 123,
   "metadata": {
    "collapsed": false
   },
   "outputs": [
    {
     "data": {
      "text/plain": [
       "6x2 Array{Complex{Float64},2}:\n",
       "          13.0+0.0im               13.0+0.0im    \n",
       "          -7.0-12.1244im           -7.0-12.1244im\n",
       "          -8.0-10.3923im           -8.0-10.3923im\n",
       " 23.0-3.15544e-30im       23.0-1.59317e-14im     \n",
       "          -8.0+10.3923im           -8.0+10.3923im\n",
       "          -7.0+12.1244im           -7.0+12.1244im"
      ]
     },
     "execution_count": 123,
     "metadata": {},
     "output_type": "execute_result"
    }
   ],
   "source": [
    "[diag(Λ) p1(v)]"
   ]
  },
  {
   "cell_type": "markdown",
   "metadata": {},
   "source": [
    "\n",
    "## Hermitian and real symmetric matrices\n",
    "\n",
    "For more details and the proofs of the Facts below, see \n",
    "[W. Barrett, Hermitian and Positive Definite Matrices][Bar14] and the references therein.\n",
    "\n",
    "[Bar14]: #1 \"L. Hogben, ed., 'Handbook of Linear Algebra', pp. 9.1-9.13, CRC Press, Boca Raton, 2014.\"\n",
    "\n",
    "### Definitions\n",
    "\n",
    "Matrix $A\\in \\mathbb{C}^{n\\times n}$ is __Hermitian__ or __self-adjoint__ if $A^*=A$, \n",
    "or element-wise, $\\bar a_{ij}=a_{ji}$. We say $A\\in\\mathcal{H}_n$.\n",
    "\n",
    "Matrix $A\\in \\mathbb{R}^{n\\times n}$ is __symmetric__ if $A^T=A$, or element-wise, $a_{ij}=a_{ji}$.\n",
    "We say $A\\in\\mathcal{S}_n$.\n",
    "\n",
    "__Rayleigh qoutient__ of $A\\in\\mathcal{H}_n$ and nonzero vector $x\\in\\mathbb{C}^n$ is\n",
    "\n",
    "$$\n",
    "R_A(x)=\\frac{x^*Ax}{x^*x}.\n",
    "$$\n",
    "\n",
    "Matrices $A,B \\in\\mathcal{H}_n$ are __congruent__ if there exists nonsingular matrix $C$ such that \n",
    "$B=C^*AC$.\n",
    "\n",
    "__Inertia__ of $A\\in\\mathcal{H}_n$ is the ordered triple \n",
    "$$\\mathop{\\mathrm{in}}(A)=(\\pi(A),\\nu(A),\\zeta(A)),$$\n",
    "\n",
    "where $\\pi(A)$ is the number of positive eigenvalues of $A$,  $\\nu(A)$ is the number of negative eigenvalues of $A$,\n",
    "and $\\pi(A)$ is the number of zero eigenvalues of $A$.\n",
    "\n",
    "__Gram matrix__ of a set of vectors $x_1,x_2,\\ldots,x_k\\in\\mathbb{C}^{n}$ is the matrix $G$ with entries $G_{ij}=x_i^*x_j$. "
   ]
  },
  {
   "cell_type": "markdown",
   "metadata": {},
   "source": [
    "### Facts\n",
    "\n",
    "Assume $A$ is Hermitian and $x\\in\\mathbb{C}^n$ is nonzero. Then\n",
    "\n",
    "1. Real symmetric matrix is Hermitian, and real Hermitian matrix is symmetric.\n",
    "2. Hermitian and real symmetric matrices are normal.\n",
    "2. $A+A^*$, $A^*A$, and $AA^*$ are Hermitian.\n",
    "3. If $A$ is nonsingular, $A^{-1}$ is Hermitian.\n",
    "4. Main diagonal entries of $A$ are real.\n",
    "5. Matrix $T$ from the Schur decomposition of $A$ is Hermitian. Consequently:\n",
    "    * $T$ is diagonal and real, and has eigenvalues of $A$ on diagonal,\n",
    "    * matrix $Q$ of the Schur decomposition is the unitary matrix of eigenvectors,\n",
    "    * all eigenvalues of $A$ are semisimple and $A$ is nondefective,\n",
    "    * eigenvectors corresponding to distinct eigenvalues are orthogonal.\n",
    "6. To summarize _(Spectral Theorem)_:\n",
    "    * if $A\\in\\mathcal{H}_n$, there is a unitary matrix $U$ and real diagonal matrix $\\Lambda$ such that \n",
    "    $A=U\\Lambda U^*$. The diagonal entries of $\\Lambda$ are the eigenvalues of $A$, and the \n",
    "    columns of $U$ are the corresponding eigenvectors.\n",
    "    * if $A\\in\\mathcal{S}_n$, the same holds with orthogonal matrix $U$, $A=U\\Lambda U^T$.\n",
    "    * if $A\\in\\mathcal{H}_n$ with eigenpairs $(\\lambda_i,u_i)$, then\n",
    "    $$ A=\\lambda_1u_1u_1^*+\\lambda_2 u_2u_2^* +\\cdots +\\lambda_n u_nu_n^*.$$\n",
    "    * similarly, if  $A\\in\\mathcal{S}_n$, then\n",
    "    $$ A=\\lambda_1u_1u_1^T+\\lambda_2 u_2u_2^T +\\cdots +\\lambda_n u_nu_n^T.$$\n",
    "\n",
    "7. Since all eigenvalues of $A$ are real, they can be ordered:\n",
    "$$\\lambda_1\\geq \\lambda_2\\geq \\cdots \\geq \\lambda_n.$$\n",
    "8. _(Rayleigh-Ritz Theorem)_ It holds:\n",
    "\\begin{align*}\n",
    "\\lambda_n &\\leq \\frac{x^*Ax}{x^*x} \\leq \\lambda_1, \\\\\n",
    "\\lambda_1&=\\max_x\\frac{x^*Ax}{x^*x} =\\max_{\\|x\\|_2=1} x^*Ax, \\\\\n",
    "\\lambda_n&=\\min_x\\frac{x^*Ax}{x^*x} =\\min_{\\|x\\|_2=1} x^*Ax.\n",
    "\\end{align*}\n",
    "\n",
    "8. _(Courant-Fischer Theorem)_ Iz holds:\n",
    "\\begin{align*}\n",
    "\\lambda_k& =\\max_{\\dim(W)=k}\\min_{x\\in W} \\frac{x^*Ax}{x^*x}\\\\\n",
    "& =\\min_{\\dim(W)=n-k+1}\\max_{x\\in W} \\frac{x^*Ax}{x^*x}.\n",
    "\\end{align*} \n",
    "\n",
    "10. _(Cauchy Interlace Theorem)_ For $i\\in\\{1,2,\\ldots,n\\}$, let $A(i)$ be the principal submatrix of $A$ obtained by deleting its $t$-th row and $i$-th column with ordered eigenvalues $\\mu_1\\geq \\mu_2\\geq \\cdots \\geq \\mu_{n-1}$. Then\n",
    "$$\n",
    "\\lambda_1\\geq \\mu_1\\geq \\lambda_2\\geq \\mu_2\\geq \\lambda_3\\geq\\cdots\\geq \\lambda_{n-1}\\geq\\mu_{n-1}\\geq\\lambda_n.\n",
    "$$\n",
    "\n",
    "9. _(Weyl Inequalities)_ For $A,B\\in\\mathcal{H}_n$, it holds:\n",
    "\\begin{align*}\n",
    "   \\lambda_{j+k-1}(A+B)& \\leq \\lambda_j(A)+\\lambda_k(B), & \\textrm{for} \\ j+k\\leq n+1,\\\\\n",
    "   \\lambda_{j+k-n}(A+B)& \\geq \\lambda_j(A)+\\lambda_k(B), & \\textrm{for} \\ j+k\\geq n+1,\n",
    "\\end{align*}\n",
    "and, in particular, \n",
    "$$\n",
    "\\lambda_j(A)+\\lambda_n(B) \\leq \\lambda_j(A+B) \\leq \\lambda_j(A)+\\lambda_1(B),\\quad \\textrm{for} \\ j=1,2,\\ldots,n.\n",
    "$$\n",
    "\n",
    "11. $\\pi(A)+\\mu(A)+\\zeta(A)=n$.\n",
    "\n",
    "12. $\\mathop{\\mathrm{rank}}(A)=\\pi(A)+\\mu(A)$.\n",
    "\n",
    "13. If $A$ is nonsingular, $\\mathop{\\mathrm{in}}(A)=\\mathop{\\mathrm{in}}(A^{-1})$.\n",
    "\n",
    "13. If $A,B \\in\\mathcal{H}_n$ are similar,  $\\mathop{\\mathrm{in}}(A)=\\mathop{\\mathrm{in}}(B)$.\n",
    "\n",
    "14. _(Sylvester's Law of Inertia)_ $A,B \\in\\mathcal{H}_n$ are congruent if and only if $\\mathop{\\mathrm{in}}(A)=\\mathop{\\mathrm{in}}(B)$.\n",
    "\n",
    "15. _(Subadditivity of Inertia)_ For $A,B \\in\\mathcal{H}_n$, \n",
    "$$\n",
    "\\pi(A+B)\\leq \\pi(A)+\\pi(B), \\qquad \\nu(A+B)\\leq \\nu(A)+\\nu(B).\n",
    "$$\n",
    "\n",
    "16. Gram matrix is Hermitian."
   ]
  },
  {
   "cell_type": "markdown",
   "metadata": {},
   "source": [
    "### Example - Hermitian matrix"
   ]
  },
  {
   "cell_type": "code",
   "execution_count": 50,
   "metadata": {
    "collapsed": false
   },
   "outputs": [
    {
     "data": {
      "text/plain": [
       "5x5 Array{Complex{Float64},2}:\n",
       "  1.26495+0.0im         1.18856-0.330048im  …   1.52235-0.0307713im\n",
       "  1.18856+0.330048im   0.729387+0.0im          0.777691+0.691303im \n",
       "  1.62459+0.130665im    1.04451+0.351419im     0.163204-0.781415im \n",
       " 0.803163-0.501102im    1.00518-0.272931im      1.15112-0.612547im \n",
       "  1.52235+0.0307713im  0.777691-0.691303im     0.754013+0.0im      "
      ]
     },
     "execution_count": 50,
     "metadata": {},
     "output_type": "execute_result"
    }
   ],
   "source": [
    "# Generating Hermitian matrix\n",
    "n=5\n",
    "A=rand(n,n)+im*rand(n,n)\n",
    "A=A+A'"
   ]
  },
  {
   "cell_type": "code",
   "execution_count": 51,
   "metadata": {
    "collapsed": false
   },
   "outputs": [
    {
     "data": {
      "text/plain": [
       "true"
      ]
     },
     "execution_count": 51,
     "metadata": {},
     "output_type": "execute_result"
    }
   ],
   "source": [
    "ishermitian(A)"
   ]
  },
  {
   "cell_type": "code",
   "execution_count": 52,
   "metadata": {
    "collapsed": false
   },
   "outputs": [
    {
     "data": {
      "text/plain": [
       "5-element Array{Complex{Float64},1}:\n",
       "  1.26495+0.0im\n",
       " 0.729387+0.0im\n",
       " 0.948585+0.0im\n",
       "  1.84838+0.0im\n",
       " 0.754013+0.0im"
      ]
     },
     "execution_count": 52,
     "metadata": {},
     "output_type": "execute_result"
    }
   ],
   "source": [
    "# Diagonal entries\n",
    "diag(A)"
   ]
  },
  {
   "cell_type": "code",
   "execution_count": 53,
   "metadata": {
    "collapsed": false
   },
   "outputs": [
    {
     "data": {
      "text/plain": [
       "(\n",
       "5x5 Array{Complex{Float64},2}:\n",
       " 5.38997+8.81531e-18im   …  -2.54353e-16+2.24968e-16im\n",
       "              0.0+0.0im      6.42363e-17-2.91013e-16im\n",
       "              0.0+0.0im     -5.03188e-16-1.87772e-16im\n",
       "              0.0+0.0im      2.98096e-16-1.51451e-16im\n",
       "              0.0+0.0im         -0.83431-2.14942e-17im,\n",
       "\n",
       "5x5 Array{Complex{Float64},2}:\n",
       " -0.524812-5.75966e-17im         …  0.450214+9.67297e-13im      \n",
       "          -0.385137-0.0651084im             -0.613246-0.232703im\n",
       "          -0.388239+0.0791925im             -0.127311+0.204228im\n",
       "          -0.483386+0.108088im               0.310763+0.221538im\n",
       "          -0.407978-0.0566579im            -0.0561967-0.400448im,\n",
       "\n",
       "Complex{Float64}[5.389965359138534 + 8.815308544094258e-18im,1.7205071216437475 + 3.103566011210752e-16im,0.6968470875991898 - 2.5265943806631654e-16im,-1.4276928934487259 - 8.665160852811115e-17im,-0.834310137094798 - 2.1494226494185172e-17im])"
      ]
     },
     "execution_count": 53,
     "metadata": {},
     "output_type": "execute_result"
    }
   ],
   "source": [
    "# Schur decomposition\n",
    "T,Q=schur(A)"
   ]
  },
  {
   "cell_type": "code",
   "execution_count": 54,
   "metadata": {
    "collapsed": false
   },
   "outputs": [
    {
     "data": {
      "text/plain": [
       "([-1.4276928934487239,-0.8343101370947988,0.6968470875991886,1.7205071216437477,5.389965359138533],\n",
       "5x5 Array{Complex{Float64},2}:\n",
       "  -0.437365-0.218155im   -0.0625675+0.445845im  …  -0.519823+0.0721905im\n",
       "  -0.253599-0.13989im       0.31567-0.574955im     -0.390432-0.011512im \n",
       "    0.35029+0.482632im    -0.184553-0.154457im     -0.373656+0.131844im \n",
       " 0.00339166-0.0656066im   -0.262576+0.27696im      -0.463923+0.173553im \n",
       "   0.563282+0.0im          0.404372-0.0im          -0.411893-0.0im      )"
      ]
     },
     "execution_count": 54,
     "metadata": {},
     "output_type": "execute_result"
    }
   ],
   "source": [
    "λ,U=eig(A)"
   ]
  },
  {
   "cell_type": "code",
   "execution_count": 55,
   "metadata": {
    "collapsed": false
   },
   "outputs": [
    {
     "data": {
      "text/plain": [
       "5x5 Array{Complex{Float64},2}:\n",
       "          1.77636e-15+0.0im  …   4.44089e-16+9.71445e-17im \n",
       "          1.77636e-15+0.0im      1.11022e-16+1.11022e-16im \n",
       " 2.66454e-15-5.55112e-17im      -1.11022e-16-3.33067e-16im \n",
       " 4.44089e-16+2.22045e-16im               -4.44089e-16+0.0im\n",
       " 2.22045e-16-1.11022e-16im                8.88178e-16+0.0im"
      ]
     },
     "execution_count": 55,
     "metadata": {},
     "output_type": "execute_result"
    }
   ],
   "source": [
    "# Spectral theorem\n",
    "A-U*diagm(λ)*U'"
   ]
  },
  {
   "cell_type": "code",
   "execution_count": 56,
   "metadata": {
    "collapsed": false
   },
   "outputs": [
    {
     "data": {
      "text/plain": [
       "5x5 Array{Complex{Float64},2}:\n",
       " 1.55431e-15+2.08167e-17im   …   2.22045e-16+8.32667e-17im \n",
       "          1.77636e-15+0.0im      1.11022e-16+1.11022e-16im \n",
       " 2.44249e-15+2.77556e-17im      -1.11022e-16-3.33067e-16im \n",
       " 4.44089e-16+1.11022e-16im               -6.66134e-16+0.0im\n",
       " 2.22045e-16-8.32667e-17im                9.99201e-16+0.0im"
      ]
     },
     "execution_count": 56,
     "metadata": {},
     "output_type": "execute_result"
    }
   ],
   "source": [
    "# Spectral theorem\n",
    "A-sum([λ[i]*U[:,i]*U[:,i]' for i=1:n])"
   ]
  },
  {
   "cell_type": "code",
   "execution_count": 57,
   "metadata": {
    "collapsed": false
   },
   "outputs": [
    {
     "data": {
      "text/plain": [
       "5-element Array{Float64,1}:\n",
       " -1.42769 \n",
       " -0.83431 \n",
       "  0.696847\n",
       "  1.72051 \n",
       "  5.38997 "
      ]
     },
     "execution_count": 57,
     "metadata": {},
     "output_type": "execute_result"
    }
   ],
   "source": [
    "λ"
   ]
  },
  {
   "cell_type": "code",
   "execution_count": 58,
   "metadata": {
    "collapsed": false
   },
   "outputs": [
    {
     "name": "stdout",
     "output_type": "stream",
     "text": [
      "i = rand(1:n) = 2\n"
     ]
    },
    {
     "data": {
      "text/plain": [
       "4-element Array{Float64,1}:\n",
       " -1.34424 \n",
       "  0.175718\n",
       "  1.38789 \n",
       "  4.59656 "
      ]
     },
     "execution_count": 58,
     "metadata": {},
     "output_type": "execute_result"
    }
   ],
   "source": [
    "# Cauchy Interlace Theorem (repeat several times)\n",
    "@show i=rand(1:n)\n",
    "μ=eigvals(A[[1:i-1;i+1:n],[1:i-1;i+1:n]])"
   ]
  },
  {
   "cell_type": "code",
   "execution_count": 59,
   "metadata": {
    "collapsed": false
   },
   "outputs": [
    {
     "data": {
      "text/plain": [
       "inertia (generic function with 1 method)"
      ]
     },
     "execution_count": 59,
     "metadata": {},
     "output_type": "execute_result"
    }
   ],
   "source": [
    "# Inertia\n",
    "inertia(A)=[sum(eigvals(A).>0), sum(eigvals(A).<0), sum(eigvals(A).==0)]"
   ]
  },
  {
   "cell_type": "code",
   "execution_count": 62,
   "metadata": {
    "collapsed": false
   },
   "outputs": [
    {
     "data": {
      "text/plain": [
       "3-element Array{Int64,1}:\n",
       " 3\n",
       " 2\n",
       " 0"
      ]
     },
     "execution_count": 62,
     "metadata": {},
     "output_type": "execute_result"
    }
   ],
   "source": [
    "inertia(A)"
   ]
  },
  {
   "cell_type": "code",
   "execution_count": 63,
   "metadata": {
    "collapsed": false
   },
   "outputs": [
    {
     "ename": "LoadError",
     "evalue": "LoadError: MethodError: `isless` has no method matching isless(::Int64, ::Complex{Float64})\nClosest candidates are:\n  isless(::Real, !Matched::AbstractFloat)\n  isless(::Real, !Matched::Real)\n  isless(::Integer, !Matched::Char)\n  ...\nwhile loading In[63], in expression starting on line 5",
     "output_type": "error",
     "traceback": [
      "LoadError: MethodError: `isless` has no method matching isless(::Int64, ::Complex{Float64})\nClosest candidates are:\n  isless(::Real, !Matched::AbstractFloat)\n  isless(::Real, !Matched::Real)\n  isless(::Integer, !Matched::Char)\n  ...\nwhile loading In[63], in expression starting on line 5",
      "",
      " in bitcache_lt at broadcast.jl:406",
      " in .< at broadcast.jl:422",
      " in .> at operators.jl:39",
      " in inertia at In[59]:2"
     ]
    }
   ],
   "source": [
    "# Similar matrices\n",
    "C=rand(n,n)+im*rand(n,n)\n",
    "inertia(A)\n",
    "B=C*A*inv(C)\n",
    "inertia(A)==inertia(B)"
   ]
  },
  {
   "cell_type": "markdown",
   "metadata": {},
   "source": [
    "This did not work numerically due to rounding errors!"
   ]
  },
  {
   "cell_type": "code",
   "execution_count": 64,
   "metadata": {
    "collapsed": false
   },
   "outputs": [
    {
     "data": {
      "text/plain": [
       "5-element Array{Complex{Float64},1}:\n",
       "  5.38997+1.95171e-15im\n",
       "  1.72051-2.85507e-16im\n",
       " 0.696847+2.66696e-15im\n",
       " -0.83431+8.78296e-16im\n",
       " -1.42769+2.67076e-16im"
      ]
     },
     "execution_count": 64,
     "metadata": {},
     "output_type": "execute_result"
    }
   ],
   "source": [
    "eigvals(B)"
   ]
  },
  {
   "cell_type": "code",
   "execution_count": 65,
   "metadata": {
    "collapsed": false
   },
   "outputs": [
    {
     "ename": "LoadError",
     "evalue": "LoadError: MethodError: `isless` has no method matching isless(::Int64, ::Complex{Float64})\nClosest candidates are:\n  isless(::Real, !Matched::AbstractFloat)\n  isless(::Real, !Matched::Real)\n  isless(::Integer, !Matched::Char)\n  ...\nwhile loading In[65], in expression starting on line 3",
     "output_type": "error",
     "traceback": [
      "LoadError: MethodError: `isless` has no method matching isless(::Int64, ::Complex{Float64})\nClosest candidates are:\n  isless(::Real, !Matched::AbstractFloat)\n  isless(::Real, !Matched::Real)\n  isless(::Integer, !Matched::Char)\n  ...\nwhile loading In[65], in expression starting on line 3",
      "",
      " in bitcache_lt at broadcast.jl:406",
      " in .< at broadcast.jl:422",
      " in .> at operators.jl:39",
      " in inertia at In[59]:2"
     ]
    }
   ],
   "source": [
    "# Congruent matrices - this does not work either, without some preparation\n",
    "B=C'*A*C\n",
    "inertia(A)==inertia(B)"
   ]
  },
  {
   "cell_type": "code",
   "execution_count": 66,
   "metadata": {
    "collapsed": false
   },
   "outputs": [
    {
     "ename": "LoadError",
     "evalue": "LoadError: ArgumentError: Cannot construct Hermitian from matrix with nonreal diagonals\nwhile loading In[66], in expression starting on line 1",
     "output_type": "error",
     "traceback": [
      "LoadError: ArgumentError: Cannot construct Hermitian from matrix with nonreal diagonals\nwhile loading In[66], in expression starting on line 1",
      "",
      " in call at linalg/symmetric.jl:16",
      " in call at linalg/symmetric.jl:14"
     ]
    }
   ],
   "source": [
    "Hermitian(B)"
   ]
  },
  {
   "cell_type": "code",
   "execution_count": 67,
   "metadata": {
    "collapsed": false
   },
   "outputs": [
    {
     "data": {
      "text/plain": [
       "(false,true,true)"
      ]
     },
     "execution_count": 67,
     "metadata": {},
     "output_type": "execute_result"
    }
   ],
   "source": [
    "# We need to symmetrize B so that the right algorithm is called\n",
    "ishermitian(B), ishermitian((B+B')/2), inertia(A)==inertia((B+B')/2)"
   ]
  },
  {
   "cell_type": "code",
   "execution_count": 68,
   "metadata": {
    "collapsed": false
   },
   "outputs": [
    {
     "data": {
      "text/html": [
       "eigvals<i>{T}</i>(A::<b>Union{DenseArray{T,2},SubArray{T,2,A<:DenseArray{T,N},I<:Tuple{Vararg{Union{Colon,Int64,Range{Int64}}}},LD}}</b>) at <a href=\"https://github.com/JuliaLang/julia/tree/2ac304dfba75fad148d4070ef4f8a2e400c305bb/base/linalg/eigen.jl#L91\" target=\"_blank\">linalg/eigen.jl:91</a>"
      ],
      "text/plain": [
       "eigvals{T}(A::Union{DenseArray{T,2},SubArray{T,2,A<:DenseArray{T,N},I<:Tuple{Vararg{Union{Colon,Int64,Range{Int64}}}},LD}}) at linalg/eigen.jl:91"
      ]
     },
     "execution_count": 68,
     "metadata": {},
     "output_type": "execute_result"
    }
   ],
   "source": [
    "@which eigvals(B)"
   ]
  },
  {
   "cell_type": "code",
   "execution_count": 70,
   "metadata": {
    "collapsed": false
   },
   "outputs": [
    {
     "data": {
      "text/plain": [
       "5x5 Array{Complex{Float64},2}:\n",
       "  0.153502+0.0im         0.120001-0.0111239im   …  0.0756502+0.0581193im\n",
       "  0.120001+0.0111239im  0.0869754+0.0im             0.114961+0.0773454im\n",
       " 0.0916513+0.0711808im  0.0866096+0.00344633im      0.168753-0.0484147im\n",
       " 0.0907524-0.0605565im  0.0327553-0.00777573im      0.124785-0.0807906im\n",
       " 0.0756502-0.0581193im   0.114961-0.0773454im       0.091023+0.0im      "
      ]
     },
     "execution_count": 70,
     "metadata": {},
     "output_type": "execute_result"
    }
   ],
   "source": [
    "B=(B+B')/2"
   ]
  },
  {
   "cell_type": "code",
   "execution_count": 71,
   "metadata": {
    "collapsed": false
   },
   "outputs": [
    {
     "data": {
      "text/html": [
       "eigvals<i>{T}</i>(A::<b>Union{DenseArray{T,2},SubArray{T,2,A<:DenseArray{T,N},I<:Tuple{Vararg{Union{Colon,Int64,Range{Int64}}}},LD}}</b>) at <a href=\"https://github.com/JuliaLang/julia/tree/2ac304dfba75fad148d4070ef4f8a2e400c305bb/base/linalg/eigen.jl#L91\" target=\"_blank\">linalg/eigen.jl:91</a>"
      ],
      "text/plain": [
       "eigvals{T}(A::Union{DenseArray{T,2},SubArray{T,2,A<:DenseArray{T,N},I<:Tuple{Vararg{Union{Colon,Int64,Range{Int64}}}},LD}}) at linalg/eigen.jl:91"
      ]
     },
     "execution_count": 71,
     "metadata": {},
     "output_type": "execute_result"
    }
   ],
   "source": [
    "@which eigvals(B)"
   ]
  },
  {
   "cell_type": "code",
   "execution_count": 73,
   "metadata": {
    "collapsed": false
   },
   "outputs": [
    {
     "data": {
      "text/plain": [
       "5-element Array{Float64,1}:\n",
       " -0.180178 \n",
       " -0.0616536\n",
       "  0.0810871\n",
       "  0.134258 \n",
       "  0.517581 "
      ]
     },
     "execution_count": 73,
     "metadata": {},
     "output_type": "execute_result"
    }
   ],
   "source": [
    "eigvals(B)"
   ]
  },
  {
   "cell_type": "code",
   "execution_count": 74,
   "metadata": {
    "collapsed": false
   },
   "outputs": [
    {
     "name": "stdout",
     "output_type": "stream",
     "text": [
      "λ = [-1.4276928934487239,-0.8343101370947988,0.6968470875991886,1.7205071216437477,5.389965359138533]\n"
     ]
    },
    {
     "data": {
      "text/plain": [
       "([-0.15440790685151531,-0.02734757846774837,0.034620303453047785,0.10912045008888574,0.6529732131083265],[-1.474606840826438,-0.8160186811785496,0.7004626848428993,1.729819122119396,6.020618734211645])"
      ]
     },
     "execution_count": 74,
     "metadata": {},
     "output_type": "execute_result"
    }
   ],
   "source": [
    "# Weyl Inequalities\n",
    "B=rand(n,n)+im*rand(n,n)\n",
    "B=(B+B')/10\n",
    "@show λ\n",
    "μ=eigvals(B)\n",
    "γ=eigvals(A+B)\n",
    "μ,γ"
   ]
  },
  {
   "cell_type": "code",
   "execution_count": 75,
   "metadata": {
    "collapsed": false
   },
   "outputs": [
    {
     "name": "stdout",
     "output_type": "stream",
     "text": [
      "(j,k) = (1,5)\n",
      "((sort(γ,rev=true))[(j + k) - 1],(sort(λ,rev=true))[j] + (sort(μ,rev=true))[k]) = (-1.474606840826438,5.235557452287018)\n"
     ]
    },
    {
     "data": {
      "text/plain": [
       "(6.020618734211645,5.235557452287018)"
      ]
     },
     "execution_count": 75,
     "metadata": {},
     "output_type": "execute_result"
    }
   ],
   "source": [
    "# Theorem uses different order!\n",
    "j=rand(1:n)\n",
    "k=rand(1:n)\n",
    "@show j,k\n",
    "if j+k<=n+1\n",
    "    @show sort(γ,rev=true)[j+k-1], sort(λ,rev=true)[j]+sort(μ,rev=true)[k]\n",
    "end\n",
    "if j+k>=n+1\n",
    "    sort(γ,rev=true)[j+k-n], sort(λ,rev=true)[j]+sort(μ,rev=true)[k]\n",
    "end"
   ]
  },
  {
   "cell_type": "code",
   "execution_count": 76,
   "metadata": {
    "collapsed": false
   },
   "outputs": [
    {
     "data": {
      "text/plain": [
       "5-element Array{Float64,1}:\n",
       "  5.38997 \n",
       "  1.72051 \n",
       "  0.696847\n",
       " -0.83431 \n",
       " -1.42769 "
      ]
     },
     "execution_count": 76,
     "metadata": {},
     "output_type": "execute_result"
    }
   ],
   "source": [
    "sort(λ,rev=true)"
   ]
  },
  {
   "cell_type": "markdown",
   "metadata": {},
   "source": [
    "### Example - Real symmetric matrix"
   ]
  },
  {
   "cell_type": "code",
   "execution_count": 78,
   "metadata": {
    "collapsed": false
   },
   "outputs": [
    {
     "data": {
      "text/plain": [
       "6x6 Array{Int64,2}:\n",
       "  -2  4  -11   1  -11    9\n",
       "   4  2    3   5    6    7\n",
       " -11  3   12  -7   11    9\n",
       "   1  5   -7  12   -3   14\n",
       " -11  6   11  -3   12   -9\n",
       "   9  7    9  14   -9  -10"
      ]
     },
     "execution_count": 78,
     "metadata": {},
     "output_type": "execute_result"
    }
   ],
   "source": [
    "# Generating real symmetric matrix\n",
    "n=6\n",
    "A=rand(-9:9,n,n)\n",
    "A=A+A'"
   ]
  },
  {
   "cell_type": "code",
   "execution_count": 79,
   "metadata": {
    "collapsed": false
   },
   "outputs": [
    {
     "data": {
      "text/plain": [
       "true"
      ]
     },
     "execution_count": 79,
     "metadata": {},
     "output_type": "execute_result"
    }
   ],
   "source": [
    "issym(A)"
   ]
  },
  {
   "cell_type": "code",
   "execution_count": 80,
   "metadata": {
    "collapsed": false
   },
   "outputs": [
    {
     "data": {
      "text/plain": [
       "(\n",
       "6x6 Array{Float64,2}:\n",
       " -26.8512   1.06581e-14    4.37578e-15  …  -1.9861e-15    5.15524e-17\n",
       "   0.0     34.481         -1.71301e-14     -9.90064e-16  -2.46234e-15\n",
       "   0.0      0.0          -11.9487          -3.85482e-16   1.64005e-15\n",
       "   0.0      0.0            0.0              1.51922e-15   1.08105e-16\n",
       "   0.0      0.0            0.0              7.67664      -1.39385e-15\n",
       "   0.0      0.0            0.0          …   0.0          20.3775     ,\n",
       "\n",
       "6x6 Array{Float64,2}:\n",
       " -0.343063    0.403238     -0.662711   -0.500187    0.173775   -0.0117039\n",
       " -0.0840757   0.000362646   0.533558   -0.693834   -0.0977493   0.46614  \n",
       " -0.377492   -0.524092     -0.096189    0.165946    0.609829    0.417308 \n",
       " -0.314243    0.398672     -0.0567602   0.458685   -0.400814    0.606669 \n",
       "  0.178237   -0.595557     -0.474626   -0.174277   -0.564496    0.198102 \n",
       "  0.77603     0.221584     -0.195925    0.0101983   0.330225    0.448486 ,\n",
       "\n",
       "[-26.851225884489857,34.480996365173866,-11.948709895417572,2.2648471614029555,7.676640184663936,20.377452068666656])"
      ]
     },
     "execution_count": 80,
     "metadata": {},
     "output_type": "execute_result"
    }
   ],
   "source": [
    "T,Q=schur(A)"
   ]
  },
  {
   "cell_type": "code",
   "execution_count": 81,
   "metadata": {
    "collapsed": false
   },
   "outputs": [
    {
     "data": {
      "text/plain": [
       "([-26.851225884489978,-11.948709895417487,2.264847161402969,7.676640184663945,20.377452068666642,34.48099636517387],\n",
       "6x6 Array{Float64,2}:\n",
       " -0.343063    0.662711    0.500187   -0.173775   -0.0117039  -0.403238   \n",
       " -0.0840757  -0.533558    0.693834    0.0977493   0.46614    -0.000362646\n",
       " -0.377492    0.096189   -0.165946   -0.609829    0.417308    0.524092   \n",
       " -0.314243    0.0567602  -0.458685    0.400814    0.606669   -0.398672   \n",
       "  0.178237    0.474626    0.174277    0.564496    0.198102    0.595557   \n",
       "  0.77603     0.195925   -0.0101983  -0.330225    0.448486   -0.221584   )"
      ]
     },
     "execution_count": 81,
     "metadata": {},
     "output_type": "execute_result"
    }
   ],
   "source": [
    "λ,U=eig(A)"
   ]
  },
  {
   "cell_type": "code",
   "execution_count": 82,
   "metadata": {
    "collapsed": false
   },
   "outputs": [
    {
     "data": {
      "text/plain": [
       "6x6 Array{Float64,2}:\n",
       " -4.26326e-14   1.9984e-14    0.0          …  -2.84217e-14  -1.42109e-14\n",
       "  1.90958e-14  -2.4869e-14    6.66134e-15      1.68754e-14  -1.15463e-14\n",
       "  0.0           6.66134e-15  -7.10543e-15      3.55271e-15  -1.06581e-14\n",
       " -1.06581e-14   1.15463e-14   7.99361e-15     -1.06581e-14  -2.13163e-14\n",
       " -2.84217e-14   1.68754e-14   0.0             -2.4869e-14    1.42109e-14\n",
       " -1.42109e-14  -1.15463e-14  -1.06581e-14  …   1.42109e-14   1.5099e-13 "
      ]
     },
     "execution_count": 82,
     "metadata": {},
     "output_type": "execute_result"
    }
   ],
   "source": [
    "A-sum([λ[i]*U[:,i]*U[:,i]' for i=1:n])"
   ]
  },
  {
   "cell_type": "code",
   "execution_count": 83,
   "metadata": {
    "collapsed": false
   },
   "outputs": [
    {
     "data": {
      "text/plain": [
       "3-element Array{Int64,1}:\n",
       " 4\n",
       " 2\n",
       " 0"
      ]
     },
     "execution_count": 83,
     "metadata": {},
     "output_type": "execute_result"
    }
   ],
   "source": [
    "inertia(A)"
   ]
  },
  {
   "cell_type": "code",
   "execution_count": 84,
   "metadata": {
    "collapsed": false
   },
   "outputs": [
    {
     "data": {
      "text/plain": [
       "3-element Array{Int64,1}:\n",
       " 4\n",
       " 2\n",
       " 0"
      ]
     },
     "execution_count": 84,
     "metadata": {},
     "output_type": "execute_result"
    }
   ],
   "source": [
    "C=rand(n,n)\n",
    "inertia(C'*A*C)"
   ]
  },
  {
   "cell_type": "markdown",
   "metadata": {},
   "source": [
    "## Positive definite matrices\n",
    "\n",
    "These matrices are an important subset of Hermitian or real symmteric matrices.\n",
    "\n",
    "### Definitions\n",
    "\n",
    "Matrix $A\\in\\mathcal{H}_n$ is __positive definite__ (PD) if $x^*Ax>0$ for all nonzero $x\\in\\mathbb{C}^n$.\n",
    "\n",
    "Matrix $A\\in\\mathcal{H}_n$ is __positive semidefinite__ (PSD) if $x^*Ax\\geq 0$ for all nonzero $x\\in\\mathbb{C}^n$.\n",
    "\n",
    "### Facts\n",
    "\n",
    "1. $A\\in\\mathcal{S}_n$ is PD if $x^TAx>0$ for all nonzero $x\\in \\mathbb{R}^n$, and is PSD if $x^TAx\\geq 0$ for all $x\\in \\mathbb{R}^n$.\n",
    " \n",
    "2. If $A,B\\in \\mathrm{PSD}_n$, then $A+B\\in \\mathrm{PSD}_n$. If, in addition, $A\\in \\mathrm{PD}_n$, then $A+B\\in \\mathrm{PD}_n$.\n",
    "\n",
    "3. If $A\\in \\mathrm{PD}_n$, then $\\mathop{\\mathrm{tr}}(A)>0$ and $\\det(A)>0$. \n",
    "\n",
    "3. If $A\\in \\mathrm{PSD}_n$, then $\\mathop{\\mathrm{tr}}(A)\\geq 0$ and $\\det(A)\\geq 0$.\n",
    "\n",
    "4. Any principal submatrix of a PD matrix is PD. Any principal submatrix of a PSD matrix is PSD. Consequently, all minors are positive or nonnegative, respectively.\n",
    "\n",
    "5. $A\\in\\mathcal{H}_n$ is PD iff _every leading_ principal minor of $A$ is positive. $A\\in\\mathcal{H}_n$ is PSD iff\n",
    "_every_ principal minor is nonnegative.\n",
    "\n",
    "6. For $A\\in \\mathrm{PSD}_n$, there exists unique PSD $k$-th __root__, $A^{1/k}=U\\Lambda^{1/k} U^*$.\n",
    "\n",
    "7. _(Cholesky Factorization)_ $A\\in\\mathcal{H}_n$ if PD iff there is an invertible lower triangular matrix $L$ with positive diagonal entries such that $A=LL^*$.\n",
    "\n",
    "8. Gram matrix is PDS. If the vectors are linearly independent, Gram matrix is PD."
   ]
  },
  {
   "cell_type": "markdown",
   "metadata": {},
   "source": [
    "### Example - Positive definite matrix"
   ]
  },
  {
   "cell_type": "code",
   "execution_count": 85,
   "metadata": {
    "collapsed": false
   },
   "outputs": [
    {
     "data": {
      "text/plain": [
       "5x5 Array{Complex{Float64},2}:\n",
       "  2.8608+0.0im       4.08078+0.316397im  …  2.51009+0.594782im\n",
       " 4.08078-0.316397im  6.67951+0.0im          3.71883+0.224383im\n",
       " 2.12355-0.99138im   3.68876-1.48005im      2.57215-0.140011im\n",
       " 2.55511+0.798928im  3.62383+1.82325im      2.91989+1.96198im \n",
       " 2.51009-0.594782im  3.71883-0.224383im     3.54611+0.0im     "
      ]
     },
     "execution_count": 85,
     "metadata": {},
     "output_type": "execute_result"
    }
   ],
   "source": [
    "# Generating positive definite matrix as a Gram matrix\n",
    "n=5\n",
    "A=rand(n,n)+im*rand(n,n)\n",
    "A=A*A'"
   ]
  },
  {
   "cell_type": "code",
   "execution_count": 86,
   "metadata": {
    "collapsed": false
   },
   "outputs": [
    {
     "data": {
      "text/plain": [
       "true"
      ]
     },
     "execution_count": 86,
     "metadata": {},
     "output_type": "execute_result"
    }
   ],
   "source": [
    "ishermitian(A)"
   ]
  },
  {
   "cell_type": "code",
   "execution_count": 87,
   "metadata": {
    "collapsed": false
   },
   "outputs": [
    {
     "data": {
      "text/plain": [
       "5-element Array{Float64,1}:\n",
       "  0.00521498\n",
       "  0.369462  \n",
       "  0.656071  \n",
       "  2.01712   \n",
       " 17.4547    "
      ]
     },
     "execution_count": 87,
     "metadata": {},
     "output_type": "execute_result"
    }
   ],
   "source": [
    "eigvals(A)"
   ]
  },
  {
   "cell_type": "code",
   "execution_count": 88,
   "metadata": {
    "collapsed": false
   },
   "outputs": [
    {
     "data": {
      "text/plain": [
       "5-element Array{Any,1}:\n",
       "             2.8608+0.0im\n",
       "   2.35584-1.66533e-16im \n",
       "   2.02092-1.91899e-16im \n",
       "    1.8262-5.55112e-16im \n",
       " 0.0445059-5.89806e-17im "
      ]
     },
     "execution_count": 88,
     "metadata": {},
     "output_type": "execute_result"
    }
   ],
   "source": [
    "# Positivity of principal leading minors\n",
    "[det(A[1:i,1:i]) for i=1:n]"
   ]
  },
  {
   "cell_type": "code",
   "execution_count": 89,
   "metadata": {
    "collapsed": false
   },
   "outputs": [
    {
     "data": {
      "text/plain": [
       "5x5 Array{Complex{Float64},2}:\n",
       " 4.44089e-16-1.38778e-16im   …  -8.88178e-16-2.22045e-16im \n",
       "          3.55271e-15+0.0im              0.0-1.11022e-16im \n",
       " 8.88178e-16-6.66134e-16im               0.0+1.11022e-16im \n",
       " 8.88178e-16+2.22045e-16im       8.88178e-16+2.22045e-16im \n",
       "         -4.44089e-16+0.0im               2.22045e-15+0.0im"
      ]
     },
     "execution_count": 89,
     "metadata": {},
     "output_type": "execute_result"
    }
   ],
   "source": [
    "# Square root\n",
    "λ,U=eig(A)\n",
    "Ar=U*diagm(sqrt(λ))*U'\n",
    "A-Ar*Ar"
   ]
  },
  {
   "cell_type": "code",
   "execution_count": 90,
   "metadata": {
    "collapsed": false
   },
   "outputs": [
    {
     "data": {
      "text/plain": [
       "5x5 UpperTriangular{Complex{Float64},Array{Complex{Float64},2}}:\n",
       " 1.69139+0.0im   2.41268+0.187063im  …    1.48404+0.351653im\n",
       "     0.0+0.0im  0.907464+0.0im          0.0799401-0.381761im\n",
       "     0.0+0.0im       0.0+0.0im           0.627179+0.589723im\n",
       "     0.0+0.0im       0.0+0.0im          0.0667317+0.545895im\n",
       "     0.0+0.0im       0.0+0.0im           0.156111+0.0im     "
      ]
     },
     "execution_count": 90,
     "metadata": {},
     "output_type": "execute_result"
    }
   ],
   "source": [
    "# Cholesky factorization - the upper triangular factor is returned\n",
    "L=chol(A)"
   ]
  },
  {
   "cell_type": "code",
   "execution_count": 91,
   "metadata": {
    "collapsed": false
   },
   "outputs": [
    {
     "data": {
      "text/plain": [
       "5x5 Array{Complex{Float64},2}:\n",
       "          0.0+0.0im  0.0-5.55112e-17im   …  0.0+0.0im  0.0-1.11022e-16im \n",
       " 0.0+5.55112e-17im            0.0+0.0im     0.0+0.0im  0.0-5.55112e-17im \n",
       " 0.0+1.11022e-16im            0.0+0.0im     0.0+0.0im  0.0+1.11022e-16im \n",
       "          0.0+0.0im           0.0+0.0im     0.0+0.0im           0.0+0.0im\n",
       " 0.0+1.11022e-16im   0.0+5.55112e-17im      0.0+0.0im           0.0+0.0im"
      ]
     },
     "execution_count": 91,
     "metadata": {},
     "output_type": "execute_result"
    }
   ],
   "source": [
    "A-L'*L"
   ]
  },
  {
   "cell_type": "markdown",
   "metadata": {},
   "source": [
    "### Example - Positive semidefinite matrix"
   ]
  },
  {
   "cell_type": "code",
   "execution_count": 92,
   "metadata": {
    "collapsed": false
   },
   "outputs": [
    {
     "data": {
      "text/plain": [
       "6x4 Array{Int64,2}:\n",
       "  4  -3   4  -6\n",
       "  7   2  -3   0\n",
       "  6  -1   7  -9\n",
       " -1  -5  -9   4\n",
       "  8  -8  -8   4\n",
       " -7   1  -4  -1"
      ]
     },
     "execution_count": 92,
     "metadata": {},
     "output_type": "execute_result"
    }
   ],
   "source": [
    "# Generating positive semidefinite matrix as a Gram matrix, try it several times\n",
    "n=6\n",
    "m=4\n",
    "A=rand(-9:9,n,m)"
   ]
  },
  {
   "cell_type": "code",
   "execution_count": 93,
   "metadata": {
    "collapsed": false
   },
   "outputs": [
    {
     "data": {
      "text/plain": [
       "6x6 Array{Int64,2}:\n",
       "  77   10   109   -49    0  -41\n",
       "  10   62    19    10   64  -35\n",
       " 109   19   167  -100  -36  -62\n",
       " -49   10  -100   123  120   34\n",
       "   0   64   -36   120  208  -36\n",
       " -41  -35   -62    34  -36   67"
      ]
     },
     "execution_count": 93,
     "metadata": {},
     "output_type": "execute_result"
    }
   ],
   "source": [
    "A=A*A'"
   ]
  },
  {
   "cell_type": "code",
   "execution_count": 94,
   "metadata": {
    "collapsed": false
   },
   "outputs": [
    {
     "data": {
      "text/plain": [
       "6-element Array{Float64,1}:\n",
       "  -1.82781e-14\n",
       "   1.62473e-15\n",
       "  22.837      \n",
       "  52.0278     \n",
       " 255.053      \n",
       " 374.082      "
      ]
     },
     "execution_count": 94,
     "metadata": {},
     "output_type": "execute_result"
    }
   ],
   "source": [
    "# There are rounding errors!\n",
    "eigvals(A)"
   ]
  },
  {
   "cell_type": "code",
   "execution_count": 95,
   "metadata": {
    "collapsed": false
   },
   "outputs": [
    {
     "ename": "LoadError",
     "evalue": "LoadError: Base.LinAlg.PosDefException(6)\nwhile loading In[95], in expression starting on line 2",
     "output_type": "error",
     "traceback": [
      "LoadError: Base.LinAlg.PosDefException(6)\nwhile loading In[95], in expression starting on line 2",
      "",
      " in chol! at linalg/cholesky.jl:28"
     ]
    }
   ],
   "source": [
    "# Cholesky factorization - this can fail\n",
    "L=chol(A)"
   ]
  },
  {
   "cell_type": "markdown",
   "metadata": {},
   "source": [
    "### Example - Covariance and correlation matrices \n",
    "\n",
    "[Covariance and correlation matrices](https://en.wikipedia.org/wiki/Covariance_matrix) are PSD.\n",
    "\n",
    "Correlation matrix is diagonally scaled covariance matrix."
   ]
  },
  {
   "cell_type": "code",
   "execution_count": 96,
   "metadata": {
    "collapsed": false
   },
   "outputs": [
    {
     "data": {
      "text/plain": [
       "10x5 Array{Float64,2}:\n",
       " 0.233976   0.88447    0.31875    0.477302   0.010929 \n",
       " 0.765061   0.384687   0.550632   0.23077    0.105646 \n",
       " 0.234778   0.288748   0.465058   0.109851   0.707216 \n",
       " 0.119861   0.0998745  0.139168   0.323265   0.782267 \n",
       " 0.98012    0.548689   0.756999   0.415268   0.191868 \n",
       " 0.739562   0.940148   0.393295   0.423453   0.0686247\n",
       " 0.909474   0.857651   0.0534287  0.802295   0.217216 \n",
       " 0.14625    0.989997   0.0365067  0.0924959  0.187175 \n",
       " 0.0717853  0.907536   0.746774   0.910194   0.724679 \n",
       " 0.444996   0.303614   0.939682   0.464663   0.730478 "
      ]
     },
     "execution_count": 96,
     "metadata": {},
     "output_type": "execute_result"
    }
   ],
   "source": [
    "x=rand(10,5)"
   ]
  },
  {
   "cell_type": "code",
   "execution_count": 97,
   "metadata": {
    "collapsed": false
   },
   "outputs": [
    {
     "data": {
      "text/plain": [
       "5x5 Array{Float64,2}:\n",
       "  0.123382     0.00624417   0.0151007  0.0126633   -0.0607884 \n",
       "  0.00624417   0.109923    -0.0287258  0.0345162   -0.0620787 \n",
       "  0.0151007   -0.0287258    0.0974196  0.016538     0.0308986 \n",
       "  0.0126633    0.0345162    0.016538   0.0711248    0.00845364\n",
       " -0.0607884   -0.0620787    0.0308986  0.00845364   0.101944  "
      ]
     },
     "execution_count": 97,
     "metadata": {},
     "output_type": "execute_result"
    }
   ],
   "source": [
    "A=cov(x)"
   ]
  },
  {
   "cell_type": "code",
   "execution_count": 124,
   "metadata": {
    "collapsed": false
   },
   "outputs": [
    {
     "data": {
      "text/plain": [
       "5x5 Array{Float64,2}:\n",
       "  1.38778e-17   0.0          1.73472e-18  0.0          -6.93889e-18\n",
       "  0.0           0.0          0.0          0.0           0.0        \n",
       "  1.73472e-18   0.0          1.38778e-17  0.0           0.0        \n",
       "  0.0           0.0          0.0          0.0           0.0        \n",
       " -6.93889e-18  -1.38778e-17  6.93889e-18  3.46945e-18   1.38778e-17"
      ]
     },
     "execution_count": 124,
     "metadata": {},
     "output_type": "execute_result"
    }
   ],
   "source": [
    "# Covariance matrix is a Gram matrix\n",
    "(x.-mean(x,1))'*(x.-mean(x,1))/9-A"
   ]
  },
  {
   "cell_type": "code",
   "execution_count": 98,
   "metadata": {
    "collapsed": false
   },
   "outputs": [
    {
     "data": {
      "text/plain": [
       "5x5 Array{Float64,2}:\n",
       "  1.0         0.0536173   0.137736  0.135179  -0.542019\n",
       "  0.0536173   1.0        -0.277591  0.390363  -0.586434\n",
       "  0.137736   -0.277591    1.0       0.198677   0.310053\n",
       "  0.135179    0.390363    0.198677  1.0        0.099278\n",
       " -0.542019   -0.586434    0.310053  0.099278   1.0     "
      ]
     },
     "execution_count": 98,
     "metadata": {},
     "output_type": "execute_result"
    }
   ],
   "source": [
    "B=cor(x)"
   ]
  },
  {
   "cell_type": "code",
   "execution_count": 99,
   "metadata": {
    "collapsed": false
   },
   "outputs": [
    {
     "data": {
      "text/plain": [
       "5-element Array{Float64,1}:\n",
       " 2.84691\n",
       " 3.01617\n",
       " 3.20388\n",
       " 3.74964\n",
       " 3.13199"
      ]
     },
     "execution_count": 99,
     "metadata": {},
     "output_type": "execute_result"
    }
   ],
   "source": [
    "# Diagonal scaling\n",
    "D=1./sqrt(diag(A))"
   ]
  },
  {
   "cell_type": "code",
   "execution_count": 100,
   "metadata": {
    "collapsed": false
   },
   "outputs": [
    {
     "data": {
      "text/plain": [
       "5x5 Array{Float64,2}:\n",
       "  1.0         0.0536173   0.137736  0.135179  -0.542019\n",
       "  0.0536173   1.0        -0.277591  0.390363  -0.586434\n",
       "  0.137736   -0.277591    1.0       0.198677   0.310053\n",
       "  0.135179    0.390363    0.198677  1.0        0.099278\n",
       " -0.542019   -0.586434    0.310053  0.099278   1.0     "
      ]
     },
     "execution_count": 100,
     "metadata": {},
     "output_type": "execute_result"
    }
   ],
   "source": [
    "diagm(D)*A*diagm(D)"
   ]
  },
  {
   "cell_type": "code",
   "execution_count": 101,
   "metadata": {
    "collapsed": false
   },
   "outputs": [
    {
     "data": {
      "text/plain": [
       "5-element Array{Float64,1}:\n",
       " 0.00953691\n",
       " 0.0469539 \n",
       " 0.103407  \n",
       " 0.135118  \n",
       " 0.208776  "
      ]
     },
     "execution_count": 101,
     "metadata": {},
     "output_type": "execute_result"
    }
   ],
   "source": [
    "eigvals(A)"
   ]
  },
  {
   "cell_type": "code",
   "execution_count": 102,
   "metadata": {
    "collapsed": false
   },
   "outputs": [
    {
     "data": {
      "text/plain": [
       "5-element Array{Float64,1}:\n",
       " 0.0941764\n",
       " 0.491658 \n",
       " 1.14541  \n",
       " 1.31778  \n",
       " 1.95098  "
      ]
     },
     "execution_count": 102,
     "metadata": {},
     "output_type": "execute_result"
    }
   ],
   "source": [
    "eigvals(B)"
   ]
  },
  {
   "cell_type": "code",
   "execution_count": 103,
   "metadata": {
    "collapsed": false
   },
   "outputs": [
    {
     "data": {
      "text/plain": [
       "10x10 Array{Float64,2}:\n",
       "  0.106279     0.00543128  -0.0441525   …   0.0514039   -0.0521051 \n",
       "  0.00543128   0.0678015   -0.0221777      -0.0668203   -0.00388147\n",
       " -0.0441525   -0.0221777    0.0537303       0.00623492   0.0388761 \n",
       " -0.060087    -0.058139     0.0453978       0.0199783    0.022888  \n",
       "  0.0105479    0.0788468   -0.030707       -0.0734953   -0.00528228\n",
       "  0.0862561    0.0510234   -0.050819    …  -0.0222668   -0.0620601 \n",
       "  0.070009     0.0265792   -0.0744661      -0.0344707   -0.0977614 \n",
       "  0.102091    -0.00942695  -0.0112017       0.0449347   -0.0644812 \n",
       "  0.0514039   -0.0668203    0.00623492      0.120209     0.00582131\n",
       " -0.0521051   -0.00388147   0.0388761       0.00582131   0.0649694 "
      ]
     },
     "execution_count": 103,
     "metadata": {},
     "output_type": "execute_result"
    }
   ],
   "source": [
    "C=cov(x')"
   ]
  },
  {
   "cell_type": "code",
   "execution_count": 104,
   "metadata": {
    "collapsed": false
   },
   "outputs": [
    {
     "data": {
      "text/plain": [
       "10-element Array{Float64,1}:\n",
       " -1.59131e-17\n",
       "  2.23141e-18\n",
       "  1.11762e-17\n",
       "  1.72861e-17\n",
       "  2.13027e-17\n",
       "  2.95989e-17\n",
       "  0.0739392  \n",
       "  0.121316   \n",
       "  0.295693   \n",
       "  0.527729   "
      ]
     },
     "execution_count": 104,
     "metadata": {},
     "output_type": "execute_result"
    }
   ],
   "source": [
    "eigvals(C)"
   ]
  },
  {
   "cell_type": "code",
   "execution_count": 113,
   "metadata": {
    "collapsed": false
   },
   "outputs": [
    {
     "data": {
      "text/plain": [
       "4"
      ]
     },
     "execution_count": 113,
     "metadata": {},
     "output_type": "execute_result"
    }
   ],
   "source": [
    "rank(C)"
   ]
  },
  {
   "cell_type": "code",
   "execution_count": 114,
   "metadata": {
    "collapsed": false
   },
   "outputs": [
    {
     "data": {
      "text/html": [
       "rank(A::<b>AbstractArray{T,2}</b>) at <a href=\"https://github.com/JuliaLang/julia/tree/2ac304dfba75fad148d4070ef4f8a2e400c305bb/base/linalg/generic.jl#L298\" target=\"_blank\">linalg/generic.jl:298</a>"
      ],
      "text/plain": [
       "rank(A::AbstractArray{T,2}) at linalg/generic.jl:298"
      ]
     },
     "execution_count": 114,
     "metadata": {},
     "output_type": "execute_result"
    }
   ],
   "source": [
    "@which rank(C)"
   ]
  },
  {
   "cell_type": "markdown",
   "metadata": {},
   "source": [
    "Explain the function `rank()`."
   ]
  },
  {
   "cell_type": "code",
   "execution_count": null,
   "metadata": {
    "collapsed": true
   },
   "outputs": [],
   "source": []
  }
 ],
 "metadata": {
  "kernelspec": {
   "display_name": "Julia 0.4.5",
   "language": "julia",
   "name": "julia-0.4"
  },
  "language_info": {
   "file_extension": ".jl",
   "mimetype": "application/julia",
   "name": "julia",
   "version": "0.4.5"
  }
 },
 "nbformat": 4,
 "nbformat_minor": 0
}
