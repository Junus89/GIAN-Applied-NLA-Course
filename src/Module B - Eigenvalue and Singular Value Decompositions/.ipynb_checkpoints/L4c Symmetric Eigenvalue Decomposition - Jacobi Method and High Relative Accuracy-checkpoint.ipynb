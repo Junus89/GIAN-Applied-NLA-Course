{
 "cells": [
  {
   "cell_type": "markdown",
   "metadata": {},
   "source": [
    "# Symmetric Eigenvalue Decomposition - Jacobi Method and High Relative Accuracy\n",
    "\n",
    "---\n",
    "\n",
    "The Jacobi method is the oldest method for EVD computations, dating back from 1864. \n",
    "The method does not require tridiagonalization.\n",
    "Instead, the method computes a sequence of orthogonally similar \n",
    "matrices which converge to a diagonal matrix of eigenvalues. In each step a simple plane rotation\n",
    "which sets one off-diagonal element to zero is performed. \n",
    "\n",
    "For positive definite matrices, the method computes eigenvalues with high relative accuracy.\n",
    "\n",
    "For more details, see \n",
    "[I. Slapničar, Symmetric Matrix Eigenvalue Techniques][Hog14] and\n",
    "[Z. Drmač, Computing Eigenvalues and Singular Values to High Relative Accuracy][Hog14a]\n",
    "and the references therein.\n",
    "\n",
    "[Hog14]: #1 \"L. Hogben, ed., 'Handbook of Linear Algebra', pp. 55.1-55.25, CRC Press, Boca Raton, 2014.\"\n",
    "\n",
    "[Hog14a]: #1 \"L. Hogben, ed., 'Handbook of Linear Algebra', pp. 59.1-59.21, CRC Press, Boca Raton, 2014.\"\n",
    "\n",
    "\n",
    "## Prerequisites\n",
    "\n",
    "The reader should be familiar with concepts of eigenvalues and eigenvectors, related perturbation theory, and algorithms. \n",
    "\n",
    " \n",
    "## Competences \n",
    "\n",
    "The reader should be able to recognise matrices which warrant high relative accuracy and to apply \n",
    "Jacobi method to them.\n",
    "\n",
    "---"
   ]
  },
  {
   "cell_type": "markdown",
   "metadata": {},
   "source": [
    "## Jacobi method\n",
    "\n",
    "$A$ is a real symmetric matrix of order $n$ and $A= U \\Lambda  U^T$ is its EVD.\n",
    "\n",
    "### Definitions\n",
    "\n",
    "The __Jacobi method__ forms a sequence of matrices,\n",
    "$$\n",
    "A_0=A, \\qquad A_{k+1}=G(i_k,j_k,c,s) A_k G(i_k,j_k,c,s)^T, \\qquad\n",
    "k=1,2,\\ldots,\n",
    "$$\n",
    "where $G(i_k,j_k,c,s)$ is the orthogonal __plane rotation matrix__.\n",
    "The parameters $c$ and $s$ are chosen such that \n",
    "$[A_{k+1}]_{i_k j_k}=[A_{k+1}]_{j_k i_k}=0$.\n",
    "\n",
    "The plane rotation is also called the __Jacobi rotation__. \n",
    "\n",
    "The __off-norm__ of $A$ is \n",
    "$$\n",
    "off(A)=\\big(\\sum_{i}\\sum_{j\\neq i} a_{ij}^2\\big)^{1/2},\n",
    "$$\n",
    "that is, off-norm is the Frobenius norm of the\n",
    "matrix consisting of all off-diagonal elements of $A$.\n",
    "\n",
    "The choice of __pivot elements__ $[A_k]_{i_kj_k}$ is called the \n",
    "__pivoting strategy__.\n",
    "\n",
    "The __optimal pivoting strategy__, originally used by Jacobi, chooses pivoting\n",
    "elements such that $|[A_k]_{i_k j_k}|=\\max_{i<j} |[A_k]_{ij}|$.\n",
    "\n",
    "The __row-cyclic__ pivoting strategy chooses pivot elements\n",
    "  in the systematic row-wise order,\n",
    "$$\n",
    "(1,2), (1,3), \\ldots,(1,n),(2,3),\n",
    "(2,4),\\ldots,(2,n),(3,4),\\ldots,(n-1,n).\n",
    "$$\n",
    "Similarly, the column-cyclic strategy chooses pivot elements column-wise.\n",
    "\n",
    "One pass through all matrix elements is called __cycle__ or __sweep__.\n",
    "\n",
    "\n",
    "### Facts\n",
    "\n",
    "1. The Jacobi rotations parameters $c$ and $s$ are computed as follows:\n",
    " If $[A_k]_{i_kj_k}=0$, then $c=1$ and $s=0$, otherwise\n",
    "$$\n",
    "\\tau=\\frac{[A_k]_{i_ki_k}-[A_k]_{j_kj_k} }{2[A_k]_{i_kj_k} },\\qquad\n",
    "t=\\frac{\\mathop{\\mathrm{sign}}(\\tau)}{|\\tau|+\\sqrt{1+\\tau^2}},\\qquad\n",
    "c=\\frac{1}{\\sqrt{1+t^2}},\\qquad s=c\\cdot t.\n",
    "$$ \n",
    "\n",
    "2. After each rotation, the off-norm decreases,\n",
    "$$\n",
    "off^2(A_{k+1})=off^2(A_k)-2[A_k]_{i_kj_k}^2.\n",
    "$$\n",
    "With the appropriate pivoting strategy, the method converges in the sense that\n",
    "$$\n",
    "off(A_k)\\to 0,\\qquad A_k\\to\\Lambda, \\qquad \n",
    "\\prod_{k=1}^{\\infty} G(i_k,j_k,c,s)^T \\to U.\n",
    "$$\n",
    "\n",
    "3. For the optimal pivoting strategy\n",
    "the square of the pivot element is greater than the average squared\n",
    "element, $[A_k]_{i_kj_k}^2\\geq\n",
    "off^2(A) \\frac{1}{n(n-1)}$. Thus,\n",
    "$$\n",
    "off^2(A_{k+1})\\leq\\left(1-\\frac{2}{n(n-1)}\\right)off^2(A_k)\n",
    "$$\n",
    "and the method converges.\n",
    "\n",
    "4. For the row cyclic and the column cyclic pivoting strategies, the method\n",
    "converges. The convergence is ultimately __quadratic__ in the sense that \n",
    "$off(A_{k+n(n-1)/2})\\leq\\ const\\cdot  off^2(A_k)$, \n",
    "provided $off(A_k)$ is sufficiently small.\n",
    "\n",
    "5. The EVD computed by the Jacobi method satisfies the standard error bounds.\n",
    "\n",
    "6. The Jacobi method is suitable for parallel computation. There exist convergent parallel\n",
    "strategies which enable simultaneous execution of several rotations.\n",
    "  \n",
    "7. The Jacobi method is simple, but it is slower than the methods based on tridiagonalization. It is\n",
    "conjectured that standard implementations require $O(n^3\\log n)$ operations. More precisely, each cycle clearly requires $O(n^3)$ operations and it is conjectured that $\\log n$ cycles are needed until convergence.\n",
    " \n",
    "8. If $A$ is positive definite, the method can be modified such that it reaches\n",
    "the speed of the methods based on tridiagonalization and at the same time\n",
    "computes the EVD with high relative accuracy.\n",
    "\n",
    "### Examples"
   ]
  },
  {
   "cell_type": "code",
   "execution_count": 1,
   "metadata": {
    "collapsed": false
   },
   "outputs": [
    {
     "data": {
      "text/plain": [
       "myJacobi (generic function with 1 method)"
      ]
     },
     "execution_count": 1,
     "metadata": {},
     "output_type": "execute_result"
    }
   ],
   "source": [
    "-"
   ]
  },
  {
   "cell_type": "code",
   "execution_count": 2,
   "metadata": {
    "collapsed": false
   },
   "outputs": [
    {
     "data": {
      "text/plain": [
       "4×4 Array{Float64,2}:\n",
       " 0.606603  0.372418  0.244013  0.565846\n",
       " 0.372418  0.844776  0.485558  0.178023\n",
       " 0.244013  0.485558  0.190402  0.448429\n",
       " 0.565846  0.178023  0.448429  0.830508"
      ]
     },
     "execution_count": 2,
     "metadata": {},
     "output_type": "execute_result"
    }
   ],
   "source": [
    "n=4\n",
    "A=full(Symmetric(rand(n,n)))"
   ]
  },
  {
   "cell_type": "code",
   "execution_count": 3,
   "metadata": {
    "collapsed": false
   },
   "outputs": [
    {
     "data": {
      "text/plain": [
       "([0.182802,1.79717,-0.199439,0.691755],\n",
       "[0.808471 0.511277 0.215656 0.196119; -0.0310227 0.506463 -0.381981 -0.772414; -0.431498 0.390855 0.803567 -0.123778; -0.399025 0.573867 -0.402321 0.591264])"
      ]
     },
     "execution_count": 3,
     "metadata": {},
     "output_type": "execute_result"
    }
   ],
   "source": [
    "λ,U=myJacobi(A)"
   ]
  },
  {
   "cell_type": "code",
   "execution_count": 4,
   "metadata": {
    "collapsed": false
   },
   "outputs": [
    {
     "data": {
      "text/plain": [
       "4×4 Array{Float64,2}:\n",
       "  1.0          -1.11022e-16   8.32667e-17   2.498e-16  \n",
       " -1.11022e-16   1.0          -1.38778e-16  -2.22045e-16\n",
       "  8.32667e-17  -1.38778e-16   1.0          -1.38778e-16\n",
       "  2.498e-16    -2.22045e-16  -1.38778e-16   1.0        "
      ]
     },
     "execution_count": 4,
     "metadata": {},
     "output_type": "execute_result"
    }
   ],
   "source": [
    "U'*U"
   ]
  },
  {
   "cell_type": "code",
   "execution_count": 5,
   "metadata": {
    "collapsed": false
   },
   "outputs": [
    {
     "data": {
      "text/plain": [
       "4×4 Array{Float64,2}:\n",
       " -3.05311e-16  -4.44089e-16   4.16334e-17  -3.05311e-16\n",
       " -4.51028e-17  -8.88178e-16  -6.93889e-17   5.55112e-16\n",
       "  5.55112e-17  -2.22045e-16   2.77556e-16   5.55112e-17\n",
       "  5.55112e-17  -8.88178e-16  -1.52656e-16  -4.44089e-16"
      ]
     },
     "execution_count": 5,
     "metadata": {},
     "output_type": "execute_result"
    }
   ],
   "source": [
    "A*U-U*diagm(λ)"
   ]
  },
  {
   "cell_type": "code",
   "execution_count": 6,
   "metadata": {
    "collapsed": false
   },
   "outputs": [],
   "source": [
    "# Positive definite matrix\n",
    "n=100\n",
    "A=rand(n,n)\n",
    "A=full(Symmetric(A'*A));"
   ]
  },
  {
   "cell_type": "code",
   "execution_count": 7,
   "metadata": {
    "collapsed": false
   },
   "outputs": [
    {
     "data": {
      "text/plain": [
       "(2.8148338915372546e-14,2.8313430935643436e-11)"
      ]
     },
     "execution_count": 7,
     "metadata": {},
     "output_type": "execute_result"
    }
   ],
   "source": [
    "λ,U=myJacobi(A)\n",
    "norm(U'*U-I),norm(A*U-U*diagm(λ))"
   ]
  },
  {
   "cell_type": "code",
   "execution_count": 8,
   "metadata": {
    "collapsed": false
   },
   "outputs": [
    {
     "data": {
      "text/plain": [
       "100-element Array{Float64,1}:\n",
       "    2.35472    \n",
       " 2512.42       \n",
       "    0.0242101  \n",
       "   29.8366     \n",
       "    1.41331    \n",
       "    0.000685137\n",
       "    0.512008   \n",
       "   26.4443     \n",
       "    0.0194466  \n",
       "    0.00559183 \n",
       "   27.4852     \n",
       "   28.6185     \n",
       "   19.0248     \n",
       "    ⋮          \n",
       "    2.90039    \n",
       "    3.79994    \n",
       "    2.50519    \n",
       "    5.76993    \n",
       "    7.87009    \n",
       "    3.76406    \n",
       "    7.29843    \n",
       "    4.41251    \n",
       "    3.38504    \n",
       "    3.68047    \n",
       "    4.36935    \n",
       "    4.61114    "
      ]
     },
     "execution_count": 8,
     "metadata": {},
     "output_type": "execute_result"
    }
   ],
   "source": [
    "λ"
   ]
  },
  {
   "cell_type": "code",
   "execution_count": 9,
   "metadata": {
    "collapsed": false
   },
   "outputs": [
    {
     "data": {
      "text/plain": [
       "3.6670348848929596e6"
      ]
     },
     "execution_count": 9,
     "metadata": {},
     "output_type": "execute_result"
    }
   ],
   "source": [
    "cond(A)"
   ]
  },
  {
   "cell_type": "code",
   "execution_count": 10,
   "metadata": {
    "collapsed": false
   },
   "outputs": [],
   "source": [
    "# Now the standard QR method\n",
    "λ,U=eig(A);"
   ]
  },
  {
   "cell_type": "code",
   "execution_count": 11,
   "metadata": {
    "collapsed": false
   },
   "outputs": [
    {
     "data": {
      "text/plain": [
       "(5.007190953573339e-14,2.2435533252930683e-12)"
      ]
     },
     "execution_count": 11,
     "metadata": {},
     "output_type": "execute_result"
    }
   ],
   "source": [
    "norm(U'*U-I),norm(A*U-U*diagm(λ))"
   ]
  },
  {
   "cell_type": "code",
   "execution_count": 12,
   "metadata": {
    "collapsed": false
   },
   "outputs": [
    {
     "data": {
      "text/plain": [
       "2×2 Array{Float64,2}:\n",
       "    0.998999     0.998998\n",
       " 1000.0       1001.0     "
      ]
     },
     "execution_count": 12,
     "metadata": {},
     "output_type": "execute_result"
    }
   ],
   "source": [
    "G=[1000 1;1 1]\n",
    "H=[1001 1.001;1.001 1]\n",
    "[eigvals(G) eigvals(H)]"
   ]
  },
  {
   "cell_type": "markdown",
   "metadata": {},
   "source": [
    "## Relative perturbation theory\n",
    "\n",
    "$A$  is a real symmetric PD matrix of order $n$  and $A=U\\Lambda U^T$ is its EVD.\n",
    "\n",
    "### Definition\n",
    "\n",
    "The __scaled matrix__ of the matrix $A$ is the matrix\n",
    "$$\n",
    "A_S=D^{-1} A D^{-1}, \\quad D=\\mathop{\\mathrm{diag}}(\\sqrt{A_{11}},\\sqrt{A_{22}},\\ldots,\\sqrt{A_{nn}}).\n",
    "$$\n",
    "\n",
    "### Facts\n",
    "\n",
    "1. The above diagonal scaling is nearly optimal: \n",
    "$\\kappa_2(A_S)\\leq  n \\min\\limits_{D=\\mathrm{diag}} \\kappa(DHD) \\leq n\\kappa_2(H)$.\n",
    "\n",
    "2. Let $A$ and $\\tilde A=A+\\Delta A$ both be positive definite, and let \n",
    "their eigenvalues have the same ordering. Then\n",
    "$$\n",
    "\\frac{|\\lambda_i-\\tilde\\lambda_i|}{\\lambda_i}\\leq \n",
    "\\frac{\\| D^{-1} (\\Delta A) D^{-1}\\|_2}{\\lambda_{\\min} (A_S)}\\equiv\n",
    "\\|A_S^{-1}\\|_2 \\| \\Delta A_S\\|_2.\n",
    "$$\n",
    "If $\\lambda_i$ and $\\tilde\\lambda_i$ are simple, \n",
    "$$\n",
    "\\|U_{:,i}-\\tilde U_{:,i}\\|_2 \\leq \\frac{\\| A_S^{-1}\\|_2 \\|\\Delta A_S\\|_2}\n",
    "{\\displaystyle\\min_{j\\neq i}\\frac{|\\lambda_i-\\lambda_j|}{\\sqrt{\\lambda_i\\lambda_j}}}.\n",
    "$$\n",
    "These bounds are much sharper than the standard bounds for matrices for which $\\kappa_2(A_S)\\ll \\kappa_2(A)$.\n",
    "\n",
    "3. Jacobi method with the relative stopping criterion $|A_{ij}|\\leq tol \\sqrt{A_{ii}A_{jj}}$ for all $i\\neq j$ and some user defined tolerance $tol$ (usually $tol=n\\varepsilon$), computes the EVD with small scaled  backward error $\\|\\Delta A_S\\|\\leq \\varepsilon\\, O(\\|A_S\\|_2)\\leq O(n)\\varepsilon$, _provided_ that $\\kappa_2([A_k]_S)$  does not grow much during the iterations. There is overwhelming numerical evidence that the scaled condition does not grow much, and the growth can be monitored, as well.\n",
    "\n",
    "### Example - Scaled matrix\n"
   ]
  },
  {
   "cell_type": "code",
   "execution_count": 13,
   "metadata": {
    "collapsed": false
   },
   "outputs": [
    {
     "data": {
      "text/plain": [
       "6×6 Array{Float64,2}:\n",
       " 1.0       0.614533  0.591909  0.903071  0.582866  0.798173\n",
       " 0.614533  1.0       0.770007  0.427851  0.732779  0.913532\n",
       " 0.591909  0.770007  1.0       0.630957  0.620296  0.884643\n",
       " 0.903071  0.427851  0.630957  1.0       0.638475  0.729748\n",
       " 0.582866  0.732779  0.620296  0.638475  1.0       0.806363\n",
       " 0.798173  0.913532  0.884643  0.729748  0.806363  1.0     "
      ]
     },
     "execution_count": 13,
     "metadata": {},
     "output_type": "execute_result"
    }
   ],
   "source": [
    "n=6\n",
    "A=rand(n,n)\n",
    "A=full(Symmetric(A'*A));\n",
    "AS=map(Float64,[A[i,j]/sqrt(A[i,i]*A[j,j]) for i=1:n, j=1:n])"
   ]
  },
  {
   "cell_type": "code",
   "execution_count": 14,
   "metadata": {
    "collapsed": false
   },
   "outputs": [
    {
     "data": {
      "text/plain": [
       "(2698.527136024033,3073.7980973553344)"
      ]
     },
     "execution_count": 14,
     "metadata": {},
     "output_type": "execute_result"
    }
   ],
   "source": [
    "cond(AS), cond(A)"
   ]
  },
  {
   "cell_type": "code",
   "execution_count": 15,
   "metadata": {
    "collapsed": false
   },
   "outputs": [
    {
     "data": {
      "text/plain": [
       "6-element Array{Float64,1}:\n",
       "    4.03759e7  \n",
       " 1701.8        \n",
       "    1.10007e6  \n",
       "    0.000114534\n",
       "    3.59854e6  \n",
       " 1756.05       "
      ]
     },
     "execution_count": 15,
     "metadata": {},
     "output_type": "execute_result"
    }
   ],
   "source": [
    "# Strong scaling\n",
    "D=exp(50*(rand(n)-0.5))"
   ]
  },
  {
   "cell_type": "code",
   "execution_count": 16,
   "metadata": {
    "collapsed": false
   },
   "outputs": [
    {
     "data": {
      "text/plain": [
       "6×6 Array{Float64,2}:\n",
       "    1.63021e15  4.22255e10   2.62905e13  …    8.46871e13  5.6592e10\n",
       "    4.22255e10  2.89612e6    1.44153e9        4.48753e9   2.73003e6\n",
       "    2.62905e13  1.44153e9    1.21016e12       2.45554e12  1.70894e9\n",
       " 4176.19        0.0833943   79.4982         263.152       0.146773 \n",
       "    8.46871e13  4.48753e9    2.45554e12       1.29495e13  5.09558e9\n",
       "    5.6592e10   2.73003e6    1.70894e9   …    5.09558e9   3.0837e6 "
      ]
     },
     "execution_count": 16,
     "metadata": {},
     "output_type": "execute_result"
    }
   ],
   "source": [
    "H=diagm(D)*AS*diagm(D)"
   ]
  },
  {
   "cell_type": "code",
   "execution_count": 17,
   "metadata": {
    "collapsed": false
   },
   "outputs": [
    {
     "data": {
      "text/plain": [
       "3.782703516055228e25"
      ]
     },
     "execution_count": 17,
     "metadata": {},
     "output_type": "execute_result"
    }
   ],
   "source": [
    "cond(H)"
   ]
  },
  {
   "cell_type": "code",
   "execution_count": 18,
   "metadata": {
    "collapsed": false
   },
   "outputs": [
    {
     "data": {
      "text/plain": [
       "([1.63506e15,37915.7,6.36056e11,5.7869e-11,8.67509e12,9.65827e5],\n",
       "[0.998508 1.12332e-5 … -0.0538671 -9.72309e-6; 2.59439e-5 0.355891 … 0.000272101 0.934527; … ; 0.0521546 7.69723e-5 … 0.989284 -0.000217756; 3.47394e-5 -0.934527 … 0.000256417 0.35589])"
      ]
     },
     "execution_count": 18,
     "metadata": {},
     "output_type": "execute_result"
    }
   ],
   "source": [
    "λ,U=myJacobi(H)"
   ]
  },
  {
   "cell_type": "code",
   "execution_count": 19,
   "metadata": {
    "collapsed": false
   },
   "outputs": [
    {
     "data": {
      "text/plain": [
       "([1.63506e15,8.67509e12,6.36056e11,9.65827e5,37915.7,5.80522e-11],\n",
       "[-0.998508 -0.0538671 … -1.12332e-5 2.36167e-12; -2.59439e-5 0.000272101 … -0.355891 -5.14892e-8; … ; -0.0521546 0.989284 … -7.69723e-5 1.22815e-11; -3.47394e-5 0.000256417 … 0.934527 6.40718e-9])"
      ]
     },
     "execution_count": 19,
     "metadata": {},
     "output_type": "execute_result"
    }
   ],
   "source": [
    "λ1,U1=eig(H)"
   ]
  },
  {
   "cell_type": "code",
   "execution_count": 20,
   "metadata": {
    "collapsed": false
   },
   "outputs": [
    {
     "data": {
      "text/plain": [
       "6×2 Array{Float64,2}:\n",
       "     5.7869e-11      5.80522e-11\n",
       " 37915.7         37915.7        \n",
       "     9.65827e5       9.65827e5  \n",
       "     6.36056e11      6.36056e11 \n",
       "     8.67509e12      8.67509e12 \n",
       "     1.63506e15      1.63506e15 "
      ]
     },
     "execution_count": 20,
     "metadata": {},
     "output_type": "execute_result"
    }
   ],
   "source": [
    "[sort(λ) sort(λ1)]"
   ]
  },
  {
   "cell_type": "code",
   "execution_count": 21,
   "metadata": {
    "collapsed": false
   },
   "outputs": [
    {
     "data": {
      "text/plain": [
       "(BigFloat[1.635058796427928958150400291165491041749412448460966697896187636506243802488929e+15,3.791573969232545923035565291080607488726429691630210292283417649832744348135006e+04,6.360559711273006924893873082094300833301422216310437462693945533262518404115013e+11,5.786896078804002079755717021129153487270545461808970392468944115513857713429848e-11,8.675087981676588382528318205388888920661218466514366063536228589573841573610518e+12,9.658266486777864648485346867099529311662164625342084625655706290854411901206565e+05],\n",
       "BigFloat[9.985084989636639387612934209064918097204518364556999147338652715196576352574292e-01 1.123322353975563750018722165262789130059444836496658945643259678112420346817831e-05 … -5.386705362891188904143236798393512062361830449755387785193988799205215464332163e-02 -9.723090402095278311762079106866874143764240449423082371695244188677059890906000e-06; 2.594394259446426180828919728042556627269397993960166767122889460872841914913294e-05 3.558905963783368572909656004046707622450991203149714052816191838412199161985226e-01 … 2.721012347344306221384431909750907059146876382895173390696025815111526336324279e-04 9.345273292973569109265888276852843149129002899172778047930620536879568589241412e-01; … ; 5.215455740704015408658608319672031494764118059805876377451112396429414310620239e-02 7.697225948656939556516518628687838919624323426940781455866078347444921171145811e-05 … 9.892835931949645799303212958753375908857189016596215591831890127242612134263707e-01 -2.177564713148448797636488127798627977973437183351194248990959010798412865954546e-04; 3.473939419223372330678060186039466978296912091812754573422847957586303521367133e-05 -9.345274911933796716884382944187877753505462976597485483857856355129842787949925e-01 … 2.564170184605094762559761739947757000786636724842583220202357580915670689829545e-04 3.558900061955676129890174043860270502315104326980528409926563110638259374074567e-01])"
      ]
     },
     "execution_count": 21,
     "metadata": {},
     "output_type": "execute_result"
    }
   ],
   "source": [
    "# Check with BigFloat\n",
    "λ2,U2=myJacobi(map(BigFloat,H))"
   ]
  },
  {
   "cell_type": "code",
   "execution_count": 22,
   "metadata": {
    "collapsed": false
   },
   "outputs": [
    {
     "data": {
      "text/plain": [
       "6-element Array{BigFloat,1}:\n",
       " -6.786847608087580504035011093769392591896973676553608379358192667458500766956572e-14\n",
       " -2.036683035234531558209213966846107078483485856587642757604695654211918499551628e-15\n",
       "  7.251820923952207337348918387543077920181408180300767744144792108557517134995369e-16\n",
       " -3.314659947584938546976237194380392624680843964745381358171428275866902645494367e-16\n",
       " -1.069006066726060795380444442322578719292285289744052662320901315390503193276589e-15\n",
       " -1.095893067346227793024595836269100334867747387594077661631866465120577470750253e-15"
      ]
     },
     "execution_count": 22,
     "metadata": {},
     "output_type": "execute_result"
    }
   ],
   "source": [
    "# Relative error is eps()*cond(AS)\n",
    "(sort(λ2)-sort(λ))./sort(λ2)"
   ]
  },
  {
   "cell_type": "markdown",
   "metadata": {},
   "source": [
    "## Indefinite matrices\n",
    "\n",
    "### Definition\n",
    "\n",
    "__Spectral absolute value__ of the matrix $A$ is the matrix is $|A|_{spr}=(A^2)^{1/2}$ (positive definite part of the polar decomposition of $A$).\n",
    "\n",
    "### Facts\n",
    "\n",
    "1. The above perturbation bounds for positive definite matrices essentially hold with $A_S$ replaced by $[|A|_{spr}]_S$.\n",
    "\n",
    "2. Jacobi method can be modified to compute the EVD with small backward error \n",
    "$\\| \\Delta [|A|_{spr}]_S\\|_2$.\n",
    "\n",
    "The details of the indefinite case are beyond the scope of this course, and the reader should consider references."
   ]
  },
  {
   "cell_type": "code",
   "execution_count": null,
   "metadata": {
    "collapsed": true
   },
   "outputs": [],
   "source": []
  }
 ],
 "metadata": {
  "anaconda-cloud": {},
  "kernelspec": {
   "display_name": "Julia 0.5.1",
   "language": "julia",
   "name": "julia-0.5"
  },
  "language_info": {
   "file_extension": ".jl",
   "mimetype": "application/julia",
   "name": "julia",
   "version": "0.5.1"
  }
 },
 "nbformat": 4,
 "nbformat_minor": 0
}
