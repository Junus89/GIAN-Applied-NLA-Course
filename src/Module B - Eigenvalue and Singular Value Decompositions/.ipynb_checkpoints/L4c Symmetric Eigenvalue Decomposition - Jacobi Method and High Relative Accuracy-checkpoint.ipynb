{
 "cells": [
  {
   "cell_type": "markdown",
   "metadata": {},
   "source": [
    "# Symmetric Eigenvalue Decomposition - Jacobi Method and High Relative Accuracy\n",
    "\n",
    "---\n",
    "\n",
    "The Jacobi method is the oldest method for EVD computations, dating back from 1864. \n",
    "The method does not require tridiagonalization.\n",
    "Instead, the method computes a sequence of orthogonally similar \n",
    "matrices which converge to a diagonal matrix of eigenvalues. In each step a simple plane rotation\n",
    "which sets one off-diagonal element to zero is performed. \n",
    "\n",
    "For positive definite matrices, the method computes eigenvalues with high relative accuracy.\n",
    "\n",
    "For more details, see \n",
    "[I. Slapničar, Symmetric Matrix Eigenvalue Techniques][Hog14] and\n",
    "[Z. Drmač, Computing Eigenvalues and Singular Values to High Relative Accuracy][Hog14a]\n",
    "and the references therein.\n",
    "\n",
    "[Hog14]: #1 \"L. Hogben, ed., 'Handbook of Linear Algebra', pp. 55.1-55.25, CRC Press, Boca Raton, 2014.\"\n",
    "\n",
    "[Hog14a]: #1 \"L. Hogben, ed., 'Handbook of Linear Algebra', pp. 59.1-59.21, CRC Press, Boca Raton, 2014.\"\n",
    "\n",
    "\n",
    "## Prerequisites\n",
    "\n",
    "The reader should be familiar with concepts of eigenvalues and eigenvectors, related perturbation theory, and algorithms. \n",
    "\n",
    " \n",
    "## Competences \n",
    "\n",
    "The reader should be able to recognise matrices which warrant high relative accuracy and to apply \n",
    "Jacobi method to them.\n",
    "\n",
    "---"
   ]
  },
  {
   "cell_type": "markdown",
   "metadata": {},
   "source": [
    "## Jacobi method\n",
    "\n",
    "$A$ is a real symmetric matrix of order $n$ and $A= U \\Lambda  U^T$ is its EVD.\n",
    "\n",
    "### Definitions\n",
    "\n",
    "The __Jacobi method__ forms a sequence of matrices,\n",
    "$$\n",
    "A_0=A, \\qquad A_{k+1}=G(i_k,j_k,c,s) A_k G(i_k,j_k,c,s)^T, \\qquad\n",
    "k=1,2,\\ldots,\n",
    "$$\n",
    "where $G(i_k,j_k,c,s)$ is the orthogonal __plane rotation matrix__.\n",
    "The parameters $c$ and $s$ are chosen such that \n",
    "$[A_{k+1}]_{i_k j_k}=[A_{k+1}]_{j_k i_k}=0$.\n",
    "\n",
    "The plane rotation is also called the __Jacobi rotation__. \n",
    "\n",
    "The __off-norm__ of $A$ is \n",
    "$$\n",
    "off(A)=\\big(\\sum_{i}\\sum_{j\\neq i} a_{ij}^2\\big)^{1/2},\n",
    "$$\n",
    "that is, off-norm is the Frobenius norm of the\n",
    "matrix consisting of all off-diagonal elements of $A$.\n",
    "\n",
    "The choice of __pivot elements__ $[A_k]_{i_kj_k}$ is called the \n",
    "__pivoting strategy__.\n",
    "\n",
    "The __optimal pivoting strategy__, originally used by Jacobi, chooses pivoting\n",
    "elements such that $|[A_k]_{i_k j_k}|=\\max_{i<j} |[A_k]_{ij}|$.\n",
    "\n",
    "The __row-cyclic__ pivoting strategy chooses pivot elements\n",
    "  in the systematic row-wise order,\n",
    "$$\n",
    "(1,2), (1,3), \\ldots,(1,n),(2,3),\n",
    "(2,4),\\ldots,(2,n),(3,4),\\ldots,(n-1,n).\n",
    "$$\n",
    "Similarly, the column-cyclic strategy chooses pivot elements column-wise.\n",
    "\n",
    "One pass through all matrix elements is called __cycle__ or __sweep__.\n",
    "\n",
    "\n",
    "### Facts\n",
    "\n",
    "1. The Jacobi rotations parameters $c$ and $s$ are computed as follows:\n",
    " If $[A_k]_{i_kj_k}=0$, then $c=1$ and $s=0$, otherwise\n",
    "$$\n",
    "\\tau=\\frac{[A_k]_{i_ki_k}-[A_k]_{j_kj_k} }{2[A_k]_{i_kj_k} },\\qquad\n",
    "t=\\frac{\\mathop{\\mathrm{sign}}(\\tau)}{|\\tau|+\\sqrt{1+\\tau^2}},\\qquad\n",
    "c=\\frac{1}{\\sqrt{1+t^2}},\\qquad s=c\\cdot t.\n",
    "$$ \n",
    "\n",
    "2. After each rotation, the off-norm decreases,\n",
    "$$\n",
    "off^2(A_{k+1})=off^2(A_k)-2[A_k]_{i_kj_k}^2.\n",
    "$$\n",
    "With the appropriate pivoting strategy, the method converges in the sense that\n",
    "$$\n",
    "off(A_k)\\to 0,\\qquad A_k\\to\\Lambda, \\qquad \n",
    "\\prod_{k=1}^{\\infty} G(i_k,j_k,c,s)^T \\to U.\n",
    "$$\n",
    "\n",
    "3. For the optimal pivoting strategy\n",
    "the square of the pivot element is greater than the average squared\n",
    "element, $[A_k]_{i_kj_k}^2\\geq\n",
    "off^2(A) \\frac{1}{n(n-1)}$. Thus,\n",
    "$$\n",
    "off^2(A_{k+1})\\leq\\left(1-\\frac{2}{n(n-1)}\\right)off^2(A_k)\n",
    "$$\n",
    "and the method converges.\n",
    "\n",
    "4. For the row cyclic and the column cyclic pivoting strategies, the method\n",
    "converges. The convergence is ultimately __quadratic__ in the sense that \n",
    "$off(A_{k+n(n-1)/2})\\leq\\ const\\cdot  off^2(A_k)$, \n",
    "provided $off(A_k)$ is sufficiently small.\n",
    "\n",
    "5. The EVD computed by the Jacobi method satisfies the standard error bounds.\n",
    "\n",
    "6. The Jacobi method is suitable for parallel computation. There exist convergent parallel\n",
    "strategies which enable simultaneous execution of several rotations.\n",
    "  \n",
    "7. The Jacobi method is simple, but it is slower than the methods based on tridiagonalization. It is\n",
    "conjectured that standard implementations require $O(n^3\\log n)$ operations. More precisely, each cycle clearly requires $O(n^3)$ operations and it is conjectured that $\\log n$ cycles are needed until convergence.\n",
    " \n",
    "8. If $A$ is positive definite, the method can be modified such that it reaches\n",
    "the speed of the methods based on tridiagonalization and at the same time\n",
    "computes the EVD with high relative accuracy.\n",
    "\n",
    "### Examples"
   ]
  },
  {
   "cell_type": "code",
   "execution_count": 3,
   "metadata": {
    "collapsed": false
   },
   "outputs": [
    {
     "data": {
      "text/plain": [
       "myJacobi (generic function with 1 method)"
      ]
     },
     "execution_count": 3,
     "metadata": {},
     "output_type": "execute_result"
    }
   ],
   "source": [
    "function myJacobi{T}(A::Array{T})\n",
    "    n,m=size(A)\n",
    "    U=eye(T,n)\n",
    "    # Tolerance for rotation\n",
    "    tol=sqrt(n)*eps(T)\n",
    "    # Counters\n",
    "    p=n*(n-1)/2\n",
    "    sweep=0\n",
    "    pcurrent=0\n",
    "    # First criterion is for standard accuracy, second one is for relative accuracy\n",
    "    # while sweep<30 && vecnorm(A-diagm(diag(A)))>tol\n",
    "    while sweep<30 && pcurrent<p\n",
    "        sweep+=1\n",
    "        # Row-cyclic strategy\n",
    "        for i = 1 : n-1 \n",
    "            for j = i+1 : n\n",
    "                # Check the tolerance - the first criterion is standard,\n",
    "                # the second one is for relative accuracy for PD matrices               \n",
    "                # if A[i,j]!=zero(T)\n",
    "                if abs(A[i,j])>tol*sqrt(abs(A[i,i]*A[j,j]))\n",
    "                    # Compute c and s\n",
    "                    τ=(A[i,i]-A[j,j])/(2*A[i,j])\n",
    "                    t=sign(τ)/(abs(τ)+sqrt(1+τ^2))\n",
    "                    c=1/sqrt(1+t^2)\n",
    "                    s=c*t\n",
    "                    G=LinAlg.Givens(i,j,c,s)\n",
    "                    A=G*A\n",
    "                    # @show\n",
    "                    A*=G'\n",
    "                    A[i,j]=zero(T)\n",
    "                    A[j,i]=zero(T)\n",
    "                    U*=G'\n",
    "                    pcurrent=0\n",
    "                else\n",
    "                    pcurrent+=1\n",
    "                end\n",
    "            end\n",
    "        end\n",
    "    end\n",
    "    # λ, U\n",
    "    # @show A\n",
    "    diag(A), U\n",
    "end"
   ]
  },
  {
   "cell_type": "code",
   "execution_count": 1,
   "metadata": {
    "collapsed": false
   },
   "outputs": [
    {
     "data": {
      "text/plain": [
       "4x4 Array{Float64,2}:\n",
       " 0.464634   0.0415527  0.125893  0.0695989\n",
       " 0.0415527  0.621313   0.93916   0.348926 \n",
       " 0.125893   0.93916    0.256824  0.635082 \n",
       " 0.0695989  0.348926   0.635082  0.548055 "
      ]
     },
     "execution_count": 1,
     "metadata": {},
     "output_type": "execute_result"
    }
   ],
   "source": [
    "n=4\n",
    "A=full(Symmetric(rand(n,n)))"
   ]
  },
  {
   "cell_type": "code",
   "execution_count": 4,
   "metadata": {
    "collapsed": false
   },
   "outputs": [
    {
     "data": {
      "text/plain": [
       "([0.45660600053308287,1.788810603056762,-0.5992414104332194,0.24465035986508957],\n",
       "4x4 Array{Float64,2}:\n",
       "  0.987028   0.102087  -0.0555245  -0.110772 \n",
       " -0.156081   0.629182  -0.533052   -0.543714 \n",
       " -0.0262858  0.596363   0.79782    -0.0845222\n",
       "  0.026884   0.487914  -0.276146    0.827623 )"
      ]
     },
     "execution_count": 4,
     "metadata": {},
     "output_type": "execute_result"
    }
   ],
   "source": [
    "λ,U=myJacobi(A)"
   ]
  },
  {
   "cell_type": "code",
   "execution_count": 5,
   "metadata": {
    "collapsed": false
   },
   "outputs": [
    {
     "data": {
      "text/plain": [
       "4x4 Array{Float64,2}:\n",
       " 1.0           5.88857e-17   3.05868e-17   1.40762e-16\n",
       " 5.88857e-17   1.0          -2.70152e-17  -1.29351e-17\n",
       " 3.05868e-17  -2.70152e-17   1.0          -1.43331e-16\n",
       " 1.40762e-16  -1.29351e-17  -1.43331e-16   1.0        "
      ]
     },
     "execution_count": 5,
     "metadata": {},
     "output_type": "execute_result"
    }
   ],
   "source": [
    "U'*U"
   ]
  },
  {
   "cell_type": "code",
   "execution_count": 6,
   "metadata": {
    "collapsed": false
   },
   "outputs": [
    {
     "data": {
      "text/plain": [
       "4x4 Array{Float64,2}:\n",
       " -2.22045e-16  -1.94289e-16  -9.02056e-17   7.63278e-17\n",
       "  4.16334e-17  -4.44089e-16  -1.11022e-16  -2.77556e-17\n",
       " -1.17961e-16  -4.44089e-16  -2.77556e-16   2.15106e-16\n",
       "  4.33681e-17  -1.11022e-16  -2.77556e-17   2.77556e-17"
      ]
     },
     "execution_count": 6,
     "metadata": {},
     "output_type": "execute_result"
    }
   ],
   "source": [
    "A*U-U*diagm(λ)"
   ]
  },
  {
   "cell_type": "code",
   "execution_count": 7,
   "metadata": {
    "collapsed": false
   },
   "outputs": [],
   "source": [
    "# Positive definite matrix\n",
    "n=100\n",
    "A=rand(n,n)\n",
    "A=full(Symmetric(A'*A));"
   ]
  },
  {
   "cell_type": "code",
   "execution_count": 8,
   "metadata": {
    "collapsed": false
   },
   "outputs": [
    {
     "data": {
      "text/plain": [
       "(2.778234610881816e-14,3.3731217095343094e-11)"
      ]
     },
     "execution_count": 8,
     "metadata": {},
     "output_type": "execute_result"
    }
   ],
   "source": [
    "λ,U=myJacobi(A)\n",
    "norm(U'*U-I),norm(A*U-U*diagm(λ))"
   ]
  },
  {
   "cell_type": "code",
   "execution_count": 9,
   "metadata": {
    "collapsed": false
   },
   "outputs": [
    {
     "data": {
      "text/plain": [
       "100-element Array{Float64,1}:\n",
       "    2.58208    \n",
       " 2520.85       \n",
       "   29.1168     \n",
       "    0.0628393  \n",
       "    0.000905591\n",
       "    0.0175621  \n",
       "   32.5871     \n",
       "    0.0435553  \n",
       "   28.3606     \n",
       "    3.56084    \n",
       "   25.2105     \n",
       "    3.28329    \n",
       "   25.9902     \n",
       "    ⋮          \n",
       "    2.91659    \n",
       "    6.52496    \n",
       "    3.21962    \n",
       "    3.07033    \n",
       "    5.98667    \n",
       "    5.5666     \n",
       "    4.45832    \n",
       "    4.87408    \n",
       "    5.14231    \n",
       "    4.5228     \n",
       "    4.06159    \n",
       "    3.13002    "
      ]
     },
     "execution_count": 9,
     "metadata": {},
     "output_type": "execute_result"
    }
   ],
   "source": [
    "λ"
   ]
  },
  {
   "cell_type": "code",
   "execution_count": 10,
   "metadata": {
    "collapsed": false
   },
   "outputs": [
    {
     "data": {
      "text/plain": [
       "2.783646799972301e6"
      ]
     },
     "execution_count": 10,
     "metadata": {},
     "output_type": "execute_result"
    }
   ],
   "source": [
    "cond(A)"
   ]
  },
  {
   "cell_type": "code",
   "execution_count": 12,
   "metadata": {
    "collapsed": false
   },
   "outputs": [],
   "source": [
    "# Now the standard QR method\n",
    "λ,U=eig(A);"
   ]
  },
  {
   "cell_type": "code",
   "execution_count": 13,
   "metadata": {
    "collapsed": false
   },
   "outputs": [
    {
     "data": {
      "text/plain": [
       "(2.091280471495016e-14,2.9289088695172995e-12)"
      ]
     },
     "execution_count": 13,
     "metadata": {},
     "output_type": "execute_result"
    }
   ],
   "source": [
    "norm(U'*U-I),norm(A*U-U*diagm(λ))"
   ]
  },
  {
   "cell_type": "code",
   "execution_count": 16,
   "metadata": {
    "collapsed": false
   },
   "outputs": [
    {
     "data": {
      "text/plain": [
       "2x2 Array{Float64,2}:\n",
       "    0.998999     0.998998\n",
       " 1000.0       1001.0     "
      ]
     },
     "execution_count": 16,
     "metadata": {},
     "output_type": "execute_result"
    }
   ],
   "source": [
    "G=[1000 1;1 1]\n",
    "H=[1001 1.001;1.001 1]\n",
    "[eigvals(G) eigvals(H)]"
   ]
  },
  {
   "cell_type": "markdown",
   "metadata": {},
   "source": [
    "## Relative perturbation theory\n",
    "\n",
    "$A$  is a real symmetric PD matrix of order $n$  and $A=U\\Lambda U^T$ is its EVD.\n",
    "\n",
    "### Definition\n",
    "\n",
    "The __scaled matrix__ of the matrix $A$ is the matrix\n",
    "$$\n",
    "A_S=D^{-1} A D^{-1}, \\quad D=\\mathop{\\mathrm{diag}}(\\sqrt{A_{11}},\\sqrt{A_{22}},\\ldots,\\sqrt{A_{nn}}).\n",
    "$$\n",
    "\n",
    "### Facts\n",
    "\n",
    "1. The above diagonal scaling is nearly optimal: \n",
    "$\\kappa_2(A_S)\\leq  n \\min\\limits_{D=\\mathrm{diag}} \\kappa(DHD) \\leq n\\kappa_2(H)$.\n",
    "\n",
    "2. Let $A$ and $\\tilde A=A+\\Delta A$ both be positive definite, and let \n",
    "their eigenvalues have the same ordering. Then\n",
    "$$\n",
    "\\frac{|\\lambda_i-\\tilde\\lambda_i|}{\\lambda_i}\\leq \n",
    "\\frac{\\| D^{-1} (\\Delta A) D^{-1}\\|_2}{\\lambda_{\\min} (A_S)}\\equiv\n",
    "\\|A_S^{-1}\\|_2 \\| \\Delta A_S\\|_2.\n",
    "$$\n",
    "If $\\lambda_i$ and $\\tilde\\lambda_i$ are simple, \n",
    "$$\n",
    "\\|U_{:,i}-\\tilde U_{:,i}\\|_2 \\leq \\frac{\\| A_S^{-1}\\|_2 \\|\\Delta A_S\\|_2}\n",
    "{\\displaystyle\\min_{j\\neq i}\\frac{|\\lambda_i-\\lambda_j|}{\\sqrt{\\lambda_i\\lambda_j}}}.\n",
    "$$\n",
    "These bounds are much sharper than the standard bounds for matrices for which $\\kappa_2(A_S)\\ll \\kappa_2(A)$.\n",
    "\n",
    "3. Jacobi method with the relative stopping criterion $|A_{ij}|\\leq tol \\sqrt{A_{ii}A_{jj}}$ for all $i\\neq j$ and some user defined tolerance $tol$ (usually $tol=n\\varepsilon$), computes the EVD with small scaled  backward error $\\|\\Delta A_S\\|\\leq \\varepsilon\\, O(\\|A_S\\|_2)\\leq O(n)\\varepsilon$, _provided_ that $\\kappa_2([A_k]_S)$  does not grow much during the iterations. There is overwhelming numerical evidence that the scaled condition does not grow much, and the growth can be monitored, as well.\n",
    "\n",
    "### Example - Scaled matrix\n"
   ]
  },
  {
   "cell_type": "code",
   "execution_count": 18,
   "metadata": {
    "collapsed": false
   },
   "outputs": [
    {
     "data": {
      "text/plain": [
       "6x6 Array{Float64,2}:\n",
       " 1.0       0.862075  0.804402  0.899135  0.926166  0.874599\n",
       " 0.862075  1.0       0.531759  0.776659  0.781193  0.652741\n",
       " 0.804402  0.531759  1.0       0.814658  0.90804   0.772781\n",
       " 0.899135  0.776659  0.814658  1.0       0.842424  0.642364\n",
       " 0.926166  0.781193  0.90804   0.842424  1.0       0.891965\n",
       " 0.874599  0.652741  0.772781  0.642364  0.891965  1.0     "
      ]
     },
     "execution_count": 18,
     "metadata": {},
     "output_type": "execute_result"
    }
   ],
   "source": [
    "n=6\n",
    "A=rand(n,n)\n",
    "A=full(Symmetric(A'*A));\n",
    "AS=map(Float64,[A[i,j]/sqrt(A[i,i]*A[j,j]) for i=1:n, j=1:n])"
   ]
  },
  {
   "cell_type": "code",
   "execution_count": 20,
   "metadata": {
    "collapsed": false
   },
   "outputs": [
    {
     "data": {
      "text/plain": [
       "(636.4971931557932,765.548768862187)"
      ]
     },
     "execution_count": 20,
     "metadata": {},
     "output_type": "execute_result"
    }
   ],
   "source": [
    "cond(AS), cond(A)"
   ]
  },
  {
   "cell_type": "code",
   "execution_count": 21,
   "metadata": {
    "collapsed": false
   },
   "outputs": [
    {
     "data": {
      "text/plain": [
       "6-element Array{Float64,1}:\n",
       "     0.00213921\n",
       "     1.89359e-9\n",
       "   201.882     \n",
       "  5762.69      \n",
       " 14865.5       \n",
       "     4.42185e-7"
      ]
     },
     "execution_count": 21,
     "metadata": {},
     "output_type": "execute_result"
    }
   ],
   "source": [
    "# Strong scaling\n",
    "D=exp(50*(rand(n)-0.5))"
   ]
  },
  {
   "cell_type": "code",
   "execution_count": 24,
   "metadata": {
    "collapsed": false
   },
   "outputs": [
    {
     "data": {
      "text/plain": [
       "6x6 Array{Float64,2}:\n",
       "  4.57621e-6   3.49208e-12      0.347395    …  29.4525      8.27306e-10\n",
       "  3.49208e-12  3.58569e-18      2.03282e-7      2.199e-5    5.46552e-16\n",
       "  0.347395     2.03282e-7   40756.2             2.7251e6    6.89855e-5 \n",
       " 11.0842       8.47504e-6       9.47758e5       7.21665e7   0.00163686 \n",
       " 29.4525       2.199e-5         2.7251e6        2.20983e8   0.00586316 \n",
       "  8.27306e-10  5.46552e-16      6.89855e-5  …   0.00586316  1.95528e-13"
      ]
     },
     "execution_count": 24,
     "metadata": {},
     "output_type": "execute_result"
    }
   ],
   "source": [
    "H=diagm(D)*AS*diagm(D)"
   ]
  },
  {
   "cell_type": "code",
   "execution_count": 25,
   "metadata": {
    "collapsed": false
   },
   "outputs": [
    {
     "data": {
      "text/plain": [
       "2.1077575583075003e22"
      ]
     },
     "execution_count": 25,
     "metadata": {},
     "output_type": "execute_result"
    }
   ],
   "source": [
    "cond(H)"
   ]
  },
  {
   "cell_type": "code",
   "execution_count": 26,
   "metadata": {
    "collapsed": false
   },
   "outputs": [
    {
     "data": {
      "text/plain": [
       "([3.390278431575385e-7,2.207430900617203e-19,6803.42521455611,8.677902486454185e6,2.4554807116021588e8,1.1649876200052868e-14],\n",
       "6x6 Array{Float64,2}:\n",
       "  1.0          -1.10137e-6   -3.6167e-6    …  1.281e-7     -0.000242312\n",
       "  2.68752e-7    0.999994     -1.11201e-11     9.59012e-14  -0.00343612 \n",
       "  3.61466e-6    7.97032e-12   0.999928        0.0117509    -6.33342e-10\n",
       " -1.73723e-7    8.44962e-14  -0.005999        0.321812      6.94626e-11\n",
       " -1.21121e-7   -1.69768e-13  -0.010372        0.946731     -9.11071e-12\n",
       "  0.000242314   0.00343612   -2.42792e-10  …  2.47545e-11   0.999994   )"
      ]
     },
     "execution_count": 26,
     "metadata": {},
     "output_type": "execute_result"
    }
   ],
   "source": [
    "λ,U=myJacobi(H)"
   ]
  },
  {
   "cell_type": "code",
   "execution_count": 27,
   "metadata": {
    "collapsed": false
   },
   "outputs": [
    {
     "data": {
      "text/plain": [
       "([2.4554807116021568e8,8.677902486454166e6,6803.425214556114,3.3906279811494396e-7,1.1651790891075355e-14,-3.0882396802670665e-10],\n",
       "6x6 Array{Float64,2}:\n",
       " 1.281e-7      1.1703e-7    -3.6167e-6    …  -0.000242289   2.64374e-7 \n",
       " 9.57513e-14   1.09248e-13  -1.10912e-11     -1.3523e-7    -1.0        \n",
       " 0.0117509     0.0023416     0.999928        -6.3322e-10   -1.01738e-11\n",
       " 0.321812      0.946785     -0.005999         6.94581e-11   1.54777e-13\n",
       " 0.946731     -0.321859     -0.010372        -9.11427e-12   1.39105e-13\n",
       " 2.47545e-11  -3.88575e-11  -2.42792e-10  …   1.0          -1.28553e-7 )"
      ]
     },
     "execution_count": 27,
     "metadata": {},
     "output_type": "execute_result"
    }
   ],
   "source": [
    "λ1,U1=eig(H)"
   ]
  },
  {
   "cell_type": "code",
   "execution_count": 28,
   "metadata": {
    "collapsed": false
   },
   "outputs": [
    {
     "data": {
      "text/plain": [
       "6x2 Array{Float64,2}:\n",
       "    2.20743e-19    -3.08824e-10\n",
       "    1.16499e-14     1.16518e-14\n",
       "    3.39028e-7      3.39063e-7 \n",
       " 6803.43         6803.43       \n",
       "    8.6779e6        8.6779e6   \n",
       "    2.45548e8       2.45548e8  "
      ]
     },
     "execution_count": 28,
     "metadata": {},
     "output_type": "execute_result"
    }
   ],
   "source": [
    "[sort(λ) sort(λ1)]"
   ]
  },
  {
   "cell_type": "code",
   "execution_count": 29,
   "metadata": {
    "collapsed": false
   },
   "outputs": [
    {
     "data": {
      "text/plain": [
       "(BigFloat[3.390278431575403220159698232974172301200399481511043059832603693670294691155484e-07,2.207430900617199254581330833318582275965065594207032859505251206150156548649487e-19,6.803425214556109179153918168126450769514799491399177130647787046215553401461196e+03,8.67790248645417312267443698800133842495514662156012199890258996198804279179775e+06,2.455480711602157335274871395768779320444016174609421909327635395229210136628662e+08,1.164987620005313796466058425318455400929377582997301257898167937615815928880479e-14],\n",
       "6x6 Array{BigFloat,2}:\n",
       "  9.999999706352625528482665807735057990957544493611662993085447194687687588898386e-01  …  -2.423120929023549501760919469600588098490048176743807485099994029890737611723386e-04\n",
       "  2.687520569364983213055821606606363484902772792922462534541451459758259734585365e-07     -3.436115957051697388728246729421025597321443161700004298310886514265667804513342e-03\n",
       "  3.61466414327589372731550125374788251116225585347181486664203064997165429797968e-06      -6.333416792713332032941522639576070897699361666521194938610769430334864182603493e-10\n",
       " -1.737228303127204465438774807211787432238423727272085098062550150098079158772672e-07      6.946257771084415397130992597181778480239633267119911450247679306324194009905551e-11\n",
       " -1.211213489653218461624543675952846531334729091571763989838807043986415452510177e-07     -9.110713506444638539667493390043039429618664821439131398841979277863407112005097e-12\n",
       "  2.423144468608422084461764490391607169532038460760853985796444731834353381748698e-04  …   9.999940671783904776608825554599609867271110639453954992731861043793493037581027e-01)"
      ]
     },
     "execution_count": 29,
     "metadata": {},
     "output_type": "execute_result"
    }
   ],
   "source": [
    "# Check with BigFloat\n",
    "λ2,U2=myJacobi(map(BigFloat,H))"
   ]
  },
  {
   "cell_type": "code",
   "execution_count": 30,
   "metadata": {
    "collapsed": false
   },
   "outputs": [
    {
     "data": {
      "text/plain": [
       "6-element Array{BigFloat,1}:\n",
       " -1.615472217235178597744296317939064726590906966922527846085310646471408422159571e-15\n",
       "  2.320192783722409317951642165730797038109845630294751690498611866840653700814624e-14\n",
       "  5.404927646667713349203659186278151992945842226913188674836643957715249607151417e-15\n",
       " -1.800886546772560161004154412821488220490690114208716736808558026657021669701978e-16\n",
       " -1.380026479257580892758745871336595551305943130847160069180670923721784015796243e-15\n",
       " -6.146234825859050729917405822289303391975242615438775265975904935183340953054428e-16"
      ]
     },
     "execution_count": 30,
     "metadata": {},
     "output_type": "execute_result"
    }
   ],
   "source": [
    "# Relative error is eps()*cond(AS)\n",
    "(sort(λ2)-sort(λ))./sort(λ2)"
   ]
  },
  {
   "cell_type": "markdown",
   "metadata": {},
   "source": [
    "## Indefinite matrices\n",
    "\n",
    "### Definition\n",
    "\n",
    "__Spectral absolute value__ of the matrix $A$ is the matrix is $|A|_{spr}=(A^2)^{1/2}$ (positive definite part of the polar decomposition of $A$).\n",
    "\n",
    "### Facts\n",
    "\n",
    "1. The above perturbation bounds for positive definite matrices essentially hold with $A_S$ replaced by $[|A|_{spr}]_S$.\n",
    "\n",
    "2. Jacobi method can be modified to compute the EVD with small backward error \n",
    "$\\| \\Delta [|A|_{spr}]_S\\|_2$.\n",
    "\n",
    "The details of the indefinite case are beyond the scope of this course, and the reader should consider references."
   ]
  },
  {
   "cell_type": "code",
   "execution_count": null,
   "metadata": {
    "collapsed": true
   },
   "outputs": [],
   "source": []
  }
 ],
 "metadata": {
  "kernelspec": {
   "display_name": "Julia 0.4.5",
   "language": "julia",
   "name": "julia-0.4"
  },
  "language_info": {
   "file_extension": ".jl",
   "mimetype": "application/julia",
   "name": "julia",
   "version": "0.4.5"
  }
 },
 "nbformat": 4,
 "nbformat_minor": 0
}
