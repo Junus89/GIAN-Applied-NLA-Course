{
 "cells": [
  {
   "cell_type": "markdown",
   "metadata": {},
   "source": [
    "# Symmetric Eigenvalue Decomposition - Algorithms and Error Analysis\n",
    "\n",
    "---\n",
    "\n",
    "We study only algorithms for real symmetric matrices, which are most commonly used in the applications described in this course. \n",
    "\n",
    "For more details, see \n",
    "[I. Slapničar, Symmetric Matrix Eigenvalue Techniques][Hog14] and the references therein.\n",
    "\n",
    "[Hog14]: #1 \"L. Hogben, ed., 'Handbook of Linear Algebra', pp. 55.1-55.25, CRC Press, Boca Raton, 2014.\"\n",
    "\n",
    "\n",
    "## Prerequisites\n",
    "\n",
    "The reader should be familiar with basic linear algebra concepts and facts on eigenvalue decomposition and perturbation theory\n",
    "\n",
    " \n",
    "## Competences \n",
    "\n",
    "The reader should be able to apply adequate algorithm to a given problem, and to assess accuracy of the solution.\n",
    "\n",
    "---"
   ]
  },
  {
   "cell_type": "markdown",
   "metadata": {},
   "source": [
    "## Backward error and stability\n",
    "\n",
    "### Definitions\n",
    "\n",
    "If the value of a function $f(x)$ is computed with an algorithm  $\\mathrm{alg(x)}$, the \n",
    "__algorithm error__ is \n",
    "\n",
    "$$\n",
    "\\|\\mathrm{alg(x)}-f(x)\\|,\n",
    "$$\n",
    "\n",
    "and the __relative algorithm error__ is\n",
    "\n",
    "$$\n",
    "\\frac{\\| \\mathrm{alg}(x)-f(x)\\|}{\\| f(x) \\|},\n",
    "$$\n",
    "in respective norms. Therse errors can be hard or even impossible to estimate directly. \n",
    "\n",
    "In this case, assume that $f(x)$ computed by $\\mathrm{alg}(x)$ is equal to exact value of the function for a perturbed argument,\n",
    "\n",
    "$$\n",
    "\\mathrm{alg}(x)=f(x+\\delta x),\n",
    "$$\n",
    "for some  __backward error__ $\\delta x$.\n",
    "\n",
    "Algoritam is __stable__ is the above equality always holds for small $\\delta x$."
   ]
  },
  {
   "cell_type": "markdown",
   "metadata": {},
   "source": [
    "## Basic methods\n",
    "\n",
    "### Definitions\n",
    "\n",
    "The eigenvalue decomposition (EVD) of a real symmetric matrix\n",
    "$A=[a_{ij}]$ is $A=U\\Lambda U^T$,\n",
    "where $U$ is a $n\\times n$ real orthonormal matrix, $U^TU=UU^T=I_n$, and \n",
    "$\\Lambda=\\mathop{\\mathrm{diag}} (\\lambda_1,\\dots, \\lambda_n)$ is a real diagonal matrix.\n",
    "\n",
    "The numbers $\\lambda_i$ are the eigenvalues of $A$, the vectors $U_{:i}$,\n",
    "$i=1,\\dots,n$, are the eigenvectors of $A$, and\n",
    "$AU_{:i}=\\lambda_i U_{:i}$, $i=1,\\dots,n$.\n",
    "\n",
    "If $|\\lambda_1|> |\\lambda_2| \\geq \\cdots \\geq |\\lambda_n|$, we say that\n",
    "  $\\lambda_1$ is the __dominant eigenvalue__.\n",
    "\n",
    "__Deflation__ is a process of reducing the size of the matrix whose\n",
    "EVD is to be determined, given that one eigenvector is known.\n",
    "\n",
    "The __shifted matrix__ of the matrix $A$ is the matrix $A-\\mu I$, where\n",
    "$\\mu$ is the __shift__.\n",
    "\n",
    "__Power method__ starts from vector $x_0$ and computes the sequences\n",
    "$$\n",
    "\\nu_k=x_k^T A x_k, \\qquad x_{k+1}= A x_k /\n",
    " \\| A x_k \\|, \\qquad k=0,1,2,\\dots,\n",
    "$$\n",
    "until convergence. Normalization of $x_k$ can be performed in any norm and serves\n",
    "the numerical stability of the algorithm (avoiding overflow or underflow).\n",
    "\n",
    "__Inverse iteration__ is the power method applied to the inverse of\n",
    "a shifted matrix:\n",
    "$$\n",
    "\\nu_k=x_k^T A x_k, \\quad \n",
    "v_{k+1}= (A-\\mu I)^{-1} x_k, \\quad \n",
    "x_{k+1} = v_{k+1}/\\|v_{k+1}\\|, \\quad k=0,1,2,\\dots.\n",
    "$$\n",
    "\n",
    "__QR iteration__ starts from the matrix $A_0=A$ and forms the sequence of matrices\n",
    "$$\n",
    "  A_k=Q_kR_k \\quad \\textrm{(QR factorization)}, \\qquad\n",
    "  A_{k+1}=R_kQ_k,\\qquad k=0,1,2,\\ldots \n",
    "$$\n",
    "\n",
    "__Shifted QR iteration__ is the QR iteration applied to a shifted matrix:\n",
    "$$\n",
    "A_k-\\mu I=Q_kR_k \\quad \\textrm{(QR factorization)}, \\quad\n",
    "  A_{k+1}=R_kQ_k+\\mu I ,\\quad k=0,1,2,\\ldots \n",
    "$$\n",
    "\n",
    "### Facts\n",
    "\n",
    "1. If $\\lambda_1$ is the dominant eigenvalue and if  $x_0$ is not\n",
    "orthogonal to $U_{:1}$, then $\\nu_k\\to \\lambda_1$ and $x_k\\to U_{:i}$. In other\n",
    "words, the power method converges to the dominant eigenvalue and its eigenvector.\n",
    "\n",
    "2. The convergence is linear in the sense that \n",
    "$$\n",
    "|\\lambda_1-\\nu_k|\\approx \\left|\\frac{c_2}{c_1}\\right| \\left|\n",
    " \\frac{\\lambda_2}{\\lambda_1}\\right|^k,\\qquad\n",
    "\\|U_{:1}-x_k\\|_2 =O\\bigg(\\bigg|\n",
    " \\frac{\\lambda_2}{\\lambda_1}\\bigg|^k\\bigg)\\!, \n",
    "$$\n",
    "where $c_i$ is the coefficient of the $i$-th eigenvector in the linear\n",
    "combination expressing the starting vector $x_0$.\n",
    " \n",
    "3. Since $\\lambda_1$ is not available, the convergence is\n",
    "determined using residuals:  if $\\| Ax_k-\\nu_k x_k\\|_2\\leq tol$, \n",
    "where $tol$ is a user prescribed stopping criterion,\n",
    "then $|\\lambda_1-\\nu_k|\\leq tol$.\n",
    "\n",
    "4. After computing the dominant eigenpair, we can perform deflation\n",
    "to reduce the given EVD for $A$ to the one of size $n-1$ for $A_1$:\n",
    "$$\n",
    "\\begin{bmatrix} U_{:1} & X \\end{bmatrix}^T A  \\begin{bmatrix} U_{:1} & X \\end{bmatrix}=\n",
    "\\begin{bmatrix} \\lambda_1 & \\\\ & A_1 \\end{bmatrix}, \\quad\n",
    "\\begin{bmatrix} U_{:1} & X \\end{bmatrix} \\textrm{orthonormal}, \\quad A_1=X^TAX.\n",
    "$$\n",
    "\n",
    "5. The EVD of the shifted matrix $A-\\mu I$ is $U(\\Lambda-\\mu I) U^T$.  \n",
    "\n",
    "6. Inverse iteration requires solving the system of linear equations \n",
    "$(A-\\mu I)v_{k+1}= x_k$ for $v_{k+1}$ in each step. \n",
    "At the beginning, LU factorization of \n",
    "$A-\\mu I$ needs to be computed, which requires $2n^3/3$ operations. \n",
    "In each subsequent step, two triangular systems need to be solved, which requires $2n^2$\n",
    "operations.\n",
    "\n",
    "7. If $\\mu$ is close to some eigenvalue of $A$, the\n",
    "eigenvalues of the shifted matrix satisfy $|\\lambda_1|\\gg\n",
    "|\\lambda_2|\\geq\\cdots\\geq |\\lambda_n|$, so the convergence of the inverse\n",
    "iteration method is fast.\n",
    "  \n",
    "8. If $\\mu$ is very close to some eigenvalue of $A$, then the\n",
    "matrix $A-\\mu I$ is nearly singular, so the solutions of linear\n",
    "systems may have large errors. However, these errors are almost\n",
    "entirely in the direction of the dominant eigenvector so the inverse\n",
    "iteration method is both fast and accurate.\n",
    "  \n",
    "9. We can further increase the speed of convergence of inverse iterations by substituting\n",
    "  the shift $\\mu$ with the Rayleigh quotient $\\nu_k$\n",
    "  at the cost of computing new LU factorization.\n",
    "  \n",
    "10. Matrices $A_k$ and $A_{k+1}$ from both QR iterations are orthogonally\n",
    "similar, $A_{k+1}=Q_k^TA_kQ_k$.\n",
    "\n",
    "11. The QR iteration method is essentially equivalent to the power method and\n",
    "  the shifted QR iteration method is essentially equivalent to the\n",
    "  inverse power method on the shifted matrix. \n",
    "  \n",
    "12. The straightforward application of the QR iteration requires $O(n^3)$ operations per step, so better implementation is needed.\n",
    "\n",
    "\n",
    "\n",
    "  \n",
    "### Examples\n",
    "\n",
    "In order to keep the programs simple, in the examples below we do not compute full matrix of eigenvectors. "
   ]
  },
  {
   "cell_type": "code",
   "execution_count": 1,
   "metadata": {
    "collapsed": false
   },
   "outputs": [
    {
     "data": {
      "text/plain": [
       "myPower (generic function with 1 method)"
      ]
     },
     "execution_count": 1,
     "metadata": {},
     "output_type": "execute_result"
    }
   ],
   "source": [
    "function myPower(A::Array,x::Vector,tol::Float64)\n",
    "    y=A*x\n",
    "    ν=x⋅y\n",
    "    steps=1\n",
    "    while norm(y-ν*x)>tol\n",
    "        x=y/norm(y)\n",
    "        y=A*x\n",
    "        ν=x⋅y\n",
    "        steps+=1\n",
    "    end\n",
    "    ν, y/norm(y), steps\n",
    "end"
   ]
  },
  {
   "cell_type": "code",
   "execution_count": 2,
   "metadata": {
    "collapsed": false
   },
   "outputs": [
    {
     "data": {
      "text/plain": [
       "6x6 Array{Int64,2}:\n",
       "  6   6   7  -9   8   3\n",
       "  6  -7   1  -8  -9  -1\n",
       "  7   1  -2   8   1   6\n",
       " -9  -8   8   3  -5   0\n",
       "  8  -9   1  -5  -4   1\n",
       "  3  -1   6   0   1  -3"
      ]
     },
     "execution_count": 2,
     "metadata": {},
     "output_type": "execute_result"
    }
   ],
   "source": [
    "n=6\n",
    "A=full(Symmetric(rand(-9:9,n,n)))"
   ]
  },
  {
   "cell_type": "code",
   "execution_count": 3,
   "metadata": {
    "collapsed": false
   },
   "outputs": [
    {
     "data": {
      "text/plain": [
       "6-element Array{Int64,1}:\n",
       "  3\n",
       " -4\n",
       " -7\n",
       "  1\n",
       "  4\n",
       "  7"
      ]
     },
     "execution_count": 3,
     "metadata": {},
     "output_type": "execute_result"
    }
   ],
   "source": [
    "x0=rand(-9:9,n)"
   ]
  },
  {
   "cell_type": "code",
   "execution_count": 4,
   "metadata": {
    "collapsed": false
   },
   "outputs": [
    {
     "data": {
      "text/plain": [
       "(-20.49531327253087,[0.16758272352745,-0.6876969003212962,0.19160389254062582,-0.3565111715503402,-0.5700359659066202,-0.10117180713812564],485)"
      ]
     },
     "execution_count": 4,
     "metadata": {},
     "output_type": "execute_result"
    }
   ],
   "source": [
    "ν,x=myPower(A,x0,1e-10)"
   ]
  },
  {
   "cell_type": "code",
   "execution_count": 5,
   "metadata": {
    "collapsed": false
   },
   "outputs": [
    {
     "data": {
      "text/plain": [
       "6-element Array{Float64,1}:\n",
       " -20.4953 \n",
       " -14.4238 \n",
       "  -5.10669\n",
       "   3.20668\n",
       "  10.4406 \n",
       "  19.3785 "
      ]
     },
     "execution_count": 5,
     "metadata": {},
     "output_type": "execute_result"
    }
   ],
   "source": [
    "eigvals(A)"
   ]
  },
  {
   "cell_type": "code",
   "execution_count": 6,
   "metadata": {
    "collapsed": false
   },
   "outputs": [
    {
     "data": {
      "text/plain": [
       "6-element Array{Float64,1}:\n",
       "  0.167583\n",
       " -0.687697\n",
       "  0.191604\n",
       " -0.356511\n",
       " -0.570036\n",
       " -0.101172"
      ]
     },
     "execution_count": 6,
     "metadata": {},
     "output_type": "execute_result"
    }
   ],
   "source": [
    "eigvecs(A)[:,1]"
   ]
  },
  {
   "cell_type": "code",
   "execution_count": 7,
   "metadata": {
    "collapsed": false
   },
   "outputs": [
    {
     "data": {
      "text/plain": [
       "7.105427357601002e-15"
      ]
     },
     "execution_count": 7,
     "metadata": {},
     "output_type": "execute_result"
    }
   ],
   "source": [
    "ν-eigvals(A)[1]"
   ]
  },
  {
   "cell_type": "code",
   "execution_count": 8,
   "metadata": {
    "collapsed": false
   },
   "outputs": [
    {
     "data": {
      "text/plain": [
       "myDeflation (generic function with 1 method)"
      ]
     },
     "execution_count": 8,
     "metadata": {},
     "output_type": "execute_result"
    }
   ],
   "source": [
    "# Deflation\n",
    "function myDeflation(A::Array,x::Vector)\n",
    "    n,m=size(A)\n",
    "    # Need to convert x to 2D array\n",
    "    X,R=qr(x[:,:],thin=false)\n",
    "    full(Symmetric(X[:,2:n]'*A*X[:,2:n]))\n",
    "end"
   ]
  },
  {
   "cell_type": "code",
   "execution_count": 9,
   "metadata": {
    "collapsed": false
   },
   "outputs": [
    {
     "data": {
      "text/plain": [
       "5x5 Array{Float64,2}:\n",
       "  9.25944   1.57741   -6.70387     6.26016    2.63911 \n",
       "  1.57741  -3.58393   10.2867      0.981951   5.73749 \n",
       " -6.70387  10.2867    -0.0258976  -3.00149    0.837181\n",
       "  6.26016   0.981951  -3.00149    10.1269     4.27873 \n",
       "  2.63911   5.73749    0.837181    4.27873   -2.28116 "
      ]
     },
     "execution_count": 9,
     "metadata": {},
     "output_type": "execute_result"
    }
   ],
   "source": [
    "A1=myDeflation(A,x)"
   ]
  },
  {
   "cell_type": "code",
   "execution_count": 10,
   "metadata": {
    "collapsed": false
   },
   "outputs": [
    {
     "data": {
      "text/plain": [
       "([-14.423840475157174,-5.106686937787888,3.206681076605001,10.440644533549182,19.37851507532184],\n",
       "5x5 Array{Float64,2}:\n",
       " -0.186553    -0.242036    0.679319    0.0712869   0.66337  \n",
       "  0.734096    -0.0897466   0.265209   -0.617835   -0.0314934\n",
       " -0.598052    -0.404004    0.0837317  -0.598785   -0.336987 \n",
       " -0.00927876  -0.213442   -0.67282    -0.301501    0.640911 \n",
       " -0.261817     0.851227    0.092151   -0.404662    0.186068 )"
      ]
     },
     "execution_count": 10,
     "metadata": {},
     "output_type": "execute_result"
    }
   ],
   "source": [
    "eig(A1)"
   ]
  },
  {
   "cell_type": "code",
   "execution_count": 11,
   "metadata": {
    "collapsed": false
   },
   "outputs": [
    {
     "data": {
      "text/plain": [
       "(19.378515075321836,[-0.663370312568391,0.031493436455098,0.33698667179172537,-0.6409107157468193,-0.18606834588075283],97)"
      ]
     },
     "execution_count": 11,
     "metadata": {},
     "output_type": "execute_result"
    }
   ],
   "source": [
    "myPower(A1,rand(n-1),1e-10)"
   ]
  },
  {
   "cell_type": "code",
   "execution_count": 12,
   "metadata": {
    "collapsed": false
   },
   "outputs": [
    {
     "data": {
      "text/plain": [
       "myPowerMethod (generic function with 1 method)"
      ]
     },
     "execution_count": 12,
     "metadata": {},
     "output_type": "execute_result"
    }
   ],
   "source": [
    "# Put it all together - eigenvectors are ommited for the sake of simplicty\n",
    "function myPowerMethod(A::Array, tol::Float64)\n",
    "    n,m=size(A)\n",
    "    λ=Array(Float64,n)\n",
    "    for i=1:n\n",
    "        λ[i],x,steps=myPower(A,rand(n-i+1),tol)\n",
    "        A=myDeflation(A,x)\n",
    "    end\n",
    "    λ\n",
    "end"
   ]
  },
  {
   "cell_type": "code",
   "execution_count": 13,
   "metadata": {
    "collapsed": false
   },
   "outputs": [
    {
     "data": {
      "text/plain": [
       "6-element Array{Float64,1}:\n",
       " -20.4953 \n",
       "  19.3785 \n",
       " -14.4238 \n",
       "  10.4406 \n",
       "  -5.10669\n",
       "   3.20668"
      ]
     },
     "execution_count": 13,
     "metadata": {},
     "output_type": "execute_result"
    }
   ],
   "source": [
    "myPowerMethod(A,1e-10)"
   ]
  },
  {
   "cell_type": "code",
   "execution_count": 14,
   "metadata": {
    "collapsed": false
   },
   "outputs": [
    {
     "data": {
      "text/plain": [
       "myQRIteration (generic function with 1 method)"
      ]
     },
     "execution_count": 14,
     "metadata": {},
     "output_type": "execute_result"
    }
   ],
   "source": [
    "# QR iteration\n",
    "function myQRIteration(A::Array, tol::Float64)\n",
    "    steps=1\n",
    "    while norm(tril(A,-1))>tol\n",
    "        Q,R=qr(A)\n",
    "        A=R*Q\n",
    "        steps+=1\n",
    "    end\n",
    "    A,steps\n",
    "end"
   ]
  },
  {
   "cell_type": "code",
   "execution_count": 15,
   "metadata": {
    "collapsed": false
   },
   "outputs": [
    {
     "data": {
      "text/plain": [
       "(\n",
       "6x6 Array{Float64,2}:\n",
       " -20.4953         9.68275e-6     -5.66664e-16   …  -7.26264e-16  -1.93106e-15\n",
       "   9.68275e-6    19.3785          2.1609e-15       -1.87188e-15   6.66685e-15\n",
       "   3.01868e-44    1.27563e-37   -14.4238            2.87903e-15  -2.64321e-15\n",
       "  -3.10098e-86   -1.58142e-79     2.66892e-41       1.34905e-15  -3.8093e-16 \n",
       "  -3.85406e-179  -1.28199e-172   -2.98173e-134     -5.10669      -2.11824e-15\n",
       "  -1.7799e-238   -6.2409e-232    -1.94293e-193  …  -5.11907e-59   3.20668    ,\n",
       "\n",
       "299)"
      ]
     },
     "execution_count": 15,
     "metadata": {},
     "output_type": "execute_result"
    }
   ],
   "source": [
    "myQRIteration(A,1e-5)"
   ]
  },
  {
   "cell_type": "markdown",
   "metadata": {},
   "source": [
    "##  Tridiagonalization\n",
    "\n",
    "The following implementation of $QR$ iteration requires a total of $O(n^3)$ operations:\n",
    "\n",
    "1. Reduce $A$ to tridiagonal form $T$ by orthogonal similarities, $X^TAX=T$.\n",
    "2. Compute the EVD of $T$ with QR iterations, $T=Q\\Lambda Q^T$.\n",
    "3. Multiply $U=XQ$.\n",
    "\n",
    "One step of QR iterations on $T$ requires $O(n)$ operations if only $\\Lambda$ is computed, and $O(n^2)$ operations if\n",
    "$Q$ is accumulated, as well.\n",
    "\n",
    "### Facts\n",
    "\n",
    "1. Tridiagonal form is not unique.\n",
    "\n",
    "2. The reduction of $A$ to tridiagonal matrix by Householder reflections is performed as follows. Let \n",
    "$$\n",
    "A=\\begin{bmatrix} \\alpha & a^T  \\\\ a & B \\end{bmatrix},\n",
    "$$ \n",
    "let $H$ be the __Householder reflector__,\n",
    "$$\n",
    "v=a+\\mathrm{\\mathop{sign}}(a_{1})\\|a\\|_2 e_1,\\quad\n",
    "H= I - 2 \\frac{v v^T}{v^Tv},\n",
    "$$\n",
    "and set\n",
    "$$\n",
    "H_1=\\begin{bmatrix} 1 & \\\\ & H \\end{bmatrix}.\n",
    "$$\n",
    "Then\n",
    "$$\n",
    "H_1AH_1=\n",
    "\\begin{bmatrix} \\alpha & a^T H \\\\ Ha & HBH \\end{bmatrix} =\n",
    "\\begin{bmatrix} \\alpha & \\nu e_1^T \\\\ \\nu e_1 & A_1 \\end{bmatrix},\n",
    "\\quad  \\nu=-\\mathop{\\mathrm{sign}}(a_{1}) \\|a\\|_2.\n",
    "$$\n",
    "This step annihilates all elements in the first column below the\n",
    "first subdiagonal and all elements in the first row to the right of\n",
    "the first subdiagonal.\n",
    "Applying this procedure recursively yields the tridiagonal matrix \n",
    "$T=X^T AX$, $X=H_1H_2\\cdots H_{n-2}$.\n",
    "\n",
    "3. $H$ does not depend on the normalization of $v$. With the\n",
    "normalization $v_1=1$, $a_{2:n-1}$ can be overwritten by\n",
    "$v_{2:n-1}$  (and $v_1$ does not need to be stored).\n",
    "\n",
    "4. The matrix $H$ is not formed explicitly - given $v$, $B$ is overwritten with $HBH$ in\n",
    "$O(n^2)$ operations by using one matrix-vector multiplication and two rank-one updates.\n",
    "\n",
    "5. When symmetry is exploited in performing rank-2 update, tridiagonalization \n",
    "requires $4n^3/3$ operations. Instead of\n",
    "performing rank-2 update on $B$, one can\n",
    "accumulate $p$ transformations and perform rank-$2p$ update. \n",
    "This __block algorithm__ is rich in matrix--matrix multiplications (roughly one\n",
    "half of the operations is performed using BLAS 3 routines), but\n",
    "it requires extra workspace for $U$ and $V$.\n",
    "\n",
    "6. If the matrix $X$ is needed explicitly, it can be computed from the \n",
    "stored Householder vectors $v$.\n",
    "In order to minimize the operation count, the computation\n",
    "starts from the smallest matrix and the size is gradually\n",
    "increased:\n",
    "$$\n",
    "H_{n-2},\\quad H_{n-3}H_{n-2},\\dots,\\quad X=H_1\\cdots H_{n-2}. \n",
    "$$\n",
    "A column-oriented version is possible as well, and the operation count in both\n",
    "cases is $4n^3/3$. If the Householder reflectors $H_i$ are accumulated in the order\n",
    "in which they are generated, the operation count is $2n^3$.\n",
    "\n",
    "7. The backward error bounds for functions `myTridiag()` and `myTridiagX()` are as follows: \n",
    "The computed matrix $\\tilde T$ is equal to the matrix which\n",
    "would be obtained by exact tridiagonalization of some perturbed matrix $A+\\Delta A$, \n",
    "where $\\|\\Delta A\\|_2 \\leq \\psi \\varepsilon \\|A\\|_2$ and $\\psi$ is a\n",
    "slowly increasing function of $n$.\n",
    "The computed matrix $\\tilde X$ satisfies $\\tilde X=X+\\Delta X$, where\n",
    "$\\|\\Delta X \\|_2\\leq \\phi \\varepsilon$ \n",
    "and $\\phi$ is a slowly increasing function of $n$.\n",
    "\n",
    "8. Tridiagonalization using Givens rotations requires $(n-1)(n-2)/2$ plane rotations, which \n",
    "amounts to $4n^3$ operations if symmetry is properly exploited. \n",
    "The operation count is reduced to $8n^3/3$ if fast rotations are used. Fast rotations are\n",
    "obtained by factoring out absolutely larger of $c$ and $s$ from $G$.\n",
    "\n",
    "10. Givens rotations in the function `myTridiagG()`  can be performed in different\n",
    "orderings. For example, the elements in the first column and row can be annihilated by\n",
    "rotations in the planes $(n-1,n)$, $(n-2,n-1)$, $\\ldots$, $(2,3)$.\n",
    "Givens rotations act more selectively than Householder reflectors, and\n",
    "are useful if $A$ has some special structure, for example, if $A$ is a banded matrix. \n",
    "\n",
    "11. Error bounds for function `myTridiagG()` are the same as above, \n",
    "but with slightly different functions $\\psi$ and $\\phi$.\n",
    "\n",
    "12. The block version of tridiagonal reduction is implemented in the \n",
    "[LAPACK](http://www.netlib.org/lapack) subroutine \n",
    "[DSYTRD](http://www.netlib.org/lapack/explore-3.1.1-html/dsytrd.f.html).\n",
    "The computation of $X$ is implemented in the subroutine \n",
    "[DORGTR](http://www.netlib.org/lapack/lapack-3.1.1/html/dorgtr.f.html).\n",
    "The size of the required extra workspace (in elements) is \n",
    "$lwork=nb*n$, where $nb$ is\n",
    "the optimal block size (here, $nb=64)$, and it\n",
    "is determined automatically by the subroutines. \n",
    "The subroutine [DSBTRD](http://www.netlib.org/lapack/explore-html/d0/d62/dsbtrd_8f.html) tridiagonalizes a symmetric band matrix by using Givens rotations. _Julia wappers for those routines do nost exist yet!_"
   ]
  },
  {
   "cell_type": "code",
   "execution_count": 16,
   "metadata": {
    "collapsed": false
   },
   "outputs": [
    {
     "data": {
      "text/plain": [
       "myTridiag (generic function with 1 method)"
      ]
     },
     "execution_count": 16,
     "metadata": {},
     "output_type": "execute_result"
    }
   ],
   "source": [
    "function myTridiag{T}(A::Array{T})\n",
    "    # Normalized Householder vectors are stored in the lower triangular part of A\n",
    "    # below the first subdiagonal\n",
    "    n,m=size(A)\n",
    "    v=Array(T,n)\n",
    "    Trid=SymTridiagonal(zeros(n),zeros(n-1))\n",
    "    for j = 1 : n-2\n",
    "        μ = sign(A[j+1,j])*vecnorm(A[j+1:n, j])\n",
    "        if μ != zero(T)\n",
    "            β =A[j+1,j]+μ\n",
    "            v[j+2:n] = A[j+2:n,j] / β\n",
    "        end\n",
    "        A[j+1,j]=-μ\n",
    "        A[j,j+1]=-μ\n",
    "        v[j+1] = one(Float64)\n",
    "        γ = -2 / (v[j+1:n]⋅v[j+1:n])\n",
    "        w = γ* A[j+1:n, j+1:n]*v[j+1:n]\n",
    "        q = w + γ * v[j+1:n]*(v[j+1:n]⋅w) / 2 \n",
    "        A[j+1:n, j+1:n] = A[j+1:n,j+1:n] + v[j+1:n]*q' + q*v[j+1:n]'\n",
    "        A[j+2:n, j] = v[j+2:n]\n",
    "    end\n",
    "    SymTridiagonal(diag(A),diag(A,1)), tril(A,-2)\n",
    "end"
   ]
  },
  {
   "cell_type": "code",
   "execution_count": 17,
   "metadata": {
    "collapsed": false
   },
   "outputs": [
    {
     "data": {
      "text/plain": [
       "(\n",
       "6x6 SymTridiagonal{Float64}:\n",
       "   6.0     -15.4596      0.0        0.0        0.0      0.0    \n",
       " -15.4596   -0.912134   -6.41264    0.0        0.0      0.0    \n",
       "   0.0      -6.41264    -3.46285  -10.3522     0.0      0.0    \n",
       "   0.0       0.0       -10.3522    -2.76773  -10.4707   0.0    \n",
       "   0.0       0.0         0.0      -10.4707    -8.74382  2.63392\n",
       "   0.0       0.0         0.0        0.0        2.63392  2.88653,\n",
       "\n",
       "6x6 Array{Float64,2}:\n",
       "  0.0        0.0         0.0       0.0       0.0  0.0\n",
       "  0.0        0.0         0.0       0.0       0.0  0.0\n",
       "  0.326194   0.0         0.0       0.0       0.0  0.0\n",
       " -0.419392   0.593872    0.0       0.0       0.0  0.0\n",
       "  0.372793   0.0850364   0.104828  0.0       0.0  0.0\n",
       "  0.139797  -0.310585   -0.428859  0.793906  0.0  0.0)"
      ]
     },
     "execution_count": 17,
     "metadata": {},
     "output_type": "execute_result"
    }
   ],
   "source": [
    "T,H=myTridiag(map(Float64,A))"
   ]
  },
  {
   "cell_type": "code",
   "execution_count": 18,
   "metadata": {
    "collapsed": false
   },
   "outputs": [
    {
     "data": {
      "text/plain": [
       "([-20.495313272530876,-14.423840475157226,-5.106686937787903,3.2066810766049962,10.440644533549165,19.37851507532184],[-20.495313272530872,-14.423840475157222,-5.106686937787905,3.2066810766049962,10.440644533549165,19.378515075321836])"
      ]
     },
     "execution_count": 18,
     "metadata": {},
     "output_type": "execute_result"
    }
   ],
   "source": [
    "eigvals(A), eigvals(T)"
   ]
  },
  {
   "cell_type": "code",
   "execution_count": 19,
   "metadata": {
    "collapsed": false
   },
   "outputs": [
    {
     "data": {
      "text/plain": [
       "myTridiagX (generic function with 1 method)"
      ]
     },
     "execution_count": 19,
     "metadata": {},
     "output_type": "execute_result"
    }
   ],
   "source": [
    "# Extract X\n",
    "function myTridiagX{T}(H::Array{T})\n",
    "    n,m=size(H)\n",
    "    X = eye(T,n)\n",
    "    v=Array(T,n)\n",
    "    for j = n-2 : -1 : 1\n",
    "        v[j+1] = one(T)\n",
    "        v[j+2:n] = H[j+2:n, j]\n",
    "        γ = -2 / (v[j+1:n]⋅v[j+1:n])\n",
    "        w = γ * X[j+1:n, j+1:n]'*v[j+1:n]\n",
    "        X[j+1:n, j+1:n] = X[j+1:n, j+1:n] + v[j+1:n]*w'\n",
    "    end\n",
    "    X\n",
    "end"
   ]
  },
  {
   "cell_type": "code",
   "execution_count": 20,
   "metadata": {
    "collapsed": false
   },
   "outputs": [
    {
     "data": {
      "text/plain": [
       "6x6 Array{Float64,2}:\n",
       " 1.0   0.0        0.0        0.0         0.0        0.0      \n",
       " 0.0  -0.388108  -0.328103  -0.520291   -0.121776   0.675417 \n",
       " 0.0  -0.452792  -0.480295   0.706421    0.237732   0.0935362\n",
       " 0.0   0.582162  -0.677942   0.0647512  -0.443475  -0.0248869\n",
       " 0.0  -0.517477  -0.239093  -0.294915   -0.317696  -0.697959 \n",
       " 0.0  -0.194054   0.380649   0.37296    -0.794389   0.217478 "
      ]
     },
     "execution_count": 20,
     "metadata": {},
     "output_type": "execute_result"
    }
   ],
   "source": [
    "X=myTridiagX(H)"
   ]
  },
  {
   "cell_type": "code",
   "execution_count": 21,
   "metadata": {
    "collapsed": false
   },
   "outputs": [
    {
     "data": {
      "text/plain": [
       "6x6 Array{Float64,2}:\n",
       " 1.0   0.0           0.0           0.0           0.0           0.0        \n",
       " 0.0   1.0          -4.16334e-17   6.93889e-17  -2.77556e-17   4.16334e-17\n",
       " 0.0  -4.16334e-17   1.0           1.94289e-16   1.66533e-16  -2.77556e-17\n",
       " 0.0   6.93889e-17   1.94289e-16   1.0          -1.11022e-16  -4.16334e-17\n",
       " 0.0  -2.77556e-17   1.66533e-16  -1.11022e-16   1.0           0.0        \n",
       " 0.0   4.16334e-17  -2.77556e-17  -4.16334e-17   0.0           1.0        "
      ]
     },
     "execution_count": 21,
     "metadata": {},
     "output_type": "execute_result"
    }
   ],
   "source": [
    "# Fact 7: norm(ΔX)<ϕ*eps()\n",
    "X'*X"
   ]
  },
  {
   "cell_type": "code",
   "execution_count": 22,
   "metadata": {
    "collapsed": false
   },
   "outputs": [
    {
     "data": {
      "text/plain": [
       "6x6 Array{Float64,2}:\n",
       "   6.0          -15.4596        -4.44089e-16  …    4.44089e-16  -6.66134e-16\n",
       " -15.4596        -0.912134      -6.41264           0.0           6.10623e-16\n",
       "  -4.44089e-16   -6.41264       -3.46285           2.22045e-15  -2.66454e-15\n",
       "  -4.44089e-16    7.77156e-16  -10.3522          -10.4707        1.44329e-15\n",
       "   4.44089e-16    4.44089e-16    1.9984e-15       -8.74382       2.63392    \n",
       "  -6.66134e-16    8.32667e-16   -1.11022e-15  …    2.63392       2.88653    "
      ]
     },
     "execution_count": 22,
     "metadata": {},
     "output_type": "execute_result"
    }
   ],
   "source": [
    "X'*A*X"
   ]
  },
  {
   "cell_type": "code",
   "execution_count": 23,
   "metadata": {
    "collapsed": false
   },
   "outputs": [
    {
     "data": {
      "text/plain": [
       "myTridiagG (generic function with 1 method)"
      ]
     },
     "execution_count": 23,
     "metadata": {},
     "output_type": "execute_result"
    }
   ],
   "source": [
    "# Tridiagonalization using Givens rotations\n",
    "function myTridiagG{T}(A::Array{T})\n",
    "    n,m=size(A)\n",
    "    X=eye(T,n)\n",
    "    for j = 1 : n-2\n",
    "        for i = j+2 : n\n",
    "            G,r=givens(A,j+1,i,j)\n",
    "            A=(G*A)*G'\n",
    "            X*=G'\n",
    "        end\n",
    "    end\n",
    "    SymTridiagonal(diag(A),diag(A,1)), X\n",
    "end"
   ]
  },
  {
   "cell_type": "code",
   "execution_count": 24,
   "metadata": {
    "collapsed": false
   },
   "outputs": [
    {
     "data": {
      "text/html": [
       "3 methods for generic function <b>givens</b>:<ul><li> givens<i>{T}</i>(A::<b>AbstractArray{T,2}</b>, i1::<b>Integer</b>, i2::<b>Integer</b>, col::<b>Integer</b>) at <a href=\"https://github.com/JuliaLang/julia/tree/2ac304dfba75fad148d4070ef4f8a2e400c305bb/base/linalg/givens.jl#L257\" target=\"_blank\">linalg/givens.jl:257</a><li> givens<i>{T}</i>(f::<b>T</b>, g::<b>T</b>, i1::<b>Integer</b>, i2::<b>Integer</b>) at <a href=\"https://github.com/JuliaLang/julia/tree/2ac304dfba75fad148d4070ef4f8a2e400c305bb/base/linalg/givens.jl#L237\" target=\"_blank\">linalg/givens.jl:237</a><li> givens<i>{T}</i>(f::<b>T</b>, g::<b>T</b>, i1::<b>Integer</b>, i2::<b>Integer</b>, cols::<b>Integer</b>) at <a href=\"https://github.com/JuliaLang/julia/tree/2ac304dfba75fad148d4070ef4f8a2e400c305bb/base/deprecated.jl#L49\" target=\"_blank\">deprecated.jl:49</a></ul>"
      ],
      "text/plain": [
       "# 3 methods for generic function \"givens\":\n",
       "givens{T}(A::AbstractArray{T,2}, i1::Integer, i2::Integer, col::Integer) at linalg/givens.jl:257\n",
       "givens{T}(f::T, g::T, i1::Integer, i2::Integer) at linalg/givens.jl:237\n",
       "givens{T}(f::T, g::T, i1::Integer, i2::Integer, cols::Integer) at deprecated.jl:49"
      ]
     },
     "execution_count": 24,
     "metadata": {},
     "output_type": "execute_result"
    }
   ],
   "source": [
    "methods(givens)"
   ]
  },
  {
   "cell_type": "code",
   "execution_count": 25,
   "metadata": {
    "collapsed": false
   },
   "outputs": [
    {
     "data": {
      "text/plain": [
       "(\n",
       "6x6 SymTridiagonal{Float64}:\n",
       "  6.0     15.4596      0.0        0.0       0.0       0.0    \n",
       " 15.4596  -0.912134    6.41264    0.0       0.0       0.0    \n",
       "  0.0      6.41264    -3.46285  -10.3522    0.0       0.0    \n",
       "  0.0      0.0       -10.3522    -2.76773  10.4707    0.0    \n",
       "  0.0      0.0         0.0       10.4707   -8.74382  -2.63392\n",
       "  0.0      0.0         0.0        0.0      -2.63392   2.88653,\n",
       "\n",
       "6x6 Array{Float64,2}:\n",
       " 1.0   0.0        0.0        0.0         0.0        0.0      \n",
       " 0.0   0.388108  -0.328103  -0.520291    0.121776   0.675417 \n",
       " 0.0   0.452792  -0.480295   0.706421   -0.237732   0.0935362\n",
       " 0.0  -0.582162  -0.677942   0.0647512   0.443475  -0.0248869\n",
       " 0.0   0.517477  -0.239093  -0.294915    0.317696  -0.697959 \n",
       " 0.0   0.194054   0.380649   0.37296     0.794389   0.217478 )"
      ]
     },
     "execution_count": 25,
     "metadata": {},
     "output_type": "execute_result"
    }
   ],
   "source": [
    "Tg,Xg=myTridiagG(map(Float64,A))"
   ]
  },
  {
   "cell_type": "code",
   "execution_count": 26,
   "metadata": {
    "collapsed": false
   },
   "outputs": [
    {
     "data": {
      "text/plain": [
       "6x6 SymTridiagonal{Float64}:\n",
       "   6.0     -15.4596      0.0        0.0        0.0      0.0    \n",
       " -15.4596   -0.912134   -6.41264    0.0        0.0      0.0    \n",
       "   0.0      -6.41264    -3.46285  -10.3522     0.0      0.0    \n",
       "   0.0       0.0       -10.3522    -2.76773  -10.4707   0.0    \n",
       "   0.0       0.0         0.0      -10.4707    -8.74382  2.63392\n",
       "   0.0       0.0         0.0        0.0        2.63392  2.88653"
      ]
     },
     "execution_count": 26,
     "metadata": {},
     "output_type": "execute_result"
    }
   ],
   "source": [
    "T"
   ]
  },
  {
   "cell_type": "code",
   "execution_count": 27,
   "metadata": {
    "collapsed": false
   },
   "outputs": [
    {
     "data": {
      "text/plain": [
       "6x6 Array{Float64,2}:\n",
       " 1.0   0.0           0.0           0.0          0.0           0.0        \n",
       " 0.0   1.0          -5.55112e-17   2.77556e-17  2.77556e-17  -2.77556e-17\n",
       " 0.0  -5.55112e-17   1.0          -5.55112e-17  5.55112e-17   2.77556e-17\n",
       " 0.0   2.77556e-17  -5.55112e-17   1.0          1.11022e-16   1.11022e-16\n",
       " 0.0   2.77556e-17   5.55112e-17   1.11022e-16  1.0           8.32667e-17\n",
       " 0.0  -2.77556e-17   2.77556e-17   1.11022e-16  8.32667e-17   1.0        "
      ]
     },
     "execution_count": 27,
     "metadata": {},
     "output_type": "execute_result"
    }
   ],
   "source": [
    "Xg'*Xg"
   ]
  },
  {
   "cell_type": "code",
   "execution_count": 28,
   "metadata": {
    "collapsed": false
   },
   "outputs": [
    {
     "data": {
      "text/plain": [
       "6x6 Array{Float64,2}:\n",
       "  6.0          15.4596         0.0          …  -8.88178e-16   1.22125e-15\n",
       " 15.4596       -0.912134       6.41264         -6.66134e-16  -9.99201e-16\n",
       "  0.0           6.41264       -3.46285          4.44089e-16   5.55112e-16\n",
       "  4.44089e-16   1.22125e-15  -10.3522          10.4707        1.66533e-15\n",
       " -8.88178e-16  -1.11022e-15    1.11022e-15     -8.74382      -2.63392    \n",
       "  1.22125e-15  -3.88578e-16    4.44089e-16  …  -2.63392       2.88653    "
      ]
     },
     "execution_count": 28,
     "metadata": {},
     "output_type": "execute_result"
    }
   ],
   "source": [
    "Xg'*A*Xg"
   ]
  },
  {
   "cell_type": "markdown",
   "metadata": {},
   "source": [
    "## Tridiagonal QR method\n",
    "\n",
    "Let $T$ be a real symmetric tridiagonal matrix of order $n$ and $T=Q\\Lambda Q^T$ be its EVD.\n",
    "\n",
    "Each step of the shifted QR iterations can be elegantly implemented without explicitly computing the \n",
    "shifted matrix  $T-\\mu I$.\n",
    "\n",
    "\n",
    "### Definition\n",
    "\n",
    "__Wilkinson's shift__ $\\mu$ is the eigenvalue of the bottom right $2\\times 2$ submatrix of $T$, which\n",
    "  is closer to $T_{n,n}$. \n",
    "\n",
    "\n",
    "### Facts\n",
    "\n",
    "1. The stable formula for the Wilkinson's shift is\n",
    "$$\n",
    "\\mu=T_{n,n}-\n",
    "\\frac{T_{n,n-1}^2}{\\tau+\\mathop{\\mathrm{sign}}(\\tau)\\sqrt{\\tau^2+T_{n,n-1}^2}},\\qquad\n",
    "\\tau=\\frac{T_{n-1,n-1}-T_{n,n}}{2}.\n",
    "$$\n",
    "\n",
    "2. Wilkinson's shift is the most commonly used shift. \n",
    "  With Wilkinson's shift, the algorithm always converges in\n",
    "  the sense that $T_{n-1,n}\\to 0$. The convergence is quadratic, that\n",
    "  is, $|[T_{k+1}]_{n-1,n}|\\leq c |[T_{k}]_{n-1,n}|^2$ for some\n",
    "  constant $c$, where $T_k$ is the matrix after the $k$-th sweep. \n",
    "  Even more, the convergence is usually cubic. However,\n",
    "  it can also happen that some $T_{i,i+i}$, $i\\neq n-1$, becomes\n",
    "  sufficiently small before $T_{n-1,n}$, so the practical program has to check\n",
    "  for deflation at each step.\n",
    "\n",
    "3. _(Chasing the Bulge)_ The plane rotation parameters at the start of the sweep are computed \n",
    "as if the shifted $T-\\mu I$ has been formed. Since the rotation is\n",
    "applied to the original $T$ and not to $T-\\mu I$, \n",
    "this creates new nonzero elements at the positions $(3,1)$ and\n",
    "$(1, 3)$, the so-called __bulge__.  The subsequent rotations simply\n",
    "chase the bulge out of the lower right corner of the matrix. The\n",
    "rotation in the $(2,3)$ plane sets the elements $(3,1)$ and $(1,3)$\n",
    "back to zero, but it generates two new nonzero elements at positions\n",
    "$(4,2)$ and $(2,4)$; the rotation in the $(3,4)$ plane sets the\n",
    "\\hbox{elements} $(4,2)$ and $(2,4)$ back to zero, but it generates two new\n",
    "nonzero elements at positions $(5,3)$ and $(3,5)$, etc.\n",
    "\n",
    "4. The effect of this procedure is the following. At the end of the first sweep, the\n",
    "resulting matrix $T_1$ is equal to the the matrix\n",
    "that would have been obtained by factorizing $T-\\mu I=QR$\n",
    "and computing $T_1=RQ+\\mu I$.\n",
    "\n",
    "5. Since the convergence of the function `myTridEigQR()` is quadratic (or even cubic), \n",
    "  an eigenvalue is isolated after just a few steps, which requires\n",
    "  $O(n)$ operations. This means that $O(n^2)$ operations are needed to\n",
    "  compute all eigenvalues. \n",
    "\n",
    "6. If the eigenvector matrix $Q$ is desired, the plane rotations need to be\n",
    "accumulated similarly to the accumulation of $X$ in the function `myTridiagG()`.\n",
    "This accumulation requires $O(n^3)$ operations. Another, faster, algorithm to \n",
    "first compute only $\\Lambda$ and then compute $Q$ using inverse iterations. \n",
    "Inverse iteration on s tridiagonal matrix are implemented in the LAPACK routine \n",
    "[DSTEIN](http://www.netlib.org/lapack/explore-html/d8/d35/dstein_8f.html).\n",
    "\n",
    "7. __Error bounds__: Let $U\\Lambda U^T$ and $\\tilde U \\tilde \\Lambda \\tilde U^T$ be the\n",
    "exact and the computed EVDs of $A$, respectively, such that the diagonals of $\\Lambda$\n",
    "and $\\tilde \\Lambda$ are in the same order.\n",
    "Numerical methods generally compute the EVD with the errors bounded by\n",
    "$$\n",
    "|\\lambda_i-\\tilde \\lambda_i|\\leq \\phi \\epsilon\\|A\\|_2,\n",
    "\\qquad\n",
    "\\|u_i-\\tilde u_i\\|_2\\leq \\psi\\epsilon \\frac{\\|A\\|_2}\n",
    "{\\min_{j\\neq i} \n",
    "|\\lambda_i-\\tilde \\lambda_j|},\n",
    "$$\n",
    "where $\\epsilon$ is machine precision and $\\phi$ and $\\psi$\n",
    "are slowly growing polynomial functions of\n",
    "$n$ which depend upon the algorithm used (typically $O(n)$ or $O(n^2)$).\n",
    "Such bounds are obtained by combining perturbation bounds with the floating-point error analysis of the respective\n",
    "algorithms.\n",
    "\n",
    "8. The eigenvalue decomposition $T=Q\\Lambda Q^T$ computed by `myTridEigQR()` satisfies the\n",
    "error bounds from fact 7. with $A$ replaced by $T$ and $U$ replaced by $Q$. The deflation criterion \n",
    "implies $|T_{i,i+1}|\\leq \\epsilon \\|T\\|_F$, which is within these\n",
    "bounds.\n",
    "   \n",
    "9. The EVD computed by function `myEigQR()` satisfies the error bounds given in Fact 7. \n",
    "However, the algorithm tends to perform better on matrices, which are\n",
    "graded downwards, that is, on matrices that exhibit systematic decrease\n",
    "in the size of the matrix elements as we move along the diagonal.  \n",
    "For such matrices the tiny eigenvalues can usually be computed with higher\n",
    "relative accuracy (although counterexamples can be easily constructed).\n",
    "If the tiny eigenvalues are of interest, it should be checked whether\n",
    "there exists a symmetric permutation that moves larger elements to the\n",
    "upper left corner, thus converting the given matrix to the\n",
    "one that is graded downwards.\n",
    "\n",
    "10. The function `myTridEigQR()` is implemented in the \n",
    "LAPACK subroutine [DSTEQR](http://www.netlib.org/lapack/explore-html/d9/d3f/dsteqr_8f.html). \n",
    "This routine can compute just the\n",
    "eigenvalues, or both eigenvalues and eigenvectors.\n",
    "\n",
    "11. The function `myEigQR()` is  Algorithm 5 is implemented in the functions `eig()`, `eigvals()` and `eigvecs()`, \n",
    "and in the  LAPACK routine [DSYEV](http://www.netlib.org/lapack/explore-html/dd/d4c/dsyev_8f.html).\n",
    "To compute only eigenvalues, DSYEV calls DSYTRD and DSTEQR\n",
    "without the eigenvector option. To compute both eigenvalues and eigenvectors,\n",
    "DSYEV calls DSYTRD, DORGTR, and DSTEQR with the eigenvector\n",
    "option.\n",
    "\n",
    "### Examples"
   ]
  },
  {
   "cell_type": "code",
   "execution_count": 29,
   "metadata": {
    "collapsed": false
   },
   "outputs": [
    {
     "data": {
      "text/plain": [
       "myTridEigQR (generic function with 1 method)"
      ]
     },
     "execution_count": 29,
     "metadata": {},
     "output_type": "execute_result"
    }
   ],
   "source": [
    "function myTridEigQR{T}(A1::SymTridiagonal{T})\n",
    "    A=deepcopy(A1)\n",
    "    n=length(A.dv)\n",
    "    λ=Array(T,n)\n",
    "    Temp=Array{T}\n",
    "    if n==1\n",
    "        return map(T,A.dv)\n",
    "    end\n",
    "    if n==2\n",
    "        τ=(A.dv[end-1]-A.dv[end])/2\n",
    "        μ=A.dv[end]-A.ev[end]^2/(τ+sign(τ)*sqrt(τ^2+A.ev[end]^2))\n",
    "        # Only rotation\n",
    "        Temp=A[1:2,1:2]\n",
    "        G,r=givens(Temp-μ*I,1,2,1)\n",
    "        Temp=(G*Temp)*G'\n",
    "        return diag(Temp)[1:2]\n",
    "    end\n",
    "    steps=1\n",
    "    k=0\n",
    "    while k==0 && steps<=10\n",
    "        # Shift\n",
    "        τ=(A.dv[end-1]-A.dv[end])/2\n",
    "        μ=A.dv[end]-A.ev[end]^2/(τ+sign(τ)*sqrt(τ^2+A.ev[end]^2))\n",
    "        # First rotation\n",
    "        Temp=A[1:3,1:3]\n",
    "        G,r=givens(Temp-μ*I,1,2,1)\n",
    "        Temp=(G*Temp)*G'\n",
    "        A.dv[1:2]=diag(Temp)[1:2]\n",
    "        A.ev[1:2]=diag(Temp,-1)\n",
    "        bulge=Temp[3,1]\n",
    "        # Bulge chasing\n",
    "        for i = 2 : n-2\n",
    "            Temp=A[i-1:i+2,i-1:i+2]\n",
    "            Temp[3,1]=bulge\n",
    "            Temp[1,3]=bulge\n",
    "            G,r=givens(Temp,2,3,1)\n",
    "            Temp=(G*Temp)*G'\n",
    "            A.dv[i:i+1]=diag(Temp)[2:3]\n",
    "            A.ev[i-1:i+1]=diag(Temp,-1)\n",
    "            bulge=Temp[4,2]\n",
    "        end\n",
    "        # Last rotation\n",
    "        Temp=A[n-2:n,n-2:n]\n",
    "        Temp[3,1]=bulge\n",
    "        Temp[1,3]=bulge\n",
    "        G,r=givens(Temp,2,3,1)\n",
    "        Temp=(G*Temp)*G'\n",
    "        A.dv[n-1:n]=diag(Temp)[2:3]\n",
    "        A.ev[n-2:n-1]=diag(Temp,-1)\n",
    "        steps+=1\n",
    "        # Deflation criterion\n",
    "        k=findfirst(abs(A.ev) .< sqrt(abs(A.dv[1:n-1].*A.dv[2:n]))*eps(T))\n",
    "    end\n",
    "    λ[1:k]=myTridEigQR(SymTridiagonal(A.dv[1:k],A.ev[1:k-1]))\n",
    "    λ[k+1:n]=myTridEigQR(SymTridiagonal(A.dv[k+1:n],A.ev[k+1:n-1]))\n",
    "    λ\n",
    "end"
   ]
  },
  {
   "cell_type": "code",
   "execution_count": 30,
   "metadata": {
    "collapsed": false
   },
   "outputs": [
    {
     "name": "stdout",
     "output_type": "stream",
     "text": [
      "search: findfirst\n",
      "\n"
     ]
    },
    {
     "data": {
      "text/latex": [
       "\\begin{verbatim}\n",
       "findfirst(A,v)\n",
       "\\end{verbatim}\n",
       "Return the index of the first element equal to \\texttt{v} in \\texttt{A}.\n",
       "\\begin{verbatim}\n",
       "findfirst(A)\n",
       "\\end{verbatim}\n",
       "Return the index of the first non-zero value in \\texttt{A} (determined by \\texttt{A[i]!=0}).\n",
       "\\begin{verbatim}\n",
       "findfirst(predicate, A)\n",
       "\\end{verbatim}\n",
       "Return the index of the first element of \\texttt{A} for which \\texttt{predicate} returns \\texttt{true}.\n"
      ],
      "text/markdown": [
       "```\n",
       "findfirst(A,v)\n",
       "```\n",
       "\n",
       "Return the index of the first element equal to `v` in `A`.\n",
       "\n",
       "```\n",
       "findfirst(A)\n",
       "```\n",
       "\n",
       "Return the index of the first non-zero value in `A` (determined by `A[i]!=0`).\n",
       "\n",
       "```\n",
       "findfirst(predicate, A)\n",
       "```\n",
       "\n",
       "Return the index of the first element of `A` for which `predicate` returns `true`.\n"
      ],
      "text/plain": [
       "```\n",
       "findfirst(A,v)\n",
       "```\n",
       "\n",
       "Return the index of the first element equal to `v` in `A`.\n",
       "\n",
       "```\n",
       "findfirst(A)\n",
       "```\n",
       "\n",
       "Return the index of the first non-zero value in `A` (determined by `A[i]!=0`).\n",
       "\n",
       "```\n",
       "findfirst(predicate, A)\n",
       "```\n",
       "\n",
       "Return the index of the first element of `A` for which `predicate` returns `true`.\n"
      ]
     },
     "execution_count": 30,
     "metadata": {},
     "output_type": "execute_result"
    }
   ],
   "source": [
    "?findfirst"
   ]
  },
  {
   "cell_type": "code",
   "execution_count": 31,
   "metadata": {
    "collapsed": false
   },
   "outputs": [
    {
     "data": {
      "text/plain": [
       "6-element Array{Float64,1}:\n",
       " -20.4953 \n",
       " -14.4238 \n",
       "  -5.10669\n",
       "   3.20668\n",
       "  10.4406 \n",
       "  19.3785 "
      ]
     },
     "execution_count": 31,
     "metadata": {},
     "output_type": "execute_result"
    }
   ],
   "source": [
    "λ=eigvals(T)"
   ]
  },
  {
   "cell_type": "code",
   "execution_count": 32,
   "metadata": {
    "collapsed": false
   },
   "outputs": [
    {
     "data": {
      "text/plain": [
       "6-element Array{Float64,1}:\n",
       "  19.3785 \n",
       " -20.4953 \n",
       " -14.4238 \n",
       "  -5.10669\n",
       "  10.4406 \n",
       "   3.20668"
      ]
     },
     "execution_count": 32,
     "metadata": {},
     "output_type": "execute_result"
    }
   ],
   "source": [
    "λ1=myTridEigQR(T)"
   ]
  },
  {
   "cell_type": "code",
   "execution_count": 33,
   "metadata": {
    "collapsed": false
   },
   "outputs": [
    {
     "data": {
      "text/plain": [
       "6-element Array{Float64,1}:\n",
       "  1.73343e-16\n",
       " -3.69463e-16\n",
       " -6.95698e-16\n",
       " -5.53955e-16\n",
       "  0.0        \n",
       " -9.16663e-16"
      ]
     },
     "execution_count": 33,
     "metadata": {},
     "output_type": "execute_result"
    }
   ],
   "source": [
    "(sort(λ)-sort(λ1))./sort(λ)"
   ]
  },
  {
   "cell_type": "markdown",
   "metadata": {},
   "source": [
    "###  Computing the eigenvectors \n",
    "\n",
    "Once the eigenvalues are computed, the eigeenvectors can be efficiently computed with inverse iterations. \n",
    "Inverse iterations for tridiagonal matrices are implemented in the LAPACK routine \n",
    "[DSTEIN](http://www.netlib.org/lapack/explore-html/d8/d35/dstein_8f.html)."
   ]
  },
  {
   "cell_type": "code",
   "execution_count": 34,
   "metadata": {
    "collapsed": false
   },
   "outputs": [
    {
     "data": {
      "text/plain": [
       "6x6 Array{Float64,2}:\n",
       "  0.167583    0.513938   -0.328833   0.0719933   0.258877    0.726259  \n",
       "  0.28721     0.678967   -0.236244   0.0130081  -0.0743602  -0.628493  \n",
       "  0.473084    0.19161     0.638223  -0.181917   -0.492456    0.237787  \n",
       "  0.60045    -0.217706    0.247684   0.109144    0.707451   -0.13534   \n",
       "  0.548867   -0.431793   -0.575672   0.117582   -0.405535    0.0511561 \n",
       " -0.0618287   0.0657008   0.189695   0.967376   -0.141399    0.00817008"
      ]
     },
     "execution_count": 34,
     "metadata": {},
     "output_type": "execute_result"
    }
   ],
   "source": [
    "U=LAPACK.stein!(T.dv,T.ev,λ)"
   ]
  },
  {
   "cell_type": "code",
   "execution_count": 35,
   "metadata": {
    "collapsed": false
   },
   "outputs": [
    {
     "data": {
      "text/plain": [
       "6x6 Array{Float64,2}:\n",
       "  1.0           1.25767e-16   4.68375e-17  …   5.20417e-18  -7.66531e-17\n",
       "  1.25767e-16   1.0          -1.61329e-16      1.56125e-17  -6.59195e-17\n",
       "  4.68375e-17  -1.61329e-16   1.0             -3.46945e-17   5.42101e-17\n",
       " -1.38778e-17   0.0           0.0              2.77556e-17  -1.38778e-17\n",
       "  5.20417e-18   1.56125e-17  -3.46945e-17      1.0           2.19009e-17\n",
       " -7.66531e-17  -6.59195e-17   5.42101e-17  …   2.19009e-17   1.0        "
      ]
     },
     "execution_count": 35,
     "metadata": {},
     "output_type": "execute_result"
    }
   ],
   "source": [
    "# Orthogonality\n",
    "U'*U"
   ]
  },
  {
   "cell_type": "code",
   "execution_count": 36,
   "metadata": {
    "collapsed": false
   },
   "outputs": [
    {
     "data": {
      "text/plain": [
       "6x6 Array{Float64,2}:\n",
       "  0.0          8.88178e-16   8.88178e-16  …  -8.88178e-16   7.10543e-15\n",
       "  1.77636e-15  1.77636e-15   0.0              1.11022e-16   0.0        \n",
       "  1.77636e-15  0.0           0.0              8.88178e-16   2.66454e-15\n",
       "  3.55271e-15  0.0           0.0             -1.77636e-15  -4.44089e-16\n",
       "  0.0          0.0          -4.44089e-16      8.88178e-16   3.33067e-16\n",
       " -4.44089e-16  1.11022e-16  -1.11022e-16  …   2.22045e-16   5.55112e-17"
      ]
     },
     "execution_count": 36,
     "metadata": {},
     "output_type": "execute_result"
    }
   ],
   "source": [
    "# Residual\n",
    "T*U-U*diagm(λ)"
   ]
  },
  {
   "cell_type": "code",
   "execution_count": 37,
   "metadata": {
    "collapsed": false
   },
   "outputs": [
    {
     "name": "stdout",
     "output_type": "stream",
     "text": [
      "  0.413223 seconds (4.01 M allocations: 257.388 MB, 9.86% gc time)\n",
      "  0.004167 seconds (13 allocations: 13.156 KB)\n",
      "  0.014493 seconds (31 allocations: 1.266 MB)\n"
     ]
    }
   ],
   "source": [
    "# Some timings - n=100, 200, 400 myTridEigQR() is 200x slower!?\n",
    "n=400\n",
    "Tbig=SymTridiagonal(rand(n),rand(n-1))\n",
    "@time myTridEigQR(Tbig);\n",
    "@time λbig=eigvals(Tbig);\n",
    "@time LAPACK.stein!(Tbig.dv,Tbig.ev,λbig);"
   ]
  },
  {
   "cell_type": "code",
   "execution_count": 38,
   "metadata": {
    "collapsed": false
   },
   "outputs": [
    {
     "name": "stdout",
     "output_type": "stream",
     "text": [
      "  0.143462 seconds (14 allocations: 63.109 KB)\n",
      "  0.410030 seconds (38 allocations: 30.722 MB, 0.66% gc time)\n",
      "  0.705899 seconds (221.61 k allocations: 72.390 MB, 0.65% gc time)\n"
     ]
    }
   ],
   "source": [
    "n=2000\n",
    "Tbig=SymTridiagonal(rand(n),rand(n-1))\n",
    "@time λbig=eigvals(Tbig);\n",
    "@time U=LAPACK.stein!(Tbig.dv,Tbig.ev,λbig);\n",
    "@time eig(Tbig);"
   ]
  },
  {
   "cell_type": "code",
   "execution_count": 39,
   "metadata": {
    "collapsed": false
   },
   "outputs": [
    {
     "data": {
      "text/html": [
       "eigvals<i>{T}</i>(A::<b>SymTridiagonal{T}</b>) at <a href=\"https://github.com/JuliaLang/julia/tree/2ac304dfba75fad148d4070ef4f8a2e400c305bb/base/linalg/tridiag.jl#L129\" target=\"_blank\">linalg/tridiag.jl:129</a>"
      ],
      "text/plain": [
       "eigvals{T}(A::SymTridiagonal{T}) at linalg/tridiag.jl:129"
      ]
     },
     "execution_count": 39,
     "metadata": {},
     "output_type": "execute_result"
    }
   ],
   "source": [
    "@which eigvals(Tbig)"
   ]
  },
  {
   "cell_type": "markdown",
   "metadata": {},
   "source": [
    "Alternatively, the rotations in `myTridEigQR()` can be accumulated to compute the eignevctors. This is not optimal, but is instructive. We make use of Julia's multiple dispatch feature."
   ]
  },
  {
   "cell_type": "code",
   "execution_count": 40,
   "metadata": {
    "collapsed": false
   },
   "outputs": [
    {
     "data": {
      "text/plain": [
       "myTridEigQR (generic function with 2 methods)"
      ]
     },
     "execution_count": 40,
     "metadata": {},
     "output_type": "execute_result"
    }
   ],
   "source": [
    "function myTridEigQR{T}(A1::SymTridiagonal{T},U::Array{T})\n",
    "    # U is either the identity matrix or the output from myTridiagX()\n",
    "    A=deepcopy(A1)\n",
    "    n=length(A.dv)\n",
    "    λ=Array(T,n)\n",
    "    Temp=Array{T}\n",
    "    if n==1\n",
    "        return map(T,A.dv), U\n",
    "    end\n",
    "    if n==2\n",
    "        τ=(A.dv[end-1]-A.dv[end])/2\n",
    "        μ=A.dv[end]-A.ev[end]^2/(τ+sign(τ)*sqrt(τ^2+A.ev[end]^2))\n",
    "        # Only rotation\n",
    "        Temp=A[1:2,1:2]\n",
    "        G,r=givens(Temp-μ*I,1,2,1)\n",
    "        Temp=(G*Temp)*G'\n",
    "        U*=G'\n",
    "        return diag(Temp)[1:2], U\n",
    "    end\n",
    "    steps=1\n",
    "    k=0\n",
    "    while k==0 && steps<=10\n",
    "        # Shift\n",
    "        τ=(A.dv[end-1]-A.dv[end])/2\n",
    "        μ=A.dv[end]-A.ev[end]^2/(τ+sign(τ)*sqrt(τ^2+A.ev[end]^2))\n",
    "        # First rotation\n",
    "        Temp=A[1:3,1:3]\n",
    "        G,r=givens(Temp-μ*I,1,2,1)\n",
    "        Temp=(G*Temp)*G'\n",
    "        U[:,1:3]*=G'\n",
    "        A.dv[1:2]=diag(Temp)[1:2]\n",
    "        A.ev[1:2]=diag(Temp,-1)\n",
    "        bulge=Temp[3,1]\n",
    "        # Bulge chasing\n",
    "        for i = 2 : n-2\n",
    "            Temp=A[i-1:i+2,i-1:i+2]\n",
    "            Temp[3,1]=bulge\n",
    "            Temp[1,3]=bulge\n",
    "            G,r=givens(Temp,2,3,1)\n",
    "            Temp=(G*Temp)*G'\n",
    "            U[:,i-1:i+2]=U[:,i-1:i+2]*G'\n",
    "            A.dv[i:i+1]=diag(Temp)[2:3]\n",
    "            A.ev[i-1:i+1]=diag(Temp,-1)\n",
    "            bulge=Temp[4,2]\n",
    "        end\n",
    "        # Last rotation\n",
    "        Temp=A[n-2:n,n-2:n]\n",
    "        Temp[3,1]=bulge\n",
    "        Temp[1,3]=bulge\n",
    "        G,r=givens(Temp,2,3,1)\n",
    "        Temp=(G*Temp)*G'\n",
    "        U[:,n-2:n]*=G'\n",
    "        A.dv[n-1:n]=diag(Temp)[2:3]\n",
    "        A.ev[n-2:n-1]=diag(Temp,-1)\n",
    "        steps+=1\n",
    "        # Deflation criterion\n",
    "        k=findfirst(abs(A.ev) .< sqrt(abs(A.dv[1:n-1].*A.dv[2:n]))*eps(T))\n",
    "    end\n",
    "    λ[1:k], U[:,1:k]=myTridEigQR(SymTridiagonal(A.dv[1:k],A.ev[1:k-1]),U[:,1:k])\n",
    "    λ[k+1:n], U[:,k+1:n]=myTridEigQR(SymTridiagonal(A.dv[k+1:n],A.ev[k+1:n-1]),U[:,k+1:n])\n",
    "    λ, U\n",
    "end"
   ]
  },
  {
   "cell_type": "code",
   "execution_count": 41,
   "metadata": {
    "collapsed": false
   },
   "outputs": [
    {
     "data": {
      "text/plain": [
       "([19.378515075321854,-20.49531327253087,-14.423840475157228,-5.1066869377879085,10.440644533549165,3.206681076604998],\n",
       "6x6 Array{Float64,2}:\n",
       " -0.726259     0.167583   -0.513938    0.328833   0.258877    0.0719933\n",
       "  0.628493     0.28721    -0.678967    0.236244  -0.0743602   0.0130081\n",
       " -0.237787     0.473084   -0.19161    -0.638223  -0.492456   -0.181917 \n",
       "  0.13534      0.60045     0.217706   -0.247684   0.707451    0.109144 \n",
       " -0.0511561    0.548867    0.431793    0.575672  -0.405535    0.117582 \n",
       " -0.00817008  -0.0618287  -0.0657008  -0.189695  -0.141399    0.967376 )"
      ]
     },
     "execution_count": 41,
     "metadata": {},
     "output_type": "execute_result"
    }
   ],
   "source": [
    "λ,U=myTridEigQR(T,eye(T))"
   ]
  },
  {
   "cell_type": "code",
   "execution_count": 42,
   "metadata": {
    "collapsed": false
   },
   "outputs": [
    {
     "data": {
      "text/plain": [
       "6x6 Array{Float64,2}:\n",
       "  1.0          2.24972e-16  -1.81821e-16  …  6.61363e-17  -6.93889e-18\n",
       "  2.24972e-16  1.0           2.62811e-16     1.21431e-17   1.38778e-17\n",
       " -1.81821e-16  2.62811e-16   1.0             6.59195e-17  -4.16334e-17\n",
       " -4.83554e-17  1.33574e-16   9.36751e-17     1.17961e-16  -2.77556e-17\n",
       "  6.61363e-17  1.21431e-17   6.59195e-17     1.0           2.77556e-17\n",
       " -6.93889e-18  1.38778e-17  -4.16334e-17  …  2.77556e-17   1.0        "
      ]
     },
     "execution_count": 42,
     "metadata": {},
     "output_type": "execute_result"
    }
   ],
   "source": [
    "# Orthogonality\n",
    "U'*U"
   ]
  },
  {
   "cell_type": "code",
   "execution_count": 43,
   "metadata": {
    "collapsed": false
   },
   "outputs": [
    {
     "data": {
      "text/plain": [
       "6x6 Array{Float64,2}:\n",
       " 19.3785        -6.93889e-16    7.01609e-15  …   9.99201e-16  -1.97758e-16\n",
       "  1.85615e-16  -20.4953         5.89806e-16      4.02456e-15   4.16334e-16\n",
       "  4.34548e-15   -5.55112e-16  -14.4238          -1.13798e-15   0.0        \n",
       "  1.54043e-15   -3.35842e-15   -2.88658e-15     -4.996e-16    -1.11022e-16\n",
       "  7.35523e-16    8.60423e-16   -1.4988e-15      10.4406        1.66533e-16\n",
       " -3.88578e-16    4.44089e-16    0.0          …   0.0           3.20668    "
      ]
     },
     "execution_count": 43,
     "metadata": {},
     "output_type": "execute_result"
    }
   ],
   "source": [
    "# EVD\n",
    "U'*(T*U)"
   ]
  },
  {
   "cell_type": "markdown",
   "metadata": {},
   "source": [
    "### Symmetric QR method\n",
    "\n",
    "Combining `myTridiag()`, `myTridiagX()` and `myTridEigQR()`, we get the method for computing symmetric EVD."
   ]
  },
  {
   "cell_type": "code",
   "execution_count": 44,
   "metadata": {
    "collapsed": false
   },
   "outputs": [
    {
     "data": {
      "text/plain": [
       "mySymEigQR (generic function with 1 method)"
      ]
     },
     "execution_count": 44,
     "metadata": {},
     "output_type": "execute_result"
    }
   ],
   "source": [
    "function mySymEigQR{T}(A::Array{T})\n",
    "    Tr,H=myTridiag(A)\n",
    "    X=myTridiagX(H)\n",
    "    # λ, U\n",
    "    myTridEigQR(Tr,X)\n",
    "end"
   ]
  },
  {
   "cell_type": "code",
   "execution_count": 45,
   "metadata": {
    "collapsed": false
   },
   "outputs": [
    {
     "data": {
      "text/plain": [
       "([19.378515075321854,-20.49531327253087,-14.423840475157228,-5.1066869377879085,10.440644533549165,3.206681076604998],\n",
       "6x6 Array{Float64,2}:\n",
       " -0.726259   0.167583  -0.513938   0.328833    0.258877   0.0719933\n",
       " -0.235609  -0.687697   0.116152   0.0483563  -0.223763   0.636916 \n",
       " -0.087688   0.191604   0.649758   0.143709    0.660318   0.277023 \n",
       "  0.558744  -0.356511  -0.441126   0.303597    0.519739   0.0617492\n",
       " -0.286337  -0.570036   0.241635   0.0528993   0.175112  -0.707969 \n",
       " -0.123137  -0.101172  -0.217284  -0.879721    0.38223    0.0859127)"
      ]
     },
     "execution_count": 45,
     "metadata": {},
     "output_type": "execute_result"
    }
   ],
   "source": [
    "λ,U=mySymEigQR(map(Float64,A))"
   ]
  },
  {
   "cell_type": "code",
   "execution_count": 46,
   "metadata": {
    "collapsed": false
   },
   "outputs": [
    {
     "data": {
      "text/plain": [
       "6x6 Array{Float64,2}:\n",
       "  1.0           5.89806e-17  -2.42861e-17  …   9.02056e-17   2.94903e-17\n",
       "  5.89806e-17   1.0           2.81025e-16     -1.249e-16    -1.42247e-16\n",
       " -2.42861e-17   2.81025e-16   1.0             -2.22045e-16  -4.51028e-17\n",
       " -1.38778e-17  -2.77556e-16  -8.32667e-17      1.11022e-16   0.0        \n",
       "  9.02056e-17  -1.249e-16    -2.22045e-16      1.0           4.16334e-17\n",
       "  2.94903e-17  -1.42247e-16  -4.51028e-17  …   4.16334e-17   1.0        "
      ]
     },
     "execution_count": 46,
     "metadata": {},
     "output_type": "execute_result"
    }
   ],
   "source": [
    "U'*U"
   ]
  },
  {
   "cell_type": "code",
   "execution_count": 47,
   "metadata": {
    "collapsed": false
   },
   "outputs": [
    {
     "data": {
      "text/plain": [
       "6x6 Array{Float64,2}:\n",
       " 19.3785         9.99201e-16    2.77556e-15  …   2.22045e-15   9.99201e-16\n",
       "  1.33227e-15  -20.4953        -3.4972e-15      -3.33067e-16   8.04912e-16\n",
       "  2.60902e-15   -3.83027e-15  -14.4238          -2.44249e-15   6.10623e-16\n",
       " -2.22045e-16    5.55112e-17   -3.66374e-15     -3.33067e-15  -4.44089e-16\n",
       "  1.94289e-15   -1.83187e-15   -2.55351e-15     10.4406        7.21645e-16\n",
       "  3.26128e-16    2.04003e-15    8.32667e-16  …   7.21645e-16   3.20668    "
      ]
     },
     "execution_count": 47,
     "metadata": {},
     "output_type": "execute_result"
    }
   ],
   "source": [
    "U'*A*U"
   ]
  },
  {
   "cell_type": "code",
   "execution_count": null,
   "metadata": {
    "collapsed": true
   },
   "outputs": [],
   "source": []
  }
 ],
 "metadata": {
  "kernelspec": {
   "display_name": "Julia 0.4.5",
   "language": "julia",
   "name": "julia-0.4"
  },
  "language_info": {
   "file_extension": ".jl",
   "mimetype": "application/julia",
   "name": "julia",
   "version": "0.4.5"
  }
 },
 "nbformat": 4,
 "nbformat_minor": 0
}
