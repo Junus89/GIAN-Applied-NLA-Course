{
 "cells": [
  {
   "cell_type": "markdown",
   "metadata": {},
   "source": [
    "# Eigenvalue Decomposition - Perturbation Theory\n",
    "\n",
    "---\n",
    "\n",
    "## Prerequisites\n",
    "\n",
    "The reader should be familiar with basic linear algebra concepts and facts about eigenvalue decomposition. \n",
    "\n",
    "## Competences \n",
    "\n",
    "The reader should be able to understand and check the facts about perturbations of eigenvalues and eigenvectors.\n",
    "\n",
    "---"
   ]
  },
  {
   "cell_type": "markdown",
   "metadata": {},
   "source": [
    "## Norms\n",
    "\n",
    "In order to measure changes, we need to define norms. For more details and the proofs of the Facts below, see \n",
    "[R. Byers and B. N. Datta, Vector and Matrix Norms, Error Analysis, Efficiency, and Stability][Hog14] and the references therein.\n",
    "\n",
    "[Hog14]: #1 \"L. Hogben, ed., 'Handbook of Linear Algebra', pp. 50.1-50.24, CRC Press, Boca Raton, 2014.\"\n",
    "\n",
    "### Definitions\n",
    "\n",
    "__Norm__ on a vector space $X$ is a real-valued function $\\| \\phantom{x} \\| : X\\to \\mathbb{R}$ with the following properties:\n",
    "\n",
    "1. $\\| x\\|\\geq 0$ and $\\|x\\|=0$ if and only if $x$ is the zero vector _(Positive definiteness)_\n",
    "2. $\\| \\lambda x\\|=|\\lambda| \\|x\\|$ _(Homogeneity)_\n",
    "3. $\\| x+y\\| \\leq \\|x\\|+\\|y\\|$ _(Triangle inequality)_\n",
    "\n",
    "Commonly encountered vector norms for $x\\in\\mathbb{C}^n$ are:\n",
    "\n",
    "* __H&ouml;lder norm__ or $p$-__norm__: for $p\\geq 1$, $\\|x\\|_p=\\big(|x_1|^p+|x_2|^p+\\cdots |x_n|^p)^{1/p}$,\n",
    "* __Sum norm__ or $1$-__norm__: $\\|x\\|_1=|x_1|+|x_2|+\\cdots |x_n|$,\n",
    "* __Euclidean norm__ or $2$-__norm__: $\\|x\\|_2=\\sqrt{|x_1|^2+|x_2|^2+\\cdots |x_n|^2}$,\n",
    "* __Sup-norm__ or $\\infty$-__norm__: $\\|x\\|_\\infty = \\max\\limits_{i=1,\\ldots,n} |x_i|$.\n",
    "\n",
    "Vector norm is __absolute__ if $\\||x|\\|=\\|x\\|$.\n",
    "\n",
    "Vector norm is __monotone__ if $|x|\\leq |y|$ implies $\\|x\\|\\leq \\|y\\|$. \n",
    "\n",
    "From every vector norm we can derive a corresponding __induced__ matrix norm (also, __operator norm__ or __natural norm__):\n",
    "\n",
    "$$\\|A\\| = \\max\\limits_{x\\neq 0} \\frac{\\|Ax\\|}{\\|x\\|}=\\max\\limits_{\\|x\\|=1} \\|Ax\\|.$$\n",
    "\n",
    "For matrix $A\\in\\mathbb{C}^{m\\times n}$ we define:\n",
    "\n",
    "* __Maximum absolute column sum norm__: $\\|A\\|_1=\\max\\limits_{1\\leq j \\leq n} \\sum_{i=1}^m |a_{ij}|$,\n",
    "* __ Spectral norm__: $\\|A\\|_2=\\sqrt{\\rho(A^*A)}=\\sigma_{\\max}(A)$  (largest singular value of $A$),\n",
    "* __Maximum absolute row sum norm__: $\\|A\\|_{\\infty}=\\max\\limits_{1\\leq i \\leq m} \\sum_{j=1}^n |a_{ij}|$,\n",
    "* __Euclidean norm__ or __Frobenius norm__: \n",
    "$\\|A\\|_F =\\sqrt{\\sum_{i,j} |a_{ij}|^2}=\\sqrt{\\mathop{\\mathrm{tr}}(A^*A)}$.\n",
    "\n",
    "Matrix norm is __consistent__ if $\\|A\\cdot B\\|\\leq \\|A\\| \\cdot \\| B\\|$, where $A$ and $B$ are compatible for matrix multiplication.\n",
    "\n",
    "Matrix norm is __absolute__ if $\\||A|\\|=\\|A\\|$.\n",
    "\n",
    "### Examples"
   ]
  },
  {
   "cell_type": "code",
   "execution_count": 1,
   "metadata": {
    "collapsed": false
   },
   "outputs": [
    {
     "data": {
      "text/plain": [
       "5-element Array{Int64,1}:\n",
       "  3\n",
       "  4\n",
       " -1\n",
       " -2\n",
       "  1"
      ]
     },
     "execution_count": 1,
     "metadata": {},
     "output_type": "execute_result"
    }
   ],
   "source": [
    "x=rand(-4:4,5)"
   ]
  },
  {
   "cell_type": "code",
   "execution_count": 2,
   "metadata": {
    "collapsed": false
   },
   "outputs": [
    {
     "data": {
      "text/plain": [
       "(11.0,5.5677643628300215,4.0)"
      ]
     },
     "execution_count": 2,
     "metadata": {},
     "output_type": "execute_result"
    }
   ],
   "source": [
    "norm(x,1), norm(x), norm(x,Inf)"
   ]
  },
  {
   "cell_type": "code",
   "execution_count": 3,
   "metadata": {
    "collapsed": false
   },
   "outputs": [
    {
     "data": {
      "text/plain": [
       "7x5 Array{Int64,2}:\n",
       " -3  -2   0   2   2\n",
       "  0   1  -2   2  -4\n",
       "  4  -2   1   3   2\n",
       " -1   3   2  -2   1\n",
       "  0   0   2   3  -2\n",
       "  1   1   1   0   4\n",
       "  2  -1   4  -3   0"
      ]
     },
     "execution_count": 3,
     "metadata": {},
     "output_type": "execute_result"
    }
   ],
   "source": [
    "A=rand(-4:4,7,5)"
   ]
  },
  {
   "cell_type": "code",
   "execution_count": 4,
   "metadata": {
    "collapsed": false
   },
   "outputs": [
    {
     "data": {
      "text/plain": [
       "(15.0,7.769185860688749,7.769185860688749,12.0,12.84523257866513)"
      ]
     },
     "execution_count": 4,
     "metadata": {},
     "output_type": "execute_result"
    }
   ],
   "source": [
    "norm(A,1), norm(A), norm(A,2), norm(A,Inf), vecnorm(A)"
   ]
  },
  {
   "cell_type": "code",
   "execution_count": 6,
   "metadata": {
    "collapsed": false
   },
   "outputs": [
    {
     "data": {
      "text/plain": [
       "12.84523257866513"
      ]
     },
     "execution_count": 6,
     "metadata": {},
     "output_type": "execute_result"
    }
   ],
   "source": [
    "norm(vec(A))"
   ]
  },
  {
   "cell_type": "markdown",
   "metadata": {},
   "source": [
    "### Facts\n",
    "\n",
    "\n",
    "1. $\\|x\\|_1$, $\\|x\\|_2$, $\\|x\\|_\\infty$ and $\\|x\\|_p$ are absolute and monotone vector norms.\n",
    "2. A vector norm is absolute iff it is monotone.\n",
    "3. _Convergence_: $x_k\\to x_*$ iff for any vector norm $\\|x_k-x_*\\|\\to 0$.\n",
    "3. Any two vector norms are equivalent in the sense that, for all $x$ and some $\\alpha,\\beta>0$\n",
    "$$\n",
    "\\alpha \\|x\\|_\\mu \\leq \\|x\\|_\\nu \\leq \\beta \\|x\\|_\\mu.\n",
    "$$\n",
    "In particular:\n",
    "   * $\\|x\\|_2 \\leq \\|x\\|_1\\leq \\sqrt{n}\\|x\\|_2$,\n",
    "   * $\\|x\\|_\\infty \\leq \\|x\\|_2\\leq \\sqrt{n}\\|x\\|_\\infty$,\n",
    "   * $\\|x\\|_\\infty \\leq \\|x\\|_1\\leq n\\|x\\|_\\infty$.\n",
    "2. _Cauchy-Schwartz inequality_: $|x^*y|\\leq \\|x\\|_2\\|y\\|_2$.\n",
    "3. _H&ouml;lder inequality_: if $p,q\\geq 1$ and $\\frac{1}{p}+\\frac{1}{q}=1$, then $|x^*y|\\leq \\|x\\|_p\\|y\\|_q$.\n",
    "1. $\\|A\\|_1$, $\\|A\\|_2$ and $\\|A\\|_\\infty$ are induced by the corresponding vector norms.\n",
    "2. $\\|A\\|_F$ is not and induced norm.\n",
    "3. $\\|A\\|_1$, $\\|A\\|_2$, $\\|A\\|_\\infty$ and $\\|A\\|_F$ are consistent.\n",
    "4. $\\|A\\|_1$, $\\|A\\|_\\infty$ and $\\|A\\|_F$ are absolute. However, $\\||A|\\|_2\\neq \\|A\\|_2$.\n",
    "5. Any two matrix norms are equivalent in the sense that, for all $A$ and some $\\alpha,\\beta>0$\n",
    "$$\n",
    "\\alpha \\|A\\|_\\mu \\leq \\|A\\|_\\nu \\leq \\beta \\|A\\|_\\mu.\n",
    "$$\n",
    "In particular:\n",
    "   * $\\frac{1}{\\sqrt{n}}\\|A\\|_\\infty \\leq \\|A\\|_2\\leq \\sqrt{m}\\|A\\|_\\infty$,\n",
    "   * $\\|A\\|_2 \\leq \\|A\\|_F\\leq \\sqrt{n}\\|A\\|_2$,\n",
    "   * $\\frac{1}{\\sqrt{m}}\\|A\\|_1 \\leq \\|A\\|_2\\leq \\sqrt{n}\\|A\\|_1$.\n",
    "6. $\\|A\\|_2\\leq \\sqrt{\\|A\\|_1 \\|A\\|_\\infty}$.\n",
    "7. $\\|AB\\|_F\\leq \\|A\\|_F\\|B\\|_2$ and $\\|AB\\|_F\\leq \\|A\\|_2\\|B\\|_F$.\n",
    "8. If $A=xy^*$, then $\\|A\\|_2=\\|A\\|_F=\\|x\\|_2\\|y\\|_2$.\n",
    "9. $\\|A^*\\|_2=\\|A\\|_2$ and $\\|A^*\\|_F=\\|A\\|_F$.\n",
    "10. For a unitary matrix $U$ of compatible dimension,\n",
    "$$\\|AU\\|_2=\\|A\\|_2,\\quad \\|AU\\|_F=\\|A\\|_F,\\quad\n",
    "\\|UA\\|_2=\\|A\\|_2,\\quad  \\|UA\\|_F=\\|A\\|_F.\n",
    "$$\n",
    "11. For $A$ square, $\\rho(A)\\leq\\|A\\|$.\n",
    "12. For $A$ square, $A^k\\to 0$ iff $>\\rho(A)<1$."
   ]
  },
  {
   "cell_type": "code",
   "execution_count": 7,
   "metadata": {
    "collapsed": false
   },
   "outputs": [
    {
     "data": {
      "text/plain": [
       "(15.0,15.0,12.0,12.0,12.84523257866513,12.84523257866513,7.769185860688749,10.925217814397506)"
      ]
     },
     "execution_count": 7,
     "metadata": {},
     "output_type": "execute_result"
    }
   ],
   "source": [
    "# Absolute norms\n",
    "norm(A,1), norm(abs(A),1), norm(A,Inf), norm(abs(A),Inf), vecnorm(A),\n",
    "vecnorm(abs(A)),  norm(A),norm(abs(A))"
   ]
  },
  {
   "cell_type": "code",
   "execution_count": 8,
   "metadata": {
    "collapsed": false
   },
   "outputs": [
    {
     "data": {
      "text/plain": [
       "(0.18633899812498247,7.769185860688749,31.74901573277509)"
      ]
     },
     "execution_count": 8,
     "metadata": {},
     "output_type": "execute_result"
    }
   ],
   "source": [
    "# Equivalence of norms\n",
    "m,n=size(A)\n",
    "norm(A,Inf)\\sqrt(n),norm(A), sqrt(m)*norm(A,Inf)"
   ]
  },
  {
   "cell_type": "code",
   "execution_count": 9,
   "metadata": {
    "collapsed": false
   },
   "outputs": [
    {
     "data": {
      "text/plain": [
       "(7.769185860688749,12.84523257866513,17.372427714330254)"
      ]
     },
     "execution_count": 9,
     "metadata": {},
     "output_type": "execute_result"
    }
   ],
   "source": [
    "norm(A), vecnorm(A), sqrt(n)*norm(A)"
   ]
  },
  {
   "cell_type": "code",
   "execution_count": 10,
   "metadata": {
    "collapsed": false
   },
   "outputs": [
    {
     "data": {
      "text/plain": [
       "(0.17638342073763938,7.769185860688749,33.54101966249685)"
      ]
     },
     "execution_count": 10,
     "metadata": {},
     "output_type": "execute_result"
    }
   ],
   "source": [
    "norm(A,1)\\sqrt(m),norm(A), sqrt(n)*norm(A,1)"
   ]
  },
  {
   "cell_type": "code",
   "execution_count": 11,
   "metadata": {
    "collapsed": false
   },
   "outputs": [
    {
     "data": {
      "text/plain": [
       "(7.769185860688749,13.416407864998739)"
      ]
     },
     "execution_count": 11,
     "metadata": {},
     "output_type": "execute_result"
    }
   ],
   "source": [
    "# Fact 12\n",
    "norm(A), sqrt(norm(A,1)*norm(A,Inf))"
   ]
  },
  {
   "cell_type": "code",
   "execution_count": 13,
   "metadata": {
    "collapsed": false
   },
   "outputs": [
    {
     "data": {
      "text/plain": [
       "(17.39391657295395,36.64419785557018,25.549669589506628)"
      ]
     },
     "execution_count": 13,
     "metadata": {},
     "output_type": "execute_result"
    }
   ],
   "source": [
    "# Fact 13\n",
    "B=rand(n,rand(1:9))\n",
    "vecnorm(A*B), vecnorm(A)*norm(B), norm(A)*vecnorm(B)"
   ]
  },
  {
   "cell_type": "code",
   "execution_count": 15,
   "metadata": {
    "collapsed": false
   },
   "outputs": [
    {
     "data": {
      "text/plain": [
       "(8.163126728063434,8.163126728063432,8.163126728063432)"
      ]
     },
     "execution_count": 15,
     "metadata": {},
     "output_type": "execute_result"
    }
   ],
   "source": [
    "# Fact 14\n",
    "x=rand(10)+im*rand(10)\n",
    "y=rand(10)+im*rand(10)\n",
    "A=x*y'\n",
    "norm(A), vecnorm(A), norm(x)*norm(y)"
   ]
  },
  {
   "cell_type": "code",
   "execution_count": 16,
   "metadata": {
    "collapsed": false
   },
   "outputs": [
    {
     "data": {
      "text/plain": [
       "(14.69243849374946,14.69243849374946,20.688160865577203,20.688160865577203)"
      ]
     },
     "execution_count": 16,
     "metadata": {},
     "output_type": "execute_result"
    }
   ],
   "source": [
    "# Fact 15\n",
    "A=rand(-4:4,7,5)+im*rand(-4:4,7,5)\n",
    "norm(A), norm(A'), vecnorm(A), vecnorm(A')"
   ]
  },
  {
   "cell_type": "code",
   "execution_count": 18,
   "metadata": {
    "collapsed": false
   },
   "outputs": [],
   "source": [
    "# Unitary invariance - generate random unitary matrix U\n",
    "U,R=qr(rand(size(A))+im*rand(size(A)),thin=false);"
   ]
  },
  {
   "cell_type": "code",
   "execution_count": 19,
   "metadata": {
    "collapsed": false
   },
   "outputs": [
    {
     "data": {
      "text/plain": [
       "(14.69243849374946,14.692438493749457,20.688160865577203,20.6881608655772)"
      ]
     },
     "execution_count": 19,
     "metadata": {},
     "output_type": "execute_result"
    }
   ],
   "source": [
    "norm(A), norm(U*A), vecnorm(A), vecnorm(U*A)"
   ]
  },
  {
   "cell_type": "code",
   "execution_count": 20,
   "metadata": {
    "collapsed": false
   },
   "outputs": [
    {
     "data": {
      "text/plain": [
       "(4.939800178955722,6.337162218176092,5.970131091829915,5.0968404553445605,5.647736689955629)"
      ]
     },
     "execution_count": 20,
     "metadata": {},
     "output_type": "execute_result"
    }
   ],
   "source": [
    "# Spectral radius\n",
    "A=rand(7,7)+im*rand(7,7)\n",
    "maxabs(eigvals(A)), norm(A,Inf), norm(A,1), norm(A), vecnorm(A)"
   ]
  },
  {
   "cell_type": "code",
   "execution_count": 25,
   "metadata": {
    "collapsed": false
   },
   "outputs": [
    {
     "name": "stdout",
     "output_type": "stream",
     "text": [
      "maxabs(eigvals(B)) = 0.7118072641248647\n"
     ]
    },
    {
     "data": {
      "text/plain": [
       "1.7713644872588498e-15"
      ]
     },
     "execution_count": 25,
     "metadata": {},
     "output_type": "execute_result"
    }
   ],
   "source": [
    "# Fact 18\n",
    "B=A/(maxabs(eigvals(A))+2)\n",
    "@show maxabs(eigvals(B))\n",
    "norm(B^100)"
   ]
  },
  {
   "cell_type": "markdown",
   "metadata": {},
   "source": [
    "## Errors and condition numbers\n",
    "\n",
    "We want to answer the question:\n",
    "\n",
    "__How much the value of a function changes with respect to the change of its argument?__\n",
    "\n",
    "### Definitions\n",
    "\n",
    "For function $f(x)$ and argument $x$, the __absolute error__ with respect to the __perturbation__ of the argument \n",
    "$\\delta x$ is \n",
    "\n",
    "$$\n",
    "\\| f(x+\\delta x)-f(x)\\| = \\frac{\\| f(x+\\delta x)-f(x)\\|}{\\| \\delta x \\|} \\|\\delta x\\| \\equiv \\kappa \\|\\delta x\\|.\n",
    "$$\n",
    "\n",
    "The  __condition__ or  __condition number__ $\\kappa$ tells how much does the perturbation of the argument increase. (Its form resembles derivative.)\n",
    "\n",
    "Similarly, the __relative error__ with respect to the relative perturbation of the argument is\n",
    "\n",
    "$$\n",
    "\\frac{\\| f(x+\\delta x)-f(x)\\|}{\\| f(x) \\|}= \\frac{\\| f(x+\\delta x)-f(x)\\|\\cdot  \\|x\\| }{\\|\\delta x\\| \\cdot\\| f(x)\\|}\n",
    "\\cdot \\frac{\\|\\delta x\\|}{\\|x\\|} \\equiv \\kappa_{rel} \\frac{\\|\\delta x\\|}{\\|x\\|}.\n",
    "$$"
   ]
  },
  {
   "cell_type": "markdown",
   "metadata": {},
   "source": [
    "## Peturbation bounds\n",
    "\n",
    "### Definitions\n",
    "\n",
    "Let $A\\in\\mathbb{C}^{n\\times n}$.\n",
    "\n",
    "Pair $(\\lambda,x)\\in\\mathbb{C}\\times\\mathbb{C}^{n\\times n}$ is an __eigenpair__ of $A$ if $x\\neq 0$ and $Ax=\\lambda x$.\n",
    "\n",
    "Triplet $(y,\\lambda,x)\\in\\times\\mathbb{C}^{n}\\times\\mathbb{C}\\times\\mathbb{C}^{n}$ is an __eigentriplet__ of $A$ if $x,y\\neq 0$ and $Ax=\\lambda x$ and $y^*A=\\lambda y^*$.\n",
    "\n",
    "__Eigenvalue matrix__ is a diagonal matrix $\\Lambda=\\mathop{\\mathrm{diag}}(\\lambda_1,\\lambda_2,\\ldots,\\lambda_n)$.\n",
    "\n",
    "If all eigenvalues are real, they can be increasingly ordered. $\\Lambda^\\uparrow$ is the eigenvalue matrix of increasingly ordered eigenvalues.\n",
    "\n",
    "$\\tau$ is a __permutation__ of $\\{1,2,\\ldots,n\\}$.\n",
    "\n",
    "$\\tilde A=A+\\Delta A$ is a __perturbed matrix__, where $\\Delta A$ is __perturbation__. $(\\tilde \\lambda,\\tilde x)$ are the eigenpairs of $\\tilde A$.\n",
    "\n",
    "__Condition number__ of a nonsingular matrix $X$ is $\\kappa(X)=\\|X\\| \\|X^{-1}\\|$.\n",
    "\n",
    "Let $X,Y\\in\\mathbb{C}^{n\\times k}$ with $\\mathop{\\mathrm{rank}}(X)=\\mathop{\\mathrm{rank}}(Y)=k$. The __canonical angles__ between their column spaces are $\\theta_i=\\cos^{-1}\\sigma_i$, where $\\sigma_i$ are the singular values of \n",
    "$(Y^*Y)^{-1/2}Y^*X(X^*X)^{-1/2}$. The __canonical angle matrix__ between $X$ and $Y$ is \n",
    "$$\\Theta(X,Y)=\\mathop{\\mathrm{diag}}(\\theta_1,\\theta_2,\\ldots,\\theta_k).\n",
    "$$\n",
    "    "
   ]
  },
  {
   "cell_type": "markdown",
   "metadata": {},
   "source": [
    "### Facts\n",
    "\n",
    "Bounds become more strict as matrices have more structure. \n",
    "Many bounds have versions in spectral norm and Frobenius norm.\n",
    "For more details and the proofs of the Facts below, see \n",
    "[R.-C. Li, Matrix Perturbation Theory][Hog14], and the references therein.\n",
    "\n",
    "[Hog14]: #1 \"L. Hogben, ed., 'Handbook of Linear Algebra', pp. 21.1-21.20, CRC Press, Boca Raton, 2014.\"\n",
    "\n",
    "1. There exists $\\tau$ such that\n",
    "$$\\|\\Lambda- \\tilde\\Lambda_\\tau\\|_2\\leq 4(\\|A\\|_2+\\|\\tilde A\\|_2)^{1-1/n}\\|\\Delta A\\|_2^{1/n}.$$\n",
    "\n",
    "2. _(First-order perturbation bounds)_ Let $(y,\\lambda,x)$ be an eigentriplet of a simple $\\lambda$. $\\Delta A$ changes $\\lambda$ to \n",
    "$\\tilde\\lambda=\\lambda+ \\delta\\lambda$, where\n",
    "$$\n",
    "\\delta\\lambda=\\frac{y^*(\\Delta A)x}{y^*x}+O(\\|\\Delta A\\|_2^2).\n",
    "$$\n",
    "\n",
    "3. Let $\\lambda$ be a semisimple eigenvalue of $A$ with multiplicitiy $k$, and let $X,Y\\in \\mathbb{C}^{n\\times k}$ be the matrices of the corresponding right and left eigenvectors, that is, $AX=\\lambda X$ and $Y^*A=\\lambda Y^*$, such that $Y^*X=I_k$. $\\Delta A$ changes the $k$ copies of $\\mu$ to $\\tilde \\mu=\\mu+\\delta\\mu_i$, where $\\delta\\mu_i$ are the eigenvalues of $Y^*(\\Delta A) X$ up to $O(\\|\\Delta A\\|_2^2$.\n",
    "\n",
    "4. _(Bauer-Fike Theorem)_ If $A$ is diagonalizable and $A=X\\Lambda X^{-1}$ is its eigenvalue decomposition, then\n",
    "$$\n",
    "\\max_i\\min_j |\\tilde \\lambda_i -\n",
    "\\lambda_j|\\leq \\|X^{-1}(\\Delta A)X\\|_p\\leq \\kappa_p(X)\\|\\Delta A\\|_p.\n",
    "$$\n",
    "\n",
    "5. If $A$ and $\\tilde A$ are diagonalizable, there exists $\\tau$ such that\n",
    "$$\\|\\Lambda-\\tilde\\Lambda_\\tau\\|_F\\leq \\sqrt{\\kappa_2(X)\\kappa_2(\\tilde X)}\\|\\Delta A\\|_F.\n",
    "$$ If $\\Lambda$ and  $\\tilde\\Lambda$ are real, then\n",
    "$$\n",
    "\\|\\Lambda^\\uparrow-\\tilde\\Lambda^\\uparrow\\|_{2,F} \\leq \\sqrt{\\kappa_2(X)\\kappa_2(\\tilde X)}\\|\\Delta A\\|_{2,F}.\n",
    "$$\n",
    "\n",
    "6. If $A$ is normal, there exists $\\tau$ such that $\\|\\Lambda-\\tilde\\Lambda_\\tau\\|_F\\leq\\sqrt{n}\\|\\Delta A\\|_F$.\n",
    "\n",
    "7. _(Hoffman-Wielandt Theorem)_ If $A$ and $\\tilde A$ are normal, there exists $\\tau$ such that $\\|\\Lambda-\\tilde\\Lambda_\\tau\\|_F\\leq\\|\\Delta A\\|_F$.\n",
    "\n",
    "8. If $A$ is Hermitian, for any unitarily invariant norm $\\|\\Lambda^\\uparrow-\\tilde\\Lambda^\\uparrow\\| \\leq \\|\\Delta A\\|$. In particular,\n",
    "\\begin{align*}\n",
    "\\max_i|\\lambda^\\uparrow_i-\\tilde\\lambda^\\uparrow_i|&\\leq \\|\\Delta A\\|_2,\\\\ \n",
    "\\sqrt{\\sum_i(\\lambda^\\uparrow_i-\\tilde\\lambda^\\uparrow_i)^2}&\\leq \\|\\Delta A\\|_F.\n",
    "\\end{align*}\n",
    "\n",
    "9. _(Residual bounds)_ Let $A$ be Hermitian. For some $\\tilde\\lambda\\in\\mathbb{R}$ and $\\tilde x\\in\\mathbb{C}^n$ with $\\|\\tilde x\\|_2=1$, define __residual__ $r=A\\tilde x-\\tilde\\lambda\\tilde x$. Then\n",
    "$|\\tilde\\lambda-\\lambda|\\leq \\|r\\|_2$ for some $\\lambda\\in\\sigma(A)$.\n",
    "\n",
    "9. Let, in addition,  $\\tilde\\lambda=\\tilde x^* A\\tilde x$, let $\\lambda$ be closest to $\\tilde\\lambda$ and $x$ be its unit eigenvector, and let \n",
    "$$\\eta=\\mathop{\\mathrm{gap}}(\\tilde\\lambda)= \\min_{\\lambda\\neq\\mu\\in\\sigma(A)}|\\tilde\\lambda-\\mu|.$$\n",
    "If $\\eta>0$, then\n",
    "$$ |\\tilde\\lambda-\\lambda|\\leq \\frac{\\|r\\|_2^2}{\\eta},\\quad \\sin\\theta(x,\\tilde x)\\leq \\frac{\\|r\\|_2}{\\eta}.\n",
    "$$\n",
    "\n",
    "10. Let $A$ be Hermitian, $X\\in\\mathbb{C}^{n\\times k}$ have full column rank, and $M\\in\\mathcal{H}_k$ having eigenvalues \n",
    "$\\mu_1\\leq\\mu_2\\leq\\cdots\\leq\\mu_k$. Set $R=AX-XM$. Then\n",
    "there exist $\\lambda_{i_1}\\leq\\lambda_{i_2}\\leq\\cdots\\leq\\lambda_{i_k}\\in\\sigma(A)$ such that\n",
    "\\begin{align*}    \n",
    "\\max_{1\\leq j\\leq k} |\\mu_j-\\lambda_{i_j}|& \\leq \\frac{\\|R\\|_2}{\\sigma_{\\min}(X)},\\\\\n",
    "\\sqrt{\\sum_{j=1}^k (\\mu_j-\\lambda_{i_j})^2}&\\leq \\frac{\\|R\\|_F}{\\sigma_{\\min}(X)}.\n",
    "\\end{align*}\n",
    "(The indices $i_j$ need not be the same in the above formulae.)\n",
    "\n",
    "10. If, additionally, $X^*X=I$ and $M=X^*AX$, and if all but $k$ of $A$'s eigenvalues differ from every one of $M$'s eigenvalues by at least $\\eta>0$, then\n",
    "$$\\sqrt{\\sum_{j=1}^k (\\mu_j-\\lambda_{i_j})^2}\\leq \\frac{\\|R\\|_F^2}{\\eta\\sqrt{1-\\|R\\|_F^2/\\eta^2}}.$$\n",
    "\n",
    "11. Let $A=\\begin{bmatrix} M & E^* \\\\ E & H \\end{bmatrix}$ and $\\tilde A=\\begin{bmatrix} M & 0 \\\\ 0 & H \\end{bmatrix}$ be Hermitian, and set $\\eta=\\min |\\mu-\\nu|$ over all $\\mu\\in\\sigma(M)$ and $\\nu\\in\\sigma(H)$. Then\n",
    "$$ \n",
    "\\max |\\lambda_j^\\uparrow -\\tilde\\lambda_j^\\uparrow| \\leq \\frac{2\\|E\\|_2^2}{\\eta+\\sqrt{\\eta^2+4\\|E\\|_2^2}}.\n",
    "$$\n",
    "\n",
    "14. Let \n",
    "$$\n",
    "\\begin{bmatrix} X_1^*\\\\ X_2^* \\end{bmatrix} A \\begin{bmatrix} X_1 & X_2 \\end{bmatrix}=\n",
    "\\begin{bmatrix} A_1 &  \\\\ & A_2 \\end{bmatrix}, \\quad \\begin{bmatrix} X_1 & X_2 \\end{bmatrix} \\textrm{unitary},\n",
    "\\quad X_1\\in\\mathbb{C}^{n\\times k}.\n",
    "$$\n",
    "Let $Q\\in\\mathbb{C}^{n\\times k}$ have orthonormal columns and for a Hermitian $k\\times k$ matrix $M$ set\n",
    "$R=AQ-QM$. Let $\\eta=\\min|\\mu-\\nu|$ over all $\\mu\\in\\sigma(M)$ and $\\nu\\in\\sigma(A_2)$. If $\\eta > 0$, then\n",
    "$$\n",
    "\\|\\sin\\Theta(X_1,Q)\\|_F\\leq \\frac{\\|R\\|_F}{\\eta}.\n",
    "$$"
   ]
  },
  {
   "cell_type": "markdown",
   "metadata": {},
   "source": [
    "### Example - Nondiagonalizable matrix"
   ]
  },
  {
   "cell_type": "code",
   "execution_count": 40,
   "metadata": {
    "collapsed": false
   },
   "outputs": [
    {
     "data": {
      "text/plain": [
       "3x3 Array{Int64,2}:\n",
       " -3    7  -1\n",
       "  6    8  -2\n",
       " 72  -28  19"
      ]
     },
     "execution_count": 40,
     "metadata": {},
     "output_type": "execute_result"
    }
   ],
   "source": [
    "A=[-3 7 -1; 6 8 -2; 72 -28 19]"
   ]
  },
  {
   "cell_type": "code",
   "execution_count": 41,
   "metadata": {
    "collapsed": false
   },
   "outputs": [
    {
     "data": {
      "text/plain": [
       "([-6.000000000000005,15.000000241477958,14.999999758522048],\n",
       "3x3 Array{Float64,2}:\n",
       "  0.235702   0.218218  -0.218218\n",
       " -0.235702   0.436436  -0.436436\n",
       " -0.942809  -0.872872   0.872872)"
      ]
     },
     "execution_count": 41,
     "metadata": {},
     "output_type": "execute_result"
    }
   ],
   "source": [
    "# (Right) eigenvectors\n",
    "λ,X=eig(A)"
   ]
  },
  {
   "cell_type": "code",
   "execution_count": 42,
   "metadata": {
    "collapsed": false
   },
   "outputs": [
    {
     "data": {
      "text/plain": [
       "9.091581997455394e7"
      ]
     },
     "execution_count": 42,
     "metadata": {},
     "output_type": "execute_result"
    }
   ],
   "source": [
    "cond(X)"
   ]
  },
  {
   "cell_type": "code",
   "execution_count": 43,
   "metadata": {
    "collapsed": false
   },
   "outputs": [
    {
     "data": {
      "text/plain": [
       "(Complex{Float64}[-5.999999999999998 + 0.0im,14.999999999999993 + 2.0088262607214127e-7im,14.999999999999993 - 2.0088262607214127e-7im],\n",
       "3x3 Array{Complex{Float64},2}:\n",
       "     0.894427+0.0im               0.970143+0.0im               0.970143-0.0im\n",
       "    -0.447214+0.0im  -7.58506e-16-1.62404e-8im    -7.58506e-16+1.62404e-8im  \n",
       " -6.07504e-17+0.0im       0.242536+4.0601e-9im         0.242536-4.0601e-9im  )"
      ]
     },
     "execution_count": 43,
     "metadata": {},
     "output_type": "execute_result"
    }
   ],
   "source": [
    "# Left eigenvectors\n",
    "λ1,Y=eig(A')"
   ]
  },
  {
   "cell_type": "code",
   "execution_count": 44,
   "metadata": {
    "collapsed": false
   },
   "outputs": [
    {
     "data": {
      "text/plain": [
       "1x3 Array{Complex{Float64},2}:\n",
       " 2.34268e-7+1.94885e-7im  9.60124e-15-3.9217e-15im  5.8567e-8+4.87212e-8im"
      ]
     },
     "execution_count": 44,
     "metadata": {},
     "output_type": "execute_result"
    }
   ],
   "source": [
    "# Try k=2,3\n",
    "k=3\n",
    "Y[:,k]'*A-λ[k]*Y[:,k]'"
   ]
  },
  {
   "cell_type": "code",
   "execution_count": 45,
   "metadata": {
    "collapsed": false
   },
   "outputs": [
    {
     "data": {
      "text/plain": [
       "3x3 Array{Float64,2}:\n",
       " -2.994      7.03203  -0.967823\n",
       "  6.01664    8.02073  -1.99135 \n",
       " 72.0002   -27.987    19.039   "
      ]
     },
     "execution_count": 45,
     "metadata": {},
     "output_type": "execute_result"
    }
   ],
   "source": [
    "ΔA=rand(3,3)/20\n",
    "B=A+ΔA"
   ]
  },
  {
   "cell_type": "code",
   "execution_count": 46,
   "metadata": {
    "collapsed": false
   },
   "outputs": [
    {
     "data": {
      "text/plain": [
       "0.0633478703837324"
      ]
     },
     "execution_count": 46,
     "metadata": {},
     "output_type": "execute_result"
    }
   ],
   "source": [
    "norm(ΔA)"
   ]
  },
  {
   "cell_type": "code",
   "execution_count": 47,
   "metadata": {
    "collapsed": false
   },
   "outputs": [
    {
     "data": {
      "text/plain": [
       "([-6.089801552211211,15.68225690289727,14.473225661829952],\n",
       "3x3 Array{Float64,2}:\n",
       "  0.237844   0.191836  -0.241757\n",
       " -0.234438   0.385262  -0.484829\n",
       " -0.942586  -0.902647   0.840532)"
      ]
     },
     "execution_count": 47,
     "metadata": {},
     "output_type": "execute_result"
    }
   ],
   "source": [
    "μ,Z=eig(B)"
   ]
  },
  {
   "cell_type": "code",
   "execution_count": 48,
   "metadata": {
    "collapsed": false
   },
   "outputs": [
    {
     "data": {
      "text/plain": [
       "-0.08980155221120611"
      ]
     },
     "execution_count": 48,
     "metadata": {},
     "output_type": "execute_result"
    }
   ],
   "source": [
    "# Fact 2\n",
    "δλ=μ[1]-λ[1]"
   ]
  },
  {
   "cell_type": "code",
   "execution_count": 52,
   "metadata": {
    "collapsed": false
   },
   "outputs": [
    {
     "data": {
      "text/plain": [
       "1-element Array{Complex{Float64},1}:\n",
       " -0.090266+0.0im"
      ]
     },
     "execution_count": 52,
     "metadata": {},
     "output_type": "execute_result"
    }
   ],
   "source": [
    "k=1\n",
    "Y[:,k]'*ΔA*X[:,k]/(Y[:,k]⋅X[:,k])"
   ]
  },
  {
   "cell_type": "markdown",
   "metadata": {},
   "source": [
    "### Example - Jordan form"
   ]
  },
  {
   "cell_type": "code",
   "execution_count": 53,
   "metadata": {
    "collapsed": false
   },
   "outputs": [
    {
     "data": {
      "text/plain": [
       "10x10 Bidiagonal{Float64}:\n",
       " 0.5  1.0  0.0  0.0  0.0  0.0  0.0  0.0  0.0  0.0\n",
       " 0.0  0.5  1.0  0.0  0.0  0.0  0.0  0.0  0.0  0.0\n",
       " 0.0  0.0  0.5  1.0  0.0  0.0  0.0  0.0  0.0  0.0\n",
       " 0.0  0.0  0.0  0.5  1.0  0.0  0.0  0.0  0.0  0.0\n",
       " 0.0  0.0  0.0  0.0  0.5  1.0  0.0  0.0  0.0  0.0\n",
       " 0.0  0.0  0.0  0.0  0.0  0.5  1.0  0.0  0.0  0.0\n",
       " 0.0  0.0  0.0  0.0  0.0  0.0  0.5  1.0  0.0  0.0\n",
       " 0.0  0.0  0.0  0.0  0.0  0.0  0.0  0.5  1.0  0.0\n",
       " 0.0  0.0  0.0  0.0  0.0  0.0  0.0  0.0  0.5  1.0\n",
       " 0.0  0.0  0.0  0.0  0.0  0.0  0.0  0.0  0.0  0.5"
      ]
     },
     "execution_count": 53,
     "metadata": {},
     "output_type": "execute_result"
    }
   ],
   "source": [
    "n=10\n",
    "c=0.5\n",
    "J=Bidiagonal(c*ones(n),ones(n-1),true)"
   ]
  },
  {
   "cell_type": "code",
   "execution_count": 54,
   "metadata": {
    "collapsed": false
   },
   "outputs": [
    {
     "data": {
      "text/plain": [
       "10-element Array{Float64,1}:\n",
       " 0.5\n",
       " 0.5\n",
       " 0.5\n",
       " 0.5\n",
       " 0.5\n",
       " 0.5\n",
       " 0.5\n",
       " 0.5\n",
       " 0.5\n",
       " 0.5"
      ]
     },
     "execution_count": 54,
     "metadata": {},
     "output_type": "execute_result"
    }
   ],
   "source": [
    "# Accurately defined eigenvalues\n",
    "λ=eigvals(J)"
   ]
  },
  {
   "cell_type": "code",
   "execution_count": 55,
   "metadata": {
    "collapsed": false
   },
   "outputs": [
    {
     "data": {
      "text/plain": [
       "10x10 Array{Float64,2}:\n",
       " 1.0  1.0  1.0  1.0  1.0  1.0  1.0  1.0  1.0  1.0\n",
       " 0.0  0.0  0.0  0.0  0.0  0.0  0.0  0.0  0.0  0.0\n",
       " 0.0  0.0  0.0  0.0  0.0  0.0  0.0  0.0  0.0  0.0\n",
       " 0.0  0.0  0.0  0.0  0.0  0.0  0.0  0.0  0.0  0.0\n",
       " 0.0  0.0  0.0  0.0  0.0  0.0  0.0  0.0  0.0  0.0\n",
       " 0.0  0.0  0.0  0.0  0.0  0.0  0.0  0.0  0.0  0.0\n",
       " 0.0  0.0  0.0  0.0  0.0  0.0  0.0  0.0  0.0  0.0\n",
       " 0.0  0.0  0.0  0.0  0.0  0.0  0.0  0.0  0.0  0.0\n",
       " 0.0  0.0  0.0  0.0  0.0  0.0  0.0  0.0  0.0  0.0\n",
       " 0.0  0.0  0.0  0.0  0.0  0.0  0.0  0.0  0.0  0.0"
      ]
     },
     "execution_count": 55,
     "metadata": {},
     "output_type": "execute_result"
    }
   ],
   "source": [
    "# Only one eigenvector\n",
    "X=eigvecs(J)"
   ]
  },
  {
   "cell_type": "code",
   "execution_count": 56,
   "metadata": {
    "collapsed": false
   },
   "outputs": [
    {
     "data": {
      "text/plain": [
       "10-element Array{Float64,1}:\n",
       " 0.0\n",
       " 0.0\n",
       " 0.0\n",
       " 0.0\n",
       " 0.0\n",
       " 0.0\n",
       " 0.0\n",
       " 0.0\n",
       " 0.0\n",
       " 1.0"
      ]
     },
     "execution_count": 56,
     "metadata": {},
     "output_type": "execute_result"
    }
   ],
   "source": [
    "x=eigvecs(J)[:,1]\n",
    "y=eigvecs(J')[:,1]"
   ]
  },
  {
   "cell_type": "code",
   "execution_count": 57,
   "metadata": {
    "collapsed": false
   },
   "outputs": [
    {
     "data": {
      "text/plain": [
       "1x10 Array{Float64,2}:\n",
       " 0.0  0.0  0.0  0.0  0.0  0.0  0.0  0.0  0.0  0.0"
      ]
     },
     "execution_count": 57,
     "metadata": {},
     "output_type": "execute_result"
    }
   ],
   "source": [
    "y'*full(J)-0.5*y'"
   ]
  },
  {
   "cell_type": "code",
   "execution_count": 58,
   "metadata": {
    "collapsed": false
   },
   "outputs": [
    {
     "data": {
      "text/plain": [
       "10x10 Array{Float64,2}:\n",
       " 0.0         0.0  0.0  0.0  0.0  0.0  0.0  0.0  0.0  0.0\n",
       " 0.0         0.0  0.0  0.0  0.0  0.0  0.0  0.0  0.0  0.0\n",
       " 0.0         0.0  0.0  0.0  0.0  0.0  0.0  0.0  0.0  0.0\n",
       " 0.0         0.0  0.0  0.0  0.0  0.0  0.0  0.0  0.0  0.0\n",
       " 0.0         0.0  0.0  0.0  0.0  0.0  0.0  0.0  0.0  0.0\n",
       " 0.0         0.0  0.0  0.0  0.0  0.0  0.0  0.0  0.0  0.0\n",
       " 0.0         0.0  0.0  0.0  0.0  0.0  0.0  0.0  0.0  0.0\n",
       " 0.0         0.0  0.0  0.0  0.0  0.0  0.0  0.0  0.0  0.0\n",
       " 0.0         0.0  0.0  0.0  0.0  0.0  0.0  0.0  0.0  0.0\n",
       " 1.49012e-8  0.0  0.0  0.0  0.0  0.0  0.0  0.0  0.0  0.0"
      ]
     },
     "execution_count": 58,
     "metadata": {},
     "output_type": "execute_result"
    }
   ],
   "source": [
    "# Just one perturbed element in the lower left corner\n",
    "ΔJ=sqrt(eps())*[zeros(n-1);1]*eye(1,n)"
   ]
  },
  {
   "cell_type": "code",
   "execution_count": 59,
   "metadata": {
    "collapsed": false
   },
   "outputs": [
    {
     "data": {
      "text/plain": [
       "10-element Array{Complex{Float64},1}:\n",
       " 0.335062+0.0im      \n",
       " 0.366562+0.0969484im\n",
       " 0.366562-0.0969484im\n",
       " 0.449031+0.156866im \n",
       " 0.449031-0.156866im \n",
       " 0.550969+0.156866im \n",
       " 0.550969-0.156866im \n",
       " 0.633438+0.0969484im\n",
       " 0.633438-0.0969484im\n",
       " 0.664938+0.0im      "
      ]
     },
     "execution_count": 59,
     "metadata": {},
     "output_type": "execute_result"
    }
   ],
   "source": [
    "B=J+ΔJ\n",
    "μ=eigvals(B)"
   ]
  },
  {
   "cell_type": "code",
   "execution_count": 60,
   "metadata": {
    "collapsed": false
   },
   "outputs": [
    {
     "data": {
      "text/plain": [
       "0.16493848891190788"
      ]
     },
     "execution_count": 60,
     "metadata": {},
     "output_type": "execute_result"
    }
   ],
   "source": [
    "# Fact 2\n",
    "maximum(abs(λ-μ))"
   ]
  },
  {
   "cell_type": "code",
   "execution_count": 61,
   "metadata": {
    "collapsed": false
   },
   "outputs": [
    {
     "data": {
      "text/plain": [
       "1-element Array{Float64,1}:\n",
       " Inf"
      ]
     },
     "execution_count": 61,
     "metadata": {},
     "output_type": "execute_result"
    }
   ],
   "source": [
    "y'*ΔJ*x/(y⋅x)"
   ]
  },
  {
   "cell_type": "markdown",
   "metadata": {},
   "source": [
    "However, since $B$ is diagonalizable, we can apply Bauer-Fike theorem to it: "
   ]
  },
  {
   "cell_type": "code",
   "execution_count": 62,
   "metadata": {
    "collapsed": false
   },
   "outputs": [
    {
     "data": {
      "text/plain": [
       "(Complex{Float64}[0.3350615111920276 + 0.0im,0.3665619595167544 + 0.09694841124280963im,0.3665619595167544 - 0.09694841124280963im,0.4490312038888047 + 0.15686582456677023im,0.4490312038888047 - 0.15686582456677023im,0.5509687960268455 + 0.15686582462828694im,0.5509687960268455 - 0.15686582462828694im,0.6334380405156275 + 0.09694841134170258im,0.6334380405156275 - 0.09694841134170258im,0.6649384889119079 + 0.0im],\n",
       "10x10 Array{Complex{Float64},2}:\n",
       "   -0.986304+0.0im              0.986304+0.0im          …     0.986304+0.0im\n",
       "    0.162679+0.0im              -0.13161+0.0956206im          0.162679+0.0im\n",
       "  -0.0268321+0.0im            0.00829158-0.0255188im         0.0268321+0.0im\n",
       "  0.00442565+0.0im             0.0013676+0.00420904im       0.00442565+0.0im\n",
       " -0.00072996+0.0im           -0.00059055-0.000429059im      0.00072996+0.0im\n",
       " 0.000120398+0.0im  0.000120398+6.48524e-14im           …  0.000120398+0.0im\n",
       " -1.98583e-5+0.0im  -1.60657e-5+1.16724e-5im                1.98583e-5+0.0im\n",
       "   3.2754e-6+0.0im   1.01216e-6-3.11509e-6im                 3.2754e-6+0.0im\n",
       "  -5.4024e-7+0.0im   1.66943e-7+5.13799e-7im                 5.4024e-7+0.0im\n",
       "  8.91064e-8+0.0im  -7.20886e-8-5.23754e-8im                8.91064e-8+0.0im)"
      ]
     },
     "execution_count": 62,
     "metadata": {},
     "output_type": "execute_result"
    }
   ],
   "source": [
    "μ,Y=eig(B)"
   ]
  },
  {
   "cell_type": "code",
   "execution_count": 63,
   "metadata": {
    "collapsed": false
   },
   "outputs": [
    {
     "data": {
      "text/plain": [
       "1.1068834616372587e7"
      ]
     },
     "execution_count": 63,
     "metadata": {},
     "output_type": "execute_result"
    }
   ],
   "source": [
    "cond(Y)"
   ]
  },
  {
   "cell_type": "code",
   "execution_count": 64,
   "metadata": {
    "collapsed": false
   },
   "outputs": [
    {
     "data": {
      "text/plain": [
       "(0.16493848884660858,0.1649384888466088)"
      ]
     },
     "execution_count": 64,
     "metadata": {},
     "output_type": "execute_result"
    }
   ],
   "source": [
    "norm(inv(Y)*ΔJ*Y), cond(Y)*norm(ΔJ)"
   ]
  },
  {
   "cell_type": "markdown",
   "metadata": {
    "collapsed": true
   },
   "source": [
    "### Example - Normal matrix"
   ]
  },
  {
   "cell_type": "code",
   "execution_count": 65,
   "metadata": {
    "collapsed": true
   },
   "outputs": [],
   "source": [
    "using SpecialMatrices"
   ]
  },
  {
   "cell_type": "code",
   "execution_count": 66,
   "metadata": {
    "collapsed": false
   },
   "outputs": [
    {
     "data": {
      "text/plain": [
       "6x6 SpecialMatrices.Circulant{Float64}:\n",
       " 0.839873  0.972672  0.796722  0.938404  0.668738  0.483951\n",
       " 0.483951  0.839873  0.972672  0.796722  0.938404  0.668738\n",
       " 0.668738  0.483951  0.839873  0.972672  0.796722  0.938404\n",
       " 0.938404  0.668738  0.483951  0.839873  0.972672  0.796722\n",
       " 0.796722  0.938404  0.668738  0.483951  0.839873  0.972672\n",
       " 0.972672  0.796722  0.938404  0.668738  0.483951  0.839873"
      ]
     },
     "execution_count": 66,
     "metadata": {},
     "output_type": "execute_result"
    }
   ],
   "source": [
    "n=6\n",
    "C=Circulant(rand(n))"
   ]
  },
  {
   "cell_type": "code",
   "execution_count": 67,
   "metadata": {
    "collapsed": false
   },
   "outputs": [
    {
     "data": {
      "text/plain": [
       "6-element Array{Complex{Float64},1}:\n",
       "    4.70036+0.0im     \n",
       "   -0.10295+0.534083im\n",
       "   -0.10295-0.534083im\n",
       "   0.317237+0.312407im\n",
       "   0.317237-0.312407im\n",
       " -0.0896933+0.0im     "
      ]
     },
     "execution_count": 67,
     "metadata": {},
     "output_type": "execute_result"
    }
   ],
   "source": [
    "λ=eigvals(full(C))"
   ]
  },
  {
   "cell_type": "code",
   "execution_count": 68,
   "metadata": {
    "collapsed": false
   },
   "outputs": [
    {
     "data": {
      "text/plain": [
       "6x6 Array{Float64,2}:\n",
       " 7.80923e-5  9.94615e-5  4.61706e-5  1.49864e-5  9.53938e-5  9.4143e-5 \n",
       " 1.40809e-5  5.94743e-6  7.90804e-5  2.0352e-5   2.38248e-5  5.82097e-5\n",
       " 6.55942e-5  5.50246e-5  1.48565e-5  7.78751e-5  8.99909e-5  5.49387e-5\n",
       " 8.52461e-5  5.61173e-5  9.70967e-5  3.98743e-5  3.37698e-5  2.80123e-5\n",
       " 9.10812e-5  7.86243e-5  1.58107e-5  5.94569e-6  5.10499e-5  9.54479e-6\n",
       " 5.96041e-5  9.68311e-6  7.16509e-5  6.48051e-5  6.00179e-5  4.16628e-5"
      ]
     },
     "execution_count": 68,
     "metadata": {},
     "output_type": "execute_result"
    }
   ],
   "source": [
    "ΔC=rand(n,n)*0.0001"
   ]
  },
  {
   "cell_type": "code",
   "execution_count": 69,
   "metadata": {
    "collapsed": false
   },
   "outputs": [
    {
     "name": "stdout",
     "output_type": "stream",
     "text": [
      "norm(ΔC) = 0.0003280799685464677\n"
     ]
    },
    {
     "data": {
      "text/plain": [
       "6-element Array{Complex{Float64},1}:\n",
       "   4.70067+0.0im     \n",
       " -0.102963+0.534077im\n",
       " -0.102963-0.534077im\n",
       "  0.317219+0.312422im\n",
       "  0.317219-0.312422im\n",
       " -0.089717+0.0im     "
      ]
     },
     "execution_count": 69,
     "metadata": {},
     "output_type": "execute_result"
    }
   ],
   "source": [
    "@show norm(ΔC)\n",
    "μ=eigvals(C+ΔC)"
   ]
  },
  {
   "cell_type": "code",
   "execution_count": 70,
   "metadata": {
    "collapsed": false
   },
   "outputs": [
    {
     "data": {
      "text/plain": [
       "6-element Array{Complex{Float64},1}:\n",
       "    4.70036+0.0im     \n",
       "   -0.10295+0.534083im\n",
       "   -0.10295-0.534083im\n",
       "   0.317237+0.312407im\n",
       "   0.317237-0.312407im\n",
       " -0.0896933+0.0im     "
      ]
     },
     "execution_count": 70,
     "metadata": {},
     "output_type": "execute_result"
    }
   ],
   "source": [
    "λ"
   ]
  },
  {
   "cell_type": "markdown",
   "metadata": {},
   "source": [
    "### Example - Hermitian matrix"
   ]
  },
  {
   "cell_type": "code",
   "execution_count": 72,
   "metadata": {
    "collapsed": false
   },
   "outputs": [
    {
     "data": {
      "text/plain": [
       "10x6 Array{Float64,2}:\n",
       " 4.68723e6  -1.61978e6  -1.43215e8  9.92442e7  9.38944e7  -1.05361e8\n",
       " 2.92458e7  -6.01205e7  -6.86453e6  1.09225e8  2.93499e7  -1.34852e8\n",
       " 3.98754e7  -1.39037e8  -5.42486e7  7.08408e7  6.20342e7  -5.40849e7\n",
       " 7.19523e7  -6.66203e7  -7.26219e7  9.29318e7  1.77954e8  -6.67456e7\n",
       " 2.50905e7  -2.16041e8  -1.74833e7  1.51602e8  1.61512e7  -1.68418e8\n",
       " 7.12306e7  -6.63539e7  -5.10338e7  5.67614e7  1.9457e8   -8.57768e7\n",
       " 7.69074e7  -1.62113e8  -8.25782e7  1.95486e8  6.60085e7  -4.65106e7\n",
       " 5.62677e7  -1.09113e8  -1.35853e7  2.24811e7  5.41631e7  -2.62331e7\n",
       " 5.44872e6  -1.63262e8  -1.20547e8  5.24115e7  5.1354e7   -1.10613e8\n",
       " 4.1468e7   -7.48028e7  -9.90906e7  4.61141e7  1.94056e8  -7.8754e7 "
      ]
     },
     "execution_count": 72,
     "metadata": {},
     "output_type": "execute_result"
    }
   ],
   "source": [
    "m=10\n",
    "n=6\n",
    "A=rand(m,n)\n",
    "# Some scaling\n",
    "D=diagm((rand(n)-0.5)*exp(20))\n",
    "A=A*D"
   ]
  },
  {
   "cell_type": "code",
   "execution_count": 73,
   "metadata": {
    "collapsed": false
   },
   "outputs": [
    {
     "data": {
      "text/plain": [
       "6x6 Array{Float64,2}:\n",
       "  1.0         -0.00900098   0.334128    0.130912    0.463433   0.619772 \n",
       " -0.00900098   1.0         -0.295965   -0.345767    0.535686   0.151591 \n",
       "  0.334128    -0.295965     1.0         0.0404434  -0.33555   -0.0870318\n",
       "  0.130912    -0.345767     0.0404434   1.0        -0.356336  -0.29632  \n",
       "  0.463433     0.535686    -0.33555    -0.356336    1.0        0.317913 \n",
       "  0.619772     0.151591    -0.0870318  -0.29632     0.317913   1.0      "
      ]
     },
     "execution_count": 73,
     "metadata": {},
     "output_type": "execute_result"
    }
   ],
   "source": [
    "A=cor(A)"
   ]
  },
  {
   "cell_type": "code",
   "execution_count": 74,
   "metadata": {
    "collapsed": false
   },
   "outputs": [
    {
     "data": {
      "text/plain": [
       "6x6 Array{Float64,2}:\n",
       "  1.0e-5      -1.36018e-6   3.17499e-6   3.0635e-6   -5.81645e-6  -1.51331e-6\n",
       " -1.36018e-6   1.0e-5       3.64825e-6  -2.11891e-7  -4.10982e-6  -2.80424e-6\n",
       "  3.17499e-6   3.64825e-6   1.0e-5       1.48331e-6  -3.93263e-6  -4.11282e-6\n",
       "  3.0635e-6   -2.11891e-7   1.48331e-6   1.0e-5       3.69778e-7   5.84041e-6\n",
       " -5.81645e-6  -4.10982e-6  -3.93263e-6   3.69778e-7   1.0e-5       8.73753e-7\n",
       " -1.51331e-6  -2.80424e-6  -4.11282e-6   5.84041e-6   8.73753e-7   1.0e-5    "
      ]
     },
     "execution_count": 74,
     "metadata": {},
     "output_type": "execute_result"
    }
   ],
   "source": [
    "ΔA=cor(rand(m,n)*D)*1e-5"
   ]
  },
  {
   "cell_type": "code",
   "execution_count": 75,
   "metadata": {
    "collapsed": false
   },
   "outputs": [
    {
     "data": {
      "text/plain": [
       "6x6 Array{Float64,2}:\n",
       "  1.00001     -0.00900234   0.334131    0.130915    0.463427   0.619771 \n",
       " -0.00900234   1.00001     -0.295961   -0.345768    0.535682   0.151589 \n",
       "  0.334131    -0.295961     1.00001     0.0404449  -0.335554  -0.0870359\n",
       "  0.130915    -0.345768     0.0404449   1.00001    -0.356336  -0.296314 \n",
       "  0.463427     0.535682    -0.335554   -0.356336    1.00001    0.317914 \n",
       "  0.619771     0.151589    -0.0870359  -0.296314    0.317914   1.00001  "
      ]
     },
     "execution_count": 75,
     "metadata": {},
     "output_type": "execute_result"
    }
   ],
   "source": [
    "B=A+ΔA"
   ]
  },
  {
   "cell_type": "code",
   "execution_count": 76,
   "metadata": {
    "collapsed": false
   },
   "outputs": [
    {
     "data": {
      "text/plain": [
       "6x2 Array{Float64,2}:\n",
       " 0.0151637  0.015175\n",
       " 0.446823   0.446835\n",
       " 0.716278   0.71629 \n",
       " 0.93175    0.931759\n",
       " 1.61492    1.61493 \n",
       " 2.27507    2.27507 "
      ]
     },
     "execution_count": 76,
     "metadata": {},
     "output_type": "execute_result"
    }
   ],
   "source": [
    "λ,U=eig(A) \n",
    "μ=eigvals(B)\n",
    "[λ μ]"
   ]
  },
  {
   "cell_type": "code",
   "execution_count": 77,
   "metadata": {
    "collapsed": false
   },
   "outputs": [
    {
     "data": {
      "text/plain": [
       "2.1907353225260797e-5"
      ]
     },
     "execution_count": 77,
     "metadata": {},
     "output_type": "execute_result"
    }
   ],
   "source": [
    "norm(ΔA)"
   ]
  },
  {
   "cell_type": "code",
   "execution_count": 79,
   "metadata": {
    "collapsed": false
   },
   "outputs": [
    {
     "data": {
      "text/plain": [
       "6-element Array{Float64,1}:\n",
       " -0.169941\n",
       " -0.489829\n",
       " -0.469836\n",
       " -0.219923\n",
       " -0.319888\n",
       "  0.59979 "
      ]
     },
     "execution_count": 79,
     "metadata": {},
     "output_type": "execute_result"
    }
   ],
   "source": [
    "# Residual bounds - how close is μ, y to λ[2],X[:,2]\n",
    "k=3\n",
    "μ=round(λ[k],2)\n",
    "y=round(U[:,k],2)\n",
    "y=y/norm(y)"
   ]
  },
  {
   "cell_type": "code",
   "execution_count": 80,
   "metadata": {
    "collapsed": false
   },
   "outputs": [
    {
     "data": {
      "text/plain": [
       "0.72"
      ]
     },
     "execution_count": 80,
     "metadata": {},
     "output_type": "execute_result"
    }
   ],
   "source": [
    "μ"
   ]
  },
  {
   "cell_type": "code",
   "execution_count": 81,
   "metadata": {
    "collapsed": false
   },
   "outputs": [
    {
     "data": {
      "text/plain": [
       "6-element Array{Float64,1}:\n",
       " -0.00546351 \n",
       " -0.000961872\n",
       "  0.00287959 \n",
       "  0.00279741 \n",
       " -0.00401788 \n",
       " -0.00727543 "
      ]
     },
     "execution_count": 81,
     "metadata": {},
     "output_type": "execute_result"
    }
   ],
   "source": [
    "# Fact 9\n",
    "r=A*y-μ*y"
   ]
  },
  {
   "cell_type": "code",
   "execution_count": 82,
   "metadata": {
    "collapsed": false
   },
   "outputs": [
    {
     "data": {
      "text/plain": [
       "(0.0037220705637717177,0.010768841653597537)"
      ]
     },
     "execution_count": 82,
     "metadata": {},
     "output_type": "execute_result"
    }
   ],
   "source": [
    "minimum(abs(μ-λ)), norm(r)"
   ]
  },
  {
   "cell_type": "code",
   "execution_count": 83,
   "metadata": {
    "collapsed": false
   },
   "outputs": [
    {
     "data": {
      "text/plain": [
       "6-element Array{Float64,1}:\n",
       " -0.00608328\n",
       " -0.00274827\n",
       "  0.00116611\n",
       "  0.00199535\n",
       " -0.00518451\n",
       " -0.00508801"
      ]
     },
     "execution_count": 83,
     "metadata": {},
     "output_type": "execute_result"
    }
   ],
   "source": [
    "# Fact 10 - μ is Rayleigh quotient\n",
    "μ=(y'*A*y)[] # Vector, unfortunately\n",
    "r=A*y-μ*y"
   ]
  },
  {
   "cell_type": "code",
   "execution_count": 84,
   "metadata": {
    "collapsed": false
   },
   "outputs": [
    {
     "data": {
      "text/plain": [
       "0.2153971594841746"
      ]
     },
     "execution_count": 84,
     "metadata": {},
     "output_type": "execute_result"
    }
   ],
   "source": [
    "η=min(abs(μ-λ[k-1]),abs(μ-λ[k+1]))"
   ]
  },
  {
   "cell_type": "code",
   "execution_count": 85,
   "metadata": {
    "collapsed": false
   },
   "outputs": [
    {
     "data": {
      "text/plain": [
       "(7.508693667368505e-5,0.00047664259468324665)"
      ]
     },
     "execution_count": 85,
     "metadata": {},
     "output_type": "execute_result"
    }
   ],
   "source": [
    "μ-λ[k], norm(r)^2/η"
   ]
  },
  {
   "cell_type": "code",
   "execution_count": 86,
   "metadata": {
    "collapsed": false
   },
   "outputs": [
    {
     "data": {
      "text/plain": [
       "(0.00902764493773874,0.04704098848494193)"
      ]
     },
     "execution_count": 86,
     "metadata": {},
     "output_type": "execute_result"
    }
   ],
   "source": [
    "# Eigenvector bound\n",
    "# cos(θ)\n",
    "cosθ=dot(y,U[:,k])\n",
    "# sin(θ)\n",
    "sinθ=sqrt(1-cosθ^2)\n",
    "sinθ,norm(r)/η"
   ]
  },
  {
   "cell_type": "code",
   "execution_count": 89,
   "metadata": {
    "collapsed": false
   },
   "outputs": [
    {
     "data": {
      "text/plain": [
       "([0.015163653655468411,0.4468225524462972,0.7162779294362283,0.9317501758570765,1.6149200635986434,2.275065625006287],[0.015182085709575355,0.7163542531793838,0.446860740393538],\n",
       "6x3 Array{Float64,2}:\n",
       " -0.0020104     0.00352427  -0.00555125 \n",
       " -0.00231547    0.00316844  -0.00286047 \n",
       " -0.000168061  -0.00148052   0.000848665\n",
       "  0.00325943   -0.00219385   0.00164777 \n",
       " -0.00289782    0.00469999  -0.00536911 \n",
       " -0.00294261    0.00412861  -0.00550346 )"
      ]
     },
     "execution_count": 89,
     "metadata": {},
     "output_type": "execute_result"
    }
   ],
   "source": [
    "# Residual bounds - Fact 13\n",
    "U=eigvecs(A)\n",
    "Q=round(U[:,1:3],2)\n",
    "# Orthogonalize\n",
    "X,R=qr(Q)\n",
    "M=X'*A*X\n",
    "R=A*X-X*M\n",
    "μ=eigvals(M)\n",
    "λ, μ, R"
   ]
  },
  {
   "cell_type": "code",
   "execution_count": 90,
   "metadata": {
    "collapsed": false
   },
   "outputs": [
    {
     "data": {
      "text/plain": [
       "false"
      ]
     },
     "execution_count": 90,
     "metadata": {},
     "output_type": "execute_result"
    }
   ],
   "source": [
    "# The entries of μ are not ordered - which algorithm was called?\n",
    "issym(M)"
   ]
  },
  {
   "cell_type": "code",
   "execution_count": 91,
   "metadata": {
    "collapsed": false
   },
   "outputs": [
    {
     "data": {
      "text/plain": [
       "3-element Array{Float64,1}:\n",
       " 0.0151821\n",
       " 0.446861 \n",
       " 0.716354 "
      ]
     },
     "execution_count": 91,
     "metadata": {},
     "output_type": "execute_result"
    }
   ],
   "source": [
    "M=Hermitian(M)\n",
    "R=A*X-X*M\n",
    "μ=eigvals(M)"
   ]
  },
  {
   "cell_type": "code",
   "execution_count": 92,
   "metadata": {
    "collapsed": false
   },
   "outputs": [
    {
     "data": {
      "text/plain": [
       "0.21547224642084828"
      ]
     },
     "execution_count": 92,
     "metadata": {},
     "output_type": "execute_result"
    }
   ],
   "source": [
    "η=λ[4]-λ[3]"
   ]
  },
  {
   "cell_type": "code",
   "execution_count": 93,
   "metadata": {
    "collapsed": false
   },
   "outputs": [
    {
     "data": {
      "text/plain": [
       "(8.731193333350986e-5,0.0009618904768011849)"
      ]
     },
     "execution_count": 93,
     "metadata": {},
     "output_type": "execute_result"
    }
   ],
   "source": [
    "norm(λ[1:3]-μ), vecnorm(R)^2/η"
   ]
  },
  {
   "cell_type": "code",
   "execution_count": 94,
   "metadata": {
    "collapsed": false
   },
   "outputs": [
    {
     "data": {
      "text/plain": [
       "6x6 Array{Float64,2}:\n",
       "  1.0         -0.00900098   0.334128   0.0        0.0        0.0     \n",
       " -0.00900098   1.0         -0.295965   0.0        0.0        0.0     \n",
       "  0.334128    -0.295965     1.0        0.0        0.0        0.0     \n",
       "  0.0          0.0          0.0        1.0       -0.356336  -0.29632 \n",
       "  0.0          0.0          0.0       -0.356336   1.0        0.317913\n",
       "  0.0          0.0          0.0       -0.29632    0.317913   1.0     "
      ]
     },
     "execution_count": 94,
     "metadata": {},
     "output_type": "execute_result"
    }
   ],
   "source": [
    "# Fact 13\n",
    "M=A[1:3,1:3]\n",
    "H=A[4:6,4:6]\n",
    "E=A[4:6,1:3]\n",
    "# Block-diagonal matrix\n",
    "B=cat([1,2],M,H)"
   ]
  },
  {
   "cell_type": "code",
   "execution_count": 95,
   "metadata": {
    "collapsed": false
   },
   "outputs": [
    {
     "data": {
      "text/plain": [
       "(\n",
       "6x2 Array{Float64,2}:\n",
       " 0.0151637  0.558084\n",
       " 0.446823   0.64121 \n",
       " 0.716278   0.711098\n",
       " 0.93175    0.991065\n",
       " 1.61492    1.45085 \n",
       " 2.27507    1.64769 ,\n",
       "\n",
       "0.9265931815031623)"
      ]
     },
     "execution_count": 95,
     "metadata": {},
     "output_type": "execute_result"
    }
   ],
   "source": [
    "η=minimum(abs(eigvals(M)-eigvals(H)))\n",
    "μ=eigvals(B)\n",
    "[λ μ], 2*norm(E)^2/(η+sqrt(η^2+4*norm(E)^2))"
   ]
  },
  {
   "cell_type": "code",
   "execution_count": 96,
   "metadata": {
    "collapsed": false
   },
   "outputs": [
    {
     "data": {
      "text/plain": [
       "([0.015174991050246065,0.4468350586829201,0.7162898094187525,0.9317594156811587,1.6149327375994904,2.2750679875674336],\n",
       "6x6 Array{Float64,2}:\n",
       "  0.627882    0.0780697  -0.165189   0.196101   -0.649864  -0.334069\n",
       "  0.0952271  -0.661411   -0.48816   -0.0210619   0.354002  -0.435209\n",
       " -0.362628   -0.0996506  -0.471654  -0.56877    -0.519867   0.205799\n",
       " -0.318856   -0.269897   -0.216488   0.773022   -0.234665   0.354948\n",
       " -0.460575    0.565897   -0.315623   0.198291    0.056344  -0.570543\n",
       " -0.389099   -0.391698    0.604541  -0.0268218  -0.351931  -0.452913)"
      ]
     },
     "execution_count": 96,
     "metadata": {},
     "output_type": "execute_result"
    }
   ],
   "source": [
    "# Eigenspace bounds - Fact 14\n",
    "B=A+ΔA\n",
    "μ,V=eig(B)"
   ]
  },
  {
   "cell_type": "code",
   "execution_count": 97,
   "metadata": {
    "collapsed": false
   },
   "outputs": [
    {
     "data": {
      "text/plain": [
       "3-element Array{Float64,1}:\n",
       " 3.92554e-7\n",
       " 3.10706e-6\n",
       " 2.33575e-5"
      ]
     },
     "execution_count": 97,
     "metadata": {},
     "output_type": "execute_result"
    }
   ],
   "source": [
    "# sin(Θ(U[:,1:3],V[:,1:3]))\n",
    "X=U[:,1:3]\n",
    "Q=V[:,1:3]\n",
    "cosθ=svdvals(sqrtm(Q'*Q)*Q'*X*sqrtm(X'*X))\n",
    "sinθ=sqrt(1-cosθ.^2)"
   ]
  },
  {
   "cell_type": "code",
   "execution_count": 98,
   "metadata": {
    "collapsed": false
   },
   "outputs": [
    {
     "data": {
      "text/plain": [
       "3x3 Array{Float64,2}:\n",
       " 0.0151637    1.69553e-6   3.08338e-6\n",
       " 1.69553e-6   0.446823    -3.13103e-6\n",
       " 3.08338e-6  -3.13103e-6   0.716278  "
      ]
     },
     "execution_count": 98,
     "metadata": {},
     "output_type": "execute_result"
    }
   ],
   "source": [
    "# Bound\n",
    "M=Q'*A*Q"
   ]
  },
  {
   "cell_type": "code",
   "execution_count": 99,
   "metadata": {
    "collapsed": false
   },
   "outputs": [
    {
     "data": {
      "text/plain": [
       "6x3 Array{Float64,2}:\n",
       "  2.06616e-7   1.5562e-6   -1.42633e-6\n",
       "  1.87939e-6  -1.70765e-6  -1.43394e-6\n",
       " -4.14125e-6   2.06829e-6   3.7911e-6 \n",
       "  1.77607e-6   1.0333e-6   -2.58071e-6\n",
       "  2.47296e-6  -1.00309e-6  -2.67145e-6\n",
       "  2.70217e-7   5.06293e-7  -9.08757e-7"
      ]
     },
     "execution_count": 99,
     "metadata": {},
     "output_type": "execute_result"
    }
   ],
   "source": [
    "R=A*Q-Q*M"
   ]
  },
  {
   "cell_type": "code",
   "execution_count": 100,
   "metadata": {
    "collapsed": false
   },
   "outputs": [
    {
     "data": {
      "text/plain": [
       "([0.015163653681256495,0.7162779295540006,0.44682255245602837],[0.015163653655468411,0.4468225524462972,0.7162779294362283,0.9317501758570765,1.6149200635986434,2.275065625006287])"
      ]
     },
     "execution_count": 100,
     "metadata": {},
     "output_type": "execute_result"
    }
   ],
   "source": [
    "eigvals(M), λ"
   ]
  },
  {
   "cell_type": "code",
   "execution_count": 101,
   "metadata": {
    "collapsed": false
   },
   "outputs": [
    {
     "data": {
      "text/plain": [
       "(2.3566477335760387e-5,1.7870659763096776e-5)"
      ]
     },
     "execution_count": 101,
     "metadata": {},
     "output_type": "execute_result"
    }
   ],
   "source": [
    "η=abs(eigvals(M)[3]-λ[4])\n",
    "vecnorm(sinθ), vecnorm(R)/η"
   ]
  },
  {
   "cell_type": "code",
   "execution_count": null,
   "metadata": {
    "collapsed": true
   },
   "outputs": [],
   "source": []
  }
 ],
 "metadata": {
  "kernelspec": {
   "display_name": "Julia 0.4.5",
   "language": "julia",
   "name": "julia-0.4"
  },
  "language_info": {
   "file_extension": ".jl",
   "mimetype": "application/julia",
   "name": "julia",
   "version": "0.4.5"
  }
 },
 "nbformat": 4,
 "nbformat_minor": 0
}
