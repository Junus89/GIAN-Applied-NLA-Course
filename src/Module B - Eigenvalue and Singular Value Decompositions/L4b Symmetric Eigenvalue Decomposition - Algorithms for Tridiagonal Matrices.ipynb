{
 "cells": [
  {
   "cell_type": "markdown",
   "metadata": {},
   "source": [
    "# Symmetric Eigenvalue Decomposition - Algorithms for Tridiagonal Matrices\n",
    "\n",
    "---\n",
    "\n",
    "Due to their importance, there is plethora of excellent algorithms for symmetric tridiagonal matrices.\n",
    "\n",
    "For more details, see \n",
    "[I. Slapničar, Symmetric Matrix Eigenvalue Techniques][Hog14] and the references therein.\n",
    "\n",
    "[Hog14]: #1 \"L. Hogben, ed., 'Handbook of Linear Algebra', pp. 55.1-55.25, CRC Press, Boca Raton, 2014.\"\n",
    "\n",
    "\n",
    "## Prerequisites\n",
    "\n",
    "The reader should be familiar with concepts of eigenvalues and eigenvectors, related perturbation theory, and algorithms. \n",
    "\n",
    " \n",
    "## Competences \n",
    "\n",
    "The reader should be able to apply adequate algorithm to a given symmetric tridiagonal matrix, and to assess its speed and the accuracy of the solution."
   ]
  },
  {
   "cell_type": "markdown",
   "metadata": {},
   "source": [
    "## Bisection and inverse iteration\n",
    "\n",
    "The bisection method is convenient if only part of the spectrum is needed.\n",
    "If the eigenvectors are needed, as well, they can be efficiently computed by\n",
    "the inverse iteration method. \n",
    "\n",
    "### Facts\n",
    "\n",
    "$A$ is a real symmetric $n\\times n$ matrix and $T$ is a real symmetric\n",
    "tridiagonal $n\\times n$ matrix.\n",
    "  \n",
    "1. _(Application of Sylvester's Theorem)_ \n",
    "Let $\\alpha,\\beta\\in\\mathbb{R}$ with $\\alpha<\\beta$. The number of\n",
    "  eigenvalues of $A$ in the interval $[\\alpha,\\beta)$ is equal to $\\nu\n",
    "  (A- \\beta I)-\\nu(A-\\alpha I)$. By systematically choosing the intervals $[\\alpha,\\beta)$, the\n",
    "  bisection method pinpoints each eigenvalue of $A$ to any desired accuracy.\n",
    "\n",
    "2. The factorization $T-\\mu I=LDL^T$, where $D=\\mathop{\\mathrm{diag}}(d_1,\\dots,d_n)$\n",
    "  and $L$ is the unit lower bidiagonal matrix, is computed as:\n",
    "\\begin{align*}\n",
    "& d_{1}=T_{11}-\\mu, \\quad    d_{i}=(T_{ii}-\\mu)-\n",
    "\\frac{T_{i,i-1}^2}{d_{i-1}}, \\quad i=2,\\ldots n, \\\\\n",
    "& L_{i+1,i}=\\frac{T_{i+1,i}}{d_{i}}, \\quad i=1,\\ldots,n-1.\n",
    "\\end{align*}\n",
    "Since the matrices $T$ and $D$ have the same inertia, this recursion\n",
    "enables an efficient implementation of the bisection method for $T$.\n",
    "\n",
    "3. The factorization from Fact 2 is essentially Gaussian elimination without\n",
    "  pivoting. Nevertheless, if $d_i\\neq 0$ for all $i$,\n",
    "  the above recursion is very stable.\n",
    "  Even when $d_{i-1}=0$ for some $i$, if the IEEE arithmetic is used, the\n",
    "  computation will continue and the inertia will be computed\n",
    "  correctly. Namely, in that case, we would have $d_i=-\\infty$, $l_{i+1,i}=0$, \n",
    "  and $d_{i+1}=t_{i+1.i+1}-\\mu$.\n",
    "\n",
    "4. Computing one eigenvalue of $T$ by using the recursion from Fact 2 and bisection\n",
    "  requires $O(n)$ operations. The corresponding eigenvector is computed\n",
    "by inverse iteration. The convergence is very\n",
    "fast, so the cost of computing each eigenvector is also $O(n)$\n",
    "operations. Therefore, the overall cost for computing all eigenvalues and\n",
    "eigenvectors is $O(n^2)$ operations.  \n",
    "\n",
    "5. Both, bisection and inverse iteration are highly\n",
    "parallel since each eigenvalue and eigenvector can be computed independently.  \n",
    "\n",
    "6. If some of the eigenvalues are too close, the corresponding eigenvectors\n",
    "  computed by inverse iteration may not be sufficiently orthogonal. In this\n",
    "  case, it is necessary to orthogonalize these eigenvectors  (for example, by the\n",
    "  modified Gram--Schmidt procedure). If the number of close eigenvalues is too\n",
    "  large, the overall operation count can increase to $O(n^3)$.\n",
    "\n",
    "7. The EVD computed by bisection and inverse iteration satisfies\n",
    "  the error bounds from previous notebook.\n",
    "  \n",
    "8. The bisection method for tridiagonal matrices is implemented in the \n",
    "LAPACK subroutine [DSTEBZ](http://www.netlib.org/lapack/explore-html/d4/d48/dstebz_8f.html). This routine can compute all eigenvalues\n",
    "in a given interval or the eigenvalues from $\\lambda_l$ to $\\lambda_k$, where $l<k$,\n",
    "and the eigenvalues are ordered from smallest to largest.\n",
    "Inverse iteration (with reorthogonalization) is implemented in the LAPACK\n",
    "subroutine DSTEIN. "
   ]
  },
  {
   "cell_type": "code",
   "execution_count": 1,
   "metadata": {
    "collapsed": false
   },
   "outputs": [
    {
     "data": {
      "text/plain": [
       "0"
      ]
     },
     "execution_count": 1,
     "metadata": {},
     "output_type": "execute_result"
    }
   ],
   "source": [
    "a=0"
   ]
  },
  {
   "cell_type": "code",
   "execution_count": 2,
   "metadata": {
    "collapsed": false
   },
   "outputs": [
    {
     "data": {
      "text/plain": [
       "0"
      ]
     },
     "execution_count": 2,
     "metadata": {},
     "output_type": "execute_result"
    }
   ],
   "source": [
    "b=-a"
   ]
  },
  {
   "cell_type": "code",
   "execution_count": 3,
   "metadata": {
    "collapsed": false
   },
   "outputs": [
    {
     "data": {
      "text/plain": [
       "true"
      ]
     },
     "execution_count": 3,
     "metadata": {},
     "output_type": "execute_result"
    }
   ],
   "source": [
    "b==a"
   ]
  },
  {
   "cell_type": "code",
   "execution_count": 4,
   "metadata": {
    "collapsed": false
   },
   "outputs": [
    {
     "data": {
      "text/plain": [
       "Inf"
      ]
     },
     "execution_count": 4,
     "metadata": {},
     "output_type": "execute_result"
    }
   ],
   "source": [
    "c=1/a"
   ]
  },
  {
   "cell_type": "code",
   "execution_count": 7,
   "metadata": {
    "collapsed": false
   },
   "outputs": [
    {
     "data": {
      "text/plain": [
       "Inf"
      ]
     },
     "execution_count": 7,
     "metadata": {},
     "output_type": "execute_result"
    }
   ],
   "source": [
    "d=1/(-a)"
   ]
  },
  {
   "cell_type": "code",
   "execution_count": 6,
   "metadata": {
    "collapsed": false
   },
   "outputs": [
    {
     "data": {
      "text/plain": [
       "true"
      ]
     },
     "execution_count": 6,
     "metadata": {},
     "output_type": "execute_result"
    }
   ],
   "source": [
    "c==d"
   ]
  },
  {
   "cell_type": "code",
   "execution_count": 8,
   "metadata": {
    "collapsed": false
   },
   "outputs": [
    {
     "data": {
      "text/plain": [
       "6x6 SymTridiagonal{Float64}:\n",
       " 0.811349  0.30956   0.0        0.0        0.0       0.0      \n",
       " 0.30956   0.419992  0.540855   0.0        0.0       0.0      \n",
       " 0.0       0.540855  0.835802   0.0948444  0.0       0.0      \n",
       " 0.0       0.0       0.0948444  0.312276   0.654828  0.0      \n",
       " 0.0       0.0       0.0        0.654828   0.249922  0.903209 \n",
       " 0.0       0.0       0.0        0.0        0.903209  0.0988848"
      ]
     },
     "execution_count": 8,
     "metadata": {},
     "output_type": "execute_result"
    }
   ],
   "source": [
    "n=6\n",
    "T=SymTridiagonal(rand(n),rand(n-1))"
   ]
  },
  {
   "cell_type": "code",
   "execution_count": null,
   "metadata": {
    "collapsed": true
   },
   "outputs": [],
   "source": []
  },
  {
   "cell_type": "code",
   "execution_count": null,
   "metadata": {
    "collapsed": true
   },
   "outputs": [],
   "source": []
  },
  {
   "cell_type": "code",
   "execution_count": 9,
   "metadata": {
    "collapsed": false
   },
   "outputs": [
    {
     "data": {
      "text/plain": [
       "([-0.9105794964646658,-0.03665831334935343,0.23912298092498285,0.8189478581683408,1.2690716846987622,1.3483212890006295],\n",
       "6x6 Array{Float64,2}:\n",
       " -0.00177423  -0.291413    0.0776332    0.871881    0.359603  0.139848\n",
       "  0.00986917   0.798297   -0.143506     0.0214021   0.531718  0.242586\n",
       " -0.0232639   -0.507221    0.00355689  -0.483236    0.628916  0.336334\n",
       "  0.372082     0.113529    0.795975    -0.0361717  -0.159129  0.434119\n",
       " -0.691474     0.0129695  -0.0894357    0.0420035  -0.323602  0.638134\n",
       "  0.61869     -0.0864241  -0.576014     0.0526869  -0.249772  0.461303)"
      ]
     },
     "execution_count": 9,
     "metadata": {},
     "output_type": "execute_result"
    }
   ],
   "source": [
    "λ,U=eig(T)"
   ]
  },
  {
   "cell_type": "code",
   "execution_count": 10,
   "metadata": {
    "collapsed": false
   },
   "outputs": [
    {
     "data": {
      "text/html": [
       "2 methods for generic function <b>stebz!</b>:<ul><li> stebz!(range::<b>Char</b>, order::<b>Char</b>, vl::<b>Float64</b>, vu::<b>Float64</b>, il::<b>Integer</b>, iu::<b>Integer</b>, abstol::<b>Real</b>, dv::<b>Array{Float64,1}</b>, ev::<b>Array{Float64,1}</b>) at <a href=\"https://github.com/JuliaLang/julia/tree/2ac304dfba75fad148d4070ef4f8a2e400c305bb/base/linalg/lapack.jl#L3152\" target=\"_blank\">linalg/lapack.jl:3152</a><li> stebz!(range::<b>Char</b>, order::<b>Char</b>, vl::<b>Float32</b>, vu::<b>Float32</b>, il::<b>Integer</b>, iu::<b>Integer</b>, abstol::<b>Real</b>, dv::<b>Array{Float32,1}</b>, ev::<b>Array{Float32,1}</b>) at <a href=\"https://github.com/JuliaLang/julia/tree/2ac304dfba75fad148d4070ef4f8a2e400c305bb/base/linalg/lapack.jl#L3152\" target=\"_blank\">linalg/lapack.jl:3152</a></ul>"
      ],
      "text/plain": [
       "# 2 methods for generic function \"stebz!\":\n",
       "stebz!(range::Char, order::Char, vl::Float64, vu::Float64, il::Integer, iu::Integer, abstol::Real, dv::Array{Float64,1}, ev::Array{Float64,1}) at linalg/lapack.jl:3152\n",
       "stebz!(range::Char, order::Char, vl::Float32, vu::Float32, il::Integer, iu::Integer, abstol::Real, dv::Array{Float32,1}, ev::Array{Float32,1}) at linalg/lapack.jl:3152"
      ]
     },
     "execution_count": 10,
     "metadata": {},
     "output_type": "execute_result"
    }
   ],
   "source": [
    "methods(LAPACK.stebz!)"
   ]
  },
  {
   "cell_type": "code",
   "execution_count": 11,
   "metadata": {
    "collapsed": false
   },
   "outputs": [
    {
     "data": {
      "text/plain": [
       "([-0.9105794964646634,-0.03665831334935581,0.2391229809249844,0.8189478581683407,1.2690716846987624,1.3483212890006293],[1,1,1,1,1,1],[6])"
      ]
     },
     "execution_count": 11,
     "metadata": {},
     "output_type": "execute_result"
    }
   ],
   "source": [
    "λ1, rest=LAPACK.stebz!('A','E',1.0,1.0,1,1,2*eps(),T.dv,T.ev)"
   ]
  },
  {
   "cell_type": "code",
   "execution_count": 12,
   "metadata": {
    "collapsed": false
   },
   "outputs": [
    {
     "data": {
      "text/plain": [
       "6-element Array{Float64,1}:\n",
       " -2.44249e-15\n",
       "  2.38004e-15\n",
       " -1.55431e-15\n",
       "  1.11022e-16\n",
       " -2.22045e-16\n",
       "  2.22045e-16"
      ]
     },
     "execution_count": 12,
     "metadata": {},
     "output_type": "execute_result"
    }
   ],
   "source": [
    "λ-λ1"
   ]
  },
  {
   "cell_type": "code",
   "execution_count": 14,
   "metadata": {
    "collapsed": false
   },
   "outputs": [
    {
     "data": {
      "text/plain": [
       "6x6 Array{Float64,2}:\n",
       "  0.00177423  -0.291413    0.0776332    0.871881    0.359603  0.139848\n",
       " -0.00986917   0.798297   -0.143506     0.0214021   0.531718  0.242586\n",
       "  0.0232639   -0.507221    0.00355689  -0.483236    0.628916  0.336334\n",
       " -0.372082     0.113529    0.795975    -0.0361717  -0.159129  0.434119\n",
       "  0.691474     0.0129695  -0.0894357    0.0420035  -0.323602  0.638134\n",
       " -0.61869     -0.0864241  -0.576014     0.0526869  -0.249772  0.461303"
      ]
     },
     "execution_count": 14,
     "metadata": {},
     "output_type": "execute_result"
    }
   ],
   "source": [
    "U1=LAPACK.stein!(T.dv,T.ev,λ1)"
   ]
  },
  {
   "cell_type": "code",
   "execution_count": 15,
   "metadata": {
    "collapsed": false
   },
   "outputs": [
    {
     "data": {
      "text/plain": [
       "([-0.03665831334935581,0.2391229809249844,0.8189478581683407],[1,1,1],[6])"
      ]
     },
     "execution_count": 15,
     "metadata": {},
     "output_type": "execute_result"
    }
   ],
   "source": [
    "# Let us compute just some eigenvalues - from 2nd to 4th\n",
    "λ2,rest=LAPACK.stebz!('I','E',1.0,1.0,2,4,2*eps(),T.dv,T.ev)"
   ]
  },
  {
   "cell_type": "code",
   "execution_count": 16,
   "metadata": {
    "collapsed": false
   },
   "outputs": [
    {
     "data": {
      "text/plain": [
       "6x3 Array{Float64,2}:\n",
       " -0.291413    0.0776332    0.871881 \n",
       "  0.798297   -0.143506     0.0214021\n",
       " -0.507221    0.00355689  -0.483236 \n",
       "  0.113529    0.795975    -0.0361717\n",
       "  0.0129695  -0.0894357    0.0420035\n",
       " -0.0864241  -0.576014     0.0526869"
      ]
     },
     "execution_count": 16,
     "metadata": {},
     "output_type": "execute_result"
    }
   ],
   "source": [
    "U2=LAPACK.stein!(T.dv,T.ev,λ2)"
   ]
  },
  {
   "cell_type": "markdown",
   "metadata": {},
   "source": [
    "## Divide-and-conquer\n",
    "\n",
    "This is currently the fastest method for computing the EVD of a real symmetric\n",
    "tridiagonal matrix $T$. It is based on splitting the given tridiagonal matrix\n",
    "into two matrices, then computing the EVDs of the smaller matrices and\n",
    "computing the final EVD from the two EVDs.\n",
    "\n",
    "\n",
    "$T$ is a real symmetric tridiagonal matrix of order $n$ and\n",
    "$T=U\\Lambda U^T$ is its EVD.\n",
    "\n",
    "### Facts\n",
    "\n",
    "1. Let $T$ be partitioned as\n",
    "$$\n",
    "T=\\begin{bmatrix} T_1 & \\alpha_k e_k e_1^T \\\\\n",
    "\\alpha_k e_1 e_k^T & T_2\n",
    "\\end{bmatrix}.\n",
    "$$\n",
    "We assume that $T$ is unreduced, that is, $\\alpha_i\\neq 0$ for all $i$. Further, we\n",
    "assume that $\\alpha_i>0$ for all $i$, which can be easily be attained by diagonal\n",
    "similarity with a diagonal matrix of signs.\n",
    "Let\n",
    "$$\n",
    "\\hat T_1=T_1- \\alpha_k e_k e_k^T,\\qquad\n",
    "\\hat T_2=T_2- \\alpha_k e_1 e_1^T.\n",
    "$$\n",
    "In other words, $\\hat T_1$ is equal to $T_1$ except that $T_{kk}$ is replaced by $T_{kk}-\\alpha_k$, and \n",
    "$\\hat T_2$ is equal to $T_2$ except that $T_{k+1,k+1}$ is replaced by $T_{k+1,k+1}-\\alpha_k$.\n",
    "Let $\\hat T_i= \\hat U_i \\hat \\Lambda_i \\hat U_i^T$, $i=1,2$, be the\n",
    "respective EVDs and let \n",
    "$v=\\begin{bmatrix}\n",
    "\\hat U_1^T e_k   \\\\\n",
    "\\hat U_2^T e_1\n",
    "\\end{bmatrix}\n",
    "$\n",
    "($v$ consists of the last column of $\\hat U_1^T$ and the\n",
    "first column of $\\hat U_2^T$). Set $\\hat U=\\hat U_1\\oplus \\hat U_2$ and $\\hat\n",
    "\\Lambda=\\hat \\Lambda_1 \\oplus \\hat \\Lambda_2$.\n",
    "Then\n",
    "$$\n",
    "T=\\begin{bmatrix}\\hat U_1 & \\\\ & \\hat U_2 \\end{bmatrix}\n",
    "\\left[\\begin{bmatrix} \\hat \\Lambda_1 & \\\\ & \\hat \\Lambda_2 \\end{bmatrix} + \\alpha_k v v^T\\right] \n",
    "\\begin{bmatrix} \\hat U_1^T & \\\\ & \\hat U_2^T \\end{bmatrix}=\n",
    "\\hat U (\\hat \\Lambda + \\alpha_k v v^T) \\hat U^T.\n",
    "$$\n",
    "If $\\hat \\Lambda + \\alpha_k v v^T=X\\Lambda X^T$\n",
    "is the EVD of the rank-one modification of the diagonal matrix $\\hat \\Lambda$,\n",
    "then $T=U\\Lambda U^T$, where $U=\\hat U X$  is the EVD of $T$. \n",
    "Thus, the original tridiagonal eigenvalue problem\n",
    "is reduced to two smaller tridiagonal eigenvalue problems and one \n",
    "eigenvalue problem for the diagonal-plus-rank-one matrix.\n",
    "\n",
    "2. If all $\\hat \\lambda_i$ are different, then the eigenvalues $\\lambda_i$\n",
    "of $\\hat \\Lambda + \\alpha_k v v^T$ are solutions of the so-called secular\n",
    "equation,\n",
    "$$\n",
    "1+e_k \\sum_{i=1}^n \\frac{v_i^2}{\\hat \\lambda_i-\\lambda}=0.\n",
    "$$\n",
    "The eigenvalues can be computed by bisection, or by some faster  zero finder of the Newton type, and they\n",
    "need to be computed as accurately as possible. The corresponding eigenvectors are \n",
    "$$\n",
    "x_i=(\\hat \\Lambda-\\lambda_i I)^{-1}v.\n",
    "$$\n",
    "\n",
    "3. Each $\\lambda_i$ and $x_i$ in $O(n)$ operations, respectively, so the overall computational cost for computing\n",
    "   the EVD of $\\hat \\Lambda + \\alpha_k v v^T$ is $O(n^2)$ operations. \n",
    "  \n",
    "4. The method can be implemented so that the accuracy of the computed EVD is given by the bound from the previous notebook.\n",
    "\n",
    "5. Tridiagonal Divide-and-conquer method is implemented in the LAPACK subroutine \n",
    "[DSTEDC](http://www.netlib.org/lapack/explore-html/d7/d82/dstedc_8f.html). This routine can compute just the\n",
    "eigenvalues or both, eigenvalues and eigenvectors. \n",
    "\n",
    "The file [lapack.jl](https://github.com/JuliaLang/julia/blob/master/base/linalg/lapack.jl) contains wrappers for a selection of LAPACK routines needed in the current Julia `Base`. However, _all_ LAPACK routines are in the compiled library, so  additional wrappers can be easily written. Notice that arrays are passed directly and scalars as passed as pointers. The wrapper for `DSTEDC`, similar to the ones from the file \n",
    "`lapack.jl` follows."
   ]
  },
  {
   "cell_type": "code",
   "execution_count": 18,
   "metadata": {
    "collapsed": false
   },
   "outputs": [],
   "source": [
    "# Part of the preamble of lapack.jl\n",
    "const liblapack = Base.liblapack_name\n",
    "import Base.blasfunc\n",
    "# import ..LinAlg: BlasFloat, Char, BlasInt, LAPACKException,\n",
    "    # DimensionMismatch, SingularException, PosDefException, chkstride1, chksquare\n",
    "import Base.LinAlg.BlasInt\n",
    "macro assertargsok() #Handle only negative info codes - use only if positive info code \n",
    "    # is useful! \n",
    "    :(info[1]<0 && throw(ArgumentError(\"invalid argument #$(-info[1]) to LAPACK call\"))) \n",
    "end \n",
    "macro lapackerror() #Handle all nonzero info codes \n",
    "    :(info[1]>0 ? throw(LAPACKException(info[1])) : @assertargsok ) \n",
    "    end "
   ]
  },
  {
   "cell_type": "code",
   "execution_count": 19,
   "metadata": {
    "collapsed": false
   },
   "outputs": [],
   "source": [
    "for (stedc, elty) in\n",
    "    ((:dstedc_,:Float64),\n",
    "    (:sstedc_,:Float32))\n",
    "    @eval begin\n",
    "        \"\"\"\n",
    "        COMPZ is CHARACTER*1\n",
    "          = 'N':  Compute eigenvalues only.\n",
    "          = 'I':  Compute eigenvectors of tridiagonal matrix also.\n",
    "          = 'V':  Compute eigenvectors of original dense symmetric\n",
    "                  matrix also.  On entry, Z contains the orthogonal\n",
    "                  matrix used to reduce the original matrix to\n",
    "                  tridiagonal form.\n",
    "        \"\"\"\n",
    "        function stedc!(compz::Char, dv::Vector{$elty}, ev::Vector{$elty}, Z::Array{$elty})\n",
    "            n = length(dv)\n",
    "            ldz=n\n",
    "            if length(ev) != n - 1\n",
    "                throw(DimensionMismatch(\"ev has length $(length(ev)) but needs one less than dv's length, $n)\"))\n",
    "            end\n",
    "            w = deepcopy(dv)\n",
    "            u = deepcopy(ev)\n",
    "            lwork=5*n^2\n",
    "            work = Array($elty, lwork)\n",
    "            liwork=6+6*n+5*n*round(Int,ceil(log(n)/log(2)))\n",
    "            iwork = Array(BlasInt,liwork)\n",
    "            info = Array(BlasInt,1)\n",
    "            ccall(($(blasfunc(stedc)), liblapack), Void,\n",
    "                (Ptr{UInt8}, Ptr{BlasInt}, Ptr{$elty},\n",
    "                Ptr{$elty}, Ptr{$elty}, Ptr{BlasInt}, Ptr{$elty}, Ptr{BlasInt},\n",
    "                Ptr{BlasInt}, Ptr{BlasInt}, Ptr{BlasInt}),\n",
    "                &compz, &n, w,\n",
    "                u, Z, &ldz, work, &lwork, \n",
    "                iwork, &liwork, info) \n",
    "                @lapackerror\n",
    "            w,Z\n",
    "        end\n",
    "    end\n",
    "end"
   ]
  },
  {
   "cell_type": "code",
   "execution_count": 20,
   "metadata": {
    "collapsed": false
   },
   "outputs": [
    {
     "data": {
      "text/plain": [
       "([-0.910579496464663,-0.03665831334935599,0.23912298092498444,0.8189478581683404,1.269071684698762,1.3483212890006295],\n",
       "6x6 Array{Float64,2}:\n",
       " -0.00177423  -0.291413   -0.0776332    0.871881    0.359603  -0.139848\n",
       "  0.00986917   0.798297    0.143506     0.0214021   0.531718  -0.242586\n",
       " -0.0232639   -0.507221   -0.00355689  -0.483236    0.628916  -0.336334\n",
       "  0.372082     0.113529   -0.795975    -0.0361717  -0.159129  -0.434119\n",
       " -0.691474     0.0129695   0.0894357    0.0420035  -0.323602  -0.638134\n",
       "  0.61869     -0.0864241   0.576014     0.0526869  -0.249772  -0.461303)"
      ]
     },
     "execution_count": 20,
     "metadata": {},
     "output_type": "execute_result"
    }
   ],
   "source": [
    "μ,Q=stedc!('I',T.dv,T.ev,eye(n))"
   ]
  },
  {
   "cell_type": "code",
   "execution_count": 21,
   "metadata": {
    "collapsed": false
   },
   "outputs": [
    {
     "data": {
      "text/plain": [
       "6-element Array{Float64,1}:\n",
       " -2.88658e-15\n",
       "  2.56045e-15\n",
       " -1.58207e-15\n",
       "  4.44089e-16\n",
       "  2.22045e-16\n",
       "  0.0        "
      ]
     },
     "execution_count": 21,
     "metadata": {},
     "output_type": "execute_result"
    }
   ],
   "source": [
    "λ-μ"
   ]
  },
  {
   "cell_type": "code",
   "execution_count": 22,
   "metadata": {
    "collapsed": false
   },
   "outputs": [
    {
     "data": {
      "text/plain": [
       "6x6 Array{Float64,2}:\n",
       " -0.910579     -1.27008e-16   4.31717e-16  …  -1.8841e-16   -2.55267e-16\n",
       " -1.23653e-16  -0.0366583    -6.67986e-17      9.58373e-17  -1.35889e-16\n",
       "  4.42894e-16  -7.36171e-17   0.239123         1.00504e-16   2.51523e-16\n",
       "  8.29837e-17   7.69861e-17  -5.0937e-17       7.3027e-17    1.02729e-16\n",
       " -1.64735e-16   8.47351e-17   1.13126e-16      1.26907      -5.9101e-17 \n",
       " -2.5403e-16   -9.83581e-17   1.48495e-16  …  -8.46863e-18   1.34832    "
      ]
     },
     "execution_count": 22,
     "metadata": {},
     "output_type": "execute_result"
    }
   ],
   "source": [
    "Q'*(T*Q)"
   ]
  },
  {
   "cell_type": "code",
   "execution_count": 23,
   "metadata": {
    "collapsed": false
   },
   "outputs": [],
   "source": [
    "# Timings\n",
    "n=3000\n",
    "Tbig=SymTridiagonal(rand(n),rand(n-1));"
   ]
  },
  {
   "cell_type": "code",
   "execution_count": 24,
   "metadata": {
    "collapsed": false
   },
   "outputs": [
    {
     "name": "stdout",
     "output_type": "stream",
     "text": [
      "  1.295860 seconds (225 allocations: 138.143 MB, 0.61% gc time)\n",
      "  0.303881 seconds (24 allocations: 413.545 MB, 14.76% gc time)\n"
     ]
    }
   ],
   "source": [
    "@time eig(Tbig);\n",
    "@time stedc!('I',Tbig.dv,Tbig.ev,eye(n));"
   ]
  },
  {
   "cell_type": "markdown",
   "metadata": {
    "collapsed": true
   },
   "source": [
    "## MRRR\n",
    "\n",
    "The method of Multiple Relatively Robust Representations\n",
    "\n",
    "The computation of the tridiagonal EVD which satisfies the\n",
    "error stabdard error bounds such that the eigenvectors are orthogonal to\n",
    "working precision, all in $O(n^2)$ operations, has been the _holy\n",
    "grail_ of numerical linear algebra for a long time. \n",
    "The method of Multiple Relatively Robust Representations does the job, except in some\n",
    "exceptional cases. The key idea is to implement inverse iteration more\n",
    "carefully. The practical algorithm is quite\n",
    "elaborate and the reader is advised to consider references.\n",
    "\n",
    "The MRRR method is implemented in the LAPACK subroutine \n",
    "[DSTEGR](http://www.netlib.org/lapack/explore-html/d0/d3b/dstegr_8f.html). \n",
    "This routine can compute just the\n",
    "eigenvalues, or both  eigenvalues and eigenvectors."
   ]
  },
  {
   "cell_type": "code",
   "execution_count": 25,
   "metadata": {
    "collapsed": false
   },
   "outputs": [
    {
     "data": {
      "text/html": [
       "3 methods for generic function <b>stegr!</b>:<ul><li> stegr!(jobz::<b>Char</b>, range::<b>Char</b>, dv::<b>Array{Float64,1}</b>, ev::<b>Array{Float64,1}</b>, vl::<b>Real</b>, vu::<b>Real</b>, il::<b>Integer</b>, iu::<b>Integer</b>) at <a href=\"https://github.com/JuliaLang/julia/tree/2ac304dfba75fad148d4070ef4f8a2e400c305bb/base/linalg/lapack.jl#L3180\" target=\"_blank\">linalg/lapack.jl:3180</a><li> stegr!(jobz::<b>Char</b>, range::<b>Char</b>, dv::<b>Array{Float32,1}</b>, ev::<b>Array{Float32,1}</b>, vl::<b>Real</b>, vu::<b>Real</b>, il::<b>Integer</b>, iu::<b>Integer</b>) at <a href=\"https://github.com/JuliaLang/julia/tree/2ac304dfba75fad148d4070ef4f8a2e400c305bb/base/linalg/lapack.jl#L3180\" target=\"_blank\">linalg/lapack.jl:3180</a><li> stegr!(jobz::<b>Char</b>, dv::<b>Array{T,1}</b>, ev::<b>Array{T,1}</b>) at <a href=\"https://github.com/JuliaLang/julia/tree/2ac304dfba75fad148d4070ef4f8a2e400c305bb/base/linalg/lapack.jl#L3268\" target=\"_blank\">linalg/lapack.jl:3268</a></ul>"
      ],
      "text/plain": [
       "# 3 methods for generic function \"stegr!\":\n",
       "stegr!(jobz::Char, range::Char, dv::Array{Float64,1}, ev::Array{Float64,1}, vl::Real, vu::Real, il::Integer, iu::Integer) at linalg/lapack.jl:3180\n",
       "stegr!(jobz::Char, range::Char, dv::Array{Float32,1}, ev::Array{Float32,1}, vl::Real, vu::Real, il::Integer, iu::Integer) at linalg/lapack.jl:3180\n",
       "stegr!(jobz::Char, dv::Array{T,1}, ev::Array{T,1}) at linalg/lapack.jl:3268"
      ]
     },
     "execution_count": 25,
     "metadata": {},
     "output_type": "execute_result"
    }
   ],
   "source": [
    "methods(LAPACK.stegr!)"
   ]
  },
  {
   "cell_type": "code",
   "execution_count": 26,
   "metadata": {
    "collapsed": false
   },
   "outputs": [
    {
     "data": {
      "text/plain": [
       "([-0.9105794964646658,-0.03665831334935343,0.23912298092498285,0.8189478581683408,1.2690716846987622,1.3483212890006295],\n",
       "6x6 Array{Float64,2}:\n",
       " -0.00177423  -0.291413    0.0776332    0.871881    0.359603  0.139848\n",
       "  0.00986917   0.798297   -0.143506     0.0214021   0.531718  0.242586\n",
       " -0.0232639   -0.507221    0.00355689  -0.483236    0.628916  0.336334\n",
       "  0.372082     0.113529    0.795975    -0.0361717  -0.159129  0.434119\n",
       " -0.691474     0.0129695  -0.0894357    0.0420035  -0.323602  0.638134\n",
       "  0.61869     -0.0864241  -0.576014     0.0526869  -0.249772  0.461303)"
      ]
     },
     "execution_count": 26,
     "metadata": {},
     "output_type": "execute_result"
    }
   ],
   "source": [
    "LAPACK.stegr!('V',T.dv,T.ev)"
   ]
  },
  {
   "cell_type": "code",
   "execution_count": 27,
   "metadata": {
    "collapsed": false
   },
   "outputs": [
    {
     "name": "stdout",
     "output_type": "stream",
     "text": [
      "  1.325125 seconds (71 allocations: 138.087 MB, 3.65% gc time)\n"
     ]
    }
   ],
   "source": [
    "# Timings\n",
    "@time LAPACK.stegr!('V',Tbig.dv,Tbig.ev);"
   ]
  },
  {
   "cell_type": "code",
   "execution_count": 28,
   "metadata": {
    "collapsed": true
   },
   "outputs": [],
   "source": [
    "n=1500\n",
    "Tbig=SymTridiagonal(rand(n),rand(n-1));"
   ]
  },
  {
   "cell_type": "code",
   "execution_count": 29,
   "metadata": {
    "collapsed": false
   },
   "outputs": [
    {
     "name": "stdout",
     "output_type": "stream",
     "text": [
      "  0.334723 seconds (68 allocations: 34.713 MB, 4.96% gc time)\n"
     ]
    }
   ],
   "source": [
    "@time LAPACK.stegr!('V',Tbig.dv,Tbig.ev);"
   ]
  },
  {
   "cell_type": "code",
   "execution_count": 40,
   "metadata": {
    "collapsed": false
   },
   "outputs": [
    {
     "data": {
      "text/plain": [
       "0.0"
      ]
     },
     "execution_count": 40,
     "metadata": {},
     "output_type": "execute_result"
    }
   ],
   "source": [
    "a=0.0"
   ]
  },
  {
   "cell_type": "code",
   "execution_count": 41,
   "metadata": {
    "collapsed": false
   },
   "outputs": [
    {
     "data": {
      "text/plain": [
       "-0.0"
      ]
     },
     "execution_count": 41,
     "metadata": {},
     "output_type": "execute_result"
    }
   ],
   "source": [
    "b=-a"
   ]
  },
  {
   "cell_type": "code",
   "execution_count": 42,
   "metadata": {
    "collapsed": false
   },
   "outputs": [
    {
     "data": {
      "text/plain": [
       "Inf"
      ]
     },
     "execution_count": 42,
     "metadata": {},
     "output_type": "execute_result"
    }
   ],
   "source": [
    "c=1/a"
   ]
  },
  {
   "cell_type": "code",
   "execution_count": 43,
   "metadata": {
    "collapsed": false
   },
   "outputs": [
    {
     "data": {
      "text/plain": [
       "-Inf"
      ]
     },
     "execution_count": 43,
     "metadata": {},
     "output_type": "execute_result"
    }
   ],
   "source": [
    "d=1/b"
   ]
  },
  {
   "cell_type": "code",
   "execution_count": 44,
   "metadata": {
    "collapsed": false
   },
   "outputs": [
    {
     "data": {
      "text/plain": [
       "true"
      ]
     },
     "execution_count": 44,
     "metadata": {},
     "output_type": "execute_result"
    }
   ],
   "source": [
    "a==b"
   ]
  },
  {
   "cell_type": "code",
   "execution_count": 45,
   "metadata": {
    "collapsed": false
   },
   "outputs": [
    {
     "data": {
      "text/plain": [
       "false"
      ]
     },
     "execution_count": 45,
     "metadata": {},
     "output_type": "execute_result"
    }
   ],
   "source": [
    "c==d"
   ]
  },
  {
   "cell_type": "code",
   "execution_count": null,
   "metadata": {
    "collapsed": true
   },
   "outputs": [],
   "source": []
  }
 ],
 "metadata": {
  "kernelspec": {
   "display_name": "Julia 0.4.5",
   "language": "julia",
   "name": "julia-0.4"
  },
  "language_info": {
   "file_extension": ".jl",
   "mimetype": "application/julia",
   "name": "julia",
   "version": "0.4.5"
  }
 },
 "nbformat": 4,
 "nbformat_minor": 0
}
