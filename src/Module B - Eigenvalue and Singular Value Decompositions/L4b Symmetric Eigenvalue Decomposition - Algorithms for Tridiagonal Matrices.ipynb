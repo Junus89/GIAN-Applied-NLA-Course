{
 "cells": [
  {
   "cell_type": "markdown",
   "metadata": {},
   "source": [
    "# Symmetric Eigenvalue Decomposition - Algorithms for Tridiagonal Matrices\n",
    "\n",
    "---\n",
    "\n",
    "Due to their importance, there is plethora of excellent algorithms for symmetric tridiagonal matrices.\n",
    "\n",
    "For more details, see \n",
    "[I. Slapničar, Symmetric Matrix Eigenvalue Techniques][Hog14] and the references therein.\n",
    "\n",
    "[Hog14]: #1 \"L. Hogben, ed., 'Handbook of Linear Algebra', pp. 55.1-55.25, CRC Press, Boca Raton, 2014.\"\n",
    "\n",
    "\n",
    "## Prerequisites\n",
    "\n",
    "The reader should be familiar with concepts of eigenvalues and eigenvectors, related perturbation theory, and algorithms. \n",
    "\n",
    " \n",
    "## Competences \n",
    "\n",
    "The reader should be able to apply adequate algorithm to a given symmetric tridiagonal matrix, and to assess its speed and the accuracy of the solution."
   ]
  },
  {
   "cell_type": "markdown",
   "metadata": {},
   "source": [
    "## Bisection and inverse iteration\n",
    "\n",
    "The bisection method is convenient if only part of the spectrum is needed.\n",
    "If the eigenvectors are needed, as well, they can be efficiently computed by\n",
    "the inverse iteration method. \n",
    "\n",
    "### Facts\n",
    "\n",
    "$A$ is a real symmetric $n\\times n$ matrix and $T$ is a real symmetric\n",
    "tridiagonal $n\\times n$ matrix.\n",
    "  \n",
    "1. _(Application of Sylvester's Theorem)_ \n",
    "Let $\\alpha,\\beta\\in\\mathbb{R}$ with $\\alpha<\\beta$. The number of\n",
    "  eigenvalues of $A$ in the interval $[\\alpha,\\beta)$ is equal to $\\nu\n",
    "  (A- \\beta I)-\\nu(A-\\alpha I)$. By systematically choosing the intervals $[\\alpha,\\beta)$, the\n",
    "  bisection method pinpoints each eigenvalue of $A$ to any desired accuracy.\n",
    "\n",
    "2. The factorization $T-\\mu I=LDL^T$, where $D=\\mathop{\\mathrm{diag}}(d_1,\\dots,d_n)$\n",
    "  and $L$ is the unit lower bidiagonal matrix, is computed as:\n",
    "\\begin{align*}\n",
    "& d_{1}=T_{11}-\\mu, \\quad    d_{i}=(T_{ii}-\\mu)-\n",
    "\\frac{T_{i,i-1}^2}{d_{i-1}}, \\quad i=2,\\ldots n, \\\\\n",
    "& L_{i+1,i}=\\frac{T_{i+1,i}}{d_{i}}, \\quad i=1,\\ldots,n-1.\n",
    "\\end{align*}\n",
    "Since the matrices $T$ and $D$ have the same inertia, this recursion\n",
    "enables an efficient implementation of the bisection method for $T$.\n",
    "\n",
    "3. The factorization from Fact 2 is essentially Gaussian elimination without\n",
    "  pivoting. Nevertheless, if $d_i\\neq 0$ for all $i$,\n",
    "  the above recursion is very stable.\n",
    "  Even when $d_{i-1}=0$ for some $i$, if the IEEE arithmetic is used, the\n",
    "  computation will continue and the inertia will be computed\n",
    "  correctly. Namely, in that case, we would have $d_i=-\\infty$, $l_{i+1,i}=0$, \n",
    "  and $d_{i+1}=t_{i+1.i+1}-\\mu$.\n",
    "\n",
    "4. Computing one eigenvalue of $T$ by using the recursion from Fact 2 and bisection\n",
    "  requires $O(n)$ operations. The corresponding eigenvector is computed\n",
    "by inverse iteration. The convergence is very\n",
    "fast, so the cost of computing each eigenvector is also $O(n)$\n",
    "operations. Therefore, the overall cost for computing all eigenvalues and\n",
    "eigenvectors is $O(n^2)$ operations.  \n",
    "\n",
    "5. Both, bisection and inverse iteration are highly\n",
    "parallel since each eigenvalue and eigenvector can be computed independently.  \n",
    "\n",
    "6. If some of the eigenvalues are too close, the corresponding eigenvectors\n",
    "  computed by inverse iteration may not be sufficiently orthogonal. In this\n",
    "  case, it is necessary to orthogonalize these eigenvectors  (for example, by the\n",
    "  modified Gram--Schmidt procedure). If the number of close eigenvalues is too\n",
    "  large, the overall operation count can increase to $O(n^3)$.\n",
    "\n",
    "7. The EVD computed by bisection and inverse iteration satisfies\n",
    "  the error bounds from previous notebook.\n",
    "  \n",
    "8. The bisection method for tridiagonal matrices is implemented in the \n",
    "LAPACK subroutine [DSTEBZ](http://www.netlib.org/lapack/explore-html/d4/d48/dstebz_8f.html). This routine can compute all eigenvalues\n",
    "in a given interval or the eigenvalues from $\\lambda_l$ to $\\lambda_k$, where $l<k$,\n",
    "and the eigenvalues are ordered from smallest to largest.\n",
    "Inverse iteration (with reorthogonalization) is implemented in the LAPACK\n",
    "subroutine DSTEIN. "
   ]
  },
  {
   "cell_type": "code",
   "execution_count": 2,
   "metadata": {
    "collapsed": false
   },
   "outputs": [
    {
     "data": {
      "text/plain": [
       "6×6 SymTridiagonal{Float64}:\n",
       " 0.347583  0.807407   ⋅         ⋅         ⋅         ⋅      \n",
       " 0.807407  0.970807  0.925061   ⋅         ⋅         ⋅      \n",
       "  ⋅        0.925061  0.962095  0.624592   ⋅         ⋅      \n",
       "  ⋅         ⋅        0.624592  0.286415  0.507179   ⋅      \n",
       "  ⋅         ⋅         ⋅        0.507179  0.964288  0.970823\n",
       "  ⋅         ⋅         ⋅         ⋅        0.970823  0.346476"
      ]
     },
     "execution_count": 2,
     "metadata": {},
     "output_type": "execute_result"
    }
   ],
   "source": [
    "n=6\n",
    "T=SymTridiagonal(rand(n),rand(n-1))"
   ]
  },
  {
   "cell_type": "code",
   "execution_count": 3,
   "metadata": {
    "collapsed": false
   },
   "outputs": [
    {
     "data": {
      "text/plain": [
       "([-0.646192,-0.408507,0.0932427,0.869973,1.77391,2.19524],\n",
       "[-0.337163 -0.46078 … -0.129378 0.28732; 0.414989 0.431495 … -0.228553 0.657498; … ; -0.38016 0.44745 … 0.772156 0.175326; 0.371794 -0.575371 … 0.525157 0.0920675])"
      ]
     },
     "execution_count": 3,
     "metadata": {},
     "output_type": "execute_result"
    }
   ],
   "source": [
    "λ,U=eig(T)"
   ]
  },
  {
   "cell_type": "code",
   "execution_count": 4,
   "metadata": {
    "collapsed": false
   },
   "outputs": [
    {
     "data": {
      "text/html": [
       "2 methods for generic function <b>stebz!</b>:<ul><li> stebz!(range::<b>Char</b>, order::<b>Char</b>, vl::<b>Float64</b>, vu::<b>Float64</b>, il::<b>Integer</b>, iu::<b>Integer</b>, abstol::<b>Real</b>, dv::<b>Union{Base.ReshapedArray{Float64,1,A<:DenseArray,MI<:Tuple{Vararg{Base.MultiplicativeInverses.SignedMultiplicativeInverse{Int64},N<:Any}}},DenseArray{Float64,1},SubArray{Float64,1,A<:Union{Base.ReshapedArray{T<:Any,N<:Any,A<:DenseArray,MI<:Tuple{Vararg{Base.MultiplicativeInverses.SignedMultiplicativeInverse{Int64},N<:Any}}},DenseArray},I<:Tuple{Vararg{Union{Base.AbstractCartesianIndex,Colon,Int64,Range{Int64}},N<:Any}},L<:Any}}</b>, ev::<b>Union{Base.ReshapedArray{Float64,1,A<:DenseArray,MI<:Tuple{Vararg{Base.MultiplicativeInverses.SignedMultiplicativeInverse{Int64},N<:Any}}},DenseArray{Float64,1},SubArray{Float64,1,A<:Union{Base.ReshapedArray{T<:Any,N<:Any,A<:DenseArray,MI<:Tuple{Vararg{Base.MultiplicativeInverses.SignedMultiplicativeInverse{Int64},N<:Any}}},DenseArray},I<:Tuple{Vararg{Union{Base.AbstractCartesianIndex,Colon,Int64,Range{Int64}},N<:Any}},L<:Any}}</b>) at <a href=\"https://github.com/JuliaLang/julia/tree/6445c82d0060dbe82b88436f0f4371a4ee64d918/base/linalg/lapack.jl#L3644\" target=\"_blank\">linalg/lapack.jl:3644</a></li> <li> stebz!(range::<b>Char</b>, order::<b>Char</b>, vl::<b>Float32</b>, vu::<b>Float32</b>, il::<b>Integer</b>, iu::<b>Integer</b>, abstol::<b>Real</b>, dv::<b>Union{Base.ReshapedArray{Float32,1,A<:DenseArray,MI<:Tuple{Vararg{Base.MultiplicativeInverses.SignedMultiplicativeInverse{Int64},N<:Any}}},DenseArray{Float32,1},SubArray{Float32,1,A<:Union{Base.ReshapedArray{T<:Any,N<:Any,A<:DenseArray,MI<:Tuple{Vararg{Base.MultiplicativeInverses.SignedMultiplicativeInverse{Int64},N<:Any}}},DenseArray},I<:Tuple{Vararg{Union{Base.AbstractCartesianIndex,Colon,Int64,Range{Int64}},N<:Any}},L<:Any}}</b>, ev::<b>Union{Base.ReshapedArray{Float32,1,A<:DenseArray,MI<:Tuple{Vararg{Base.MultiplicativeInverses.SignedMultiplicativeInverse{Int64},N<:Any}}},DenseArray{Float32,1},SubArray{Float32,1,A<:Union{Base.ReshapedArray{T<:Any,N<:Any,A<:DenseArray,MI<:Tuple{Vararg{Base.MultiplicativeInverses.SignedMultiplicativeInverse{Int64},N<:Any}}},DenseArray},I<:Tuple{Vararg{Union{Base.AbstractCartesianIndex,Colon,Int64,Range{Int64}},N<:Any}},L<:Any}}</b>) at <a href=\"https://github.com/JuliaLang/julia/tree/6445c82d0060dbe82b88436f0f4371a4ee64d918/base/linalg/lapack.jl#L3644\" target=\"_blank\">linalg/lapack.jl:3644</a></li> </ul>"
      ],
      "text/plain": [
       "# 2 methods for generic function \"stebz!\":\n",
       "stebz!(range::Char, order::Char, vl::Float64, vu::Float64, il::Integer, iu::Integer, abstol::Real, dv::Union{Base.ReshapedArray{Float64,1,A<:DenseArray,MI<:Tuple{Vararg{Base.MultiplicativeInverses.SignedMultiplicativeInverse{Int64},N<:Any}}},DenseArray{Float64,1},SubArray{Float64,1,A<:Union{Base.ReshapedArray{T<:Any,N<:Any,A<:DenseArray,MI<:Tuple{Vararg{Base.MultiplicativeInverses.SignedMultiplicativeInverse{Int64},N<:Any}}},DenseArray},I<:Tuple{Vararg{Union{Base.AbstractCartesianIndex,Colon,Int64,Range{Int64}},N<:Any}},L<:Any}}, ev::Union{Base.ReshapedArray{Float64,1,A<:DenseArray,MI<:Tuple{Vararg{Base.MultiplicativeInverses.SignedMultiplicativeInverse{Int64},N<:Any}}},DenseArray{Float64,1},SubArray{Float64,1,A<:Union{Base.ReshapedArray{T<:Any,N<:Any,A<:DenseArray,MI<:Tuple{Vararg{Base.MultiplicativeInverses.SignedMultiplicativeInverse{Int64},N<:Any}}},DenseArray},I<:Tuple{Vararg{Union{Base.AbstractCartesianIndex,Colon,Int64,Range{Int64}},N<:Any}},L<:Any}}) at linalg/lapack.jl:3644\n",
       "stebz!(range::Char, order::Char, vl::Float32, vu::Float32, il::Integer, iu::Integer, abstol::Real, dv::Union{Base.ReshapedArray{Float32,1,A<:DenseArray,MI<:Tuple{Vararg{Base.MultiplicativeInverses.SignedMultiplicativeInverse{Int64},N<:Any}}},DenseArray{Float32,1},SubArray{Float32,1,A<:Union{Base.ReshapedArray{T<:Any,N<:Any,A<:DenseArray,MI<:Tuple{Vararg{Base.MultiplicativeInverses.SignedMultiplicativeInverse{Int64},N<:Any}}},DenseArray},I<:Tuple{Vararg{Union{Base.AbstractCartesianIndex,Colon,Int64,Range{Int64}},N<:Any}},L<:Any}}, ev::Union{Base.ReshapedArray{Float32,1,A<:DenseArray,MI<:Tuple{Vararg{Base.MultiplicativeInverses.SignedMultiplicativeInverse{Int64},N<:Any}}},DenseArray{Float32,1},SubArray{Float32,1,A<:Union{Base.ReshapedArray{T<:Any,N<:Any,A<:DenseArray,MI<:Tuple{Vararg{Base.MultiplicativeInverses.SignedMultiplicativeInverse{Int64},N<:Any}}},DenseArray},I<:Tuple{Vararg{Union{Base.AbstractCartesianIndex,Colon,Int64,Range{Int64}},N<:Any}},L<:Any}}) at linalg/lapack.jl:3644"
      ]
     },
     "execution_count": 4,
     "metadata": {},
     "output_type": "execute_result"
    }
   ],
   "source": [
    "methods(LAPACK.stebz!)"
   ]
  },
  {
   "cell_type": "code",
   "execution_count": 5,
   "metadata": {
    "collapsed": false
   },
   "outputs": [
    {
     "data": {
      "text/plain": [
       "([-0.646192,-0.408507,0.0932427,0.869973,1.77391,2.19524],[1,1,1,1,1,1],[6])"
      ]
     },
     "execution_count": 5,
     "metadata": {},
     "output_type": "execute_result"
    }
   ],
   "source": [
    "λ1, rest=LAPACK.stebz!('A','E',1.0,1.0,1,1,2*eps(),T.dv,T.ev)"
   ]
  },
  {
   "cell_type": "code",
   "execution_count": 6,
   "metadata": {
    "collapsed": false
   },
   "outputs": [
    {
     "data": {
      "text/plain": [
       "6-element Array{Float64,1}:\n",
       "  1.77636e-15\n",
       " -9.99201e-16\n",
       "  2.498e-16  \n",
       "  2.55351e-15\n",
       "  0.0        \n",
       "  0.0        "
      ]
     },
     "execution_count": 6,
     "metadata": {},
     "output_type": "execute_result"
    }
   ],
   "source": [
    "λ-λ1"
   ]
  },
  {
   "cell_type": "code",
   "execution_count": 7,
   "metadata": {
    "collapsed": false
   },
   "outputs": [
    {
     "data": {
      "text/plain": [
       "6×6 Array{Float64,2}:\n",
       " -0.337163   0.46078    0.511381   0.559643  -0.129378   0.28732  \n",
       "  0.414989  -0.431495  -0.16109    0.362087  -0.228553   0.657498 \n",
       " -0.431116   0.241205  -0.293522  -0.527933  -0.0854983  0.619501 \n",
       "  0.495472   0.109772   0.646894  -0.458408   0.227376   0.249294 \n",
       " -0.38016   -0.44745    0.115087   0.122708   0.772156   0.175326 \n",
       "  0.371794   0.575371  -0.441211   0.227562   0.525157   0.0920675"
      ]
     },
     "execution_count": 7,
     "metadata": {},
     "output_type": "execute_result"
    }
   ],
   "source": [
    "U1=LAPACK.stein!(T.dv,T.ev,λ1)"
   ]
  },
  {
   "cell_type": "code",
   "execution_count": 8,
   "metadata": {
    "collapsed": false
   },
   "outputs": [
    {
     "data": {
      "text/plain": [
       "([-0.408507,0.0932427,0.869973],[1,1,1],[6])"
      ]
     },
     "execution_count": 8,
     "metadata": {},
     "output_type": "execute_result"
    }
   ],
   "source": [
    "# Let us compute just some eigenvalues - from 2nd to 4th\n",
    "λ2,rest=LAPACK.stebz!('I','E',1.0,1.0,2,4,2*eps(),T.dv,T.ev)"
   ]
  },
  {
   "cell_type": "code",
   "execution_count": 9,
   "metadata": {
    "collapsed": false
   },
   "outputs": [
    {
     "data": {
      "text/plain": [
       "6×3 Array{Float64,2}:\n",
       "  0.46078    0.511381   0.559643\n",
       " -0.431495  -0.16109    0.362087\n",
       "  0.241205  -0.293522  -0.527933\n",
       "  0.109772   0.646894  -0.458408\n",
       " -0.44745    0.115087   0.122708\n",
       "  0.575371  -0.441211   0.227562"
      ]
     },
     "execution_count": 9,
     "metadata": {},
     "output_type": "execute_result"
    }
   ],
   "source": [
    "U2=LAPACK.stein!(T.dv,T.ev,λ2)"
   ]
  },
  {
   "cell_type": "markdown",
   "metadata": {},
   "source": [
    "## Divide-and-conquer\n",
    "\n",
    "This is currently the fastest method for computing the EVD of a real symmetric\n",
    "tridiagonal matrix $T$. It is based on splitting the given tridiagonal matrix\n",
    "into two matrices, then computing the EVDs of the smaller matrices and\n",
    "computing the final EVD from the two EVDs.\n",
    "\n",
    "\n",
    "$T$ is a real symmetric tridiagonal matrix of order $n$ and\n",
    "$T=U\\Lambda U^T$ is its EVD.\n",
    "\n",
    "### Facts\n",
    "\n",
    "1. Let $T$ be partitioned as\n",
    "$$\n",
    "T=\\begin{bmatrix} T_1 & \\alpha_k e_k e_1^T \\\\\n",
    "\\alpha_k e_1 e_k^T & T_2\n",
    "\\end{bmatrix}.\n",
    "$$\n",
    "We assume that $T$ is unreduced, that is, $\\alpha_i\\neq 0$ for all $i$. Further, we\n",
    "assume that $\\alpha_i>0$ for all $i$, which can be easily be attained by diagonal\n",
    "similarity with a diagonal matrix of signs.\n",
    "Let\n",
    "$$\n",
    "\\hat T_1=T_1- \\alpha_k e_k e_k^T,\\qquad\n",
    "\\hat T_2=T_2- \\alpha_k e_1 e_1^T.\n",
    "$$\n",
    "In other words, $\\hat T_1$ is equal to $T_1$ except that $T_{kk}$ is replaced by $T_{kk}-\\alpha_k$, and \n",
    "$\\hat T_2$ is equal to $T_2$ except that $T_{k+1,k+1}$ is replaced by $T_{k+1,k+1}-\\alpha_k$.\n",
    "Let $\\hat T_i= \\hat U_i \\hat \\Lambda_i \\hat U_i^T$, $i=1,2$, be the\n",
    "respective EVDs and let \n",
    "$v=\\begin{bmatrix}\n",
    "\\hat U_1^T e_k   \\\\\n",
    "\\hat U_2^T e_1\n",
    "\\end{bmatrix}\n",
    "$\n",
    "($v$ consists of the last column of $\\hat U_1^T$ and the\n",
    "first column of $\\hat U_2^T$). Set $\\hat U=\\hat U_1\\oplus \\hat U_2$ and $\\hat\n",
    "\\Lambda=\\hat \\Lambda_1 \\oplus \\hat \\Lambda_2$.\n",
    "Then\n",
    "$$\n",
    "T=\\begin{bmatrix}\\hat U_1 & \\\\ & \\hat U_2 \\end{bmatrix}\n",
    "\\left[\\begin{bmatrix} \\hat \\Lambda_1 & \\\\ & \\hat \\Lambda_2 \\end{bmatrix} + \\alpha_k v v^T\\right] \n",
    "\\begin{bmatrix} \\hat U_1^T & \\\\ & \\hat U_2^T \\end{bmatrix}=\n",
    "\\hat U (\\hat \\Lambda + \\alpha_k v v^T) \\hat U^T.\n",
    "$$\n",
    "If $\\hat \\Lambda + \\alpha_k v v^T=X\\Lambda X^T$\n",
    "is the EVD of the rank-one modification of the diagonal matrix $\\hat \\Lambda$,\n",
    "then $T=U\\Lambda U^T$, where $U=\\hat U X$  is the EVD of $T$. \n",
    "Thus, the original tridiagonal eigenvalue problem\n",
    "is reduced to two smaller tridiagonal eigenvalue problems and one \n",
    "eigenvalue problem for the diagonal-plus-rank-one matrix.\n",
    "\n",
    "2. If all $\\hat \\lambda_i$ are different, then the eigenvalues $\\lambda_i$\n",
    "of $\\hat \\Lambda + \\alpha_k v v^T$ are solutions of the so-called secular\n",
    "equation,\n",
    "$$\n",
    "1+e_k \\sum_{i=1}^n \\frac{v_i^2}{\\hat \\lambda_i-\\lambda}=0.\n",
    "$$\n",
    "The eigenvalues can be computed by bisection, or by some faster  zero finder of the Newton type, and they\n",
    "need to be computed as accurately as possible. The corresponding eigenvectors are \n",
    "$$\n",
    "x_i=(\\hat \\Lambda-\\lambda_i I)^{-1}v.\n",
    "$$\n",
    "\n",
    "3. Each $\\lambda_i$ and $x_i$ in $O(n)$ operations, respectively, so the overall computational cost for computing\n",
    "   the EVD of $\\hat \\Lambda + \\alpha_k v v^T$ is $O(n^2)$ operations. \n",
    "  \n",
    "4. The method can be implemented so that the accuracy of the computed EVD is given by the bound from the previous notebook.\n",
    "\n",
    "5. Tridiagonal Divide-and-conquer method is implemented in the LAPACK subroutine \n",
    "[DSTEDC](http://www.netlib.org/lapack/explore-html/d7/d82/dstedc_8f.html). This routine can compute just the\n",
    "eigenvalues or both, eigenvalues and eigenvectors. \n",
    "\n",
    "The file [lapack.jl](https://github.com/JuliaLang/julia/blob/master/base/linalg/lapack.jl) contains wrappers for a selection of LAPACK routines needed in the current Julia `Base`. However, _all_ LAPACK routines are in the compiled library, so  additional wrappers can be easily written. Notice that arrays are passed directly and scalars as passed as pointers. The wrapper for `DSTEDC`, similar to the ones from the file \n",
    "`lapack.jl` follows."
   ]
  },
  {
   "cell_type": "code",
   "execution_count": 10,
   "metadata": {
    "collapsed": false
   },
   "outputs": [
    {
     "data": {
      "text/plain": [
       "@lapackerror (macro with 1 method)"
      ]
     },
     "execution_count": 10,
     "metadata": {},
     "output_type": "execute_result"
    }
   ],
   "source": [
    "# Part of the preamble of lapack.jl\n",
    "const liblapack = Base.liblapack_name\n",
    "import Base.LinAlg.BLAS.@blasfunc\n",
    "# import ..LinAlg: BlasFloat, Char, BlasInt, LAPACKException,\n",
    "    # DimensionMismatch, SingularException, PosDefException, chkstride1, chksquare\n",
    "import Base.LinAlg.BlasInt\n",
    "macro assertargsok() #Handle only negative info codes - use only if positive info code \n",
    "    # is useful! \n",
    "    :(info[1]<0 && throw(ArgumentError(\"invalid argument #$(-info[1]) to LAPACK call\"))) \n",
    "end \n",
    "macro lapackerror() #Handle all nonzero info codes \n",
    "    :(info[1]>0 ? throw(LAPACKException(info[1])) : @assertargsok ) \n",
    "    end "
   ]
  },
  {
   "cell_type": "code",
   "execution_count": 11,
   "metadata": {
    "collapsed": false
   },
   "outputs": [],
   "source": [
    "for (stedc, elty) in\n",
    "    ((:dstedc_,:Float64),\n",
    "    (:sstedc_,:Float32))\n",
    "    @eval begin\n",
    "        \"\"\"\n",
    "        COMPZ is CHARACTER*1\n",
    "          = 'N':  Compute eigenvalues only.\n",
    "          = 'I':  Compute eigenvectors of tridiagonal matrix also.\n",
    "          = 'V':  Compute eigenvectors of original dense symmetric\n",
    "                  matrix also.  On entry, Z contains the orthogonal\n",
    "                  matrix used to reduce the original matrix to\n",
    "                  tridiagonal form.\n",
    "        \"\"\"\n",
    "        function stedc!(compz::Char, dv::Vector{$elty}, ev::Vector{$elty}, Z::Array{$elty})\n",
    "            n = length(dv)\n",
    "            ldz=n\n",
    "            if length(ev) != n - 1\n",
    "                throw(DimensionMismatch(\"ev has length $(length(ev)) but needs one less than dv's length, $n)\"))\n",
    "            end\n",
    "            w = deepcopy(dv)\n",
    "            u = deepcopy(ev)\n",
    "            lwork=5*n^2\n",
    "            work = Array($elty, lwork)\n",
    "            liwork=6+6*n+5*n*round(Int,ceil(log(n)/log(2)))\n",
    "            iwork = Array(BlasInt,liwork)\n",
    "            info = Array(BlasInt,1)\n",
    "            ccall((@blasfunc($stedc), liblapack), Void,\n",
    "                (Ptr{UInt8}, Ptr{BlasInt}, Ptr{$elty},\n",
    "                Ptr{$elty}, Ptr{$elty}, Ptr{BlasInt}, Ptr{$elty}, Ptr{BlasInt},\n",
    "                Ptr{BlasInt}, Ptr{BlasInt}, Ptr{BlasInt}),\n",
    "                &compz, &n, w,\n",
    "                u, Z, &ldz, work, &lwork, \n",
    "                iwork, &liwork, info) \n",
    "                @lapackerror\n",
    "            w,Z\n",
    "        end\n",
    "    end\n",
    "end"
   ]
  },
  {
   "cell_type": "code",
   "execution_count": 12,
   "metadata": {
    "collapsed": false
   },
   "outputs": [
    {
     "data": {
      "text/plain": [
       "([-0.646192,-0.408507,0.0932427,0.869973,1.77391,2.19524],\n",
       "[-0.337163 -0.46078 … 0.129378 -0.28732; 0.414989 0.431495 … 0.228553 -0.657498; … ; -0.38016 0.44745 … -0.772156 -0.175326; 0.371794 -0.575371 … -0.525157 -0.0920675])"
      ]
     },
     "execution_count": 12,
     "metadata": {},
     "output_type": "execute_result"
    }
   ],
   "source": [
    "μ,Q=stedc!('I',T.dv,T.ev,eye(n))"
   ]
  },
  {
   "cell_type": "code",
   "execution_count": 14,
   "metadata": {
    "collapsed": false
   },
   "outputs": [
    {
     "data": {
      "text/plain": [
       "6-element Array{Float64,1}:\n",
       "  2.33147e-15\n",
       " -7.77156e-16\n",
       "  4.02456e-16\n",
       "  1.77636e-15\n",
       " -8.88178e-16\n",
       "  0.0        "
      ]
     },
     "execution_count": 14,
     "metadata": {},
     "output_type": "execute_result"
    }
   ],
   "source": [
    "λ-μ"
   ]
  },
  {
   "cell_type": "code",
   "execution_count": 15,
   "metadata": {
    "collapsed": false
   },
   "outputs": [
    {
     "data": {
      "text/plain": [
       "6×6 Array{Float64,2}:\n",
       " -0.646192     -1.52656e-16  -3.85109e-16  …  -1.66533e-16  -1.66533e-16\n",
       " -1.11022e-16  -0.408507     -9.02056e-17      0.0          -2.77556e-17\n",
       " -4.02456e-16  -9.71445e-17   0.0932427        4.996e-16     0.0        \n",
       "  5.55112e-17   1.38778e-16   4.16334e-16      1.38778e-16  -3.53884e-16\n",
       " -1.66533e-16   0.0           5.89806e-16      1.77391       2.22045e-16\n",
       " -2.15106e-16  -4.51028e-17  -3.68629e-17  …   1.80411e-16   2.19524    "
      ]
     },
     "execution_count": 15,
     "metadata": {},
     "output_type": "execute_result"
    }
   ],
   "source": [
    "Q'*(T*Q)"
   ]
  },
  {
   "cell_type": "code",
   "execution_count": 16,
   "metadata": {
    "collapsed": false
   },
   "outputs": [],
   "source": [
    "# Timings\n",
    "n=3000\n",
    "Tbig=SymTridiagonal(rand(n),rand(n-1));"
   ]
  },
  {
   "cell_type": "code",
   "execution_count": 18,
   "metadata": {
    "collapsed": false
   },
   "outputs": [
    {
     "name": "stdout",
     "output_type": "stream",
     "text": [
      "  1.367320 seconds (85 allocations: 69.446 MB, 5.38% gc time)\n",
      "  0.307274 seconds (8.01 k allocations: 413.667 MB, 24.16% gc time)\n"
     ]
    }
   ],
   "source": [
    "@time eig(Tbig);\n",
    "@time stedc!('I',Tbig.dv,Tbig.ev,eye(n));"
   ]
  },
  {
   "cell_type": "markdown",
   "metadata": {
    "collapsed": true
   },
   "source": [
    "## MRRR\n",
    "\n",
    "The method of Multiple Relatively Robust Representations\n",
    "\n",
    "The computation of the tridiagonal EVD which satisfies the\n",
    "error stabdard error bounds such that the eigenvectors are orthogonal to\n",
    "working precision, all in $O(n^2)$ operations, has been the _holy\n",
    "grail_ of numerical linear algebra for a long time. \n",
    "The method of Multiple Relatively Robust Representations does the job, except in some\n",
    "exceptional cases. The key idea is to implement inverse iteration more\n",
    "carefully. The practical algorithm is quite\n",
    "elaborate and the reader is advised to consider references.\n",
    "\n",
    "The MRRR method is implemented in the LAPACK subroutine \n",
    "[DSTEGR](http://www.netlib.org/lapack/explore-html/d0/d3b/dstegr_8f.html). \n",
    "This routine can compute just the\n",
    "eigenvalues, or both  eigenvalues and eigenvectors."
   ]
  },
  {
   "cell_type": "code",
   "execution_count": 19,
   "metadata": {
    "collapsed": false
   },
   "outputs": [
    {
     "data": {
      "text/html": [
       "3 methods for generic function <b>stegr!</b>:<ul><li> stegr!(jobz::<b>Char</b>, range::<b>Char</b>, dv::<b>Union{Base.ReshapedArray{Float64,1,A<:DenseArray,MI<:Tuple{Vararg{Base.MultiplicativeInverses.SignedMultiplicativeInverse{Int64},N<:Any}}},DenseArray{Float64,1},SubArray{Float64,1,A<:Union{Base.ReshapedArray{T<:Any,N<:Any,A<:DenseArray,MI<:Tuple{Vararg{Base.MultiplicativeInverses.SignedMultiplicativeInverse{Int64},N<:Any}}},DenseArray},I<:Tuple{Vararg{Union{Base.AbstractCartesianIndex,Colon,Int64,Range{Int64}},N<:Any}},L<:Any}}</b>, ev::<b>Union{Base.ReshapedArray{Float64,1,A<:DenseArray,MI<:Tuple{Vararg{Base.MultiplicativeInverses.SignedMultiplicativeInverse{Int64},N<:Any}}},DenseArray{Float64,1},SubArray{Float64,1,A<:Union{Base.ReshapedArray{T<:Any,N<:Any,A<:DenseArray,MI<:Tuple{Vararg{Base.MultiplicativeInverses.SignedMultiplicativeInverse{Int64},N<:Any}}},DenseArray},I<:Tuple{Vararg{Union{Base.AbstractCartesianIndex,Colon,Int64,Range{Int64}},N<:Any}},L<:Any}}</b>, vl::<b>Real</b>, vu::<b>Real</b>, il::<b>Integer</b>, iu::<b>Integer</b>) at <a href=\"https://github.com/JuliaLang/julia/tree/6445c82d0060dbe82b88436f0f4371a4ee64d918/base/linalg/lapack.jl#L3674\" target=\"_blank\">linalg/lapack.jl:3674</a></li> <li> stegr!(jobz::<b>Char</b>, range::<b>Char</b>, dv::<b>Union{Base.ReshapedArray{Float32,1,A<:DenseArray,MI<:Tuple{Vararg{Base.MultiplicativeInverses.SignedMultiplicativeInverse{Int64},N<:Any}}},DenseArray{Float32,1},SubArray{Float32,1,A<:Union{Base.ReshapedArray{T<:Any,N<:Any,A<:DenseArray,MI<:Tuple{Vararg{Base.MultiplicativeInverses.SignedMultiplicativeInverse{Int64},N<:Any}}},DenseArray},I<:Tuple{Vararg{Union{Base.AbstractCartesianIndex,Colon,Int64,Range{Int64}},N<:Any}},L<:Any}}</b>, ev::<b>Union{Base.ReshapedArray{Float32,1,A<:DenseArray,MI<:Tuple{Vararg{Base.MultiplicativeInverses.SignedMultiplicativeInverse{Int64},N<:Any}}},DenseArray{Float32,1},SubArray{Float32,1,A<:Union{Base.ReshapedArray{T<:Any,N<:Any,A<:DenseArray,MI<:Tuple{Vararg{Base.MultiplicativeInverses.SignedMultiplicativeInverse{Int64},N<:Any}}},DenseArray},I<:Tuple{Vararg{Union{Base.AbstractCartesianIndex,Colon,Int64,Range{Int64}},N<:Any}},L<:Any}}</b>, vl::<b>Real</b>, vu::<b>Real</b>, il::<b>Integer</b>, iu::<b>Integer</b>) at <a href=\"https://github.com/JuliaLang/julia/tree/6445c82d0060dbe82b88436f0f4371a4ee64d918/base/linalg/lapack.jl#L3674\" target=\"_blank\">linalg/lapack.jl:3674</a></li> <li> stegr!(jobz::<b>Char</b>, dv::<b>Union{Base.ReshapedArray{T<:Any,1,A<:DenseArray,MI<:Tuple{Vararg{Base.MultiplicativeInverses.SignedMultiplicativeInverse{Int64},N<:Any}}},DenseArray{T<:Any,1},SubArray{T<:Any,1,A<:Union{Base.ReshapedArray{T<:Any,N<:Any,A<:DenseArray,MI<:Tuple{Vararg{Base.MultiplicativeInverses.SignedMultiplicativeInverse{Int64},N<:Any}}},DenseArray},I<:Tuple{Vararg{Union{Base.AbstractCartesianIndex,Colon,Int64,Range{Int64}},N<:Any}},L<:Any}}</b>, ev::<b>Union{Base.ReshapedArray{T<:Any,1,A<:DenseArray,MI<:Tuple{Vararg{Base.MultiplicativeInverses.SignedMultiplicativeInverse{Int64},N<:Any}}},DenseArray{T<:Any,1},SubArray{T<:Any,1,A<:Union{Base.ReshapedArray{T<:Any,N<:Any,A<:DenseArray,MI<:Tuple{Vararg{Base.MultiplicativeInverses.SignedMultiplicativeInverse{Int64},N<:Any}}},DenseArray},I<:Tuple{Vararg{Union{Base.AbstractCartesianIndex,Colon,Int64,Range{Int64}},N<:Any}},L<:Any}}</b>) at <a href=\"https://github.com/JuliaLang/julia/tree/6445c82d0060dbe82b88436f0f4371a4ee64d918/base/linalg/lapack.jl#L3764\" target=\"_blank\">linalg/lapack.jl:3764</a></li> </ul>"
      ],
      "text/plain": [
       "# 3 methods for generic function \"stegr!\":\n",
       "stegr!(jobz::Char, range::Char, dv::Union{Base.ReshapedArray{Float64,1,A<:DenseArray,MI<:Tuple{Vararg{Base.MultiplicativeInverses.SignedMultiplicativeInverse{Int64},N<:Any}}},DenseArray{Float64,1},SubArray{Float64,1,A<:Union{Base.ReshapedArray{T<:Any,N<:Any,A<:DenseArray,MI<:Tuple{Vararg{Base.MultiplicativeInverses.SignedMultiplicativeInverse{Int64},N<:Any}}},DenseArray},I<:Tuple{Vararg{Union{Base.AbstractCartesianIndex,Colon,Int64,Range{Int64}},N<:Any}},L<:Any}}, ev::Union{Base.ReshapedArray{Float64,1,A<:DenseArray,MI<:Tuple{Vararg{Base.MultiplicativeInverses.SignedMultiplicativeInverse{Int64},N<:Any}}},DenseArray{Float64,1},SubArray{Float64,1,A<:Union{Base.ReshapedArray{T<:Any,N<:Any,A<:DenseArray,MI<:Tuple{Vararg{Base.MultiplicativeInverses.SignedMultiplicativeInverse{Int64},N<:Any}}},DenseArray},I<:Tuple{Vararg{Union{Base.AbstractCartesianIndex,Colon,Int64,Range{Int64}},N<:Any}},L<:Any}}, vl::Real, vu::Real, il::Integer, iu::Integer) at linalg/lapack.jl:3674\n",
       "stegr!(jobz::Char, range::Char, dv::Union{Base.ReshapedArray{Float32,1,A<:DenseArray,MI<:Tuple{Vararg{Base.MultiplicativeInverses.SignedMultiplicativeInverse{Int64},N<:Any}}},DenseArray{Float32,1},SubArray{Float32,1,A<:Union{Base.ReshapedArray{T<:Any,N<:Any,A<:DenseArray,MI<:Tuple{Vararg{Base.MultiplicativeInverses.SignedMultiplicativeInverse{Int64},N<:Any}}},DenseArray},I<:Tuple{Vararg{Union{Base.AbstractCartesianIndex,Colon,Int64,Range{Int64}},N<:Any}},L<:Any}}, ev::Union{Base.ReshapedArray{Float32,1,A<:DenseArray,MI<:Tuple{Vararg{Base.MultiplicativeInverses.SignedMultiplicativeInverse{Int64},N<:Any}}},DenseArray{Float32,1},SubArray{Float32,1,A<:Union{Base.ReshapedArray{T<:Any,N<:Any,A<:DenseArray,MI<:Tuple{Vararg{Base.MultiplicativeInverses.SignedMultiplicativeInverse{Int64},N<:Any}}},DenseArray},I<:Tuple{Vararg{Union{Base.AbstractCartesianIndex,Colon,Int64,Range{Int64}},N<:Any}},L<:Any}}, vl::Real, vu::Real, il::Integer, iu::Integer) at linalg/lapack.jl:3674\n",
       "stegr!(jobz::Char, dv::Union{Base.ReshapedArray{T<:Any,1,A<:DenseArray,MI<:Tuple{Vararg{Base.MultiplicativeInverses.SignedMultiplicativeInverse{Int64},N<:Any}}},DenseArray{T<:Any,1},SubArray{T<:Any,1,A<:Union{Base.ReshapedArray{T<:Any,N<:Any,A<:DenseArray,MI<:Tuple{Vararg{Base.MultiplicativeInverses.SignedMultiplicativeInverse{Int64},N<:Any}}},DenseArray},I<:Tuple{Vararg{Union{Base.AbstractCartesianIndex,Colon,Int64,Range{Int64}},N<:Any}},L<:Any}}, ev::Union{Base.ReshapedArray{T<:Any,1,A<:DenseArray,MI<:Tuple{Vararg{Base.MultiplicativeInverses.SignedMultiplicativeInverse{Int64},N<:Any}}},DenseArray{T<:Any,1},SubArray{T<:Any,1,A<:Union{Base.ReshapedArray{T<:Any,N<:Any,A<:DenseArray,MI<:Tuple{Vararg{Base.MultiplicativeInverses.SignedMultiplicativeInverse{Int64},N<:Any}}},DenseArray},I<:Tuple{Vararg{Union{Base.AbstractCartesianIndex,Colon,Int64,Range{Int64}},N<:Any}},L<:Any}}) at linalg/lapack.jl:3764"
      ]
     },
     "execution_count": 19,
     "metadata": {},
     "output_type": "execute_result"
    }
   ],
   "source": [
    "methods(LAPACK.stegr!)"
   ]
  },
  {
   "cell_type": "code",
   "execution_count": 20,
   "metadata": {
    "collapsed": false
   },
   "outputs": [
    {
     "data": {
      "text/plain": [
       "([-0.646192,-0.408507,0.0932427,0.869973,1.77391,2.19524],\n",
       "[-0.337163 -0.46078 … -0.129378 0.28732; 0.414989 0.431495 … -0.228553 0.657498; … ; -0.38016 0.44745 … 0.772156 0.175326; 0.371794 -0.575371 … 0.525157 0.0920675])"
      ]
     },
     "execution_count": 20,
     "metadata": {},
     "output_type": "execute_result"
    }
   ],
   "source": [
    "LAPACK.stegr!('V',T.dv,T.ev)"
   ]
  },
  {
   "cell_type": "code",
   "execution_count": 21,
   "metadata": {
    "collapsed": false
   },
   "outputs": [
    {
     "name": "stdout",
     "output_type": "stream",
     "text": [
      "  1.359424 seconds (78 allocations: 69.400 MB, 6.51% gc time)\n"
     ]
    }
   ],
   "source": [
    "# Timings\n",
    "@time LAPACK.stegr!('V',Tbig.dv,Tbig.ev);"
   ]
  },
  {
   "cell_type": "code",
   "execution_count": 22,
   "metadata": {
    "collapsed": true
   },
   "outputs": [],
   "source": [
    "n=1500\n",
    "Tbig=SymTridiagonal(rand(n),rand(n-1));"
   ]
  },
  {
   "cell_type": "code",
   "execution_count": 23,
   "metadata": {
    "collapsed": false
   },
   "outputs": [
    {
     "name": "stdout",
     "output_type": "stream",
     "text": [
      "  0.356833 seconds (76 allocations: 17.535 MB)\n"
     ]
    }
   ],
   "source": [
    "@time LAPACK.stegr!('V',Tbig.dv,Tbig.ev);"
   ]
  },
  {
   "cell_type": "code",
   "execution_count": null,
   "metadata": {
    "collapsed": true
   },
   "outputs": [],
   "source": []
  }
 ],
 "metadata": {
  "anaconda-cloud": {},
  "kernelspec": {
   "display_name": "Julia 0.5.1",
   "language": "julia",
   "name": "julia-0.5"
  },
  "language_info": {
   "file_extension": ".jl",
   "mimetype": "application/julia",
   "name": "julia",
   "version": "0.5.1"
  }
 },
 "nbformat": 4,
 "nbformat_minor": 0
}
