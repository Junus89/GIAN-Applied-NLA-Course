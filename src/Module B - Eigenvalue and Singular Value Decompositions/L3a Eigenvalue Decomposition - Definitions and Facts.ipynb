{
 "cells": [
  {
   "cell_type": "markdown",
   "metadata": {},
   "source": [
    "# Eigenvalue Decomposition - Definitions and Facts\n",
    "\n",
    "---\n",
    "\n",
    "## Prerequisites\n",
    "\n",
    "The reader should be familiar with basic linear algebra concepts. \n",
    "\n",
    " \n",
    "## Competences \n",
    "\n",
    "The reader should be able to undestand and check the facts about eigenvalue decomposition.\n",
    "\n",
    "## Selected references\n",
    "\n",
    "There are many excellent books on the subject. Here we list a few:\n",
    "\n",
    "[J. W. Demmel, Applied Numerical Linear Algebra][Dem97]\n",
    "\n",
    "[G. H. Golub and C. F. Van Loan, Matrix Computations][GV13]\n",
    "\n",
    "[N. Higham, Accuracy and Stability of Numerical Algorithms][Hig02]\n",
    "\n",
    "[L. Hogben, ed., Handbook of Linear Algebra][Hog14]\n",
    "\n",
    "[B. N. Parlett, The Symmetric Eigenvalue Problem][Par80]\n",
    "\n",
    "[G. W. Stewart, Matrix Algorithms, Vol. II: Eigensystems][Ste01]\n",
    "\n",
    "[L. N. Trefethen and D. Bau, III, Numerical Linear Algebra][TB97]\n",
    "\n",
    "[J. H. Wilkinson, The Algebraic Eigenvalue Problem][Wil65]\n",
    "\n",
    "\n",
    "[Dem97]: #1 \"J.W. Demmel, 'Applied Numerical Linear Algebra', SIAM, Philadelphia, 1997.\"\n",
    "  \n",
    "[GV13]: #1 \"G. H. Golub and C. F. Van Loan, 'Matrix Computations', 4th ed., The John Hopkins University Press, Baltimore, MD, 2013.\"\n",
    "  \n",
    "[Hig02]: #1 \"N. Higham, 'Accuracy and Stability of Numerical Algorithms', SIAM, Philadelphia, 2nd ed., 2002.\"\n",
    "    \n",
    "[Hog14]: #1 \"L. Hogben, ed., 'Handbook of Linear Algebra', CRC Press, Boca Raton, 2014.\"\n",
    "\n",
    "[Par80]: #1 \"B. N. Parlett, 'The Symmetric Eigenvalue Problem', Prentice-Hall, Englewood Cliffs, NJ, 1980, also SIAM, Philadelphia, 1998.\"\n",
    "\n",
    "[Ste01]: #1 \"G. W. Stewart, 'Matrix Algorithms, Vol. II: Eigensystems', SIAM, Philadelphia, 2001.\" \n",
    "\n",
    "[TB97]: #1 \"L. N. Trefethen and D. Bau, III, 'Numerical Linear Algebra', SIAM, Philadelphia, 1997.\"\n",
    "\n",
    "[Wil65]: #1 \"J. H. Wilkinson, 'The Algebraic Eigenvalue Problem', Clarendon Press, Oxford, U.K.,  1965.\"\n",
    "    \n",
    "\n",
    "---"
   ]
  },
  {
   "cell_type": "markdown",
   "metadata": {},
   "source": [
    "## General matrices\n",
    "\n",
    "For more details and the proofs of the Facts below, see \n",
    "[L. M. DeAlba, Determinants and Eigenvalues][Hog14] and the references therein.\n",
    "\n",
    "[Hog14]: #1 \"L. Hogben, ed., 'Handbook of Linear Algebra', pp. 4.1-4.15, CRC Press, Boca Raton, 2014.\"\n",
    "\n",
    "### Definitions\n",
    "\n",
    "We state the basic definitions:\n",
    "\n",
    "Let $F=\\mathbb{R}$ or $F=\\mathbb{C}$ and let $A\\in F^{n\\times n}$ with elements $a_{ij}\\in F$.\n",
    "\n",
    "An element $\\lambda \\in F$ is an __eigenvalue__ of $A$ if\n",
    "$\\exists x\\in F$, $x\\neq 0$ such that\n",
    "\n",
    "$$\n",
    "Ax=\\lambda x,\n",
    "$$\n",
    "and $x$ is an __eigenvector__ of $\\lambda$.\n",
    "\n",
    "__Characteristic polynomial__ of $A$ is $p_A(x)=\\det(A-xI)$.\n",
    "\n",
    "__Algebraic multiplicty__, $\\alpha(\\lambda)$, is the multiplicity of $\\lambda$ as a root of $p_A(x)$.\n",
    "\n",
    "__Spectrum of $A$__, $\\sigma(A)$, is the multiset of all eigenvalues of $A$, with each eigenvalue appearing $\\alpha(A)$ times.\n",
    "\n",
    "__Spectral radius__ of $A$ is \n",
    "$$\\rho(A)=\\max\\{|\\lambda|, \\lambda \\in \\sigma(A)\\}.\n",
    "$$\n",
    "\n",
    "__Eigenspace__ of $\\lambda$ is \n",
    "\n",
    "$$\n",
    "E_{\\lambda}(A)=\\ker(A-\\lambda I).\n",
    "$$\n",
    "\n",
    "__Geometric multiplicity__ of $\\lambda$ is \n",
    "$$\\gamma(\\lambda)=\\dim(E_{\\lambda}(A)).\n",
    "$$\n",
    "\n",
    "$\\lambda$ is __simple__ if $\\alpha(\\lambda)=1$.\n",
    "\n",
    "$\\lambda$ is __semisimple__ if $\\alpha(\\lambda)=\\gamma(\\lambda)$.\n",
    "\n",
    "$A$ is __nonderogatory__ if $\\gamma(\\lambda)=1$ for all $\\lambda$.\n",
    "\n",
    "$A$ is __nondefective__ if every $\\lambda$ is semisimple.\n",
    "\n",
    "$A$ is __diagonalizable__ if there exists nonsingular $B$ matrix and diagonal matrix $D$ such that\n",
    "$A=BDB^{-1}$.\n",
    "\n",
    "__Trace__ of $A$ is \n",
    "$$\\mathop{\\mathrm{tr}}(A)=\\sum_i a_{ii}.$$\n",
    "\n",
    "$Q\\in\\mathbb{C}^{n\\times n}$ is __unitary__ if $Q^*Q=QQ^*=I$,\n",
    "where $Q^*=(\\bar Q)^T$.\n",
    "\n",
    "__Schur decomposition__ of $A$ is $A=QTQ^*$,\n",
    "where $Q$ is unitary and $T$ is upper triangular.\n",
    "\n",
    "$A$ and $B$ are __similar__ if $B=QAQ^{-1}$ for some nonsingular matrix $Q$.\n",
    "\n",
    "$A$ is __normal__ if $AA^*=A^*A$. "
   ]
  },
  {
   "cell_type": "markdown",
   "metadata": {},
   "source": [
    "### Facts\n",
    "\n",
    "There are many facts related to the eigenvalue problem for general matrices. We state some basic ones:\n",
    "\n",
    "1. $\\lambda\\in\\sigma(A) \\Leftrightarrow p_A(\\lambda)=0$.\n",
    "\n",
    "1. $p_A(A)=0$. _(Cayley-Hamilton Theorem)_\n",
    "\n",
    "2. A simple eigenvalue is semisimple.\n",
    "\n",
    "3. $\\mathop{\\mathrm{tr}}(A)=\\sum_{i=1}^n \\lambda_i$.\n",
    "\n",
    "4. $\\det(A)=\\prod_{i=1}^n \\lambda_i$.\n",
    "\n",
    "5. $A$ is singular $\\Leftrightarrow$ $\\det(A)=0$ $\\Leftrightarrow$ $0\\in\\sigma(A)$.\n",
    "\n",
    "7. If $A$ is triangular, $\\sigma(A)=\\{a_{11},a_{22},\\ldots,a_{nn}\\}$.\n",
    "\n",
    "6. For $A\\in\\mathbb{C}^{n\\times n}$, $\\lambda\\in\\sigma(A)$ $\\Leftrightarrow$ $\\bar\\lambda\\in\\sigma(A^*)$.\n",
    "\n",
    "8. For $A\\in\\mathbb{R}^{n\\times n}$, $\\lambda\\in\\sigma(A)$ $\\Leftrightarrow$ $\\bar\\lambda\\in\\sigma(A)$. _(Corollary of the Fundamental theorem of algebra)_\n",
    "\n",
    "9. If $(\\lambda,x)$ is an eigenpair of a nonsingular $A$, then $(1/\\lambda,x)$ is an eigenpair of $A^{-1}$.\n",
    "\n",
    "10. Eigenvectors corresponding to distinct eigenvalues are linearly independent.\n",
    "\n",
    "11. $A$ is diagonalizable $\\Leftrightarrow$ $A$ is nondefective $\\Leftrightarrow$ $A$ has $n$ linearly independent eigenvectors. \n",
    "\n",
    "12. Every $A$ has Schur decomposition. Moreover, $T_{ii}=\\lambda_i$.\n",
    "\n",
    "14. If $A$ is normal, matrix $T$ from its Schur decomposition is normal. Consequently:\n",
    "    * $T$ is diagonal, and has eigenvalues of $A$ on diagonal,\n",
    "    * matrix $Q$ of the Schur decomposition is the unitary matrix of eigenvectors,\n",
    "    * all eigenvalues of $A$ are semisimple and $A$ is nondefective.\n",
    "\n",
    "13. If $A$ and $B$ are similar, $\\sigma(A)=\\sigma(B)$. Consequently, $\\mathop{\\mathrm{tr}}(A)=\\mathop{\\mathrm{tr}}(B)$ and $\\det(A)=\\det(B)$.\n",
    "\n",
    "11. Eigenvalues and eigenvectors are continous and differentiable: if $\\lambda$ is a simple eigenvalue of $A$ and $A(\\varepsilon)=A+\\varepsilon E$ for some $E\\in F^{n\\times n}$, for small $\\varepsilon$ there exist differentiable functions $\\lambda(\\varepsilon)$ and $x(\\varepsilon)$ such that\n",
    "$$\n",
    "A(\\varepsilon) x(\\varepsilon) = \\lambda(\\varepsilon) x(\\varepsilon).\n",
    "$$\n",
    "\n",
    "15. Classical motivation for the eigenvalue problem is the following: consider the system of linear differential equations with constant coefficients,\n",
    "$$ \\dot y(t)=Ay(t).$$ If the solution is $y=e^{\\lambda t} x$ for some constant vector $x$, then\n",
    "$\\lambda e^{\\lambda t} x=Ae^{\\lambda t} x$, or $Ax=\\lambda x$.\n"
   ]
  },
  {
   "cell_type": "markdown",
   "metadata": {},
   "source": [
    "### Examples\n",
    "\n",
    "We shall illustrate above Definitions and Facts on several small examples, using symbolic computation:"
   ]
  },
  {
   "cell_type": "code",
   "execution_count": 1,
   "metadata": {
    "collapsed": false
   },
   "outputs": [],
   "source": [
    "using SymPy"
   ]
  },
  {
   "cell_type": "code",
   "execution_count": 2,
   "metadata": {
    "collapsed": false
   },
   "outputs": [
    {
     "data": {
      "text/plain": [
       "3x3 Array{Int64,2}:\n",
       " -3    7  -1\n",
       "  6    8  -2\n",
       " 72  -28  19"
      ]
     },
     "execution_count": 2,
     "metadata": {},
     "output_type": "execute_result"
    }
   ],
   "source": [
    "A=[-3 7 -1; 6 8 -2; 72 -28 19]"
   ]
  },
  {
   "cell_type": "code",
   "execution_count": 3,
   "metadata": {
    "collapsed": false
   },
   "outputs": [
    {
     "data": {
      "text/plain": [
       "(x,)"
      ]
     },
     "execution_count": 3,
     "metadata": {},
     "output_type": "execute_result"
    }
   ],
   "source": [
    "@vars x"
   ]
  },
  {
   "cell_type": "code",
   "execution_count": 4,
   "metadata": {
    "collapsed": false
   },
   "outputs": [
    {
     "data": {
      "text/latex": [
       "\\begin{bmatrix}- x - 3&7&-1\\\\6&- x + 8&-2\\\\72&-28&- x + 19\\end{bmatrix}"
      ],
      "text/plain": [
       "3x3 Array{SymPy.Sym,2}\n",
       "[-x - 3    7       -1   ]\n",
       "[                       ]\n",
       "[  6     -x + 8    -2   ]\n",
       "[                       ]\n",
       "[  72     -28    -x + 19]"
      ]
     },
     "execution_count": 4,
     "metadata": {},
     "output_type": "execute_result"
    }
   ],
   "source": [
    "A-x*I"
   ]
  },
  {
   "cell_type": "code",
   "execution_count": 5,
   "metadata": {
    "collapsed": false
   },
   "outputs": [
    {
     "data": {
      "text/latex": [
       "$$\\left(- x - 3\\right) \\left(- x + 8 - \\frac{42}{- x - 3}\\right) \\left(- x - \\frac{\\left(-28 - \\frac{504}{- x - 3}\\right) \\left(-2 + \\frac{6}{- x - 3}\\right)}{- x + 8 - \\frac{42}{- x - 3}} + 19 + \\frac{72}{- x - 3}\\right)$$"
      ],
      "text/plain": [
       "                           /     /       504  \\ /       6   \\              \\\n",
       "                           |     |-28 - ------|*|-2 + ------|              |\n",
       "         /           42  \\ |     \\      -x - 3/ \\     -x - 3/          72  |\n",
       "(-x - 3)*|-x + 8 - ------|*|-x - ---------------------------- + 19 + ------|\n",
       "         \\         -x - 3/ |                      42                 -x - 3|\n",
       "                           |           -x + 8 - ------                     |\n",
       "                           \\                    -x - 3                     /"
      ]
     },
     "execution_count": 5,
     "metadata": {},
     "output_type": "execute_result"
    }
   ],
   "source": [
    "# Characteristic polynomial p_A(λ)\n",
    "p(x)=det(A-x*I)\n",
    "p(x)"
   ]
  },
  {
   "cell_type": "code",
   "execution_count": 6,
   "metadata": {
    "collapsed": false
   },
   "outputs": [
    {
     "data": {
      "text/latex": [
       "$$- \\left(x - 15\\right)^{2} \\left(x + 6\\right)$$"
      ],
      "text/plain": [
       "         2        \n",
       "-(x - 15) *(x + 6)"
      ]
     },
     "execution_count": 6,
     "metadata": {},
     "output_type": "execute_result"
    }
   ],
   "source": [
    "# Characteristic polynomial in nicer form\n",
    "p(x)=factor(det(A-x*I))\n",
    "p(x)"
   ]
  },
  {
   "cell_type": "code",
   "execution_count": 7,
   "metadata": {
    "collapsed": false
   },
   "outputs": [
    {
     "data": {
      "text/latex": [
       "\\begin{bmatrix}-6\\\\15\\end{bmatrix}"
      ],
      "text/plain": [
       "2-element Array{SymPy.Sym,1}\n",
       "[-6]\n",
       "[  ]\n",
       "[15]"
      ]
     },
     "execution_count": 7,
     "metadata": {},
     "output_type": "execute_result"
    }
   ],
   "source": [
    "λ=solve(p(x),x)"
   ]
  },
  {
   "cell_type": "markdown",
   "metadata": {},
   "source": [
    "The eigenvalues are $\\lambda_1=-6$ and $\\lambda_2=15$ with algebraic multiplicities\n",
    "$\\alpha(\\lambda_1)=1$ and $\\alpha(\\lambda_2)=2$."
   ]
  },
  {
   "cell_type": "code",
   "execution_count": 8,
   "metadata": {
    "collapsed": false
   },
   "outputs": [
    {
     "data": {
      "text/plain": [
       "1-element Array{Any,1}:\n",
       " SymPy.SymMatrix(PyObject Matrix([\n",
       "[-1/4],\n",
       "[ 1/4],\n",
       "[   1]]))"
      ]
     },
     "execution_count": 8,
     "metadata": {},
     "output_type": "execute_result"
    }
   ],
   "source": [
    "g=nullspace(A-λ[1]*I)"
   ]
  },
  {
   "cell_type": "code",
   "execution_count": 9,
   "metadata": {
    "collapsed": false
   },
   "outputs": [
    {
     "data": {
      "text/plain": [
       "1-element Array{Any,1}:\n",
       " SymPy.SymMatrix(PyObject Matrix([\n",
       "[-1/4],\n",
       "[-1/2],\n",
       "[   1]]))"
      ]
     },
     "execution_count": 9,
     "metadata": {},
     "output_type": "execute_result"
    }
   ],
   "source": [
    "h=nullspace(A-λ[2]*I)"
   ]
  },
  {
   "cell_type": "markdown",
   "metadata": {},
   "source": [
    "The geometric multiplicities are $\\gamma(\\lambda_1)=1$ and $\\gamma(\\lambda_2)=1$. Thus, $\\lambda_2$ is not semisimple, therefore $A$ is defective and not diagonalizable."
   ]
  },
  {
   "cell_type": "code",
   "execution_count": 10,
   "metadata": {
    "collapsed": false
   },
   "outputs": [
    {
     "data": {
      "text/plain": [
       "(24,24)"
      ]
     },
     "execution_count": 10,
     "metadata": {},
     "output_type": "execute_result"
    }
   ],
   "source": [
    "# Trace and determinant\n",
    "trace(A), λ[1]+λ[2]+λ[2]"
   ]
  },
  {
   "cell_type": "code",
   "execution_count": 11,
   "metadata": {
    "collapsed": false
   },
   "outputs": [
    {
     "data": {
      "text/plain": [
       "(-1350.0000000000002,-1350)"
      ]
     },
     "execution_count": 11,
     "metadata": {},
     "output_type": "execute_result"
    }
   ],
   "source": [
    "det(A), λ[1]*λ[2]*λ[2]"
   ]
  },
  {
   "cell_type": "code",
   "execution_count": 12,
   "metadata": {
    "collapsed": false
   },
   "outputs": [
    {
     "data": {
      "text/plain": [
       "(\n",
       "3x3 Array{Float64,2}:\n",
       " -6.0  25.4662       -72.2009\n",
       "  0.0  15.0          -12.0208\n",
       "  0.0   1.48587e-15   15.0   ,\n",
       "\n",
       "3x3 Array{Float64,2}:\n",
       " -0.235702  -0.0571662  -0.970143   \n",
       "  0.235702  -0.971825   -5.90663e-16\n",
       "  0.942809   0.228665   -0.242536   ,\n",
       "\n",
       "Complex{Float64}[-6.000000000000002 + 0.0im,14.999999999999988 + 1.3364652075324566e-7im,14.999999999999988 - 1.3364652075324566e-7im])"
      ]
     },
     "execution_count": 12,
     "metadata": {},
     "output_type": "execute_result"
    }
   ],
   "source": [
    "# Schur decomposition\n",
    "T,Q=schur(A)"
   ]
  },
  {
   "cell_type": "code",
   "execution_count": 13,
   "metadata": {
    "collapsed": false
   },
   "outputs": [
    {
     "data": {
      "text/html": [
       "schur(A::<b>Union{DenseArray{T,2},SubArray{T,2,A<:DenseArray{T,N},I<:Tuple{Vararg{Union{Colon,Int64,Range{Int64}}}},LD}}</b>) at <a href=\"https://github.com/JuliaLang/julia/tree/2ac304dfba75fad148d4070ef4f8a2e400c305bb/base/linalg/schur.jl#L32\" target=\"_blank\">linalg/schur.jl:32</a>"
      ],
      "text/plain": [
       "schur(A::Union{DenseArray{T,2},SubArray{T,2,A<:DenseArray{T,N},I<:Tuple{Vararg{Union{Colon,Int64,Range{Int64}}}},LD}}) at linalg/schur.jl:32"
      ]
     },
     "execution_count": 13,
     "metadata": {},
     "output_type": "execute_result"
    }
   ],
   "source": [
    "@which schur(A)"
   ]
  },
  {
   "cell_type": "code",
   "execution_count": 14,
   "metadata": {
    "collapsed": false
   },
   "outputs": [
    {
     "data": {
      "text/plain": [
       "Base.LinAlg.Schur{Float64,Array{Float64,2}}(3x3 Array{Float64,2}:\n",
       " -6.0  25.4662       -72.2009\n",
       "  0.0  15.0          -12.0208\n",
       "  0.0   1.48587e-15   15.0   ,3x3 Array{Float64,2}:\n",
       " -0.235702  -0.0571662  -0.970143   \n",
       "  0.235702  -0.971825   -5.90663e-16\n",
       "  0.942809   0.228665   -0.242536   ,Complex{Float64}[-6.000000000000002 + 0.0im,14.999999999999988 + 1.3364652075324566e-7im,14.999999999999988 - 1.3364652075324566e-7im])"
      ]
     },
     "execution_count": 14,
     "metadata": {},
     "output_type": "execute_result"
    }
   ],
   "source": [
    "F=schurfact(A)"
   ]
  },
  {
   "cell_type": "code",
   "execution_count": 15,
   "metadata": {
    "collapsed": false
   },
   "outputs": [
    {
     "data": {
      "text/plain": [
       "3-element Array{Symbol,1}:\n",
       " :T     \n",
       " :Z     \n",
       " :values"
      ]
     },
     "execution_count": 15,
     "metadata": {},
     "output_type": "execute_result"
    }
   ],
   "source": [
    "fieldnames(F)"
   ]
  },
  {
   "cell_type": "code",
   "execution_count": 16,
   "metadata": {
    "collapsed": false
   },
   "outputs": [
    {
     "data": {
      "text/plain": [
       "(\n",
       "3x3 Array{Float64,2}:\n",
       " -0.235702  -0.0571662  -0.970143   \n",
       "  0.235702  -0.971825   -5.90663e-16\n",
       "  0.942809   0.228665   -0.242536   ,\n",
       "\n",
       "3x3 Array{Float64,2}:\n",
       " -0.235702  -0.0571662  -0.970143   \n",
       "  0.235702  -0.971825   -5.90663e-16\n",
       "  0.942809   0.228665   -0.242536   )"
      ]
     },
     "execution_count": 16,
     "metadata": {},
     "output_type": "execute_result"
    }
   ],
   "source": [
    "F.Z, F[:Z]"
   ]
  },
  {
   "cell_type": "code",
   "execution_count": 17,
   "metadata": {
    "collapsed": false
   },
   "outputs": [
    {
     "name": "stdout",
     "output_type": "stream",
     "text": [
      "[-6.000000000000002,14.999999999999988,14.999999999999988]\n"
     ]
    }
   ],
   "source": [
    "println(diag(T))"
   ]
  },
  {
   "cell_type": "code",
   "execution_count": 18,
   "metadata": {
    "collapsed": false
   },
   "outputs": [
    {
     "data": {
      "text/plain": [
       "(\n",
       "3x3 Array{Float64,2}:\n",
       " 1.0          1.11022e-16  2.77556e-17\n",
       " 1.11022e-16  1.0          1.52656e-16\n",
       " 2.77556e-17  1.52656e-16  1.0        ,\n",
       "\n",
       "3x3 Array{Float64,2}:\n",
       " 1.0          1.35877e-16  0.0        \n",
       " 1.35877e-16  1.0          3.22346e-17\n",
       " 0.0          3.22346e-17  1.0        )"
      ]
     },
     "execution_count": 18,
     "metadata": {},
     "output_type": "execute_result"
    }
   ],
   "source": [
    "Q'*Q, Q*Q'"
   ]
  },
  {
   "cell_type": "code",
   "execution_count": 19,
   "metadata": {
    "collapsed": false
   },
   "outputs": [
    {
     "data": {
      "text/plain": [
       "([-6.000000000008962,15.00000663697055,14.999993363038495],24.0,-1349.9999999999015)"
      ]
     },
     "execution_count": 19,
     "metadata": {},
     "output_type": "execute_result"
    }
   ],
   "source": [
    "# Similar matrices\n",
    "M=rand(-5:5,3,3)\n",
    "B=M*A*inv(M)\n",
    "eigvals(B), trace(B), det(B)"
   ]
  },
  {
   "cell_type": "markdown",
   "metadata": {},
   "source": [
    "### Example\n",
    "\n",
    "This matrix is nondefective and diagonalizable."
   ]
  },
  {
   "cell_type": "code",
   "execution_count": 20,
   "metadata": {
    "collapsed": false
   },
   "outputs": [
    {
     "data": {
      "text/plain": [
       "3x3 Array{Int64,2}:\n",
       "   57  -21   21\n",
       "  -14   22   -7\n",
       " -140   70  -55"
      ]
     },
     "execution_count": 20,
     "metadata": {},
     "output_type": "execute_result"
    }
   ],
   "source": [
    "A=[57 -21 21; -14 22 -7; -140 70 -55]"
   ]
  },
  {
   "cell_type": "code",
   "execution_count": 21,
   "metadata": {
    "collapsed": false
   },
   "outputs": [
    {
     "data": {
      "text/latex": [
       "$$- \\left(x - 15\\right)^{2} \\left(x + 6\\right)$$"
      ],
      "text/plain": [
       "         2        \n",
       "-(x - 15) *(x + 6)"
      ]
     },
     "execution_count": 21,
     "metadata": {},
     "output_type": "execute_result"
    }
   ],
   "source": [
    "p(x)=factor(det(A-x*I))\n",
    "p(x)"
   ]
  },
  {
   "cell_type": "code",
   "execution_count": 29,
   "metadata": {
    "collapsed": false
   },
   "outputs": [
    {
     "data": {
      "text/latex": [
       "\\begin{bmatrix}-6\\\\15\\end{bmatrix}"
      ],
      "text/plain": [
       "2-element Array{SymPy.Sym,1}\n",
       "[-6]\n",
       "[  ]\n",
       "[15]"
      ]
     },
     "execution_count": 29,
     "metadata": {},
     "output_type": "execute_result"
    }
   ],
   "source": [
    "λ=solve(p(x),x)"
   ]
  },
  {
   "cell_type": "code",
   "execution_count": 22,
   "metadata": {
    "collapsed": false
   },
   "outputs": [
    {
     "data": {
      "text/plain": [
       "2-element Array{Any,1}:\n",
       " \n",
       "[1/2]\n",
       "[   ]\n",
       "[ 1 ]\n",
       "[   ]\n",
       "[ 0 ]     \n",
       " \n",
       "[-1/2]\n",
       "[    ]\n",
       "[ 0  ]\n",
       "[    ]\n",
       "[ 1  ]"
      ]
     },
     "execution_count": 22,
     "metadata": {},
     "output_type": "execute_result"
    }
   ],
   "source": [
    "h=nullspace(A-λ[2]*I)"
   ]
  },
  {
   "cell_type": "markdown",
   "metadata": {},
   "source": [
    "### Example\n",
    "\n",
    "Let us try some random examples of dimension $n=4$ (the largest $n$ for which we can compute eigevalues symbolically)."
   ]
  },
  {
   "cell_type": "code",
   "execution_count": 23,
   "metadata": {
    "collapsed": false
   },
   "outputs": [
    {
     "data": {
      "text/plain": [
       "4x4 Array{Int64,2}:\n",
       "  0   4   0  -2\n",
       " -4  -4  -1   0\n",
       " -3   2  -2   1\n",
       "  0   0   3  -3"
      ]
     },
     "execution_count": 23,
     "metadata": {},
     "output_type": "execute_result"
    }
   ],
   "source": [
    "A=rand(-4:4,4,4)"
   ]
  },
  {
   "cell_type": "code",
   "execution_count": 24,
   "metadata": {
    "collapsed": false
   },
   "outputs": [
    {
     "data": {
      "text/latex": [
       "$$x^{4} + 9 x^{3} + 41 x^{2} + 68 x - 108$$"
      ],
      "text/plain": [
       " 4      3       2             \n",
       "x  + 9*x  + 41*x  + 68*x - 108"
      ]
     },
     "execution_count": 24,
     "metadata": {},
     "output_type": "execute_result"
    }
   ],
   "source": [
    "p(x)=factor(det(A-x*I))\n",
    "p(x)"
   ]
  },
  {
   "cell_type": "code",
   "execution_count": 25,
   "metadata": {
    "collapsed": false
   },
   "outputs": [
    {
     "data": {
      "text/latex": [
       "\\begin{bmatrix}- \\frac{9}{4} - \\frac{1}{2} \\sqrt{- \\frac{1451}{18 \\sqrt[3]{\\frac{59741}{216} + \\frac{\\sqrt{183997887}}{36}}} - \\frac{85}{12} + 2 \\sqrt[3]{\\frac{59741}{216} + \\frac{\\sqrt{183997887}}{36}}} - \\frac{1}{2} \\sqrt{- \\frac{203}{4 \\sqrt{- \\frac{1451}{18 \\sqrt[3]{\\frac{59741}{216} + \\frac{\\sqrt{183997887}}{36}}} - \\frac{85}{12} + 2 \\sqrt[3]{\\frac{59741}{216} + \\frac{\\sqrt{183997887}}{36}}}} - 2 \\sqrt[3]{\\frac{59741}{216} + \\frac{\\sqrt{183997887}}{36}} - \\frac{85}{6} + \\frac{1451}{18 \\sqrt[3]{\\frac{59741}{216} + \\frac{\\sqrt{183997887}}{36}}}}\\\\- \\frac{9}{4} - \\frac{1}{2} \\sqrt{- \\frac{1451}{18 \\sqrt[3]{\\frac{59741}{216} + \\frac{\\sqrt{183997887}}{36}}} - \\frac{85}{12} + 2 \\sqrt[3]{\\frac{59741}{216} + \\frac{\\sqrt{183997887}}{36}}} + \\frac{1}{2} \\sqrt{- \\frac{203}{4 \\sqrt{- \\frac{1451}{18 \\sqrt[3]{\\frac{59741}{216} + \\frac{\\sqrt{183997887}}{36}}} - \\frac{85}{12} + 2 \\sqrt[3]{\\frac{59741}{216} + \\frac{\\sqrt{183997887}}{36}}}} - 2 \\sqrt[3]{\\frac{59741}{216} + \\frac{\\sqrt{183997887}}{36}} - \\frac{85}{6} + \\frac{1451}{18 \\sqrt[3]{\\frac{59741}{216} + \\frac{\\sqrt{183997887}}{36}}}}\\\\- \\frac{9}{4} + \\frac{1}{2} \\sqrt{- \\frac{1451}{18 \\sqrt[3]{\\frac{59741}{216} + \\frac{\\sqrt{183997887}}{36}}} - \\frac{85}{12} + 2 \\sqrt[3]{\\frac{59741}{216} + \\frac{\\sqrt{183997887}}{36}}} + \\frac{1}{2} \\sqrt{- 2 \\sqrt[3]{\\frac{59741}{216} + \\frac{\\sqrt{183997887}}{36}} - \\frac{85}{6} + \\frac{1451}{18 \\sqrt[3]{\\frac{59741}{216} + \\frac{\\sqrt{183997887}}{36}}} + \\frac{203}{4 \\sqrt{- \\frac{1451}{18 \\sqrt[3]{\\frac{59741}{216} + \\frac{\\sqrt{183997887}}{36}}} - \\frac{85}{12} + 2 \\sqrt[3]{\\frac{59741}{216} + \\frac{\\sqrt{183997887}}{36}}}}}\\\\- \\frac{1}{2} \\sqrt{- 2 \\sqrt[3]{\\frac{59741}{216} + \\frac{\\sqrt{183997887}}{36}} - \\frac{85}{6} + \\frac{1451}{18 \\sqrt[3]{\\frac{59741}{216} + \\frac{\\sqrt{183997887}}{36}}} + \\frac{203}{4 \\sqrt{- \\frac{1451}{18 \\sqrt[3]{\\frac{59741}{216} + \\frac{\\sqrt{183997887}}{36}}} - \\frac{85}{12} + 2 \\sqrt[3]{\\frac{59741}{216} + \\frac{\\sqrt{183997887}}{36}}}}} - \\frac{9}{4} + \\frac{1}{2} \\sqrt{- \\frac{1451}{18 \\sqrt[3]{\\frac{59741}{216} + \\frac{\\sqrt{183997887}}{36}}} - \\frac{85}{12} + 2 \\sqrt[3]{\\frac{59741}{216} + \\frac{\\sqrt{183997887}}{36}}}\\end{bmatrix}"
      ],
      "text/plain": [
       "4-element Array{SymPy.Sym,1}\n",
       "[                                                                             \n",
       "[                                                                             \n",
       "[                                                                             \n",
       "[                                                                             \n",
       "[                                                                             \n",
       "[                _____________________________________________________________\n",
       "[               /                                                 ____________\n",
       "[              /                                                 /           _\n",
       "[             /                   1451                85        /  59741   \\/ \n",
       "[            /    - ------------------------------- - -- + 2*3 /   ----- + ---\n",
       "[           /               _______________________   12     \\/     216       \n",
       "[          /               /           ___________                            \n",
       "[         /               /  59741   \\/ 183997887                             \n",
       "[        /          18*3 /   ----- + -------------                            \n",
       "[  9   \\/              \\/     216          36                                 \n",
       "[- - - -----------------------------------------------------------------------\n",
       "[  4                                            2                             \n",
       "[                                                                             \n",
       "[                                                                             \n",
       "[                                                                             \n",
       "[                                                                             \n",
       "[                                                                             \n",
       "[                                                                             \n",
       "[                _____________________________________________________________\n",
       "[               /                                                 ____________\n",
       "[              /                                                 /           _\n",
       "[             /                   1451                85        /  59741   \\/ \n",
       "[            /    - ------------------------------- - -- + 2*3 /   ----- + ---\n",
       "[           /               _______________________   12     \\/     216       \n",
       "[          /               /           ___________                            \n",
       "[         /               /  59741   \\/ 183997887                             \n",
       "[        /          18*3 /   ----- + -------------                            \n",
       "[  9   \\/              \\/     216          36                                 \n",
       "[- - - -----------------------------------------------------------------------\n",
       "[  4                                            2                             \n",
       "[                                                                             \n",
       "[                                                                             \n",
       "[                                                                             \n",
       "[                                                                             \n",
       "[                                                                             \n",
       "[                                                                             \n",
       "[                _____________________________________________________________\n",
       "[               /                                                 ____________\n",
       "[              /                                                 /           _\n",
       "[             /                   1451                85        /  59741   \\/ \n",
       "[            /    - ------------------------------- - -- + 2*3 /   ----- + ---\n",
       "[           /               _______________________   12     \\/     216       \n",
       "[          /               /           ___________                            \n",
       "[         /               /  59741   \\/ 183997887                             \n",
       "[        /          18*3 /   ----- + -------------                            \n",
       "[  9   \\/              \\/     216          36                                 \n",
       "[- - + -----------------------------------------------------------------------\n",
       "[  4                                            2                             \n",
       "[                                                                             \n",
       "[                 ____________________________________________________________\n",
       "[                /          _______________________                           \n",
       "[               /          /           ___________                            \n",
       "[              /          /  59741   \\/ 183997887     85                 1451 \n",
       "[             /    - 2*3 /   ----- + -------------  - -- + -------------------\n",
       "[            /         \\/     216          36         6            ___________\n",
       "[           /                                                     /           \n",
       "[          /                                                     /  59741   \\/\n",
       "[         /                                                18*3 /   ----- + --\n",
       "[        /                                                    \\/     216      \n",
       "[       /                                                                     \n",
       "[      /                                                                      \n",
       "[     /                                                                       \n",
       "[    /                                                                        \n",
       "[  \\/                                                                         \n",
       "[- ---------------------------------------------------------------------------\n",
       "[                                                                             \n",
       "\n",
       "                              ________________________________________________\n",
       "                             /                                                \n",
       "                            /                                                 \n",
       "                           /                                              203 \n",
       "                          /    - ---------------------------------------------\n",
       "____________             /                   _________________________________\n",
       "___________             /                   /                                 \n",
       "__________             /                   /                                  \n",
       "183997887             /                   /                   1451            \n",
       "----------           /           4*      /    - ------------------------------\n",
       "   36               /                   /               ______________________\n",
       "                   /                   /               /           ___________\n",
       "                  /                   /               /  59741   \\/ 183997887 \n",
       "                 /                   /          18*3 /   ----- + -------------\n",
       "               \\/                  \\/              \\/     216          36     \n",
       "------------ - ---------------------------------------------------------------\n",
       "                                                                              \n",
       "                                                                              \n",
       "                              ________________________________________________\n",
       "                             /                                                \n",
       "                            /                                                 \n",
       "                           /                                              203 \n",
       "                          /    - ---------------------------------------------\n",
       "____________             /                   _________________________________\n",
       "___________             /                   /                                 \n",
       "__________             /                   /                                  \n",
       "183997887             /                   /                   1451            \n",
       "----------           /           4*      /    - ------------------------------\n",
       "   36               /                   /               ______________________\n",
       "                   /                   /               /           ___________\n",
       "                  /                   /               /  59741   \\/ 183997887 \n",
       "                 /                   /          18*3 /   ----- + -------------\n",
       "               \\/                  \\/              \\/     216          36     \n",
       "------------ + ---------------------------------------------------------------\n",
       "                                                                              \n",
       "                                                                              \n",
       "                              ________________________________________________\n",
       "                             /          _______________________               \n",
       "                            /          /           ___________                \n",
       "                           /          /  59741   \\/ 183997887     85          \n",
       "                          /    - 2*3 /   ----- + -------------  - -- + -------\n",
       "____________             /         \\/     216          36         6           \n",
       "___________             /                                                     \n",
       "__________             /                                                     /\n",
       "183997887             /                                                18*3 / \n",
       "----------           /                                                    \\/  \n",
       "   36               /                                                         \n",
       "                   /                                                          \n",
       "                  /                                                           \n",
       "                 /                                                            \n",
       "               \\/                                                             \n",
       "------------ + ---------------------------------------------------------------\n",
       "                                                                              \n",
       "                                                                              \n",
       "______________________________________________________________________________\n",
       "                                                                              \n",
       "                                                                              \n",
       "                                                        203                   \n",
       "------------ + ---------------------------------------------------------------\n",
       "____________               ___________________________________________________\n",
       "___________               /                                                 __\n",
       " 183997887               /                                                 /  \n",
       "-----------             /                   1451                85        /  5\n",
       "    36         4*      /    - ------------------------------- - -- + 2*3 /   -\n",
       "                      /               _______________________   12     \\/     \n",
       "                     /               /           ___________                  \n",
       "                    /               /  59741   \\/ 183997887                   \n",
       "                   /          18*3 /   ----- + -------------                  \n",
       "                 \\/              \\/     216          36                       \n",
       "------------------------------------------------------------------------------\n",
       "            2                                                                 \n",
       "\n",
       "______________________________________________________________________________\n",
       "                                                  _______________________     \n",
       "                                                 /           ___________      \n",
       "                                                /  59741   \\/ 183997887     85\n",
       "---------------------------------------- - 2*3 /   ----- + -------------  - --\n",
       "________________________________________     \\/     216          36         6 \n",
       "                _______________________                                       \n",
       "               /           ___________                                        \n",
       "    85        /  59741   \\/ 183997887                                         \n",
       "- - -- + 2*3 /   ----- + -------------                                        \n",
       "_   12     \\/     216          36                                             \n",
       "                                                                              \n",
       "                                                                              \n",
       "                                                                              \n",
       "                                                                              \n",
       "------------------------------------------------------------------------------\n",
       "                        2                                                     \n",
       "                                                                              \n",
       "______________________________________________________________________________\n",
       "                                                  _______________________     \n",
       "                                                 /           ___________      \n",
       "                                                /  59741   \\/ 183997887     85\n",
       "---------------------------------------- - 2*3 /   ----- + -------------  - --\n",
       "________________________________________     \\/     216          36         6 \n",
       "                _______________________                                       \n",
       "               /           ___________                                        \n",
       "    85        /  59741   \\/ 183997887                                         \n",
       "- - -- + 2*3 /   ----- + -------------                                        \n",
       "_   12     \\/     216          36                                             \n",
       "                                                                              \n",
       "                                                                              \n",
       "                                                                              \n",
       "                                                                              \n",
       "------------------------------------------------------------------------------\n",
       "                        2                                                     \n",
       "                                                                              \n",
       "______________________________________________________________________________\n",
       "                                                                              \n",
       "                                                                              \n",
       "       1451                                                         203       \n",
       "------------------------ + ---------------------------------------------------\n",
       " _______________________               _______________________________________\n",
       "/           ___________               /                                       \n",
       "  59741   \\/ 183997887               /                                        \n",
       "  ----- + -------------             /                   1451                85\n",
       "   216          36         4*      /    - ------------------------------- - --\n",
       "                                  /               _______________________   12\n",
       "                                 /               /           ___________      \n",
       "                                /               /  59741   \\/ 183997887       \n",
       "                               /          18*3 /   ----- + -------------      \n",
       "                             \\/              \\/     216          36           \n",
       "------------------------------------------------------------------------------\n",
       "                        2                                                     \n",
       "                                                                              \n",
       "_______________________                                                       \n",
       "                                                                              \n",
       "                                                                              \n",
       "                                                                              \n",
       "----------------------                                                        \n",
       "______________________                  ______________________________________\n",
       "_____________________                  /                                      \n",
       "         ___________                  /                                       \n",
       "9741   \\/ 183997887                  /                   1451                8\n",
       "---- + -------------                /    - ------------------------------- - -\n",
       "216          36                    /               _______________________   1\n",
       "                                  /               /           ___________     \n",
       "                                 /               /  59741   \\/ 183997887      \n",
       "                                /          18*3 /   ----- + -------------     \n",
       "                          9   \\/              \\/     216          36          \n",
       "----------------------- - - + ------------------------------------------------\n",
       "                          4                                            2      \n",
       "\n",
       "___________________________________]\n",
       "                                   ]\n",
       "                                   ]\n",
       "                 1451              ]\n",
       " + ------------------------------- ]\n",
       "           _______________________ ]\n",
       "          /           ___________  ]\n",
       "         /  59741   \\/ 183997887   ]\n",
       "   18*3 /   ----- + -------------  ]\n",
       "      \\/     216          36       ]\n",
       "                                   ]\n",
       "                                   ]\n",
       "                                   ]\n",
       "                                   ]\n",
       "                                   ]\n",
       "-----------------------------------]\n",
       "                                   ]\n",
       "                                   ]\n",
       "___________________________________]\n",
       "                                   ]\n",
       "                                   ]\n",
       "                 1451              ]\n",
       " + ------------------------------- ]\n",
       "           _______________________ ]\n",
       "          /           ___________  ]\n",
       "         /  59741   \\/ 183997887   ]\n",
       "   18*3 /   ----- + -------------  ]\n",
       "      \\/     216          36       ]\n",
       "                                   ]\n",
       "                                   ]\n",
       "                                   ]\n",
       "                                   ]\n",
       "                                   ]\n",
       "-----------------------------------]\n",
       "                                   ]\n",
       "                                   ]\n",
       "___________________________________]\n",
       "                                   ]\n",
       "                                   ]\n",
       "                                   ]\n",
       "---------------------------------- ]\n",
       "__________________________________ ]\n",
       "          _______________________  ]\n",
       "         /           ___________   ]\n",
       "        /  59741   \\/ 183997887    ]\n",
       " + 2*3 /   ----- + -------------   ]\n",
       "     \\/     216          36        ]\n",
       "                                   ]\n",
       "                                   ]\n",
       "                                   ]\n",
       "                                   ]\n",
       "-----------------------------------]\n",
       "                                   ]\n",
       "                                   ]\n",
       "                                   ]\n",
       "                                   ]\n",
       "                                   ]\n",
       "                                   ]\n",
       "                                   ]\n",
       "___________________________________]\n",
       "           _______________________ ]\n",
       "          /           ___________  ]\n",
       "5        /  59741   \\/ 183997887   ]\n",
       "- + 2*3 /   ----- + -------------  ]\n",
       "2     \\/     216          36       ]\n",
       "                                   ]\n",
       "                                   ]\n",
       "                                   ]\n",
       "                                   ]\n",
       "-----------------------------------]\n",
       "                                   ]"
      ]
     },
     "execution_count": 25,
     "metadata": {},
     "output_type": "execute_result"
    }
   ],
   "source": [
    "λ=solve(p(x),x)"
   ]
  },
  {
   "cell_type": "code",
   "execution_count": 26,
   "metadata": {
    "collapsed": false,
    "scrolled": true
   },
   "outputs": [
    {
     "data": {
      "text/plain": [
       "4"
      ]
     },
     "execution_count": 26,
     "metadata": {},
     "output_type": "execute_result"
    }
   ],
   "source": [
    "length(λ)"
   ]
  },
  {
   "cell_type": "markdown",
   "metadata": {},
   "source": [
    "Since all eigenvalues are distinct, they are all simple and the matrix is diagonalizable. \n",
    "With high probability, all eigenvalues of a random matrix are simple.\n",
    "\n",
    "Do not try to use `nullspace()` here."
   ]
  },
  {
   "cell_type": "code",
   "execution_count": 27,
   "metadata": {
    "collapsed": false
   },
   "outputs": [
    {
     "data": {
      "text/latex": [
       "$$\\frac{1}{\\left(1.0 x - 0.613543327243868\\right)^{2} \\left(1.0 x^{2} - 0.736147871729191 x - 0.00559660227494675\\right)} \\left(1.0 x^{8} - 3.74424190338593 x^{7} + 4.51011488519135 x^{6} - 1.77476200768211 x^{5} - 0.426619178103156 x^{4} + 0.54741776026562 x^{3} - 0.165641842472509 x^{2} + 0.0202027083446043 x + 0.00016165361042068\\right)$$"
      ],
      "text/plain": [
       "    /     8                     7                     6                     5 \n",
       "1.0*\\1.0*x  - 3.74424190338593*x  + 4.51011488519135*x  - 1.77476200768211*x  \n",
       "------------------------------------------------------------------------------\n",
       "                                                                              \n",
       "                                                       (1.0*x - 0.613543327243\n",
       "\n",
       "                     4                     3                      2           \n",
       "- 0.426619178103156*x  + 0.54741776026562*x  - 0.165641842472509*x  + 0.020202\n",
       "------------------------------------------------------------------------------\n",
       "    2 /     2                                            \\                    \n",
       "868) *\\1.0*x  - 0.736147871729191*x - 0.00559660227494675/                    \n",
       "\n",
       "                                  \\\n",
       "7083446043*x + 0.00016165361042068/\n",
       "-----------------------------------\n",
       "                                   \n",
       "                                   "
      ]
     },
     "execution_count": 27,
     "metadata": {},
     "output_type": "execute_result"
    }
   ],
   "source": [
    "A=rand(4,4)\n",
    "p(x)=factor(det(A-x*I))\n",
    "p(x)"
   ]
  },
  {
   "cell_type": "markdown",
   "metadata": {
    "collapsed": false
   },
   "source": [
    "In this case, symbolic computation does not work well with floating-point numbers - the degree of $p_A(x)$ is 8 instead of 4.\n",
    "\n",
    "Let us try `Rational` numbers:"
   ]
  },
  {
   "cell_type": "code",
   "execution_count": 28,
   "metadata": {
    "collapsed": false
   },
   "outputs": [
    {
     "data": {
      "text/plain": [
       "4x4 Array{Rational{Int64},2}:\n",
       " 2763153499951137//4503599627370496  …  137441944940873//2251799813685248\n",
       "  109214391721203//1125899906842624     462055354967865//1125899906842624\n",
       " 1090474967879759//4503599627370496     807990960920469//4503599627370496\n",
       "  604155401433373//1125899906842624     326352766269215//1125899906842624"
      ]
     },
     "execution_count": 28,
     "metadata": {},
     "output_type": "execute_result"
    }
   ],
   "source": [
    "A=map(Rational,A)"
   ]
  },
  {
   "cell_type": "code",
   "execution_count": 29,
   "metadata": {
    "collapsed": false
   },
   "outputs": [
    {
     "data": {
      "text/latex": [
       "$$\\frac{1}{411376139330301510538742295639337626245683966408394965837152256} \\left(411376139330301510538742295639337626245683966408394965837152256 x^{4} - 732663938938572427766916212806672688109490415709270239877267456 x^{3} - 107194884789645430092332986351470786760283707260952857727205376 x^{2} + 104156927859327740408498211605724819700280224861090728598568960 x - 31565275762622170850372777342768004547327468788324364387558121\\right)$$"
      ],
      "text/plain": [
       "                                                                 4            \n",
       "411376139330301510538742295639337626245683966408394965837152256*x  - 732663938\n",
       "------------------------------------------------------------------------------\n",
       "                                                                              \n",
       "\n",
       "                                                        3                     \n",
       "938572427766916212806672688109490415709270239877267456*x  - 107194884789645430\n",
       "------------------------------------------------------------------------------\n",
       "                                                           4113761393303015105\n",
       "\n",
       "                                               2                              \n",
       "092332986351470786760283707260952857727205376*x  + 104156927859327740408498211\n",
       "------------------------------------------------------------------------------\n",
       "38742295639337626245683966408394965837152256                                  \n",
       "\n",
       "                                                                              \n",
       "605724819700280224861090728598568960*x - 3156527576262217085037277734276800454\n",
       "------------------------------------------------------------------------------\n",
       "                                                                              \n",
       "\n",
       "                         \n",
       "7327468788324364387558121\n",
       "-------------------------\n",
       "                         "
      ]
     },
     "execution_count": 29,
     "metadata": {},
     "output_type": "execute_result"
    }
   ],
   "source": [
    "p(x)=factor(det(A-x*I))\n",
    "p(x)"
   ]
  },
  {
   "cell_type": "code",
   "execution_count": 30,
   "metadata": {
    "collapsed": false
   },
   "outputs": [
    {
     "data": {
      "text/latex": [
       "\\begin{bmatrix}\\frac{4010472080081223}{9007199254740992} - \\frac{1}{2} \\sqrt{\\frac{19607296882203585032098185971953}{20282409603651670423947251286016} + \\frac{4284623151331874679631695697940040875448846345105039854573413}{154266052248863066452028360864751609842131487403148112188932096 \\sqrt[3]{- \\frac{17800761935555511480055930289159578260578152430898817234079509723333822532761829636077524301}{1042962419883256876169444192465601618458351817556959360325703910069443225478828393565899456512} + \\frac{\\sqrt{25430265886169114764842281004884808286061940157409564552242728778507605681854018582349642856301168585885536351446942354465899020378346326075558562277183311540195349836194153058825958690}}{9386661778949311885524997732190414566125166358012634242931335190624989029309455542093095108608}}} + 2 \\sqrt[3]{- \\frac{17800761935555511480055930289159578260578152430898817234079509723333822532761829636077524301}{1042962419883256876169444192465601618458351817556959360325703910069443225478828393565899456512} + \\frac{\\sqrt{25430265886169114764842281004884808286061940157409564552242728778507605681854018582349642856301168585885536351446942354465899020378346326075558562277183311540195349836194153058825958690}}{9386661778949311885524997732190414566125166358012634242931335190624989029309455542093095108608}}} + \\frac{1}{2} \\sqrt{\\frac{19607296882203585032098185971953}{10141204801825835211973625643008} - \\frac{62572302688257992829066335856646464982823817985}{45671926166590716193865151022383844364247891968 \\sqrt{\\frac{19607296882203585032098185971953}{20282409603651670423947251286016} + \\frac{4284623151331874679631695697940040875448846345105039854573413}{154266052248863066452028360864751609842131487403148112188932096 \\sqrt[3]{- \\frac{17800761935555511480055930289159578260578152430898817234079509723333822532761829636077524301}{1042962419883256876169444192465601618458351817556959360325703910069443225478828393565899456512} + \\frac{\\sqrt{25430265886169114764842281004884808286061940157409564552242728778507605681854018582349642856301168585885536351446942354465899020378346326075558562277183311540195349836194153058825958690}}{9386661778949311885524997732190414566125166358012634242931335190624989029309455542093095108608}}} + 2 \\sqrt[3]{- \\frac{17800761935555511480055930289159578260578152430898817234079509723333822532761829636077524301}{1042962419883256876169444192465601618458351817556959360325703910069443225478828393565899456512} + \\frac{\\sqrt{25430265886169114764842281004884808286061940157409564552242728778507605681854018582349642856301168585885536351446942354465899020378346326075558562277183311540195349836194153058825958690}}{9386661778949311885524997732190414566125166358012634242931335190624989029309455542093095108608}}}} - 2 \\sqrt[3]{- \\frac{17800761935555511480055930289159578260578152430898817234079509723333822532761829636077524301}{1042962419883256876169444192465601618458351817556959360325703910069443225478828393565899456512} + \\frac{\\sqrt{25430265886169114764842281004884808286061940157409564552242728778507605681854018582349642856301168585885536351446942354465899020378346326075558562277183311540195349836194153058825958690}}{9386661778949311885524997732190414566125166358012634242931335190624989029309455542093095108608}} - \\frac{4284623151331874679631695697940040875448846345105039854573413}{154266052248863066452028360864751609842131487403148112188932096 \\sqrt[3]{- \\frac{17800761935555511480055930289159578260578152430898817234079509723333822532761829636077524301}{1042962419883256876169444192465601618458351817556959360325703910069443225478828393565899456512} + \\frac{\\sqrt{25430265886169114764842281004884808286061940157409564552242728778507605681854018582349642856301168585885536351446942354465899020378346326075558562277183311540195349836194153058825958690}}{9386661778949311885524997732190414566125166358012634242931335190624989029309455542093095108608}}}}\\\\\\frac{4010472080081223}{9007199254740992} + \\frac{1}{2} \\sqrt{\\frac{19607296882203585032098185971953}{20282409603651670423947251286016} + \\frac{4284623151331874679631695697940040875448846345105039854573413}{154266052248863066452028360864751609842131487403148112188932096 \\sqrt[3]{- \\frac{17800761935555511480055930289159578260578152430898817234079509723333822532761829636077524301}{1042962419883256876169444192465601618458351817556959360325703910069443225478828393565899456512} + \\frac{\\sqrt{25430265886169114764842281004884808286061940157409564552242728778507605681854018582349642856301168585885536351446942354465899020378346326075558562277183311540195349836194153058825958690}}{9386661778949311885524997732190414566125166358012634242931335190624989029309455542093095108608}}} + 2 \\sqrt[3]{- \\frac{17800761935555511480055930289159578260578152430898817234079509723333822532761829636077524301}{1042962419883256876169444192465601618458351817556959360325703910069443225478828393565899456512} + \\frac{\\sqrt{25430265886169114764842281004884808286061940157409564552242728778507605681854018582349642856301168585885536351446942354465899020378346326075558562277183311540195349836194153058825958690}}{9386661778949311885524997732190414566125166358012634242931335190624989029309455542093095108608}}} + \\frac{1}{2} \\sqrt{\\frac{19607296882203585032098185971953}{10141204801825835211973625643008} - 2 \\sqrt[3]{- \\frac{17800761935555511480055930289159578260578152430898817234079509723333822532761829636077524301}{1042962419883256876169444192465601618458351817556959360325703910069443225478828393565899456512} + \\frac{\\sqrt{25430265886169114764842281004884808286061940157409564552242728778507605681854018582349642856301168585885536351446942354465899020378346326075558562277183311540195349836194153058825958690}}{9386661778949311885524997732190414566125166358012634242931335190624989029309455542093095108608}} + \\frac{62572302688257992829066335856646464982823817985}{45671926166590716193865151022383844364247891968 \\sqrt{\\frac{19607296882203585032098185971953}{20282409603651670423947251286016} + \\frac{4284623151331874679631695697940040875448846345105039854573413}{154266052248863066452028360864751609842131487403148112188932096 \\sqrt[3]{- \\frac{17800761935555511480055930289159578260578152430898817234079509723333822532761829636077524301}{1042962419883256876169444192465601618458351817556959360325703910069443225478828393565899456512} + \\frac{\\sqrt{25430265886169114764842281004884808286061940157409564552242728778507605681854018582349642856301168585885536351446942354465899020378346326075558562277183311540195349836194153058825958690}}{9386661778949311885524997732190414566125166358012634242931335190624989029309455542093095108608}}} + 2 \\sqrt[3]{- \\frac{17800761935555511480055930289159578260578152430898817234079509723333822532761829636077524301}{1042962419883256876169444192465601618458351817556959360325703910069443225478828393565899456512} + \\frac{\\sqrt{25430265886169114764842281004884808286061940157409564552242728778507605681854018582349642856301168585885536351446942354465899020378346326075558562277183311540195349836194153058825958690}}{9386661778949311885524997732190414566125166358012634242931335190624989029309455542093095108608}}}} - \\frac{4284623151331874679631695697940040875448846345105039854573413}{154266052248863066452028360864751609842131487403148112188932096 \\sqrt[3]{- \\frac{17800761935555511480055930289159578260578152430898817234079509723333822532761829636077524301}{1042962419883256876169444192465601618458351817556959360325703910069443225478828393565899456512} + \\frac{\\sqrt{25430265886169114764842281004884808286061940157409564552242728778507605681854018582349642856301168585885536351446942354465899020378346326075558562277183311540195349836194153058825958690}}{9386661778949311885524997732190414566125166358012634242931335190624989029309455542093095108608}}}}\\\\\\frac{4010472080081223}{9007199254740992} - \\frac{1}{2} \\sqrt{\\frac{19607296882203585032098185971953}{10141204801825835211973625643008} - 2 \\sqrt[3]{- \\frac{17800761935555511480055930289159578260578152430898817234079509723333822532761829636077524301}{1042962419883256876169444192465601618458351817556959360325703910069443225478828393565899456512} + \\frac{\\sqrt{25430265886169114764842281004884808286061940157409564552242728778507605681854018582349642856301168585885536351446942354465899020378346326075558562277183311540195349836194153058825958690}}{9386661778949311885524997732190414566125166358012634242931335190624989029309455542093095108608}} + \\frac{62572302688257992829066335856646464982823817985}{45671926166590716193865151022383844364247891968 \\sqrt{\\frac{19607296882203585032098185971953}{20282409603651670423947251286016} + \\frac{4284623151331874679631695697940040875448846345105039854573413}{154266052248863066452028360864751609842131487403148112188932096 \\sqrt[3]{- \\frac{17800761935555511480055930289159578260578152430898817234079509723333822532761829636077524301}{1042962419883256876169444192465601618458351817556959360325703910069443225478828393565899456512} + \\frac{\\sqrt{25430265886169114764842281004884808286061940157409564552242728778507605681854018582349642856301168585885536351446942354465899020378346326075558562277183311540195349836194153058825958690}}{9386661778949311885524997732190414566125166358012634242931335190624989029309455542093095108608}}} + 2 \\sqrt[3]{- \\frac{17800761935555511480055930289159578260578152430898817234079509723333822532761829636077524301}{1042962419883256876169444192465601618458351817556959360325703910069443225478828393565899456512} + \\frac{\\sqrt{25430265886169114764842281004884808286061940157409564552242728778507605681854018582349642856301168585885536351446942354465899020378346326075558562277183311540195349836194153058825958690}}{9386661778949311885524997732190414566125166358012634242931335190624989029309455542093095108608}}}} - \\frac{4284623151331874679631695697940040875448846345105039854573413}{154266052248863066452028360864751609842131487403148112188932096 \\sqrt[3]{- \\frac{17800761935555511480055930289159578260578152430898817234079509723333822532761829636077524301}{1042962419883256876169444192465601618458351817556959360325703910069443225478828393565899456512} + \\frac{\\sqrt{25430265886169114764842281004884808286061940157409564552242728778507605681854018582349642856301168585885536351446942354465899020378346326075558562277183311540195349836194153058825958690}}{9386661778949311885524997732190414566125166358012634242931335190624989029309455542093095108608}}}} + \\frac{1}{2} \\sqrt{\\frac{19607296882203585032098185971953}{20282409603651670423947251286016} + \\frac{4284623151331874679631695697940040875448846345105039854573413}{154266052248863066452028360864751609842131487403148112188932096 \\sqrt[3]{- \\frac{17800761935555511480055930289159578260578152430898817234079509723333822532761829636077524301}{1042962419883256876169444192465601618458351817556959360325703910069443225478828393565899456512} + \\frac{\\sqrt{25430265886169114764842281004884808286061940157409564552242728778507605681854018582349642856301168585885536351446942354465899020378346326075558562277183311540195349836194153058825958690}}{9386661778949311885524997732190414566125166358012634242931335190624989029309455542093095108608}}} + 2 \\sqrt[3]{- \\frac{17800761935555511480055930289159578260578152430898817234079509723333822532761829636077524301}{1042962419883256876169444192465601618458351817556959360325703910069443225478828393565899456512} + \\frac{\\sqrt{25430265886169114764842281004884808286061940157409564552242728778507605681854018582349642856301168585885536351446942354465899020378346326075558562277183311540195349836194153058825958690}}{9386661778949311885524997732190414566125166358012634242931335190624989029309455542093095108608}}}\\\\\\frac{4010472080081223}{9007199254740992} - \\frac{1}{2} \\sqrt{\\frac{19607296882203585032098185971953}{10141204801825835211973625643008} - \\frac{62572302688257992829066335856646464982823817985}{45671926166590716193865151022383844364247891968 \\sqrt{\\frac{19607296882203585032098185971953}{20282409603651670423947251286016} + \\frac{4284623151331874679631695697940040875448846345105039854573413}{154266052248863066452028360864751609842131487403148112188932096 \\sqrt[3]{- \\frac{17800761935555511480055930289159578260578152430898817234079509723333822532761829636077524301}{1042962419883256876169444192465601618458351817556959360325703910069443225478828393565899456512} + \\frac{\\sqrt{25430265886169114764842281004884808286061940157409564552242728778507605681854018582349642856301168585885536351446942354465899020378346326075558562277183311540195349836194153058825958690}}{9386661778949311885524997732190414566125166358012634242931335190624989029309455542093095108608}}} + 2 \\sqrt[3]{- \\frac{17800761935555511480055930289159578260578152430898817234079509723333822532761829636077524301}{1042962419883256876169444192465601618458351817556959360325703910069443225478828393565899456512} + \\frac{\\sqrt{25430265886169114764842281004884808286061940157409564552242728778507605681854018582349642856301168585885536351446942354465899020378346326075558562277183311540195349836194153058825958690}}{9386661778949311885524997732190414566125166358012634242931335190624989029309455542093095108608}}}} - 2 \\sqrt[3]{- \\frac{17800761935555511480055930289159578260578152430898817234079509723333822532761829636077524301}{1042962419883256876169444192465601618458351817556959360325703910069443225478828393565899456512} + \\frac{\\sqrt{25430265886169114764842281004884808286061940157409564552242728778507605681854018582349642856301168585885536351446942354465899020378346326075558562277183311540195349836194153058825958690}}{9386661778949311885524997732190414566125166358012634242931335190624989029309455542093095108608}} - \\frac{4284623151331874679631695697940040875448846345105039854573413}{154266052248863066452028360864751609842131487403148112188932096 \\sqrt[3]{- \\frac{17800761935555511480055930289159578260578152430898817234079509723333822532761829636077524301}{1042962419883256876169444192465601618458351817556959360325703910069443225478828393565899456512} + \\frac{\\sqrt{25430265886169114764842281004884808286061940157409564552242728778507605681854018582349642856301168585885536351446942354465899020378346326075558562277183311540195349836194153058825958690}}{9386661778949311885524997732190414566125166358012634242931335190624989029309455542093095108608}}}} - \\frac{1}{2} \\sqrt{\\frac{19607296882203585032098185971953}{20282409603651670423947251286016} + \\frac{4284623151331874679631695697940040875448846345105039854573413}{154266052248863066452028360864751609842131487403148112188932096 \\sqrt[3]{- \\frac{17800761935555511480055930289159578260578152430898817234079509723333822532761829636077524301}{1042962419883256876169444192465601618458351817556959360325703910069443225478828393565899456512} + \\frac{\\sqrt{25430265886169114764842281004884808286061940157409564552242728778507605681854018582349642856301168585885536351446942354465899020378346326075558562277183311540195349836194153058825958690}}{9386661778949311885524997732190414566125166358012634242931335190624989029309455542093095108608}}} + 2 \\sqrt[3]{- \\frac{17800761935555511480055930289159578260578152430898817234079509723333822532761829636077524301}{1042962419883256876169444192465601618458351817556959360325703910069443225478828393565899456512} + \\frac{\\sqrt{25430265886169114764842281004884808286061940157409564552242728778507605681854018582349642856301168585885536351446942354465899020378346326075558562277183311540195349836194153058825958690}}{9386661778949311885524997732190414566125166358012634242931335190624989029309455542093095108608}}}\\end{bmatrix}"
      ],
      "text/plain": [
       "4-element Array{SymPy.Sym,1}\n",
       "[                                                                             \n",
       "[                                                                             \n",
       "[                                                                             \n",
       "[                                                                             \n",
       "[                                                                             \n",
       "[                             ________________________________________________\n",
       "[                            /                                                \n",
       "[                           /                                                 \n",
       "[                          /   19607296882203585032098185971953               \n",
       "[                         /    -------------------------------- + ------------\n",
       "[                        /     20282409603651670423947251286016               \n",
       "[                       /                                                     \n",
       "[                      /                                                      \n",
       "[                     /                                           154266052248\n",
       "[4010472080081223   \\/                                                        \n",
       "[---------------- - ----------------------------------------------------------\n",
       "[9007199254740992                                                             \n",
       "[                                                                             \n",
       "[                                                                             \n",
       "[                                                                             \n",
       "[                                                                             \n",
       "[                                                                             \n",
       "[                                                                             \n",
       "[                             ________________________________________________\n",
       "[                            /                                                \n",
       "[                           /                                                 \n",
       "[                          /   19607296882203585032098185971953               \n",
       "[                         /    -------------------------------- + ------------\n",
       "[                        /     20282409603651670423947251286016               \n",
       "[                       /                                                     \n",
       "[                      /                                                      \n",
       "[                     /                                           154266052248\n",
       "[4010472080081223   \\/                                                        \n",
       "[---------------- + ----------------------------------------------------------\n",
       "[9007199254740992                                                             \n",
       "[                                                                             \n",
       "[                                  ___________________________________________\n",
       "[                                 /                                           \n",
       "[                                /                                           /\n",
       "[                               /   19607296882203585032098185971953        / \n",
       "[                              /    -------------------------------- - 2*3 /  \n",
       "[                             /     10141204801825835211973625643008     \\/   \n",
       "[                            /                                                \n",
       "[                           /                                                 \n",
       "[                          /                                                  \n",
       "[                         /                                                   \n",
       "[                        /                                                    \n",
       "[                       /                                                     \n",
       "[                      /                                                      \n",
       "[                     /                                                       \n",
       "[4010472080081223   \\/                                                        \n",
       "[---------------- - ----------------------------------------------------------\n",
       "[9007199254740992                                                             \n",
       "[                                                                             \n",
       "[                                  ___________________________________________\n",
       "[                                 /                                           \n",
       "[                                /                                            \n",
       "[                               /   19607296882203585032098185971953          \n",
       "[                              /    -------------------------------- - -------\n",
       "[                             /     10141204801825835211973625643008          \n",
       "[                            /                                                \n",
       "[                           /                                                 \n",
       "[                          /                                                  \n",
       "[                         /                                            4567192\n",
       "[                        /                                                    \n",
       "[                       /                                                     \n",
       "[                      /                                                      \n",
       "[                     /                                                       \n",
       "[4010472080081223   \\/                                                        \n",
       "[---------------- - ----------------------------------------------------------\n",
       "[9007199254740992                                                             \n",
       "\n",
       "                                                                              \n",
       "                                                                              \n",
       "                                                                              \n",
       "                                                                              \n",
       "                                                                              \n",
       "______________________________________________________________________________\n",
       "                                                                              \n",
       "                                                                              \n",
       "                                                                              \n",
       "------------------------------------------------------------------------------\n",
       "                                                         _____________________\n",
       "                                                        /                     \n",
       "                                                       /     17800761935555511\n",
       "863066452028360864751609842131487403148112188932096*3 /   - ------------------\n",
       "                                                    \\/      104296241988325687\n",
       "------------------------------------------------------------------------------\n",
       "                                                                              \n",
       "                                                                              \n",
       "                                                                              \n",
       "                                                                              \n",
       "                                                                              \n",
       "                                                                              \n",
       "                                                                              \n",
       "______________________________________________________________________________\n",
       "                                                                              \n",
       "                                                                              \n",
       "                                                                              \n",
       "------------------------------------------------------------------------------\n",
       "                                                         _____________________\n",
       "                                                        /                     \n",
       "                                                       /     17800761935555511\n",
       "863066452028360864751609842131487403148112188932096*3 /   - ------------------\n",
       "                                                    \\/      104296241988325687\n",
       "------------------------------------------------------------------------------\n",
       "                                                                              \n",
       "                                                                              \n",
       "______________________________________________________________________________\n",
       "______________________________________________________________________________\n",
       "                                                                              \n",
       "    17800761935555511480055930289159578260578152430898817234079509723333822532\n",
       " - ---------------------------------------------------------------------------\n",
       "   104296241988325687616944419246560161845835181755695936032570391006944322547\n",
       "                                                                              \n",
       "                                                                              \n",
       "                                                                              \n",
       "                                                                              \n",
       "                                                                              \n",
       "                                                                              \n",
       "                                                                              \n",
       "                                                                              \n",
       "                                                                              \n",
       "------------------------------------------------------------------------------\n",
       "                                                                              \n",
       "                                                                              \n",
       "______________________________________________________________________________\n",
       "                                                                              \n",
       "                                                                              \n",
       "                                                                              \n",
       "------------------------------------------------------------------------------\n",
       "                                                   ___________________________\n",
       "                                                  /                           \n",
       "                                                 /                            \n",
       "                                                /   19607296882203585032098185\n",
       "6166590716193865151022383844364247891968*      /    --------------------------\n",
       "                                              /     20282409603651670423947251\n",
       "                                             /                                \n",
       "                                            /                                 \n",
       "                                           /                                  \n",
       "                                         \\/                                   \n",
       "------------------------------------------------------------------------------\n",
       "                                                                              \n",
       "\n",
       "                                                                              \n",
       "                                                                              \n",
       "                                                                              \n",
       "                                                                              \n",
       "                                                                              \n",
       "______________________________________________________________________________\n",
       "                                                                              \n",
       "                                                                              \n",
       "                                                           4284623151331874679\n",
       "------------------------------------------------------------------------------\n",
       "______________________________________________________________________________\n",
       "                                                                              \n",
       "480055930289159578260578152430898817234079509723333822532761829636077524301   \n",
       "---------------------------------------------------------------------------- +\n",
       "6169444192465601618458351817556959360325703910069443225478828393565899456512  \n",
       "------------------------------------------------------------------------------\n",
       "                                                                              \n",
       "                                                                              \n",
       "                                                                              \n",
       "                                                                              \n",
       "                                                                              \n",
       "                                                                              \n",
       "                                                                              \n",
       "______________________________________________________________________________\n",
       "                                                                              \n",
       "                                                                              \n",
       "                                                           4284623151331874679\n",
       "------------------------------------------------------------------------------\n",
       "______________________________________________________________________________\n",
       "                                                                              \n",
       "480055930289159578260578152430898817234079509723333822532761829636077524301   \n",
       "---------------------------------------------------------------------------- +\n",
       "6169444192465601618458351817556959360325703910069443225478828393565899456512  \n",
       "------------------------------------------------------------------------------\n",
       "                                                                              \n",
       "                                                                              \n",
       "______________________________________________________________________________\n",
       "______________________________________________________________________________\n",
       "                        ______________________________________________________\n",
       "761829636077524301    \\/ 25430265886169114764842281004884808286061940157409564\n",
       "------------------- + --------------------------------------------------------\n",
       "8828393565899456512                                                   93866617\n",
       "                                                                              \n",
       "                                                                              \n",
       "                                                                              \n",
       "                                                                              \n",
       "                                                                              \n",
       "                                                                              \n",
       "                                                                              \n",
       "                                                                              \n",
       "                                                                              \n",
       "------------------------------------------------------------------------------\n",
       "                                                                              \n",
       "                                                                              \n",
       "______________________________________________________________________________\n",
       "                                                                              \n",
       "                                                                              \n",
       "                                                                              \n",
       "------------------------------------------------------------------------------\n",
       "______________________________________________________________________________\n",
       "                                                                              \n",
       "                                                                              \n",
       "971953                                                                        \n",
       "------ + ---------------------------------------------------------------------\n",
       "286016                                                                        \n",
       "                                                                             /\n",
       "                                                                            / \n",
       "         154266052248863066452028360864751609842131487403148112188932096*3 /  \n",
       "                                                                         \\/   \n",
       "------------------------------------------------------------------------------\n",
       "                                                                              \n",
       "\n",
       "                                                                              \n",
       "                                                                              \n",
       "                                                                              \n",
       "                                                                              \n",
       "                                                                              \n",
       "______________________________________________________________________________\n",
       "                                                                              \n",
       "                                                                              \n",
       "631695697940040875448846345105039854573413                                    \n",
       "------------------------------------------------------------------------------\n",
       "______________________________________________________________________________\n",
       "   ___________________________________________________________________________\n",
       " \\/ 25430265886169114764842281004884808286061940157409564552242728778507605681\n",
       " -----------------------------------------------------------------------------\n",
       "                                                 93866617789493118855249977321\n",
       "------------------------------------------------------------------------------\n",
       "                                                                              \n",
       "                                                                              \n",
       "                                                                              \n",
       "                                                                              \n",
       "                                                                              \n",
       "                                                                              \n",
       "                                                                              \n",
       "______________________________________________________________________________\n",
       "                                                                              \n",
       "                                                                              \n",
       "631695697940040875448846345105039854573413                                    \n",
       "------------------------------------------------------------------------------\n",
       "______________________________________________________________________________\n",
       "   ___________________________________________________________________________\n",
       " \\/ 25430265886169114764842281004884808286061940157409564552242728778507605681\n",
       " -----------------------------------------------------------------------------\n",
       "                                                 93866617789493118855249977321\n",
       "------------------------------------------------------------------------------\n",
       "                                                                              \n",
       "                                                                              \n",
       "______________________________________________________________________________\n",
       "______________________________________________________________________________\n",
       "______________________________________________________________________________\n",
       "552242728778507605681854018582349642856301168585885536351446942354465899020378\n",
       "------------------------------------------------------------------------------\n",
       "789493118855249977321904145661251663580126342429313351906249890293094555420930\n",
       "                                                                              \n",
       "                                                                              \n",
       "                                                                              \n",
       "                                                                              \n",
       "                                                                              \n",
       "                                                                              \n",
       "                                                                              \n",
       "                                                                              \n",
       "                                                                              \n",
       "------------------------------------------------------------------------------\n",
       "                                                                              \n",
       "                                                                              \n",
       "______________________________________________________________________________\n",
       "                                                                              \n",
       "                                                                              \n",
       "                                                                              \n",
       "------------------------------------------------------------------------------\n",
       "______________________________________________________________________________\n",
       "                                                                              \n",
       "                                                                              \n",
       "                                                                              \n",
       "------------------------------------------------------------------------------\n",
       "______________________________________________________________________________\n",
       "                                                                              \n",
       "    17800761935555511480055930289159578260578152430898817234079509723333822532\n",
       " - ---------------------------------------------------------------------------\n",
       "   104296241988325687616944419246560161845835181755695936032570391006944322547\n",
       "------------------------------------------------------------------------------\n",
       "                                                                              \n",
       "\n",
       "                                                                              \n",
       "                                                                              \n",
       "                                                                              \n",
       "                                                                              \n",
       "                                                                              \n",
       "______________________________________________________________________________\n",
       "                                                                              \n",
       "                                                                              \n",
       "                                                                              \n",
       "------------------------------------------------------------------------------\n",
       "______________________________________________________________________________\n",
       "______________________________________________________________________________\n",
       "854018582349642856301168585885536351446942354465899020378346326075558562277183\n",
       "------------------------------------------------------------------------------\n",
       "90414566125166358012634242931335190624989029309455542093095108608             \n",
       "------------------------------------------------------------------------------\n",
       "                                                            2                 \n",
       "                                                                              \n",
       "                                                                              \n",
       "                                                                              \n",
       "                                                                              \n",
       "                                                                              \n",
       "                                                                              \n",
       "______________________________________________________________________________\n",
       "                                                                              \n",
       "                                                                              \n",
       "                                                                              \n",
       "------------------------------------------------------------------------------\n",
       "______________________________________________________________________________\n",
       "______________________________________________________________________________\n",
       "854018582349642856301168585885536351446942354465899020378346326075558562277183\n",
       "------------------------------------------------------------------------------\n",
       "90414566125166358012634242931335190624989029309455542093095108608             \n",
       "------------------------------------------------------------------------------\n",
       "                                                            2                 \n",
       "                                                                              \n",
       "______________________________________________________________________________\n",
       "________________________________________________________                      \n",
       "_______________________________________________________                       \n",
       "346326075558562277183311540195349836194153058825958690                        \n",
       "-------------------------------------------------------  + -------------------\n",
       "95108608                                                                      \n",
       "                                                                              \n",
       "                                                                              \n",
       "                                                                              \n",
       "                                                           4567192616659071619\n",
       "                                                                              \n",
       "                                                                              \n",
       "                                                                              \n",
       "                                                                              \n",
       "                                                                              \n",
       "------------------------------------------------------------------------------\n",
       "                                                                              \n",
       "                                                                              \n",
       "______________________________________________________________________________\n",
       "                                                                              \n",
       "                                                                              \n",
       "                                                                              \n",
       "------------------------------------------------------------------------------\n",
       "______________________________________________________________________________\n",
       "                                                                              \n",
       "                                                                              \n",
       "  4284623151331874679631695697940040875448846345105039854573413               \n",
       "------------------------------------------------------------------------------\n",
       "______________________________________________________________________________\n",
       "                        ______________________________________________________\n",
       "761829636077524301    \\/ 25430265886169114764842281004884808286061940157409564\n",
       "------------------- + --------------------------------------------------------\n",
       "8828393565899456512                                                   93866617\n",
       "------------------------------------------------------------------------------\n",
       "                                                                              \n",
       "\n",
       "                                                                              \n",
       "                                                                              \n",
       "                                                                              \n",
       "                                                                              \n",
       "                                                                              \n",
       "______________________________________________________________________________\n",
       "                                             _________________________________\n",
       "                                            /                                 \n",
       "                                           /     17800761935555511480055930289\n",
       "----------------------------------- + 2*3 /   - ------------------------------\n",
       "___________________________________     \\/      104296241988325687616944419246\n",
       "__________________________________                                            \n",
       "311540195349836194153058825958690                                             \n",
       "----------------------------------                                            \n",
       "                                                                              \n",
       "------------------------------------------------------------------------------\n",
       "                                                                              \n",
       "                                                                              \n",
       "                                                                              \n",
       "                                                                              \n",
       "                                                                              \n",
       "                                                                              \n",
       "                                                                              \n",
       "______________________________________________________________________________\n",
       "                                             _________________________________\n",
       "                                            /                                 \n",
       "                                           /     17800761935555511480055930289\n",
       "----------------------------------- + 2*3 /   - ------------------------------\n",
       "___________________________________     \\/      104296241988325687616944419246\n",
       "__________________________________                                            \n",
       "311540195349836194153058825958690                                             \n",
       "----------------------------------                                            \n",
       "                                                                              \n",
       "------------------------------------------------------------------------------\n",
       "                                                                              \n",
       "                                                                              \n",
       "______________________________________________________________________________\n",
       "                                                                              \n",
       "                                                                              \n",
       "                                                                              \n",
       "------------------------------------------------------------------------------\n",
       "                                       _______________________________________\n",
       "                                      /                                       \n",
       "                                     /                                        \n",
       "                                    /   19607296882203585032098185971953      \n",
       "3865151022383844364247891968*      /    -------------------------------- + ---\n",
       "                                  /     20282409603651670423947251286016      \n",
       "                                 /                                            \n",
       "                                /                                             \n",
       "                               /                                           154\n",
       "                             \\/                                               \n",
       "------------------------------------------------------------------------------\n",
       "                                                                              \n",
       "                                                                              \n",
       "______________________________________________________________________________\n",
       "                                                                              \n",
       "                                                                              \n",
       "                                  62572302688257992829066335856646464982823817\n",
       "------------------------------------------------------------------------------\n",
       "______________________________________________________________________________\n",
       "                                                                              \n",
       "                                                                              \n",
       "                                                                              \n",
       "------------------------------------------------------------------------------\n",
       "______________________________________________________________________________\n",
       "______________________________________________________________________________\n",
       "552242728778507605681854018582349642856301168585885536351446942354465899020378\n",
       "------------------------------------------------------------------------------\n",
       "789493118855249977321904145661251663580126342429313351906249890293094555420930\n",
       "------------------------------------------------------------------------------\n",
       "                                                                              \n",
       "\n",
       "                                                                              \n",
       "                                                                              \n",
       "                                                                              \n",
       "                                                                              \n",
       "                                                                              \n",
       "______________________________________________________________________________\n",
       "______________________________________________________________________________\n",
       "                                                                     _________\n",
       "159578260578152430898817234079509723333822532761829636077524301    \\/ 25430265\n",
       "---------------------------------------------------------------- + -----------\n",
       "5601618458351817556959360325703910069443225478828393565899456512              \n",
       "                                                                              \n",
       "                                                                              \n",
       "                                                                              \n",
       "                                                                              \n",
       "------------------------------------------------------------------------------\n",
       "                                                                              \n",
       "                                                                              \n",
       "                                                                              \n",
       "                                                                              \n",
       "                                                                              \n",
       "                                                                              \n",
       "                                                                              \n",
       "______________________________________________________________________________\n",
       "______________________________________________________________________________\n",
       "                                                                     _________\n",
       "159578260578152430898817234079509723333822532761829636077524301    \\/ 25430265\n",
       "---------------------------------------------------------------- + -----------\n",
       "5601618458351817556959360325703910069443225478828393565899456512              \n",
       "                                                                              \n",
       "                                                                              \n",
       "                                                                              \n",
       "                                                                              \n",
       "------------------------------------------------------------------------------\n",
       "                                                                              \n",
       "                                                                              \n",
       "______________________________________________________________________________\n",
       "                                                                              \n",
       "                                                                              \n",
       "                                                                              \n",
       "------------------------------------------------------------------------------\n",
       "______________________________________________________________________________\n",
       "                                                                              \n",
       "                                                                              \n",
       "                                                                              \n",
       "------------------------------------------------------------------------------\n",
       "                                                                  ____________\n",
       "                                                                 /            \n",
       "                                                                /     17800761\n",
       "266052248863066452028360864751609842131487403148112188932096*3 /   - ---------\n",
       "                                                             \\/      104296241\n",
       "------------------------------------------------------------------------------\n",
       "                                                                              \n",
       "                                                                              \n",
       "______________________________________________________________________________\n",
       "                                                                              \n",
       "                                                                              \n",
       "985                                                                           \n",
       "------------------------------------------------------------------------------\n",
       "______________________________________________________________________________\n",
       "                                                                  ____________\n",
       "                                                                 /            \n",
       "                                                                /     17800761\n",
       "-------------------------------------------------------- + 2*3 /   - ---------\n",
       "________________________________________________________     \\/      104296241\n",
       "_______________________________________________________                       \n",
       "346326075558562277183311540195349836194153058825958690                        \n",
       "-------------------------------------------------------                       \n",
       "95108608                                                                      \n",
       "------------------------------------------------------------------------------\n",
       "                                                                              \n",
       "\n",
       "                                                                              \n",
       "                                                                              \n",
       "                                                                              \n",
       "                                                                              \n",
       "                                                                              \n",
       "______________________________________________________________________________\n",
       "______________________________________________________________________________\n",
       "______________________________________________________________________________\n",
       "886169114764842281004884808286061940157409564552242728778507605681854018582349\n",
       "------------------------------------------------------------------------------\n",
       "                                     93866617789493118855249977321904145661251\n",
       "                                                                              \n",
       "                                                                              \n",
       "                                                                              \n",
       "                                                                              \n",
       "------------------------------------------------------------------------------\n",
       "                                                                              \n",
       "                                                                              \n",
       "                                                                              \n",
       "                                                                              \n",
       "                                                                              \n",
       "                                                                              \n",
       "                                                                              \n",
       "______________________________________________________________________________\n",
       "______________________________________________________________________________\n",
       "______________________________________________________________________________\n",
       "886169114764842281004884808286061940157409564552242728778507605681854018582349\n",
       "------------------------------------------------------------------------------\n",
       "                                     93866617789493118855249977321904145661251\n",
       "                                                                              \n",
       "                                                                              \n",
       "                                                                              \n",
       "                                                                              \n",
       "------------------------------------------------------------------------------\n",
       "                                                                              \n",
       "                                                                              \n",
       "______________________________________________________________________________\n",
       "                                                                              \n",
       "                                                                              \n",
       "                                                                              \n",
       "------------------------------------------------------------------------------\n",
       "______________________________________________________________________________\n",
       "                                                                              \n",
       "                                                                              \n",
       "                                                                    4284623151\n",
       "------------------------------------------------------------------------------\n",
       "______________________________________________________________________________\n",
       "                                                                              \n",
       "935555511480055930289159578260578152430898817234079509723333822532761829636077\n",
       "------------------------------------------------------------------------------\n",
       "988325687616944419246560161845835181755695936032570391006944322547882839356589\n",
       "------------------------------------------------------------------------------\n",
       "                                                                              \n",
       "                                                                              \n",
       "______________________________________________________________________________\n",
       "                                                                              \n",
       "                                                                              \n",
       "                                                                              \n",
       "------------------------------------------------------------------------------\n",
       "______________________________________________________________________________\n",
       "______________________________________________________________________________\n",
       "                                                                              \n",
       "935555511480055930289159578260578152430898817234079509723333822532761829636077\n",
       "------------------------------------------------------------------------------\n",
       "988325687616944419246560161845835181755695936032570391006944322547882839356589\n",
       "                                                                              \n",
       "                                                                              \n",
       "                                                                              \n",
       "                                                                              \n",
       "------------------------------------------------------------------------------\n",
       "                                                                              \n",
       "\n",
       "                                                                              \n",
       "                                                                              \n",
       "                                                                              \n",
       "                                                                              \n",
       "                                                                              \n",
       "______________________________________________________________________________\n",
       "______________________________________________________________________________\n",
       "______________________________________________________________________________\n",
       "642856301168585885536351446942354465899020378346326075558562277183311540195349\n",
       "------------------------------------------------------------------------------\n",
       "66358012634242931335190624989029309455542093095108608                         \n",
       "                                                                              \n",
       "                                                                              \n",
       "                                                                              \n",
       "                                                                              \n",
       "------------------------------------------------------------------------------\n",
       "                                                                              \n",
       "                                                                              \n",
       "                                                                              \n",
       "                                                                              \n",
       "                                                                              \n",
       "                                                                              \n",
       "                                                                              \n",
       "______________________________________________________________________________\n",
       "______________________________________________________________________________\n",
       "______________________________________________________________________________\n",
       "642856301168585885536351446942354465899020378346326075558562277183311540195349\n",
       "------------------------------------------------------------------------------\n",
       "66358012634242931335190624989029309455542093095108608                         \n",
       "                                                                              \n",
       "                                                                              \n",
       "                                                                              \n",
       "                                                                              \n",
       "------------------------------------------------------------------------------\n",
       "                                                                              \n",
       "                                                                              \n",
       "______________________________________________________________________________\n",
       "                                                                              \n",
       "                                                                              \n",
       "                                                                              \n",
       "------------------------------------------------------------------------------\n",
       "______________________________________________________________________________\n",
       "                                                                              \n",
       "                                                                              \n",
       "331874679631695697940040875448846345105039854573413                           \n",
       "------------------------------------------------------------------------------\n",
       "______________________________________________________________________________\n",
       "            __________________________________________________________________\n",
       "524301    \\/ 25430265886169114764842281004884808286061940157409564552242728778\n",
       "------- + --------------------------------------------------------------------\n",
       "9456512                                                   93866617789493118855\n",
       "------------------------------------------------------------------------------\n",
       "                                                                              \n",
       "                                                                              \n",
       "______________________________________________________________________________\n",
       "                                                                              \n",
       "                                                                              \n",
       "                                                                              \n",
       "------------------------------------------------------------------------------\n",
       "______________________________________________________________________________\n",
       "______________________________________________________________________________\n",
       "            __________________________________________________________________\n",
       "524301    \\/ 25430265886169114764842281004884808286061940157409564552242728778\n",
       "------- + --------------------------------------------------------------------\n",
       "9456512                                                   93866617789493118855\n",
       "                                                                              \n",
       "                                                                              \n",
       "                                                                              \n",
       "                                                                              \n",
       "------------------------------------------------------------------------------\n",
       "                                                                              \n",
       "\n",
       "                                          ____________________________________\n",
       "                                         /                                    \n",
       "                                        /                                     \n",
       "                                       /   19607296882203585032098185971953   \n",
       "                                      /    -------------------------------- - \n",
       "________________________             /     10141204801825835211973625643008   \n",
       "_______________________             /                                         \n",
       "______________________             /                                          \n",
       "836194153058825958690             /                                           \n",
       "----------------------           /                                            \n",
       "                                /                                             \n",
       "                               /                                              \n",
       "                              /                                               \n",
       "                             /                                                \n",
       "                           \\/                                                 \n",
       "------------------------ + ---------------------------------------------------\n",
       "                                                                              \n",
       "                                                                              \n",
       "                                          ____________________________________\n",
       "                                         /                                    \n",
       "                                        /                                     \n",
       "                                       /   19607296882203585032098185971953   \n",
       "                                      /    -------------------------------- - \n",
       "________________________             /     10141204801825835211973625643008   \n",
       "_______________________             /                                         \n",
       "______________________             /                                          \n",
       "836194153058825958690             /                                           \n",
       "----------------------           /                                            \n",
       "                                /                                             \n",
       "                               /                                              \n",
       "                              /                                               \n",
       "                             /                                                \n",
       "                           \\/                                                 \n",
       "------------------------ + ---------------------------------------------------\n",
       "                                                                              \n",
       "                                                                              \n",
       "______________________________________________________________________________\n",
       "                                                                              \n",
       "                                                                              \n",
       "                      62572302688257992829066335856646464982823817985         \n",
       "------------------------------------------------------------------------------\n",
       "______________________________________________________________________________\n",
       "                                                                              \n",
       "                                                                              \n",
       "                                                                              \n",
       "------------------------------------------------------------------------------\n",
       "______________________________________________________________________________\n",
       "______________________________________________________________________________\n",
       "507605681854018582349642856301168585885536351446942354465899020378346326075558\n",
       "------------------------------------------------------------------------------\n",
       "24997732190414566125166358012634242931335190624989029309455542093095108608    \n",
       "------------------------------------------------------------------------------\n",
       "                                                   2                          \n",
       "                                                                              \n",
       "______________________________________________________________________________\n",
       "                                                                              \n",
       "                                                                              \n",
       "                                                                              \n",
       "------------------------------------------------------------------------------\n",
       "______________________________________________________________________________\n",
       "______________________________________________________________________________\n",
       "______________________________________________________________________________\n",
       "507605681854018582349642856301168585885536351446942354465899020378346326075558\n",
       "------------------------------------------------------------------------------\n",
       "24997732190414566125166358012634242931335190624989029309455542093095108608    \n",
       "                                                                              \n",
       "                                                                              \n",
       "                                                                              \n",
       "                                                                              \n",
       "------------------------------------------------------------------------------\n",
       "                                                   2                          \n",
       "\n",
       "______________________________________________________________________________\n",
       "                                                                              \n",
       "                                                                              \n",
       "                                                                              \n",
       "------------------------------------------------------------------------------\n",
       "                                                          ____________________\n",
       "                                                         /                    \n",
       "                                                        /                     \n",
       "                                                       /   1960729688220358503\n",
       "45671926166590716193865151022383844364247891968*      /    -------------------\n",
       "                                                     /     2028240960365167042\n",
       "                                                    /                         \n",
       "                                                   /                          \n",
       "                                                  /                           \n",
       "                                                \\/                            \n",
       "------------------------------------------------------------------------------\n",
       "                                                                              \n",
       "                                                                              \n",
       "______________________________________________________________________________\n",
       "       _______________________________________________________________________\n",
       "      /                                                                       \n",
       "     /     1780076193555551148005593028915957826057815243089881723407950972333\n",
       "2*3 /   - --------------------------------------------------------------------\n",
       "  \\/      10429624198832568761694441924656016184583518175569593603257039100694\n",
       "                                                                              \n",
       "                                                                              \n",
       "                                                                              \n",
       "                                                                              \n",
       "                                                                              \n",
       "                                                                              \n",
       "                                                                              \n",
       "                                                                              \n",
       "                                                                              \n",
       "------------------------------------------------------------------------------\n",
       "                                                                              \n",
       "                                                                              \n",
       "______________________________________________________________________________\n",
       "                                                                              \n",
       "                                                                              \n",
       "                                                                              \n",
       "------------------------------------------------------------------------------\n",
       "______________________________________________________________________________\n",
       "                                                      ________________________\n",
       "                                                     /                        \n",
       "                                                    /     17800761935555511480\n",
       "-------------------------------------------- + 2*3 /   - ---------------------\n",
       "____________________________________________     \\/      104296241988325687616\n",
       "___________________________________________                                   \n",
       "562277183311540195349836194153058825958690                                    \n",
       "-------------------------------------------                                   \n",
       "                                                                              \n",
       "------------------------------------------------------------------------------\n",
       "                                                                              \n",
       "                                                                              \n",
       "______________________________________________________________________________\n",
       "                                                       _______________________\n",
       "                                                      /                       \n",
       "                                                     /     1780076193555551148\n",
       "--------------------------------------------- - 2*3 /   - --------------------\n",
       "_____________________________________________     \\/      10429624198832568761\n",
       "____________________________________________                                  \n",
       "___________________________________________                                   \n",
       "562277183311540195349836194153058825958690                                    \n",
       "-------------------------------------------                                   \n",
       "                                                                              \n",
       "                                                                              \n",
       "                                                                              \n",
       "                                                                              \n",
       "                                                                              \n",
       "------------------------------------------------------------------------------\n",
       "                                                                              \n",
       "\n",
       "______________________________________________________________________________\n",
       "                                                                              \n",
       "                                                                              \n",
       "                                                                              \n",
       "------------------------------------------------------------------------------\n",
       "______________________________________________________________________________\n",
       "                                                                              \n",
       "                                                                              \n",
       "2098185971953                                                                 \n",
       "------------- + --------------------------------------------------------------\n",
       "3947251286016                                                                 \n",
       "                                                                              \n",
       "                                                                              \n",
       "                15426605224886306645202836086475160984213148740314811218893209\n",
       "                                                                              \n",
       "------------------------------------------------------------------------------\n",
       "                                                                              \n",
       "                                                                              \n",
       "______________________________________________________________________________\n",
       "______________________________________________________________________________\n",
       "                               _______________________________________________\n",
       "3822532761829636077524301    \\/ 2543026588616911476484228100488480828606194015\n",
       "-------------------------- + -------------------------------------------------\n",
       "43225478828393565899456512                                                   9\n",
       "                                                                              \n",
       "                                                                              \n",
       "                                                                              \n",
       "                                                                              \n",
       "                                                                              \n",
       "                                                                              \n",
       "                                                                              \n",
       "                                                                              \n",
       "                                                                              \n",
       "------------------------------------------------------------------------------\n",
       "                                                                              \n",
       "                                                                              \n",
       "______________________________________________________________________________\n",
       "                                                                              \n",
       "                                                                              \n",
       "                                                                              \n",
       "------------------------------------------------------------------------------\n",
       "______________________________________________________________________________\n",
       "______________________________________________________________________________\n",
       "                                                                              \n",
       "055930289159578260578152430898817234079509723333822532761829636077524301    \\/\n",
       "------------------------------------------------------------------------- + --\n",
       "9444192465601618458351817556959360325703910069443225478828393565899456512     \n",
       "                                                                              \n",
       "                                                                              \n",
       "                                                                              \n",
       "                                                                              \n",
       "------------------------------------------------------------------------------\n",
       "                                                                              \n",
       "                                                                              \n",
       "______________________________________________________________________________\n",
       "______________________________________________________________________________\n",
       "                                                                              \n",
       "0055930289159578260578152430898817234079509723333822532761829636077524301    \\\n",
       "-------------------------------------------------------------------------- + -\n",
       "69444192465601618458351817556959360325703910069443225478828393565899456512    \n",
       "                                                                              \n",
       "                                                                              \n",
       "                                                                              \n",
       "                                                                              \n",
       "                                                                              \n",
       "                                                                              \n",
       "                                                                              \n",
       "                                                                              \n",
       "                                                                              \n",
       "------------------------------------------------------------------------------\n",
       "                                                                              \n",
       "\n",
       "______________________________________________________________________________\n",
       "                                                                              \n",
       "                                                                              \n",
       "                                                                              \n",
       "------------------------------------------------------------------------------\n",
       "______________________________________________________________________________\n",
       "                                                                              \n",
       "                                                                              \n",
       "                                                                              \n",
       "------------------------------------------------------------------------------\n",
       "       _______________________________________________________________________\n",
       "      /                                                                       \n",
       "     /     1780076193555551148005593028915957826057815243089881723407950972333\n",
       "6*3 /   - --------------------------------------------------------------------\n",
       "  \\/      10429624198832568761694441924656016184583518175569593603257039100694\n",
       "------------------------------------------------------------------------------\n",
       "                                                                              \n",
       "                                                                              \n",
       "______________________________________________________________________________\n",
       "______________________________________________________________________________\n",
       "______________________________________________________________________________\n",
       "740956455224272877850760568185401858234964285630116858588553635144694235446589\n",
       "------------------------------------------------------------------------------\n",
       "386661778949311885524997732190414566125166358012634242931335190624989029309455\n",
       "                                                                              \n",
       "                                                                              \n",
       "                                                                              \n",
       "                                                                              \n",
       "                                                                              \n",
       "                                                                              \n",
       "                                                                              \n",
       "                                                                              \n",
       "                                                                              \n",
       "------------------------------------------------------------------------------\n",
       "                                                                              \n",
       "                                                                              \n",
       "______________________________________________________________________________\n",
       "                                                                              \n",
       "                                                                              \n",
       "                                                                              \n",
       "------------------------------------------------------------------------------\n",
       "______________________________________________________________________________\n",
       "______________________________________________________________________________\n",
       "______________________________________________________________________________\n",
       " 25430265886169114764842281004884808286061940157409564552242728778507605681854\n",
       "------------------------------------------------------------------------------\n",
       "                                              93866617789493118855249977321904\n",
       "                                                                              \n",
       "                                                                              \n",
       "                                                                              \n",
       "                                                                              \n",
       "------------------------------------------------------------------------------\n",
       "                                                                              \n",
       "                                                                              \n",
       "______________________________________________________________________________\n",
       "______________________________________________________________________________\n",
       " _____________________________________________________________________________\n",
       "/ 2543026588616911476484228100488480828606194015740956455224272877850760568185\n",
       "------------------------------------------------------------------------------\n",
       "                                               9386661778949311885524997732190\n",
       "                                                                              \n",
       "                                                                              \n",
       "                                                                              \n",
       "                                                                              \n",
       "                                                                              \n",
       "                                                                              \n",
       "                                                                              \n",
       "                                                                              \n",
       "                                                                              \n",
       "------------------------------------------------------------------------------\n",
       "                                                                              \n",
       "\n",
       "______________________________________________________________________________\n",
       "                                                                              \n",
       "                                                                              \n",
       "                                                                              \n",
       "------------------------------------------------------------------------------\n",
       "______________________________________________________________________________\n",
       "                                                                              \n",
       "                                                                              \n",
       "         4284623151331874679631695697940040875448846345105039854573413        \n",
       "------------------------------------------------------------------------------\n",
       "______________________________________________________________________________\n",
       "                               _______________________________________________\n",
       "3822532761829636077524301    \\/ 2543026588616911476484228100488480828606194015\n",
       "-------------------------- + -------------------------------------------------\n",
       "43225478828393565899456512                                                   9\n",
       "------------------------------------------------------------------------------\n",
       "                                                                              \n",
       "                                                                              \n",
       "______________________________________________________________________________\n",
       "_______________________________________________________________               \n",
       "______________________________________________________________                \n",
       "9020378346326075558562277183311540195349836194153058825958690                 \n",
       "--------------------------------------------------------------  + ------------\n",
       "542093095108608                                                               \n",
       "                                                                              \n",
       "                                                                              \n",
       "                                                                              \n",
       "                                                                  456719261665\n",
       "                                                                              \n",
       "                                                                              \n",
       "                                                                              \n",
       "                                                                              \n",
       "                                                                              \n",
       "------------------------------------------------------------------------------\n",
       "                                                                              \n",
       "                                                                              \n",
       "______________________________________________________________________________\n",
       "                                                                              \n",
       "                                                                              \n",
       "                                                                              \n",
       "------------------------------------------------------------------------------\n",
       "______________________________________________________________________________\n",
       "______________________________________________________________________________\n",
       "______________________________________________________________________________\n",
       "018582349642856301168585885536351446942354465899020378346326075558562277183311\n",
       "------------------------------------------------------------------------------\n",
       "14566125166358012634242931335190624989029309455542093095108608                \n",
       "                                                                              \n",
       "                                                                              \n",
       "                                                                              \n",
       "                                                                              \n",
       "------------------------------------------------------------------------------\n",
       "                                                                              \n",
       "                                                                              \n",
       "______________________________________________________________________________\n",
       "______________________________________________________________________________\n",
       "______________________________________________________________________________\n",
       "401858234964285630116858588553635144694235446589902037834632607555856227718331\n",
       "------------------------------------------------------------------------------\n",
       "414566125166358012634242931335190624989029309455542093095108608               \n",
       "                                                                              \n",
       "                                                                              \n",
       "                                                                              \n",
       "                                                                              \n",
       "                                                                              \n",
       "                                                                              \n",
       "                                                                              \n",
       "                                                                              \n",
       "                                                                              \n",
       "------------------------------------------------------------------------------\n",
       "                                                                              \n",
       "\n",
       "______________________________________________________________________________\n",
       "                                                                              \n",
       "                                                                              \n",
       "                                         6257230268825799282906633585664646498\n",
       "------------------------------------------------------------------------------\n",
       "______________________________________________________________________________\n",
       "                                                                              \n",
       "                                                                              \n",
       "                                                                              \n",
       "------------------------------------------------------------------------------\n",
       "______________________________________________________________________________\n",
       "______________________________________________________________________________\n",
       "740956455224272877850760568185401858234964285630116858588553635144694235446589\n",
       "------------------------------------------------------------------------------\n",
       "386661778949311885524997732190414566125166358012634242931335190624989029309455\n",
       "------------------------------------------------------------------------------\n",
       "                                                                              \n",
       "                                                                              \n",
       "______________________________________________________________________________\n",
       "                                                                              \n",
       "                                                                              \n",
       "                                                                              \n",
       "------------------------------------------------------------------------------\n",
       "                                              ________________________________\n",
       "                                             /                                \n",
       "                                            /                                 \n",
       "                                           /   1960729688220358503209818597195\n",
       "90716193865151022383844364247891968*      /    -------------------------------\n",
       "                                         /     2028240960365167042394725128601\n",
       "                                        /                                     \n",
       "                                       /                                      \n",
       "                                      /                                       \n",
       "                                    \\/                                        \n",
       "------------------------------------------------------------------------------\n",
       "                                                                              \n",
       "                                                                              \n",
       "______________________________________________________________________________\n",
       "                                                                              \n",
       "                                                                              \n",
       "                                                                              \n",
       "--------------------------------- - ------------------------------------------\n",
       "_________________________________                                             \n",
       "________________________________                                              \n",
       "_______________________________                                               \n",
       "540195349836194153058825958690      154266052248863066452028360864751609842131\n",
       "-------------------------------                                               \n",
       "                                                                              \n",
       "                                                                              \n",
       "                                                                              \n",
       "                                                                              \n",
       "                                                                              \n",
       "------------------------------------------------------------------------------\n",
       "                                                                              \n",
       "                                                                              \n",
       "______________________________________________________________________________\n",
       "_________________________________                                             \n",
       "________________________________                                              \n",
       "1540195349836194153058825958690                                               \n",
       "--------------------------------  - ------------------------------------------\n",
       "                                                                              \n",
       "                                                                              \n",
       "                                                                              \n",
       "                                    154266052248863066452028360864751609842131\n",
       "                                                                              \n",
       "                                                                              \n",
       "                                                                              \n",
       "                                                                              \n",
       "                                                                              \n",
       "                                                                              \n",
       "------------------------------------------------------------------------------\n",
       "                                                                              \n",
       "\n",
       "______________________________________________________________________________\n",
       "                                                                              \n",
       "                                                                              \n",
       "2823817985                                                                    \n",
       "------------------------------------------------------------------------------\n",
       "______________________________________________________________________________\n",
       "                                                                         _____\n",
       "                                                                        /     \n",
       "                                                                       /     1\n",
       "--------------------------------------------------------------- + 2*3 /   - --\n",
       "_______________________________________________________________     \\/      10\n",
       "______________________________________________________________                \n",
       "9020378346326075558562277183311540195349836194153058825958690                 \n",
       "--------------------------------------------------------------                \n",
       "542093095108608                                                               \n",
       "------------------------------------------------------------------------------\n",
       "                                                                              \n",
       "                                                                              \n",
       "______________________________________________________________________________\n",
       "                                                                              \n",
       "                                                                              \n",
       "                                                                              \n",
       "------------------------------------------------------------------------------\n",
       "______________________________________________________________________________\n",
       "                                                                              \n",
       "                                                                              \n",
       "3                                                                             \n",
       "- + --------------------------------------------------------------------------\n",
       "6                                                                        _____\n",
       "                                                                        /     \n",
       "                                                                       /     1\n",
       "    154266052248863066452028360864751609842131487403148112188932096*3 /   - --\n",
       "                                                                    \\/      10\n",
       "------------------------------------------------------------------------------\n",
       "                                                                              \n",
       "                                                                              \n",
       "______________________________________________________________________________\n",
       "                                                                              \n",
       "                                                                              \n",
       "                                                                              \n",
       "------------------------------------------------------------------------------\n",
       "                           ___________________________________________________\n",
       "                          /                                                   \n",
       "                         /     17800761935555511480055930289159578260578152430\n",
       "487403148112188932096*3 /   - ------------------------------------------------\n",
       "                      \\/      104296241988325687616944419246560161845835181755\n",
       "                                                                              \n",
       "                                                                              \n",
       "                                                                              \n",
       "                                                                              \n",
       "                                                                              \n",
       "------------------------------------------------------------------------------\n",
       "                                                                              \n",
       "                                                                              \n",
       "______________________________________________________________________________\n",
       "                                                                              \n",
       "                                                                              \n",
       "                                                                              \n",
       "------------------------------------------------------------------------------\n",
       "                           ___________________________________________________\n",
       "                          /                                                   \n",
       "                         /     17800761935555511480055930289159578260578152430\n",
       "487403148112188932096*3 /   - ------------------------------------------------\n",
       "                      \\/      104296241988325687616944419246560161845835181755\n",
       "                                                                              \n",
       "                                                                              \n",
       "                                                                              \n",
       "                                                                              \n",
       "                                                                              \n",
       "------------------------------------------------------------------------------\n",
       "                                                                              \n",
       "\n",
       "______________________________________________________________________________\n",
       "                                                                              \n",
       "                                                                              \n",
       "                                                                              \n",
       "------------------------------------------------------------------------------\n",
       "______________________________________________________________________________\n",
       "______________________________________________________________________________\n",
       "                                                                              \n",
       "780076193555551148005593028915957826057815243089881723407950972333382253276182\n",
       "------------------------------------------------------------------------------\n",
       "429624198832568761694441924656016184583518175569593603257039100694432254788283\n",
       "                                                                              \n",
       "                                                                              \n",
       "                                                                              \n",
       "                                                                              \n",
       "------------------------------------------------------------------------------\n",
       "                                                                              \n",
       "                                                                              \n",
       "______________________________________________________________________________\n",
       "                                                                              \n",
       "                                                                              \n",
       "                                                                              \n",
       "------------------------------------------------------------------------------\n",
       "______________________________________________________________________________\n",
       "                                                                              \n",
       "                                                                              \n",
       "                                                                           428\n",
       "------------------------------------------------------------------------------\n",
       "______________________________________________________________________________\n",
       "                                                                              \n",
       "780076193555551148005593028915957826057815243089881723407950972333382253276182\n",
       "------------------------------------------------------------------------------\n",
       "429624198832568761694441924656016184583518175569593603257039100694432254788283\n",
       "------------------------------------------------------------------------------\n",
       "                                                                              \n",
       "                                                                              \n",
       "______________________________________________________________________________\n",
       "                                                                              \n",
       "                                                                              \n",
       "                             4284623151331874679631695697940040875448846345105\n",
       "------------------------------------------------------------------------------\n",
       "______________________________________________________________________________\n",
       "                                                   ___________________________\n",
       "898817234079509723333822532761829636077524301    \\/ 25430265886169114764842281\n",
       "---------------------------------------------- + -----------------------------\n",
       "6959360325703910069443225478828393565899456512                                \n",
       "                                                                              \n",
       "                                                                              \n",
       "                                                                              \n",
       "                                                                              \n",
       "                                                                              \n",
       "------------------------------------------------------------------------------\n",
       "                                                                              \n",
       "                                                                              \n",
       "______________________________________________________________________________\n",
       "                                                                              \n",
       "                                                                              \n",
       "                             4284623151331874679631695697940040875448846345105\n",
       "------------------------------------------------------------------------------\n",
       "______________________________________________________________________________\n",
       "                                                   ___________________________\n",
       "898817234079509723333822532761829636077524301    \\/ 25430265886169114764842281\n",
       "---------------------------------------------- + -----------------------------\n",
       "6959360325703910069443225478828393565899456512                                \n",
       "                                                                              \n",
       "                                                                              \n",
       "                                                                              \n",
       "                                                                              \n",
       "                                                                              \n",
       "------------------------------------------------------------------------------\n",
       "                                                                              \n",
       "\n",
       "______________________________________________________________________________\n",
       "                                                                              \n",
       "                                                                              \n",
       "                                                                              \n",
       "------------------------------------------------------------------------------\n",
       "______________________________________________________________________________\n",
       "______________________________________________________________________________\n",
       "                   ___________________________________________________________\n",
       "9636077524301    \\/ 2543026588616911476484228100488480828606194015740956455224\n",
       "-------------- + -------------------------------------------------------------\n",
       "93565899456512                                                   9386661778949\n",
       "                                                                              \n",
       "                                                                              \n",
       "                                                                              \n",
       "                                                                              \n",
       "------------------------------------------------------------------------------\n",
       "                                                                              \n",
       "                                                                              \n",
       "______________________________________________________________________________\n",
       "                                                                              \n",
       "                                                                              \n",
       "                                                                              \n",
       "------------------------------------------------------------------------------\n",
       "______________________________________________________________________________\n",
       "                                                                              \n",
       "                                                                              \n",
       "4623151331874679631695697940040875448846345105039854573413                    \n",
       "------------------------------------------------------------------------------\n",
       "______________________________________________________________________________\n",
       "                   ___________________________________________________________\n",
       "9636077524301    \\/ 2543026588616911476484228100488480828606194015740956455224\n",
       "-------------- + -------------------------------------------------------------\n",
       "93565899456512                                                   9386661778949\n",
       "------------------------------------------------------------------------------\n",
       "                                                                              \n",
       "                                                                              \n",
       "______________________________________________________________________________\n",
       "                                                                              \n",
       "                                                                              \n",
       "039854573413                                                                  \n",
       "------------------------------------------------------------------------------\n",
       "______________________________________________________________________________\n",
       "______________________________________________________________________________\n",
       "004884808286061940157409564552242728778507605681854018582349642856301168585885\n",
       "------------------------------------------------------------------------------\n",
       "                   93866617789493118855249977321904145661251663580126342429313\n",
       "                                                                              \n",
       "                                                                              \n",
       "                                                                              \n",
       "                                                                              \n",
       "                                                                              \n",
       "------------------------------------------------------------------------------\n",
       "                                                                              \n",
       "                                                                              \n",
       "______________________________________________________________________________\n",
       "                                                                              \n",
       "                                                                              \n",
       "039854573413                                                                  \n",
       "------------------------------------------------------------------------------\n",
       "______________________________________________________________________________\n",
       "______________________________________________________________________________\n",
       "004884808286061940157409564552242728778507605681854018582349642856301168585885\n",
       "------------------------------------------------------------------------------\n",
       "                   93866617789493118855249977321904145661251663580126342429313\n",
       "                                                                              \n",
       "                                                                              \n",
       "                                                                              \n",
       "                                                                              \n",
       "                                                                              \n",
       "------------------------------------------------------------------------------\n",
       "                                                                              \n",
       "\n",
       "______________________________________________________________________________\n",
       "                                                                              \n",
       "                                                                              \n",
       "                                                                              \n",
       "------------------------------------------------------------------------------\n",
       "______________________________________________________________________________\n",
       "______________________________________________________________________________\n",
       "______________________________________________________________________________\n",
       "272877850760568185401858234964285630116858588553635144694235446589902037834632\n",
       "------------------------------------------------------------------------------\n",
       "311885524997732190414566125166358012634242931335190624989029309455542093095108\n",
       "                                                                              \n",
       "                                                                              \n",
       "                                                                              \n",
       "                                                                              \n",
       "------------------------------------------------------------------------------\n",
       "                                                          2                   \n",
       "                                                                              \n",
       "______________________________________________________________________________\n",
       "                                                                              \n",
       "                                                                              \n",
       "                             62572302688257992829066335856646464982823817985  \n",
       "------------------------------------------------------------------------------\n",
       "______________________________________________________________________________\n",
       "                                                                              \n",
       "                                                                              \n",
       "                                                                              \n",
       "------------------------------------------------------------------------------\n",
       "______________________________________________________________________________\n",
       "______________________________________________________________________________\n",
       "272877850760568185401858234964285630116858588553635144694235446589902037834632\n",
       "------------------------------------------------------------------------------\n",
       "311885524997732190414566125166358012634242931335190624989029309455542093095108\n",
       "------------------------------------------------------------------------------\n",
       "                                                          2                   \n",
       "                                                                              \n",
       "______________________________________________________________________________\n",
       "                                                                              \n",
       "                                                                              \n",
       "                                                                              \n",
       "------------------------------------------------------------------------------\n",
       "______________________________________________________________________________\n",
       "______________________________________________________________________________\n",
       "536351446942354465899020378346326075558562277183311540195349836194153058825958\n",
       "------------------------------------------------------------------------------\n",
       "35190624989029309455542093095108608                                           \n",
       "                                                                              \n",
       "                                                                              \n",
       "                                                                              \n",
       "                                                                              \n",
       "                                                                              \n",
       "------------------------------------------------------------------------------\n",
       "                                                                              \n",
       "                                                                              \n",
       "______________________________________________________________________________\n",
       "                                                                              \n",
       "                                                                              \n",
       "                                                                              \n",
       "------------------------------------------------------------------------------\n",
       "______________________________________________________________________________\n",
       "______________________________________________________________________________\n",
       "536351446942354465899020378346326075558562277183311540195349836194153058825958\n",
       "------------------------------------------------------------------------------\n",
       "35190624989029309455542093095108608                                           \n",
       "                                                                              \n",
       "                                                                              \n",
       "                                                                              \n",
       "                                                                              \n",
       "                                                                              \n",
       "------------------------------------------------------------------------------\n",
       "                                                                              \n",
       "\n",
       "______________________________________________________________________________\n",
       "                                                              ________________\n",
       "                                                             /                \n",
       "                                                            /     178007619355\n",
       "---------------------------------------------------- - 2*3 /   - -------------\n",
       "____________________________________________________     \\/      1042962419883\n",
       "___________________________________________________                           \n",
       "__________________________________________________                            \n",
       "6075558562277183311540195349836194153058825958690                             \n",
       "--------------------------------------------------                            \n",
       "608                                                                           \n",
       "                                                                              \n",
       "                                                                              \n",
       "                                                                              \n",
       "                                                                              \n",
       "------------------------------------------------------------------------------\n",
       "                                                                              \n",
       "                                                                              \n",
       "______________________________________________________________________________\n",
       "                                                                              \n",
       "                                                                              \n",
       "                                                                              \n",
       "------------------------------------------------------------------------------\n",
       "______________________________________________________________________________\n",
       "                                                             _________________\n",
       "                                                            /                 \n",
       "                                                           /     1780076193555\n",
       "--------------------------------------------------- + 2*3 /   - --------------\n",
       "___________________________________________________     \\/      10429624198832\n",
       "__________________________________________________                            \n",
       "6075558562277183311540195349836194153058825958690                             \n",
       "--------------------------------------------------                            \n",
       "608                                                                           \n",
       "------------------------------------------------------------------------------\n",
       "                                                                              \n",
       "                                                                              \n",
       "______                                                                        \n",
       "                                                                              \n",
       "                                                                              \n",
       "                                                                              \n",
       "-----                                                                         \n",
       "_____              ___________________________________________________________\n",
       "____              /                                                           \n",
       "690              /                                                            \n",
       "----            /   19607296882203585032098185971953                          \n",
       "               /    -------------------------------- + -----------------------\n",
       "              /     20282409603651670423947251286016                          \n",
       "             /                                                                \n",
       "            /                                                                 \n",
       "           /                                           15426605224886306645202\n",
       "         \\/                                                                   \n",
       "------ + ---------------------------------------------------------------------\n",
       "                                                                              \n",
       "                                                                              \n",
       "______                                                                        \n",
       "                                                                              \n",
       "                                                                              \n",
       "                                                                              \n",
       "-----                                                                         \n",
       "_____              ___________________________________________________________\n",
       "____              /                                                           \n",
       "690              /                                                            \n",
       "----            /   19607296882203585032098185971953                          \n",
       "               /    -------------------------------- + -----------------------\n",
       "              /     20282409603651670423947251286016                          \n",
       "             /                                                                \n",
       "            /                                                                 \n",
       "           /                                           15426605224886306645202\n",
       "         \\/                                                                   \n",
       "------ - ---------------------------------------------------------------------\n",
       "                                                                              \n",
       "\n",
       "______________________________________________________________________________\n",
       "______________________________________________________________________________\n",
       "                                                                              \n",
       "555114800559302891595782605781524308988172340795097233338225327618296360775243\n",
       "------------------------------------------------------------------------------\n",
       "256876169444192465601618458351817556959360325703910069443225478828393565899456\n",
       "                                                                              \n",
       "                                                                              \n",
       "                                                                              \n",
       "                                                                              \n",
       "                                                                              \n",
       "                                                                              \n",
       "                                                                              \n",
       "                                                                              \n",
       "                                                                              \n",
       "------------------------------------------------------------------------------\n",
       "                                                                              \n",
       "                                                                              \n",
       "______________________________________________________________________________\n",
       "                                                                              \n",
       "                                                                              \n",
       "                                                                              \n",
       "------------------------------------------------------------------------------\n",
       "______________________________________________________________________________\n",
       "______________________________________________________________________________\n",
       "                                                                              \n",
       "551148005593028915957826057815243089881723407950972333382253276182963607752430\n",
       "------------------------------------------------------------------------------\n",
       "568761694441924656016184583518175569593603257039100694432254788283935658994565\n",
       "                                                                              \n",
       "                                                                              \n",
       "                                                                              \n",
       "                                                                              \n",
       "------------------------------------------------------------------------------\n",
       "                                                                              \n",
       "                                                                              \n",
       "                                                                              \n",
       "                                                                              \n",
       "                                                                              \n",
       "                                                                              \n",
       "                                                                              \n",
       "______________________________________________________________________________\n",
       "                                                                              \n",
       "                                                                              \n",
       "                                                                              \n",
       "------------------------------------------------------------------------------\n",
       "                                              ________________________________\n",
       "                                             /                                \n",
       "                                            /     1780076193555551148005593028\n",
       "8360864751609842131487403148112188932096*3 /   - -----------------------------\n",
       "                                         \\/      10429624198832568761694441924\n",
       "------------------------------------------------------------------------------\n",
       "                                                                              \n",
       "                                                                              \n",
       "                                                                              \n",
       "                                                                              \n",
       "                                                                              \n",
       "                                                                              \n",
       "                                                                              \n",
       "______________________________________________________________________________\n",
       "                                                                              \n",
       "                                                                              \n",
       "                                                                              \n",
       "------------------------------------------------------------------------------\n",
       "                                              ________________________________\n",
       "                                             /                                \n",
       "                                            /     1780076193555551148005593028\n",
       "8360864751609842131487403148112188932096*3 /   - -----------------------------\n",
       "                                         \\/      10429624198832568761694441924\n",
       "------------------------------------------------------------------------------\n",
       "                                                                              \n",
       "\n",
       "______________________________________________________________________________\n",
       "______________________________________________________________________________\n",
       "        ______________________________________________________________________\n",
       "01    \\/ 254302658861691147648422810048848082860619401574095645522427287785076\n",
       "--- + ------------------------------------------------------------------------\n",
       "512                                                   938666177894931188552499\n",
       "                                                                              \n",
       "                                                                              \n",
       "                                                                              \n",
       "                                                                              \n",
       "                                                                              \n",
       "                                                                              \n",
       "                                                                              \n",
       "                                                                              \n",
       "                                                                              \n",
       "------------------------------------------------------------------------------\n",
       "                                                                              \n",
       "                                                                              \n",
       "______________________________________________________________________________\n",
       "                                                                              \n",
       "                                                                              \n",
       "                                                                              \n",
       "------------------------------------------------------------------------------\n",
       "______________________________________________________________________________\n",
       "______________________________________________________________________________\n",
       "       _______________________________________________________________________\n",
       "1    \\/ 2543026588616911476484228100488480828606194015740956455224272877850760\n",
       "-- + -------------------------------------------------------------------------\n",
       "12                                                   9386661778949311885524997\n",
       "                                                                              \n",
       "                                                                              \n",
       "                                                                              \n",
       "                                                                              \n",
       "------------------------------------------------------------------------------\n",
       "                                                                              \n",
       "                                                                              \n",
       "                                                                              \n",
       "                                                                              \n",
       "                                                                              \n",
       "                                                                              \n",
       "                                                                              \n",
       "______________________________________________________________________________\n",
       "                                                                              \n",
       "                                                                              \n",
       "                                                428462315133187467963169569794\n",
       "------------------------------------------------------------------------------\n",
       "______________________________________________________________________________\n",
       "                                                                      ________\n",
       "9159578260578152430898817234079509723333822532761829636077524301    \\/ 2543026\n",
       "----------------------------------------------------------------- + ----------\n",
       "65601618458351817556959360325703910069443225478828393565899456512             \n",
       "------------------------------------------------------------------------------\n",
       "                                                                              \n",
       "                                                                              \n",
       "                                                                              \n",
       "                                                                              \n",
       "                                                                              \n",
       "                                                                              \n",
       "                                                                              \n",
       "______________________________________________________________________________\n",
       "                                                                              \n",
       "                                                                              \n",
       "                                                428462315133187467963169569794\n",
       "------------------------------------------------------------------------------\n",
       "______________________________________________________________________________\n",
       "                                                                      ________\n",
       "9159578260578152430898817234079509723333822532761829636077524301    \\/ 2543026\n",
       "----------------------------------------------------------------- + ----------\n",
       "65601618458351817556959360325703910069443225478828393565899456512             \n",
       "------------------------------------------------------------------------------\n",
       "                                                                              \n",
       "\n",
       "______________________________________________________________________________\n",
       "______________________________________________________________________________\n",
       "______________________________________________________________________________\n",
       "056818540185823496428563011685858855363514469423544658990203783463260755585622\n",
       "------------------------------------------------------------------------------\n",
       "7732190414566125166358012634242931335190624989029309455542093095108608        \n",
       "                                                                              \n",
       "                                                                              \n",
       "                                                                              \n",
       "                                                                              \n",
       "                                                                              \n",
       "                                                                              \n",
       "                                                                              \n",
       "                                                                              \n",
       "                                                                              \n",
       "------------------------------------------------------------------------------\n",
       "                                                                              \n",
       "                                                                              \n",
       "______________________________________________________________________________\n",
       "                                                                              \n",
       "                                                                              \n",
       "                                                                              \n",
       "------------------------------------------------------------------------------\n",
       "______________________________________________________________________________\n",
       "______________________________________________________________________________\n",
       "______________________________________________________________________________\n",
       "568185401858234964285630116858588553635144694235446589902037834632607555856227\n",
       "------------------------------------------------------------------------------\n",
       "732190414566125166358012634242931335190624989029309455542093095108608         \n",
       "                                                                              \n",
       "                                                                              \n",
       "                                                                              \n",
       "                                                                              \n",
       "------------------------------------------------------------------------------\n",
       "                                                                              \n",
       "                                                                              \n",
       "                                                                              \n",
       "                                                                              \n",
       "                                                                              \n",
       "                                                                              \n",
       "                                                                              \n",
       "______________________________________________________________________________\n",
       "                                                                              \n",
       "                                                                              \n",
       "0040875448846345105039854573413                                               \n",
       "------------------------------------------------------------------------------\n",
       "______________________________________________________________________________\n",
       "______________________________________________________________________________\n",
       "588616911476484228100488480828606194015740956455224272877850760568185401858234\n",
       "------------------------------------------------------------------------------\n",
       "                                      9386661778949311885524997732190414566125\n",
       "------------------------------------------------------------------------------\n",
       "                                                                              \n",
       "                                                                              \n",
       "                                                                              \n",
       "                                                                              \n",
       "                                                                              \n",
       "                                                                              \n",
       "                                                                              \n",
       "______________________________________________________________________________\n",
       "                                                                              \n",
       "                                                                              \n",
       "0040875448846345105039854573413                                               \n",
       "------------------------------------------------------------------------------\n",
       "______________________________________________________________________________\n",
       "______________________________________________________________________________\n",
       "588616911476484228100488480828606194015740956455224272877850760568185401858234\n",
       "------------------------------------------------------------------------------\n",
       "                                      9386661778949311885524997732190414566125\n",
       "------------------------------------------------------------------------------\n",
       "                                                                              \n",
       "\n",
       "______________________________________________________________________________\n",
       "________________________________________                                      \n",
       "_______________________________________                                       \n",
       "77183311540195349836194153058825958690                                        \n",
       "---------------------------------------  - -----------------------------------\n",
       "                                                                              \n",
       "                                                                              \n",
       "                                                                              \n",
       "                                           15426605224886306645202836086475160\n",
       "                                                                              \n",
       "                                                                              \n",
       "                                                                              \n",
       "                                                                              \n",
       "                                                                              \n",
       "                                                                              \n",
       "------------------------------------------------------------------------------\n",
       "                                                                              \n",
       "                                                                              \n",
       "______________________________________________________________________________\n",
       "                                                                              \n",
       "                                                                              \n",
       "                                                                              \n",
       "---------------------------------------- - -----------------------------------\n",
       "________________________________________                                      \n",
       "_______________________________________                                       \n",
       "______________________________________                                        \n",
       "7183311540195349836194153058825958690      15426605224886306645202836086475160\n",
       "--------------------------------------                                        \n",
       "                                                                              \n",
       "                                                                              \n",
       "                                                                              \n",
       "                                                                              \n",
       "                                                                              \n",
       "------------------------------------------------------------------------------\n",
       "                                                                              \n",
       "                                                                              \n",
       "                                                                              \n",
       "                                                                              \n",
       "                                                                              \n",
       "                                                                              \n",
       "                                                                              \n",
       "______________________________________________________________________________\n",
       "                                                                              \n",
       "                                                                              \n",
       "                                                                              \n",
       "------------------------------------------------------------------------------\n",
       "______________________________________________________________________________\n",
       "______________________________________________________________________________\n",
       "964285630116858588553635144694235446589902037834632607555856227718331154019534\n",
       "------------------------------------------------------------------------------\n",
       "166358012634242931335190624989029309455542093095108608                        \n",
       "------------------------------------------------------------------------------\n",
       "                                                 2                            \n",
       "                                                                              \n",
       "                                                                              \n",
       "                                                                              \n",
       "                                                                              \n",
       "                                                                              \n",
       "                                                                              \n",
       "______________________________________________________________________________\n",
       "                                                                              \n",
       "                                                                              \n",
       "                                                                              \n",
       "------------------------------------------------------------------------------\n",
       "______________________________________________________________________________\n",
       "______________________________________________________________________________\n",
       "964285630116858588553635144694235446589902037834632607555856227718331154019534\n",
       "------------------------------------------------------------------------------\n",
       "166358012634242931335190624989029309455542093095108608                        \n",
       "------------------------------------------------------------------------------\n",
       "                                                 2                            \n",
       "\n",
       "______________________________________________________________________________\n",
       "                                                                              \n",
       "                                                                              \n",
       "                                                                              \n",
       "------------------------------------------------------------------------------\n",
       "                                  ____________________________________________\n",
       "                                 /                                            \n",
       "                                /     1780076193555551148005593028915957826057\n",
       "9842131487403148112188932096*3 /   - -----------------------------------------\n",
       "                             \\/      10429624198832568761694441924656016184583\n",
       "                                                                              \n",
       "                                                                              \n",
       "                                                                              \n",
       "                                                                              \n",
       "                                                                              \n",
       "------------------------------------------------------------------------------\n",
       "                                                                              \n",
       "                                                                              \n",
       "______________________________________________________________________________\n",
       "                                                                              \n",
       "                                                                              \n",
       "                                                                              \n",
       "------------------------------------------------------------------------------\n",
       "                                  ____________________________________________\n",
       "                                 /                                            \n",
       "                                /     1780076193555551148005593028915957826057\n",
       "9842131487403148112188932096*3 /   - -----------------------------------------\n",
       "                             \\/      10429624198832568761694441924656016184583\n",
       "                                                                              \n",
       "                                                                              \n",
       "                                                                              \n",
       "                                                                              \n",
       "                                                                              \n",
       "------------------------------------------------------------------------------\n",
       "                                                                              \n",
       "                                                                              \n",
       "                                                                              \n",
       "                                                                              \n",
       "                                                                              \n",
       "                                                                              \n",
       "                                                                              \n",
       "______________________________________________________________________________\n",
       "                                  ____________________________________________\n",
       "                                 /                                            \n",
       "                                /     1780076193555551148005593028915957826057\n",
       "------------------------ + 2*3 /   - -----------------------------------------\n",
       "________________________     \\/      10429624198832568761694441924656016184583\n",
       "_______________________                                                       \n",
       "9836194153058825958690                                                        \n",
       "-----------------------                                                       \n",
       "                                                                              \n",
       "------------------------------------------------------------------------------\n",
       "                                                                              \n",
       "                                                                              \n",
       "                                                                              \n",
       "                                                                              \n",
       "                                                                              \n",
       "                                                                              \n",
       "                                                                              \n",
       "______________________________________________________________________________\n",
       "                                  ____________________________________________\n",
       "                                 /                                            \n",
       "                                /     1780076193555551148005593028915957826057\n",
       "------------------------ + 2*3 /   - -----------------------------------------\n",
       "________________________     \\/      10429624198832568761694441924656016184583\n",
       "_______________________                                                       \n",
       "9836194153058825958690                                                        \n",
       "-----------------------                                                       \n",
       "                                                                              \n",
       "------------------------------------------------------------------------------\n",
       "                                                                              \n",
       "\n",
       "______________________________________________________________________________\n",
       "                                                                              \n",
       "                                                                              \n",
       "                                    428462315133187467963169569794004087544884\n",
       "------------------------------------------------------------------------------\n",
       "______________________________________________________________________________\n",
       "                                                          ____________________\n",
       "8152430898817234079509723333822532761829636077524301    \\/ 2543026588616911476\n",
       "----------------------------------------------------- + ----------------------\n",
       "51817556959360325703910069443225478828393565899456512                         \n",
       "                                                                              \n",
       "                                                                              \n",
       "                                                                              \n",
       "                                                                              \n",
       "                                                                              \n",
       "------------------------------------------------------------------------------\n",
       "                                                                              \n",
       "                                                                              \n",
       "______________________________________________________________________________\n",
       "                                                                              \n",
       "                                                                              \n",
       "                                    428462315133187467963169569794004087544884\n",
       "------------------------------------------------------------------------------\n",
       "______________________________________________________________________________\n",
       "                                                          ____________________\n",
       "8152430898817234079509723333822532761829636077524301    \\/ 2543026588616911476\n",
       "----------------------------------------------------- + ----------------------\n",
       "51817556959360325703910069443225478828393565899456512                         \n",
       "                                                                              \n",
       "                                                                              \n",
       "                                                                              \n",
       "                                                                              \n",
       "                                                                              \n",
       "------------------------------------------------------------------------------\n",
       "                                                                              \n",
       "                                                                              \n",
       "                                                                              \n",
       "                                                                              \n",
       "                                                                              \n",
       "                                                                              \n",
       "                                                                              \n",
       "______________________________________________________________________________\n",
       "______________________________________________________________________________\n",
       "                                                          ____________________\n",
       "8152430898817234079509723333822532761829636077524301    \\/ 2543026588616911476\n",
       "----------------------------------------------------- + ----------------------\n",
       "51817556959360325703910069443225478828393565899456512                         \n",
       "                                                                              \n",
       "                                                                              \n",
       "                                                                              \n",
       "                                                                              \n",
       "------------------------------------------------------------------------------\n",
       "                                                                              \n",
       "                                                                              \n",
       "                                                                              \n",
       "                                                                              \n",
       "                                                                              \n",
       "                                                                              \n",
       "                                                                              \n",
       "______________________________________________________________________________\n",
       "______________________________________________________________________________\n",
       "                                                          ____________________\n",
       "8152430898817234079509723333822532761829636077524301    \\/ 2543026588616911476\n",
       "----------------------------------------------------- + ----------------------\n",
       "51817556959360325703910069443225478828393565899456512                         \n",
       "                                                                              \n",
       "                                                                              \n",
       "                                                                              \n",
       "                                                                              \n",
       "------------------------------------------------------------------------------\n",
       "                                                                              \n",
       "\n",
       "______________________________________________________________________________\n",
       "                                                                              \n",
       "                                                                              \n",
       "6345105039854573413                                                           \n",
       "------------------------------------------------------------------------------\n",
       "______________________________________________________________________________\n",
       "______________________________________________________________________________\n",
       "484228100488480828606194015740956455224272877850760568185401858234964285630116\n",
       "------------------------------------------------------------------------------\n",
       "                          9386661778949311885524997732190414566125166358012634\n",
       "                                                                              \n",
       "                                                                              \n",
       "                                                                              \n",
       "                                                                              \n",
       "                                                                              \n",
       "------------------------------------------------------------------------------\n",
       "                                                                              \n",
       "                                                                              \n",
       "______________________________________________________________________________\n",
       "                                                                              \n",
       "                                                                              \n",
       "6345105039854573413                                                           \n",
       "------------------------------------------------------------------------------\n",
       "______________________________________________________________________________\n",
       "______________________________________________________________________________\n",
       "484228100488480828606194015740956455224272877850760568185401858234964285630116\n",
       "------------------------------------------------------------------------------\n",
       "                          9386661778949311885524997732190414566125166358012634\n",
       "                                                                              \n",
       "                                                                              \n",
       "                                                                              \n",
       "                                                                              \n",
       "                                                                              \n",
       "------------------------------------------------------------------------------\n",
       "                                                                              \n",
       "                                                                              \n",
       "                                                                              \n",
       "                                                                              \n",
       "                                                                              \n",
       "                                                                              \n",
       "                                                                              \n",
       "______________________________________________________________________________\n",
       "______________________________________________________________________________\n",
       "______________________________________________________________________________\n",
       "484228100488480828606194015740956455224272877850760568185401858234964285630116\n",
       "------------------------------------------------------------------------------\n",
       "                          9386661778949311885524997732190414566125166358012634\n",
       "                                                                              \n",
       "                                                                              \n",
       "                                                                              \n",
       "                                                                              \n",
       "------------------------------------------------------------------------------\n",
       "                                                                              \n",
       "                                                                              \n",
       "                                                                              \n",
       "                                                                              \n",
       "                                                                              \n",
       "                                                                              \n",
       "                                                                              \n",
       "______________________________________________________________________________\n",
       "______________________________________________________________________________\n",
       "______________________________________________________________________________\n",
       "484228100488480828606194015740956455224272877850760568185401858234964285630116\n",
       "------------------------------------------------------------------------------\n",
       "                          9386661778949311885524997732190414566125166358012634\n",
       "                                                                              \n",
       "                                                                              \n",
       "                                                                              \n",
       "                                                                              \n",
       "------------------------------------------------------------------------------\n",
       "                                                                              \n",
       "\n",
       "______________________________________________________________________________\n",
       "                                                                              \n",
       "                                                                              \n",
       "                                                                              \n",
       "------------------------------------------------------------------------------\n",
       "______________________________________________________________________________\n",
       "______________________________________________________________________________\n",
       "858588553635144694235446589902037834632607555856227718331154019534983619415305\n",
       "------------------------------------------------------------------------------\n",
       "242931335190624989029309455542093095108608                                    \n",
       "                                                                              \n",
       "                                                                              \n",
       "                                                                              \n",
       "                                                                              \n",
       "                                                                              \n",
       "------------------------------------------------------------------------------\n",
       "                                                                              \n",
       "                                                                              \n",
       "______________________________________________________________________________\n",
       "                                                                              \n",
       "                                                                              \n",
       "                                                                              \n",
       "------------------------------------------------------------------------------\n",
       "______________________________________________________________________________\n",
       "______________________________________________________________________________\n",
       "858588553635144694235446589902037834632607555856227718331154019534983619415305\n",
       "------------------------------------------------------------------------------\n",
       "242931335190624989029309455542093095108608                                    \n",
       "                                                                              \n",
       "                                                                              \n",
       "                                                                              \n",
       "                                                                              \n",
       "                                                                              \n",
       "------------------------------------------------------------------------------\n",
       "                                                                              \n",
       "                                                                              \n",
       "                                                                              \n",
       "                                                                              \n",
       "                                                                              \n",
       "                                                                              \n",
       "                                                                              \n",
       "______________________________________________________________________________\n",
       "______________________________________________________________________________\n",
       "______________________________________________________________________________\n",
       "858588553635144694235446589902037834632607555856227718331154019534983619415305\n",
       "------------------------------------------------------------------------------\n",
       "242931335190624989029309455542093095108608                                    \n",
       "                                                                              \n",
       "                                                                              \n",
       "                                                                              \n",
       "                                                                              \n",
       "------------------------------------------------------------------------------\n",
       "                                                                              \n",
       "                                                                              \n",
       "                                                                              \n",
       "                                                                              \n",
       "                                                                              \n",
       "                                                                              \n",
       "                                                                              \n",
       "______________________________________________________________________________\n",
       "______________________________________________________________________________\n",
       "______________________________________________________________________________\n",
       "858588553635144694235446589902037834632607555856227718331154019534983619415305\n",
       "------------------------------------------------------------------------------\n",
       "242931335190624989029309455542093095108608                                    \n",
       "                                                                              \n",
       "                                                                              \n",
       "                                                                              \n",
       "                                                                              \n",
       "------------------------------------------------------------------------------\n",
       "                                                                              \n",
       "\n",
       "_____________]\n",
       "             ]\n",
       "             ]\n",
       "             ]\n",
       "------------ ]\n",
       "____________ ]\n",
       "___________  ]\n",
       "8825958690   ]\n",
       "-----------  ]\n",
       "             ]\n",
       "             ]\n",
       "             ]\n",
       "             ]\n",
       "             ]\n",
       "             ]\n",
       "-------------]\n",
       "             ]\n",
       "             ]\n",
       "_____________]\n",
       "             ]\n",
       "             ]\n",
       "             ]\n",
       "------------ ]\n",
       "____________ ]\n",
       "___________  ]\n",
       "8825958690   ]\n",
       "-----------  ]\n",
       "             ]\n",
       "             ]\n",
       "             ]\n",
       "             ]\n",
       "             ]\n",
       "             ]\n",
       "-------------]\n",
       "             ]\n",
       "             ]\n",
       "             ]\n",
       "             ]\n",
       "             ]\n",
       "             ]\n",
       "             ]\n",
       "_____________]\n",
       "____________ ]\n",
       "___________  ]\n",
       "8825958690   ]\n",
       "-----------  ]\n",
       "             ]\n",
       "             ]\n",
       "             ]\n",
       "             ]\n",
       "             ]\n",
       "-------------]\n",
       "             ]\n",
       "             ]\n",
       "             ]\n",
       "             ]\n",
       "             ]\n",
       "             ]\n",
       "             ]\n",
       "_____________]\n",
       "____________ ]\n",
       "___________  ]\n",
       "8825958690   ]\n",
       "-----------  ]\n",
       "             ]\n",
       "             ]\n",
       "             ]\n",
       "             ]\n",
       "             ]\n",
       "-------------]\n",
       "             ]"
      ]
     },
     "execution_count": 30,
     "metadata": {},
     "output_type": "execute_result"
    }
   ],
   "source": [
    "λ=solve(p(x),x)"
   ]
  },
  {
   "cell_type": "code",
   "execution_count": 31,
   "metadata": {
    "collapsed": false
   },
   "outputs": [
    {
     "data": {
      "text/plain": [
       "4"
      ]
     },
     "execution_count": 31,
     "metadata": {},
     "output_type": "execute_result"
    }
   ],
   "source": [
    "length(λ)"
   ]
  },
  {
   "cell_type": "markdown",
   "metadata": {},
   "source": [
    "### Example - Circulant matrix\n",
    "\n",
    "For more details, see \n",
    "[A. B&ouml;ttcher and I. Spitkovsky, Special Types of Matrices][BoSp14] and the references therein.\n",
    "\n",
    "[BoSp14]: #1 \"L. Hogben, ed., 'Handbook of Linear Algebra', pp. 22.1-22.20, CRC Press, Boca Raton, 2014.\"\n",
    "\n",
    "Given $a_0,a_1,\\ldots,a_{n-1}\\in \\mathbb{C}$, the __circulant matrix__ is\n",
    "\n",
    "$$\n",
    "C(a_0,a_1,\\ldots,a_{n-1})=\\begin{bmatrix}\n",
    "a_0 & a_{n-1} & a_{n-2} & \\cdots & a_{1} \\\\\n",
    "a_1 & a_0 & a_{n-1} & \\cdots & a_{2} \\\\\n",
    "a_2 & a_1 & a_{0} & \\cdots & a_{3} \\\\\n",
    "\\vdots & \\vdots & \\vdots & \\ddots & \\vdots \\\\\n",
    "a_{n-1} & a_{n-2} & a_{n-3} & \\cdots & a_{0}\n",
    "\\end{bmatrix}.\n",
    "$$\n",
    "\n",
    "Let $a(z)=a_0+a_1z+a_2z^2+\\cdots +a_{n-1}z^{n-1}$ be the associated complex polynomial.\n",
    "\n",
    "Let $\\omega_n=\\exp(2\\pi i/n)$. The __Fourier matrix__ of order $n$ is\n",
    "\n",
    "$$\n",
    "F_n=\\frac{1}{\\sqrt{n}} \\bigg[ \\omega_n^{(j-1)(k-1)}\\bigg]_{j,k=1}^n=\n",
    "\\frac{1}{\\sqrt{n}} \\begin{bmatrix} \n",
    "1 & & 1 & \\cdots & 1 \\\\\n",
    "1& \\omega_n & \\omega_n^2 & \\cdots \\omega_n^{n-1} \\\\\n",
    "1& \\omega_n^2 & \\omega_n^4 & \\cdots \\omega_n^{2(n-1)} \\\\\n",
    "\\vdots & \\vdots & \\vdots & \\ddots & \\vdots \\\\\n",
    "1& \\omega_n^{n-1} & \\omega_n^{2(n-1)} & \\cdots \\omega_n^{(n-1)(n-1)}\n",
    "\\end{bmatrix}.\n",
    "$$\n",
    "\n",
    "Fourier matrix is unitary. \n",
    "Fourier matrix is Vandermonde matrix, $F_n=\\displaystyle\\frac{1}{\\sqrt{n}} V(1,\\omega_n,\\omega_n^2,\\ldots, \\omega_n^{n-1})$.\n",
    "\n",
    "Circulant matrix is normal and, thus, unitarily diagonalizable, with the eigenvalue decomposition\n",
    "\n",
    "$$\n",
    "C(a_0,a_1,\\ldots,a_{n-1})=F_n^*\\mathop{\\mathrm{diag}}[(a(1),a(\\omega_n),a(\\omega_n^2),\\ldots, \n",
    "a(\\omega_n^{n-1})]F_n.\n",
    "$$\n",
    "\n",
    "We shall use the package [SpecialMatrices.jl](https://github.com/jiahao/SpecialMatrices.jl)."
   ]
  },
  {
   "cell_type": "code",
   "execution_count": 32,
   "metadata": {
    "collapsed": true
   },
   "outputs": [],
   "source": [
    "using SpecialMatrices\n",
    "using Polynomials"
   ]
  },
  {
   "cell_type": "code",
   "execution_count": 33,
   "metadata": {
    "collapsed": false
   },
   "outputs": [
    {
     "name": "stdout",
     "output_type": "stream",
     "text": [
      "                        Cauchy    180 bytes  DataType\n",
      "                     Circulant    168 bytes  DataType\n",
      "                     Companion    168 bytes  DataType\n",
      "                     Frobenius    180 bytes  DataType\n",
      "                        Hankel    168 bytes  DataType\n",
      "                       Hilbert    180 bytes  DataType\n",
      "                         Kahan    244 bytes  DataType\n",
      "                       Riemann    168 bytes  DataType\n",
      "               SpecialMatrices   3466 bytes  Module\n",
      "                        Strang    168 bytes  DataType\n",
      "                      Toeplitz    168 bytes  DataType\n",
      "                   Vandermonde    168 bytes  DataType\n"
     ]
    }
   ],
   "source": [
    "whos(SpecialMatrices)"
   ]
  },
  {
   "cell_type": "code",
   "execution_count": 34,
   "metadata": {
    "collapsed": false
   },
   "outputs": [
    {
     "data": {
      "text/plain": [
       "6-element Array{Int64,1}:\n",
       " -4\n",
       "  0\n",
       " -7\n",
       "  1\n",
       "  0\n",
       " -1"
      ]
     },
     "execution_count": 34,
     "metadata": {},
     "output_type": "execute_result"
    }
   ],
   "source": [
    "n=6\n",
    "a=rand(-9:9,n)"
   ]
  },
  {
   "cell_type": "code",
   "execution_count": 35,
   "metadata": {
    "collapsed": false
   },
   "outputs": [
    {
     "data": {
      "text/plain": [
       "6x6 SpecialMatrices.Circulant{Int64}:\n",
       " -4  -1   0   1  -7   0\n",
       "  0  -4  -1   0   1  -7\n",
       " -7   0  -4  -1   0   1\n",
       "  1  -7   0  -4  -1   0\n",
       "  0   1  -7   0  -4  -1\n",
       " -1   0   1  -7   0  -4"
      ]
     },
     "execution_count": 35,
     "metadata": {},
     "output_type": "execute_result"
    }
   ],
   "source": [
    "C=Circulant(a)"
   ]
  },
  {
   "cell_type": "code",
   "execution_count": 36,
   "metadata": {
    "collapsed": false
   },
   "outputs": [
    {
     "data": {
      "text/plain": [
       "6x6 Array{Int64,2}:\n",
       " 0  0  0  0  0  0\n",
       " 0  0  0  0  0  0\n",
       " 0  0  0  0  0  0\n",
       " 0  0  0  0  0  0\n",
       " 0  0  0  0  0  0\n",
       " 0  0  0  0  0  0"
      ]
     },
     "execution_count": 36,
     "metadata": {},
     "output_type": "execute_result"
    }
   ],
   "source": [
    "# Check for normality\n",
    "full(C)*full(C)'-full(C)'*full(C)"
   ]
  },
  {
   "cell_type": "code",
   "execution_count": 37,
   "metadata": {
    "collapsed": false
   },
   "outputs": [
    {
     "data": {
      "text/plain": [
       "Poly(-4 - 7x^2 + x^3 - x^5)"
      ]
     },
     "execution_count": 37,
     "metadata": {},
     "output_type": "execute_result"
    }
   ],
   "source": [
    "p1=Polynomials.Poly(a)"
   ]
  },
  {
   "cell_type": "code",
   "execution_count": 38,
   "metadata": {
    "collapsed": false
   },
   "outputs": [
    {
     "data": {
      "text/plain": [
       "0.5000000000000001 + 0.8660254037844386im"
      ]
     },
     "execution_count": 38,
     "metadata": {},
     "output_type": "execute_result"
    }
   ],
   "source": [
    "ω=exp(2*π*im/n)"
   ]
  },
  {
   "cell_type": "code",
   "execution_count": 39,
   "metadata": {
    "collapsed": false
   },
   "outputs": [
    {
     "data": {
      "text/plain": [
       "6x6 SpecialMatrices.Vandermonde{Complex{Float64}}:\n",
       " 1.0+0.0im            1.0+0.0im       …            1.0+0.0im     \n",
       " 1.0+0.0im            0.5+0.866025im               0.5-0.866025im\n",
       " 1.0+0.0im           -0.5+0.866025im              -0.5-0.866025im\n",
       " 1.0+0.0im  -1.0+3.88578e-16im           -1.0+1.94289e-15im      \n",
       " 1.0+0.0im           -0.5-0.866025im              -0.5+0.866025im\n",
       " 1.0+0.0im            0.5-0.866025im  …            0.5+0.866025im"
      ]
     },
     "execution_count": 39,
     "metadata": {},
     "output_type": "execute_result"
    }
   ],
   "source": [
    "v=map(Complex,[ω^k for k=0:n-1])\n",
    "F=Vandermonde(v)"
   ]
  },
  {
   "cell_type": "code",
   "execution_count": 41,
   "metadata": {
    "collapsed": false
   },
   "outputs": [
    {
     "data": {
      "text/plain": [
       "6x6 Array{Complex{Float64},2}:\n",
       "                 -11.0+0.0im  …  -6.74218e-15+5.76585e-15im     \n",
       "    1.75367e-15-6.341e-18im      -2.88658e-15-4.44089e-16im     \n",
       "  1.55457e-15-1.80189e-15im        1.6478e-15-1.35331e-15im     \n",
       "  2.29437e-17-2.13718e-15im       1.84455e-15+3.75432e-15im     \n",
       " -9.46983e-16-3.68399e-15im      -5.56871e-15+5.63114e-15im     \n",
       " -6.47618e-15-5.66169e-15im   …                   -2.0+5.19615im"
      ]
     },
     "execution_count": 41,
     "metadata": {},
     "output_type": "execute_result"
    }
   ],
   "source": [
    "Fn=full(F)/sqrt(n)\n",
    "Λ=Fn*full(C)*Fn'"
   ]
  },
  {
   "cell_type": "code",
   "execution_count": 43,
   "metadata": {
    "collapsed": false
   },
   "outputs": [
    {
     "data": {
      "text/plain": [
       "6x3 Array{Complex{Float64},2}:\n",
       " -11.0+0.0im               -11.0+0.0im      -11.0+0.0im    \n",
       "  -2.0-5.19615im            -2.0-5.19615im    1.0+6.9282im \n",
       "   1.0+6.9282im              1.0+6.9282im     1.0-6.9282im \n",
       " -11.0+0.0im      -11.0+4.66294e-15im        -2.0+5.19615im\n",
       "   1.0-6.9282im              1.0-6.9282im    -2.0-5.19615im\n",
       "  -2.0+5.19615im            -2.0+5.19615im  -11.0+0.0im    "
      ]
     },
     "execution_count": 43,
     "metadata": {},
     "output_type": "execute_result"
    }
   ],
   "source": [
    "[diag(Λ) p1(v) eigvals(full(C))]"
   ]
  },
  {
   "cell_type": "markdown",
   "metadata": {},
   "source": [
    "\n",
    "## Hermitian and real symmetric matrices\n",
    "\n",
    "For more details and the proofs of the Facts below, see \n",
    "[W. Barrett, Hermitian and Positive Definite Matrices][Bar14] and the references therein.\n",
    "\n",
    "[Bar14]: #1 \"L. Hogben, ed., 'Handbook of Linear Algebra', pp. 9.1-9.13, CRC Press, Boca Raton, 2014.\"\n",
    "\n",
    "### Definitions\n",
    "\n",
    "Matrix $A\\in \\mathbb{C}^{n\\times n}$ is __Hermitian__ or __self-adjoint__ if $A^*=A$, \n",
    "or element-wise, $\\bar a_{ij}=a_{ji}$. We say $A\\in\\mathcal{H}_n$.\n",
    "\n",
    "Matrix $A\\in \\mathbb{R}^{n\\times n}$ is __symmetric__ if $A^T=A$, or element-wise, $a_{ij}=a_{ji}$.\n",
    "We say $A\\in\\mathcal{S}_n$.\n",
    "\n",
    "__Rayleigh qoutient__ of $A\\in\\mathcal{H}_n$ and nonzero vector $x\\in\\mathbb{C}^n$ is\n",
    "\n",
    "$$\n",
    "R_A(x)=\\frac{x^*Ax}{x^*x}.\n",
    "$$\n",
    "\n",
    "Matrices $A,B \\in\\mathcal{H}_n$ are __congruent__ if there exists nonsingular matrix $C$ such that \n",
    "$B=C^*AC$.\n",
    "\n",
    "__Inertia__ of $A\\in\\mathcal{H}_n$ is the ordered triple \n",
    "$$\\mathop{\\mathrm{in}}(A)=(\\pi(A),\\nu(A),\\zeta(A)),$$\n",
    "\n",
    "where $\\pi(A)$ is the number of positive eigenvalues of $A$,  $\\nu(A)$ is the number of negative eigenvalues of $A$,\n",
    "and $\\zeta(A)$ is the number of zero eigenvalues of $A$.\n",
    "\n",
    "__Gram matrix__ of a set of vectors $x_1,x_2,\\ldots,x_k\\in\\mathbb{C}^{n}$ is the matrix $G$ with entries $G_{ij}=x_i^*x_j$. "
   ]
  },
  {
   "cell_type": "markdown",
   "metadata": {},
   "source": [
    "### Facts\n",
    "\n",
    "Assume $A$ is Hermitian and $x\\in\\mathbb{C}^n$ is nonzero. Then\n",
    "\n",
    "1. Real symmetric matrix is Hermitian, and real Hermitian matrix is symmetric.\n",
    "2. Hermitian and real symmetric matrices are normal.\n",
    "2. $A+A^*$, $A^*A$, and $AA^*$ are Hermitian.\n",
    "3. If $A$ is nonsingular, $A^{-1}$ is Hermitian.\n",
    "4. Main diagonal entries of $A$ are real.\n",
    "5. Matrix $T$ from the Schur decomposition of $A$ is Hermitian. Consequently:\n",
    "    * $T$ is diagonal and real, and has eigenvalues of $A$ on diagonal,\n",
    "    * matrix $Q$ of the Schur decomposition is the unitary matrix of eigenvectors,\n",
    "    * all eigenvalues of $A$ are semisimple and $A$ is nondefective,\n",
    "    * eigenvectors corresponding to distinct eigenvalues are orthogonal.\n",
    "6. To summarize _(Spectral Theorem)_:\n",
    "    * if $A\\in\\mathcal{H}_n$, there is a unitary matrix $U$ and real diagonal matrix $\\Lambda$ such that \n",
    "    $A=U\\Lambda U^*$. The diagonal entries of $\\Lambda$ are the eigenvalues of $A$, and the \n",
    "    columns of $U$ are the corresponding eigenvectors.\n",
    "    * if $A\\in\\mathcal{S}_n$, the same holds with orthogonal matrix $U$, $A=U\\Lambda U^T$.\n",
    "    * if $A\\in\\mathcal{H}_n$ with eigenpairs $(\\lambda_i,u_i)$, then\n",
    "    $$ A=\\lambda_1u_1u_1^*+\\lambda_2 u_2u_2^* +\\cdots +\\lambda_n u_nu_n^*.$$\n",
    "    * similarly, if  $A\\in\\mathcal{S}_n$, then\n",
    "    $$ A=\\lambda_1u_1u_1^T+\\lambda_2 u_2u_2^T +\\cdots +\\lambda_n u_nu_n^T.$$\n",
    "\n",
    "7. Since all eigenvalues of $A$ are real, they can be ordered:\n",
    "$$\\lambda_1\\geq \\lambda_2\\geq \\cdots \\geq \\lambda_n.$$\n",
    "8. _(Rayleigh-Ritz Theorem)_ It holds:\n",
    "\\begin{align*}\n",
    "\\lambda_n &\\leq \\frac{x^*Ax}{x^*x} \\leq \\lambda_1, \\\\\n",
    "\\lambda_1&=\\max_x\\frac{x^*Ax}{x^*x} =\\max_{\\|x\\|_2=1} x^*Ax, \\\\\n",
    "\\lambda_n&=\\min_x\\frac{x^*Ax}{x^*x} =\\min_{\\|x\\|_2=1} x^*Ax.\n",
    "\\end{align*}\n",
    "\n",
    "8. _(Courant-Fischer Theorem)_ Iz holds:\n",
    "\\begin{align*}\n",
    "\\lambda_k& =\\max_{\\dim(W)=k}\\min_{x\\in W} \\frac{x^*Ax}{x^*x}\\\\\n",
    "& =\\min_{\\dim(W)=n-k+1}\\max_{x\\in W} \\frac{x^*Ax}{x^*x}.\n",
    "\\end{align*} \n",
    "\n",
    "10. _(Cauchy Interlace Theorem)_ For $i\\in\\{1,2,\\ldots,n\\}$, let $A(i)$ be the principal submatrix of $A$ obtained by deleting its $t$-th row and $i$-th column with ordered eigenvalues $\\mu_1\\geq \\mu_2\\geq \\cdots \\geq \\mu_{n-1}$. Then\n",
    "$$\n",
    "\\lambda_1\\geq \\mu_1\\geq \\lambda_2\\geq \\mu_2\\geq \\lambda_3\\geq\\cdots\\geq \\lambda_{n-1}\\geq\\mu_{n-1}\\geq\\lambda_n.\n",
    "$$\n",
    "\n",
    "9. _(Weyl Inequalities)_ For $A,B\\in\\mathcal{H}_n$, it holds:\n",
    "\\begin{align*}\n",
    "   \\lambda_{j+k-1}(A+B)& \\leq \\lambda_j(A)+\\lambda_k(B), & \\textrm{for} \\ j+k\\leq n+1,\\\\\n",
    "   \\lambda_{j+k-n}(A+B)& \\geq \\lambda_j(A)+\\lambda_k(B), & \\textrm{for} \\ j+k\\geq n+1,\n",
    "\\end{align*}\n",
    "and, in particular, \n",
    "$$\n",
    "\\lambda_j(A)+\\lambda_n(B) \\leq \\lambda_j(A+B) \\leq \\lambda_j(A)+\\lambda_1(B),\\quad \\textrm{for} \\ j=1,2,\\ldots,n.\n",
    "$$\n",
    "\n",
    "11. $\\pi(A)+\\mu(A)+\\zeta(A)=n$.\n",
    "\n",
    "12. $\\mathop{\\mathrm{rank}}(A)=\\pi(A)+\\mu(A)$.\n",
    "\n",
    "13. If $A$ is nonsingular, $\\mathop{\\mathrm{in}}(A)=\\mathop{\\mathrm{in}}(A^{-1})$.\n",
    "\n",
    "13. If $A,B \\in\\mathcal{H}_n$ are similar,  $\\mathop{\\mathrm{in}}(A)=\\mathop{\\mathrm{in}}(B)$.\n",
    "\n",
    "14. _(Sylvester's Law of Inertia)_ $A,B \\in\\mathcal{H}_n$ are congruent if and only if $\\mathop{\\mathrm{in}}(A)=\\mathop{\\mathrm{in}}(B)$.\n",
    "\n",
    "15. _(Subadditivity of Inertia)_ For $A,B \\in\\mathcal{H}_n$, \n",
    "$$\n",
    "\\pi(A+B)\\leq \\pi(A)+\\pi(B), \\qquad \\nu(A+B)\\leq \\nu(A)+\\nu(B).\n",
    "$$\n",
    "\n",
    "16. Gram matrix is Hermitian."
   ]
  },
  {
   "cell_type": "markdown",
   "metadata": {},
   "source": [
    "### Example - Hermitian matrix"
   ]
  },
  {
   "cell_type": "code",
   "execution_count": 45,
   "metadata": {
    "collapsed": false
   },
   "outputs": [
    {
     "data": {
      "text/plain": [
       "5x5 Array{Complex{Float64},2}:\n",
       "  1.05781+0.0im        1.76662-0.057787im   …    1.26528-0.548296im\n",
       "  1.76662+0.057787im   1.86381+0.0im             1.12467+0.287054im\n",
       "  1.83169+0.860424im  0.413049-0.25391im         1.26843-0.12337im \n",
       " 0.646555-0.64222im    1.52219+0.0270206im      0.747621-0.230139im\n",
       "  1.26528+0.548296im   1.12467-0.287054im      0.0159232+0.0im     "
      ]
     },
     "execution_count": 45,
     "metadata": {},
     "output_type": "execute_result"
    }
   ],
   "source": [
    "# Generating Hermitian matrix\n",
    "n=5\n",
    "A=rand(n,n)+im*rand(n,n)\n",
    "A=A+A'"
   ]
  },
  {
   "cell_type": "code",
   "execution_count": 46,
   "metadata": {
    "collapsed": false
   },
   "outputs": [
    {
     "data": {
      "text/plain": [
       "true"
      ]
     },
     "execution_count": 46,
     "metadata": {},
     "output_type": "execute_result"
    }
   ],
   "source": [
    "ishermitian(A)"
   ]
  },
  {
   "cell_type": "code",
   "execution_count": 47,
   "metadata": {
    "collapsed": false
   },
   "outputs": [
    {
     "data": {
      "text/plain": [
       "5-element Array{Complex{Float64},1}:\n",
       "   1.05781+0.0im\n",
       "   1.86381+0.0im\n",
       "   1.82527+0.0im\n",
       "   1.81651+0.0im\n",
       " 0.0159232+0.0im"
      ]
     },
     "execution_count": 47,
     "metadata": {},
     "output_type": "execute_result"
    }
   ],
   "source": [
    "# Diagonal entries\n",
    "diag(A)"
   ]
  },
  {
   "cell_type": "code",
   "execution_count": 48,
   "metadata": {
    "collapsed": false
   },
   "outputs": [
    {
     "data": {
      "text/plain": [
       "(\n",
       "5x5 Array{Complex{Float64},2}:\n",
       " 6.22114-9.23262e-17im   …   3.82155e-16+2.61868e-16im\n",
       "              0.0+0.0im     -4.31723e-16-3.33164e-16im\n",
       "              0.0+0.0im      9.16936e-17+2.09169e-16im\n",
       "              0.0+0.0im     -2.19282e-16-2.05197e-18im\n",
       "              0.0+0.0im         0.974731+1.04644e-16im,\n",
       "\n",
       "5x5 Array{Complex{Float64},2}:\n",
       " -0.486241+9.27406e-17im          …  0.296924+2.50874e-12im       \n",
       "          -0.471129-0.0778716im               0.264945+0.507818im \n",
       "          -0.476791-0.0634281im              -0.203196-0.214018im \n",
       "           -0.43089+0.00232356im             -0.618127-0.274675im \n",
       "          -0.336342-0.0734298im                0.19732+0.0143237im,\n",
       "\n",
       "Complex{Float64}[6.221142664197327 - 9.232616522757956e-17im,-1.6519372247360598 - 5.913402831187637e-17im,-0.8821266052998911 - 1.705614414867048e-17im,1.9175054662754327 + 3.611716505066551e-17im,0.9747305491048257 + 1.0464359702183214e-16im])"
      ]
     },
     "execution_count": 48,
     "metadata": {},
     "output_type": "execute_result"
    }
   ],
   "source": [
    "# Schur decomposition\n",
    "T,Q=schur(A)"
   ]
  },
  {
   "cell_type": "code",
   "execution_count": 49,
   "metadata": {
    "collapsed": false
   },
   "outputs": [
    {
     "data": {
      "text/plain": [
       "([-1.6519372247360582,-0.8821266052998923,0.9747305491048219,1.9175054662754303,6.221142664197336],\n",
       "5x5 Array{Complex{Float64},2}:\n",
       " 0.00437945+0.663755im   0.257052+0.114094im    …  -0.475052+0.103713im \n",
       " -0.0141284-0.417964im   0.190325-0.00435337im     -0.476897+0.0244096im\n",
       "   0.177858-0.389198im    0.28896-0.205673im       -0.479348+0.0397285im\n",
       "  -0.274497+0.212247im   -0.11295+0.0340482im      -0.420479+0.0941766im\n",
       "   0.284623-0.0im       -0.863103-0.0im            -0.344265-0.0im      )"
      ]
     },
     "execution_count": 49,
     "metadata": {},
     "output_type": "execute_result"
    }
   ],
   "source": [
    "λ,U=eig(A)"
   ]
  },
  {
   "cell_type": "code",
   "execution_count": 51,
   "metadata": {
    "collapsed": false
   },
   "outputs": [
    {
     "data": {
      "text/plain": [
       "8.174880111731334e-15"
      ]
     },
     "execution_count": 51,
     "metadata": {},
     "output_type": "execute_result"
    }
   ],
   "source": [
    "# Spectral theorem\n",
    "norm(A-U*diagm(λ)*U')"
   ]
  },
  {
   "cell_type": "code",
   "execution_count": 52,
   "metadata": {
    "collapsed": false
   },
   "outputs": [
    {
     "data": {
      "text/plain": [
       "5x5 Array{Complex{Float64},2}:\n",
       "  1.11022e-15-5.37764e-17im  …   2.22045e-16-2.22045e-16im \n",
       "  4.44089e-16-8.32667e-17im      2.22045e-16+2.77556e-16im \n",
       "  1.55431e-15+6.66134e-16im              0.0-9.71445e-17im \n",
       " -7.77156e-16-2.22045e-15im     -1.11022e-16-1.38778e-16im \n",
       "  2.22045e-16+3.33067e-16im               1.44329e-15+0.0im"
      ]
     },
     "execution_count": 52,
     "metadata": {},
     "output_type": "execute_result"
    }
   ],
   "source": [
    "# Spectral theorem\n",
    "A-sum([λ[i]*U[:,i]*U[:,i]' for i=1:n])"
   ]
  },
  {
   "cell_type": "code",
   "execution_count": 53,
   "metadata": {
    "collapsed": false
   },
   "outputs": [
    {
     "data": {
      "text/plain": [
       "5-element Array{Float64,1}:\n",
       " -1.65194 \n",
       " -0.882127\n",
       "  0.974731\n",
       "  1.91751 \n",
       "  6.22114 "
      ]
     },
     "execution_count": 53,
     "metadata": {},
     "output_type": "execute_result"
    }
   ],
   "source": [
    "λ"
   ]
  },
  {
   "cell_type": "code",
   "execution_count": 55,
   "metadata": {
    "collapsed": false
   },
   "outputs": [
    {
     "name": "stdout",
     "output_type": "stream",
     "text": [
      "i = rand(1:n) = 3\n"
     ]
    },
    {
     "data": {
      "text/plain": [
       "4-element Array{Float64,1}:\n",
       " -1.28453 \n",
       " -0.150511\n",
       "  1.17957 \n",
       "  5.00952 "
      ]
     },
     "execution_count": 55,
     "metadata": {},
     "output_type": "execute_result"
    }
   ],
   "source": [
    "# Cauchy Interlace Theorem (repeat several times)\n",
    "@show i=rand(1:n)\n",
    "μ=eigvals(A[[1:i-1;i+1:n],[1:i-1;i+1:n]])"
   ]
  },
  {
   "cell_type": "code",
   "execution_count": 57,
   "metadata": {
    "collapsed": false
   },
   "outputs": [
    {
     "data": {
      "text/plain": [
       "inertia (generic function with 1 method)"
      ]
     },
     "execution_count": 57,
     "metadata": {},
     "output_type": "execute_result"
    }
   ],
   "source": [
    "# Inertia\n",
    "inertia(A)=[sum(eigvals(A).>0), sum(eigvals(A).<0), sum(eigvals(A).==0)]"
   ]
  },
  {
   "cell_type": "code",
   "execution_count": 58,
   "metadata": {
    "collapsed": false
   },
   "outputs": [
    {
     "data": {
      "text/plain": [
       "3-element Array{Int64,1}:\n",
       " 3\n",
       " 2\n",
       " 0"
      ]
     },
     "execution_count": 58,
     "metadata": {},
     "output_type": "execute_result"
    }
   ],
   "source": [
    "inertia(A)"
   ]
  },
  {
   "cell_type": "code",
   "execution_count": 59,
   "metadata": {
    "collapsed": false
   },
   "outputs": [
    {
     "ename": "LoadError",
     "evalue": "LoadError: MethodError: `isless` has no method matching isless(::Int64, ::Complex{Float64})\nClosest candidates are:\n  isless(::Real, !Matched::AbstractFloat)\n  isless(::Real, !Matched::Real)\n  isless(::Integer, !Matched::Char)\n  ...\nwhile loading In[59], in expression starting on line 5",
     "output_type": "error",
     "traceback": [
      "LoadError: MethodError: `isless` has no method matching isless(::Int64, ::Complex{Float64})\nClosest candidates are:\n  isless(::Real, !Matched::AbstractFloat)\n  isless(::Real, !Matched::Real)\n  isless(::Integer, !Matched::Char)\n  ...\nwhile loading In[59], in expression starting on line 5",
      "",
      " in bitcache_lt at broadcast.jl:406",
      " in .< at broadcast.jl:422",
      " in .> at operators.jl:39",
      " in inertia at In[57]:2"
     ]
    }
   ],
   "source": [
    "# Similar matrices\n",
    "C=rand(n,n)+im*rand(n,n)\n",
    "inertia(A)\n",
    "B=C*A*inv(C)\n",
    "inertia(A)==inertia(B)"
   ]
  },
  {
   "cell_type": "markdown",
   "metadata": {},
   "source": [
    "This did not work numerically due to rounding errors!"
   ]
  },
  {
   "cell_type": "code",
   "execution_count": 64,
   "metadata": {
    "collapsed": false
   },
   "outputs": [
    {
     "data": {
      "text/plain": [
       "5-element Array{Complex{Float64},1}:\n",
       "  5.38997+1.95171e-15im\n",
       "  1.72051-2.85507e-16im\n",
       " 0.696847+2.66696e-15im\n",
       " -0.83431+8.78296e-16im\n",
       " -1.42769+2.67076e-16im"
      ]
     },
     "execution_count": 64,
     "metadata": {},
     "output_type": "execute_result"
    }
   ],
   "source": [
    "eigvals(B)"
   ]
  },
  {
   "cell_type": "code",
   "execution_count": 64,
   "metadata": {
    "collapsed": false
   },
   "outputs": [
    {
     "ename": "LoadError",
     "evalue": "LoadError: MethodError: `isless` has no method matching isless(::Int64, ::Complex{Float64})\nClosest candidates are:\n  isless(::Real, !Matched::AbstractFloat)\n  isless(::Real, !Matched::Real)\n  isless(::Integer, !Matched::Char)\n  ...\nwhile loading In[64], in expression starting on line 3",
     "output_type": "error",
     "traceback": [
      "LoadError: MethodError: `isless` has no method matching isless(::Int64, ::Complex{Float64})\nClosest candidates are:\n  isless(::Real, !Matched::AbstractFloat)\n  isless(::Real, !Matched::Real)\n  isless(::Integer, !Matched::Char)\n  ...\nwhile loading In[64], in expression starting on line 3",
      "",
      " in bitcache_lt at broadcast.jl:406",
      " in .< at broadcast.jl:422",
      " in .> at operators.jl:39",
      " in inertia at In[57]:2"
     ]
    }
   ],
   "source": [
    "# Congruent matrices - this does not work either, without some preparation\n",
    "B=C'*A*C\n",
    "inertia(A)==inertia(B)"
   ]
  },
  {
   "cell_type": "code",
   "execution_count": 62,
   "metadata": {
    "collapsed": false
   },
   "outputs": [
    {
     "ename": "LoadError",
     "evalue": "LoadError: ArgumentError: Cannot construct Hermitian from matrix with nonreal diagonals\nwhile loading In[62], in expression starting on line 1",
     "output_type": "error",
     "traceback": [
      "LoadError: ArgumentError: Cannot construct Hermitian from matrix with nonreal diagonals\nwhile loading In[62], in expression starting on line 1",
      "",
      " in call at linalg/symmetric.jl:16",
      " in call at linalg/symmetric.jl:14"
     ]
    }
   ],
   "source": [
    "Hermitian(B)"
   ]
  },
  {
   "cell_type": "code",
   "execution_count": 65,
   "metadata": {
    "collapsed": false
   },
   "outputs": [
    {
     "data": {
      "text/plain": [
       "(false,true,true)"
      ]
     },
     "execution_count": 65,
     "metadata": {},
     "output_type": "execute_result"
    }
   ],
   "source": [
    "# We need to symmetrize B so that the right algorithm is called\n",
    "ishermitian(B), ishermitian((B+B')/2), inertia(A)==inertia((B+B')/2)"
   ]
  },
  {
   "cell_type": "code",
   "execution_count": 68,
   "metadata": {
    "collapsed": false
   },
   "outputs": [
    {
     "data": {
      "text/html": [
       "eigvals<i>{T}</i>(A::<b>Union{DenseArray{T,2},SubArray{T,2,A<:DenseArray{T,N},I<:Tuple{Vararg{Union{Colon,Int64,Range{Int64}}}},LD}}</b>) at <a href=\"https://github.com/JuliaLang/julia/tree/2ac304dfba75fad148d4070ef4f8a2e400c305bb/base/linalg/eigen.jl#L91\" target=\"_blank\">linalg/eigen.jl:91</a>"
      ],
      "text/plain": [
       "eigvals{T}(A::Union{DenseArray{T,2},SubArray{T,2,A<:DenseArray{T,N},I<:Tuple{Vararg{Union{Colon,Int64,Range{Int64}}}},LD}}) at linalg/eigen.jl:91"
      ]
     },
     "execution_count": 68,
     "metadata": {},
     "output_type": "execute_result"
    }
   ],
   "source": [
    "@which eigvals(B)"
   ]
  },
  {
   "cell_type": "code",
   "execution_count": 66,
   "metadata": {
    "collapsed": false
   },
   "outputs": [
    {
     "data": {
      "text/plain": [
       "5x5 Array{Complex{Float64},2}:\n",
       " 5.20712+0.0im       7.58774-2.85283im  …  7.12656-4.59934im\n",
       " 7.58774+2.85283im   13.0572+0.0im         13.8554-3.72743im\n",
       " 9.19723-0.276893im  14.1171-5.36654im     12.8634-9.33855im\n",
       " 7.84424+1.05839im   12.8245-2.61736im     12.3582-6.79864im\n",
       " 7.12656+4.59934im   13.8554+3.72743im     14.7261+0.0im    "
      ]
     },
     "execution_count": 66,
     "metadata": {},
     "output_type": "execute_result"
    }
   ],
   "source": [
    "B=(B+B')/2"
   ]
  },
  {
   "cell_type": "code",
   "execution_count": 67,
   "metadata": {
    "collapsed": false
   },
   "outputs": [
    {
     "data": {
      "text/html": [
       "eigvals<i>{T}</i>(A::<b>Union{DenseArray{T,2},SubArray{T,2,A<:DenseArray{T,N},I<:Tuple{Vararg{Union{Colon,Int64,Range{Int64}}}},LD}}</b>) at <a href=\"https://github.com/JuliaLang/julia/tree/2ac304dfba75fad148d4070ef4f8a2e400c305bb/base/linalg/eigen.jl#L91\" target=\"_blank\">linalg/eigen.jl:91</a>"
      ],
      "text/plain": [
       "eigvals{T}(A::Union{DenseArray{T,2},SubArray{T,2,A<:DenseArray{T,N},I<:Tuple{Vararg{Union{Colon,Int64,Range{Int64}}}},LD}}) at linalg/eigen.jl:91"
      ]
     },
     "execution_count": 67,
     "metadata": {},
     "output_type": "execute_result"
    }
   ],
   "source": [
    "@which eigvals(B)"
   ]
  },
  {
   "cell_type": "code",
   "execution_count": 69,
   "metadata": {
    "collapsed": false
   },
   "outputs": [
    {
     "data": {
      "text/plain": [
       "5-element Array{Float64,1}:\n",
       " -1.65194 \n",
       " -0.882127\n",
       "  0.974731\n",
       "  1.91751 \n",
       "  6.22114 "
      ]
     },
     "execution_count": 69,
     "metadata": {},
     "output_type": "execute_result"
    }
   ],
   "source": [
    "eigvals(A)"
   ]
  },
  {
   "cell_type": "code",
   "execution_count": 70,
   "metadata": {
    "collapsed": false
   },
   "outputs": [
    {
     "name": "stdout",
     "output_type": "stream",
     "text": [
      "λ = [-1.6519372247360582,-0.8821266052998923,0.9747305491048219,1.9175054662754303,6.221142664197336]\n"
     ]
    },
    {
     "data": {
      "text/plain": [
       "([-0.09796233409241782,-0.03667889961776621,0.004443065342324937,0.10322157146831352,0.5536481184169741],[-1.6467198892607946,-0.8918712173828571,0.940871139125666,1.9577448963472353,6.745961442229828])"
      ]
     },
     "execution_count": 70,
     "metadata": {},
     "output_type": "execute_result"
    }
   ],
   "source": [
    "# Weyl Inequalities\n",
    "B=rand(n,n)+im*rand(n,n)\n",
    "B=(B+B')/10\n",
    "@show λ\n",
    "μ=eigvals(B)\n",
    "γ=eigvals(A+B)\n",
    "μ,γ"
   ]
  },
  {
   "cell_type": "code",
   "execution_count": 71,
   "metadata": {
    "collapsed": false
   },
   "outputs": [
    {
     "name": "stdout",
     "output_type": "stream",
     "text": [
      "(j,k) = (3,1)\n",
      "((sort(γ,rev=true))[(j + k) - 1],(sort(λ,rev=true))[j] + (sort(μ,rev=true))[k]) = (0.940871139125666,1.528378667521796)\n"
     ]
    }
   ],
   "source": [
    "# Theorem uses different order!\n",
    "j=rand(1:n)\n",
    "k=rand(1:n)\n",
    "@show j,k\n",
    "if j+k<=n+1\n",
    "    @show sort(γ,rev=true)[j+k-1], sort(λ,rev=true)[j]+sort(μ,rev=true)[k]\n",
    "end\n",
    "if j+k>=n+1\n",
    "    sort(γ,rev=true)[j+k-n], sort(λ,rev=true)[j]+sort(μ,rev=true)[k]\n",
    "end"
   ]
  },
  {
   "cell_type": "code",
   "execution_count": 76,
   "metadata": {
    "collapsed": false
   },
   "outputs": [
    {
     "data": {
      "text/plain": [
       "5-element Array{Float64,1}:\n",
       "  5.38997 \n",
       "  1.72051 \n",
       "  0.696847\n",
       " -0.83431 \n",
       " -1.42769 "
      ]
     },
     "execution_count": 76,
     "metadata": {},
     "output_type": "execute_result"
    }
   ],
   "source": [
    "sort(λ,rev=true)"
   ]
  },
  {
   "cell_type": "markdown",
   "metadata": {},
   "source": [
    "### Example - Real symmetric matrix"
   ]
  },
  {
   "cell_type": "code",
   "execution_count": 72,
   "metadata": {
    "collapsed": false
   },
   "outputs": [
    {
     "data": {
      "text/plain": [
       "6x6 Array{Int64,2}:\n",
       "  18   0  17  -11    8  12\n",
       "   0  -4  -7    6   -5  -5\n",
       "  17  -7   4    0    1  -9\n",
       " -11   6   0    2  -15  12\n",
       "   8  -5   1  -15   14  -2\n",
       "  12  -5  -9   12   -2  12"
      ]
     },
     "execution_count": 72,
     "metadata": {},
     "output_type": "execute_result"
    }
   ],
   "source": [
    "# Generating real symmetric matrix\n",
    "n=6\n",
    "A=rand(-9:9,n,n)\n",
    "A=A+A'"
   ]
  },
  {
   "cell_type": "code",
   "execution_count": 73,
   "metadata": {
    "collapsed": false
   },
   "outputs": [
    {
     "data": {
      "text/plain": [
       "true"
      ]
     },
     "execution_count": 73,
     "metadata": {},
     "output_type": "execute_result"
    }
   ],
   "source": [
    "issym(A)"
   ]
  },
  {
   "cell_type": "code",
   "execution_count": 74,
   "metadata": {
    "collapsed": false
   },
   "outputs": [
    {
     "data": {
      "text/plain": [
       "(\n",
       "6x6 Array{Float64,2}:\n",
       " 39.9682   -7.10543e-15  -2.88661e-16  …  -7.18897e-15  -2.51576e-15\n",
       "  0.0     -25.4084        1.13273e-14     -2.39917e-15   1.27824e-15\n",
       "  0.0       0.0          25.3234           3.73348e-15   1.08218e-15\n",
       "  0.0       0.0           0.0             -1.96581e-15   2.42861e-15\n",
       "  0.0       0.0           0.0             -0.659638     -1.77572e-15\n",
       "  0.0       0.0           0.0          …   0.0          -6.81678    ,\n",
       "\n",
       "6x6 Array{Float64,2}:\n",
       "  0.655339   0.428373    0.449696    0.198262    0.367994    0.100365 \n",
       " -0.167684  -0.388851   -0.0126747   0.0915484   0.819618   -0.374649 \n",
       "  0.360509  -0.480749    0.0274436   0.632543   -0.369955   -0.318093 \n",
       " -0.415435   0.474858    0.363313    0.159711   -0.166944   -0.645407 \n",
       "  0.48942    0.0335262  -0.290139   -0.580577   -0.0864354  -0.574998 \n",
       " -0.018097  -0.455585    0.762026   -0.435457   -0.143525    0.0347789,\n",
       "\n",
       "[39.96820148106319,-25.408430866829185,25.323389519688355,13.593262240239607,-0.6596376214116912,-6.816784752750325])"
      ]
     },
     "execution_count": 74,
     "metadata": {},
     "output_type": "execute_result"
    }
   ],
   "source": [
    "T,Q=schur(A)"
   ]
  },
  {
   "cell_type": "code",
   "execution_count": 75,
   "metadata": {
    "collapsed": false
   },
   "outputs": [
    {
     "data": {
      "text/plain": [
       "([-25.408430866829242,-6.816784752750316,-0.6596376214116049,13.593262240239646,25.323389519688355,39.968201481063204],\n",
       "6x6 Array{Float64,2}:\n",
       "  0.428373   -0.100365    0.367994    0.198262    0.449696    0.655339\n",
       " -0.388851    0.374649    0.819618    0.0915484  -0.0126747  -0.167684\n",
       " -0.480749    0.318093   -0.369955    0.632543    0.0274436   0.360509\n",
       "  0.474858    0.645407   -0.166944    0.159711    0.363313   -0.415435\n",
       "  0.0335262   0.574998   -0.0864354  -0.580577   -0.290139    0.48942 \n",
       " -0.455585   -0.0347789  -0.143525   -0.435457    0.762026   -0.018097)"
      ]
     },
     "execution_count": 75,
     "metadata": {},
     "output_type": "execute_result"
    }
   ],
   "source": [
    "λ,U=eig(A)"
   ]
  },
  {
   "cell_type": "code",
   "execution_count": 76,
   "metadata": {
    "collapsed": false
   },
   "outputs": [
    {
     "data": {
      "text/plain": [
       "6x6 Array{Float64,2}:\n",
       "  3.55271e-15  -2.84217e-14   0.0          …   1.77636e-15  -1.95399e-14\n",
       " -2.84217e-14  -8.52651e-14   2.66454e-14     -2.4869e-14    7.99361e-15\n",
       "  0.0           2.75335e-14  -1.77636e-14      2.4869e-14    1.77636e-14\n",
       "  0.0           2.66454e-15  -1.59872e-14      1.77636e-15  -2.13163e-14\n",
       "  1.77636e-15  -2.4869e-14    2.4869e-14      -2.84217e-14   0.0        \n",
       " -1.95399e-14   8.88178e-15   1.77636e-14  …   0.0           8.17124e-14"
      ]
     },
     "execution_count": 76,
     "metadata": {},
     "output_type": "execute_result"
    }
   ],
   "source": [
    "A-sum([λ[i]*U[:,i]*U[:,i]' for i=1:n])"
   ]
  },
  {
   "cell_type": "code",
   "execution_count": 77,
   "metadata": {
    "collapsed": false
   },
   "outputs": [
    {
     "data": {
      "text/plain": [
       "3-element Array{Int64,1}:\n",
       " 3\n",
       " 3\n",
       " 0"
      ]
     },
     "execution_count": 77,
     "metadata": {},
     "output_type": "execute_result"
    }
   ],
   "source": [
    "inertia(A)"
   ]
  },
  {
   "cell_type": "code",
   "execution_count": 78,
   "metadata": {
    "collapsed": false
   },
   "outputs": [
    {
     "data": {
      "text/plain": [
       "3-element Array{Int64,1}:\n",
       " 3\n",
       " 3\n",
       " 0"
      ]
     },
     "execution_count": 78,
     "metadata": {},
     "output_type": "execute_result"
    }
   ],
   "source": [
    "C=rand(n,n)\n",
    "inertia(C'*A*C)"
   ]
  },
  {
   "cell_type": "markdown",
   "metadata": {},
   "source": [
    "## Positive definite matrices\n",
    "\n",
    "These matrices are an important subset of Hermitian or real symmteric matrices.\n",
    "\n",
    "### Definitions\n",
    "\n",
    "Matrix $A\\in\\mathcal{H}_n$ is __positive definite__ (PD) if $x^*Ax>0$ for all nonzero $x\\in\\mathbb{C}^n$.\n",
    "\n",
    "Matrix $A\\in\\mathcal{H}_n$ is __positive semidefinite__ (PSD) if $x^*Ax\\geq 0$ for all nonzero $x\\in\\mathbb{C}^n$.\n",
    "\n",
    "### Facts\n",
    "\n",
    "1. $A\\in\\mathcal{S}_n$ is PD if $x^TAx>0$ for all nonzero $x\\in \\mathbb{R}^n$, and is PSD if $x^TAx\\geq 0$ for all $x\\in \\mathbb{R}^n$.\n",
    " \n",
    "2. If $A,B\\in \\mathrm{PSD}_n$, then $A+B\\in \\mathrm{PSD}_n$. If, in addition, $A\\in \\mathrm{PD}_n$, then $A+B\\in \\mathrm{PD}_n$.\n",
    "\n",
    "3. If $A\\in \\mathrm{PD}_n$, then $\\mathop{\\mathrm{tr}}(A)>0$ and $\\det(A)>0$. \n",
    "\n",
    "3. If $A\\in \\mathrm{PSD}_n$, then $\\mathop{\\mathrm{tr}}(A)\\geq 0$ and $\\det(A)\\geq 0$.\n",
    "\n",
    "4. Any principal submatrix of a PD matrix is PD. Any principal submatrix of a PSD matrix is PSD. Consequently, all minors are positive or nonnegative, respectively.\n",
    "\n",
    "5. $A\\in\\mathcal{H}_n$ is PD iff _every leading_ principal minor of $A$ is positive. $A\\in\\mathcal{H}_n$ is PSD iff\n",
    "_every_ principal minor is nonnegative.\n",
    "\n",
    "6. For $A\\in \\mathrm{PSD}_n$, there exists unique PSD $k$-th __root__, $A^{1/k}=U\\Lambda^{1/k} U^*$.\n",
    "\n",
    "7. _(Cholesky Factorization)_ $A\\in\\mathcal{H}_n$ if PD iff there is an invertible lower triangular matrix $L$ with positive diagonal entries such that $A=LL^*$.\n",
    "\n",
    "8. Gram matrix is PSD. If the vectors are linearly independent, Gram matrix is PD."
   ]
  },
  {
   "cell_type": "markdown",
   "metadata": {},
   "source": [
    "### Example - Positive definite matrix"
   ]
  },
  {
   "cell_type": "code",
   "execution_count": 79,
   "metadata": {
    "collapsed": false
   },
   "outputs": [
    {
     "data": {
      "text/plain": [
       "5x5 Array{Complex{Float64},2}:\n",
       " 3.99244+0.0im       3.20861-0.810369im  …   2.2033-0.359893im \n",
       " 3.20861+0.810369im  3.29223+0.0im           2.0806+0.297898im \n",
       " 2.74889+0.211119im    2.346-0.662915im     1.98637+0.0871178im\n",
       " 1.86236+1.43885im   2.16944+0.420416im     1.84006+0.626821im \n",
       "  2.2033+0.359893im   2.0806-0.297898im     2.02028+0.0im      "
      ]
     },
     "execution_count": 79,
     "metadata": {},
     "output_type": "execute_result"
    }
   ],
   "source": [
    "# Generating positive definite matrix as a Gram matrix\n",
    "n=5\n",
    "A=rand(n,n)+im*rand(n,n)\n",
    "A=A*A'"
   ]
  },
  {
   "cell_type": "code",
   "execution_count": 80,
   "metadata": {
    "collapsed": false
   },
   "outputs": [
    {
     "data": {
      "text/plain": [
       "true"
      ]
     },
     "execution_count": 80,
     "metadata": {},
     "output_type": "execute_result"
    }
   ],
   "source": [
    "ishermitian(A)"
   ]
  },
  {
   "cell_type": "code",
   "execution_count": 81,
   "metadata": {
    "collapsed": false
   },
   "outputs": [
    {
     "data": {
      "text/plain": [
       "5-element Array{Float64,1}:\n",
       "  0.0805909\n",
       "  0.243964 \n",
       "  0.605512 \n",
       "  1.28229  \n",
       " 12.4674   "
      ]
     },
     "execution_count": 81,
     "metadata": {},
     "output_type": "execute_result"
    }
   ],
   "source": [
    "eigvals(A)"
   ]
  },
  {
   "cell_type": "code",
   "execution_count": 82,
   "metadata": {
    "collapsed": false
   },
   "outputs": [
    {
     "data": {
      "text/plain": [
       "5-element Array{Any,1}:\n",
       "           3.99244+0.0im\n",
       "  2.19214+1.11022e-16im \n",
       "   1.4526+3.77789e-16im \n",
       "  0.72796+6.32821e-16im \n",
       " 0.190324+2.15963e-16im "
      ]
     },
     "execution_count": 82,
     "metadata": {},
     "output_type": "execute_result"
    }
   ],
   "source": [
    "# Positivity of principal leading minors\n",
    "[det(A[1:i,1:i]) for i=1:n]"
   ]
  },
  {
   "cell_type": "code",
   "execution_count": 83,
   "metadata": {
    "collapsed": false
   },
   "outputs": [
    {
     "data": {
      "text/plain": [
       "5x5 Array{Complex{Float64},2}:\n",
       " -2.66454e-15+1.11022e-16im  …  -4.44089e-16+2.22045e-16im \n",
       " -2.66454e-15-6.66134e-16im     -4.44089e-16-1.66533e-16im \n",
       " -2.22045e-15-1.38778e-15im     -4.44089e-16+1.80411e-16im \n",
       " -3.33067e-15-1.11022e-15im                       0.0+0.0im\n",
       " -8.88178e-16-1.66533e-16im      1.33227e-15+1.38778e-17im "
      ]
     },
     "execution_count": 83,
     "metadata": {},
     "output_type": "execute_result"
    }
   ],
   "source": [
    "# Square root\n",
    "λ,U=eig(A)\n",
    "Ar=U*diagm(sqrt(λ))*U'\n",
    "A-Ar*Ar"
   ]
  },
  {
   "cell_type": "code",
   "execution_count": 84,
   "metadata": {
    "collapsed": false
   },
   "outputs": [
    {
     "data": {
      "text/plain": [
       "5x5 UpperTriangular{Complex{Float64},Array{Complex{Float64},2}}:\n",
       " 1.99811+0.0im   1.60582-0.405568im  …   1.10269-0.180117im\n",
       "     0.0+0.0im  0.740995+0.0im          0.319595+0.188822im\n",
       "     0.0+0.0im       0.0+0.0im          0.417449+0.3844im  \n",
       "     0.0+0.0im       0.0+0.0im          0.189403+0.121487im\n",
       "     0.0+0.0im       0.0+0.0im          0.511321+0.0im     "
      ]
     },
     "execution_count": 84,
     "metadata": {},
     "output_type": "execute_result"
    }
   ],
   "source": [
    "# Cholesky factorization - the upper triangular factor is returned\n",
    "L=chol(A)"
   ]
  },
  {
   "cell_type": "code",
   "execution_count": 86,
   "metadata": {
    "collapsed": false
   },
   "outputs": [
    {
     "data": {
      "text/plain": [
       "8.94497050376117e-16"
      ]
     },
     "execution_count": 86,
     "metadata": {},
     "output_type": "execute_result"
    }
   ],
   "source": [
    "norm(A-L'*L)"
   ]
  },
  {
   "cell_type": "markdown",
   "metadata": {},
   "source": [
    "### Example - Positive semidefinite matrix"
   ]
  },
  {
   "cell_type": "code",
   "execution_count": 90,
   "metadata": {
    "collapsed": false
   },
   "outputs": [
    {
     "data": {
      "text/plain": [
       "6x4 Array{Int64,2}:\n",
       "  6   6  -1  -4\n",
       "  3   4  -2   6\n",
       "  1  -1   0  -5\n",
       " -9   4   3   7\n",
       " -6  -8   8   6\n",
       " -7   7  -6   2"
      ]
     },
     "execution_count": 90,
     "metadata": {},
     "output_type": "execute_result"
    }
   ],
   "source": [
    "# Generating positive semidefinite matrix as a Gram matrix, try it several times\n",
    "n=6\n",
    "m=4\n",
    "A=rand(-9:9,n,m)"
   ]
  },
  {
   "cell_type": "code",
   "execution_count": 91,
   "metadata": {
    "collapsed": false
   },
   "outputs": [
    {
     "data": {
      "text/plain": [
       "6x6 Array{Int64,2}:\n",
       "   89   20   20  -61  -116   -2\n",
       "   20   65  -31   25   -30   31\n",
       "   20  -31   27  -48   -28  -24\n",
       "  -61   25  -48  155    88   87\n",
       " -116  -30  -28   88   200  -50\n",
       "   -2   31  -24   87   -50  138"
      ]
     },
     "execution_count": 91,
     "metadata": {},
     "output_type": "execute_result"
    }
   ],
   "source": [
    "A=A*A'"
   ]
  },
  {
   "cell_type": "code",
   "execution_count": 92,
   "metadata": {
    "collapsed": false
   },
   "outputs": [
    {
     "data": {
      "text/plain": [
       "6-element Array{Float64,1}:\n",
       "   5.54703e-15\n",
       "   2.97581e-14\n",
       "  23.7116     \n",
       "  65.6194     \n",
       " 237.713      \n",
       " 346.956      "
      ]
     },
     "execution_count": 92,
     "metadata": {},
     "output_type": "execute_result"
    }
   ],
   "source": [
    "# There are rounding errors!\n",
    "eigvals(A)"
   ]
  },
  {
   "cell_type": "code",
   "execution_count": 94,
   "metadata": {
    "collapsed": false
   },
   "outputs": [
    {
     "data": {
      "text/html": [
       "rank(A::<b>AbstractArray{T,2}</b>) at <a href=\"https://github.com/JuliaLang/julia/tree/2ac304dfba75fad148d4070ef4f8a2e400c305bb/base/linalg/generic.jl#L298\" target=\"_blank\">linalg/generic.jl:298</a>"
      ],
      "text/plain": [
       "rank(A::AbstractArray{T,2}) at linalg/generic.jl:298"
      ]
     },
     "execution_count": 94,
     "metadata": {},
     "output_type": "execute_result"
    }
   ],
   "source": [
    "@which rank(A)"
   ]
  },
  {
   "cell_type": "code",
   "execution_count": 95,
   "metadata": {
    "collapsed": false
   },
   "outputs": [
    {
     "ename": "LoadError",
     "evalue": "LoadError: Base.LinAlg.PosDefException(6)\nwhile loading In[95], in expression starting on line 2",
     "output_type": "error",
     "traceback": [
      "LoadError: Base.LinAlg.PosDefException(6)\nwhile loading In[95], in expression starting on line 2",
      "",
      " in chol! at linalg/cholesky.jl:28"
     ]
    }
   ],
   "source": [
    "# Cholesky factorization - this can fail\n",
    "L=chol(A)"
   ]
  },
  {
   "cell_type": "markdown",
   "metadata": {},
   "source": [
    "### Example - Covariance and correlation matrices \n",
    "\n",
    "[Covariance and correlation matrices](https://en.wikipedia.org/wiki/Covariance_matrix) are PSD.\n",
    "\n",
    "Correlation matrix is diagonally scaled covariance matrix."
   ]
  },
  {
   "cell_type": "code",
   "execution_count": 96,
   "metadata": {
    "collapsed": false
   },
   "outputs": [
    {
     "data": {
      "text/plain": [
       "10x5 Array{Float64,2}:\n",
       " 0.647382   0.706156  0.380788   0.988513   0.195454\n",
       " 0.0215521  0.357323  0.0443463  0.12547    0.579251\n",
       " 0.382979   0.195479  0.687894   0.140066   0.471669\n",
       " 0.393331   0.23701   0.321028   0.162377   0.54877 \n",
       " 0.512954   0.547038  0.427731   0.449184   0.348882\n",
       " 0.294135   0.74562   0.130829   0.794153   0.780766\n",
       " 0.354466   0.297185  0.253398   0.0579882  0.291937\n",
       " 0.120481   0.480439  0.3369     0.784507   0.320087\n",
       " 0.0869049  0.432819  0.765657   0.607051   0.583455\n",
       " 0.569846   0.404467  0.566414   0.593606   0.200217"
      ]
     },
     "execution_count": 96,
     "metadata": {},
     "output_type": "execute_result"
    }
   ],
   "source": [
    "x=rand(10,5)"
   ]
  },
  {
   "cell_type": "code",
   "execution_count": 97,
   "metadata": {
    "collapsed": false
   },
   "outputs": [
    {
     "data": {
      "text/plain": [
       "5x5 Array{Float64,2}:\n",
       "  0.0442066    0.0082237    0.00999489   0.015419    -0.0234563 \n",
       "  0.0082237    0.0340972   -0.0110549    0.0525146    0.00130925\n",
       "  0.00999489  -0.0110549    0.0528166    0.00725718  -0.0108224 \n",
       "  0.015419     0.0525146    0.00725718   0.111031    -0.0103325 \n",
       " -0.0234563    0.00130925  -0.0108224   -0.0103325    0.0366885 "
      ]
     },
     "execution_count": 97,
     "metadata": {},
     "output_type": "execute_result"
    }
   ],
   "source": [
    "A=cov(x)"
   ]
  },
  {
   "cell_type": "code",
   "execution_count": 98,
   "metadata": {
    "collapsed": false
   },
   "outputs": [
    {
     "data": {
      "text/plain": [
       "5x5 Array{Float64,2}:\n",
       " 0.0          0.0   0.0           1.73472e-18  0.0\n",
       " 0.0          0.0   0.0           0.0          0.0\n",
       " 0.0          0.0   0.0           8.67362e-19  0.0\n",
       " 1.73472e-18  0.0   8.67362e-19   1.38778e-17  0.0\n",
       " 3.46945e-18  0.0  -3.46945e-18  -3.46945e-18  0.0"
      ]
     },
     "execution_count": 98,
     "metadata": {},
     "output_type": "execute_result"
    }
   ],
   "source": [
    "# Covariance matrix is a Gram matrix\n",
    "(x.-mean(x,1))'*(x.-mean(x,1))/9-A"
   ]
  },
  {
   "cell_type": "code",
   "execution_count": 99,
   "metadata": {
    "collapsed": false
   },
   "outputs": [
    {
     "data": {
      "text/plain": [
       "5x5 Array{Float64,2}:\n",
       "  1.0        0.211819    0.206847    0.220084   -0.582439 \n",
       "  0.211819   1.0        -0.260501    0.85349     0.0370168\n",
       "  0.206847  -0.260501    1.0         0.0947676  -0.245852 \n",
       "  0.220084   0.85349     0.0947676   1.0        -0.161889 \n",
       " -0.582439   0.0370168  -0.245852   -0.161889    1.0      "
      ]
     },
     "execution_count": 99,
     "metadata": {},
     "output_type": "execute_result"
    }
   ],
   "source": [
    "B=cor(x)"
   ]
  },
  {
   "cell_type": "code",
   "execution_count": 99,
   "metadata": {
    "collapsed": false
   },
   "outputs": [
    {
     "data": {
      "text/plain": [
       "5-element Array{Float64,1}:\n",
       " 2.84691\n",
       " 3.01617\n",
       " 3.20388\n",
       " 3.74964\n",
       " 3.13199"
      ]
     },
     "execution_count": 99,
     "metadata": {},
     "output_type": "execute_result"
    }
   ],
   "source": [
    "# Diagonal scaling\n",
    "D=1./sqrt(diag(A))"
   ]
  },
  {
   "cell_type": "code",
   "execution_count": 100,
   "metadata": {
    "collapsed": false
   },
   "outputs": [
    {
     "data": {
      "text/plain": [
       "5x5 Array{Float64,2}:\n",
       "  1.0         0.0536173   0.137736  0.135179  -0.542019\n",
       "  0.0536173   1.0        -0.277591  0.390363  -0.586434\n",
       "  0.137736   -0.277591    1.0       0.198677   0.310053\n",
       "  0.135179    0.390363    0.198677  1.0        0.099278\n",
       " -0.542019   -0.586434    0.310053  0.099278   1.0     "
      ]
     },
     "execution_count": 100,
     "metadata": {},
     "output_type": "execute_result"
    }
   ],
   "source": [
    "diagm(D)*A*diagm(D)"
   ]
  },
  {
   "cell_type": "code",
   "execution_count": 100,
   "metadata": {
    "collapsed": false
   },
   "outputs": [
    {
     "data": {
      "text/plain": [
       "5-element Array{Float64,1}:\n",
       " 0.00272879\n",
       " 0.0174803 \n",
       " 0.0435773 \n",
       " 0.0723713 \n",
       " 0.142682  "
      ]
     },
     "execution_count": 100,
     "metadata": {},
     "output_type": "execute_result"
    }
   ],
   "source": [
    "eigvals(A)"
   ]
  },
  {
   "cell_type": "code",
   "execution_count": 101,
   "metadata": {
    "collapsed": false
   },
   "outputs": [
    {
     "data": {
      "text/plain": [
       "5-element Array{Float64,1}:\n",
       " 0.0555429\n",
       " 0.421021 \n",
       " 0.849918 \n",
       " 1.62796  \n",
       " 2.04556  "
      ]
     },
     "execution_count": 101,
     "metadata": {},
     "output_type": "execute_result"
    }
   ],
   "source": [
    "eigvals(B)"
   ]
  },
  {
   "cell_type": "code",
   "execution_count": 102,
   "metadata": {
    "collapsed": false
   },
   "outputs": [
    {
     "data": {
      "text/plain": [
       "10x10 Array{Float64,2}:\n",
       "  0.0937079  -0.0344807   -0.0544001   …  -0.0193762    0.0333872 \n",
       " -0.0344807   0.0567337   -0.00606935      0.0115213   -0.0385668 \n",
       " -0.0544001  -0.00606935   0.0486827       0.0187048   -0.00309521\n",
       " -0.0395813   0.0176518    0.0187282      -0.0054811   -0.0170372 \n",
       "  0.0148351  -0.00792642  -0.00837282     -0.0116987    0.00626732\n",
       "  0.0254893   0.0527791   -0.0508411   …   0.00664316  -0.0277181 \n",
       " -0.0205673   0.00458519   0.0106467      -0.0156132   -0.00684161\n",
       "  0.0478836   0.00307668  -0.0336249       0.0319996    0.0074884 \n",
       " -0.0193762   0.0115213    0.0187048       0.0660107   -0.00514686\n",
       "  0.0333872  -0.0385668   -0.00309521     -0.00514686   0.0278933 "
      ]
     },
     "execution_count": 102,
     "metadata": {},
     "output_type": "execute_result"
    }
   ],
   "source": [
    "C=cov(x')"
   ]
  },
  {
   "cell_type": "code",
   "execution_count": 103,
   "metadata": {
    "collapsed": false
   },
   "outputs": [
    {
     "data": {
      "text/plain": [
       "10-element Array{Float64,1}:\n",
       " -2.91421e-17\n",
       " -1.08445e-17\n",
       " -8.07347e-18\n",
       " -4.48565e-18\n",
       " -1.35031e-18\n",
       "  6.09784e-18\n",
       "  0.00702865 \n",
       "  0.0936261  \n",
       "  0.166772   \n",
       "  0.225361   "
      ]
     },
     "execution_count": 103,
     "metadata": {},
     "output_type": "execute_result"
    }
   ],
   "source": [
    "eigvals(C)"
   ]
  },
  {
   "cell_type": "code",
   "execution_count": 104,
   "metadata": {
    "collapsed": false
   },
   "outputs": [
    {
     "data": {
      "text/plain": [
       "3-element Array{Int64,1}:\n",
       " 5\n",
       " 5\n",
       " 0"
      ]
     },
     "execution_count": 104,
     "metadata": {},
     "output_type": "execute_result"
    }
   ],
   "source": [
    "inertia(C)"
   ]
  },
  {
   "cell_type": "code",
   "execution_count": 114,
   "metadata": {
    "collapsed": false
   },
   "outputs": [
    {
     "data": {
      "text/html": [
       "rank(A::<b>AbstractArray{T,2}</b>) at <a href=\"https://github.com/JuliaLang/julia/tree/2ac304dfba75fad148d4070ef4f8a2e400c305bb/base/linalg/generic.jl#L298\" target=\"_blank\">linalg/generic.jl:298</a>"
      ],
      "text/plain": [
       "rank(A::AbstractArray{T,2}) at linalg/generic.jl:298"
      ]
     },
     "execution_count": 114,
     "metadata": {},
     "output_type": "execute_result"
    }
   ],
   "source": [
    "@which rank(C)"
   ]
  },
  {
   "cell_type": "markdown",
   "metadata": {},
   "source": [
    "Explain the function `rank()`."
   ]
  },
  {
   "cell_type": "code",
   "execution_count": null,
   "metadata": {
    "collapsed": true
   },
   "outputs": [],
   "source": []
  }
 ],
 "metadata": {
  "kernelspec": {
   "display_name": "Julia 0.4.5",
   "language": "julia",
   "name": "julia-0.4"
  },
  "language_info": {
   "file_extension": ".jl",
   "mimetype": "application/julia",
   "name": "julia",
   "version": "0.4.5"
  }
 },
 "nbformat": 4,
 "nbformat_minor": 0
}
