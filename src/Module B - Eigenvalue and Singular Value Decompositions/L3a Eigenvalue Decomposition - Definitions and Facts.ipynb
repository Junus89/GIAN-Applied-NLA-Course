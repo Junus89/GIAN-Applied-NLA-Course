{
 "cells": [
  {
   "cell_type": "markdown",
   "metadata": {},
   "source": [
    "# Eigenvalue Decomposition - Definitions and Facts\n",
    "\n",
    "---\n",
    "\n",
    "## Prerequisites\n",
    "\n",
    "The reader should be familiar with basic linear algebra concepts. \n",
    "\n",
    " \n",
    "## Competences \n",
    "\n",
    "The reader should be able to undestand and check the facts about eigenvalue decomposition.\n",
    "\n",
    "## Selected references\n",
    "\n",
    "There are many excellent books on the subject. Here we list a few:\n",
    "\n",
    "[J. W. Demmel, Applied Numerical Linear Algebra][Dem97]\n",
    "\n",
    "[G. H. Golub and C. F. Van Loan, Matrix Computations][GV13]\n",
    "\n",
    "[N. Higham, Accuracy and Stability of Numerical Algorithms][Hig02]\n",
    "\n",
    "[L. Hogben, ed., Handbook of Linear Algebra][Hog14]\n",
    "\n",
    "[B. N. Parlett, The Symmetric Eigenvalue Problem][Par80]\n",
    "\n",
    "[G. W. Stewart, Matrix Algorithms, Vol. II: Eigensystems][Ste01]\n",
    "\n",
    "[L. N. Trefethen and D. Bau, III, Numerical Linear Algebra][TB97]\n",
    "\n",
    "[J. H. Wilkinson, The Algebraic Eigenvalue Problem][Wil65]\n",
    "\n",
    "\n",
    "[Dem97]: #1 \"J.W. Demmel, 'Applied Numerical Linear Algebra', SIAM, Philadelphia, 1997.\"\n",
    "  \n",
    "[GV13]: #1 \"G. H. Golub and C. F. Van Loan, 'Matrix Computations', 4th ed., The John Hopkins University Press, Baltimore, MD, 2013.\"\n",
    "  \n",
    "[Hig02]: #1 \"N. Higham, 'Accuracy and Stability of Numerical Algorithms', SIAM, Philadelphia, 2nd ed., 2002.\"\n",
    "    \n",
    "[Hog14]: #1 \"L. Hogben, ed., 'Handbook of Linear Algebra', CRC Press, Boca Raton, 2014.\"\n",
    "\n",
    "[Par80]: #1 \"B. N. Parlett, 'The Symmetric Eigenvalue Problem', Prentice-Hall, Englewood Cliffs, NJ, 1980, also SIAM, Philadelphia, 1998.\"\n",
    "\n",
    "[Ste01]: #1 \"G. W. Stewart, 'Matrix Algorithms, Vol. II: Eigensystems', SIAM, Philadelphia, 2001.\" \n",
    "\n",
    "[TB97]: #1 \"L. N. Trefethen and D. Bau, III, 'Numerical Linear Algebra', SIAM, Philadelphia, 1997.\"\n",
    "\n",
    "[Wil65]: #1 \"J. H. Wilkinson, 'The Algebraic Eigenvalue Problem', Clarendon Press, Oxford, U.K.,  1965.\"\n",
    "    \n",
    "\n",
    "---"
   ]
  },
  {
   "cell_type": "markdown",
   "metadata": {},
   "source": [
    "## General matrices\n",
    "\n",
    "For more details and the proofs of the Facts below, see \n",
    "[L. M. DeAlba, Determinants and Eigenvalues][Hog14] and the references therein.\n",
    "\n",
    "[Hog14]: #1 \"L. Hogben, ed., 'Handbook of Linear Algebra', pp. 4.1-4.15, CRC Press, Boca Raton, 2014.\"\n",
    "\n",
    "### Definitions\n",
    "\n",
    "We state the basic definitions:\n",
    "\n",
    "Let $F=\\mathbb{R}$ or $F=\\mathbb{C}$ and let $A\\in F^{n\\times n}$ with elements $a_{ij}\\in F$.\n",
    "\n",
    "An element $\\lambda \\in F$ is an __eigenvalue__ of $A$ if\n",
    "$\\exists x\\in F$, $x\\neq 0$ such that\n",
    "\n",
    "$$\n",
    "Ax=\\lambda x,\n",
    "$$\n",
    "and $x$ is an __eigenvector__ of $\\lambda$.\n",
    "\n",
    "__Characteristic polynomial__ of $A$ is $p_A(x)=\\det(A-xI)$.\n",
    "\n",
    "__Algebraic multiplicty__, $\\alpha(\\lambda)$, is the multiplicity of $\\lambda$ as a root of $p_A(x)$.\n",
    "\n",
    "__Spectrum of $A$__, $\\sigma(A)$, is the multiset of all eigenvalues of $A$, with each eigenvalue appearing $\\alpha(A)$ times.\n",
    "\n",
    "__Spectral radius__ of $A$ is \n",
    "$$\\rho(A)=\\max\\{|\\lambda|, \\lambda \\in \\sigma(A)\\}.\n",
    "$$\n",
    "\n",
    "__Eigenspace__ of $\\lambda$ is \n",
    "\n",
    "$$\n",
    "E_{\\lambda}(A)=\\ker(A-\\lambda I).\n",
    "$$\n",
    "\n",
    "__Geometric multiplicity__ of $\\lambda$ is \n",
    "$$\\gamma(\\lambda)=\\dim(E_{\\lambda}(A)).\n",
    "$$\n",
    "\n",
    "$\\lambda$ is __simple__ if $\\alpha(\\lambda)=1$.\n",
    "\n",
    "$\\lambda$ is __semisimple__ if $\\alpha(\\lambda)=\\gamma(\\lambda)$.\n",
    "\n",
    "$A$ is __nonderogatory__ if $\\gamma(\\lambda)=1$ for all $\\lambda$.\n",
    "\n",
    "$A$ is __nondefective__ if every $\\lambda$ is semisimple.\n",
    "\n",
    "$A$ is __diagonalizable__ if there exists nonsingular $B$ matrix and diagonal matrix $D$ such that\n",
    "$A=BDB^{-1}$.\n",
    "\n",
    "__Trace__ of $A$ is \n",
    "$$\\mathop{\\mathrm{tr}}(A)=\\sum_i a_{ii}.$$\n",
    "\n",
    "$Q\\in\\mathbb{C}^{n\\times n}$ is __unitary__ if $Q^*Q=QQ^*=I$,\n",
    "where $Q^*=(\\bar Q)^T$.\n",
    "\n",
    "__Schur decomposition__ of $A$ is $A=QTQ^*$,\n",
    "where $Q$ is unitary and $T$ is upper triangular.\n",
    "\n",
    "$A$ and $B$ are __similar__ if $B=QAQ^{-1}$ for some nonsingular matrix $Q$.\n",
    "\n",
    "$A$ is __normal__ if $AA^*=A^*A$. "
   ]
  },
  {
   "cell_type": "markdown",
   "metadata": {},
   "source": [
    "### Facts\n",
    "\n",
    "There are many facts related to the eigenvalue problem for general matrices. We state some basic ones:\n",
    "\n",
    "1. $\\lambda\\in\\sigma(A) \\Leftrightarrow p_A(\\lambda)=0$.\n",
    "\n",
    "1. $p_A(A)=0$. _(Cayley-Hamilton Theorem)_\n",
    "\n",
    "2. A simple eigenvalue is semisimple.\n",
    "\n",
    "3. $\\mathop{\\mathrm{tr}}(A)=\\sum_{i=1}^n \\lambda_i$.\n",
    "\n",
    "4. $\\det(A)=\\prod_{i=1}^n \\lambda_i$.\n",
    "\n",
    "5. $A$ is singular $\\Leftrightarrow$ $\\det(A)=0$ $\\Leftrightarrow$ $0\\in\\sigma(A)$.\n",
    "\n",
    "7. If $A$ is triangular, $\\sigma(A)=\\{a_{11},a_{22},\\ldots,a_{nn}\\}$.\n",
    "\n",
    "6. For $A\\in\\mathbb{C}^{n\\times n}$, $\\lambda\\in\\sigma(A)$ $\\Leftrightarrow$ $\\bar\\lambda\\in\\sigma(A^*)$.\n",
    "\n",
    "8. For $A\\in\\mathbb{R}^{n\\times n}$, $\\lambda\\in\\sigma(A)$ $\\Leftrightarrow$ $\\bar\\lambda\\in\\sigma(A)$. _(Corollary of the Fundamental theorem of algebra)_\n",
    "\n",
    "9. If $(\\lambda,x)$ is an eigenpair of a nonsingular $A$, then $(1/\\lambda,x)$ is an eigenpair of $A^{-1}$.\n",
    "\n",
    "10. Eigenvectors corresponding to distinct eigenvalues are linearly independent.\n",
    "\n",
    "11. $A$ is diagonalizable $\\Leftrightarrow$ $A$ is nondefective $\\Leftrightarrow$ $A$ has $n$ linearly independent eigenvectors. \n",
    "\n",
    "12. Every $A$ has Schur decomposition. Moreover, $T_{ii}=\\lambda_i$.\n",
    "\n",
    "14. If $A$ is normal, matrix $T$ from its Schur decomposition is normal. Consequently:\n",
    "    * $T$ is diagonal, and has eigenvalues of $A$ on diagonal,\n",
    "    * matrix $Q$ of the Schur decomposition is the unitary matrix of eigenvectors,\n",
    "    * all eigenvalues of $A$ are semisimple and $A$ is nondefective.\n",
    "\n",
    "13. If $A$ and $B$ are similar, $\\sigma(A)=\\sigma(B)$. Consequently, $\\mathop{\\mathrm{tr}}(A)=\\mathop{\\mathrm{tr}}(B)$ and $\\det(A)=\\det(B)$.\n",
    "\n",
    "11. Eigenvalues and eigenvectors are continous and differentiable: if $\\lambda$ is a simple eigenvalue of $A$ and $A(\\varepsilon)=A+\\varepsilon E$ for some $E\\in F^{n\\times n}$, for small $\\varepsilon$ there exist differentiable functions $\\lambda(\\varepsilon)$ and $x(\\varepsilon)$ such that\n",
    "$$\n",
    "A(\\varepsilon) x(\\varepsilon) = \\lambda(\\varepsilon) x(\\varepsilon).\n",
    "$$\n",
    "\n",
    "15. Classical motivation for the eigenvalue problem is the following: consider the system of linear differential equations with constant coefficients,\n",
    "$$ \\dot y(t)=Ay(t).$$ If the solution is $y=e^{\\lambda t} x$ for some constant vector $x$, then\n",
    "$\\lambda e^{\\lambda t} x=Ae^{\\lambda t} x$, or $Ax=\\lambda x$.\n"
   ]
  },
  {
   "cell_type": "markdown",
   "metadata": {},
   "source": [
    "### Examples\n",
    "\n",
    "We shall illustrate above Definitions and Facts on several small examples, using symbolic computation:"
   ]
  },
  {
   "cell_type": "code",
   "execution_count": 1,
   "metadata": {
    "collapsed": false
   },
   "outputs": [],
   "source": [
    "using SymPy"
   ]
  },
  {
   "cell_type": "code",
   "execution_count": 2,
   "metadata": {
    "collapsed": false
   },
   "outputs": [
    {
     "data": {
      "text/plain": [
       "3x3 Array{Int64,2}:\n",
       " -3    7  -1\n",
       "  6    8  -2\n",
       " 72  -28  19"
      ]
     },
     "execution_count": 2,
     "metadata": {},
     "output_type": "execute_result"
    }
   ],
   "source": [
    "A=[-3 7 -1; 6 8 -2; 72 -28 19]"
   ]
  },
  {
   "cell_type": "code",
   "execution_count": 3,
   "metadata": {
    "collapsed": false
   },
   "outputs": [
    {
     "data": {
      "text/plain": [
       "(x,)"
      ]
     },
     "execution_count": 3,
     "metadata": {},
     "output_type": "execute_result"
    }
   ],
   "source": [
    "@vars x"
   ]
  },
  {
   "cell_type": "code",
   "execution_count": 4,
   "metadata": {
    "collapsed": false
   },
   "outputs": [
    {
     "data": {
      "text/latex": [
       "\\begin{bmatrix}- x - 3&7&-1\\\\6&- x + 8&-2\\\\72&-28&- x + 19\\end{bmatrix}"
      ],
      "text/plain": [
       "3x3 Array{SymPy.Sym,2}\n",
       "⎡-x - 3    7       -1   ⎤\n",
       "⎢                       ⎥\n",
       "⎢  6     -x + 8    -2   ⎥\n",
       "⎢                       ⎥\n",
       "⎣  72     -28    -x + 19⎦"
      ]
     },
     "execution_count": 4,
     "metadata": {},
     "output_type": "execute_result"
    }
   ],
   "source": [
    "A-x*I"
   ]
  },
  {
   "cell_type": "code",
   "execution_count": 5,
   "metadata": {
    "collapsed": false
   },
   "outputs": [
    {
     "data": {
      "text/latex": [
       "$$\\left(- x - 3\\right) \\left(- x + 8 - \\frac{42}{- x - 3}\\right) \\left(- x - \\frac{\\left(-28 - \\frac{504}{- x - 3}\\right) \\left(-2 + \\frac{6}{- x - 3}\\right)}{- x + 8 - \\frac{42}{- x - 3}} + 19 + \\frac{72}{- x - 3}\\right)$$"
      ],
      "text/plain": [
       "                           ⎛     ⎛       504  ⎞ ⎛       6   ⎞              ⎞\n",
       "                           ⎜     ⎜-28 - ──────⎟⋅⎜-2 + ──────⎟              ⎟\n",
       "         ⎛           42  ⎞ ⎜     ⎝      -x - 3⎠ ⎝     -x - 3⎠          72  ⎟\n",
       "(-x - 3)⋅⎜-x + 8 - ──────⎟⋅⎜-x - ──────────────────────────── + 19 + ──────⎟\n",
       "         ⎝         -x - 3⎠ ⎜                      42                 -x - 3⎟\n",
       "                           ⎜           -x + 8 - ──────                     ⎟\n",
       "                           ⎝                    -x - 3                     ⎠"
      ]
     },
     "execution_count": 5,
     "metadata": {},
     "output_type": "execute_result"
    }
   ],
   "source": [
    "# Characteristic polynomial p_A(λ)\n",
    "p(x)=det(A-x*I)\n",
    "p(x)"
   ]
  },
  {
   "cell_type": "code",
   "execution_count": 6,
   "metadata": {
    "collapsed": false
   },
   "outputs": [
    {
     "data": {
      "text/latex": [
       "$$- \\left(x - 15\\right)^{2} \\left(x + 6\\right)$$"
      ],
      "text/plain": [
       "         2        \n",
       "-(x - 15) ⋅(x + 6)"
      ]
     },
     "execution_count": 6,
     "metadata": {},
     "output_type": "execute_result"
    }
   ],
   "source": [
    "# Characteristic polynomial in nicer form\n",
    "p(x)=factor(det(A-x*I))\n",
    "p(x)"
   ]
  },
  {
   "cell_type": "code",
   "execution_count": 7,
   "metadata": {
    "collapsed": false
   },
   "outputs": [
    {
     "data": {
      "text/latex": [
       "\\begin{bmatrix}-6\\\\15\\end{bmatrix}"
      ],
      "text/plain": [
       "2-element Array{SymPy.Sym,1}\n",
       "⎡-6⎤\n",
       "⎢  ⎥\n",
       "⎣15⎦"
      ]
     },
     "execution_count": 7,
     "metadata": {},
     "output_type": "execute_result"
    }
   ],
   "source": [
    "λ=solve(p(x),x)"
   ]
  },
  {
   "cell_type": "markdown",
   "metadata": {},
   "source": [
    "The eigenvalues are $\\lambda_1=-6$ and $\\lambda_2=15$ with algebraic multiplicities\n",
    "$\\alpha(\\lambda_1)=1$ and $\\alpha(\\lambda_2)=2$."
   ]
  },
  {
   "cell_type": "code",
   "execution_count": 8,
   "metadata": {
    "collapsed": false
   },
   "outputs": [
    {
     "data": {
      "text/plain": [
       "1-element Array{Any,1}:\n",
       " SymPy.SymMatrix(PyObject Matrix([\n",
       "[-1/4],\n",
       "[ 1/4],\n",
       "[   1]]))"
      ]
     },
     "execution_count": 8,
     "metadata": {},
     "output_type": "execute_result"
    }
   ],
   "source": [
    "g=nullspace(A-λ[1]*I)"
   ]
  },
  {
   "cell_type": "code",
   "execution_count": 9,
   "metadata": {
    "collapsed": false
   },
   "outputs": [
    {
     "data": {
      "text/plain": [
       "1-element Array{Any,1}:\n",
       " SymPy.SymMatrix(PyObject Matrix([\n",
       "[-1/4],\n",
       "[-1/2],\n",
       "[   1]]))"
      ]
     },
     "execution_count": 9,
     "metadata": {},
     "output_type": "execute_result"
    }
   ],
   "source": [
    "h=nullspace(A-λ[2]*I)"
   ]
  },
  {
   "cell_type": "markdown",
   "metadata": {},
   "source": [
    "The geometric multiplicities are $\\gamma(\\lambda_1)=1$ and $\\gamma(\\lambda_2)=1$. Thus, $\\lambda_2$ is not semisimple, therefore $A$ is defective and not diagonalizable."
   ]
  },
  {
   "cell_type": "code",
   "execution_count": 10,
   "metadata": {
    "collapsed": false
   },
   "outputs": [
    {
     "data": {
      "text/plain": [
       "(24,24)"
      ]
     },
     "execution_count": 10,
     "metadata": {},
     "output_type": "execute_result"
    }
   ],
   "source": [
    "# Traace and determinant\n",
    "trace(A), λ[1]+λ[2]+λ[2]"
   ]
  },
  {
   "cell_type": "code",
   "execution_count": 11,
   "metadata": {
    "collapsed": false
   },
   "outputs": [
    {
     "data": {
      "text/plain": [
       "(-1350.0000000000002,-1350)"
      ]
     },
     "execution_count": 11,
     "metadata": {},
     "output_type": "execute_result"
    }
   ],
   "source": [
    "det(A), λ[1]*λ[2]*λ[2]"
   ]
  },
  {
   "cell_type": "code",
   "execution_count": 12,
   "metadata": {
    "collapsed": false
   },
   "outputs": [
    {
     "data": {
      "text/plain": [
       "(\n",
       "3x3 Array{Float64,2}:\n",
       " -6.0  25.4662       -72.2009\n",
       "  0.0  15.0          -12.0208\n",
       "  0.0   1.48587e-15   15.0   ,\n",
       "\n",
       "3x3 Array{Float64,2}:\n",
       " -0.235702  -0.0571662  -0.970143   \n",
       "  0.235702  -0.971825   -5.90663e-16\n",
       "  0.942809   0.228665   -0.242536   ,\n",
       "\n",
       "Complex{Float64}[-6.000000000000002 + 0.0im,14.999999999999988 + 1.3364652075324566e-7im,14.999999999999988 - 1.3364652075324566e-7im])"
      ]
     },
     "execution_count": 12,
     "metadata": {},
     "output_type": "execute_result"
    }
   ],
   "source": [
    "# Schur decomposition\n",
    "T,Q=schur(A)"
   ]
  },
  {
   "cell_type": "code",
   "execution_count": 13,
   "metadata": {
    "collapsed": false
   },
   "outputs": [
    {
     "name": "stdout",
     "output_type": "stream",
     "text": [
      "[-6.000000000000002,14.999999999999988,14.999999999999988]\n"
     ]
    }
   ],
   "source": [
    "println(diag(T))"
   ]
  },
  {
   "cell_type": "code",
   "execution_count": 14,
   "metadata": {
    "collapsed": false
   },
   "outputs": [
    {
     "data": {
      "text/plain": [
       "(\n",
       "3x3 Array{Float64,2}:\n",
       " 1.0          1.11022e-16  2.77556e-17\n",
       " 1.11022e-16  1.0          1.52656e-16\n",
       " 2.77556e-17  1.52656e-16  1.0        ,\n",
       "\n",
       "3x3 Array{Float64,2}:\n",
       " 1.0          1.35877e-16  0.0        \n",
       " 1.35877e-16  1.0          3.22346e-17\n",
       " 0.0          3.22346e-17  1.0        )"
      ]
     },
     "execution_count": 14,
     "metadata": {},
     "output_type": "execute_result"
    }
   ],
   "source": [
    "Q'*Q, Q*Q'"
   ]
  },
  {
   "cell_type": "code",
   "execution_count": 15,
   "metadata": {
    "collapsed": false
   },
   "outputs": [
    {
     "data": {
      "text/plain": [
       "(Complex{Float64}[-6.000000000000011 + 0.0im,14.999999999999954 + 6.930745425917734e-7im,14.999999999999954 - 6.930745425917734e-7im],24.0,-1350.0000000000027)"
      ]
     },
     "execution_count": 15,
     "metadata": {},
     "output_type": "execute_result"
    }
   ],
   "source": [
    "# Similar matrices\n",
    "M=rand(-5:5,3,3)\n",
    "B=M*A*inv(M)\n",
    "eigvals(B), trace(B), det(B)"
   ]
  },
  {
   "cell_type": "markdown",
   "metadata": {},
   "source": [
    "### Example\n",
    "\n",
    "This matrix is nondefective and diagonalizable."
   ]
  },
  {
   "cell_type": "code",
   "execution_count": 16,
   "metadata": {
    "collapsed": false
   },
   "outputs": [
    {
     "data": {
      "text/plain": [
       "3x3 Array{Int64,2}:\n",
       "   57  -21   21\n",
       "  -14   22   -7\n",
       " -140   70  -55"
      ]
     },
     "execution_count": 16,
     "metadata": {},
     "output_type": "execute_result"
    }
   ],
   "source": [
    "A=[57 -21 21; -14 22 -7; -140 70 -55]"
   ]
  },
  {
   "cell_type": "code",
   "execution_count": 17,
   "metadata": {
    "collapsed": false
   },
   "outputs": [
    {
     "data": {
      "text/latex": [
       "$$- \\left(x - 15\\right)^{2} \\left(x + 6\\right)$$"
      ],
      "text/plain": [
       "         2        \n",
       "-(x - 15) ⋅(x + 6)"
      ]
     },
     "execution_count": 17,
     "metadata": {},
     "output_type": "execute_result"
    }
   ],
   "source": [
    "p(x)=factor(det(A-x*I))\n",
    "p(x)"
   ]
  },
  {
   "cell_type": "code",
   "execution_count": 18,
   "metadata": {
    "collapsed": false
   },
   "outputs": [
    {
     "data": {
      "text/latex": [
       "\\begin{bmatrix}-6\\\\15\\end{bmatrix}"
      ],
      "text/plain": [
       "2-element Array{SymPy.Sym,1}\n",
       "⎡-6⎤\n",
       "⎢  ⎥\n",
       "⎣15⎦"
      ]
     },
     "execution_count": 18,
     "metadata": {},
     "output_type": "execute_result"
    }
   ],
   "source": [
    "λ=solve(p(x),x)"
   ]
  },
  {
   "cell_type": "code",
   "execution_count": 19,
   "metadata": {
    "collapsed": false
   },
   "outputs": [
    {
     "data": {
      "text/plain": [
       "2-element Array{Any,1}:\n",
       " \n",
       "⎡1/2⎤\n",
       "⎢   ⎥\n",
       "⎢ 1 ⎥\n",
       "⎢   ⎥\n",
       "⎣ 0 ⎦     \n",
       " \n",
       "⎡-1/2⎤\n",
       "⎢    ⎥\n",
       "⎢ 0  ⎥\n",
       "⎢    ⎥\n",
       "⎣ 1  ⎦"
      ]
     },
     "execution_count": 19,
     "metadata": {},
     "output_type": "execute_result"
    }
   ],
   "source": [
    "h=nullspace(A-λ[2]*I)"
   ]
  },
  {
   "cell_type": "markdown",
   "metadata": {},
   "source": [
    "### Example\n",
    "\n",
    "Let us try some random examples of dimension $n=4$ (the largest $n$ for which we can compute eigevalues symbolically)."
   ]
  },
  {
   "cell_type": "code",
   "execution_count": 24,
   "metadata": {
    "collapsed": false
   },
   "outputs": [
    {
     "data": {
      "text/plain": [
       "4x4 Array{Int64,2}:\n",
       "  2  -3   0  -1\n",
       "  4   4   4   4\n",
       " -1  -2   2  -4\n",
       " -3  -1  -3  -1"
      ]
     },
     "execution_count": 24,
     "metadata": {},
     "output_type": "execute_result"
    }
   ],
   "source": [
    "A=rand(-4:4,4,4)"
   ]
  },
  {
   "cell_type": "code",
   "execution_count": 25,
   "metadata": {
    "collapsed": false
   },
   "outputs": [
    {
     "data": {
      "text/latex": [
       "$$\\left(x - 1\\right) \\left(x^{3} - 6 x^{2} + 15 x - 16\\right)$$"
      ],
      "text/plain": [
       "        ⎛ 3      2            ⎞\n",
       "(x - 1)⋅⎝x  - 6⋅x  + 15⋅x - 16⎠"
      ]
     },
     "execution_count": 25,
     "metadata": {},
     "output_type": "execute_result"
    }
   ],
   "source": [
    "p(x)=factor(det(A-x*I))\n",
    "p(x)"
   ]
  },
  {
   "cell_type": "code",
   "execution_count": 26,
   "metadata": {
    "collapsed": false
   },
   "outputs": [
    {
     "data": {
      "text/latex": [
       "\\begin{bmatrix}1\\\\2 + \\left(- \\frac{1}{2} - \\frac{\\sqrt{3} i}{2}\\right) \\sqrt[3]{1 + \\sqrt{2}} - \\frac{1}{\\left(- \\frac{1}{2} - \\frac{\\sqrt{3} i}{2}\\right) \\sqrt[3]{1 + \\sqrt{2}}}\\\\2 - \\frac{1}{\\left(- \\frac{1}{2} + \\frac{\\sqrt{3} i}{2}\\right) \\sqrt[3]{1 + \\sqrt{2}}} + \\left(- \\frac{1}{2} + \\frac{\\sqrt{3} i}{2}\\right) \\sqrt[3]{1 + \\sqrt{2}}\\\\- \\frac{1}{\\sqrt[3]{1 + \\sqrt{2}}} + \\sqrt[3]{1 + \\sqrt{2}} + 2\\end{bmatrix}"
      ],
      "text/plain": [
       "4-element Array{SymPy.Sym,1}\n",
       "⎡                                 1                                 ⎤\n",
       "⎢                                                                   ⎥\n",
       "⎢    ⎛        ___  ⎞    ___________                                 ⎥\n",
       "⎢    ⎜  1   ╲╱ 3 ⋅ⅈ⎟ 3 ╱       ___                  1               ⎥\n",
       "⎢2 + ⎜- ─ - ───────⎟⋅╲╱  1 + ╲╱ 2   - ──────────────────────────────⎥\n",
       "⎢    ⎝  2      2   ⎠                  ⎛        ___  ⎞    ___________⎥\n",
       "⎢                                     ⎜  1   ╲╱ 3 ⋅ⅈ⎟ 3 ╱       ___ ⎥\n",
       "⎢                                     ⎜- ─ - ───────⎟⋅╲╱  1 + ╲╱ 2  ⎥\n",
       "⎢                                     ⎝  2      2   ⎠               ⎥\n",
       "⎢                                                                   ⎥\n",
       "⎢                                     ⎛        ___  ⎞    ___________⎥\n",
       "⎢                  1                  ⎜  1   ╲╱ 3 ⋅ⅈ⎟ 3 ╱       ___ ⎥\n",
       "⎢2 - ────────────────────────────── + ⎜- ─ + ───────⎟⋅╲╱  1 + ╲╱ 2  ⎥\n",
       "⎢    ⎛        ___  ⎞    ___________   ⎝  2      2   ⎠               ⎥\n",
       "⎢    ⎜  1   ╲╱ 3 ⋅ⅈ⎟ 3 ╱       ___                                  ⎥\n",
       "⎢    ⎜- ─ + ───────⎟⋅╲╱  1 + ╲╱ 2                                   ⎥\n",
       "⎢    ⎝  2      2   ⎠                                                ⎥\n",
       "⎢                                                                   ⎥\n",
       "⎢                                     ___________                   ⎥\n",
       "⎢                       1          3 ╱       ___                    ⎥\n",
       "⎢               - ────────────── + ╲╱  1 + ╲╱ 2   + 2               ⎥\n",
       "⎢                    ___________                                    ⎥\n",
       "⎢                 3 ╱       ___                                     ⎥\n",
       "⎣                 ╲╱  1 + ╲╱ 2                                      ⎦"
      ]
     },
     "execution_count": 26,
     "metadata": {},
     "output_type": "execute_result"
    }
   ],
   "source": [
    "λ=solve(p(x),x)"
   ]
  },
  {
   "cell_type": "code",
   "execution_count": 27,
   "metadata": {
    "collapsed": false,
    "scrolled": true
   },
   "outputs": [
    {
     "data": {
      "text/plain": [
       "4"
      ]
     },
     "execution_count": 27,
     "metadata": {},
     "output_type": "execute_result"
    }
   ],
   "source": [
    "length(λ)"
   ]
  },
  {
   "cell_type": "markdown",
   "metadata": {},
   "source": [
    "Since all eigenvalues are distinct, they are all simple and the matrix is diagonalizable. \n",
    "With high probability, all eigenvalues of a random matrix are simple.\n",
    "\n",
    "Do not try to use `nullspace()` here."
   ]
  },
  {
   "cell_type": "code",
   "execution_count": 28,
   "metadata": {
    "collapsed": false
   },
   "outputs": [
    {
     "data": {
      "text/latex": [
       "$$\\frac{1}{\\left(1.0 x - 0.263555114562084\\right)^{2} \\left(1.0 x^{2} - 0.30049008937489 x - 0.0273043578708192\\right)} \\left(1.0 x^{8} - 1.62663978871787 x^{7} - 0.339075399289029 x^{6} + 0.70877707545021 x^{5} - 0.0778450027743191 x^{4} - 0.0655469364577285 x^{3} + 0.0154288210353329 x^{2} - 0.000175651445783445 x - 0.00011711749455505\\right)$$"
      ],
      "text/plain": [
       "    ⎛     8                           7                         6             \n",
       "1.0⋅⎝1.0⋅x  - -1.62663978871787⋅(-1)⋅x  - - -0.339075399289029⋅x  + 0.70877707\n",
       "──────────────────────────────────────────────────────────────────────────────\n",
       "                                                                              \n",
       "                                                                   (1.0⋅x - 0.\n",
       "\n",
       "        5                          4                          3               \n",
       "545021⋅x  - - -0.0778450027743191⋅x  - - -0.0655469364577285⋅x  + 0.0154288210\n",
       "──────────────────────────────────────────────────────────────────────────────\n",
       "                2 ⎛     2                                             ⎞       \n",
       "263555114562084) ⋅⎝1.0⋅x  - - -0.30049008937489⋅x - 0.0273043578708192⎠       \n",
       "\n",
       "        2                                                  ⎞\n",
       "353329⋅x  - - -0.000175651445783445⋅x - 0.00011711749455505⎠\n",
       "────────────────────────────────────────────────────────────\n",
       "                                                            \n",
       "                                                            "
      ]
     },
     "execution_count": 28,
     "metadata": {},
     "output_type": "execute_result"
    }
   ],
   "source": [
    "A=rand(4,4)\n",
    "p(x)=factor(det(A-x*I))\n",
    "p(x)"
   ]
  },
  {
   "cell_type": "markdown",
   "metadata": {
    "collapsed": false
   },
   "source": [
    "In this case, symbolic computation does not work well with floating-point numbers - the degree of $p_A(x)$ is 8 instead of 4.\n",
    "\n",
    "Let us try `Rational` numbers:"
   ]
  },
  {
   "cell_type": "code",
   "execution_count": 29,
   "metadata": {
    "collapsed": false
   },
   "outputs": [
    {
     "data": {
      "text/plain": [
       "4x4 Array{Rational{Int64},2}:\n",
       " 296736678933347//1125899906842624  …    56345917898845//281474976710656 \n",
       " 504995735251837//4503599627370496     1394131076186331//2251799813685248\n",
       " 286254169702517//2251799813685248     2155038037278727//2251799813685248\n",
       " 390900094312213//2251799813685248      174231544225239//1125899906842624"
      ]
     },
     "execution_count": 29,
     "metadata": {},
     "output_type": "execute_result"
    }
   ],
   "source": [
    "A=map(Rational,A)"
   ]
  },
  {
   "cell_type": "code",
   "execution_count": 30,
   "metadata": {
    "collapsed": false
   },
   "outputs": [
    {
     "data": {
      "text/latex": [
       "$$\\frac{1}{205688069665150755269371147819668813122841983204197482918576128} \\left(205688069665150755269371147819668813122841983204197482918576128 x^{4} - 164352886215571686305364417628397093390279338006148634640384000 x^{3} - 247012666340568545150982195693695276268946864549132210259623936 x^{2} - 24347210370849805898078822772283218593971411673320316156772352 x + 12701529199529174170732747558689681387950831386281988193750793\\right)$$"
      ],
      "text/plain": [
       "                                                                 4            \n",
       "205688069665150755269371147819668813122841983204197482918576128⋅x  - 164352886\n",
       "──────────────────────────────────────────────────────────────────────────────\n",
       "                                                                              \n",
       "\n",
       "                                                        3                     \n",
       "215571686305364417628397093390279338006148634640384000⋅x  - 247012666340568545\n",
       "──────────────────────────────────────────────────────────────────────────────\n",
       "                                                          20568806966515075526\n",
       "\n",
       "                                               2                              \n",
       "150982195693695276268946864549132210259623936⋅x  - 243472103708498058980788227\n",
       "──────────────────────────────────────────────────────────────────────────────\n",
       "9371147819668813122841983204197482918576128                                   \n",
       "\n",
       "                                                                              \n",
       "72283218593971411673320316156772352⋅x + 12701529199529174170732747558689681387\n",
       "──────────────────────────────────────────────────────────────────────────────\n",
       "                                                                              \n",
       "\n",
       "                        \n",
       "950831386281988193750793\n",
       "────────────────────────\n",
       "                        "
      ]
     },
     "execution_count": 30,
     "metadata": {},
     "output_type": "execute_result"
    }
   ],
   "source": [
    "p(x)=factor(det(A-x*I))\n",
    "p(x)"
   ]
  },
  {
   "cell_type": "code",
   "execution_count": 31,
   "metadata": {
    "collapsed": false
   },
   "outputs": [
    {
     "data": {
      "text/latex": [
       "\\begin{bmatrix}\\frac{1799276930165875}{9007199254740992} - \\frac{1}{2} \\sqrt{\\frac{58426851306900569087122830082609}{60847228810955011271841753858048} + \\frac{781389906088581596965144948083615756580845595357992290988631471}{7404770507945427189697361321508077272422311395351109385068740608 \\sqrt[3]{\\frac{36216436644694324162408061027070252367804281756262404084560642136979563790277595446519022039215}{3604478123116535764041599129161119193392063881476851549285632713199995787254830928163748521705472} + \\frac{\\sqrt{66304803987232194619133523012995082149193426205857301374092897876591338363151985575973039392519141462622028051628327368596146394190109830586854894965107048135259805625539353226054674242691} i}{1201492707705511921347199709720373064464021293825617183095210904399998595751610309387916173901824}}} + 2 \\sqrt[3]{\\frac{36216436644694324162408061027070252367804281756262404084560642136979563790277595446519022039215}{3604478123116535764041599129161119193392063881476851549285632713199995787254830928163748521705472} + \\frac{\\sqrt{66304803987232194619133523012995082149193426205857301374092897876591338363151985575973039392519141462622028051628327368596146394190109830586854894965107048135259805625539353226054674242691} i}{1201492707705511921347199709720373064464021293825617183095210904399998595751610309387916173901824}}} - \\frac{1}{2} \\sqrt{\\frac{58426851306900569087122830082609}{30423614405477505635920876929024} - 2 \\sqrt[3]{\\frac{36216436644694324162408061027070252367804281756262404084560642136979563790277595446519022039215}{3604478123116535764041599129161119193392063881476851549285632713199995787254830928163748521705472} + \\frac{\\sqrt{66304803987232194619133523012995082149193426205857301374092897876591338363151985575973039392519141462622028051628327368596146394190109830586854894965107048135259805625539353226054674242691} i}{1201492707705511921347199709720373064464021293825617183095210904399998595751610309387916173901824}} - \\frac{60462888952954898401859691794409665514310312949}{45671926166590716193865151022383844364247891968 \\sqrt{\\frac{58426851306900569087122830082609}{60847228810955011271841753858048} + \\frac{781389906088581596965144948083615756580845595357992290988631471}{7404770507945427189697361321508077272422311395351109385068740608 \\sqrt[3]{\\frac{36216436644694324162408061027070252367804281756262404084560642136979563790277595446519022039215}{3604478123116535764041599129161119193392063881476851549285632713199995787254830928163748521705472} + \\frac{\\sqrt{66304803987232194619133523012995082149193426205857301374092897876591338363151985575973039392519141462622028051628327368596146394190109830586854894965107048135259805625539353226054674242691} i}{1201492707705511921347199709720373064464021293825617183095210904399998595751610309387916173901824}}} + 2 \\sqrt[3]{\\frac{36216436644694324162408061027070252367804281756262404084560642136979563790277595446519022039215}{3604478123116535764041599129161119193392063881476851549285632713199995787254830928163748521705472} + \\frac{\\sqrt{66304803987232194619133523012995082149193426205857301374092897876591338363151985575973039392519141462622028051628327368596146394190109830586854894965107048135259805625539353226054674242691} i}{1201492707705511921347199709720373064464021293825617183095210904399998595751610309387916173901824}}}} - \\frac{781389906088581596965144948083615756580845595357992290988631471}{7404770507945427189697361321508077272422311395351109385068740608 \\sqrt[3]{\\frac{36216436644694324162408061027070252367804281756262404084560642136979563790277595446519022039215}{3604478123116535764041599129161119193392063881476851549285632713199995787254830928163748521705472} + \\frac{\\sqrt{66304803987232194619133523012995082149193426205857301374092897876591338363151985575973039392519141462622028051628327368596146394190109830586854894965107048135259805625539353226054674242691} i}{1201492707705511921347199709720373064464021293825617183095210904399998595751610309387916173901824}}}}\\\\\\frac{1799276930165875}{9007199254740992} + \\frac{1}{2} \\sqrt{\\frac{58426851306900569087122830082609}{30423614405477505635920876929024} - 2 \\sqrt[3]{\\frac{36216436644694324162408061027070252367804281756262404084560642136979563790277595446519022039215}{3604478123116535764041599129161119193392063881476851549285632713199995787254830928163748521705472} + \\frac{\\sqrt{66304803987232194619133523012995082149193426205857301374092897876591338363151985575973039392519141462622028051628327368596146394190109830586854894965107048135259805625539353226054674242691} i}{1201492707705511921347199709720373064464021293825617183095210904399998595751610309387916173901824}} - \\frac{60462888952954898401859691794409665514310312949}{45671926166590716193865151022383844364247891968 \\sqrt{\\frac{58426851306900569087122830082609}{60847228810955011271841753858048} + \\frac{781389906088581596965144948083615756580845595357992290988631471}{7404770507945427189697361321508077272422311395351109385068740608 \\sqrt[3]{\\frac{36216436644694324162408061027070252367804281756262404084560642136979563790277595446519022039215}{3604478123116535764041599129161119193392063881476851549285632713199995787254830928163748521705472} + \\frac{\\sqrt{66304803987232194619133523012995082149193426205857301374092897876591338363151985575973039392519141462622028051628327368596146394190109830586854894965107048135259805625539353226054674242691} i}{1201492707705511921347199709720373064464021293825617183095210904399998595751610309387916173901824}}} + 2 \\sqrt[3]{\\frac{36216436644694324162408061027070252367804281756262404084560642136979563790277595446519022039215}{3604478123116535764041599129161119193392063881476851549285632713199995787254830928163748521705472} + \\frac{\\sqrt{66304803987232194619133523012995082149193426205857301374092897876591338363151985575973039392519141462622028051628327368596146394190109830586854894965107048135259805625539353226054674242691} i}{1201492707705511921347199709720373064464021293825617183095210904399998595751610309387916173901824}}}} - \\frac{781389906088581596965144948083615756580845595357992290988631471}{7404770507945427189697361321508077272422311395351109385068740608 \\sqrt[3]{\\frac{36216436644694324162408061027070252367804281756262404084560642136979563790277595446519022039215}{3604478123116535764041599129161119193392063881476851549285632713199995787254830928163748521705472} + \\frac{\\sqrt{66304803987232194619133523012995082149193426205857301374092897876591338363151985575973039392519141462622028051628327368596146394190109830586854894965107048135259805625539353226054674242691} i}{1201492707705511921347199709720373064464021293825617183095210904399998595751610309387916173901824}}}} - \\frac{1}{2} \\sqrt{\\frac{58426851306900569087122830082609}{60847228810955011271841753858048} + \\frac{781389906088581596965144948083615756580845595357992290988631471}{7404770507945427189697361321508077272422311395351109385068740608 \\sqrt[3]{\\frac{36216436644694324162408061027070252367804281756262404084560642136979563790277595446519022039215}{3604478123116535764041599129161119193392063881476851549285632713199995787254830928163748521705472} + \\frac{\\sqrt{66304803987232194619133523012995082149193426205857301374092897876591338363151985575973039392519141462622028051628327368596146394190109830586854894965107048135259805625539353226054674242691} i}{1201492707705511921347199709720373064464021293825617183095210904399998595751610309387916173901824}}} + 2 \\sqrt[3]{\\frac{36216436644694324162408061027070252367804281756262404084560642136979563790277595446519022039215}{3604478123116535764041599129161119193392063881476851549285632713199995787254830928163748521705472} + \\frac{\\sqrt{66304803987232194619133523012995082149193426205857301374092897876591338363151985575973039392519141462622028051628327368596146394190109830586854894965107048135259805625539353226054674242691} i}{1201492707705511921347199709720373064464021293825617183095210904399998595751610309387916173901824}}}\\\\\\frac{1799276930165875}{9007199254740992} - \\frac{1}{2} \\sqrt{\\frac{58426851306900569087122830082609}{30423614405477505635920876929024} - 2 \\sqrt[3]{\\frac{36216436644694324162408061027070252367804281756262404084560642136979563790277595446519022039215}{3604478123116535764041599129161119193392063881476851549285632713199995787254830928163748521705472} + \\frac{\\sqrt{66304803987232194619133523012995082149193426205857301374092897876591338363151985575973039392519141462622028051628327368596146394190109830586854894965107048135259805625539353226054674242691} i}{1201492707705511921347199709720373064464021293825617183095210904399998595751610309387916173901824}} + \\frac{60462888952954898401859691794409665514310312949}{45671926166590716193865151022383844364247891968 \\sqrt{\\frac{58426851306900569087122830082609}{60847228810955011271841753858048} + \\frac{781389906088581596965144948083615756580845595357992290988631471}{7404770507945427189697361321508077272422311395351109385068740608 \\sqrt[3]{\\frac{36216436644694324162408061027070252367804281756262404084560642136979563790277595446519022039215}{3604478123116535764041599129161119193392063881476851549285632713199995787254830928163748521705472} + \\frac{\\sqrt{66304803987232194619133523012995082149193426205857301374092897876591338363151985575973039392519141462622028051628327368596146394190109830586854894965107048135259805625539353226054674242691} i}{1201492707705511921347199709720373064464021293825617183095210904399998595751610309387916173901824}}} + 2 \\sqrt[3]{\\frac{36216436644694324162408061027070252367804281756262404084560642136979563790277595446519022039215}{3604478123116535764041599129161119193392063881476851549285632713199995787254830928163748521705472} + \\frac{\\sqrt{66304803987232194619133523012995082149193426205857301374092897876591338363151985575973039392519141462622028051628327368596146394190109830586854894965107048135259805625539353226054674242691} i}{1201492707705511921347199709720373064464021293825617183095210904399998595751610309387916173901824}}}} - \\frac{781389906088581596965144948083615756580845595357992290988631471}{7404770507945427189697361321508077272422311395351109385068740608 \\sqrt[3]{\\frac{36216436644694324162408061027070252367804281756262404084560642136979563790277595446519022039215}{3604478123116535764041599129161119193392063881476851549285632713199995787254830928163748521705472} + \\frac{\\sqrt{66304803987232194619133523012995082149193426205857301374092897876591338363151985575973039392519141462622028051628327368596146394190109830586854894965107048135259805625539353226054674242691} i}{1201492707705511921347199709720373064464021293825617183095210904399998595751610309387916173901824}}}} + \\frac{1}{2} \\sqrt{\\frac{58426851306900569087122830082609}{60847228810955011271841753858048} + \\frac{781389906088581596965144948083615756580845595357992290988631471}{7404770507945427189697361321508077272422311395351109385068740608 \\sqrt[3]{\\frac{36216436644694324162408061027070252367804281756262404084560642136979563790277595446519022039215}{3604478123116535764041599129161119193392063881476851549285632713199995787254830928163748521705472} + \\frac{\\sqrt{66304803987232194619133523012995082149193426205857301374092897876591338363151985575973039392519141462622028051628327368596146394190109830586854894965107048135259805625539353226054674242691} i}{1201492707705511921347199709720373064464021293825617183095210904399998595751610309387916173901824}}} + 2 \\sqrt[3]{\\frac{36216436644694324162408061027070252367804281756262404084560642136979563790277595446519022039215}{3604478123116535764041599129161119193392063881476851549285632713199995787254830928163748521705472} + \\frac{\\sqrt{66304803987232194619133523012995082149193426205857301374092897876591338363151985575973039392519141462622028051628327368596146394190109830586854894965107048135259805625539353226054674242691} i}{1201492707705511921347199709720373064464021293825617183095210904399998595751610309387916173901824}}}\\\\\\frac{1799276930165875}{9007199254740992} + \\frac{1}{2} \\sqrt{\\frac{58426851306900569087122830082609}{30423614405477505635920876929024} - 2 \\sqrt[3]{\\frac{36216436644694324162408061027070252367804281756262404084560642136979563790277595446519022039215}{3604478123116535764041599129161119193392063881476851549285632713199995787254830928163748521705472} + \\frac{\\sqrt{66304803987232194619133523012995082149193426205857301374092897876591338363151985575973039392519141462622028051628327368596146394190109830586854894965107048135259805625539353226054674242691} i}{1201492707705511921347199709720373064464021293825617183095210904399998595751610309387916173901824}} + \\frac{60462888952954898401859691794409665514310312949}{45671926166590716193865151022383844364247891968 \\sqrt{\\frac{58426851306900569087122830082609}{60847228810955011271841753858048} + \\frac{781389906088581596965144948083615756580845595357992290988631471}{7404770507945427189697361321508077272422311395351109385068740608 \\sqrt[3]{\\frac{36216436644694324162408061027070252367804281756262404084560642136979563790277595446519022039215}{3604478123116535764041599129161119193392063881476851549285632713199995787254830928163748521705472} + \\frac{\\sqrt{66304803987232194619133523012995082149193426205857301374092897876591338363151985575973039392519141462622028051628327368596146394190109830586854894965107048135259805625539353226054674242691} i}{1201492707705511921347199709720373064464021293825617183095210904399998595751610309387916173901824}}} + 2 \\sqrt[3]{\\frac{36216436644694324162408061027070252367804281756262404084560642136979563790277595446519022039215}{3604478123116535764041599129161119193392063881476851549285632713199995787254830928163748521705472} + \\frac{\\sqrt{66304803987232194619133523012995082149193426205857301374092897876591338363151985575973039392519141462622028051628327368596146394190109830586854894965107048135259805625539353226054674242691} i}{1201492707705511921347199709720373064464021293825617183095210904399998595751610309387916173901824}}}} - \\frac{781389906088581596965144948083615756580845595357992290988631471}{7404770507945427189697361321508077272422311395351109385068740608 \\sqrt[3]{\\frac{36216436644694324162408061027070252367804281756262404084560642136979563790277595446519022039215}{3604478123116535764041599129161119193392063881476851549285632713199995787254830928163748521705472} + \\frac{\\sqrt{66304803987232194619133523012995082149193426205857301374092897876591338363151985575973039392519141462622028051628327368596146394190109830586854894965107048135259805625539353226054674242691} i}{1201492707705511921347199709720373064464021293825617183095210904399998595751610309387916173901824}}}} + \\frac{1}{2} \\sqrt{\\frac{58426851306900569087122830082609}{60847228810955011271841753858048} + \\frac{781389906088581596965144948083615756580845595357992290988631471}{7404770507945427189697361321508077272422311395351109385068740608 \\sqrt[3]{\\frac{36216436644694324162408061027070252367804281756262404084560642136979563790277595446519022039215}{3604478123116535764041599129161119193392063881476851549285632713199995787254830928163748521705472} + \\frac{\\sqrt{66304803987232194619133523012995082149193426205857301374092897876591338363151985575973039392519141462622028051628327368596146394190109830586854894965107048135259805625539353226054674242691} i}{1201492707705511921347199709720373064464021293825617183095210904399998595751610309387916173901824}}} + 2 \\sqrt[3]{\\frac{36216436644694324162408061027070252367804281756262404084560642136979563790277595446519022039215}{3604478123116535764041599129161119193392063881476851549285632713199995787254830928163748521705472} + \\frac{\\sqrt{66304803987232194619133523012995082149193426205857301374092897876591338363151985575973039392519141462622028051628327368596146394190109830586854894965107048135259805625539353226054674242691} i}{1201492707705511921347199709720373064464021293825617183095210904399998595751610309387916173901824}}}\\end{bmatrix}"
      ],
      "text/plain": [
       "4-element Array{SymPy.Sym,1}\n",
       "⎡                                                                             \n",
       "⎢                                                                             \n",
       "⎢                                                                             \n",
       "⎢                                                                             \n",
       "⎢                                                                             \n",
       "⎢                             ________________________________________________\n",
       "⎢                            ╱                                                \n",
       "⎢                           ╱                                                 \n",
       "⎢                          ╱   58426851306900569087122830082609               \n",
       "⎢                         ╱    ──────────────────────────────── + ────────────\n",
       "⎢                        ╱     60847228810955011271841753858048               \n",
       "⎢                       ╱                                                     \n",
       "⎢                      ╱                                                      \n",
       "⎢                     ╱                                           740477050794\n",
       "⎢1799276930165875   ╲╱                                                        \n",
       "⎢──────────────── - ──────────────────────────────────────────────────────────\n",
       "⎢9007199254740992                                                             \n",
       "⎢                                                                             \n",
       "⎢                                  ___________________________________________\n",
       "⎢                                 ╱                                           \n",
       "⎢                                ╱                                           ╱\n",
       "⎢                               ╱   58426851306900569087122830082609        ╱ \n",
       "⎢                              ╱    ──────────────────────────────── - 2⋅3 ╱  \n",
       "⎢                             ╱     30423614405477505635920876929024     ╲╱   \n",
       "⎢                            ╱                                                \n",
       "⎢                           ╱                                                 \n",
       "⎢                          ╱                                                  \n",
       "⎢                         ╱                                                   \n",
       "⎢                        ╱                                                    \n",
       "⎢                       ╱                                                     \n",
       "⎢                      ╱                                                      \n",
       "⎢                     ╱                                                       \n",
       "⎢1799276930165875   ╲╱                                                        \n",
       "⎢──────────────── + ──────────────────────────────────────────────────────────\n",
       "⎢9007199254740992                                                             \n",
       "⎢                                                                             \n",
       "⎢                                  ___________________________________________\n",
       "⎢                                 ╱                                           \n",
       "⎢                                ╱                                           ╱\n",
       "⎢                               ╱   58426851306900569087122830082609        ╱ \n",
       "⎢                              ╱    ──────────────────────────────── - 2⋅3 ╱  \n",
       "⎢                             ╱     30423614405477505635920876929024     ╲╱   \n",
       "⎢                            ╱                                                \n",
       "⎢                           ╱                                                 \n",
       "⎢                          ╱                                                  \n",
       "⎢                         ╱                                                   \n",
       "⎢                        ╱                                                    \n",
       "⎢                       ╱                                                     \n",
       "⎢                      ╱                                                      \n",
       "⎢                     ╱                                                       \n",
       "⎢1799276930165875   ╲╱                                                        \n",
       "⎢──────────────── - ──────────────────────────────────────────────────────────\n",
       "⎢9007199254740992                                                             \n",
       "⎢                                                                             \n",
       "⎢                                  ___________________________________________\n",
       "⎢                                 ╱                                           \n",
       "⎢                                ╱                                           ╱\n",
       "⎢                               ╱   58426851306900569087122830082609        ╱ \n",
       "⎢                              ╱    ──────────────────────────────── - 2⋅3 ╱  \n",
       "⎢                             ╱     30423614405477505635920876929024     ╲╱   \n",
       "⎢                            ╱                                                \n",
       "⎢                           ╱                                                 \n",
       "⎢                          ╱                                                  \n",
       "⎢                         ╱                                                   \n",
       "⎢                        ╱                                                    \n",
       "⎢                       ╱                                                     \n",
       "⎢                      ╱                                                      \n",
       "⎢                     ╱                                                       \n",
       "⎢1799276930165875   ╲╱                                                        \n",
       "⎢──────────────── + ──────────────────────────────────────────────────────────\n",
       "⎣9007199254740992                                                             \n",
       "\n",
       "                                                                              \n",
       "                                                                              \n",
       "                                                                              \n",
       "                                                                              \n",
       "                                                                              \n",
       "______________________________________________________________________________\n",
       "                                                                              \n",
       "                                                                              \n",
       "                                                                              \n",
       "──────────────────────────────────────────────────────────────────────────────\n",
       "                                                          ____________________\n",
       "                                                         ╱                    \n",
       "                                                        ╱   362164366446943241\n",
       "5427189697361321508077272422311395351109385068740608⋅3 ╱   ───────────────────\n",
       "                                                     ╲╱    3604478123116535764\n",
       "──────────────────────────────────────────────────────────────────────────────\n",
       "                                                                              \n",
       "                                                                              \n",
       "______________________________________________________________________________\n",
       "______________________________________________________________________________\n",
       "                                                                              \n",
       "  3621643664469432416240806102707025236780428175626240408456064213697956379027\n",
       " ─────────────────────────────────────────────────────────────────────────────\n",
       " 36044781231165357640415991291611191933920638814768515492856327131999957872548\n",
       "                                                                              \n",
       "                                                                              \n",
       "                                                                              \n",
       "                                                                              \n",
       "                                                                              \n",
       "                                                                              \n",
       "                                                                              \n",
       "                                                                              \n",
       "                                                                              \n",
       "──────────────────────────────────────────────────────────────────────────────\n",
       "                                                                              \n",
       "                                                                              \n",
       "______________________________________________________________________________\n",
       "______________________________________________________________________________\n",
       "                                                                              \n",
       "  3621643664469432416240806102707025236780428175626240408456064213697956379027\n",
       " ─────────────────────────────────────────────────────────────────────────────\n",
       " 36044781231165357640415991291611191933920638814768515492856327131999957872548\n",
       "                                                                              \n",
       "                                                                              \n",
       "                                                                              \n",
       "                                                                              \n",
       "                                                                              \n",
       "                                                                              \n",
       "                                                                              \n",
       "                                                                              \n",
       "                                                                              \n",
       "──────────────────────────────────────────────────────────────────────────────\n",
       "                                                                              \n",
       "                                                                              \n",
       "______________________________________________________________________________\n",
       "______________________________________________________________________________\n",
       "                                                                              \n",
       "  3621643664469432416240806102707025236780428175626240408456064213697956379027\n",
       " ─────────────────────────────────────────────────────────────────────────────\n",
       " 36044781231165357640415991291611191933920638814768515492856327131999957872548\n",
       "                                                                              \n",
       "                                                                              \n",
       "                                                                              \n",
       "                                                                              \n",
       "                                                                              \n",
       "                                                                              \n",
       "                                                                              \n",
       "                                                                              \n",
       "                                                                              \n",
       "──────────────────────────────────────────────────────────────────────────────\n",
       "                                                                              \n",
       "\n",
       "                                                                              \n",
       "                                                                              \n",
       "                                                                              \n",
       "                                                                              \n",
       "                                                                              \n",
       "______________________________________________________________________________\n",
       "                                                                              \n",
       "                                                                              \n",
       "                                                             78138990608858159\n",
       "──────────────────────────────────────────────────────────────────────────────\n",
       "______________________________________________________________________________\n",
       "                                                                              \n",
       "62408061027070252367804281756262404084560642136979563790277595446519022039215 \n",
       "──────────────────────────────────────────────────────────────────────────────\n",
       "041599129161119193392063881476851549285632713199995787254830928163748521705472\n",
       "──────────────────────────────────────────────────────────────────────────────\n",
       "                                                                              \n",
       "                                                                              \n",
       "______________________________________________________________________________\n",
       "______________________________________________________________________________\n",
       "                         _____________________________________________________\n",
       "7595446519022039215    ╲╱ 6630480398723219461913352301299508214919342620585730\n",
       "──────────────────── + ───────────────────────────────────────────────────────\n",
       "30928163748521705472                                                   1201492\n",
       "                                                                              \n",
       "                                                                              \n",
       "                                                                              \n",
       "                                                                              \n",
       "                                                                              \n",
       "                                                                              \n",
       "                                                                              \n",
       "                                                                              \n",
       "                                                                              \n",
       "──────────────────────────────────────────────────────────────────────────────\n",
       "                                                                              \n",
       "                                                                              \n",
       "______________________________________________________________________________\n",
       "______________________________________________________________________________\n",
       "                         _____________________________________________________\n",
       "7595446519022039215    ╲╱ 6630480398723219461913352301299508214919342620585730\n",
       "──────────────────── + ───────────────────────────────────────────────────────\n",
       "30928163748521705472                                                   1201492\n",
       "                                                                              \n",
       "                                                                              \n",
       "                                                                              \n",
       "                                                                              \n",
       "                                                                              \n",
       "                                                                              \n",
       "                                                                              \n",
       "                                                                              \n",
       "                                                                              \n",
       "──────────────────────────────────────────────────────────────────────────────\n",
       "                                                                              \n",
       "                                                                              \n",
       "______________________________________________________________________________\n",
       "______________________________________________________________________________\n",
       "                         _____________________________________________________\n",
       "7595446519022039215    ╲╱ 6630480398723219461913352301299508214919342620585730\n",
       "──────────────────── + ───────────────────────────────────────────────────────\n",
       "30928163748521705472                                                   1201492\n",
       "                                                                              \n",
       "                                                                              \n",
       "                                                                              \n",
       "                                                                              \n",
       "                                                                              \n",
       "                                                                              \n",
       "                                                                              \n",
       "                                                                              \n",
       "                                                                              \n",
       "──────────────────────────────────────────────────────────────────────────────\n",
       "                                                                              \n",
       "\n",
       "                                                                              \n",
       "                                                                              \n",
       "                                                                              \n",
       "                                                                              \n",
       "                                                                              \n",
       "______________________________________________________________________________\n",
       "                                                                              \n",
       "                                                                              \n",
       "6965144948083615756580845595357992290988631471                                \n",
       "──────────────────────────────────────────────────────────────────────────────\n",
       "______________________________________________________________________________\n",
       "     _________________________________________________________________________\n",
       "   ╲╱ 663048039872321946191335230129950821491934262058573013740928978765913383\n",
       " + ───────────────────────────────────────────────────────────────────────────\n",
       "                                                   120149270770551192134719970\n",
       "──────────────────────────────────────────────────────────────────────────────\n",
       "                                                                              \n",
       "                                                                              \n",
       "______________________________________________________________________________\n",
       "______________________________________________________________________________\n",
       "______________________________________________________________________________\n",
       "137409289787659133836315198557597303939251914146262202805162832736859614639419\n",
       "──────────────────────────────────────────────────────────────────────────────\n",
       "707705511921347199709720373064464021293825617183095210904399998595751610309387\n",
       "                                                                              \n",
       "                                                                              \n",
       "                                                                              \n",
       "                                                                              \n",
       "                                                                              \n",
       "                                                                              \n",
       "                                                                              \n",
       "                                                                              \n",
       "                                                                              \n",
       "──────────────────────────────────────────────────────────────────────────────\n",
       "                                                                              \n",
       "                                                                              \n",
       "______________________________________________________________________________\n",
       "______________________________________________________________________________\n",
       "______________________________________________________________________________\n",
       "137409289787659133836315198557597303939251914146262202805162832736859614639419\n",
       "──────────────────────────────────────────────────────────────────────────────\n",
       "707705511921347199709720373064464021293825617183095210904399998595751610309387\n",
       "                                                                              \n",
       "                                                                              \n",
       "                                                                              \n",
       "                                                                              \n",
       "                                                                              \n",
       "                                                                              \n",
       "                                                                              \n",
       "                                                                              \n",
       "                                                                              \n",
       "──────────────────────────────────────────────────────────────────────────────\n",
       "                                                                              \n",
       "                                                                              \n",
       "______________________________________________________________________________\n",
       "______________________________________________________________________________\n",
       "______________________________________________________________________________\n",
       "137409289787659133836315198557597303939251914146262202805162832736859614639419\n",
       "──────────────────────────────────────────────────────────────────────────────\n",
       "707705511921347199709720373064464021293825617183095210904399998595751610309387\n",
       "                                                                              \n",
       "                                                                              \n",
       "                                                                              \n",
       "                                                                              \n",
       "                                                                              \n",
       "                                                                              \n",
       "                                                                              \n",
       "                                                                              \n",
       "                                                                              \n",
       "──────────────────────────────────────────────────────────────────────────────\n",
       "                                                                              \n",
       "\n",
       "                                                                              \n",
       "                                                                              \n",
       "                                                                              \n",
       "                                                                              \n",
       "                                                                              \n",
       "______________________________________________________________________________\n",
       "                                                                              \n",
       "                                                                              \n",
       "                                                                              \n",
       "──────────────────────────────────────────────────────────────────────────────\n",
       "______________________________________________________________________________\n",
       "______________________________________________________________________________\n",
       "631519855759730393925191414626220280516283273685961463941901098305868548949651\n",
       "──────────────────────────────────────────────────────────────────────────────\n",
       "9720373064464021293825617183095210904399998595751610309387916173901824        \n",
       "──────────────────────────────────────────────────────────────────────────────\n",
       "                                                                   2          \n",
       "                                                                              \n",
       "______________________________________________________________________________\n",
       "______________________________________________________________                \n",
       "___________________________________________________________                   \n",
       "0109830586854894965107048135259805625539353226054674242691 ⋅ⅈ                 \n",
       "─────────────────────────────────────────────────────────────  - ─────────────\n",
       "916173901824                                                                  \n",
       "                                                                              \n",
       "                                                                              \n",
       "                                                                              \n",
       "                                                                 4567192616659\n",
       "                                                                              \n",
       "                                                                              \n",
       "                                                                              \n",
       "                                                                              \n",
       "                                                                              \n",
       "──────────────────────────────────────────────────────────────────────────────\n",
       "                                                                              \n",
       "                                                                              \n",
       "______________________________________________________________________________\n",
       "______________________________________________________________                \n",
       "___________________________________________________________                   \n",
       "0109830586854894965107048135259805625539353226054674242691 ⋅ⅈ                 \n",
       "─────────────────────────────────────────────────────────────  + ─────────────\n",
       "916173901824                                                                  \n",
       "                                                                              \n",
       "                                                                              \n",
       "                                                                              \n",
       "                                                                 4567192616659\n",
       "                                                                              \n",
       "                                                                              \n",
       "                                                                              \n",
       "                                                                              \n",
       "                                                                              \n",
       "──────────────────────────────────────────────────────────────────────────────\n",
       "                                                                              \n",
       "                                                                              \n",
       "______________________________________________________________________________\n",
       "______________________________________________________________                \n",
       "___________________________________________________________                   \n",
       "0109830586854894965107048135259805625539353226054674242691 ⋅ⅈ                 \n",
       "─────────────────────────────────────────────────────────────  + ─────────────\n",
       "916173901824                                                                  \n",
       "                                                                              \n",
       "                                                                              \n",
       "                                                                              \n",
       "                                                                 4567192616659\n",
       "                                                                              \n",
       "                                                                              \n",
       "                                                                              \n",
       "                                                                              \n",
       "                                                                              \n",
       "──────────────────────────────────────────────────────────────────────────────\n",
       "                                                                              \n",
       "\n",
       "                                                                              \n",
       "                                                                              \n",
       "                                                                              \n",
       "                                                                              \n",
       "                                                                              \n",
       "______________________________________________________________________________\n",
       "                                                    __________________________\n",
       "                                                   ╱                          \n",
       "                                                  ╱   362164366446943241624080\n",
       "────────────────────────────────────────── + 2⋅3 ╱   ─────────────────────────\n",
       "__________________________________________     ╲╱    3604478123116535764041599\n",
       "_______________________________________                                       \n",
       "07048135259805625539353226054674242691 ⋅ⅈ                                     \n",
       "─────────────────────────────────────────                                     \n",
       "                                                                              \n",
       "──────────────────────────────────────────────────────────────────────────────\n",
       "                                                                              \n",
       "                                                                              \n",
       "______________________________________________________________________________\n",
       "                                                                              \n",
       "                                                                              \n",
       "                                                                              \n",
       "──────────────────────────────────────────────────────────────────────────────\n",
       "                                             _________________________________\n",
       "                                            ╱                                 \n",
       "                                           ╱                                  \n",
       "                                          ╱   58426851306900569087122830082609\n",
       "0716193865151022383844364247891968⋅      ╱    ────────────────────────────────\n",
       "                                        ╱     60847228810955011271841753858048\n",
       "                                       ╱                                      \n",
       "                                      ╱                                       \n",
       "                                     ╱                                        \n",
       "                                   ╲╱                                         \n",
       "──────────────────────────────────────────────────────────────────────────────\n",
       "                                                                              \n",
       "                                                                              \n",
       "______________________________________________________________________________\n",
       "                                                                              \n",
       "                                                                              \n",
       "                                                                              \n",
       "──────────────────────────────────────────────────────────────────────────────\n",
       "                                             _________________________________\n",
       "                                            ╱                                 \n",
       "                                           ╱                                  \n",
       "                                          ╱   58426851306900569087122830082609\n",
       "0716193865151022383844364247891968⋅      ╱    ────────────────────────────────\n",
       "                                        ╱     60847228810955011271841753858048\n",
       "                                       ╱                                      \n",
       "                                      ╱                                       \n",
       "                                     ╱                                        \n",
       "                                   ╲╱                                         \n",
       "──────────────────────────────────────────────────────────────────────────────\n",
       "                                                                              \n",
       "                                                                              \n",
       "______________________________________________________________________________\n",
       "                                                                              \n",
       "                                                                              \n",
       "                                                                              \n",
       "──────────────────────────────────────────────────────────────────────────────\n",
       "                                             _________________________________\n",
       "                                            ╱                                 \n",
       "                                           ╱                                  \n",
       "                                          ╱   58426851306900569087122830082609\n",
       "0716193865151022383844364247891968⋅      ╱    ────────────────────────────────\n",
       "                                        ╱     60847228810955011271841753858048\n",
       "                                       ╱                                      \n",
       "                                      ╱                                       \n",
       "                                     ╱                                        \n",
       "                                   ╲╱                                         \n",
       "──────────────────────────────────────────────────────────────────────────────\n",
       "                                                                              \n",
       "\n",
       "                                                                              \n",
       "                                                                              \n",
       "                                                                              \n",
       "                                                                              \n",
       "                                                                              \n",
       "______________________________________________________________________________\n",
       "______________________________________________________________________________\n",
       "                                                                             _\n",
       "61027070252367804281756262404084560642136979563790277595446519022039215    ╲╱ \n",
       "──────────────────────────────────────────────────────────────────────── + ───\n",
       "129161119193392063881476851549285632713199995787254830928163748521705472      \n",
       "                                                                              \n",
       "                                                                              \n",
       "                                                                              \n",
       "                                                                              \n",
       "──────────────────────────────────────────────────────────────────────────────\n",
       "                                                                              \n",
       "                                                                              \n",
       "______________________________________________________________________________\n",
       "                                                                              \n",
       "                                                                              \n",
       "                                                                              \n",
       "──────────────────────────────────────────────────────────────────────────────\n",
       "______________________________________________________________________________\n",
       "                                                                              \n",
       "                                                                              \n",
       "                                                                              \n",
       " + ───────────────────────────────────────────────────────────────────────────\n",
       "                                                                         _____\n",
       "                                                                        ╱     \n",
       "                                                                       ╱   362\n",
       "   7404770507945427189697361321508077272422311395351109385068740608⋅3 ╱   ────\n",
       "                                                                    ╲╱    3604\n",
       "──────────────────────────────────────────────────────────────────────────────\n",
       "                                                                              \n",
       "                                                                              \n",
       "______________________________________________________________________________\n",
       "                                                                              \n",
       "                                                                              \n",
       "                                                                              \n",
       "──────────────────────────────────────────────────────────────────────────────\n",
       "______________________________________________________________________________\n",
       "                                                                              \n",
       "                                                                              \n",
       "                                                                              \n",
       " + ───────────────────────────────────────────────────────────────────────────\n",
       "                                                                         _____\n",
       "                                                                        ╱     \n",
       "                                                                       ╱   362\n",
       "   7404770507945427189697361321508077272422311395351109385068740608⋅3 ╱   ────\n",
       "                                                                    ╲╱    3604\n",
       "──────────────────────────────────────────────────────────────────────────────\n",
       "                                                                              \n",
       "                                                                              \n",
       "______________________________________________________________________________\n",
       "                                                                              \n",
       "                                                                              \n",
       "                                                                              \n",
       "──────────────────────────────────────────────────────────────────────────────\n",
       "______________________________________________________________________________\n",
       "                                                                              \n",
       "                                                                              \n",
       "                                                                              \n",
       " + ───────────────────────────────────────────────────────────────────────────\n",
       "                                                                         _____\n",
       "                                                                        ╱     \n",
       "                                                                       ╱   362\n",
       "   7404770507945427189697361321508077272422311395351109385068740608⋅3 ╱   ────\n",
       "                                                                    ╲╱    3604\n",
       "──────────────────────────────────────────────────────────────────────────────\n",
       "                                                                              \n",
       "\n",
       "                                                                              \n",
       "                                                                              \n",
       "                                                                              \n",
       "                                                                              \n",
       "                                                                              \n",
       "______________________________________________________________________________\n",
       "______________________________________________________________________________\n",
       "______________________________________________________________________________\n",
       "663048039872321946191335230129950821491934262058573013740928978765913383631519\n",
       "──────────────────────────────────────────────────────────────────────────────\n",
       "                                             120149270770551192134719970972037\n",
       "                                                                              \n",
       "                                                                              \n",
       "                                                                              \n",
       "                                                                              \n",
       "──────────────────────────────────────────────────────────────────────────────\n",
       "                                                                              \n",
       "                                                                              \n",
       "______________________________________________________________________________\n",
       "                                                                              \n",
       "                                                                              \n",
       "                                                                              \n",
       "──────────────────────────────────────────────────────────────────────────────\n",
       "______________________________________________________________________________\n",
       "                                                                              \n",
       "                                                                              \n",
       "                                                                            78\n",
       "──────────────────────────────────────────────────────────────────────────────\n",
       "______________________________________________________________________________\n",
       "                                                                              \n",
       "164366446943241624080610270702523678042817562624040845606421369795637902775954\n",
       "──────────────────────────────────────────────────────────────────────────────\n",
       "478123116535764041599129161119193392063881476851549285632713199995787254830928\n",
       "──────────────────────────────────────────────────────────────────────────────\n",
       "                                                                              \n",
       "                                                                              \n",
       "______________________________________________________________________________\n",
       "                                                                              \n",
       "                                                                              \n",
       "                                                                              \n",
       "──────────────────────────────────────────────────────────────────────────────\n",
       "______________________________________________________________________________\n",
       "                                                                              \n",
       "                                                                              \n",
       "                                                                            78\n",
       "──────────────────────────────────────────────────────────────────────────────\n",
       "______________________________________________________________________________\n",
       "                                                                              \n",
       "164366446943241624080610270702523678042817562624040845606421369795637902775954\n",
       "──────────────────────────────────────────────────────────────────────────────\n",
       "478123116535764041599129161119193392063881476851549285632713199995787254830928\n",
       "──────────────────────────────────────────────────────────────────────────────\n",
       "                                                                              \n",
       "                                                                              \n",
       "______________________________________________________________________________\n",
       "                                                                              \n",
       "                                                                              \n",
       "                                                                              \n",
       "──────────────────────────────────────────────────────────────────────────────\n",
       "______________________________________________________________________________\n",
       "                                                                              \n",
       "                                                                              \n",
       "                                                                            78\n",
       "──────────────────────────────────────────────────────────────────────────────\n",
       "______________________________________________________________________________\n",
       "                                                                              \n",
       "164366446943241624080610270702523678042817562624040845606421369795637902775954\n",
       "──────────────────────────────────────────────────────────────────────────────\n",
       "478123116535764041599129161119193392063881476851549285632713199995787254830928\n",
       "──────────────────────────────────────────────────────────────────────────────\n",
       "                                                                              \n",
       "\n",
       "                                                                              \n",
       "                                                                              \n",
       "                                                                              \n",
       "                                                                              \n",
       "                                                                              \n",
       "______________________________________________________________________________\n",
       "______________________________________________________________________________\n",
       "______________________________________________________________________________\n",
       "855759730393925191414626220280516283273685961463941901098305868548949651070481\n",
       "──────────────────────────────────────────────────────────────────────────────\n",
       "3064464021293825617183095210904399998595751610309387916173901824              \n",
       "                                                                              \n",
       "                                                                              \n",
       "                                                                              \n",
       "                                                                              \n",
       "──────────────────────────────────────────────────────────────────────────────\n",
       "                                                                              \n",
       "                                                                              \n",
       "______________________________________________________________________________\n",
       "                                                                              \n",
       "                                                                              \n",
       "                                                                              \n",
       "──────────────────────────────────────────────────────────────────────────────\n",
       "______________________________________________________________________________\n",
       "                                                                              \n",
       "                                                                              \n",
       "1389906088581596965144948083615756580845595357992290988631471                 \n",
       "──────────────────────────────────────────────────────────────────────────────\n",
       "______________________________________________________________________________\n",
       "                    __________________________________________________________\n",
       "46519022039215    ╲╱ 663048039872321946191335230129950821491934262058573013740\n",
       "─────────────── + ────────────────────────────────────────────────────────────\n",
       "163748521705472                                                   120149270770\n",
       "──────────────────────────────────────────────────────────────────────────────\n",
       "                                                                              \n",
       "                                                                              \n",
       "______________________________________________________________________________\n",
       "                                                                              \n",
       "                                                                              \n",
       "                                                                              \n",
       "──────────────────────────────────────────────────────────────────────────────\n",
       "______________________________________________________________________________\n",
       "                                                                              \n",
       "                                                                              \n",
       "1389906088581596965144948083615756580845595357992290988631471                 \n",
       "──────────────────────────────────────────────────────────────────────────────\n",
       "______________________________________________________________________________\n",
       "                    __________________________________________________________\n",
       "46519022039215    ╲╱ 663048039872321946191335230129950821491934262058573013740\n",
       "─────────────── + ────────────────────────────────────────────────────────────\n",
       "163748521705472                                                   120149270770\n",
       "──────────────────────────────────────────────────────────────────────────────\n",
       "                                                                              \n",
       "                                                                              \n",
       "______________________________________________________________________________\n",
       "                                                                              \n",
       "                                                                              \n",
       "                                                                              \n",
       "──────────────────────────────────────────────────────────────────────────────\n",
       "______________________________________________________________________________\n",
       "                                                                              \n",
       "                                                                              \n",
       "1389906088581596965144948083615756580845595357992290988631471                 \n",
       "──────────────────────────────────────────────────────────────────────────────\n",
       "______________________________________________________________________________\n",
       "                    __________________________________________________________\n",
       "46519022039215    ╲╱ 663048039872321946191335230129950821491934262058573013740\n",
       "─────────────── + ────────────────────────────────────────────────────────────\n",
       "163748521705472                                                   120149270770\n",
       "──────────────────────────────────────────────────────────────────────────────\n",
       "                                                                              \n",
       "\n",
       "                                                       _______________________\n",
       "                                                      ╱                       \n",
       "                                                     ╱                        \n",
       "                                                    ╱   5842685130690056908712\n",
       "                                                   ╱    ──────────────────────\n",
       "_____________________________________             ╱     3042361440547750563592\n",
       "____________________________________             ╱                            \n",
       "_________________________________               ╱                             \n",
       "35259805625539353226054674242691 ⋅ⅈ            ╱                              \n",
       "───────────────────────────────────           ╱                               \n",
       "                                             ╱                                \n",
       "                                            ╱                                 \n",
       "                                           ╱                                  \n",
       "                                          ╱                                   \n",
       "                                        ╲╱                                    \n",
       "───────────────────────────────────── - ──────────────────────────────────────\n",
       "                                                                              \n",
       "                                                                              \n",
       "______________________________________________________________________________\n",
       "                                                                              \n",
       "                                                                              \n",
       "                                   6046288895295489840185969179440966551431031\n",
       "──────────────────────────────────────────────────────────────────────────────\n",
       "______________________________________________________________________________\n",
       "                                                                              \n",
       "                                                                              \n",
       "                                                                              \n",
       "──────────────────────────────────────────────────────────────────────────────\n",
       "______________________________________________________________________________\n",
       "______________________________________________________________________________\n",
       "928978765913383631519855759730393925191414626220280516283273685961463941901098\n",
       "──────────────────────────────────────────────────────────────────────────────\n",
       "551192134719970972037306446402129382561718309521090439999859575161030938791617\n",
       "──────────────────────────────────────────────────────────────────────────────\n",
       "                                                                2             \n",
       "                                                                              \n",
       "______________________________________________________________________________\n",
       "                                                                              \n",
       "                                                                              \n",
       "                                   6046288895295489840185969179440966551431031\n",
       "──────────────────────────────────────────────────────────────────────────────\n",
       "______________________________________________________________________________\n",
       "                                                                              \n",
       "                                                                              \n",
       "                                                                              \n",
       "──────────────────────────────────────────────────────────────────────────────\n",
       "______________________________________________________________________________\n",
       "______________________________________________________________________________\n",
       "928978765913383631519855759730393925191414626220280516283273685961463941901098\n",
       "──────────────────────────────────────────────────────────────────────────────\n",
       "551192134719970972037306446402129382561718309521090439999859575161030938791617\n",
       "──────────────────────────────────────────────────────────────────────────────\n",
       "                                                                2             \n",
       "                                                                              \n",
       "______________________________________________________________________________\n",
       "                                                                              \n",
       "                                                                              \n",
       "                                   6046288895295489840185969179440966551431031\n",
       "──────────────────────────────────────────────────────────────────────────────\n",
       "______________________________________________________________________________\n",
       "                                                                              \n",
       "                                                                              \n",
       "                                                                              \n",
       "──────────────────────────────────────────────────────────────────────────────\n",
       "______________________________________________________________________________\n",
       "______________________________________________________________________________\n",
       "928978765913383631519855759730393925191414626220280516283273685961463941901098\n",
       "──────────────────────────────────────────────────────────────────────────────\n",
       "551192134719970972037306446402129382561718309521090439999859575161030938791617\n",
       "──────────────────────────────────────────────────────────────────────────────\n",
       "                                                                2             \n",
       "\n",
       "______________________________________________________________________________\n",
       "                    __________________________________________________________\n",
       "                   ╱                                                          \n",
       "2830082609        ╱   36216436644694324162408061027070252367804281756262404084\n",
       "────────── - 2⋅3 ╱   ─────────────────────────────────────────────────────────\n",
       "0876929024     ╲╱    360447812311653576404159912916111919339206388147685154928\n",
       "                                                                              \n",
       "                                                                              \n",
       "                                                                              \n",
       "                                                                              \n",
       "                                                                              \n",
       "                                                                              \n",
       "                                                                              \n",
       "                                                                              \n",
       "                                                                              \n",
       "──────────────────────────────────────────────────────────────────────────────\n",
       "                                                                              \n",
       "                                                                              \n",
       "______________________________________________________________________________\n",
       "                                                                              \n",
       "                                                                              \n",
       "2949                                                                          \n",
       "──────────────────────────────────────────────────────────────────────────────\n",
       "______________________________________________________________________________\n",
       "                                                                   ___________\n",
       "                                                                  ╱           \n",
       "                                                                 ╱   362164366\n",
       "───────────────────────────────────────────────────────── + 2⋅3 ╱   ──────────\n",
       "_________________________________________________________     ╲╱    3604478123\n",
       "______________________________________________________                        \n",
       "30586854894965107048135259805625539353226054674242691 ⋅ⅈ                      \n",
       "────────────────────────────────────────────────────────                      \n",
       "3901824                                                                       \n",
       "──────────────────────────────────────────────────────────────────────────────\n",
       "                                                                              \n",
       "                                                                              \n",
       "______________________________________________________________________________\n",
       "                                                                              \n",
       "                                                                              \n",
       "2949                                                                          \n",
       "──────────────────────────────────────────────────────────────────────────────\n",
       "______________________________________________________________________________\n",
       "                                                                   ___________\n",
       "                                                                  ╱           \n",
       "                                                                 ╱   362164366\n",
       "───────────────────────────────────────────────────────── + 2⋅3 ╱   ──────────\n",
       "_________________________________________________________     ╲╱    3604478123\n",
       "______________________________________________________                        \n",
       "30586854894965107048135259805625539353226054674242691 ⋅ⅈ                      \n",
       "────────────────────────────────────────────────────────                      \n",
       "3901824                                                                       \n",
       "──────────────────────────────────────────────────────────────────────────────\n",
       "                                                                              \n",
       "                                                                              \n",
       "______________________________________________________________________________\n",
       "                                                                              \n",
       "                                                                              \n",
       "2949                                                                          \n",
       "──────────────────────────────────────────────────────────────────────────────\n",
       "______________________________________________________________________________\n",
       "                                                                   ___________\n",
       "                                                                  ╱           \n",
       "                                                                 ╱   362164366\n",
       "───────────────────────────────────────────────────────── + 2⋅3 ╱   ──────────\n",
       "_________________________________________________________     ╲╱    3604478123\n",
       "______________________________________________________                        \n",
       "30586854894965107048135259805625539353226054674242691 ⋅ⅈ                      \n",
       "────────────────────────────────────────────────────────                      \n",
       "3901824                                                                       \n",
       "──────────────────────────────────────────────────────────────────────────────\n",
       "                                                                              \n",
       "\n",
       "______________________________________________________________________________\n",
       "______________________________________________________________________________\n",
       "                                             _________________________________\n",
       "560642136979563790277595446519022039215    ╲╱ 66304803987232194619133523012995\n",
       "──────────────────────────────────────── + ───────────────────────────────────\n",
       "5632713199995787254830928163748521705472                                      \n",
       "                                                                              \n",
       "                                                                              \n",
       "                                                                              \n",
       "                                                                              \n",
       "                                                                              \n",
       "                                                                              \n",
       "                                                                              \n",
       "                                                                              \n",
       "                                                                              \n",
       "──────────────────────────────────────────────────────────────────────────────\n",
       "                                                                              \n",
       "                                                                              \n",
       "______________________________________________________________________________\n",
       "                                                                              \n",
       "                                                                              \n",
       "                                                                              \n",
       "──────────────────────────────────────────────────────────────────────────────\n",
       "______________________________________________________________________________\n",
       "______________________________________________________________________________\n",
       "                                                                              \n",
       "446943241624080610270702523678042817562624040845606421369795637902775954465190\n",
       "──────────────────────────────────────────────────────────────────────────────\n",
       "116535764041599129161119193392063881476851549285632713199995787254830928163748\n",
       "                                                                              \n",
       "                                                                              \n",
       "                                                                              \n",
       "                                                                              \n",
       "──────────────────────────────────────────────────────────────────────────────\n",
       "                                                                              \n",
       "                                                                              \n",
       "______________________________________________________________________________\n",
       "                                                                              \n",
       "                                                                              \n",
       "                                                                              \n",
       "──────────────────────────────────────────────────────────────────────────────\n",
       "______________________________________________________________________________\n",
       "______________________________________________________________________________\n",
       "                                                                              \n",
       "446943241624080610270702523678042817562624040845606421369795637902775954465190\n",
       "──────────────────────────────────────────────────────────────────────────────\n",
       "116535764041599129161119193392063881476851549285632713199995787254830928163748\n",
       "                                                                              \n",
       "                                                                              \n",
       "                                                                              \n",
       "                                                                              \n",
       "──────────────────────────────────────────────────────────────────────────────\n",
       "                                                                              \n",
       "                                                                              \n",
       "______________________________________________________________________________\n",
       "                                                                              \n",
       "                                                                              \n",
       "                                                                              \n",
       "──────────────────────────────────────────────────────────────────────────────\n",
       "______________________________________________________________________________\n",
       "______________________________________________________________________________\n",
       "                                                                              \n",
       "446943241624080610270702523678042817562624040845606421369795637902775954465190\n",
       "──────────────────────────────────────────────────────────────────────────────\n",
       "116535764041599129161119193392063881476851549285632713199995787254830928163748\n",
       "                                                                              \n",
       "                                                                              \n",
       "                                                                              \n",
       "                                                                              \n",
       "──────────────────────────────────────────────────────────────────────────────\n",
       "                                                                              \n",
       "\n",
       "______________________________________________________________________________\n",
       "______________________________________________________________________________\n",
       "______________________________________________________________________________\n",
       "082149193426205857301374092897876591338363151985575973039392519141462622028051\n",
       "──────────────────────────────────────────────────────────────────────────────\n",
       "             12014927077055119213471997097203730644640212938256171830952109043\n",
       "                                                                              \n",
       "                                                                              \n",
       "                                                                              \n",
       "                                                                              \n",
       "                                                                              \n",
       "                                                                              \n",
       "                                                                              \n",
       "                                                                              \n",
       "                                                                              \n",
       "──────────────────────────────────────────────────────────────────────────────\n",
       "                                                                              \n",
       "                                                                              \n",
       "______________________________________________________________________________\n",
       "                                                                              \n",
       "                                                                              \n",
       "                                                                              \n",
       "──────────────────────────────────────────────────────────────────────────────\n",
       "______________________________________________________________________________\n",
       "______________________________________________________________________________\n",
       "              ________________________________________________________________\n",
       "22039215    ╲╱ 663048039872321946191335230129950821491934262058573013740928978\n",
       "───────── + ──────────────────────────────────────────────────────────────────\n",
       "521705472                                                   120149270770551192\n",
       "                                                                              \n",
       "                                                                              \n",
       "                                                                              \n",
       "                                                                              \n",
       "──────────────────────────────────────────────────────────────────────────────\n",
       "                                                                              \n",
       "                                                                              \n",
       "______________________________________________________________________________\n",
       "                                                                              \n",
       "                                                                              \n",
       "                                                                              \n",
       "──────────────────────────────────────────────────────────────────────────────\n",
       "______________________________________________________________________________\n",
       "______________________________________________________________________________\n",
       "              ________________________________________________________________\n",
       "22039215    ╲╱ 663048039872321946191335230129950821491934262058573013740928978\n",
       "───────── + ──────────────────────────────────────────────────────────────────\n",
       "521705472                                                   120149270770551192\n",
       "                                                                              \n",
       "                                                                              \n",
       "                                                                              \n",
       "                                                                              \n",
       "──────────────────────────────────────────────────────────────────────────────\n",
       "                                                                              \n",
       "                                                                              \n",
       "______________________________________________________________________________\n",
       "                                                                              \n",
       "                                                                              \n",
       "                                                                              \n",
       "──────────────────────────────────────────────────────────────────────────────\n",
       "______________________________________________________________________________\n",
       "______________________________________________________________________________\n",
       "              ________________________________________________________________\n",
       "22039215    ╲╱ 663048039872321946191335230129950821491934262058573013740928978\n",
       "───────── + ──────────────────────────────────────────────────────────────────\n",
       "521705472                                                   120149270770551192\n",
       "                                                                              \n",
       "                                                                              \n",
       "                                                                              \n",
       "                                                                              \n",
       "──────────────────────────────────────────────────────────────────────────────\n",
       "                                                                              \n",
       "\n",
       "______________________________________________________________________________\n",
       "______________________________________________________________________________\n",
       "______________________________________________________________________________\n",
       "628327368596146394190109830586854894965107048135259805625539353226054674242691\n",
       "──────────────────────────────────────────────────────────────────────────────\n",
       "99998595751610309387916173901824                                              \n",
       "                                                                              \n",
       "                                                                              \n",
       "                                                                              \n",
       "                                                                              \n",
       "                                                                              \n",
       "                                                                              \n",
       "                                                                              \n",
       "                                                                              \n",
       "                                                                              \n",
       "──────────────────────────────────────────────────────────────────────────────\n",
       "                                                                              \n",
       "                                                                              \n",
       "______________________________________________________________________________\n",
       "                                                                              \n",
       "                                                                              \n",
       "                                                                              \n",
       "──────────────────────────────────────────────────────────────────────────────\n",
       "______________________________________________________________________________\n",
       "______________________________________________________________________________\n",
       "______________________________________________________________________________\n",
       "765913383631519855759730393925191414626220280516283273685961463941901098305868\n",
       "──────────────────────────────────────────────────────────────────────────────\n",
       "134719970972037306446402129382561718309521090439999859575161030938791617390182\n",
       "                                                                              \n",
       "                                                                              \n",
       "                                                                              \n",
       "                                                                              \n",
       "──────────────────────────────────────────────────────────────────────────────\n",
       "                                                                              \n",
       "                                                                              \n",
       "______________________________________________________________________________\n",
       "                                                                              \n",
       "                                                                              \n",
       "                                                                              \n",
       "──────────────────────────────────────────────────────────────────────────────\n",
       "______________________________________________________________________________\n",
       "______________________________________________________________________________\n",
       "______________________________________________________________________________\n",
       "765913383631519855759730393925191414626220280516283273685961463941901098305868\n",
       "──────────────────────────────────────────────────────────────────────────────\n",
       "134719970972037306446402129382561718309521090439999859575161030938791617390182\n",
       "                                                                              \n",
       "                                                                              \n",
       "                                                                              \n",
       "                                                                              \n",
       "──────────────────────────────────────────────────────────────────────────────\n",
       "                                                                              \n",
       "                                                                              \n",
       "______________________________________________________________________________\n",
       "                                                                              \n",
       "                                                                              \n",
       "                                                                              \n",
       "──────────────────────────────────────────────────────────────────────────────\n",
       "______________________________________________________________________________\n",
       "______________________________________________________________________________\n",
       "______________________________________________________________________________\n",
       "765913383631519855759730393925191414626220280516283273685961463941901098305868\n",
       "──────────────────────────────────────────────────────────────────────────────\n",
       "134719970972037306446402129382561718309521090439999859575161030938791617390182\n",
       "                                                                              \n",
       "                                                                              \n",
       "                                                                              \n",
       "                                                                              \n",
       "──────────────────────────────────────────────────────────────────────────────\n",
       "                                                                              \n",
       "\n",
       "______________________________________________________________________________\n",
       "____                                                                          \n",
       "_                                                                             \n",
       " ⋅ⅈ                                                                           \n",
       "───  - ───────────────────────────────────────────────────────────────────────\n",
       "                                                                 _____________\n",
       "                                                                ╱             \n",
       "                                                               ╱              \n",
       "                                                              ╱   584268513069\n",
       "       45671926166590716193865151022383844364247891968⋅      ╱    ────────────\n",
       "                                                            ╱     608472288109\n",
       "                                                           ╱                  \n",
       "                                                          ╱                   \n",
       "                                                         ╱                    \n",
       "                                                       ╲╱                     \n",
       "──────────────────────────────────────────────────────────────────────────────\n",
       "                                                                              \n",
       "                                                                              \n",
       "______________________________________________________________________________\n",
       "                                                                              \n",
       "                                                                              \n",
       "                                                                              \n",
       "──────────────────────────────────────────────────── - ───────────────────────\n",
       "____________________________________________________                          \n",
       "___________________________________________________                           \n",
       "________________________________________________                              \n",
       "54894965107048135259805625539353226054674242691 ⋅ⅈ     74047705079454271896973\n",
       "──────────────────────────────────────────────────                            \n",
       "4                                                                             \n",
       "                                                                              \n",
       "                                                                              \n",
       "                                                                              \n",
       "                                                                              \n",
       "──────────────────────────────────────────────────────────────────────────────\n",
       "                                                                              \n",
       "                                                                              \n",
       "______________________________________________________________________________\n",
       "                                                                              \n",
       "                                                                              \n",
       "                                                                              \n",
       "──────────────────────────────────────────────────── - ───────────────────────\n",
       "____________________________________________________                          \n",
       "___________________________________________________                           \n",
       "________________________________________________                              \n",
       "54894965107048135259805625539353226054674242691 ⋅ⅈ     74047705079454271896973\n",
       "──────────────────────────────────────────────────                            \n",
       "4                                                                             \n",
       "                                                                              \n",
       "                                                                              \n",
       "                                                                              \n",
       "                                                                              \n",
       "──────────────────────────────────────────────────────────────────────────────\n",
       "                                                                              \n",
       "                                                                              \n",
       "______________________________________________________________________________\n",
       "                                                                              \n",
       "                                                                              \n",
       "                                                                              \n",
       "──────────────────────────────────────────────────── - ───────────────────────\n",
       "____________________________________________________                          \n",
       "___________________________________________________                           \n",
       "________________________________________________                              \n",
       "54894965107048135259805625539353226054674242691 ⋅ⅈ     74047705079454271896973\n",
       "──────────────────────────────────────────────────                            \n",
       "4                                                                             \n",
       "                                                                              \n",
       "                                                                              \n",
       "                                                                              \n",
       "                                                                              \n",
       "──────────────────────────────────────────────────────────────────────────────\n",
       "                                                                              \n",
       "\n",
       "______________________________________________________________________________\n",
       "                                                                              \n",
       "                                                                              \n",
       "                                                                              \n",
       "──────────────────────────────────────────────────────────────────────────────\n",
       "______________________________________________________________________________\n",
       "                                                                              \n",
       "                                                                              \n",
       "00569087122830082609                                                          \n",
       "──────────────────── + ───────────────────────────────────────────────────────\n",
       "55011271841753858048                                                          \n",
       "                                                                              \n",
       "                                                                              \n",
       "                       7404770507945427189697361321508077272422311395351109385\n",
       "                                                                              \n",
       "──────────────────────────────────────────────────────────────────────────────\n",
       "                                                                              \n",
       "                                                                              \n",
       "______________________________________________________________________________\n",
       "                                                                              \n",
       "                                                                              \n",
       "                                                                              \n",
       "──────────────────────────────────────────────────────────────────────────────\n",
       "                                               _______________________________\n",
       "                                              ╱                               \n",
       "                                             ╱   36216436644694324162408061027\n",
       "61321508077272422311395351109385068740608⋅3 ╱   ──────────────────────────────\n",
       "                                          ╲╱    360447812311653576404159912916\n",
       "                                                                              \n",
       "                                                                              \n",
       "                                                                              \n",
       "                                                                              \n",
       "                                                                              \n",
       "──────────────────────────────────────────────────────────────────────────────\n",
       "                                                                              \n",
       "                                                                              \n",
       "______________________________________________________________________________\n",
       "                                                                              \n",
       "                                                                              \n",
       "                                                                              \n",
       "──────────────────────────────────────────────────────────────────────────────\n",
       "                                               _______________________________\n",
       "                                              ╱                               \n",
       "                                             ╱   36216436644694324162408061027\n",
       "61321508077272422311395351109385068740608⋅3 ╱   ──────────────────────────────\n",
       "                                          ╲╱    360447812311653576404159912916\n",
       "                                                                              \n",
       "                                                                              \n",
       "                                                                              \n",
       "                                                                              \n",
       "                                                                              \n",
       "──────────────────────────────────────────────────────────────────────────────\n",
       "                                                                              \n",
       "                                                                              \n",
       "______________________________________________________________________________\n",
       "                                                                              \n",
       "                                                                              \n",
       "                                                                              \n",
       "──────────────────────────────────────────────────────────────────────────────\n",
       "                                               _______________________________\n",
       "                                              ╱                               \n",
       "                                             ╱   36216436644694324162408061027\n",
       "61321508077272422311395351109385068740608⋅3 ╱   ──────────────────────────────\n",
       "                                          ╲╱    360447812311653576404159912916\n",
       "                                                                              \n",
       "                                                                              \n",
       "                                                                              \n",
       "                                                                              \n",
       "                                                                              \n",
       "──────────────────────────────────────────────────────────────────────────────\n",
       "                                                                              \n",
       "\n",
       "______________________________________________________________________________\n",
       "                                                                              \n",
       "                                                                              \n",
       "                                                                              \n",
       "──────────────────────────────────────────────────────────────────────────────\n",
       "______________________________________________________________________________\n",
       "                                                                              \n",
       "                                                                              \n",
       "                                                                              \n",
       "──────────────────────────────────────────────────────────────────────────────\n",
       "               _______________________________________________________________\n",
       "              ╱                                                               \n",
       "             ╱   3621643664469432416240806102707025236780428175626240408456064\n",
       "068740608⋅3 ╱   ──────────────────────────────────────────────────────────────\n",
       "          ╲╱    36044781231165357640415991291611191933920638814768515492856327\n",
       "──────────────────────────────────────────────────────────────────────────────\n",
       "                                                                              \n",
       "                                                                              \n",
       "______________________________________________________________________________\n",
       "                                                                              \n",
       "                                                                              \n",
       "                                                  7813899060885815969651449480\n",
       "──────────────────────────────────────────────────────────────────────────────\n",
       "______________________________________________________________________________\n",
       "                                                                        ______\n",
       "070252367804281756262404084560642136979563790277595446519022039215    ╲╱ 66304\n",
       "─────────────────────────────────────────────────────────────────── + ────────\n",
       "1119193392063881476851549285632713199995787254830928163748521705472           \n",
       "                                                                              \n",
       "                                                                              \n",
       "                                                                              \n",
       "                                                                              \n",
       "                                                                              \n",
       "──────────────────────────────────────────────────────────────────────────────\n",
       "                                                                              \n",
       "                                                                              \n",
       "______________________________________________________________________________\n",
       "                                                                              \n",
       "                                                                              \n",
       "                                                  7813899060885815969651449480\n",
       "──────────────────────────────────────────────────────────────────────────────\n",
       "______________________________________________________________________________\n",
       "                                                                        ______\n",
       "070252367804281756262404084560642136979563790277595446519022039215    ╲╱ 66304\n",
       "─────────────────────────────────────────────────────────────────── + ────────\n",
       "1119193392063881476851549285632713199995787254830928163748521705472           \n",
       "                                                                              \n",
       "                                                                              \n",
       "                                                                              \n",
       "                                                                              \n",
       "                                                                              \n",
       "──────────────────────────────────────────────────────────────────────────────\n",
       "                                                                              \n",
       "                                                                              \n",
       "______________________________________________________________________________\n",
       "                                                                              \n",
       "                                                                              \n",
       "                                                  7813899060885815969651449480\n",
       "──────────────────────────────────────────────────────────────────────────────\n",
       "______________________________________________________________________________\n",
       "                                                                        ______\n",
       "070252367804281756262404084560642136979563790277595446519022039215    ╲╱ 66304\n",
       "─────────────────────────────────────────────────────────────────── + ────────\n",
       "1119193392063881476851549285632713199995787254830928163748521705472           \n",
       "                                                                              \n",
       "                                                                              \n",
       "                                                                              \n",
       "                                                                              \n",
       "                                                                              \n",
       "──────────────────────────────────────────────────────────────────────────────\n",
       "                                                                              \n",
       "\n",
       "______________________________________________________________________________\n",
       "                                                                              \n",
       "                                                                              \n",
       "                                                                              \n",
       "──────────────────────────────────────────────────────────────────────────────\n",
       "______________________________________________________________________________\n",
       "                                                                              \n",
       "                                                                              \n",
       "                  781389906088581596965144948083615756580845595357992290988631\n",
       "──────────────────────────────────────────────────────────────────────────────\n",
       "______________________________________________________________________________\n",
       "                                        ______________________________________\n",
       "2136979563790277595446519022039215    ╲╱ 6630480398723219461913352301299508214\n",
       "─────────────────────────────────── + ────────────────────────────────────────\n",
       "13199995787254830928163748521705472                                           \n",
       "──────────────────────────────────────────────────────────────────────────────\n",
       "                                                                              \n",
       "                                                                              \n",
       "______________________________________________________________________________\n",
       "                                                                              \n",
       "                                                                              \n",
       "83615756580845595357992290988631471                                           \n",
       "──────────────────────────────────────────────────────────────────────────────\n",
       "______________________________________________________________________________\n",
       "______________________________________________________________________________\n",
       "803987232194619133523012995082149193426205857301374092897876591338363151985575\n",
       "──────────────────────────────────────────────────────────────────────────────\n",
       "                                        12014927077055119213471997097203730644\n",
       "                                                                              \n",
       "                                                                              \n",
       "                                                                              \n",
       "                                                                              \n",
       "                                                                              \n",
       "──────────────────────────────────────────────────────────────────────────────\n",
       "                                                                              \n",
       "                                                                              \n",
       "______________________________________________________________________________\n",
       "                                                                              \n",
       "                                                                              \n",
       "83615756580845595357992290988631471                                           \n",
       "──────────────────────────────────────────────────────────────────────────────\n",
       "______________________________________________________________________________\n",
       "______________________________________________________________________________\n",
       "803987232194619133523012995082149193426205857301374092897876591338363151985575\n",
       "──────────────────────────────────────────────────────────────────────────────\n",
       "                                        12014927077055119213471997097203730644\n",
       "                                                                              \n",
       "                                                                              \n",
       "                                                                              \n",
       "                                                                              \n",
       "                                                                              \n",
       "──────────────────────────────────────────────────────────────────────────────\n",
       "                                                                              \n",
       "                                                                              \n",
       "______________________________________________________________________________\n",
       "                                                                              \n",
       "                                                                              \n",
       "83615756580845595357992290988631471                                           \n",
       "──────────────────────────────────────────────────────────────────────────────\n",
       "______________________________________________________________________________\n",
       "______________________________________________________________________________\n",
       "803987232194619133523012995082149193426205857301374092897876591338363151985575\n",
       "──────────────────────────────────────────────────────────────────────────────\n",
       "                                        12014927077055119213471997097203730644\n",
       "                                                                              \n",
       "                                                                              \n",
       "                                                                              \n",
       "                                                                              \n",
       "                                                                              \n",
       "──────────────────────────────────────────────────────────────────────────────\n",
       "                                                                              \n",
       "\n",
       "______________________________________________________________________________\n",
       "                                                                              \n",
       "                                                                              \n",
       "                                                       60462888952954898401859\n",
       "──────────────────────────────────────────────────────────────────────────────\n",
       "______________________________________________________________________________\n",
       "                                                                              \n",
       "                                                                              \n",
       "471                                                                           \n",
       "──────────────────────────────────────────────────────────────────────────────\n",
       "______________________________________________________________________________\n",
       "______________________________________________________________________________\n",
       "919342620585730137409289787659133836315198557597303939251914146262202805162832\n",
       "──────────────────────────────────────────────────────────────────────────────\n",
       "        1201492707705511921347199709720373064464021293825617183095210904399998\n",
       "──────────────────────────────────────────────────────────────────────────────\n",
       "                                                                              \n",
       "                                                                              \n",
       "______________________________________________________________________________\n",
       "                                                                              \n",
       "                                                                              \n",
       "                                                                              \n",
       "──────────────────────────────────────────────────────────────────────────────\n",
       "______________________________________________________________________________\n",
       "______________________________________________________________________________\n",
       "973039392519141462622028051628327368596146394190109830586854894965107048135259\n",
       "──────────────────────────────────────────────────────────────────────────────\n",
       "64021293825617183095210904399998595751610309387916173901824                   \n",
       "                                                                              \n",
       "                                                                              \n",
       "                                                                              \n",
       "                                                                              \n",
       "                                                                              \n",
       "──────────────────────────────────────────────────────────────────────────────\n",
       "                                                                              \n",
       "                                                                              \n",
       "______________________________________________________________________________\n",
       "                                                                              \n",
       "                                                                              \n",
       "                                                                              \n",
       "──────────────────────────────────────────────────────────────────────────────\n",
       "______________________________________________________________________________\n",
       "______________________________________________________________________________\n",
       "973039392519141462622028051628327368596146394190109830586854894965107048135259\n",
       "──────────────────────────────────────────────────────────────────────────────\n",
       "64021293825617183095210904399998595751610309387916173901824                   \n",
       "                                                                              \n",
       "                                                                              \n",
       "                                                                              \n",
       "                                                                              \n",
       "                                                                              \n",
       "──────────────────────────────────────────────────────────────────────────────\n",
       "                                                                              \n",
       "                                                                              \n",
       "______________________________________________________________________________\n",
       "                                                                              \n",
       "                                                                              \n",
       "                                                                              \n",
       "──────────────────────────────────────────────────────────────────────────────\n",
       "______________________________________________________________________________\n",
       "______________________________________________________________________________\n",
       "973039392519141462622028051628327368596146394190109830586854894965107048135259\n",
       "──────────────────────────────────────────────────────────────────────────────\n",
       "64021293825617183095210904399998595751610309387916173901824                   \n",
       "                                                                              \n",
       "                                                                              \n",
       "                                                                              \n",
       "                                                                              \n",
       "                                                                              \n",
       "──────────────────────────────────────────────────────────────────────────────\n",
       "                                                                              \n",
       "\n",
       "______________________________________________________________________________\n",
       "                                                                              \n",
       "                                                                              \n",
       "691794409665514310312949                                                      \n",
       "──────────────────────────────────────────────────────────────────────────────\n",
       "______________________________________________________________________________\n",
       "                                                                              \n",
       "                                                                              \n",
       "                                                                              \n",
       "───────────────────────────────────────────────────────────────────────────── \n",
       "_____________________________________________________________________________ \n",
       "__________________________________________________________________________    \n",
       "7368596146394190109830586854894965107048135259805625539353226054674242691 ⋅ⅈ  \n",
       "────────────────────────────────────────────────────────────────────────────  \n",
       "595751610309387916173901824                                                   \n",
       "──────────────────────────────────────────────────────────────────────────────\n",
       "      2                                                                       \n",
       "                                                                              \n",
       "________________________________                                              \n",
       "                                                                              \n",
       "                                                                              \n",
       "                                                                              \n",
       "───────────────────────────────                                               \n",
       "_______________________________              _________________________________\n",
       "____________________________                ╱                                 \n",
       "805625539353226054674242691 ⋅ⅈ             ╱                                  \n",
       "──────────────────────────────            ╱   58426851306900569087122830082609\n",
       "                                         ╱    ────────────────────────────────\n",
       "                                        ╱     60847228810955011271841753858048\n",
       "                                       ╱                                      \n",
       "                                      ╱                                       \n",
       "                                     ╱                                        \n",
       "                                   ╲╱                                         \n",
       "──────────────────────────────── - ───────────────────────────────────────────\n",
       "                                                                              \n",
       "                                                                              \n",
       "________________________________                                              \n",
       "                                                                              \n",
       "                                                                              \n",
       "                                                                              \n",
       "───────────────────────────────                                               \n",
       "_______________________________              _________________________________\n",
       "____________________________                ╱                                 \n",
       "805625539353226054674242691 ⋅ⅈ             ╱                                  \n",
       "──────────────────────────────            ╱   58426851306900569087122830082609\n",
       "                                         ╱    ────────────────────────────────\n",
       "                                        ╱     60847228810955011271841753858048\n",
       "                                       ╱                                      \n",
       "                                      ╱                                       \n",
       "                                     ╱                                        \n",
       "                                   ╲╱                                         \n",
       "──────────────────────────────── + ───────────────────────────────────────────\n",
       "                                                                              \n",
       "                                                                              \n",
       "________________________________                                              \n",
       "                                                                              \n",
       "                                                                              \n",
       "                                                                              \n",
       "───────────────────────────────                                               \n",
       "_______________________________              _________________________________\n",
       "____________________________                ╱                                 \n",
       "805625539353226054674242691 ⋅ⅈ             ╱                                  \n",
       "──────────────────────────────            ╱   58426851306900569087122830082609\n",
       "                                         ╱    ────────────────────────────────\n",
       "                                        ╱     60847228810955011271841753858048\n",
       "                                       ╱                                      \n",
       "                                      ╱                                       \n",
       "                                     ╱                                        \n",
       "                                   ╲╱                                         \n",
       "──────────────────────────────── + ───────────────────────────────────────────\n",
       "                                                                              \n",
       "\n",
       "______________________________________________________________________________\n",
       "                                                                              \n",
       "                                                                              \n",
       "                                                                              \n",
       "──────────────────────────────────────────────────────────────────────────────\n",
       "______________________________________________________________________________\n",
       "         _____________________________________________________________________\n",
       "        ╱                                                                     \n",
       "       ╱   3621643664469432416240806102707025236780428175626240408456064213697\n",
       "+ 2⋅3 ╱   ────────────────────────────────────────────────────────────────────\n",
       "    ╲╱    36044781231165357640415991291611191933920638814768515492856327131999\n",
       "                                                                              \n",
       "                                                                              \n",
       "                                                                              \n",
       "                                                                              \n",
       "──────────────────────────────────────────────────────────────────────────────\n",
       "                                                                              \n",
       "                                                                              \n",
       "                                                                              \n",
       "                                                                              \n",
       "                                                                              \n",
       "                                                                              \n",
       "                                                                              \n",
       "______________________________________________________________________________\n",
       "                                                                              \n",
       "                                                                              \n",
       "                                                                              \n",
       " + ───────────────────────────────────────────────────────────────────────────\n",
       "                                                                         _____\n",
       "                                                                        ╱     \n",
       "                                                                       ╱   362\n",
       "   7404770507945427189697361321508077272422311395351109385068740608⋅3 ╱   ────\n",
       "                                                                    ╲╱    3604\n",
       "──────────────────────────────────────────────────────────────────────────────\n",
       "                                                                              \n",
       "                                                                              \n",
       "                                                                              \n",
       "                                                                              \n",
       "                                                                              \n",
       "                                                                              \n",
       "                                                                              \n",
       "______________________________________________________________________________\n",
       "                                                                              \n",
       "                                                                              \n",
       "                                                                              \n",
       " + ───────────────────────────────────────────────────────────────────────────\n",
       "                                                                         _____\n",
       "                                                                        ╱     \n",
       "                                                                       ╱   362\n",
       "   7404770507945427189697361321508077272422311395351109385068740608⋅3 ╱   ────\n",
       "                                                                    ╲╱    3604\n",
       "──────────────────────────────────────────────────────────────────────────────\n",
       "                                                                              \n",
       "                                                                              \n",
       "                                                                              \n",
       "                                                                              \n",
       "                                                                              \n",
       "                                                                              \n",
       "                                                                              \n",
       "______________________________________________________________________________\n",
       "                                                                              \n",
       "                                                                              \n",
       "                                                                              \n",
       " + ───────────────────────────────────────────────────────────────────────────\n",
       "                                                                         _____\n",
       "                                                                        ╱     \n",
       "                                                                       ╱   362\n",
       "   7404770507945427189697361321508077272422311395351109385068740608⋅3 ╱   ────\n",
       "                                                                    ╲╱    3604\n",
       "──────────────────────────────────────────────────────────────────────────────\n",
       "                                                                              \n",
       "\n",
       "______________________________________________________________________________\n",
       "                                                                              \n",
       "                                                                              \n",
       "                                                                              \n",
       "──────────────────────────────────────────────────────────────────────────────\n",
       "______________________________________________________________________________\n",
       "______________________________________________________________________________\n",
       "                                  ____________________________________________\n",
       "9563790277595446519022039215    ╲╱ 6630480398723219461913352301299508214919342\n",
       "───────────────────────────── + ──────────────────────────────────────────────\n",
       "95787254830928163748521705472                                                 \n",
       "                                                                              \n",
       "                                                                              \n",
       "                                                                              \n",
       "                                                                              \n",
       "──────────────────────────────────────────────────────────────────────────────\n",
       "                                                                              \n",
       "                                                                              \n",
       "                                                                              \n",
       "                                                                              \n",
       "                                                                              \n",
       "                                                                              \n",
       "                                                                              \n",
       "______________________________________________________________________________\n",
       "                                                                              \n",
       "                                                                              \n",
       "                                                                            78\n",
       "──────────────────────────────────────────────────────────────────────────────\n",
       "______________________________________________________________________________\n",
       "                                                                              \n",
       "164366446943241624080610270702523678042817562624040845606421369795637902775954\n",
       "──────────────────────────────────────────────────────────────────────────────\n",
       "478123116535764041599129161119193392063881476851549285632713199995787254830928\n",
       "──────────────────────────────────────────────────────────────────────────────\n",
       "                                                                              \n",
       "                                                                              \n",
       "                                                                              \n",
       "                                                                              \n",
       "                                                                              \n",
       "                                                                              \n",
       "                                                                              \n",
       "______________________________________________________________________________\n",
       "                                                                              \n",
       "                                                                              \n",
       "                                                                            78\n",
       "──────────────────────────────────────────────────────────────────────────────\n",
       "______________________________________________________________________________\n",
       "                                                                              \n",
       "164366446943241624080610270702523678042817562624040845606421369795637902775954\n",
       "──────────────────────────────────────────────────────────────────────────────\n",
       "478123116535764041599129161119193392063881476851549285632713199995787254830928\n",
       "──────────────────────────────────────────────────────────────────────────────\n",
       "                                                                              \n",
       "                                                                              \n",
       "                                                                              \n",
       "                                                                              \n",
       "                                                                              \n",
       "                                                                              \n",
       "                                                                              \n",
       "______________________________________________________________________________\n",
       "                                                                              \n",
       "                                                                              \n",
       "                                                                            78\n",
       "──────────────────────────────────────────────────────────────────────────────\n",
       "______________________________________________________________________________\n",
       "                                                                              \n",
       "164366446943241624080610270702523678042817562624040845606421369795637902775954\n",
       "──────────────────────────────────────────────────────────────────────────────\n",
       "478123116535764041599129161119193392063881476851549285632713199995787254830928\n",
       "──────────────────────────────────────────────────────────────────────────────\n",
       "                                                                              \n",
       "\n",
       "______________________________________________________________________________\n",
       "                                                                              \n",
       "                                                                              \n",
       "                                                                              \n",
       "──────────────────────────────────────────────────────────────────────────────\n",
       "______________________________________________________________________________\n",
       "______________________________________________________________________________\n",
       "______________________________________________________________________________\n",
       "620585730137409289787659133836315198557597303939251914146262202805162832736859\n",
       "──────────────────────────────────────────────────────────────────────────────\n",
       "  1201492707705511921347199709720373064464021293825617183095210904399998595751\n",
       "                                                                              \n",
       "                                                                              \n",
       "                                                                              \n",
       "                                                                              \n",
       "──────────────────────────────────────────────────────────────────────────────\n",
       "                                                                              \n",
       "                                                                              \n",
       "                                                                              \n",
       "                                                                              \n",
       "                                                                              \n",
       "                                                                              \n",
       "                                                                              \n",
       "______________________________________________________________________________\n",
       "                                                                              \n",
       "                                                                              \n",
       "1389906088581596965144948083615756580845595357992290988631471                 \n",
       "──────────────────────────────────────────────────────────────────────────────\n",
       "______________________________________________________________________________\n",
       "                    __________________________________________________________\n",
       "46519022039215    ╲╱ 663048039872321946191335230129950821491934262058573013740\n",
       "─────────────── + ────────────────────────────────────────────────────────────\n",
       "163748521705472                                                   120149270770\n",
       "──────────────────────────────────────────────────────────────────────────────\n",
       "                                                                              \n",
       "                                                                              \n",
       "                                                                              \n",
       "                                                                              \n",
       "                                                                              \n",
       "                                                                              \n",
       "                                                                              \n",
       "______________________________________________________________________________\n",
       "                                                                              \n",
       "                                                                              \n",
       "1389906088581596965144948083615756580845595357992290988631471                 \n",
       "──────────────────────────────────────────────────────────────────────────────\n",
       "______________________________________________________________________________\n",
       "                    __________________________________________________________\n",
       "46519022039215    ╲╱ 663048039872321946191335230129950821491934262058573013740\n",
       "─────────────── + ────────────────────────────────────────────────────────────\n",
       "163748521705472                                                   120149270770\n",
       "──────────────────────────────────────────────────────────────────────────────\n",
       "                                                                              \n",
       "                                                                              \n",
       "                                                                              \n",
       "                                                                              \n",
       "                                                                              \n",
       "                                                                              \n",
       "                                                                              \n",
       "______________________________________________________________________________\n",
       "                                                                              \n",
       "                                                                              \n",
       "1389906088581596965144948083615756580845595357992290988631471                 \n",
       "──────────────────────────────────────────────────────────────────────────────\n",
       "______________________________________________________________________________\n",
       "                    __________________________________________________________\n",
       "46519022039215    ╲╱ 663048039872321946191335230129950821491934262058573013740\n",
       "─────────────── + ────────────────────────────────────────────────────────────\n",
       "163748521705472                                                   120149270770\n",
       "──────────────────────────────────────────────────────────────────────────────\n",
       "                                                                              \n",
       "\n",
       "______________________________________________________________________________\n",
       "                                                                              \n",
       "                                                                              \n",
       "                                                                              \n",
       "──────────────────────────────────────────────────────────────────────── - ───\n",
       "________________________________________________________________________      \n",
       "_______________________________________________________________________       \n",
       "____________________________________________________________________          \n",
       "6146394190109830586854894965107048135259805625539353226054674242691 ⋅ⅈ     740\n",
       "──────────────────────────────────────────────────────────────────────        \n",
       "610309387916173901824                                                         \n",
       "                                                                              \n",
       "                                                                              \n",
       "                                                                              \n",
       "                                                                              \n",
       "──────────────────────────────────────────────────────────────────────────────\n",
       "                                                                              \n",
       "                                                                              \n",
       "                                                                              \n",
       "                                                                              \n",
       "                                                                              \n",
       "                                                                              \n",
       "                                                                              \n",
       "______________________________________________________________________________\n",
       "                                                                              \n",
       "                                                                              \n",
       "                                                                              \n",
       "──────────────────────────────────────────────────────────────────────────────\n",
       "______________________________________________________________________________\n",
       "______________________________________________________________________________\n",
       "928978765913383631519855759730393925191414626220280516283273685961463941901098\n",
       "──────────────────────────────────────────────────────────────────────────────\n",
       "551192134719970972037306446402129382561718309521090439999859575161030938791617\n",
       "──────────────────────────────────────────────────────────────────────────────\n",
       "                                                                              \n",
       "                                                                              \n",
       "                                                                              \n",
       "                                                                              \n",
       "                                                                              \n",
       "                                                                              \n",
       "                                                                              \n",
       "______________________________________________________________________________\n",
       "                                                                              \n",
       "                                                                              \n",
       "                                                                              \n",
       "──────────────────────────────────────────────────────────────────────────────\n",
       "______________________________________________________________________________\n",
       "______________________________________________________________________________\n",
       "928978765913383631519855759730393925191414626220280516283273685961463941901098\n",
       "──────────────────────────────────────────────────────────────────────────────\n",
       "551192134719970972037306446402129382561718309521090439999859575161030938791617\n",
       "──────────────────────────────────────────────────────────────────────────────\n",
       "                                                                              \n",
       "                                                                              \n",
       "                                                                              \n",
       "                                                                              \n",
       "                                                                              \n",
       "                                                                              \n",
       "                                                                              \n",
       "______________________________________________________________________________\n",
       "                                                                              \n",
       "                                                                              \n",
       "                                                                              \n",
       "──────────────────────────────────────────────────────────────────────────────\n",
       "______________________________________________________________________________\n",
       "______________________________________________________________________________\n",
       "928978765913383631519855759730393925191414626220280516283273685961463941901098\n",
       "──────────────────────────────────────────────────────────────────────────────\n",
       "551192134719970972037306446402129382561718309521090439999859575161030938791617\n",
       "──────────────────────────────────────────────────────────────────────────────\n",
       "                                                                              \n",
       "\n",
       "______________________________________________________________________________\n",
       "                                                                              \n",
       "                                                                              \n",
       "                                                                              \n",
       "──────────────────────────────────────────────────────────────────────────────\n",
       "                                                                   ___________\n",
       "                                                                  ╱           \n",
       "                                                                 ╱   362164366\n",
       "4770507945427189697361321508077272422311395351109385068740608⋅3 ╱   ──────────\n",
       "                                                              ╲╱    3604478123\n",
       "                                                                              \n",
       "                                                                              \n",
       "                                                                              \n",
       "                                                                              \n",
       "                                                                              \n",
       "──────────────────────────────────────────────────────────────────────────────\n",
       "                                                                              \n",
       "                                                                              \n",
       "                                                                              \n",
       "                                                                              \n",
       "                                                                              \n",
       "                                                                              \n",
       "                                                                              \n",
       "______________________________________________________________________________\n",
       "                                                                   ___________\n",
       "                                                                  ╱           \n",
       "                                                                 ╱   362164366\n",
       "───────────────────────────────────────────────────────── + 2⋅3 ╱   ──────────\n",
       "_________________________________________________________     ╲╱    3604478123\n",
       "______________________________________________________                        \n",
       "30586854894965107048135259805625539353226054674242691 ⋅ⅈ                      \n",
       "────────────────────────────────────────────────────────                      \n",
       "3901824                                                                       \n",
       "──────────────────────────────────────────────────────────────────────────────\n",
       "    2                                                                         \n",
       "                                                                              \n",
       "                                                                              \n",
       "                                                                              \n",
       "                                                                              \n",
       "                                                                              \n",
       "                                                                              \n",
       "______________________________________________________________________________\n",
       "                                                                   ___________\n",
       "                                                                  ╱           \n",
       "                                                                 ╱   362164366\n",
       "───────────────────────────────────────────────────────── + 2⋅3 ╱   ──────────\n",
       "_________________________________________________________     ╲╱    3604478123\n",
       "______________________________________________________                        \n",
       "30586854894965107048135259805625539353226054674242691 ⋅ⅈ                      \n",
       "────────────────────────────────────────────────────────                      \n",
       "3901824                                                                       \n",
       "──────────────────────────────────────────────────────────────────────────────\n",
       "    2                                                                         \n",
       "                                                                              \n",
       "                                                                              \n",
       "                                                                              \n",
       "                                                                              \n",
       "                                                                              \n",
       "                                                                              \n",
       "______________________________________________________________________________\n",
       "                                                                   ___________\n",
       "                                                                  ╱           \n",
       "                                                                 ╱   362164366\n",
       "───────────────────────────────────────────────────────── + 2⋅3 ╱   ──────────\n",
       "_________________________________________________________     ╲╱    3604478123\n",
       "______________________________________________________                        \n",
       "30586854894965107048135259805625539353226054674242691 ⋅ⅈ                      \n",
       "────────────────────────────────────────────────────────                      \n",
       "3901824                                                                       \n",
       "──────────────────────────────────────────────────────────────────────────────\n",
       "    2                                                                         \n",
       "\n",
       "______________________________________________________________________________\n",
       "                                                                              \n",
       "                                                                              \n",
       "                                                                      78138990\n",
       "──────────────────────────────────────────────────────────────────────────────\n",
       "______________________________________________________________________________\n",
       "                                                                              \n",
       "446943241624080610270702523678042817562624040845606421369795637902775954465190\n",
       "──────────────────────────────────────────────────────────────────────────────\n",
       "116535764041599129161119193392063881476851549285632713199995787254830928163748\n",
       "                                                                              \n",
       "                                                                              \n",
       "                                                                              \n",
       "                                                                              \n",
       "                                                                              \n",
       "──────────────────────────────────────────────────────────────────────────────\n",
       "                                                                              \n",
       "                                                                              \n",
       "                                                                              \n",
       "                                                                              \n",
       "                                                                              \n",
       "                                                                              \n",
       "                                                                              \n",
       "______________________________________________________________________________\n",
       "______________________________________________________________________________\n",
       "                                                                              \n",
       "446943241624080610270702523678042817562624040845606421369795637902775954465190\n",
       "──────────────────────────────────────────────────────────────────────────────\n",
       "116535764041599129161119193392063881476851549285632713199995787254830928163748\n",
       "                                                                              \n",
       "                                                                              \n",
       "                                                                              \n",
       "                                                                              \n",
       "──────────────────────────────────────────────────────────────────────────────\n",
       "                                                                              \n",
       "                                                                              \n",
       "                                                                              \n",
       "                                                                              \n",
       "                                                                              \n",
       "                                                                              \n",
       "                                                                              \n",
       "______________________________________________________________________________\n",
       "______________________________________________________________________________\n",
       "                                                                              \n",
       "446943241624080610270702523678042817562624040845606421369795637902775954465190\n",
       "──────────────────────────────────────────────────────────────────────────────\n",
       "116535764041599129161119193392063881476851549285632713199995787254830928163748\n",
       "                                                                              \n",
       "                                                                              \n",
       "                                                                              \n",
       "                                                                              \n",
       "──────────────────────────────────────────────────────────────────────────────\n",
       "                                                                              \n",
       "                                                                              \n",
       "                                                                              \n",
       "                                                                              \n",
       "                                                                              \n",
       "                                                                              \n",
       "                                                                              \n",
       "______________________________________________________________________________\n",
       "______________________________________________________________________________\n",
       "                                                                              \n",
       "446943241624080610270702523678042817562624040845606421369795637902775954465190\n",
       "──────────────────────────────────────────────────────────────────────────────\n",
       "116535764041599129161119193392063881476851549285632713199995787254830928163748\n",
       "                                                                              \n",
       "                                                                              \n",
       "                                                                              \n",
       "                                                                              \n",
       "──────────────────────────────────────────────────────────────────────────────\n",
       "                                                                              \n",
       "\n",
       "______________________________________________________________________________\n",
       "                                                                              \n",
       "                                                                              \n",
       "6088581596965144948083615756580845595357992290988631471                       \n",
       "──────────────────────────────────────────────────────────────────────────────\n",
       "______________________________________________________________________________\n",
       "              ________________________________________________________________\n",
       "22039215    ╲╱ 663048039872321946191335230129950821491934262058573013740928978\n",
       "───────── + ──────────────────────────────────────────────────────────────────\n",
       "521705472                                                   120149270770551192\n",
       "                                                                              \n",
       "                                                                              \n",
       "                                                                              \n",
       "                                                                              \n",
       "                                                                              \n",
       "──────────────────────────────────────────────────────────────────────────────\n",
       "                                                                              \n",
       "                                                                              \n",
       "                                                                              \n",
       "                                                                              \n",
       "                                                                              \n",
       "                                                                              \n",
       "                                                                              \n",
       "______________________________________________________________________________\n",
       "______________________________________________________________________________\n",
       "              ________________________________________________________________\n",
       "22039215    ╲╱ 663048039872321946191335230129950821491934262058573013740928978\n",
       "───────── + ──────────────────────────────────────────────────────────────────\n",
       "521705472                                                   120149270770551192\n",
       "                                                                              \n",
       "                                                                              \n",
       "                                                                              \n",
       "                                                                              \n",
       "──────────────────────────────────────────────────────────────────────────────\n",
       "                                                                              \n",
       "                                                                              \n",
       "                                                                              \n",
       "                                                                              \n",
       "                                                                              \n",
       "                                                                              \n",
       "                                                                              \n",
       "______________________________________________________________________________\n",
       "______________________________________________________________________________\n",
       "              ________________________________________________________________\n",
       "22039215    ╲╱ 663048039872321946191335230129950821491934262058573013740928978\n",
       "───────── + ──────────────────────────────────────────────────────────────────\n",
       "521705472                                                   120149270770551192\n",
       "                                                                              \n",
       "                                                                              \n",
       "                                                                              \n",
       "                                                                              \n",
       "──────────────────────────────────────────────────────────────────────────────\n",
       "                                                                              \n",
       "                                                                              \n",
       "                                                                              \n",
       "                                                                              \n",
       "                                                                              \n",
       "                                                                              \n",
       "                                                                              \n",
       "______________________________________________________________________________\n",
       "______________________________________________________________________________\n",
       "              ________________________________________________________________\n",
       "22039215    ╲╱ 663048039872321946191335230129950821491934262058573013740928978\n",
       "───────── + ──────────────────────────────────────────────────────────────────\n",
       "521705472                                                   120149270770551192\n",
       "                                                                              \n",
       "                                                                              \n",
       "                                                                              \n",
       "                                                                              \n",
       "──────────────────────────────────────────────────────────────────────────────\n",
       "                                                                              \n",
       "\n",
       "______________________________________________________________________________\n",
       "                                                                              \n",
       "                                                                              \n",
       "                                                                              \n",
       "──────────────────────────────────────────────────────────────────────────────\n",
       "______________________________________________________________________________\n",
       "______________________________________________________________________________\n",
       "765913383631519855759730393925191414626220280516283273685961463941901098305868\n",
       "──────────────────────────────────────────────────────────────────────────────\n",
       "134719970972037306446402129382561718309521090439999859575161030938791617390182\n",
       "                                                                              \n",
       "                                                                              \n",
       "                                                                              \n",
       "                                                                              \n",
       "                                                                              \n",
       "──────────────────────────────────────────────────────────────────────────────\n",
       "                                                                              \n",
       "                                                                              \n",
       "                                                                              \n",
       "                                                                              \n",
       "                                                                              \n",
       "                                                                              \n",
       "                                                                              \n",
       "______________________________________________________________________________\n",
       "______________________________________________________________________________\n",
       "______________________________________________________________________________\n",
       "765913383631519855759730393925191414626220280516283273685961463941901098305868\n",
       "──────────────────────────────────────────────────────────────────────────────\n",
       "134719970972037306446402129382561718309521090439999859575161030938791617390182\n",
       "                                                                              \n",
       "                                                                              \n",
       "                                                                              \n",
       "                                                                              \n",
       "──────────────────────────────────────────────────────────────────────────────\n",
       "                                                                              \n",
       "                                                                              \n",
       "                                                                              \n",
       "                                                                              \n",
       "                                                                              \n",
       "                                                                              \n",
       "                                                                              \n",
       "______________________________________________________________________________\n",
       "______________________________________________________________________________\n",
       "______________________________________________________________________________\n",
       "765913383631519855759730393925191414626220280516283273685961463941901098305868\n",
       "──────────────────────────────────────────────────────────────────────────────\n",
       "134719970972037306446402129382561718309521090439999859575161030938791617390182\n",
       "                                                                              \n",
       "                                                                              \n",
       "                                                                              \n",
       "                                                                              \n",
       "──────────────────────────────────────────────────────────────────────────────\n",
       "                                                                              \n",
       "                                                                              \n",
       "                                                                              \n",
       "                                                                              \n",
       "                                                                              \n",
       "                                                                              \n",
       "                                                                              \n",
       "______________________________________________________________________________\n",
       "______________________________________________________________________________\n",
       "______________________________________________________________________________\n",
       "765913383631519855759730393925191414626220280516283273685961463941901098305868\n",
       "──────────────────────────────────────────────────────────────────────────────\n",
       "134719970972037306446402129382561718309521090439999859575161030938791617390182\n",
       "                                                                              \n",
       "                                                                              \n",
       "                                                                              \n",
       "                                                                              \n",
       "──────────────────────────────────────────────────────────────────────────────\n",
       "                                                                              \n",
       "\n",
       "____________________________________________________⎤\n",
       "                                                    ⎥\n",
       "                                                    ⎥\n",
       "                                                    ⎥\n",
       "─────────────────────────────────────────────────── ⎥\n",
       "___________________________________________________ ⎥\n",
       "________________________________________________    ⎥\n",
       "54894965107048135259805625539353226054674242691 ⋅ⅈ  ⎥\n",
       "──────────────────────────────────────────────────  ⎥\n",
       "4                                                   ⎥\n",
       "                                                    ⎥\n",
       "                                                    ⎥\n",
       "                                                    ⎥\n",
       "                                                    ⎥\n",
       "                                                    ⎥\n",
       "────────────────────────────────────────────────────⎥\n",
       "                                                    ⎥\n",
       "                                                    ⎥\n",
       "                                                    ⎥\n",
       "                                                    ⎥\n",
       "                                                    ⎥\n",
       "                                                    ⎥\n",
       "                                                    ⎥\n",
       "____________________________________________________⎥\n",
       "___________________________________________________ ⎥\n",
       "________________________________________________    ⎥\n",
       "54894965107048135259805625539353226054674242691 ⋅ⅈ  ⎥\n",
       "──────────────────────────────────────────────────  ⎥\n",
       "4                                                   ⎥\n",
       "                                                    ⎥\n",
       "                                                    ⎥\n",
       "                                                    ⎥\n",
       "                                                    ⎥\n",
       "────────────────────────────────────────────────────⎥\n",
       "                                                    ⎥\n",
       "                                                    ⎥\n",
       "                                                    ⎥\n",
       "                                                    ⎥\n",
       "                                                    ⎥\n",
       "                                                    ⎥\n",
       "                                                    ⎥\n",
       "____________________________________________________⎥\n",
       "___________________________________________________ ⎥\n",
       "________________________________________________    ⎥\n",
       "54894965107048135259805625539353226054674242691 ⋅ⅈ  ⎥\n",
       "──────────────────────────────────────────────────  ⎥\n",
       "4                                                   ⎥\n",
       "                                                    ⎥\n",
       "                                                    ⎥\n",
       "                                                    ⎥\n",
       "                                                    ⎥\n",
       "────────────────────────────────────────────────────⎥\n",
       "                                                    ⎥\n",
       "                                                    ⎥\n",
       "                                                    ⎥\n",
       "                                                    ⎥\n",
       "                                                    ⎥\n",
       "                                                    ⎥\n",
       "                                                    ⎥\n",
       "____________________________________________________⎥\n",
       "___________________________________________________ ⎥\n",
       "________________________________________________    ⎥\n",
       "54894965107048135259805625539353226054674242691 ⋅ⅈ  ⎥\n",
       "──────────────────────────────────────────────────  ⎥\n",
       "4                                                   ⎥\n",
       "                                                    ⎥\n",
       "                                                    ⎥\n",
       "                                                    ⎥\n",
       "                                                    ⎥\n",
       "────────────────────────────────────────────────────⎥\n",
       "                                                    ⎦"
      ]
     },
     "execution_count": 31,
     "metadata": {},
     "output_type": "execute_result"
    }
   ],
   "source": [
    "λ=solve(p(x),x)"
   ]
  },
  {
   "cell_type": "code",
   "execution_count": 32,
   "metadata": {
    "collapsed": false
   },
   "outputs": [
    {
     "data": {
      "text/plain": [
       "4"
      ]
     },
     "execution_count": 32,
     "metadata": {},
     "output_type": "execute_result"
    }
   ],
   "source": [
    "length(λ)"
   ]
  },
  {
   "cell_type": "markdown",
   "metadata": {},
   "source": [
    "### Example - Circulant matrix\n",
    "\n",
    "For more details, see \n",
    "[A. B&ouml;ttcher and I. Spitkovsky, Special Types of Matrices][BoSp14] and the references therein.\n",
    "\n",
    "[BoSp14]: #1 \"L. Hogben, ed., 'Handbook of Linear Algebra', pp. 22.1-22.20, CRC Press, Boca Raton, 2014.\"\n",
    "\n",
    "Given $a_0,a_1,\\ldots,a_{n-1}\\in \\mathbb{C}$, the __circulant matrix__ is\n",
    "\n",
    "$$\n",
    "C(a_0,a_1,\\ldots,a_{n-1})=\\begin{bmatrix}\n",
    "a_0 & a_{n-1} & a_{n-2} & \\cdots & a_{1} \\\\\n",
    "a_1 & a_0 & a_{n-1} & \\cdots & a_{2} \\\\\n",
    "a_2 & a_1 & a_{0} & \\cdots & a_{3} \\\\\n",
    "\\vdots & \\vdots & \\vdots & \\ddots & \\vdots \\\\\n",
    "a_{n-1} & a_{n-2} & a_{n-3} & \\cdots & a_{0}\n",
    "\\end{bmatrix}.\n",
    "$$\n",
    "\n",
    "Let $a(z)=a_0+a_1z+a_2z^2+\\cdots +a_{n-1}z^{n-1}$ be the associated complex polynomial.\n",
    "\n",
    "Let $\\omega_n=\\exp(2\\pi i/n)$. The __Fourier matrix__ of order $n$ is\n",
    "\n",
    "$$\n",
    "F_n=\\frac{1}{\\sqrt{n}} \\bigg[ \\omega_n^{(j-1)(k-1)}\\bigg]_{j,k=1}^n=\n",
    "\\frac{1}{\\sqrt{n}} \\begin{bmatrix} \n",
    "1 & & 1 & \\cdots & 1 \\\\\n",
    "1& \\omega_n & \\omega_n^2 & \\cdots \\omega_n^{n-1} \\\\\n",
    "1& \\omega_n^2 & \\omega_n^4 & \\cdots \\omega_n^{2(n-1)} \\\\\n",
    "\\vdots & \\vdots & \\vdots & \\ddots & \\vdots \\\\\n",
    "1& \\omega_n^{n-1} & \\omega_n^{2(n-1)} & \\cdots \\omega_n^{(n-1)(n-1)}\n",
    "\\end{bmatrix}.\n",
    "$$\n",
    "\n",
    "Fourier matrix is unitary. \n",
    "Fourier matrix is Vandermonde matrix, $F_n=\\displaystyle\\frac{1}{\\sqrt{n}} V(1,\\omega_n,\\omega_n^2,\\ldots, \\omega_n^{n-1})$.\n",
    "\n",
    "Circulant matrix is normal and, thus, unitarily diagonalizable, with the eigenvalue decomposition\n",
    "\n",
    "$$\n",
    "C(a_0,a_1,\\ldots,a_{n-1})=F_n^*\\mathop{\\mathrm{diag}}[(a(1),a(\\omega_n),a(\\omega_n^2),\\ldots, \n",
    "a(\\omega_n^{n-1})]F_n.\n",
    "$$\n",
    "\n",
    "We shall use the package [SpecialMatrices.jl](https://github.com/jiahao/SpecialMatrices.jl)."
   ]
  },
  {
   "cell_type": "code",
   "execution_count": 33,
   "metadata": {
    "collapsed": true
   },
   "outputs": [],
   "source": [
    "using SpecialMatrices\n",
    "using Polynomials"
   ]
  },
  {
   "cell_type": "code",
   "execution_count": 34,
   "metadata": {
    "collapsed": false
   },
   "outputs": [
    {
     "name": "stdout",
     "output_type": "stream",
     "text": [
      "                        Cauchy    180 bytes  DataType\n",
      "                     Circulant    168 bytes  DataType\n",
      "                     Companion    168 bytes  DataType\n",
      "                     Frobenius    180 bytes  DataType\n",
      "                        Hankel    168 bytes  DataType\n",
      "                       Hilbert    180 bytes  DataType\n",
      "                         Kahan    244 bytes  DataType\n",
      "                       Riemann    168 bytes  DataType\n",
      "               SpecialMatrices   3457 bytes  Module\n",
      "                        Strang    168 bytes  DataType\n",
      "                      Toeplitz    168 bytes  DataType\n",
      "                   Vandermonde    168 bytes  DataType\n"
     ]
    }
   ],
   "source": [
    "whos(SpecialMatrices)"
   ]
  },
  {
   "cell_type": "code",
   "execution_count": 35,
   "metadata": {
    "collapsed": false
   },
   "outputs": [
    {
     "data": {
      "text/plain": [
       "6-element Array{Int64,1}:\n",
       "  4\n",
       " -5\n",
       "  8\n",
       "  4\n",
       "  5\n",
       "  2"
      ]
     },
     "execution_count": 35,
     "metadata": {},
     "output_type": "execute_result"
    }
   ],
   "source": [
    "n=6\n",
    "a=rand(-9:9,n)"
   ]
  },
  {
   "cell_type": "code",
   "execution_count": 36,
   "metadata": {
    "collapsed": false
   },
   "outputs": [
    {
     "data": {
      "text/plain": [
       "6x6 SpecialMatrices.Circulant{Int64}:\n",
       "  4   2   5   4   8  -5\n",
       " -5   4   2   5   4   8\n",
       "  8  -5   4   2   5   4\n",
       "  4   8  -5   4   2   5\n",
       "  5   4   8  -5   4   2\n",
       "  2   5   4   8  -5   4"
      ]
     },
     "execution_count": 36,
     "metadata": {},
     "output_type": "execute_result"
    }
   ],
   "source": [
    "C=Circulant(a)"
   ]
  },
  {
   "cell_type": "code",
   "execution_count": 37,
   "metadata": {
    "collapsed": false
   },
   "outputs": [
    {
     "data": {
      "text/plain": [
       "6x6 Array{Int64,2}:\n",
       " 0  0  0  0  0  0\n",
       " 0  0  0  0  0  0\n",
       " 0  0  0  0  0  0\n",
       " 0  0  0  0  0  0\n",
       " 0  0  0  0  0  0\n",
       " 0  0  0  0  0  0"
      ]
     },
     "execution_count": 37,
     "metadata": {},
     "output_type": "execute_result"
    }
   ],
   "source": [
    "# Check for normality\n",
    "full(C)*full(C)'-full(C)'*full(C)"
   ]
  },
  {
   "cell_type": "code",
   "execution_count": 38,
   "metadata": {
    "collapsed": false
   },
   "outputs": [
    {
     "data": {
      "text/plain": [
       "Poly(4 - 5x + 8x^2 + 4x^3 + 5x^4 + 2x^5)"
      ]
     },
     "execution_count": 38,
     "metadata": {},
     "output_type": "execute_result"
    }
   ],
   "source": [
    "p1=Polynomials.Poly(a)"
   ]
  },
  {
   "cell_type": "code",
   "execution_count": 39,
   "metadata": {
    "collapsed": false
   },
   "outputs": [
    {
     "data": {
      "text/plain": [
       "0.5000000000000001 + 0.8660254037844386im"
      ]
     },
     "execution_count": 39,
     "metadata": {},
     "output_type": "execute_result"
    }
   ],
   "source": [
    "ω=exp(2*π*im/n)"
   ]
  },
  {
   "cell_type": "code",
   "execution_count": 40,
   "metadata": {
    "collapsed": false
   },
   "outputs": [
    {
     "data": {
      "text/plain": [
       "6x6 SpecialMatrices.Vandermonde{Any}:\n",
       " 1.0+0.0im            1.0+0.0im       …            1.0+0.0im     \n",
       " 1.0+0.0im            0.5+0.866025im               0.5-0.866025im\n",
       " 1.0+0.0im           -0.5+0.866025im              -0.5-0.866025im\n",
       " 1.0+0.0im  -1.0+3.88578e-16im           -1.0+1.94289e-15im      \n",
       " 1.0+0.0im           -0.5-0.866025im              -0.5+0.866025im\n",
       " 1.0+0.0im            0.5-0.866025im  …            0.5+0.866025im"
      ]
     },
     "execution_count": 40,
     "metadata": {},
     "output_type": "execute_result"
    }
   ],
   "source": [
    "v=[ω^k for k=0:n-1]\n",
    "F=Vandermonde(v)"
   ]
  },
  {
   "cell_type": "code",
   "execution_count": 41,
   "metadata": {
    "collapsed": false
   },
   "outputs": [
    {
     "data": {
      "text/plain": [
       "6x6 Array{Any,2}:\n",
       "                  18.0+0.0im  …   1.13243e-14-1.06581e-14im    \n",
       " -2.44249e-15+2.22045e-16im      -2.66454e-15+1.55431e-15im    \n",
       " -1.77636e-15+2.27596e-15im       -3.9968e-15-1.11022e-15im    \n",
       "           0.0+3.4972e-15im       -5.9952e-15-7.10543e-15im    \n",
       "  2.44249e-15+6.21725e-15im      -4.66294e-15-9.10383e-15im    \n",
       "  1.06581e-14+9.65894e-15im   …                   -8.0+3.4641im"
      ]
     },
     "execution_count": 41,
     "metadata": {},
     "output_type": "execute_result"
    }
   ],
   "source": [
    "Fn=full(F)/sqrt(n)\n",
    "Λ=Fn*full(C)*Fn'"
   ]
  },
  {
   "cell_type": "code",
   "execution_count": 42,
   "metadata": {
    "collapsed": false
   },
   "outputs": [
    {
     "data": {
      "text/plain": [
       "6x2 Array{Any,2}:\n",
       "          18.0+0.0im               18.0+0.0im    \n",
       "          -8.0-3.4641im            -8.0-3.4641im \n",
       "           3.0-8.66025im            3.0-8.66025im\n",
       " 16.0-2.36658e-30im       16.0-7.38298e-15im     \n",
       "           3.0+8.66025im            3.0+8.66025im\n",
       "          -8.0+3.4641im            -8.0+3.4641im "
      ]
     },
     "execution_count": 42,
     "metadata": {},
     "output_type": "execute_result"
    }
   ],
   "source": [
    "[diag(Λ) p1(v)]"
   ]
  },
  {
   "cell_type": "markdown",
   "metadata": {},
   "source": [
    "\n",
    "## Hermitian and real symmetric matrices\n",
    "\n",
    "For more details and the proofs of the Facts below, see \n",
    "[W. Barrett, Hermitian and Positive Definite Matrices][Bar14] and the references therein.\n",
    "\n",
    "[Bar14]: #1 \"L. Hogben, ed., 'Handbook of Linear Algebra', pp. 9.1-9.13, CRC Press, Boca Raton, 2014.\"\n",
    "\n",
    "### Definitions\n",
    "\n",
    "Matrix $A\\in \\mathbb{C}^{n\\times n}$ is __Hermitian__ or __self-adjoint__ if $A^*=A$, \n",
    "or element-wise, $\\bar a_{ij}=a_{ji}$. We say $A\\in\\mathcal{H}_n$.\n",
    "\n",
    "Matrix $A\\in \\mathbb{R}^{n\\times n}$ is __symmetric__ if $A^T=A$, or element-wise, $a_{ij}=a_{ji}$.\n",
    "We say $A\\in\\mathcal{S}_n$.\n",
    "\n",
    "__Rayleigh qoutient__ of $A\\in\\mathcal{H}_n$ and nonzero vector $x\\in\\mathbb{C}^n$ is\n",
    "\n",
    "$$\n",
    "R_A(x)=\\frac{x^*Ax}{x^*x}.\n",
    "$$\n",
    "\n",
    "Matrices $A,B \\in\\mathcal{H}_n$ are __congruent__ if there exists nonsingular matrix $C$ such that \n",
    "$B=C^*AC$.\n",
    "\n",
    "__Inertia__ of $A\\in\\mathcal{H}_n$ is the ordered triple \n",
    "$$\\mathop{\\mathrm{in}}(A)=(\\pi(A),\\nu(A),\\zeta(A)),$$\n",
    "\n",
    "where $\\pi(A)$ is the number of positive eigenvalues of $A$,  $\\nu(A)$ is the number of negative eigenvalues of $A$,\n",
    "and $\\pi(A)$ is the number of zero eigenvalues of $A$.\n",
    "\n",
    "__Gram matrix__ of a set of vectors $x_1,x_2,\\ldots,x_k\\in\\mathbb{C}^{n}$ is the matrix $G$ with entries $G_{ij}=x_i^*x_j$. "
   ]
  },
  {
   "cell_type": "markdown",
   "metadata": {},
   "source": [
    "### Facts\n",
    "\n",
    "Assume $A$ is Hermitian and $x\\in\\mathbb{C}^n$ is nonzero. Then\n",
    "\n",
    "1. Real symmetric matrix is Hermitian, and real Hermitian matrix is symmetric.\n",
    "2. Hermitian and real symmetric matrices are normal.\n",
    "2. $A+A^*$, $A^*A$, and $AA^*$ are Hermitian.\n",
    "3. If $A$ is nonsingular, $A^{-1}$ is Hermitian.\n",
    "4. Main diagonal entries of $A$ are real.\n",
    "5. Matrix $T$ from the Schur decomposition of $A$ is Hermitian. Consequently:\n",
    "    * $T$ is diagonal and real, and has eigenvalues of $A$ on diagonal,\n",
    "    * matrix $Q$ of the Schur decomposition is the unitary matrix of eigenvectors,\n",
    "    * all eigenvalues of $A$ are semisimple and $A$ is nondefective,\n",
    "    * eigenvectors corresponding to distinct eigenvalues are orthogonal.\n",
    "6. To summarize _(Spectral Theorem)_:\n",
    "    * if $A\\in\\mathcal{H}_n$, there is a unitary matrix $U$ and real diagonal matrix $\\Lambda$ such that \n",
    "    $A=U\\Lambda U^*$. The diagonal entries of $\\Lambda$ are the eigenvalues of $A$, and the \n",
    "    columns of $U$ are the corresponding eigenvectors.\n",
    "    * if $A\\in\\mathcal{S}_n$, the same holds with orthogonal matrix $U$, $A=U\\Lambda U^T$.\n",
    "    * if $A\\in\\mathcal{H}_n$ with eigenpairs $(\\lambda_i,u_i)$, then\n",
    "    $$ A=\\lambda_1u_1u_1^*+\\lambda_2 u_2u_2^* +\\cdots +\\lambda_n u_nu_n^*.$$\n",
    "    * similarly, if  $A\\in\\mathcal{S}_n$, then\n",
    "    $$ A=\\lambda_1u_1u_1^T+\\lambda_2 u_2u_2^T +\\cdots +\\lambda_n u_nu_n^T.$$\n",
    "\n",
    "7. Since all eigenvalues of $A$ are real, they can be ordered:\n",
    "$$\\lambda_1\\geq \\lambda_2\\geq \\cdots \\geq \\lambda_n.$$\n",
    "8. _(Rayleigh-Ritz Theorem)_ It holds:\n",
    "\\begin{align*}\n",
    "\\lambda_n &\\leq \\frac{x^*Ax}{x^*x} \\leq \\lambda_1, \\\\\n",
    "\\lambda_1&=\\max_x\\frac{x^*Ax}{x^*x} =\\max_{\\|x\\|_2=1} x^*Ax, \\\\\n",
    "\\lambda_n&=\\min_x\\frac{x^*Ax}{x^*x} =\\min_{\\|x\\|_2=1} x^*Ax.\n",
    "\\end{align*}\n",
    "\n",
    "8. _(Courant-Fischer Theorem)_ Iz holds:\n",
    "\\begin{align*}\n",
    "\\lambda_k& =\\max_{\\dim(W)=k}\\min_{x\\in W} \\frac{x^*Ax}{x^*x}\\\\\n",
    "& =\\min_{\\dim(W)=n-k+1}\\max_{x\\in W} \\frac{x^*Ax}{x^*x}.\n",
    "\\end{align*} \n",
    "\n",
    "10. _(Cauchy Interlace Theorem)_ For $i\\in\\{1,2,\\ldots,n\\}$, let $A(i)$ be the principal submatrix of $A$ obtained by deleting its $t$-th row and $i$-th column with ordered eigenvalues $\\mu_1\\geq \\mu_2\\geq \\cdots \\geq \\mu_{n-1}$. Then\n",
    "$$\n",
    "\\lambda_1\\geq \\mu_1\\geq \\lambda_2\\geq \\mu_2\\geq \\lambda_3\\geq\\cdots\\geq \\lambda_{n-1}\\geq\\mu_{n-1}\\geq\\lambda_n.\n",
    "$$\n",
    "\n",
    "9. _(Weyl Inequalities)_ For $A,B\\in\\mathcal{H}_n$, it holds:\n",
    "\\begin{align*}\n",
    "   \\lambda_{j+k-1}(A+B)& \\leq \\lambda_j(A)+\\lambda_k(B), & \\textrm{for} \\ j+k\\leq n+1,\\\\\n",
    "   \\lambda_{j+k-n}(A+B)& \\geq \\lambda_j(A)+\\lambda_k(B), & \\textrm{for} \\ j+k\\geq n+1,\n",
    "\\end{align*}\n",
    "and, in particular, \n",
    "$$\n",
    "\\lambda_j(A)+\\lambda_n(B) \\leq \\lambda_j(A+B) \\leq \\lambda_j(A)+\\lambda_1(B),\\quad \\textrm{for} \\ j=1,2,\\ldots,n.\n",
    "$$\n",
    "\n",
    "11. $\\pi(A)+\\mu(A)+\\zeta(A)=n$.\n",
    "\n",
    "12. $\\mathop{\\mathrm{rank}}(A)=\\pi(A)+\\mu(A)$.\n",
    "\n",
    "13. If $A$ is nonsingular, $\\mathop{\\mathrm{in}}(A)=\\mathop{\\mathrm{in}}(A^{-1})$.\n",
    "\n",
    "13. If $A,B \\in\\mathcal{H}_n$ are similar,  $\\mathop{\\mathrm{in}}(A)=\\mathop{\\mathrm{in}}(B)$.\n",
    "\n",
    "14. _(Sylvester's Law of Inertia)_ $A,B \\in\\mathcal{H}_n$ are congruent if and only if $\\mathop{\\mathrm{in}}(A)=\\mathop{\\mathrm{in}}(B)$.\n",
    "\n",
    "15. _(Subadditivity of Inertia)_ For $A,B \\in\\mathcal{H}_n$, \n",
    "$$\n",
    "\\pi(A+B)\\leq \\pi(A)+\\pi(B), \\qquad \\nu(A+B)\\leq \\nu(A)+\\nu(B).\n",
    "$$\n",
    "\n",
    "16. Gram matrix is Hermitian."
   ]
  },
  {
   "cell_type": "markdown",
   "metadata": {},
   "source": [
    "### Example - Hermitian matrix"
   ]
  },
  {
   "cell_type": "code",
   "execution_count": 43,
   "metadata": {
    "collapsed": false
   },
   "outputs": [
    {
     "data": {
      "text/plain": [
       "5x5 Array{Complex{Float64},2}:\n",
       " 0.930265+0.0im        0.446557-0.23971im    …  0.620903+0.558634im \n",
       " 0.446557+0.23971im    0.792802+0.0im            1.39358-0.0253063im\n",
       "  1.24079-0.0947762im  0.624038+0.578241im       1.31563-0.10475im  \n",
       " 0.499987-0.306236im    1.07387-0.101868im      0.755314-0.479241im \n",
       " 0.620903-0.558634im    1.39358+0.0253063im      1.35722+0.0im      "
      ]
     },
     "execution_count": 43,
     "metadata": {},
     "output_type": "execute_result"
    }
   ],
   "source": [
    "# Generating Hermitian matrix\n",
    "n=5\n",
    "A=rand(n,n)+im*rand(n,n)\n",
    "A=A+A'"
   ]
  },
  {
   "cell_type": "code",
   "execution_count": 44,
   "metadata": {
    "collapsed": false
   },
   "outputs": [
    {
     "data": {
      "text/plain": [
       "true"
      ]
     },
     "execution_count": 44,
     "metadata": {},
     "output_type": "execute_result"
    }
   ],
   "source": [
    "ishermitian(A)"
   ]
  },
  {
   "cell_type": "code",
   "execution_count": 45,
   "metadata": {
    "collapsed": false
   },
   "outputs": [
    {
     "data": {
      "text/plain": [
       "5-element Array{Complex{Float64},1}:\n",
       " 0.930265+0.0im\n",
       " 0.792802+0.0im\n",
       "  1.83815+0.0im\n",
       " 0.865551+0.0im\n",
       "  1.35722+0.0im"
      ]
     },
     "execution_count": 45,
     "metadata": {},
     "output_type": "execute_result"
    }
   ],
   "source": [
    "# Diagonal entries\n",
    "diag(A)"
   ]
  },
  {
   "cell_type": "code",
   "execution_count": 46,
   "metadata": {
    "collapsed": false
   },
   "outputs": [
    {
     "data": {
      "text/plain": [
       "(\n",
       "5x5 Array{Complex{Float64},2}:\n",
       " 4.97221+2.99221e-16im   …   3.31972e-16-2.79937e-16im\n",
       "              0.0+0.0im     -1.70617e-17+3.35373e-16im\n",
       "              0.0+0.0im      2.72364e-16-9.63298e-17im\n",
       "              0.0+0.0im      1.24872e-16-1.67455e-16im\n",
       "              0.0+0.0im         0.169802-1.32495e-17im,\n",
       "\n",
       "5x5 Array{Complex{Float64},2}:\n",
       " -0.351083-1.81092e-16im         …  -0.374509-1.37831e-11im       \n",
       "          -0.363634+0.153284im                0.129804-0.0787185im\n",
       "          -0.550146+0.0856471im               0.171122-0.178376im \n",
       "          -0.332781+0.190726im                -0.17148+0.761714im \n",
       "          -0.499072+0.121761im                0.252983-0.319347im ,\n",
       "\n",
       "Complex{Float64}[4.97220930971698 + 2.992206477244406e-16im,-1.1053843410787303 - 2.3938809024036223e-17im,1.1293589323803475 + 9.737615962788045e-17im,0.618006366063353 - 8.185271609502246e-17im,0.1698017757791636 - 1.3249526076973543e-17im])"
      ]
     },
     "execution_count": 46,
     "metadata": {},
     "output_type": "execute_result"
    }
   ],
   "source": [
    "# Schur decomposition\n",
    "T,Q=schur(A)"
   ]
  },
  {
   "cell_type": "code",
   "execution_count": 47,
   "metadata": {
    "collapsed": false
   },
   "outputs": [
    {
     "data": {
      "text/plain": [
       "([-1.1053843410787294,0.1698017757791621,0.6180063660633512,1.129358932380346,4.972209309716976],\n",
       "5x5 Array{Complex{Float64},2}:\n",
       " -0.124628+0.395363im   0.232553+0.293558im   …  -0.341079-0.0832149im\n",
       "  0.575162+0.189603im  -0.142305-0.0528654im     -0.389604+0.0627262im\n",
       "  0.244847-0.278837im  -0.246078-0.0233699im      -0.55477-0.047191im \n",
       " -0.269686-0.163431im   0.703548-0.338576im      -0.368504+0.106414im \n",
       " -0.473556-0.0im        -0.40741-0.0im           -0.513711-0.0im      )"
      ]
     },
     "execution_count": 47,
     "metadata": {},
     "output_type": "execute_result"
    }
   ],
   "source": [
    "λ,U=eig(A)"
   ]
  },
  {
   "cell_type": "code",
   "execution_count": 48,
   "metadata": {
    "collapsed": false
   },
   "outputs": [
    {
     "data": {
      "text/plain": [
       "5x5 Array{Complex{Float64},2}:\n",
       "  6.66134e-16+2.77556e-17im  …  0.0+1.11022e-16im \n",
       "          0.0+7.21645e-16im     0.0+5.55112e-17im \n",
       "  1.11022e-15+9.71445e-17im     -2.22045e-16+0.0im\n",
       " -5.55112e-17+1.11022e-16im      2.22045e-16+0.0im\n",
       "          0.0-1.11022e-16im       1.9984e-15+0.0im"
      ]
     },
     "execution_count": 48,
     "metadata": {},
     "output_type": "execute_result"
    }
   ],
   "source": [
    "# Spectral theorem\n",
    "A-U*diagm(λ)*U'"
   ]
  },
  {
   "cell_type": "code",
   "execution_count": 49,
   "metadata": {
    "collapsed": false
   },
   "outputs": [
    {
     "data": {
      "text/plain": [
       "5x5 Array{Complex{Float64},2}:\n",
       " 6.66134e-16+1.04083e-17im   1.11022e-16-7.77156e-16im  …  0.0+2.22045e-16im \n",
       "         0.0+7.77156e-16im  -5.55112e-16-1.38778e-17im     0.0+1.11022e-16im \n",
       " 8.88178e-16+1.66533e-16im  -6.66134e-16+2.22045e-16im     -2.22045e-16+0.0im\n",
       "         0.0+1.11022e-16im   1.11022e-15+3.05311e-16im      2.22045e-16+0.0im\n",
       "         0.0-1.11022e-16im           0.0-1.11022e-16im       1.9984e-15+0.0im"
      ]
     },
     "execution_count": 49,
     "metadata": {},
     "output_type": "execute_result"
    }
   ],
   "source": [
    "# Spectral theorem\n",
    "A-sum([λ[i]*U[:,i]*U[:,i]' for i=1:n])"
   ]
  },
  {
   "cell_type": "code",
   "execution_count": 50,
   "metadata": {
    "collapsed": false
   },
   "outputs": [
    {
     "data": {
      "text/plain": [
       "5-element Array{Float64,1}:\n",
       " -1.10538 \n",
       "  0.169802\n",
       "  0.618006\n",
       "  1.12936 \n",
       "  4.97221 "
      ]
     },
     "execution_count": 50,
     "metadata": {},
     "output_type": "execute_result"
    }
   ],
   "source": [
    "λ"
   ]
  },
  {
   "cell_type": "code",
   "execution_count": 52,
   "metadata": {
    "collapsed": false
   },
   "outputs": [
    {
     "name": "stdout",
     "output_type": "stream",
     "text": [
      "i = rand(1:n) = 2\n"
     ]
    },
    {
     "data": {
      "text/plain": [
       "4-element Array{Float64,1}:\n",
       " -0.311907\n",
       "  0.215373\n",
       "  0.849404\n",
       "  4.23832 "
      ]
     },
     "execution_count": 52,
     "metadata": {},
     "output_type": "execute_result"
    }
   ],
   "source": [
    "# Cauchy Interlace Theorem (repeat several times)\n",
    "@show i=rand(1:n)\n",
    "μ=eigvals(A[[1:i-1;i+1:n],[1:i-1;i+1:n]])"
   ]
  },
  {
   "cell_type": "code",
   "execution_count": 53,
   "metadata": {
    "collapsed": false
   },
   "outputs": [
    {
     "data": {
      "text/plain": [
       "inertia (generic function with 1 method)"
      ]
     },
     "execution_count": 53,
     "metadata": {},
     "output_type": "execute_result"
    }
   ],
   "source": [
    "# Inertia\n",
    "inertia(A)=[sum(eigvals(A).>0), sum(eigvals(A).<0), sum(eigvals(A).==0)]"
   ]
  },
  {
   "cell_type": "code",
   "execution_count": 54,
   "metadata": {
    "collapsed": false
   },
   "outputs": [
    {
     "data": {
      "text/plain": [
       "3-element Array{Int64,1}:\n",
       " 4\n",
       " 1\n",
       " 0"
      ]
     },
     "execution_count": 54,
     "metadata": {},
     "output_type": "execute_result"
    }
   ],
   "source": [
    "inertia(A)"
   ]
  },
  {
   "cell_type": "code",
   "execution_count": 55,
   "metadata": {
    "collapsed": false
   },
   "outputs": [
    {
     "ename": "LoadError",
     "evalue": "LoadError: MethodError: `isless` has no method matching isless(::Int64, ::Complex{Float64})\nClosest candidates are:\n  isless(::Real, !Matched::AbstractFloat)\n  isless(::Real, !Matched::Real)\n  isless(::Integer, !Matched::Char)\n  ...\nwhile loading In[55], in expression starting on line 5",
     "output_type": "error",
     "traceback": [
      "LoadError: MethodError: `isless` has no method matching isless(::Int64, ::Complex{Float64})\nClosest candidates are:\n  isless(::Real, !Matched::AbstractFloat)\n  isless(::Real, !Matched::Real)\n  isless(::Integer, !Matched::Char)\n  ...\nwhile loading In[55], in expression starting on line 5",
      "",
      " in bitcache_lt at broadcast.jl:406",
      " in .< at broadcast.jl:422",
      " in .> at operators.jl:39",
      " in inertia at In[53]:2"
     ]
    }
   ],
   "source": [
    "# Similar matrices\n",
    "C=rand(n,n)+im*rand(n,n)\n",
    "inertia(A)\n",
    "B=C*A*inv(C)\n",
    "inertia(A)==inertia(B)"
   ]
  },
  {
   "cell_type": "markdown",
   "metadata": {},
   "source": [
    "This did not work numerically due to rounding errors!"
   ]
  },
  {
   "cell_type": "code",
   "execution_count": 56,
   "metadata": {
    "collapsed": false
   },
   "outputs": [
    {
     "data": {
      "text/plain": [
       "5-element Array{Complex{Float64},1}:\n",
       "  4.97221-8.60748e-16im\n",
       " -1.10538+2.38106e-16im\n",
       "  1.12936-2.87045e-15im\n",
       " 0.618006+8.47049e-16im\n",
       " 0.169802+2.07205e-15im"
      ]
     },
     "execution_count": 56,
     "metadata": {},
     "output_type": "execute_result"
    }
   ],
   "source": [
    "eigvals(B)"
   ]
  },
  {
   "cell_type": "code",
   "execution_count": 57,
   "metadata": {
    "collapsed": false
   },
   "outputs": [
    {
     "ename": "LoadError",
     "evalue": "LoadError: MethodError: `isless` has no method matching isless(::Int64, ::Complex{Float64})\nClosest candidates are:\n  isless(::Real, !Matched::AbstractFloat)\n  isless(::Real, !Matched::Real)\n  isless(::Integer, !Matched::Char)\n  ...\nwhile loading In[57], in expression starting on line 3",
     "output_type": "error",
     "traceback": [
      "LoadError: MethodError: `isless` has no method matching isless(::Int64, ::Complex{Float64})\nClosest candidates are:\n  isless(::Real, !Matched::AbstractFloat)\n  isless(::Real, !Matched::Real)\n  isless(::Integer, !Matched::Char)\n  ...\nwhile loading In[57], in expression starting on line 3",
      "",
      " in bitcache_lt at broadcast.jl:406",
      " in .< at broadcast.jl:422",
      " in .> at operators.jl:39",
      " in inertia at In[53]:2"
     ]
    }
   ],
   "source": [
    "# Congruent matrices - this does not work either, without some preparation\n",
    "B=C'*A*C\n",
    "inertia(A)==inertia(B)"
   ]
  },
  {
   "cell_type": "code",
   "execution_count": 58,
   "metadata": {
    "collapsed": false
   },
   "outputs": [
    {
     "ename": "LoadError",
     "evalue": "LoadError: ArgumentError: Cannot construct Hermitian from matrix with nonreal diagonals\nwhile loading In[58], in expression starting on line 1",
     "output_type": "error",
     "traceback": [
      "LoadError: ArgumentError: Cannot construct Hermitian from matrix with nonreal diagonals\nwhile loading In[58], in expression starting on line 1",
      "",
      " in call at linalg/symmetric.jl:16",
      " in call at linalg/symmetric.jl:14"
     ]
    }
   ],
   "source": [
    "Hermitian(B)"
   ]
  },
  {
   "cell_type": "code",
   "execution_count": 59,
   "metadata": {
    "collapsed": false
   },
   "outputs": [
    {
     "data": {
      "text/plain": [
       "(false,true,true)"
      ]
     },
     "execution_count": 59,
     "metadata": {},
     "output_type": "execute_result"
    }
   ],
   "source": [
    "# We need to symmetrize B so that the right algorithm is called\n",
    "ishermitian(B), ishermitian((B+B')/2), inertia(A)==inertia((B+B')/2)"
   ]
  },
  {
   "cell_type": "code",
   "execution_count": 60,
   "metadata": {
    "collapsed": false
   },
   "outputs": [
    {
     "data": {
      "text/html": [
       "eigvals<i>{T}</i>(A::<b>Union{DenseArray{T,2},SubArray{T,2,A<:DenseArray{T,N},I<:Tuple{Vararg{Union{Colon,Int64,Range{Int64}}}},LD}}</b>) at <a href=\"https://github.com/JuliaLang/julia/tree/2ac304dfba75fad148d4070ef4f8a2e400c305bb/base/linalg/eigen.jl#L91\" target=\"_blank\">linalg/eigen.jl:91</a>"
      ],
      "text/plain": [
       "eigvals{T}(A::Union{DenseArray{T,2},SubArray{T,2,A<:DenseArray{T,N},I<:Tuple{Vararg{Union{Colon,Int64,Range{Int64}}}},LD}}) at linalg/eigen.jl:91"
      ]
     },
     "execution_count": 60,
     "metadata": {},
     "output_type": "execute_result"
    }
   ],
   "source": [
    "@which eigvals(B)"
   ]
  },
  {
   "cell_type": "code",
   "execution_count": 61,
   "metadata": {
    "collapsed": false
   },
   "outputs": [
    {
     "name": "stdout",
     "output_type": "stream",
     "text": [
      "λ = [-1.1053843410787294,0.1698017757791621,0.6180063660633512,1.129358932380346,4.972209309716976]\n"
     ]
    },
    {
     "data": {
      "text/plain": [
       "([-0.23154741710143145,-0.15326123035607958,0.01796649934153011,0.08284903593293096,0.49501846002615163],[-1.2463486879607786,0.178554938573957,0.5234515208368188,1.1226314420175756,5.416728177236637])"
      ]
     },
     "execution_count": 61,
     "metadata": {},
     "output_type": "execute_result"
    }
   ],
   "source": [
    "# Weyl Inequalities\n",
    "B=rand(n,n)+im*rand(n,n)\n",
    "B=(B+B')/10\n",
    "@show λ\n",
    "μ=eigvals(B)\n",
    "γ=eigvals(A+B)\n",
    "μ,γ"
   ]
  },
  {
   "cell_type": "code",
   "execution_count": 62,
   "metadata": {
    "collapsed": false
   },
   "outputs": [
    {
     "name": "stdout",
     "output_type": "stream",
     "text": [
      "(j,k) = (2,4)\n",
      "((sort(γ,rev=true))[(j + k) - 1],(sort(λ,rev=true))[j] + (sort(μ,rev=true))[k]) = (-1.2463486879607786,0.9760977020242663)\n"
     ]
    },
    {
     "data": {
      "text/plain": [
       "(5.416728177236637,0.9760977020242663)"
      ]
     },
     "execution_count": 62,
     "metadata": {},
     "output_type": "execute_result"
    }
   ],
   "source": [
    "# Theorem uses different order!\n",
    "j=rand(1:n)\n",
    "k=rand(1:n)\n",
    "@show j,k\n",
    "if j+k<=n+1\n",
    "    @show sort(γ,rev=true)[j+k-1], sort(λ,rev=true)[j]+sort(μ,rev=true)[k]\n",
    "end\n",
    "if j+k>=n+1\n",
    "    sort(γ,rev=true)[j+k-n], sort(λ,rev=true)[j]+sort(μ,rev=true)[k]\n",
    "end"
   ]
  },
  {
   "cell_type": "code",
   "execution_count": 63,
   "metadata": {
    "collapsed": false
   },
   "outputs": [
    {
     "data": {
      "text/plain": [
       "5-element Array{Float64,1}:\n",
       "  4.97221 \n",
       "  1.12936 \n",
       "  0.618006\n",
       "  0.169802\n",
       " -1.10538 "
      ]
     },
     "execution_count": 63,
     "metadata": {},
     "output_type": "execute_result"
    }
   ],
   "source": [
    "sort(λ,rev=true)"
   ]
  },
  {
   "cell_type": "markdown",
   "metadata": {},
   "source": [
    "### Example - real symmetric matrix"
   ]
  },
  {
   "cell_type": "code",
   "execution_count": 64,
   "metadata": {
    "collapsed": false
   },
   "outputs": [
    {
     "data": {
      "text/plain": [
       "6x6 Array{Int64,2}:\n",
       "   0   -1  -14    2   -6   5\n",
       "  -1    2   -3    3  -17  -3\n",
       " -14   -3  -14    4  -13   1\n",
       "   2    3    4  -14    0   0\n",
       "  -6  -17  -13    0  -16  -8\n",
       "   5   -3    1    0   -8  -8"
      ]
     },
     "execution_count": 64,
     "metadata": {},
     "output_type": "execute_result"
    }
   ],
   "source": [
    "# Generating real symmetric matrix\n",
    "n=6\n",
    "A=rand(-9:9,n,n)\n",
    "A=A+A'"
   ]
  },
  {
   "cell_type": "code",
   "execution_count": 65,
   "metadata": {
    "collapsed": false
   },
   "outputs": [
    {
     "data": {
      "text/plain": [
       "true"
      ]
     },
     "execution_count": 65,
     "metadata": {},
     "output_type": "execute_result"
    }
   ],
   "source": [
    "issym(A)"
   ]
  },
  {
   "cell_type": "code",
   "execution_count": 66,
   "metadata": {
    "collapsed": false
   },
   "outputs": [
    {
     "data": {
      "text/plain": [
       "(\n",
       "6x6 Array{Float64,2}:\n",
       " -39.7394  -8.80632e-15  -8.10921e-16  …    1.16954e-15  -1.58972e-15\n",
       "   0.0     13.6532       -4.44176e-16      -1.47832e-15  -2.9341e-15 \n",
       "   0.0      0.0           9.4661            1.44043e-15   2.41438e-15\n",
       "   0.0      0.0           0.0               1.42709e-15  -1.0919e-15 \n",
       "   0.0      0.0           0.0             -12.9772       -1.13111e-15\n",
       "   0.0      0.0           0.0          …    0.0          -1.82811    ,\n",
       "\n",
       "6x6 Array{Float64,2}:\n",
       "  0.295696   0.102096   0.839836   -0.385488  -0.21092     0.0610468\n",
       "  0.339894   0.780159  -0.0355622   0.250292   0.127033   -0.442467 \n",
       "  0.555995   0.153619  -0.498047   -0.428417  -0.221213    0.432139 \n",
       " -0.148995   0.114242  -0.0178641   0.379001  -0.904953    0.0429885\n",
       "  0.668625  -0.571326   0.0135791   0.367211  -0.0429109  -0.29943  \n",
       "  0.136556   0.133663   0.211792    0.5716     0.263929    0.722666 ,\n",
       "\n",
       "[-39.73939736719243,13.653170408610627,9.466101069121056,-18.574569389956697,-12.977193295562968,-1.8281114250196009])"
      ]
     },
     "execution_count": 66,
     "metadata": {},
     "output_type": "execute_result"
    }
   ],
   "source": [
    "T,Q=schur(A)"
   ]
  },
  {
   "cell_type": "code",
   "execution_count": 67,
   "metadata": {
    "collapsed": false
   },
   "outputs": [
    {
     "data": {
      "text/plain": [
       "([-39.73939736719237,-18.574569389956714,-12.977193295562964,-1.8281114250196318,9.466101069121045,13.653170408610608],\n",
       "6x6 Array{Float64,2}:\n",
       " -0.295696  -0.385488   0.21092     0.0610468   0.839836   -0.102096\n",
       " -0.339894   0.250292  -0.127033   -0.442467   -0.0355622  -0.780159\n",
       " -0.555995  -0.428417   0.221213    0.432139   -0.498047   -0.153619\n",
       "  0.148995   0.379001   0.904953    0.0429885  -0.0178641  -0.114242\n",
       " -0.668625   0.367211   0.0429109  -0.29943     0.0135791   0.571326\n",
       " -0.136556   0.5716    -0.263929    0.722666    0.211792   -0.133663)"
      ]
     },
     "execution_count": 67,
     "metadata": {},
     "output_type": "execute_result"
    }
   ],
   "source": [
    "λ,U=eig(A)"
   ]
  },
  {
   "cell_type": "code",
   "execution_count": 68,
   "metadata": {
    "collapsed": false
   },
   "outputs": [
    {
     "data": {
      "text/plain": [
       "6x6 Array{Float64,2}:\n",
       " -6.63358e-15  -8.21565e-15  -5.32907e-15  …   0.0          -7.99361e-15\n",
       " -8.65974e-15   8.88178e-15  -6.66134e-15      7.10543e-15   2.22045e-15\n",
       " -5.32907e-15  -5.77316e-15  -1.77636e-14     -3.55271e-15  -2.44249e-15\n",
       "  9.76996e-15  -8.88178e-16   1.28786e-14      0.0          -4.63518e-15\n",
       "  8.88178e-16   1.06581e-14  -3.55271e-15      0.0           1.24345e-14\n",
       " -9.76996e-15   2.22045e-15  -1.77636e-15  …   1.06581e-14   7.10543e-14"
      ]
     },
     "execution_count": 68,
     "metadata": {},
     "output_type": "execute_result"
    }
   ],
   "source": [
    "A-sum([λ[i]*U[:,i]*U[:,i]' for i=1:n])"
   ]
  },
  {
   "cell_type": "code",
   "execution_count": 69,
   "metadata": {
    "collapsed": false
   },
   "outputs": [
    {
     "data": {
      "text/plain": [
       "3-element Array{Int64,1}:\n",
       " 2\n",
       " 4\n",
       " 0"
      ]
     },
     "execution_count": 69,
     "metadata": {},
     "output_type": "execute_result"
    }
   ],
   "source": [
    "inertia(A)"
   ]
  },
  {
   "cell_type": "code",
   "execution_count": 70,
   "metadata": {
    "collapsed": false
   },
   "outputs": [
    {
     "data": {
      "text/plain": [
       "3-element Array{Int64,1}:\n",
       " 2\n",
       " 4\n",
       " 0"
      ]
     },
     "execution_count": 70,
     "metadata": {},
     "output_type": "execute_result"
    }
   ],
   "source": [
    "C=rand(n,n)\n",
    "inertia(C'*A*C)"
   ]
  },
  {
   "cell_type": "markdown",
   "metadata": {},
   "source": [
    "## Positive definite matrices\n",
    "\n",
    "These matrices are an important subset of Hermitian or real symmteric matrices.\n",
    "\n",
    "### Definitions\n",
    "\n",
    "Matrix $A\\in\\mathcal{H}_n$ is __positive definite__ (PD) if $x^*Ax>0$ for all nonzero $x\\in\\mathbb{C}^n$.\n",
    "\n",
    "Matrix $A\\in\\mathcal{H}_n$ is __positive semidefinite__ (PSD) if $x^*Ax\\geq 0$ for all nonzero $x\\in\\mathbb{C}^n$.\n",
    "\n",
    "### Facts\n",
    "\n",
    "1. $A\\in\\mathcal{S}_n$ is PD if $x^TAx>0$ for all nonzero $x\\in \\mathbb{R}^n$, and is PSD if $x^TAx\\geq 0$ for all $x\\in \\mathbb{R}^n$.\n",
    " \n",
    "2. If $A,B\\in \\mathrm{PSD}_n$, then $A+B\\in \\mathrm{PSD}_n$. If, in addition, $A\\in \\mathrm{PD}_n$, then $A+B\\in \\mathrm{PD}_n$.\n",
    "\n",
    "3. If $A\\in \\mathrm{PD}_n$, then $\\mathop{\\mathrm{tr}}(A)>0$ and $\\det(A)>0$. \n",
    "\n",
    "3. If $A\\in \\mathrm{PSD}_n$, then $\\mathop{\\mathrm{tr}}(A)\\geq 0$ and $\\det(A)\\geq 0$.\n",
    "\n",
    "4. Any principal submatrix of a PD matrix is PD. Any principal submatrix of a PSD matrix is PSD. Consequently, all minors are positive or nonnegative, respectively.\n",
    "\n",
    "5. $A\\in\\mathcal{H}_n$ is PD iff _every leading_ principal minor of $A$ is positive. $A\\in\\mathcal{H}_n$ is PSD iff\n",
    "_every_ principal minor is nonnegative.\n",
    "\n",
    "6. For $A\\in \\mathrm{PSD}_n$, there exists unique PSD $k$-th __root__, $A^{1/k}=U\\Lambda^{1/k} U^*$.\n",
    "\n",
    "7. _(Cholesky Factorization)_ $A\\in\\mathcal{H}_n$ if PD iff there is an invertible lower triangular matrix $L$ with positive diagonal entries such that $A=LL^*$.\n",
    "\n",
    "8. Gram matrix is PDS. If the vectors are linearly independent, Gram matrix is PD."
   ]
  },
  {
   "cell_type": "markdown",
   "metadata": {},
   "source": [
    "### Example - Positive definite matrix"
   ]
  },
  {
   "cell_type": "code",
   "execution_count": 71,
   "metadata": {
    "collapsed": false
   },
   "outputs": [
    {
     "data": {
      "text/plain": [
       "5x5 Array{Complex{Float64},2}:\n",
       " 2.13672+0.0im       2.04993+0.652056im    …  1.76093+0.404015im  \n",
       " 2.04993-0.652056im  3.04994+0.0im            1.66653-0.00587273im\n",
       " 2.41067-0.723804im  2.82863-0.0383012im       2.7673+0.0468083im \n",
       " 2.61585-0.995044im  3.14551+0.168999im       2.53888+0.0152369im \n",
       " 1.76093-0.404015im  1.66653+0.00587273im     2.31123+0.0im       "
      ]
     },
     "execution_count": 71,
     "metadata": {},
     "output_type": "execute_result"
    }
   ],
   "source": [
    "# Generating positive definite matrix as a Gram matrix\n",
    "n=5\n",
    "A=rand(n,n)+im*rand(n,n)\n",
    "A=A*A'"
   ]
  },
  {
   "cell_type": "code",
   "execution_count": 72,
   "metadata": {
    "collapsed": false
   },
   "outputs": [
    {
     "data": {
      "text/plain": [
       "true"
      ]
     },
     "execution_count": 72,
     "metadata": {},
     "output_type": "execute_result"
    }
   ],
   "source": [
    "ishermitian(A)"
   ]
  },
  {
   "cell_type": "code",
   "execution_count": 73,
   "metadata": {
    "collapsed": false
   },
   "outputs": [
    {
     "data": {
      "text/plain": [
       "5-element Array{Float64,1}:\n",
       "  0.0415939\n",
       "  0.181826 \n",
       "  0.624074 \n",
       "  1.15728  \n",
       " 13.9352   "
      ]
     },
     "execution_count": 73,
     "metadata": {},
     "output_type": "execute_result"
    }
   ],
   "source": [
    "eigvals(A)"
   ]
  },
  {
   "cell_type": "code",
   "execution_count": 74,
   "metadata": {
    "collapsed": false
   },
   "outputs": [
    {
     "data": {
      "text/plain": [
       "5-element Array{Any,1}:\n",
       "            2.13672+0.0im\n",
       "   1.88947-3.33067e-16im \n",
       "   1.52243-5.55112e-17im \n",
       "   0.73343-1.66533e-16im \n",
       " 0.0761158-9.19403e-17im "
      ]
     },
     "execution_count": 74,
     "metadata": {},
     "output_type": "execute_result"
    }
   ],
   "source": [
    "# Positivity of principal leading minors\n",
    "[det(A[1:i,1:i]) for i=1:n]"
   ]
  },
  {
   "cell_type": "code",
   "execution_count": 75,
   "metadata": {
    "collapsed": false
   },
   "outputs": [
    {
     "data": {
      "text/plain": [
       "5x5 Array{Complex{Float64},2}:\n",
       "          0.0-5.55112e-17im  …  2.22045e-16-1.66533e-16im \n",
       "  2.22045e-15-7.77156e-16im     6.66134e-16+2.77556e-17im \n",
       "  4.44089e-16-7.77156e-16im             0.0-4.16334e-17im \n",
       " -8.88178e-16-5.55112e-16im                      0.0+0.0im\n",
       " -2.22045e-16+2.22045e-16im             0.0+6.93889e-18im "
      ]
     },
     "execution_count": 75,
     "metadata": {},
     "output_type": "execute_result"
    }
   ],
   "source": [
    "# Square root\n",
    "λ,U=eig(A)\n",
    "Ar=U*diagm(sqrt(λ))*U'\n",
    "A-Ar*Ar"
   ]
  },
  {
   "cell_type": "code",
   "execution_count": 76,
   "metadata": {
    "collapsed": false
   },
   "outputs": [
    {
     "data": {
      "text/plain": [
       "5x5 UpperTriangular{Complex{Float64},Array{Complex{Float64},2}}:\n",
       " 1.46175+0.0im   1.40238+0.446078im  …    1.20467+0.276391im\n",
       "     0.0+0.0im  0.940364+0.0im          -0.155439+0.153025im\n",
       "     0.0+0.0im       0.0+0.0im           0.757055+0.140758im\n",
       "     0.0+0.0im       0.0+0.0im           0.103922+0.168838im\n",
       "     0.0+0.0im       0.0+0.0im            0.32215+0.0im     "
      ]
     },
     "execution_count": 76,
     "metadata": {},
     "output_type": "execute_result"
    }
   ],
   "source": [
    "# Cholesky factorization - the upper triangular factor is returned\n",
    "L=chol(A)"
   ]
  },
  {
   "cell_type": "code",
   "execution_count": 77,
   "metadata": {
    "collapsed": false
   },
   "outputs": [
    {
     "data": {
      "text/plain": [
       "5x5 Array{Complex{Float64},2}:\n",
       " 4.44089e-16+0.0im  0.0+0.0im  …  0.0+0.0im           0.0+0.0im\n",
       "         0.0+0.0im  0.0+0.0im     0.0+0.0im           0.0+0.0im\n",
       "         0.0+0.0im  0.0+0.0im     0.0+0.0im  -4.44089e-16+0.0im\n",
       "         0.0+0.0im  0.0+0.0im     0.0+0.0im           0.0+0.0im\n",
       "         0.0+0.0im  0.0+0.0im     0.0+0.0im           0.0+0.0im"
      ]
     },
     "execution_count": 77,
     "metadata": {},
     "output_type": "execute_result"
    }
   ],
   "source": [
    "A-L'*L"
   ]
  },
  {
   "cell_type": "markdown",
   "metadata": {},
   "source": [
    "### Example - Positive semidefinite matrix"
   ]
  },
  {
   "cell_type": "code",
   "execution_count": 78,
   "metadata": {
    "collapsed": false
   },
   "outputs": [
    {
     "data": {
      "text/plain": [
       "6x4 Array{Int64,2}:\n",
       " -8   1  -2  -8\n",
       "  0   2  -9   3\n",
       "  4  -4  -3  -4\n",
       "  8   8  -5   1\n",
       " -6   4  -3   1\n",
       " -3   7  -5  -5"
      ]
     },
     "execution_count": 78,
     "metadata": {},
     "output_type": "execute_result"
    }
   ],
   "source": [
    "# Generating positive semidefinite matrix as a Gram matrix, try it several times\n",
    "n=6\n",
    "m=4\n",
    "A=rand(-9:9,n,m)"
   ]
  },
  {
   "cell_type": "code",
   "execution_count": 79,
   "metadata": {
    "collapsed": false
   },
   "outputs": [
    {
     "data": {
      "text/plain": [
       "6x6 Array{Int64,2}:\n",
       " 133  -4    2  -54   50   81\n",
       "  -4  94    7   64   38   44\n",
       "   2   7   57   11  -35   -5\n",
       " -54  64   11  154    0   52\n",
       "  50  38  -35    0   62   56\n",
       "  81  44   -5   52   56  108"
      ]
     },
     "execution_count": 79,
     "metadata": {},
     "output_type": "execute_result"
    }
   ],
   "source": [
    "A=A*A'"
   ]
  },
  {
   "cell_type": "code",
   "execution_count": 80,
   "metadata": {
    "collapsed": false
   },
   "outputs": [
    {
     "data": {
      "text/plain": [
       "6-element Array{Float64,1}:\n",
       "  -4.55977e-14\n",
       "   3.47453e-14\n",
       "  53.5483     \n",
       "  79.3895     \n",
       " 222.5        \n",
       " 252.562      "
      ]
     },
     "execution_count": 80,
     "metadata": {},
     "output_type": "execute_result"
    }
   ],
   "source": [
    "# There are rounding errors!\n",
    "eigvals(A)"
   ]
  },
  {
   "cell_type": "code",
   "execution_count": 81,
   "metadata": {
    "collapsed": false
   },
   "outputs": [
    {
     "ename": "LoadError",
     "evalue": "LoadError: Base.LinAlg.PosDefException(6)\nwhile loading In[81], in expression starting on line 2",
     "output_type": "error",
     "traceback": [
      "LoadError: Base.LinAlg.PosDefException(6)\nwhile loading In[81], in expression starting on line 2",
      "",
      " in chol! at linalg/cholesky.jl:28",
      " in chol at linalg/cholesky.jl:83"
     ]
    }
   ],
   "source": [
    "# Cholesky factorization - this can fail\n",
    "L=chol(A)"
   ]
  },
  {
   "cell_type": "markdown",
   "metadata": {},
   "source": [
    "### Example - Covariance and corellation matrices \n",
    "\n",
    "[Covariance and correlation matrices](https://en.wikipedia.org/wiki/Covariance_matrix) are PSD.\n",
    "\n",
    "Correlation matrix is diagonally scaled covariance matrix."
   ]
  },
  {
   "cell_type": "code",
   "execution_count": 82,
   "metadata": {
    "collapsed": false
   },
   "outputs": [
    {
     "data": {
      "text/plain": [
       "10x5 Array{Float64,2}:\n",
       " 0.382984  0.811281     0.278149   0.974734  0.729655 \n",
       " 0.310468  0.0102155    0.56755    0.176882  0.0530882\n",
       " 0.984338  0.236825     0.865804   0.487037  0.50051  \n",
       " 0.253985  0.589349     0.770382   0.197951  0.235257 \n",
       " 0.956739  0.857433     0.285229   0.319533  0.88351  \n",
       " 0.252092  0.796644     0.172707   0.796444  0.539951 \n",
       " 0.608766  0.911805     0.311762   0.163555  0.940078 \n",
       " 0.536686  0.000851031  0.161175   0.997979  0.732685 \n",
       " 0.26581   0.905121     0.0715346  0.556449  0.881676 \n",
       " 0.415975  0.568633     0.682676   0.824884  0.727126 "
      ]
     },
     "execution_count": 82,
     "metadata": {},
     "output_type": "execute_result"
    }
   ],
   "source": [
    "x=rand(10,5)"
   ]
  },
  {
   "cell_type": "code",
   "execution_count": 83,
   "metadata": {
    "collapsed": false
   },
   "outputs": [
    {
     "data": {
      "text/plain": [
       "5x5 Array{Float64,2}:\n",
       "  0.0766409   -0.00836436   0.0173629  -0.0154941    0.0267039\n",
       " -0.00836436   0.13        -0.0400246  -0.00779476   0.0629573\n",
       "  0.0173629   -0.0400246    0.0790824  -0.0334204   -0.0477527\n",
       " -0.0154941   -0.00779476  -0.0334204   0.109666     0.0309496\n",
       "  0.0267039    0.0629573   -0.0477527   0.0309496    0.0851784"
      ]
     },
     "execution_count": 83,
     "metadata": {},
     "output_type": "execute_result"
    }
   ],
   "source": [
    "A=cov(x)"
   ]
  },
  {
   "cell_type": "code",
   "execution_count": 84,
   "metadata": {
    "collapsed": false
   },
   "outputs": [
    {
     "data": {
      "text/plain": [
       "5x5 Array{Float64,2}:\n",
       "  1.0        -0.0837976   0.223024  -0.169006    0.330507\n",
       " -0.0837976   1.0        -0.394744  -0.0652824   0.598288\n",
       "  0.223024   -0.394744    1.0       -0.358869   -0.581826\n",
       " -0.169006   -0.0652824  -0.358869   1.0         0.320224\n",
       "  0.330507    0.598288   -0.581826   0.320224    1.0     "
      ]
     },
     "execution_count": 84,
     "metadata": {},
     "output_type": "execute_result"
    }
   ],
   "source": [
    "B=cor(x)"
   ]
  },
  {
   "cell_type": "code",
   "execution_count": 85,
   "metadata": {
    "collapsed": false
   },
   "outputs": [
    {
     "data": {
      "text/plain": [
       "5-element Array{Float64,1}:\n",
       " 3.61218\n",
       " 2.77351\n",
       " 3.55599\n",
       " 3.0197 \n",
       " 3.42638"
      ]
     },
     "execution_count": 85,
     "metadata": {},
     "output_type": "execute_result"
    }
   ],
   "source": [
    "# Diagonal scaling\n",
    "D=1./sqrt(diag(A))"
   ]
  },
  {
   "cell_type": "code",
   "execution_count": 86,
   "metadata": {
    "collapsed": false
   },
   "outputs": [
    {
     "data": {
      "text/plain": [
       "5x5 Array{Float64,2}:\n",
       "  1.0        -0.0837976   0.223024  -0.169006    0.330507\n",
       " -0.0837976   1.0        -0.394744  -0.0652824   0.598288\n",
       "  0.223024   -0.394744    1.0       -0.358869   -0.581826\n",
       " -0.169006   -0.0652824  -0.358869   1.0         0.320224\n",
       "  0.330507    0.598288   -0.581826   0.320224    1.0     "
      ]
     },
     "execution_count": 86,
     "metadata": {},
     "output_type": "execute_result"
    }
   ],
   "source": [
    "diagm(D)*A*diagm(D)"
   ]
  },
  {
   "cell_type": "code",
   "execution_count": 87,
   "metadata": {
    "collapsed": false
   },
   "outputs": [
    {
     "data": {
      "text/plain": [
       "5-element Array{Float64,1}:\n",
       " 0.00983091\n",
       " 0.0408597 \n",
       " 0.091886  \n",
       " 0.126605  \n",
       " 0.211385  "
      ]
     },
     "execution_count": 87,
     "metadata": {},
     "output_type": "execute_result"
    }
   ],
   "source": [
    "eigvals(A)"
   ]
  },
  {
   "cell_type": "code",
   "execution_count": 88,
   "metadata": {
    "collapsed": false
   },
   "outputs": [
    {
     "data": {
      "text/plain": [
       "5-element Array{Float64,1}:\n",
       " 0.110847\n",
       " 0.435094\n",
       " 0.997431\n",
       " 1.28431 \n",
       " 2.17232 "
      ]
     },
     "execution_count": 88,
     "metadata": {},
     "output_type": "execute_result"
    }
   ],
   "source": [
    "eigvals(B)"
   ]
  },
  {
   "cell_type": "code",
   "execution_count": 89,
   "metadata": {
    "collapsed": false
   },
   "outputs": [
    {
     "data": {
      "text/plain": [
       "10x10 Array{Float64,2}:\n",
       "  0.0865769    -0.0535646   -0.0758885   …   0.0846432   0.0249248 \n",
       " -0.0535646     0.0506594    0.0561362      -0.0804714  -0.00326197\n",
       " -0.0758885     0.0561362    0.092953       -0.0995166  -0.01967   \n",
       " -0.036562      0.0279582    0.00301951     -0.0309425  -0.00422148\n",
       " -0.000188678  -0.0418649   -0.0102708       0.0592671  -0.0350109 \n",
       "  0.0840092    -0.0545177   -0.0820834   …   0.0870902   0.0196161 \n",
       "  0.00988806   -0.0506268   -0.0425159       0.0888104  -0.021833  \n",
       "  0.0537261    -0.0174446    0.00674174      0.0134598   0.0313896 \n",
       "  0.0846432    -0.0804714   -0.0995166       0.136223    0.0120651 \n",
       "  0.0249248    -0.00326197  -0.01967         0.0120651   0.0247001 "
      ]
     },
     "execution_count": 89,
     "metadata": {},
     "output_type": "execute_result"
    }
   ],
   "source": [
    "C=cov(x')"
   ]
  },
  {
   "cell_type": "code",
   "execution_count": 90,
   "metadata": {
    "collapsed": false
   },
   "outputs": [
    {
     "data": {
      "text/plain": [
       "10-element Array{Float64,1}:\n",
       " -3.90575e-17\n",
       " -1.67429e-17\n",
       " -9.14431e-18\n",
       "  9.04107e-18\n",
       "  1.40744e-17\n",
       "  6.38284e-17\n",
       "  0.0241912  \n",
       "  0.163102   \n",
       "  0.283797   \n",
       "  0.468208   "
      ]
     },
     "execution_count": 90,
     "metadata": {},
     "output_type": "execute_result"
    }
   ],
   "source": [
    "eigvals(C)"
   ]
  },
  {
   "cell_type": "code",
   "execution_count": null,
   "metadata": {
    "collapsed": true
   },
   "outputs": [],
   "source": []
  }
 ],
 "metadata": {
  "kernelspec": {
   "display_name": "Julia 0.4.5",
   "language": "julia",
   "name": "julia-0.4"
  },
  "language_info": {
   "file_extension": ".jl",
   "mimetype": "application/julia",
   "name": "julia",
   "version": "0.4.5"
  }
 },
 "nbformat": 4,
 "nbformat_minor": 0
}
