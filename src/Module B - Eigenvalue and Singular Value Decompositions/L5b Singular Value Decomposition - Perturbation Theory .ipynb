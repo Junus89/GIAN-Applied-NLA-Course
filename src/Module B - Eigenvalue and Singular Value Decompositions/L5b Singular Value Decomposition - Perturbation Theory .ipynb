{
 "cells": [
  {
   "cell_type": "markdown",
   "metadata": {},
   "source": [
    "# Singular Value Decomposition - Perturbation Theory\n",
    "\n",
    "---\n",
    "\n",
    "## Prerequisites\n",
    "\n",
    "The reader should be familiar with eigenvalue decomposition, singular value decompostion, and perturbation theory for eigenvalue decomposition.\n",
    "\n",
    "## Competences \n",
    "\n",
    "The reader should be able to understand and check the facts about perturbations of singular values and vectors.\n",
    "\n",
    "---"
   ]
  },
  {
   "cell_type": "markdown",
   "metadata": {},
   "source": [
    "## Peturbation bounds\n",
    "\n",
    "For more details and the proofs of the Facts below, see \n",
    "[R.-C. Li, Matrix Perturbation Theory][Hog14], and the references therein.\n",
    "\n",
    "[Hog14]: #1 \"L. Hogben, ed., 'Handbook of Linear Algebra', pp. 21.6-21.8 and 21.16-21.18, CRC Press, Boca Raton, 2014.\"\n",
    "\n",
    "### Definitions\n",
    "Let $A\\in\\mathbb{C}^{m\\times n}$ and let $A=U\\Sigma V^*$ be its SVD.\n",
    "\n",
    "The set of $A$'s singular values is $sv(B)=\\{\\sigma_1,\\sigma_2,\\ldots)$, with \n",
    "$\\sigma_1\\geq \\sigma_2\\geq \\cdots\\geq 0$, and let \n",
    "$sv_{ext}(B)=sv(B)$ unless $m>n$ for which $sv_{ext}(B)=sv(B)\\cup \\{0,\\ldots,0\\}$ (additional $|m-n|$ zeros).\n",
    "\n",
    "Triplet $(u,\\sigma,v)\\in\\times\\mathbb{C}^{m}\\times\\mathbb{R}\\times\\mathbb{C}^{n}$ is a __singular triplet__ of $A$ if $\\|u\\|_2=1$, $\\|v\\|_2=1$, $\\sigma\\geq 0$, and $Av=\\sigma u$ and $A^*u=\\sigma v$.\n",
    "\n",
    "$\\tilde A=A+\\Delta A$ is a __perturbed matrix__, where $\\Delta A$ is __perturbation__.\n",
    "_The same notation is adopted to $\\tilde A$, except all symbols are with tildes._\n",
    "\n",
    "__Spectral condition number__ of $A$ is $\\kappa_2(A)=\\sigma_{\\max}(A)/ \\sigma_{\\min}(A)$.\n",
    "\n",
    "Let $X,Y\\in\\mathbb{C}^{n\\times k}$ with $\\mathop{\\mathrm{rank}}(X)=\\mathop{\\mathrm{rank}}(Y)=k$. The __canonical angles__ between their column spaces are $\\theta_i=\\cos^{-1}\\sigma_i$, where $\\sigma_i$ are the singular values of \n",
    "$(Y^*Y)^{-1/2}Y^*X(X^*X)^{-1/2}$. The __canonical angle matrix__ between $X$ and $Y$ is \n",
    "$$\\Theta(X,Y)=\\mathop{\\mathrm{diag}}(\\theta_1,\\theta_2,\\ldots,\\theta_k).\n",
    "$$\n",
    "    "
   ]
  },
  {
   "cell_type": "markdown",
   "metadata": {},
   "source": [
    "### Facts\n",
    "\n",
    "1. _(Mirsky)_ $\\|\\Sigma-\\tilde\\Sigma\\|_2\\leq \\|\\Delta A\\|_2$ and \n",
    "$\\|\\Sigma-\\tilde\\Sigma\\|_F\\leq \\|\\Delta A\\|_F$.\n",
    "\n",
    "2.  _(Residual bounds)_ Let $\\|\\tilde u\\|_2=\\|\\tilde v\\|_2=1$ and \n",
    "$\\tilde \\mu=\\tilde u^* A \\tilde v$. Let residuals $r=A\\tilde v-\\tilde \\mu \\tilde u$ and $s=A^*\\tilde u - \\tilde \\mu \\tilde v$, and let \n",
    "$\\varepsilon=\\max\\{\\|r\\|_2,\\|s\\|_2\\}$. Then $|\\tilde \\mu -\\mu|\\leq \\varepsilon$ for some singular value $\\mu$ of $A$. \n",
    "\n",
    "3. The smallest error matrix $\\Delta A$ for which $(\\tilde u, \\tilde \\mu, \\tilde v)$ is a singular triplet of $\\tilde A$ satisfies $\\| \\Delta A\\|_2=\\varepsilon$.\n",
    "\n",
    "4. Let $\\mu$ be the closest singular value in $sv_{ext}(A)$ to $\\tilde \\mu$ and $(u,\\mu,v)$\n",
    "be the associated singular triplet, and let\n",
    "$$\\eta=\\mathop{\\mathrm{gap}}(\\tilde\\mu)= \\min_{\\mu\\neq\\sigma\\in sv_{ext}(A)}|\\tilde\\mu-\\sigma|.$$\n",
    "If $\\eta>0$, then\n",
    "\\begin{align*}\n",
    "|\\tilde\\mu-\\mu |&\\leq \\frac{\\varepsilon^2}{\\eta},\\\\\n",
    "\\sqrt{\\sin^2\\theta(u,\\tilde u)+ \\sin^2\\theta(v,\\tilde v)} & \\leq \n",
    "\\frac{\\sqrt{\\|r\\|_2^2 + \\|s\\|_2^2}}{\\eta}.\n",
    "\\end{align*}\n",
    "\n",
    "5. Let \n",
    "$$\n",
    "A=\\begin{bmatrix} M & E \\\\ F & H \\end{bmatrix}, \\quad \n",
    "\\tilde A=\\begin{bmatrix} M & 0 \\\\ 0 & H \\end{bmatrix},\n",
    "$$ \n",
    "where $M\\in\\mathbb{C}^{k\\times k}$, and set $\\eta=\\min |\\mu-\\nu|$ over all $\\mu\\in sv(M)$ and $\\nu\\in sv_{ext}(H)$, and $\\varepsilon =\\max \\{ \\|E\\|_2,\\|F\\|_2 \\}$. Then\n",
    "$$ \n",
    "\\max |\\sigma_j -\\tilde\\sigma_j| \\leq \\frac{2\\varepsilon^2}{\\eta+\\sqrt{\\eta^2+4\\varepsilon^2}}.\n",
    "$$\n",
    "\n",
    "6. Let $m\\geq n$ and let\n",
    "$$\n",
    "\\begin{bmatrix} U_1^*\\\\ U_2^* \\end{bmatrix} A \\begin{bmatrix} V_1 & V_2 \\end{bmatrix}=\n",
    "\\begin{bmatrix} A_1 &  \\\\ & A_2 \\end{bmatrix}, \\quad \n",
    "\\begin{bmatrix} \\tilde U_1^*\\\\ \\tilde U_2^* \\end{bmatrix} \\tilde A \\begin{bmatrix} \\tilde V_1 & \\tilde V_2 \\end{bmatrix}=\n",
    "\\begin{bmatrix} \\tilde A_1 &  \\\\ & \\tilde A_2 \\end{bmatrix},\n",
    "$$\n",
    "where $\\begin{bmatrix} U_1 & U_2 \\end{bmatrix}$, \n",
    "$\\begin{bmatrix} V_1 & V_2 \\end{bmatrix}$,\n",
    "$\\begin{bmatrix} \\tilde U_1 & \\tilde U_2 \\end{bmatrix}$, and\n",
    "$\\begin{bmatrix} \\tilde V_1 & \\tilde V_2 \\end{bmatrix}$ are unitary, and \n",
    "$U_1,\\tilde U_1\\in \\mathbb{C}^{m\\times k}$, \n",
    "$V_1,\\tilde V_1\\in \\mathbb{C}^{n\\times k}$. Set\n",
    "$$\n",
    "R=A\\tilde V_1-\\tilde U_1\\tilde A_1,\\quad \n",
    "S=A^*\\tilde U_1-\\tilde V_1 \\tilde A_1.\n",
    "$$\n",
    "Let $\\eta=\\min|\\tilde \\mu-\\nu|$ over all $\\tilde \\mu\\in sv(\\tilde A_1)$ and \n",
    "$\\nu\\in sv_{ext}(A_2)$. If $\\eta > 0$, then\n",
    "$$\n",
    "\\sqrt{\\|\\sin\\Theta(U_1,\\tilde U_1)\\|_F^2 +\n",
    "\\|\\sin\\Theta(V_1,\\tilde V_1)\\|_F^2}\n",
    "\\leq \\frac{\\sqrt{\\|R\\|_F^2 + \\|S\\|_F^2 }}{\\eta}.\n",
    "$$\n"
   ]
  },
  {
   "cell_type": "markdown",
   "metadata": {},
   "source": [
    "### Example"
   ]
  },
  {
   "cell_type": "code",
   "execution_count": 1,
   "metadata": {
    "collapsed": false
   },
   "outputs": [
    {
     "data": {
      "text/plain": [
       "8×5 Array{Int64,2}:\n",
       "  1   1   8   2  -4\n",
       "  9  -8   3   4   9\n",
       "  8  -5   0   5   4\n",
       "  1   4   6  -6  -9\n",
       "  9  -1  -3  -9  -9\n",
       " -8   8  -2  -8  -5\n",
       "  2   4   9   6   7\n",
       " -8  -7  -6  -3  -6"
      ]
     },
     "execution_count": 1,
     "metadata": {},
     "output_type": "execute_result"
    }
   ],
   "source": [
    "m=8\n",
    "n=5\n",
    "k=min(m,n)\n",
    "A=rand(-9:9,m,n)"
   ]
  },
  {
   "cell_type": "code",
   "execution_count": 2,
   "metadata": {
    "collapsed": false
   },
   "outputs": [
    {
     "data": {
      "text/plain": [
       "8×5 Array{Float64,2}:\n",
       "  1.00813   1.00314    8.00881      2.00192  -3.99981\n",
       "  9.00916  -7.99758    3.00845      4.00976   9.00991\n",
       "  8.0018   -4.99292    0.00209825   5.00316   4.00827\n",
       "  1.00262   4.00004    6.00322     -5.99305  -8.99495\n",
       "  9.00901  -0.994723  -2.99043     -8.99813  -8.99222\n",
       " -7.99946   8.00806   -1.99559     -7.99358  -4.99306\n",
       "  2.00386   4.00926    9.00166      6.00149   7.00858\n",
       " -7.99971  -6.9918    -5.99644     -2.99264  -5.99133"
      ]
     },
     "execution_count": 2,
     "metadata": {},
     "output_type": "execute_result"
    }
   ],
   "source": [
    "ΔA=rand(m,n)/100\n",
    "B=A+ΔA"
   ]
  },
  {
   "cell_type": "code",
   "execution_count": 3,
   "metadata": {
    "collapsed": false
   },
   "outputs": [
    {
     "data": {
      "text/plain": [
       "(\n",
       "[-0.0229218 -0.22399 … -0.603119 0.165238; -0.523621 0.288828 … -0.0345646 -0.756694; … ; -0.34694 -0.508048 … 0.000476426 -0.138833; 0.305533 0.321705 … -0.602477 -0.219714],\n",
       "\n",
       "[27.8002,17.8628,17.2091,9.19816,4.31756],\n",
       "[-0.433169 0.469585 … 0.311504 0.187403; 0.259402 -0.647535 … 0.584063 0.327155; … ; -0.533443 -0.226914 … -0.310627 0.714567; -0.634372 -0.19729 … 0.473791 -0.450953])"
      ]
     },
     "execution_count": 3,
     "metadata": {},
     "output_type": "execute_result"
    }
   ],
   "source": [
    "U,σ,V=svd(A)\n",
    "UB,μ,VB=svd(B)"
   ]
  },
  {
   "cell_type": "code",
   "execution_count": 4,
   "metadata": {
    "collapsed": false
   },
   "outputs": [
    {
     "data": {
      "text/plain": [
       "(0.010258172149566036,0.03538838066450705,0.011361243938886262,0.039581539588805)"
      ]
     },
     "execution_count": 4,
     "metadata": {},
     "output_type": "execute_result"
    }
   ],
   "source": [
    "# Mirsky's Theorems\n",
    "maxabs(σ-μ), norm(ΔA), vecnorm(σ-μ), vecnorm(ΔA)"
   ]
  },
  {
   "cell_type": "code",
   "execution_count": 5,
   "metadata": {
    "collapsed": false
   },
   "outputs": [
    {
     "data": {
      "text/plain": [
       "([27.7981,17.8658,17.1989,9.19837,4.3208],2,17.865761811224893)"
      ]
     },
     "execution_count": 5,
     "metadata": {},
     "output_type": "execute_result"
    }
   ],
   "source": [
    "# Residual bounds - how close is (x,ζ,y) to (U[:,j],σ[j],V[:,j])\n",
    "j=rand(2:k-1)\n",
    "x=round(U[:,j],3)\n",
    "y=round(V[:,j],3)\n",
    "x=x/norm(x)\n",
    "y=y/norm(y)\n",
    "ζ=(x'*A*y)[]\n",
    "σ, j, ζ"
   ]
  },
  {
   "cell_type": "code",
   "execution_count": 6,
   "metadata": {
    "collapsed": false
   },
   "outputs": [
    {
     "data": {
      "text/plain": [
       "0.016046687344708613"
      ]
     },
     "execution_count": 6,
     "metadata": {},
     "output_type": "execute_result"
    }
   ],
   "source": [
    "# Fact 2\n",
    "r=A*y-ζ*x\n",
    "s=A'*x-ζ*y\n",
    "ϵ=max(norm(r),norm(s))"
   ]
  },
  {
   "cell_type": "code",
   "execution_count": 7,
   "metadata": {
    "collapsed": false
   },
   "outputs": [
    {
     "data": {
      "text/plain": [
       "(8.254663086404435e-6,0.016046687344708613)"
      ]
     },
     "execution_count": 7,
     "metadata": {},
     "output_type": "execute_result"
    }
   ],
   "source": [
    "minimum(abs(σ-ζ)), ϵ"
   ]
  },
  {
   "cell_type": "code",
   "execution_count": 8,
   "metadata": {
    "collapsed": false
   },
   "outputs": [
    {
     "data": {
      "text/plain": [
       "0.6669012691867202"
      ]
     },
     "execution_count": 8,
     "metadata": {},
     "output_type": "execute_result"
    }
   ],
   "source": [
    "# Fact 4\n",
    "η=min(abs(ζ-σ[j-1]),abs(ζ-σ[j+1]))"
   ]
  },
  {
   "cell_type": "code",
   "execution_count": 9,
   "metadata": {
    "collapsed": false
   },
   "outputs": [
    {
     "data": {
      "text/plain": [
       "(-8.254663086404435e-6,0.0003861083891066)"
      ]
     },
     "execution_count": 9,
     "metadata": {},
     "output_type": "execute_result"
    }
   ],
   "source": [
    "ζ-σ[j], ϵ^2/η"
   ]
  },
  {
   "cell_type": "code",
   "execution_count": 10,
   "metadata": {
    "collapsed": false
   },
   "outputs": [
    {
     "data": {
      "text/plain": [
       "(0.0009850051588642667,0.028142695164709023)"
      ]
     },
     "execution_count": 10,
     "metadata": {},
     "output_type": "execute_result"
    }
   ],
   "source": [
    "# Eigenvector bound\n",
    "# cos(θ)\n",
    "cosθU=dot(x,U[:,j])\n",
    "cosθV=dot(y,V[:,j])\n",
    "# Bound\n",
    "sqrt(1-cosθU^2+1-cosθV^2), sqrt(norm(r)^2+norm(s)^2)/η"
   ]
  },
  {
   "cell_type": "code",
   "execution_count": 11,
   "metadata": {
    "collapsed": false
   },
   "outputs": [
    {
     "data": {
      "text/plain": [
       "8×5 Array{Int64,2}:\n",
       " 1   1  8   0   0\n",
       " 9  -8  3   0   0\n",
       " 8  -5  0   0   0\n",
       " 0   0  0  -6  -9\n",
       " 0   0  0  -9  -9\n",
       " 0   0  0  -8  -5\n",
       " 0   0  0   6   7\n",
       " 0   0  0  -3  -6"
      ]
     },
     "execution_count": 11,
     "metadata": {},
     "output_type": "execute_result"
    }
   ],
   "source": [
    "# Fact 5 - we create small off-diagonal block perturbation\n",
    "j=3\n",
    "M=A[1:j,1:j]\n",
    "H=A[j+1:m,j+1:n]\n",
    "B=cat([1,2],M,H)"
   ]
  },
  {
   "cell_type": "code",
   "execution_count": 12,
   "metadata": {
    "collapsed": false
   },
   "outputs": [
    {
     "data": {
      "text/plain": [
       "8×5 Array{Float64,2}:\n",
       " 1.0           1.0         8.0           0.00746833   0.00512853\n",
       " 9.0          -8.0         3.0           0.00874766   0.00431362\n",
       " 8.0          -5.0         0.0           0.00490297   0.00772475\n",
       " 0.00481472    0.0018486   0.009313     -6.0         -9.0       \n",
       " 0.00539264    0.00317966  0.000952928  -9.0         -9.0       \n",
       " 0.00677612    0.00514157  0.00225721   -8.0         -5.0       \n",
       " 0.00309826    0.00134866  0.00412794    6.0          7.0       \n",
       " 0.000582293   0.00838642  0.000261748  -3.0         -6.0       "
      ]
     },
     "execution_count": 12,
     "metadata": {},
     "output_type": "execute_result"
    }
   ],
   "source": [
    "E=rand(size(A[1:j,j+1:n]))/100\n",
    "F=rand(size(A[j+1:m,1:j]))/100\n",
    "C=map(Float64,B)\n",
    "C[1:j,j+1:n]=E\n",
    "C[j+1:m,1:j]=F\n",
    "C"
   ]
  },
  {
   "cell_type": "code",
   "execution_count": 13,
   "metadata": {
    "collapsed": false
   },
   "outputs": [
    {
     "data": {
      "text/plain": [
       "3×2 Array{Float64,2}:\n",
       "  -6.50627  11.9308 \n",
       " -13.9105    4.52653\n",
       " -20.5089   -2.07186"
      ]
     },
     "execution_count": 13,
     "metadata": {},
     "output_type": "execute_result"
    }
   ],
   "source": [
    "svdvals(M).-svdvals(H)'"
   ]
  },
  {
   "cell_type": "code",
   "execution_count": 14,
   "metadata": {
    "collapsed": false
   },
   "outputs": [
    {
     "data": {
      "text/plain": [
       "(\n",
       "[22.0255 22.0255; 15.5192 15.5192; … ; 3.58847 3.58848; 1.51661 1.51663],\n",
       "\n",
       "2.154598866166424e-5,0.00011934031120294469)"
      ]
     },
     "execution_count": 14,
     "metadata": {},
     "output_type": "execute_result"
    }
   ],
   "source": [
    "ϵ=max(norm(E), norm(F))\n",
    "β=svdvals(B)\n",
    "γ=svdvals(C)\n",
    "η=minabs(svdvals(M).-svdvals(H)')\n",
    "[β γ], maxabs(β-γ), 2*ϵ^2/(η+sqrt(η^2+4*ϵ^2))"
   ]
  },
  {
   "cell_type": "markdown",
   "metadata": {},
   "source": [
    "## Relative perturbation theory\n",
    "\n",
    "### Definitions\n",
    "\n",
    "Matrix $A\\in\\mathbb{C}^{m\\times n}$ is __multiplicatively pertubed__ to $\\tilde A$ if\n",
    "$\\tilde A=D_L^* A D_R$ for some $D_L\\in\\mathbb{C}^{m\\times m}$ and \n",
    "$D_R\\in\\mathbb{C}^{n\\times n}$. \n",
    "\n",
    "Matrix $A$ is (highly) __graded__ if it can be scaled as $A=GS$ such that $G$ is _well-behaved_ (that is, $\\kappa_2(G)$ is of modest magnitude), where the __scaling matrix__ $S$ is often diagonal. Interesting cases are when $\\kappa_2(G)\\ll \\kappa_2(A)$.\n",
    "\n",
    "__Relative distances__ between two complex numbers $\\alpha$ and $\\tilde \\alpha$ are:\n",
    "\\begin{align*}\n",
    "\\zeta(\\alpha,\\tilde \\alpha)&=\\frac{|\\alpha-\\tilde\\alpha|}{\\sqrt{|\\alpha\\tilde \\alpha|}}, \\quad \\textrm{for } \\alpha\\tilde\\alpha\\neq 0,\\\\\n",
    "\\varrho(\\alpha,\\tilde \\alpha)&=\\frac{|\\alpha-\\tilde\\alpha|}\n",
    "{\\sqrt{|\\alpha|^2 +  |\\tilde \\alpha|^2}}, \\quad \\textrm{for } |\\alpha|+|\\tilde\\alpha|> 0.\n",
    "\\end{align*}"
   ]
  },
  {
   "cell_type": "markdown",
   "metadata": {},
   "source": [
    "### Facts\n",
    "\n",
    "1. If $D_L$ and $D_R$ are non-singular and $m\\geq n$, then\n",
    "\\begin{align*}\n",
    "\\frac{\\sigma_j}{\\|D_L^{-1}\\|_2\\|D_R^{-1}\\|_2}& \\leq \\tilde\\sigma_j \\leq\n",
    "\\sigma_j \\|D_L\\|_2\\|D_R\\|_2, \\quad \\textrm{for } i=1,\\ldots,n, \\\\\n",
    "\\| \\mathop{\\mathrm{diag}}(\\zeta(\\sigma_1,\\tilde \\sigma_1),\\ldots,\n",
    "\\zeta(\\sigma_n,\\tilde \\sigma_n)\\|_{2,F} & \\leq\n",
    "\\frac{1}{2}\\|D_L^*-D_L^{-1}\\|_{2,F} + \\frac{1}{2}\\|D_R^*-D_R^{-1}\\|_{2,F}.\n",
    "\\end{align*}\n",
    "\n",
    "2. Let $m\\geq n$ and let\n",
    "$$\n",
    "\\begin{bmatrix} U_1^*\\\\ U_2^* \\end{bmatrix} A \\begin{bmatrix} V_1 & V_2 \\end{bmatrix}=\n",
    "\\begin{bmatrix} A_1 &  \\\\ & A_2 \\end{bmatrix}, \\quad \n",
    "\\begin{bmatrix} \\tilde U_1^*\\\\ \\tilde U_2^* \\end{bmatrix} \\tilde A \\begin{bmatrix} \\tilde V_1 & \\tilde V_2 \\end{bmatrix}=\n",
    "\\begin{bmatrix} \\tilde A_1 &  \\\\ & \\tilde A_2 \\end{bmatrix},\n",
    "$$\n",
    "where $\\begin{bmatrix} U_1 & U_2 \\end{bmatrix}$, \n",
    "$\\begin{bmatrix} V_1 & V_2 \\end{bmatrix}$,\n",
    "$\\begin{bmatrix} \\tilde U_1 & \\tilde U_2 \\end{bmatrix}$, and\n",
    "$\\begin{bmatrix} \\tilde V_1 & \\tilde V_2 \\end{bmatrix}$ are unitary, and \n",
    "$U_1,\\tilde U_1\\in \\mathbb{C}^{m\\times k}$, \n",
    "$V_1,\\tilde V_1\\in \\mathbb{C}^{n\\times k}$. Set\n",
    "$$\n",
    "R=A\\tilde V_1-\\tilde U_1\\tilde A_1,\\quad \n",
    "S=A^*\\tilde U_1-\\tilde V_1 \\tilde A_1.\n",
    "$$\n",
    "Let $\\eta=\\min \\varrho(\\mu,\\tilde \\mu)$ over all $\\mu\\in sv(A_1)$ and \n",
    "$\\tilde \\mu\\in sv_{ext}(A_2)$. If $\\eta > 0$, then\n",
    "\\begin{align*}\n",
    "& \\sqrt{\\|\\sin\\Theta(U_1,\\tilde U_1)\\|_F^2 +\n",
    "\\|\\sin\\Theta(V_1,\\tilde V_1)\\|_F^2} \\\\\n",
    "& \\leq \\frac{1}{\\eta}( \\|(I-D_L^*)U_1\\|_F^2+ \\|(I-D_L^{-1})U_1\\|_F^2 \\\\\n",
    "& \\quad +\\|(I-D_R^*)V_1\\|_F^2+ \\|(I-D_R^{-1})V_1\\|_F^2 )^{1/2}.\n",
    "\\end{align*}\n",
    "\n",
    "3. Let $A=GS$ and $\\tilde A=\\tilde GS$, and let \n",
    "$\\Delta G=\\tilde G-G$. Then $\\tilde A=DA$, where $D=I+(\\Delta G) G^{\\dagger}$, and \n",
    "Fact 1 applies with $D_L=D$, $D_R=I$, and \n",
    "$$\n",
    "\\|D^*-D^{-1}\\|_{2,F} \\leq \\bigg(1+\\frac{1}{1-\\|(\\Delta G) G^{\\dagger}\\|_{2}}\\bigg)\n",
    "\\frac{\\|(\\Delta G) G^{\\dagger}\\|_{2,F}}{2}.\n",
    "$$\n",
    "According to the notebook on \n",
    "[Jacobi Method and High Relative Accuracy](L4c Symmetric Eigenvalue Decomposition - Jacobi Method and High Relative Accuracy.ipynb), nearly optimal diagonal scaling is such that all columns of $G$ have unit norms, $S=\\mathop{\\mathrm{diag}} \\big( \\| A_{:,1}\\|_2,\\ldots,\\|A_{:,n}\\|_2 \\big)$.\n",
    "\n",
    "4. Let $A$ be an real upper-bidiagonal matrix with diagonal entries $a_1,a_2,\\ldots,a_n$ and \n",
    "the super-diagonal entries $b_1,b_2, \\ldots,b_{n-1}$. Let the diagonal entries of \n",
    "$\\tilde A$ be $\\alpha_1 a_1,\\alpha_2 a_2,\\ldots,\\alpha_n a_n$, and its super-diagonal entries be\n",
    "$\\beta_1 b_1,\\beta_2 b_2,\\ldots,\\beta_{n-1} b_{n-1}$. Then $\\tilde A=D_L^* A D_R$ with \n",
    "\\begin{align*}\n",
    "D_L &=\\mathop{\\mathrm{diag}} \\bigg(\\alpha_1,\\frac{\\alpha_1 \\alpha_2}{\\beta_1},\n",
    "\\frac{\\alpha_1 \\alpha_2 \\alpha_3}{\\beta_1 \\beta_2},\\cdots\\bigg),\\\\\n",
    "D_R &=\\mathop{\\mathrm{diag}} \\bigg(1, \\frac{\\beta_1}{\\alpha_1},\n",
    "\\frac{\\beta_1 \\beta_2}{\\alpha_1 \\alpha_2},\\cdots\\bigg).\n",
    "\\end{align*}\n",
    "Let $\\alpha=\\prod\\limits_{j=1}^n \\max\\{\\alpha_j, 1/\\alpha_j\\}$ and \n",
    "$\\beta=\\prod\\limits_{j=1}^{n-1} \\max\\{\\beta_j, 1/\\beta_j\\}$. Then\n",
    "$$\n",
    "(\\alpha\\beta)^{-1}\\leq \\| D_L^{-1}\\|_2 \\|D_R^{-1}\\|_2 \\leq\n",
    "\\| D_L\\|_2 \\|D_R\\|_2  \\leq \\alpha\\beta,\n",
    "$$\n",
    "and Fact 1 applies.\n",
    " \n",
    "5. Consider the block partitioned matrices\n",
    "\\begin{align*}\n",
    "A & =\\begin{bmatrix} B & C \\\\ 0 & D\\end{bmatrix}, \\\\\n",
    "\\tilde A & =  \\begin{bmatrix} B & 0 \\\\ 0 & D\\end{bmatrix}\n",
    "=A \\begin{bmatrix} I & -B^{-1} C \\\\ 0 & I \\end{bmatrix}\\equiv A D_R.\n",
    "\\end{align*}\n",
    "By Fact 1, $\\zeta(\\sigma_j,\\tilde \\sigma_j) \\leq \\frac{1}{2} \\|B^{-1}C\\|_2$. This is used as a deflation criterion in the SVD algorithm for bidiagonal matrices."
   ]
  },
  {
   "cell_type": "markdown",
   "metadata": {
    "collapsed": true
   },
   "source": [
    "### Example - Bidiagonal matrix\n",
    "\n",
    "In order to illustrate Facts 1 to 3, we need an algorithm which computes the singular values with high relative acuracy. Such algorithm, the one-sided Jacobi method, is discussed in the following notebook. \n",
    "\n",
    "The algorithm actually used in the function `svdvals()` for `Bidiagonal` is the zero-shift bidiagonal QR algorithm, which attains the accuracy given by Fact 4: if all\n",
    "$1-\\varepsilon \\leq \\alpha_i,\\beta_j \\leq 1+\\varepsilon$, then\n",
    "$$\n",
    "(1-\\varepsilon)^{2n-1} \\leq (\\alpha\\beta)^{-1} \\leq \\alpha\\beta \\leq (1-\\varepsilon)^{2n-1}.\n",
    "$$\n",
    "In other words, $\\varepsilon$ relative changes in diagonal and super-diagonal elements, cause at most $(2n-1)\\varepsilon$ relative changes in the singular values.\n",
    "\n",
    "__However__, if singular values and vectors are desired, the function `svd()` calls the standard algorithm, described in the next notebook, which __does not attain this accuracy__ ."
   ]
  },
  {
   "cell_type": "code",
   "execution_count": 15,
   "metadata": {
    "collapsed": false
   },
   "outputs": [
    {
     "data": {
      "text/plain": [
       "50-element Array{Float64,1}:\n",
       " -1.29771e-6\n",
       " -1.9658e-6 \n",
       " -8.19235e-7\n",
       " -4.69741e-6\n",
       "  4.80814e-7\n",
       " -4.93721e-6\n",
       " -2.60945e-6\n",
       "  7.90615e-6\n",
       " -9.38764e-7\n",
       " -3.08349e-6\n",
       " -2.7413e-6 \n",
       " -1.55638e-6\n",
       " -8.26756e-6\n",
       "  ⋮         \n",
       " -6.21736e-7\n",
       " -1.64187e-6\n",
       "  7.46648e-6\n",
       " -4.74445e-6\n",
       " -1.18368e-6\n",
       "  4.49824e-6\n",
       "  1.45674e-6\n",
       " -1.38842e-6\n",
       "  4.43873e-6\n",
       " -2.36052e-6\n",
       " -5.22332e-6\n",
       "  2.85778e-6"
      ]
     },
     "execution_count": 15,
     "metadata": {},
     "output_type": "execute_result"
    }
   ],
   "source": [
    "n=50\n",
    "δ=100000\n",
    "# The starting matrix\n",
    "a=exp(50*(rand(n)-0.5))\n",
    "b=exp(50*(rand(n-1)-0.5))\n",
    "A=Bidiagonal(a,b, true)\n",
    "# Multiplicative perturbation\n",
    "DL=ones(n)+(rand(n)-0.5)/δ\n",
    "DR=ones(n)+(rand(n)-0.5)/δ\n",
    "# The perturbed matrix\n",
    "α=DL.*a.*DR\n",
    "β=DL[1:end-1].*b.*DR[2:end]\n",
    "B=Bidiagonal(α,β,true)\n",
    "(A.dv-B.dv)./A.dv"
   ]
  },
  {
   "cell_type": "code",
   "execution_count": 16,
   "metadata": {
    "collapsed": false
   },
   "outputs": [
    {
     "data": {
      "text/plain": [
       "([-1.29771e-6,-1.9658e-6,-8.19235e-7,-4.69741e-6,4.80814e-7,-4.93721e-6,-2.60945e-6,7.90615e-6,-9.38764e-7,-3.08349e-6  …  7.46648e-6,-4.74445e-6,-1.18368e-6,4.49824e-6,1.45674e-6,-1.38842e-6,4.43873e-6,-2.36052e-6,-5.22332e-6,2.85778e-6],[1.5148e-6,-6.49666e-6,-1.10256e-6,-3.66558e-6,-1.73601e-6,-2.23174e-6,3.683e-6,6.62486e-6,-7.98341e-6,3.39545e-7  …  3.10208e-6,1.68647e-6,-6.9782e-6,6.05872e-6,2.2546e-6,-3.37961e-6,6.75735e-6,8.97095e-7,-6.99437e-6,-4.83138e-7])"
      ]
     },
     "execution_count": 16,
     "metadata": {},
     "output_type": "execute_result"
    }
   ],
   "source": [
    "(a-α)./a, (b-β)./b"
   ]
  },
  {
   "cell_type": "code",
   "execution_count": 17,
   "metadata": {
    "collapsed": false
   },
   "outputs": [
    {
     "data": {
      "text/html": [
       "svdvals<i>{T<:Union{Complex{Float32},Complex{Float64},Float32,Float64}}</i>(A::<b>AbstractArray{T,2}</b>) at <a href=\"https://github.com/JuliaLang/julia/tree/6445c82d0060dbe82b88436f0f4371a4ee64d918/base/linalg/svd.jl#L81\" target=\"_blank\">linalg/svd.jl:81</a>"
      ],
      "text/plain": [
       "svdvals{T<:Union{Complex{Float32},Complex{Float64},Float32,Float64}}(A::AbstractArray{T,2}) at linalg/svd.jl:81"
      ]
     },
     "execution_count": 17,
     "metadata": {},
     "output_type": "execute_result"
    }
   ],
   "source": [
    "@which svdvals(A)"
   ]
  },
  {
   "cell_type": "code",
   "execution_count": 18,
   "metadata": {
    "collapsed": false
   },
   "outputs": [
    {
     "data": {
      "text/plain": [
       "50×2 Array{Float64,2}:\n",
       " 6.64838e10    3.35004e-6\n",
       " 4.9375e10    -2.03315e-6\n",
       " 2.52386e10    3.39545e-7\n",
       " 1.64459e10    2.12407e-7\n",
       " 1.23592e10    6.62486e-6\n",
       " 1.18188e10   -4.02273e-6\n",
       " 5.81067e9    -5.88549e-6\n",
       " 4.03938e9    -1.46825e-6\n",
       " 3.15812e9     4.57643e-6\n",
       " 2.48578e9     8.03348e-6\n",
       " 1.52474e8    -4.74445e-6\n",
       " 1.02738e8    -4.93685e-6\n",
       " 4.94015e7     6.3923e-6 \n",
       " ⋮                       \n",
       " 1.36358e-6    4.89574e-6\n",
       " 6.73836e-8    1.07632e-6\n",
       " 2.40526e-9    3.31439e-7\n",
       " 2.16628e-9   -2.03496e-6\n",
       " 1.16732e-9   -1.18368e-6\n",
       " 7.06124e-10   9.68586e-7\n",
       " 5.25624e-10  -2.8914e-6 \n",
       " 4.42392e-10   1.65225e-6\n",
       " 4.47902e-12   1.39815e-6\n",
       " 1.84379e-13   2.56721e-6\n",
       " 1.44007e-39  -1.23348e-6\n",
       " 2.91827e-70   3.91984e-7"
      ]
     },
     "execution_count": 18,
     "metadata": {},
     "output_type": "execute_result"
    }
   ],
   "source": [
    "σ=svdvals(A)\n",
    "μ=svdvals(B)\n",
    "[σ (σ-μ)./σ]"
   ]
  },
  {
   "cell_type": "code",
   "execution_count": 19,
   "metadata": {
    "collapsed": false
   },
   "outputs": [
    {
     "data": {
      "text/plain": [
       "2.278191862600967e80"
      ]
     },
     "execution_count": 19,
     "metadata": {},
     "output_type": "execute_result"
    }
   ],
   "source": [
    "cond(A)"
   ]
  },
  {
   "cell_type": "code",
   "execution_count": 20,
   "metadata": {
    "collapsed": false
   },
   "outputs": [],
   "source": [
    "# The standard algorithm\n",
    "U,ν,V=svd(A);"
   ]
  },
  {
   "cell_type": "code",
   "execution_count": 21,
   "metadata": {
    "collapsed": false
   },
   "outputs": [
    {
     "data": {
      "text/plain": [
       "50-element Array{Float64,1}:\n",
       "     0.0        \n",
       "     0.0        \n",
       "     1.51145e-16\n",
       "     0.0        \n",
       "     0.0        \n",
       "    -1.61382e-16\n",
       "     0.0        \n",
       "    -1.18047e-16\n",
       "     0.0        \n",
       "     0.0        \n",
       "     0.0        \n",
       "     0.0        \n",
       "    -1.50817e-16\n",
       "     ⋮          \n",
       "    -3.87178    \n",
       "   -97.5857     \n",
       " -2760.89       \n",
       " -3065.58       \n",
       " -1167.13       \n",
       "  -783.37       \n",
       "  -127.197      \n",
       "     0.999795   \n",
       "     0.997226   \n",
       "     1.0        \n",
       "    -9.97029e13 \n",
       "    -8.90869e29 "
      ]
     },
     "execution_count": 21,
     "metadata": {},
     "output_type": "execute_result"
    }
   ],
   "source": [
    "(σ-ν)./σ"
   ]
  },
  {
   "cell_type": "code",
   "execution_count": null,
   "metadata": {
    "collapsed": true
   },
   "outputs": [],
   "source": []
  }
 ],
 "metadata": {
  "anaconda-cloud": {},
  "kernelspec": {
   "display_name": "Julia 0.5.1",
   "language": "julia",
   "name": "julia-0.5"
  },
  "language_info": {
   "file_extension": ".jl",
   "mimetype": "application/julia",
   "name": "julia",
   "version": "0.5.1"
  }
 },
 "nbformat": 4,
 "nbformat_minor": 0
}
