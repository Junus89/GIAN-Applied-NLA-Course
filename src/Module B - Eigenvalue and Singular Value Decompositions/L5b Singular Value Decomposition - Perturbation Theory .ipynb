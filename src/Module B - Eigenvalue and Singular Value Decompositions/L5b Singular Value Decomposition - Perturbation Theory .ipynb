{
 "cells": [
  {
   "cell_type": "markdown",
   "metadata": {},
   "source": [
    "# Singular Value Decomposition - Perturbation Theory\n",
    "\n",
    "---\n",
    "\n",
    "## Prerequisites\n",
    "\n",
    "The reader should be familiar with eigenvalue decomposition, singular value decompostion, and perturbation theory for eigenvalue decomposition.\n",
    "\n",
    "## Competences \n",
    "\n",
    "The reader should be able to understand and check the facts about perturbations of singular values and vectors.\n",
    "\n",
    "---"
   ]
  },
  {
   "cell_type": "markdown",
   "metadata": {},
   "source": [
    "## Peturbation bounds\n",
    "\n",
    "For more details and the proofs of the Facts below, see \n",
    "[R.-C. Li, Matrix Perturbation Theory][Hog14], and the references therein.\n",
    "\n",
    "[Hog14]: #1 \"L. Hogben, ed., 'Handbook of Linear Algebra', pp. 21.6-21.8 and 21.16-21.18, CRC Press, Boca Raton, 2014.\"\n",
    "\n",
    "### Definitions\n",
    "Let $A\\in\\mathbb{C}^{m\\times n}$ and let $A=U\\Sigma V^*$ be its SVD.\n",
    "\n",
    "The set of $A$'s singular values is $sv(B)=\\{\\sigma_1,\\sigma_2,\\ldots)$, with \n",
    "$\\sigma_1\\geq \\sigma_2\\geq \\cdots\\geq 0$, and let \n",
    "$sv_{ext}(B)=sv(B)$ unless $m>n$ for which $sv_{ext}(B)=sv(B)\\cup \\{0,\\ldots,0\\}$ (additional $|m-n|$ zeros).\n",
    "\n",
    "Triplet $(u,\\sigma,v)\\in\\times\\mathbb{C}^{m}\\times\\mathbb{R}\\times\\mathbb{C}^{n}$ is a __singular triplet__ of $A$ if $\\|u\\|_2=1$, $\\|v\\|_2=1$, $\\sigma\\geq 0$, and $Av=\\sigma u$ and $A^*u=\\sigma v$.\n",
    "\n",
    "$\\tilde A=A+\\Delta A$ is a __perturbed matrix__, where $\\Delta A$ is __perturbation__.\n",
    "_The same notation is adopted to $\\tilde A$, except all symbols are with tildes._\n",
    "\n",
    "__Spectral condition number__ of $A$ is $\\kappa_2(A)=\\sigma_{\\max}(A)/ \\sigma_{\\min}(A)$.\n",
    "\n",
    "Let $X,Y\\in\\mathbb{C}^{n\\times k}$ with $\\mathop{\\mathrm{rank}}(X)=\\mathop{\\mathrm{rank}}(Y)=k$. The __canonical angles__ between their column spaces are $\\theta_i=\\cos^{-1}\\sigma_i$, where $\\sigma_i$ are the singular values of \n",
    "$(Y^*Y)^{-1/2}Y^*X(X^*X)^{-1/2}$. The __canonical angle matrix__ between $X$ and $Y$ is \n",
    "$$\\Theta(X,Y)=\\mathop{\\mathrm{diag}}(\\theta_1,\\theta_2,\\ldots,\\theta_k).\n",
    "$$\n",
    "    "
   ]
  },
  {
   "cell_type": "markdown",
   "metadata": {},
   "source": [
    "### Facts\n",
    "\n",
    "1. _(Mirsky)_ $\\|\\Sigma-\\tilde\\Sigma\\|_2\\leq \\|\\Delta A\\|_2$ and \n",
    "$\\|\\Sigma-\\tilde\\Sigma\\|_F\\leq \\|\\Delta A\\|_F$.\n",
    "\n",
    "2.  _(Residual bounds)_ Let $\\|\\tilde u\\|_2=\\|\\tilde v\\|_2=1$ and \n",
    "$\\tilde \\mu=\\tilde u^* A \\tilde v$. Let residuals $r=A\\tilde v-\\tilde \\mu \\tilde u$ and $s=A^*\\tilde u - \\tilde \\mu \\tilde v$, and let \n",
    "$\\varepsilon=\\max\\{\\|r\\|_2,\\|s\\|_2\\}$. Then $|\\tilde \\mu -\\mu|\\leq \\varepsilon$ for some singular value $\\mu$ of $A$. \n",
    "\n",
    "3. The smallest error matrix $\\Delta A$ for which $(\\tilde u, \\tilde \\mu, \\tilde v)$ is a singular triplet of $\\tilde A$ satisfies $\\| \\Delta A\\|_2=\\varepsilon$.\n",
    "\n",
    "4. Let $\\mu$ be the closest singular value in $sv_{ext}(A)$ to $\\tilde \\mu$ and $(u,\\mu,v)$\n",
    "be the associated singular triplet, and let\n",
    "$$\\eta=\\mathop{\\mathrm{gap}}(\\tilde\\mu)= \\min_{\\mu\\neq\\sigma\\in sv_{ext}(A)}|\\tilde\\mu-\\sigma|.$$\n",
    "If $\\eta>0$, then\n",
    "\\begin{align*}\n",
    "|\\tilde\\mu-\\mu |&\\leq \\frac{\\varepsilon^2}{\\eta},\\\\\n",
    "\\sqrt{\\sin^2\\theta(u,\\tilde u)+ \\sin^2\\theta(v,\\tilde v)} & \\leq \n",
    "\\frac{\\sqrt{\\|r\\|_2^2 + \\|s\\|_2^2}}{\\eta}.\n",
    "\\end{align*}\n",
    "\n",
    "5. Let \n",
    "$$\n",
    "A=\\begin{bmatrix} M & E \\\\ F & H \\end{bmatrix}, \\quad \n",
    "\\tilde A=\\begin{bmatrix} M & 0 \\\\ 0 & H \\end{bmatrix},\n",
    "$$ \n",
    "where $M\\in\\mathbb{C}^{k\\times k}$, and set $\\eta=\\min |\\mu-\\nu|$ over all $\\mu\\in sv(M)$ and $\\nu\\in sv_{ext}(H)$, and $\\varepsilon =\\max \\{ \\|E\\|_2,\\|F\\|_2 \\}$. Then\n",
    "$$ \n",
    "\\max |\\sigma_j -\\tilde\\sigma_j| \\leq \\frac{2\\varepsilon^2}{\\eta+\\sqrt{\\eta^2+4\\varepsilon^2}}.\n",
    "$$\n",
    "\n",
    "6. Let $m\\geq n$ and let\n",
    "$$\n",
    "\\begin{bmatrix} U_1^*\\\\ U_2^* \\end{bmatrix} A \\begin{bmatrix} V_1 & V_2 \\end{bmatrix}=\n",
    "\\begin{bmatrix} A_1 &  \\\\ & A_2 \\end{bmatrix}, \\quad \n",
    "\\begin{bmatrix} \\tilde U_1^*\\\\ \\tilde U_2^* \\end{bmatrix} \\tilde A \\begin{bmatrix} \\tilde V_1 & \\tilde V_2 \\end{bmatrix}=\n",
    "\\begin{bmatrix} \\tilde A_1 &  \\\\ & \\tilde A_2 \\end{bmatrix},\n",
    "$$\n",
    "where $\\begin{bmatrix} U_1 & U_2 \\end{bmatrix}$, \n",
    "$\\begin{bmatrix} V_1 & V_2 \\end{bmatrix}$,\n",
    "$\\begin{bmatrix} \\tilde U_1 & \\tilde U_2 \\end{bmatrix}$, and\n",
    "$\\begin{bmatrix} \\tilde V_1 & \\tilde V_2 \\end{bmatrix}$ are unitary, and \n",
    "$U_1,\\tilde U_1\\in \\mathbb{C}^{m\\times k}$, \n",
    "$V_1,\\tilde V_1\\in \\mathbb{C}^{n\\times k}$. Set\n",
    "$$\n",
    "R=A\\tilde V_1-\\tilde U_1\\tilde A_1,\\quad \n",
    "S=A^*\\tilde U_1-\\tilde V_1 \\tilde A_1.\n",
    "$$\n",
    "Let $\\eta=\\min|\\tilde \\mu-\\nu|$ over all $\\tilde \\mu\\in sv(\\tilde A_1)$ and \n",
    "$\\nu\\in sv_{ext}(A_2)$. If $\\eta > 0$, then\n",
    "$$\n",
    "\\sqrt{\\|\\sin\\Theta(U_1,\\tilde U_1)\\|_F^2 +\n",
    "\\|\\sin\\Theta(V_1,\\tilde V_1)\\|_F^2}\n",
    "\\leq \\frac{\\sqrt{\\|R\\|_F^2 + \\|S\\|_F^2 }}{\\eta}.\n",
    "$$\n"
   ]
  },
  {
   "cell_type": "markdown",
   "metadata": {},
   "source": [
    "### Example"
   ]
  },
  {
   "cell_type": "code",
   "execution_count": 1,
   "metadata": {
    "collapsed": false
   },
   "outputs": [
    {
     "data": {
      "text/plain": [
       "8x5 Array{Int64,2}:\n",
       "  2   2   6  -2   5\n",
       "  4   4   8  -9   5\n",
       " -3   3   6  -9   5\n",
       " -3   4   6  -8   8\n",
       "  2  -5   0   0  -2\n",
       " -2  -4  -7  -7   8\n",
       "  3   9   8   2   1\n",
       " -5   0  -5  -7   2"
      ]
     },
     "execution_count": 1,
     "metadata": {},
     "output_type": "execute_result"
    }
   ],
   "source": [
    "m=8\n",
    "n=5\n",
    "k=min(m,n)\n",
    "A=rand(-9:9,m,n)"
   ]
  },
  {
   "cell_type": "code",
   "execution_count": 2,
   "metadata": {
    "collapsed": false
   },
   "outputs": [
    {
     "data": {
      "text/plain": [
       "8x5 Array{Float64,2}:\n",
       "  2.00058   2.0005       6.0047      -1.99218      5.00367\n",
       "  4.00772   4.00774      8.00807     -8.999        5.00343\n",
       " -2.99988   3.00366      6.00738     -8.99619      5.00396\n",
       " -2.99219   4.00675      6.00169     -7.99026      8.00219\n",
       "  2.00056  -4.99949      0.00178869   0.00959485  -1.9976 \n",
       " -1.99771  -3.99395     -6.9922      -6.99567      8.0046 \n",
       "  3.00116   9.00931      8.00103      2.00911      1.00412\n",
       " -4.99626   0.00731796  -4.99486     -6.99446      2.00112"
      ]
     },
     "execution_count": 2,
     "metadata": {},
     "output_type": "execute_result"
    }
   ],
   "source": [
    "ΔA=rand(m,n)/100\n",
    "B=A+ΔA"
   ]
  },
  {
   "cell_type": "code",
   "execution_count": 4,
   "metadata": {
    "collapsed": false
   },
   "outputs": [
    {
     "data": {
      "text/plain": [
       "(\n",
       "8x5 Array{Float64,2}:\n",
       "  0.295611   0.148122   -0.277612   0.334022    0.324476\n",
       "  0.531892   0.112603   -0.459605  -0.178585   -0.59823 \n",
       "  0.485022  -0.101269    0.126796  -0.436214    0.271357\n",
       "  0.534625  -0.0996925   0.18888    0.0693467   0.453168\n",
       " -0.11106   -0.0405325  -0.58006   -0.338042    0.149826\n",
       "  0.138215  -0.654337   -0.203774   0.598974   -0.139085\n",
       "  0.252803   0.546959    0.308408   0.328686   -0.293545\n",
       "  0.115267  -0.464997    0.432242  -0.283491   -0.360388,\n",
       "\n",
       "[25.05505659439356,19.017697086472655,7.7848822163478415,5.819323566514415,4.1633984829747614],\n",
       "5x5 Array{Float64,2}:\n",
       " -0.0258287   0.343919  -0.684695   0.272128  -0.581543\n",
       "  0.34339     0.409321   0.67257    0.202264  -0.470403\n",
       "  0.504376    0.62355   -0.220919  -0.304443   0.464004\n",
       " -0.609731    0.490472   0.135578   0.474555   0.37958 \n",
       "  0.505221   -0.291202  -0.107965   0.753092   0.284866)"
      ]
     },
     "execution_count": 4,
     "metadata": {},
     "output_type": "execute_result"
    }
   ],
   "source": [
    "U,σ,V=svd(A)\n",
    "UB,μ,VB=svd(B)"
   ]
  },
  {
   "cell_type": "code",
   "execution_count": 5,
   "metadata": {
    "collapsed": false
   },
   "outputs": [
    {
     "data": {
      "text/plain": [
       "(0.006680552250738714,0.030011731504529342,0.010802022922646285,0.03407314516842115)"
      ]
     },
     "execution_count": 5,
     "metadata": {},
     "output_type": "execute_result"
    }
   ],
   "source": [
    "# Mirsky's Theorems\n",
    "maxabs(σ-μ), norm(ΔA), vecnorm(σ-μ), vecnorm(ΔA)"
   ]
  },
  {
   "cell_type": "code",
   "execution_count": 6,
   "metadata": {
    "collapsed": false
   },
   "outputs": [
    {
     "data": {
      "text/plain": [
       "([25.04837604214282,19.023585936412545,7.781581040692892,5.816379121192239,4.159178548345899],2,19.023579291596192)"
      ]
     },
     "execution_count": 6,
     "metadata": {},
     "output_type": "execute_result"
    }
   ],
   "source": [
    "# Residual bounds - how close is (x,ζ,y) to (U[:,j],σ[j],V[:,j])\n",
    "j=rand(2:k-1)\n",
    "x=round(U[:,j],3)\n",
    "y=round(V[:,j],3)\n",
    "x=x/norm(x)\n",
    "y=y/norm(y)\n",
    "ζ=(x'*A*y)[]\n",
    "σ, j, ζ"
   ]
  },
  {
   "cell_type": "code",
   "execution_count": 7,
   "metadata": {
    "collapsed": false
   },
   "outputs": [
    {
     "data": {
      "text/plain": [
       "0.012162012156092849"
      ]
     },
     "execution_count": 7,
     "metadata": {},
     "output_type": "execute_result"
    }
   ],
   "source": [
    "# Fact 2\n",
    "r=A*y-ζ*x\n",
    "s=A'*x-ζ*y\n",
    "ϵ=max(norm(r),norm(s))"
   ]
  },
  {
   "cell_type": "code",
   "execution_count": 8,
   "metadata": {
    "collapsed": false
   },
   "outputs": [
    {
     "data": {
      "text/plain": [
       "(6.6448163522636605e-6,0.012162012156092849)"
      ]
     },
     "execution_count": 8,
     "metadata": {},
     "output_type": "execute_result"
    }
   ],
   "source": [
    "minimum(abs(σ-ζ)), ϵ"
   ]
  },
  {
   "cell_type": "code",
   "execution_count": 9,
   "metadata": {
    "collapsed": false
   },
   "outputs": [
    {
     "data": {
      "text/plain": [
       "6.024796750546628"
      ]
     },
     "execution_count": 9,
     "metadata": {},
     "output_type": "execute_result"
    }
   ],
   "source": [
    "# Fact 4\n",
    "η=min(abs(ζ-σ[j-1]),abs(ζ-σ[j+1]))"
   ]
  },
  {
   "cell_type": "code",
   "execution_count": 10,
   "metadata": {
    "collapsed": false
   },
   "outputs": [
    {
     "data": {
      "text/plain": [
       "(-6.6448163522636605e-6,2.4550959278672756e-5)"
      ]
     },
     "execution_count": 10,
     "metadata": {},
     "output_type": "execute_result"
    }
   ],
   "source": [
    "ζ-σ[j], ϵ^2/η"
   ]
  },
  {
   "cell_type": "code",
   "execution_count": 11,
   "metadata": {
    "collapsed": false
   },
   "outputs": [
    {
     "data": {
      "text/plain": [
       "(0.0010194834330840695,0.002614345509743883)"
      ]
     },
     "execution_count": 11,
     "metadata": {},
     "output_type": "execute_result"
    }
   ],
   "source": [
    "# Eigenvector bound\n",
    "# cos(θ)\n",
    "cosθU=dot(x,U[:,j])\n",
    "cosθV=dot(y,V[:,j])\n",
    "# Bound\n",
    "sqrt(1-cosθU^2+1-cosθV^2), sqrt(norm(r)^2+norm(s)^2)/η"
   ]
  },
  {
   "cell_type": "code",
   "execution_count": 12,
   "metadata": {
    "collapsed": false
   },
   "outputs": [
    {
     "data": {
      "text/plain": [
       "8x5 Array{Int64,2}:\n",
       "  2  2  6   0   0\n",
       "  4  4  8   0   0\n",
       " -3  3  6   0   0\n",
       "  0  0  0  -8   8\n",
       "  0  0  0   0  -2\n",
       "  0  0  0  -7   8\n",
       "  0  0  0   2   1\n",
       "  0  0  0  -7   2"
      ]
     },
     "execution_count": 12,
     "metadata": {},
     "output_type": "execute_result"
    }
   ],
   "source": [
    "# Fact 5 - we create small off-diagonal block perturbation\n",
    "j=3\n",
    "M=A[1:j,1:j]\n",
    "H=A[j+1:m,j+1:n]\n",
    "B=cat([1,2],M,H)"
   ]
  },
  {
   "cell_type": "code",
   "execution_count": 13,
   "metadata": {
    "collapsed": false
   },
   "outputs": [
    {
     "data": {
      "text/plain": [
       "8x5 Array{Float64,2}:\n",
       "  2.0          2.0          6.0           0.00209259    0.00503404 \n",
       "  4.0          4.0          8.0           0.00972093    0.000351275\n",
       " -3.0          3.0          6.0           0.000416214   0.00489447 \n",
       "  0.00484784   0.00767216   0.0024805    -8.0           8.0        \n",
       "  0.00716453   0.00542464   0.00919852    0.0          -2.0        \n",
       "  0.00778205   0.000118194  0.00162238   -7.0           8.0        \n",
       "  0.000228019  0.00187979   0.00259237    2.0           1.0        \n",
       "  0.00666706   0.00348855   0.000665173  -7.0           2.0        "
      ]
     },
     "execution_count": 13,
     "metadata": {},
     "output_type": "execute_result"
    }
   ],
   "source": [
    "E=rand(size(A[1:j,j+1:n]))/100\n",
    "F=rand(size(A[j+1:m,1:j]))/100\n",
    "C=map(Float64,B)\n",
    "C[1:j,j+1:n]=E\n",
    "C[j+1:m,1:j]=F\n",
    "C"
   ]
  },
  {
   "cell_type": "code",
   "execution_count": 15,
   "metadata": {
    "collapsed": false
   },
   "outputs": [
    {
     "data": {
      "text/plain": [
       "3x2 Array{Float64,2}:\n",
       "  -3.82116   8.71482 \n",
       " -12.0255    0.510504\n",
       " -16.0998   -3.5638  "
      ]
     },
     "execution_count": 15,
     "metadata": {},
     "output_type": "execute_result"
    }
   ],
   "source": [
    "svdvals(M).-svdvals(H)'"
   ]
  },
  {
   "cell_type": "code",
   "execution_count": 16,
   "metadata": {
    "collapsed": false
   },
   "outputs": [
    {
     "data": {
      "text/plain": [
       "(\n",
       "5x2 Array{Float64,2}:\n",
       " 16.861     16.861   \n",
       " 13.0399    13.0399  \n",
       "  4.83555    4.83556 \n",
       "  4.32504    4.32504 \n",
       "  0.761242   0.761257,\n",
       "\n",
       "1.5174660087491354e-5,0.0006222763555939372)"
      ]
     },
     "execution_count": 16,
     "metadata": {},
     "output_type": "execute_result"
    }
   ],
   "source": [
    "ϵ=max(norm(E), norm(F))\n",
    "β=svdvals(B)\n",
    "γ=svdvals(C)\n",
    "η=minabs(svdvals(M).-svdvals(H)')\n",
    "[β γ], maxabs(β-γ), 2*ϵ^2/(η+sqrt(η^2+4*ϵ^2))"
   ]
  },
  {
   "cell_type": "markdown",
   "metadata": {},
   "source": [
    "## Relative perturbation theory\n",
    "\n",
    "### Definitions\n",
    "\n",
    "Matrix $A\\in\\mathbb{C}^{m\\times n}$ is __multiplicatively pertubed__ to $\\tilde A$ if\n",
    "$\\tilde A=D_L^* A D_R$ for some $D_L\\in\\mathbb{C}^{m\\times m}$ and \n",
    "$D_R\\in\\mathbb{C}^{n\\times n}$. \n",
    "\n",
    "Matrix $A$ is (highly) __graded__ if it can be scaled as $A=GS$ such that $G$ is _well-behaved_ (that is, $\\kappa_2(G)$ is of modest magnitude), where the __scaling matrix__ $S$ is often diagonal. Interesting cases are when $\\kappa_2(G)\\ll \\kappa_2(A)$.\n",
    "\n",
    "__Relative distances__ between two complex numbers $\\alpha$ and $\\tilde \\alpha$ are:\n",
    "\\begin{align*}\n",
    "\\zeta(\\alpha,\\tilde \\alpha)&=\\frac{|\\alpha-\\tilde\\alpha|}{\\sqrt{|\\alpha\\tilde \\alpha|}}, \\quad \\textrm{for } \\alpha\\tilde\\alpha\\neq 0,\\\\\n",
    "\\varrho(\\alpha,\\tilde \\alpha)&=\\frac{|\\alpha-\\tilde\\alpha|}\n",
    "{\\sqrt{|\\alpha|^2 +  |\\tilde \\alpha|^2}}, \\quad \\textrm{for } |\\alpha|+|\\tilde\\alpha|> 0.\n",
    "\\end{align*}"
   ]
  },
  {
   "cell_type": "markdown",
   "metadata": {},
   "source": [
    "### Facts\n",
    "\n",
    "1. If $D_L$ and $D_R$ are non-singular and $m\\geq n$, then\n",
    "\\begin{align*}\n",
    "\\frac{\\sigma_j}{\\|D_L^{-1}\\|_2\\|D_R^{-1}\\|_2}& \\leq \\tilde\\sigma_j \\leq\n",
    "\\sigma_j \\|D_L\\|_2\\|D_R\\|_2, \\quad \\textrm{for } i=1,\\ldots,n, \\\\\n",
    "\\| \\mathop{\\mathrm{diag}}(\\zeta(\\sigma_1,\\tilde \\sigma_1),\\ldots,\n",
    "\\zeta(\\sigma_n,\\tilde \\sigma_n)\\|_{2,F} & \\leq\n",
    "\\frac{1}{2}\\|D_L^*-D_L^{-1}\\|_{2,F} + \\frac{1}{2}\\|D_R^*-D_R^{-1}\\|_{2,F}.\n",
    "\\end{align*}\n",
    "\n",
    "2. Let $m\\geq n$ and let\n",
    "$$\n",
    "\\begin{bmatrix} U_1^*\\\\ U_2^* \\end{bmatrix} A \\begin{bmatrix} V_1 & V_2 \\end{bmatrix}=\n",
    "\\begin{bmatrix} A_1 &  \\\\ & A_2 \\end{bmatrix}, \\quad \n",
    "\\begin{bmatrix} \\tilde U_1^*\\\\ \\tilde U_2^* \\end{bmatrix} \\tilde A \\begin{bmatrix} \\tilde V_1 & \\tilde V_2 \\end{bmatrix}=\n",
    "\\begin{bmatrix} \\tilde A_1 &  \\\\ & \\tilde A_2 \\end{bmatrix},\n",
    "$$\n",
    "where $\\begin{bmatrix} U_1 & U_2 \\end{bmatrix}$, \n",
    "$\\begin{bmatrix} V_1 & V_2 \\end{bmatrix}$,\n",
    "$\\begin{bmatrix} \\tilde U_1 & \\tilde U_2 \\end{bmatrix}$, and\n",
    "$\\begin{bmatrix} \\tilde V_1 & \\tilde V_2 \\end{bmatrix}$ are unitary, and \n",
    "$U_1,\\tilde U_1\\in \\mathbb{C}^{m\\times k}$, \n",
    "$V_1,\\tilde V_1\\in \\mathbb{C}^{n\\times k}$. Set\n",
    "$$\n",
    "R=A\\tilde V_1-\\tilde U_1\\tilde A_1,\\quad \n",
    "S=A^*\\tilde U_1-\\tilde V_1 \\tilde A_1.\n",
    "$$\n",
    "Let $\\eta=\\min \\varrho(\\mu,\\tilde \\mu)$ over all $\\mu\\in sv(A_1)$ and \n",
    "$\\tilde \\mu\\in sv_{ext}(A_2)$. If $\\eta > 0$, then\n",
    "\\begin{align*}\n",
    "& \\sqrt{\\|\\sin\\Theta(U_1,\\tilde U_1)\\|_F^2 +\n",
    "\\|\\sin\\Theta(V_1,\\tilde V_1)\\|_F^2} \\\\\n",
    "& \\leq \\frac{1}{\\eta}( \\|(I-D_L^*)U_1\\|_F^2+ \\|(I-D_L^{-1})U_1\\|_F^2 \\\\\n",
    "& \\quad +\\|(I-D_R^*)V_1\\|_F^2+ \\|(I-D_R^{-1})V_1\\|_F^2 )^{1/2}.\n",
    "\\end{align*}\n",
    "\n",
    "3. Let $A=GS$ and $\\tilde A=\\tilde GS$, and let \n",
    "$\\Delta G=\\tilde G-G$. Then $\\tilde A=DA$, where $D=I+(\\Delta G) G^{\\dagger}$, and \n",
    "Fact 1 applies with $D_L=D$, $D_R=I$, and \n",
    "$$\n",
    "\\|D^*-D^{-1}\\|_{2,F} \\leq \\bigg(1+\\frac{1}{1-\\|(\\Delta G) G^{\\dagger}\\|_{2}}\\bigg)\n",
    "\\frac{\\|(\\Delta G) G^{\\dagger}\\|_{2,F}}{2}.\n",
    "$$\n",
    "According to the notebook on \n",
    "[Jacobi Method and High Relative Accuracy](L4c Symmetric Eigenvalue Decomposition - Jacobi Method and High Relative Accuracy.ipynb), nearly optimal diagonal scaling is such that all columns of $G$ have unit norms, $S=\\mathop{\\mathrm{diag}} \\big( \\| A_{:,1}\\|_2,\\ldots,\\|A_{:,n}\\|_2 \\big)$.\n",
    "\n",
    "4. Let $A$ be an real upper-bidiagonal matrix with diagonal entries $a_1,a_2,\\ldots,a_n$ and \n",
    "the super-diagonal entries $b_1,b_2, \\ldots,b_{n-1}$. Let the diagonal entries of \n",
    "$\\tilde A$ be $\\alpha_1 a_1,\\alpha_2 a_2,\\ldots,\\alpha_n a_n$, and its super-diagonal entries be\n",
    "$\\beta_1 b_1,\\beta_2 b_2,\\ldots,\\beta_{n-1} b_{n-1}$. Then $\\tilde A=D_L^* A D_R$ with \n",
    "\\begin{align*}\n",
    "D_L &=\\mathop{\\mathrm{diag}} \\bigg(\\alpha_1,\\frac{\\alpha_1 \\alpha_2}{\\beta_1},\n",
    "\\frac{\\alpha_1 \\alpha_2 \\alpha_3}{\\beta_1 \\beta_2},\\cdots\\bigg),\\\\\n",
    "D_R &=\\mathop{\\mathrm{diag}} \\bigg(1, \\frac{\\beta_1}{\\alpha_1},\n",
    "\\frac{\\beta_1 \\beta_2}{\\alpha_1 \\alpha_2},\\cdots\\bigg).\n",
    "\\end{align*}\n",
    "Let $\\alpha=\\prod\\limits_{j=1}^n \\max\\{\\alpha_j, 1/\\alpha_j\\}$ and \n",
    "$\\beta=\\prod\\limits_{j=1}^{n-1} \\max\\{\\beta_j, 1/\\beta_j\\}$. Then\n",
    "$$\n",
    "(\\alpha\\beta)^{-1}\\leq \\big(\\| D_L^{-1}\\|_2 \\|D_R^{-1}\\|_2 \\leq\n",
    "\\| D_L\\|_2 \\|D_R\\|_2  \\leq \\alpha\\beta,\n",
    "$$\n",
    "and Fact 1 applies.\n",
    " \n",
    "5. Consider the block partitioned matrices\n",
    "\\begin{align*}\n",
    "A & =\\begin{bmatrix} B & C \\\\ 0 & D\\end{bmatrix}, \\\\\n",
    "\\tilde A & =  \\begin{bmatrix} B & 0 \\\\ 0 & D\\end{bmatrix}\n",
    "=A \\begin{bmatrix} I & -B^{-1} C \\\\ 0 & I \\end{bmatrix}\\equiv A D_R.\n",
    "\\end{align*}\n",
    "By Fact 1, $\\zeta(\\sigma_j,\\tilde \\sigma_j) \\leq \\frac{1}{2} \\|B^{-1}C\\|_2$. This is used as a deflation criterion in the SVD algorithm for bidiagonal matrices."
   ]
  },
  {
   "cell_type": "markdown",
   "metadata": {
    "collapsed": true
   },
   "source": [
    "### Example - Bidiagonal matrix\n",
    "\n",
    "In order to illustrate Facts 1 to 3, we need an algorithm which computes the singular values with high relative acuracy. Such algorithm, the one-sided Jacobi method, is discussed in the following notebook. \n",
    "\n",
    "The algorithm actually used in the function `svdvals()` for `Bidiagonal` is the zero-shift bidiagonal QR algorithm, which attains the accuracy given by Fact 4: if all\n",
    "$1-\\varepsilon \\leq \\alpha_i,\\beta_j \\leq 1+\\varepsilon$, then\n",
    "$$\n",
    "(1-\\varepsilon)^{2n-1} \\leq (\\alpha\\beta)^{-1} \\leq \\alpha\\beta \\leq (1-\\varepsilon)^{2n-1}.\n",
    "$$\n",
    "In other words, $\\varepsilon$ relative changes in diagonal and super-diagonal elements, cause at most $(2n-1)\\varepsilon$ relative changes in the singular values.\n",
    "\n",
    "__However__, if singular values and vectors are desired, the function `svd()` calls the standard algorithm, described in the next notebook, which __does not attain this accuracy__ ."
   ]
  },
  {
   "cell_type": "code",
   "execution_count": 21,
   "metadata": {
    "collapsed": false
   },
   "outputs": [
    {
     "data": {
      "text/plain": [
       "50-element Array{Float64,1}:\n",
       " -4.73991e-6\n",
       " -2.5918e-6 \n",
       " -2.51681e-7\n",
       " -5.06231e-6\n",
       "  6.46927e-7\n",
       " -6.04042e-7\n",
       "  2.08138e-6\n",
       "  1.79542e-6\n",
       " -3.59043e-6\n",
       " -3.40904e-6\n",
       " -5.6103e-6 \n",
       "  7.00961e-6\n",
       " -4.18607e-6\n",
       "  ⋮         \n",
       " -9.46796e-6\n",
       " -2.47653e-6\n",
       " -4.82816e-6\n",
       " -6.84491e-6\n",
       " -1.06868e-6\n",
       "  6.2468e-6 \n",
       " -2.99296e-6\n",
       "  7.54174e-6\n",
       "  5.83866e-6\n",
       " -2.47725e-6\n",
       " -2.76297e-6\n",
       "  6.50914e-6"
      ]
     },
     "execution_count": 21,
     "metadata": {},
     "output_type": "execute_result"
    }
   ],
   "source": [
    "n=50\n",
    "δ=100000\n",
    "# The starting matrix\n",
    "a=exp(50*(rand(n)-0.5))\n",
    "b=exp(50*(rand(n-1)-0.5))\n",
    "A=Bidiagonal(a,b, true)\n",
    "# Multiplicative perturbation\n",
    "DL=ones(n)+(rand(n)-0.5)/δ\n",
    "DR=ones(n)+(rand(n)-0.5)/δ\n",
    "# The perturbed matrix\n",
    "α=DL.*a.*DR\n",
    "β=DL[1:end-1].*b.*DR[2:end]\n",
    "B=Bidiagonal(α,β,true)\n",
    "(A.dv-B.dv)./A.dv"
   ]
  },
  {
   "cell_type": "code",
   "execution_count": 22,
   "metadata": {
    "collapsed": false
   },
   "outputs": [
    {
     "data": {
      "text/plain": [
       "([-4.73991e-6,-2.5918e-6,-2.51681e-7,-5.06231e-6,6.46927e-7,-6.04042e-7,2.08138e-6,1.79542e-6,-3.59043e-6,-3.40904e-6  …  -4.82816e-6,-6.84491e-6,-1.06868e-6,6.2468e-6,-2.99296e-6,7.54174e-6,5.83866e-6,-2.47725e-6,-2.76297e-6,6.50914e-6],[-5.42114e-7,-7.91381e-6,2.92164e-6,-1.10946e-6,-4.88568e-6,2.15685e-6,3.11763e-6,-3.99115e-7,-9.38052e-7,-8.075e-6  …  -4.44027e-6,-6.4269e-6,-1.06345e-6,5.494e-7,3.22241e-6,-1.13015e-6,5.89168e-6,6.8054e-6,-5.42489e-6,1.14287e-6])"
      ]
     },
     "execution_count": 22,
     "metadata": {},
     "output_type": "execute_result"
    }
   ],
   "source": [
    "(a-α)./a, (b-β)./b"
   ]
  },
  {
   "cell_type": "code",
   "execution_count": 23,
   "metadata": {
    "collapsed": false
   },
   "outputs": [
    {
     "data": {
      "text/html": [
       "svdvals<i>{T<:Union{Complex{Float32},Complex{Float64},Float32,Float64}}</i>(A::<b>AbstractArray{T<:Union{Complex{Float32},Complex{Float64},Float32,Float64},2}</b>) at <a href=\"https://github.com/JuliaLang/julia/tree/2ac304dfba75fad148d4070ef4f8a2e400c305bb/base/linalg/svd.jl#L48\" target=\"_blank\">linalg/svd.jl:48</a>"
      ],
      "text/plain": [
       "svdvals{T<:Union{Complex{Float32},Complex{Float64},Float32,Float64}}(A::AbstractArray{T<:Union{Complex{Float32},Complex{Float64},Float32,Float64},2}) at linalg/svd.jl:48"
      ]
     },
     "execution_count": 23,
     "metadata": {},
     "output_type": "execute_result"
    }
   ],
   "source": [
    "@which svdvals(A)"
   ]
  },
  {
   "cell_type": "code",
   "execution_count": 25,
   "metadata": {
    "collapsed": false
   },
   "outputs": [
    {
     "data": {
      "text/plain": [
       "50x2 Array{Float64,2}:\n",
       " 6.34323e10   -2.51681e-7\n",
       " 5.36533e10   -5.42489e-6\n",
       " 3.23625e10    1.75479e-7\n",
       " 2.9451e10    -6.04042e-7\n",
       " 2.86248e10   -4.53498e-6\n",
       " 2.26082e10    2.66622e-6\n",
       " 1.25208e10   -2.39127e-6\n",
       " 9.88407e9    -3.11189e-7\n",
       " 9.86353e9    -4.15931e-6\n",
       " 9.8522e9     -5.06231e-6\n",
       " 7.64762e9     1.74776e-6\n",
       " 3.25606e9     1.04312e-8\n",
       " 3.65121e8     3.80782e-6\n",
       " ⋮                       \n",
       " 1.71773e-6   -4.73991e-6\n",
       " 8.9644e-7     6.46927e-7\n",
       " 6.49657e-7    5.84057e-6\n",
       " 3.67319e-8   -1.35299e-6\n",
       " 2.49016e-8    1.18976e-6\n",
       " 5.67467e-9   -4.25005e-6\n",
       " 3.42868e-9    7.54164e-6\n",
       " 8.87534e-11  -6.28876e-7\n",
       " 8.27636e-15  -2.41269e-6\n",
       " 9.29187e-18   5.50225e-6\n",
       " 2.57363e-22  -4.09362e-6\n",
       " 1.48411e-77  -2.29173e-6"
      ]
     },
     "execution_count": 25,
     "metadata": {},
     "output_type": "execute_result"
    }
   ],
   "source": [
    "σ=svdvals(A)\n",
    "μ=svdvals(B)\n",
    "[σ (σ-μ)./σ]"
   ]
  },
  {
   "cell_type": "code",
   "execution_count": 26,
   "metadata": {
    "collapsed": false
   },
   "outputs": [
    {
     "data": {
      "text/plain": [
       "4.274097420844119e87"
      ]
     },
     "execution_count": 26,
     "metadata": {},
     "output_type": "execute_result"
    }
   ],
   "source": [
    "cond(A)"
   ]
  },
  {
   "cell_type": "code",
   "execution_count": 27,
   "metadata": {
    "collapsed": false
   },
   "outputs": [],
   "source": [
    "# The standard algorithm\n",
    "U,ν,V=svd(A);"
   ]
  },
  {
   "cell_type": "code",
   "execution_count": 19,
   "metadata": {
    "collapsed": false
   },
   "outputs": [
    {
     "data": {
      "text/plain": [
       "50-element Array{Float64,1}:\n",
       " -1.15121e-16\n",
       " -1.49498e-16\n",
       "  1.749e-16  \n",
       " -1.88142e-16\n",
       "  0.0        \n",
       " -1.24454e-16\n",
       "  0.0        \n",
       "  0.0        \n",
       "  0.0        \n",
       " -1.74204e-16\n",
       "  0.0        \n",
       "  0.0        \n",
       "  0.0        \n",
       "  ⋮          \n",
       " -2.75535e-7 \n",
       "  0.0        \n",
       "  0.0        \n",
       " -1.84806e-12\n",
       " -0.342439   \n",
       "  1.38957e-16\n",
       "  0.999008   \n",
       "  0.70221    \n",
       "  0.997497   \n",
       "  0.999982   \n",
       "  1.0        \n",
       " -5.0563e60  "
      ]
     },
     "execution_count": 19,
     "metadata": {},
     "output_type": "execute_result"
    }
   ],
   "source": [
    "(σ-ν)./σ"
   ]
  },
  {
   "cell_type": "code",
   "execution_count": null,
   "metadata": {
    "collapsed": true
   },
   "outputs": [],
   "source": []
  }
 ],
 "metadata": {
  "kernelspec": {
   "display_name": "Julia 0.4.5",
   "language": "julia",
   "name": "julia-0.4"
  },
  "language_info": {
   "file_extension": ".jl",
   "mimetype": "application/julia",
   "name": "julia",
   "version": "0.4.5"
  }
 },
 "nbformat": 4,
 "nbformat_minor": 0
}
