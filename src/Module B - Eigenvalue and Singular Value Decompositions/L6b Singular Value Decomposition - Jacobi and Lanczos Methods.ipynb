{
 "cells": [
  {
   "cell_type": "markdown",
   "metadata": {},
   "source": [
    "# Singular Value Decomposition - Jacobi and Lanczos Methods\n",
    "\n",
    "---\n",
    "\n",
    "Since computing the SVD of $A$ can be seen as computing the EVD of the symmetric matrices \n",
    "$A^*A$, $AA^*$, or $\\begin{bmatrix}0 & A \\\\ A^* & 0 \\end{bmatrix}$, simple modifications of the corresponding EVD algorithms yield version for comuting the SVD.\n",
    "\n",
    "For more details on one-sided Jacobi method, see \n",
    "[Z. Drmač, Computing Eigenvalues and Singular Values to High Relative Accuracy][Hog14a]\n",
    "and the references therein.\n",
    "\n",
    "[Hog14a]: #1 \"L. Hogben, ed., 'Handbook of Linear Algebra', pp. 59.1-59.21, CRC Press, Boca Raton, 2014.\"\n",
    "\n",
    "\n",
    "## Prerequisites\n",
    "\n",
    "The reader should be familiar with concepts of singular values and vectors, related perturbation theory, and algorithms, and Jacobi and Lanczos methods for the symmetric eigenvalue decomposition.\n",
    "\n",
    " \n",
    "## Competences \n",
    "\n",
    "The reader should be able to recognise matrices which warrant high relative accuracy and to apply \n",
    "Jacobi method to them. The reader should be able to recognise matrices to which Lanczos method can be efficiently applied and do so.\n",
    "\n",
    "---"
   ]
  },
  {
   "cell_type": "markdown",
   "metadata": {},
   "source": [
    "## One-sided Jacobi method\n",
    "\n",
    "Let $A\\in\\mathbb{R}^{m\\times n}$ with $\\mathop{\\mathrm{rank}}(A)=n$ (therefore, $m\\geq n$) and\n",
    "$A=U\\Sigma V^T$ its thin SVD.\n",
    "\n",
    "### Definition\n",
    "\n",
    "Let $A=BD$, where $D=\\mathop{\\mathrm{diag}} (\\| A_{:,1}\\|_2, \\ldots, \\|A_{:,n}\\|_2)$ is a __diagonal scaling__ , and $B$ is the __scaled matrix__ of $A$ from the right. \n",
    "Then $[B^T B]_{i,i}=1$.\n",
    "\n",
    "### Facts\n",
    "\n",
    "1. Let $\\tilde U$, $\\tilde V$ and $\\tilde \\Sigma$ be the approximations of $U$, $V$ and $\\Sigma$, respectively, computed by a backward stable algorithm as \n",
    "$A+\\Delta A=\\tilde U\\tilde \\Sigma \\tilde V^T$. Since the orthogonality of $\\tilde U$ and $\\tilde V$ cannot be guaranteed, this product in general does not represent and SVD. There exist nearby orthogonal matrices $\\hat U$ and $\\hat V$ such that \n",
    "$(I+E_1)(A+\\Delta A)(I+E_2)=\\hat U \\tilde \\Sigma \\hat V^T$, where departures from orthogonalithy, \n",
    "$E_1$ and $E_2$, are small in norm.\n",
    "\n",
    "2. Standard algorithms compute the singular values with backward error \n",
    "$\\| \\Delta A\\|\\leq \\phi\\varepsilon \\|A\\|_2$, where $\\varepsilon$ is machine precision and \n",
    "$\\phi$ is a slowly growing function og $n$. The best error bound for the singular values is \n",
    "$|\\sigma_j-\\tilde \\sigma_j|\\leq \\| \\Delta A\\|_2$, and the best relative error bound is\n",
    "$$\n",
    "\\max_j \\frac{|\\sigma_j-\\tilde\\sigma_j|}{\\sigma_j}\\leq \\frac{\\| \\Delta A \\|_2}{\\sigma_j} \\leq\n",
    "\\phi \\varepsilon \\kappa_2(A).\n",
    "$$\n",
    "\n",
    "3. Let $\\|[\\Delta A]_{:,j}\\|_2\\leq \\varepsilon \\| A_{:,j}\\|_2$ for all $j$. Then\n",
    "$A+\\Delta A=(B+\\Delta B)D$ and $\\|\\Delta B\\|_F\\leq \\sqrt{n}\\varepsilon$, and\n",
    "$$\n",
    "\\max_j \\frac{|\\sigma_j-\\tilde\\sigma_j|}{\\sigma_j}\\leq \n",
    "\\frac{\\| (\\Delta B) B^{\\dagger} \\|_2}\\leq\n",
    "\\sqrt{n}\\varepsilon \\| B^{\\dagger}\\|_2.\n",
    "$$\n",
    "This is Fact 3 from the [Relative perturbation theory](L5b Singular Value Decomposition - Perturbation Theory .ipynb).\n",
    "\n",
    "4. It holds\n",
    "$$\n",
    "\\| B^{\\dagger} \\| \\leq \\kappa_2(B) \\leq \\sqrt{n} \\min_{S=\\mathop{\\mathrm{diag}}} \n",
    "\\kappa_2(AS)\\leq \\sqrt{n}\\kappa_2(A).\n",
    "$$\n",
    "Therefore, numerical algorithm with column-wise small backward error computes singular values more accurately than an algorithm with small norm-wise backward error.\n",
    "\n",
    "5. In each step, one-sided Jacobi method computes the Jacobi roataion matrix from the pivot submatrix of the current matrix $A^TA$. Afterwards, $A$ is multiplied with the computed rotation matrix from the right (only two columns are affected). \n",
    "Convergence of the Jacobi method for the symmetric matrix $A^TA$ to a diagonal matrix, implies that the matrix $A$ converges to the matrix $AV$ with orthogonal columns and $V^TV=I$. \n",
    "Then $AV=U\\Sigma$, $\\Sigma=\\mathop{\\mathrm{diag}}(\\| A_{:,1}\\|_2, \\ldots, \\| A_{:,n}\\|_2)$, $U=AV\\Sigma^{-1}$, and  $A=U\\Sigma V^T$ is the SVD of $A$.\n",
    "\n",
    "6. One-sided Jacobi method computes the SVD with error bound from Facts 2 and 3, provided that the condition of the intermittent scaled matrices does not grow much. There is overwhelming numerical evidence for this. Alternatively, \n",
    "if $A$ is square, the one-sided Jacobi method can be applied to the transposed matrix $A^T=DB^T$ and the same error bounds apply, but the condition of the scaled matrix  (_this time from the left_) does not change. This approach is slower.\n",
    "\n",
    "7. One-sided Jacobi method can be preconditioned by applying one QR factorization with full pivoting and one QR factorization withour pivoting to $A$, to obtain faster convergence, without sacrifying accuracy. This method is implemented in the LAPACK routine \n",
    "[DGESVJ](http://www.netlib.org/lapack/explore-html-3.3.1/d1/d5e/dgesvj_8f_source.html).\n",
    "_Writing the wrapper for `DGESVJ` is a tutorial assignment._\n",
    "\n",
    "### Example - Standard matrix"
   ]
  },
  {
   "cell_type": "code",
   "execution_count": 1,
   "metadata": {
    "collapsed": false
   },
   "outputs": [
    {
     "data": {
      "text/plain": [
       "myJacobiR (generic function with 1 method)"
      ]
     },
     "execution_count": 1,
     "metadata": {},
     "output_type": "execute_result"
    }
   ],
   "source": [
    "function myJacobiR{T}(A::Array{T})\n",
    "    m,n=size(A)\n",
    "    V=eye(T,n,n)\n",
    "    # Tolerance for rotation\n",
    "    tol=sqrt(n)*eps(T)\n",
    "    # Counters\n",
    "    p=n*(n-1)/2\n",
    "    sweep=0\n",
    "    pcurrent=0\n",
    "    # First criterion is for standard accuracy, second one is for relative accuracy\n",
    "    # while sweep<30 && vecnorm(A-diagm(diag(A)))>tol\n",
    "    while sweep<30 && pcurrent<p\n",
    "        sweep+=1\n",
    "        # Row-cyclic strategy\n",
    "        for i = 1 : n-1 \n",
    "            for j = i+1 : n\n",
    "                # Compute the 2 x 2 sumbatrix of A'*A\n",
    "                F=A[:,[i,j]]'*A[:,[i,j]]\n",
    "                # Check the tolerance - the first criterion is standard,\n",
    "                # the second one is for relative accuracy               \n",
    "                # if A[i,j]!=zero(T)\n",
    "                # \n",
    "                if abs(F[1,2])>tol*sqrt(F[1,1]*F[2,2])\n",
    "                    # Compute c and s\n",
    "                    τ=(F[1,1]-F[2,2])/(2*F[1,2])\n",
    "                    t=sign(τ)/(abs(τ)+sqrt(1+τ^2))\n",
    "                    c=1/sqrt(1+t^2)\n",
    "                    s=c*t\n",
    "                    G=LinAlg.Givens(i,j,c,s)\n",
    "                    A*=G'\n",
    "                    V*=G'\n",
    "                    pcurrent=0\n",
    "                else\n",
    "                    pcurrent+=1\n",
    "                end\n",
    "            end\n",
    "        end\n",
    "    end\n",
    "    σ=[vecnorm(A[:,k]) for k=1:n]\n",
    "    for k=1:n\n",
    "        A[:,k]=A[:,k]/σ[k]\n",
    "    end\n",
    "    A, σ, V\n",
    "end"
   ]
  },
  {
   "cell_type": "code",
   "execution_count": 2,
   "metadata": {
    "collapsed": false
   },
   "outputs": [
    {
     "data": {
      "text/plain": [
       "8x5 Array{Float64,2}:\n",
       "  1.0  -3.0  -4.0   3.0  -6.0\n",
       "  5.0  -6.0  -4.0   9.0  -9.0\n",
       " -4.0  -8.0   1.0  -6.0   7.0\n",
       " -1.0   7.0   6.0   0.0   4.0\n",
       " -5.0  -6.0   6.0   2.0   5.0\n",
       " -6.0   9.0  -8.0  -8.0  -7.0\n",
       " -9.0  -4.0   9.0   2.0  -5.0\n",
       " -9.0  -2.0  -5.0   0.0   1.0"
      ]
     },
     "execution_count": 2,
     "metadata": {},
     "output_type": "execute_result"
    }
   ],
   "source": [
    "m=8\n",
    "n=5\n",
    "A=map(Float64,rand(-9:9,m,n))"
   ]
  },
  {
   "cell_type": "code",
   "execution_count": 3,
   "metadata": {
    "collapsed": false
   },
   "outputs": [
    {
     "data": {
      "text/plain": [
       "(\n",
       "8x5 Array{Float64,2}:\n",
       "  0.252283    0.262687   -0.231463  -0.0402134   0.0642854 \n",
       "  0.646124    0.382589   -0.166955   0.0785412   0.00356519\n",
       " -0.0872773  -0.444092   -0.191349  -0.41244     0.574249  \n",
       " -0.243701   -0.187418    0.303085   0.318266   -0.453511  \n",
       "  0.149336   -0.487201   -0.159112   0.225274   -0.0103944 \n",
       " -0.619742    0.455695   -0.419944  -0.194352   -0.0911205 \n",
       "  0.158639   -0.322184   -0.556635  -0.305593   -0.628011  \n",
       " -0.142552   -0.0587595  -0.527792   0.734102    0.240023  ,\n",
       "\n",
       "[19.858643222502394,21.40947711151549,15.872078477861853,6.291446115163081,13.105854025795066],\n",
       "5x5 Array{Float64,2}:\n",
       "  0.347592   0.339557   0.785728   -0.339009   0.177723\n",
       " -0.627658   0.354419   0.365788    0.290891  -0.511874\n",
       "  0.143582  -0.622357   0.205075   -0.344999  -0.656488\n",
       "  0.637985   0.0762085  0.0553907   0.708112  -0.287536\n",
       " -0.239968  -0.60494    0.451339    0.424275   0.439029)"
      ]
     },
     "execution_count": 3,
     "metadata": {},
     "output_type": "execute_result"
    }
   ],
   "source": [
    "U,σ,V=myJacobiR(A)"
   ]
  },
  {
   "cell_type": "code",
   "execution_count": 4,
   "metadata": {
    "collapsed": false
   },
   "outputs": [
    {
     "data": {
      "text/plain": [
       "8x5 Array{Float64,2}:\n",
       " -3.55271e-15   1.77636e-15   8.88178e-16  -2.22045e-16  -2.22045e-16\n",
       " -7.10543e-15  -1.77636e-15   4.44089e-16  -6.66134e-16   1.34615e-15\n",
       " -8.88178e-16   3.55271e-15   4.44089e-16   0.0          -1.77636e-15\n",
       " -8.88178e-16  -8.88178e-16   1.77636e-15   0.0           3.55271e-15\n",
       "  8.88178e-16  -1.77636e-15   0.0          -6.66134e-16  -4.16334e-16\n",
       "  0.0          -3.55271e-15   8.88178e-16   4.44089e-16   4.44089e-16\n",
       " -1.77636e-15  -8.88178e-16   0.0          -8.88178e-16  -3.55271e-15\n",
       "  4.44089e-16   8.88178e-16  -7.10543e-15  -1.77636e-15  -1.33227e-15"
      ]
     },
     "execution_count": 4,
     "metadata": {},
     "output_type": "execute_result"
    }
   ],
   "source": [
    "# Residual \n",
    "A*V-U*diagm(σ)"
   ]
  },
  {
   "cell_type": "markdown",
   "metadata": {},
   "source": [
    "### Example - Strongly scaled matrix"
   ]
  },
  {
   "cell_type": "code",
   "execution_count": 5,
   "metadata": {
    "collapsed": false
   },
   "outputs": [
    {
     "data": {
      "text/plain": [
       "20x15 Array{Float64,2}:\n",
       " 2.10138e-8  0.00100182   2.79511e-8  …  5.75259e-11  3.04789e8  3.02756e10\n",
       " 1.12477e-8  9.40967e-6   1.13065e-8     3.54726e-11  4.3182e8   3.4384e10 \n",
       " 4.68631e-9  0.000184595  2.83483e-8     4.1922e-11   7.85035e7  5.90449e10\n",
       " 5.64317e-8  0.00119679   1.21429e-8     3.95774e-13  4.15415e8  6.24004e10\n",
       " 8.57762e-9  0.000330184  2.70371e-8     1.76082e-11  2.03152e8  1.37779e10\n",
       " 1.07354e-8  0.00118288   2.79863e-8  …  1.03369e-10  4.34209e8  4.23691e10\n",
       " 3.42882e-8  5.39102e-5   1.63994e-8     7.63858e-11  4.78527e7  4.21632e10\n",
       " 6.03348e-8  0.0011452    9.51067e-9     8.25521e-11  4.00684e8  5.2353e10 \n",
       " 2.89983e-8  8.22379e-5   2.36814e-8     7.92727e-11  2.60421e8  4.00863e10\n",
       " 2.39828e-9  0.000358521  3.11818e-8     7.53429e-11  1.45195e8  1.93041e10\n",
       " 1.71788e-9  5.77005e-5   3.03042e-8  …  9.27558e-11  2.15356e8  5.67653e10\n",
       " 1.42274e-8  0.000159815  5.85584e-9     9.85951e-11  2.50143e8  1.17916e10\n",
       " 1.50497e-8  0.000912344  2.86018e-8     8.16801e-12  1.75202e8  5.32017e10\n",
       " 3.09749e-8  0.000959101  3.50519e-8     6.00976e-11  4.40889e8  3.30819e10\n",
       " 5.84868e-8  0.000321227  2.06258e-8     9.60606e-11  2.7594e8   3.35634e10\n",
       " 2.01261e-8  0.000568321  5.80715e-9  …  8.08718e-11  1.4182e8   6.19023e10\n",
       " 1.25897e-8  0.00112786   3.02016e-8     5.22049e-11  2.92812e8  5.80208e10\n",
       " 3.71633e-8  0.000331393  6.53319e-9     8.22921e-11  3.02046e8  3.58206e10\n",
       " 2.41793e-8  0.000222238  2.8295e-8      7.1991e-12   2.65225e8  4.18035e10\n",
       " 3.75646e-8  9.11609e-5   7.47371e-9     2.30195e-11  1.51586e8  3.42236e10"
      ]
     },
     "execution_count": 5,
     "metadata": {},
     "output_type": "execute_result"
    }
   ],
   "source": [
    "m=20\n",
    "n=15\n",
    "B=rand(m,n)\n",
    "D=exp(50*(rand(n)-0.5))\n",
    "As=B*diagm(D)"
   ]
  },
  {
   "cell_type": "code",
   "execution_count": 6,
   "metadata": {
    "collapsed": false
   },
   "outputs": [
    {
     "data": {
      "text/plain": [
       "(42.22579886642498,1.4075147572949901e22)"
      ]
     },
     "execution_count": 6,
     "metadata": {},
     "output_type": "execute_result"
    }
   ],
   "source": [
    "cond(B), cond(As)"
   ]
  },
  {
   "cell_type": "code",
   "execution_count": 7,
   "metadata": {
    "collapsed": false
   },
   "outputs": [
    {
     "data": {
      "text/plain": [
       "(\n",
       "20x15 Array{Float64,2}:\n",
       " -0.054113    0.234       0.303614    …  -0.196129    0.202689   0.155776 \n",
       "  0.0841474  -0.568624   -0.154565       -0.245218    0.359919   0.176918 \n",
       " -0.31744    -0.205659    0.149033        0.0977926  -0.385911   0.303787 \n",
       "  0.137277    0.0785212  -0.00735042      0.0561339   0.0955616  0.321061 \n",
       " -0.014524    0.0214109   0.350976        0.147304    0.189829   0.0708931\n",
       " -0.174746    0.0743872  -0.00762322  …   0.198393    0.295271   0.218001 \n",
       "  0.341975    0.0247038   0.476789       -0.190291   -0.287999   0.21693  \n",
       "  0.481862    0.155584   -0.116422        0.184828    0.159153   0.269367 \n",
       "  0.0497351  -0.19969     0.301013        0.0898352   0.051632   0.206251 \n",
       " -0.195401    0.287552   -0.299258        0.22397     0.0548243  0.0993234\n",
       " -0.374069   -0.326663    0.0236574   …   0.384756   -0.159196   0.292063 \n",
       "  0.122993   -0.0652242  -0.123933        0.237525    0.277964   0.0606751\n",
       "  0.050188    0.380145   -0.135403       -0.0375881  -0.189534   0.273727 \n",
       " -0.376592    0.251041    0.101865       -0.0839251   0.384783   0.170218 \n",
       "  0.202007   -0.0672985   0.198327        0.228678    0.130897   0.172691 \n",
       "  0.123439    0.059564   -0.359441    …   0.0996266  -0.314463   0.31849  \n",
       " -0.153114    0.202802    0.0513148      -0.341893   -0.0526452  0.298525 \n",
       "  0.0896449  -0.0404625  -0.146045       -0.0533807   0.151131   0.184305 \n",
       " -0.166196   -0.114806   -0.20023        -0.535706    0.0442267  0.215086 \n",
       "  0.187876   -0.193807   -0.2004         -0.131041   -0.0630473  0.176084 ,\n",
       "\n",
       "[6.405440634638585e-8,0.0013890235147308923,2.3111763393400786e-8,3.6115635448247716e-9,1.3755766875346382e-7,58.273894331762314,1.3664096996305213e-11,4.354894695273867,5.365498863818355e-6,271.6282618948316,4.607177453225329e-11,0.07400624088075261,8.753541559452844e-11,6.603936993123478e8,1.9436095702753958e11],\n",
       "15x15 Array{Float64,2}:\n",
       "  0.855209      6.02449e-6    0.510493     …   5.41722e-17  5.52338e-19\n",
       " -2.8625e-6     0.999999     -1.10773e-5       1.42588e-12  1.22952e-14\n",
       " -0.511041      9.74099e-6    0.856009         2.87635e-17  4.47715e-19\n",
       "  0.00695793   -4.61607e-7    0.0814193        1.90077e-18  3.29953e-20\n",
       " -0.08563      -6.0877e-5    -0.00345818       1.52454e-16  1.42946e-18\n",
       " -4.98251e-10   3.45396e-6   -3.82927e-10  …   3.79727e-8   5.7647e-10 \n",
       " -0.000165692   1.75836e-9    0.000240225      5.08471e-21  1.79801e-22\n",
       " -4.17245e-10   0.000148532  -9.46922e-9       2.59089e-9   4.19434e-11\n",
       "  0.00853831   -0.000295309   0.00172596       3.54736e-15  4.27872e-17\n",
       " -1.93123e-11  -4.30052e-7   -2.81367e-11      7.12483e-8   1.92497e-9 \n",
       " -0.000260152  -3.0947e-8     0.000754375  …   7.99223e-20  1.18509e-21\n",
       "  8.0724e-8     0.00103509    2.55964e-7       5.60927e-11  9.22682e-13\n",
       "  0.000164355  -3.51655e-9    0.000922635      1.08161e-19  1.22844e-21\n",
       " -2.79464e-17  -1.96937e-12  -1.5511e-17       0.999984     0.00564579 \n",
       " -2.63239e-20  -9.52493e-15  -7.71333e-20     -0.00564579   0.999984   )"
      ]
     },
     "execution_count": 7,
     "metadata": {},
     "output_type": "execute_result"
    }
   ],
   "source": [
    "Us,σs,Vs=myJacobiR(As)"
   ]
  },
  {
   "cell_type": "code",
   "execution_count": 8,
   "metadata": {
    "collapsed": false
   },
   "outputs": [
    {
     "data": {
      "text/plain": [
       "15x2 Array{Float64,2}:\n",
       "   1.94361e11     1.94361e11 \n",
       "   6.60394e8      6.60394e8  \n",
       " 271.628        271.628      \n",
       "  58.2739        58.2739     \n",
       "   4.35489        4.35489    \n",
       "   0.0740062      0.0740062  \n",
       "   0.00138902     0.00138542 \n",
       "   5.3655e-6      5.36663e-6 \n",
       "   1.37558e-7     1.37675e-7 \n",
       "   6.40544e-8     6.77055e-8 \n",
       "   2.31118e-8     3.50172e-8 \n",
       "   3.61156e-9     3.74239e-9 \n",
       "   8.75354e-11    8.78194e-11\n",
       "   4.60718e-11    4.85273e-11\n",
       "   1.36641e-11    1.38088e-11"
      ]
     },
     "execution_count": 8,
     "metadata": {},
     "output_type": "execute_result"
    }
   ],
   "source": [
    "[sort(σs,rev=true) svdvals(As)]"
   ]
  },
  {
   "cell_type": "code",
   "execution_count": 9,
   "metadata": {
    "collapsed": false
   },
   "outputs": [
    {
     "data": {
      "text/plain": [
       "20x15 Array{Float64,2}:\n",
       "  2.89513e-24  -4.33681e-19  -1.32349e-23  …  -7.45058e-8   3.8147e-6 \n",
       "  8.27181e-25   0.0          -1.15805e-23     -2.98023e-8   0.0       \n",
       "  0.0           2.71051e-19  -4.1359e-25      -2.98023e-8   0.0       \n",
       "  5.62483e-23   8.13152e-20   3.36042e-25     -5.21541e-8   0.0       \n",
       " -8.16841e-24  -2.71051e-20  -9.92617e-24     -1.49012e-8  -1.90735e-6\n",
       "  1.65436e-24   3.93023e-19   2.50739e-24  …   0.0          0.0       \n",
       "  2.64698e-23  -2.71051e-19  -1.32349e-23      0.0          0.0       \n",
       "  5.29396e-23   8.13152e-20   4.1359e-24      -4.47035e-8   0.0       \n",
       "  3.01921e-23  -3.79471e-19   8.27181e-25     -4.47035e-8   0.0       \n",
       "  3.30872e-24  -1.6263e-19    1.07533e-23     -7.45058e-9   0.0       \n",
       "  0.0          -3.79471e-19   7.85822e-24  …  -4.47035e-8   0.0       \n",
       "  6.61744e-24   1.35525e-20  -7.44463e-24      0.0          0.0       \n",
       "  1.15805e-23   1.0842e-19    9.09899e-24     -1.19209e-7   0.0       \n",
       "  2.97785e-23  -5.96311e-19  -8.27181e-24      0.0          0.0       \n",
       "  5.62483e-23   6.77626e-20   3.30872e-24     -7.45058e-8   3.8147e-6 \n",
       "  1.32349e-23  -3.11708e-19  -1.98523e-23  …  -8.9407e-8    0.0       \n",
       "  4.96308e-24   5.42101e-20  -9.71937e-24     -1.04308e-7   7.62939e-6\n",
       "  4.71493e-23  -3.45589e-19  -6.20385e-24     -5.96046e-8   0.0       \n",
       "  1.32349e-23  -2.43945e-19  -7.44463e-24      7.45058e-9   0.0       \n",
       "  3.63959e-23  -5.42101e-20  -1.40621e-23     -5.21541e-8   3.8147e-6 "
      ]
     },
     "execution_count": 9,
     "metadata": {},
     "output_type": "execute_result"
    }
   ],
   "source": [
    "As*Vs-Us*diagm(σs)"
   ]
  },
  {
   "cell_type": "markdown",
   "metadata": {},
   "source": [
    "In the alternative approach, we first apply QR factorization with column pivoting to obtain the square matrix."
   ]
  },
  {
   "cell_type": "code",
   "execution_count": 10,
   "metadata": {
    "collapsed": false
   },
   "outputs": [
    {
     "data": {
      "text/plain": [
       "(\n",
       "20x15 Array{Float64,2}:\n",
       " -0.155772   -0.202692    0.20421    …   0.197001   -0.0656407   0.228358 \n",
       " -0.176911   -0.359922    0.22284        0.239878    0.0713883   0.11542  \n",
       " -0.303795    0.385905   -0.13301       -0.107947    0.147768    0.103079 \n",
       " -0.32106    -0.0955677   0.243543      -0.0409449  -0.212693   -0.211565 \n",
       " -0.0708895  -0.18983    -0.0575801     -0.157713    0.214074   -0.155135 \n",
       " -0.217995   -0.295275    0.0155181  …  -0.169931   -0.466432   -0.139071 \n",
       " -0.216936    0.287995   -0.107296       0.200262   -0.182674    0.062717 \n",
       " -0.269364   -0.159158    0.0952053     -0.206215    0.268669    0.396004 \n",
       " -0.20625    -0.0516359   0.0237242     -0.068307   -0.35145    -0.100947 \n",
       " -0.0993223  -0.0548262  -0.182266      -0.215948   -0.110234   -0.145479 \n",
       " -0.292066    0.159191    0.262777   …  -0.391743    0.0897899   0.0822886\n",
       " -0.0606697  -0.277965   -0.265459      -0.242998    0.0922273  -0.014071 \n",
       " -0.273731    0.189529    0.332391       0.0409619  -0.0524031  -0.0211061\n",
       " -0.170211   -0.384786   -0.274466       0.0807805  -0.0239114   0.328506 \n",
       " -0.172689   -0.1309     -0.384818      -0.242683    0.252384   -0.0677353\n",
       " -0.318496    0.314457   -0.139551   …  -0.0994635  -0.0651598   0.238197 \n",
       " -0.298526    0.0526394  -0.0984955      0.322415    0.451737   -0.417332 \n",
       " -0.184302   -0.151134    0.245347       0.0482756   0.196081   -0.433264 \n",
       " -0.215085   -0.0442309  -0.141065       0.532742    0.0153204   0.215961 \n",
       " -0.176086    0.0630439  -0.437069       0.151802   -0.297211   -0.241767 ,\n",
       "\n",
       "15x15 Array{Float64,2}:\n",
       " -1.94358e11  -1.09731e9  -374.137   -112.043   …  -2.30334e-10  -3.49461e-11\n",
       "  0.0         -6.60404e8   -47.0591   -25.0791     -5.27846e-11  -3.35858e-12\n",
       "  0.0          0.0        -270.501    -24.0909     -5.03085e-11  -1.09282e-11\n",
       "  0.0          0.0           0.0      -58.504      -4.02195e-11  -9.02763e-12\n",
       "  0.0          0.0           0.0        0.0        -3.09713e-11  -1.24398e-12\n",
       "  0.0          0.0           0.0        0.0     …  -1.52301e-11  -7.88351e-13\n",
       "  0.0          0.0           0.0        0.0        -4.29858e-11   2.44243e-12\n",
       "  0.0          0.0           0.0        0.0         9.93415e-12   8.5305e-12 \n",
       "  0.0          0.0           0.0        0.0         4.55473e-11  -3.86396e-12\n",
       "  0.0          0.0           0.0        0.0        -1.44813e-11  -9.09405e-12\n",
       "  0.0          0.0           0.0        0.0     …  -2.07688e-11  -7.53853e-12\n",
       "  0.0          0.0           0.0        0.0         1.02875e-11   6.76388e-12\n",
       "  0.0          0.0           0.0        0.0         7.14295e-12   7.79646e-12\n",
       "  0.0          0.0           0.0        0.0         4.62406e-11  -1.5475e-12 \n",
       "  0.0          0.0           0.0        0.0         0.0           1.37328e-11,\n",
       "\n",
       "[15,14,10,6,8,12,2,9,5,1,3,4,13,11,7])"
      ]
     },
     "execution_count": 10,
     "metadata": {},
     "output_type": "execute_result"
    }
   ],
   "source": [
    "Q,R,p=qr(As,Val{true},thin=true)"
   ]
  },
  {
   "cell_type": "code",
   "execution_count": 11,
   "metadata": {
    "collapsed": false
   },
   "outputs": [
    {
     "data": {
      "text/plain": [
       "(\n",
       "15x15 Array{Float64,2}:\n",
       " -0.999984      0.00564579    1.54988e-9   …   8.89265e-23   1.25632e-22\n",
       " -0.00564579   -0.999984      7.44936e-8      -3.28616e-20   1.09512e-20\n",
       " -1.92497e-9   -7.12483e-8   -0.995652        -2.25304e-13  -5.67278e-14\n",
       " -5.7647e-10   -3.79727e-8   -0.0929812       -7.26676e-13  -1.24669e-13\n",
       " -4.19434e-11  -2.59089e-9   -0.0055855        6.92141e-12   1.85812e-12\n",
       " -9.22682e-13  -5.60927e-11  -9.32094e-5   …  -6.19205e-11  -1.25377e-10\n",
       " -1.22952e-14  -1.42588e-12   8.19077e-7       5.82373e-8    2.55026e-9 \n",
       " -4.27872e-17  -3.54736e-15  -5.13362e-9      -5.91428e-6   -1.01214e-6 \n",
       " -1.42946e-18  -1.52454e-16  -4.23981e-10      0.00039262    4.20606e-5 \n",
       " -5.52338e-19  -5.41722e-17  -8.26115e-11     -4.06701e-5    7.72685e-5 \n",
       " -4.47715e-19  -2.87635e-17  -3.94827e-11  …  -0.000634816  -0.000222733\n",
       " -3.29953e-20  -1.90077e-18  -2.62211e-12     -0.00333725   -0.00249507 \n",
       " -1.22844e-21  -1.08161e-19  -2.12113e-13      0.107886      0.0947872  \n",
       " -1.18509e-21  -7.99223e-20  -1.88146e-13      0.993025      0.0372247  \n",
       " -1.79801e-22  -5.08471e-21  -4.08894e-14     -0.0474466     0.994798   ,\n",
       "\n",
       "[1.9436095702753955e11,6.603936993123478e8,271.6282618948315,58.27389433176226,4.354894695273861,0.07400624088075257,0.0013890235147308886,5.365498863818345e-6,1.3755766875346369e-7,6.405440634638582e-8,2.3111763393400782e-8,3.6115635448247703e-9,8.753541559452839e-11,4.607177453225321e-11,1.3664096996305195e-11],\n",
       "15x15 Array{Float64,2}:\n",
       "  1.0          -1.91834e-5   -2.16606e-18  …  -2.10797e-44  -8.83243e-45\n",
       "  1.91834e-5    1.0          -3.06361e-14      2.29256e-39  -2.2657e-40 \n",
       "  2.75085e-18   3.0575e-14    0.9998           3.83738e-26   2.86555e-27\n",
       "  1.73276e-19   3.35953e-15   0.0200032        5.56455e-25   2.79375e-26\n",
       "  9.40178e-22   1.70923e-17   8.95808e-5      -7.30817e-23  -5.823e-24  \n",
       " -3.51347e-25  -6.28624e-21  -2.53973e-8   …  -3.85967e-20  -2.31514e-20\n",
       " -8.78691e-29  -2.9991e-24    4.18852e-12      1.93164e-15   2.50861e-17\n",
       "  0.0          -2.88326e-29  -1.01502e-16     -5.07905e-11  -2.57792e-12\n",
       "  0.0           0.0           2.15964e-19     -1.31895e-7   -4.19115e-9 \n",
       "  0.0           0.0          -1.30828e-20     -5.23105e-8    1.81114e-8 \n",
       "  0.0           0.0           3.83022e-21  …   1.14888e-6    9.59303e-8 \n",
       "  0.0           0.0          -3.5001e-23      -4.18855e-5   -9.36847e-6 \n",
       "  0.0           0.0           6.16459e-26     -0.0572863    -0.0149269  \n",
       "  0.0           0.0          -3.1796e-26       0.998258      0.0133078  \n",
       "  0.0           0.0          -2.06726e-27     -0.0141426     0.9998     )"
      ]
     },
     "execution_count": 11,
     "metadata": {},
     "output_type": "execute_result"
    }
   ],
   "source": [
    "UR,σR,VR=myJacobiR(R')"
   ]
  },
  {
   "cell_type": "code",
   "execution_count": 12,
   "metadata": {
    "collapsed": false
   },
   "outputs": [
    {
     "data": {
      "text/plain": [
       "15-element Array{Float64,1}:\n",
       " 1.3006e-15 \n",
       " 1.82347e-15\n",
       " 5.90604e-16\n",
       " 3.43555e-16\n",
       " 1.43162e-16\n",
       " 6.19859e-16\n",
       " 9.62134e-16\n",
       " 1.8944e-15 \n",
       " 2.65387e-15\n",
       " 5.62566e-16\n",
       " 1.2237e-15 \n",
       " 9.75453e-16\n",
       " 4.18538e-16\n",
       " 0.0        \n",
       " 1.57015e-16"
      ]
     },
     "execution_count": 12,
     "metadata": {},
     "output_type": "execute_result"
    }
   ],
   "source": [
    "(sort(σs)-sort(σR))./sort(σs)"
   ]
  },
  {
   "cell_type": "code",
   "execution_count": 13,
   "metadata": {
    "collapsed": false
   },
   "outputs": [],
   "source": [
    "P=eye(15)\n",
    "P=P[:,p];"
   ]
  },
  {
   "cell_type": "markdown",
   "metadata": {},
   "source": [
    "Now $QRP^T=A$ and $R^T=U_R\\Sigma_R V^T_R$, so $A=(Q V_R) \\Sigma_R (U_R^T P^T)$ is an SVD of $A$."
   ]
  },
  {
   "cell_type": "code",
   "execution_count": 14,
   "metadata": {
    "collapsed": false
   },
   "outputs": [
    {
     "data": {
      "text/plain": [
       "2.9134940798592712e-5"
      ]
     },
     "execution_count": 14,
     "metadata": {},
     "output_type": "execute_result"
    }
   ],
   "source": [
    "# Check the residual\n",
    "U1=Q*VR\n",
    "V1=UR[invperm(p),:]\n",
    "norm(As*V1-U1*diagm(σR))"
   ]
  },
  {
   "cell_type": "markdown",
   "metadata": {
    "collapsed": true
   },
   "source": [
    "## Lanczos method\n",
    "\n",
    "The function `svds()` is based on the Lanczos method for symmetric matrices. Input can be matrix, but also an operator which defines the product of the given matrix with a vector."
   ]
  },
  {
   "cell_type": "code",
   "execution_count": 15,
   "metadata": {
    "collapsed": false
   },
   "outputs": [
    {
     "name": "stdout",
     "output_type": "stream",
     "text": [
      "search: svds svdvals svdvals! is_valid_ascii svd svdfact svdfact! isvalid\n",
      "\n"
     ]
    },
    {
     "data": {
      "text/latex": [
       "\\begin{verbatim}\n",
       "..  svds(A; nsv=6, ritzvec=true, tol=0.0, maxiter=1000) -> (left_sv, s, right_sv, nconv, niter, nmult, resid)\n",
       "\n",
       "``svds`` computes largest singular values ``s`` of ``A`` using Lanczos or Arnoldi iterations.\n",
       "Uses :func:`eigs` underneath.\n",
       "\n",
       "Inputs are:\n",
       "\n",
       "* ``A``: Linear operator. It can either subtype of ``AbstractArray`` (e.g., sparse matrix) or duck typed. For duck typing ``A`` has to support ``size(A)``, ``eltype(A)``, ``A * vector`` and ``A' * vector``.\n",
       "* ``nsv``: Number of singular values.\n",
       "* ``ritzvec``: Whether to return the left and right singular vectors ``left_sv`` and ``right_sv``, default is ``true``. If ``false`` the singular vectors are omitted from the output.\n",
       "* ``tol``: tolerance, see :func:`eigs`.\n",
       "* ``maxiter``: Maximum number of iterations, see :func:`eigs`.\n",
       "\n",
       "**Example**::\n",
       "\n",
       "   X = sprand(10, 5, 0.2)\n",
       "   svds(X, nsv = 2)\n",
       "\\end{verbatim}\n"
      ],
      "text/markdown": [
       "```rst\n",
       "..  svds(A; nsv=6, ritzvec=true, tol=0.0, maxiter=1000) -> (left_sv, s, right_sv, nconv, niter, nmult, resid)\n",
       "\n",
       "``svds`` computes largest singular values ``s`` of ``A`` using Lanczos or Arnoldi iterations.\n",
       "Uses :func:`eigs` underneath.\n",
       "\n",
       "Inputs are:\n",
       "\n",
       "* ``A``: Linear operator. It can either subtype of ``AbstractArray`` (e.g., sparse matrix) or duck typed. For duck typing ``A`` has to support ``size(A)``, ``eltype(A)``, ``A * vector`` and ``A' * vector``.\n",
       "* ``nsv``: Number of singular values.\n",
       "* ``ritzvec``: Whether to return the left and right singular vectors ``left_sv`` and ``right_sv``, default is ``true``. If ``false`` the singular vectors are omitted from the output.\n",
       "* ``tol``: tolerance, see :func:`eigs`.\n",
       "* ``maxiter``: Maximum number of iterations, see :func:`eigs`.\n",
       "\n",
       "**Example**::\n",
       "\n",
       "   X = sprand(10, 5, 0.2)\n",
       "   svds(X, nsv = 2)\n",
       "```\n"
      ],
      "text/plain": [
       "```rst\n",
       "..  svds(A; nsv=6, ritzvec=true, tol=0.0, maxiter=1000) -> (left_sv, s, right_sv, nconv, niter, nmult, resid)\n",
       "\n",
       "``svds`` computes largest singular values ``s`` of ``A`` using Lanczos or Arnoldi iterations.\n",
       "Uses :func:`eigs` underneath.\n",
       "\n",
       "Inputs are:\n",
       "\n",
       "* ``A``: Linear operator. It can either subtype of ``AbstractArray`` (e.g., sparse matrix) or duck typed. For duck typing ``A`` has to support ``size(A)``, ``eltype(A)``, ``A * vector`` and ``A' * vector``.\n",
       "* ``nsv``: Number of singular values.\n",
       "* ``ritzvec``: Whether to return the left and right singular vectors ``left_sv`` and ``right_sv``, default is ``true``. If ``false`` the singular vectors are omitted from the output.\n",
       "* ``tol``: tolerance, see :func:`eigs`.\n",
       "* ``maxiter``: Maximum number of iterations, see :func:`eigs`.\n",
       "\n",
       "**Example**::\n",
       "\n",
       "   X = sprand(10, 5, 0.2)\n",
       "   svds(X, nsv = 2)\n",
       "```\n"
      ]
     },
     "execution_count": 15,
     "metadata": {},
     "output_type": "execute_result"
    }
   ],
   "source": [
    "?svds"
   ]
  },
  {
   "cell_type": "code",
   "execution_count": 16,
   "metadata": {
    "collapsed": false
   },
   "outputs": [],
   "source": [
    "m=20\n",
    "n=15\n",
    "A=rand(m,n);"
   ]
  },
  {
   "cell_type": "code",
   "execution_count": 17,
   "metadata": {
    "collapsed": false
   },
   "outputs": [
    {
     "data": {
      "text/plain": [
       "(\n",
       "20x15 Array{Float64,2}:\n",
       " -0.240339  -0.00591555   0.140354    …  -0.301328    -0.00365383\n",
       " -0.204612  -0.11566      0.465815       -0.228446    -0.19806   \n",
       " -0.23935    0.0914358    0.00370841      0.256475    -0.274818  \n",
       " -0.272593   0.188513     0.0379744      -0.275999     0.00880543\n",
       " -0.180147  -0.43128     -0.365829       -0.166577     0.0386427 \n",
       " -0.199518  -0.241917     0.192626    …  -0.166434    -0.0888854 \n",
       " -0.273135   0.00845405  -0.244867        0.403096    -0.0299702 \n",
       " -0.194973  -0.0768215    0.20291        -0.19143      0.352643  \n",
       " -0.248844  -0.00642136  -0.356442       -0.328271    -0.151218  \n",
       " -0.241481   0.464142    -0.114384       -0.245256    -0.053765  \n",
       " -0.184648   0.0555143    0.0677048   …   0.204391    -0.27974   \n",
       " -0.164448  -0.279704    -0.124711        0.00319137   0.294488  \n",
       " -0.212239  -0.310288    -0.139027        0.1214      -0.302567  \n",
       " -0.273388  -0.235969     0.298433        0.316283     0.431367  \n",
       " -0.181014   0.274129     0.142019        0.271869    -0.143367  \n",
       " -0.178598   0.329724    -0.338658    …  -0.0134783    0.437011  \n",
       " -0.214514  -0.0826803   -0.0985989       0.0473036   -0.0965249 \n",
       " -0.280683  -0.0157228   -0.112096        0.190112     0.0190352 \n",
       " -0.200248   0.0380008    0.105538       -0.107869    -0.141319  \n",
       " -0.230598   0.225951     0.229882        0.109073     0.202397  ,\n",
       "\n",
       "[9.233351437504982,2.004620481347783,1.779692715123704,1.7127885402637306,1.5372105216529923,1.3546318143430103,1.2615188366604206,1.1070677926844457,0.949451472340747,0.8957240564565476,0.6805310014686162,0.6073135898187547,0.5343930448276508,0.261688430078807,0.20688231140896773],\n",
       "15x15 Array{Float64,2}:\n",
       " -0.313254  -0.167464    0.307605   -0.0281782   …  -0.0810468   -0.258126 \n",
       " -0.215729   0.296844   -0.418633    0.175621        0.299936     0.144254 \n",
       " -0.330073   0.0917875   0.313287   -0.161366       -0.519163     0.374629 \n",
       " -0.205718  -0.480693    0.182506    0.416094        0.167803     0.0199484\n",
       " -0.201695   0.0203653   0.0286203  -0.478183        0.227305    -0.168919 \n",
       " -0.252696  -0.173372   -0.459606   -0.356151    …  -0.404493    -0.0125347\n",
       " -0.2403     0.0670156  -0.356396    0.0456847       0.0725507    0.274877 \n",
       " -0.286046   0.209965    0.403473    0.00381201      0.247531     0.194413 \n",
       " -0.206989   0.105898    0.0219257   0.386024       -0.210908    -0.162787 \n",
       " -0.25608   -0.665213   -0.119927   -0.0854967       0.15367      0.204668 \n",
       " -0.279379   0.209269   -0.0380944   0.344915    …  -0.290018     0.0767328\n",
       " -0.202823   0.136425   -0.0567194  -0.0409475       0.247537     0.363866 \n",
       " -0.281256   0.171238    0.0148693  -0.211457       -0.00119156  -0.4499   \n",
       " -0.268583  -0.0189101  -0.23668     0.258805        0.0250078   -0.460736 \n",
       " -0.284797   0.139612    0.145029   -0.151411        0.331444    -0.0917052)"
      ]
     },
     "execution_count": 17,
     "metadata": {},
     "output_type": "execute_result"
    }
   ],
   "source": [
    "U,σ,V=svd(A)"
   ]
  },
  {
   "cell_type": "code",
   "execution_count": 18,
   "metadata": {
    "collapsed": false
   },
   "outputs": [],
   "source": [
    "# All singular values\n",
    "UL,σL,VL, rest=svds(A,nsv=15);"
   ]
  },
  {
   "cell_type": "code",
   "execution_count": 19,
   "metadata": {
    "collapsed": false
   },
   "outputs": [
    {
     "data": {
      "text/plain": [
       "15-element Array{Float64,1}:\n",
       " -3.8477e-16 \n",
       " -8.86131e-16\n",
       " -1.24766e-15\n",
       "  1.03711e-15\n",
       " -1.15557e-15\n",
       "  8.19575e-16\n",
       " -1.2321e-15 \n",
       " -8.0228e-16 \n",
       " -3.50799e-16\n",
       "  0.0        \n",
       " -1.63141e-16\n",
       "  0.0        \n",
       "  2.07754e-16\n",
       "  0.0        \n",
       " -1.07329e-15"
      ]
     },
     "execution_count": 19,
     "metadata": {},
     "output_type": "execute_result"
    }
   ],
   "source": [
    "(σ-σL)./σ"
   ]
  },
  {
   "cell_type": "code",
   "execution_count": 20,
   "metadata": {
    "collapsed": false
   },
   "outputs": [
    {
     "data": {
      "text/plain": [
       "5-element Array{Float64,1}:\n",
       "  1.92385e-16\n",
       " -1.55073e-15\n",
       " -2.62008e-15\n",
       "  2.59278e-16\n",
       "  5.77786e-16"
      ]
     },
     "execution_count": 20,
     "metadata": {},
     "output_type": "execute_result"
    }
   ],
   "source": [
    "# Some largest singular values\n",
    "Up,σp,Vp, rest=svds(A,nsv=5);\n",
    "(σ[1:5]-σp)./σ[1:5]"
   ]
  },
  {
   "cell_type": "markdown",
   "metadata": {},
   "source": [
    "### Example - Large matrix"
   ]
  },
  {
   "cell_type": "code",
   "execution_count": 21,
   "metadata": {
    "collapsed": false
   },
   "outputs": [],
   "source": [
    "m=2000\n",
    "n=1500\n",
    "Ab=rand(m,n);"
   ]
  },
  {
   "cell_type": "code",
   "execution_count": 22,
   "metadata": {
    "collapsed": false
   },
   "outputs": [
    {
     "name": "stdout",
     "output_type": "stream",
     "text": [
      "  3.580198 seconds (185 allocations: 131.801 MB, 0.45% gc time)\n"
     ]
    }
   ],
   "source": [
    "@time Ub,σb,Vb=svd(Ab);"
   ]
  },
  {
   "cell_type": "code",
   "execution_count": 23,
   "metadata": {
    "collapsed": false
   },
   "outputs": [
    {
     "name": "stdout",
     "output_type": "stream",
     "text": [
      "  2.469470 seconds (9.37 k allocations: 60.580 MB, 0.14% gc time)\n"
     ]
    }
   ],
   "source": [
    "# This is rather slow\n",
    "@time Ul,σl,rest=svds(Ab,nsv=10);"
   ]
  },
  {
   "cell_type": "code",
   "execution_count": 24,
   "metadata": {
    "collapsed": false
   },
   "outputs": [
    {
     "data": {
      "text/plain": [
       "10-element Array{Float64,1}:\n",
       " -5.77484e-15\n",
       " -5.00912e-15\n",
       "  3.41555e-15\n",
       "  2.98601e-15\n",
       " -8.98982e-16\n",
       " -1.04944e-14\n",
       "  1.80086e-15\n",
       " -2.55931e-15\n",
       "  1.35796e-15\n",
       "  1.0584e-15 "
      ]
     },
     "execution_count": 24,
     "metadata": {},
     "output_type": "execute_result"
    }
   ],
   "source": [
    "(σb[1:10]-σl)./σb[1:10]"
   ]
  },
  {
   "cell_type": "markdown",
   "metadata": {},
   "source": [
    "### Example - Very large sparse matrix"
   ]
  },
  {
   "cell_type": "code",
   "execution_count": 25,
   "metadata": {
    "collapsed": false
   },
   "outputs": [
    {
     "name": "stdout",
     "output_type": "stream",
     "text": [
      "search: sprand sprandn sprandbool StepRange\n",
      "\n"
     ]
    },
    {
     "data": {
      "text/latex": [
       "\\begin{verbatim}\n",
       "..  sprand([rng,] m,n,p [,rfn])\n",
       "\n",
       "Create a random ``m`` by ``n`` sparse matrix, in which the probability of any\n",
       "element being nonzero is independently given by ``p`` (and hence the mean\n",
       "density of nonzeros is also exactly ``p``). Nonzero values are sampled from\n",
       "the distribution specified by ``rfn``. The uniform distribution is used in\n",
       "case ``rfn`` is not specified. The optional ``rng`` argument specifies a\n",
       "random number generator, see :ref:`Random Numbers <random-numbers>`.\n",
       "\\end{verbatim}\n"
      ],
      "text/markdown": [
       "```rst\n",
       "..  sprand([rng,] m,n,p [,rfn])\n",
       "\n",
       "Create a random ``m`` by ``n`` sparse matrix, in which the probability of any\n",
       "element being nonzero is independently given by ``p`` (and hence the mean\n",
       "density of nonzeros is also exactly ``p``). Nonzero values are sampled from\n",
       "the distribution specified by ``rfn``. The uniform distribution is used in\n",
       "case ``rfn`` is not specified. The optional ``rng`` argument specifies a\n",
       "random number generator, see :ref:`Random Numbers <random-numbers>`.\n",
       "```\n"
      ],
      "text/plain": [
       "```rst\n",
       "..  sprand([rng,] m,n,p [,rfn])\n",
       "\n",
       "Create a random ``m`` by ``n`` sparse matrix, in which the probability of any\n",
       "element being nonzero is independently given by ``p`` (and hence the mean\n",
       "density of nonzeros is also exactly ``p``). Nonzero values are sampled from\n",
       "the distribution specified by ``rfn``. The uniform distribution is used in\n",
       "case ``rfn`` is not specified. The optional ``rng`` argument specifies a\n",
       "random number generator, see :ref:`Random Numbers <random-numbers>`.\n",
       "```\n"
      ]
     },
     "execution_count": 25,
     "metadata": {},
     "output_type": "execute_result"
    }
   ],
   "source": [
    "?sprand"
   ]
  },
  {
   "cell_type": "code",
   "execution_count": 26,
   "metadata": {
    "collapsed": false
   },
   "outputs": [
    {
     "data": {
      "text/plain": [
       "10000x3000 sparse matrix with 1498624 Float64 entries:\n",
       "\t[37   ,     1]  =  0.214525\n",
       "\t[41   ,     1]  =  0.0924789\n",
       "\t[66   ,     1]  =  0.199703\n",
       "\t[106  ,     1]  =  0.794311\n",
       "\t[107  ,     1]  =  0.0675695\n",
       "\t[110  ,     1]  =  0.749529\n",
       "\t[113  ,     1]  =  0.793374\n",
       "\t[165  ,     1]  =  0.0574841\n",
       "\t[169  ,     1]  =  0.805687\n",
       "\t[187  ,     1]  =  0.415969\n",
       "\t⋮\n",
       "\t[9781 ,  3000]  =  0.70868\n",
       "\t[9806 ,  3000]  =  0.618624\n",
       "\t[9894 ,  3000]  =  0.274889\n",
       "\t[9897 ,  3000]  =  0.473151\n",
       "\t[9898 ,  3000]  =  0.44278\n",
       "\t[9909 ,  3000]  =  0.121238\n",
       "\t[9927 ,  3000]  =  0.579126\n",
       "\t[9938 ,  3000]  =  0.397157\n",
       "\t[9958 ,  3000]  =  0.591276\n",
       "\t[9966 ,  3000]  =  0.173047\n",
       "\t[10000,  3000]  =  0.914066"
      ]
     },
     "execution_count": 26,
     "metadata": {},
     "output_type": "execute_result"
    }
   ],
   "source": [
    "m=10000\n",
    "n=3000\n",
    "A=sprand(m,n,0.05)"
   ]
  },
  {
   "cell_type": "code",
   "execution_count": 27,
   "metadata": {
    "collapsed": false
   },
   "outputs": [
    {
     "name": "stdout",
     "output_type": "stream",
     "text": [
      " 28.767826 seconds (239.26 k allocations: 670.163 MB, 0.18% gc time)\n"
     ]
    },
    {
     "data": {
      "text/plain": [
       "([137.464,19.645,19.5688,19.5546,19.5177,19.5031,19.4921,19.4636,19.452,19.4352  …  18.5279,18.5261,18.5041,18.4904,18.4823,18.4766,18.4739,18.4662,18.4573,18.4505],200,10,1558,[-0.114111,-0.00488598,-0.0875836,0.111666,-0.0565263,-0.0683753,0.0519906,-0.013949,-0.10166,-0.00504667  …  -0.0316717,0.111076,-0.228173,0.12752,-0.0281739,-0.0634575,0.212418,-0.143217,-0.0855776,0.0620137])"
      ]
     },
     "execution_count": 27,
     "metadata": {},
     "output_type": "execute_result"
    }
   ],
   "source": [
    "# No vectors, this takess about 30 sec.\n",
    "@time σ1,rest=svds(A,nsv=100,ritzvec=false)"
   ]
  },
  {
   "cell_type": "code",
   "execution_count": 28,
   "metadata": {
    "collapsed": false
   },
   "outputs": [
    {
     "name": "stdout",
     "output_type": "stream",
     "text": [
      " 20.988790 seconds (6.88 k allocations: 459.827 MB, 0.02% gc time)\n"
     ]
    }
   ],
   "source": [
    "@time σ2=svdvals(full(A));"
   ]
  },
  {
   "cell_type": "code",
   "execution_count": 29,
   "metadata": {
    "collapsed": false
   },
   "outputs": [
    {
     "data": {
      "text/plain": [
       "100-element Array{Float64,1}:\n",
       " -8.47703e-15\n",
       "  5.06367e-15\n",
       " -4.17564e-15\n",
       " -1.27177e-14\n",
       " -7.82707e-15\n",
       "  1.27513e-15\n",
       "  1.09359e-15\n",
       " -3.83316e-15\n",
       " -3.6528e-15 \n",
       " -3.10756e-15\n",
       " -1.64754e-15\n",
       " -2.01511e-15\n",
       " -1.4664e-15 \n",
       "  ⋮          \n",
       " -2.29821e-15\n",
       " -2.10875e-15\n",
       " -1.91749e-15\n",
       " -2.68475e-15\n",
       " -9.59983e-16\n",
       " -3.07421e-15\n",
       " -1.92222e-15\n",
       " -1.92281e-15\n",
       " -1.34617e-15\n",
       " -2.11629e-15\n",
       " -1.92483e-15\n",
       "  1.92554e-16"
      ]
     },
     "execution_count": 29,
     "metadata": {},
     "output_type": "execute_result"
    }
   ],
   "source": [
    "(σ1-σ2[1:100])./σ2[1:100]"
   ]
  },
  {
   "cell_type": "code",
   "execution_count": null,
   "metadata": {
    "collapsed": true
   },
   "outputs": [],
   "source": []
  }
 ],
 "metadata": {
  "kernelspec": {
   "display_name": "Julia 0.4.5",
   "language": "julia",
   "name": "julia-0.4"
  },
  "language_info": {
   "file_extension": ".jl",
   "mimetype": "application/julia",
   "name": "julia",
   "version": "0.4.5"
  }
 },
 "nbformat": 4,
 "nbformat_minor": 0
}
