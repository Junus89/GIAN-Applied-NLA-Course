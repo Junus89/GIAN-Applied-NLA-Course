{
 "cells": [
  {
   "cell_type": "markdown",
   "metadata": {},
   "source": [
    "# Singular Value Decomposition - Jacobi and Lanczos Methods\n",
    "\n",
    "---\n",
    "\n",
    "Since computing the SVD of $A$ can be seen as computing the EVD of the symmetric matrices \n",
    "$A^*A$, $AA^*$, or $\\begin{bmatrix}0 & A \\\\ A^* & 0 \\end{bmatrix}$, simple modifications of the corresponding EVD algorithms yield version for comuting the SVD.\n",
    "\n",
    "For more details on one-sided Jacobi method, see \n",
    "[Z. Drmač, Computing Eigenvalues and Singular Values to High Relative Accuracy][Hog14a]\n",
    "and the references therein.\n",
    "\n",
    "[Hog14a]: #1 \"L. Hogben, ed., 'Handbook of Linear Algebra', pp. 59.1-59.21, CRC Press, Boca Raton, 2014.\"\n",
    "\n",
    "\n",
    "## Prerequisites\n",
    "\n",
    "The reader should be familiar with concepts of singular values and vectors, related perturbation theory, and algorithms, and Jacobi and Lanczos methods for the symmetric eigenvalue decomposition.\n",
    "\n",
    " \n",
    "## Competences \n",
    "\n",
    "The reader should be able to recognise matrices which warrant high relative accuracy and to apply \n",
    "Jacobi method to them. The reader should be able to recognise matrices to which Lanczos method can be efficiently applied and do so.\n",
    "\n",
    "---"
   ]
  },
  {
   "cell_type": "markdown",
   "metadata": {},
   "source": [
    "## One-sided Jacobi method\n",
    "\n",
    "Let $A\\in\\mathbb{R}^{m\\times n}$ with $\\mathop{\\mathrm{rank}}(A)=n$ (therefore, $m\\geq n$) and\n",
    "$A=U\\Sigma V^T$ its thin SVD.\n",
    "\n",
    "### Definition\n",
    "\n",
    "Let $A=BD$, where $D=\\mathop{\\mathrm{diag}} (\\| A_{:,1}\\|_2, \\ldots, \\|A_{:,n}\\|_2)$ is a __diagonal scaling__ , and $B$ is the __scaled matrix__ of $A$ from the right. \n",
    "Then $[B^T B]_{i,i}=1$.\n",
    "\n",
    "### Facts\n",
    "\n",
    "1. Let $\\tilde U$, $\\tilde V$ and $\\tilde \\Sigma$ be the approximations of $U$, $V$ and $\\Sigma$, respectively, computed by a backward stable algorithm as \n",
    "$A+\\Delta A=\\tilde U\\tilde \\Sigma \\tilde V^T$. Since the orthogonality of $\\tilde U$ and $\\tilde V$ cannot be guaranteed, this product in general does not represent and SVD. There exist nearby orthogonal matrices $\\hat U$ and $\\hat V$ such that \n",
    "$(I+E_1)(A+\\Delta A)(I+E_2)=\\hat U \\tilde \\Sigma \\hat V^T$, where departures from orthogonalithy, \n",
    "$E_1$ and $E_2$, are small in norm.\n",
    "\n",
    "2. Standard algorithms compute the singular values with backward error \n",
    "$\\| \\Delta A\\|\\leq \\phi\\varepsilon \\|A\\|_2$, where $\\varepsilon$ is machine precision and \n",
    "$\\phi$ is a slowly growing function og $n$. The best error bound for the singular values is \n",
    "$|\\sigma_j-\\tilde \\sigma_j|\\leq \\| \\Delta A\\|_2$, and the best relative error bound is\n",
    "$$\n",
    "\\max_j \\frac{|\\sigma_j-\\tilde\\sigma_j|}{\\sigma_j}\\leq \\frac{\\| \\Delta A \\|_2}{\\sigma_j} \\leq\n",
    "\\phi \\varepsilon \\kappa_2(A).\n",
    "$$\n",
    "\n",
    "3. Let $\\|[\\Delta A]_{:,j}\\|_2\\leq \\varepsilon \\| A_{:,j}\\|_2$ for all $j$. Then\n",
    "$A+\\Delta A=(B+\\Delta B)D$ and $\\|\\Delta B\\|_F\\leq \\sqrt{n}\\varepsilon$, and\n",
    "$$\n",
    "\\max_j \\frac{|\\sigma_j-\\tilde\\sigma_j|}{\\sigma_j}\\leq \n",
    "\\| (\\Delta B) B^{\\dagger} \\|_2\\leq\n",
    "\\sqrt{n}\\varepsilon \\| B^{\\dagger}\\|_2.\n",
    "$$\n",
    "This is Fact 3 from the [Relative perturbation theory](L5b Singular Value Decomposition - Perturbation Theory .ipynb).\n",
    "\n",
    "4. It holds\n",
    "$$\n",
    "\\| B^{\\dagger} \\| \\leq \\kappa_2(B) \\leq \\sqrt{n} \\min_{S=\\mathop{\\mathrm{diag}}} \n",
    "\\kappa_2(AS)\\leq \\sqrt{n}\\kappa_2(A).\n",
    "$$\n",
    "Therefore, numerical algorithm with column-wise small backward error computes singular values more accurately than an algorithm with small norm-wise backward error.\n",
    "\n",
    "5. In each step, one-sided Jacobi method computes the Jacobi roataion matrix from the pivot submatrix of the current matrix $A^TA$. Afterwards, $A$ is multiplied with the computed rotation matrix from the right (only two columns are affected). \n",
    "Convergence of the Jacobi method for the symmetric matrix $A^TA$ to a diagonal matrix, implies that the matrix $A$ converges to the matrix $AV$ with orthogonal columns and $V^TV=I$. \n",
    "Then $AV=U\\Sigma$, $\\Sigma=\\mathop{\\mathrm{diag}}(\\| A_{:,1}\\|_2, \\ldots, \\| A_{:,n}\\|_2)$, $U=AV\\Sigma^{-1}$, and  $A=U\\Sigma V^T$ is the SVD of $A$.\n",
    "\n",
    "6. One-sided Jacobi method computes the SVD with error bound from Facts 2 and 3, provided that the condition of the intermittent scaled matrices does not grow much. There is overwhelming numerical evidence for this. Alternatively, \n",
    "if $A$ is square, the one-sided Jacobi method can be applied to the transposed matrix $A^T=DB^T$ and the same error bounds apply, but the condition of the scaled matrix  (_this time from the left_) does not change. This approach is slower.\n",
    "\n",
    "7. One-sided Jacobi method can be preconditioned by applying one QR factorization with full pivoting and one QR factorization withour pivoting to $A$, to obtain faster convergence, without sacrifying accuracy. This method is implemented in the LAPACK routine \n",
    "[DGESVJ](http://www.netlib.org/lapack/explore-html-3.3.1/d1/d5e/dgesvj_8f_source.html).\n",
    "_Writing the wrapper for `DGESVJ` is a tutorial assignment._\n",
    "\n",
    "### Example - Standard matrix"
   ]
  },
  {
   "cell_type": "code",
   "execution_count": 2,
   "metadata": {
    "collapsed": false
   },
   "outputs": [
    {
     "data": {
      "text/plain": [
       "myJacobiR (generic function with 1 method)"
      ]
     },
     "execution_count": 2,
     "metadata": {},
     "output_type": "execute_result"
    }
   ],
   "source": [
    "function myJacobiR{T}(A::Array{T})\n",
    "    m,n=size(A)\n",
    "    V=eye(T,n,n)\n",
    "    # Tolerance for rotation\n",
    "    tol=sqrt(n)*eps(T)\n",
    "    # Counters\n",
    "    p=n*(n-1)/2\n",
    "    sweep=0\n",
    "    pcurrent=0\n",
    "    # First criterion is for standard accuracy, second one is for relative accuracy\n",
    "    # while sweep<30 && vecnorm(A-diagm(diag(A)))>tol\n",
    "    while sweep<30 && pcurrent<p\n",
    "        sweep+=1\n",
    "        # Row-cyclic strategy\n",
    "        for i = 1 : n-1 \n",
    "            for j = i+1 : n\n",
    "                # Compute the 2 x 2 sumbatrix of A'*A\n",
    "                F=A[:,[i,j]]'*A[:,[i,j]]\n",
    "                # Check the tolerance - the first criterion is standard,\n",
    "                # the second one is for relative accuracy               \n",
    "                # if A[i,j]!=zero(T)\n",
    "                # \n",
    "                if abs(F[1,2])>tol*sqrt(F[1,1]*F[2,2])\n",
    "                    # Compute c and s\n",
    "                    τ=(F[1,1]-F[2,2])/(2*F[1,2])\n",
    "                    t=sign(τ)/(abs(τ)+sqrt(1+τ^2))\n",
    "                    c=1/sqrt(1+t^2)\n",
    "                    s=c*t\n",
    "                    G=LinAlg.Givens(i,j,c,s)\n",
    "                    A*=G'\n",
    "                    V*=G'\n",
    "                    pcurrent=0\n",
    "                else\n",
    "                    pcurrent+=1\n",
    "                end\n",
    "            end\n",
    "        end\n",
    "    end\n",
    "    σ=[vecnorm(A[:,k]) for k=1:n]\n",
    "    for k=1:n\n",
    "        A[:,k]=A[:,k]/σ[k]\n",
    "    end\n",
    "    A, σ, V\n",
    "end"
   ]
  },
  {
   "cell_type": "code",
   "execution_count": 3,
   "metadata": {
    "collapsed": false
   },
   "outputs": [
    {
     "data": {
      "text/plain": [
       "8x5 Array{Float64,2}:\n",
       " -4.0   0.0   4.0   1.0   0.0\n",
       "  9.0  -2.0   8.0  -8.0  -6.0\n",
       " -9.0   5.0  -1.0  -5.0   5.0\n",
       "  7.0  -4.0   0.0  -5.0   5.0\n",
       " -8.0   1.0   4.0  -7.0   8.0\n",
       "  0.0   3.0   1.0   0.0   9.0\n",
       " -1.0  -2.0   3.0   6.0  -7.0\n",
       "  6.0   9.0  -7.0   5.0  -8.0"
      ]
     },
     "execution_count": 3,
     "metadata": {},
     "output_type": "execute_result"
    }
   ],
   "source": [
    "m=8\n",
    "n=5\n",
    "A=map(Float64,rand(-9:9,m,n))"
   ]
  },
  {
   "cell_type": "code",
   "execution_count": 4,
   "metadata": {
    "collapsed": false
   },
   "outputs": [
    {
     "data": {
      "text/plain": [
       "(\n",
       "8x5 Array{Float64,2}:\n",
       " -0.35636     0.360984   -0.0659075   0.0421826   0.106057 \n",
       " -0.0865382   0.191822   -0.547214   -0.755545   -0.215008 \n",
       "  0.0526405  -0.2197     -0.513044    0.25396     0.437251 \n",
       "  0.444151   -0.161775    0.306957   -0.454317    0.0683099\n",
       " -0.0905009   0.0612609  -0.292192   -0.0640312   0.572988 \n",
       "  0.362318    0.816595    0.167876    0.0365372   0.278834 \n",
       " -0.569279    0.242691    0.104338    0.0894472  -0.264331 \n",
       "  0.449371    0.170224   -0.462959    0.378201   -0.520322 ,\n",
       "\n",
       "[12.960883485740133,5.7977322144921555,10.190308845646346,18.231633594808027,23.561980870315598],\n",
       "5x5 Array{Float64,2}:\n",
       "  0.561027  0.244217   0.15311   -0.534373   -0.562681 \n",
       "  0.373356  0.469604  -0.673434   0.431594   -0.0170495\n",
       " -0.5419    0.654799  -0.154604  -0.478742    0.156479 \n",
       " -0.207032  0.45056    0.559238   0.546536   -0.377736 \n",
       "  0.457532  0.296754   0.431734  -0.0166563   0.718282 )"
      ]
     },
     "execution_count": 4,
     "metadata": {},
     "output_type": "execute_result"
    }
   ],
   "source": [
    "U,σ,V=myJacobiR(A)"
   ]
  },
  {
   "cell_type": "code",
   "execution_count": 5,
   "metadata": {
    "collapsed": false
   },
   "outputs": [
    {
     "data": {
      "text/plain": [
       "8x5 Array{Float64,2}:\n",
       " -8.88178e-16   0.0           4.44089e-16  -7.77156e-16   0.0        \n",
       " -1.77636e-15   1.11022e-15  -2.66454e-15   3.55271e-15  -8.88178e-16\n",
       "  1.66533e-15   1.11022e-15   0.0           1.77636e-15  -1.77636e-15\n",
       " -8.88178e-16   6.66134e-16  -1.33227e-15   3.55271e-15  -4.44089e-16\n",
       " -1.33227e-15   1.77636e-15   0.0           1.9984e-15    1.77636e-15\n",
       " -8.88178e-16   8.88178e-16   1.33227e-15  -5.55112e-16   1.77636e-15\n",
       "  8.88178e-16  -2.22045e-16  -2.22045e-16  -1.9984e-15    0.0        \n",
       "  8.88178e-16  -3.55271e-15  -2.66454e-15  -8.88178e-16   0.0        "
      ]
     },
     "execution_count": 5,
     "metadata": {},
     "output_type": "execute_result"
    }
   ],
   "source": [
    "# Residual \n",
    "A*V-U*diagm(σ)"
   ]
  },
  {
   "cell_type": "markdown",
   "metadata": {},
   "source": [
    "### Example - Strongly scaled matrix"
   ]
  },
  {
   "cell_type": "code",
   "execution_count": 6,
   "metadata": {
    "collapsed": false
   },
   "outputs": [
    {
     "data": {
      "text/plain": [
       "20x15 Array{Float64,2}:\n",
       " 1.27931e-6  1544.23   17119.3   …   29.3858   1.00397e-7  0.0300355 \n",
       " 1.45274e-6  3061.14   18662.1        2.53569  8.19445e-8  0.0276246 \n",
       " 5.63297e-7   865.269  10481.9      281.244    8.14675e-8  0.048293  \n",
       " 6.72842e-7  2394.24   19361.5      340.291    1.18661e-8  0.0427423 \n",
       " 1.1973e-6   2146.91   13161.9      335.742    6.33548e-8  0.0262585 \n",
       " 9.3111e-7   2577.29   13731.0   …  135.888    8.49966e-8  0.0220982 \n",
       " 1.68445e-6  2282.96    4661.72     106.235    1.54701e-7  0.0415931 \n",
       " 7.44552e-7  1772.85    8091.69      34.7055   1.33701e-7  0.00337029\n",
       " 5.41685e-7   551.55    9876.27     311.153    7.17373e-8  0.0477246 \n",
       " 1.23889e-6  3059.18   22092.7       95.6957   1.28262e-7  0.0275721 \n",
       " 1.20964e-6  1728.68    6495.73  …  123.863    8.68895e-8  0.0341738 \n",
       " 1.6967e-6    247.36    1427.52     112.923    8.44669e-9  0.0082213 \n",
       " 1.26714e-6  1365.69   15714.7      400.299    1.38583e-8  0.0121773 \n",
       " 1.0554e-6    887.305   1175.36      82.4142   4.87398e-8  0.0214511 \n",
       " 1.61027e-6  2465.42     232.61     183.75     7.93514e-8  0.00866477\n",
       " 3.94878e-7  1512.05   18776.1   …  408.82     1.42138e-8  0.0116891 \n",
       " 5.7222e-7   1706.71   20581.3      278.446    1.73267e-8  0.0124253 \n",
       " 2.01094e-8  1977.68    1811.68     271.106    2.03609e-7  0.0498826 \n",
       " 2.37571e-8  2638.83    1863.36     247.375    6.25683e-9  0.0432165 \n",
       " 2.07157e-7  1607.38   11172.9      182.513    1.57091e-7  0.0334391 "
      ]
     },
     "execution_count": 6,
     "metadata": {},
     "output_type": "execute_result"
    }
   ],
   "source": [
    "m=20\n",
    "n=15\n",
    "B=rand(m,n)\n",
    "D=exp(50*(rand(n)-0.5))\n",
    "As=B*diagm(D)"
   ]
  },
  {
   "cell_type": "code",
   "execution_count": 7,
   "metadata": {
    "collapsed": false
   },
   "outputs": [
    {
     "data": {
      "text/plain": [
       "(20.595971591488983,2.8177086636565816e18)"
      ]
     },
     "execution_count": 7,
     "metadata": {},
     "output_type": "execute_result"
    }
   ],
   "source": [
    "cond(B), cond(As)"
   ]
  },
  {
   "cell_type": "code",
   "execution_count": 11,
   "metadata": {
    "collapsed": false
   },
   "outputs": [],
   "source": [
    "Us,σs,Vs=myJacobiR(As);"
   ]
  },
  {
   "cell_type": "code",
   "execution_count": 12,
   "metadata": {
    "collapsed": false
   },
   "outputs": [
    {
     "data": {
      "text/plain": [
       "15x2 Array{Float64,2}:\n",
       "     1.52612e9        1.52612e9  \n",
       "     1.56121e7        1.56121e7  \n",
       "     3.07448e6        3.07448e6  \n",
       "     1.49392e5        1.49392e5  \n",
       " 30063.2          30063.2        \n",
       "  3396.61          3396.61       \n",
       "  2937.24          2937.24       \n",
       "  1564.58          1564.58       \n",
       "   484.729          484.729      \n",
       "     0.0525442        0.0525442  \n",
       "     0.0350389        0.0350389  \n",
       "     0.00502686       0.00502686 \n",
       "     1.43405e-6       1.43405e-6 \n",
       "     1.97349e-7       1.97349e-7 \n",
       "     5.41618e-10      5.41618e-10"
      ]
     },
     "execution_count": 12,
     "metadata": {},
     "output_type": "execute_result"
    }
   ],
   "source": [
    "[sort(σs,rev=true) svdvals(As)]"
   ]
  },
  {
   "cell_type": "code",
   "execution_count": 13,
   "metadata": {
    "collapsed": false
   },
   "outputs": [
    {
     "data": {
      "text/plain": [
       "15-element Array{Float64,1}:\n",
       "  1.09358e-15\n",
       "  8.35155e-16\n",
       "  3.0292e-16 \n",
       " -1.94815e-16\n",
       "  4.90095e-14\n",
       " -1.04473e-11\n",
       "  1.14963e-11\n",
       " -6.98143e-13\n",
       " -9.66293e-14\n",
       "  4.65862e-12\n",
       " -8.01206e-12\n",
       "  1.85433e-10\n",
       "  1.28007e-10\n",
       " -1.04534e-11\n",
       " -7.10836e-10"
      ]
     },
     "execution_count": 13,
     "metadata": {},
     "output_type": "execute_result"
    }
   ],
   "source": [
    "(sort(σs,rev=true)-svdvals(As))./sort(σs,rev=true)"
   ]
  },
  {
   "cell_type": "code",
   "execution_count": 15,
   "metadata": {
    "collapsed": false
   },
   "outputs": [
    {
     "data": {
      "text/plain": [
       "5.146877005546955e-7"
      ]
     },
     "execution_count": 15,
     "metadata": {},
     "output_type": "execute_result"
    }
   ],
   "source": [
    "norm(As*Vs-Us*diagm(σs))"
   ]
  },
  {
   "cell_type": "code",
   "execution_count": 16,
   "metadata": {
    "collapsed": false
   },
   "outputs": [
    {
     "data": {
      "text/plain": [
       "15x15 Array{Float64,2}:\n",
       "  1.43405e-6      4.33287e-13     -4.41317e-12  …  -2.0392e-23   -1.33537e-17\n",
       "  3.68743e-23  2937.24             7.72285e-13      1.59862e-23  -1.73472e-18\n",
       " -4.32869e-22     3.93715e-13  30063.2             -4.61999e-23  -2.77556e-17\n",
       "  9.49967e-22     8.0065e-13       1.41369e-11      4.13594e-23  -1.73472e-18\n",
       " -2.70684e-22     2.73003e-12      2.65559e-11      2.32784e-22  -1.04083e-16\n",
       " -7.28917e-22    -4.77049e-13     -4.33092e-12  …   1.58279e-23  -1.1244e-17 \n",
       " -7.49383e-22    -7.85663e-15      2.89813e-12      7.32623e-23   6.93889e-18\n",
       "  4.52349e-22    -3.12893e-13      1.19676e-11      3.33265e-23   3.98986e-17\n",
       "  2.06276e-22    -2.4299e-13       1.58513e-12     -1.5554e-23    1.09973e-18\n",
       "  4.33027e-22     2.26734e-12      1.6807e-11       1.96942e-23  -3.46945e-18\n",
       "  2.38863e-22    -2.74639e-13      5.50466e-12  …  -6.91339e-23   5.19243e-18\n",
       "  1.49511e-22     1.55606e-12      1.46986e-12     -4.74361e-23   8.67362e-18\n",
       " -4.50439e-22    -1.68014e-13      6.24405e-13      3.82641e-23   6.93584e-18\n",
       " -6.84705e-23     4.03036e-13     -1.67408e-12      1.97349e-7    4.57846e-18\n",
       " -2.64879e-22     2.33882e-13     -1.38489e-11      3.0767e-23    0.0525442  "
      ]
     },
     "execution_count": 16,
     "metadata": {},
     "output_type": "execute_result"
    }
   ],
   "source": [
    "Us'*As*Vs"
   ]
  },
  {
   "cell_type": "markdown",
   "metadata": {},
   "source": [
    "In the alternative approach, we first apply QR factorization with column pivoting to obtain the square matrix."
   ]
  },
  {
   "cell_type": "code",
   "execution_count": 17,
   "metadata": {
    "collapsed": false
   },
   "outputs": [
    {
     "data": {
      "text/plain": [
       "(\n",
       "20x15 Array{Float64,2}:\n",
       " -0.370257     0.107937    -0.343613   …  -0.122544     0.214948  \n",
       " -0.303708    -0.167992    -0.221549       0.316086     0.00244107\n",
       " -0.246114    -0.273619    -0.349388       0.0689401   -0.349484  \n",
       " -0.390284     0.420302     0.305503       0.230216    -0.267661  \n",
       " -0.213793    -0.253189    -0.253991      -0.0447414    0.0680086 \n",
       " -0.181231     0.0610911    0.0858239  …   0.016076     0.0506611 \n",
       " -0.274674    -0.0457238   -0.0597892     -0.182775     0.25559   \n",
       " -0.10075      0.0255362   -0.0144345     -0.244479     0.0474692 \n",
       " -0.0360016    0.0369222    0.254913       0.111665     0.192569  \n",
       " -0.173021    -0.290016     0.100505      -0.0475608   -0.145865  \n",
       " -0.202208    -0.00078361   0.14175    …   0.0421426   -0.252033  \n",
       " -0.162439    -0.111518     0.184309       0.183807    -0.0637445 \n",
       " -0.209923     0.174532     0.0388043     -0.0439657   -0.17748   \n",
       " -0.218787    -0.0762079    0.240089      -0.0372124    0.396063  \n",
       " -0.00996743  -0.486133     0.0633813     -0.0775694   -0.244993  \n",
       " -0.00754721  -0.337589     0.440274   …   0.00977791   0.302015  \n",
       " -0.303159     0.275346    -0.136621      -0.04429      0.247228  \n",
       " -0.162023    -0.187128     0.0426228     -0.423645     0.149715  \n",
       " -0.179221    -0.205265     0.133592       0.530525     0.124855  \n",
       " -0.229681     0.0243369    0.342493      -0.457458    -0.347232  ,\n",
       "\n",
       "15x15 Array{Float64,2}:\n",
       " -1.52601e9  -1.74825e7  -4.47437e6  …  -3.05285e-7   -1.18355e-9 \n",
       "  0.0        -1.54999e7  -1.83971e6     -1.45761e-7   -2.41319e-10\n",
       "  0.0         0.0         3.09622e6      3.20604e-8    3.37113e-10\n",
       "  0.0         0.0         0.0           -5.69065e-8   -4.46187e-10\n",
       "  0.0         0.0         0.0            2.03387e-8    7.23257e-11\n",
       "  0.0         0.0         0.0        …  -9.26275e-8    7.5566e-11 \n",
       "  0.0         0.0         0.0           -5.11364e-10  -3.33537e-10\n",
       "  0.0         0.0         0.0            1.16048e-8    1.5858e-10 \n",
       "  0.0         0.0         0.0           -4.52704e-8   -3.9299e-10 \n",
       "  0.0         0.0         0.0           -1.07816e-7    2.05251e-11\n",
       "  0.0         0.0         0.0        …  -2.17045e-8   -1.79997e-10\n",
       "  0.0         0.0         0.0           -8.35749e-9   -1.46246e-10\n",
       "  0.0         0.0         0.0            1.92144e-8    2.30664e-10\n",
       "  0.0         0.0         0.0           -1.97367e-7    4.43311e-11\n",
       "  0.0         0.0         0.0            0.0           5.41618e-10,\n",
       "\n",
       "[5,10,4,7,3,2,12,8,13,15,9,6,1,14,11])"
      ]
     },
     "execution_count": 17,
     "metadata": {},
     "output_type": "execute_result"
    }
   ],
   "source": [
    "Q,R,p=qr(As,Val{true},thin=true)"
   ]
  },
  {
   "cell_type": "code",
   "execution_count": 18,
   "metadata": {
    "collapsed": false
   },
   "outputs": [
    {
     "data": {
      "text/plain": [
       "15-element Array{Float64,1}:\n",
       "     -1.52601e9  \n",
       "     -1.54999e7  \n",
       "      3.09622e6  \n",
       "     -1.49187e5  \n",
       " -30058.5        \n",
       "  -3076.07       \n",
       "  -2790.12       \n",
       "  -1816.14       \n",
       "    486.277      \n",
       "     -0.0524271  \n",
       "     -0.035031   \n",
       "     -0.0050392  \n",
       "      1.43392e-6 \n",
       "     -1.97367e-7 \n",
       "      5.41618e-10"
      ]
     },
     "execution_count": 18,
     "metadata": {},
     "output_type": "execute_result"
    }
   ],
   "source": [
    "diag(R)"
   ]
  },
  {
   "cell_type": "code",
   "execution_count": 20,
   "metadata": {
    "collapsed": false
   },
   "outputs": [
    {
     "data": {
      "text/plain": [
       "(\n",
       "15x15 Array{Float64,2}:\n",
       " -0.99993       0.01173      -0.0015062    …  -2.89989e-16   4.37327e-19\n",
       " -0.0114567    -0.992383     -0.122653         1.04869e-15   1.55287e-17\n",
       " -0.00293201   -0.122594      0.992211        -4.94048e-15   4.69886e-17\n",
       " -9.50123e-5   -0.00283877    0.0215973        2.90823e-13  -3.80464e-15\n",
       " -3.17129e-5   -0.000220848   0.00196413       3.41026e-13   1.44819e-15\n",
       " -4.9253e-6    -0.000185126   0.000404992  …   2.10498e-11   2.16972e-14\n",
       " -3.15987e-6   -0.000130738   0.000140973     -6.46126e-12  -1.33955e-13\n",
       " -3.117e-6     -0.000145541   4.84202e-5       1.43488e-11   4.5611e-14 \n",
       " -4.81949e-7   -1.49268e-5    0.000108168     -1.82356e-10   7.54942e-13\n",
       " -7.79085e-11  -2.12058e-9    7.12929e-9       2.17523e-6   -1.96016e-9 \n",
       " -4.32232e-11  -6.92341e-10   5.0306e-9    …   5.44317e-7   -3.82913e-9 \n",
       " -6.11221e-12  -2.9483e-10    1.6271e-10      -2.11736e-6    1.591e-8   \n",
       " -2.47508e-15  -9.20605e-14   6.46956e-14      0.0136573    -0.000163872\n",
       " -2.00051e-16  -9.38135e-15   9.2906e-15      -0.999907      0.000224615\n",
       " -7.75548e-19  -1.59695e-17   1.07858e-16      0.000226832   1.0        ,\n",
       "\n",
       "[1.5261215957424111e9,1.5612088939326942e7,3.0744833254234344e6,149391.78831690017,30063.195384842275,3396.6094836437255,2937.239961783486,1564.5845161161171,484.7285514194969,0.05254415013764473,0.03503890440842178,0.00502685508646881,1.4340528467225013e-6,1.9734882478868071e-7,5.416179516150258e-10],\n",
       "15x15 Array{Float64,2}:\n",
       "  1.0          -0.000120005   3.03456e-6   …   3.75023e-32  -1.55217e-37\n",
       "  0.000119896   0.999704      0.0243254       -1.33945e-29  -5.42449e-34\n",
       " -5.95283e-6   -0.0243254     0.999704        -3.22804e-28   7.89712e-33\n",
       "  9.46212e-9    2.72605e-5   -0.00105329      -3.84851e-25   1.38163e-29\n",
       "  6.31549e-10   4.51556e-7   -1.94461e-5      -2.13432e-24  -2.98537e-29\n",
       "  8.81934e-12   3.20052e-8   -3.79831e-7   …  -1.34947e-21  -3.8068e-27 \n",
       "  8.54483e-12   3.58938e-8   -1.56317e-7       1.99649e-22   2.5283e-26 \n",
       "  3.74536e-12   1.70397e-8   -3.26153e-8      -1.70213e-21  -3.20081e-26\n",
       " -1.53566e-13  -4.64931e-10   1.71084e-8      -7.4245e-20    8.44732e-25\n",
       "  2.73183e-21   7.1837e-18   -1.25115e-16     -8.18812e-12   2.02502e-17\n",
       "  1.00022e-21   1.59153e-18  -5.74258e-17  …  -2.5456e-12    5.79144e-17\n",
       "  2.01823e-23   9.51641e-20  -2.66689e-19      8.08187e-11  -1.72545e-15\n",
       " -2.32807e-30  -8.46701e-27   3.02317e-26      0.00187963   -6.18976e-8 \n",
       "  6.04669e-40   1.18598e-28  -5.9641e-28       0.999998     -6.22418e-7 \n",
       "  8.85799e-45  -9.82067e-42   6.75239e-39      6.22533e-7    1.0        )"
      ]
     },
     "execution_count": 20,
     "metadata": {},
     "output_type": "execute_result"
    }
   ],
   "source": [
    "UR,σR,VR=myJacobiR(R')"
   ]
  },
  {
   "cell_type": "code",
   "execution_count": 21,
   "metadata": {
    "collapsed": false
   },
   "outputs": [
    {
     "data": {
      "text/plain": [
       "15-element Array{Float64,1}:\n",
       " -3.8181e-16 \n",
       "  6.70634e-16\n",
       "  1.03365e-15\n",
       "  1.72546e-15\n",
       "  2.37641e-15\n",
       "  1.18853e-15\n",
       " -1.17269e-16\n",
       "  7.26626e-16\n",
       "  1.54821e-15\n",
       "  1.33883e-16\n",
       "  7.26066e-16\n",
       "  1.94815e-16\n",
       "  4.5438e-16 \n",
       "  8.35155e-16\n",
       "  7.81126e-16"
      ]
     },
     "execution_count": 21,
     "metadata": {},
     "output_type": "execute_result"
    }
   ],
   "source": [
    "(sort(σs)-sort(σR))./sort(σs)"
   ]
  },
  {
   "cell_type": "code",
   "execution_count": 22,
   "metadata": {
    "collapsed": false
   },
   "outputs": [],
   "source": [
    "P=eye(15)\n",
    "P=P[:,p];"
   ]
  },
  {
   "cell_type": "markdown",
   "metadata": {},
   "source": [
    "Now $QRP^T=A$ and $R^T=U_R\\Sigma_R V^T_R$, so $A=(Q V_R) \\Sigma_R (U_R^T P^T)$ is an SVD of $A$."
   ]
  },
  {
   "cell_type": "code",
   "execution_count": 24,
   "metadata": {
    "collapsed": false
   },
   "outputs": [
    {
     "data": {
      "text/plain": [
       "6.072651710450296e-7"
      ]
     },
     "execution_count": 24,
     "metadata": {},
     "output_type": "execute_result"
    }
   ],
   "source": [
    "# Check the residual\n",
    "U1=Q*VR\n",
    "V1=UR[invperm(p),:]\n",
    "norm(As*V1-U1*diagm(σR))"
   ]
  },
  {
   "cell_type": "markdown",
   "metadata": {
    "collapsed": true
   },
   "source": [
    "## Lanczos method\n",
    "\n",
    "The function `svds()` is based on the Lanczos method for symmetric matrices. Input can be matrix, but also an operator which defines the product of the given matrix with a vector."
   ]
  },
  {
   "cell_type": "code",
   "execution_count": 25,
   "metadata": {
    "collapsed": false
   },
   "outputs": [
    {
     "name": "stdout",
     "output_type": "stream",
     "text": [
      "search: svds svdvals svdvals! is_valid_ascii svd svdfact svdfact! isvalid\n",
      "\n"
     ]
    },
    {
     "data": {
      "text/latex": [
       "\\begin{verbatim}\n",
       "..  svds(A; nsv=6, ritzvec=true, tol=0.0, maxiter=1000) -> (left_sv, s, right_sv, nconv, niter, nmult, resid)\n",
       "\n",
       "``svds`` computes largest singular values ``s`` of ``A`` using Lanczos or Arnoldi iterations.\n",
       "Uses :func:`eigs` underneath.\n",
       "\n",
       "Inputs are:\n",
       "\n",
       "* ``A``: Linear operator. It can either subtype of ``AbstractArray`` (e.g., sparse matrix) or duck typed. For duck typing ``A`` has to support ``size(A)``, ``eltype(A)``, ``A * vector`` and ``A' * vector``.\n",
       "* ``nsv``: Number of singular values.\n",
       "* ``ritzvec``: Whether to return the left and right singular vectors ``left_sv`` and ``right_sv``, default is ``true``. If ``false`` the singular vectors are omitted from the output.\n",
       "* ``tol``: tolerance, see :func:`eigs`.\n",
       "* ``maxiter``: Maximum number of iterations, see :func:`eigs`.\n",
       "\n",
       "**Example**::\n",
       "\n",
       "   X = sprand(10, 5, 0.2)\n",
       "   svds(X, nsv = 2)\n",
       "\\end{verbatim}\n"
      ],
      "text/markdown": [
       "```rst\n",
       "..  svds(A; nsv=6, ritzvec=true, tol=0.0, maxiter=1000) -> (left_sv, s, right_sv, nconv, niter, nmult, resid)\n",
       "\n",
       "``svds`` computes largest singular values ``s`` of ``A`` using Lanczos or Arnoldi iterations.\n",
       "Uses :func:`eigs` underneath.\n",
       "\n",
       "Inputs are:\n",
       "\n",
       "* ``A``: Linear operator. It can either subtype of ``AbstractArray`` (e.g., sparse matrix) or duck typed. For duck typing ``A`` has to support ``size(A)``, ``eltype(A)``, ``A * vector`` and ``A' * vector``.\n",
       "* ``nsv``: Number of singular values.\n",
       "* ``ritzvec``: Whether to return the left and right singular vectors ``left_sv`` and ``right_sv``, default is ``true``. If ``false`` the singular vectors are omitted from the output.\n",
       "* ``tol``: tolerance, see :func:`eigs`.\n",
       "* ``maxiter``: Maximum number of iterations, see :func:`eigs`.\n",
       "\n",
       "**Example**::\n",
       "\n",
       "   X = sprand(10, 5, 0.2)\n",
       "   svds(X, nsv = 2)\n",
       "```\n"
      ],
      "text/plain": [
       "```rst\n",
       "..  svds(A; nsv=6, ritzvec=true, tol=0.0, maxiter=1000) -> (left_sv, s, right_sv, nconv, niter, nmult, resid)\n",
       "\n",
       "``svds`` computes largest singular values ``s`` of ``A`` using Lanczos or Arnoldi iterations.\n",
       "Uses :func:`eigs` underneath.\n",
       "\n",
       "Inputs are:\n",
       "\n",
       "* ``A``: Linear operator. It can either subtype of ``AbstractArray`` (e.g., sparse matrix) or duck typed. For duck typing ``A`` has to support ``size(A)``, ``eltype(A)``, ``A * vector`` and ``A' * vector``.\n",
       "* ``nsv``: Number of singular values.\n",
       "* ``ritzvec``: Whether to return the left and right singular vectors ``left_sv`` and ``right_sv``, default is ``true``. If ``false`` the singular vectors are omitted from the output.\n",
       "* ``tol``: tolerance, see :func:`eigs`.\n",
       "* ``maxiter``: Maximum number of iterations, see :func:`eigs`.\n",
       "\n",
       "**Example**::\n",
       "\n",
       "   X = sprand(10, 5, 0.2)\n",
       "   svds(X, nsv = 2)\n",
       "```\n"
      ]
     },
     "execution_count": 25,
     "metadata": {},
     "output_type": "execute_result"
    }
   ],
   "source": [
    "?svds"
   ]
  },
  {
   "cell_type": "code",
   "execution_count": 26,
   "metadata": {
    "collapsed": false
   },
   "outputs": [],
   "source": [
    "m=20\n",
    "n=15\n",
    "A=rand(m,n);"
   ]
  },
  {
   "cell_type": "code",
   "execution_count": 29,
   "metadata": {
    "collapsed": false
   },
   "outputs": [],
   "source": [
    "U,σ,V=svd(A);"
   ]
  },
  {
   "cell_type": "code",
   "execution_count": 33,
   "metadata": {
    "collapsed": false
   },
   "outputs": [],
   "source": [
    "# All singular values\n",
    "UL,σL,VL, rest=svds(A,nsv=15);"
   ]
  },
  {
   "cell_type": "code",
   "execution_count": 34,
   "metadata": {
    "collapsed": false
   },
   "outputs": [
    {
     "data": {
      "text/plain": [
       "15-element Array{Float64,1}:\n",
       " -2.04113e-16\n",
       " -9.87814e-16\n",
       " -1.48286e-15\n",
       " -9.4353e-16 \n",
       " -6.16449e-16\n",
       " -1.97908e-15\n",
       "  3.23635e-16\n",
       " -1.17334e-15\n",
       " -1.04041e-15\n",
       " -8.13014e-16\n",
       " -5.50482e-16\n",
       " -3.40018e-16\n",
       "  0.0        \n",
       "  5.06914e-16\n",
       " -1.08149e-15"
      ]
     },
     "execution_count": 34,
     "metadata": {},
     "output_type": "execute_result"
    }
   ],
   "source": [
    "(σ-σL)./σ"
   ]
  },
  {
   "cell_type": "code",
   "execution_count": 36,
   "metadata": {
    "collapsed": false
   },
   "outputs": [
    {
     "data": {
      "text/plain": [
       "5-element Array{Float64,1}:\n",
       "  1.02057e-15\n",
       "  5.92688e-16\n",
       " -1.48286e-15\n",
       "  7.07647e-16\n",
       " -8.63029e-16"
      ]
     },
     "execution_count": 36,
     "metadata": {},
     "output_type": "execute_result"
    }
   ],
   "source": [
    "# Some largest singular values\n",
    "Up,σp,Vp, rest=svds(A,nsv=5);\n",
    "(σ[1:5]-σp)./σ[1:5]"
   ]
  },
  {
   "cell_type": "markdown",
   "metadata": {},
   "source": [
    "### Example - Large matrix"
   ]
  },
  {
   "cell_type": "code",
   "execution_count": 38,
   "metadata": {
    "collapsed": false
   },
   "outputs": [],
   "source": [
    "m=2000\n",
    "n=1500\n",
    "Ab=rand(m,n);"
   ]
  },
  {
   "cell_type": "code",
   "execution_count": 39,
   "metadata": {
    "collapsed": false
   },
   "outputs": [
    {
     "name": "stdout",
     "output_type": "stream",
     "text": [
      "  4.755487 seconds (70 allocations: 131.793 MB, 0.79% gc time)\n"
     ]
    }
   ],
   "source": [
    "@time Ub,σb,Vb=svd(Ab);"
   ]
  },
  {
   "cell_type": "code",
   "execution_count": 41,
   "metadata": {
    "collapsed": false
   },
   "outputs": [
    {
     "name": "stdout",
     "output_type": "stream",
     "text": [
      "  2.841128 seconds (9.73 k allocations: 62.835 MB, 0.39% gc time)\n"
     ]
    }
   ],
   "source": [
    "# This is rather slow\n",
    "@time Ul,σl,rest=svds(Ab,nsv=10);"
   ]
  },
  {
   "cell_type": "code",
   "execution_count": 42,
   "metadata": {
    "collapsed": false
   },
   "outputs": [
    {
     "data": {
      "text/plain": [
       "10-element Array{Float64,1}:\n",
       " -3.93756e-16\n",
       "  3.25547e-15\n",
       "  2.97683e-16\n",
       "  1.04422e-15\n",
       "  1.49665e-15\n",
       " -2.85264e-15\n",
       " -1.20396e-15\n",
       " -1.65565e-15\n",
       "  5.28389e-15\n",
       "  1.51399e-16"
      ]
     },
     "execution_count": 42,
     "metadata": {},
     "output_type": "execute_result"
    }
   ],
   "source": [
    "(σb[1:10]-σl)./σb[1:10]"
   ]
  },
  {
   "cell_type": "markdown",
   "metadata": {},
   "source": [
    "### Example - Very large sparse matrix"
   ]
  },
  {
   "cell_type": "code",
   "execution_count": 43,
   "metadata": {
    "collapsed": false
   },
   "outputs": [
    {
     "name": "stdout",
     "output_type": "stream",
     "text": [
      "search: sprand sprandn sprandbool StepRange\n",
      "\n"
     ]
    },
    {
     "data": {
      "text/latex": [
       "\\begin{verbatim}\n",
       "..  sprand([rng,] m,n,p [,rfn])\n",
       "\n",
       "Create a random ``m`` by ``n`` sparse matrix, in which the probability of any\n",
       "element being nonzero is independently given by ``p`` (and hence the mean\n",
       "density of nonzeros is also exactly ``p``). Nonzero values are sampled from\n",
       "the distribution specified by ``rfn``. The uniform distribution is used in\n",
       "case ``rfn`` is not specified. The optional ``rng`` argument specifies a\n",
       "random number generator, see :ref:`Random Numbers <random-numbers>`.\n",
       "\\end{verbatim}\n"
      ],
      "text/markdown": [
       "```rst\n",
       "..  sprand([rng,] m,n,p [,rfn])\n",
       "\n",
       "Create a random ``m`` by ``n`` sparse matrix, in which the probability of any\n",
       "element being nonzero is independently given by ``p`` (and hence the mean\n",
       "density of nonzeros is also exactly ``p``). Nonzero values are sampled from\n",
       "the distribution specified by ``rfn``. The uniform distribution is used in\n",
       "case ``rfn`` is not specified. The optional ``rng`` argument specifies a\n",
       "random number generator, see :ref:`Random Numbers <random-numbers>`.\n",
       "```\n"
      ],
      "text/plain": [
       "```rst\n",
       "..  sprand([rng,] m,n,p [,rfn])\n",
       "\n",
       "Create a random ``m`` by ``n`` sparse matrix, in which the probability of any\n",
       "element being nonzero is independently given by ``p`` (and hence the mean\n",
       "density of nonzeros is also exactly ``p``). Nonzero values are sampled from\n",
       "the distribution specified by ``rfn``. The uniform distribution is used in\n",
       "case ``rfn`` is not specified. The optional ``rng`` argument specifies a\n",
       "random number generator, see :ref:`Random Numbers <random-numbers>`.\n",
       "```\n"
      ]
     },
     "execution_count": 43,
     "metadata": {},
     "output_type": "execute_result"
    }
   ],
   "source": [
    "?sprand"
   ]
  },
  {
   "cell_type": "code",
   "execution_count": 44,
   "metadata": {
    "collapsed": false
   },
   "outputs": [
    {
     "data": {
      "text/plain": [
       "10000x3000 sparse matrix with 1498185 Float64 entries:\n",
       "\t[10   ,     1]  =  0.253743\n",
       "\t[16   ,     1]  =  0.025819\n",
       "\t[20   ,     1]  =  0.887758\n",
       "\t[27   ,     1]  =  0.83231\n",
       "\t[34   ,     1]  =  0.398525\n",
       "\t[46   ,     1]  =  0.0266235\n",
       "\t[84   ,     1]  =  0.576767\n",
       "\t[89   ,     1]  =  0.0123948\n",
       "\t[138  ,     1]  =  0.529682\n",
       "\t[202  ,     1]  =  0.0622466\n",
       "\t⋮\n",
       "\t[9890 ,  3000]  =  0.826405\n",
       "\t[9902 ,  3000]  =  0.878236\n",
       "\t[9927 ,  3000]  =  0.137779\n",
       "\t[9936 ,  3000]  =  0.554802\n",
       "\t[9946 ,  3000]  =  0.394162\n",
       "\t[9950 ,  3000]  =  0.49325\n",
       "\t[9951 ,  3000]  =  0.143884\n",
       "\t[9959 ,  3000]  =  0.861512\n",
       "\t[9962 ,  3000]  =  0.131654\n",
       "\t[9976 ,  3000]  =  0.807868\n",
       "\t[9994 ,  3000]  =  0.699952"
      ]
     },
     "execution_count": 44,
     "metadata": {},
     "output_type": "execute_result"
    }
   ],
   "source": [
    "m=10000\n",
    "n=3000\n",
    "A=sprand(m,n,0.05)"
   ]
  },
  {
   "cell_type": "code",
   "execution_count": 45,
   "metadata": {
    "collapsed": false
   },
   "outputs": [
    {
     "name": "stdout",
     "output_type": "stream",
     "text": [
      " 33.636899 seconds (240.14 k allocations: 676.159 MB, 0.41% gc time)\n"
     ]
    },
    {
     "data": {
      "text/plain": [
       "([137.492,19.6173,19.5707,19.5387,19.528,19.4982,19.4641,19.4449,19.423,19.4128  …  18.5356,18.5247,18.5184,18.5155,18.4991,18.4901,18.4883,18.4835,18.479,18.4657],200,10,1573,[-0.039543,0.000537687,0.0360541,0.0866945,0.0493107,0.0467468,-0.0808582,-0.0315765,-0.0045936,0.0629799  …  -0.00249289,0.106443,0.0698474,-0.0572929,-0.0157026,0.102908,0.0176975,0.00426612,-0.14839,-0.0783081])"
      ]
     },
     "execution_count": 45,
     "metadata": {},
     "output_type": "execute_result"
    }
   ],
   "source": [
    "# No vectors, this takess about 30 sec.\n",
    "@time σ1,rest=svds(A,nsv=100,ritzvec=false)"
   ]
  },
  {
   "cell_type": "code",
   "execution_count": 46,
   "metadata": {
    "collapsed": false
   },
   "outputs": [
    {
     "name": "stdout",
     "output_type": "stream",
     "text": [
      " 23.364055 seconds (6.88 k allocations: 459.827 MB, 0.03% gc time)\n"
     ]
    }
   ],
   "source": [
    "@time σ2=svdvals(full(A));"
   ]
  },
  {
   "cell_type": "code",
   "execution_count": 47,
   "metadata": {
    "collapsed": false
   },
   "outputs": [
    {
     "data": {
      "text/plain": [
       "100-element Array{Float64,1}:\n",
       "  1.2403e-15 \n",
       "  1.03228e-14\n",
       " -1.34334e-14\n",
       " -1.12734e-14\n",
       " -4.73015e-15\n",
       " -4.73739e-15\n",
       "  4.19811e-15\n",
       " -8.0391e-15 \n",
       " -1.64622e-15\n",
       "  1.46407e-15\n",
       " -3.11515e-15\n",
       " -5.50269e-16\n",
       " -5.50823e-15\n",
       "  ⋮          \n",
       " -3.83009e-16\n",
       " -3.83136e-15\n",
       "  1.91669e-16\n",
       "  3.83565e-16\n",
       " -2.49403e-15\n",
       " -1.7269e-15 \n",
       " -5.76143e-16\n",
       " -5.76423e-16\n",
       " -3.8432e-16 \n",
       " -1.9221e-16 \n",
       " -2.88385e-15\n",
       "  1.15437e-15"
      ]
     },
     "execution_count": 47,
     "metadata": {},
     "output_type": "execute_result"
    }
   ],
   "source": [
    "(σ1-σ2[1:100])./σ2[1:100]"
   ]
  },
  {
   "cell_type": "code",
   "execution_count": null,
   "metadata": {
    "collapsed": true
   },
   "outputs": [],
   "source": []
  }
 ],
 "metadata": {
  "kernelspec": {
   "display_name": "Julia 0.4.5",
   "language": "julia",
   "name": "julia-0.4"
  },
  "language_info": {
   "file_extension": ".jl",
   "mimetype": "application/julia",
   "name": "julia",
   "version": "0.4.5"
  }
 },
 "nbformat": 4,
 "nbformat_minor": 0
}
