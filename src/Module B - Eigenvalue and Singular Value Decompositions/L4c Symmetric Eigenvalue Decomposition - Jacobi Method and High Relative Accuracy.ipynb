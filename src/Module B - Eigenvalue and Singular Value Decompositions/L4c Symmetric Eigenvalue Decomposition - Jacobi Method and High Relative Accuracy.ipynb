{
 "cells": [
  {
   "cell_type": "markdown",
   "metadata": {},
   "source": [
    "# Symmetric Eigenvalue Decomposition - Jacobi Method and High Relative Accuracy\n",
    "\n",
    "---\n",
    "\n",
    "The Jacobi method is the oldest method for EVD computations, dating back from 1864. \n",
    "The method does not require tridiagonalization.\n",
    "Instead, the method computes a sequence of orthogonally similar \n",
    "matrices which converge to a diagonal matrix of eigenvalues. In each step a simple plane rotation\n",
    "which sets one off-diagonal element to zero is performed. \n",
    "\n",
    "For positive definite matrices, the method computes eigenvalues with high relative accuracy.\n",
    "\n",
    "For more details, see \n",
    "[I. Slapničar, Symmetric Matrix Eigenvalue Techniques][Hog14] and\n",
    "[Z. Drmač, Computing Eigenvalues and Singular Values to High Relative Accuracy][Hog14a]\n",
    "and the references therein.\n",
    "\n",
    "[Hog14]: #1 \"L. Hogben, ed., 'Handbook of Linear Algebra', pp. 55.1-55.25, CRC Press, Boca Raton, 2014.\"\n",
    "\n",
    "[Hog14a]: #1 \"L. Hogben, ed., 'Handbook of Linear Algebra', pp. 59.1-59.21, CRC Press, Boca Raton, 2014.\"\n",
    "\n",
    "\n",
    "## Prerequisites\n",
    "\n",
    "The reader should be familiar with concepts of eigenvalues and eigenvectors, related perturbation theory, and algorithms. \n",
    "\n",
    " \n",
    "## Competences \n",
    "\n",
    "The reader should be able to recognise matrices which warrant high relative accuracy and to apply \n",
    "Jacobi method to them.\n",
    "\n",
    "---"
   ]
  },
  {
   "cell_type": "markdown",
   "metadata": {},
   "source": [
    "## Jacobi method\n",
    "\n",
    "$A$ is a real symmetric matrix of order $n$ and $A= U \\Lambda  U^T$ is its EVD.\n",
    "\n",
    "### Definitions\n",
    "\n",
    "The __Jacobi method__ forms a sequence of matrices,\n",
    "$$\n",
    "A_0=A, \\qquad A_{k+1}=G(i_k,j_k,c,s) A_k G(i_k,j_k,c,s)^T, \\qquad\n",
    "k=1,2,\\ldots,\n",
    "$$\n",
    "where $G(i_k,j_k,c,s)$ is the orthogonal __plane rotation matrix__.\n",
    "The parameters $c$ and $s$ are chosen such that \n",
    "$[A_{k+1}]_{i_k j_k}=[A_{k+1}]_{j_k i_k}=0$.\n",
    "\n",
    "The plane rotation is also called the __Jacobi rotation__. \n",
    "\n",
    "The __off-norm__ of $A$ is \n",
    "$$\n",
    "off(A)=\\big(\\sum_{i}\\sum_{j\\neq i} a_{ij}^2\\big)^{1/2},\n",
    "$$\n",
    "that is, off-norm is the Frobenius norm of the\n",
    "matrix consisting of all off-diagonal elements of $A$.\n",
    "\n",
    "The choice of __pivot elements__ $[A_k]_{i_kj_k}$ is called the \n",
    "__pivoting strategy__.\n",
    "\n",
    "The __optimal pivoting strategy__, originally used by Jacobi, chooses pivoting\n",
    "elements such that $|[A_k]_{i_k j_k}|=\\max_{i<j} |[A_k]_{ij}|$.\n",
    "\n",
    "The __row-cyclic__ pivoting strategy chooses pivot elements\n",
    "  in the systematic row-wise order,\n",
    "$$\n",
    "(1,2), (1,3), \\ldots,(1,n),(2,3),\n",
    "(2,4),\\ldots,(2,n),(3,4),\\ldots,(n-1,n).\n",
    "$$\n",
    "Similarly, the column-cyclic strategy chooses pivot elements column-wise.\n",
    "\n",
    "One pass through all matrix elements is called __cycle__ or __sweep__.\n",
    "\n",
    "\n",
    "### Facts\n",
    "\n",
    "1. The Jacobi rotations parameters $c$ and $s$ are computed as follows:\n",
    " If $[A_k]_{i_kj_k}=0$, then $c=1$ and $s=0$, otherwise\n",
    "$$\n",
    "\\tau=\\frac{[A_k]_{i_ki_k}-[A_k]_{j_kj_k} }{2[A_k]_{i_kj_k} },\\qquad\n",
    "t=\\frac{\\mathop{\\mathrm{sign}}(\\tau)}{|\\tau|+\\sqrt{1+\\tau^2}},\\qquad\n",
    "c=\\frac{1}{\\sqrt{1+t^2}},\\qquad s=c\\cdot t.\n",
    "$$ \n",
    "\n",
    "2. After each rotation, the off-norm decreases,\n",
    "$$\n",
    "off^2(A_{k+1})=off^2(A_k)-2[A_k]_{i_kj_k}^2.\n",
    "$$\n",
    "With the appropriate pivoting strategy, the method converges in the sense that\n",
    "$$\n",
    "off(A_k)\\to 0,\\qquad A_k\\to\\Lambda, \\qquad \n",
    "\\prod_{k=1}^{\\infty} G(i_k,j_k,c,s)^T \\to U.\n",
    "$$\n",
    "\n",
    "3. For the optimal pivoting strategy\n",
    "the square of the pivot element is greater than the average squared\n",
    "element, $[A_k]_{i_kj_k}^2\\geq\n",
    "off^2(A) \\frac{1}{n(n-1)}$. Thus,\n",
    "$$\n",
    "off^2(A_{k+1})\\leq\\left(1-\\frac{2}{n(n-1)}\\right)off^2(A_k)\n",
    "$$\n",
    "and the method converges.\n",
    "\n",
    "4. For the row cyclic and the column cyclic pivoting strategies, the method\n",
    "converges. The convergence is ultimately __quadratic__ in the sense that \n",
    "$off(A_{k+n(n-1)/2})\\leq\\ const\\cdot  off^2(A_k)$, \n",
    "provided $off(A_k)$ is sufficiently small.\n",
    "\n",
    "5. The EVD computed by the Jacobi method satisfies the standard error bounds.\n",
    "\n",
    "6. The Jacobi method is suitable for parallel computation. There exist convergent parallel\n",
    "strategies which enable simultaneous execution of several rotations.\n",
    "  \n",
    "7. The Jacobi method is simple, but it is slower than the methods based on tridiagonalization. It is\n",
    "conjectured that standard implementations require $O(n^3\\log n)$ operations. More precisely, each cycle clearly requires $O(n^3)$ operations and it is conjectured that $\\log n$ cycles are needed until convergence.\n",
    " \n",
    "8. If $A$ is positive definite, the method can be modified such that it reaches\n",
    "the speed of the methods based on tridiagonalization and at the same time\n",
    "computes the EVD with high relative accuracy.\n",
    "\n",
    "### Examples"
   ]
  },
  {
   "cell_type": "code",
   "execution_count": 1,
   "metadata": {
    "collapsed": false
   },
   "outputs": [
    {
     "data": {
      "text/plain": [
       "myJacobi (generic function with 1 method)"
      ]
     },
     "execution_count": 1,
     "metadata": {},
     "output_type": "execute_result"
    }
   ],
   "source": [
    "function myJacobi{T}(A::Array{T})\n",
    "    n,m=size(A)\n",
    "    U=eye(T,n)\n",
    "    # Tolerance for rotation\n",
    "    tol=sqrt(n)*eps(T)\n",
    "    # Counters\n",
    "    p=n*(n-1)/2\n",
    "    sweep=0\n",
    "    pcurrent=0\n",
    "    # First criterion is for standard accuracy, second one is for relative accuracy\n",
    "    # while sweep<30 && vecnorm(A-diagm(diag(A)))>tol\n",
    "    while sweep<30 && pcurrent<p\n",
    "        sweep+=1\n",
    "        # Row-cyclic strategy\n",
    "        for i = 1 : n-1 \n",
    "            for j = i+1 : n\n",
    "                # Check the tolerance - the first criterion is standard,\n",
    "                # the second one is for relative accuracy for PD matrices               \n",
    "                # if A[i,j]!=zero(T)\n",
    "                if abs(A[i,j])>tol*sqrt(abs(A[i,i]*A[j,j]))\n",
    "                    # Compute c and s\n",
    "                    τ=(A[i,i]-A[j,j])/(2*A[i,j])\n",
    "                    t=sign(τ)/(abs(τ)+sqrt(1+τ^2))\n",
    "                    c=1/sqrt(1+t^2)\n",
    "                    s=c*t\n",
    "                    G=LinAlg.Givens(i,j,c,s)\n",
    "                    A=G*A\n",
    "                    # @show\n",
    "                    A*=G'\n",
    "                    A[i,j]=zero(T)\n",
    "                    A[j,i]=zero(T)\n",
    "                    U*=G'\n",
    "                    pcurrent=0\n",
    "                else\n",
    "                    pcurrent+=1\n",
    "                end\n",
    "            end\n",
    "        end\n",
    "    end\n",
    "    # λ, U\n",
    "    # @show A\n",
    "    diag(A), U\n",
    "end"
   ]
  },
  {
   "cell_type": "code",
   "execution_count": 2,
   "metadata": {
    "collapsed": false
   },
   "outputs": [
    {
     "data": {
      "text/plain": [
       "4×4 Array{Float64,2}:\n",
       " 0.978768  0.769325   0.585993   0.493777 \n",
       " 0.769325  0.804012   0.188555   0.0583222\n",
       " 0.585993  0.188555   0.974855   0.0510404\n",
       " 0.493777  0.0583222  0.0510404  0.285318 "
      ]
     },
     "execution_count": 2,
     "metadata": {},
     "output_type": "execute_result"
    }
   ],
   "source": [
    "n=4\n",
    "A=full(Symmetric(rand(n,n)))"
   ]
  },
  {
   "cell_type": "code",
   "execution_count": 3,
   "metadata": {
    "collapsed": false
   },
   "outputs": [
    {
     "data": {
      "text/plain": [
       "([2.07865,-0.18866,0.744397,0.40857],\n",
       "[0.696533 -0.644716 -0.156179 0.273479; 0.499361 0.420936 -0.502536 -0.566488; 0.465318 0.230387 0.838969 -0.162885; 0.221268 0.595043 -0.13855 0.760111])"
      ]
     },
     "execution_count": 3,
     "metadata": {},
     "output_type": "execute_result"
    }
   ],
   "source": [
    "λ,U=myJacobi(A)"
   ]
  },
  {
   "cell_type": "code",
   "execution_count": 4,
   "metadata": {
    "collapsed": false
   },
   "outputs": [
    {
     "data": {
      "text/plain": [
       "4×4 Array{Float64,2}:\n",
       "  1.0           9.38907e-17  -6.40948e-17  -7.387e-17  \n",
       "  9.38907e-17   1.0          -1.93356e-16   2.48872e-17\n",
       " -6.40948e-17  -1.93356e-16   1.0          -1.04282e-17\n",
       " -7.387e-17     2.48872e-17  -1.04282e-17   1.0        "
      ]
     },
     "execution_count": 4,
     "metadata": {},
     "output_type": "execute_result"
    }
   ],
   "source": [
    "U'*U"
   ]
  },
  {
   "cell_type": "code",
   "execution_count": 5,
   "metadata": {
    "collapsed": false
   },
   "outputs": [
    {
     "data": {
      "text/plain": [
       "4×4 Array{Float64,2}:\n",
       "  0.0          1.52656e-16   2.77556e-17  -8.32667e-17\n",
       " -2.22045e-16  1.52656e-16   2.77556e-16  -1.38778e-16\n",
       "  0.0          1.59595e-16  -2.22045e-16  -8.32667e-17\n",
       "  0.0          6.93889e-17   2.08167e-16  -1.11022e-16"
      ]
     },
     "execution_count": 5,
     "metadata": {},
     "output_type": "execute_result"
    }
   ],
   "source": [
    "A*U-U*diagm(λ)"
   ]
  },
  {
   "cell_type": "code",
   "execution_count": 6,
   "metadata": {
    "collapsed": false
   },
   "outputs": [],
   "source": [
    "# Positive definite matrix\n",
    "n=100\n",
    "A=rand(n,n)\n",
    "A=full(Symmetric(A'*A));"
   ]
  },
  {
   "cell_type": "code",
   "execution_count": 7,
   "metadata": {
    "collapsed": false
   },
   "outputs": [
    {
     "data": {
      "text/plain": [
       "(2.8620697188713776e-14,3.9337990480549045e-11)"
      ]
     },
     "execution_count": 7,
     "metadata": {},
     "output_type": "execute_result"
    }
   ],
   "source": [
    "λ,U=myJacobi(A)\n",
    "norm(U'*U-I),norm(A*U-U*diagm(λ))"
   ]
  },
  {
   "cell_type": "code",
   "execution_count": 8,
   "metadata": {
    "collapsed": false
   },
   "outputs": [
    {
     "data": {
      "text/plain": [
       "100-element Array{Float64,1}:\n",
       "    3.51855   \n",
       " 2563.65      \n",
       "    0.00100926\n",
       "    0.056479  \n",
       "    0.00366263\n",
       "    0.0153288 \n",
       "   30.0008    \n",
       "    0.1662    \n",
       "   22.9109    \n",
       "   28.612     \n",
       "    0.0982612 \n",
       "   25.1767    \n",
       "   26.6262    \n",
       "    ⋮         \n",
       "    7.33848   \n",
       "    7.21591   \n",
       "    4.93048   \n",
       "    6.83255   \n",
       "    6.35386   \n",
       "    3.80823   \n",
       "    5.17994   \n",
       "    6.03175   \n",
       "    5.5571    \n",
       "    5.44693   \n",
       "    6.91413   \n",
       "    4.83968   "
      ]
     },
     "execution_count": 8,
     "metadata": {},
     "output_type": "execute_result"
    }
   ],
   "source": [
    "λ"
   ]
  },
  {
   "cell_type": "code",
   "execution_count": 9,
   "metadata": {
    "collapsed": false
   },
   "outputs": [
    {
     "data": {
      "text/plain": [
       "2.540133270029974e6"
      ]
     },
     "execution_count": 9,
     "metadata": {},
     "output_type": "execute_result"
    }
   ],
   "source": [
    "cond(A)"
   ]
  },
  {
   "cell_type": "code",
   "execution_count": 10,
   "metadata": {
    "collapsed": false
   },
   "outputs": [],
   "source": [
    "# Now the standard QR method\n",
    "λ,U=eig(A);"
   ]
  },
  {
   "cell_type": "code",
   "execution_count": 11,
   "metadata": {
    "collapsed": false
   },
   "outputs": [
    {
     "data": {
      "text/plain": [
       "(4.238190776966289e-14,2.937623537812601e-12)"
      ]
     },
     "execution_count": 11,
     "metadata": {},
     "output_type": "execute_result"
    }
   ],
   "source": [
    "norm(U'*U-I),norm(A*U-U*diagm(λ))"
   ]
  },
  {
   "cell_type": "code",
   "execution_count": 12,
   "metadata": {
    "collapsed": false
   },
   "outputs": [
    {
     "data": {
      "text/plain": [
       "2×2 Array{Float64,2}:\n",
       "    0.998999     0.998998\n",
       " 1000.0       1001.0     "
      ]
     },
     "execution_count": 12,
     "metadata": {},
     "output_type": "execute_result"
    }
   ],
   "source": [
    "G=[1000 1;1 1]\n",
    "H=[1001 1.001;1.001 1]\n",
    "[eigvals(G) eigvals(H)]"
   ]
  },
  {
   "cell_type": "markdown",
   "metadata": {},
   "source": [
    "## Relative perturbation theory\n",
    "\n",
    "$A$  is a real symmetric PD matrix of order $n$  and $A=U\\Lambda U^T$ is its EVD.\n",
    "\n",
    "### Definition\n",
    "\n",
    "The __scaled matrix__ of the matrix $A$ is the matrix\n",
    "$$\n",
    "A_S=D^{-1} A D^{-1}, \\quad D=\\mathop{\\mathrm{diag}}(\\sqrt{A_{11}},\\sqrt{A_{22}},\\ldots,\\sqrt{A_{nn}}).\n",
    "$$\n",
    "\n",
    "### Facts\n",
    "\n",
    "1. The above diagonal scaling is nearly optimal: \n",
    "$\\kappa_2(A_S)\\leq  n \\min\\limits_{D=\\mathrm{diag}} \\kappa(DHD) \\leq n\\kappa_2(H)$.\n",
    "\n",
    "2. Let $A$ and $\\tilde A=A+\\Delta A$ both be positive definite, and let \n",
    "their eigenvalues have the same ordering. Then\n",
    "$$\n",
    "\\frac{|\\lambda_i-\\tilde\\lambda_i|}{\\lambda_i}\\leq \n",
    "\\frac{\\| D^{-1} (\\Delta A) D^{-1}\\|_2}{\\lambda_{\\min} (A_S)}\\equiv\n",
    "\\|A_S^{-1}\\|_2 \\| \\Delta A_S\\|_2.\n",
    "$$\n",
    "If $\\lambda_i$ and $\\tilde\\lambda_i$ are simple, \n",
    "$$\n",
    "\\|U_{:,i}-\\tilde U_{:,i}\\|_2 \\leq \\frac{\\| A_S^{-1}\\|_2 \\|\\Delta A_S\\|_2}\n",
    "{\\displaystyle\\min_{j\\neq i}\\frac{|\\lambda_i-\\lambda_j|}{\\sqrt{\\lambda_i\\lambda_j}}}.\n",
    "$$\n",
    "These bounds are much sharper than the standard bounds for matrices for which $\\kappa_2(A_S)\\ll \\kappa_2(A)$.\n",
    "\n",
    "3. Jacobi method with the relative stopping criterion $|A_{ij}|\\leq tol \\sqrt{A_{ii}A_{jj}}$ for all $i\\neq j$ and some user defined tolerance $tol$ (usually $tol=n\\varepsilon$), computes the EVD with small scaled  backward error $\\|\\Delta A_S\\|\\leq \\varepsilon\\, O(\\|A_S\\|_2)\\leq O(n)\\varepsilon$, _provided_ that $\\kappa_2([A_k]_S)$  does not grow much during the iterations. There is overwhelming numerical evidence that the scaled condition does not grow much, and the growth can be monitored, as well.\n",
    "\n",
    "### Example - Scaled matrix\n"
   ]
  },
  {
   "cell_type": "code",
   "execution_count": 13,
   "metadata": {
    "collapsed": false
   },
   "outputs": [
    {
     "data": {
      "text/plain": [
       "6×6 Array{Float64,2}:\n",
       " 1.0       0.76255   0.841745  0.804963  0.921745  0.738822\n",
       " 0.76255   1.0       0.66613   0.68334   0.779343  0.942937\n",
       " 0.841745  0.66613   1.0       0.847525  0.723046  0.755997\n",
       " 0.804963  0.68334   0.847525  1.0       0.693296  0.643683\n",
       " 0.921745  0.779343  0.723046  0.693296  1.0       0.684932\n",
       " 0.738822  0.942937  0.755997  0.643683  0.684932  1.0     "
      ]
     },
     "execution_count": 13,
     "metadata": {},
     "output_type": "execute_result"
    }
   ],
   "source": [
    "n=6\n",
    "A=rand(n,n)\n",
    "A=full(Symmetric(A'*A));\n",
    "AS=map(Float64,[A[i,j]/sqrt(A[i,i]*A[j,j]) for i=1:n, j=1:n])"
   ]
  },
  {
   "cell_type": "code",
   "execution_count": 14,
   "metadata": {
    "collapsed": false
   },
   "outputs": [
    {
     "data": {
      "text/plain": [
       "(693.8621331087436,615.8538660024076)"
      ]
     },
     "execution_count": 14,
     "metadata": {},
     "output_type": "execute_result"
    }
   ],
   "source": [
    "cond(AS), cond(A)"
   ]
  },
  {
   "cell_type": "code",
   "execution_count": 15,
   "metadata": {
    "collapsed": false
   },
   "outputs": [
    {
     "data": {
      "text/plain": [
       "6-element Array{Float64,1}:\n",
       "     2.50597e7 \n",
       " 11856.8       \n",
       "     0.00148747\n",
       " 18871.8       \n",
       "     2.84056e8 \n",
       "     7.56253   "
      ]
     },
     "execution_count": 15,
     "metadata": {},
     "output_type": "execute_result"
    }
   ],
   "source": [
    "# Strong scaling\n",
    "D=exp(50*(rand(n)-0.5))"
   ]
  },
  {
   "cell_type": "code",
   "execution_count": 16,
   "metadata": {
    "collapsed": false
   },
   "outputs": [
    {
     "data": {
      "text/plain": [
       "6×6 Array{Float64,2}:\n",
       "     6.27988e14      2.26574e11  …  6.56131e15      1.40018e8 \n",
       "     2.26574e11      1.40583e8      2.62482e12  84550.6       \n",
       " 31376.5            11.7483         3.05505e5       0.00850425\n",
       "     3.80685e11      1.52904e8      3.71652e12  91865.7       \n",
       "     6.56131e15      2.62482e12     8.06877e16      1.47136e9 \n",
       "     1.40018e8   84550.6         …  1.47136e9      57.1918    "
      ]
     },
     "execution_count": 16,
     "metadata": {},
     "output_type": "execute_result"
    }
   ],
   "source": [
    "H=diagm(D)*AS*diagm(D)"
   ]
  },
  {
   "cell_type": "code",
   "execution_count": 17,
   "metadata": {
    "collapsed": false
   },
   "outputs": [
    {
     "data": {
      "text/plain": [
       "6.849577395214291e23"
      ]
     },
     "execution_count": 17,
     "metadata": {},
     "output_type": "execute_result"
    }
   ],
   "source": [
    "cond(H)"
   ]
  },
  {
   "cell_type": "code",
   "execution_count": 18,
   "metadata": {
    "collapsed": false
   },
   "outputs": [
    {
     "data": {
      "text/plain": [
       "([9.38192e13,4.72363e7,1.18772e-7,1.25899e8,8.12219e16,4.14681],\n",
       "[0.996702 9.851e-5 … 0.0811435 -1.70751e-7; 0.000136862 0.960218 … 3.24364e-5 -0.00065635; … ; -0.0811435 -2.63846e-5 … 0.996702 1.44339e-8; 2.14932e-7 0.000645804 … 1.81954e-8 1.0])"
      ]
     },
     "execution_count": 18,
     "metadata": {},
     "output_type": "execute_result"
    }
   ],
   "source": [
    "λ,U=myJacobi(H)"
   ]
  },
  {
   "cell_type": "code",
   "execution_count": 19,
   "metadata": {
    "collapsed": false
   },
   "outputs": [
    {
     "data": {
      "text/plain": [
       "([8.12219e16,9.38192e13,1.25899e8,4.72363e7,4.14681,1.1831e-7],\n",
       "[-0.0811435 0.996702 … 1.70751e-7 8.7976e-12; -3.24364e-5 0.000136862 … 0.00065635 1.82471e-7; … ; -0.996702 -0.0811435 … -1.44339e-8 -2.93476e-12; -1.81954e-8 2.14932e-7 … -1.0 -0.000282484])"
      ]
     },
     "execution_count": 19,
     "metadata": {},
     "output_type": "execute_result"
    }
   ],
   "source": [
    "λ1,U1=eig(H)"
   ]
  },
  {
   "cell_type": "code",
   "execution_count": 20,
   "metadata": {
    "collapsed": false
   },
   "outputs": [
    {
     "data": {
      "text/plain": [
       "6×2 Array{Float64,2}:\n",
       " 1.18772e-7  1.1831e-7 \n",
       " 4.14681     4.14681   \n",
       " 4.72363e7   4.72363e7 \n",
       " 1.25899e8   1.25899e8 \n",
       " 9.38192e13  9.38192e13\n",
       " 8.12219e16  8.12219e16"
      ]
     },
     "execution_count": 20,
     "metadata": {},
     "output_type": "execute_result"
    }
   ],
   "source": [
    "[sort(λ) sort(λ1)]"
   ]
  },
  {
   "cell_type": "code",
   "execution_count": 21,
   "metadata": {
    "collapsed": false
   },
   "outputs": [
    {
     "data": {
      "text/plain": [
       "(BigFloat[9.381916422813170705987907680214493045648268495030343585313210604534376900250206e+13,4.723634347112508327023998020098545803459134622176081005023378462751769391746603e+07,1.187715611345956048981186615200826960571930414382767648227924480318136806521461e-07,1.258988887717428806933572805519883746768385366053440914979266722981097006617094e+08,8.12218506114917101382627083554788551702538944570186805595405624092410830982113e+16,4.146807834211247393972014542409443027041209981514681772539653306319349059044546],\n",
       "BigFloat[9.967020726258624951144094946678498221524312393548271584106230425835625421773045e-01 9.850996728779473488017908216772417199572351574855738981062800817081878965018677e-05 … 8.114350707366643855754987977745495213862581622017533686801557059041317485228134e-02 -1.707513322805917910138510943687973701696566758284260344948207314957232961664452e-07; 1.368622540672325436809430317024330728731755411813688309743626036720275139533417e-04 9.602181001274854693566589875596477664432254038021292357325371294823618270440655e-01 … 3.24364286789853781113326664955943232904278025067048122727184251053764208679233e-05 -6.563498296670577489044741612476440312981159254805220040013406633239978118834318e-04; … ; -8.114352096302547886820514592635571840204296414459151056509640937529973548600702e-02 -2.638459752834177820521141164314714062897949168633029647662112889877099268997116e-05 … 9.967024270527548215200353746322109491229336382922892847988757126443719587575901e-01 1.443388125043780649449291704292066359593422589987941922109974966578313213088292e-08; 2.14932279433089140960797859328189424297247641188283451595453621716360108832466e-07 6.458043483194569526411906187042756736847284055890077325556643634348689065737357e-04 … 1.81954450379701391422679346345646570551426107239340490320314442012610306537762e-08 9.999997431502735673313628337808468496349366607981061918891771471116280537207273e-01])"
      ]
     },
     "execution_count": 21,
     "metadata": {},
     "output_type": "execute_result"
    }
   ],
   "source": [
    "# Check with BigFloat\n",
    "λ2,U2=myJacobi(map(BigFloat,H))"
   ]
  },
  {
   "cell_type": "code",
   "execution_count": 22,
   "metadata": {
    "collapsed": false
   },
   "outputs": [
    {
     "data": {
      "text/plain": [
       "6-element Array{BigFloat,1}:\n",
       " -3.262964344527058952990233138476527985630273920873541441321900853538081126901286e-15\n",
       " -4.320189028087171308040348269864681491603421024969806404373633787182026076405611e-15\n",
       " -4.289711375953355924871947750027288352821241973432067255525998334049043822109968e-16\n",
       " -4.706608528643247365792207076222769438961993158234909248912272217514620473419375e-16\n",
       " -7.907778920604786528323117958632241354754959653484275403373680682263266452758186e-16\n",
       " -8.108869324669886746216799969164226590235751972668548791971044486316299754436395e-16"
      ]
     },
     "execution_count": 22,
     "metadata": {},
     "output_type": "execute_result"
    }
   ],
   "source": [
    "# Relative error is eps()*cond(AS)\n",
    "(sort(λ2)-sort(λ))./sort(λ2)"
   ]
  },
  {
   "cell_type": "markdown",
   "metadata": {},
   "source": [
    "## Indefinite matrices\n",
    "\n",
    "### Definition\n",
    "\n",
    "__Spectral absolute value__ of the matrix $A$ is the matrix is $|A|_{spr}=(A^2)^{1/2}$ (positive definite part of the polar decomposition of $A$).\n",
    "\n",
    "### Facts\n",
    "\n",
    "1. The above perturbation bounds for positive definite matrices essentially hold with $A_S$ replaced by $[|A|_{spr}]_S$.\n",
    "\n",
    "2. Jacobi method can be modified to compute the EVD with small backward error \n",
    "$\\| \\Delta [|A|_{spr}]_S\\|_2$.\n",
    "\n",
    "The details of the indefinite case are beyond the scope of this course, and the reader should consider references."
   ]
  },
  {
   "cell_type": "code",
   "execution_count": null,
   "metadata": {
    "collapsed": true
   },
   "outputs": [],
   "source": []
  }
 ],
 "metadata": {
  "anaconda-cloud": {},
  "kernelspec": {
   "display_name": "Julia 0.5.1",
   "language": "julia",
   "name": "julia-0.5"
  },
  "language_info": {
   "file_extension": ".jl",
   "mimetype": "application/julia",
   "name": "julia",
   "version": "0.5.1"
  }
 },
 "nbformat": 4,
 "nbformat_minor": 0
}
