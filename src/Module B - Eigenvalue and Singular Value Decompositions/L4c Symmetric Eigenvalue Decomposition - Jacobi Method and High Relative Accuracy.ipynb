{
 "cells": [
  {
   "cell_type": "markdown",
   "metadata": {},
   "source": [
    "# Symmetric Eigenvalue Decomposition - Jacobi Method and High Relative Accuracy\n",
    "\n",
    "---\n",
    "\n",
    "The Jacobi method is the oldest method for EVD computations, dating back from 1864. \n",
    "The method does not require tridiagonalization.\n",
    "Instead, the method computes a sequence of orthogonally similar \n",
    "matrices which converge to a diagonal matrix of eigenvalues. In each step a simple plane rotation\n",
    "which sets one off-diagonal element to zero is performed. \n",
    "\n",
    "For positive definite matrices, the method computes eigenvalues with high relative accuracy.\n",
    "\n",
    "For more details, see \n",
    "[I. Slapničar, Symmetric Matrix Eigenvalue Techniques][Hog14] and\n",
    "[Z. Drmač, Computing Eigenvalues and Singular Values to High Relative Accuracy][Hog14a]\n",
    "and the references therein.\n",
    "\n",
    "[Hog14]: #1 \"L. Hogben, ed., 'Handbook of Linear Algebra', pp. 55.1-55.25, CRC Press, Boca Raton, 2014.\"\n",
    "\n",
    "[Hog14a]: #1 \"L. Hogben, ed., 'Handbook of Linear Algebra', pp. 59.1-59.21, CRC Press, Boca Raton, 2014.\"\n",
    "\n",
    "\n",
    "## Prerequisites\n",
    "\n",
    "The reader should be familiar with concepts of eigenvalues and eigenvectors, related perturbation theory, and algorithms. \n",
    "\n",
    " \n",
    "## Competences \n",
    "\n",
    "The reader should be able to recognise matrices which warrant high relative accuracy and to apply \n",
    "Jacobi method to them.\n",
    "\n",
    "---"
   ]
  },
  {
   "cell_type": "markdown",
   "metadata": {},
   "source": [
    "## Jacobi method\n",
    "\n",
    "$A$ is a real symmetric matrix of order $n$ and $A= U \\Lambda  U^T$ is its EVD.\n",
    "\n",
    "### Definitions\n",
    "\n",
    "The __Jacobi method__ forms a sequence of matrices,\n",
    "$$\n",
    "A_0=A, \\qquad A_{k+1}=G(i_k,j_k,c,s) A_k G(i_k,j_k,c,s)^T, \\qquad\n",
    "k=1,2,\\ldots,\n",
    "$$\n",
    "where $G(i_k,j_k,c,s)$ is the orthogonal __plane rotation matrix__.\n",
    "The parameters $c$ and $s$ are chosen such that \n",
    "$[A_{k+1}]_{i_k j_k}=[A_{k+1}]_{j_k i_k}=0$.\n",
    "\n",
    "The plane rotation is also called the __Jacobi rotation__. \n",
    "\n",
    "The __off-norm__ of $A$ is \n",
    "$$\n",
    "off(A)=\\big(\\sum_{i}\\sum_{j\\neq i} a_{ij}^2\\big)^{1/2},\n",
    "$$\n",
    "that is, off-norm is the Frobenius norm of the\n",
    "matrix consisting of all off-diagonal elements of $A$.\n",
    "\n",
    "The choice of __pivot elements__ $[A_k]_{i_kj_k}$ is called the \n",
    "__pivoting strategy__.\n",
    "\n",
    "The __optimal pivoting strategy__, originally used by Jacobi, chooses pivoting\n",
    "elements such that $|[A_k]_{i_k j_k}|=\\max_{i<j} |[A_k]_{ij}|$.\n",
    "\n",
    "The __row-cyclic__ pivoting strategy chooses pivot elements\n",
    "  in the systematic row-wise order,\n",
    "$$\n",
    "(1,2), (1,3), \\ldots,(1,n),(2,3),\n",
    "(2,4),\\ldots,(2,n),(3,4),\\ldots,(n-1,n).\n",
    "$$\n",
    "Similarly, the column-cyclic strategy chooses pivot elements column-wise.\n",
    "\n",
    "One pass through all matrix elements is called __cycle__ or __sweep__.\n",
    "\n",
    "\n",
    "### Facts\n",
    "\n",
    "1. The Jacobi rotations parameters $c$ and $s$ are computed as follows:\n",
    " If $[A_k]_{i_kj_k}=0$, then $c=1$ and $s=0$, otherwise\n",
    "$$\n",
    "\\tau=\\frac{[A_k]_{i_ki_k}-[A_k]_{j_kj_k} }{2[A_k]_{i_kj_k} },\\qquad\n",
    "t=\\frac{\\mathop{\\mathrm{sign}}(\\tau)}{|\\tau|+\\sqrt{1+\\tau^2}},\\qquad\n",
    "c=\\frac{1}{\\sqrt{1+t^2}},\\qquad s=c\\cdot t.\n",
    "$$ \n",
    "\n",
    "2. After each rotation, the off-norm decreases,\n",
    "$$\n",
    "off^2(A_{k+1})=off^2(A_k)-2[A_k]_{i_kj_k}^2.\n",
    "$$\n",
    "With the appropriate pivoting strategy, the method converges in the sense that\n",
    "$$\n",
    "off(A_k)\\to 0,\\qquad A_k\\to\\Lambda, \\qquad \n",
    "\\prod_{k=1}^{\\infty} G(i_k,j_k,c,s)^T \\to U.\n",
    "$$\n",
    "\n",
    "3. For the optimal pivoting strategy\n",
    "the square of the pivot element is greater than the average squared\n",
    "element, $[A_k]_{i_kj_k}^2\\geq\n",
    "off^2(A) \\frac{1}{n(n-1)}$. Thus,\n",
    "$$\n",
    "off^2(A_{k+1})\\leq\\left(1-\\frac{2}{n(n-1)}\\right)off^2(A_k)\n",
    "$$\n",
    "and the method converges.\n",
    "\n",
    "4. For the row cyclic and the column cyclic pivoting strategies, the method\n",
    "converges. The convergence is ultimately __quadratic__ in the sense that \n",
    "$off(A_{k+n(n-1)/2})\\leq\\ const\\cdot  off^2(A_k)$, \n",
    "provided $off(A_k)$ is sufficiently small.\n",
    "\n",
    "5. The EVD computed by the Jacobi method satisfies the standard error bounds.\n",
    "\n",
    "6. The Jacobi method is suitable for parallel computation. There exist convergent parallel\n",
    "strategies which enable simultaneous execution of several rotations.\n",
    "  \n",
    "7. The Jacobi method is simple, but it is slower than the methods based on tridiagonalization. It is\n",
    "conjectured that standard implementations require $O(n^3\\log n)$ operations. More precisely, each cycle clearly requires $O(n^3)$ operations and it is conjectured that $\\log n$ cycles are needed until convergence.\n",
    " \n",
    "8. If $A$ is positive definite, the method can be modified such that it reaches\n",
    "the speed of the methods based on tridiagonalization and at the same time\n",
    "computes the EVD with high relative accuracy.\n",
    "\n",
    "### Examples"
   ]
  },
  {
   "cell_type": "code",
   "execution_count": 1,
   "metadata": {
    "collapsed": false
   },
   "outputs": [
    {
     "data": {
      "text/plain": [
       "myJacobi (generic function with 1 method)"
      ]
     },
     "execution_count": 1,
     "metadata": {},
     "output_type": "execute_result"
    }
   ],
   "source": [
    "function myJacobi{T}(A::Array{T})\n",
    "    n,m=size(A)\n",
    "    U=eye(T,n)\n",
    "    # Tolerance for rotation\n",
    "    tol=sqrt(n)*eps(T)\n",
    "    # Counters\n",
    "    p=n*(n-1)/2\n",
    "    sweep=0\n",
    "    pcurrent=0\n",
    "    # First criterion is for standard accuracy, second one is for relative accuracy\n",
    "    # while sweep<30 && vecnorm(A-diagm(diag(A)))>tol\n",
    "    while sweep<30 && pcurrent<p\n",
    "        sweep+=1\n",
    "        # Row-cyclic strategy\n",
    "        for i = 1 : n-1 \n",
    "            for j = i+1 : n\n",
    "                # Check the tolerance - the first criterion is standard,\n",
    "                # the second one is for relative accuracy for PD matrices               \n",
    "                # if A[i,j]!=zero(T)\n",
    "                if abs(A[i,j])>tol*sqrt(abs(A[i,i]*A[j,j]))\n",
    "                    # Compute c and s\n",
    "                    τ=(A[i,i]-A[j,j])/(2*A[i,j])\n",
    "                    t=sign(τ)/(abs(τ)+sqrt(1+τ^2))\n",
    "                    c=1/sqrt(1+t^2)\n",
    "                    s=c*t\n",
    "                    G=LinAlg.Givens(i,j,c,s)\n",
    "                    A=G*A\n",
    "                    # @show\n",
    "                    A*=G'\n",
    "                    A[i,j]=zero(T)\n",
    "                    A[j,i]=zero(T)\n",
    "                    U*=G'\n",
    "                    pcurrent=0\n",
    "                else\n",
    "                    pcurrent+=1\n",
    "                end\n",
    "            end\n",
    "        end\n",
    "    end\n",
    "    # λ, U\n",
    "    # @show A\n",
    "    diag(A), U\n",
    "end"
   ]
  },
  {
   "cell_type": "code",
   "execution_count": 2,
   "metadata": {
    "collapsed": false
   },
   "outputs": [
    {
     "data": {
      "text/plain": [
       "4x4 Array{Float64,2}:\n",
       " 0.859825  0.625873  0.245435  0.561921\n",
       " 0.625873  0.97313   0.854558  0.413555\n",
       " 0.245435  0.854558  0.377692  0.696606\n",
       " 0.561921  0.413555  0.696606  0.386355"
      ]
     },
     "execution_count": 2,
     "metadata": {},
     "output_type": "execute_result"
    }
   ],
   "source": [
    "n=4\n",
    "A=full(Symmetric(rand(n,n)))"
   ]
  },
  {
   "cell_type": "code",
   "execution_count": 3,
   "metadata": {
    "collapsed": false
   },
   "outputs": [
    {
     "data": {
      "text/plain": [
       "([-0.5110259907281365,2.3931528143541243,0.5038727589045998,0.2110026480898031],\n",
       "4x4 Array{Float64,2}:\n",
       "  0.264145  0.479409  -0.821547   -0.159544\n",
       " -0.366291  0.613623   0.357112   -0.601472\n",
       "  0.706437  0.464375   0.43904     0.304213\n",
       " -0.544981  0.421888  -0.0691035   0.72127 )"
      ]
     },
     "execution_count": 3,
     "metadata": {},
     "output_type": "execute_result"
    }
   ],
   "source": [
    "λ,U=myJacobi(A)"
   ]
  },
  {
   "cell_type": "code",
   "execution_count": 4,
   "metadata": {
    "collapsed": false
   },
   "outputs": [
    {
     "data": {
      "text/plain": [
       "4x4 Array{Float64,2}:\n",
       "  1.0           0.0          -5.55112e-17  -3.33067e-16\n",
       "  0.0           1.0           1.2837e-16   -1.11022e-16\n",
       " -5.55112e-17   1.2837e-16    1.0           1.04083e-16\n",
       " -3.33067e-16  -1.11022e-16   1.04083e-16   1.0        "
      ]
     },
     "execution_count": 4,
     "metadata": {},
     "output_type": "execute_result"
    }
   ],
   "source": [
    "U'*U"
   ]
  },
  {
   "cell_type": "code",
   "execution_count": 5,
   "metadata": {
    "collapsed": false
   },
   "outputs": [
    {
     "data": {
      "text/plain": [
       "4x4 Array{Float64,2}:\n",
       "  1.94289e-16  -4.44089e-16   5.55112e-16   4.16334e-17\n",
       "  8.32667e-17  -6.66134e-16   5.55112e-17   0.0        \n",
       "  1.11022e-16  -4.44089e-16  -5.55112e-17   8.32667e-17\n",
       " -2.77556e-16  -4.44089e-16   1.66533e-16  -5.55112e-17"
      ]
     },
     "execution_count": 5,
     "metadata": {},
     "output_type": "execute_result"
    }
   ],
   "source": [
    "A*U-U*diagm(λ)"
   ]
  },
  {
   "cell_type": "code",
   "execution_count": 6,
   "metadata": {
    "collapsed": false
   },
   "outputs": [],
   "source": [
    "# Positive definite matrix\n",
    "n=100\n",
    "A=rand(n,n)\n",
    "A=full(Symmetric(A'*A));"
   ]
  },
  {
   "cell_type": "code",
   "execution_count": 7,
   "metadata": {
    "collapsed": false
   },
   "outputs": [
    {
     "data": {
      "text/plain": [
       "(2.918223906221685e-14,3.9587120290006577e-11)"
      ]
     },
     "execution_count": 7,
     "metadata": {},
     "output_type": "execute_result"
    }
   ],
   "source": [
    "λ,U=myJacobi(A)\n",
    "norm(U'*U-I),norm(A*U-U*diagm(λ))"
   ]
  },
  {
   "cell_type": "code",
   "execution_count": 8,
   "metadata": {
    "collapsed": false
   },
   "outputs": [
    {
     "data": {
      "text/plain": [
       "100-element Array{Float64,1}:\n",
       " 2532.18      \n",
       "    0.0131241 \n",
       "   31.1896    \n",
       "    0.00189852\n",
       "   29.8623    \n",
       "    0.147798  \n",
       "   28.4812    \n",
       "    0.00333202\n",
       "   27.7636    \n",
       "    0.0919647 \n",
       "    0.341706  \n",
       "   24.3592    \n",
       "    3.83947   \n",
       "    ⋮         \n",
       "    2.13628   \n",
       "    2.06048   \n",
       "    5.04817   \n",
       "    4.37197   \n",
       "    5.36254   \n",
       "    5.7869    \n",
       "    4.02991   \n",
       "    3.21938   \n",
       "    4.51509   \n",
       "    4.29691   \n",
       "    3.33341   \n",
       "    2.84398   "
      ]
     },
     "execution_count": 8,
     "metadata": {},
     "output_type": "execute_result"
    }
   ],
   "source": [
    "λ"
   ]
  },
  {
   "cell_type": "code",
   "execution_count": 9,
   "metadata": {
    "collapsed": false
   },
   "outputs": [
    {
     "data": {
      "text/plain": [
       "1.3337682453386835e6"
      ]
     },
     "execution_count": 9,
     "metadata": {},
     "output_type": "execute_result"
    }
   ],
   "source": [
    "cond(A)"
   ]
  },
  {
   "cell_type": "code",
   "execution_count": 10,
   "metadata": {
    "collapsed": false
   },
   "outputs": [],
   "source": [
    "# Now the standard QR method\n",
    "λ,U=eig(A);"
   ]
  },
  {
   "cell_type": "code",
   "execution_count": 11,
   "metadata": {
    "collapsed": false
   },
   "outputs": [
    {
     "data": {
      "text/plain": [
       "(3.050836346283519e-13,3.0408891376813924e-12)"
      ]
     },
     "execution_count": 11,
     "metadata": {},
     "output_type": "execute_result"
    }
   ],
   "source": [
    "norm(U'*U-I),norm(A*U-U*diagm(λ))"
   ]
  },
  {
   "cell_type": "markdown",
   "metadata": {},
   "source": [
    "## Relative perturbation theory\n",
    "\n",
    "$A$  is a real symmetric PD matrix of order $n$  and $A=U\\Lambda U^T$ is its EVD.\n",
    "\n",
    "### Definition\n",
    "\n",
    "The __scaled matrix__ of the matrix $A$ is the matrix\n",
    "$$\n",
    "A_S=D^{-1} A D^{-1}, \\quad D=\\mathop{\\mathrm{diag}}(\\sqrt{A_{11}},\\sqrt{A_{22}},\\ldots,\\sqrt{A_{nn}}).\n",
    "$$\n",
    "\n",
    "### Facts\n",
    "\n",
    "1. The above diagonal scaling is nearly optimal: \n",
    "$\\kappa_2(A_S)\\leq  n \\min\\limits_{D=\\mathrm{diag}} \\kappa(DHD) \\leq n\\kappa_2(H)$.\n",
    "\n",
    "2. Let $A$ and $\\tilde A=A+\\Delta A$ both be positive definite, and let \n",
    "their eigenvalues have the same ordering. Then\n",
    "$$\n",
    "\\frac{|\\lambda_i-\\tilde\\lambda_i|}{\\lambda_i}\\leq \n",
    "\\frac{\\| D^{-1} (\\Delta A) D^{-1}\\|_2}{\\lambda_{\\min} (A_S)}\\equiv\n",
    "\\|A_S^{-1}\\|_2 \\| \\Delta A_S\\|_2.\n",
    "$$\n",
    "If $\\lambda_i$ and $\\tilde\\lambda_i$ are simple, \n",
    "$$\n",
    "\\|U_{:,i}-\\tilde U_{:,i}\\|_2 \\leq \\frac{\\| A_S^{-1}\\|_2 \\|\\Delta A_S\\|_2}\n",
    "{\\displaystyle\\min_{j\\neq i}\\frac{|\\lambda_i-\\lambda_j|}{\\sqrt{\\lambda_i\\lambda_j}}}.\n",
    "$$\n",
    "These bounds are much sharper than the standard bounds for matrices for which $\\kappa_2(A_S)\\ll \\kappa_2(A)$.\n",
    "\n",
    "3. Jacobi method with the relative stopping criterion $|A_{ij}|\\leq tol \\sqrt{A_{ii}A_{jj}}$ for all $i\\neq j$ and some user defined tolerance $tol$ (usually $tol=n\\varepsilon$), computes the EVD with small scaled  backward error $\\|\\Delta A_S\\|\\leq \\varepsilon\\, O(\\|A_S\\|_2)\\leq O(n)\\varepsilon$, _provided_ that $\\kappa_2([A_k]_S)$  does not grow much during the iterations. There is overwhelming numerical evidence that the scaled condition does not grow much, and the growth can be monitored, as well.\n",
    "\n",
    "### Example - Scaled matrix\n"
   ]
  },
  {
   "cell_type": "code",
   "execution_count": 12,
   "metadata": {
    "collapsed": false
   },
   "outputs": [
    {
     "data": {
      "text/plain": [
       "10x10 Array{Float64,2}:\n",
       " 1.0       0.775925  0.78287   0.860785  …  0.795853  0.88939   0.789678\n",
       " 0.775925  1.0       0.809157  0.862699     0.879892  0.84235   0.713707\n",
       " 0.78287   0.809157  1.0       0.735156     0.810281  0.766874  0.706796\n",
       " 0.860785  0.862699  0.735156  1.0          0.721396  0.839212  0.800589\n",
       " 0.83921   0.860412  0.869796  0.885945     0.853105  0.837846  0.774648\n",
       " 0.673876  0.807851  0.499119  0.710431  …  0.754399  0.628388  0.463822\n",
       " 0.5802    0.864702  0.641829  0.700768     0.739358  0.752179  0.731881\n",
       " 0.795853  0.879892  0.810281  0.721396     1.0       0.895524  0.636262\n",
       " 0.88939   0.84235   0.766874  0.839212     0.895524  1.0       0.863853\n",
       " 0.789678  0.713707  0.706796  0.800589     0.636262  0.863853  1.0     "
      ]
     },
     "execution_count": 12,
     "metadata": {},
     "output_type": "execute_result"
    }
   ],
   "source": [
    "n=10\n",
    "A=rand(n,n)\n",
    "A=full(Symmetric(A'*A));\n",
    "AS=map(Float64,[A[i,j]/sqrt(A[i,i]*A[j,j]) for i=1:n, j=1:n])"
   ]
  },
  {
   "cell_type": "code",
   "execution_count": 13,
   "metadata": {
    "collapsed": false
   },
   "outputs": [
    {
     "data": {
      "text/plain": [
       "6438.469701303686"
      ]
     },
     "execution_count": 13,
     "metadata": {},
     "output_type": "execute_result"
    }
   ],
   "source": [
    "cond(AS)"
   ]
  },
  {
   "cell_type": "code",
   "execution_count": 14,
   "metadata": {
    "collapsed": false
   },
   "outputs": [
    {
     "data": {
      "text/plain": [
       "10-element Array{Float64,1}:\n",
       "    1.3056e10 \n",
       "  187.247     \n",
       "    0.519645  \n",
       " 7480.92      \n",
       "    8.47713e6 \n",
       "    4.76788e6 \n",
       "    0.0105304 \n",
       "    9.31052e-9\n",
       "    0.0179848 \n",
       "    4.95575e-5"
      ]
     },
     "execution_count": 14,
     "metadata": {},
     "output_type": "execute_result"
    }
   ],
   "source": [
    "# Strong scaling\n",
    "D=exp(50*(rand(n)-0.5))"
   ]
  },
  {
   "cell_type": "code",
   "execution_count": 15,
   "metadata": {
    "collapsed": false
   },
   "outputs": [
    {
     "data": {
      "text/plain": [
       "10x10 Array{Float64,2}:\n",
       "  1.7046e20       1.89691e12  …      2.08837e8      5.10941e5  \n",
       "  1.89691e12  35061.4                2.83669        0.00662284 \n",
       "  5.31139e9      78.7326             0.00716696     1.82016e-5 \n",
       "  8.40739e13      1.20845e6        112.91           0.296807   \n",
       "  9.28818e16      1.36575e9          1.27737e5    325.434      \n",
       "  4.19486e16      7.21226e8   …  53883.8          109.594      \n",
       "  7.9769e7        1.70501            0.000142453    3.8194e-7  \n",
       " 96.7427          1.53397e-6         1.49953e-10    2.93575e-13\n",
       "  2.08837e8       2.83669            0.000323451    7.69934e-7 \n",
       "  5.10941e5       0.00662284         7.69934e-7     2.45594e-9 "
      ]
     },
     "execution_count": 15,
     "metadata": {},
     "output_type": "execute_result"
    }
   ],
   "source": [
    "H=diagm(D)*AS*diagm(D)"
   ]
  },
  {
   "cell_type": "code",
   "execution_count": 16,
   "metadata": {
    "collapsed": false
   },
   "outputs": [
    {
     "data": {
      "text/plain": [
       "5.6811326331675126e38"
      ]
     },
     "execution_count": 16,
     "metadata": {},
     "output_type": "execute_result"
    }
   ],
   "source": [
    "cond(H)"
   ]
  },
  {
   "cell_type": "code",
   "execution_count": 17,
   "metadata": {
    "collapsed": false
   },
   "outputs": [
    {
     "data": {
      "text/plain": [
       "([1.7046028869315386e20,5758.217122299141,0.019613240938357607,9.292167610009085e6,2.5166592786427484e13,8.49444247304353e12,1.551280568030537e-5,3.000449942831261e-19,2.4164452031416344e-5,3.212073835317919e-10],\n",
       "10x10 Array{Float64,2}:\n",
       " 1.0           5.2848e-10   -1.478e-11   …  -1.27742e-12  -4.84392e-16\n",
       " 1.11282e-8    0.999947     -0.00211354     -0.000122616   2.52239e-7 \n",
       " 3.11591e-11   0.00211793    0.99933         0.0318588    -3.62716e-5 \n",
       " 4.93217e-7   -0.0100759     3.99904e-5      1.43881e-6   -4.29729e-9 \n",
       " 0.000544889  -6.35136e-6   -5.16255e-8     -1.92148e-9    1.84727e-12\n",
       " 0.00024609   -1.31079e-5    6.34499e-8  …   2.954e-9      3.21631e-13\n",
       " 4.67963e-13   5.58004e-5   -0.0205358       0.084339     -0.003132   \n",
       " 5.67538e-19   3.68398e-11  -5.2104e-9       4.35468e-7   -7.23864e-5 \n",
       " 1.22514e-12   5.06493e-5   -0.0302288       0.995926     -0.0013797  \n",
       " 2.99742e-15   6.91997e-8   -6.97774e-5      0.0016394     0.999994   )"
      ]
     },
     "execution_count": 17,
     "metadata": {},
     "output_type": "execute_result"
    }
   ],
   "source": [
    "λ,U=myJacobi(H)"
   ]
  },
  {
   "cell_type": "code",
   "execution_count": 18,
   "metadata": {
    "collapsed": false
   },
   "outputs": [
    {
     "data": {
      "text/plain": [
       "([1.7046028869315386e20,2.516659278642747e13,8.494442473043522e12,9.292167610008907e6,5758.217151995548,0.01961224046949336,2.4162605482998504e-5,1.5512050894008412e-5,3.2120306213952206e-10,3.000573406232901e-19],\n",
       "10x10 Array{Float64,2}:\n",
       " -1.0           0.000595889  -4.8785e-5    …  -4.84256e-16   1.53703e-19\n",
       " -1.11282e-8   -1.64435e-5   -7.25104e-6       2.52265e-7   -4.98721e-12\n",
       " -3.11591e-11  -3.12262e-8    6.07341e-8      -3.6278e-5    -5.51285e-9 \n",
       " -4.93217e-7   -0.000450076   0.000112905     -4.2976e-9     4.85689e-13\n",
       " -0.000544889  -0.874739      0.484594         1.84764e-12  -2.60639e-16\n",
       " -0.00024609   -0.484594     -0.874739     …   3.21098e-13  -6.02047e-16\n",
       " -4.67963e-13  -1.09884e-9   -9.63041e-11     -0.0031321     5.80933e-8 \n",
       " -5.67538e-19  -6.94531e-16  -1.63013e-16     -7.23861e-5    1.0        \n",
       " -1.22514e-12  -5.32631e-10   5.38972e-10     -0.00137978   -5.61164e-7 \n",
       " -2.99742e-15  -1.32373e-12   4.34529e-12      0.999994      7.23883e-5 )"
      ]
     },
     "execution_count": 18,
     "metadata": {},
     "output_type": "execute_result"
    }
   ],
   "source": [
    "λ1,U1=eig(H)"
   ]
  },
  {
   "cell_type": "code",
   "execution_count": 19,
   "metadata": {
    "collapsed": false
   },
   "outputs": [
    {
     "data": {
      "text/plain": [
       "10x2 Array{Float64,2}:\n",
       "    3.00045e-19     3.00057e-19\n",
       "    3.21207e-10     3.21203e-10\n",
       "    1.55128e-5      1.55121e-5 \n",
       "    2.41645e-5      2.41626e-5 \n",
       "    0.0196132       0.0196122  \n",
       " 5758.22         5758.22       \n",
       "    9.29217e6       9.29217e6  \n",
       "    8.49444e12      8.49444e12 \n",
       "    2.51666e13      2.51666e13 \n",
       "    1.7046e20       1.7046e20  "
      ]
     },
     "execution_count": 19,
     "metadata": {},
     "output_type": "execute_result"
    }
   ],
   "source": [
    "[sort(λ) sort(λ1)]"
   ]
  },
  {
   "cell_type": "code",
   "execution_count": 20,
   "metadata": {
    "collapsed": false
   },
   "outputs": [
    {
     "data": {
      "text/plain": [
       "(BigFloat[1.704602886931538122856351185871238430256551219373736947824283237015803669631453e+20,5.758217122299126406461226239468433881216305268918285140353105574835239413630613e+03,1.961324093835752931604017185551867272983501811770942283461549914904304227267755e-02,9.292167610009090260662261143293723391679526727643864998618661439106457337905984e+06,2.516659278642745819680560300405046437683720299177722417291664324223142363007188e+13,8.494442473043527303655540002213016223940291479218051333055607432909364980257059e+12,1.551280568030533419322434899294658188958496114035252442188782028723514485502047e-05,3.000449942831141075570423457682782461166823182810430828100624400149373840306707e-19,2.416445203141586139525969140066794316781201716732667162342314187346897265019025e-05,3.212073835317911577788315892719004978421767334634959484617223468628611988765146e-10],\n",
       "10x10 Array{BigFloat,2}:\n",
       " 9.999998212678885557743832713966007372373812163851926291492249369904541548866298e-01  …  -4.843922866106665848602588907194714104694858917411927999507854428384835885202019e-16\n",
       " 1.112815090823393410531458308637509661235248724503474845905713611390092868664836e-08      2.522390721257992664729410135247005682538164801559376156191980217150109115722793e-07\n",
       " 3.115909627309810380779716391626884296927762505080774447935526063417266544813718e-11     -3.627158462616102869705404905107425498819478906148142035609616542841434723593316e-05\n",
       " 4.932172114464236092082703502913159212129759904410521624035786555738928864493836e-07     -4.297286386906250617418314989443578370183717971663610302913633819263979848833846e-09\n",
       " 5.448886474329050232869647377023619978333121071979227631723476390528209907905431e-04      1.847268339933344815502195293712367626790430091583705062953035450699687422736212e-12\n",
       " 2.460900433885298738788816736303036134701878598545976295621070938288962142582876e-04  …   3.216310457100699564974795952948295109808344155687758926907079796710846363833606e-13\n",
       " 4.679627151840760918928530268479756915021272595289877634864675650106655725282158e-13     -3.131998715237714002350126948637201899849312747329008313382737268467661957086902e-03\n",
       " 5.675382862269266323957070779936467665849838129550208023199296451906421639945426e-19     -7.238639535072800219916024676630010144754306499276218377211469499089006166929977e-05\n",
       " 1.225138301520120770501671069701115167900567536136729090038284675477412696089217e-12     -1.379703197379090438762523961702416020130289750988135719716023014899861065045768e-03\n",
       " 2.997420861084002762432563185557037856081962673467160424129896322082368447404322e-15      9.999941402066579935158117707591714895460513784582497991256328913613332555925579e-01)"
      ]
     },
     "execution_count": 20,
     "metadata": {},
     "output_type": "execute_result"
    }
   ],
   "source": [
    "# Check with BigFloat\n",
    "λ2,U2=myJacobi(map(BigFloat,H))"
   ]
  },
  {
   "cell_type": "code",
   "execution_count": 21,
   "metadata": {
    "collapsed": false
   },
   "outputs": [
    {
     "data": {
      "text/plain": [
       "10-element Array{BigFloat,1}:\n",
       " -3.999179931145441112702375974089419511298710550913244690217470891489332018129192e-14\n",
       " -2.306100765461286095081901666002979972306439586915259834290159435133537534470686e-15\n",
       " -2.253284861014899976751857483263722176432996190091471233673661381397945937285884e-15\n",
       " -1.998970492048416430045027175766613016378993370181437895279101368694365541505427e-14\n",
       " -3.982669614836893846312651647180995759458308334260618798595021499950504334863851e-15\n",
       " -2.536198724229273532807567562620040349893096007761613519969131798997053420308456e-15\n",
       "  5.244923428887690677137345100226672103928146045758583318276622090228122075604643e-16\n",
       " -3.496147003669947861156990725333293991158798653517648610859410537849789851807331e-16\n",
       " -1.040196208487708199373214190631126598117557991739115376316957831008931507892269e-15\n",
       " -2.654598629881955855775874571362378843782143927382395304004922771867755034629747e-16"
      ]
     },
     "execution_count": 21,
     "metadata": {},
     "output_type": "execute_result"
    }
   ],
   "source": [
    "# Relative error is eps()*cond(AS)\n",
    "(sort(λ2)-sort(λ))./sort(λ2)"
   ]
  },
  {
   "cell_type": "markdown",
   "metadata": {},
   "source": [
    "## Indefinite matrices\n",
    "\n",
    "### Definition\n",
    "\n",
    "__Spectral absolute value__ of the matrix $A$ is the matrix is $|A|_{spr}=(A^2)^{1/2}$ (positive definite part of the polar decomposition of $A$).\n",
    "\n",
    "### Facts\n",
    "\n",
    "1. The above perturbation bounds for positive definite matrices essentially hold with $A_S$ replaced by $[|A|_{spr}]_S$.\n",
    "\n",
    "2. Jacobi method can be modified to compute the EVD with small backward error \n",
    "$\\| \\Delta [|A|_{spr}]_S\\|_2$.\n",
    "\n",
    "The details of the indefinite case are beyond the scope of this course, and the reader should consider references."
   ]
  },
  {
   "cell_type": "code",
   "execution_count": null,
   "metadata": {
    "collapsed": true
   },
   "outputs": [],
   "source": []
  }
 ],
 "metadata": {
  "kernelspec": {
   "display_name": "Julia 0.4.5",
   "language": "julia",
   "name": "julia-0.4"
  },
  "language_info": {
   "file_extension": ".jl",
   "mimetype": "application/julia",
   "name": "julia",
   "version": "0.4.5"
  }
 },
 "nbformat": 4,
 "nbformat_minor": 0
}
