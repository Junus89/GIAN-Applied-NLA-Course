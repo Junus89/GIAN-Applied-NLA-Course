{
 "cells": [
  {
   "cell_type": "markdown",
   "metadata": {},
   "source": [
    "# Updating the SVD\n",
    "\n",
    "---\n",
    "\n",
    "In many applications which are based on the SVD, arrival of new data requires SVD of the new matrix. Instead of computing from scratch, existing SVD can be updated.\n",
    "\n",
    "## Prerequisites\n",
    "\n",
    "The reader should be familiar with concepts of singular values and singular vectors, related perturbation theory, and algorithms.\n",
    " \n",
    "## Competences \n",
    "\n",
    "The reader should be able to recognise applications where SVD updating can be sucessfully applied and apply it.\n",
    "\n",
    "---"
   ]
  },
  {
   "cell_type": "markdown",
   "metadata": {},
   "source": [
    "## Facts\n",
    "\n",
    "For more details see\n",
    "[M. Gu and S. C. Eisenstat, A Stable and Fast Algorithm for Updating the Singular Value Decomposition][GE93]\n",
    "and [M. Brand, Fast low-rank modifications of the thin singular value decomposition][Bra06]\n",
    "and the references therein.\n",
    "\n",
    "[GE93]: http://www.cs.yale.edu/publications/techreports/tr966.pdf \"M. Gu and S. C. Eisenstat, 'A Stable and Fast Algorithm for Updating the Singular Value Decomposition', Tech.report, Yale University, 1993.\"\n",
    "\n",
    "[Bra06]: http://www.sciencedirect.com/science/article/pii/S0024379505003812 \"M. Brand, 'Fast low-rank modifications of the thin singular value decomposition', Linear Algebra and its Appl, 415 (20-30) 2006.\"\n",
    "\n",
    "1. Let $A\\in\\mathbb{R}^{m\\times n}$ with $m\\geq n$ and $\\mathop{\\mathrm{rank}}(A)=n$, and  let $A=U\\Sigma V^T$ be its SVD.\n",
    "   Let $a\\in\\mathbb{R}^{n}$ be a vector, and let $\\tilde A=\\begin{bmatrix} A \\\\ a^T\\end{bmatrix}$. Then\n",
    "   $$\\begin{bmatrix} A \\\\ a^T\\end{bmatrix} =\\begin{bmatrix} U & \\\\ & 1 \\end{bmatrix} \n",
    "   \\begin{bmatrix} \\Sigma \\\\ a^TV \\end{bmatrix}  V^T.\n",
    "   $$\n",
    "   Let $\\begin{bmatrix} \\Sigma \\\\ a^T V \\end{bmatrix} = \\bar U \\bar \\Sigma \\bar V^T$ be the SVD of the half-arrowhead matrix. _This SVD can be computed in $O(n^2)$ operations._ Then \n",
    "   $$\\begin{bmatrix} A \\\\ a^T\\end{bmatrix} =\n",
    "   \\begin{bmatrix} U & \\\\ & 1 \\end{bmatrix} \\bar U \\bar\\Sigma \\bar V^T V^T \\equiv\n",
    "   \\tilde U \\bar \\Sigma \\tilde V^T\n",
    "   $$\n",
    "   is the SVD of $\\tilde A$. \n",
    "   \n",
    "2. Direct computation of $\\tilde U$ and $\\tilde V$ requires $O(mn^2)$ and $O(n^3)$ operations. However, these multiplications can be performed using Fast Multipole Method. This is not (yet) implemented in Julia and is \"not for the timid\" (quote by Steven G. Johnson).\n",
    "\n",
    "3. If $m<n$ and $\\mathop{\\mathrm{rank}}(A)=n$, then\n",
    "   $$\n",
    "   \\begin{bmatrix} A \\\\ a^T\\end{bmatrix} =\\begin{bmatrix} U & \\\\ & 1 \\end{bmatrix} \n",
    "   \\begin{bmatrix} \\Sigma & 0 \\\\ a^T V & \\beta\\end{bmatrix} \\begin{bmatrix} V^T \\\\ v^T \\end{bmatrix},\n",
    "   $$\n",
    "   where $\\beta=\\sqrt{\\|a\\|_2^2-\\|V^T a\\|_2^2}$ and $v=(I-VV^T)a$. Notice that $V^Tv=0$ by construction.\n",
    "   Let $\\begin{bmatrix} \\Sigma & 0 \\\\ a^T V &  \\beta\\end{bmatrix} = \\bar U \\bar \\Sigma \\bar V^T$ be the SVD of \n",
    "   the half-arrowhead matrix. Then \n",
    "   $$\\begin{bmatrix} A \\\\ a^T\\end{bmatrix} =\n",
    "   \\begin{bmatrix} U & \\\\ & 1 \\end{bmatrix} \\bar U \\bar\\Sigma \\bar V^T \\begin{bmatrix} V^T \\\\ v^T \\end{bmatrix}\n",
    "   \\equiv \\tilde U \\bar \\Sigma \\tilde V^T\n",
    "   $$\n",
    "   is the SVD of $\\tilde A$.\n",
    "   \n",
    "3. Adding a column $a$ to $A$ is equivalent to adding a row $a^T$ to $A^T$.\n",
    "\n",
    "3. If $\\mathop{\\mathrm{rank}}(A)<\\min\\{m,n\\}$ or if we are using SVD approximation of rank $r$, and if we want to keep the rank of the approximation (this is the common case in practice), then the formulas in Fact 1 hold approximately. More precisely, the updated rank $r$ approximation is __not__ what we would get by computing the approximation of rank $r$ of the updated matrix, but is sufficient in many applications. "
   ]
  },
  {
   "cell_type": "markdown",
   "metadata": {},
   "source": [
    "### Example - Adding row to a tall matrix\n",
    "\n",
    "If $m>=n$, adding row does not increase the size of $\\Sigma$."
   ]
  },
  {
   "cell_type": "code",
   "execution_count": 1,
   "metadata": {
    "collapsed": true
   },
   "outputs": [],
   "source": [
    "using Arrowhead"
   ]
  },
  {
   "cell_type": "code",
   "execution_count": 2,
   "metadata": {
    "collapsed": false
   },
   "outputs": [
    {
     "data": {
      "text/plain": [
       "mySVDaddrow (generic function with 1 method)"
      ]
     },
     "execution_count": 2,
     "metadata": {},
     "output_type": "execute_result"
    }
   ],
   "source": [
    "function mySVDaddrow{T}(svdA::Tuple,a::Vector{T})\n",
    "    # Create the transposed half-arrowhead\n",
    "    m,r,n=size(svdA[1],1),length(svdA[2]),size(svdA[3],1)\n",
    "    b=svdA[3]'*a\n",
    "    if m>=n || r<m\n",
    "        M=HalfArrow(svdA[2],b)\n",
    "    else\n",
    "        β=sqrt(vecnorm(a)^2-vecnorm(b)^2)\n",
    "        M=HalfArrow(svdA[2],[b;β])\n",
    "    end\n",
    "    tols=[1e2,1e2,1e2,1e2]\n",
    "    U,σ,V=svd(M,tols)\n",
    "    # Return the updated SVD\n",
    "    if m>=n || r<m\n",
    "        return [svdA[1] zeros(T,m); zeros(T,1,r) one(T)]*V, σ, svdA[3]*U\n",
    "    else\n",
    "        # Need one more row of svdA[3] - v is orthogonal projection\n",
    "        v=a-svdA[3]*b\n",
    "        v=v/norm(v)\n",
    "        return [svdA[1] zeros(T,m); zeros(T,1,r) one(T)]*V, σ, [svdA[3] v]*U\n",
    "    end\n",
    "end"
   ]
  },
  {
   "cell_type": "code",
   "execution_count": 3,
   "metadata": {
    "collapsed": false,
    "scrolled": true
   },
   "outputs": [
    {
     "data": {
      "text/plain": [
       "6-element Array{Float64,1}:\n",
       " 0.85332 \n",
       " 0.903412\n",
       " 0.827819\n",
       " 0.408869\n",
       " 0.583093\n",
       " 0.736354"
      ]
     },
     "execution_count": 3,
     "metadata": {},
     "output_type": "execute_result"
    }
   ],
   "source": [
    "A=rand(10,6)\n",
    "a=rand(6)"
   ]
  },
  {
   "cell_type": "code",
   "execution_count": 4,
   "metadata": {
    "collapsed": false
   },
   "outputs": [
    {
     "data": {
      "text/plain": [
       "(\n",
       "[-0.285378 0.16357 … 0.199572 0.276073; -0.300254 0.248522 … -0.381776 -0.0350621; … ; -0.429127 -0.0207417 … -0.182095 0.000543409; -0.349413 0.41547 … 0.349614 0.15118],\n",
       "\n",
       "[3.47339,1.24835,1.07237,0.706608,0.627259,0.200231],\n",
       "[-0.348914 0.301398 … 0.512509 -0.62273; -0.391877 -0.230145 … 0.396827 0.0286701; … ; -0.511098 0.475454 … -0.193685 0.164429; -0.483959 -0.389085 … -0.652782 -0.39171])"
      ]
     },
     "execution_count": 4,
     "metadata": {},
     "output_type": "execute_result"
    }
   ],
   "source": [
    "svdA=svd(A)"
   ]
  },
  {
   "cell_type": "code",
   "execution_count": 5,
   "metadata": {
    "collapsed": false
   },
   "outputs": [
    {
     "data": {
      "text/plain": [
       "Tuple{Array{Float64,2},Array{Float64,1},Array{Float64,2}}"
      ]
     },
     "execution_count": 5,
     "metadata": {},
     "output_type": "execute_result"
    }
   ],
   "source": [
    "typeof(svdA)"
   ]
  },
  {
   "cell_type": "code",
   "execution_count": 6,
   "metadata": {
    "collapsed": false
   },
   "outputs": [
    {
     "data": {
      "text/plain": [
       "(\n",
       "[-0.255632 0.160349 … -0.337601 0.336241; -0.263237 0.277911 … 0.558511 -0.0681366; … ; -0.309791 0.4366 … 0.130764 0.257087; -0.454025 -0.156387 … -0.188337 -0.314866],\n",
       "\n",
       "[3.89136,1.26562,1.07855,0.73691,0.696342,0.221121],\n",
       "[-0.377134 0.252546 … -0.464391 -0.577474; -0.417981 -0.232042 … 0.330988 0.0741107; … ; -0.472015 0.542261 … -0.179912 0.138866; -0.471308 -0.344215 … 0.459776 -0.433116])"
      ]
     },
     "execution_count": 6,
     "metadata": {},
     "output_type": "execute_result"
    }
   ],
   "source": [
    "U,σ,V=mySVDaddrow(svdA,a)"
   ]
  },
  {
   "cell_type": "code",
   "execution_count": 7,
   "metadata": {
    "collapsed": false
   },
   "outputs": [
    {
     "data": {
      "text/plain": [
       "(2.4963221545544757e-15,1.5385509384231767e-15,1.4023654896907511e-15)"
      ]
     },
     "execution_count": 7,
     "metadata": {},
     "output_type": "execute_result"
    }
   ],
   "source": [
    "# Check the residual and orthogonality\n",
    "norm([A;a']*V-U*diagm(σ)), norm(U'*U-I), norm(V'*V-I)"
   ]
  },
  {
   "cell_type": "markdown",
   "metadata": {},
   "source": [
    "### Example - Adding row to a flat matrix"
   ]
  },
  {
   "cell_type": "code",
   "execution_count": 8,
   "metadata": {
    "collapsed": false
   },
   "outputs": [
    {
     "data": {
      "text/plain": [
       "(\n",
       "[-0.316032 -0.813425 … -0.20229 0.111578; -0.338335 0.100809 … 0.599685 0.50262; … ; -0.332441 -0.159702 … -0.370551 0.287277; -0.366914 -0.142901 … 0.558991 -0.169037],\n",
       "\n",
       "[3.90411,1.42263,0.989402,0.701988,0.512857,0.254624],\n",
       "[-0.322587 0.174371 … -0.439598 0.063015; -0.395624 0.0938582 … -0.273813 -0.487974; … ; -0.387256 0.232612 … 0.682705 0.106128; -0.300052 -0.39502 … -0.00377504 -0.143848])"
      ]
     },
     "execution_count": 8,
     "metadata": {},
     "output_type": "execute_result"
    }
   ],
   "source": [
    "# Now flat matrix\n",
    "A=rand(6,10)\n",
    "a=rand(10)\n",
    "svdA=svd(A)"
   ]
  },
  {
   "cell_type": "code",
   "execution_count": 9,
   "metadata": {
    "collapsed": false
   },
   "outputs": [
    {
     "data": {
      "text/plain": [
       "(2.3074104782530735e-15,1.709420891407407e-15,1.6488268397277191e-15)"
      ]
     },
     "execution_count": 9,
     "metadata": {},
     "output_type": "execute_result"
    }
   ],
   "source": [
    "U,σ,V=mySVDaddrow(svdA,a)\n",
    "norm([A;a']*V-U*diagm(σ)), norm(U'*U-I), norm(V'*V-I)"
   ]
  },
  {
   "cell_type": "markdown",
   "metadata": {},
   "source": [
    "### Example - Adding columns\n",
    "\n",
    "This can be viewed as adding rows to the transposed matrix, an elegant one-liner in Julia."
   ]
  },
  {
   "cell_type": "code",
   "execution_count": 10,
   "metadata": {
    "collapsed": false
   },
   "outputs": [
    {
     "data": {
      "text/plain": [
       "mySVDaddcol (generic function with 1 method)"
      ]
     },
     "execution_count": 10,
     "metadata": {},
     "output_type": "execute_result"
    }
   ],
   "source": [
    "function mySVDaddcol{T}(svdA::Tuple,a::Vector{T})\n",
    "    reverse(mySVDaddrow(reverse(svdA),a))\n",
    "end "
   ]
  },
  {
   "cell_type": "code",
   "execution_count": 11,
   "metadata": {
    "collapsed": false
   },
   "outputs": [
    {
     "data": {
      "text/plain": [
       "(5.3190732135377304e-15,7.390458116569099e-15,9.513145304928979e-16)"
      ]
     },
     "execution_count": 11,
     "metadata": {},
     "output_type": "execute_result"
    }
   ],
   "source": [
    "# Tall matrix\n",
    "A=rand(10,6)\n",
    "a=rand(10)\n",
    "svdA=svd(A)\n",
    "U,σ,V=mySVDaddcol(svdA,a)\n",
    "norm([A a]*V-U*diagm(σ)), norm(U'*U-I), norm(V'*V-I)"
   ]
  },
  {
   "cell_type": "code",
   "execution_count": 12,
   "metadata": {
    "collapsed": false
   },
   "outputs": [
    {
     "data": {
      "text/plain": [
       "(1.2967084780045917e-15,1.5141032328978982e-15,1.407905031422773e-15)"
      ]
     },
     "execution_count": 12,
     "metadata": {},
     "output_type": "execute_result"
    }
   ],
   "source": [
    "# Flat matrix\n",
    "A=rand(6,10)\n",
    "a=rand(6)\n",
    "svdA=svd(A)\n",
    "U,σ,V=mySVDaddcol(svdA,a)\n",
    "norm([A a]*V-U*diagm(σ)), norm(U'*U-I), norm(V'*V-I)"
   ]
  },
  {
   "cell_type": "code",
   "execution_count": 13,
   "metadata": {
    "collapsed": false
   },
   "outputs": [],
   "source": [
    "# Square matrix\n",
    "A=rand(10,10)\n",
    "a=rand(10);\n",
    "svdA=svd(A);"
   ]
  },
  {
   "cell_type": "code",
   "execution_count": 14,
   "metadata": {
    "collapsed": false
   },
   "outputs": [
    {
     "name": "stdout",
     "output_type": "stream",
     "text": [
      "Remedy 3 \n"
     ]
    },
    {
     "data": {
      "text/plain": [
       "(2.5542172008400272e-14,1.841965491224396e-15,1.1950750703510105e-15)"
      ]
     },
     "execution_count": 14,
     "metadata": {},
     "output_type": "execute_result"
    }
   ],
   "source": [
    "U,σ,V=mySVDaddrow(svdA,a)\n",
    "norm([A;a']*V-U*diagm(σ)), norm(U'*U-I), norm(V'*V-I)"
   ]
  },
  {
   "cell_type": "code",
   "execution_count": 15,
   "metadata": {
    "collapsed": false
   },
   "outputs": [
    {
     "data": {
      "text/plain": [
       "(2.5588376140842295e-14,1.8808117490108662e-15,1.103971768414233e-15)"
      ]
     },
     "execution_count": 15,
     "metadata": {},
     "output_type": "execute_result"
    }
   ],
   "source": [
    "U,σ,V=mySVDaddcol(svdA,a)\n",
    "norm([A a]*V-U*diagm(σ)), norm(U'*U-I), norm(V'*V-I)"
   ]
  },
  {
   "cell_type": "markdown",
   "metadata": {
    "collapsed": true
   },
   "source": [
    "### Example - Updating a low rank approximation\n"
   ]
  },
  {
   "cell_type": "code",
   "execution_count": 16,
   "metadata": {
    "collapsed": false
   },
   "outputs": [
    {
     "data": {
      "text/plain": [
       "4"
      ]
     },
     "execution_count": 16,
     "metadata": {},
     "output_type": "execute_result"
    }
   ],
   "source": [
    "# Adding row to a tall matrix\n",
    "A=rand(10,6)\n",
    "svdA=svd(A)\n",
    "a=rand(6)\n",
    "# Rank of the approximation\n",
    "r=4"
   ]
  },
  {
   "cell_type": "code",
   "execution_count": 17,
   "metadata": {
    "collapsed": false
   },
   "outputs": [
    {
     "data": {
      "text/plain": [
       "(0.7562770594874182,[4.38054,1.43714,1.3023,0.748024,0.742989,0.472363],[4.38033,1.43174,1.30226,0.74412])"
      ]
     },
     "execution_count": 17,
     "metadata": {},
     "output_type": "execute_result"
    }
   ],
   "source": [
    "svdAr=(svdA[1][:,1:r], svdA[2][1:r],svdA[3][:,1:r])\n",
    "U,σ,V=mySVDaddrow(svdAr,a)\n",
    "norm([A;a']-U*diagm(σ)*V'), svdvals([A;a']), σ"
   ]
  },
  {
   "cell_type": "code",
   "execution_count": 18,
   "metadata": {
    "collapsed": false
   },
   "outputs": [
    {
     "data": {
      "text/plain": [
       "4"
      ]
     },
     "execution_count": 18,
     "metadata": {},
     "output_type": "execute_result"
    }
   ],
   "source": [
    "# Adding row to a flat matrix\n",
    "A=rand(6,10)\n",
    "svdA=svd(A)\n",
    "a=rand(10)\n",
    "# Rank of the approximation\n",
    "r=4"
   ]
  },
  {
   "cell_type": "code",
   "execution_count": 19,
   "metadata": {
    "collapsed": false
   },
   "outputs": [
    {
     "data": {
      "text/plain": [
       "(0.8953845533124976,[4.20618,1.18811,0.951222,0.823968,0.626708,0.418073,0.18691],[4.1928,1.17104,0.937317,0.667047])"
      ]
     },
     "execution_count": 19,
     "metadata": {},
     "output_type": "execute_result"
    }
   ],
   "source": [
    "svdAr=(svdA[1][:,1:r], svdA[2][1:r],svdA[3][:,1:r])\n",
    "U,σ,V=mySVDaddrow(svdAr,a)\n",
    "norm([A;a']-U*diagm(σ)*V'), svdvals([A;a']), σ"
   ]
  },
  {
   "cell_type": "code",
   "execution_count": null,
   "metadata": {
    "collapsed": true
   },
   "outputs": [],
   "source": []
  }
 ],
 "metadata": {
  "anaconda-cloud": {},
  "kernelspec": {
   "display_name": "Julia 0.5.1",
   "language": "julia",
   "name": "julia-0.5"
  },
  "language_info": {
   "file_extension": ".jl",
   "mimetype": "application/julia",
   "name": "julia",
   "version": "0.5.1"
  }
 },
 "nbformat": 4,
 "nbformat_minor": 0
}
