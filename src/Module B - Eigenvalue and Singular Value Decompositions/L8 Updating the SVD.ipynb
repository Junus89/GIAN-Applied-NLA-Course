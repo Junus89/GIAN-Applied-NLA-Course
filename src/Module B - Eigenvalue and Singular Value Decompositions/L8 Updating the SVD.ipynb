{
 "cells": [
  {
   "cell_type": "markdown",
   "metadata": {},
   "source": [
    "# Updating the SVD\n",
    "\n",
    "---\n",
    "\n",
    "In many applications which are based on the SVD, arrival of new data requires SVD of the new matrix. Instead of computing from scratch, existing SVD can be updated.\n",
    "\n",
    "## Prerequisites\n",
    "\n",
    "The reader should be familiar with concepts of singular values and singular vectors, related perturbation theory, and algorithms.\n",
    " \n",
    "## Competences \n",
    "\n",
    "The reader should be able to recognise applications where SVD updating can be sucessfully applied and apply it.\n",
    "\n",
    "---"
   ]
  },
  {
   "cell_type": "markdown",
   "metadata": {},
   "source": [
    "## Facts\n",
    "\n",
    "For more details see\n",
    "[M. Gu and S. C. Eisenstat, A Stable and Fast Algorithm for Updating the Singular Value Decomposition][GE93]\n",
    "and [M. Brand, Fast low-rank modifications of the thin singular value decomposition][Bra06]\n",
    "and the references therein.\n",
    "\n",
    "[GE93]: http://www.cs.yale.edu/publications/techreports/tr966.pdf \"M. Gu and S. C. Eisenstat, 'A Stable and Fast Algorithm for Updating the Singular Value Decomposition', Tech.report, Yale University, 1993.\"\n",
    "\n",
    "[Bra06]: http://www.sciencedirect.com/science/article/pii/S0024379505003812 \"M. Brand, 'Fast low-rank modifications of the thin singular value decomposition', Linear Algebra and its Appl, 415 (20-30) 2006.\"\n",
    "\n",
    "1. Let $A\\in\\mathbb{R}^{m\\times n}$ with $m\\geq n$ and $\\mathop{\\mathrm{rank}}(A)=n$, and  let $A=U\\Sigma V^T$ be its SVD.\n",
    "   Let $a\\in\\mathbb{R}^{n}$ be a vector, and let $\\tilde A=\\begin{bmatrix} A \\\\ a^T\\end{bmatrix}$. Then\n",
    "   $$\\begin{bmatrix} A \\\\ a^T\\end{bmatrix} =\\begin{bmatrix} U & \\\\ & 1 \\end{bmatrix} \n",
    "   \\begin{bmatrix} \\Sigma \\\\ a^TV \\end{bmatrix}  V^T.\n",
    "   $$\n",
    "   Let $\\begin{bmatrix} \\Sigma \\\\ a^T V \\end{bmatrix} = \\bar U \\bar \\Sigma \\bar V^T$ be the SVD of the half-arrowhead matrix. _This SVD can be computed in $O(n^2)$ operations._ Then \n",
    "   $$\\begin{bmatrix} A \\\\ a^T\\end{bmatrix} =\n",
    "   \\begin{bmatrix} U & \\\\ & 1 \\end{bmatrix} \\bar U \\bar\\Sigma \\bar V^T V^T \\equiv\n",
    "   \\tilde U \\bar \\Sigma \\tilde V^T\n",
    "   $$\n",
    "   is the SVD of $\\tilde A$. \n",
    "   \n",
    "2. Direct computation of $\\tilde U$ and $\\tilde V$ requires $O(mn^2)$ and $O(n^3)$ operations. However, these multiplications can be performed using Fast Multipole Method. This is not (yet) implemented in Julia and is \"not for the timid\" (quote by Steven G. Johnson).\n",
    "\n",
    "3. If $m<n$ and $\\mathop{\\mathrm{rank}}(A)=n$, then\n",
    "   $$\n",
    "   \\begin{bmatrix} A \\\\ a^T\\end{bmatrix} =\\begin{bmatrix} U & \\\\ & 1 \\end{bmatrix} \n",
    "   \\begin{bmatrix} \\Sigma & 0 \\\\ a^T V & \\beta\\end{bmatrix} \\begin{bmatrix} V^T \\\\ v^T \\end{bmatrix},\n",
    "   $$\n",
    "   where $\\beta=\\sqrt{\\|a\\|_2^2-\\|V^T a\\|_2^2}$ and $v=(I-VV^T)a$. Notice that $V^Tv=0$ by construction.\n",
    "   Let $\\begin{bmatrix} \\Sigma & 0 \\\\ a^T V &  \\beta\\end{bmatrix} = \\bar U \\bar \\Sigma \\bar V^T$ be the SVD of \n",
    "   the half-arrowhead matrix. Then \n",
    "   $$\\begin{bmatrix} A \\\\ a^T\\end{bmatrix} =\n",
    "   \\begin{bmatrix} U & \\\\ & 1 \\end{bmatrix} \\bar U \\bar\\Sigma \\bar V^T \\begin{bmatrix} V^T \\\\ v^T \\end{bmatrix}\n",
    "   \\equiv \\tilde U \\bar \\Sigma \\tilde V^T\n",
    "   $$\n",
    "   is the SVD of $\\tilde A$.\n",
    "   \n",
    "3. Adding a column $a$ to $A$ is equivalent to adding a row $a^T$ to $A^T$.\n",
    "\n",
    "3. If $\\mathop{\\mathrm{rank}}(A)<\\min\\{m,n\\}$ or if we are using SVD approximation of rank $r$, and if we want to keep the rank of the approximation (this is the common case in practice), then the formulas in Fact 1 hold approximately. More precisely, the updated rank $r$ approximation is __not__ what we would get by computing the approximation of rank $r$ of the updated matrix, but is sufficient in many applications. "
   ]
  },
  {
   "cell_type": "markdown",
   "metadata": {},
   "source": [
    "### Example - Adding row to a tall matrix\n",
    "\n",
    "If $m>=n$, adding row does not increase the size of $\\Sigma$."
   ]
  },
  {
   "cell_type": "code",
   "execution_count": 1,
   "metadata": {
    "collapsed": true
   },
   "outputs": [],
   "source": [
    "using Arrowhead"
   ]
  },
  {
   "cell_type": "code",
   "execution_count": 2,
   "metadata": {
    "collapsed": false
   },
   "outputs": [
    {
     "data": {
      "text/plain": [
       "mySVDaddrow (generic function with 1 method)"
      ]
     },
     "execution_count": 2,
     "metadata": {},
     "output_type": "execute_result"
    }
   ],
   "source": [
    "function mySVDaddrow{T}(svdA::Tuple,a::Vector{T})\n",
    "    # Create the transposed half-arrowhead\n",
    "    m,r,n=size(svdA[1],1),length(svdA[2]),size(svdA[3],1)\n",
    "    b=svdA[3]'*a\n",
    "    if m>=n || r<m\n",
    "        M=HalfArrow(svdA[2],b)\n",
    "    else\n",
    "        β=sqrt(vecnorm(a)^2-vecnorm(b)^2)\n",
    "        M=HalfArrow(svdA[2],[b;β])\n",
    "    end\n",
    "    tols=[1e2,1e2,1e2,1e2]\n",
    "    U,σ,V=svd(M,tols)\n",
    "    # Return the updated SVD\n",
    "    if m>=n || r<m\n",
    "        return [svdA[1] zeros(T,m); zeros(T,1,r) one(T)]*V, σ, svdA[3]*U\n",
    "    else\n",
    "        # Need one more row of svdA[3] - v is orthogonal projection\n",
    "        v=a-svdA[3]*b\n",
    "        v=v/norm(v)\n",
    "        return [svdA[1] zeros(T,m); zeros(T,1,r) one(T)]*V, σ, [svdA[3] v]*U\n",
    "    end\n",
    "end"
   ]
  },
  {
   "cell_type": "code",
   "execution_count": 3,
   "metadata": {
    "collapsed": false,
    "scrolled": true
   },
   "outputs": [
    {
     "data": {
      "text/plain": [
       "6-element Array{Float64,1}:\n",
       " 0.00974734\n",
       " 0.317398  \n",
       " 0.0364821 \n",
       " 0.372837  \n",
       " 0.269291  \n",
       " 0.798855  "
      ]
     },
     "execution_count": 3,
     "metadata": {},
     "output_type": "execute_result"
    }
   ],
   "source": [
    "A=rand(10,6)\n",
    "a=rand(6)"
   ]
  },
  {
   "cell_type": "code",
   "execution_count": 4,
   "metadata": {
    "collapsed": false
   },
   "outputs": [
    {
     "data": {
      "text/plain": [
       "(\n",
       "[-0.297815 -0.375132 … -0.417715 0.569589; -0.330464 0.326842 … -0.135102 -0.112997; … ; -0.369931 -0.417202 … 0.340163 0.122; -0.186689 0.178731 … 0.665139 0.493761],\n",
       "\n",
       "[4.08794,1.21578,1.14914,0.867703,0.698743,0.476594],\n",
       "[-0.437489 0.0968342 … -0.0993064 -0.601206; -0.318728 -0.673347 … 0.661561 0.0681239; … ; -0.344374 0.666724 … 0.499734 0.13083; -0.41221 0.105243 … -0.177075 0.698884])"
      ]
     },
     "execution_count": 4,
     "metadata": {},
     "output_type": "execute_result"
    }
   ],
   "source": [
    "svdA=svd(A)"
   ]
  },
  {
   "cell_type": "code",
   "execution_count": 5,
   "metadata": {
    "collapsed": false
   },
   "outputs": [
    {
     "data": {
      "text/plain": [
       "Tuple{Array{Float64,2},Array{Float64,1},Array{Float64,2}}"
      ]
     },
     "execution_count": 5,
     "metadata": {},
     "output_type": "execute_result"
    }
   ],
   "source": [
    "typeof(svdA)"
   ]
  },
  {
   "cell_type": "code",
   "execution_count": 6,
   "metadata": {
    "collapsed": false
   },
   "outputs": [
    {
     "name": "stdout",
     "output_type": "stream",
     "text": [
      "Remedy 3 \n"
     ]
    },
    {
     "data": {
      "text/plain": [
       "(\n",
       "[-0.29467 -0.379224 … -0.279361 -0.445403; -0.323916 0.340261 … 0.0960956 -0.127276; … ; -0.184414 0.186134 … -0.435461 0.631594; -0.184376 -0.048331 … -0.729542 -0.0501926],\n",
       "\n",
       "[4.15763,1.21671,1.15667,0.874184,0.757578,0.698422],\n",
       "[-0.423198 0.0913728 … 0.608335 -0.0480599; -0.322243 -0.675542 … -0.0995015 0.655065; … ; -0.344539 0.674899 … -0.26025 0.482996; -0.434232 0.0663593 … -0.559475 -0.228605])"
      ]
     },
     "execution_count": 6,
     "metadata": {},
     "output_type": "execute_result"
    }
   ],
   "source": [
    "U,σ,V=mySVDaddrow(svdA,a)"
   ]
  },
  {
   "cell_type": "code",
   "execution_count": 7,
   "metadata": {
    "collapsed": false
   },
   "outputs": [
    {
     "data": {
      "text/plain": [
       "(1.8894489268057245e-15,9.695165926855932e-16,1.3931207765288609e-15)"
      ]
     },
     "execution_count": 7,
     "metadata": {},
     "output_type": "execute_result"
    }
   ],
   "source": [
    "# Check the residual and orthogonality\n",
    "norm([A;a']*V-U*diagm(σ)), norm(U'*U-I), norm(V'*V-I)"
   ]
  },
  {
   "cell_type": "markdown",
   "metadata": {},
   "source": [
    "### Example - Adding row to a flat matrix"
   ]
  },
  {
   "cell_type": "code",
   "execution_count": 8,
   "metadata": {
    "collapsed": false
   },
   "outputs": [
    {
     "data": {
      "text/plain": [
       "(\n",
       "[-0.472629 -0.235703 … -0.613148 0.374261; -0.306033 -0.693233 … 0.390215 -0.240224; … ; -0.392951 0.43789 … 0.273343 0.538759; -0.382543 0.509278 … 0.123266 -0.568327],\n",
       "\n",
       "[4.09851,1.2037,1.06981,0.853926,0.764236,0.367927],\n",
       "[-0.366563 0.35742 … -0.109813 0.204003; -0.326924 0.416155 … -0.0737274 -0.332693; … ; -0.281541 -0.289135 … 0.154429 -0.149111; -0.23192 -0.189867 … 0.475782 0.246146])"
      ]
     },
     "execution_count": 8,
     "metadata": {},
     "output_type": "execute_result"
    }
   ],
   "source": [
    "# Now flat matrix\n",
    "A=rand(6,10)\n",
    "a=rand(10)\n",
    "svdA=svd(A)"
   ]
  },
  {
   "cell_type": "code",
   "execution_count": 9,
   "metadata": {
    "collapsed": false
   },
   "outputs": [
    {
     "data": {
      "text/plain": [
       "(2.046352241566695e-14,1.5037343132422024e-15,1.2585675962318527e-15)"
      ]
     },
     "execution_count": 9,
     "metadata": {},
     "output_type": "execute_result"
    }
   ],
   "source": [
    "U,σ,V=mySVDaddrow(svdA,a)\n",
    "norm([A;a']*V-U*diagm(σ)), norm(U'*U-I), norm(V'*V-I)"
   ]
  },
  {
   "cell_type": "markdown",
   "metadata": {},
   "source": [
    "### Example - Adding columns\n",
    "\n",
    "This can be viewed as adding rows to the transposed matrix, an elegant one-liner in Julia."
   ]
  },
  {
   "cell_type": "code",
   "execution_count": 10,
   "metadata": {
    "collapsed": false
   },
   "outputs": [
    {
     "data": {
      "text/plain": [
       "mySVDaddcol (generic function with 1 method)"
      ]
     },
     "execution_count": 10,
     "metadata": {},
     "output_type": "execute_result"
    }
   ],
   "source": [
    "function mySVDaddcol{T}(svdA::Tuple,a::Vector{T})\n",
    "    reverse(mySVDaddrow(reverse(svdA),a))\n",
    "end "
   ]
  },
  {
   "cell_type": "code",
   "execution_count": 11,
   "metadata": {
    "collapsed": false
   },
   "outputs": [
    {
     "data": {
      "text/plain": [
       "(1.6025018700859276e-15,6.715088528880365e-15,1.9253181243819344e-15)"
      ]
     },
     "execution_count": 11,
     "metadata": {},
     "output_type": "execute_result"
    }
   ],
   "source": [
    "# Tall matrix\n",
    "A=rand(10,6)\n",
    "a=rand(10)\n",
    "svdA=svd(A)\n",
    "U,σ,V=mySVDaddcol(svdA,a)\n",
    "norm([A a]*V-U*diagm(σ)), norm(U'*U-I), norm(V'*V-I)"
   ]
  },
  {
   "cell_type": "code",
   "execution_count": 12,
   "metadata": {
    "collapsed": false
   },
   "outputs": [
    {
     "data": {
      "text/plain": [
       "(1.8549040443514024e-15,8.826013242280194e-16,1.2075260880394839e-15)"
      ]
     },
     "execution_count": 12,
     "metadata": {},
     "output_type": "execute_result"
    }
   ],
   "source": [
    "# Flat matrix\n",
    "A=rand(6,10)\n",
    "a=rand(6)\n",
    "svdA=svd(A)\n",
    "U,σ,V=mySVDaddcol(svdA,a)\n",
    "norm([A a]*V-U*diagm(σ)), norm(U'*U-I), norm(V'*V-I)"
   ]
  },
  {
   "cell_type": "code",
   "execution_count": 13,
   "metadata": {
    "collapsed": false
   },
   "outputs": [],
   "source": [
    "# Square matrix\n",
    "A=rand(10,10)\n",
    "a=rand(10);\n",
    "svdA=svd(A);"
   ]
  },
  {
   "cell_type": "code",
   "execution_count": 14,
   "metadata": {
    "collapsed": false
   },
   "outputs": [
    {
     "data": {
      "text/plain": [
       "(9.10725749031954e-15,1.790404539287269e-15,1.7572149809141083e-15)"
      ]
     },
     "execution_count": 14,
     "metadata": {},
     "output_type": "execute_result"
    }
   ],
   "source": [
    "U,σ,V=mySVDaddrow(svdA,a)\n",
    "norm([A;a']*V-U*diagm(σ)), norm(U'*U-I), norm(V'*V-I)"
   ]
  },
  {
   "cell_type": "code",
   "execution_count": 15,
   "metadata": {
    "collapsed": false
   },
   "outputs": [
    {
     "name": "stdout",
     "output_type": "stream",
     "text": [
      "Remedy 3 \n"
     ]
    },
    {
     "data": {
      "text/plain": [
       "(9.291893491473034e-15,1.439029309831976e-15,1.632411162262733e-15)"
      ]
     },
     "execution_count": 15,
     "metadata": {},
     "output_type": "execute_result"
    }
   ],
   "source": [
    "U,σ,V=mySVDaddcol(svdA,a)\n",
    "norm([A a]*V-U*diagm(σ)), norm(U'*U-I), norm(V'*V-I)"
   ]
  },
  {
   "cell_type": "markdown",
   "metadata": {
    "collapsed": true
   },
   "source": [
    "### Example - Updating a low rank approximation\n"
   ]
  },
  {
   "cell_type": "code",
   "execution_count": 16,
   "metadata": {
    "collapsed": false
   },
   "outputs": [
    {
     "data": {
      "text/plain": [
       "4"
      ]
     },
     "execution_count": 16,
     "metadata": {},
     "output_type": "execute_result"
    }
   ],
   "source": [
    "# Adding row to a tall matrix\n",
    "A=rand(10,6)\n",
    "svdA=svd(A)\n",
    "a=rand(6)\n",
    "# Rank of the approximation\n",
    "r=4"
   ]
  },
  {
   "cell_type": "code",
   "execution_count": 17,
   "metadata": {
    "collapsed": false
   },
   "outputs": [
    {
     "data": {
      "text/plain": [
       "(0.6600073111821658,[4.71192,1.4163,1.11822,0.700675,0.651378,0.271346],[4.71096,1.41576,1.11774,0.700578])"
      ]
     },
     "execution_count": 17,
     "metadata": {},
     "output_type": "execute_result"
    }
   ],
   "source": [
    "svdAr=(svdA[1][:,1:r], svdA[2][1:r],svdA[3][:,1:r])\n",
    "U,σ,V=mySVDaddrow(svdAr,a)\n",
    "norm([A;a']-U*diagm(σ)*V'), svdvals([A;a']), σ"
   ]
  },
  {
   "cell_type": "code",
   "execution_count": 18,
   "metadata": {
    "collapsed": false
   },
   "outputs": [
    {
     "data": {
      "text/plain": [
       "4"
      ]
     },
     "execution_count": 18,
     "metadata": {},
     "output_type": "execute_result"
    }
   ],
   "source": [
    "# Adding row to a flat matrix\n",
    "A=rand(6,10)\n",
    "svdA=svd(A)\n",
    "a=rand(10)\n",
    "# Rank of the approximation\n",
    "r=4"
   ]
  },
  {
   "cell_type": "code",
   "execution_count": 19,
   "metadata": {
    "collapsed": false
   },
   "outputs": [
    {
     "data": {
      "text/plain": [
       "(0.8411846014870148,[4.1918,1.3001,1.00868,0.675576,0.595288,0.499218,0.228495],[4.17065,1.29993,0.96634,0.600488])"
      ]
     },
     "execution_count": 19,
     "metadata": {},
     "output_type": "execute_result"
    }
   ],
   "source": [
    "svdAr=(svdA[1][:,1:r], svdA[2][1:r],svdA[3][:,1:r])\n",
    "U,σ,V=mySVDaddrow(svdAr,a)\n",
    "norm([A;a']-U*diagm(σ)*V'), svdvals([A;a']), σ"
   ]
  },
  {
   "cell_type": "code",
   "execution_count": null,
   "metadata": {
    "collapsed": true
   },
   "outputs": [],
   "source": []
  }
 ],
 "metadata": {
  "anaconda-cloud": {},
  "kernelspec": {
   "display_name": "Julia 0.5.1",
   "language": "julia",
   "name": "julia-0.5"
  },
  "language_info": {
   "file_extension": ".jl",
   "mimetype": "application/julia",
   "name": "julia",
   "version": "0.5.1"
  }
 },
 "nbformat": 4,
 "nbformat_minor": 0
}
