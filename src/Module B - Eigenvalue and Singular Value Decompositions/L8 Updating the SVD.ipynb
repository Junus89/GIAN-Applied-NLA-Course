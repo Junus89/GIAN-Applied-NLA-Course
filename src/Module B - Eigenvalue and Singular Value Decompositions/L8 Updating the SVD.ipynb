{
 "cells": [
  {
   "cell_type": "markdown",
   "metadata": {},
   "source": [
    "# Updating the SVD\n",
    "\n",
    "---\n",
    "\n",
    "In many applications which are based on the SVD, arrival of new data requires SVD of the new matrix. Instead of computing from scratch, existing SVD can be updated.\n",
    "\n",
    "## Prerequisites\n",
    "\n",
    "The reader should be familiar with concepts of singular values and singular vectors, related perturbation theory, and algorithms.\n",
    " \n",
    "## Competences \n",
    "\n",
    "The reader should be able to recognise applications where SVD updating can be sucessfully applied and apply it.\n",
    "\n",
    "---"
   ]
  },
  {
   "cell_type": "markdown",
   "metadata": {},
   "source": [
    "## Facts\n",
    "\n",
    "For more details see\n",
    "[M. Gu and S. C. Eisenstat, A Stable and Fast Algorithm for Updating the Singular Value Decomposition][GE93]\n",
    "and [M. Brand, Fast low-rank modifications of the thin singular value decomposition][Bra06]\n",
    "and the references therein.\n",
    "\n",
    "[GE93]: http://www.cs.yale.edu/publications/techreports/tr966.pdf \"M. Gu and S. C. Eisenstat, 'A Stable and Fast Algorithm for Updating the Singular Value Decomposition', Tech.report, Yale University, 1993.\"\n",
    "\n",
    "[Bra06]: http://www.sciencedirect.com/science/article/pii/S0024379505003812 \"M. Brand, 'Fast low-rank modifications of the thin singular value decomposition', Linear Algebra and its Appl, 415 (20-30) 2006.\"\n",
    "\n",
    "1. Let $A\\in\\mathbb{R}^{m\\times n}$ with $m\\geq n$ and $\\mathop{\\mathrm{rank}}(A)=n$, and  let $A=U\\Sigma V^T$ be its SVD.\n",
    "   Let $a\\in\\mathbb{R}^{n}$ be a vector, and let $\\tilde A=\\begin{bmatrix} A \\\\ a^T\\end{bmatrix}$. Then\n",
    "   $$\\begin{bmatrix} A \\\\ a^T\\end{bmatrix} =\\begin{bmatrix} U & \\\\ & 1 \\end{bmatrix} \n",
    "   \\begin{bmatrix} \\Sigma \\\\ a^TV \\end{bmatrix}  V^T.\n",
    "   $$\n",
    "   Let $\\begin{bmatrix} \\Sigma \\\\ a^T V \\end{bmatrix} = \\bar U \\bar \\Sigma \\bar V^T$ be the SVD of the half-arrowhead matrix. _This SVD can be computed in $O(n^2)$ operations._ Then \n",
    "   $$\\begin{bmatrix} A \\\\ a^T\\end{bmatrix} =\n",
    "   \\begin{bmatrix} U & \\\\ & 1 \\end{bmatrix} \\bar U \\bar\\Sigma \\bar V^T V^T \\equiv\n",
    "   \\tilde U \\bar \\Sigma \\tilde V^T\n",
    "   $$\n",
    "   is the SVD of $\\tilde A$. \n",
    "   \n",
    "2. Direct computation of $\\tilde U$ and $\\tilde V$ requires $O(mn^2)$ and $O(n^3)$ operations. However, these multiplications can be performed using Fast Multipole Method. This is not (yet) implemented in Julia and is \"not for the timid\" (quote by Steven G. Johnson).\n",
    "\n",
    "3. If $m<n$ and $\\mathop{\\mathrm{rank}}(A)=n$, then\n",
    "   $$\n",
    "   \\begin{bmatrix} A \\\\ a^T\\end{bmatrix} =\\begin{bmatrix} U & \\\\ & 1 \\end{bmatrix} \n",
    "   \\begin{bmatrix} \\Sigma & 0 \\\\ a^T V & \\beta\\end{bmatrix} \\begin{bmatrix} V^T \\\\ v^T \\end{bmatrix},\n",
    "   $$\n",
    "   where $\\beta=\\sqrt{\\|a\\|_2^2-\\|V^T a\\|_2^2}$ and $v=(I-VV^T)a$. Notice that $V^Tv=0$ by construction.\n",
    "   Let $\\begin{bmatrix} \\Sigma & 0 \\\\ a^T V &  \\beta\\end{bmatrix} = \\bar U \\bar \\Sigma \\bar V^T$ be the SVD of \n",
    "   the half-arrowhead matrix. Then \n",
    "   $$\\begin{bmatrix} A \\\\ a^T\\end{bmatrix} =\n",
    "   \\begin{bmatrix} U & \\\\ & 1 \\end{bmatrix} \\bar U \\bar\\Sigma \\bar V^T \\begin{bmatrix} V^T \\\\ v^T \\end{bmatrix}\n",
    "   \\equiv \\tilde U \\bar \\Sigma \\tilde V^T\n",
    "   $$\n",
    "   is the SVD of $\\tilde A$.\n",
    "   \n",
    "3. Adding a column $a$ to $A$ is equivalent to adding a row $a^T$ to $A^T$.\n",
    "\n",
    "3. If $\\mathop{\\mathrm{rank}}(A)<\\min\\{m,n\\}$ or if we are using SVD approximation of rank $r$, and if we want to keep the rank of the approximation (this is the common case in practice), then the formulas in Fact 1 hold approximately. More precisely, the updated rank $r$ approximation is __not__ what we would get by computing the approximation of rank $r$ of the updated matrix, but is sufficient in many applications. "
   ]
  },
  {
   "cell_type": "markdown",
   "metadata": {},
   "source": [
    "### Example - Adding row to a tall matrix\n",
    "\n",
    "If $m>=n$, adding row does not increase the size of $\\Sigma$."
   ]
  },
  {
   "cell_type": "code",
   "execution_count": 1,
   "metadata": {
    "collapsed": true
   },
   "outputs": [],
   "source": [
    "using Arrowhead"
   ]
  },
  {
   "cell_type": "code",
   "execution_count": 3,
   "metadata": {
    "collapsed": false
   },
   "outputs": [
    {
     "data": {
      "text/plain": [
       "mySVDaddrow (generic function with 1 method)"
      ]
     },
     "execution_count": 3,
     "metadata": {},
     "output_type": "execute_result"
    }
   ],
   "source": [
    "function mySVDaddrow{T}(svdA::Tuple,a::Vector{T})\n",
    "    # Create the transposed half-arrowhead\n",
    "    m,r,n=size(svdA[1],1),length(svdA[2]),size(svdA[3],1)\n",
    "    b=svdA[3]'*a\n",
    "    if m>=n || r<m\n",
    "        M=HalfArrow(svdA[2],b)\n",
    "    else\n",
    "        β=sqrt(vecnorm(a)^2-vecnorm(b)^2)\n",
    "        M=HalfArrow(svdA[2],[b;β])\n",
    "    end\n",
    "    tols=[1e2,1e2,1e2,1e2]\n",
    "    U,σ,V=svd(M,tols)\n",
    "    # Return the updated SVD\n",
    "    if m>=n || r<m\n",
    "        return [svdA[1] zeros(T,m); zeros(T,1,r) one(T)]*V, σ, svdA[3]*U\n",
    "    else\n",
    "        # Need one more row of svdA[3] - v is orthogonal projection\n",
    "        v=a-svdA[3]*b\n",
    "        v=v/norm(v)\n",
    "        return [svdA[1] zeros(T,m); zeros(T,1,r) one(T)]*V, σ, [svdA[3] v]*U\n",
    "    end\n",
    "end"
   ]
  },
  {
   "cell_type": "code",
   "execution_count": 4,
   "metadata": {
    "collapsed": false,
    "scrolled": true
   },
   "outputs": [
    {
     "data": {
      "text/plain": [
       "6-element Array{Float64,1}:\n",
       " 0.0928924\n",
       " 0.887951 \n",
       " 0.517968 \n",
       " 0.231056 \n",
       " 0.0385352\n",
       " 0.486347 "
      ]
     },
     "execution_count": 4,
     "metadata": {},
     "output_type": "execute_result"
    }
   ],
   "source": [
    "A=rand(10,6)\n",
    "a=rand(6)"
   ]
  },
  {
   "cell_type": "code",
   "execution_count": 5,
   "metadata": {
    "collapsed": false
   },
   "outputs": [
    {
     "data": {
      "text/plain": [
       "(\n",
       "10x6 Array{Float64,2}:\n",
       " -0.202045  -0.325981   0.00157307   0.386508    0.0610235   0.201287\n",
       " -0.324758   0.124974  -0.118993    -0.426752    0.343555    0.344056\n",
       " -0.372259   0.12883    0.155709    -0.150447   -0.24869     0.298472\n",
       " -0.409947   0.2291    -0.291099    -0.0997363   0.172445    0.109963\n",
       " -0.346031   0.263648   0.228842     0.478055   -0.203468   -0.327291\n",
       " -0.188645  -0.281908   0.698134    -0.447241    0.145768   -0.345321\n",
       " -0.362971   0.465553   0.0731078    0.0208722  -0.184808   -0.161569\n",
       " -0.30738   -0.286415   0.144817     0.42627     0.540872    0.142238\n",
       " -0.316467  -0.551669  -0.139874    -0.0924748  -0.614296    0.17053 \n",
       " -0.255676  -0.238619  -0.539641    -0.129064    0.141275   -0.661928,\n",
       "\n",
       "[4.193023886977698,1.0915281566750403,0.9259518180563089,0.7708240555874193,0.5429722182454295,0.4129406032560103],\n",
       "6x6 Array{Float64,2}:\n",
       " -0.572198   0.121833   -0.137336   0.343882     -0.651924    0.309233\n",
       " -0.446899   0.0844174   0.715274  -0.276517     -0.0982127  -0.442075\n",
       " -0.338298  -0.154901   -0.196555   0.638606      0.410815   -0.496327\n",
       " -0.313528  -0.539087   -0.497532  -0.548452     -0.115489   -0.222284\n",
       " -0.343681  -0.428121    0.290672  -0.000329264   0.460871    0.633801\n",
       " -0.376841   0.692917   -0.314419  -0.310913      0.413328    0.107192)"
      ]
     },
     "execution_count": 5,
     "metadata": {},
     "output_type": "execute_result"
    }
   ],
   "source": [
    "svdA=svd(A)"
   ]
  },
  {
   "cell_type": "code",
   "execution_count": 6,
   "metadata": {
    "collapsed": false
   },
   "outputs": [
    {
     "data": {
      "text/plain": [
       "Tuple{Array{Float64,2},Array{Float64,1},Array{Float64,2}}"
      ]
     },
     "execution_count": 6,
     "metadata": {},
     "output_type": "execute_result"
    }
   ],
   "source": [
    "typeof(svdA)"
   ]
  },
  {
   "cell_type": "code",
   "execution_count": 7,
   "metadata": {
    "collapsed": false
   },
   "outputs": [
    {
     "data": {
      "text/plain": [
       "(\n",
       "11x6 Array{Float64,2}:\n",
       " -0.195368   0.347282   -0.0394979    0.314876   -0.179525    0.110963 \n",
       " -0.317362  -0.0782289   0.132243    -0.340432    0.254652    0.488695 \n",
       " -0.363323  -0.090404   -0.0126725    0.066102    0.409111   -0.0451198\n",
       " -0.400238  -0.117329    0.346802    -0.136063    0.0185272   0.209642 \n",
       " -0.339248  -0.240282   -0.0224223    0.510629   -0.158703   -0.313213 \n",
       " -0.187459   0.0586492  -0.770337    -0.20182     0.251241    0.0497799\n",
       " -0.356116  -0.405107    0.143492     0.131199    0.131106   -0.195956 \n",
       " -0.299685   0.263915   -0.172756     0.341325   -0.344359    0.517208 \n",
       " -0.305757   0.589747   -0.00859284  -0.0688653   0.257672   -0.476095 \n",
       " -0.249773   0.279439    0.271842    -0.459137   -0.435785   -0.199245 \n",
       " -0.214905  -0.361262   -0.377081    -0.333674   -0.5048     -0.173293 ,\n",
       "\n",
       "[4.290276921124515,1.131444628665424,0.9846430307431189,0.8029106839944139,0.691819889340859,0.5168322391993393],\n",
       "6x6 Array{Float64,2}:\n",
       " -0.550486   0.10484    0.405135    0.500263   0.349318    -0.386721 \n",
       " -0.471733  -0.36403   -0.739968   -0.112911   0.0743659   -0.28128  \n",
       " -0.348663   0.1103     0.0321857   0.220862  -0.903083     0.0299014\n",
       " -0.310317   0.546555   0.126401   -0.734143   0.00411667  -0.223653 \n",
       " -0.329775   0.421772  -0.281606    0.181403   0.237599     0.738034 \n",
       " -0.384472  -0.606391   0.438176   -0.341079   0.0204544    0.419189 )"
      ]
     },
     "execution_count": 7,
     "metadata": {},
     "output_type": "execute_result"
    }
   ],
   "source": [
    "U,σ,V=mySVDaddrow(svdA,a)"
   ]
  },
  {
   "cell_type": "code",
   "execution_count": 8,
   "metadata": {
    "collapsed": false
   },
   "outputs": [
    {
     "data": {
      "text/plain": [
       "(1.21331381799717e-15,1.5869069979326949e-15,1.1629953422117905e-15)"
      ]
     },
     "execution_count": 8,
     "metadata": {},
     "output_type": "execute_result"
    }
   ],
   "source": [
    "# Check the residual and orthogonality\n",
    "norm([A;a']*V-U*diagm(σ)), norm(U'*U-I), norm(V'*V-I)"
   ]
  },
  {
   "cell_type": "markdown",
   "metadata": {},
   "source": [
    "### Example - Adding row to a flat matrix"
   ]
  },
  {
   "cell_type": "code",
   "execution_count": 9,
   "metadata": {
    "collapsed": false
   },
   "outputs": [
    {
     "data": {
      "text/plain": [
       "(\n",
       "6x6 Array{Float64,2}:\n",
       " -0.432393   0.160235    -0.211182   0.16489   -0.719376    0.445054\n",
       " -0.418288  -0.717937    -0.385621  -0.285087  -0.0339432  -0.280129\n",
       " -0.374601  -0.00685766   0.389024  -0.542459   0.327683    0.55376 \n",
       " -0.39868   -0.00783435  -0.22494    0.653772   0.571588    0.190431\n",
       " -0.400647   0.672849    -0.275713  -0.309954   0.124477   -0.446288\n",
       " -0.422236  -0.0778302    0.727148   0.271633  -0.17822    -0.425874,\n",
       "\n",
       "[4.16666391152648,1.0724827324932222,0.9376591441893033,0.8943078623035339,0.6594546699656325,0.4047875523733787],\n",
       "10x6 Array{Float64,2}:\n",
       " -0.160776  -0.0985226  -0.180098    0.233496    0.20507    -0.394763\n",
       " -0.37738    0.159758   -0.285629    0.550176   -0.160696    0.104352\n",
       " -0.243722  -0.48046    -0.0545974  -0.286548   -0.446603   -0.444187\n",
       " -0.360217  -0.107562    0.484051   -0.370104   -0.0646561   0.193055\n",
       " -0.361811   0.581003    0.433407    0.0521544   0.137587   -0.240379\n",
       " -0.391142  -0.465751    0.122489    0.211198    0.252305    0.555006\n",
       " -0.280773  -0.031299   -0.420874   -0.383993    0.680468   -0.156516\n",
       " -0.140039  -0.116785    0.386139    0.161086    0.15695    -0.355717\n",
       " -0.393975  -0.0445241  -0.171709    0.188704   -0.27759    -0.138696\n",
       " -0.324065   0.388935   -0.30021    -0.409105   -0.284911    0.250236)"
      ]
     },
     "execution_count": 9,
     "metadata": {},
     "output_type": "execute_result"
    }
   ],
   "source": [
    "# Now flat matrix\n",
    "A=rand(6,10)\n",
    "a=rand(10)\n",
    "svdA=svd(A)"
   ]
  },
  {
   "cell_type": "code",
   "execution_count": 10,
   "metadata": {
    "collapsed": false
   },
   "outputs": [
    {
     "data": {
      "text/plain": [
       "(1.7366599135313465e-14,1.1570016931296238e-15,5.116683537954051e-15)"
      ]
     },
     "execution_count": 10,
     "metadata": {},
     "output_type": "execute_result"
    }
   ],
   "source": [
    "U,σ,V=mySVDaddrow(svdA,a)\n",
    "norm([A;a']*V-U*diagm(σ)), norm(U'*U-I), norm(V'*V-I)"
   ]
  },
  {
   "cell_type": "markdown",
   "metadata": {},
   "source": [
    "### Example - Adding columns\n",
    "\n",
    "This can be viewed as adding rows to the transposed matrix, an elegant one-liner in Julia."
   ]
  },
  {
   "cell_type": "code",
   "execution_count": 11,
   "metadata": {
    "collapsed": false
   },
   "outputs": [
    {
     "data": {
      "text/plain": [
       "mySVDaddcol (generic function with 1 method)"
      ]
     },
     "execution_count": 11,
     "metadata": {},
     "output_type": "execute_result"
    }
   ],
   "source": [
    "function mySVDaddcol{T}(svdA::Tuple,a::Vector{T})\n",
    "    reverse(mySVDaddrow(reverse(svdA),a))\n",
    "end "
   ]
  },
  {
   "cell_type": "code",
   "execution_count": 13,
   "metadata": {
    "collapsed": false
   },
   "outputs": [
    {
     "data": {
      "text/plain": [
       "(3.703741162685095e-15,2.2316564630420207e-15,1.17813516321025e-15)"
      ]
     },
     "execution_count": 13,
     "metadata": {},
     "output_type": "execute_result"
    }
   ],
   "source": [
    "# Tall matrix\n",
    "A=rand(10,6)\n",
    "a=rand(10)\n",
    "svdA=svd(A)\n",
    "U,σ,V=mySVDaddcol(svdA,a)\n",
    "norm([A a]*V-U*diagm(σ)), norm(U'*U-I), norm(V'*V-I)"
   ]
  },
  {
   "cell_type": "code",
   "execution_count": 14,
   "metadata": {
    "collapsed": false
   },
   "outputs": [
    {
     "data": {
      "text/plain": [
       "(1.3442104169809738e-15,7.843690968221566e-16,9.455190826283757e-16)"
      ]
     },
     "execution_count": 14,
     "metadata": {},
     "output_type": "execute_result"
    }
   ],
   "source": [
    "# Flat matrix\n",
    "A=rand(6,10)\n",
    "a=rand(6)\n",
    "svdA=svd(A)\n",
    "U,σ,V=mySVDaddcol(svdA,a)\n",
    "norm([A a]*V-U*diagm(σ)), norm(U'*U-I), norm(V'*V-I)"
   ]
  },
  {
   "cell_type": "code",
   "execution_count": 15,
   "metadata": {
    "collapsed": false
   },
   "outputs": [],
   "source": [
    "# Square matrix\n",
    "A=rand(10,10)\n",
    "a=rand(10);\n",
    "svdA=svd(A);"
   ]
  },
  {
   "cell_type": "code",
   "execution_count": 16,
   "metadata": {
    "collapsed": false
   },
   "outputs": [
    {
     "data": {
      "text/plain": [
       "(2.5285138092863163e-14,1.6743478769024218e-15,2.2951296678890638e-15)"
      ]
     },
     "execution_count": 16,
     "metadata": {},
     "output_type": "execute_result"
    }
   ],
   "source": [
    "U,σ,V=mySVDaddrow(svdA,a)\n",
    "norm([A;a']*V-U*diagm(σ)), norm(U'*U-I), norm(V'*V-I)"
   ]
  },
  {
   "cell_type": "code",
   "execution_count": 17,
   "metadata": {
    "collapsed": false
   },
   "outputs": [
    {
     "data": {
      "text/plain": [
       "(2.5203322475718537e-14,1.6476458351487867e-15,1.5529553982312772e-15)"
      ]
     },
     "execution_count": 17,
     "metadata": {},
     "output_type": "execute_result"
    }
   ],
   "source": [
    "U,σ,V=mySVDaddcol(svdA,a)\n",
    "norm([A a]*V-U*diagm(σ)), norm(U'*U-I), norm(V'*V-I)"
   ]
  },
  {
   "cell_type": "markdown",
   "metadata": {
    "collapsed": true
   },
   "source": [
    "### Example - Updating a low rank approximation\n"
   ]
  },
  {
   "cell_type": "code",
   "execution_count": 18,
   "metadata": {
    "collapsed": false
   },
   "outputs": [
    {
     "data": {
      "text/plain": [
       "4"
      ]
     },
     "execution_count": 18,
     "metadata": {},
     "output_type": "execute_result"
    }
   ],
   "source": [
    "# Adding row to a tall matrix\n",
    "A=rand(10,6)\n",
    "svdA=svd(A)\n",
    "a=rand(6)\n",
    "# Rank of the approximation\n",
    "r=4"
   ]
  },
  {
   "cell_type": "code",
   "execution_count": 19,
   "metadata": {
    "collapsed": false
   },
   "outputs": [
    {
     "data": {
      "text/plain": [
       "(0.5767244490378295,[3.983282775265407,1.2368584864567675,1.015595396856338,0.8588949224399546,0.5573396035697008,0.28908522265724285],[3.980775555676989,1.2365416309545627,1.0155536057891885,0.8582051673927036])"
      ]
     },
     "execution_count": 19,
     "metadata": {},
     "output_type": "execute_result"
    }
   ],
   "source": [
    "svdAr=(svdA[1][:,1:r], svdA[2][1:r],svdA[3][:,1:r])\n",
    "U,σ,V=mySVDaddrow(svdAr,a)\n",
    "norm([A;a']-U*diagm(σ)*V'), svdvals([A;a']), σ"
   ]
  },
  {
   "cell_type": "code",
   "execution_count": 21,
   "metadata": {
    "collapsed": false
   },
   "outputs": [
    {
     "data": {
      "text/plain": [
       "4"
      ]
     },
     "execution_count": 21,
     "metadata": {},
     "output_type": "execute_result"
    }
   ],
   "source": [
    "# Adding row to a flat matrix\n",
    "A=rand(6,10)\n",
    "svdA=svd(A)\n",
    "a=rand(10)\n",
    "# Rank of the approximation\n",
    "r=4"
   ]
  },
  {
   "cell_type": "code",
   "execution_count": 22,
   "metadata": {
    "collapsed": false
   },
   "outputs": [
    {
     "data": {
      "text/plain": [
       "(0.9977575093994425,[4.362678939640087,1.3425579717495806,1.0347188983555768,0.9194988272619319,0.7297484437624062,0.5077973623027092,0.2516233402582735],[4.350124937773744,1.2862214879485432,1.0038802337142887,0.8252865332963021])"
      ]
     },
     "execution_count": 22,
     "metadata": {},
     "output_type": "execute_result"
    }
   ],
   "source": [
    "svdAr=(svdA[1][:,1:r], svdA[2][1:r],svdA[3][:,1:r])\n",
    "U,σ,V=mySVDaddrow(svdAr,a)\n",
    "norm([A;a']-U*diagm(σ)*V'), svdvals([A;a']), σ"
   ]
  },
  {
   "cell_type": "code",
   "execution_count": null,
   "metadata": {
    "collapsed": true
   },
   "outputs": [],
   "source": []
  }
 ],
 "metadata": {
  "kernelspec": {
   "display_name": "Julia 0.4.5",
   "language": "julia",
   "name": "julia-0.4"
  },
  "language_info": {
   "file_extension": ".jl",
   "mimetype": "application/julia",
   "name": "julia",
   "version": "0.4.5"
  }
 },
 "nbformat": 4,
 "nbformat_minor": 0
}
