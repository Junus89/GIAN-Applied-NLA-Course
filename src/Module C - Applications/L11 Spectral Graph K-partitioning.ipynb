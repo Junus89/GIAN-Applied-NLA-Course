{
 "cells": [
  {
   "cell_type": "markdown",
   "metadata": {},
   "source": [
    "# Spectral Graph K-partitioning\n",
    "\n",
    "---\n",
    "\n",
    "Instead of using recursive spectral bipartitioning, the graph $k$-partitioning problem can be solved using $k$ eigenvaectors which correspond to $k$ smallest eigenvalues of Laplaciain matrix or normalized Laplacian matrix, respectively.\n",
    "\n",
    "Suggested reading is [U. von Luxburg, A Tutorial on Spectral Clustering][Lux07], which includes the quote _\"spectral clustering cannot serve as a “black box algorithm” which automatically detects the correct clusters in any\n",
    "given data set. But it can be considered as a powerful tool which can produce good results if applied with care.\"_\n",
    "\n",
    "[Lux07]: http://www.kyb.mpg.de/fileadmin/user_upload/files/publications/attachments/luxburg06_TR_v2_4139%5b1%5d.pdf \"U. von Luxburg, 'A Tutorial on Spectral Clustering', Max Planck Institute for Biological Cybernetics, Tübingen, 2007.\"\n",
    "\n",
    "## Prerequisites\n",
    "\n",
    "The reader should be familiar with k-means algorithm, spectral graph bipartitioning and \n",
    "recursive bipartitioning.\n",
    " \n",
    "## Competences \n",
    "\n",
    "The reader should be able to apply graph spectral k-partitioning to data clustering problems.\n",
    "\n",
    "__Credits__: The notebook is based on [I. Mirošević, Spectral Graph Partitioning and Application to Knowledge Extraction][Mir05].\n",
    "\n",
    "[Mir05]: #1 \"I. Mirošević, 'Spectral Graph Partitioning and Application to Knowledge Extraction', M.Sc. Thesis, Iniversity of Zagreb, 2005 (in Croatian).\" \n",
    "\n",
    "---"
   ]
  },
  {
   "cell_type": "markdown",
   "metadata": {},
   "source": [
    "## The relaxed problem\n",
    "\n",
    "Let $G=(V,E)$ be a weighted graph with weights $\\omega$, with weights matrix $W$, Laplacian matrix $L=D-W$, and normalized Laplacian matrix $L_n=D^{-1/2}(D-W)D^{-1/2}$. \n",
    "\n",
    "Let the $k$-partition $\\pi_k =\\{V_{1},V_{2},...,V_{k}\\}$, the cut $cut(\\pi_k)$, \n",
    "the proportional cut $pcut(\\pi_k)$ and \n",
    "the normalized cut $ncut(\\pi_k)$ be defined as in the\n",
    "[Spectral Graph Bipartitioning](L10 Spectral Graph Bipartitioning.ipynb) notebook.\n",
    "\n",
    "### Definition\n",
    "\n",
    "__Partition vectors__ of a $k$-partition $\\pi_k$ are\n",
    "\\begin{align*}\n",
    "h_{1} &=[\\overset{\\displaystyle |V_{1}|}{\\overbrace{1,\\cdots\n",
    ",1}},0,\\cdots\n",
    ",0,\\cdots ,0,\\cdots ,0]^{T}  \\\\\n",
    "h_{2} &=[0,\\cdots\n",
    ",0,\\overset{\\displaystyle |V_{2}|}{\\overbrace{1,\\cdots ,1}} ,\\cdots ,0,\\cdots\n",
    ",0]^{T} \\\\\n",
    "&\\vdots \\\\\n",
    "h_{k} &=[0,\\cdots ,0,0,\\cdots ,0,\\cdots\n",
    ",\\overset{\\displaystyle |V_{k}|}{ \\overbrace{1,\\cdots ,1}}]^{T}.\n",
    "\\end{align*}\n",
    "\n",
    "### Facts\n",
    "\n",
    "1. Set\n",
    "\\begin{align*}\n",
    "X&=\\begin{bmatrix} x_1 & x_2 &\\cdots & x_k \\end{bmatrix}, \\quad \n",
    "x_i=\\displaystyle \\frac{h_i}{\\|h_i\\|_2}, \\\\\n",
    "Y&=\\begin{bmatrix} y_1 & y_2 &\\cdots & y_k \\end{bmatrix}, \\quad\n",
    "y_i=\\displaystyle \\frac{D^{1/2}h_i}{\\|D^{1/2}h_i\\|_2}.\n",
    "\\end{align*}\n",
    "It holds\n",
    "\\begin{align*}\n",
    "& cut(V_{i},V\\backslash V_{i})=h_{i}^{T}(D-W)h_{i}=h_{i}^{T}L h_{i},\\quad \n",
    "\\omega( C_{i})=h_{i}^{T}D h_{i},\\quad |C_{i}| =h_{i}^{T}h_{i},\\\\\n",
    "& pcut(\\pi_k) =\\frac{h_{1}^{T}L h_{1}}{h_{1}^{T} h_{1}}+\n",
    "\\cdots + \\frac{h_{k}^{T}L h_{k}}{h_{k}^{T}h_{k}}\n",
    "=x_{1}^{T}L x_{1}+\\cdots +x_{k}^{T}Lx_{k}=\\mathop{\\mathrm{trace}}(X^{T}LX),\\\\\n",
    "& ncut(\\pi_k)=\\frac{h_{1}^{T}L h_{1}}{h_{1}^{T}D h_{1}}+\\cdots\n",
    "+\\frac{h_{k}^{T}L h_{k}}{h_{k}^{T}D h_{k}}\n",
    "=\\mathop{\\mathrm{trace}}(Y^{T}L_{n}Y).\n",
    "\\end{align*}\n",
    "\n",
    "2. The __relaxed__ $k$-partitioning problems are trace-minimization problems,\n",
    "\\begin{align*}\n",
    "\\min_{\\displaystyle \\pi_k} pcut(\\pi_k) &\\geq\n",
    "\\underset{\\displaystyle X\\in\\mathbb{R}^{n\\times k}}{\\min_{\\displaystyle X^{T}X=I}}\n",
    "\\mathop{\\mathrm{trace}}(X^{T}LX),\\\\\n",
    "\\min_{\\displaystyle \\pi_k} ncut(\\pi_k) &\\geq\n",
    "\\underset{\\displaystyle Y\\in\\mathbb{R}^{n\\times\n",
    "k}}{\\min_{\\displaystyle Y^{T}Y=I}}\\mathop{\\mathrm{trace}}(Y^{T}L_{n}Y).\n",
    "\\end{align*}\n",
    "\n",
    "3. __Ky-Fan  Theorem__: Let $A\\in \\mathbb{R}^{n\\times n}$ be a symmetric matrix with\n",
    "eigenvalues $\\lambda _1\\leq \\cdots \\leq \\lambda_n$. Then\n",
    "$$\n",
    "\\underset{\\displaystyle Z^TZ=I}{\\min_{\\displaystyle Z\\in \\mathbb{R}^{n\\times\n",
    "k}}}\\mathop{\\mathrm{trace}}\\left(Z^{T}AZ\\right)\n",
    "=\\sum_{i=1}^{k}\\lambda_{i}.\n",
    "$$\n",
    "\n",
    "4. Let $\\lambda_1\\leq \\cdots \\leq \\lambda_n$ be the eigenvalues of $L$ with eigenvectors \n",
    "$v^{[1]},\\cdots ,v^{[k]}$. The solution of the relaxed proportional cut problem is the matrix $X=\\begin{bmatrix}v^{[1]} & \\cdots & v^{[k]}\\end{bmatrix}$, and it holds\n",
    "$\\min\\limits_{\\displaystyle \\pi_k} pcut(\\pi_k)\\geq \\sum\\limits_{i=1}^k \\lambda_i$.\n",
    "\n",
    "5. Let $\\mu_1\\leq \\cdots \\leq \\mu_n$ be the eigenvalues of $L_n$ with eigenvectors \n",
    "$w^{[1]},\\cdots ,w^{[k]}$. The solution of the relaxed normalized cut problem is the matrix $Y=\\begin{bmatrix}w^{[1]} & \\cdots & w^{[k]}\\end{bmatrix}$, and it holds\n",
    "$\\min\\limits_{\\displaystyle \\pi_k} ncut(\\pi_k)\\geq \\sum\\limits_{i=1}^k \\mu_i$.\n",
    "\n",
    "6. It remains to recover the $k$-partition. The k-means algorithm applied to rows of the matrices $X$ or $D^{-1/2}Y$, will compute the $k$ centers and the assignment vector whose $i$-th component denotes the subset $V_j$ to which the vertex $i$ belongs."
   ]
  },
  {
   "cell_type": "markdown",
   "metadata": {},
   "source": [
    "### Example - Graph with three clusters"
   ]
  },
  {
   "cell_type": "code",
   "execution_count": 1,
   "metadata": {
    "collapsed": true
   },
   "outputs": [],
   "source": [
    "using Graphs\n",
    "using IJuliaPortrayals\n",
    "using Clustering"
   ]
  },
  {
   "cell_type": "code",
   "execution_count": 2,
   "metadata": {
    "collapsed": false
   },
   "outputs": [
    {
     "data": {
      "text/plain": [
       "13x3 Array{Int64,2}:\n",
       " 1  2  2\n",
       " 1  3  3\n",
       " 1  4  4\n",
       " 2  3  4\n",
       " 2  4  5\n",
       " 3  4  6\n",
       " 2  7  1\n",
       " 3  5  1\n",
       " 5  6  7\n",
       " 6  9  1\n",
       " 7  9  3\n",
       " 7  8  4\n",
       " 8  9  2"
      ]
     },
     "execution_count": 2,
     "metadata": {},
     "output_type": "execute_result"
    }
   ],
   "source": [
    "# Sources, targets, and weight\n",
    "sn=[1,1,1,2,2,3,2,3,5,6,7,7,8]\n",
    "tn=[2,3,4,3,4,4,7,5,6,9,9,8,9]\n",
    "wn=[2,3,4,4,5,6,1,1,7,1,3,4,2]\n",
    "[sn tn wn]"
   ]
  },
  {
   "cell_type": "code",
   "execution_count": 3,
   "metadata": {
    "collapsed": true
   },
   "outputs": [],
   "source": [
    "n=9\n",
    "m=length(sn)\n",
    "G = inclist(ExVertex, ExEdge{ExVertex}; is_directed=false)\n",
    "for i=1:9\n",
    "    add_vertex!(G, ExVertex(i,\"$i\"))\n",
    "end\n",
    "for i=1:m\n",
    "    add_edge!(G, vertices(G)[sn[i]], vertices(G)[tn[i]])\n",
    "end\n",
    "for i=1:length(G.inclist)\n",
    "    for j=1:length(G.inclist[i])\n",
    "        ei=G.inclist[i][j]\n",
    "        attrs = attributes(ei, G)\n",
    "        attrs[\"label\"] = wn[edge_index(ei,G)]\n",
    "    end\n",
    "end"
   ]
  },
  {
   "cell_type": "code",
   "execution_count": 5,
   "metadata": {
    "collapsed": false
   },
   "outputs": [
    {
     "data": {
      "text/html": [
       "<?xml version=\"1.0\" encoding=\"UTF-8\" standalone=\"no\"?>\r\n",
       "<!DOCTYPE svg PUBLIC \"-//W3C//DTD SVG 1.1//EN\"\r\n",
       " \"http://www.w3.org/Graphics/SVG/1.1/DTD/svg11.dtd\">\r\n",
       "<!-- Generated by graphviz version 2.38.0 (20140413.2041)\r\n",
       " -->\r\n",
       "<!-- Title: graphname Pages: 1 -->\r\n",
       "<svg width=\"254pt\" height=\"275pt\"\r\n",
       " viewBox=\"0.00 0.00 254.37 274.83\" xmlns=\"http://www.w3.org/2000/svg\" xmlns:xlink=\"http://www.w3.org/1999/xlink\">\r\n",
       "<g id=\"graph0\" class=\"graph\" transform=\"scale(1 1) rotate(0) translate(120.217 123.76)\">\r\n",
       "<title>graphname</title>\r\n",
       "<polygon fill=\"white\" stroke=\"none\" points=\"-120.217,151.066 -120.217,-123.76 134.155,-123.76 134.155,151.066 -120.217,151.066\"/>\r\n",
       "<!-- 1 -->\r\n",
       "<g id=\"node1\" class=\"node\"><title>1</title>\r\n",
       "<ellipse fill=\"none\" stroke=\"black\" cx=\"-89.217\" cy=\"-62.7736\" rx=\"27\" ry=\"18\"/>\r\n",
       "<text text-anchor=\"middle\" x=\"-89.217\" y=\"-59.0736\" font-family=\"Times New Roman,serif\" font-size=\"14.00\">1</text>\r\n",
       "</g>\r\n",
       "<!-- 2 -->\r\n",
       "<g id=\"node2\" class=\"node\"><title>2</title>\r\n",
       "<ellipse fill=\"none\" stroke=\"black\" cx=\"-50.3767\" cy=\"-15.2504\" rx=\"27\" ry=\"18\"/>\r\n",
       "<text text-anchor=\"middle\" x=\"-50.3767\" y=\"-11.5504\" font-family=\"Times New Roman,serif\" font-size=\"14.00\">2</text>\r\n",
       "</g>\r\n",
       "<!-- 1&#45;&#45;2 -->\r\n",
       "<g id=\"edge1\" class=\"edge\"><title>1&#45;&#45;2</title>\r\n",
       "<path fill=\"none\" stroke=\"black\" d=\"M-76.2838,-46.9491C-72.135,-41.8729 -67.54,-36.2507 -63.3859,-31.1679\"/>\r\n",
       "<text text-anchor=\"middle\" x=\"-73.3348\" y=\"-27.8585\" font-family=\"Times New Roman,serif\" font-size=\"14.00\">2</text>\r\n",
       "</g>\r\n",
       "<!-- 3 -->\r\n",
       "<g id=\"node3\" class=\"node\"><title>3</title>\r\n",
       "<ellipse fill=\"none\" stroke=\"black\" cx=\"-1.44178\" cy=\"-69.438\" rx=\"27\" ry=\"18\"/>\r\n",
       "<text text-anchor=\"middle\" x=\"-1.44178\" y=\"-65.738\" font-family=\"Times New Roman,serif\" font-size=\"14.00\">3</text>\r\n",
       "</g>\r\n",
       "<!-- 1&#45;&#45;3 -->\r\n",
       "<g id=\"edge2\" class=\"edge\"><title>1&#45;&#45;3</title>\r\n",
       "<path fill=\"none\" stroke=\"black\" d=\"M-61.9255,-64.8457C-51.2565,-65.6558 -39.053,-66.5823 -28.4149,-67.39\"/>\r\n",
       "<text text-anchor=\"middle\" x=\"-48.6702\" y=\"-69.9179\" font-family=\"Times New Roman,serif\" font-size=\"14.00\">3</text>\r\n",
       "</g>\r\n",
       "<!-- 4 -->\r\n",
       "<g id=\"node4\" class=\"node\"><title>4</title>\r\n",
       "<ellipse fill=\"none\" stroke=\"black\" cx=\"-51.3452\" cy=\"-101.76\" rx=\"27\" ry=\"18\"/>\r\n",
       "<text text-anchor=\"middle\" x=\"-51.3452\" y=\"-98.0603\" font-family=\"Times New Roman,serif\" font-size=\"14.00\">4</text>\r\n",
       "</g>\r\n",
       "<!-- 1&#45;&#45;4 -->\r\n",
       "<g id=\"edge3\" class=\"edge\"><title>1&#45;&#45;4</title>\r\n",
       "<path fill=\"none\" stroke=\"black\" d=\"M-74.2491,-78.1822C-71.6026,-80.9066 -68.8479,-83.7424 -66.2045,-86.4636\"/>\r\n",
       "<text text-anchor=\"middle\" x=\"-73.7268\" y=\"-71.1229\" font-family=\"Times New Roman,serif\" font-size=\"14.00\">4</text>\r\n",
       "</g>\r\n",
       "<!-- 2&#45;&#45;3 -->\r\n",
       "<g id=\"edge4\" class=\"edge\"><title>2&#45;&#45;3</title>\r\n",
       "<path fill=\"none\" stroke=\"black\" d=\"M-36.2227,-30.9237C-29.674,-38.1754 -21.9187,-46.763 -15.395,-53.987\"/>\r\n",
       "<text text-anchor=\"middle\" x=\"-22.3088\" y=\"-31.2554\" font-family=\"Times New Roman,serif\" font-size=\"14.00\">4</text>\r\n",
       "</g>\r\n",
       "<!-- 2&#45;&#45;4 -->\r\n",
       "<g id=\"edge5\" class=\"edge\"><title>2&#45;&#45;4</title>\r\n",
       "<path fill=\"none\" stroke=\"black\" d=\"M-50.5821,-33.5969C-50.7476,-48.3772 -50.9789,-69.0433 -51.1434,-83.7369\"/>\r\n",
       "<text text-anchor=\"middle\" x=\"-54.3628\" y=\"-47.4669\" font-family=\"Times New Roman,serif\" font-size=\"14.00\">5</text>\r\n",
       "</g>\r\n",
       "<!-- 7 -->\r\n",
       "<g id=\"node5\" class=\"node\"><title>7</title>\r\n",
       "<ellipse fill=\"none\" stroke=\"black\" cx=\"-28.4878\" cy=\"60.6932\" rx=\"27\" ry=\"18\"/>\r\n",
       "<text text-anchor=\"middle\" x=\"-28.4878\" y=\"64.3932\" font-family=\"Times New Roman,serif\" font-size=\"14.00\">7</text>\r\n",
       "</g>\r\n",
       "<!-- 2&#45;&#45;7 -->\r\n",
       "<g id=\"edge6\" class=\"edge\"><title>2&#45;&#45;7</title>\r\n",
       "<path fill=\"none\" stroke=\"black\" d=\"M-45.1893,2.74715C-41.7,14.8532 -37.1194,30.7458 -33.6379,42.8248\"/>\r\n",
       "<text text-anchor=\"middle\" x=\"-42.9136\" y=\"18.986\" font-family=\"Times New Roman,serif\" font-size=\"14.00\">1</text>\r\n",
       "</g>\r\n",
       "<!-- 3&#45;&#45;4 -->\r\n",
       "<g id=\"edge7\" class=\"edge\"><title>3&#45;&#45;4</title>\r\n",
       "<path fill=\"none\" stroke=\"black\" d=\"M-20.8786,-82.0272C-24.4911,-84.367 -28.266,-86.8119 -31.8793,-89.1523\"/>\r\n",
       "<text text-anchor=\"middle\" x=\"-29.879\" y=\"-74.3897\" font-family=\"Times New Roman,serif\" font-size=\"14.00\">6</text>\r\n",
       "</g>\r\n",
       "<!-- 5 -->\r\n",
       "<g id=\"node6\" class=\"node\"><title>5</title>\r\n",
       "<ellipse fill=\"none\" stroke=\"black\" cx=\"76.6475\" cy=\"-51.9589\" rx=\"27\" ry=\"18\"/>\r\n",
       "<text text-anchor=\"middle\" x=\"76.6475\" y=\"-48.2589\" font-family=\"Times New Roman,serif\" font-size=\"14.00\">5</text>\r\n",
       "</g>\r\n",
       "<!-- 3&#45;&#45;5 -->\r\n",
       "<g id=\"edge8\" class=\"edge\"><title>3&#45;&#45;5</title>\r\n",
       "<path fill=\"none\" stroke=\"black\" d=\"M24.5608,-63.6177C33.0794,-61.711 42.5337,-59.5948 51.0241,-57.6943\"/>\r\n",
       "<text text-anchor=\"middle\" x=\"34.2925\" y=\"-64.456\" font-family=\"Times New Roman,serif\" font-size=\"14.00\">1</text>\r\n",
       "</g>\r\n",
       "<!-- 9 -->\r\n",
       "<g id=\"node8\" class=\"node\"><title>9</title>\r\n",
       "<ellipse fill=\"none\" stroke=\"black\" cx=\"49.079\" cy=\"85.2128\" rx=\"27\" ry=\"18\"/>\r\n",
       "<text text-anchor=\"middle\" x=\"49.079\" y=\"88.9128\" font-family=\"Times New Roman,serif\" font-size=\"14.00\">9</text>\r\n",
       "</g>\r\n",
       "<!-- 7&#45;&#45;9 -->\r\n",
       "<g id=\"edge11\" class=\"edge\"><title>7&#45;&#45;9</title>\r\n",
       "<path fill=\"none\" stroke=\"black\" d=\"M-3.94516,68.4513C5.10919,71.3135 15.3661,74.5558 24.4298,77.4209\"/>\r\n",
       "<text text-anchor=\"middle\" x=\"6.74233\" y=\"69.1361\" font-family=\"Times New Roman,serif\" font-size=\"14.00\">3</text>\r\n",
       "</g>\r\n",
       "<!-- 8 -->\r\n",
       "<g id=\"node9\" class=\"node\"><title>8</title>\r\n",
       "<ellipse fill=\"none\" stroke=\"black\" cx=\"-8.01311\" cy=\"129.066\" rx=\"27\" ry=\"18\"/>\r\n",
       "<text text-anchor=\"middle\" x=\"-8.01311\" y=\"132.766\" font-family=\"Times New Roman,serif\" font-size=\"14.00\">8</text>\r\n",
       "</g>\r\n",
       "<!-- 7&#45;&#45;8 -->\r\n",
       "<g id=\"edge12\" class=\"edge\"><title>7&#45;&#45;8</title>\r\n",
       "<path fill=\"none\" stroke=\"black\" d=\"M-23.1083,78.6573C-20.1225,88.6279 -16.4191,100.995 -13.4277,110.984\"/>\r\n",
       "<text text-anchor=\"middle\" x=\"-21.768\" y=\"91.0209\" font-family=\"Times New Roman,serif\" font-size=\"14.00\">4</text>\r\n",
       "</g>\r\n",
       "<!-- 6 -->\r\n",
       "<g id=\"node7\" class=\"node\"><title>6</title>\r\n",
       "<ellipse fill=\"none\" stroke=\"black\" cx=\"103.155\" cy=\"26.2093\" rx=\"27\" ry=\"18\"/>\r\n",
       "<text text-anchor=\"middle\" x=\"103.155\" y=\"29.9093\" font-family=\"Times New Roman,serif\" font-size=\"14.00\">6</text>\r\n",
       "</g>\r\n",
       "<!-- 5&#45;&#45;6 -->\r\n",
       "<g id=\"edge9\" class=\"edge\"><title>5&#45;&#45;6</title>\r\n",
       "<path fill=\"none\" stroke=\"black\" d=\"M82.6625,-34.2213C87.0006,-21.4286 92.8312,-4.23465 97.1639,8.54191\"/>\r\n",
       "<text text-anchor=\"middle\" x=\"86.4132\" y=\"-16.6397\" font-family=\"Times New Roman,serif\" font-size=\"14.00\">7</text>\r\n",
       "</g>\r\n",
       "<!-- 6&#45;&#45;9 -->\r\n",
       "<g id=\"edge10\" class=\"edge\"><title>6&#45;&#45;9</title>\r\n",
       "<path fill=\"none\" stroke=\"black\" d=\"M88.9472,41.7118C81.0615,50.316 71.2803,60.9885 63.3797,69.609\"/>\r\n",
       "<text text-anchor=\"middle\" x=\"72.6635\" y=\"51.8604\" font-family=\"Times New Roman,serif\" font-size=\"14.00\">1</text>\r\n",
       "</g>\r\n",
       "<!-- 8&#45;&#45;9 -->\r\n",
       "<g id=\"edge13\" class=\"edge\"><title>8&#45;&#45;9</title>\r\n",
       "<path fill=\"none\" stroke=\"black\" d=\"M9.73823,115.431C16.5468,110.201 24.3162,104.233 31.142,98.9904\"/>\r\n",
       "<text text-anchor=\"middle\" x=\"16.9401\" y=\"103.411\" font-family=\"Times New Roman,serif\" font-size=\"14.00\">2</text>\r\n",
       "</g>\r\n",
       "</g>\r\n",
       "</svg>\r\n"
      ],
      "text/plain": [
       "IJuliaPortrayals.GraphViz(\"graph graphname {\\n1 -- 2 [\\\"label\\\"=\\\"2\\\"]\\n1 -- 3 [\\\"label\\\"=\\\"3\\\"]\\n1 -- 4 [\\\"label\\\"=\\\"4\\\"]\\n2 -- 3 [\\\"label\\\"=\\\"4\\\"]\\n2 -- 4 [\\\"label\\\"=\\\"5\\\"]\\n2 -- 7 [\\\"label\\\"=\\\"1\\\"]\\n3 -- 4 [\\\"label\\\"=\\\"6\\\"]\\n3 -- 5 [\\\"label\\\"=\\\"1\\\"]\\n5 -- 6 [\\\"label\\\"=\\\"7\\\"]\\n6 -- 9 [\\\"label\\\"=\\\"1\\\"]\\n7 -- 9 [\\\"label\\\"=\\\"3\\\"]\\n7 -- 8 [\\\"label\\\"=\\\"4\\\"]\\n8 -- 9 [\\\"label\\\"=\\\"2\\\"]\\n}\\n\",\"neato\",\"svg\")"
      ]
     },
     "execution_count": 5,
     "metadata": {},
     "output_type": "execute_result"
    }
   ],
   "source": [
    "# What is the optimal tripartition?\n",
    "GraphViz(to_dot(G),\"neato\",\"svg\")"
   ]
  },
  {
   "cell_type": "code",
   "execution_count": 6,
   "metadata": {
    "collapsed": false
   },
   "outputs": [
    {
     "data": {
      "text/plain": [
       "9x9 Array{Int64,2}:\n",
       "  9  -2  -3  -4   0   0   0   0   0\n",
       " -2  12  -4  -5   0   0  -1   0   0\n",
       " -3  -4  14  -6  -1   0   0   0   0\n",
       " -4  -5  -6  15   0   0   0   0   0\n",
       "  0   0  -1   0   8  -7   0   0   0\n",
       "  0   0   0   0  -7   8   0   0  -1\n",
       "  0  -1   0   0   0   0   8  -4  -3\n",
       "  0   0   0   0   0   0  -4   6  -2\n",
       "  0   0   0   0   0  -1  -3  -2   6"
      ]
     },
     "execution_count": 6,
     "metadata": {},
     "output_type": "execute_result"
    }
   ],
   "source": [
    "L=laplacian_matrix(G,wn)"
   ]
  },
  {
   "cell_type": "code",
   "execution_count": 7,
   "metadata": {
    "collapsed": false
   },
   "outputs": [
    {
     "data": {
      "text/plain": [
       "normalized (generic function with 1 method)"
      ]
     },
     "execution_count": 7,
     "metadata": {},
     "output_type": "execute_result"
    }
   ],
   "source": [
    "# Normalized Laplacian matrix\n",
    "function normalized(L::Matrix)\n",
    "    D=1.0./sqrt(diag(L))\n",
    "    n=length(D)\n",
    "    Ln=map(Float64,Symmetric([L[i,j]*D[i]*D[j] for i=1:n,j=1:n]))\n",
    "    # Set diagonal exactly to 1\n",
    "    for i=1:n\n",
    "        Ln[i,i]=1.0\n",
    "    end\n",
    "    Ln  \n",
    "end"
   ]
  },
  {
   "cell_type": "code",
   "execution_count": 8,
   "metadata": {
    "collapsed": false
   },
   "outputs": [
    {
     "data": {
      "text/plain": [
       "9x9 Array{Float64,2}:\n",
       "  1.0       -0.19245   -0.267261   …   0.0        0.0        0.0     \n",
       " -0.19245    1.0       -0.308607      -0.102062   0.0        0.0     \n",
       " -0.267261  -0.308607   1.0            0.0        0.0        0.0     \n",
       " -0.344265  -0.372678  -0.414039       0.0        0.0        0.0     \n",
       "  0.0        0.0       -0.0944911      0.0        0.0        0.0     \n",
       "  0.0        0.0        0.0        …   0.0        0.0       -0.144338\n",
       "  0.0       -0.102062   0.0            1.0       -0.57735   -0.433013\n",
       "  0.0        0.0        0.0           -0.57735    1.0       -0.333333\n",
       "  0.0        0.0        0.0           -0.433013  -0.333333   1.0     "
      ]
     },
     "execution_count": 8,
     "metadata": {},
     "output_type": "execute_result"
    }
   ],
   "source": [
    "Ln=normalized(L)"
   ]
  },
  {
   "cell_type": "code",
   "execution_count": 9,
   "metadata": {
    "collapsed": false
   },
   "outputs": [
    {
     "data": {
      "text/plain": [
       "([4.934324553889581e-16,0.7885231802373419,1.2104922881233322],\n",
       "9x3 Array{Float64,2}:\n",
       " -0.333333   0.383624   -0.121476 \n",
       " -0.333333   0.323492   -0.129956 \n",
       " -0.333333   0.344649   -0.0752859\n",
       " -0.333333   0.367298   -0.115116 \n",
       " -0.333333  -0.0953074   0.612081 \n",
       " -0.333333  -0.147422    0.60443  \n",
       " -0.333333  -0.355516   -0.282486 \n",
       " -0.333333  -0.424836   -0.311411 \n",
       " -0.333333  -0.395981   -0.18078  ,\n",
       "\n",
       "3,1,9,[0.0,0.0,0.0,0.0,0.0,0.0,0.0,0.0,0.0])"
      ]
     },
     "execution_count": 9,
     "metadata": {},
     "output_type": "execute_result"
    }
   ],
   "source": [
    "# Proportional cut, the clustering is visible in the components of v_2 and v_3\n",
    "λ,Y=eigs(L,nev=3,which=:SM, v0=ones(n))"
   ]
  },
  {
   "cell_type": "code",
   "execution_count": 10,
   "metadata": {
    "collapsed": false
   },
   "outputs": [
    {
     "data": {
      "text/plain": [
       "Clustering.KmeansResult{Float64}(3x3 Array{Float64,2}:\n",
       " -0.333333  -0.333333  -0.333333\n",
       "  0.354766  -0.392111  -0.121365\n",
       " -0.110459  -0.258226   0.608256,[1,1,1,1,3,3,2,2,2],[0.0009541957420936553,0.0013582275969069024,0.0013394656501289903,0.00017875644986309336,0.0006936219019545442,0.0006936219019545442,0.0019277494627215619,0.003899607802030358,0.0060127518263857205],[4,3,2],[4.0,3.0,2.0],0.01705799833403937,2,true)"
      ]
     },
     "execution_count": 10,
     "metadata": {},
     "output_type": "execute_result"
    }
   ],
   "source": [
    "out=kmeans(Y',3)"
   ]
  },
  {
   "cell_type": "code",
   "execution_count": 11,
   "metadata": {
    "collapsed": false
   },
   "outputs": [
    {
     "data": {
      "text/plain": [
       "Clustering.KmeansResult{Float64}(3x3 Array{Float64,2}:\n",
       " -0.107833  -0.107833   -0.107833\n",
       " -0.144522   0.0909339  -0.104042\n",
       "  0.131546   0.011189   -0.19892 ,[2,2,2,2,3,3,1,1,1],[6.017933267283421e-5,0.00019669450163053298,0.00016014209379326683,3.376565874205206e-5,8.234250494341955e-5,8.234250494341955e-5,0.00019114009597787085,0.0004431740534307088,0.0007796669031784054],[3,4,2],[3.0,4.0,2.0],0.00202944764931251,2,true)"
      ]
     },
     "execution_count": 11,
     "metadata": {},
     "output_type": "execute_result"
    }
   ],
   "source": [
    "# Normalized cut\n",
    "# Lanczos cannot be used for \"smallest in magnitude\" evals of singular matrix\n",
    "# The above case is exception, rather than rule.\n",
    "# λ,Y=eigs(Ln,nev=3,which=:SM) \n",
    "μ,Y=eig(Ln)\n",
    "Y=Y[:,1:3]\n",
    "D=sqrt(diag(L))\n",
    "Y=diagm(1.0./D)*Y\n",
    "out=kmeans(Y',3)"
   ]
  },
  {
   "cell_type": "markdown",
   "metadata": {},
   "source": [
    "### Example - Concentric rings"
   ]
  },
  {
   "cell_type": "code",
   "execution_count": 13,
   "metadata": {
    "collapsed": false
   },
   "outputs": [],
   "source": [
    "using Winston\n",
    "using Colors\n",
    "using Distances"
   ]
  },
  {
   "cell_type": "code",
   "execution_count": 14,
   "metadata": {
    "collapsed": false
   },
   "outputs": [
    {
     "data": {
      "text/plain": [
       "plotKpartresult (generic function with 1 method)"
      ]
     },
     "execution_count": 14,
     "metadata": {},
     "output_type": "execute_result"
    }
   ],
   "source": [
    "function plotKpartresult(C::Vector,X::Array)\n",
    "    p=FramedPlot()\n",
    "    for j=1:k\n",
    "        # Random color\n",
    "        col=RGB(rand(),rand(),rand())\n",
    "        p1=Points(X[1,find(C.==j)],\n",
    "        X[2,find(C.==j)],\"color\",col,symbolkind=\"dot\")\n",
    "        add(p,p1)\n",
    "    end\n",
    "    p\n",
    "end"
   ]
  },
  {
   "cell_type": "code",
   "execution_count": 15,
   "metadata": {
    "collapsed": false
   },
   "outputs": [
    {
     "data": {
      "text/plain": [
       "([2,-3],[2,3,4,1],[537,720,501,562])"
      ]
     },
     "execution_count": 15,
     "metadata": {},
     "output_type": "execute_result"
    }
   ],
   "source": [
    "# Generate concentric rings\n",
    "k=4\n",
    "# Center\n",
    "center=[rand(-5:5);rand(-5:5)]\n",
    "# Radii\n",
    "radii=randperm(k)[1:k]\n",
    "# Number of points in circles\n",
    "sizes=rand(500:1000,k)\n",
    "center,radii,sizes"
   ]
  },
  {
   "cell_type": "code",
   "execution_count": 16,
   "metadata": {
    "collapsed": false
   },
   "outputs": [
    {
     "data": {
      "image/png": "[encoded data removed]",
      "text/plain": [
       "Winston.FramedPlot(...)"
      ]
     },
     "execution_count": 16,
     "metadata": {},
     "output_type": "execute_result"
    }
   ],
   "source": [
    "# Points\n",
    "m=sum(sizes)\n",
    "X=Array(Float64,2,m)\n",
    "first=0\n",
    "last=0\n",
    "for j=1:k\n",
    "    first=last+1\n",
    "    last=last+sizes[j]\n",
    "    # Random angles\n",
    "    ϕ=2*π*rand(sizes[j])\n",
    "    for i=first:last\n",
    "        l=i-first+1\n",
    "        X[:,i]=center+radii[j]*[cos(ϕ[l]);sin(ϕ[l])]+(rand(2)-0.5)/50\n",
    "    end\n",
    "end\n",
    "Winston.plot(X[1,:],X[2,:],\".\")"
   ]
  },
  {
   "cell_type": "code",
   "execution_count": 17,
   "metadata": {
    "collapsed": false
   },
   "outputs": [
    {
     "data": {
      "text/plain": [
       "10"
      ]
     },
     "execution_count": 17,
     "metadata": {},
     "output_type": "execute_result"
    }
   ],
   "source": [
    "S=pairwise(SqEuclidean(),X)\n",
    "# S=pairwise(Cityblock(),X)\n",
    "β=10"
   ]
  },
  {
   "cell_type": "code",
   "execution_count": 18,
   "metadata": {
    "collapsed": false
   },
   "outputs": [
    {
     "data": {
      "text/plain": [
       "2320x2320 Array{Float64,2}:\n",
       "  1.0          -1.209e-71    -1.92834e-39  …  -3.03953e-36  -2.26561e-22\n",
       " -1.209e-71     1.0          -1.64755e-37     -9.66287e-11  -4.5086e-27 \n",
       " -1.92834e-39  -1.64755e-37   1.0             -1.37265e-35  -7.24795e-7 \n",
       " -1.10739e-67  -4.64815e-7   -3.7341e-19      -2.31656e-18  -1.54339e-17\n",
       " -4.17992e-65  -2.46139e-10  -9.45763e-15     -3.75481e-21  -3.33328e-15\n",
       " -0.0430634    -2.63725e-71  -7.65042e-38  …  -1.9703e-36   -1.72084e-21\n",
       " -9.94939e-39  -1.48386e-31  -4.85096e-71     -9.26147e-11  -6.14966e-41\n",
       " -4.20003e-34  -8.56239e-37  -6.4158e-72      -9.5739e-13   -3.91767e-41\n",
       " -4.42458e-71  -0.0184151    -7.57074e-32     -1.68822e-12  -4.22441e-24\n",
       " -4.62107e-19  -8.20901e-52  -7.36016e-68     -1.71364e-19  -8.31121e-38\n",
       " -1.58201e-65  -5.02428e-10  -3.67209e-15  …  -5.699e-21    -1.79625e-15\n",
       " -7.92223e-51  -2.89374e-20  -6.82861e-68     -8.31717e-8   -1.78269e-40\n",
       " -3.90653e-70  -5.5743e-5    -1.52412e-23     -1.64354e-16  -4.51975e-20\n",
       "  ⋮                                        ⋱                            \n",
       " -1.11738e-40  -7.05814e-8   -8.67089e-18     -3.89663e-7   -2.47753e-9 \n",
       " -8.0823e-7    -3.83567e-41  -1.30473e-22     -6.47989e-18  -6.51872e-9 \n",
       " -3.99139e-33  -1.80783e-13  -6.57497e-38  …  -0.012678     -1.16312e-18\n",
       " -1.94695e-14  -9.75587e-35  -3.96021e-10     -1.28889e-19  -0.00229839 \n",
       " -1.39542e-28  -8.36435e-21  -5.09602e-7      -2.1535e-15   -0.00570527 \n",
       " -1.34689e-35  -4.28869e-11  -1.42933e-35     -0.0191767    -1.1088e-17 \n",
       " -1.21009e-20  -7.45313e-29  -3.37741e-7      -2.12712e-18  -0.0196547  \n",
       " -1.94128e-29  -4.21748e-20  -4.11408e-7   …  -3.56207e-15  -0.00404644 \n",
       " -2.50425e-15  -1.9623e-31   -6.40343e-40     -7.79185e-9   -2.87603e-18\n",
       " -4.92935e-7   -1.75549e-40  -6.2295e-29      -1.13234e-15  -4.33194e-12\n",
       " -3.03953e-36  -9.66287e-11  -1.37265e-35      1.0          -8.38377e-18\n",
       " -2.26561e-22  -4.5086e-27   -7.24795e-7      -8.38377e-18   1.0        "
      ]
     },
     "execution_count": 18,
     "metadata": {},
     "output_type": "execute_result"
    }
   ],
   "source": [
    "W=exp(-β*S)\n",
    "D=vec(sum(W,2))\n",
    "L=diagm(D)-W\n",
    "Ln=normalized(L)"
   ]
  },
  {
   "cell_type": "code",
   "execution_count": 19,
   "metadata": {
    "collapsed": false
   },
   "outputs": [
    {
     "name": "stdout",
     "output_type": "stream",
     "text": [
      "λ = [-3.112883198138873e-16,2.827959511967512e-5,0.00010276007138703098,0.00016316023116458905]\n"
     ]
    },
    {
     "data": {
      "image/png": "[encoded data removed]",
      "text/plain": [
       "Winston.FramedPlot(...)"
      ]
     },
     "execution_count": 19,
     "metadata": {},
     "output_type": "execute_result"
    }
   ],
   "source": [
    "# Normalized Laplacian\n",
    "λ,Y=eigs(Ln,nev=k,which=:SM, v0=ones(m))\n",
    "@show λ\n",
    "Y=diagm(1.0./sqrt(D))*Y\n",
    "out=kmeans(Y',k)\n",
    "plotKpartresult(out.assignments,X)"
   ]
  },
  {
   "cell_type": "code",
   "execution_count": 20,
   "metadata": {
    "collapsed": false
   },
   "outputs": [
    {
     "data": {
      "image/png": "[encoded data removed]",
      "text/plain": [
       "Winston.FramedPlot(...)"
      ]
     },
     "execution_count": 20,
     "metadata": {},
     "output_type": "execute_result"
    }
   ],
   "source": [
    "# Laplacian\n",
    "λ,Y=eigs(L,nev=k,which=:SM, v0=ones(m))\n",
    "out=kmeans(Y',k)\n",
    "plotKpartresult(out.assignments,X)"
   ]
  },
  {
   "cell_type": "markdown",
   "metadata": {
    "collapsed": true
   },
   "source": [
    "Caveat! There is a little bit of cheating here."
   ]
  },
  {
   "cell_type": "code",
   "execution_count": null,
   "metadata": {
    "collapsed": true
   },
   "outputs": [],
   "source": []
  }
 ],
 "metadata": {
  "kernelspec": {
   "display_name": "Julia 0.4.5",
   "language": "julia",
   "name": "julia-0.4"
  },
  "language_info": {
   "file_extension": ".jl",
   "mimetype": "application/julia",
   "name": "julia",
   "version": "0.4.5"
  }
 },
 "nbformat": 4,
 "nbformat_minor": 0
}
