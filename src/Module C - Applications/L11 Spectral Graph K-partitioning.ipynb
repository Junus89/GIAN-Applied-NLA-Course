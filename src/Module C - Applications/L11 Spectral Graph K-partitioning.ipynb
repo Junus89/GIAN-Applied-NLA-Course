{
 "cells": [
  {
   "cell_type": "markdown",
   "metadata": {},
   "source": [
    "# Spectral Graph K-partitioning\n",
    "\n",
    "---\n",
    "\n",
    "Instead of using recursive spectral bipartitioning, the graph $k$-partitioning problem can be solved using $k$ eigenvectors which correspond to $k$ smallest eigenvalues of Laplaciain matrix or normalized Laplacian matrix, respectively.\n",
    "\n",
    "Suggested reading is [U. von Luxburg, A Tutorial on Spectral Clustering][Lux07], which includes the quote _\"spectral clustering cannot serve as a “black box algorithm” which automatically detects the correct clusters in any\n",
    "given data set. But it can be considered as a powerful tool which can produce good results if applied with care.\"_\n",
    "\n",
    "[Lux07]: http://www.kyb.mpg.de/fileadmin/user_upload/files/publications/attachments/luxburg06_TR_v2_4139%5b1%5d.pdf \"U. von Luxburg, 'A Tutorial on Spectral Clustering', Max Planck Institute for Biological Cybernetics, Tübingen, 2007.\"\n",
    "\n",
    "## Prerequisites\n",
    "\n",
    "The reader should be familiar with k-means algorithm, spectral graph bipartitioning and \n",
    "recursive bipartitioning.\n",
    " \n",
    "## Competences \n",
    "\n",
    "The reader should be able to apply graph spectral k-partitioning to data clustering problems.\n",
    "\n",
    "__Credits__: The notebook is based on [I. Mirošević, Spectral Graph Partitioning and Application to Knowledge Extraction][Mir05].\n",
    "\n",
    "[Mir05]: #1 \"I. Mirošević, 'Spectral Graph Partitioning and Application to Knowledge Extraction', M.Sc. Thesis, Iniversity of Zagreb, 2005 (in Croatian).\" \n",
    "\n",
    "---"
   ]
  },
  {
   "cell_type": "markdown",
   "metadata": {},
   "source": [
    "## The relaxed problem\n",
    "\n",
    "Let $G=(V,E)$ be a weighted graph with weights $\\omega$, with weights matrix $W$, Laplacian matrix $L=D-W$, and normalized Laplacian matrix $L_n=D^{-1/2}(D-W)D^{-1/2}$. \n",
    "\n",
    "Let the $k$-partition $\\pi_k =\\{V_{1},V_{2},...,V_{k}\\}$, the cut $cut(\\pi_k)$, \n",
    "the proportional cut $pcut(\\pi_k)$ and \n",
    "the normalized cut $ncut(\\pi_k)$ be defined as in the\n",
    "[Spectral Graph Bipartitioning](L10 Spectral Graph Bipartitioning.ipynb) notebook.\n",
    "\n",
    "### Definition\n",
    "\n",
    "__Partition vectors__ of a $k$-partition $\\pi_k$ are\n",
    "\\begin{align*}\n",
    "h_{1} &=[\\overset{\\displaystyle |V_{1}|}{\\overbrace{1,\\cdots\n",
    ",1}},0,\\cdots\n",
    ",0,\\cdots ,0,\\cdots ,0]^{T}  \\\\\n",
    "h_{2} &=[0,\\cdots\n",
    ",0,\\overset{\\displaystyle |V_{2}|}{\\overbrace{1,\\cdots ,1}} ,\\cdots ,0,\\cdots\n",
    ",0]^{T} \\\\\n",
    "&\\vdots \\\\\n",
    "h_{k} &=[0,\\cdots ,0,0,\\cdots ,0,\\cdots\n",
    ",\\overset{\\displaystyle |V_{k}|}{ \\overbrace{1,\\cdots ,1}}]^{T}.\n",
    "\\end{align*}\n",
    "\n",
    "### Facts\n",
    "\n",
    "1. Set\n",
    "\\begin{align*}\n",
    "X&=\\begin{bmatrix} x_1 & x_2 &\\cdots & x_k \\end{bmatrix}, \\quad \n",
    "x_i=\\displaystyle \\frac{h_i}{\\|h_i\\|_2}, \\\\\n",
    "Y&=\\begin{bmatrix} y_1 & y_2 &\\cdots & y_k \\end{bmatrix}, \\quad\n",
    "y_i=\\displaystyle \\frac{D^{1/2}h_i}{\\|D^{1/2}h_i\\|_2}.\n",
    "\\end{align*}\n",
    "It holds\n",
    "\\begin{align*}\n",
    "& cut(V_{i},V\\backslash V_{i})=h_{i}^{T}(D-W)h_{i}=h_{i}^{T}L h_{i},\\quad \n",
    "\\omega( C_{i})=h_{i}^{T}D h_{i},\\quad |C_{i}| =h_{i}^{T}h_{i},\\\\\n",
    "& pcut(\\pi_k) =\\frac{h_{1}^{T}L h_{1}}{h_{1}^{T} h_{1}}+\n",
    "\\cdots + \\frac{h_{k}^{T}L h_{k}}{h_{k}^{T}h_{k}}\n",
    "=x_{1}^{T}L x_{1}+\\cdots +x_{k}^{T}Lx_{k}=\\mathop{\\mathrm{trace}}(X^{T}LX),\\\\\n",
    "& ncut(\\pi_k)=\\frac{h_{1}^{T}L h_{1}}{h_{1}^{T}D h_{1}}+\\cdots\n",
    "+\\frac{h_{k}^{T}L h_{k}}{h_{k}^{T}D h_{k}}\n",
    "=\\mathop{\\mathrm{trace}}(Y^{T}L_{n}Y).\n",
    "\\end{align*}\n",
    "\n",
    "2. The __relaxed__ $k$-partitioning problems are trace-minimization problems,\n",
    "\\begin{align*}\n",
    "\\min_{\\displaystyle \\pi_k} pcut(\\pi_k) &\\geq\n",
    "\\underset{\\displaystyle X\\in\\mathbb{R}^{n\\times k}}{\\min_{\\displaystyle X^{T}X=I}}\n",
    "\\mathop{\\mathrm{trace}}(X^{T}LX),\\\\\n",
    "\\min_{\\displaystyle \\pi_k} ncut(\\pi_k) &\\geq\n",
    "\\underset{\\displaystyle Y\\in\\mathbb{R}^{n\\times\n",
    "k}}{\\min_{\\displaystyle Y^{T}Y=I}}\\mathop{\\mathrm{trace}}(Y^{T}L_{n}Y).\n",
    "\\end{align*}\n",
    "\n",
    "3. __Ky-Fan  Theorem__: Let $A\\in \\mathbb{R}^{n\\times n}$ be a symmetric matrix with\n",
    "eigenvalues $\\lambda _1\\leq \\cdots \\leq \\lambda_n$. Then\n",
    "$$\n",
    "\\underset{\\displaystyle Z^TZ=I}{\\min_{\\displaystyle Z\\in \\mathbb{R}^{n\\times\n",
    "k}}}\\mathop{\\mathrm{trace}}\\left(Z^{T}AZ\\right)\n",
    "=\\sum_{i=1}^{k}\\lambda_{i}.\n",
    "$$\n",
    "\n",
    "4. Let $\\lambda_1\\leq \\cdots \\leq \\lambda_n$ be the eigenvalues of $L$ with eigenvectors \n",
    "$v^{[1]},\\cdots ,v^{[k]}$. The solution of the relaxed proportional cut problem is the matrix $X=\\begin{bmatrix}v^{[1]} & \\cdots & v^{[k]}\\end{bmatrix}$, and it holds\n",
    "$\\min\\limits_{\\displaystyle \\pi_k} pcut(\\pi_k)\\geq \\sum\\limits_{i=1}^k \\lambda_i$.\n",
    "\n",
    "5. Let $\\mu_1\\leq \\cdots \\leq \\mu_n$ be the eigenvalues of $L_n$ with eigenvectors \n",
    "$w^{[1]},\\cdots ,w^{[k]}$. The solution of the relaxed normalized cut problem is the matrix $Y=\\begin{bmatrix}w^{[1]} & \\cdots & w^{[k]}\\end{bmatrix}$, and it holds\n",
    "$\\min\\limits_{\\displaystyle \\pi_k} ncut(\\pi_k)\\geq \\sum\\limits_{i=1}^k \\mu_i$.\n",
    "\n",
    "6. It remains to recover the $k$-partition. The k-means algorithm applied to rows of the matrices $X$ or $D^{-1/2}Y$, will compute the $k$ centers and the assignment vector whose $i$-th component denotes the subset $V_j$ to which the vertex $i$ belongs."
   ]
  },
  {
   "cell_type": "markdown",
   "metadata": {},
   "source": [
    "### Example - Graph with three clusters"
   ]
  },
  {
   "cell_type": "code",
   "execution_count": 3,
   "metadata": {
    "collapsed": false
   },
   "outputs": [],
   "source": [
    "using Graphs\n",
    "using IJuliaPortrayals\n",
    "using Clustering"
   ]
  },
  {
   "cell_type": "code",
   "execution_count": 4,
   "metadata": {
    "collapsed": false
   },
   "outputs": [
    {
     "data": {
      "text/plain": [
       "13×3 Array{Int64,2}:\n",
       " 1  2  2\n",
       " 1  3  3\n",
       " 1  4  4\n",
       " 2  3  4\n",
       " 2  4  5\n",
       " 3  4  6\n",
       " 2  7  1\n",
       " 3  5  1\n",
       " 5  6  7\n",
       " 6  9  1\n",
       " 7  9  3\n",
       " 7  8  4\n",
       " 8  9  2"
      ]
     },
     "execution_count": 4,
     "metadata": {},
     "output_type": "execute_result"
    }
   ],
   "source": [
    "# Sources, targets, and weight\n",
    "sn=[1,1,1,2,2,3,2,3,5,6,7,7,8]\n",
    "tn=[2,3,4,3,4,4,7,5,6,9,9,8,9]\n",
    "wn=[2,3,4,4,5,6,1,1,7,1,3,4,2]\n",
    "[sn tn wn]"
   ]
  },
  {
   "cell_type": "code",
   "execution_count": 5,
   "metadata": {
    "collapsed": true
   },
   "outputs": [],
   "source": [
    "n=9\n",
    "m=length(sn)\n",
    "G = inclist(ExVertex, ExEdge{ExVertex}; is_directed=false)\n",
    "for i=1:9\n",
    "    add_vertex!(G, ExVertex(i,\"$i\"))\n",
    "end\n",
    "for i=1:m\n",
    "    add_edge!(G, vertices(G)[sn[i]], vertices(G)[tn[i]])\n",
    "end\n",
    "for i=1:length(G.inclist)\n",
    "    for j=1:length(G.inclist[i])\n",
    "        ei=G.inclist[i][j]\n",
    "        attrs = attributes(ei, G)\n",
    "        attrs[\"label\"] = wn[edge_index(ei,G)]\n",
    "    end\n",
    "end"
   ]
  },
  {
   "cell_type": "code",
   "execution_count": 7,
   "metadata": {
    "collapsed": false
   },
   "outputs": [
    {
     "data": {
      "text/html": [
       "<?xml version=\"1.0\" encoding=\"UTF-8\" standalone=\"no\"?>\r\n",
       "<!DOCTYPE svg PUBLIC \"-//W3C//DTD SVG 1.1//EN\"\r\n",
       " \"http://www.w3.org/Graphics/SVG/1.1/DTD/svg11.dtd\">\r\n",
       "<!-- Generated by graphviz version 2.38.0 (20140413.2041)\r\n",
       " -->\r\n",
       "<!-- Title: graphname Pages: 1 -->\r\n",
       "<svg width=\"254pt\" height=\"275pt\"\r\n",
       " viewBox=\"0.00 0.00 254.37 274.83\" xmlns=\"http://www.w3.org/2000/svg\" xmlns:xlink=\"http://www.w3.org/1999/xlink\">\r\n",
       "<g id=\"graph0\" class=\"graph\" transform=\"scale(1 1) rotate(0) translate(120.217 123.76)\">\r\n",
       "<title>graphname</title>\r\n",
       "<polygon fill=\"white\" stroke=\"none\" points=\"-120.217,151.066 -120.217,-123.76 134.155,-123.76 134.155,151.066 -120.217,151.066\"/>\r\n",
       "<!-- 1 -->\r\n",
       "<g id=\"node1\" class=\"node\"><title>1</title>\r\n",
       "<ellipse fill=\"none\" stroke=\"black\" cx=\"-89.217\" cy=\"-62.7736\" rx=\"27\" ry=\"18\"/>\r\n",
       "<text text-anchor=\"middle\" x=\"-89.217\" y=\"-59.0736\" font-family=\"Times New Roman,serif\" font-size=\"14.00\">1</text>\r\n",
       "</g>\r\n",
       "<!-- 2 -->\r\n",
       "<g id=\"node2\" class=\"node\"><title>2</title>\r\n",
       "<ellipse fill=\"none\" stroke=\"black\" cx=\"-50.3767\" cy=\"-15.2504\" rx=\"27\" ry=\"18\"/>\r\n",
       "<text text-anchor=\"middle\" x=\"-50.3767\" y=\"-11.5504\" font-family=\"Times New Roman,serif\" font-size=\"14.00\">2</text>\r\n",
       "</g>\r\n",
       "<!-- 1&#45;&#45;2 -->\r\n",
       "<g id=\"edge1\" class=\"edge\"><title>1&#45;&#45;2</title>\r\n",
       "<path fill=\"none\" stroke=\"black\" d=\"M-76.2838,-46.9491C-72.135,-41.8729 -67.54,-36.2507 -63.3859,-31.1679\"/>\r\n",
       "<text text-anchor=\"middle\" x=\"-73.3348\" y=\"-27.8585\" font-family=\"Times New Roman,serif\" font-size=\"14.00\">2</text>\r\n",
       "</g>\r\n",
       "<!-- 3 -->\r\n",
       "<g id=\"node3\" class=\"node\"><title>3</title>\r\n",
       "<ellipse fill=\"none\" stroke=\"black\" cx=\"-1.44178\" cy=\"-69.438\" rx=\"27\" ry=\"18\"/>\r\n",
       "<text text-anchor=\"middle\" x=\"-1.44178\" y=\"-65.738\" font-family=\"Times New Roman,serif\" font-size=\"14.00\">3</text>\r\n",
       "</g>\r\n",
       "<!-- 1&#45;&#45;3 -->\r\n",
       "<g id=\"edge2\" class=\"edge\"><title>1&#45;&#45;3</title>\r\n",
       "<path fill=\"none\" stroke=\"black\" d=\"M-61.9255,-64.8457C-51.2565,-65.6558 -39.053,-66.5823 -28.4149,-67.39\"/>\r\n",
       "<text text-anchor=\"middle\" x=\"-48.6702\" y=\"-69.9179\" font-family=\"Times New Roman,serif\" font-size=\"14.00\">3</text>\r\n",
       "</g>\r\n",
       "<!-- 4 -->\r\n",
       "<g id=\"node4\" class=\"node\"><title>4</title>\r\n",
       "<ellipse fill=\"none\" stroke=\"black\" cx=\"-51.3452\" cy=\"-101.76\" rx=\"27\" ry=\"18\"/>\r\n",
       "<text text-anchor=\"middle\" x=\"-51.3452\" y=\"-98.0603\" font-family=\"Times New Roman,serif\" font-size=\"14.00\">4</text>\r\n",
       "</g>\r\n",
       "<!-- 1&#45;&#45;4 -->\r\n",
       "<g id=\"edge3\" class=\"edge\"><title>1&#45;&#45;4</title>\r\n",
       "<path fill=\"none\" stroke=\"black\" d=\"M-74.2491,-78.1822C-71.6026,-80.9066 -68.8479,-83.7424 -66.2045,-86.4636\"/>\r\n",
       "<text text-anchor=\"middle\" x=\"-73.7268\" y=\"-71.1229\" font-family=\"Times New Roman,serif\" font-size=\"14.00\">4</text>\r\n",
       "</g>\r\n",
       "<!-- 2&#45;&#45;3 -->\r\n",
       "<g id=\"edge4\" class=\"edge\"><title>2&#45;&#45;3</title>\r\n",
       "<path fill=\"none\" stroke=\"black\" d=\"M-36.2227,-30.9237C-29.674,-38.1754 -21.9187,-46.763 -15.395,-53.987\"/>\r\n",
       "<text text-anchor=\"middle\" x=\"-22.3088\" y=\"-31.2554\" font-family=\"Times New Roman,serif\" font-size=\"14.00\">4</text>\r\n",
       "</g>\r\n",
       "<!-- 2&#45;&#45;4 -->\r\n",
       "<g id=\"edge5\" class=\"edge\"><title>2&#45;&#45;4</title>\r\n",
       "<path fill=\"none\" stroke=\"black\" d=\"M-50.5821,-33.5969C-50.7476,-48.3772 -50.9789,-69.0433 -51.1434,-83.7369\"/>\r\n",
       "<text text-anchor=\"middle\" x=\"-54.3628\" y=\"-47.4669\" font-family=\"Times New Roman,serif\" font-size=\"14.00\">5</text>\r\n",
       "</g>\r\n",
       "<!-- 7 -->\r\n",
       "<g id=\"node5\" class=\"node\"><title>7</title>\r\n",
       "<ellipse fill=\"none\" stroke=\"black\" cx=\"-28.4878\" cy=\"60.6932\" rx=\"27\" ry=\"18\"/>\r\n",
       "<text text-anchor=\"middle\" x=\"-28.4878\" y=\"64.3932\" font-family=\"Times New Roman,serif\" font-size=\"14.00\">7</text>\r\n",
       "</g>\r\n",
       "<!-- 2&#45;&#45;7 -->\r\n",
       "<g id=\"edge6\" class=\"edge\"><title>2&#45;&#45;7</title>\r\n",
       "<path fill=\"none\" stroke=\"black\" d=\"M-45.1893,2.74715C-41.7,14.8532 -37.1194,30.7458 -33.6379,42.8248\"/>\r\n",
       "<text text-anchor=\"middle\" x=\"-42.9136\" y=\"18.986\" font-family=\"Times New Roman,serif\" font-size=\"14.00\">1</text>\r\n",
       "</g>\r\n",
       "<!-- 3&#45;&#45;4 -->\r\n",
       "<g id=\"edge7\" class=\"edge\"><title>3&#45;&#45;4</title>\r\n",
       "<path fill=\"none\" stroke=\"black\" d=\"M-20.8786,-82.0272C-24.4911,-84.367 -28.266,-86.8119 -31.8793,-89.1523\"/>\r\n",
       "<text text-anchor=\"middle\" x=\"-29.879\" y=\"-74.3897\" font-family=\"Times New Roman,serif\" font-size=\"14.00\">6</text>\r\n",
       "</g>\r\n",
       "<!-- 5 -->\r\n",
       "<g id=\"node6\" class=\"node\"><title>5</title>\r\n",
       "<ellipse fill=\"none\" stroke=\"black\" cx=\"76.6475\" cy=\"-51.9589\" rx=\"27\" ry=\"18\"/>\r\n",
       "<text text-anchor=\"middle\" x=\"76.6475\" y=\"-48.2589\" font-family=\"Times New Roman,serif\" font-size=\"14.00\">5</text>\r\n",
       "</g>\r\n",
       "<!-- 3&#45;&#45;5 -->\r\n",
       "<g id=\"edge8\" class=\"edge\"><title>3&#45;&#45;5</title>\r\n",
       "<path fill=\"none\" stroke=\"black\" d=\"M24.5608,-63.6177C33.0794,-61.711 42.5337,-59.5948 51.0241,-57.6943\"/>\r\n",
       "<text text-anchor=\"middle\" x=\"34.2925\" y=\"-64.456\" font-family=\"Times New Roman,serif\" font-size=\"14.00\">1</text>\r\n",
       "</g>\r\n",
       "<!-- 9 -->\r\n",
       "<g id=\"node8\" class=\"node\"><title>9</title>\r\n",
       "<ellipse fill=\"none\" stroke=\"black\" cx=\"49.079\" cy=\"85.2128\" rx=\"27\" ry=\"18\"/>\r\n",
       "<text text-anchor=\"middle\" x=\"49.079\" y=\"88.9128\" font-family=\"Times New Roman,serif\" font-size=\"14.00\">9</text>\r\n",
       "</g>\r\n",
       "<!-- 7&#45;&#45;9 -->\r\n",
       "<g id=\"edge11\" class=\"edge\"><title>7&#45;&#45;9</title>\r\n",
       "<path fill=\"none\" stroke=\"black\" d=\"M-3.94516,68.4513C5.10919,71.3135 15.3661,74.5558 24.4298,77.4209\"/>\r\n",
       "<text text-anchor=\"middle\" x=\"6.74233\" y=\"69.1361\" font-family=\"Times New Roman,serif\" font-size=\"14.00\">3</text>\r\n",
       "</g>\r\n",
       "<!-- 8 -->\r\n",
       "<g id=\"node9\" class=\"node\"><title>8</title>\r\n",
       "<ellipse fill=\"none\" stroke=\"black\" cx=\"-8.01311\" cy=\"129.066\" rx=\"27\" ry=\"18\"/>\r\n",
       "<text text-anchor=\"middle\" x=\"-8.01311\" y=\"132.766\" font-family=\"Times New Roman,serif\" font-size=\"14.00\">8</text>\r\n",
       "</g>\r\n",
       "<!-- 7&#45;&#45;8 -->\r\n",
       "<g id=\"edge12\" class=\"edge\"><title>7&#45;&#45;8</title>\r\n",
       "<path fill=\"none\" stroke=\"black\" d=\"M-23.1083,78.6573C-20.1225,88.6279 -16.4191,100.995 -13.4277,110.984\"/>\r\n",
       "<text text-anchor=\"middle\" x=\"-21.768\" y=\"91.0209\" font-family=\"Times New Roman,serif\" font-size=\"14.00\">4</text>\r\n",
       "</g>\r\n",
       "<!-- 6 -->\r\n",
       "<g id=\"node7\" class=\"node\"><title>6</title>\r\n",
       "<ellipse fill=\"none\" stroke=\"black\" cx=\"103.155\" cy=\"26.2093\" rx=\"27\" ry=\"18\"/>\r\n",
       "<text text-anchor=\"middle\" x=\"103.155\" y=\"29.9093\" font-family=\"Times New Roman,serif\" font-size=\"14.00\">6</text>\r\n",
       "</g>\r\n",
       "<!-- 5&#45;&#45;6 -->\r\n",
       "<g id=\"edge9\" class=\"edge\"><title>5&#45;&#45;6</title>\r\n",
       "<path fill=\"none\" stroke=\"black\" d=\"M82.6625,-34.2213C87.0006,-21.4286 92.8312,-4.23465 97.1639,8.54191\"/>\r\n",
       "<text text-anchor=\"middle\" x=\"86.4132\" y=\"-16.6397\" font-family=\"Times New Roman,serif\" font-size=\"14.00\">7</text>\r\n",
       "</g>\r\n",
       "<!-- 6&#45;&#45;9 -->\r\n",
       "<g id=\"edge10\" class=\"edge\"><title>6&#45;&#45;9</title>\r\n",
       "<path fill=\"none\" stroke=\"black\" d=\"M88.9472,41.7118C81.0615,50.316 71.2803,60.9885 63.3797,69.609\"/>\r\n",
       "<text text-anchor=\"middle\" x=\"72.6635\" y=\"51.8604\" font-family=\"Times New Roman,serif\" font-size=\"14.00\">1</text>\r\n",
       "</g>\r\n",
       "<!-- 8&#45;&#45;9 -->\r\n",
       "<g id=\"edge13\" class=\"edge\"><title>8&#45;&#45;9</title>\r\n",
       "<path fill=\"none\" stroke=\"black\" d=\"M9.73823,115.431C16.5468,110.201 24.3162,104.233 31.142,98.9904\"/>\r\n",
       "<text text-anchor=\"middle\" x=\"16.9401\" y=\"103.411\" font-family=\"Times New Roman,serif\" font-size=\"14.00\">2</text>\r\n",
       "</g>\r\n",
       "</g>\r\n",
       "</svg>\r\n"
      ],
      "text/plain": [
       "IJuliaPortrayals.GraphViz(\"graph graphname {\\n1 -- 2 [\\\"label\\\"=\\\"2\\\"]\\n1 -- 3 [\\\"label\\\"=\\\"3\\\"]\\n1 -- 4 [\\\"label\\\"=\\\"4\\\"]\\n2 -- 3 [\\\"label\\\"=\\\"4\\\"]\\n2 -- 4 [\\\"label\\\"=\\\"5\\\"]\\n2 -- 7 [\\\"label\\\"=\\\"1\\\"]\\n3 -- 4 [\\\"label\\\"=\\\"6\\\"]\\n3 -- 5 [\\\"label\\\"=\\\"1\\\"]\\n5 -- 6 [\\\"label\\\"=\\\"7\\\"]\\n6 -- 9 [\\\"label\\\"=\\\"1\\\"]\\n7 -- 9 [\\\"label\\\"=\\\"3\\\"]\\n7 -- 8 [\\\"label\\\"=\\\"4\\\"]\\n8 -- 9 [\\\"label\\\"=\\\"2\\\"]\\n}\\n\",\"neato\",\"svg\")"
      ]
     },
     "execution_count": 7,
     "metadata": {},
     "output_type": "execute_result"
    }
   ],
   "source": [
    "# What is the optimal tripartition?\n",
    "GraphViz(to_dot(G),\"neato\",\"svg\")"
   ]
  },
  {
   "cell_type": "code",
   "execution_count": 8,
   "metadata": {
    "collapsed": false
   },
   "outputs": [
    {
     "data": {
      "text/plain": [
       "9×9 Array{Int64,2}:\n",
       "  9  -2  -3  -4   0   0   0   0   0\n",
       " -2  12  -4  -5   0   0  -1   0   0\n",
       " -3  -4  14  -6  -1   0   0   0   0\n",
       " -4  -5  -6  15   0   0   0   0   0\n",
       "  0   0  -1   0   8  -7   0   0   0\n",
       "  0   0   0   0  -7   8   0   0  -1\n",
       "  0  -1   0   0   0   0   8  -4  -3\n",
       "  0   0   0   0   0   0  -4   6  -2\n",
       "  0   0   0   0   0  -1  -3  -2   6"
      ]
     },
     "execution_count": 8,
     "metadata": {},
     "output_type": "execute_result"
    }
   ],
   "source": [
    "L=laplacian_matrix(G,wn)"
   ]
  },
  {
   "cell_type": "code",
   "execution_count": 9,
   "metadata": {
    "collapsed": false
   },
   "outputs": [
    {
     "data": {
      "text/plain": [
       "normalized (generic function with 1 method)"
      ]
     },
     "execution_count": 9,
     "metadata": {},
     "output_type": "execute_result"
    }
   ],
   "source": [
    "# Normalized Laplacian matrix\n",
    "function normalized(L::Matrix)\n",
    "    D=1.0./sqrt(diag(L))\n",
    "    n=length(D)\n",
    "    Ln=map(Float64,Symmetric([L[i,j]*D[i]*D[j] for i=1:n,j=1:n]))\n",
    "    # Set diagonal exactly to 1\n",
    "    for i=1:n\n",
    "        Ln[i,i]=1.0\n",
    "    end\n",
    "    Ln  \n",
    "end"
   ]
  },
  {
   "cell_type": "code",
   "execution_count": 10,
   "metadata": {
    "collapsed": false
   },
   "outputs": [
    {
     "data": {
      "text/plain": [
       "9×9 Array{Float64,2}:\n",
       "  1.0       -0.19245   -0.267261   …   0.0        0.0        0.0     \n",
       " -0.19245    1.0       -0.308607      -0.102062   0.0        0.0     \n",
       " -0.267261  -0.308607   1.0            0.0        0.0        0.0     \n",
       " -0.344265  -0.372678  -0.414039       0.0        0.0        0.0     \n",
       "  0.0        0.0       -0.0944911      0.0        0.0        0.0     \n",
       "  0.0        0.0        0.0        …   0.0        0.0       -0.144338\n",
       "  0.0       -0.102062   0.0            1.0       -0.57735   -0.433013\n",
       "  0.0        0.0        0.0           -0.57735    1.0       -0.333333\n",
       "  0.0        0.0        0.0           -0.433013  -0.333333   1.0     "
      ]
     },
     "execution_count": 10,
     "metadata": {},
     "output_type": "execute_result"
    }
   ],
   "source": [
    "Ln=normalized(L)"
   ]
  },
  {
   "cell_type": "code",
   "execution_count": 11,
   "metadata": {
    "collapsed": false
   },
   "outputs": [
    {
     "data": {
      "text/plain": [
       "([4.93432e-16,0.788523,1.21049],\n",
       "[-0.333333 0.383624 -0.121476; -0.333333 0.323492 -0.129956; … ; -0.333333 -0.424836 -0.311411; -0.333333 -0.395981 -0.18078],\n",
       "\n",
       "3,1,9,[0.0,0.0,0.0,0.0,0.0,0.0,0.0,0.0,0.0])"
      ]
     },
     "execution_count": 11,
     "metadata": {},
     "output_type": "execute_result"
    }
   ],
   "source": [
    "# Proportional cut, the clustering is visible in the components of v_2 and v_3\n",
    "λ,Y=eigs(L,nev=3,which=:SM, v0=ones(n))"
   ]
  },
  {
   "cell_type": "code",
   "execution_count": 12,
   "metadata": {
    "collapsed": false
   },
   "outputs": [
    {
     "data": {
      "text/plain": [
       "Clustering.KmeansResult{Float64}([-0.333333 -0.333333 -0.333333; -0.392111 -0.121365 0.354766; -0.258226 0.608256 -0.110459],[3,3,3,3,2,2,1,1,1],[0.000954196,0.00135823,0.00133947,0.000178756,0.000693622,0.000693622,0.00192775,0.00389961,0.00601275],[3,2,4],[3.0,2.0,4.0],0.017057998334039592,2,true)"
      ]
     },
     "execution_count": 12,
     "metadata": {},
     "output_type": "execute_result"
    }
   ],
   "source": [
    "out=kmeans(Y',3)"
   ]
  },
  {
   "cell_type": "code",
   "execution_count": 13,
   "metadata": {
    "collapsed": false
   },
   "outputs": [
    {
     "data": {
      "text/plain": [
       "Clustering.KmeansResult{Float64}([-0.107833 -0.107833 -0.107833; -0.104042 0.0909339 -0.144522; -0.19892 0.011189 0.131546],[2,2,2,2,1,1,3,3,3],[6.01793e-5,0.000196695,0.000160142,3.37657e-5,8.23425e-5,8.23425e-5,0.00019114,0.000443174,0.000779667],[2,4,3],[2.0,4.0,3.0],0.00202944764931251,2,true)"
      ]
     },
     "execution_count": 13,
     "metadata": {},
     "output_type": "execute_result"
    }
   ],
   "source": [
    "# Normalized cut\n",
    "# Lanczos cannot be used for \"smallest in magnitude\" evals of a singular matrix\n",
    "# The above case is exception, rather than rule.\n",
    "# λ,Y=eigs(Ln,nev=3,which=:SM) \n",
    "μ,Y=eig(Ln)\n",
    "Y=Y[:,1:3]\n",
    "D=sqrt(diag(L))\n",
    "Y=diagm(1.0./D)*Y\n",
    "out=kmeans(Y',3)"
   ]
  },
  {
   "cell_type": "markdown",
   "metadata": {},
   "source": [
    "### Example - Concentric rings"
   ]
  },
  {
   "cell_type": "code",
   "execution_count": 14,
   "metadata": {
    "collapsed": false
   },
   "outputs": [],
   "source": [
    "using Winston\n",
    "using Colors\n",
    "using Distances"
   ]
  },
  {
   "cell_type": "code",
   "execution_count": 15,
   "metadata": {
    "collapsed": false
   },
   "outputs": [
    {
     "data": {
      "text/plain": [
       "plotKpartresult (generic function with 1 method)"
      ]
     },
     "execution_count": 15,
     "metadata": {},
     "output_type": "execute_result"
    }
   ],
   "source": [
    "function plotKpartresult(C::Vector,X::Array)\n",
    "    p=FramedPlot()\n",
    "    for j=1:k\n",
    "        # Random color\n",
    "        col=RGB(rand(),rand(),rand())\n",
    "        p1=Points(X[1,find(C.==j)],\n",
    "        X[2,find(C.==j)],\"color\",col,symbolkind=\"dot\")\n",
    "        add(p,p1)\n",
    "    end\n",
    "    p\n",
    "end"
   ]
  },
  {
   "cell_type": "code",
   "execution_count": 30,
   "metadata": {
    "collapsed": false
   },
   "outputs": [
    {
     "data": {
      "text/plain": [
       "([4,-2],[1,4,3,2],[917,526,871,803])"
      ]
     },
     "execution_count": 30,
     "metadata": {},
     "output_type": "execute_result"
    }
   ],
   "source": [
    "# Generate concentric rings\n",
    "k=4\n",
    "# Center\n",
    "center=[rand(-5:5);rand(-5:5)]\n",
    "# Radii\n",
    "radii=randperm(4)[1:k]\n",
    "# Number of points in circles\n",
    "sizes=rand(500:1000,k)\n",
    "center,radii,sizes"
   ]
  },
  {
   "cell_type": "code",
   "execution_count": 31,
   "metadata": {
    "collapsed": false
   },
   "outputs": [
    {
     "data": {
      "image/png": "[encoded data removed]",
      "text/plain": [
       "Winston.FramedPlot(...)"
      ]
     },
     "execution_count": 31,
     "metadata": {},
     "output_type": "execute_result"
    }
   ],
   "source": [
    "# Points\n",
    "m=sum(sizes)\n",
    "X=Array(Float64,2,m)\n",
    "first=0\n",
    "last=0\n",
    "for j=1:k\n",
    "    first=last+1\n",
    "    last=last+sizes[j]\n",
    "    # Random angles\n",
    "    ϕ=2*π*rand(sizes[j])\n",
    "    for i=first:last\n",
    "        l=i-first+1\n",
    "        X[:,i]=center+radii[j]*[cos(ϕ[l]);sin(ϕ[l])]+(rand(2)-0.5)/50\n",
    "    end\n",
    "end\n",
    "Winston.plot(X[1,:],X[2,:],\".\")"
   ]
  },
  {
   "cell_type": "code",
   "execution_count": 32,
   "metadata": {
    "collapsed": false
   },
   "outputs": [
    {
     "data": {
      "text/plain": [
       "0.1"
      ]
     },
     "execution_count": 32,
     "metadata": {},
     "output_type": "execute_result"
    }
   ],
   "source": [
    "S=pairwise(SqEuclidean(),X)\n",
    "# S=pairwise(Cityblock(),X)\n",
    "β=0.1"
   ]
  },
  {
   "cell_type": "code",
   "execution_count": 33,
   "metadata": {
    "collapsed": false
   },
   "outputs": [
    {
     "data": {
      "text/plain": [
       "3117×3117 Array{Float64,2}:\n",
       " 1.0       0.688622  0.673913  0.666637  …  0.488116  0.41798   0.519539\n",
       " 0.688622  1.0       0.93926   0.979018     0.620821  0.786088  0.828655\n",
       " 0.673913  0.93926   1.0       0.987689     0.823825  0.90664   0.626592\n",
       " 0.666637  0.979018  0.987689  1.0          0.739539  0.878662  0.717659\n",
       " 0.790191  0.929138  0.795979  0.853335     0.450412  0.564254  0.896089\n",
       " 0.95997   0.756858  0.676048  0.698986  …  0.415901  0.414543  0.670954\n",
       " 0.697097  0.881358  0.985862  0.949622     0.887725  0.889709  0.538447\n",
       " 0.843668  0.726112  0.843234  0.785303     0.819006  0.660479  0.410967\n",
       " 0.997777  0.683325  0.684697  0.670544     0.516897  0.431544  0.49495 \n",
       " 0.744102  0.96961   0.849768  0.906853     0.499015  0.641899  0.9021  \n",
       " 0.920771  0.685767  0.767828  0.721022  …  0.702311  0.548032  0.411439\n",
       " 0.999976  0.692381  0.678048  0.670714     0.49162   0.421792  0.521857\n",
       " 0.98525   0.727482  0.672315  0.68327      0.43974   0.411238  0.606991\n",
       " ⋮                                       ⋱            ⋮                 \n",
       " 0.434318  0.728457  0.891927  0.83871   …  0.933717  0.979805  0.3843  \n",
       " 0.4221    0.746095  0.895812  0.851332     0.904968  0.991957  0.407749\n",
       " 0.88442   0.411505  0.441271  0.412563     0.378927  0.246983  0.262077\n",
       " 0.820184  0.529595  0.417687  0.450427     0.207786  0.212559  0.577981\n",
       " 0.8878    0.412317  0.43822   0.411189     0.370507  0.243368  0.266634\n",
       " 0.403362  0.853591  0.889683  0.904189  …  0.698469  0.955215  0.598345\n",
       " 0.444505  0.690446  0.872772  0.806997     0.968011  0.950035  0.343989\n",
       " 0.824452  0.409589  0.485187  0.436655     0.495006  0.302297  0.220254\n",
       " 0.408524  0.887598  0.857821  0.900634     0.589708  0.878268  0.70909 \n",
       " 0.488116  0.620821  0.823825  0.739539     1.0       0.852332  0.282747\n",
       " 0.41798   0.786088  0.90664   0.878662  …  0.852332  1.0       0.461249\n",
       " 0.519539  0.828655  0.626592  0.717659     0.282747  0.461249  1.0     "
      ]
     },
     "execution_count": 33,
     "metadata": {},
     "output_type": "execute_result"
    }
   ],
   "source": [
    "W=exp(-β*S)"
   ]
  },
  {
   "cell_type": "code",
   "execution_count": 34,
   "metadata": {
    "collapsed": false
   },
   "outputs": [
    {
     "data": {
      "text/plain": [
       "3117×3117 Array{Float64,2}:\n",
       "  1.0          -0.00039933   -0.000391338  …  -0.000263788  -0.000327749\n",
       " -0.00039933    1.0          -0.000540063     -0.000491225  -0.000517615\n",
       " -0.000391338  -0.000540063   1.0             -0.000567338  -0.000391936\n",
       " -0.000387019  -0.000562787  -0.000568553     -0.000549697  -0.00044879 \n",
       " -0.000459423  -0.000534897  -0.00045887      -0.00035352   -0.000561195\n",
       " -0.000561118  -0.000438047  -0.000391815  …  -0.000261111  -0.000422447\n",
       " -0.000405212  -0.000507284  -0.000568215     -0.000557309  -0.000337143\n",
       " -0.000491753  -0.000419072  -0.000487338     -0.000414852  -0.000258026\n",
       " -0.000583926  -0.000395969  -0.000397311     -0.00027215   -0.00031201 \n",
       " -0.000432048  -0.00055745   -0.000489223     -0.000401629  -0.000564204\n",
       " -0.00053785   -0.000396639  -0.000444714  …  -0.000344964  -0.000258879\n",
       " -0.000585083  -0.000401128  -0.000393365     -0.000265941  -0.000328898\n",
       " -0.000575983  -0.00042111   -0.000389712     -0.000259069  -0.000382233\n",
       "  ⋮                                        ⋱   ⋮                        \n",
       " -0.000274424  -0.000455751  -0.000558792  …  -0.000667132  -0.000261557\n",
       " -0.000267225  -0.000467699  -0.000562324     -0.000676727  -0.000278059\n",
       " -0.000567236  -0.000261331  -0.00028062      -0.000170699  -0.000181057\n",
       " -0.000523653  -0.000334801  -0.000264418     -0.000146241  -0.000397492\n",
       " -0.000569469  -0.000261876  -0.000278711     -0.00016822   -0.000184227\n",
       " -0.000254724  -0.000533746  -0.00055708   …  -0.000650033  -0.000407014\n",
       " -0.000281452  -0.000432881  -0.000547945     -0.000648227  -0.000234615\n",
       " -0.000528035  -0.00025975   -0.000308116     -0.000208637  -0.000151951\n",
       " -0.000257585  -0.000554154  -0.000536301     -0.000596747  -0.000481602\n",
       " -0.000308732  -0.000388808  -0.000516656     -0.000580934  -0.000192637\n",
       " -0.000263788  -0.000491225  -0.000567338  …   1.0          -0.000313558\n",
       " -0.000327749  -0.000517615  -0.000391936     -0.000313558   1.0        "
      ]
     },
     "execution_count": 34,
     "metadata": {},
     "output_type": "execute_result"
    }
   ],
   "source": [
    "D=vec(sum(W,2))\n",
    "L=diagm(D)-W\n",
    "Ln=normalized(L)"
   ]
  },
  {
   "cell_type": "code",
   "execution_count": 35,
   "metadata": {
    "collapsed": false
   },
   "outputs": [
    {
     "name": "stdout",
     "output_type": "stream",
     "text": [
      "λ = [-9.79225e-18,0.171399,-0.218324,0.567124]\n"
     ]
    },
    {
     "data": {
      "image/png": "[encoded data removed]",
      "text/plain": [
       "Winston.FramedPlot(...)"
      ]
     },
     "execution_count": 35,
     "metadata": {},
     "output_type": "execute_result"
    }
   ],
   "source": [
    "# Normalized Laplacian\n",
    "λ,Y=eigs(Ln,nev=k,which=:SM, v0=ones(m))\n",
    "@show λ\n",
    "Y=diagm(1.0./sqrt(D))*Y\n",
    "out=kmeans(Y',k)\n",
    "plotKpartresult(out.assignments,X)"
   ]
  },
  {
   "cell_type": "code",
   "execution_count": 36,
   "metadata": {
    "collapsed": false
   },
   "outputs": [
    {
     "data": {
      "image/png": "[encoded data removed]",
      "text/plain": [
       "Winston.FramedPlot(...)"
      ]
     },
     "execution_count": 36,
     "metadata": {},
     "output_type": "execute_result"
    }
   ],
   "source": [
    "# Laplacian\n",
    "λ,Y=eigs(L,nev=k,which=:SM, v0=ones(m))\n",
    "out=kmeans(Y',k)\n",
    "plotKpartresult(out.assignments,X)"
   ]
  },
  {
   "cell_type": "markdown",
   "metadata": {
    "collapsed": true
   },
   "source": [
    "Caveat! There is a little bit of cheating here."
   ]
  },
  {
   "cell_type": "code",
   "execution_count": null,
   "metadata": {
    "collapsed": true
   },
   "outputs": [],
   "source": []
  }
 ],
 "metadata": {
  "kernelspec": {
   "display_name": "Julia 0.5.0",
   "language": "julia",
   "name": "julia-0.5"
  },
  "language_info": {
   "file_extension": ".jl",
   "mimetype": "application/julia",
   "name": "julia",
   "version": "0.5.0"
  }
 },
 "nbformat": 4,
 "nbformat_minor": 0
}
