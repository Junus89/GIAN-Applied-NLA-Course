{
 "cells": [
  {
   "cell_type": "markdown",
   "metadata": {},
   "source": [
    "# Spectral Graph K-partitioning\n",
    "\n",
    "---\n",
    "\n",
    "Instead of using recursive spectral bipartitioning, the graph $k$-partitioning problem can be solved using $k$ eigenvaectors which correspond to $k$ smallest eigenvalues of Laplaciain matrix or normalized Laplacian matrix, respectively.\n",
    "\n",
    "Suggested reading is [U. von Luxburg, A Tutorial on Spectral Clustering][Lux07], which includes the quote _\"spectral clustering cannot serve as a “black box algorithm” which automatically detects the correct clusters in any\n",
    "given data set. But it can be considered as a powerful tool which can produce good results if applied with care.\"_\n",
    "\n",
    "[Lux07]: http://www.kyb.mpg.de/fileadmin/user_upload/files/publications/attachments/luxburg06_TR_v2_4139%5b1%5d.pdf \"U. von Luxburg, 'A Tutorial on Spectral Clustering', Max Planck Institute for Biological Cybernetics, Tübingen, 2007.\"\n",
    "\n",
    "## Prerequisites\n",
    "\n",
    "The reader should be familiar with k-means algorithm, spectral graph bipartitioning and \n",
    "recursive bipartitioning.\n",
    " \n",
    "## Competences \n",
    "\n",
    "The reader should be able to apply graph spectral k-partitioning to data clustering problems.\n",
    "\n",
    "__Credits__: The notebook is based on [I. Mirošević, Spectral Graph Partitioning and Application to Knowledge Extraction][Mir05].\n",
    "\n",
    "[Mir05]: #1 \"I. Mirošević, 'Spectral Graph Partitioning and Application to Knowledge Extraction', M.Sc. Thesis, Iniversity of Zagreb, 2005 (in Croatian).\" \n",
    "\n",
    "---"
   ]
  },
  {
   "cell_type": "markdown",
   "metadata": {},
   "source": [
    "## The relaxed problem\n",
    "\n",
    "Let $G=(V,E)$ be a weighted graph with weights $\\omega$, with weights matrix $W$, Laplacian matrix $L=D-W$, and normalized Laplacian matrix $L_n=D^{-1/2}(D-W)D^{-1/2}$. \n",
    "\n",
    "Let the $k$-partition $\\pi_k =\\{V_{1},V_{2},...,V_{k}\\}$, the cut $cut(\\pi_k)$, \n",
    "the proportional cut $pcut(\\pi_k)$ and \n",
    "the normalized cut $ncut(\\pi_k)$ be defined as in the\n",
    "[Spectral Graph Bipartitioning](L10 Spectral Graph Bipartitioning.ipynb) notebook.\n",
    "\n",
    "### Definition\n",
    "\n",
    "__Partition vectors__ of a $k$-partition $\\pi_k$ are\n",
    "\\begin{align*}\n",
    "h_{1} &=[\\overset{\\displaystyle |V_{1}|}{\\overbrace{1,\\cdots\n",
    ",1}},0,\\cdots\n",
    ",0,\\cdots ,0,\\cdots ,0]^{T}  \\\\\n",
    "h_{2} &=[0,\\cdots\n",
    ",0,\\overset{\\displaystyle |V_{2}|}{\\overbrace{1,\\cdots ,1}} ,\\cdots ,0,\\cdots\n",
    ",0]^{T} \\\\\n",
    "&\\vdots \\\\\n",
    "h_{k} &=[0,\\cdots ,0,0,\\cdots ,0,\\cdots\n",
    ",\\overset{\\displaystyle |V_{k}|}{ \\overbrace{1,\\cdots ,1}}]^{T}.\n",
    "\\end{align*}\n",
    "\n",
    "### Facts\n",
    "\n",
    "1. Set\n",
    "\\begin{align*}\n",
    "X&=\\begin{bmatrix} x_1 & x_2 &\\cdots & x_k \\end{bmatrix}, \\quad \n",
    "x_i=\\displaystyle \\frac{h_i}{\\|h_i\\|_2}, \\\\\n",
    "Y&=\\begin{bmatrix} y_1 & y_2 &\\cdots & y_k \\end{bmatrix}, \\quad\n",
    "y_i=\\displaystyle \\frac{D^{1/2}h_i}{\\|D^{1/2}h_i\\|_2}.\n",
    "\\end{align*}\n",
    "It holds\n",
    "\\begin{align*}\n",
    "& cut(V_{i},V\\backslash V_{i})=h_{i}^{T}(D-W)h_{i}=h_{i}^{T}L h_{i},\\quad \n",
    "\\omega( C_{i})=h_{i}^{T}D h_{i},\\quad |C_{i}| =h_{i}^{T}h_{i},\\\\\n",
    "& pcut(\\pi_k) =\\frac{h_{1}^{T}L h_{1}}{h_{1}^{T} h_{1}}+\n",
    "\\cdots + \\frac{h_{k}^{T}L h_{k}}{h_{k}^{T}h_{k}}\n",
    "=x_{1}^{T}L x_{1}+\\cdots +x_{k}^{T}Lx_{k}=\\mathop{\\mathrm{trace}}(X^{T}LX),\\\\\n",
    "& ncut(\\pi_k)=\\frac{h_{1}^{T}L h_{1}}{h_{1}^{T}D h_{1}}+\\cdots\n",
    "+\\frac{h_{k}^{T}L h_{k}}{h_{k}^{T}D h_{k}}\n",
    "=\\mathop{\\mathrm{trace}}(Y^{T}L_{n}Y).\n",
    "\\end{align*}\n",
    "\n",
    "2. The __relaxed__ $k$-partitioning problems are trace-minimization problems,\n",
    "\\begin{align*}\n",
    "\\min_{\\displaystyle \\pi_k} pcut(\\pi_k) &\\geq\n",
    "\\underset{\\displaystyle X\\in\\mathbb{R}^{n\\times k}}{\\min_{\\displaystyle X^{T}X=I}}\n",
    "\\mathop{\\mathrm{trace}}(X^{T}LX),\\\\\n",
    "\\min_{\\displaystyle \\pi_k} ncut(\\pi_k) &\\geq\n",
    "\\underset{\\displaystyle Y\\in\\mathbb{R}^{n\\times\n",
    "k}}{\\min_{\\displaystyle Y^{T}Y=I}}\\mathop{\\mathrm{trace}}(Y^{T}L_{n}Y).\n",
    "\\end{align*}\n",
    "\n",
    "3. __Ky-Fan  Theorem__: Let $A\\in \\mathbb{R}^{n\\times n}$ be a symmetric matrix with\n",
    "eigenvalues $\\lambda _1\\leq \\cdots \\leq \\lambda_n$. Then\n",
    "$$\n",
    "\\underset{\\displaystyle Z^TZ=I}{\\min_{\\displaystyle Z\\in \\mathbb{R}^{n\\times\n",
    "k}}}\\mathop{\\mathrm{trace}}\\left(Z^{T}AZ\\right)\n",
    "=\\sum_{i=1}^{k}\\lambda_{i}.\n",
    "$$\n",
    "\n",
    "4. Let $\\lambda_1\\leq \\cdots \\leq \\lambda_n$ be the eigenvalues of $L$ with eigenvectors \n",
    "$v^{[1]},\\cdots ,v^{[k]}$. The solution of the relaxed proportional cut problem is the matrix $X=\\begin{bmatrix}v^{[1]} & \\cdots & v^{[k]}\\end{bmatrix}$, and it holds\n",
    "$\\min_\\limits{\\displaystyle \\pi_k} pcut(\\pi_k)\\geq \\sum_\\limits{i=1}^k \\lambda_i$.\n",
    "\n",
    "5. Let $\\mu_1\\leq \\cdots \\leq \\mu_n$ be the eigenvalues of $L_n$ with eigenvectors \n",
    "$w^{[1]},\\cdots ,w^{[k]}$. The solution of the relaxed noprmalized cut problem is the matrix $Y=\\begin{bmatrix}w^{[1]} & \\cdots & w^{[k]}\\end{bmatrix}$, and it holds\n",
    "$\\min_\\limits{\\displaystyle \\pi_k} ncut(\\pi_k)\\geq \\sum_\\limits{i=1}^k \\mu_i$.\n",
    "\n",
    "6. It remains to recover the $k$-partition. The k-means algorithm applied to rows of the matrices $X$ or $D^{-1/2}Y$, will compute the $k$ centers and the assignment vector whose $i$-th component denotes the subset $V_j$ to which the vertex $i$ belongs."
   ]
  },
  {
   "cell_type": "markdown",
   "metadata": {},
   "source": [
    "### Example - Graph with three clusters"
   ]
  },
  {
   "cell_type": "code",
   "execution_count": 1,
   "metadata": {
    "collapsed": true
   },
   "outputs": [],
   "source": [
    "using Graphs\n",
    "using IJuliaPortrayals\n",
    "using Clustering"
   ]
  },
  {
   "cell_type": "code",
   "execution_count": 2,
   "metadata": {
    "collapsed": false
   },
   "outputs": [
    {
     "data": {
      "text/plain": [
       "13x3 Array{Int64,2}:\n",
       " 1  2  2\n",
       " 1  3  3\n",
       " 1  4  4\n",
       " 2  3  4\n",
       " 2  4  5\n",
       " 3  4  6\n",
       " 2  7  1\n",
       " 3  5  1\n",
       " 5  6  7\n",
       " 6  9  1\n",
       " 7  9  3\n",
       " 7  8  4\n",
       " 8  9  2"
      ]
     },
     "execution_count": 2,
     "metadata": {},
     "output_type": "execute_result"
    }
   ],
   "source": [
    "# Sources, targets, and weight\n",
    "sn=[1,1,1,2,2,3,2,3,5,6,7,7,8]\n",
    "tn=[2,3,4,3,4,4,7,5,6,9,9,8,9]\n",
    "wn=[2,3,4,4,5,6,1,1,7,1,3,4,2]\n",
    "[sn tn wn]"
   ]
  },
  {
   "cell_type": "code",
   "execution_count": 3,
   "metadata": {
    "collapsed": true
   },
   "outputs": [],
   "source": [
    "n=9\n",
    "m=length(sn)\n",
    "G = inclist(ExVertex, ExEdge{ExVertex}; is_directed=false)\n",
    "for i=1:9\n",
    "    add_vertex!(G, ExVertex(i,\"$i\"))\n",
    "end\n",
    "for i=1:m\n",
    "    add_edge!(G, vertices(G)[sn[i]], vertices(G)[tn[i]])\n",
    "end\n",
    "for i=1:length(G.inclist)\n",
    "    for j=1:length(G.inclist[i])\n",
    "        ei=G.inclist[i][j]\n",
    "        attrs = attributes(ei, G)\n",
    "        attrs[\"label\"] = wn[edge_index(ei,G)]\n",
    "    end\n",
    "end"
   ]
  },
  {
   "cell_type": "code",
   "execution_count": 4,
   "metadata": {
    "collapsed": false
   },
   "outputs": [
    {
     "data": {
      "text/html": [
       "<?xml version=\"1.0\" encoding=\"UTF-8\" standalone=\"no\"?>\n",
       "<!DOCTYPE svg PUBLIC \"-//W3C//DTD SVG 1.1//EN\"\n",
       " \"http://www.w3.org/Graphics/SVG/1.1/DTD/svg11.dtd\">\n",
       "<!-- Generated by graphviz version 2.38.0 (20140413.2041)\n",
       " -->\n",
       "<!-- Title: graphname Pages: 1 -->\n",
       "<svg width=\"254pt\" height=\"248pt\"\n",
       " viewBox=\"0.00 0.00 254.28 247.94\" xmlns=\"http://www.w3.org/2000/svg\" xmlns:xlink=\"http://www.w3.org/1999/xlink\">\n",
       "<g id=\"graph0\" class=\"graph\" transform=\"scale(1 1) rotate(0) translate(120.481 130.698)\">\n",
       "<title>graphname</title>\n",
       "<polygon fill=\"white\" stroke=\"none\" points=\"-120.481,117.245 -120.481,-130.698 133.794,-130.698 133.794,117.245 -120.481,117.245\"/>\n",
       "<!-- 1 -->\n",
       "<g id=\"node1\" class=\"node\"><title>1</title>\n",
       "<ellipse fill=\"none\" stroke=\"black\" cx=\"-44.0118\" cy=\"-104.94\" rx=\"27\" ry=\"18\"/>\n",
       "<text text-anchor=\"middle\" x=\"-44.0118\" y=\"-101.24\" font-family=\"Times,serif\" font-size=\"14.00\">1</text>\n",
       "</g>\n",
       "<!-- 2 -->\n",
       "<g id=\"node2\" class=\"node\"><title>2</title>\n",
       "<ellipse fill=\"none\" stroke=\"black\" cx=\"21.5388\" cy=\"-48.2785\" rx=\"27\" ry=\"18\"/>\n",
       "<text text-anchor=\"middle\" x=\"21.5388\" y=\"-44.5785\" font-family=\"Times,serif\" font-size=\"14.00\">2</text>\n",
       "</g>\n",
       "<!-- 1&#45;&#45;2 -->\n",
       "<g id=\"edge1\" class=\"edge\"><title>1&#45;&#45;2</title>\n",
       "<path fill=\"none\" stroke=\"black\" d=\"M-27.4706,-90.6418C-17.6095,-82.118 -5.12535,-71.3268 4.7749,-62.7691\"/>\n",
       "<text text-anchor=\"middle\" x=\"-14.8479\" y=\"-65.5055\" font-family=\"Times,serif\" font-size=\"14.00\">2</text>\n",
       "</g>\n",
       "<!-- 3 -->\n",
       "<g id=\"node3\" class=\"node\"><title>3</title>\n",
       "<ellipse fill=\"none\" stroke=\"black\" cx=\"-51.4732\" cy=\"-46.0546\" rx=\"27\" ry=\"18\"/>\n",
       "<text text-anchor=\"middle\" x=\"-51.4732\" y=\"-42.3546\" font-family=\"Times,serif\" font-size=\"14.00\">3</text>\n",
       "</g>\n",
       "<!-- 1&#45;&#45;3 -->\n",
       "<g id=\"edge2\" class=\"edge\"><title>1&#45;&#45;3</title>\n",
       "<path fill=\"none\" stroke=\"black\" d=\"M-46.291,-86.9524C-47.1996,-79.7821 -48.2442,-71.5378 -49.1564,-64.3383\"/>\n",
       "<text text-anchor=\"middle\" x=\"-51.2237\" y=\"-79.4454\" font-family=\"Times,serif\" font-size=\"14.00\">3</text>\n",
       "</g>\n",
       "<!-- 4 -->\n",
       "<g id=\"node4\" class=\"node\"><title>4</title>\n",
       "<ellipse fill=\"none\" stroke=\"black\" cx=\"10.1872\" cy=\"-108.698\" rx=\"27\" ry=\"18\"/>\n",
       "<text text-anchor=\"middle\" x=\"10.1872\" y=\"-104.998\" font-family=\"Times,serif\" font-size=\"14.00\">4</text>\n",
       "</g>\n",
       "<!-- 1&#45;&#45;4 -->\n",
       "<g id=\"edge3\" class=\"edge\"><title>1&#45;&#45;4</title>\n",
       "<path fill=\"none\" stroke=\"black\" d=\"M-16.9123,-106.819C-16.8065,-106.826 -16.7006,-106.834 -16.5948,-106.841\"/>\n",
       "<text text-anchor=\"middle\" x=\"-20.2536\" y=\"-110.63\" font-family=\"Times,serif\" font-size=\"14.00\">4</text>\n",
       "</g>\n",
       "<!-- 2&#45;&#45;3 -->\n",
       "<g id=\"edge4\" class=\"edge\"><title>2&#45;&#45;3</title>\n",
       "<path fill=\"none\" stroke=\"black\" d=\"M-5.64816,-47.4504C-11.6486,-47.2676 -18.0091,-47.0739 -24.02,-46.8908\"/>\n",
       "<text text-anchor=\"middle\" x=\"-18.3341\" y=\"-35.9706\" font-family=\"Times,serif\" font-size=\"14.00\">4</text>\n",
       "</g>\n",
       "<!-- 2&#45;&#45;4 -->\n",
       "<g id=\"edge5\" class=\"edge\"><title>2&#45;&#45;4</title>\n",
       "<path fill=\"none\" stroke=\"black\" d=\"M18.1329,-66.4062C16.6962,-74.0534 15.0271,-82.9371 13.5906,-90.5828\"/>\n",
       "<text text-anchor=\"middle\" x=\"12.3618\" y=\"-82.2945\" font-family=\"Times,serif\" font-size=\"14.00\">5</text>\n",
       "</g>\n",
       "<!-- 7 -->\n",
       "<g id=\"node5\" class=\"node\"><title>7</title>\n",
       "<ellipse fill=\"none\" stroke=\"black\" cx=\"65.4633\" cy=\"17.5833\" rx=\"27\" ry=\"18\"/>\n",
       "<text text-anchor=\"middle\" x=\"65.4633\" y=\"21.2833\" font-family=\"Times,serif\" font-size=\"14.00\">7</text>\n",
       "</g>\n",
       "<!-- 2&#45;&#45;7 -->\n",
       "<g id=\"edge6\" class=\"edge\"><title>2&#45;&#45;7</title>\n",
       "<path fill=\"none\" stroke=\"black\" d=\"M32.6228,-31.6588C39.2306,-21.7508 47.5961,-9.20743 54.2301,0.739808\"/>\n",
       "<text text-anchor=\"middle\" x=\"39.9264\" y=\"-19.2595\" font-family=\"Times,serif\" font-size=\"14.00\">1</text>\n",
       "</g>\n",
       "<!-- 3&#45;&#45;4 -->\n",
       "<g id=\"edge7\" class=\"edge\"><title>3&#45;&#45;4</title>\n",
       "<path fill=\"none\" stroke=\"black\" d=\"M-36.5469,-61.2188C-26.9949,-70.923 -14.6382,-83.4767 -5.02999,-93.2381\"/>\n",
       "<text text-anchor=\"middle\" x=\"-22.5385\" y=\"-66.0284\" font-family=\"Times,serif\" font-size=\"14.00\">6</text>\n",
       "</g>\n",
       "<!-- 5 -->\n",
       "<g id=\"node6\" class=\"node\"><title>5</title>\n",
       "<ellipse fill=\"none\" stroke=\"black\" cx=\"-89.4814\" cy=\"24.3031\" rx=\"27\" ry=\"18\"/>\n",
       "<text text-anchor=\"middle\" x=\"-89.4814\" y=\"28.0031\" font-family=\"Times,serif\" font-size=\"14.00\">5</text>\n",
       "</g>\n",
       "<!-- 3&#45;&#45;5 -->\n",
       "<g id=\"edge8\" class=\"edge\"><title>3&#45;&#45;5</title>\n",
       "<path fill=\"none\" stroke=\"black\" d=\"M-60.6739,-29.023C-66.5619,-18.1237 -74.1787,-4.02393 -80.1013,6.93951\"/>\n",
       "<text text-anchor=\"middle\" x=\"-73.8876\" y=\"-14.8417\" font-family=\"Times,serif\" font-size=\"14.00\">1</text>\n",
       "</g>\n",
       "<!-- 9 -->\n",
       "<g id=\"node8\" class=\"node\"><title>9</title>\n",
       "<ellipse fill=\"none\" stroke=\"black\" cx=\"32.4293\" cy=\"92.1356\" rx=\"27\" ry=\"18\"/>\n",
       "<text text-anchor=\"middle\" x=\"32.4293\" y=\"95.8356\" font-family=\"Times,serif\" font-size=\"14.00\">9</text>\n",
       "</g>\n",
       "<!-- 7&#45;&#45;9 -->\n",
       "<g id=\"edge11\" class=\"edge\"><title>7&#45;&#45;9</title>\n",
       "<path fill=\"none\" stroke=\"black\" d=\"M57.8016,34.8745C52.503,46.8325 45.4782,62.6863 40.1639,74.6799\"/>\n",
       "<text text-anchor=\"middle\" x=\"45.4828\" y=\"50.9772\" font-family=\"Times,serif\" font-size=\"14.00\">3</text>\n",
       "</g>\n",
       "<!-- 8 -->\n",
       "<g id=\"node9\" class=\"node\"><title>8</title>\n",
       "<ellipse fill=\"none\" stroke=\"black\" cx=\"102.794\" cy=\"78.7042\" rx=\"27\" ry=\"18\"/>\n",
       "<text text-anchor=\"middle\" x=\"102.794\" y=\"82.4042\" font-family=\"Times,serif\" font-size=\"14.00\">8</text>\n",
       "</g>\n",
       "<!-- 7&#45;&#45;8 -->\n",
       "<g id=\"edge12\" class=\"edge\"><title>7&#45;&#45;8</title>\n",
       "<path fill=\"none\" stroke=\"black\" d=\"M75.664,34.2848C80.9313,42.9091 87.3397,53.4015 92.6053,62.0229\"/>\n",
       "<text text-anchor=\"middle\" x=\"80.6346\" y=\"44.3538\" font-family=\"Times,serif\" font-size=\"14.00\">4</text>\n",
       "</g>\n",
       "<!-- 6 -->\n",
       "<g id=\"node7\" class=\"node\"><title>6</title>\n",
       "<ellipse fill=\"none\" stroke=\"black\" cx=\"-47.4458\" cy=\"95.2446\" rx=\"27\" ry=\"18\"/>\n",
       "<text text-anchor=\"middle\" x=\"-47.4458\" y=\"98.9446\" font-family=\"Times,serif\" font-size=\"14.00\">6</text>\n",
       "</g>\n",
       "<!-- 5&#45;&#45;6 -->\n",
       "<g id=\"edge9\" class=\"edge\"><title>5&#45;&#45;6</title>\n",
       "<path fill=\"none\" stroke=\"black\" d=\"M-79.5196,41.1152C-72.9159,52.26 -64.2765,66.8402 -57.6282,78.0603\"/>\n",
       "<text text-anchor=\"middle\" x=\"-72.0739\" y=\"55.7878\" font-family=\"Times,serif\" font-size=\"14.00\">7</text>\n",
       "</g>\n",
       "<!-- 6&#45;&#45;9 -->\n",
       "<g id=\"edge10\" class=\"edge\"><title>6&#45;&#45;9</title>\n",
       "<path fill=\"none\" stroke=\"black\" d=\"M-20.4037,94.192C-12.0762,93.8679 -2.91062,93.5111 5.41509,93.1871\"/>\n",
       "<text text-anchor=\"middle\" x=\"-10.9943\" y=\"89.8895\" font-family=\"Times,serif\" font-size=\"14.00\">1</text>\n",
       "</g>\n",
       "<!-- 8&#45;&#45;9 -->\n",
       "<g id=\"edge13\" class=\"edge\"><title>8&#45;&#45;9</title>\n",
       "<path fill=\"none\" stroke=\"black\" d=\"M76.5926,83.7056C70.6534,84.8393 64.3483,86.0428 58.418,87.1748\"/>\n",
       "<text text-anchor=\"middle\" x=\"64.0053\" y=\"81.6402\" font-family=\"Times,serif\" font-size=\"14.00\">2</text>\n",
       "</g>\n",
       "</g>\n",
       "</svg>\n"
      ],
      "text/plain": [
       "IJuliaPortrayals.GraphViz(\"graph graphname {\\n1 -- 2 [\\\"label\\\"=\\\"2\\\"]\\n1 -- 3 [\\\"label\\\"=\\\"3\\\"]\\n1 -- 4 [\\\"label\\\"=\\\"4\\\"]\\n2 -- 3 [\\\"label\\\"=\\\"4\\\"]\\n2 -- 4 [\\\"label\\\"=\\\"5\\\"]\\n2 -- 7 [\\\"label\\\"=\\\"1\\\"]\\n3 -- 4 [\\\"label\\\"=\\\"6\\\"]\\n3 -- 5 [\\\"label\\\"=\\\"1\\\"]\\n5 -- 6 [\\\"label\\\"=\\\"7\\\"]\\n6 -- 9 [\\\"label\\\"=\\\"1\\\"]\\n7 -- 9 [\\\"label\\\"=\\\"3\\\"]\\n7 -- 8 [\\\"label\\\"=\\\"4\\\"]\\n8 -- 9 [\\\"label\\\"=\\\"2\\\"]\\n}\\n\",\"neato\",\"svg\")"
      ]
     },
     "execution_count": 4,
     "metadata": {},
     "output_type": "execute_result"
    }
   ],
   "source": [
    "# What is the optimal tripartition?\n",
    "GraphViz(to_dot(G),\"neato\",\"svg\")"
   ]
  },
  {
   "cell_type": "code",
   "execution_count": 5,
   "metadata": {
    "collapsed": false
   },
   "outputs": [
    {
     "data": {
      "text/plain": [
       "9x9 Array{Int64,2}:\n",
       "  9  -2  -3  -4   0   0   0   0   0\n",
       " -2  12  -4  -5   0   0  -1   0   0\n",
       " -3  -4  14  -6  -1   0   0   0   0\n",
       " -4  -5  -6  15   0   0   0   0   0\n",
       "  0   0  -1   0   8  -7   0   0   0\n",
       "  0   0   0   0  -7   8   0   0  -1\n",
       "  0  -1   0   0   0   0   8  -4  -3\n",
       "  0   0   0   0   0   0  -4   6  -2\n",
       "  0   0   0   0   0  -1  -3  -2   6"
      ]
     },
     "execution_count": 5,
     "metadata": {},
     "output_type": "execute_result"
    }
   ],
   "source": [
    "L=laplacian_matrix(G,wn)"
   ]
  },
  {
   "cell_type": "code",
   "execution_count": 6,
   "metadata": {
    "collapsed": false
   },
   "outputs": [
    {
     "data": {
      "text/plain": [
       "normalized (generic function with 1 method)"
      ]
     },
     "execution_count": 6,
     "metadata": {},
     "output_type": "execute_result"
    }
   ],
   "source": [
    "# Normalized Laplacian matrix\n",
    "function normalized(L::Matrix)\n",
    "    D=1.0./sqrt(diag(L))\n",
    "    n=length(D)\n",
    "    Ln=map(Float64,Symmetric([L[i,j]*D[i]*D[j] for i=1:n,j=1:n]))\n",
    "    # Set diagonal exactly to 1\n",
    "    for i=1:n\n",
    "        Ln[i,i]=1.0\n",
    "    end\n",
    "    Ln  \n",
    "end"
   ]
  },
  {
   "cell_type": "code",
   "execution_count": 7,
   "metadata": {
    "collapsed": false
   },
   "outputs": [
    {
     "data": {
      "text/plain": [
       "9x9 Array{Float64,2}:\n",
       "  1.0       -0.19245   -0.267261   …   0.0        0.0        0.0     \n",
       " -0.19245    1.0       -0.308607      -0.102062   0.0        0.0     \n",
       " -0.267261  -0.308607   1.0            0.0        0.0        0.0     \n",
       " -0.344265  -0.372678  -0.414039       0.0        0.0        0.0     \n",
       "  0.0        0.0       -0.0944911      0.0        0.0        0.0     \n",
       "  0.0        0.0        0.0        …   0.0        0.0       -0.144338\n",
       "  0.0       -0.102062   0.0            1.0       -0.57735   -0.433013\n",
       "  0.0        0.0        0.0           -0.57735    1.0       -0.333333\n",
       "  0.0        0.0        0.0           -0.433013  -0.333333   1.0     "
      ]
     },
     "execution_count": 7,
     "metadata": {},
     "output_type": "execute_result"
    }
   ],
   "source": [
    "Ln=normalized(L)"
   ]
  },
  {
   "cell_type": "code",
   "execution_count": 8,
   "metadata": {
    "collapsed": false
   },
   "outputs": [
    {
     "data": {
      "text/plain": [
       "([4.934324553889581e-16,0.7885231802373419,1.2104922881233322],\n",
       "9x3 Array{Float64,2}:\n",
       " -0.333333   0.383624   -0.121476 \n",
       " -0.333333   0.323492   -0.129956 \n",
       " -0.333333   0.344649   -0.0752859\n",
       " -0.333333   0.367298   -0.115116 \n",
       " -0.333333  -0.0953074   0.612081 \n",
       " -0.333333  -0.147422    0.60443  \n",
       " -0.333333  -0.355516   -0.282486 \n",
       " -0.333333  -0.424836   -0.311411 \n",
       " -0.333333  -0.395981   -0.18078  ,\n",
       "\n",
       "3,1,9,[0.0,0.0,0.0,0.0,0.0,0.0,0.0,0.0,0.0])"
      ]
     },
     "execution_count": 8,
     "metadata": {},
     "output_type": "execute_result"
    }
   ],
   "source": [
    "# Proportional cut, the clustering is visible in the components of v_2 and v_3\n",
    "λ,Y=eigs(L,nev=3,which=:SM, v0=ones(n))"
   ]
  },
  {
   "cell_type": "code",
   "execution_count": 9,
   "metadata": {
    "collapsed": false
   },
   "outputs": [
    {
     "data": {
      "text/plain": [
       "Clustering.KmeansResult{Float64}(3x3 Array{Float64,2}:\n",
       " -0.333333  -0.333333  -0.333333\n",
       " -0.121365   0.354766  -0.392111\n",
       "  0.608256  -0.110459  -0.258226,[2,2,2,2,1,1,3,3,3],[0.0009541957420937663,0.001358227596906847,0.0013394656501290458,0.0001787564498633154,0.0006936219019545442,0.0006936219019545442,0.0019277494627215619,0.003899607802030247,0.0060127518263858315],[2,4,3],[2.0,4.0,3.0],0.017057998334039703,2,true)"
      ]
     },
     "execution_count": 9,
     "metadata": {},
     "output_type": "execute_result"
    }
   ],
   "source": [
    "out=kmeans(Y',3)"
   ]
  },
  {
   "cell_type": "code",
   "execution_count": 10,
   "metadata": {
    "collapsed": false
   },
   "outputs": [
    {
     "data": {
      "text/plain": [
       "Clustering.KmeansResult{Float64}(3x3 Array{Float64,2}:\n",
       " -0.107833  -0.107833  -0.107833 \n",
       " -0.144522  -0.104042   0.0909339\n",
       "  0.131546  -0.19892    0.011189 ,[3,3,3,3,2,2,1,1,1],[6.017933267282727e-5,0.00019669450163053298,0.00016014209379326683,3.376565874205206e-5,8.234250494340567e-5,8.234250494340567e-5,0.00019114009597787085,0.0004431740534307088,0.0007796669031784192],[3,2,4],[3.0,2.0,4.0],0.0020294476493124894,2,true)"
      ]
     },
     "execution_count": 10,
     "metadata": {},
     "output_type": "execute_result"
    }
   ],
   "source": [
    "# Normalized cut\n",
    "# Lanczos cannot be used for \"smallest in magnitude\" evals of singular matrix\n",
    "# The above case is exception, rather than rule.\n",
    "# λ,Y=eigs(Ln,nev=3,which=:SM) \n",
    "μ,Y=eig(Ln)\n",
    "Y=Y[:,1:3]\n",
    "D=sqrt(diag(L))\n",
    "Y=diagm(1.0./D)*Y\n",
    "out=kmeans(Y',3)"
   ]
  },
  {
   "cell_type": "markdown",
   "metadata": {},
   "source": [
    "### Example - Concentric rings"
   ]
  },
  {
   "cell_type": "code",
   "execution_count": 12,
   "metadata": {
    "collapsed": false
   },
   "outputs": [],
   "source": [
    "using Winston\n",
    "using Colors\n",
    "using Distances"
   ]
  },
  {
   "cell_type": "code",
   "execution_count": 13,
   "metadata": {
    "collapsed": false
   },
   "outputs": [
    {
     "data": {
      "text/plain": [
       "plotKpartresult (generic function with 1 method)"
      ]
     },
     "execution_count": 13,
     "metadata": {},
     "output_type": "execute_result"
    }
   ],
   "source": [
    "function plotKpartresult(C::Vector,X::Array)\n",
    "    p=FramedPlot()\n",
    "    for j=1:k\n",
    "        # Random color\n",
    "        col=RGB(rand(),rand(),rand())\n",
    "        p1=Points(X[1,find(C.==j)],\n",
    "        X[2,find(C.==j)],\"color\",col,symbolkind=\"dot\")\n",
    "        add(p,p1)\n",
    "    end\n",
    "    p\n",
    "end"
   ]
  },
  {
   "cell_type": "code",
   "execution_count": 14,
   "metadata": {
    "collapsed": false
   },
   "outputs": [
    {
     "data": {
      "text/plain": [
       "([1,1],[4,3,2,1],[847,678,791,744])"
      ]
     },
     "execution_count": 14,
     "metadata": {},
     "output_type": "execute_result"
    }
   ],
   "source": [
    "# Generate concentric rings\n",
    "k=4\n",
    "# Center\n",
    "center=[rand(-5:5);rand(-5:5)]\n",
    "# Radii\n",
    "radii=randperm(k)[1:k]\n",
    "# Number of points in circles\n",
    "sizes=rand(500:1000,k)\n",
    "center,radii,sizes"
   ]
  },
  {
   "cell_type": "code",
   "execution_count": 15,
   "metadata": {
    "collapsed": false
   },
   "outputs": [
    {
     "data": {
      "image/png": "[encoded data removed]",
      "text/plain": [
       "Winston.FramedPlot(...)"
      ]
     },
     "execution_count": 15,
     "metadata": {},
     "output_type": "execute_result"
    }
   ],
   "source": [
    "# Points\n",
    "m=sum(sizes)\n",
    "X=Array(Float64,2,m)\n",
    "first=0\n",
    "last=0\n",
    "for j=1:k\n",
    "    first=last+1\n",
    "    last=last+sizes[j]\n",
    "    # Random angles\n",
    "    ϕ=2*π*rand(sizes[j])\n",
    "    for i=first:last\n",
    "        l=i-first+1\n",
    "        X[:,i]=center+radii[j]*[cos(ϕ[l]);sin(ϕ[l])]+(rand(2)-0.5)/50\n",
    "    end\n",
    "end\n",
    "Winston.plot(X[1,:],X[2,:],\".\")"
   ]
  },
  {
   "cell_type": "code",
   "execution_count": 16,
   "metadata": {
    "collapsed": false
   },
   "outputs": [
    {
     "data": {
      "text/plain": [
       "10"
      ]
     },
     "execution_count": 16,
     "metadata": {},
     "output_type": "execute_result"
    }
   ],
   "source": [
    "S=pairwise(SqEuclidean(),X)\n",
    "# S=pairwise(Cityblock(),X)\n",
    "β=10"
   ]
  },
  {
   "cell_type": "code",
   "execution_count": 17,
   "metadata": {
    "collapsed": false
   },
   "outputs": [
    {
     "data": {
      "text/plain": [
       "3060x3060 Array{Float64,2}:\n",
       "  1.0           -0.00519953    -1.14306e-23   …  -6.40665e-81   -1.69996e-47 \n",
       " -0.00519953     1.0           -3.68471e-34      -2.27893e-85   -2.69548e-50 \n",
       " -1.14306e-23   -3.68471e-34    1.0              -1.10276e-61   -2.11354e-41 \n",
       " -3.12925e-32   -5.63585e-22   -1.54161e-95      -3.474e-101    -6.41041e-66 \n",
       " -2.19805e-202  -4.57616e-186  -4.29838e-259     -3.65495e-104  -5.15001e-106\n",
       " -5.99619e-166  -2.64974e-148  -4.86899e-235  …  -1.06431e-108  -2.0719e-100 \n",
       " -1.93488e-178  -2.11091e-195  -7.04994e-101     -1.76105e-41   -8.39883e-65 \n",
       " -4.59367e-13   -4.52866e-21   -0.000763673      -3.3268e-67    -3.34031e-42 \n",
       " -7.98315e-194  -6.06457e-177  -1.35454e-254     -2.55369e-106  -1.94115e-105\n",
       " -3.69384e-135  -1.86664e-117  -3.06252e-210     -2.8855e-110   -2.45741e-94 \n",
       " -0.0218514     -8.97496e-5    -1.20146e-18   …  -8.0832e-79    -1.75295e-46 \n",
       " -1.38527e-10   -2.10928e-5    -8.55913e-57      -1.57433e-92   -4.36291e-56 \n",
       " -1.8962e-130   -9.30973e-113  -1.91334e-206     -5.89643e-111  -9.28551e-94 \n",
       "  ⋮                                           ⋱                              \n",
       " -1.17364e-48   -3.65279e-46   -2.08102e-64      -1.75356e-17   -1.12543e-8  \n",
       " -7.23134e-44   -7.13231e-46   -9.03089e-42      -3.68857e-9    -0.00746308  \n",
       " -1.12777e-104  -4.48644e-102  -2.21321e-110  …  -7.21561e-15   -7.91691e-20 \n",
       " -3.06605e-45   -1.22467e-47   -2.95617e-41      -2.26704e-8    -0.0101608   \n",
       " -5.42968e-42   -5.07028e-43   -2.7347e-44       -5.61849e-11   -0.00193859  \n",
       " -7.55889e-83   -2.79801e-87   -2.45661e-63      -0.0160934     -7.41182e-8  \n",
       " -1.88489e-97   -7.44793e-94   -1.12501e-108     -3.45515e-17   -1.56988e-19 \n",
       " -8.48389e-76   -1.87405e-71   -3.5585e-94    …  -1.29106e-19   -5.20307e-16 \n",
       " -1.1722e-60    -7.10021e-65   -3.44783e-46      -0.000498357   -0.00104954  \n",
       " -3.11825e-43   -7.01917e-45   -1.00386e-42      -9.60672e-10   -0.00511266  \n",
       " -6.40665e-81   -2.27893e-85   -1.10276e-61       1.0           -2.10909e-7  \n",
       " -1.69996e-47   -2.69548e-50   -2.11354e-41      -2.10909e-7     1.0         "
      ]
     },
     "execution_count": 17,
     "metadata": {},
     "output_type": "execute_result"
    }
   ],
   "source": [
    "W=exp(-β*S)\n",
    "D=vec(sum(W,2))\n",
    "L=diagm(D)-W\n",
    "Ln=normalized(L)"
   ]
  },
  {
   "cell_type": "code",
   "execution_count": 18,
   "metadata": {
    "collapsed": false
   },
   "outputs": [
    {
     "name": "stdout",
     "output_type": "stream",
     "text": [
      "λ = [1.0280742578527364e-16,2.3016348196618898e-5,9.21122754668634e-5,0.00016589006411498106]\n"
     ]
    },
    {
     "data": {
      "image/png": "[encoded data removed]",
      "text/plain": [
       "Winston.FramedPlot(...)"
      ]
     },
     "execution_count": 18,
     "metadata": {},
     "output_type": "execute_result"
    }
   ],
   "source": [
    "# Normalized Laplacian\n",
    "λ,Y=eigs(Ln,nev=k,which=:SM, v0=ones(m))\n",
    "@show λ\n",
    "Y=diagm(1.0./sqrt(D))*Y\n",
    "out=kmeans(Y',k)\n",
    "plotKpartresult(out.assignments,X)"
   ]
  },
  {
   "cell_type": "code",
   "execution_count": 19,
   "metadata": {
    "collapsed": false
   },
   "outputs": [
    {
     "data": {
      "image/png": "[encoded data removed]",
      "text/plain": [
       "Winston.FramedPlot(...)"
      ]
     },
     "execution_count": 19,
     "metadata": {},
     "output_type": "execute_result"
    }
   ],
   "source": [
    "# Laplacian\n",
    "λ,Y=eigs(L,nev=k,which=:SM, v0=ones(m))\n",
    "out=kmeans(Y',k)\n",
    "plotKpartresult(out.assignments,X)"
   ]
  },
  {
   "cell_type": "code",
   "execution_count": null,
   "metadata": {
    "collapsed": true
   },
   "outputs": [],
   "source": []
  }
 ],
 "metadata": {
  "kernelspec": {
   "display_name": "Julia 0.4.5",
   "language": "julia",
   "name": "julia-0.4"
  },
  "language_info": {
   "file_extension": ".jl",
   "mimetype": "application/julia",
   "name": "julia",
   "version": "0.4.5"
  }
 },
 "nbformat": 4,
 "nbformat_minor": 0
}
