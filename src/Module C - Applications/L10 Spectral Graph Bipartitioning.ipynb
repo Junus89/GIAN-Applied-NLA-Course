{
 "cells": [
  {
   "cell_type": "markdown",
   "metadata": {},
   "source": [
    "# Spectral Graph Bipartitioning\n",
    "\n",
    "---\n",
    "\n",
    "Many data clustering problems can be interpreted as clustering of vertices of graphs.\n",
    "Graph bipartitioning problem is to partition vertices into subsets such that the connections within subsets are stronger than the connections between different subsets.\n",
    "\n",
    "Partition of the vertices into two subsetts is done according to signs of the eigenvectors of the second smallest eigenvalue of the Laplacian matrix. \n",
    "\n",
    "## Prerequisites\n",
    "\n",
    "The reader should be familiar with basic graph theory, linear algebra, and eigenvalues and eigenvectors.\n",
    " \n",
    "## Competences \n",
    "\n",
    "The reader should be able to apply graph spectral bipartitioning and recursive bipartitioning to data clustering problems.\n",
    "\n",
    "__Credits__: The notebook is based on [I. Mirošević, Spectral Graph Partitioning and Application to Knowledge Extraction][Mir05].\n",
    "\n",
    "[Mir05]: #1 \"I. Mirošević, 'Spectral Graph Partitioning and Application to Knowledge Extraction', M.Sc. Thesis, Iniversity of Zagreb, 2005 (in Croatian).\" \n",
    "\n",
    "---"
   ]
  },
  {
   "cell_type": "markdown",
   "metadata": {},
   "source": [
    "## Graphs\n",
    "\n",
    "For more details, see \n",
    "[W. H. Haemers, Matrices and Graphs][Hog14]\n",
    "and [S. Butler and F. Chung, Spectral Graph Theory][Hog14a]\n",
    "and the references therein.\n",
    "\n",
    "[Hog14]: #1 \"L. Hogben, ed., 'Handbook of Linear Algebra', pp. 39.1-39.14, CRC Press, Boca Raton, 2014.\"\n",
    "\n",
    "[Hog14a]: #1 \"L. Hogben, ed., 'Handbook of Linear Algebra', pp. 47.1-47.6, CRC Press, Boca Raton, 2014.\"\n",
    "\n",
    "### Definitions\n",
    "\n",
    "A __weighted graph__ is an ordered triplet $G=(V,E,\\omega)$, where $V=\\{1,2,3,...,n\\}$ is the set of __vertices__ , $E=\\{(i,j)\\}$ is a set of __edges__ connecting vertices, and $\\omega$ is a set of __weights__ of edges. We assume $G$ is undirected.\n",
    "\n",
    "An __adjacency matrix__ of graph $G$ is the matrix $A$ defined as\n",
    "$A_{ij}=\\begin{cases} 1 \\quad \\textrm{if}\\ (i,j)\\in E, \\\\\n",
    "0\\quad  \\textrm{otherwise} \\end{cases}.$\n",
    "\n",
    "A __weight matrix__ of graph $G$ is the matrix $W$ defined as\n",
    "$W_{ij}=\\begin{cases} \\omega(e) \\quad \\textrm{if}\\ e=(i,j)\\in E, \\\\\n",
    "0\\quad  \\textrm{otherwise} \\end{cases}.$\n",
    "\n",
    "A __Laplacian matrix__ of graph $G$ is the matrix $L=D-W$, where \n",
    "$D=\\mathop{\\mathrm{diag}}(d_1,d_2,\\ldots,d_n)$ with $d_i=\\sum_{k=1}^n W_{ik}$ for $i=1,\\ldots,n$.\n",
    "\n",
    "A __normalized Laplacian matrix__ is the matrix \n",
    "$L_n=D^{-1/2} L D^{-1/2}\\equiv D^{-1/2} (D-W) D^{-1/2}$ (_the scaled matrix of $L$_).\n",
    "\n",
    "An __incidence matrix__ of graph $G$ is the $|V|\\times |E|$ matrix $I_G$. Each row of $I:G$ corresponds to a vertex of $G$ and each column corresponds to an edge of $G$.\n",
    "In the column corresponding to en edge $e=(i,j)$, all elements are zero except the ones in the $i$-th and $j$-th row, which are equal to $\\sqrt{\\omega(e)}$ and $-\\sqrt{\\omega(e)}$, respectively."
   ]
  },
  {
   "cell_type": "markdown",
   "metadata": {},
   "source": [
    "### Examples\n",
    "\n",
    "Graph types and algorithms are implemented in the package\n",
    "[Graphs.jl](https://github.com/JuliaLang/Graphs.jl). See also \n",
    "[Graphs.jl Documentation](http://graphsjl-docs.readthedocs.io/en/latest/)."
   ]
  },
  {
   "cell_type": "code",
   "execution_count": 2,
   "metadata": {
    "collapsed": false
   },
   "outputs": [],
   "source": [
    "using Graphs\n",
    "using IJuliaPortrayals"
   ]
  },
  {
   "cell_type": "markdown",
   "metadata": {},
   "source": [
    "There are two functions to generate graph, `simple_graph()` and `inclist()`. The first is simpler and sufficient for computation. The second is more complex and allows plotting of weights. We shall illustrate both."
   ]
  },
  {
   "cell_type": "code",
   "execution_count": 3,
   "metadata": {
    "collapsed": false
   },
   "outputs": [
    {
     "data": {
      "text/plain": [
       "Undirected Graph (7 vertices, 0 edges)"
      ]
     },
     "execution_count": 3,
     "metadata": {},
     "output_type": "execute_result"
    }
   ],
   "source": [
    "G=simple_graph(7,is_directed=false)"
   ]
  },
  {
   "cell_type": "code",
   "execution_count": 4,
   "metadata": {
    "collapsed": false
   },
   "outputs": [
    {
     "data": {
      "text/plain": [
       "11×3 Array{Int64,2}:\n",
       " 1  2  2\n",
       " 1  3  3\n",
       " 1  4  4\n",
       " 2  4  7\n",
       " 2  5  1\n",
       " 3  4  3\n",
       " 3  6  2\n",
       " 3  7  1\n",
       " 5  6  7\n",
       " 5  7  3\n",
       " 6  7  5"
      ]
     },
     "execution_count": 4,
     "metadata": {},
     "output_type": "execute_result"
    }
   ],
   "source": [
    "# Sources, targets, and weight\n",
    "sn=[1,1,1,2,2,3,3,3,5,5,6]\n",
    "tn=[2,3,4,4,5,4,6,7,6,7,7]\n",
    "wn=[2,3,4,7,1,3,2,1,7,3,5]\n",
    "[sn tn wn]"
   ]
  },
  {
   "cell_type": "code",
   "execution_count": 5,
   "metadata": {
    "collapsed": false
   },
   "outputs": [],
   "source": [
    "for i=1:length(sn)\n",
    "    add_edge!(G,sn[i],tn[i])\n",
    "end"
   ]
  },
  {
   "cell_type": "code",
   "execution_count": 6,
   "metadata": {
    "collapsed": false
   },
   "outputs": [
    {
     "data": {
      "text/plain": [
       "Undirected Graph (7 vertices, 11 edges)"
      ]
     },
     "execution_count": 6,
     "metadata": {},
     "output_type": "execute_result"
    }
   ],
   "source": [
    "G"
   ]
  },
  {
   "cell_type": "code",
   "execution_count": 8,
   "metadata": {
    "collapsed": false
   },
   "outputs": [
    {
     "data": {
      "text/html": [
       "<?xml version=\"1.0\" encoding=\"UTF-8\" standalone=\"no\"?>\r\n",
       "<!DOCTYPE svg PUBLIC \"-//W3C//DTD SVG 1.1//EN\"\r\n",
       " \"http://www.w3.org/Graphics/SVG/1.1/DTD/svg11.dtd\">\r\n",
       "<!-- Generated by graphviz version 2.38.0 (20140413.2041)\r\n",
       " -->\r\n",
       "<!-- Title: graphname Pages: 1 -->\r\n",
       "<svg width=\"230pt\" height=\"199pt\"\r\n",
       " viewBox=\"0.00 0.00 230.00 199.00\" xmlns=\"http://www.w3.org/2000/svg\" xmlns:xlink=\"http://www.w3.org/1999/xlink\">\r\n",
       "<g id=\"graph0\" class=\"graph\" transform=\"scale(1 1) rotate(0) translate(4 195)\">\r\n",
       "<title>graphname</title>\r\n",
       "<polygon fill=\"white\" stroke=\"none\" points=\"-4,4 -4,-195 226,-195 226,4 -4,4\"/>\r\n",
       "<!-- 1 -->\r\n",
       "<g id=\"node1\" class=\"node\"><title>1</title>\r\n",
       "<ellipse fill=\"none\" stroke=\"black\" cx=\"42.5893\" cy=\"-17.8315\" rx=\"27\" ry=\"18\"/>\r\n",
       "<text text-anchor=\"middle\" x=\"42.5893\" y=\"-14.1315\" font-family=\"Times New Roman,serif\" font-size=\"14.00\">1</text>\r\n",
       "</g>\r\n",
       "<!-- 2 -->\r\n",
       "<g id=\"node2\" class=\"node\"><title>2</title>\r\n",
       "<ellipse fill=\"none\" stroke=\"black\" cx=\"26.7751\" cy=\"-120.741\" rx=\"27\" ry=\"18\"/>\r\n",
       "<text text-anchor=\"middle\" x=\"26.7751\" y=\"-117.041\" font-family=\"Times New Roman,serif\" font-size=\"14.00\">2</text>\r\n",
       "</g>\r\n",
       "<!-- 1&#45;&#45;2 -->\r\n",
       "<g id=\"edge1\" class=\"edge\"><title>1&#45;&#45;2</title>\r\n",
       "<path fill=\"none\" stroke=\"black\" d=\"M39.8347,-35.757C36.9498,-54.5302 32.4441,-83.8503 29.5512,-102.676\"/>\r\n",
       "</g>\r\n",
       "<!-- 3 -->\r\n",
       "<g id=\"node3\" class=\"node\"><title>3</title>\r\n",
       "<ellipse fill=\"none\" stroke=\"black\" cx=\"139.618\" cy=\"-27.9312\" rx=\"27\" ry=\"18\"/>\r\n",
       "<text text-anchor=\"middle\" x=\"139.618\" y=\"-24.2312\" font-family=\"Times New Roman,serif\" font-size=\"14.00\">3</text>\r\n",
       "</g>\r\n",
       "<!-- 1&#45;&#45;3 -->\r\n",
       "<g id=\"edge2\" class=\"edge\"><title>1&#45;&#45;3</title>\r\n",
       "<path fill=\"none\" stroke=\"black\" d=\"M69.3597,-20.618C82.9344,-22.031 99.3728,-23.7421 112.935,-25.1538\"/>\r\n",
       "</g>\r\n",
       "<!-- 4 -->\r\n",
       "<g id=\"node4\" class=\"node\"><title>4</title>\r\n",
       "<ellipse fill=\"none\" stroke=\"black\" cx=\"55.1003\" cy=\"-67.9952\" rx=\"27\" ry=\"18\"/>\r\n",
       "<text text-anchor=\"middle\" x=\"55.1003\" y=\"-64.2952\" font-family=\"Times New Roman,serif\" font-size=\"14.00\">4</text>\r\n",
       "</g>\r\n",
       "<!-- 1&#45;&#45;4 -->\r\n",
       "<g id=\"edge3\" class=\"edge\"><title>1&#45;&#45;4</title>\r\n",
       "<path fill=\"none\" stroke=\"black\" d=\"M47.0354,-35.6586C48.2154,-40.3897 49.4893,-45.4975 50.6685,-50.2255\"/>\r\n",
       "</g>\r\n",
       "<!-- 2&#45;&#45;4 -->\r\n",
       "<g id=\"edge4\" class=\"edge\"><title>2&#45;&#45;4</title>\r\n",
       "<path fill=\"none\" stroke=\"black\" d=\"M35.8932,-103.762C39.1278,-97.7384 42.7661,-90.9633 45.9992,-84.9428\"/>\r\n",
       "</g>\r\n",
       "<!-- 5 -->\r\n",
       "<g id=\"node5\" class=\"node\"><title>5</title>\r\n",
       "<ellipse fill=\"none\" stroke=\"black\" cx=\"114.448\" cy=\"-173.327\" rx=\"27\" ry=\"18\"/>\r\n",
       "<text text-anchor=\"middle\" x=\"114.448\" y=\"-169.627\" font-family=\"Times New Roman,serif\" font-size=\"14.00\">5</text>\r\n",
       "</g>\r\n",
       "<!-- 2&#45;&#45;5 -->\r\n",
       "<g id=\"edge5\" class=\"edge\"><title>2&#45;&#45;5</title>\r\n",
       "<path fill=\"none\" stroke=\"black\" d=\"M47.1093,-132.938C61.2731,-141.433 80.0844,-152.716 94.2239,-161.197\"/>\r\n",
       "</g>\r\n",
       "<!-- 3&#45;&#45;4 -->\r\n",
       "<g id=\"edge6\" class=\"edge\"><title>3&#45;&#45;4</title>\r\n",
       "<path fill=\"none\" stroke=\"black\" d=\"M117.412,-38.4575C104.989,-44.3463 89.5567,-51.6618 77.158,-57.5392\"/>\r\n",
       "</g>\r\n",
       "<!-- 6 -->\r\n",
       "<g id=\"node6\" class=\"node\"><title>6</title>\r\n",
       "<ellipse fill=\"none\" stroke=\"black\" cx=\"128.764\" cy=\"-123.222\" rx=\"27\" ry=\"18\"/>\r\n",
       "<text text-anchor=\"middle\" x=\"128.764\" y=\"-119.522\" font-family=\"Times New Roman,serif\" font-size=\"14.00\">6</text>\r\n",
       "</g>\r\n",
       "<!-- 3&#45;&#45;6 -->\r\n",
       "<g id=\"edge7\" class=\"edge\"><title>3&#45;&#45;6</title>\r\n",
       "<path fill=\"none\" stroke=\"black\" d=\"M137.525,-46.3043C135.591,-63.2863 132.734,-88.3688 130.814,-105.229\"/>\r\n",
       "</g>\r\n",
       "<!-- 7 -->\r\n",
       "<g id=\"node7\" class=\"node\"><title>7</title>\r\n",
       "<ellipse fill=\"none\" stroke=\"black\" cx=\"195.404\" cy=\"-106.152\" rx=\"27\" ry=\"18\"/>\r\n",
       "<text text-anchor=\"middle\" x=\"195.404\" y=\"-102.452\" font-family=\"Times New Roman,serif\" font-size=\"14.00\">7</text>\r\n",
       "</g>\r\n",
       "<!-- 3&#45;&#45;7 -->\r\n",
       "<g id=\"edge8\" class=\"edge\"><title>3&#45;&#45;7</title>\r\n",
       "<path fill=\"none\" stroke=\"black\" d=\"M151.449,-44.5198C160.98,-57.8839 174.306,-76.57 183.782,-89.8557\"/>\r\n",
       "</g>\r\n",
       "<!-- 5&#45;&#45;6 -->\r\n",
       "<g id=\"edge9\" class=\"edge\"><title>5&#45;&#45;6</title>\r\n",
       "<path fill=\"none\" stroke=\"black\" d=\"M119.536,-155.521C120.886,-150.796 122.344,-145.694 123.693,-140.971\"/>\r\n",
       "</g>\r\n",
       "<!-- 5&#45;&#45;7 -->\r\n",
       "<g id=\"edge10\" class=\"edge\"><title>5&#45;&#45;7</title>\r\n",
       "<path fill=\"none\" stroke=\"black\" d=\"M131.617,-159.081C145.355,-147.681 164.528,-131.772 178.26,-120.378\"/>\r\n",
       "</g>\r\n",
       "<!-- 6&#45;&#45;7 -->\r\n",
       "<g id=\"edge11\" class=\"edge\"><title>6&#45;&#45;7</title>\r\n",
       "<path fill=\"none\" stroke=\"black\" d=\"M154.338,-116.671C159.477,-115.355 164.876,-113.972 170.008,-112.657\"/>\r\n",
       "</g>\r\n",
       "</g>\r\n",
       "</svg>\r\n"
      ],
      "text/plain": [
       "IJuliaPortrayals.GraphViz(\"graph graphname {\\n1\\n2\\n3\\n4\\n5\\n6\\n7\\n1 -- 2\\n1 -- 3\\n1 -- 4\\n2 -- 4\\n2 -- 5\\n3 -- 4\\n3 -- 6\\n3 -- 7\\n5 -- 6\\n5 -- 7\\n6 -- 7\\n}\\n\",\"fdp\",\"svg\")"
      ]
     },
     "execution_count": 8,
     "metadata": {},
     "output_type": "execute_result"
    }
   ],
   "source": [
    "# Repeat on error!\n",
    "GraphViz(to_dot(G),\"fdp\",\"svg\")"
   ]
  },
  {
   "cell_type": "code",
   "execution_count": 9,
   "metadata": {
    "collapsed": false
   },
   "outputs": [
    {
     "data": {
      "text/plain": [
       "11-element Array{Graphs.Edge{Int64},1}:\n",
       " edge [1]: 1 -- 2 \n",
       " edge [2]: 1 -- 3 \n",
       " edge [3]: 1 -- 4 \n",
       " edge [4]: 2 -- 4 \n",
       " edge [5]: 2 -- 5 \n",
       " edge [6]: 3 -- 4 \n",
       " edge [7]: 3 -- 6 \n",
       " edge [8]: 3 -- 7 \n",
       " edge [9]: 5 -- 6 \n",
       " edge [10]: 5 -- 7\n",
       " edge [11]: 6 -- 7"
      ]
     },
     "execution_count": 9,
     "metadata": {},
     "output_type": "execute_result"
    }
   ],
   "source": [
    "edges(G)"
   ]
  },
  {
   "cell_type": "code",
   "execution_count": 10,
   "metadata": {
    "collapsed": false
   },
   "outputs": [
    {
     "data": {
      "text/plain": [
       "7×7 Array{Int64,2}:\n",
       " 0  2  3  4  0  0  0\n",
       " 2  0  0  7  1  0  0\n",
       " 3  0  0  3  0  2  1\n",
       " 4  7  3  0  0  0  0\n",
       " 0  1  0  0  0  7  3\n",
       " 0  0  2  0  7  0  5\n",
       " 0  0  1  0  3  5  0"
      ]
     },
     "execution_count": 10,
     "metadata": {},
     "output_type": "execute_result"
    }
   ],
   "source": [
    "W=weight_matrix(G,wn)"
   ]
  },
  {
   "cell_type": "code",
   "execution_count": 11,
   "metadata": {
    "collapsed": false
   },
   "outputs": [
    {
     "data": {
      "text/plain": [
       "true"
      ]
     },
     "execution_count": 11,
     "metadata": {},
     "output_type": "execute_result"
    }
   ],
   "source": [
    "issymmetric(W)"
   ]
  },
  {
   "cell_type": "code",
   "execution_count": 12,
   "metadata": {
    "collapsed": false
   },
   "outputs": [
    {
     "data": {
      "text/plain": [
       "7×7 Array{Int64,2}:\n",
       "  9  -2  -3  -4   0   0   0\n",
       " -2  10   0  -7  -1   0   0\n",
       " -3   0   9  -3   0  -2  -1\n",
       " -4  -7  -3  14   0   0   0\n",
       "  0  -1   0   0  11  -7  -3\n",
       "  0   0  -2   0  -7  14  -5\n",
       "  0   0  -1   0  -3  -5   9"
      ]
     },
     "execution_count": 12,
     "metadata": {},
     "output_type": "execute_result"
    }
   ],
   "source": [
    "L=laplacian_matrix(G,wn)"
   ]
  },
  {
   "cell_type": "code",
   "execution_count": 13,
   "metadata": {
    "collapsed": false
   },
   "outputs": [
    {
     "data": {
      "text/plain": [
       "7×7 Array{Float64,2}:\n",
       "  1.0       -0.210819   -0.333333  …   0.0         0.0        0.0     \n",
       " -0.210819   1.0         0.0          -0.0953463   0.0        0.0     \n",
       " -0.333333   0.0         1.0           0.0        -0.178174  -0.111111\n",
       " -0.356348  -0.591608   -0.267261      0.0         0.0        0.0     \n",
       "  0.0       -0.0953463   0.0           1.0        -0.564076  -0.301511\n",
       "  0.0        0.0        -0.178174  …  -0.564076    1.0       -0.445435\n",
       "  0.0        0.0        -0.111111     -0.301511   -0.445435   1.0     "
      ]
     },
     "execution_count": 13,
     "metadata": {},
     "output_type": "execute_result"
    }
   ],
   "source": [
    "# Normalized Laplacian matrix, we need Symmetric()\n",
    "function normalized(L::Matrix)\n",
    "    D=1.0./sqrt(diag(L))\n",
    "    map(Float64,Symmetric([L[i,j]*D[i]*D[j] for i=1:length(D),\n",
    "        j=1:length(D)]))\n",
    "end\n",
    "Ln=normalized(L)"
   ]
  },
  {
   "cell_type": "code",
   "execution_count": 14,
   "metadata": {
    "collapsed": false
   },
   "outputs": [
    {
     "data": {
      "text/plain": [
       "7×7 Array{Int64,2}:\n",
       " 0  2  3  4  0  0  0\n",
       " 2  0  0  7  1  0  0\n",
       " 3  0  0  3  0  2  1\n",
       " 4  7  3  0  0  0  0\n",
       " 0  1  0  0  0  7  3\n",
       " 0  0  2  0  7  0  5\n",
       " 0  0  1  0  3  5  0"
      ]
     },
     "execution_count": 14,
     "metadata": {},
     "output_type": "execute_result"
    }
   ],
   "source": [
    "# The second approach\n",
    "g = inclist(ExVertex, ExEdge{ExVertex}; is_directed=false)\n",
    "for i=1:7\n",
    "    add_vertex!(g, ExVertex(i,\"$i\"))\n",
    "end\n",
    "for i=1:11\n",
    "    # add_edge!(g,ExEdge(i,vertices(g)[sn[i]], vertices(g)[en[i]]))\n",
    "    add_edge!(g, vertices(g)[sn[i]], vertices(g)[tn[i]])\n",
    "end\n",
    "weight_matrix(g,wn)"
   ]
  },
  {
   "cell_type": "code",
   "execution_count": 15,
   "metadata": {
    "collapsed": false
   },
   "outputs": [],
   "source": [
    "# Now we add labels in order to print weights\n",
    "for i=1:length(g.inclist)\n",
    "    for j=1:length(g.inclist[i])\n",
    "        ei=g.inclist[i][j]\n",
    "        attrs = attributes(ei, g)\n",
    "        attrs[\"label\"] = wn[edge_index(ei,g)]\n",
    "    end\n",
    "end"
   ]
  },
  {
   "cell_type": "code",
   "execution_count": 16,
   "metadata": {
    "collapsed": false
   },
   "outputs": [
    {
     "data": {
      "text/html": [
       "<?xml version=\"1.0\" encoding=\"UTF-8\" standalone=\"no\"?>\r\n",
       "<!DOCTYPE svg PUBLIC \"-//W3C//DTD SVG 1.1//EN\"\r\n",
       " \"http://www.w3.org/Graphics/SVG/1.1/DTD/svg11.dtd\">\r\n",
       "<!-- Generated by graphviz version 2.38.0 (20140413.2041)\r\n",
       " -->\r\n",
       "<!-- Title: graphname Pages: 1 -->\r\n",
       "<svg width=\"230pt\" height=\"199pt\"\r\n",
       " viewBox=\"0.00 0.00 230.00 199.00\" xmlns=\"http://www.w3.org/2000/svg\" xmlns:xlink=\"http://www.w3.org/1999/xlink\">\r\n",
       "<g id=\"graph0\" class=\"graph\" transform=\"scale(1 1) rotate(0) translate(4 195)\">\r\n",
       "<title>graphname</title>\r\n",
       "<polygon fill=\"white\" stroke=\"none\" points=\"-4,4 -4,-195 226,-195 226,4 -4,4\"/>\r\n",
       "<!-- 1 -->\r\n",
       "<g id=\"node1\" class=\"node\"><title>1</title>\r\n",
       "<ellipse fill=\"none\" stroke=\"black\" cx=\"42.5893\" cy=\"-17.8315\" rx=\"27\" ry=\"18\"/>\r\n",
       "<text text-anchor=\"middle\" x=\"42.5893\" y=\"-14.1315\" font-family=\"Times New Roman,serif\" font-size=\"14.00\">1</text>\r\n",
       "</g>\r\n",
       "<!-- 2 -->\r\n",
       "<g id=\"node2\" class=\"node\"><title>2</title>\r\n",
       "<ellipse fill=\"none\" stroke=\"black\" cx=\"26.7751\" cy=\"-120.741\" rx=\"27\" ry=\"18\"/>\r\n",
       "<text text-anchor=\"middle\" x=\"26.7751\" y=\"-117.041\" font-family=\"Times New Roman,serif\" font-size=\"14.00\">2</text>\r\n",
       "</g>\r\n",
       "<!-- 1&#45;&#45;2 -->\r\n",
       "<g id=\"edge1\" class=\"edge\"><title>1&#45;&#45;2</title>\r\n",
       "<path fill=\"none\" stroke=\"black\" d=\"M39.8347,-35.757C36.9498,-54.5302 32.4441,-83.8503 29.5512,-102.676\"/>\r\n",
       "<text text-anchor=\"middle\" x=\"31.1929\" y=\"-73.0163\" font-family=\"Times New Roman,serif\" font-size=\"14.00\">2</text>\r\n",
       "</g>\r\n",
       "<!-- 3 -->\r\n",
       "<g id=\"node3\" class=\"node\"><title>3</title>\r\n",
       "<ellipse fill=\"none\" stroke=\"black\" cx=\"139.618\" cy=\"-27.9312\" rx=\"27\" ry=\"18\"/>\r\n",
       "<text text-anchor=\"middle\" x=\"139.618\" y=\"-24.2312\" font-family=\"Times New Roman,serif\" font-size=\"14.00\">3</text>\r\n",
       "</g>\r\n",
       "<!-- 1&#45;&#45;3 -->\r\n",
       "<g id=\"edge2\" class=\"edge\"><title>1&#45;&#45;3</title>\r\n",
       "<path fill=\"none\" stroke=\"black\" d=\"M69.3597,-20.618C82.9344,-22.031 99.3728,-23.7421 112.935,-25.1538\"/>\r\n",
       "<text text-anchor=\"middle\" x=\"87.6474\" y=\"-26.6859\" font-family=\"Times New Roman,serif\" font-size=\"14.00\">3</text>\r\n",
       "</g>\r\n",
       "<!-- 4 -->\r\n",
       "<g id=\"node4\" class=\"node\"><title>4</title>\r\n",
       "<ellipse fill=\"none\" stroke=\"black\" cx=\"55.1003\" cy=\"-67.9952\" rx=\"27\" ry=\"18\"/>\r\n",
       "<text text-anchor=\"middle\" x=\"55.1003\" y=\"-64.2952\" font-family=\"Times New Roman,serif\" font-size=\"14.00\">4</text>\r\n",
       "</g>\r\n",
       "<!-- 1&#45;&#45;4 -->\r\n",
       "<g id=\"edge3\" class=\"edge\"><title>1&#45;&#45;4</title>\r\n",
       "<path fill=\"none\" stroke=\"black\" d=\"M47.0354,-35.6586C48.2154,-40.3897 49.4893,-45.4975 50.6685,-50.2255\"/>\r\n",
       "<text text-anchor=\"middle\" x=\"45.352\" y=\"-46.7421\" font-family=\"Times New Roman,serif\" font-size=\"14.00\">4</text>\r\n",
       "</g>\r\n",
       "<!-- 2&#45;&#45;4 -->\r\n",
       "<g id=\"edge4\" class=\"edge\"><title>2&#45;&#45;4</title>\r\n",
       "<path fill=\"none\" stroke=\"black\" d=\"M35.8932,-103.762C39.1278,-97.7384 42.7661,-90.9633 45.9992,-84.9428\"/>\r\n",
       "<text text-anchor=\"middle\" x=\"44.4462\" y=\"-83.1522\" font-family=\"Times New Roman,serif\" font-size=\"14.00\">7</text>\r\n",
       "</g>\r\n",
       "<!-- 5 -->\r\n",
       "<g id=\"node5\" class=\"node\"><title>5</title>\r\n",
       "<ellipse fill=\"none\" stroke=\"black\" cx=\"114.448\" cy=\"-173.327\" rx=\"27\" ry=\"18\"/>\r\n",
       "<text text-anchor=\"middle\" x=\"114.448\" y=\"-169.627\" font-family=\"Times New Roman,serif\" font-size=\"14.00\">5</text>\r\n",
       "</g>\r\n",
       "<!-- 2&#45;&#45;5 -->\r\n",
       "<g id=\"edge5\" class=\"edge\"><title>2&#45;&#45;5</title>\r\n",
       "<path fill=\"none\" stroke=\"black\" d=\"M47.1093,-132.938C61.2731,-141.433 80.0844,-152.716 94.2239,-161.197\"/>\r\n",
       "<text text-anchor=\"middle\" x=\"67.1666\" y=\"-150.867\" font-family=\"Times New Roman,serif\" font-size=\"14.00\">1</text>\r\n",
       "</g>\r\n",
       "<!-- 3&#45;&#45;4 -->\r\n",
       "<g id=\"edge6\" class=\"edge\"><title>3&#45;&#45;4</title>\r\n",
       "<path fill=\"none\" stroke=\"black\" d=\"M117.412,-38.4575C104.989,-44.3463 89.5567,-51.6618 77.158,-57.5392\"/>\r\n",
       "<text text-anchor=\"middle\" x=\"93.7851\" y=\"-51.7983\" font-family=\"Times New Roman,serif\" font-size=\"14.00\">3</text>\r\n",
       "</g>\r\n",
       "<!-- 6 -->\r\n",
       "<g id=\"node6\" class=\"node\"><title>6</title>\r\n",
       "<ellipse fill=\"none\" stroke=\"black\" cx=\"128.764\" cy=\"-123.222\" rx=\"27\" ry=\"18\"/>\r\n",
       "<text text-anchor=\"middle\" x=\"128.764\" y=\"-119.522\" font-family=\"Times New Roman,serif\" font-size=\"14.00\">6</text>\r\n",
       "</g>\r\n",
       "<!-- 3&#45;&#45;6 -->\r\n",
       "<g id=\"edge7\" class=\"edge\"><title>3&#45;&#45;6</title>\r\n",
       "<path fill=\"none\" stroke=\"black\" d=\"M137.525,-46.3043C135.591,-63.2863 132.734,-88.3688 130.814,-105.229\"/>\r\n",
       "<text text-anchor=\"middle\" x=\"130.67\" y=\"-79.5665\" font-family=\"Times New Roman,serif\" font-size=\"14.00\">2</text>\r\n",
       "</g>\r\n",
       "<!-- 7 -->\r\n",
       "<g id=\"node7\" class=\"node\"><title>7</title>\r\n",
       "<ellipse fill=\"none\" stroke=\"black\" cx=\"195.404\" cy=\"-106.152\" rx=\"27\" ry=\"18\"/>\r\n",
       "<text text-anchor=\"middle\" x=\"195.404\" y=\"-102.452\" font-family=\"Times New Roman,serif\" font-size=\"14.00\">7</text>\r\n",
       "</g>\r\n",
       "<!-- 3&#45;&#45;7 -->\r\n",
       "<g id=\"edge8\" class=\"edge\"><title>3&#45;&#45;7</title>\r\n",
       "<path fill=\"none\" stroke=\"black\" d=\"M151.449,-44.5198C160.98,-57.8839 174.306,-76.57 183.782,-89.8557\"/>\r\n",
       "<text text-anchor=\"middle\" x=\"164.115\" y=\"-70.9877\" font-family=\"Times New Roman,serif\" font-size=\"14.00\">1</text>\r\n",
       "</g>\r\n",
       "<!-- 5&#45;&#45;6 -->\r\n",
       "<g id=\"edge9\" class=\"edge\"><title>5&#45;&#45;6</title>\r\n",
       "<path fill=\"none\" stroke=\"black\" d=\"M119.536,-155.521C120.886,-150.796 122.344,-145.694 123.693,-140.971\"/>\r\n",
       "<text text-anchor=\"middle\" x=\"118.114\" y=\"-152.046\" font-family=\"Times New Roman,serif\" font-size=\"14.00\">7</text>\r\n",
       "</g>\r\n",
       "<!-- 5&#45;&#45;7 -->\r\n",
       "<g id=\"edge10\" class=\"edge\"><title>5&#45;&#45;7</title>\r\n",
       "<path fill=\"none\" stroke=\"black\" d=\"M131.617,-159.081C145.355,-147.681 164.528,-131.772 178.26,-120.378\"/>\r\n",
       "<text text-anchor=\"middle\" x=\"158.438\" y=\"-143.529\" font-family=\"Times New Roman,serif\" font-size=\"14.00\">3</text>\r\n",
       "</g>\r\n",
       "<!-- 6&#45;&#45;7 -->\r\n",
       "<g id=\"edge11\" class=\"edge\"><title>6&#45;&#45;7</title>\r\n",
       "<path fill=\"none\" stroke=\"black\" d=\"M154.338,-116.671C159.477,-115.355 164.876,-113.972 170.008,-112.657\"/>\r\n",
       "<text text-anchor=\"middle\" x=\"158.673\" y=\"-118.464\" font-family=\"Times New Roman,serif\" font-size=\"14.00\">5</text>\r\n",
       "</g>\r\n",
       "</g>\r\n",
       "</svg>\r\n"
      ],
      "text/plain": [
       "IJuliaPortrayals.GraphViz(\"graph graphname {\\n1 -- 2 [\\\"label\\\"=\\\"2\\\"]\\n1 -- 3 [\\\"label\\\"=\\\"3\\\"]\\n1 -- 4 [\\\"label\\\"=\\\"4\\\"]\\n2 -- 4 [\\\"label\\\"=\\\"7\\\"]\\n2 -- 5 [\\\"label\\\"=\\\"1\\\"]\\n3 -- 4 [\\\"label\\\"=\\\"3\\\"]\\n3 -- 6 [\\\"label\\\"=\\\"2\\\"]\\n3 -- 7 [\\\"label\\\"=\\\"1\\\"]\\n5 -- 6 [\\\"label\\\"=\\\"7\\\"]\\n5 -- 7 [\\\"label\\\"=\\\"3\\\"]\\n6 -- 7 [\\\"label\\\"=\\\"5\\\"]\\n}\\n\",\"fdp\",\"svg\")"
      ]
     },
     "execution_count": 16,
     "metadata": {},
     "output_type": "execute_result"
    }
   ],
   "source": [
    "# What is the optimal bipartition?\n",
    "GraphViz(to_dot(g),\"fdp\",\"svg\")"
   ]
  },
  {
   "cell_type": "code",
   "execution_count": 17,
   "metadata": {
    "collapsed": false
   },
   "outputs": [
    {
     "data": {
      "text/plain": [
       "7-element Array{Array{Graphs.ExEdge{Graphs.ExVertex},1},1}:\n",
       " Graphs.ExEdge{Graphs.ExVertex}[edge [1]: vertex [1] \"1\" -- vertex [2] \"2\",edge [2]: vertex [1] \"1\" -- vertex [3] \"3\",edge [3]: vertex [1] \"1\" -- vertex [4] \"4\"]                                           \n",
       " Graphs.ExEdge{Graphs.ExVertex}[edge [1]: vertex [2] \"2\" -- vertex [1] \"1\",edge [4]: vertex [2] \"2\" -- vertex [4] \"4\",edge [5]: vertex [2] \"2\" -- vertex [5] \"5\"]                                           \n",
       " Graphs.ExEdge{Graphs.ExVertex}[edge [2]: vertex [3] \"3\" -- vertex [1] \"1\",edge [6]: vertex [3] \"3\" -- vertex [4] \"4\",edge [7]: vertex [3] \"3\" -- vertex [6] \"6\",edge [8]: vertex [3] \"3\" -- vertex [7] \"7\"]\n",
       " Graphs.ExEdge{Graphs.ExVertex}[edge [3]: vertex [4] \"4\" -- vertex [1] \"1\",edge [4]: vertex [4] \"4\" -- vertex [2] \"2\",edge [6]: vertex [4] \"4\" -- vertex [3] \"3\"]                                           \n",
       " Graphs.ExEdge{Graphs.ExVertex}[edge [5]: vertex [5] \"5\" -- vertex [2] \"2\",edge [9]: vertex [5] \"5\" -- vertex [6] \"6\",edge [10]: vertex [5] \"5\" -- vertex [7] \"7\"]                                          \n",
       " Graphs.ExEdge{Graphs.ExVertex}[edge [7]: vertex [6] \"6\" -- vertex [3] \"3\",edge [9]: vertex [6] \"6\" -- vertex [5] \"5\",edge [11]: vertex [6] \"6\" -- vertex [7] \"7\"]                                          \n",
       " Graphs.ExEdge{Graphs.ExVertex}[edge [8]: vertex [7] \"7\" -- vertex [3] \"3\",edge [10]: vertex [7] \"7\" -- vertex [5] \"5\",edge [11]: vertex [7] \"7\" -- vertex [6] \"6\"]                                         "
      ]
     },
     "execution_count": 17,
     "metadata": {},
     "output_type": "execute_result"
    }
   ],
   "source": [
    "g.inclist"
   ]
  },
  {
   "cell_type": "code",
   "execution_count": 18,
   "metadata": {
    "collapsed": false
   },
   "outputs": [
    {
     "data": {
      "text/plain": [
       "7×11 Array{Float64,2}:\n",
       " -1.41421  -1.73205  -2.0   0.0      …   0.0   0.0       0.0       0.0    \n",
       "  1.41421   0.0       0.0  -2.64575      0.0   0.0       0.0       0.0    \n",
       "  0.0       1.73205   0.0   0.0         -1.0   0.0       0.0       0.0    \n",
       "  0.0       0.0       2.0   2.64575      0.0   0.0       0.0       0.0    \n",
       "  0.0       0.0       0.0   0.0          0.0  -2.64575  -1.73205   0.0    \n",
       "  0.0       0.0       0.0   0.0      …   0.0   2.64575   0.0      -2.23607\n",
       "  0.0       0.0       0.0   0.0          1.0   0.0       1.73205   2.23607"
      ]
     },
     "execution_count": 18,
     "metadata": {},
     "output_type": "execute_result"
    }
   ],
   "source": [
    "# The above incidence list is closely related to the incidence matrix\n",
    "IG=zeros(length(g.vertices),g.nedges)\n",
    "for i=1:g.nedges\n",
    "    IG[tn[i],i]=sqrt(wn[i])\n",
    "    IG[sn[i],i]=-sqrt(wn[i])\n",
    "end\n",
    "IG"
   ]
  },
  {
   "cell_type": "markdown",
   "metadata": {},
   "source": [
    "### Facts\n",
    "\n",
    "1. $L=I_{G}I_{G}^{T}$.\n",
    "\n",
    "2. $L$ is symmetric PSD matrix.\n",
    "\n",
    "3. $L\\mathbf{1}=0$ for $\\mathbf{1}=[1,...,1]^{T}$, thus $0$ is an eigenvalue of $L$ \n",
    "and $\\mathbf{1}$ is the corresponding eigenvector.\n",
    "\n",
    "4. If $G$ has $c$ connected components, then $L$ has $c$ eigenvalues equal to $0$.\n",
    "\n",
    "5. For every $x\\in \\mathbb{R}^{n}$, it holds\n",
    "$x^{T}L x=\\sum\\limits_{i<j}W_{ij}(x_{i}-x_{j})^{2}$.\n",
    "\n",
    "6. For every $x\\in\\mathbb{R}^{n}$ and $\\alpha,\\beta\\in\\mathbb{R}$, it holds\n",
    "$(\\alpha x+\\beta \\mathbf{1})^{T} L (\\alpha x+\\beta \\mathbf{1}) \n",
    "=\\alpha^{2} x^{T}L x$.\n",
    "\n",
    "7. Assume that the eigenvalues of $L$ are increasingly ordered. \n",
    "Then, \n",
    "$$\n",
    "0=\\lambda_1(L)\\leq \\lambda_2(L)\\leq \\cdots \\leq\\lambda_{n}(L)\\leq \n",
    "2\\max\\limits_{i=1,\\cdots ,n}d_{i}.\n",
    "$$\n",
    "\n",
    "8. $\\sigma(L_n) \\subseteq [0,2]$.\n",
    "\n",
    "### Examples"
   ]
  },
  {
   "cell_type": "code",
   "execution_count": 19,
   "metadata": {
    "collapsed": false
   },
   "outputs": [
    {
     "data": {
      "text/plain": [
       "2.594793571197741e-15"
      ]
     },
     "execution_count": 19,
     "metadata": {},
     "output_type": "execute_result"
    }
   ],
   "source": [
    "# Fact 1\n",
    "n=size(L,1)\n",
    "norm(L-IG*IG')"
   ]
  },
  {
   "cell_type": "code",
   "execution_count": 21,
   "metadata": {
    "collapsed": false
   },
   "outputs": [
    {
     "data": {
      "text/plain": [
       "(true,[-4.21885e-15,1.9497,8.50014,12.4888,12.6913,20.0518,20.3183],28)"
      ]
     },
     "execution_count": 21,
     "metadata": {},
     "output_type": "execute_result"
    }
   ],
   "source": [
    "# Facts 2 and 7\n",
    "issymmetric(L), eigvals(L), 2*maximum(diag(L))"
   ]
  },
  {
   "cell_type": "code",
   "execution_count": 22,
   "metadata": {
    "collapsed": false
   },
   "outputs": [
    {
     "data": {
      "text/plain": [
       "7-element Array{Float64,1}:\n",
       " 0.0\n",
       " 0.0\n",
       " 0.0\n",
       " 0.0\n",
       " 0.0\n",
       " 0.0\n",
       " 0.0"
      ]
     },
     "execution_count": 22,
     "metadata": {},
     "output_type": "execute_result"
    }
   ],
   "source": [
    "# Fact 3\n",
    "L*ones(n)"
   ]
  },
  {
   "cell_type": "code",
   "execution_count": 23,
   "metadata": {
    "collapsed": false
   },
   "outputs": [
    {
     "data": {
      "text/plain": [
       "([9.57691],9.576909792929511)"
      ]
     },
     "execution_count": 23,
     "metadata": {},
     "output_type": "execute_result"
    }
   ],
   "source": [
    "# Fact 5, explain the difference in formulas\n",
    "x=rand(n)\n",
    "x'*L*x, sum([W[i,j]*(x[i]-x[j])^2 for i=1:n, j=1:n])/2"
   ]
  },
  {
   "cell_type": "code",
   "execution_count": 24,
   "metadata": {
    "collapsed": false
   },
   "outputs": [
    {
     "data": {
      "text/plain": [
       "([8.05878],[8.05878])"
      ]
     },
     "execution_count": 24,
     "metadata": {},
     "output_type": "execute_result"
    }
   ],
   "source": [
    "# Fact 6\n",
    "α,β=rand(),rand()\n",
    "(α*x+β*ones(n))'*L*(α*x+β*ones(n)), α^2*x'*L*x"
   ]
  },
  {
   "cell_type": "code",
   "execution_count": 25,
   "metadata": {
    "collapsed": false
   },
   "outputs": [
    {
     "data": {
      "text/plain": [
       "7-element Array{Float64,1}:\n",
       " 3.64292e-17\n",
       " 0.17559    \n",
       " 0.887695   \n",
       " 1.29       \n",
       " 1.3692     \n",
       " 1.62123    \n",
       " 1.65628    "
      ]
     },
     "execution_count": 25,
     "metadata": {},
     "output_type": "execute_result"
    }
   ],
   "source": [
    "# Fact 8\n",
    "eigvals(Ln)"
   ]
  },
  {
   "cell_type": "markdown",
   "metadata": {},
   "source": [
    "## Bipartitioning\n",
    "\n",
    "### Definitions\n",
    "\n",
    "Let $\\pi=\\{V_{1},V_{2}\\}$ be a partition of $V$ with $V_1,V_2\\neq \\emptyset$.\n",
    "\n",
    "A __cut__ of a partition $\\pi$ is the sum of weights of all \n",
    "edges between $V_1$ and $V_2$, \n",
    "$cut(\\pi)\\equiv cut(V_1,V_2)=\\sum\\limits_{\\displaystyle i\\in V_{1},j\\in V_{2}}W_{ij}$.\n",
    "\n",
    "A __weight__ of a vertex $i\\in V$ is the sum of the weights of all egdges emanating from $i$,\n",
    "$\\omega(i)=\\sum\\limits_{j=1}^{n}W_{ij}$.\n",
    "\n",
    "A __weight__ of a subset $\\bar V\\subset V$ is the sum of the weights of all vertices in \n",
    "$\\bar V$, $\\omega(\\bar V)=\\sum\\limits_{\\displaystyle i\\in\\bar V} \\omega(i)$.\n",
    "\n",
    "A __proportional cut__ of a partition $\\pi$ is\n",
    "$pcut(\\pi)=\\displaystyle\\frac{cut(\\pi)}{|V_{1}|}+\\frac{cut(\\pi)}{|V_{2}|}$.\n",
    "\n",
    "A __normalized cut__ of a partition $\\pi$ is\n",
    "$ncut(\\pi)=\\displaystyle\\frac{cut(\\pi)}{\\omega(V_{1})}+\\frac{cut(\\pi)}{\\omega(V_{2})}$."
   ]
  },
  {
   "cell_type": "markdown",
   "metadata": {},
   "source": [
    "### Example\n",
    "\n",
    "Consider the following partitions (all edges have unit weights):\n",
    "\n",
    "![Two partitions](files/cut2.png)\n",
    "\n",
    "The left partition $\\pi$ v.s. the right partition $\\pi^{\\prime}$:\n",
    "\n",
    "$cut(\\pi)=2$ v.s. $cut(\\pi^{\\prime})=3$\n",
    "\n",
    "$pcut(\\pi)=\\frac{2}{1}+\\frac{2}{11}=2.18$ v.s. \n",
    "$pcut(\\pi^{\\prime})=\\frac{3}{6}+\\frac{3}{6}=1$\n",
    "\n",
    "$ncut(\\pi)=\\frac{2}{2}+\\frac{2}{50}=1.04$ v.s. \n",
    "$ncut(\\pi^{\\prime})=\\frac{3}{27}+\\frac{3}{25}=0.23$"
   ]
  },
  {
   "cell_type": "markdown",
   "metadata": {},
   "source": [
    "### Facts\n",
    "\n",
    "1. The informal description of the bipartitioning problem can be formulated as\n",
    "two problems,\n",
    "$$\n",
    "\\mathop{\\textrm{arg min}}\\limits_{\\pi} pcut(\\pi) \\quad \\textrm{or} \\quad \n",
    "\\mathop{\\textrm{arg min}}\\limits_{\\pi} ncut(\\pi).\n",
    "$$\n",
    "The first problem favors partitions into subsets with similar numbers of vertices, while the second problem favors partitions into subsets with similar weights.\n",
    "\n",
    "2. Both problems are NP-hard.\n",
    "\n",
    "3. Approximate solutions can be computed by suitable relaxations in $O(n^2)$ operations.\n",
    "\n",
    "4. The partition $\\pi$ is defined by the vector $y$ such that\n",
    "$$\n",
    "y_{i}=\n",
    "\\begin{cases}\n",
    "\\frac{1}{2} & \\text{for } i\\in V_1 \\\\\n",
    "-\\frac{1}{2} & \\text{for } i\\in V_2\n",
    "\\end{cases}\n",
    "$$\n",
    "The proportional cut problem can be formulated as the  __discrete__ proportional cut problem\n",
    "$$\n",
    "\\underset{\\displaystyle \\big|\\mathbf{y}^{T}\\mathbf{1} \\big|\\leq \\beta}\n",
    "{\\min\\limits_{\\displaystyle y_{i}\\in \\{-1/2,1/2\\}}}\n",
    "\\frac{1}{2}\\sum_{i,j}(y_{i}-y_{j})^{2}W_{ij}.\n",
    "$$\n",
    "Parameter $\\beta$ controls the number of vertices in each subset.\n",
    "\n",
    "3. The normalized cut problem can be formulated as the __discrete__ normalized cut problem\n",
    "$$\n",
    "\\underset{\\displaystyle \\big|y^{T}D\\mathbf{1} \\big|\\leq \\beta}\n",
    "{\\min\\limits_{\\displaystyle y_{i}\\in \\{-1/2,1/2\\}}}\n",
    "\\frac{1}{2}\\sum_{i,j}(y_{i}-y_{j})^{2}W_{ij}.\n",
    "$$\n",
    "Parameter $\\beta$ controls the weights of each subset.\n",
    "\n",
    "4. Using the Fact 5 above, the discrete proportional cut problem can be \n",
    "formulated as the __relaxed__ proportional cut problem\n",
    "$$\n",
    "\\underset{\\displaystyle y^{T}y=1}{\\underset{\\displaystyle \\big| y^{T}\\mathbf{1} \\big|\n",
    "\\leq 2\\beta/\\sqrt{n}}\n",
    "{\\min\\limits_{\\displaystyle y\\in \\mathbb{R}^{n}}}} y^{T}L y.\n",
    "$$\n",
    "Similarly, the discrete normalized cut problem can be formulated as the __relaxed__\n",
    "normalized cut problem\n",
    "$$\n",
    "\\underset{\\displaystyle y^{T}Dy=1}{\\underset{\\displaystyle \\big| y^{T}D\\mathbf{1}\\big|\n",
    "\\leq \\displaystyle \\beta /\\sqrt{\\theta n}}{\\min\\limits_{\\displaystyle y\\in\n",
    "\\mathbb{R}^{n}}}}y^{T}L_n y.\n",
    "$$\n",
    "\n",
    "5. Solutions of the relaxed problems follow from the following theorem.\n",
    "Let $A\\in \\mathbb{R}^{n\\times n}$ be a symmetric matrix with eigenvalues\n",
    "$\\lambda _{1}<\\lambda _{2}<\\lambda_{3}\\leq \\cdots \\leq \\lambda _{n}$ and let \n",
    "$v^{[1]},v^{[2]},\\ldots,v^{[n]}$ be the corresponding eigenvectors. \n",
    "For the fixed $0\\leq \\alpha <1$, the solution of the problem\n",
    "$$\n",
    "\\underset{\\displaystyle y^{T}y=1}{\\underset{\\displaystyle \\left|y^{T}v^{[1]}\\right|\\leq \\alpha}\n",
    "{\\min\\limits_{\\displaystyle y\\in \\mathbb{R}^{n}}}} y^{T}Ay\n",
    "$$\n",
    "is $y=\\pm \\alpha v^{[1]}\\pm \\sqrt{1-\\alpha^{2}}v^{[2]}$.\n",
    "\n",
    "6. For $0\\leq \\beta <n/2$, the solution of the relaxed proportional cut problem is \n",
    "$$\n",
    "y=\\pm \\frac{2\\beta}{n\\sqrt{n}}\\mathbf{1}\\pm\n",
    "\\sqrt{1-4\\frac{\\beta ^{2}}{n^{2}}}v^{[2]},\n",
    "$$\n",
    "where $v^{[2]}$ is an eigenvector corresponding to $\\lambda_2(L)$.\n",
    "$v^{[2]}$ the __Fiedler vector__. Since the first summand carries no information, \n",
    "$V$ is partitioned according to the signs of the components of $v^{[2]}$:\n",
    "$$\n",
    "V_{1}=\\{i:v^{[2]}_i <0\\}, \\quad V_{2}=\\{i:v^{[2]}_i \\geq 0\\}.\n",
    "$$\n",
    "_Notice that the value of $\\beta$ is irrelevant for the solution._\n",
    "\n",
    "7. For $0\\leq \\beta <\\sqrt{\\theta n}\\left\\Vert\n",
    "D^{\\frac{1}{2}}\\mathbf{1} \\right\\Vert _{2}$, \n",
    "the solution of the relaxed proportional cut problem is\n",
    "$$\n",
    "y=\\pm \\frac{\\beta }{\\sqrt{\\theta n}\\left\\Vert\n",
    "D^{\\frac{1}{2}} \\mathbf{1}\\right\\Vert _{2}^{2}}\\mathbf{1}\\pm\n",
    "\\sqrt{1-\\frac{\\beta ^{2}}{ \\theta n\\left\\Vert\n",
    "D^{\\frac{1}{2}}\\mathbf{1}\\right\\Vert _{2}^{2}}}D^{-\\frac{1\n",
    "}{2}} v^{[2]},\n",
    "$$\n",
    "where $v^{[2]}$ is an eigenvector corresponding to $\\lambda_2(L_n)$.\n",
    "$V$ is partitioned according to the signs of the components of $v^{[2]}$, as above.\n",
    "\n",
    "9. Neither of the relaxed algorithms is guaranteed to solve exactly the true (proportional / normalized) cut problem. However, the computed solutions are in the right direction. \n",
    "Whether to use proportional or normalized cut formulation, depends upon the specific problem.  "
   ]
  },
  {
   "cell_type": "code",
   "execution_count": 26,
   "metadata": {
    "collapsed": false
   },
   "outputs": [
    {
     "data": {
      "text/plain": [
       "([2.53765e-16,1.9497],\n",
       "[-0.377964 -0.383259; -0.377964 -0.373084; … ; -0.377964 0.408506; -0.377964 0.449408],\n",
       "\n",
       "2,1,7,[0.0,0.0,0.0,0.0,0.0,0.0,0.0])"
      ]
     },
     "execution_count": 26,
     "metadata": {},
     "output_type": "execute_result"
    }
   ],
   "source": [
    "# Voila!\n",
    "λ,v=eigs(L,nev=2,which=:SM, v0=ones(n))"
   ]
  },
  {
   "cell_type": "code",
   "execution_count": 28,
   "metadata": {
    "collapsed": false
   },
   "outputs": [
    {
     "data": {
      "text/plain": [
       "7×2 Array{Float64,2}:\n",
       " -0.344124   0.339488\n",
       " -0.362738   0.362783\n",
       " -0.344124   0.130177\n",
       " -0.429198   0.452627\n",
       " -0.380443  -0.414617\n",
       " -0.429198  -0.460795\n",
       " -0.344124  -0.383509"
      ]
     },
     "execution_count": 28,
     "metadata": {},
     "output_type": "execute_result"
    }
   ],
   "source": [
    "v"
   ]
  },
  {
   "cell_type": "code",
   "execution_count": 27,
   "metadata": {
    "collapsed": false
   },
   "outputs": [
    {
     "data": {
      "text/plain": [
       "([5.25895e-17,0.175663],\n",
       "[-0.344124 0.339488; -0.362738 0.362783; … ; -0.429198 -0.460795; -0.344124 -0.383509],\n",
       "\n",
       "2,1,7,[0.0,0.0,0.0,0.0,0.0,0.0,0.0])"
      ]
     },
     "execution_count": 27,
     "metadata": {},
     "output_type": "execute_result"
    }
   ],
   "source": [
    "λ,v=eigs(Ln,nev=2,which=:SM, v0=ones(n))"
   ]
  },
  {
   "cell_type": "code",
   "execution_count": 29,
   "metadata": {
    "collapsed": false
   },
   "outputs": [
    {
     "data": {
      "text/plain": [
       "7×2 Array{Float64,2}:\n",
       " -0.344124   0.339488\n",
       " -0.362738   0.362783\n",
       " -0.344124   0.130177\n",
       " -0.429198   0.452627\n",
       " -0.380443  -0.414617\n",
       " -0.429198  -0.460795\n",
       " -0.344124  -0.383509"
      ]
     },
     "execution_count": 29,
     "metadata": {},
     "output_type": "execute_result"
    }
   ],
   "source": [
    "v"
   ]
  },
  {
   "cell_type": "markdown",
   "metadata": {},
   "source": [
    "### Example - Concentric circles\n",
    "\n",
    "A __complete graph__ has edges connecting each pair of vertices.\n",
    "\n",
    "To a set of points $X=\\{x_{1},x_{2},\\cdots ,x_{m}\\}$ , where $x_{i}\\in\\mathbb{R}^{n}$, we assign a weighted complete graph $G=(V,E)$ with $m$ vertices, where the vertex $j\\in V$ corresponds to the point $x_j\\in X$.\n",
    "\n",
    "The main idea is to assign weight of an edge $e=(i,j)$ which reflects the distance between $x_i$ and $x_j$, something like $\\omega(e)=\\displaystyle\\frac{1}{\\mathop{\\mathrm{dist}}(x_i,x_j)}$.\n",
    "\n",
    "However, this has to be implemented with care. For example, using simple Euclidean distance yield the same results as the function `kmeans()`. In this example we use Gaussian kernel, that is \n",
    "$$\n",
    "\\omega(e)=e^{\\displaystyle -\\|x_i-x_j\\|_2^2/\\sigma^2},\n",
    "$$\n",
    "where the choice of $\\sigma$ is based on experience.\n",
    "\n",
    "The computation of various distances is implemented in the package \n",
    "[Distances.jl](https://github.com/JuliaStats/Distances.jl).\n",
    "\n",
    "_N.B._ A complete graph is generated by the function \n",
    "`simple_complete_graph(m, is_directed=false)`, \n",
    "but we will construct the Laplace matrix directly."
   ]
  },
  {
   "cell_type": "code",
   "execution_count": 30,
   "metadata": {
    "collapsed": false
   },
   "outputs": [],
   "source": [
    "using Winston\n",
    "using Colors\n",
    "using Distances"
   ]
  },
  {
   "cell_type": "code",
   "execution_count": 31,
   "metadata": {
    "collapsed": false
   },
   "outputs": [
    {
     "data": {
      "text/plain": [
       "([1,0],[6,4],[1936,1804])"
      ]
     },
     "execution_count": 31,
     "metadata": {},
     "output_type": "execute_result"
    }
   ],
   "source": [
    "# Generate two concentric rings\n",
    "k=2\n",
    "# Center\n",
    "center=[rand(-5:5);rand(-5:5)]\n",
    "# Radii\n",
    "radii=randperm(10)[1:k]\n",
    "# Number of points in circles\n",
    "sizes=rand(1000:2000,k)\n",
    "center,radii,sizes"
   ]
  },
  {
   "cell_type": "code",
   "execution_count": 32,
   "metadata": {
    "collapsed": false
   },
   "outputs": [
    {
     "data": {
      "image/png": "[encoded data removed]",
      "text/plain": [
       "Winston.FramedPlot(...)"
      ]
     },
     "execution_count": 32,
     "metadata": {},
     "output_type": "execute_result"
    }
   ],
   "source": [
    "# Points\n",
    "m=sum(sizes)\n",
    "X=Array(Float64,2,m)\n",
    "first=0\n",
    "last=0\n",
    "for j=1:k\n",
    "    first=last+1\n",
    "    last=last+sizes[j]\n",
    "    # Random angles\n",
    "    ϕ=2*π*rand(sizes[j])\n",
    "    for i=first:last\n",
    "        l=i-first+1\n",
    "        X[:,i]=center+radii[j]*[cos(ϕ[l]);sin(ϕ[l])]+(rand(2)-0.5)/50\n",
    "    end\n",
    "end\n",
    "Winston.plot(X[1,:],X[2,:],\".\")"
   ]
  },
  {
   "cell_type": "code",
   "execution_count": 33,
   "metadata": {
    "collapsed": false
   },
   "outputs": [
    {
     "data": {
      "text/plain": [
       "3740×3740 Array{Float64,2}:\n",
       " Inf             1.57762        0.008113    …    0.0355138    0.0100468\n",
       "   1.57762     Inf              0.00859789       0.029455     0.0100339\n",
       "   0.008113      0.00859789   Inf                0.0102057    0.0505788\n",
       "   0.0375226     0.0289849      0.0069685        0.214319     0.0125378\n",
       "   0.0163839     0.0141578      0.00773644       0.139179     0.0178268\n",
       "   0.381751      0.172872       0.00741145  …    0.0557947    0.0102987\n",
       "   0.293091      0.894409       0.00946898       0.0238116    0.0101778\n",
       "   0.0223238     0.018543       0.00725002       0.225679     0.0148816\n",
       "   0.0473906     0.0674746      0.0137088        0.0154313    0.0113629\n",
       "   0.00808359    0.00856335  1018.89             0.0101928    0.0508659\n",
       "   0.17078       0.373842       0.010057    …    0.021432     0.0103042\n",
       "   3.57754       0.57081        0.00783628       0.0406005    0.0100797\n",
       "   0.0144674     0.0167518      0.0420241        0.0107779    0.0175864\n",
       "   ⋮                                        ⋱                          \n",
       "   0.0107658     0.011194       0.195094         0.0166271    0.171373 \n",
       "   0.0192858     0.0171509      0.0116955        0.239365     0.0333584\n",
       "   0.010395      0.0101717      0.0308006   …    0.0275715    0.626996 \n",
       "   0.0232523     0.0202328      0.0109449        0.576456     0.0278096\n",
       "   0.0101973     0.0100468      0.0357421        0.0251859    1.39869  \n",
       "   0.023412      0.0203662      0.0109673        0.593684     0.027825 \n",
       "   0.0134728     0.0145911      0.158593         0.015664     0.0533142\n",
       "   0.0187541     0.0212521      0.0574073   …    0.016622     0.0303942\n",
       "   0.245246      0.198544       0.0112372        0.0712989    0.0157044\n",
       "   0.0105319     0.0108785      0.156433         0.0171241    0.239584 \n",
       "   0.0355138     0.029455       0.0102057      Inf            0.0217722\n",
       "   0.0100468     0.0100339      0.0505788        0.0217722  Inf        "
      ]
     },
     "execution_count": 33,
     "metadata": {},
     "output_type": "execute_result"
    }
   ],
   "source": [
    "# Weight matrix\n",
    "W=1./pairwise(SqEuclidean(),X)"
   ]
  },
  {
   "cell_type": "code",
   "execution_count": 34,
   "metadata": {
    "collapsed": false
   },
   "outputs": [
    {
     "data": {
      "text/plain": [
       "7.222650243311155e-8"
      ]
     },
     "execution_count": 34,
     "metadata": {},
     "output_type": "execute_result"
    }
   ],
   "source": [
    "# Laplacian matrix\n",
    "for i=1:m\n",
    "    W[i,i]=0\n",
    "end\n",
    "L=diagm(vec(sum(W,2)))-W\n",
    "norm(L*ones(m))"
   ]
  },
  {
   "cell_type": "code",
   "execution_count": 35,
   "metadata": {
    "collapsed": false
   },
   "outputs": [
    {
     "data": {
      "text/plain": [
       "([1.22495e-11,68.7985],\n",
       "[0.0163517 0.00268095; 0.0163517 -0.000526479; … ; 0.0163517 0.0181861; 0.0163517 -0.00120529],\n",
       "\n",
       "2,2,37,[-5.68812e-5,-3.60128e-5,-1.34677e-5,6.03177e-6,8.40643e-6,4.74298e-5,3.28063e-5,-2.15565e-5,-8.0062e-5,-1.40825e-5  …  2.42219e-5,1.41341e-5,1.49145e-6,1.44482e-5,-1.58051e-5,4.43895e-6,-1.53268e-5,2.17413e-5,1.84269e-5,7.00251e-5])"
      ]
     },
     "execution_count": 35,
     "metadata": {},
     "output_type": "execute_result"
    }
   ],
   "source": [
    "# Notice \\lambda_1\n",
    "λ,v=eigs(L,nev=2,which=:SM, v0=ones(m))"
   ]
  },
  {
   "cell_type": "code",
   "execution_count": 36,
   "metadata": {
    "collapsed": false
   },
   "outputs": [
    {
     "data": {
      "text/plain": [
       "2"
      ]
     },
     "execution_count": 36,
     "metadata": {},
     "output_type": "execute_result"
    }
   ],
   "source": [
    "# Define clusters\n",
    "C=ones(Int64,m)\n",
    "C[find(v[:,2].>0)]=2"
   ]
  },
  {
   "cell_type": "code",
   "execution_count": 37,
   "metadata": {
    "collapsed": false
   },
   "outputs": [
    {
     "data": {
      "text/plain": [
       "plotKpartresult (generic function with 1 method)"
      ]
     },
     "execution_count": 37,
     "metadata": {},
     "output_type": "execute_result"
    }
   ],
   "source": [
    "# Yet another plotting function\n",
    "function plotKpartresult(C::Vector,X::Array)\n",
    "    p=FramedPlot()\n",
    "    k=maximum(C)\n",
    "    for j=1:k\n",
    "        # Random color\n",
    "        col=RGB(rand(),rand(),rand())\n",
    "        p1=Points(X[1,find(C.==j)],\n",
    "        X[2,find(C.==j)],\"color\",col,symbolkind=\"dot\")\n",
    "        add(p,p1)\n",
    "    end\n",
    "    p\n",
    "end"
   ]
  },
  {
   "cell_type": "code",
   "execution_count": 38,
   "metadata": {
    "collapsed": false
   },
   "outputs": [
    {
     "data": {
      "image/png": "[encoded data removed]",
      "text/plain": [
       "Winston.FramedPlot(...)"
      ]
     },
     "execution_count": 38,
     "metadata": {},
     "output_type": "execute_result"
    }
   ],
   "source": [
    "plotKpartresult(C,X)"
   ]
  },
  {
   "cell_type": "markdown",
   "metadata": {},
   "source": [
    "This is the same partitioning as obtained by `kmeans()`. Let us try Gaussian kernel. A rule of thumb is: if rings are close, use $\\sigma<1$, if rings are apart, use $\\sigma>1$."
   ]
  },
  {
   "cell_type": "code",
   "execution_count": 40,
   "metadata": {
    "collapsed": false
   },
   "outputs": [
    {
     "data": {
      "image/png": "[encoded data removed]",
      "text/plain": [
       "Winston.FramedPlot(...)"
      ]
     },
     "execution_count": 40,
     "metadata": {},
     "output_type": "execute_result"
    }
   ],
   "source": [
    "σ=0.5 # 0.1\n",
    "W=exp(-pairwise(SqEuclidean(),X)/σ^2)-I\n",
    "L=diagm(vec(sum(W,2)))-W\n",
    "λ,v=eigs(L,nev=2,which=:SM, v0=ones(m))\n",
    "C=ones(Int64,m)\n",
    "C[find(v[:,2].>0)]=2\n",
    "plotKpartresult(C,X)"
   ]
  },
  {
   "cell_type": "markdown",
   "metadata": {},
   "source": [
    "## Recursive bipartitioning\n",
    "\n",
    "### Definitions\n",
    "\n",
    "Let $G=(V,E)$ be a weighted graph with weights $\\omega$.\n",
    "\n",
    "Let $\\pi_k =\\{V_{1},V_{2},...,V_{k}\\}$ be a $k$-partition of $V$, with \n",
    "$V_i\\neq \\emptyset$ for $i=1,\\ldots,k$.\n",
    "\n",
    "The previous definition of $cut(\\pi)\\equiv cut(\\pi_2)$ extends naturally to $k$-partition.\n",
    "A __cut__ of a partition $\\pi_k$ is \n",
    "$$\n",
    "cut(\\pi_k)=\\sum\\limits_{\\displaystyle i<j} cut(V_{i},V_{j}),\n",
    "$$\n",
    "where $cut(V_{i},V_{j})$ is interpreted as a cut of the bipartition of the subgraph of $G$ with vertices $V_1\\cup V_2$.\n",
    "\n",
    "A __proportional cut__ of a partition $\\pi_k$ is\n",
    "$$\n",
    "pcut(\\pi_k)=\\underset{i<j}{\\sum\\limits_{i,j=1}^{k}} \\left(\n",
    "\\frac{cut(V_{i},V_{j})}{|V_{i}|}+\\frac{cut(V_{i},V_{j})}{|V_{j}|}\\right) =\n",
    "\\sum_{i=1}^{k}\\frac{cut(V_{i},V\\backslash V_{i})}{|V_{i}|}.\n",
    "$$\n",
    "\n",
    "A __normalized cut__ of a partition $\\pi_k$ is\n",
    "$$\n",
    "ncut(\\pi_k)=\\underset{i<j}{\\sum\\limits_{i,j=1}^{k}} \\left(\n",
    "\\frac{cut(V_{i},V_{j})}{\\omega(V_{i})}+\\frac{cut(V_{i},V_{j})}{\\omega(V_{j})}\\right) =\n",
    "\\sum_{i=1}^{k}\\frac{cut(V_{i},V\\backslash V_{i})}{ \\omega(V_{i})}.\n",
    "$$\n",
    "\n",
    "### Fact\n",
    "\n",
    "If we want to cluster vertices of graph $G=(V,E)$ into $k$ clusters, we can apply the following recursive algorithm:\n",
    "\n",
    "1. _Initialization_: Compute the bipartition $\\pi=\\{V_{1},V_{2}\\}$ of $V$. \n",
    "Set the counter $c=2$.\n",
    "\n",
    "2. _Recursion_: While $c<k$ repeat\n",
    "    1. compute the bipartition of each subset of $V$\n",
    "    2. among all $(c+1)$-partitions, choose the one with the smallest $pcut(\\pi_{c+1})$ or\n",
    "    $ncut(\\pi_{c+1})$, respectively\n",
    "    3. Set $c=c+1$\n",
    "\n",
    "3. Stop\n",
    "\n",
    "_There is no guarantee for optimality of this algorithm. Clearly, the opriomal $k$-partiton may be a subset of one of the discarded partitions._"
   ]
  },
  {
   "cell_type": "code",
   "execution_count": null,
   "metadata": {
    "collapsed": true
   },
   "outputs": [],
   "source": []
  }
 ],
 "metadata": {
  "anaconda-cloud": {},
  "kernelspec": {
   "display_name": "Julia 0.5.1",
   "language": "julia",
   "name": "julia-0.5"
  },
  "language_info": {
   "file_extension": ".jl",
   "mimetype": "application/julia",
   "name": "julia",
   "version": "0.5.1"
  }
 },
 "nbformat": 4,
 "nbformat_minor": 0
}
