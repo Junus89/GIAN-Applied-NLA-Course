{
 "cells": [
  {
   "cell_type": "markdown",
   "metadata": {},
   "source": [
    "# K-means Algorithm\n",
    "\n",
    "---\n",
    "\n",
    "Data clustering is one of the main mathematical applications variety of algorithms have been developed to tackle the problem. K-means is one of the basic algorithms for data clustering.\n",
    "\n",
    "## Prerequisites\n",
    "\n",
    "The reader should be familiar with basic linear algebra. \n",
    " \n",
    "## Competences \n",
    "\n",
    "The reader should be able to recognise applications where K-means algorithm can be efficiently used and use it.\n",
    "\n",
    "__Credits__: The notebook is based on [I. Mirošević, Spectral Graph Partitioning and Application to Knowledge Extraction][Mir05].\n",
    "\n",
    "[Mir05]: #1 \"I. Mirošević, 'Spectral Graph Partitioning and Application to Knowledge Extraction', M.Sc. Thesis, Iniversity of Zagreb, 2005 (in Croatian).\" \n",
    "\n",
    "---"
   ]
  },
  {
   "cell_type": "markdown",
   "metadata": {
    "collapsed": true
   },
   "source": [
    "## Definitions\n",
    "\n",
    "__Data clustering problem__ is the following: partition the given set of $m$ objects of the same type into $k$ subsets according to some criterion. Additional request may be to find the optimal $k$.\n",
    "\n",
    "__K-means clustering problem__ is the following: \n",
    "partition the set  $X=\\{x_{1},x_{2},\\cdots ,x_{m}\\}$ , where $x_{i}\\in\\mathbb{R}^{n}$, into $k$ __clusters__ $\\pi=\\{C_{1},C_{2},...,C_{k}\\}$ such that\n",
    "$$\n",
    "J(\\pi)=\\sum_{i=1}^{k}\\sum_{x\\in\n",
    "C_{i}}\\| x-c_{i}\\|_{2}^{2} \\to \\min\n",
    "$$\n",
    "over all possible partitions. Here\n",
    "$c_{i}=\\displaystyle\\frac{1}{|C_{i}|}\\sum_{x\\in C_{i}} x$ is the mean of points in $C_i$ and $|C_i|$ is the cardinality of $C_i$.\n",
    "\n",
    "__K-means clustering algorithm__ is the following:\n",
    "1. _Initialization_: Choose initial set of $k$ means $\\{c_1,\\ldots,c_k\\}$ (for example, by choosing randomly $k$ points from $X$).\n",
    "2. _Assignment step_: Assign each point $x$ to one nearest mean $c_i$.\n",
    "3. _Update step_: Compute the new means.\n",
    "4. _Convergence_: Repeat Steps 2 and 3 until the assignment no longer changes.\n",
    "\n",
    "A __first variation__ of a partition $\\pi=\\{C_1,\\ldots,C_k\\}$ is \n",
    "a partition $\\pi^{\\prime}=\\{C_{1}^{\\prime},\\cdots ,C_{k}^{\\prime }\\}$ \n",
    "obtained by moving a single point $x$ from a cluster  $C_{i}$ to a cluster $C_{j}$. Notice that $\\pi$ is a first variation of itself.\n",
    "\n",
    "A __next partition__ of the partition $\\pi$ is a partition \n",
    "$next(\\pi)=\\mathop{\\mathrm{arg min}}\\limits_{\\pi^{\\prime}} J(\\pi^{\\prime})$.\n",
    "\n",
    "__First Variation clustering algorithm__ is the following:\n",
    "1. Choose initial partition $\\pi$.\n",
    "2. Compute $next(\\pi)$\n",
    "3. If $J(next(\\pi))<J(\\pi)$, set $\\pi=next(\\pi)$ and go to Step 2\n",
    "4. Stop."
   ]
  },
  {
   "cell_type": "markdown",
   "metadata": {},
   "source": [
    "## Facts\n",
    "\n",
    "1. The k-means clustering problem is NP-hard.\n",
    "\n",
    "2. In the k-means algorithm, $J(\\pi)$ decreases in every iteration.\n",
    "\n",
    "3. K-means algorithm can converge to a local minimum.\n",
    "\n",
    "4. Each iteration of the k-means algorithm requires $O(mnk)$ operations.\n",
    "\n",
    "4. K-means algorithm is implemented in the function `kmeans()` in the package [Clustering.jl](https://github.com/JuliaStats/Clustering.jl).\n",
    "\n",
    "5. $J(\\pi)=\\mathop{\\mathrm{trace}}(S_W)$, where\n",
    "$$\n",
    "S_{W}=\\sum\\limits_{i=1}^k\\sum\\limits_{x\\in C_{i}}\n",
    "(x-c_i)(x-c_{i})^{T}\n",
    "=\\sum_{i=1}^k\\frac{1}{2|C_{i}|}\\sum_{x\\in C_{i}}\\sum_{y \\in C_{i}}\n",
    "(x-y)(x-y)^{T}.\n",
    "$$\n",
    "Let $c$ denote the mean of $X$. Then $S_W=S_T-S_B$, where\n",
    "\\begin{align*}\n",
    "S_{T}&=\\sum_{x\\in X}(x-c)(x-c)^{T} = \n",
    "\\frac{1}{2m}\\sum_{i=1}^m\\sum_{j=1}^m\n",
    "(x_{i}-x_{j})(x_{i}-x_{j})^{T}, \\\\\n",
    "S_{B}&=\\sum_{i=1}^k|C_{i}|(c_{i}-c)(c_{i}-c)^{T} =\n",
    "\\frac{1}{2m}\\sum_{i=1}^k\\sum_{j=1}^k|C_{i}||C_{j}|\n",
    "(c_{i}-c_{j})(c_{i}-c_{j})^{T}.\n",
    "\\end{align*}\n",
    "\n",
    "6. In order to try to avoid convergence to local minima, the k-means algorithm can be enhanced with first variation by adding the following steps:\n",
    "    1. Compute $next(\\pi)$. \n",
    "    2. If $J(next(\\pi))<J(\\pi)$, set $\\pi=next(\\pi)$ and go to Step 2.\n",
    "     "
   ]
  },
  {
   "cell_type": "markdown",
   "metadata": {},
   "source": [
    "### Example - Random clusters\n",
    "\n",
    "We generate $k$ random clusters around points with integer coordinates."
   ]
  },
  {
   "cell_type": "code",
   "execution_count": 1,
   "metadata": {
    "collapsed": false
   },
   "outputs": [
    {
     "data": {
      "text/plain": [
       "myKmeans (generic function with 1 method)"
      ]
     },
     "execution_count": 1,
     "metadata": {},
     "output_type": "execute_result"
    }
   ],
   "source": [
    "function myKmeans{T}(X::Array{T}, k::Int64)\n",
    "    # X is Array of Arrays\n",
    "    m,n=length(X),length(X[1])\n",
    "    C=Array(Int64,m)\n",
    "    # Choose random k means among X\n",
    "    c=X[randperm(m)[1:k]]\n",
    "    # This is just to start the while loop\n",
    "    cnew=copy(c)\n",
    "    cnew[1]=cnew[1]+[1.0;1.0]\n",
    "    # Loop\n",
    "    iterations=0\n",
    "    while cnew!=c\n",
    "        iterations+=1\n",
    "        cnew=copy(c)\n",
    "        # Assignment\n",
    "        for i=1:m\n",
    "            C[i]=findmin([norm(X[i]-c[j]) for j=1:k])[2]\n",
    "        end\n",
    "        # Update\n",
    "        for j=1:k\n",
    "            c[j]=mean(X[C.==j])\n",
    "        end\n",
    "    end\n",
    "    C,c,iterations\n",
    "end"
   ]
  },
  {
   "cell_type": "code",
   "execution_count": 2,
   "metadata": {
    "collapsed": false
   },
   "outputs": [
    {
     "name": "stderr",
     "output_type": "stream",
     "text": [
      "WARNING: requiring \"Dates\" in module \"Winston\" did not define a corresponding module.\n",
      "WARNING: module Winston should explicitly import * from Base\n"
     ]
    }
   ],
   "source": [
    "# Pkg.checkout(\"Winston\")\n",
    "using Winston\n",
    "using Colors"
   ]
  },
  {
   "cell_type": "code",
   "execution_count": 4,
   "metadata": {
    "collapsed": false
   },
   "outputs": [
    {
     "data": {
      "text/plain": [
       "(\n",
       "5x2 Array{Int64,2}:\n",
       "  5  -3\n",
       " -1   2\n",
       "  2   0\n",
       " -2  -2\n",
       "  0   5,\n",
       "\n",
       "[46,35,41,39,41])"
      ]
     },
     "execution_count": 4,
     "metadata": {},
     "output_type": "execute_result"
    }
   ],
   "source": [
    "# Generate points \n",
    "k=5\n",
    "centers=rand(-5:5,k,2)\n",
    "# Number of points in cluster\n",
    "sizes=rand(10:50,k)\n",
    "# X is array of arrays\n",
    "X=Array(Array{Float64,1},sum(sizes))\n",
    "first=0\n",
    "last=0\n",
    "for j=1:k\n",
    "    first=last+1\n",
    "    last=last+sizes[j]\n",
    "    for i=first:last\n",
    "        X[i]=map(Float64,vec(centers[j,:])+(rand(2)-0.5)/2)\n",
    "    end\n",
    "end\n",
    "centers, sizes"
   ]
  },
  {
   "cell_type": "code",
   "execution_count": 7,
   "metadata": {
    "collapsed": false,
    "scrolled": true
   },
   "outputs": [
    {
     "data": {
      "image/png": "[encoded data removed]",
      "text/plain": [
       "Winston.FramedPlot(...)"
      ]
     },
     "execution_count": 7,
     "metadata": {},
     "output_type": "execute_result"
    }
   ],
   "source": [
    "# Prepare for plot\n",
    "function extractxy(X::Array)\n",
    "    x=map(Float64,[X[i][1] for i=1:length(X)])\n",
    "    y=map(Float64,[X[i][2] for i=1:length(X)])\n",
    "    x,y\n",
    "end\n",
    "x,y=extractxy(X)\n",
    "plot(x,y,\"r.\",centers[:,1],centers[:,2],\"b+\")"
   ]
  },
  {
   "cell_type": "code",
   "execution_count": 9,
   "metadata": {
    "collapsed": false,
    "scrolled": true
   },
   "outputs": [
    {
     "data": {
      "text/plain": [
       "plotKmeansresult (generic function with 1 method)"
      ]
     },
     "execution_count": 9,
     "metadata": {},
     "output_type": "execute_result"
    }
   ],
   "source": [
    "# Plot the solution\n",
    "function plotKmeansresult(C::Array,c::Array,X::Array)\n",
    "    p=FramedPlot()\n",
    "    x,y=extractxy(X)\n",
    "    # Custers\n",
    "    for j=1:k\n",
    "        # Random color\n",
    "        col=RGB(rand(),rand(),rand())\n",
    "        p1=Points(x[find(C.==j)],y[find(C.==j)],\n",
    "        \"color\",col,symbolkind=\"dot\")\n",
    "        add(p,p1)\n",
    "    end\n",
    "    # Means\n",
    "    cx,cy=extractxy(c)\n",
    "    p2=Points(cx,cy,color=\"red\",symbolkind=\"plus\")\n",
    "    add(p,p2)\n",
    "end"
   ]
  },
  {
   "cell_type": "code",
   "execution_count": 10,
   "metadata": {
    "collapsed": false
   },
   "outputs": [
    {
     "data": {
      "image/png": "[encoded data removed]",
      "text/plain": [
       "Winston.FramedPlot(...)"
      ]
     },
     "execution_count": 10,
     "metadata": {},
     "output_type": "execute_result"
    }
   ],
   "source": [
    "# Cluster the data, repeat several times\n",
    "C,c,iterations=myKmeans(X,k)\n",
    "plotKmeansresult(C,c,X)"
   ]
  },
  {
   "cell_type": "markdown",
   "metadata": {},
   "source": [
    "__What happens?__\n",
    "\n",
    "We see that the algorithm, although simple, for this example \n",
    "converges to a local minimum.\n",
    "\n",
    "Let us try the function `kmeans()` from the package `Clustering.jl`.\n",
    "In this function, the inpout is a matrix where columns are points, number of cluster we are looking for, and, optionally, the method to compute initial means. \n",
    "\n",
    "If we choose `init=:rand`, the results are similar. If we choose\n",
    "`init=:kmpp`, wjich is the default, the results are better, but convergence to a local minimum is still possible.\n",
    "\n",
    "_Run the clustering several times!_\n",
    "\n",
    "```\n",
    "seeding_algorithm(s::Symbol) = \n",
    "    s == :rand ? RandSeedAlg() :\n",
    "    s == :kmpp ? KmppAlg() :\n",
    "    s == :kmcen ? KmCentralityAlg() :\n",
    "    error(\"Unknown seeding algorithm $s\")\n",
    "```"
   ]
  },
  {
   "cell_type": "code",
   "execution_count": 11,
   "metadata": {
    "collapsed": false
   },
   "outputs": [],
   "source": [
    "# Pkg.add(\"Clustering\")\n",
    "using Clustering"
   ]
  },
  {
   "cell_type": "code",
   "execution_count": 12,
   "metadata": {
    "collapsed": false,
    "scrolled": false
   },
   "outputs": [
    {
     "data": {
      "text/html": [
       "1 method for generic function <b>kmeans</b>:<ul><li> kmeans(X::<b>Array{T,2}</b>, k::<b>Int64</b>) at <a href=\"file://C:\\Users\\Ivan\\.julia\\v0.4\\Clustering\\src\\kmeans.jl\" target=\"_blank\">C:\\Users\\Ivan\\.julia\\v0.4\\Clustering\\src\\kmeans.jl:49</a></ul>"
      ],
      "text/plain": [
       "# 1 method for generic function \"kmeans\":\n",
       "kmeans(X::Array{T,2}, k::Int64) at C:\\Users\\Ivan\\.julia\\v0.4\\Clustering\\src\\kmeans.jl:49"
      ]
     },
     "execution_count": 12,
     "metadata": {},
     "output_type": "execute_result"
    }
   ],
   "source": [
    "methods(kmeans)"
   ]
  },
  {
   "cell_type": "code",
   "execution_count": 22,
   "metadata": {
    "collapsed": false
   },
   "outputs": [
    {
     "data": {
      "text/plain": [
       "Clustering.KmeansResult{Float64}(2x5 Array{Float64,2}:\n",
       " -0.0428546  -2.01104  -1.03151   4.97948   2.01869  \n",
       "  4.96397    -1.99352   1.98636  -2.96699  -0.0058705,[4,4,4,4,4,4,4,4,4,4  …  1,1,1,1,1,1,1,1,1,1],[0.0189335,0.0164571,0.051415,0.0558615,0.0421524,0.0342032,0.0305687,0.0492262,0.0753448,0.0550142  …  0.0075224,0.0231935,0.0220703,0.0225066,0.0035404,0.0142774,0.0762898,0.0433569,0.0201032,0.00169003],[41,39,35,46,41],[41.0,39.0,35.0,46.0,41.0],7.992503110538234,2,true)"
      ]
     },
     "execution_count": 22,
     "metadata": {},
     "output_type": "execute_result"
    }
   ],
   "source": [
    "X1=[x y]'\n",
    "out=kmeans(X1,k,init=:kmpp)"
   ]
  },
  {
   "cell_type": "code",
   "execution_count": 23,
   "metadata": {
    "collapsed": false
   },
   "outputs": [
    {
     "data": {
      "text/plain": [
       "8-element Array{Symbol,1}:\n",
       " :centers    \n",
       " :assignments\n",
       " :costs      \n",
       " :counts     \n",
       " :cweights   \n",
       " :totalcost  \n",
       " :iterations \n",
       " :converged  "
      ]
     },
     "execution_count": 23,
     "metadata": {},
     "output_type": "execute_result"
    }
   ],
   "source": [
    "fieldnames(KmeansResult)"
   ]
  },
  {
   "cell_type": "code",
   "execution_count": 24,
   "metadata": {
    "collapsed": false
   },
   "outputs": [
    {
     "data": {
      "text/plain": [
       "2x5 Array{Float64,2}:\n",
       " -0.0428546  -2.01104  -1.03151   4.97948   2.01869  \n",
       "  4.96397    -1.99352   1.98636  -2.96699  -0.0058705"
      ]
     },
     "execution_count": 24,
     "metadata": {},
     "output_type": "execute_result"
    }
   ],
   "source": [
    "out.centers"
   ]
  },
  {
   "cell_type": "code",
   "execution_count": 25,
   "metadata": {
    "collapsed": false
   },
   "outputs": [
    {
     "name": "stdout",
     "output_type": "stream",
     "text": [
      "[4,4,4,4,4,4,4,4,4,4,4,4,4,4,4,4,4,4,4,4,4,4,4,4,4,4,4,4,4,4,4,4,4,4,4,4,4,4,4,4,4,4,4,4,4,4,3,3,3,3,3,3,3,3,3,3,3,3,3,3,3,3,3,3,3,3,3,3,3,3,3,3,3,3,3,3,3,3,3,3,3,5,5,5,5,5,5,5,5,5,5,5,5,5,5,5,5,5,5,5,5,5,5,5,5,5,5,5,5,5,5,5,5,5,5,5,5,5,5,5,5,5,2,2,2,2,2,2,2,2,2,2,2,2,2,2,2,2,2,2,2,2,2,2,2,2,2,2,2,2,2,2,2,2,2,2,2,2,2,2,2,1,1,1,1,1,1,1,1,1,1,1,1,1,1,1,1,1,1,1,1,1,1,1,1,1,1,1,1,1,1,1,1,1,1,1,1,1,1,1,1,1]\n"
     ]
    }
   ],
   "source": [
    "println(out.assignments)"
   ]
  },
  {
   "cell_type": "code",
   "execution_count": 19,
   "metadata": {
    "collapsed": false
   },
   "outputs": [
    {
     "data": {
      "text/plain": [
       "plotKmeansresult (generic function with 2 methods)"
      ]
     },
     "execution_count": 19,
     "metadata": {},
     "output_type": "execute_result"
    }
   ],
   "source": [
    "# We need to modify the plotting function\n",
    "function plotKmeansresult(out::KmeansResult,X::Array)\n",
    "    p=FramedPlot()\n",
    "    # Custers\n",
    "    k=size(out.centers,2)\n",
    "    for j=1:k\n",
    "        # Random color\n",
    "        col=RGB(rand(),rand(),rand())\n",
    "        p1=Points(X[1,find(out.assignments.==j)],\n",
    "        X[2,find(out.assignments.==j)],\"color\",col,symbolkind=\"dot\")\n",
    "        add(p,p1)\n",
    "    end\n",
    "    # Means\n",
    "    p2=Points(out.centers[1,:],out.centers[2,:],\n",
    "    color=\"red\",symbolkind=\"plus\")\n",
    "    add(p,p2)\n",
    "end"
   ]
  },
  {
   "cell_type": "code",
   "execution_count": 26,
   "metadata": {
    "collapsed": false,
    "scrolled": false
   },
   "outputs": [
    {
     "data": {
      "image/png": "[encoded data removed]",
      "text/plain": [
       "Winston.FramedPlot(...)"
      ]
     },
     "execution_count": 26,
     "metadata": {},
     "output_type": "execute_result"
    }
   ],
   "source": [
    "plotKmeansresult(out,X1)"
   ]
  },
  {
   "cell_type": "code",
   "execution_count": 27,
   "metadata": {
    "collapsed": false
   },
   "outputs": [
    {
     "data": {
      "image/png": "[encoded data removed]",
      "text/plain": [
       "Winston.FramedPlot(...)"
      ]
     },
     "execution_count": 27,
     "metadata": {},
     "output_type": "execute_result"
    }
   ],
   "source": [
    "out=kmeans(X1,k,init=:kmpp)\n",
    "plotKmeansresult(out,X1)"
   ]
  },
  {
   "cell_type": "markdown",
   "metadata": {},
   "source": [
    "### Example - Concentric rings\n",
    "\n",
    "The k-means algorithm works well if clusters can be separated by hyperplanes. In this example it is not the case."
   ]
  },
  {
   "cell_type": "code",
   "execution_count": 31,
   "metadata": {
    "collapsed": false
   },
   "outputs": [
    {
     "data": {
      "text/plain": [
       "([4,-2],[9,4],[1793,1495])"
      ]
     },
     "execution_count": 31,
     "metadata": {},
     "output_type": "execute_result"
    }
   ],
   "source": [
    "# Number of rings, try also k=3\n",
    "k=2\n",
    "# Center\n",
    "center=[rand(-5:5);rand(-5:5)]\n",
    "# Radii\n",
    "radii=randperm(10)[1:k]\n",
    "# Number of points in circles\n",
    "sizes=rand(1000:2000,k)\n",
    "center,radii,sizes"
   ]
  },
  {
   "cell_type": "code",
   "execution_count": 32,
   "metadata": {
    "collapsed": false
   },
   "outputs": [
    {
     "data": {
      "image/png": "[encoded data removed]",
      "text/plain": [
       "Winston.FramedPlot(...)"
      ]
     },
     "execution_count": 32,
     "metadata": {},
     "output_type": "execute_result"
    }
   ],
   "source": [
    "# Points\n",
    "X=Array(Float64,2,sum(sizes))\n",
    "first=0\n",
    "last=0\n",
    "for j=1:k\n",
    "    first=last+1\n",
    "    last=last+sizes[j]\n",
    "    # Random angles\n",
    "    ϕ=2*π*rand(sizes[j])\n",
    "    for i=first:last\n",
    "        l=i-first+1\n",
    "        X[:,i]=center+radii[j]*[cos(ϕ[l]);sin(ϕ[l])]+(rand(2)-0.5)/50\n",
    "    end\n",
    "end\n",
    "plot(X[1,:],X[2,:],\".\")"
   ]
  },
  {
   "cell_type": "code",
   "execution_count": 36,
   "metadata": {
    "collapsed": false
   },
   "outputs": [
    {
     "data": {
      "image/png": "[encoded data removed]",
      "text/plain": [
       "Winston.FramedPlot(...)"
      ]
     },
     "execution_count": 36,
     "metadata": {},
     "output_type": "execute_result"
    }
   ],
   "source": [
    "out=kmeans(X,k)\n",
    "plotKmeansresult(out,X)"
   ]
  },
  {
   "cell_type": "code",
   "execution_count": null,
   "metadata": {
    "collapsed": true
   },
   "outputs": [],
   "source": []
  }
 ],
 "metadata": {
  "kernelspec": {
   "display_name": "Julia 0.4.5",
   "language": "julia",
   "name": "julia-0.4"
  },
  "language_info": {
   "file_extension": ".jl",
   "mimetype": "application/julia",
   "name": "julia",
   "version": "0.4.5"
  }
 },
 "nbformat": 4,
 "nbformat_minor": 0
}
