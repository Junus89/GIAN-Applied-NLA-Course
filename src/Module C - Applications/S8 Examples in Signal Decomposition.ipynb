{
 "cells": [
  {
   "cell_type": "markdown",
   "metadata": {},
   "source": [
    "# Solutions 8 - Examples in Signal Decomposition\n",
    "\n",
    "---"
   ]
  },
  {
   "cell_type": "markdown",
   "metadata": {},
   "source": [
    "## Assignment 1"
   ]
  },
  {
   "cell_type": "code",
   "execution_count": 2,
   "metadata": {
    "collapsed": false
   },
   "outputs": [
    {
     "data": {
      "text/html": [
       "<script charset=\"utf-8\">(function ($, undefined) {\n",
       "\n",
       "    function createElem(tag, attr, content) {\n",
       "\t// TODO: remove jQuery dependency\n",
       "\tvar el = $(\"<\" + tag + \"/>\").attr(attr);\n",
       "\tif (content) {\n",
       "\t    el.append(content);\n",
       "\t}\n",
       "\treturn el[0];\n",
       "    }\n",
       "\n",
       "    // A widget must expose an id field which identifies it to the backend,\n",
       "    // an elem attribute which is will be added to the DOM, and\n",
       "    // a getState() method which returns the value to be sent to the backend\n",
       "    // a sendUpdate() method which sends its current value to the backend\n",
       "    var Widget = {\n",
       "\tid: undefined,\n",
       "\telem: undefined,\n",
       "\tlabel: undefined,\n",
       "\tgetState: function () {\n",
       "\t    return this.elem.value;\n",
       "\t},\n",
       "\tsendUpdate: undefined\n",
       "    };\n",
       "\n",
       "    var Slider = function (typ, id, init) {\n",
       "\tvar attr = { type:  \"range\",\n",
       "\t\t     value: init.value,\n",
       "\t\t     min:   init.min,\n",
       "\t\t     max:   init.max,\n",
       "\t\t     step:  init.step },\n",
       "\t    elem = createElem(\"input\", attr),\n",
       "\t    self = this;\n",
       "\n",
       "\telem.onchange = function () {\n",
       "\t    self.sendUpdate();\n",
       "\t}\n",
       "\n",
       "\tthis.id = id;\n",
       "\tthis.elem = elem;\n",
       "\tthis.label = init.label;\n",
       "\n",
       "\tInputWidgets.commInitializer(this); // Initialize communication\n",
       "    }\n",
       "    Slider.prototype = Widget;\n",
       "\n",
       "    var Checkbox = function (typ, id, init) {\n",
       "\tvar attr = { type: \"checkbox\",\n",
       "\t\t     checked: init.value },\n",
       "\t    elem = createElem(\"input\", attr),\n",
       "\t    self = this;\n",
       "\n",
       "\tthis.getState = function () {\n",
       "\t    return elem.checked;\n",
       "\t}\n",
       "\telem.onchange = function () {\n",
       "\t    self.sendUpdate();\n",
       "\t}\n",
       "\n",
       "\tthis.id = id;\n",
       "\tthis.elem = elem;\n",
       "\tthis.label = init.label;\n",
       "\n",
       "\tInputWidgets.commInitializer(this);\n",
       "    }\n",
       "    Checkbox.prototype = Widget;\n",
       "\n",
       "    var Button = function (typ, id, init) {\n",
       "\tvar attr = { type:    \"button\",\n",
       "\t\t     value:   init.label },\n",
       "\t    elem = createElem(\"input\", attr),\n",
       "\t    self = this;\n",
       "\tthis.getState = function () {\n",
       "\t    return null;\n",
       "\t}\n",
       "\telem.onclick = function () {\n",
       "\t    self.sendUpdate();\n",
       "\t}\n",
       "\n",
       "\tthis.id = id;\n",
       "\tthis.elem = elem;\n",
       "\tthis.label = init.label;\n",
       "\n",
       "\tInputWidgets.commInitializer(this);\n",
       "    }\n",
       "    Button.prototype = Widget;\n",
       "\n",
       "    var Text = function (typ, id, init) {\n",
       "\tvar attr = { type:  \"text\",\n",
       "\t\t     placeholder: init.label,\n",
       "\t\t     value: init.value },\n",
       "\t    elem = createElem(\"input\", attr),\n",
       "\t    self = this;\n",
       "\tthis.getState = function () {\n",
       "\t    return elem.value;\n",
       "\t}\n",
       "\telem.onkeyup = function () {\n",
       "\t    self.sendUpdate();\n",
       "\t}\n",
       "\n",
       "\tthis.id = id;\n",
       "\tthis.elem = elem;\n",
       "\tthis.label = init.label;\n",
       "\n",
       "\tInputWidgets.commInitializer(this);\n",
       "    }\n",
       "    Text.prototype = Widget;\n",
       "\n",
       "    var Textarea = function (typ, id, init) {\n",
       "\tvar attr = { placeholder: init.label },\n",
       "\t    elem = createElem(\"textarea\", attr, init.value),\n",
       "\t    self = this;\n",
       "\tthis.getState = function () {\n",
       "\t    return elem.value;\n",
       "\t}\n",
       "\telem.onchange = function () {\n",
       "\t    self.sendUpdate();\n",
       "\t}\n",
       "\n",
       "\tthis.id = id;\n",
       "\tthis.elem = elem;\n",
       "\tthis.label = init.label;\n",
       "\n",
       "\tInputWidgets.commInitializer(this);\n",
       "    }\n",
       "    Textarea.prototype = Widget;\n",
       "\n",
       "    // RadioButtons\n",
       "    // Dropdown\n",
       "    // HTML\n",
       "    // Latex\n",
       "\n",
       "    var InputWidgets = {\n",
       "\tSlider: Slider,\n",
       "\tCheckbox: Checkbox,\n",
       "\tButton: Button,\n",
       "\tText: Text,\n",
       "\tTextarea: Textarea,\n",
       "\tdebug: false,\n",
       "\tlog: function () {\n",
       "\t    if (InputWidgets.debug) {\n",
       "\t\tconsole.log.apply(console, arguments);\n",
       "\t    }\n",
       "\t},\n",
       "\t// a central way to initalize communication\n",
       "\t// for widgets.\n",
       "\tcommInitializer: function (widget) {\n",
       "\t    widget.sendUpdate = function () {};\n",
       "\t}\n",
       "    };\n",
       "\n",
       "    window.InputWidgets = InputWidgets;\n",
       "\n",
       "})(jQuery, undefined);\n",
       "</script>"
      ]
     },
     "metadata": {},
     "output_type": "display_data"
    },
    {
     "data": {
      "text/html": [
       "<div id=\"interact-js-shim\">\n",
       "    <script charset=\"utf-8\">\n",
       "(function (IPython, $, _, MathJax, Widgets) {\n",
       "    $.event.special.destroyed = {\n",
       "\tremove: function(o) {\n",
       "\t    if (o.handler) {\n",
       "\t\to.handler.apply(this, arguments)\n",
       "\t    }\n",
       "\t}\n",
       "    }\n",
       "\n",
       "    var OutputArea = IPython.version >= \"4.0.0\" ? require(\"notebook/js/outputarea\").OutputArea : IPython.OutputArea;\n",
       "\n",
       "    var redrawValue = function (container, type, val) {\n",
       "\tvar selector = $(\"<div/>\");\n",
       "\tvar oa = new OutputArea(_.extend(selector, {\n",
       "\t    selector: selector,\n",
       "\t    prompt_area: true,\n",
       "\t    events: IPython.events,\n",
       "\t    keyboard_manager: IPython.keyboard_manager\n",
       "\t})); // Hack to work with IPython 2.1.0\n",
       "\n",
       "\tswitch (type) {\n",
       "\tcase \"image/png\":\n",
       "            var _src = 'data:' + type + ';base64,' + val;\n",
       "\t    $(container).find(\"img\").attr('src', _src);\n",
       "\t    break;\n",
       "\tdefault:\n",
       "\t    var toinsert = OutputArea.append_map[type].apply(\n",
       "\t\toa, [val, {}, selector]\n",
       "\t    );\n",
       "\t    $(container).empty().append(toinsert.contents());\n",
       "\t    selector.remove();\n",
       "\t}\n",
       "\tif (type === \"text/latex\" && MathJax) {\n",
       "\t    MathJax.Hub.Queue([\"Typeset\", MathJax.Hub, toinsert.get(0)]);\n",
       "\t}\n",
       "    }\n",
       "\n",
       "\n",
       "    $(document).ready(function() {\n",
       "\tWidgets.debug = false; // log messages etc in console.\n",
       "\tfunction initComm(evt, data) {\n",
       "\t    var comm_manager = data.kernel.comm_manager;\n",
       "        //_.extend(comm_manager.targets, require(\"widgets/js/widget\"))\n",
       "\t    comm_manager.register_target(\"Signal\", function (comm) {\n",
       "            comm.on_msg(function (msg) {\n",
       "                //Widgets.log(\"message received\", msg);\n",
       "                var val = msg.content.data.value;\n",
       "                $(\".signal-\" + comm.comm_id).each(function() {\n",
       "                var type = $(this).data(\"type\");\n",
       "                if (val[type]) {\n",
       "                    redrawValue(this, type, val[type], type);\n",
       "                }\n",
       "                });\n",
       "                delete val;\n",
       "                delete msg.content.data.value;\n",
       "            });\n",
       "\t    });\n",
       "\n",
       "\t    // coordingate with Comm and redraw Signals\n",
       "\t    // XXX: Test using Reactive here to improve performance\n",
       "\t    $([IPython.events]).on(\n",
       "\t\t'output_appended.OutputArea', function (event, type, value, md, toinsert) {\n",
       "\t\t    if (md && md.reactive) {\n",
       "                // console.log(md.comm_id);\n",
       "                toinsert.addClass(\"signal-\" + md.comm_id);\n",
       "                toinsert.data(\"type\", type);\n",
       "                // Signal back indicating the mimetype required\n",
       "                var comm_manager = IPython.notebook.kernel.comm_manager;\n",
       "                var comm = comm_manager.comms[md.comm_id];\n",
       "                comm.then(function (c) {\n",
       "                    c.send({action: \"subscribe_mime\",\n",
       "                       mime: type});\n",
       "                    toinsert.bind(\"destroyed\", function() {\n",
       "                        c.send({action: \"unsubscribe_mime\",\n",
       "                               mime: type});\n",
       "                    });\n",
       "                })\n",
       "\t\t    }\n",
       "\t    });\n",
       "\t}\n",
       "\n",
       "\ttry {\n",
       "\t    // try to initialize right away. otherwise, wait on the status_started event.\n",
       "\t    initComm(undefined, IPython.notebook);\n",
       "\t} catch (e) {\n",
       "\t    $([IPython.events]).on('kernel_created.Kernel kernel_created.Session', initComm);\n",
       "\t}\n",
       "    });\n",
       "})(IPython, jQuery, _, MathJax, InputWidgets);\n",
       "</script>\n",
       "    <script>\n",
       "        window.interactLoadedFlag = true\n",
       "       $(\"#interact-js-shim\").bind(\"destroyed\", function () {\n",
       "           if (window.interactLoadedFlag) {\n",
       "               console.warn(\"JavaScript required by Interact will be removed if you remove this cell or run using Interact more than once.\")\n",
       "           }\n",
       "       })\n",
       "       $([IPython.events]).on(\"kernel_starting.Kernel kernel_restarting.Kernel\", function () { window.interactLoadedFlag = false })\n",
       "   </script>\n",
       "</div>"
      ]
     },
     "metadata": {},
     "output_type": "display_data"
    },
    {
     "name": "stderr",
     "output_type": "stream",
     "text": [
      "WARNING: requiring \"Dates\" in module \"Winston\" did not define a corresponding module.\n",
      "WARNING: module Winston should explicitly import * from Base\n"
     ]
    }
   ],
   "source": [
    "# Packages\n",
    "using WAV\n",
    "using SpecialMatrices\n",
    "using LinearMaps\n",
    "using Winston\n",
    "using Interact"
   ]
  },
  {
   "cell_type": "code",
   "execution_count": 3,
   "metadata": {
    "collapsed": false
   },
   "outputs": [
    {
     "data": {
      "text/plain": [
       "* (generic function with 176 methods)"
      ]
     },
     "execution_count": 3,
     "metadata": {},
     "output_type": "execute_result"
    }
   ],
   "source": [
    "# Fast multiplication functions\n",
    "import Base.*\n",
    "function *{T}(C::Circulant{T},x::Vector{T})\n",
    "    xt=fft(x)\n",
    "    vt=fft(C.c)\n",
    "    yt=vt.*xt\n",
    "    real(ifft(yt))\n",
    "end\n",
    "function *{T}(A::Toeplitz{T},x::Vector{T})\n",
    "    n=length(A.c)\n",
    "    k=Int(round((n+1)/2))\n",
    "    C=Circulant([A.c[k:n];A.c[1:k-1]])\n",
    "    (C*[x;zeros(T,k-1)])[1:k]\n",
    "end\n",
    "function *{T}(A::Hankel{T},x::Vector{T})\n",
    "    Toeplitz(A.c)*reverse(x)\n",
    "end"
   ]
  },
  {
   "cell_type": "code",
   "execution_count": 4,
   "metadata": {
    "collapsed": false
   },
   "outputs": [],
   "source": [
    "s, Fs = wavread(\"files/piano_A41.wav\",100001);"
   ]
  },
  {
   "cell_type": "code",
   "execution_count": 6,
   "metadata": {
    "collapsed": false
   },
   "outputs": [],
   "source": [
    "wavplay(s,Fs)"
   ]
  },
  {
   "cell_type": "code",
   "execution_count": 5,
   "metadata": {
    "collapsed": false
   },
   "outputs": [
    {
     "data": {
      "text/plain": [
       "monocomponents (generic function with 1 method)"
      ]
     },
     "execution_count": 5,
     "metadata": {},
     "output_type": "execute_result"
    }
   ],
   "source": [
    "function monocomponents(x::Array{Float64}, xx::Array{Float64}, Fs::Float32, k::Int64, d::Int64)\n",
    "    # w is output from wavread(), package WAV, m is the number of samples we actually take\n",
    "    # x=vec(s) where s is the output of wavread()\n",
    "    # Fs is the output of wavread()\n",
    "    # k (even) is the number of eigenpairs computed by eigs()\n",
    "    # d is the level of recursion \n",
    "    # x=vec(s) where s is the output of wavread()\n",
    "    # There is no grouping of repeating components! \n",
    "    println(\"d = \",d)\n",
    "    if d<=2\n",
    "        H=Hankel(x)\n",
    "        n=size(H,1)\n",
    "        xsimple=Array(Float64,2*n-1)\n",
    "        # Fast Hankel EVD solver\n",
    "        f(x)=H*x\n",
    "        A=LinearMap(f,n,issym=true)\n",
    "        λ,U=eigs(A, nev=k, which=:LM)\n",
    "        # Significant threshold percentage test\n",
    "        τ=0.1\n",
    "        L=round(Int,(sum(abs(λ).>(τ*maxabs(λ)))/2))\n",
    "        if L==1\n",
    "            # Return the signal as monocomponent. \n",
    "            # The signal is reconstructed using only ONE element of the skew-diagonals\n",
    "            xsimple=[(λ[1]*U[1,1])*U[:,1]; (λ[1]*U[n,1])*U[2:n,1]]\n",
    "            xsimple+=[(λ[2]*U[1,2])*U[:,2]; (λ[2]*U[n,2])*U[2:n,2]]\n",
    "            xx=[xx xsimple]\n",
    "        else\n",
    "            d+=1\n",
    "            # Analyze the i-th component\n",
    "            for i=1:L\n",
    "                l1=2*i-1\n",
    "                l2=2*i\n",
    "                xsimple=[(λ[l1]*U[1,l1])*U[:,l1]; (λ[l1]*U[n,l1])*U[2:n,l1]]\n",
    "                xsimple+=[(λ[l2]*U[1,l2])*U[:,l2]; (λ[l2]*U[n,l2])*U[2:n,l2]]\n",
    "                # Recursion - we do not need more than 2*L eigenpairs\n",
    "                xx=monocomponents(xsimple,xx, Fs,2*L,d)\n",
    "            end\n",
    "        end\n",
    "    end\n",
    "    xx\n",
    "end"
   ]
  },
  {
   "cell_type": "code",
   "execution_count": 6,
   "metadata": {
    "collapsed": false
   },
   "outputs": [
    {
     "name": "stdout",
     "output_type": "stream",
     "text": [
      "d = 0\n",
      "d = 1\n",
      "d = 1\n",
      "d = 2\n",
      "d = 2\n",
      "d = 3\n",
      "d = 3\n",
      "d = 1\n",
      "d = 1\n",
      "d = 2\n",
      "d = 3\n",
      "d = 3\n",
      "d = 2\n",
      "d = 3\n",
      "d = 3\n",
      "d = 3\n",
      "d = 3\n",
      "d = 2\n",
      "d = 3\n",
      "d = 3\n",
      "d = 3\n",
      "d = 3\n",
      "d = 2\n",
      "d = 3\n",
      "d = 3\n",
      "d = 1\n",
      "d = 2\n",
      "d = 3\n",
      "d = 3\n",
      "d = 2\n",
      "d = 3\n",
      "d = 3\n",
      "d = 3\n",
      "d = 3\n",
      "d = 2\n",
      "d = 3\n",
      "d = 3\n",
      "d = 3\n",
      "d = 3\n",
      "d = 2\n",
      "d = 3\n",
      "d = 3\n",
      "d = 1\n",
      "d = 2\n",
      "d = 3\n",
      "d = 3\n",
      "d = 2\n",
      "d = 2\n",
      "d = 3\n",
      "d = 3\n",
      "d = 3\n",
      "d = 2\n",
      "d = 3\n",
      "d = 3\n",
      "d = 3\n",
      "d = 3\n",
      "d = 1\n",
      "d = 2\n",
      "d = 2\n",
      "d = 3\n",
      "d = 3\n",
      "d = 2\n",
      "d = 3\n",
      "d = 3\n",
      "d = 3\n",
      "d = 2\n",
      "d = 3\n",
      "d = 3\n",
      "d = 3\n",
      "d = 3\n",
      "d = 1\n",
      "d = 2\n",
      "d = 3\n",
      "d = 3\n",
      "d = 3\n",
      "d = 3\n",
      "d = 2\n",
      "d = 3\n",
      "d = 3\n",
      "d = 3\n",
      "d = 2\n",
      "d = 3\n",
      "d = 3\n",
      "d = 3\n",
      "d = 3\n",
      "d = 2\n",
      "d = 3\n",
      "d = 3\n",
      "d = 3\n",
      "d = 3\n",
      "d = 1\n",
      "d = 1\n",
      "d = 2\n",
      "d = 2\n",
      "d = 3\n",
      "d = 3\n",
      "d = 3\n",
      "d = 2\n",
      "d = 3\n",
      "d = 3\n",
      "d = 3\n",
      "d = 1\n",
      "d = 2\n",
      "d = 2\n",
      "d = 3\n",
      "d = 3\n"
     ]
    },
    {
     "data": {
      "text/plain": [
       "100001x9 Array{Float64,2}:\n",
       " -0.0101321    0.16594     -0.0286502    …   0.0123591     0.000295601\n",
       " -0.0102542    0.187282     0.00178125       0.0133124     0.00424546 \n",
       " -0.0102542    0.207883     0.032182         0.01343       0.00759957 \n",
       " -0.0101321    0.227664     0.0620733        0.0127046     0.00988739 \n",
       " -0.00994903   0.246545     0.0909844        0.0111816     0.010788   \n",
       " -0.00964385   0.264452     0.11846      …   0.00895679    0.0101751  \n",
       " -0.00933866   0.281316     0.144067         0.00616982    0.00813481 \n",
       " -0.00909452   0.297069     0.167403         0.00299568    0.00495332 \n",
       " -0.00878933   0.311651     0.188101        -0.000366362   0.00107704 \n",
       " -0.00860622   0.325003     0.205834        -0.00370524   -0.0029502  \n",
       " -0.00842311   0.337073     0.220323     …  -0.00681135   -0.00656339 \n",
       " -0.00799585   0.347815     0.231341        -0.00948973   -0.00925566 \n",
       " -0.00720237   0.357185     0.238715        -0.0115723    -0.0106493  \n",
       "  ⋮                                      ⋱                            \n",
       "  0.00335704   0.00574434  -0.00035953      -0.00051404   -0.000115165\n",
       "  0.00317392   0.00559052  -0.000868842  …  -0.000150901   0.000554123\n",
       "  0.00286874   0.00541471  -0.00136442       0.000221692   0.00114565 \n",
       "  0.00231941   0.00521759  -0.00183847       0.000580351   0.00157642 \n",
       "  0.00152593   0.00499994  -0.00228353       0.00090256    0.00178603 \n",
       "  0.000549333  0.00476263  -0.00269258       0.00116809    0.00174506 \n",
       " -0.000427259  0.00450658  -0.00305918   …   0.00136029    0.00145927 \n",
       " -0.00134281   0.00423282  -0.00337757       0.00146708    0.000968778\n",
       " -0.0021363    0.00394242  -0.00364273       0.00148177    0.000342389\n",
       " -0.00262459   0.00363653  -0.0038505        0.00140345   -0.000332009\n",
       " -0.00286874   0.00331635  -0.0039976        0.00123702   -0.000959804\n",
       " -0.00305185   0.00298315  -0.00408173   …   0.000992949  -0.00145292 "
      ]
     },
     "execution_count": 6,
     "metadata": {},
     "output_type": "execute_result"
    }
   ],
   "source": [
    "x=vec(s)\n",
    "xx=x\n",
    "k=40\n",
    "xmono=monocomponents(x,xx,Fs,k,0)"
   ]
  },
  {
   "cell_type": "markdown",
   "metadata": {},
   "source": [
    "We computed 8 mono-components (`xmono[:,1]` is the original signal).\n",
    "\n",
    "Let us plot and listen to the mono-components. "
   ]
  },
  {
   "cell_type": "code",
   "execution_count": 7,
   "metadata": {
    "collapsed": false
   },
   "outputs": [
    {
     "data": {
      "text/plain": [
       "0.0"
      ]
     },
     "execution_count": 7,
     "metadata": {},
     "output_type": "execute_result"
    }
   ],
   "source": [
    "norm(x-xmono[:,1])"
   ]
  },
  {
   "cell_type": "code",
   "execution_count": 8,
   "metadata": {
    "collapsed": false
   },
   "outputs": [
    {
     "data": {
      "text/html": [],
      "text/plain": [
       "Interact.Slider{Int64}(Signal{Int64}(5, nactions=0),\"k\",5,2:9,true)"
      ]
     },
     "metadata": {},
     "output_type": "display_data"
    },
    {
     "data": {
      "image/png": "[encoded data removed]",
      "text/plain": [
       "Winston.FramedPlot(...)"
      ]
     },
     "execution_count": 8,
     "metadata": {
      "comm_id": "68e29f7d-ded7-4ae3-b8b2-553154f6736f",
      "reactive": true
     },
     "output_type": "execute_result"
    }
   ],
   "source": [
    "@manipulate for k=2:9\n",
    "    plot(xmono[:,k][1:800])\n",
    "end"
   ]
  },
  {
   "cell_type": "code",
   "execution_count": 9,
   "metadata": {
    "collapsed": false
   },
   "outputs": [
    {
     "data": {
      "text/html": [],
      "text/plain": [
       "Interact.Slider{Int64}(Signal{Int64}(5, nactions=0),\"k\",5,2:9,true)"
      ]
     },
     "metadata": {},
     "output_type": "display_data"
    },
    {
     "data": {
      "image/png": "[encoded data removed]",
      "text/plain": [
       "Winston.FramedPlot(...)"
      ]
     },
     "execution_count": 9,
     "metadata": {
      "comm_id": "f0544dc5-2c83-4557-a07c-78cfaeb64125",
      "reactive": true
     },
     "output_type": "execute_result"
    }
   ],
   "source": [
    "Fd=110\n",
    "N=convert(Int32,ceil(Fs/Fd)) \n",
    "xx=collect(0:Fs/(2N):3000)\n",
    "nn=length(xx)\n",
    "@manipulate for k=2:9\n",
    "    plot(xx,abs(fft(xmono[:,k][1:800]))[1:nn])\n",
    "end"
   ]
  },
  {
   "cell_type": "code",
   "execution_count": 10,
   "metadata": {
    "collapsed": false
   },
   "outputs": [
    {
     "name": "stderr",
     "output_type": "stream",
     "text": [
      "WARNING: wavplay is not currently implemented on Windows\n"
     ]
    }
   ],
   "source": [
    "wavplay(xmono[:,1],Fs)"
   ]
  },
  {
   "cell_type": "code",
   "execution_count": 11,
   "metadata": {
    "collapsed": false
   },
   "outputs": [
    {
     "name": "stderr",
     "output_type": "stream",
     "text": [
      "WARNING: wavplay is not currently implemented on Windows\n"
     ]
    }
   ],
   "source": [
    "xx=sum(xmono,2)\n",
    "wavplay(xx,Fs)"
   ]
  },
  {
   "cell_type": "code",
   "execution_count": 13,
   "metadata": {
    "collapsed": false
   },
   "outputs": [
    {
     "ename": "LoadError",
     "evalue": "LoadError: MethodError: `getindex` has no method matching getindex(::Function, ::Int64)\nwhile loading In[13], in expression starting on line 1",
     "output_type": "error",
     "traceback": [
      "LoadError: MethodError: `getindex` has no method matching getindex(::Function, ::Int64)\nwhile loading In[13], in expression starting on line 1",
      ""
     ]
    }
   ],
   "source": [
    "wavwrite(xx,\"files/xx.wav\",Fs=signal[2])"
   ]
  },
  {
   "cell_type": "code",
   "execution_count": null,
   "metadata": {
    "collapsed": true
   },
   "outputs": [],
   "source": []
  }
 ],
 "metadata": {
  "kernelspec": {
   "display_name": "Julia 0.4.5",
   "language": "julia",
   "name": "julia-0.4"
  },
  "language_info": {
   "file_extension": ".jl",
   "mimetype": "application/julia",
   "name": "julia",
   "version": "0.4.5"
  }
 },
 "nbformat": 4,
 "nbformat_minor": 0
}
