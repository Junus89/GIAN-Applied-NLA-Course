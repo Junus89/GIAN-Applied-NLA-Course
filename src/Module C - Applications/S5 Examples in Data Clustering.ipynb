{
 "cells": [
  {
   "cell_type": "markdown",
   "metadata": {},
   "source": [
    "# Solutions 5 - Examples in Data Clustering\n",
    "\n",
    "---"
   ]
  },
  {
   "cell_type": "markdown",
   "metadata": {},
   "source": [
    "## Assignment 1"
   ]
  },
  {
   "cell_type": "code",
   "execution_count": null,
   "metadata": {
    "collapsed": true
   },
   "outputs": [],
   "source": []
  },
  {
   "cell_type": "markdown",
   "metadata": {},
   "source": [
    "## Assignment 2\n",
    "\n",
    "The letters are written in the file `files/Indore.jpg`. First, preprocessing is needed."
   ]
  },
  {
   "cell_type": "code",
   "execution_count": 1,
   "metadata": {
    "collapsed": false
   },
   "outputs": [],
   "source": [
    "using Images, Colors, FixedPointNumbers"
   ]
  },
  {
   "cell_type": "code",
   "execution_count": 2,
   "metadata": {
    "collapsed": false
   },
   "outputs": [
    {
     "name": "stderr",
     "output_type": "stream",
     "text": [
      "WARNING: imread(filename; kwargs...) is deprecated, use load(filename; kwargs...) instead.\n",
      " in depwarn at deprecated.jl:73\n",
      " in imread at deprecated.jl:50\n",
      " in include_string at loading.jl:282\n",
      " in execute_request_0x535c5df2 at C:\\Users\\Ivan\\.julia\\v0.4\\IJulia\\src\\execute_request.jl:183\n",
      " in eventloop at C:\\Users\\Ivan\\.julia\\v0.4\\IJulia\\src\\IJulia.jl:143\n",
      " in anonymous at task.jl:447\n",
      "while loading In[2], in expression starting on line 1\n"
     ]
    }
   ],
   "source": [
    "img=imread(\"files/Indore.jpg\");"
   ]
  },
  {
   "cell_type": "code",
   "execution_count": 3,
   "metadata": {
    "collapsed": false
   },
   "outputs": [
    {
     "name": "stdout",
     "output_type": "stream",
     "text": [
      "RGB Images.Image with:\n",
      "  data: 480x800 Array{ColorTypes.RGB{FixedPointNumbers.UFixed{UInt8,8}},2}\n",
      "  properties:\n",
      "    colorspace: sRGB\n",
      "    spatialorder:  x y"
     ]
    },
    {
     "data": {
      "text/plain": [
       "(nothing,1152000,Array{ColorTypes.RGB{FixedPointNumbers.UFixed{UInt8,8}},2})"
      ]
     },
     "execution_count": 3,
     "metadata": {},
     "output_type": "execute_result"
    }
   ],
   "source": [
    "show(img), sizeof(img.data), typeof(img.data)"
   ]
  },
  {
   "cell_type": "code",
   "execution_count": 4,
   "metadata": {
    "collapsed": false
   },
   "outputs": [
    {
     "data": {
      "image/png": "[encoded data removed]",
      "text/plain": [
       "Gray Images.Image with:\n",
       "  data: 480x800 Array{ColorTypes.Gray{FixedPointNumbers.UFixed{UInt8,8}},2}\n",
       "  properties:\n",
       "    colorspace: sRGB\n",
       "    spatialorder:  x y"
      ]
     },
     "execution_count": 4,
     "metadata": {},
     "output_type": "execute_result"
    }
   ],
   "source": [
    "img=convert(Image{Gray},img)"
   ]
  },
  {
   "cell_type": "code",
   "execution_count": 5,
   "metadata": {
    "collapsed": false
   },
   "outputs": [
    {
     "name": "stdout",
     "output_type": "stream",
     "text": [
      "Gray Images.Image with:\n",
      "  data: 480x800 Array{ColorTypes.Gray{FixedPointNumbers.UFixed{UInt8,8}},2}\n",
      "  properties:\n",
      "    colorspace: sRGB\n",
      "    spatialorder:  x y"
     ]
    },
    {
     "data": {
      "text/plain": [
       "(nothing,384000,Array{ColorTypes.Gray{FixedPointNumbers.UFixed{UInt8,8}},2})"
      ]
     },
     "execution_count": 5,
     "metadata": {},
     "output_type": "execute_result"
    }
   ],
   "source": [
    "show(img), sizeof(img.data), typeof(img.data)"
   ]
  },
  {
   "cell_type": "code",
   "execution_count": 6,
   "metadata": {
    "collapsed": false
   },
   "outputs": [
    {
     "data": {
      "text/plain": [
       "800x480 Array{FixedPointNumbers.UFixed{UInt8,8},2}:\n",
       " 0.98  0.98  0.98  0.98  0.98  0.98  …  0.98  0.98  0.98  0.98  0.98  0.98\n",
       " 0.98  0.98  0.98  0.98  0.98  0.98     0.98  0.98  0.98  0.98  0.98  0.98\n",
       " 0.98  0.98  0.98  0.98  0.98  0.98     0.98  0.98  0.98  0.98  0.98  0.98\n",
       " 0.98  0.98  0.98  0.98  0.98  0.98     0.98  0.98  0.98  0.98  0.98  0.98\n",
       " 0.98  0.98  0.98  0.98  0.98  0.98     0.98  0.98  0.98  0.98  0.98  0.98\n",
       " 0.98  0.98  0.98  0.98  0.98  0.98  …  0.98  0.98  0.98  0.98  0.98  0.98\n",
       " 0.98  0.98  0.98  0.98  0.98  0.98     0.98  0.98  0.98  0.98  0.98  0.98\n",
       " 0.98  0.98  0.98  0.98  0.98  0.98     0.98  0.98  0.98  0.98  0.98  0.98\n",
       " 0.98  0.98  0.98  0.98  0.98  0.98     0.98  0.98  0.98  0.98  0.98  0.98\n",
       " 0.98  0.98  0.98  0.98  0.98  0.98     0.98  0.98  0.98  0.98  0.98  0.98\n",
       " 0.98  0.98  0.98  0.98  0.98  0.98  …  0.98  0.98  0.98  0.98  0.98  0.98\n",
       " 0.98  0.98  0.98  0.98  0.98  0.98     0.98  0.98  0.98  0.98  0.98  0.98\n",
       " 0.98  0.98  0.98  0.98  0.98  0.98     0.98  0.98  0.98  0.98  0.98  0.98\n",
       " ⋮                             ⋮     ⋱        ⋮                           \n",
       " 0.98  0.98  0.98  0.98  0.98  0.98     0.98  0.98  0.98  0.98  0.98  0.98\n",
       " 0.98  0.98  0.98  0.98  0.98  0.98     0.98  0.98  0.98  0.98  0.98  0.98\n",
       " 0.98  0.98  0.98  0.98  0.98  0.98  …  0.98  0.98  0.98  0.98  0.98  0.98\n",
       " 0.98  0.98  0.98  0.98  0.98  0.98     0.98  0.98  0.98  0.98  0.98  0.98\n",
       " 0.98  0.98  0.98  0.98  0.98  0.98     0.98  0.98  0.98  0.98  0.98  0.98\n",
       " 0.98  0.98  0.98  0.98  0.98  0.98     0.98  0.98  0.98  0.98  0.98  0.98\n",
       " 0.98  0.98  0.98  0.98  0.98  0.98     0.98  0.98  0.98  0.98  0.98  0.98\n",
       " 0.98  0.98  0.98  0.98  0.98  0.98  …  0.98  0.98  0.98  0.98  0.98  0.98\n",
       " 0.98  0.98  0.98  0.98  0.98  0.98     0.98  0.98  0.98  0.98  0.98  0.98\n",
       " 0.98  0.98  0.98  0.98  0.98  0.98     0.98  0.98  0.98  0.98  0.98  0.98\n",
       " 0.98  0.98  0.98  0.98  0.98  0.98     0.98  0.98  0.98  0.98  0.98  0.98\n",
       " 0.98  0.98  0.98  0.98  0.98  0.98     0.98  0.98  0.98  0.98  0.98  0.98"
      ]
     },
     "execution_count": 6,
     "metadata": {},
     "output_type": "execute_result"
    }
   ],
   "source": [
    "# Extract the matrix\n",
    "imgsep=separate(img)\n",
    "A=imgsep.data"
   ]
  },
  {
   "cell_type": "code",
   "execution_count": 7,
   "metadata": {
    "collapsed": false
   },
   "outputs": [
    {
     "data": {
      "text/plain": [
       "384000-element Array{FixedPointNumbers.UFixed{UInt8,8},1}:\n",
       " 0.008\n",
       " 0.008\n",
       " 0.008\n",
       " 0.008\n",
       " 0.008\n",
       " 0.008\n",
       " 0.012\n",
       " 0.012\n",
       " 0.012\n",
       " 0.012\n",
       " 0.012\n",
       " 0.012\n",
       " 0.012\n",
       " ⋮    \n",
       " 0.984\n",
       " 0.984\n",
       " 0.984\n",
       " 0.984\n",
       " 0.984\n",
       " 0.984\n",
       " 0.984\n",
       " 0.984\n",
       " 0.984\n",
       " 0.984\n",
       " 0.984\n",
       " 0.984"
      ]
     },
     "execution_count": 7,
     "metadata": {},
     "output_type": "execute_result"
    }
   ],
   "source": [
    "sort(A[:])"
   ]
  },
  {
   "cell_type": "code",
   "execution_count": 8,
   "metadata": {
    "collapsed": false
   },
   "outputs": [
    {
     "data": {
      "text/plain": [
       "0"
      ]
     },
     "execution_count": 8,
     "metadata": {},
     "output_type": "execute_result"
    }
   ],
   "source": [
    "# Truncate the small elements\n",
    "A[A.>0.2]=0"
   ]
  },
  {
   "cell_type": "code",
   "execution_count": 9,
   "metadata": {
    "collapsed": false
   },
   "outputs": [
    {
     "data": {
      "text/plain": [
       "(8780,384000)"
      ]
     },
     "execution_count": 9,
     "metadata": {},
     "output_type": "execute_result"
    }
   ],
   "source": [
    "sum(A.>0), prod(size(A))"
   ]
  },
  {
   "cell_type": "code",
   "execution_count": 10,
   "metadata": {
    "collapsed": false
   },
   "outputs": [
    {
     "name": "stdout",
     "output_type": "stream",
     "text": [
      "Gray Images.Image with:\n",
      "  data: 800x480 Array{FixedPointNumbers.UFixed{UInt8,8},2}\n",
      "  properties:\n",
      "    colorspace: Gray\n",
      "    colordim: 2\n",
      "    spatialorder:  y x"
     ]
    }
   ],
   "source": [
    "imgsep1=similar(imgsep)\n",
    "imgsep1.data=A\n",
    "show(imgsep1)"
   ]
  },
  {
   "cell_type": "code",
   "execution_count": 11,
   "metadata": {
    "collapsed": false
   },
   "outputs": [
    {
     "data": {
      "image/png": "[encoded data removed]",
      "text/plain": [
       "Gray Images.Image with:\n",
       "  data: 480x800 Array{ColorTypes.Gray{FixedPointNumbers.UFixed{UInt8,8}},2}\n",
       "  properties:\n",
       "    spatialorder:  y x"
      ]
     },
     "execution_count": 11,
     "metadata": {},
     "output_type": "execute_result"
    }
   ],
   "source": [
    "img1=convert(Image{Gray},imgsep1)"
   ]
  },
  {
   "cell_type": "code",
   "execution_count": 12,
   "metadata": {
    "collapsed": false
   },
   "outputs": [
    {
     "data": {
      "image/png": "[encoded data removed]",
      "text/plain": [
       "Gray Images.Image with:\n",
       "  data: 480x800 Array{ColorTypes.Gray{FixedPointNumbers.UFixed{UInt8,8}},2}\n",
       "  properties:\n",
       "    spatialorder:  y x"
      ]
     },
     "execution_count": 12,
     "metadata": {},
     "output_type": "execute_result"
    }
   ],
   "source": [
    "# Or, even better for clustering\n",
    "A[A.>0]=1\n",
    "imgsep1.data=A\n",
    "img1=convert(Image{Gray},imgsep1)"
   ]
  },
  {
   "cell_type": "code",
   "execution_count": 13,
   "metadata": {
    "collapsed": false
   },
   "outputs": [
    {
     "data": {
      "text/plain": [
       "2x8780 Array{Int64,2}:\n",
       "   1507664  454176784  454176840  …  0  0  0  0  0  0  0  0  0  0  0  0\n",
       " 452410384          0  454176888     0  0  0  0  0  0  0  0  0  0  0  0"
      ]
     },
     "execution_count": 13,
     "metadata": {},
     "output_type": "execute_result"
    }
   ],
   "source": [
    "# Creating the data points\n",
    "X=Array(Int,2,sum(A.==1))"
   ]
  },
  {
   "cell_type": "code",
   "execution_count": 15,
   "metadata": {
    "collapsed": false
   },
   "outputs": [
    {
     "data": {
      "text/plain": [
       "2x8780 Array{Float64,2}:\n",
       " 183.0  184.0  185.0  186.0  182.0  …  174.0  175.0  176.0  173.0  174.0\n",
       " 156.0  156.0  156.0  156.0  157.0     343.0  343.0  343.0  344.0  344.0"
      ]
     },
     "execution_count": 15,
     "metadata": {},
     "output_type": "execute_result"
    }
   ],
   "source": [
    "ind=find(A.==1)\n",
    "for i=1:length(ind)\n",
    "    X[:,i]=collect(ind2sub(A,ind[i]))\n",
    "end\n",
    "X=map(Float64,X)"
   ]
  },
  {
   "cell_type": "code",
   "execution_count": 16,
   "metadata": {
    "collapsed": false
   },
   "outputs": [],
   "source": [
    "# Solve it\n",
    "using Clustering"
   ]
  },
  {
   "cell_type": "code",
   "execution_count": 17,
   "metadata": {
    "collapsed": false
   },
   "outputs": [
    {
     "data": {
      "text/plain": [
       "Clustering.KmeansResult{Float64}(2x6 Array{Float64,2}:\n",
       " 181.271  732.618  431.764  580.406  295.108  413.15 \n",
       " 251.477  226.839  220.898  247.599  257.855  293.922,[1,1,1,1,1,1,1,1,1,1  …  1,1,1,1,1,1,1,1,1,1],[9118.88,9123.34,9129.8,9138.26,8926.47,8928.93,8933.39,8939.84,8948.3,8958.76  …  8233.7,8222.16,8212.62,8462.37,8444.83,8429.29,8415.75,8404.21,8628.88,8613.34],[876,1761,767,2729,1906,741],[876.0,1761.0,767.0,2729.0,1906.0,741.0],2.4156720478001036e7,15,true)"
      ]
     },
     "execution_count": 17,
     "metadata": {},
     "output_type": "execute_result"
    }
   ],
   "source": [
    "out=kmeans(X,6)"
   ]
  },
  {
   "cell_type": "markdown",
   "metadata": {},
   "source": [
    "For plotting we use the function from the \n",
    "[K-means Algorithm](L09 K-means Algorithm.ipynb) notebook."
   ]
  },
  {
   "cell_type": "code",
   "execution_count": 18,
   "metadata": {
    "collapsed": false
   },
   "outputs": [
    {
     "data": {
      "text/plain": [
       "plotKmeansresult (generic function with 1 method)"
      ]
     },
     "execution_count": 18,
     "metadata": {},
     "output_type": "execute_result"
    }
   ],
   "source": [
    "# Color it\n",
    "function plotKmeansresult(out::KmeansResult,X::Array)\n",
    "    p=FramedPlot()\n",
    "    # Custers\n",
    "    k=size(out.centers,2)\n",
    "    for j=1:k\n",
    "        # Random color\n",
    "        col=RGB(rand(),rand(),rand())\n",
    "        p1=Points(X[1,find(out.assignments.==j)],\n",
    "        X[2,find(out.assignments.==j)],\"color\",col,symbolkind=\"dot\")\n",
    "        add(p,p1)\n",
    "    end\n",
    "    # Means\n",
    "    p2=Points(out.centers[1,:],out.centers[2,:],\n",
    "    color=\"red\",symbolkind=\"plus\")\n",
    "    add(p,p2)\n",
    "end"
   ]
  },
  {
   "cell_type": "code",
   "execution_count": 20,
   "metadata": {
    "collapsed": false
   },
   "outputs": [
    {
     "name": "stderr",
     "output_type": "stream",
     "text": [
      "WARNING: requiring \"Dates\" in module \"Winston\" did not define a corresponding module.\n",
      "WARNING: module Winston should explicitly import * from Base\n",
      "WARNING: using Winston.Image in module Main conflicts with an existing identifier.\n"
     ]
    }
   ],
   "source": [
    "using Winston"
   ]
  },
  {
   "cell_type": "code",
   "execution_count": 21,
   "metadata": {
    "collapsed": false
   },
   "outputs": [
    {
     "data": {
      "image/png": "[encoded data removed]",
      "text/plain": [
       "Winston.FramedPlot(...)"
      ]
     },
     "execution_count": 21,
     "metadata": {},
     "output_type": "execute_result"
    }
   ],
   "source": [
    "plotKmeansresult(out,X)"
   ]
  },
  {
   "cell_type": "markdown",
   "metadata": {},
   "source": [
    "Now we try the spectral $k$-partitioning. We:\n",
    "\n",
    "* form the Laplacian matrix, \n",
    "* compute eigenvectors corresponding to $k$ smallest eigenvalues, and\n",
    "* cluster those vectors with $k$-means algorithm."
   ]
  },
  {
   "cell_type": "code",
   "execution_count": 22,
   "metadata": {
    "collapsed": false
   },
   "outputs": [
    {
     "data": {
      "text/plain": [
       "plotKpartresult (generic function with 1 method)"
      ]
     },
     "execution_count": 22,
     "metadata": {},
     "output_type": "execute_result"
    }
   ],
   "source": [
    "function plotKpartresult(C::Vector,X::Array)\n",
    "    p=FramedPlot()\n",
    "    for j=1:k\n",
    "        # Random color\n",
    "        col=RGB(rand(),rand(),rand())\n",
    "        p1=Points(X[1,find(C.==j)],\n",
    "        X[2,find(C.==j)],\"color\",col,symbolkind=\"dot\")\n",
    "        add(p,p1)\n",
    "    end\n",
    "    p\n",
    "end"
   ]
  },
  {
   "cell_type": "code",
   "execution_count": 23,
   "metadata": {
    "collapsed": false
   },
   "outputs": [
    {
     "data": {
      "text/plain": [
       "normalized (generic function with 1 method)"
      ]
     },
     "execution_count": 23,
     "metadata": {},
     "output_type": "execute_result"
    }
   ],
   "source": [
    "# Normalized Laplacian matrix\n",
    "function normalized(L::Matrix)\n",
    "    D=1.0./sqrt(diag(L))\n",
    "    n=length(D)\n",
    "    Ln=map(Float64,Symmetric([L[i,j]*D[i]*D[j] for i=1:n,j=1:n]))\n",
    "    # Set diagonal exactly to 1\n",
    "    for i=1:n\n",
    "        Ln[i,i]=1.0\n",
    "    end\n",
    "    Ln  \n",
    "end"
   ]
  },
  {
   "cell_type": "code",
   "execution_count": 24,
   "metadata": {
    "collapsed": false
   },
   "outputs": [
    {
     "data": {
      "text/plain": [
       "1"
      ]
     },
     "execution_count": 24,
     "metadata": {},
     "output_type": "execute_result"
    }
   ],
   "source": [
    "using Distances\n",
    "S=pairwise(SqEuclidean(),X)\n",
    "# S=pairwise(Cityblock(),X)\n",
    "β=1"
   ]
  },
  {
   "cell_type": "code",
   "execution_count": 25,
   "metadata": {
    "collapsed": false
   },
   "outputs": [
    {
     "data": {
      "text/plain": [
       "8780x8780 Array{Float64,2}:\n",
       "  1.0          -0.297331     -0.0148032    …   0.0           0.0        \n",
       " -0.297331      1.0          -0.25568          0.0           0.0        \n",
       " -0.0148032    -0.25568       1.0              0.0           0.0        \n",
       " -0.000115989  -0.0148029    -0.297324         0.0           0.0        \n",
       " -0.128317     -0.00549362   -3.70157e-5       0.0           0.0        \n",
       " -0.256394     -0.0811091    -0.00403818   …   0.0           0.0        \n",
       " -0.0904931    -0.211528     -0.0778166        0.0           0.0        \n",
       " -0.00450498   -0.0778096    -0.211508         0.0           0.0        \n",
       " -3.15852e-5   -0.004031     -0.0809647        0.0           0.0        \n",
       " -3.89101e-8   -3.66928e-5   -0.00544569       0.0           0.0        \n",
       " -0.00638751   -0.000273467  -1.8426e-6    …   0.0           0.0        \n",
       " -0.0127418    -0.00403082   -0.000200683      0.0           0.0        \n",
       " -0.00447838   -0.0104682    -0.00385103       0.0           0.0        \n",
       "  ⋮                                        ⋱                            \n",
       "  0.0           0.0           0.0             -0.0123539    -0.00452954 \n",
       "  0.0           0.0           0.0             -0.00451046   -0.0122197  \n",
       "  0.0           0.0           0.0          …  -0.000225872  -0.00452158 \n",
       "  0.0           0.0           0.0             -1.58619e-6   -0.000234623\n",
       "  0.0           0.0           0.0             -1.9543e-9    -2.13598e-6 \n",
       "  0.0           0.0           0.0             -0.128314     -0.00636703 \n",
       "  0.0           0.0           0.0             -0.258631     -0.0948267  \n",
       "  0.0           0.0           0.0          …  -0.0945298    -0.256099   \n",
       "  0.0           0.0           0.0             -0.00524063   -0.104909   \n",
       "  0.0           0.0           0.0             -4.29072e-5   -0.0063467  \n",
       "  0.0           0.0           0.0              1.0          -0.350673   \n",
       "  0.0           0.0           0.0             -0.350673      1.0        "
      ]
     },
     "execution_count": 25,
     "metadata": {},
     "output_type": "execute_result"
    }
   ],
   "source": [
    "# Weight matrix\n",
    "W=exp(-β*S)\n",
    "# Sum of weights\n",
    "D=vec(sum(W,2))\n",
    "# Laplacian matrix\n",
    "L=diagm(D)-W\n",
    "# Normalized Laplacian matrix\n",
    "Ln=normalized(L)"
   ]
  },
  {
   "cell_type": "code",
   "execution_count": 26,
   "metadata": {
    "collapsed": false
   },
   "outputs": [
    {
     "name": "stdout",
     "output_type": "stream",
     "text": [
      "λ = [3.6822537277880693e-16,4.0064213164097973e-16,4.083149425351094e-16,4.294582954633746e-16,4.3111758289510595e-16,4.492465919768935e-16]\n"
     ]
    },
    {
     "data": {
      "image/png": "[encoded data removed]",
      "text/plain": [
       "Winston.FramedPlot(...)"
      ]
     },
     "execution_count": 26,
     "metadata": {},
     "output_type": "execute_result"
    }
   ],
   "source": [
    "# Normalized Laplacian\n",
    "k=6\n",
    "m=size(L,1)\n",
    "λ,Y=eigs(Ln,nev=k,which=:SM, v0=ones(m))\n",
    "@show λ\n",
    "Y=diagm(1.0./sqrt(D))*Y\n",
    "out=kmeans(Y',k)\n",
    "plotKpartresult(out.assignments,X)"
   ]
  },
  {
   "cell_type": "code",
   "execution_count": null,
   "metadata": {
    "collapsed": true
   },
   "outputs": [],
   "source": []
  }
 ],
 "metadata": {
  "kernelspec": {
   "display_name": "Julia 0.4.5",
   "language": "julia",
   "name": "julia-0.4"
  },
  "language_info": {
   "file_extension": ".jl",
   "mimetype": "application/julia",
   "name": "julia",
   "version": "0.4.5"
  }
 },
 "nbformat": 4,
 "nbformat_minor": 0
}
