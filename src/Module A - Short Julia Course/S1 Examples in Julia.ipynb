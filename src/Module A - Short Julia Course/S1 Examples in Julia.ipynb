{
 "cells": [
  {
   "cell_type": "markdown",
   "metadata": {},
   "source": [
    "# Solutions 1 - Examples in Julia\n",
    "\n",
    "---\n",
    "\n",
    "## Assignment 1\n",
    "\n",
    "The function `eps()` return the smallest real number larger than 1.0. It can be called for each of the `AbstractFloat` types. \n",
    "\n",
    "Functions `realmin()` and `realmax()` return the largest and the smallest positive numbers representable in the given type."
   ]
  },
  {
   "cell_type": "code",
   "execution_count": 1,
   "metadata": {
    "collapsed": false
   },
   "outputs": [
    {
     "name": "stdout",
     "output_type": "stream",
     "text": [
      "search: eps RepString @elapsed indexpids expanduser escape_string peakflops\n",
      "\n"
     ]
    },
    {
     "data": {
      "text/latex": [
       "\\begin{verbatim}\n",
       "eps(::DateTime) -> Millisecond\n",
       "eps(::Date) -> Day\n",
       "\\end{verbatim}\n",
       "Returns \\texttt{Millisecond(1)} for \\texttt{DateTime} values and \\texttt{Day(1)} for \\texttt{Date} values.\n",
       "\\begin{verbatim}\n",
       "eps(x)\n",
       "\\end{verbatim}\n",
       "The distance between \\texttt{x} and the next larger representable floating-point value of the same \\texttt{DataType} as \\texttt{x}.\n",
       "\\begin{verbatim}\n",
       "eps(T)\n",
       "\\end{verbatim}\n",
       "The distance between 1.0 and the next larger representable floating-point value of \\texttt{DataType} \\texttt{T}. Only floating-point types are sensible arguments.\n",
       "\\begin{verbatim}\n",
       "eps()\n",
       "\\end{verbatim}\n",
       "The distance between 1.0 and the next larger representable floating-point value of \\texttt{Float64}.\n"
      ],
      "text/markdown": [
       "```\n",
       "eps(::DateTime) -> Millisecond\n",
       "eps(::Date) -> Day\n",
       "```\n",
       "\n",
       "Returns `Millisecond(1)` for `DateTime` values and `Day(1)` for `Date` values.\n",
       "\n",
       "```\n",
       "eps(x)\n",
       "```\n",
       "\n",
       "The distance between `x` and the next larger representable floating-point value of the same `DataType` as `x`.\n",
       "\n",
       "```\n",
       "eps(T)\n",
       "```\n",
       "\n",
       "The distance between 1.0 and the next larger representable floating-point value of `DataType` `T`. Only floating-point types are sensible arguments.\n",
       "\n",
       "```\n",
       "eps()\n",
       "```\n",
       "\n",
       "The distance between 1.0 and the next larger representable floating-point value of `Float64`.\n"
      ],
      "text/plain": [
       "```\n",
       "eps(::DateTime) -> Millisecond\n",
       "eps(::Date) -> Day\n",
       "```\n",
       "\n",
       "Returns `Millisecond(1)` for `DateTime` values and `Day(1)` for `Date` values.\n",
       "\n",
       "```\n",
       "eps(x)\n",
       "```\n",
       "\n",
       "The distance between `x` and the next larger representable floating-point value of the same `DataType` as `x`.\n",
       "\n",
       "```\n",
       "eps(T)\n",
       "```\n",
       "\n",
       "The distance between 1.0 and the next larger representable floating-point value of `DataType` `T`. Only floating-point types are sensible arguments.\n",
       "\n",
       "```\n",
       "eps()\n",
       "```\n",
       "\n",
       "The distance between 1.0 and the next larger representable floating-point value of `Float64`.\n"
      ]
     },
     "execution_count": 1,
     "metadata": {},
     "output_type": "execute_result"
    }
   ],
   "source": [
    "?eps"
   ]
  },
  {
   "cell_type": "code",
   "execution_count": 2,
   "metadata": {
    "collapsed": false
   },
   "outputs": [
    {
     "name": "stdout",
     "output_type": "stream",
     "text": [
      "search: realmax realmin readdlm ReadOnlyMemoryError\n",
      "\n"
     ]
    },
    {
     "data": {
      "text/latex": [
       "\\begin{verbatim}\n",
       "realmax(T)\n",
       "\\end{verbatim}\n",
       "The highest finite value representable by the given floating-point DataType \\texttt{T}.\n"
      ],
      "text/markdown": [
       "```\n",
       "realmax(T)\n",
       "```\n",
       "\n",
       "The highest finite value representable by the given floating-point DataType `T`.\n"
      ],
      "text/plain": [
       "```\n",
       "realmax(T)\n",
       "```\n",
       "\n",
       "The highest finite value representable by the given floating-point DataType `T`.\n"
      ]
     },
     "execution_count": 2,
     "metadata": {},
     "output_type": "execute_result"
    }
   ],
   "source": [
    "?realmax"
   ]
  },
  {
   "cell_type": "code",
   "execution_count": 3,
   "metadata": {
    "collapsed": false
   },
   "outputs": [
    {
     "data": {
      "text/plain": [
       "4-element Array{Any,1}:\n",
       " BigFloat\n",
       " Float16 \n",
       " Float32 \n",
       " Float64 "
      ]
     },
     "execution_count": 3,
     "metadata": {},
     "output_type": "execute_result"
    }
   ],
   "source": [
    "subtypes(AbstractFloat)"
   ]
  },
  {
   "cell_type": "code",
   "execution_count": 4,
   "metadata": {
    "collapsed": false
   },
   "outputs": [
    {
     "data": {
      "text/plain": [
       "(2.220446049250313e-16,1.7976931348623157e308,2.2250738585072014e-308)"
      ]
     },
     "execution_count": 4,
     "metadata": {},
     "output_type": "execute_result"
    }
   ],
   "source": [
    "# Default values are for Float66\n",
    "eps(), realmax(), realmin()"
   ]
  },
  {
   "cell_type": "code",
   "execution_count": 5,
   "metadata": {
    "collapsed": false
   },
   "outputs": [
    {
     "data": {
      "text/plain": [
       "(1.1920929f-7,3.4028235f38,1.1754944f-38)"
      ]
     },
     "execution_count": 5,
     "metadata": {},
     "output_type": "execute_result"
    }
   ],
   "source": [
    "T=Float32\n",
    "eps(T), realmax(T), realmin(Float32)"
   ]
  },
  {
   "cell_type": "code",
   "execution_count": 6,
   "metadata": {
    "collapsed": false
   },
   "outputs": [
    {
     "data": {
      "text/plain": [
       "(1.727233711018888925077270372560079914223200072887256277004740694033718360632485e-77,5.875653789111587590936911998878442589938516392745498308333779606469323584389875e+1388255822130839282,8.50969131174083613912978790962048280567755996982969624908264897850135431080301e-1388255822130839284,255)"
      ]
     },
     "execution_count": 6,
     "metadata": {},
     "output_type": "execute_result"
    }
   ],
   "source": [
    "T=BigFloat\n",
    "eps(T), realmax(T), realmin(T), map(Int64,round(log10(1/eps(T))*log(10)/log(2)))"
   ]
  },
  {
   "cell_type": "markdown",
   "metadata": {},
   "source": [
    "We see that `BigFloat` has approximately 77 significant decimal digits (actually 256 bits) and very large exponents. This makes the format ideal for Greaffe's method. \n",
    "\n",
    "Precision of `BigFloat` can be increased, but exponents do not change."
   ]
  },
  {
   "cell_type": "code",
   "execution_count": 7,
   "metadata": {
    "collapsed": false
   },
   "outputs": [
    {
     "data": {
      "text/plain": [
       "256"
      ]
     },
     "execution_count": 7,
     "metadata": {},
     "output_type": "execute_result"
    }
   ],
   "source": [
    "get_bigfloat_precision()"
   ]
  },
  {
   "cell_type": "code",
   "execution_count": 8,
   "metadata": {
    "collapsed": false
   },
   "outputs": [
    {
     "data": {
      "text/plain": [
       "(1.49166814624004134865819306309258676747529430692008137885430366664125567701402366098723497808008556067230232065116722029068254561904506053209723296591841694e-154,5.8756537891115875909369119988784425899385163927454983083337796064693235843899260221253999241262860478325497273605710644114525396031501137889011407098680862e+1388255822130839282)"
      ]
     },
     "execution_count": 8,
     "metadata": {},
     "output_type": "execute_result"
    }
   ],
   "source": [
    "set_bigfloat_precision(512)\n",
    "eps(T), realmax(T)"
   ]
  },
  {
   "cell_type": "code",
   "execution_count": 9,
   "metadata": {
    "collapsed": false
   },
   "outputs": [
    {
     "data": {
      "text/plain": [
       "256"
      ]
     },
     "execution_count": 9,
     "metadata": {},
     "output_type": "execute_result"
    }
   ],
   "source": [
    "set_bigfloat_precision(256)"
   ]
  },
  {
   "cell_type": "markdown",
   "metadata": {},
   "source": [
    "Here is the function for Graeffe's method. We also define small test polynomial with all real simple zeros."
   ]
  },
  {
   "cell_type": "code",
   "execution_count": 10,
   "metadata": {
    "collapsed": false
   },
   "outputs": [
    {
     "data": {
      "text/plain": [
       "Poly(24 - 50x + 35x^2 - 10x^3 + x^4)"
      ]
     },
     "execution_count": 10,
     "metadata": {},
     "output_type": "execute_result"
    }
   ],
   "source": [
    "using Polynomials\n",
    "p=poly([1,2,3,4])"
   ]
  },
  {
   "cell_type": "code",
   "execution_count": 11,
   "metadata": {
    "collapsed": false
   },
   "outputs": [
    {
     "data": {
      "text/plain": [
       "4-element Array{Float64,1}:\n",
       " 1.0\n",
       " 2.0\n",
       " 3.0\n",
       " 4.0"
      ]
     },
     "execution_count": 11,
     "metadata": {},
     "output_type": "execute_result"
    }
   ],
   "source": [
    "roots(p)"
   ]
  },
  {
   "cell_type": "code",
   "execution_count": 12,
   "metadata": {
    "collapsed": false
   },
   "outputs": [
    {
     "data": {
      "text/plain": [
       "Graeffe (generic function with 1 method)"
      ]
     },
     "execution_count": 12,
     "metadata": {},
     "output_type": "execute_result"
    }
   ],
   "source": [
    "function Graeffe{T}(p::Poly{T},steps::Int64)\n",
    "    # map the polynomial to BigFloat\n",
    "    pbig=Poly(map(BigFloat,coeffs(p)))\n",
    "    px=Poly([zero(BigFloat),one(BigFloat)])\n",
    "    n=degree(p)\n",
    "    σ=map(BigFloat,2^steps)\n",
    "    for k=1:steps\n",
    "        peven=Poly(coeffs(pbig)[1:2:end])\n",
    "        podd=Poly(coeffs(pbig)[2:2:end])\n",
    "        pbig=peven^2-podd^2*px \n",
    "    end\n",
    "    # @show p[end]\n",
    "    y=Array(BigFloat,n)\n",
    "    # Normalize if p is not monic\n",
    "    y[1]=-pbig[end-1]/pbig[end]\n",
    "    for k=2:n\n",
    "        y[k]=-pbig[end-k]/pbig[end-(k-1)]\n",
    "    end\n",
    "    # Extract the roots\n",
    "    for k=1:n\n",
    "        y[k]=exp(log(y[k])/σ)\n",
    "    end\n",
    "    # Return root in Float64\n",
    "    map(Float64,y)\n",
    "end"
   ]
  },
  {
   "cell_type": "code",
   "execution_count": 13,
   "metadata": {
    "collapsed": false
   },
   "outputs": [
    {
     "data": {
      "text/plain": [
       "4-element Array{Float64,1}:\n",
       " 4.0\n",
       " 3.0\n",
       " 2.0\n",
       " 1.0"
      ]
     },
     "execution_count": 13,
     "metadata": {},
     "output_type": "execute_result"
    }
   ],
   "source": [
    "Graeffe(p,8)"
   ]
  },
  {
   "cell_type": "markdown",
   "metadata": {},
   "source": [
    "Now the Wilkinson's polynomial:"
   ]
  },
  {
   "cell_type": "code",
   "execution_count": 14,
   "metadata": {
    "collapsed": false
   },
   "outputs": [
    {
     "data": {
      "text/plain": [
       "Poly(2.432902008176640000000000000000000000000000000000000000000000000000000000000000e+18 - 8.752948036761600000000000000000000000000000000000000000000000000000000000000000e+18x + 1.380375975364070400000000000000000000000000000000000000000000000000000000000000e+19x^2 - 1.287093124515098880000000000000000000000000000000000000000000000000000000000000e+19x^3 + 8.037811822645051776000000000000000000000000000000000000000000000000000000000000e+18x^4 - 3.599979517947607200000000000000000000000000000000000000000000000000000000000000e+18x^5 + 1.206647803780373360000000000000000000000000000000000000000000000000000000000000e+18x^6 - 3.113336431613906400000000000000000000000000000000000000000000000000000000000000e+17x^7 + 6.303081209929489600000000000000000000000000000000000000000000000000000000000000e+16x^8 - 1.014229986551145000000000000000000000000000000000000000000000000000000000000000e+16x^9 + 1.307535010540395000000000000000000000000000000000000000000000000000000000000000e+15x^10 - 1.355851828995300000000000000000000000000000000000000000000000000000000000000000e+14x^11 + 1.131027699538100000000000000000000000000000000000000000000000000000000000000000e+13x^12 - 7.561111845000000000000000000000000000000000000000000000000000000000000000000000e+11x^13 + 4.017177163000000000000000000000000000000000000000000000000000000000000000000000e+10x^14 - 1.672280820000000000000000000000000000000000000000000000000000000000000000000000e+09x^15 + 5.332794600000000000000000000000000000000000000000000000000000000000000000000000e+07x^16 - 1.256850000000000000000000000000000000000000000000000000000000000000000000000000e+06x^17 + 2.061500000000000000000000000000000000000000000000000000000000000000000000000000e+04x^18 - 2.100000000000000000000000000000000000000000000000000000000000000000000000000000e+02x^19 + x^20)"
      ]
     },
     "execution_count": 14,
     "metadata": {},
     "output_type": "execute_result"
    }
   ],
   "source": [
    "ω=poly(collect(one(BigFloat):20))"
   ]
  },
  {
   "cell_type": "code",
   "execution_count": 15,
   "metadata": {
    "collapsed": false
   },
   "outputs": [
    {
     "data": {
      "text/plain": [
       "20-element Array{Float64,1}:\n",
       " 20.0\n",
       " 19.0\n",
       " 18.0\n",
       " 17.0\n",
       " 16.0\n",
       " 15.0\n",
       " 14.0\n",
       " 13.0\n",
       " 12.0\n",
       " 11.0\n",
       " 10.0\n",
       "  9.0\n",
       "  8.0\n",
       "  7.0\n",
       "  6.0\n",
       "  5.0\n",
       "  4.0\n",
       "  3.0\n",
       "  2.0\n",
       "  1.0"
      ]
     },
     "execution_count": 15,
     "metadata": {},
     "output_type": "execute_result"
    }
   ],
   "source": [
    "Graeffe(ω,8)"
   ]
  },
  {
   "cell_type": "markdown",
   "metadata": {},
   "source": [
    "We need to generate the Chebyshev polynomial $T_{50}(x)$ using the three term recurence. "
   ]
  },
  {
   "cell_type": "code",
   "execution_count": 16,
   "metadata": {
    "collapsed": false
   },
   "outputs": [],
   "source": [
    "n=50\n",
    "T0=Poly([BigInt(1)])\n",
    "T1=Poly([0,1])\n",
    "Tx=Poly([0,1])\n",
    "for i=3:n+1\n",
    "    T=2*Tx*T1-T0\n",
    "    T0=T1\n",
    "    T1=T\n",
    "end"
   ]
  },
  {
   "cell_type": "code",
   "execution_count": 17,
   "metadata": {
    "collapsed": false
   },
   "outputs": [
    {
     "data": {
      "text/plain": [
       "Poly(-1 + 1250x^2 - 260000x^4 + 21528000x^6 - 947232000x^8 + 25638412800x^10 - 466152960000x^12 + 6034375680000x^14 - 57930006528000x^16 + 424820047872000x^18 - 2432653747814400x^20 + 11057517035520000x^22 - 40383975260160000x^24 + 119536566770073600x^26 - 288405684905574400x^28 + 568855350917201920x^30 - 917508630511616000x^32 + 1206989963132928000x^34 - 1287455960675123200x^36 + 1102487181118668800x^38 - 746299014911098880x^40 + 390051749953536000x^42 - 151732604633088000x^44 + 41341637204377600x^46 - 7036874417766400x^48 + 562949953421312x^50)"
      ]
     },
     "execution_count": 17,
     "metadata": {},
     "output_type": "execute_result"
    }
   ],
   "source": [
    "T1"
   ]
  },
  {
   "cell_type": "code",
   "execution_count": 19,
   "metadata": {
    "collapsed": false
   },
   "outputs": [],
   "source": [
    "using Winston"
   ]
  },
  {
   "cell_type": "code",
   "execution_count": 21,
   "metadata": {
    "collapsed": false
   },
   "outputs": [
    {
     "data": {
      "text/plain": [
       "linspace(-1.0,1.0,300)"
      ]
     },
     "execution_count": 21,
     "metadata": {},
     "output_type": "execute_result"
    }
   ],
   "source": [
    "x=linspace(-1,1,300)"
   ]
  },
  {
   "cell_type": "code",
   "execution_count": 22,
   "metadata": {
    "collapsed": false
   },
   "outputs": [
    {
     "data": {
      "image/png": "[encoded data removed]",
      "text/plain": [
       "Winston.FramedPlot(...)"
      ]
     },
     "execution_count": 22,
     "metadata": {},
     "output_type": "execute_result"
    }
   ],
   "source": [
    "plot(x,T1(x))"
   ]
  },
  {
   "cell_type": "markdown",
   "metadata": {},
   "source": [
    "In order to use Graeffe's method, we need to shift $T$ to the right by one, so that all roots also have simple moduli, that is we compute $T(1-x)$:"
   ]
  },
  {
   "cell_type": "code",
   "execution_count": 23,
   "metadata": {
    "collapsed": false
   },
   "outputs": [],
   "source": [
    "Ts=T1(Poly([BigFloat(1),-1]));"
   ]
  },
  {
   "cell_type": "code",
   "execution_count": 24,
   "metadata": {
    "collapsed": false
   },
   "outputs": [
    {
     "data": {
      "image/png": "[encoded data removed]",
      "text/plain": [
       "Winston.FramedPlot(...)"
      ]
     },
     "execution_count": 24,
     "metadata": {},
     "output_type": "execute_result"
    }
   ],
   "source": [
    "xs=linspace(0,2,300)\n",
    "plot(xs, Ts(xs))"
   ]
  },
  {
   "cell_type": "code",
   "execution_count": 25,
   "metadata": {
    "collapsed": false
   },
   "outputs": [
    {
     "data": {
      "text/plain": [
       "50-element Array{Float64,1}:\n",
       "  0.999507\n",
       "  0.995562\n",
       "  0.987688\n",
       "  0.975917\n",
       "  0.960294\n",
       "  0.940881\n",
       "  0.917755\n",
       "  0.891007\n",
       "  0.860742\n",
       "  0.827081\n",
       "  0.790155\n",
       "  0.750111\n",
       "  0.707107\n",
       "  ⋮       \n",
       " -0.750111\n",
       " -0.790155\n",
       " -0.827081\n",
       " -0.860742\n",
       " -0.891007\n",
       " -0.917755\n",
       " -0.940881\n",
       " -0.960294\n",
       " -0.975917\n",
       " -0.987688\n",
       " -0.995562\n",
       " -0.999507"
      ]
     },
     "execution_count": 25,
     "metadata": {},
     "output_type": "execute_result"
    }
   ],
   "source": [
    "# Computed roots, 16 steps are fine\n",
    "y=Graeffe(Ts,12)-1"
   ]
  },
  {
   "cell_type": "code",
   "execution_count": 26,
   "metadata": {
    "collapsed": false
   },
   "outputs": [
    {
     "data": {
      "text/plain": [
       "50-element Array{Float64,1}:\n",
       "  0.999507\n",
       "  0.995562\n",
       "  0.987688\n",
       "  0.975917\n",
       "  0.960294\n",
       "  0.940881\n",
       "  0.917755\n",
       "  0.891007\n",
       "  0.860742\n",
       "  0.827081\n",
       "  0.790155\n",
       "  0.750111\n",
       "  0.707107\n",
       "  ⋮       \n",
       " -0.750111\n",
       " -0.790155\n",
       " -0.827081\n",
       " -0.860742\n",
       " -0.891007\n",
       " -0.917755\n",
       " -0.940881\n",
       " -0.960294\n",
       " -0.975917\n",
       " -0.987688\n",
       " -0.995562\n",
       " -0.999507"
      ]
     },
     "execution_count": 26,
     "metadata": {},
     "output_type": "execute_result"
    }
   ],
   "source": [
    "# Exact roots\n",
    "z=map(Float64,[cos((2*k-1)*pi/(2*n)) for k=1:n])"
   ]
  },
  {
   "cell_type": "code",
   "execution_count": 27,
   "metadata": {
    "collapsed": false
   },
   "outputs": [
    {
     "data": {
      "text/plain": [
       "1.5019142646242862e-7"
      ]
     },
     "execution_count": 27,
     "metadata": {},
     "output_type": "execute_result"
    }
   ],
   "source": [
    "# Relative error\n",
    "maximum(abs(z-y)./z)"
   ]
  },
  {
   "cell_type": "markdown",
   "metadata": {},
   "source": [
    "## Assignment 2\n",
    "\n",
    "The key is that `/` works for block matrices, too. $A$ is overwritten and must therefore be copied at the beggining of the function, so that the original matrix is not overwritten."
   ]
  },
  {
   "cell_type": "code",
   "execution_count": 28,
   "metadata": {
    "collapsed": false
   },
   "outputs": [
    {
     "data": {
      "text/plain": [
       "mylu (generic function with 1 method)"
      ]
     },
     "execution_count": 28,
     "metadata": {},
     "output_type": "execute_result"
    }
   ],
   "source": [
    "function mylu{T}(A1::Array{T}) # Strang, page 100\n",
    "    A=copy(A1)\n",
    "    n,m=size(A)\n",
    "    for k=1:n-1\n",
    "        for rho=k+1:n\n",
    "            A[rho,k]=A[rho,k]/A[k,k]\n",
    "            for l=k+1:n\n",
    "                A[rho,l]=A[rho,l]-A[rho,k]*A[k,l]\n",
    "            end\n",
    "        end\n",
    "    end\n",
    "    # We return L and U\n",
    "    L=tril(A,-1)\n",
    "    U=triu(A)\n",
    "    # This is the only difference for the block case\n",
    "    for i=1:maximum(size(L))\n",
    "        L[i,i]=one(L[1,1])\n",
    "    end\n",
    "    L,U\n",
    "end"
   ]
  },
  {
   "cell_type": "code",
   "execution_count": 29,
   "metadata": {
    "collapsed": false
   },
   "outputs": [
    {
     "data": {
      "text/plain": [
       "5x5 Array{Float64,2}:\n",
       " 0.403232  0.0356822  0.0464912  0.604242  0.532244\n",
       " 0.358695  0.271174   0.0499363  0.107327  0.925905\n",
       " 0.054824  0.733145   0.633516   0.428514  0.362232\n",
       " 0.345642  0.862507   0.585965   0.402968  0.227538\n",
       " 0.802874  0.948046   0.283802   0.904392  0.389828"
      ]
     },
     "execution_count": 29,
     "metadata": {},
     "output_type": "execute_result"
    }
   ],
   "source": [
    "A=rand(5,5)"
   ]
  },
  {
   "cell_type": "code",
   "execution_count": 30,
   "metadata": {
    "collapsed": false
   },
   "outputs": [
    {
     "data": {
      "text/plain": [
       "(\n",
       "5x5 Array{Float64,2}:\n",
       " 1.0       0.0      0.0         0.0     0.0\n",
       " 0.889549  1.0      0.0         0.0     0.0\n",
       " 0.135961  3.04174  1.0         0.0     0.0\n",
       " 0.857179  3.47454  0.858933    1.0     0.0\n",
       " 1.9911    3.66281  0.265858  -20.0664  1.0,\n",
       "\n",
       "5x5 Array{Float64,2}:\n",
       " 0.403232  0.0356822  0.0464912    0.604242    0.532244\n",
       " 0.0       0.239433   0.00858012  -0.430175    0.452448\n",
       " 0.0       0.0        0.601097     1.65484    -1.08636 \n",
       " 0.0       0.0        0.0         -0.041711   -0.867629\n",
       " 0.0       0.0        0.0          0.0       -19.4485  )"
      ]
     },
     "execution_count": 30,
     "metadata": {},
     "output_type": "execute_result"
    }
   ],
   "source": [
    "mylu(A)"
   ]
  },
  {
   "cell_type": "code",
   "execution_count": 31,
   "metadata": {
    "collapsed": false
   },
   "outputs": [
    {
     "data": {
      "text/plain": [
       "(\n",
       "5x5 Array{Float64,2}:\n",
       " 1.0       0.0      0.0         0.0     0.0\n",
       " 0.889549  1.0      0.0         0.0     0.0\n",
       " 0.135961  3.04174  1.0         0.0     0.0\n",
       " 0.857179  3.47454  0.858933    1.0     0.0\n",
       " 1.9911    3.66281  0.265858  -20.0664  1.0,\n",
       "\n",
       "5x5 Array{Float64,2}:\n",
       " 0.403232  0.0356822  0.0464912    0.604242    0.532244\n",
       " 0.0       0.239433   0.00858012  -0.430175    0.452448\n",
       " 0.0       0.0        0.601097     1.65484    -1.08636 \n",
       " 0.0       0.0        0.0         -0.041711   -0.867629\n",
       " 0.0       0.0        0.0          0.0       -19.4485  )"
      ]
     },
     "execution_count": 31,
     "metadata": {},
     "output_type": "execute_result"
    }
   ],
   "source": [
    "L,U=mylu(A)"
   ]
  },
  {
   "cell_type": "code",
   "execution_count": 32,
   "metadata": {
    "collapsed": false
   },
   "outputs": [
    {
     "data": {
      "text/plain": [
       "5x5 Array{Float64,2}:\n",
       "  0.0          0.0  0.0   0.0           0.0        \n",
       "  0.0          0.0  0.0   0.0           0.0        \n",
       " -6.93889e-18  0.0  0.0   0.0           0.0        \n",
       "  0.0          0.0  0.0  -1.11022e-16   1.11022e-16\n",
       "  0.0          0.0  0.0   0.0          -2.22045e-16"
      ]
     },
     "execution_count": 32,
     "metadata": {},
     "output_type": "execute_result"
    }
   ],
   "source": [
    "L*U-A"
   ]
  },
  {
   "cell_type": "markdown",
   "metadata": {},
   "source": [
    "We now try block-matrices. First, a small example:"
   ]
  },
  {
   "cell_type": "code",
   "execution_count": 33,
   "metadata": {
    "collapsed": false
   },
   "outputs": [
    {
     "data": {
      "text/plain": [
       "4x4 Array{Any,2}:\n",
       " 2x2 Array{Float64,2}:\n",
       " 0.859241  0.290347\n",
       " 0.546656  0.251575    …  2x2 Array{Float64,2}:\n",
       " 0.569337  0.706363\n",
       " 0.489503  0.583619\n",
       " 2x2 Array{Float64,2}:\n",
       " 0.134563   0.665494\n",
       " 0.0123687  0.471731     2x2 Array{Float64,2}:\n",
       " 0.344356  0.75955 \n",
       " 0.947989  0.589276\n",
       " 2x2 Array{Float64,2}:\n",
       " 0.552753  0.598627\n",
       " 0.8736    0.797129       2x2 Array{Float64,2}:\n",
       " 0.110275  0.730796\n",
       " 0.312197  0.601599\n",
       " 2x2 Array{Float64,2}:\n",
       " 0.999222  0.612258\n",
       " 0.32229   0.273818       2x2 Array{Float64,2}:\n",
       " 0.67545   0.747955\n",
       " 0.357495  0.778605"
      ]
     },
     "execution_count": 33,
     "metadata": {},
     "output_type": "execute_result"
    }
   ],
   "source": [
    "# Try k,l=32,16 i k,l=64,8\n",
    "k,l=2,4\n",
    "Ab=[rand(k,k) for i=1:l, j=1:l]"
   ]
  },
  {
   "cell_type": "code",
   "execution_count": 34,
   "metadata": {
    "collapsed": false
   },
   "outputs": [
    {
     "data": {
      "text/plain": [
       "2x2 Array{Float64,2}:\n",
       " 0.859241  0.290347\n",
       " 0.546656  0.251575"
      ]
     },
     "execution_count": 34,
     "metadata": {},
     "output_type": "execute_result"
    }
   ],
   "source": [
    "Ab[1,1]"
   ]
  },
  {
   "cell_type": "code",
   "execution_count": 35,
   "metadata": {
    "collapsed": false
   },
   "outputs": [
    {
     "data": {
      "text/plain": [
       "(\n",
       "4x4 Array{Any,2}:\n",
       " 2x2 Array{Float64,2}:\n",
       " 1.0  0.0\n",
       " 0.0  1.0                    …  2x2 Array{Float64,2}:\n",
       " 0.0  0.0\n",
       " 0.0  0.0\n",
       " 2x2 Array{Float64,2}:\n",
       " -5.74377  9.27429\n",
       " -4.435    6.99361     2x2 Array{Float64,2}:\n",
       " 0.0  0.0\n",
       " 0.0  0.0\n",
       " 2x2 Array{Float64,2}:\n",
       " -3.27598  6.16038\n",
       " -3.75985  7.50786     2x2 Array{Float64,2}:\n",
       " 0.0  0.0\n",
       " 0.0  0.0\n",
       " 2x2 Array{Float64,2}:\n",
       " -1.45038  4.10761\n",
       " -1.19428  2.46676     2x2 Array{Float64,2}:\n",
       " 1.0  0.0\n",
       " 0.0  1.0,\n",
       "\n",
       "4x4 Array{Any,2}:\n",
       " 2x2 Array{Float64,2}:\n",
       " 0.859241  0.290347\n",
       " 0.546656  0.251575  …  2x2 Array{Float64,2}:\n",
       " 0.569337  0.706363\n",
       " 0.489503  0.583619      \n",
       " 2x2 Array{Float64,2}:\n",
       " 0.0  0.0\n",
       " 0.0  0.0                         2x2 Array{Float64,2}:\n",
       " -0.925294   -0.595918\n",
       "  0.0496047  -0.359614\n",
       " 2x2 Array{Float64,2}:\n",
       " 0.0  0.0\n",
       " 0.0  0.0                         2x2 Array{Float64,2}:\n",
       " -1.02537   -0.273877\n",
       "  0.953836  -0.517351  \n",
       " 2x2 Array{Float64,2}:\n",
       " 0.0  0.0\n",
       " 0.0  0.0                         2x2 Array{Float64,2}:\n",
       "  9.7431   3.08869\n",
       " -8.6654  -3.96928        )"
      ]
     },
     "execution_count": 35,
     "metadata": {},
     "output_type": "execute_result"
    }
   ],
   "source": [
    "L,U=mylu(Ab)"
   ]
  },
  {
   "cell_type": "code",
   "execution_count": 36,
   "metadata": {
    "collapsed": false
   },
   "outputs": [
    {
     "data": {
      "text/plain": [
       "4x4 Array{Any,2}:\n",
       " 2x2 Array{Float64,2}:\n",
       " 0.0  0.0\n",
       " 0.0  0.0                                      …  2x2 Array{Float64,2}:\n",
       " 0.0  0.0\n",
       " 0.0  0.0                                  \n",
       " 2x2 Array{Float64,2}:\n",
       " -1.33227e-15  -2.22045e-16\n",
       " -2.22045e-16   2.22045e-16     2x2 Array{Float64,2}:\n",
       " 0.0  0.0\n",
       " 0.0  0.0                                  \n",
       " 2x2 Array{Float64,2}:\n",
       " -4.44089e-16  -1.11022e-16\n",
       " -2.22045e-16   0.0             2x2 Array{Float64,2}:\n",
       " 0.0  0.0        \n",
       " 0.0  1.11022e-16                  \n",
       " 2x2 Array{Float64,2}:\n",
       " 0.0  0.0\n",
       " 0.0  0.0                                         2x2 Array{Float64,2}:\n",
       " 4.44089e-16  -2.22045e-16\n",
       " 4.44089e-16   2.22045e-16"
      ]
     },
     "execution_count": 36,
     "metadata": {},
     "output_type": "execute_result"
    }
   ],
   "source": [
    "L*U-Ab"
   ]
  },
  {
   "cell_type": "code",
   "execution_count": 37,
   "metadata": {
    "collapsed": false
   },
   "outputs": [
    {
     "ename": "LoadError",
     "evalue": "LoadError: MethodError: `zero` has no method matching zero(::Type{Any})\nwhile loading In[37], in expression starting on line 1",
     "output_type": "error",
     "traceback": [
      "LoadError: MethodError: `zero` has no method matching zero(::Type{Any})\nwhile loading In[37], in expression starting on line 1",
      ""
     ]
    }
   ],
   "source": [
    "norm(ans) # This is not defined"
   ]
  },
  {
   "cell_type": "markdown",
   "metadata": {},
   "source": [
    "We need a convenience function to unblock the block-matrix:"
   ]
  },
  {
   "cell_type": "code",
   "execution_count": 38,
   "metadata": {
    "collapsed": false
   },
   "outputs": [
    {
     "data": {
      "text/plain": [
       "unblock (generic function with 1 method)"
      ]
     },
     "execution_count": 38,
     "metadata": {},
     "output_type": "execute_result"
    }
   ],
   "source": [
    "unblock(A) = mapreduce(identity, hcat, [mapreduce(identity, vcat, A[:,i]) for i = 1:size(A,2)])"
   ]
  },
  {
   "cell_type": "code",
   "execution_count": 39,
   "metadata": {
    "collapsed": false
   },
   "outputs": [
    {
     "data": {
      "text/plain": [
       "8x8 Array{Float64,2}:\n",
       " 0.859241   0.290347  0.882112   0.0589339   …  0.561973  0.569337  0.706363\n",
       " 0.546656   0.251575  0.0792403  0.00382017     0.511518  0.489503  0.583619\n",
       " 0.134563   0.665494  0.26147    0.899233       0.267063  0.344356  0.75955 \n",
       " 0.0123687  0.471731  0.0504757  0.912636       0.148593  0.947989  0.589276\n",
       " 0.552753   0.598627  0.164754   0.676265       0.559291  0.110275  0.730796\n",
       " 0.8736     0.797129  0.664858   0.175908    …  0.747539  0.312197  0.601599\n",
       " 0.999222   0.612258  0.222019   0.838063       0.314485  0.67545   0.747955\n",
       " 0.32229    0.273818  0.933838   0.32583        0.830421  0.357495  0.778605"
      ]
     },
     "execution_count": 39,
     "metadata": {},
     "output_type": "execute_result"
    }
   ],
   "source": [
    "unblock(Ab)"
   ]
  },
  {
   "cell_type": "code",
   "execution_count": 40,
   "metadata": {
    "collapsed": false
   },
   "outputs": [
    {
     "data": {
      "text/plain": [
       "1.6583733836878267e-15"
      ]
     },
     "execution_count": 40,
     "metadata": {},
     "output_type": "execute_result"
    }
   ],
   "source": [
    "norm(unblock(L*U-Ab))"
   ]
  },
  {
   "cell_type": "markdown",
   "metadata": {},
   "source": [
    "We now compute timings an errors for bigger example:"
   ]
  },
  {
   "cell_type": "code",
   "execution_count": 41,
   "metadata": {
    "collapsed": false
   },
   "outputs": [],
   "source": [
    "# This is 512x512 matrix consisting of 16x16 blocks of dimension 32x32\n",
    "k,l=32,16\n",
    "Ab=[rand(k,k) for i=1:l, j=1:l]\n",
    "# Unblocked version\n",
    "A=unblock(Ab);"
   ]
  },
  {
   "cell_type": "code",
   "execution_count": 42,
   "metadata": {
    "collapsed": false
   },
   "outputs": [
    {
     "name": "stdout",
     "output_type": "stream",
     "text": [
      "search: lu lufact lufact! flush flush_cstdio ClusterManager mylu values include\n",
      "\n"
     ]
    },
    {
     "data": {
      "text/latex": [
       "\\begin{verbatim}\n",
       "lu(A) -> L, U, p\n",
       "\\end{verbatim}\n",
       "Compute the LU factorization of \\texttt{A}, such that \\texttt{A[p,:] = L*U}.\n"
      ],
      "text/markdown": [
       "```\n",
       "lu(A) -> L, U, p\n",
       "```\n",
       "\n",
       "Compute the LU factorization of `A`, such that `A[p,:] = L*U`.\n"
      ],
      "text/plain": [
       "```\n",
       "lu(A) -> L, U, p\n",
       "```\n",
       "\n",
       "Compute the LU factorization of `A`, such that `A[p,:] = L*U`.\n"
      ]
     },
     "execution_count": 42,
     "metadata": {},
     "output_type": "execute_result"
    }
   ],
   "source": [
    "?lu"
   ]
  },
  {
   "cell_type": "code",
   "execution_count": 43,
   "metadata": {
    "collapsed": false
   },
   "outputs": [
    {
     "name": "stdout",
     "output_type": "stream",
     "text": [
      "  0.114271 seconds (79.83 k allocations: 9.639 MB)\n"
     ]
    }
   ],
   "source": [
    "# Built-in LAPACK function with pivoting \n",
    "@time L,U,p=lu(A);"
   ]
  },
  {
   "cell_type": "code",
   "execution_count": 44,
   "metadata": {
    "collapsed": false
   },
   "outputs": [
    {
     "data": {
      "text/plain": [
       "3.4769000543978225e-14"
      ]
     },
     "execution_count": 44,
     "metadata": {},
     "output_type": "execute_result"
    }
   ],
   "source": [
    "norm(L*U-A[p,:])"
   ]
  },
  {
   "cell_type": "code",
   "execution_count": 45,
   "metadata": {
    "collapsed": false
   },
   "outputs": [
    {
     "name": "stdout",
     "output_type": "stream",
     "text": [
      "  0.285764 seconds (13 allocations: 6.000 MB, 1.38% gc time)\n"
     ]
    }
   ],
   "source": [
    "# mylu() unblocked\n",
    "@time L,U=mylu(A);"
   ]
  },
  {
   "cell_type": "code",
   "execution_count": 46,
   "metadata": {
    "collapsed": false
   },
   "outputs": [
    {
     "data": {
      "text/plain": [
       "6.854977602946937e-12"
      ]
     },
     "execution_count": 46,
     "metadata": {},
     "output_type": "execute_result"
    }
   ],
   "source": [
    "norm(L*U-A)"
   ]
  },
  {
   "cell_type": "code",
   "execution_count": 47,
   "metadata": {
    "collapsed": false
   },
   "outputs": [
    {
     "name": "stdout",
     "output_type": "stream",
     "text": [
      "  0.088273 seconds (7.04 k allocations: 26.606 MB, 3.29% gc time)\n"
     ]
    }
   ],
   "source": [
    "# mylu() on a block-matrix - much faster, but NO pivoting\n",
    "@time L,U=mylu(Ab);"
   ]
  },
  {
   "cell_type": "code",
   "execution_count": 48,
   "metadata": {
    "collapsed": false
   },
   "outputs": [
    {
     "data": {
      "text/plain": [
       "1.682521213463684e-11"
      ]
     },
     "execution_count": 48,
     "metadata": {},
     "output_type": "execute_result"
    }
   ],
   "source": [
    "norm(unblock(L*U-Ab))"
   ]
  },
  {
   "cell_type": "markdown",
   "metadata": {},
   "source": [
    "## Assignment 3"
   ]
  },
  {
   "cell_type": "code",
   "execution_count": 49,
   "metadata": {
    "collapsed": false
   },
   "outputs": [
    {
     "data": {
      "text/plain": [
       "20x20 Array{Complex{Float64},2}:\n",
       "     10.1512+0.0im           10.151+0.0im       …     10.0494+0.0im     \n",
       "    -1.48639+0.0im          1.17471+0.0im            -1.21833+0.0im     \n",
       "    -1.12961+0.0im         0.626151+0.940903im      -0.942371+0.392003im\n",
       "   -0.899554+0.266722im    0.626151-0.940903im      -0.942371-0.392003im\n",
       "   -0.899554-0.266722im   -0.857192+0.81126im       -0.162806+1.12041im \n",
       "   -0.575746+0.53258im    -0.857192-0.81126im   …   -0.162806-1.12041im \n",
       "   -0.575746-0.53258im     -1.14461+0.358316im      -0.578274+0.690318im\n",
       " -0.00294929+0.8518im      -1.14461-0.358316im      -0.578274-0.690318im\n",
       " -0.00294929-0.8518im     0.0969548+0.88284im         1.17872+0.371568im\n",
       "   -0.324318+0.562959im   0.0969548-0.88284im         1.17872-0.371568im\n",
       "   -0.324318-0.562959im    -1.11309+0.0im       …     1.30492+0.0im     \n",
       "  0.00379823+0.299854im   -0.710935+0.330363im       0.523667+0.866791im\n",
       "  0.00379823-0.299854im   -0.710935-0.330363im       0.523667-0.866791im\n",
       "    0.815602+0.620837im   -0.176539+0.697334im       0.142096+0.462282im\n",
       "    0.815602-0.620837im   -0.176539-0.697334im       0.142096-0.462282im\n",
       "     1.00644+0.275937im    0.589194+0.0im       …  -0.0597885+0.242614im\n",
       "     1.00644-0.275937im    0.298893+0.0im          -0.0597885-0.242614im\n",
       "    0.578307+0.20953im   -0.0448251+0.0im            0.498165+0.0im     \n",
       "    0.578307-0.20953im    0.0239464+0.092426im       0.171089+0.113072im\n",
       "     1.19624+0.0im        0.0239464-0.092426im       0.171089-0.113072im"
      ]
     },
     "execution_count": 49,
     "metadata": {},
     "output_type": "execute_result"
    }
   ],
   "source": [
    "k=20\n",
    "n=20\n",
    "E=Array(Any,n,k)\n",
    "# Unsymmetrix random uniform distribution\n",
    "for i=1:k\n",
    "    A=rand(n,n)\n",
    "    E[:,i]=eigvals(A)\n",
    "end\n",
    "# We need this since plot cannot handle `Any`\n",
    "E=map(eltype(E[1,1]),E)"
   ]
  },
  {
   "cell_type": "code",
   "execution_count": 50,
   "metadata": {
    "collapsed": false
   },
   "outputs": [
    {
     "data": {
      "image/png": "[encoded data removed]",
      "text/plain": [
       "Winston.FramedPlot(...)"
      ]
     },
     "execution_count": 50,
     "metadata": {},
     "output_type": "execute_result"
    }
   ],
   "source": [
    "Winston.plot(E,\"*\")"
   ]
  },
  {
   "cell_type": "code",
   "execution_count": 51,
   "metadata": {
    "collapsed": false
   },
   "outputs": [
    {
     "data": {
      "image/png": "[encoded data removed]",
      "text/plain": [
       "Winston.FramedPlot(...)"
      ]
     },
     "execution_count": 51,
     "metadata": {},
     "output_type": "execute_result"
    }
   ],
   "source": [
    "# Unsymmetric random normal distribution\n",
    "E=Array(Any,n,k)\n",
    "for i=1:k\n",
    "    A=randn(n,n)\n",
    "    E[:,i]=eigvals(A)\n",
    "end\n",
    "# We need this for plot to work\n",
    "E=map(eltype(E[1,1]),E)\n",
    "Winston.plot(E,\"*\")"
   ]
  },
  {
   "cell_type": "code",
   "execution_count": 52,
   "metadata": {
    "collapsed": false
   },
   "outputs": [
    {
     "data": {
      "image/png": "[encoded data removed]",
      "text/plain": [
       "Winston.FramedPlot(...)"
      ]
     },
     "execution_count": 52,
     "metadata": {},
     "output_type": "execute_result"
    }
   ],
   "source": [
    "# Symmetric random uniform distribution\n",
    "E=Array(Any,n,k)\n",
    "for i=1:k\n",
    "    A=rand(n,n)\n",
    "    A=triu(A)+triu(A,1)'\n",
    "    E[:,i]=eigvals(A)\n",
    "end\n",
    "# We need this for plot to work\n",
    "E=map(eltype(E[1,1]),E)\n",
    "Winston.plot(E,\"*\")"
   ]
  },
  {
   "cell_type": "code",
   "execution_count": 53,
   "metadata": {
    "collapsed": false
   },
   "outputs": [
    {
     "data": {
      "image/png": "[encoded data removed]",
      "text/plain": [
       "Winston.FramedPlot(...)"
      ]
     },
     "execution_count": 53,
     "metadata": {},
     "output_type": "execute_result"
    }
   ],
   "source": [
    "# Symmetric random normal distribution\n",
    "E=Array(Any,n,k)\n",
    "for i=1:k\n",
    "    A=randn(n,n)\n",
    "    A=triu(A)+triu(A,1)'\n",
    "    E[:,i]=eigvals(A)\n",
    "end\n",
    "# We need this for plot to work\n",
    "E=map(eltype(E[1,1]),E)\n",
    "Winston.plot(E,\"*\")"
   ]
  },
  {
   "cell_type": "code",
   "execution_count": 54,
   "metadata": {
    "collapsed": false
   },
   "outputs": [
    {
     "data": {
      "text/html": [
       "<script charset=\"utf-8\">(function ($, undefined) {\n",
       "\n",
       "    function createElem(tag, attr, content) {\n",
       "\t// TODO: remove jQuery dependency\n",
       "\tvar el = $(\"<\" + tag + \"/>\").attr(attr);\n",
       "\tif (content) {\n",
       "\t    el.append(content);\n",
       "\t}\n",
       "\treturn el[0];\n",
       "    }\n",
       "\n",
       "    // A widget must expose an id field which identifies it to the backend,\n",
       "    // an elem attribute which is will be added to the DOM, and\n",
       "    // a getState() method which returns the value to be sent to the backend\n",
       "    // a sendUpdate() method which sends its current value to the backend\n",
       "    var Widget = {\n",
       "\tid: undefined,\n",
       "\telem: undefined,\n",
       "\tlabel: undefined,\n",
       "\tgetState: function () {\n",
       "\t    return this.elem.value;\n",
       "\t},\n",
       "\tsendUpdate: undefined\n",
       "    };\n",
       "\n",
       "    var Slider = function (typ, id, init) {\n",
       "\tvar attr = { type:  \"range\",\n",
       "\t\t     value: init.value,\n",
       "\t\t     min:   init.min,\n",
       "\t\t     max:   init.max,\n",
       "\t\t     step:  init.step },\n",
       "\t    elem = createElem(\"input\", attr),\n",
       "\t    self = this;\n",
       "\n",
       "\telem.onchange = function () {\n",
       "\t    self.sendUpdate();\n",
       "\t}\n",
       "\n",
       "\tthis.id = id;\n",
       "\tthis.elem = elem;\n",
       "\tthis.label = init.label;\n",
       "\n",
       "\tInputWidgets.commInitializer(this); // Initialize communication\n",
       "    }\n",
       "    Slider.prototype = Widget;\n",
       "\n",
       "    var Checkbox = function (typ, id, init) {\n",
       "\tvar attr = { type: \"checkbox\",\n",
       "\t\t     checked: init.value },\n",
       "\t    elem = createElem(\"input\", attr),\n",
       "\t    self = this;\n",
       "\n",
       "\tthis.getState = function () {\n",
       "\t    return elem.checked;\n",
       "\t}\n",
       "\telem.onchange = function () {\n",
       "\t    self.sendUpdate();\n",
       "\t}\n",
       "\n",
       "\tthis.id = id;\n",
       "\tthis.elem = elem;\n",
       "\tthis.label = init.label;\n",
       "\n",
       "\tInputWidgets.commInitializer(this);\n",
       "    }\n",
       "    Checkbox.prototype = Widget;\n",
       "\n",
       "    var Button = function (typ, id, init) {\n",
       "\tvar attr = { type:    \"button\",\n",
       "\t\t     value:   init.label },\n",
       "\t    elem = createElem(\"input\", attr),\n",
       "\t    self = this;\n",
       "\tthis.getState = function () {\n",
       "\t    return null;\n",
       "\t}\n",
       "\telem.onclick = function () {\n",
       "\t    self.sendUpdate();\n",
       "\t}\n",
       "\n",
       "\tthis.id = id;\n",
       "\tthis.elem = elem;\n",
       "\tthis.label = init.label;\n",
       "\n",
       "\tInputWidgets.commInitializer(this);\n",
       "    }\n",
       "    Button.prototype = Widget;\n",
       "\n",
       "    var Text = function (typ, id, init) {\n",
       "\tvar attr = { type:  \"text\",\n",
       "\t\t     placeholder: init.label,\n",
       "\t\t     value: init.value },\n",
       "\t    elem = createElem(\"input\", attr),\n",
       "\t    self = this;\n",
       "\tthis.getState = function () {\n",
       "\t    return elem.value;\n",
       "\t}\n",
       "\telem.onkeyup = function () {\n",
       "\t    self.sendUpdate();\n",
       "\t}\n",
       "\n",
       "\tthis.id = id;\n",
       "\tthis.elem = elem;\n",
       "\tthis.label = init.label;\n",
       "\n",
       "\tInputWidgets.commInitializer(this);\n",
       "    }\n",
       "    Text.prototype = Widget;\n",
       "\n",
       "    var Textarea = function (typ, id, init) {\n",
       "\tvar attr = { placeholder: init.label },\n",
       "\t    elem = createElem(\"textarea\", attr, init.value),\n",
       "\t    self = this;\n",
       "\tthis.getState = function () {\n",
       "\t    return elem.value;\n",
       "\t}\n",
       "\telem.onchange = function () {\n",
       "\t    self.sendUpdate();\n",
       "\t}\n",
       "\n",
       "\tthis.id = id;\n",
       "\tthis.elem = elem;\n",
       "\tthis.label = init.label;\n",
       "\n",
       "\tInputWidgets.commInitializer(this);\n",
       "    }\n",
       "    Textarea.prototype = Widget;\n",
       "\n",
       "    // RadioButtons\n",
       "    // Dropdown\n",
       "    // HTML\n",
       "    // Latex\n",
       "\n",
       "    var InputWidgets = {\n",
       "\tSlider: Slider,\n",
       "\tCheckbox: Checkbox,\n",
       "\tButton: Button,\n",
       "\tText: Text,\n",
       "\tTextarea: Textarea,\n",
       "\tdebug: false,\n",
       "\tlog: function () {\n",
       "\t    if (InputWidgets.debug) {\n",
       "\t\tconsole.log.apply(console, arguments);\n",
       "\t    }\n",
       "\t},\n",
       "\t// a central way to initalize communication\n",
       "\t// for widgets.\n",
       "\tcommInitializer: function (widget) {\n",
       "\t    widget.sendUpdate = function () {};\n",
       "\t}\n",
       "    };\n",
       "\n",
       "    window.InputWidgets = InputWidgets;\n",
       "\n",
       "})(jQuery, undefined);\n",
       "</script>"
      ]
     },
     "metadata": {},
     "output_type": "display_data"
    },
    {
     "data": {
      "text/html": [
       "<div id=\"interact-js-shim\">\n",
       "    <script charset=\"utf-8\">\n",
       "(function (IPython, $, _, MathJax, Widgets) {\n",
       "    $.event.special.destroyed = {\n",
       "\tremove: function(o) {\n",
       "\t    if (o.handler) {\n",
       "\t\to.handler.apply(this, arguments)\n",
       "\t    }\n",
       "\t}\n",
       "    }\n",
       "\n",
       "    var OutputArea = IPython.version >= \"4.0.0\" ? require(\"notebook/js/outputarea\").OutputArea : IPython.OutputArea;\n",
       "\n",
       "    var redrawValue = function (container, type, val) {\n",
       "\tvar selector = $(\"<div/>\");\n",
       "\tvar oa = new OutputArea(_.extend(selector, {\n",
       "\t    selector: selector,\n",
       "\t    prompt_area: true,\n",
       "\t    events: IPython.events,\n",
       "\t    keyboard_manager: IPython.keyboard_manager\n",
       "\t})); // Hack to work with IPython 2.1.0\n",
       "\n",
       "\tswitch (type) {\n",
       "\tcase \"image/png\":\n",
       "            var _src = 'data:' + type + ';base64,' + val;\n",
       "\t    $(container).find(\"img\").attr('src', _src);\n",
       "\t    break;\n",
       "\tdefault:\n",
       "\t    var toinsert = OutputArea.append_map[type].apply(\n",
       "\t\toa, [val, {}, selector]\n",
       "\t    );\n",
       "\t    $(container).empty().append(toinsert.contents());\n",
       "\t    selector.remove();\n",
       "\t}\n",
       "\tif (type === \"text/latex\" && MathJax) {\n",
       "\t    MathJax.Hub.Queue([\"Typeset\", MathJax.Hub, toinsert.get(0)]);\n",
       "\t}\n",
       "    }\n",
       "\n",
       "\n",
       "    $(document).ready(function() {\n",
       "\tWidgets.debug = false; // log messages etc in console.\n",
       "\tfunction initComm(evt, data) {\n",
       "\t    var comm_manager = data.kernel.comm_manager;\n",
       "        //_.extend(comm_manager.targets, require(\"widgets/js/widget\"))\n",
       "\t    comm_manager.register_target(\"Signal\", function (comm) {\n",
       "            comm.on_msg(function (msg) {\n",
       "                //Widgets.log(\"message received\", msg);\n",
       "                var val = msg.content.data.value;\n",
       "                $(\".signal-\" + comm.comm_id).each(function() {\n",
       "                var type = $(this).data(\"type\");\n",
       "                if (val[type]) {\n",
       "                    redrawValue(this, type, val[type], type);\n",
       "                }\n",
       "                });\n",
       "                delete val;\n",
       "                delete msg.content.data.value;\n",
       "            });\n",
       "\t    });\n",
       "\n",
       "\t    // coordingate with Comm and redraw Signals\n",
       "\t    // XXX: Test using Reactive here to improve performance\n",
       "\t    $([IPython.events]).on(\n",
       "\t\t'output_appended.OutputArea', function (event, type, value, md, toinsert) {\n",
       "\t\t    if (md && md.reactive) {\n",
       "                // console.log(md.comm_id);\n",
       "                toinsert.addClass(\"signal-\" + md.comm_id);\n",
       "                toinsert.data(\"type\", type);\n",
       "                // Signal back indicating the mimetype required\n",
       "                var comm_manager = IPython.notebook.kernel.comm_manager;\n",
       "                var comm = comm_manager.comms[md.comm_id];\n",
       "                comm.then(function (c) {\n",
       "                    c.send({action: \"subscribe_mime\",\n",
       "                       mime: type});\n",
       "                    toinsert.bind(\"destroyed\", function() {\n",
       "                        c.send({action: \"unsubscribe_mime\",\n",
       "                               mime: type});\n",
       "                    });\n",
       "                })\n",
       "\t\t    }\n",
       "\t    });\n",
       "\t}\n",
       "\n",
       "\ttry {\n",
       "\t    // try to initialize right away. otherwise, wait on the status_started event.\n",
       "\t    initComm(undefined, IPython.notebook);\n",
       "\t} catch (e) {\n",
       "\t    $([IPython.events]).on('kernel_created.Kernel kernel_created.Session', initComm);\n",
       "\t}\n",
       "    });\n",
       "})(IPython, jQuery, _, MathJax, InputWidgets);\n",
       "</script>\n",
       "    <script>\n",
       "        window.interactLoadedFlag = true\n",
       "       $(\"#interact-js-shim\").bind(\"destroyed\", function () {\n",
       "           if (window.interactLoadedFlag) {\n",
       "               console.warn(\"JavaScript required by Interact will be removed if you remove this cell or run using Interact more than once.\")\n",
       "           }\n",
       "       })\n",
       "       $([IPython.events]).on(\"kernel_starting.Kernel kernel_restarting.Kernel\", function () { window.interactLoadedFlag = false })\n",
       "   </script>\n",
       "</div>"
      ]
     },
     "metadata": {},
     "output_type": "display_data"
    },
    {
     "data": {
      "text/html": [],
      "text/plain": [
       "Interact.Slider{Int64}(Signal{Int64}(20, nactions=0),\"k\",20,10:30,true)"
      ]
     },
     "metadata": {},
     "output_type": "display_data"
    },
    {
     "data": {
      "text/html": [],
      "text/plain": [
       "Interact.Slider{Int64}(Signal{Int64}(20, nactions=0),\"n\",20,10:30,true)"
      ]
     },
     "metadata": {},
     "output_type": "display_data"
    },
    {
     "data": {
      "image/png": "[encoded data removed]",
      "text/plain": [
       "Winston.FramedPlot(...)"
      ]
     },
     "execution_count": 54,
     "metadata": {
      "comm_id": "42eced81-95aa-42a8-ae0a-28a946c4f3e1",
      "reactive": true
     },
     "output_type": "execute_result"
    }
   ],
   "source": [
    "# Now the interactive part\n",
    "using Interact\n",
    "@manipulate for k=10:30, n=10:30\n",
    "    E=Array(Any,n,k)\n",
    "    for i=1:k\n",
    "        A=randn(n,n)\n",
    "        A=triu(A)+triu(A,1)'\n",
    "        E[:,i]=eigvals(A)\n",
    "    end\n",
    "    # We need this for plot to work\n",
    "    E=map(eltype(E[1,1]),E)\n",
    "    Winston.plot(E,\"*\")\n",
    "end"
   ]
  },
  {
   "cell_type": "markdown",
   "metadata": {},
   "source": [
    "_Mathematics is about spotting patterns_ (Alan Edelman)"
   ]
  },
  {
   "cell_type": "code",
   "execution_count": null,
   "metadata": {
    "collapsed": true
   },
   "outputs": [],
   "source": []
  }
 ],
 "metadata": {
  "kernelspec": {
   "display_name": "Julia 0.4.5",
   "language": "julia",
   "name": "julia-0.4"
  },
  "language_info": {
   "file_extension": ".jl",
   "mimetype": "application/julia",
   "name": "julia",
   "version": "0.4.5"
  }
 },
 "nbformat": 4,
 "nbformat_minor": 0
}
