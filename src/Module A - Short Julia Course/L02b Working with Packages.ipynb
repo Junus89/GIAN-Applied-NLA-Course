{
 "cells": [
  {
   "cell_type": "markdown",
   "metadata": {},
   "source": [
    "# Working with Packages\n",
    "\n",
    "---\n",
    "\n",
    "Starting Julia loads Julia kernel and `Base` module. The `Base` (core) is kept small and all other functionality is accessible through packages which need to be individually included by the user.\n",
    "\n",
    "Currently there are __1300+__ registered packages listed at \n",
    "[Julia Package Listing](http://pkg.julialang.org/).\n",
    "\n",
    "In this notebook, we demonstrate how to use packages.\n",
    "\n",
    "## Prerequisites\n",
    "\n",
    "Read section [Packages](https://docs.julialang.org/en/stable/manual/packages/) of the Julia manual (15 min). \n",
    "\n",
    "\n",
    "## Competences \n",
    "\n",
    "The reader should be able to install and use registered and unregistered packages and create own packages.\n",
    "\n",
    "\n",
    "## Credits \n",
    "\n",
    "Some examples are taken from [The Julia Manual](http://julia.readthedocs.org/en/latest/manual/).\n",
    "\n",
    "---"
   ]
  },
  {
   "cell_type": "markdown",
   "metadata": {},
   "source": [
    "## `Pkg.status()`"
   ]
  },
  {
   "cell_type": "code",
   "execution_count": 1,
   "metadata": {
    "collapsed": false
   },
   "outputs": [
    {
     "data": {
      "text/markdown": [
       "```\n",
       "status()\n",
       "```\n",
       "\n",
       "Prints out a summary of what packages are installed and what version and state they're in.\n"
      ],
      "text/plain": [
       "```\n",
       "status()\n",
       "```\n",
       "\n",
       "Prints out a summary of what packages are installed and what version and state they're in.\n"
      ]
     },
     "execution_count": 1,
     "metadata": {},
     "output_type": "execute_result"
    }
   ],
   "source": [
    "?Pkg.status()"
   ]
  },
  {
   "cell_type": "code",
   "execution_count": 2,
   "metadata": {
    "collapsed": false,
    "scrolled": true
   },
   "outputs": [
    {
     "name": "stdout",
     "output_type": "stream",
     "text": [
      "18 required packages:\n",
      " - Arrowhead                     0.0.1+             master\n",
      " - Clp                           0.3.0\n",
      " - Clustering                    0.7.0\n",
      " - DataFrames                    0.9.0\n",
      " - Gadfly                        0.6.0\n",
      " - Graphs                        0.7.1\n",
      " - IJulia                        1.4.1\n",
      " - IJuliaPortrayals              0.0.4              76632d2b (dirty)\n",
      " - ImageMagick                   0.2.3\n",
      " - Images                        0.9.1\n",
      " - Interact                      0.4.3\n",
      " - PyPlot                        2.3.1\n",
      " - Quaternions                   0.1.1\n",
      " - SpecialMatrices               0.1.3+             master\n",
      " - SymPy                         0.5.1\n",
      " - TestImages                    0.2.0\n",
      " - Wavelets                      0.6.1\n",
      " - Winston                       0.12.1             8b5e10e1 (dirty)\n",
      "97 additional packages:\n",
      " - AxisAlgorithms                0.1.6\n",
      " - AxisArrays                    0.1.2\n",
      " - BaseTestNext                  0.2.2\n",
      " - BinDeps                       0.4.7\n",
      " - BufferedStreams               0.3.2\n",
      " - Cairo                         0.3.0\n",
      " - Calculus                      0.2.2\n",
      " - CatIndices                    0.0.2\n",
      " - Cbc                           0.3.1\n",
      " - ColorTypes                    0.4.0\n",
      " - ColorVectorSpace              0.4.1\n",
      " - Colors                        0.7.3\n",
      " - Compat                        0.22.0\n",
      " - Compose                       0.4.5\n",
      " - ComputationalResources        0.0.2\n",
      " - Conda                         0.5.3\n",
      " - Contour                       0.2.0\n",
      " - CoordinateTransformations     0.4.0\n",
      " - CustomUnitRanges              0.0.4\n",
      " - DataArrays                    0.3.12\n",
      " - DataStructures                0.5.3\n",
      " - Dates                         0.4.4\n",
      " - DiffBase                      0.1.0\n",
      " - Distances                     0.4.1\n",
      " - Distributions                 0.12.2\n",
      " - DoubleDouble                  0.2.0\n",
      " - DualNumbers                   0.3.0\n",
      " - FFTViews                      0.0.2\n",
      " - FileIO                        0.3.1\n",
      " - FixedPointNumbers             0.3.6\n",
      " - FixedSizeArrays               0.2.5\n",
      " - ForwardDiff                   0.4.1\n",
      " - GZip                          0.3.0\n",
      " - Graphics                      0.2.0\n",
      " - Hexagons                      0.1.0\n",
      " - Hiccup                        0.1.1\n",
      " - ImageAxes                     0.2.1\n",
      " - ImageCore                     0.2.1\n",
      " - ImageFiltering                0.1.4\n",
      " - ImageMetadata                 0.2.3\n",
      " - ImageTransformations          0.1.0\n",
      " - IncrementalSVD                0.0.0-             master (unregistered)\n",
      " - IndirectArrays                0.1.1\n",
      " - IniFile                       0.3.1\n",
      " - Interpolations                0.3.8\n",
      " - IntervalSets                  0.0.5\n",
      " - Iterators                     0.3.0\n",
      " - JSON                          0.8.3\n",
      " - Juno                          0.2.7\n",
      " - KernelDensity                 0.3.2\n",
      " - LaTeXStrings                  0.2.1\n",
      " - LibExpat                      0.2.5\n",
      " - Libz                          0.2.4\n",
      " - LineSearches                  0.1.5\n",
      " - Loess                         0.1.0\n",
      " - MacroTools                    0.3.6\n",
      " - MappedArrays                  0.0.7\n",
      " - MathProgBase                  0.6.4\n",
      " - MatrixDepot                   0.5.6\n",
      " - Measures                      0.1.0\n",
      " - Media                         0.2.6\n",
      " - NaNMath                       0.2.4\n",
      " - NearestNeighbors              0.2.0\n",
      " - Nettle                        0.3.0\n",
      " - OffsetArrays                  0.2.14\n",
      " - Optim                         0.7.8\n",
      " - PDMats                        0.5.6\n",
      " - Polynomials                   0.1.5\n",
      " - PositiveFactorizations        0.0.4\n",
      " - ProgressMeter                 0.3.4\n",
      " - PyCall                        1.11.1\n",
      " - QuadGK                        0.1.2\n",
      " - RangeArrays                   0.1.2\n",
      " - Ratios                        0.0.4\n",
      " - Reactive                      0.3.7\n",
      " - RecipesBase                   0.1.0\n",
      " - Reexport                      0.0.3\n",
      " - Rmath                         0.1.6\n",
      " - Rotations                     0.3.5\n",
      " - SHA                           0.3.2\n",
      " - SIUnits                       0.1.0\n",
      " - ShowItLikeYouBuildIt          0.0.1\n",
      " - Showoff                       0.1.0\n",
      " - SimpleTraits                  0.4.0\n",
      " - SortingAlgorithms             0.1.1\n",
      " - SpecialFunctions              0.1.1\n",
      " - StaticArrays                  0.3.0\n",
      " - StatsBase                     0.13.1\n",
      " - StatsFuns                     0.5.0\n",
      " - TexExtensions                 0.0.3\n",
      " - TiledIteration                0.0.2\n",
      " - Tk                            0.5.2\n",
      " - URIParser                     0.1.8\n",
      " - WinRPM                        0.2.3\n",
      " - WoodburyMatrices              0.2.2\n",
      " - ZMQ                           0.4.2\n",
      " - ZipFile                       0.3.0\n"
     ]
    }
   ],
   "source": [
    "Pkg.status() # This is slow due to communication with GitHub"
   ]
  },
  {
   "cell_type": "markdown",
   "metadata": {
    "collapsed": false
   },
   "source": [
    "## `Pkg.add()`\n",
    "\n",
    "This command adds registered package from [Julia Package Listing](http://pkg.julialang.org/).\n",
    "Adding the package downloads the package source code (and all other required packages) to your `.julia/v0.5/` directory.\n",
    "\n",
    "GitHub repository names of registered Julia packages always end with the extension `.jl`, which is ommited in `Pkg.add()` command. The example below installs the package from the GitHub repository https://github.com/JuliaLang/Graphs.jl.\n",
    "\n",
    "N.B. There are other registered packages dealing with graphs, please check them out."
   ]
  },
  {
   "cell_type": "code",
   "execution_count": 2,
   "metadata": {
    "collapsed": false
   },
   "outputs": [
    {
     "data": {
      "text/markdown": [
       "```\n",
       "add(pkg, vers...)\n",
       "```\n",
       "\n",
       "Add a requirement entry for `pkg` to `Pkg.dir(\"REQUIRE\")` and call `Pkg.resolve()`. If `vers` are given, they must be `VersionNumber` objects and they specify acceptable version intervals for `pkg`.\n"
      ],
      "text/plain": [
       "```\n",
       "add(pkg, vers...)\n",
       "```\n",
       "\n",
       "Add a requirement entry for `pkg` to `Pkg.dir(\"REQUIRE\")` and call `Pkg.resolve()`. If `vers` are given, they must be `VersionNumber` objects and they specify acceptable version intervals for `pkg`.\n"
      ]
     },
     "execution_count": 2,
     "metadata": {},
     "output_type": "execute_result"
    }
   ],
   "source": [
    "?Pkg.add"
   ]
  },
  {
   "cell_type": "code",
   "execution_count": 3,
   "metadata": {
    "collapsed": false
   },
   "outputs": [],
   "source": [
    "# Pkg.add(\"Graphs\")"
   ]
  },
  {
   "cell_type": "code",
   "execution_count": 4,
   "metadata": {
    "collapsed": false
   },
   "outputs": [
    {
     "data": {
      "text/plain": [
       "125-element Array{String,1}:\n",
       " \".cache\"          \n",
       " \".trash\"          \n",
       " \"Arrowhead\"       \n",
       " \"AxisAlgorithms\"  \n",
       " \"AxisArrays\"      \n",
       " \"BaseTestNext\"    \n",
       " \"BinDeps\"         \n",
       " \"BufferedStreams\" \n",
       " \"Cairo\"           \n",
       " \"Calculus\"        \n",
       " \"CatIndices\"      \n",
       " \"Cbc\"             \n",
       " \"Clp\"             \n",
       " ⋮                 \n",
       " \"SymPy\"           \n",
       " \"TestImages\"      \n",
       " \"TexExtensions\"   \n",
       " \"TiledIteration\"  \n",
       " \"Tk\"              \n",
       " \"URIParser\"       \n",
       " \"Wavelets\"        \n",
       " \"WinRPM\"          \n",
       " \"Winston\"         \n",
       " \"WoodburyMatrices\"\n",
       " \"ZipFile\"         \n",
       " \"ZMQ\"             "
      ]
     },
     "execution_count": 4,
     "metadata": {},
     "output_type": "execute_result"
    }
   ],
   "source": [
    "a=readdir(\"/Users/Ivan/.julia/v0.5\") # This is Julia's default display"
   ]
  },
  {
   "cell_type": "code",
   "execution_count": 5,
   "metadata": {
    "collapsed": false
   },
   "outputs": [
    {
     "name": "stdout",
     "output_type": "stream",
     "text": [
      "String[\".cache\",\".trash\",\"Arrowhead\",\"AxisAlgorithms\",\"AxisArrays\",\"BaseTestNext\",\"BinDeps\",\"BufferedStreams\",\"Cairo\",\"Calculus\",\"CatIndices\",\"Cbc\",\"Clp\",\"Clustering\",\"Colors\",\"ColorTypes\",\"ColorVectorSpace\",\"Compat\",\"Compose\",\"ComputationalResources\",\"Conda\",\"Contour\",\"CoordinateTransformations\",\"CustomUnitRanges\",\"DataArrays\",\"DataFrames\",\"DataStructures\",\"Dates\",\"DiffBase\",\"Distances\",\"Distributions\",\"DoubleDouble\",\"DualNumbers\",\"FFTViews\",\"FileIO\",\"FixedPointNumbers\",\"FixedSizeArrays\",\"ForwardDiff\",\"Gadfly\",\"Graphics\",\"Graphs\",\"Gtk\",\"GtkReactive\",\"GZip\",\"Hexagons\",\"Hiccup\",\"IJulia\",\"IJuliaPortrayals\",\"ImageAxes\",\"ImageCore\",\"ImageFiltering\",\"ImageMagick\",\"ImageMetadata\",\"Images\",\"ImageTransformations\",\"IncrementalSVD\",\"IndirectArrays\",\"IniFile\",\"Interact\",\"Interpolations\",\"IntervalSets\",\"Iterators\",\"JSON\",\"Juno\",\"KernelDensity\",\"LaTeXStrings\",\"LibExpat\",\"Libz\",\"LinearAlgebra\",\"LineSearches\",\"Loess\",\"MacroTools\",\"MappedArrays\",\"MathProgBase\",\"MatrixDepot\",\"Measures\",\"Media\",\"METADATA\",\"META_BRANCH\",\"NaNMath\",\"NearestNeighbors\",\"Nettle\",\"OffsetArrays\",\"Optim\",\"PDMats\",\"Polynomials\",\"PositiveFactorizations\",\"ProfileView\",\"ProgressMeter\",\"PyCall\",\"PyPlot\",\"QuadGK\",\"Quaternions\",\"RangeArrays\",\"Ratios\",\"Reactive\",\"RecipesBase\",\"Reexport\",\"REQUIRE\",\"Rmath\",\"Rotations\",\"RoundingIntegers\",\"SHA\",\"ShowItLikeYouBuildIt\",\"Showoff\",\"SimpleTraits\",\"SIUnits\",\"SortingAlgorithms\",\"SpecialFunctions\",\"SpecialMatrices\",\"StaticArrays\",\"StatsBase\",\"StatsFuns\",\"SymPy\",\"TestImages\",\"TexExtensions\",\"TiledIteration\",\"Tk\",\"URIParser\",\"Wavelets\",\"WinRPM\",\"Winston\",\"WoodburyMatrices\",\"ZipFile\",\"ZMQ\"]\n"
     ]
    }
   ],
   "source": [
    "println(a)"
   ]
  },
  {
   "cell_type": "markdown",
   "metadata": {},
   "source": [
    "## <a name=\"contents\"></a> Contents of a package\n",
    "\n",
    "We now have directory `/Users/Ivan/.julia/v0.5/Graphs`. Let us examine its content\n",
    "(this can also be done directly from the GitHub repository  https://github.com/JuliaLang/Graphs.jl).\n",
    "\n",
    "### Files\n",
    "\n",
    "Each package has the following three files:\n",
    "\n",
    "- `REQUIRE` \n",
    "    - may contain the version of Julia needed for the package to run\n",
    "    - must contain all other registered packages that the present package is using (these packages are installed automatically, if not present) and\n",
    "    - may contain the version of those packages. \n",
    "    \n",
    "    \n",
    "    \n",
    "- `README.md` is the Markdown file, which contains the descritption of the package as displayed on the repository's home page.\n",
    "- `LICENSE.md` contains the licensing information.\n",
    "\n",
    "The file `travis.yml`, if present, defines how is the package tested on [Travis-CI](https://travis-ci.org/) after every posted change (via `git push` command). \n",
    "Details on using Travis-CI for Julia projects are at \n",
    "https://docs.travis-ci.com/user/languages/julia. Since testing is done on machines other than yours, with operating systems other than yours, and using Julia version which may differ from yours, this is a great way to correct bugs, and also a way to give users examples of how to run your code.\n",
    "\n",
    "### Directories\n",
    "\n",
    "The `src/` directory contains the actual code of your package.\n",
    "\n",
    "It must contan the file named as the package itself, `src/Graphs.jl` in this case, which containd the following:\n",
    "\n",
    "- `module` line starts the description of the main module, which has the same name as the package,\n",
    "- `using` line(s) lists other registered packages used by the package. These packages are also listed in the `REQUIRE` file.\n",
    "- `import` line lists the other modules and their components which are modified in this module\n",
    "- `export` line lists all component which will be accessible directly in the main namespace. The components which are not exported, can still be used but the full name (including mogule name) must be used\n",
    "- `include()` commands include the source files\n",
    "- `end` concludes the description of the module.\n",
    "\n",
    "If Travis-CI is used, the `test/` directory contains the file `runtests.jl` which is exaceuted during the testing, and, eventually, other files that this file is calling.\n",
    "\n",
    "The `doc/` is optional and is used to store documentation.\n",
    "\n",
    "The `deps/` directory is optional and is used to store dependencies if the package is using software written in other languages. There are many examples which can be checked out."
   ]
  },
  {
   "cell_type": "markdown",
   "metadata": {},
   "source": [
    "## `using` and `import`\n",
    "\n",
    "Package needs to be added only once, prior to the first use.\n",
    "We are now ready to use the package. \n",
    "\n",
    "We have two methods to do so, which differ in\n",
    "their treatment of the namespace:\n",
    "* `using` adds all methods,  constructors etc. from the package into the main namespace, so they can be called directly, like the function `simple_graph(4)` below.\n",
    "* `import` enables us to use all the methods, constructors, etc. from the package, but they are not included in the namespace, so they must be called together with the package name,\n",
    "`Graphs.simple_graph(4)`.\n",
    "\n",
    "N.B. `import` can also be used on a particular function(s), as we shall explain later."
   ]
  },
  {
   "cell_type": "code",
   "execution_count": 8,
   "metadata": {
    "collapsed": false
   },
   "outputs": [],
   "source": [
    "using Graphs"
   ]
  },
  {
   "cell_type": "code",
   "execution_count": 9,
   "metadata": {
    "collapsed": false,
    "scrolled": true
   },
   "outputs": [
    {
     "name": "stdout",
     "output_type": "stream",
     "text": [
      "             @graph_implements      0 bytes  Graphs.#@graph_implements\n",
      "               @graph_requires      0 bytes  Graphs.#@graph_requires\n",
      "       AbstractDijkstraVisitor     92 bytes  DataType\n",
      " AbstractEdgePropertyInspector    148 bytes  DataType\n",
      "                 AbstractGraph    188 bytes  DataType\n",
      "          AbstractGraphVisitor     92 bytes  DataType\n",
      "            AbstractMASVisitor     92 bytes  DataType\n",
      "           AbstractPrimVisitor     92 bytes  DataType\n",
      "                 AdjacencyList     80 bytes  TypeConstructor\n",
      "                 AttributeDict    212 bytes  DataType\n",
      "AttributeEdgePropertyInspector    168 bytes  DataType\n",
      "             BellmanFordStates    232 bytes  DataType\n",
      "                  BreadthFirst     92 bytes  DataType\n",
      " ConstantEdgePropertyInspector    168 bytes  DataType\n",
      "                    DepthFirst     92 bytes  DataType\n",
      "                DijkstraStates    348 bytes  DataType\n",
      "                          Edge    192 bytes  DataType\n",
      "                      EdgeList    120 bytes  TypeConstructor\n",
      "                        ExEdge    204 bytes  DataType\n",
      "                      ExVertex    136 bytes  DataType\n",
      "          GenericAdjacencyList    284 bytes  DataType\n",
      "               GenericEdgeList    312 bytes  DataType\n",
      "                  GenericGraph    388 bytes  DataType\n",
      "          GenericIncidenceList    324 bytes  DataType\n",
      "                         Graph    120 bytes  TypeConstructor\n",
      "                        Graphs   5545 KB     Module\n",
      "                 IncidenceDict    120 bytes  TypeConstructor\n",
      "                 IncidenceList    120 bytes  TypeConstructor\n",
      "                     KeyVertex    180 bytes  DataType\n",
      "               LogGraphVisitor    168 bytes  DataType\n",
      "              MaximumAdjacency     92 bytes  DataType\n",
      "            NegativeCycleError     92 bytes  DataType\n",
      "                    PrimStates    336 bytes  DataType\n",
      "           SimpleAdjacencyList    172 bytes  DataType\n",
      "                   SimpleGraph    212 bytes  DataType\n",
      "           SimpleIncidenceList    180 bytes  DataType\n",
      "           TrivialGraphVisitor     92 bytes  DataType\n",
      "   VectorEdgePropertyInspector    168 bytes  DataType\n",
      "                  WeightedEdge    220 bytes  DataType\n",
      "                     add_edge!      0 bytes  Graphs.#add_edge!\n",
      "                   add_vertex!      0 bytes  Graphs.#add_vertex!\n",
      "              adjacency_matrix      0 bytes  Graphs.#adjacency_matrix\n",
      "       adjacency_matrix_sparse      0 bytes  Graphs.#adjacency_matrix_sparse\n",
      "                       adjlist      0 bytes  Graphs.#adjlist\n",
      "                    attributes      0 bytes  Graphs.#attributes\n",
      "   bellman_ford_shortest_paths      0 bytes  Graphs.#bellman_ford_shortest_paths\n",
      "  bellman_ford_shortest_paths!      0 bytes  Graphs.#bellman_ford_shortest_path…\n",
      "                 close_vertex!      0 bytes  Graphs.#close_vertex!\n",
      "                 collect_edges      0 bytes  Graphs.#collect_edges\n",
      "        collect_weighted_edges      0 bytes  Graphs.#collect_weighted_edges\n",
      "          connected_components      0 bytes  Graphs.#connected_components\n",
      "    create_bellman_ford_states      0 bytes  Graphs.#create_bellman_ford_states\n",
      "        create_dijkstra_states      0 bytes  Graphs.#create_dijkstra_states\n",
      "            create_prim_states      0 bytes  Graphs.#create_prim_states\n",
      "       dijkstra_shortest_paths      0 bytes  Graphs.#dijkstra_shortest_paths\n",
      "      dijkstra_shortest_paths!      0 bytes  Graphs.#dijkstra_shortest_paths!\n",
      "dijkstra_shortest_paths_withlog      0 bytes  Graphs.#dijkstra_shortest_paths_w…\n",
      "              discover_vertex!      0 bytes  Graphs.#discover_vertex!\n",
      "               distance_matrix      0 bytes  Graphs.#distance_matrix\n",
      "                    edge_index      0 bytes  Graphs.#edge_index\n",
      "                 edge_property      0 bytes  Graphs.#edge_property\n",
      "     edge_property_requirement      0 bytes  Graphs.#edge_property_requirement\n",
      "                     edge_type      0 bytes  Graphs.#edge_type\n",
      "                      edgelist      0 bytes  Graphs.#edgelist\n",
      "                         edges      0 bytes  Graphs.#edges\n",
      "             enumerate_indices      0 bytes  Graphs.#enumerate_indices\n",
      "               enumerate_paths      0 bytes  Graphs.#enumerate_paths\n",
      "             erdos_renyi_graph      0 bytes  Graphs.#erdos_renyi_graph\n",
      "                 examine_edge!      0 bytes  Graphs.#examine_edge!\n",
      "             examine_neighbor!      0 bytes  Graphs.#examine_neighbor!\n",
      "                floyd_warshall      0 bytes  Graphs.#floyd_warshall\n",
      "               floyd_warshall!      0 bytes  Graphs.#floyd_warshall!\n",
      "                    gdistances      0 bytes  Graphs.#gdistances\n",
      "                   gdistances!      0 bytes  Graphs.#gdistances!\n",
      "                         graph      0 bytes  Graphs.#graph\n",
      "       has_negative_edge_cycle      0 bytes  Graphs.#has_negative_edge_cycle\n",
      "     implements_adjacency_list      0 bytes  Graphs.#implements_adjacency_list\n",
      "   implements_adjacency_matrix      0 bytes  Graphs.#implements_adjacency_matrix\n",
      "implements_bidirectional_adjacency_list      0 bytes  Graphs.#implements_bidire…\n",
      "implements_bidirectional_incidence_list      0 bytes  Graphs.#implements_bidire…\n",
      "          implements_edge_list      0 bytes  Graphs.#implements_edge_list\n",
      "           implements_edge_map      0 bytes  Graphs.#implements_edge_map\n",
      "     implements_incidence_list      0 bytes  Graphs.#implements_incidence_list\n",
      "        implements_vertex_list      0 bytes  Graphs.#implements_vertex_list\n",
      "         implements_vertex_map      0 bytes  Graphs.#implements_vertex_map\n",
      "                     in_degree      0 bytes  Graphs.#in_degree\n",
      "                      in_edges      0 bytes  Graphs.#in_edges\n",
      "                  in_neighbors      0 bytes  Graphs.#in_neighbors\n",
      "                       incdict      0 bytes  Graphs.#incdict\n",
      "                       inclist      0 bytes  Graphs.#inclist\n",
      "                   is_directed      0 bytes  Graphs.#is_directed\n",
      "      kruskal_minimum_spantree      0 bytes  Graphs.#kruskal_minimum_spantree\n",
      "                kruskal_select      0 bytes  Graphs.#kruskal_select\n",
      "              laplacian_matrix      0 bytes  Graphs.#laplacian_matrix\n",
      "       laplacian_matrix_sparse      0 bytes  Graphs.#laplacian_matrix_sparse\n",
      "                     make_edge      0 bytes  Graphs.#make_edge\n",
      "                   make_vertex      0 bytes  Graphs.#make_vertex\n",
      "               maximal_cliques      0 bytes  Graphs.#maximal_cliques\n",
      "       maximum_adjacency_visit      0 bytes  Graphs.#maximum_adjacency_visit\n",
      "                       min_cut      0 bytes  Graphs.#min_cut\n",
      "          moebius_kantor_graph      0 bytes  Graphs.#moebius_kantor_graph\n",
      "                     num_edges      0 bytes  Graphs.#num_edges\n",
      "                  num_vertices      0 bytes  Graphs.#num_vertices\n",
      "                  open_vertex!      0 bytes  Graphs.#open_vertex!\n",
      "                    out_degree      0 bytes  Graphs.#out_degree\n",
      "                     out_edges      0 bytes  Graphs.#out_edges\n",
      "                 out_neighbors      0 bytes  Graphs.#out_neighbors\n",
      "                          plot      0 bytes  Graphs.#plot\n",
      "         prim_minimum_spantree      0 bytes  Graphs.#prim_minimum_spantree\n",
      "        prim_minimum_spantree!      0 bytes  Graphs.#prim_minimum_spantree!\n",
      " prim_minimum_spantree_withlog      0 bytes  Graphs.#prim_minimum_spantree_with…\n",
      "                       revedge      0 bytes  Graphs.#revedge\n",
      "                 shortest_path      0 bytes  Graphs.AStar.#shortest_path\n",
      "                simple_adjlist      0 bytes  Graphs.#simple_adjlist\n",
      "             simple_bull_graph      0 bytes  Graphs.#simple_bull_graph\n",
      "          simple_chvatal_graph      0 bytes  Graphs.#simple_chvatal_graph\n",
      "         simple_complete_graph      0 bytes  Graphs.#simple_complete_graph\n",
      "          simple_cubical_graph      0 bytes  Graphs.#simple_cubical_graph\n",
      "        simple_desargues_graph      0 bytes  Graphs.#simple_desargues_graph\n",
      "          simple_diamond_graph      0 bytes  Graphs.#simple_diamond_graph\n",
      "     simple_dodecahedral_graph      0 bytes  Graphs.#simple_dodecahedral_graph\n",
      "               simple_edgelist      0 bytes  Graphs.#simple_edgelist\n",
      "           simple_frucht_graph      0 bytes  Graphs.#simple_frucht_graph\n",
      "                  simple_graph      0 bytes  Graphs.#simple_graph\n",
      "          simple_heawood_graph      0 bytes  Graphs.#simple_heawood_graph\n",
      "            simple_house_graph      0 bytes  Graphs.#simple_house_graph\n",
      "          simple_house_x_graph      0 bytes  Graphs.#simple_house_x_graph\n",
      "      simple_icosahedral_graph      0 bytes  Graphs.#simple_icosahedral_graph\n",
      "                simple_inclist      0 bytes  Graphs.#simple_inclist\n",
      "  simple_krackhardt_kite_graph      0 bytes  Graphs.#simple_krackhardt_kite_gra…\n",
      "       simple_octahedral_graph      0 bytes  Graphs.#simple_octahedral_graph\n",
      "           simple_pappus_graph      0 bytes  Graphs.#simple_pappus_graph\n",
      "             simple_path_graph      0 bytes  Graphs.#simple_path_graph\n",
      "         simple_petersen_graph      0 bytes  Graphs.#simple_petersen_graph\n",
      "   simple_sedgewick_maze_graph      0 bytes  Graphs.#simple_sedgewick_maze_graph\n",
      "             simple_star_graph      0 bytes  Graphs.#simple_star_graph\n",
      "      simple_tetrahedral_graph      0 bytes  Graphs.#simple_tetrahedral_graph\n",
      "   simple_truncated_cube_graph      0 bytes  Graphs.#simple_truncated_cube_graph\n",
      "simple_truncated_tetrahedron_graph      0 bytes  Graphs.#simple_truncated_tetra…\n",
      "            simple_tutte_graph      0 bytes  Graphs.#simple_tutte_graph\n",
      "            simple_wheel_graph      0 bytes  Graphs.#simple_wheel_graph\n",
      "                        source      0 bytes  Graphs.#source\n",
      "          sparse2adjacencylist      0 bytes  Graphs.#sparse2adjacencylist\n",
      " strongly_connected_components      0 bytes  Graphs.#strongly_connected_compone…\n",
      "                        target      0 bytes  Graphs.#target\n",
      "            test_cyclic_by_dfs      0 bytes  Graphs.#test_cyclic_by_dfs\n",
      "                        to_dot      0 bytes  Graphs.#to_dot\n",
      "       topological_sort_by_dfs      0 bytes  Graphs.#topological_sort_by_dfs\n",
      "                traverse_graph      0 bytes  Graphs.#traverse_graph\n",
      "        traverse_graph_withlog      0 bytes  Graphs.#traverse_graph_withlog\n",
      "                  vertex_index      0 bytes  Graphs.#vertex_index\n",
      "                   vertex_type      0 bytes  Graphs.#vertex_type\n",
      "                      vertices      0 bytes  Graphs.#vertices\n",
      "              visited_vertices      0 bytes  Graphs.#visited_vertices\n",
      "          watts_strogatz_graph      0 bytes  Graphs.#watts_strogatz_graph\n",
      "                 weight_matrix      0 bytes  Graphs.#weight_matrix\n",
      "          weight_matrix_sparse      0 bytes  Graphs.#weight_matrix_sparse\n"
     ]
    }
   ],
   "source": [
    "whos(Graphs)"
   ]
  },
  {
   "cell_type": "markdown",
   "metadata": {
    "collapsed": false
   },
   "source": [
    "### Example\n",
    "\n",
    "Let us construct the famous graph of the [Seven Bridges of Königsberg](https://en.wikipedia.org/wiki/Seven_Bridges_of_K%C3%B6nigsberg), plot it, and compute the number of _different_ walks which cross 3 bridges between the north side and the center island. Can you enumerate the walks?\n",
    "\n",
    "For the `plot(g)` to work, [GraphViz](http://www.graphviz.org/) must be installed.\n",
    "\n",
    "In Windows, this in not enough, and we must use the package [IJuliaPortrayals](https://github.com/jbn/IJuliaPortrayals.jl) \n",
    "(with line 263 changed from `gv_process.exitcode == 0` to `gv_process.exitcode != 0` - a bug!).\n",
    "\n",
    "N.B. `IJuliaPortrayals` can be used to include various media, see the demo of the package."
   ]
  },
  {
   "cell_type": "code",
   "execution_count": 10,
   "metadata": {
    "collapsed": false
   },
   "outputs": [
    {
     "data": {
      "text/plain": [
       "Undirected Graph (4 vertices, 0 edges)"
      ]
     },
     "execution_count": 10,
     "metadata": {},
     "output_type": "execute_result"
    }
   ],
   "source": [
    "g=simple_graph(4,is_directed=false)"
   ]
  },
  {
   "cell_type": "code",
   "execution_count": 11,
   "metadata": {
    "collapsed": false
   },
   "outputs": [
    {
     "data": {
      "text/plain": [
       "Undirected Graph (4 vertices, 7 edges)"
      ]
     },
     "execution_count": 11,
     "metadata": {},
     "output_type": "execute_result"
    }
   ],
   "source": [
    "add_edge!(g,1,2)\n",
    "add_edge!(g,1,2)\n",
    "add_edge!(g,1,3)\n",
    "add_edge!(g,1,3)\n",
    "add_edge!(g,1,4)\n",
    "add_edge!(g,2,4)\n",
    "add_edge!(g,3,4)\n",
    "g"
   ]
  },
  {
   "cell_type": "code",
   "execution_count": 13,
   "metadata": {
    "collapsed": false
   },
   "outputs": [],
   "source": [
    "# Pkg.add(\"IJuliaPortrayals\")\n",
    "using IJuliaPortrayals"
   ]
  },
  {
   "cell_type": "code",
   "execution_count": 15,
   "metadata": {
    "collapsed": false,
    "scrolled": true
   },
   "outputs": [
    {
     "data": {
      "text/html": [
       "<?xml version=\"1.0\" encoding=\"UTF-8\" standalone=\"no\"?>\r\n",
       "<!DOCTYPE svg PUBLIC \"-//W3C//DTD SVG 1.1//EN\"\r\n",
       " \"http://www.w3.org/Graphics/SVG/1.1/DTD/svg11.dtd\">\r\n",
       "<!-- Generated by graphviz version 2.38.0 (20140413.2041)\r\n",
       " -->\r\n",
       "<!-- Title: graphname Pages: 1 -->\r\n",
       "<svg width=\"159pt\" height=\"131pt\"\r\n",
       " viewBox=\"0.00 0.00 158.90 130.91\" xmlns=\"http://www.w3.org/2000/svg\" xmlns:xlink=\"http://www.w3.org/1999/xlink\">\r\n",
       "<g id=\"graph0\" class=\"graph\" transform=\"scale(1 1) rotate(0) translate(79.4216 65.4848)\">\r\n",
       "<title>graphname</title>\r\n",
       "<polygon fill=\"white\" stroke=\"none\" points=\"-79.4216,65.4246 -79.4216,-65.4848 79.4743,-65.4848 79.4743,65.4246 -79.4216,65.4246\"/>\r\n",
       "<!-- 1 -->\r\n",
       "<g id=\"node1\" class=\"node\"><title>1</title>\r\n",
       "<ellipse fill=\"none\" stroke=\"black\" cx=\"-23.4598\" cy=\"26.1563\" rx=\"27\" ry=\"18\"/>\r\n",
       "<text text-anchor=\"middle\" x=\"-23.4598\" y=\"29.8563\" font-family=\"Times New Roman,serif\" font-size=\"14.00\">1</text>\r\n",
       "</g>\r\n",
       "<!-- 2 -->\r\n",
       "<g id=\"node2\" class=\"node\"><title>2</title>\r\n",
       "<ellipse fill=\"none\" stroke=\"black\" cx=\"-48.4216\" cy=\"-43.4848\" rx=\"27\" ry=\"18\"/>\r\n",
       "<text text-anchor=\"middle\" x=\"-48.4216\" y=\"-39.7848\" font-family=\"Times New Roman,serif\" font-size=\"14.00\">2</text>\r\n",
       "</g>\r\n",
       "<!-- 1&#45;&#45;2 -->\r\n",
       "<g id=\"edge1\" class=\"edge\"><title>1&#45;&#45;2</title>\r\n",
       "<path fill=\"none\" stroke=\"black\" d=\"M-35.6882,9.89126C-40.5257,-0.562713 -45.3292,-14.1445 -48.002,-25.0046\"/>\r\n",
       "</g>\r\n",
       "<!-- 1&#45;&#45;2 -->\r\n",
       "<g id=\"edge2\" class=\"edge\"><title>1&#45;&#45;2</title>\r\n",
       "<path fill=\"none\" stroke=\"black\" d=\"M-23.7887,8.04692C-26.4241,-2.79771 -31.2331,-16.4553 -36.0912,-26.999\"/>\r\n",
       "</g>\r\n",
       "<!-- 3 -->\r\n",
       "<g id=\"node3\" class=\"node\"><title>3</title>\r\n",
       "<ellipse fill=\"none\" stroke=\"black\" cx=\"48.4743\" cy=\"43.4246\" rx=\"27\" ry=\"18\"/>\r\n",
       "<text text-anchor=\"middle\" x=\"48.4743\" y=\"47.1246\" font-family=\"Times New Roman,serif\" font-size=\"14.00\">3</text>\r\n",
       "</g>\r\n",
       "<!-- 1&#45;&#45;3 -->\r\n",
       "<g id=\"edge3\" class=\"edge\"><title>1&#45;&#45;3</title>\r\n",
       "<path fill=\"none\" stroke=\"black\" d=\"M3.61954,25.9799C11.465,27.4581 19.9106,29.5453 27.3368,31.8527\"/>\r\n",
       "</g>\r\n",
       "<!-- 1&#45;&#45;3 -->\r\n",
       "<g id=\"edge4\" class=\"edge\"><title>1&#45;&#45;3</title>\r\n",
       "<path fill=\"none\" stroke=\"black\" d=\"M-2.5646,37.6527C4.90171,39.9844 13.4227,42.0964 21.3373,43.5901\"/>\r\n",
       "</g>\r\n",
       "<!-- 4 -->\r\n",
       "<g id=\"node4\" class=\"node\"><title>4</title>\r\n",
       "<ellipse fill=\"none\" stroke=\"black\" cx=\"23.407\" cy=\"-26.0961\" rx=\"27\" ry=\"18\"/>\r\n",
       "<text text-anchor=\"middle\" x=\"23.407\" y=\"-22.3961\" font-family=\"Times New Roman,serif\" font-size=\"14.00\">4</text>\r\n",
       "</g>\r\n",
       "<!-- 1&#45;&#45;4 -->\r\n",
       "<g id=\"edge5\" class=\"edge\"><title>1&#45;&#45;4</title>\r\n",
       "<path fill=\"none\" stroke=\"black\" d=\"M-9.3982,10.4789C-3.4664,3.86542 3.42464,-3.81747 9.35537,-10.4297\"/>\r\n",
       "</g>\r\n",
       "<!-- 2&#45;&#45;4 -->\r\n",
       "<g id=\"edge6\" class=\"edge\"><title>2&#45;&#45;4</title>\r\n",
       "<path fill=\"none\" stroke=\"black\" d=\"M-22.8952,-37.3052C-16.1209,-35.6653 -8.80704,-33.8947 -2.03709,-32.2558\"/>\r\n",
       "</g>\r\n",
       "<!-- 3&#45;&#45;4 -->\r\n",
       "<g id=\"edge7\" class=\"edge\"><title>3&#45;&#45;4</title>\r\n",
       "<path fill=\"none\" stroke=\"black\" d=\"M42.1488,25.8816C38.3778,15.4232 33.6037,2.18296 29.8177,-8.31689\"/>\r\n",
       "</g>\r\n",
       "</g>\r\n",
       "</svg>\r\n"
      ],
      "text/plain": [
       "IJuliaPortrayals.GraphViz(\"graph graphname {\\n1\\n2\\n3\\n4\\n1 -- 2\\n1 -- 2\\n1 -- 3\\n1 -- 3\\n1 -- 4\\n2 -- 4\\n3 -- 4\\n}\\n\",\"neato\",\"svg\")"
      ]
     },
     "execution_count": 15,
     "metadata": {},
     "output_type": "execute_result"
    }
   ],
   "source": [
    "GraphViz(to_dot(g),\"neato\", \"svg\")"
   ]
  },
  {
   "cell_type": "code",
   "execution_count": 16,
   "metadata": {
    "collapsed": false
   },
   "outputs": [
    {
     "data": {
      "text/plain": [
       "4×4 Array{Bool,2}:\n",
       " false   true   true   true\n",
       "  true  false  false   true\n",
       "  true  false  false   true\n",
       "  true   true   true  false"
      ]
     },
     "execution_count": 16,
     "metadata": {},
     "output_type": "execute_result"
    }
   ],
   "source": [
    "a=adjacency_matrix(g) #This is not what we want"
   ]
  },
  {
   "cell_type": "code",
   "execution_count": 17,
   "metadata": {
    "collapsed": false
   },
   "outputs": [
    {
     "data": {
      "text/plain": [
       "7-element Array{Graphs.Edge{Int64},1}:\n",
       " edge [1]: 1 -- 2\n",
       " edge [2]: 1 -- 2\n",
       " edge [3]: 1 -- 3\n",
       " edge [4]: 1 -- 3\n",
       " edge [5]: 1 -- 4\n",
       " edge [6]: 2 -- 4\n",
       " edge [7]: 3 -- 4"
      ]
     },
     "execution_count": 17,
     "metadata": {},
     "output_type": "execute_result"
    }
   ],
   "source": [
    "edges(g) # Lets look at the edges"
   ]
  },
  {
   "cell_type": "code",
   "execution_count": 18,
   "metadata": {
    "collapsed": false
   },
   "outputs": [
    {
     "data": {
      "text/plain": [
       "4×4 Array{Int64,2}:\n",
       " 0  2  2  1\n",
       " 2  0  0  1\n",
       " 2  0  0  1\n",
       " 1  1  1  0"
      ]
     },
     "execution_count": 18,
     "metadata": {},
     "output_type": "execute_result"
    }
   ],
   "source": [
    "# We shall emulate our adjacency matrix with the weight matrix\n",
    "weights=[2,2,2,2,1,1,1]  \n",
    "a=weight_matrix(g,weights)"
   ]
  },
  {
   "cell_type": "code",
   "execution_count": 19,
   "metadata": {
    "collapsed": false
   },
   "outputs": [
    {
     "data": {
      "text/plain": [
       "22"
      ]
     },
     "execution_count": 19,
     "metadata": {},
     "output_type": "execute_result"
    }
   ],
   "source": [
    "no_of_walks=(a^3)[1,2]"
   ]
  },
  {
   "cell_type": "markdown",
   "metadata": {},
   "source": [
    "## Pkg.checkout()\n",
    "\n",
    "The contents of a registered package obtained by the command `Pkg.add(\"Package_name\")` is fixed at the time of registration. \n",
    "\n",
    "The package owner may further develop the package, but those changes are not registered (until the registration of a new version). \n",
    "\n",
    "If you want to use the latest available version, the command `Pkg.checkout(\"Package_name\")` downloads the latest master."
   ]
  },
  {
   "cell_type": "markdown",
   "metadata": {},
   "source": [
    "## Pkg.clone()\n",
    "\n",
    "Adds unregistered packages or repositories. Here the full GitHub address needs to be supplied.\n",
    "As an example, we shall use the package [LinearAlgebra.jl](https://github.com/andreasnoack/LinearAlgebra.jl).\n",
    "\n",
    "N.B. In Julia, the linear algebra routines are incorporated as wrappers of various \n",
    "[LAPACK ](http://www.netlib.org/lapack/). This package contains several routines written directly in Julia.\n",
    "\n",
    "By inspecting the file `src/LinearAlgebra.jl`, we see that nothing is exported so all methods need to be fully specified. We also see that the SVD related stuff may be in the file \n",
    "`src/svd.jl`. There we see that the sub-module `SVDModule` is defined, but with nothing eported, and we must specify the full command `LinearAlgebra.SVDModule.svdvals!()`.\n",
    "\n",
    "We shall compute the singular values of the bidiagonal unity Jordan form with the standard Julia function `svdvals()` and the function from the package."
   ]
  },
  {
   "cell_type": "code",
   "execution_count": 22,
   "metadata": {
    "collapsed": false
   },
   "outputs": [],
   "source": [
    "# Pkg.clone(\"https://github.com/andreasnoack/LinearAlgebra.jl\")"
   ]
  },
  {
   "cell_type": "code",
   "execution_count": 24,
   "metadata": {
    "collapsed": false
   },
   "outputs": [],
   "source": [
    "using LinearAlgebra"
   ]
  },
  {
   "cell_type": "code",
   "execution_count": 25,
   "metadata": {
    "collapsed": false
   },
   "outputs": [
    {
     "name": "stdout",
     "output_type": "stream",
     "text": [
      "                 LinearAlgebra    256 KB     Module\n",
      "                   numnegevals      0 bytes  LinearAlgebra.#numnegevals\n"
     ]
    }
   ],
   "source": [
    "whos(LinearAlgebra) # Not much of an information"
   ]
  },
  {
   "cell_type": "code",
   "execution_count": 26,
   "metadata": {
    "collapsed": false
   },
   "outputs": [
    {
     "name": "stdout",
     "output_type": "stream",
     "text": [
      "                     SVDModule     18 KB     Module\n"
     ]
    }
   ],
   "source": [
    "whos(LinearAlgebra.SVDModule) # Also no information"
   ]
  },
  {
   "cell_type": "code",
   "execution_count": 27,
   "metadata": {
    "collapsed": false
   },
   "outputs": [
    {
     "data": {
      "text/html": [
       "7 methods for generic function <b>svdvals!</b>:<ul><li> svdvals!<i>{T<:Union{Complex{Float32},Complex{Float64},Float32,Float64}}</i>(A::<b>Union{Base.ReshapedArray{T,2,A<:DenseArray,MI<:Tuple{Vararg{Base.MultiplicativeInverses.SignedMultiplicativeInverse{Int64},N<:Any}}},DenseArray{T,2},SubArray{T,2,A<:Union{Base.ReshapedArray{T<:Any,N<:Any,A<:DenseArray,MI<:Tuple{Vararg{Base.MultiplicativeInverses.SignedMultiplicativeInverse{Int64},N<:Any}}},DenseArray},I<:Tuple{Vararg{Union{Base.AbstractCartesianIndex,Colon,Int64,Range{Int64}},N<:Any}},L<:Any}}</b>) at <a href=\"https://github.com/JuliaLang/julia/tree/6445c82d0060dbe82b88436f0f4371a4ee64d918/base/linalg/svd.jl#L80\" target=\"_blank\">linalg\\svd.jl:80</a></li> <li> svdvals!<i>{T<:Union{Complex{Float32},Complex{Float64},Float32,Float64}}</i>(A::<b>Union{Base.ReshapedArray{T,2,A<:DenseArray,MI<:Tuple{Vararg{Base.MultiplicativeInverses.SignedMultiplicativeInverse{Int64},N<:Any}}},DenseArray{T,2},SubArray{T,2,A<:Union{Base.ReshapedArray{T<:Any,N<:Any,A<:DenseArray,MI<:Tuple{Vararg{Base.MultiplicativeInverses.SignedMultiplicativeInverse{Int64},N<:Any}}},DenseArray},I<:Tuple{Vararg{Union{Base.AbstractCartesianIndex,Colon,Int64,Range{Int64}},N<:Any}},L<:Any}}</b>, B::<b>Union{Base.ReshapedArray{T,2,A<:DenseArray,MI<:Tuple{Vararg{Base.MultiplicativeInverses.SignedMultiplicativeInverse{Int64},N<:Any}}},DenseArray{T,2},SubArray{T,2,A<:Union{Base.ReshapedArray{T<:Any,N<:Any,A<:DenseArray,MI<:Tuple{Vararg{Base.MultiplicativeInverses.SignedMultiplicativeInverse{Int64},N<:Any}}},DenseArray},I<:Tuple{Vararg{Union{Base.AbstractCartesianIndex,Colon,Int64,Range{Int64}},N<:Any}},L<:Any}}</b>) at <a href=\"https://github.com/JuliaLang/julia/tree/6445c82d0060dbe82b88436f0f4371a4ee64d918/base/linalg/svd.jl#L219\" target=\"_blank\">linalg\\svd.jl:219</a></li> <li> svdvals!<i>{T<:Real,S}</i>(A::<b>Union{Hermitian{Complex{T},S},Hermitian{T,S},Symmetric{T,S}}</b>) at <a href=\"https://github.com/JuliaLang/julia/tree/6445c82d0060dbe82b88436f0f4371a4ee64d918/base/linalg/symmetric.jl#L236\" target=\"_blank\">linalg\\symmetric.jl:236</a></li> <li> svdvals!<i>{T<:Union{Float32,Float64}}</i>(M::<b>Bidiagonal{T}</b>) at <a href=\"https://github.com/JuliaLang/julia/tree/6445c82d0060dbe82b88436f0f4371a4ee64d918/base/linalg/bidiag.jl#L160\" target=\"_blank\">linalg\\bidiag.jl:160</a></li> <li> svdvals!<i>{T<:Real}</i>(B::<b>Bidiagonal{T}</b>) at <a href=\"https://github.com/andreasnoack/LinearAlgebra.jl/tree/51c18223229c2017266afbb1879ef237ef1b66ca/src/svd.jl#L107\" target=\"_blank\">C:\\Users\\Ivan\\.julia\\v0.5\\LinearAlgebra\\src\\svd.jl:107</a></li> <li> svdvals!<i>{T<:Real}</i>(B::<b>Bidiagonal{T}</b>, tol; <i>debug</i>) at <a href=\"https://github.com/andreasnoack/LinearAlgebra.jl/tree/51c18223229c2017266afbb1879ef237ef1b66ca/src/svd.jl#L107\" target=\"_blank\">C:\\Users\\Ivan\\.julia\\v0.5\\LinearAlgebra\\src\\svd.jl:107</a></li> <li> svdvals!(A::<b>Union{Base.ReshapedArray{T<:Any,2,A<:DenseArray,MI<:Tuple{Vararg{Base.MultiplicativeInverses.SignedMultiplicativeInverse{Int64},N<:Any}}},DenseArray{T<:Any,2},SubArray{T<:Any,2,A<:Union{Base.ReshapedArray{T<:Any,N<:Any,A<:DenseArray,MI<:Tuple{Vararg{Base.MultiplicativeInverses.SignedMultiplicativeInverse{Int64},N<:Any}}},DenseArray},I<:Tuple{Vararg{Union{Base.AbstractCartesianIndex,Colon,Int64,Range{Int64}},N<:Any}},L<:Any}}</b>) at <a href=\"https://github.com/andreasnoack/LinearAlgebra.jl/tree/51c18223229c2017266afbb1879ef237ef1b66ca/src/svd.jl#L288\" target=\"_blank\">C:\\Users\\Ivan\\.julia\\v0.5\\LinearAlgebra\\src\\svd.jl:288</a></li> </ul>"
      ],
      "text/plain": [
       "# 7 methods for generic function \"svdvals!\":\n",
       "svdvals!{T<:Union{Complex{Float32},Complex{Float64},Float32,Float64}}(A::Union{Base.ReshapedArray{T,2,A<:DenseArray,MI<:Tuple{Vararg{Base.MultiplicativeInverses.SignedMultiplicativeInverse{Int64},N<:Any}}},DenseArray{T,2},SubArray{T,2,A<:Union{Base.ReshapedArray{T<:Any,N<:Any,A<:DenseArray,MI<:Tuple{Vararg{Base.MultiplicativeInverses.SignedMultiplicativeInverse{Int64},N<:Any}}},DenseArray},I<:Tuple{Vararg{Union{Base.AbstractCartesianIndex,Colon,Int64,Range{Int64}},N<:Any}},L<:Any}}) at linalg\\svd.jl:80\n",
       "svdvals!{T<:Union{Complex{Float32},Complex{Float64},Float32,Float64}}(A::Union{Base.ReshapedArray{T,2,A<:DenseArray,MI<:Tuple{Vararg{Base.MultiplicativeInverses.SignedMultiplicativeInverse{Int64},N<:Any}}},DenseArray{T,2},SubArray{T,2,A<:Union{Base.ReshapedArray{T<:Any,N<:Any,A<:DenseArray,MI<:Tuple{Vararg{Base.MultiplicativeInverses.SignedMultiplicativeInverse{Int64},N<:Any}}},DenseArray},I<:Tuple{Vararg{Union{Base.AbstractCartesianIndex,Colon,Int64,Range{Int64}},N<:Any}},L<:Any}}, B::Union{Base.ReshapedArray{T,2,A<:DenseArray,MI<:Tuple{Vararg{Base.MultiplicativeInverses.SignedMultiplicativeInverse{Int64},N<:Any}}},DenseArray{T,2},SubArray{T,2,A<:Union{Base.ReshapedArray{T<:Any,N<:Any,A<:DenseArray,MI<:Tuple{Vararg{Base.MultiplicativeInverses.SignedMultiplicativeInverse{Int64},N<:Any}}},DenseArray},I<:Tuple{Vararg{Union{Base.AbstractCartesianIndex,Colon,Int64,Range{Int64}},N<:Any}},L<:Any}}) at linalg\\svd.jl:219\n",
       "svdvals!{T<:Real,S}(A::Union{Hermitian{Complex{T},S},Hermitian{T,S},Symmetric{T,S}}) at linalg\\symmetric.jl:236\n",
       "svdvals!{T<:Union{Float32,Float64}}(M::Bidiagonal{T}) at linalg\\bidiag.jl:160\n",
       "svdvals!{T<:Real}(B::Bidiagonal{T}) at C:\\Users\\Ivan\\.julia\\v0.5\\LinearAlgebra\\src\\svd.jl:107\n",
       "svdvals!{T<:Real}(B::Bidiagonal{T}, tol; debug) at C:\\Users\\Ivan\\.julia\\v0.5\\LinearAlgebra\\src\\svd.jl:107\n",
       "svdvals!(A::Union{Base.ReshapedArray{T<:Any,2,A<:DenseArray,MI<:Tuple{Vararg{Base.MultiplicativeInverses.SignedMultiplicativeInverse{Int64},N<:Any}}},DenseArray{T<:Any,2},SubArray{T<:Any,2,A<:Union{Base.ReshapedArray{T<:Any,N<:Any,A<:DenseArray,MI<:Tuple{Vararg{Base.MultiplicativeInverses.SignedMultiplicativeInverse{Int64},N<:Any}}},DenseArray},I<:Tuple{Vararg{Union{Base.AbstractCartesianIndex,Colon,Int64,Range{Int64}},N<:Any}},L<:Any}}) at C:\\Users\\Ivan\\.julia\\v0.5\\LinearAlgebra\\src\\svd.jl:288"
      ]
     },
     "execution_count": 27,
     "metadata": {},
     "output_type": "execute_result"
    }
   ],
   "source": [
    "methods(LinearAlgebra.SVDModule.svdvals!)"
   ]
  },
  {
   "cell_type": "code",
   "execution_count": 28,
   "metadata": {
    "collapsed": false
   },
   "outputs": [
    {
     "data": {
      "text/html": [
       "6 methods for generic function <b>Type</b>:<ul><li> (::<b>Type{Bidiagonal}</b>)(dv::<b>AbstractArray{T<:Any,1}</b>, ev::<b>AbstractArray{T<:Any,1}</b>) at <a href=\"https://github.com/JuliaLang/julia/tree/6445c82d0060dbe82b88436f0f4371a4ee64d918/base/linalg/bidiag.jl#L33\" target=\"_blank\">linalg\\bidiag.jl:33</a></li> <li> (::<b>Type{Bidiagonal}</b>)<i>{T}</i>(dv::<b>AbstractArray{T,1}</b>, ev::<b>AbstractArray{T,1}</b>, isupper::<b>Bool</b>) at <a href=\"https://github.com/JuliaLang/julia/tree/6445c82d0060dbe82b88436f0f4371a4ee64d918/base/linalg/bidiag.jl#L32\" target=\"_blank\">linalg\\bidiag.jl:32</a></li> <li> (::<b>Type{Bidiagonal}</b>)(dv::<b>AbstractArray{T<:Any,1}</b>, ev::<b>AbstractArray{T<:Any,1}</b>, uplo::<b>Char</b>) at <a href=\"https://github.com/JuliaLang/julia/tree/6445c82d0060dbe82b88436f0f4371a4ee64d918/base/linalg/bidiag.jl#L53\" target=\"_blank\">linalg\\bidiag.jl:53</a></li> <li> (::<b>Type{Bidiagonal}</b>)<i>{Td,Te}</i>(dv::<b>AbstractArray{Td,1}</b>, ev::<b>AbstractArray{Te,1}</b>, isupper::<b>Bool</b>) at <a href=\"https://github.com/JuliaLang/julia/tree/6445c82d0060dbe82b88436f0f4371a4ee64d918/base/linalg/bidiag.jl#L64\" target=\"_blank\">linalg\\bidiag.jl:64</a></li> <li> (::<b>Type{Bidiagonal}</b>)(A::<b>AbstractArray{T<:Any,2}</b>, isupper::<b>Bool</b>) at <a href=\"https://github.com/JuliaLang/julia/tree/6445c82d0060dbe82b88436f0f4371a4ee64d918/base/linalg/bidiag.jl#L82\" target=\"_blank\">linalg\\bidiag.jl:82</a></li> <li> (::<b>Type{T}</b>)<i>{T}</i>(arg) at <a href=\"https://github.com/JuliaLang/julia/tree/6445c82d0060dbe82b88436f0f4371a4ee64d918/base/sysimg.jl#L53\" target=\"_blank\">sysimg.jl:53</a></li> </ul>"
      ],
      "text/plain": [
       "# 6 methods for generic function \"(::Type)\":\n",
       "(::Type{Bidiagonal})(dv::AbstractArray{T<:Any,1}, ev::AbstractArray{T<:Any,1}) at linalg\\bidiag.jl:33\n",
       "(::Type{Bidiagonal}){T}(dv::AbstractArray{T,1}, ev::AbstractArray{T,1}, isupper::Bool) at linalg\\bidiag.jl:32\n",
       "(::Type{Bidiagonal})(dv::AbstractArray{T<:Any,1}, ev::AbstractArray{T<:Any,1}, uplo::Char) at linalg\\bidiag.jl:53\n",
       "(::Type{Bidiagonal}){Td,Te}(dv::AbstractArray{Td,1}, ev::AbstractArray{Te,1}, isupper::Bool) at linalg\\bidiag.jl:64\n",
       "(::Type{Bidiagonal})(A::AbstractArray{T<:Any,2}, isupper::Bool) at linalg\\bidiag.jl:82\n",
       "(::Type{T}){T}(arg) at sysimg.jl:53"
      ]
     },
     "execution_count": 28,
     "metadata": {},
     "output_type": "execute_result"
    }
   ],
   "source": [
    "# We now know how to define bidiagonal matrix\n",
    "methods(Bidiagonal)"
   ]
  },
  {
   "cell_type": "code",
   "execution_count": 29,
   "metadata": {
    "collapsed": false
   },
   "outputs": [
    {
     "data": {
      "text/plain": [
       "70×70 Bidiagonal{Float64}:\n",
       " 0.5  1.0   ⋅    ⋅    ⋅    ⋅    ⋅    ⋅   …   ⋅    ⋅    ⋅    ⋅    ⋅    ⋅    ⋅ \n",
       "  ⋅   0.5  1.0   ⋅    ⋅    ⋅    ⋅    ⋅       ⋅    ⋅    ⋅    ⋅    ⋅    ⋅    ⋅ \n",
       "  ⋅    ⋅   0.5  1.0   ⋅    ⋅    ⋅    ⋅       ⋅    ⋅    ⋅    ⋅    ⋅    ⋅    ⋅ \n",
       "  ⋅    ⋅    ⋅   0.5  1.0   ⋅    ⋅    ⋅       ⋅    ⋅    ⋅    ⋅    ⋅    ⋅    ⋅ \n",
       "  ⋅    ⋅    ⋅    ⋅   0.5  1.0   ⋅    ⋅       ⋅    ⋅    ⋅    ⋅    ⋅    ⋅    ⋅ \n",
       "  ⋅    ⋅    ⋅    ⋅    ⋅   0.5  1.0   ⋅   …   ⋅    ⋅    ⋅    ⋅    ⋅    ⋅    ⋅ \n",
       "  ⋅    ⋅    ⋅    ⋅    ⋅    ⋅   0.5  1.0      ⋅    ⋅    ⋅    ⋅    ⋅    ⋅    ⋅ \n",
       "  ⋅    ⋅    ⋅    ⋅    ⋅    ⋅    ⋅   0.5      ⋅    ⋅    ⋅    ⋅    ⋅    ⋅    ⋅ \n",
       "  ⋅    ⋅    ⋅    ⋅    ⋅    ⋅    ⋅    ⋅       ⋅    ⋅    ⋅    ⋅    ⋅    ⋅    ⋅ \n",
       "  ⋅    ⋅    ⋅    ⋅    ⋅    ⋅    ⋅    ⋅       ⋅    ⋅    ⋅    ⋅    ⋅    ⋅    ⋅ \n",
       "  ⋅    ⋅    ⋅    ⋅    ⋅    ⋅    ⋅    ⋅   …   ⋅    ⋅    ⋅    ⋅    ⋅    ⋅    ⋅ \n",
       "  ⋅    ⋅    ⋅    ⋅    ⋅    ⋅    ⋅    ⋅       ⋅    ⋅    ⋅    ⋅    ⋅    ⋅    ⋅ \n",
       "  ⋅    ⋅    ⋅    ⋅    ⋅    ⋅    ⋅    ⋅       ⋅    ⋅    ⋅    ⋅    ⋅    ⋅    ⋅ \n",
       " ⋮                        ⋮              ⋱            ⋮                      \n",
       "  ⋅    ⋅    ⋅    ⋅    ⋅    ⋅    ⋅    ⋅       ⋅    ⋅    ⋅    ⋅    ⋅    ⋅    ⋅ \n",
       "  ⋅    ⋅    ⋅    ⋅    ⋅    ⋅    ⋅    ⋅       ⋅    ⋅    ⋅    ⋅    ⋅    ⋅    ⋅ \n",
       "  ⋅    ⋅    ⋅    ⋅    ⋅    ⋅    ⋅    ⋅   …   ⋅    ⋅    ⋅    ⋅    ⋅    ⋅    ⋅ \n",
       "  ⋅    ⋅    ⋅    ⋅    ⋅    ⋅    ⋅    ⋅       ⋅    ⋅    ⋅    ⋅    ⋅    ⋅    ⋅ \n",
       "  ⋅    ⋅    ⋅    ⋅    ⋅    ⋅    ⋅    ⋅      1.0   ⋅    ⋅    ⋅    ⋅    ⋅    ⋅ \n",
       "  ⋅    ⋅    ⋅    ⋅    ⋅    ⋅    ⋅    ⋅      0.5  1.0   ⋅    ⋅    ⋅    ⋅    ⋅ \n",
       "  ⋅    ⋅    ⋅    ⋅    ⋅    ⋅    ⋅    ⋅       ⋅   0.5  1.0   ⋅    ⋅    ⋅    ⋅ \n",
       "  ⋅    ⋅    ⋅    ⋅    ⋅    ⋅    ⋅    ⋅   …   ⋅    ⋅   0.5  1.0   ⋅    ⋅    ⋅ \n",
       "  ⋅    ⋅    ⋅    ⋅    ⋅    ⋅    ⋅    ⋅       ⋅    ⋅    ⋅   0.5  1.0   ⋅    ⋅ \n",
       "  ⋅    ⋅    ⋅    ⋅    ⋅    ⋅    ⋅    ⋅       ⋅    ⋅    ⋅    ⋅   0.5  1.0   ⋅ \n",
       "  ⋅    ⋅    ⋅    ⋅    ⋅    ⋅    ⋅    ⋅       ⋅    ⋅    ⋅    ⋅    ⋅   0.5  1.0\n",
       "  ⋅    ⋅    ⋅    ⋅    ⋅    ⋅    ⋅    ⋅       ⋅    ⋅    ⋅    ⋅    ⋅    ⋅   0.5"
      ]
     },
     "execution_count": 29,
     "metadata": {},
     "output_type": "execute_result"
    }
   ],
   "source": [
    "n=70\n",
    "c=0.5\n",
    "J=Bidiagonal(c*ones(n),ones(n-1),true)"
   ]
  },
  {
   "cell_type": "code",
   "execution_count": 30,
   "metadata": {
    "collapsed": false
   },
   "outputs": [
    {
     "name": "stdout",
     "output_type": "stream",
     "text": [
      "  0.064540 seconds (28.02 k allocations: 1.230 MB)\n"
     ]
    }
   ],
   "source": [
    "@time s=svdvals(J);"
   ]
  },
  {
   "cell_type": "markdown",
   "metadata": {},
   "source": [
    "Julia uses convention that function names ending in `!` overwrite the input data.\n",
    "Thus, we first make a copy of `J`."
   ]
  },
  {
   "cell_type": "code",
   "execution_count": 31,
   "metadata": {
    "collapsed": false
   },
   "outputs": [],
   "source": [
    "J1=deepcopy(J);"
   ]
  },
  {
   "cell_type": "code",
   "execution_count": 32,
   "metadata": {
    "collapsed": false
   },
   "outputs": [
    {
     "data": {
      "text/plain": [
       "3×3 Bidiagonal{Float64}:\n",
       " 1.0  1.0   ⋅ \n",
       "  ⋅   1.0  1.0\n",
       "  ⋅    ⋅   1.0"
      ]
     },
     "execution_count": 32,
     "metadata": {},
     "output_type": "execute_result"
    }
   ],
   "source": [
    "J0=Bidiagonal([1.0,1,1],[1,1],true)"
   ]
  },
  {
   "cell_type": "code",
   "execution_count": 33,
   "metadata": {
    "collapsed": false
   },
   "outputs": [
    {
     "data": {
      "text/plain": [
       "3-element Array{Float64,1}:\n",
       " 1.80194 \n",
       " 1.24698 \n",
       " 0.445042"
      ]
     },
     "execution_count": 33,
     "metadata": {},
     "output_type": "execute_result"
    }
   ],
   "source": [
    "LinearAlgebra.SVDModule.svdvals!(J0)"
   ]
  },
  {
   "cell_type": "code",
   "execution_count": 34,
   "metadata": {
    "collapsed": false
   },
   "outputs": [
    {
     "name": "stdout",
     "output_type": "stream",
     "text": [
      "  0.000165 seconds (13 allocations: 9.703 KB)\n"
     ]
    }
   ],
   "source": [
    "@time s1=LinearAlgebra.SVDModule.svdvals!(J1);"
   ]
  },
  {
   "cell_type": "code",
   "execution_count": 35,
   "metadata": {
    "collapsed": false
   },
   "outputs": [
    {
     "data": {
      "text/plain": [
       "(Array{Float64,1},[1.49967,1.49867,1.49701,1.49468,1.4917,1.48805,1.48375,1.47879,1.47318,1.46693  …  0.576594,0.561598,0.547933,0.535733,0.525133,0.516259,0.509224,0.504125,0.501035,6.35275e-22])"
      ]
     },
     "execution_count": 35,
     "metadata": {},
     "output_type": "execute_result"
    }
   ],
   "source": [
    "typeof(s1), s1"
   ]
  },
  {
   "cell_type": "code",
   "execution_count": 36,
   "metadata": {
    "collapsed": false
   },
   "outputs": [
    {
     "data": {
      "text/plain": [
       "(6.352747104407252e-22,6.352747104407252e-22)"
      ]
     },
     "execution_count": 36,
     "metadata": {},
     "output_type": "execute_result"
    }
   ],
   "source": [
    "s[70], s1[70]"
   ]
  },
  {
   "cell_type": "markdown",
   "metadata": {
    "collapsed": true
   },
   "source": [
    "## `Pkg.rm()`\n",
    "\n",
    "This command removes (deletes) added or cloned packages and all required packages not in use otherwise."
   ]
  },
  {
   "cell_type": "code",
   "execution_count": 37,
   "metadata": {
    "collapsed": true
   },
   "outputs": [],
   "source": [
    "# Pkg.rm(\"Graphs\")"
   ]
  },
  {
   "cell_type": "code",
   "execution_count": 38,
   "metadata": {
    "collapsed": false
   },
   "outputs": [],
   "source": [
    "# Pkg.rm(\"LinearAlgebra\")"
   ]
  },
  {
   "cell_type": "code",
   "execution_count": 39,
   "metadata": {
    "collapsed": false
   },
   "outputs": [
    {
     "name": "stdout",
     "output_type": "stream",
     "text": [
      "String[\".cache\",\".trash\",\"Arrowhead\",\"AxisAlgorithms\",\"AxisArrays\",\"BaseTestNext\",\"BinDeps\",\"BufferedStreams\",\"Cairo\",\"Calculus\",\"CatIndices\",\"Cbc\",\"Clp\",\"Clustering\",\"Colors\",\"ColorTypes\",\"ColorVectorSpace\",\"Compat\",\"Compose\",\"ComputationalResources\",\"Conda\",\"Contour\",\"CoordinateTransformations\",\"CustomUnitRanges\",\"DataArrays\",\"DataFrames\",\"DataStructures\",\"Dates\",\"DiffBase\",\"Distances\",\"Distributions\",\"DoubleDouble\",\"DualNumbers\",\"FFTViews\",\"FileIO\",\"FixedPointNumbers\",\"FixedSizeArrays\",\"ForwardDiff\",\"Gadfly\",\"Graphics\",\"Graphs\",\"Gtk\",\"GtkReactive\",\"GZip\",\"Hexagons\",\"Hiccup\",\"IJulia\",\"IJuliaPortrayals\",\"ImageAxes\",\"ImageCore\",\"ImageFiltering\",\"ImageMagick\",\"ImageMetadata\",\"Images\",\"ImageTransformations\",\"IncrementalSVD\",\"IndirectArrays\",\"IniFile\",\"Interact\",\"Interpolations\",\"IntervalSets\",\"Iterators\",\"JSON\",\"Juno\",\"KernelDensity\",\"LaTeXStrings\",\"LibExpat\",\"Libz\",\"LinearAlgebra\",\"LineSearches\",\"Loess\",\"MacroTools\",\"MappedArrays\",\"MathProgBase\",\"MatrixDepot\",\"Measures\",\"Media\",\"METADATA\",\"META_BRANCH\",\"NaNMath\",\"NearestNeighbors\",\"Nettle\",\"OffsetArrays\",\"Optim\",\"PDMats\",\"Polynomials\",\"PositiveFactorizations\",\"ProfileView\",\"ProgressMeter\",\"PyCall\",\"PyPlot\",\"QuadGK\",\"Quaternions\",\"RangeArrays\",\"Ratios\",\"Reactive\",\"RecipesBase\",\"Reexport\",\"REQUIRE\",\"Rmath\",\"Rotations\",\"RoundingIntegers\",\"SHA\",\"ShowItLikeYouBuildIt\",\"Showoff\",\"SimpleTraits\",\"SIUnits\",\"SortingAlgorithms\",\"SpecialFunctions\",\"SpecialMatrices\",\"StaticArrays\",\"StatsBase\",\"StatsFuns\",\"SymPy\",\"TestImages\",\"TexExtensions\",\"TiledIteration\",\"Tk\",\"URIParser\",\"Wavelets\",\"WinRPM\",\"Winston\",\"WoodburyMatrices\",\"ZipFile\",\"ZMQ\"]\n"
     ]
    }
   ],
   "source": [
    "a=readdir(\"/Users/Ivan/.julia/v0.5\");\n",
    "println(a)"
   ]
  },
  {
   "cell_type": "markdown",
   "metadata": {
    "collapsed": true
   },
   "source": [
    "## Creating packages\n",
    "\n",
    "You need to use GitHub:\n",
    "\n",
    "1. Go to [GitHub](https://github.com) and `Sign up` and `Sign in`.\n",
    "2. [Set up Git](https://help.github.com/articles/set-up-git/#platform-windows) at your computer. \n",
    "\n",
    "N.B. Check out [GitHub Guides](https://guides.github.com/).\n",
    "\n",
    "One way to start developing packages is \n",
    "\n",
    "1. [Create new repository](https://help.github.com/articles/create-a-repo/) at GitHub.\n",
    "2. Clone the created package to your computer with\n",
    "```\n",
    "git clone https://github.com/your_user_name/your_repository_name.jl\n",
    "```\n",
    "3. Start writing your code as described in [Contents of the Package](#contents).\n",
    "4. Check what you have changed \n",
    "```\n",
    "git commit\n",
    "```\n",
    "5. Add changes to be commited with \n",
    "```\n",
    "git add file1 file2 ...\n",
    "```\n",
    "6. Commit the changes (you need to supply the message)\n",
    "```\n",
    "git commit\n",
    "```\n",
    "7. Push the changes to your GitHub repository\n",
    "```\n",
    "git push\n",
    "```\n",
    "\n",
    "N.B. There are various other possibilities and shorthands (see the Guides).\n",
    "For example, steps 4., 5. and 6. can be shortened with\n",
    "```\n",
    "git commit -am \"your message\"\n",
    "```\n",
    "Also, if you work on your package from two computers, you may need to synchronize your repository: assume that you pushed the changes that you made on computer A to GitHub, and that you want to continue to work on your repository from computer B. Then, you obviously need to synchronize computer B with the latest version from GitHub. This is done with the following commands issued on computer B:\n",
    "```\n",
    "git fetch origin\n",
    "git reset --hard origin/master\n",
    "git clean -f -d\n",
    "```\n",
    "\n"
   ]
  },
  {
   "cell_type": "markdown",
   "metadata": {
    "collapsed": true
   },
   "source": [
    "## Be social\n",
    "\n",
    "You can fork other people's repositories, and use them and change them as your own. You can make pull requests to incorporate those changes to those repositories.\n",
    "\n",
    "You can easily make different branches of your repository, and test different options.\n",
    "\n",
    "GitHub enables you to share your work with others, so even small, undocumented packages can be very useful."
   ]
  },
  {
   "cell_type": "code",
   "execution_count": null,
   "metadata": {
    "collapsed": true
   },
   "outputs": [],
   "source": []
  }
 ],
 "metadata": {
  "anaconda-cloud": {},
  "kernelspec": {
   "display_name": "Julia 0.5.1",
   "language": "julia",
   "name": "julia-0.5"
  },
  "language_info": {
   "file_extension": ".jl",
   "mimetype": "application/julia",
   "name": "julia",
   "version": "0.5.1"
  }
 },
 "nbformat": 4,
 "nbformat_minor": 0
}
