{
 "cells": [
  {
   "cell_type": "markdown",
   "metadata": {},
   "source": [
    "# Working with Packages\n",
    "\n",
    "---\n",
    "\n",
    "Starting Julia loads Julia kernel and `Base` module. The `Base` (core) is kept small and all other functionality is accessible through packages which need to be individually included by the user.\n",
    "\n",
    "Currently there are __1000+__ registered packages listed at \n",
    "[Julia Package Listing](http://pkg.julialang.org/).\n",
    "\n",
    "In this notebook, we demonstrate how to use packages.\n",
    "\n",
    "## Prerequisites\n",
    "\n",
    "Read sections [Packages](http://docs.julialang.org/en/release-0.4/manual/packages/) and \n",
    "[Package Development](http://docs.julialang.org/en/release-0.4/manual/packages/#package-development) of the Julia manual (15 min). \n",
    "\n",
    "\n",
    "## Competences \n",
    "\n",
    "The reader should be able to install and use registered and unregistered packages and create own packages.\n",
    "\n",
    "\n",
    "## Credits \n",
    "\n",
    "Some examples are taken from [The Julia Manual](http://julia.readthedocs.org/en/latest/manual/).\n",
    "\n",
    "---"
   ]
  },
  {
   "cell_type": "markdown",
   "metadata": {},
   "source": [
    "## `Pkg.status()`"
   ]
  },
  {
   "cell_type": "code",
   "execution_count": 1,
   "metadata": {
    "collapsed": false
   },
   "outputs": [
    {
     "data": {
      "text/latex": [
       "\\begin{verbatim}\n",
       "status()\n",
       "\\end{verbatim}\n",
       "Prints out a summary of what packages are installed and what version and state they're in.\n"
      ],
      "text/markdown": [
       "```\n",
       "status()\n",
       "```\n",
       "\n",
       "Prints out a summary of what packages are installed and what version and state they're in.\n"
      ],
      "text/plain": [
       "```\n",
       "status()\n",
       "```\n",
       "\n",
       "Prints out a summary of what packages are installed and what version and state they're in.\n"
      ]
     },
     "execution_count": 1,
     "metadata": {},
     "output_type": "execute_result"
    }
   ],
   "source": [
    "?Pkg.status()"
   ]
  },
  {
   "cell_type": "code",
   "execution_count": 2,
   "metadata": {
    "collapsed": false,
    "scrolled": true
   },
   "outputs": [
    {
     "name": "stdout",
     "output_type": "stream",
     "text": [
      "28 required packages:\n",
      " - Arrowhead                     0.0.1+             master\n",
      " - Cbc                           0.2.1\n",
      " - Clp                           0.2.1\n",
      " - Clustering                    0.5.0\n",
      " - DoubleDouble                  0.1.0+             master\n",
      " - ForwardDiff                   0.1.8\n",
      " - Gadfly                        0.4.2+             master\n",
      " - Graphs                        0.6.0              04b198d1 (dirty)\n",
      " - IJulia                        1.1.10\n",
      " - IJuliaPortrayals              0.0.4              76632d2b (dirty)\n",
      " - ImageMagick                   0.1.6              master\n",
      " - ImageView                     0.1.20\n",
      " - Interact                      0.3.1\n",
      " - IterativeSolvers              0.2.2+             master\n",
      " - JuMP                          0.13.2\n",
      " - LinearMaps                    0.2.0\n",
      " - MatrixDepot                   0.5.6\n",
      " - MatrixMarket                  0.0.1\n",
      " - Netpbm                        0.1.0\n",
      " - Polynomials                   0.0.5+             master\n",
      " - ProfileView                   0.1.3\n",
      " - PyPlot                        2.2.0\n",
      " - SpecialMatrices               0.1.3+             master (dirty)\n",
      " - SymPy                         0.3.1\n",
      " - TestImages                    0.1.1+             master\n",
      " - VideoIO                       0.0.16             master (dirty)\n",
      " - WAV                           0.8.0\n",
      " - Winston                       0.11.13+           master\n",
      "68 additional packages:\n",
      " - AMVW                          0.0.0-             master (unregistered)\n",
      " - ArrayViews                    0.6.4\n",
      " - BinDeps                       0.3.21\n",
      " - Cairo                         0.2.32\n",
      " - Calculus                      0.1.15\n",
      " - Codecs                        0.1.5\n",
      " - ColorTypes                    0.2.3\n",
      " - ColorVectorSpace              0.1.4\n",
      " - Colors                        0.6.4\n",
      " - Compat                        0.8.1\n",
      " - Compose                       0.4.2\n",
      " - Conda                         0.2.1\n",
      " - Contour                       0.1.0\n",
      " - DataArrays                    0.3.3\n",
      " - DataFrames                    0.7.3\n",
      " - DataStructures                0.4.4\n",
      " - Dates                         0.4.4\n",
      " - Distances                     0.3.1\n",
      " - Distributions                 0.9.0\n",
      " - Docile                        0.5.23\n",
      " - DualNumbers                   0.2.2\n",
      " - FileIO                        0.1.0\n",
      " - FixedPointNumbers             0.1.3\n",
      " - FixedSizeArrays               0.2.1\n",
      " - GZip                          0.2.19\n",
      " - Graphics                      0.1.3\n",
      " - Grid                          0.4.0\n",
      " - Gtk                           0.10.1\n",
      " - GtkUtilities                  0.0.9\n",
      " - Hexagons                      0.0.4\n",
      " - Images                        0.5.5\n",
      " - IniFile                       0.2.5\n",
      " - Iterators                     0.1.9\n",
      " - JSON                          0.6.0\n",
      " - KernelDensity                 0.1.2\n",
      " - LaTeXStrings                  0.1.6\n",
      " - Lazy                          0.10.1\n",
      " - LibExpat                      0.1.2\n",
      " - LinearAlgebra                 0.0.0-             master (unregistered)\n",
      " - Loess                         0.0.6\n",
      " - MPSolve                       0.0.0-             master (unregistered)\n",
      " - MacroTools                    0.3.0\n",
      " - MathProgBase                  0.5.1\n",
      " - Measures                      0.0.2\n",
      " - NaNMath                       0.2.1\n",
      " - Nettle                        0.2.3\n",
      " - Optim                         0.5.0\n",
      " - PDMats                        0.4.2\n",
      " - PositiveFactorizations        0.0.1\n",
      " - PyCall                        1.6.2\n",
      " - Reactive                      0.3.3\n",
      " - RecipesBase                   0.0.4\n",
      " - Reexport                      0.0.3\n",
      " - ReverseDiffSparse             0.5.5\n",
      " - SHA                           0.1.2\n",
      " - SIUnits                       0.0.6\n",
      " - Showoff                       0.0.7\n",
      " - SortingAlgorithms             0.0.6\n",
      " - StatsBase                     0.8.2\n",
      " - StatsFuns                     0.2.2\n",
      " - TexExtensions                 0.0.3\n",
      " - Tk                            0.3.8\n",
      " - URIParser                     0.1.3\n",
      " - WinRPM                        0.1.15\n",
      " - WoodburyMatrices              0.1.5\n",
      " - ZMQ                           0.3.2\n",
      " - ZipFile                       0.2.6\n",
      " - Zlib                          0.1.12\n"
     ]
    }
   ],
   "source": [
    "Pkg.status() # This is slow due to communication with GitHub"
   ]
  },
  {
   "cell_type": "markdown",
   "metadata": {
    "collapsed": false
   },
   "source": [
    "## `Pkg.add()`\n",
    "\n",
    "This command adds registered package from [Julia Package Listing](http://pkg.julialang.org/).\n",
    "Adding the package downloads the package source code (and all other required packages) to your `.julia/v0.4/` directory.\n",
    "\n",
    "GitHub repository names of registered Julia packages always end with the extension `.jl`, which is ommited in `Pkg.add()` command. The example below installs the package from the GitHub repository https://github.com/JuliaLang/Graphs.jl.\n",
    "\n",
    "N.B. There are other registered packages dealing with graphs, please check them out."
   ]
  },
  {
   "cell_type": "code",
   "execution_count": 3,
   "metadata": {
    "collapsed": false
   },
   "outputs": [
    {
     "data": {
      "text/latex": [
       "\\begin{verbatim}\n",
       "add(pkg, vers...)\n",
       "\\end{verbatim}\n",
       "Add a requirement entry for \\texttt{pkg} to \\texttt{Pkg.dir(\"REQUIRE\")} and call \\texttt{Pkg.resolve()}. If \\texttt{vers} are given, they must be \\texttt{VersionNumber} objects and they specify acceptable version intervals for \\texttt{pkg}.\n"
      ],
      "text/markdown": [
       "```\n",
       "add(pkg, vers...)\n",
       "```\n",
       "\n",
       "Add a requirement entry for `pkg` to `Pkg.dir(\"REQUIRE\")` and call `Pkg.resolve()`. If `vers` are given, they must be `VersionNumber` objects and they specify acceptable version intervals for `pkg`.\n"
      ],
      "text/plain": [
       "```\n",
       "add(pkg, vers...)\n",
       "```\n",
       "\n",
       "Add a requirement entry for `pkg` to `Pkg.dir(\"REQUIRE\")` and call `Pkg.resolve()`. If `vers` are given, they must be `VersionNumber` objects and they specify acceptable version intervals for `pkg`.\n"
      ]
     },
     "execution_count": 3,
     "metadata": {},
     "output_type": "execute_result"
    }
   ],
   "source": [
    "?Pkg.add"
   ]
  },
  {
   "cell_type": "code",
   "execution_count": 3,
   "metadata": {
    "collapsed": false
   },
   "outputs": [],
   "source": [
    "# Pkg.add(\"Graphs\")"
   ]
  },
  {
   "cell_type": "code",
   "execution_count": 4,
   "metadata": {
    "collapsed": false
   },
   "outputs": [
    {
     "data": {
      "text/plain": [
       "101-element Array{ByteString,1}:\n",
       " \".cache\"          \n",
       " \".trash\"          \n",
       " \"AMVW\"            \n",
       " \"ArrayViews\"      \n",
       " \"Arrowhead\"       \n",
       " \"BinDeps\"         \n",
       " \"Cairo\"           \n",
       " \"Calculus\"        \n",
       " \"Cbc\"             \n",
       " \"Clp\"             \n",
       " \"Clustering\"      \n",
       " \"Codecs\"          \n",
       " \"Colors\"          \n",
       " ⋮                 \n",
       " \"TestImages\"      \n",
       " \"TexExtensions\"   \n",
       " \"Tk\"              \n",
       " \"URIParser\"       \n",
       " \"VideoIO\"         \n",
       " \"WAV\"             \n",
       " \"WinRPM\"          \n",
       " \"Winston\"         \n",
       " \"WoodburyMatrices\"\n",
       " \"ZipFile\"         \n",
       " \"Zlib\"            \n",
       " \"ZMQ\"             "
      ]
     },
     "execution_count": 4,
     "metadata": {},
     "output_type": "execute_result"
    }
   ],
   "source": [
    "# This is Julia's default directory\n",
    "# a=readdir(\"/home/slap/.julia/v0.4\")\n",
    "a=readdir(\"/Users/Ivan/.julia/v0.4\")"
   ]
  },
  {
   "cell_type": "code",
   "execution_count": 5,
   "metadata": {
    "collapsed": false
   },
   "outputs": [
    {
     "name": "stdout",
     "output_type": "stream",
     "text": [
      "Union{ASCIIString,UTF8String}[\".cache\",\".trash\",\"AMVW\",\"ArrayViews\",\"Arrowhead\",\"BinDeps\",\"Cairo\",\"Calculus\",\"Cbc\",\"Clp\",\"Clustering\",\"Codecs\",\"Colors\",\"ColorTypes\",\"ColorVectorSpace\",\"Compat\",\"Compose\",\"Conda\",\"Contour\",\"DataArrays\",\"DataFrames\",\"DataStructures\",\"Dates\",\"Distances\",\"Distributions\",\"Docile\",\"DoubleDouble\",\"DualNumbers\",\"FileIO\",\"FixedPointNumbers\",\"FixedSizeArrays\",\"ForwardDiff\",\"Gadfly\",\"Graphics\",\"Graphs\",\"Grid\",\"Gtk\",\"GtkUtilities\",\"GZip\",\"Hexagons\",\"IJulia\",\"IJuliaPortrayals\",\"ImageMagick\",\"Images\",\"ImageView\",\"IniFile\",\"Interact\",\"IterativeSolvers\",\"Iterators\",\"JSON\",\"JuMP\",\"KernelDensity\",\"LaTeXStrings\",\"Lazy\",\"LibExpat\",\"LinearAlgebra\",\"LinearMaps\",\"Loess\",\"MacroTools\",\"MathProgBase\",\"MatrixDepot\",\"MatrixMarket\",\"Measures\",\"METADATA\",\"META_BRANCH\",\"MPSolve\",\"NaNMath\",\"Netpbm\",\"Nettle\",\"Optim\",\"PDMats\",\"Polynomials\",\"PositiveFactorizations\",\"ProfileView\",\"PyCall\",\"PyPlot\",\"Reactive\",\"RecipesBase\",\"Reexport\",\"REQUIRE\",\"ReverseDiffSparse\",\"SHA\",\"Showoff\",\"SIUnits\",\"SortingAlgorithms\",\"SpecialMatrices\",\"StatsBase\",\"StatsFuns\",\"SymPy\",\"TestImages\",\"TexExtensions\",\"Tk\",\"URIParser\",\"VideoIO\",\"WAV\",\"WinRPM\",\"Winston\",\"WoodburyMatrices\",\"ZipFile\",\"Zlib\",\"ZMQ\"]\n"
     ]
    }
   ],
   "source": [
    "println(a)"
   ]
  },
  {
   "cell_type": "markdown",
   "metadata": {},
   "source": [
    "## <a name=\"contents\"></a> Contents of a package\n",
    "\n",
    "We now have directory `/home/slap/.julia/v0.4/Graphs`. Let us examine its content\n",
    "(this can also be done directly from the GitHub repository  https://github.com/JuliaLang/Graphs.jl).\n",
    "\n",
    "### Files\n",
    "\n",
    "Each package has the following three files:\n",
    "\n",
    "- `REQUIRE` \n",
    "    - may contain the version of Julia needed for the package to run\n",
    "    - must contain all other registered packages that the present package is using (these packages are installed automatically, if not present) and\n",
    "    - may contain the version of those packages. \n",
    "    \n",
    "    \n",
    "    \n",
    "- `README.md` is the Markdown file, which contains the descritption of the package as displayed on the repository's home page.\n",
    "- `LICENSE.md` contains the licensing information.\n",
    "\n",
    "The file `travis.yml`, if present, defines how is the package tested on [Travis-CI](https://travis-ci.org/) after every posted change (via `git push` command). \n",
    "Details on using Travis-CI for Julia projects are at \n",
    "https://docs.travis-ci.com/user/languages/julia. Since testing is done on machines other than yours, with operating systems other than yours, and using Julia version which may differ from yours, this is a great way to correct bugs, and also a way to give users examples of how to run your code.\n",
    "\n",
    "### Directories\n",
    "\n",
    "The `src/` directory contains the actual code of your package.\n",
    "\n",
    "It must contan the file named as the package itself, `src/Graphs.jl` in this case, which containd the following:\n",
    "\n",
    "- `module` line starts the description of the main module, which has the same name as the package,\n",
    "- `using` line(s) lists other registered packages used by the package. These packages are also listed in the `REQUIRE` file.\n",
    "- `import` line lists the other modules and their components which are modified in this module\n",
    "- `export` line lists all component which will be accessible directly in the main namespace. The components which are not exported, can still be used but the full name (including mogule name) must be used\n",
    "- `include()` commands include the source files\n",
    "- `end` concludes the description of the module.\n",
    "\n",
    "If Travis-CI is used, the `test/` directory contains the file `runtests.jl` which is exaceuted during the testing, and, eventually, other files that this file is calling.\n",
    "\n",
    "The `doc/` is optional and is used to store documentation.\n",
    "\n",
    "The `deps/` directory is optional and is used to store dependencies if the package is using software written in other languages. There are many examples which can be checked out."
   ]
  },
  {
   "cell_type": "markdown",
   "metadata": {},
   "source": [
    "## `using` and `import`\n",
    "\n",
    "Package needs to be added only once, prior to the first use.\n",
    "We are now ready to use the package. \n",
    "\n",
    "We have two methods to do so, which differ in\n",
    "their treatment of the namespace:\n",
    "* `using` adds all methods,  constructors etc. from the package into the main namespace, so they can be called directly, like the function `simple_graph(4)` below.\n",
    "* `import` enables us to use all the methods, constructors, etc. from the package, but they are not included in the namespace, so they must be called together with the package name,\n",
    "`Graphs.simple_graph(4)`.\n",
    "\n",
    "N.B. `import` can also be used on a particular function(s), as we shall explain later."
   ]
  },
  {
   "cell_type": "code",
   "execution_count": 6,
   "metadata": {
    "collapsed": false
   },
   "outputs": [],
   "source": [
    "using Graphs"
   ]
  },
  {
   "cell_type": "code",
   "execution_count": 7,
   "metadata": {
    "collapsed": false,
    "scrolled": true
   },
   "outputs": [
    {
     "name": "stdout",
     "output_type": "stream",
     "text": [
      "             @graph_implements    366 bytes  Function\n",
      "               @graph_requires    364 bytes  Function\n",
      "       AbstractDijkstraVisitor     92 bytes  DataType\n",
      " AbstractEdgePropertyInspector    148 bytes  DataType\n",
      "                 AbstractGraph    188 bytes  DataType\n",
      "          AbstractGraphVisitor     92 bytes  DataType\n",
      "            AbstractMASVisitor     92 bytes  DataType\n",
      "           AbstractPrimVisitor     92 bytes  DataType\n",
      "                 AdjacencyList     80 bytes  TypeConstructor\n",
      "                 AttributeDict    200 bytes  DataType\n",
      "AttributeEdgePropertyInspector    168 bytes  DataType\n",
      "             BellmanFordStates    232 bytes  DataType\n",
      "                  BreadthFirst     92 bytes  DataType\n",
      " ConstantEdgePropertyInspector    168 bytes  DataType\n",
      "                    DepthFirst     92 bytes  DataType\n",
      "                DijkstraStates    348 bytes  DataType\n",
      "                          Edge    192 bytes  DataType\n",
      "                      EdgeList    120 bytes  TypeConstructor\n",
      "                        ExEdge    204 bytes  DataType\n",
      "                      ExVertex    136 bytes  DataType\n",
      "          GenericAdjacencyList    284 bytes  DataType\n",
      "               GenericEdgeList    312 bytes  DataType\n",
      "                  GenericGraph    388 bytes  DataType\n",
      "          GenericIncidenceList    324 bytes  DataType\n",
      "                         Graph    120 bytes  TypeConstructor\n",
      "                        Graphs    370 KB     Module\n",
      "                 IncidenceList    120 bytes  TypeConstructor\n",
      "                     KeyVertex    180 bytes  DataType\n",
      "               LogGraphVisitor    168 bytes  DataType\n",
      "              MaximumAdjacency     92 bytes  DataType\n",
      "            NegativeCycleError     92 bytes  DataType\n",
      "                    PrimStates    336 bytes  DataType\n",
      "           SimpleAdjacencyList    172 bytes  DataType\n",
      "                   SimpleGraph    212 bytes  DataType\n",
      "           SimpleIncidenceList    180 bytes  DataType\n",
      "           TrivialGraphVisitor     92 bytes  DataType\n",
      "   VectorEdgePropertyInspector    168 bytes  DataType\n",
      "                  WeightedEdge    220 bytes  DataType\n",
      "                     add_edge!   7481 bytes  Function\n",
      "                   add_vertex!   5979 bytes  Function\n",
      "              adjacency_matrix   1019 bytes  Function\n",
      "       adjacency_matrix_sparse   1033 bytes  Function\n",
      "                       adjlist   3126 bytes  Function\n",
      "                    attributes    956 bytes  Function\n",
      "   bellman_ford_shortest_paths   1647 bytes  Function\n",
      "  bellman_ford_shortest_paths!   4765 bytes  Function\n",
      "                 close_vertex!   6986 bytes  Function\n",
      "                 collect_edges   2035 bytes  Function\n",
      "        collect_weighted_edges   3638 bytes  Function\n",
      "          connected_components   2114 bytes  Function\n",
      "    create_bellman_ford_states   1082 bytes  Function\n",
      "        create_dijkstra_states   1454 bytes  Function\n",
      "            create_prim_states   1314 bytes  Function\n",
      "       dijkstra_shortest_paths   6360 bytes  Function\n",
      "      dijkstra_shortest_paths!   4528 bytes  Function\n",
      "dijkstra_shortest_paths_withlog   1502 bytes  Function\n",
      "              discover_vertex!   6563 bytes  Function\n",
      "               distance_matrix   1238 bytes  Function\n",
      "                    edge_index   2366 bytes  Function\n",
      "                 edge_property   1754 bytes  Function\n",
      "     edge_property_requirement    671 bytes  Function\n",
      "                     edge_type    581 bytes  Function\n",
      "                      edgelist   1890 bytes  Function\n",
      "                         edges    900 bytes  Function\n",
      "             enumerate_indices   2991 bytes  Function\n",
      "               enumerate_paths   2356 bytes  Function\n",
      "             erdos_renyi_graph   3455 bytes  Function\n",
      "                 examine_edge!   2821 bytes  Function\n",
      "             examine_neighbor!   4668 bytes  Function\n",
      "                floyd_warshall    608 bytes  Function\n",
      "               floyd_warshall!   5547 bytes  Function\n",
      "                    gdistances   1649 bytes  Function\n",
      "                   gdistances!   2380 bytes  Function\n",
      "                         graph   1826 bytes  Function\n",
      "       has_negative_edge_cycle   1813 bytes  Function\n",
      "     implements_adjacency_list   1307 bytes  Function\n",
      "   implements_adjacency_matrix    477 bytes  Function\n",
      "implements_bidirectional_adjacency_list    868 bytes  Function\n",
      "implements_bidirectional_incidence_list    868 bytes  Function\n",
      "          implements_edge_list   1259 bytes  Function\n",
      "           implements_edge_map   1650 bytes  Function\n",
      "     implements_incidence_list    908 bytes  Function\n",
      "        implements_vertex_list   2041 bytes  Function\n",
      "         implements_vertex_map   2041 bytes  Function\n",
      "                     in_degree    571 bytes  Function\n",
      "                      in_edges    599 bytes  Function\n",
      "                  in_neighbors    589 bytes  Function\n",
      "                       inclist   6424 bytes  Function\n",
      "                   is_directed   1738 bytes  Function\n",
      "      kruskal_minimum_spantree   3134 bytes  Function\n",
      "                kruskal_select   2904 bytes  Function\n",
      "              laplacian_matrix   9022 bytes  Function\n",
      "       laplacian_matrix_sparse     13 KB     Function\n",
      "                     make_edge   1185 bytes  Function\n",
      "                   make_vertex   1050 bytes  Function\n",
      "               maximal_cliques   8655 bytes  Function\n",
      "       maximum_adjacency_visit   5971 bytes  Function\n",
      "                       min_cut   3621 bytes  Function\n",
      "          moebius_kantor_graph    819 bytes  Function\n",
      "                     num_edges   1728 bytes  Function\n",
      "                  num_vertices   1750 bytes  Function\n",
      "                  open_vertex!    973 bytes  Function\n",
      "                    out_degree   1550 bytes  Function\n",
      "                     out_edges   1098 bytes  Function\n",
      "                 out_neighbors   1612 bytes  Function\n",
      "                          plot    910 bytes  Function\n",
      "         prim_minimum_spantree   2305 bytes  Function\n",
      "        prim_minimum_spantree!   2979 bytes  Function\n",
      " prim_minimum_spantree_withlog   1152 bytes  Function\n",
      "                       revedge   1117 bytes  Function\n",
      "                 shortest_path   3807 bytes  Function\n",
      "                simple_adjlist   3086 bytes  Function\n",
      "             simple_bull_graph    550 bytes  Function\n",
      "          simple_chvatal_graph    819 bytes  Function\n",
      "         simple_complete_graph   1590 bytes  Function\n",
      "          simple_cubical_graph    699 bytes  Function\n",
      "        simple_desargues_graph    879 bytes  Function\n",
      "          simple_diamond_graph    550 bytes  Function\n",
      "     simple_dodecahedral_graph    879 bytes  Function\n",
      "               simple_edgelist   1750 bytes  Function\n",
      "           simple_frucht_graph    759 bytes  Function\n",
      "                  simple_graph   1578 bytes  Function\n",
      "          simple_heawood_graph    789 bytes  Function\n",
      "            simple_house_graph    639 bytes  Function\n",
      "          simple_house_x_graph    716 bytes  Function\n",
      "      simple_icosahedral_graph    879 bytes  Function\n",
      "                simple_inclist   1597 bytes  Function\n",
      "  simple_krackhardt_kite_graph    759 bytes  Function\n",
      "       simple_octahedral_graph    699 bytes  Function\n",
      "           simple_pappus_graph    849 bytes  Function\n",
      "             simple_path_graph   1586 bytes  Function\n",
      "         simple_petersen_graph    729 bytes  Function\n",
      "   simple_sedgewick_maze_graph    679 bytes  Function\n",
      "             simple_star_graph   1586 bytes  Function\n",
      "      simple_tetrahedral_graph    560 bytes  Function\n",
      "   simple_truncated_cube_graph    939 bytes  Function\n",
      "simple_truncated_tetrahedron_graph    759 bytes  Function\n",
      "            simple_tutte_graph   1269 bytes  Function\n",
      "            simple_wheel_graph   1588 bytes  Function\n",
      "                        source   1838 bytes  Function\n",
      "          sparse2adjacencylist   2449 bytes  Function\n",
      " strongly_connected_components   2297 bytes  Function\n",
      "                        target   1838 bytes  Function\n",
      "            test_cyclic_by_dfs   1866 bytes  Function\n",
      "                        to_dot   9127 bytes  Function\n",
      "       topological_sort_by_dfs   1767 bytes  Function\n",
      "                traverse_graph   8355 bytes  Function\n",
      "        traverse_graph_withlog   1241 bytes  Function\n",
      "                  vertex_index   3649 bytes  Function\n",
      "                   vertex_type    581 bytes  Function\n",
      "                      vertices   1726 bytes  Function\n",
      "              visited_vertices    978 bytes  Function\n",
      "          watts_strogatz_graph   2630 bytes  Function\n",
      "                 weight_matrix    644 bytes  Function\n",
      "          weight_matrix_sparse    651 bytes  Function\n"
     ]
    }
   ],
   "source": [
    "whos(Graphs)"
   ]
  },
  {
   "cell_type": "markdown",
   "metadata": {
    "collapsed": false
   },
   "source": [
    "### Example\n",
    "\n",
    "Let us construct the famous graph of the [Seven Bridges of Königsberg](https://en.wikipedia.org/wiki/Seven_Bridges_of_K%C3%B6nigsberg), plot it, and compute the number of _different_ walks which cross 3 bridges between the north side and the center island. Can you enumerate the walks?\n",
    "\n",
    "For the `plot(g)` to work, [GraphViz](http://www.graphviz.org/) must be installed.\n",
    "\n",
    "In Windows, this in not enough, and we must use the package [IJuliaPortrayals](https://github.com/jbn/IJuliaPortrayals.jl) \n",
    "(with line 263 changed from `gv_process.exitcode == 0` to `gv_process.exitcode != 0` - a bug!).\n",
    "\n",
    "N.B. `IJuliaPortrayals` can be used to include various media, see the demo of the package."
   ]
  },
  {
   "cell_type": "code",
   "execution_count": 8,
   "metadata": {
    "collapsed": false
   },
   "outputs": [
    {
     "data": {
      "text/plain": [
       "Undirected Graph (4 vertices, 0 edges)"
      ]
     },
     "execution_count": 8,
     "metadata": {},
     "output_type": "execute_result"
    }
   ],
   "source": [
    "g=simple_graph(4,is_directed=false)"
   ]
  },
  {
   "cell_type": "code",
   "execution_count": 9,
   "metadata": {
    "collapsed": false
   },
   "outputs": [
    {
     "data": {
      "text/plain": [
       "Undirected Graph (4 vertices, 7 edges)"
      ]
     },
     "execution_count": 9,
     "metadata": {},
     "output_type": "execute_result"
    }
   ],
   "source": [
    "add_edge!(g,1,2)\n",
    "add_edge!(g,1,2)\n",
    "add_edge!(g,1,3)\n",
    "add_edge!(g,1,3)\n",
    "add_edge!(g,1,4)\n",
    "add_edge!(g,2,4)\n",
    "add_edge!(g,3,4)\n",
    "g"
   ]
  },
  {
   "cell_type": "code",
   "execution_count": 10,
   "metadata": {
    "collapsed": false
   },
   "outputs": [],
   "source": [
    "# Pkg.add(\"IJuliaPortrayals\")\n",
    "using IJuliaPortrayals"
   ]
  },
  {
   "cell_type": "code",
   "execution_count": 11,
   "metadata": {
    "collapsed": false,
    "scrolled": true
   },
   "outputs": [
    {
     "data": {
      "text/html": [
       "<?xml version=\"1.0\" encoding=\"UTF-8\" standalone=\"no\"?>\r\n",
       "<!DOCTYPE svg PUBLIC \"-//W3C//DTD SVG 1.1//EN\"\r\n",
       " \"http://www.w3.org/Graphics/SVG/1.1/DTD/svg11.dtd\">\r\n",
       "<!-- Generated by graphviz version 2.38.0 (20140413.2041)\r\n",
       " -->\r\n",
       "<!-- Title: graphname Pages: 1 -->\r\n",
       "<svg width=\"159pt\" height=\"131pt\"\r\n",
       " viewBox=\"0.00 0.00 158.90 130.91\" xmlns=\"http://www.w3.org/2000/svg\" xmlns:xlink=\"http://www.w3.org/1999/xlink\">\r\n",
       "<g id=\"graph0\" class=\"graph\" transform=\"scale(1 1) rotate(0) translate(79.4216 65.4848)\">\r\n",
       "<title>graphname</title>\r\n",
       "<polygon fill=\"white\" stroke=\"none\" points=\"-79.4216,65.4246 -79.4216,-65.4848 79.4743,-65.4848 79.4743,65.4246 -79.4216,65.4246\"/>\r\n",
       "<!-- 1 -->\r\n",
       "<g id=\"node1\" class=\"node\"><title>1</title>\r\n",
       "<ellipse fill=\"none\" stroke=\"black\" cx=\"-23.4598\" cy=\"26.1563\" rx=\"27\" ry=\"18\"/>\r\n",
       "<text text-anchor=\"middle\" x=\"-23.4598\" y=\"29.8563\" font-family=\"Times New Roman,serif\" font-size=\"14.00\">1</text>\r\n",
       "</g>\r\n",
       "<!-- 2 -->\r\n",
       "<g id=\"node2\" class=\"node\"><title>2</title>\r\n",
       "<ellipse fill=\"none\" stroke=\"black\" cx=\"-48.4216\" cy=\"-43.4848\" rx=\"27\" ry=\"18\"/>\r\n",
       "<text text-anchor=\"middle\" x=\"-48.4216\" y=\"-39.7848\" font-family=\"Times New Roman,serif\" font-size=\"14.00\">2</text>\r\n",
       "</g>\r\n",
       "<!-- 1&#45;&#45;2 -->\r\n",
       "<g id=\"edge1\" class=\"edge\"><title>1&#45;&#45;2</title>\r\n",
       "<path fill=\"none\" stroke=\"black\" d=\"M-35.6882,9.89126C-40.5257,-0.562713 -45.3292,-14.1445 -48.002,-25.0046\"/>\r\n",
       "</g>\r\n",
       "<!-- 1&#45;&#45;2 -->\r\n",
       "<g id=\"edge2\" class=\"edge\"><title>1&#45;&#45;2</title>\r\n",
       "<path fill=\"none\" stroke=\"black\" d=\"M-23.7887,8.04692C-26.4241,-2.79771 -31.2331,-16.4553 -36.0912,-26.999\"/>\r\n",
       "</g>\r\n",
       "<!-- 3 -->\r\n",
       "<g id=\"node3\" class=\"node\"><title>3</title>\r\n",
       "<ellipse fill=\"none\" stroke=\"black\" cx=\"48.4743\" cy=\"43.4246\" rx=\"27\" ry=\"18\"/>\r\n",
       "<text text-anchor=\"middle\" x=\"48.4743\" y=\"47.1246\" font-family=\"Times New Roman,serif\" font-size=\"14.00\">3</text>\r\n",
       "</g>\r\n",
       "<!-- 1&#45;&#45;3 -->\r\n",
       "<g id=\"edge3\" class=\"edge\"><title>1&#45;&#45;3</title>\r\n",
       "<path fill=\"none\" stroke=\"black\" d=\"M3.61954,25.9799C11.465,27.4581 19.9106,29.5453 27.3368,31.8527\"/>\r\n",
       "</g>\r\n",
       "<!-- 1&#45;&#45;3 -->\r\n",
       "<g id=\"edge4\" class=\"edge\"><title>1&#45;&#45;3</title>\r\n",
       "<path fill=\"none\" stroke=\"black\" d=\"M-2.5646,37.6527C4.90171,39.9844 13.4227,42.0964 21.3373,43.5901\"/>\r\n",
       "</g>\r\n",
       "<!-- 4 -->\r\n",
       "<g id=\"node4\" class=\"node\"><title>4</title>\r\n",
       "<ellipse fill=\"none\" stroke=\"black\" cx=\"23.407\" cy=\"-26.0961\" rx=\"27\" ry=\"18\"/>\r\n",
       "<text text-anchor=\"middle\" x=\"23.407\" y=\"-22.3961\" font-family=\"Times New Roman,serif\" font-size=\"14.00\">4</text>\r\n",
       "</g>\r\n",
       "<!-- 1&#45;&#45;4 -->\r\n",
       "<g id=\"edge5\" class=\"edge\"><title>1&#45;&#45;4</title>\r\n",
       "<path fill=\"none\" stroke=\"black\" d=\"M-9.3982,10.4789C-3.4664,3.86542 3.42464,-3.81747 9.35537,-10.4297\"/>\r\n",
       "</g>\r\n",
       "<!-- 2&#45;&#45;4 -->\r\n",
       "<g id=\"edge6\" class=\"edge\"><title>2&#45;&#45;4</title>\r\n",
       "<path fill=\"none\" stroke=\"black\" d=\"M-22.8952,-37.3052C-16.1209,-35.6653 -8.80704,-33.8947 -2.03709,-32.2558\"/>\r\n",
       "</g>\r\n",
       "<!-- 3&#45;&#45;4 -->\r\n",
       "<g id=\"edge7\" class=\"edge\"><title>3&#45;&#45;4</title>\r\n",
       "<path fill=\"none\" stroke=\"black\" d=\"M42.1488,25.8816C38.3778,15.4232 33.6037,2.18296 29.8177,-8.31689\"/>\r\n",
       "</g>\r\n",
       "</g>\r\n",
       "</svg>\r\n"
      ],
      "text/plain": [
       "IJuliaPortrayals.GraphViz(\"graph graphname {\\n1\\n2\\n3\\n4\\n1 -- 2\\n1 -- 2\\n1 -- 3\\n1 -- 3\\n1 -- 4\\n2 -- 4\\n3 -- 4\\n}\\n\",\"neato\",\"svg\")"
      ]
     },
     "execution_count": 11,
     "metadata": {},
     "output_type": "execute_result"
    }
   ],
   "source": [
    "GraphViz(to_dot(g),\"neato\", \"svg\")"
   ]
  },
  {
   "cell_type": "code",
   "execution_count": 12,
   "metadata": {
    "collapsed": false
   },
   "outputs": [
    {
     "data": {
      "text/plain": [
       "4x4 Array{Bool,2}:\n",
       " false   true   true   true\n",
       "  true  false  false   true\n",
       "  true  false  false   true\n",
       "  true   true   true  false"
      ]
     },
     "execution_count": 12,
     "metadata": {},
     "output_type": "execute_result"
    }
   ],
   "source": [
    "a=adjacency_matrix(g) #This is not what we want"
   ]
  },
  {
   "cell_type": "code",
   "execution_count": 13,
   "metadata": {
    "collapsed": false
   },
   "outputs": [
    {
     "data": {
      "text/plain": [
       "7-element Array{Graphs.Edge{Int64},1}:\n",
       " edge [1]: 1 -- 2\n",
       " edge [2]: 1 -- 2\n",
       " edge [3]: 1 -- 3\n",
       " edge [4]: 1 -- 3\n",
       " edge [5]: 1 -- 4\n",
       " edge [6]: 2 -- 4\n",
       " edge [7]: 3 -- 4"
      ]
     },
     "execution_count": 13,
     "metadata": {},
     "output_type": "execute_result"
    }
   ],
   "source": [
    "edges(g) # Lets look at the edges"
   ]
  },
  {
   "cell_type": "code",
   "execution_count": 14,
   "metadata": {
    "collapsed": false
   },
   "outputs": [
    {
     "data": {
      "text/plain": [
       "4x4 Array{Int64,2}:\n",
       " 0  2  2  1\n",
       " 2  0  0  1\n",
       " 2  0  0  1\n",
       " 1  1  1  0"
      ]
     },
     "execution_count": 14,
     "metadata": {},
     "output_type": "execute_result"
    }
   ],
   "source": [
    "weights=[2,2,2,2,1,1,1]  # We shall emulate our adjacency matrix with the weight matrix\n",
    "a=weight_matrix(g,weights)"
   ]
  },
  {
   "cell_type": "code",
   "execution_count": 15,
   "metadata": {
    "collapsed": false
   },
   "outputs": [
    {
     "data": {
      "text/plain": [
       "22"
      ]
     },
     "execution_count": 15,
     "metadata": {},
     "output_type": "execute_result"
    }
   ],
   "source": [
    "no_of_walks=(a^3)[1,2]"
   ]
  },
  {
   "cell_type": "markdown",
   "metadata": {},
   "source": [
    "## Pkg.checkout()\n",
    "\n",
    "The contents of a registered package obtained by the command `Pkg.add(\"Package_name\")` is fixed at the time of registration. \n",
    "\n",
    "The package owner may further develop the package, but those changes are not registered (until the registration of a new version). \n",
    "\n",
    "If you want to use the latest available version, the command `Pkg.cehckout(\"Package_name\")` downloads the latest master."
   ]
  },
  {
   "cell_type": "markdown",
   "metadata": {},
   "source": [
    "## Pkg.clone()\n",
    "\n",
    "Adds unregistered packages or repositories. Here the full GitHub address needs to be supplied.\n",
    "As an example, we shall use the package [LinearAlgebra.jl](https://github.com/andreasnoack/LinearAlgebra.jl).\n",
    "\n",
    "N.B. In Julia, the linear algebra routines are incorporated as wrappers of various \n",
    "[LAPACK ](http://www.netlib.org/lapack/). This package contains several routines written directly in Julia.\n",
    "\n",
    "By inspecting the file `src/LinearAlgebra.jl`, we see that nothing is exported so all methods need to be fully specified. We also see that the SVD related stuff may be in the file \n",
    "`src/svd.jl`. There we see that the sub-module `SVDModule` is defined, but with nothing eported, and we must specify the full command `LinearAlgebra.SVDModule.svdvals!()`.\n",
    "\n",
    "We shall compute the singular values of the bidiagonal unity Jordan form with the standard Julia function `svdvals()` and the function from the package."
   ]
  },
  {
   "cell_type": "code",
   "execution_count": 18,
   "metadata": {
    "collapsed": false
   },
   "outputs": [
    {
     "name": "stderr",
     "output_type": "stream",
     "text": [
      "INFO: Cloning LinearAlgebra from https://github.com/andreasnoack/LinearAlgebra.jl\n"
     ]
    },
    {
     "ename": "LoadError",
     "evalue": "LoadError: LinearAlgebra already exists\nwhile loading In[18], in expression starting on line 1",
     "output_type": "error",
     "traceback": [
      "LoadError: LinearAlgebra already exists\nwhile loading In[18], in expression starting on line 1",
      "",
      " in error at error.jl:21"
     ]
    }
   ],
   "source": [
    "Pkg.clone(\"https://github.com/andreasnoack/LinearAlgebra.jl\")"
   ]
  },
  {
   "cell_type": "code",
   "execution_count": 16,
   "metadata": {
    "collapsed": false
   },
   "outputs": [],
   "source": [
    "using LinearAlgebra"
   ]
  },
  {
   "cell_type": "code",
   "execution_count": 17,
   "metadata": {
    "collapsed": false
   },
   "outputs": [
    {
     "name": "stdout",
     "output_type": "stream",
     "text": [
      "                 LinearAlgebra    321 KB     Module\n",
      "                   numnegevals   2425 bytes  Function\n"
     ]
    }
   ],
   "source": [
    "whos(LinearAlgebra) # Not much of an information"
   ]
  },
  {
   "cell_type": "code",
   "execution_count": 18,
   "metadata": {
    "collapsed": false
   },
   "outputs": [
    {
     "name": "stdout",
     "output_type": "stream",
     "text": [
      "                     SVDModule     30 KB     Module\n"
     ]
    }
   ],
   "source": [
    "whos(LinearAlgebra.SVDModule) # Also no information"
   ]
  },
  {
   "cell_type": "code",
   "execution_count": 19,
   "metadata": {
    "collapsed": false
   },
   "outputs": [
    {
     "data": {
      "text/html": [
       "3 methods for generic function <b>svdvals!</b>:<ul><li> svdvals!<i>{T<:Real}</i>(B::<b>Bidiagonal{T<:Real}</b>) at <a href=\"file://C:\\Users\\Ivan\\.julia\\v0.4\\LinearAlgebra\\src\\svd.jl\" target=\"_blank\">C:\\Users\\Ivan\\.julia\\v0.4\\LinearAlgebra\\src\\svd.jl:107</a><li> svdvals!<i>{T<:Real}</i>(B::<b>Bidiagonal{T<:Real}</b>, tol) at <a href=\"file://C:\\Users\\Ivan\\.julia\\v0.4\\LinearAlgebra\\src\\svd.jl\" target=\"_blank\">C:\\Users\\Ivan\\.julia\\v0.4\\LinearAlgebra\\src\\svd.jl:107</a><li> svdvals!(A::<b>Union{DenseArray{T,2},SubArray{T,2,A<:DenseArray{T,N},I<:Tuple{Vararg{Union{Colon,Int64,Range{Int64}}}},LD}}</b>) at <a href=\"file://C:\\Users\\Ivan\\.julia\\v0.4\\LinearAlgebra\\src\\svd.jl\" target=\"_blank\">C:\\Users\\Ivan\\.julia\\v0.4\\LinearAlgebra\\src\\svd.jl:291</a></ul>"
      ],
      "text/plain": [
       "# 3 methods for generic function \"svdvals!\":\n",
       "svdvals!{T<:Real}(B::Bidiagonal{T<:Real}) at C:\\Users\\Ivan\\.julia\\v0.4\\LinearAlgebra\\src\\svd.jl:107\n",
       "svdvals!{T<:Real}(B::Bidiagonal{T<:Real}, tol) at C:\\Users\\Ivan\\.julia\\v0.4\\LinearAlgebra\\src\\svd.jl:107\n",
       "svdvals!(A::Union{DenseArray{T,2},SubArray{T,2,A<:DenseArray{T,N},I<:Tuple{Vararg{Union{Colon,Int64,Range{Int64}}}},LD}}) at C:\\Users\\Ivan\\.julia\\v0.4\\LinearAlgebra\\src\\svd.jl:291"
      ]
     },
     "execution_count": 19,
     "metadata": {},
     "output_type": "execute_result"
    }
   ],
   "source": [
    "methods(LinearAlgebra.SVDModule.svdvals!)"
   ]
  },
  {
   "cell_type": "code",
   "execution_count": 20,
   "metadata": {
    "collapsed": false
   },
   "outputs": [
    {
     "data": {
      "text/plain": [
       "7-element Array{Any,1}:\n",
       " call{T}(::Type{Bidiagonal{T}}, dv::AbstractArray{T,1}, ev::AbstractArray{T,1}, isupper::Bool) at linalg/bidiag.jl:15      \n",
       " call{T}(::Type{Bidiagonal{T}}, dv::AbstractArray{T,1}, ev::AbstractArray{T,1}) at linalg/bidiag.jl:16                     \n",
       " call(::Type{Bidiagonal{T}}, dv::AbstractArray{T,1}, ev::AbstractArray{T,1}, uplo::Char) at linalg/bidiag.jl:19            \n",
       " call{Td,Te}(::Type{Bidiagonal{T}}, dv::AbstractArray{Td,1}, ev::AbstractArray{Te,1}, isupper::Bool) at linalg/bidiag.jl:30\n",
       " call(::Type{Bidiagonal{T}}, A::AbstractArray{T,2}, isupper::Bool) at linalg/bidiag.jl:34                                  \n",
       " call{T}(::Type{T}, arg) at essentials.jl:56                                                                               \n",
       " call{T}(::Type{T}, args...) at essentials.jl:57                                                                           "
      ]
     },
     "execution_count": 20,
     "metadata": {},
     "output_type": "execute_result"
    }
   ],
   "source": [
    "methods(Bidiagonal) # We now know how to define bidiagonal matrix"
   ]
  },
  {
   "cell_type": "code",
   "execution_count": 21,
   "metadata": {
    "collapsed": false
   },
   "outputs": [
    {
     "data": {
      "text/plain": [
       "70x70 Bidiagonal{Float64}:\n",
       " 0.5  1.0  0.0  0.0  0.0  0.0  0.0  0.0  …  0.0  0.0  0.0  0.0  0.0  0.0  0.0\n",
       " 0.0  0.5  1.0  0.0  0.0  0.0  0.0  0.0     0.0  0.0  0.0  0.0  0.0  0.0  0.0\n",
       " 0.0  0.0  0.5  1.0  0.0  0.0  0.0  0.0     0.0  0.0  0.0  0.0  0.0  0.0  0.0\n",
       " 0.0  0.0  0.0  0.5  1.0  0.0  0.0  0.0     0.0  0.0  0.0  0.0  0.0  0.0  0.0\n",
       " 0.0  0.0  0.0  0.0  0.5  1.0  0.0  0.0     0.0  0.0  0.0  0.0  0.0  0.0  0.0\n",
       " 0.0  0.0  0.0  0.0  0.0  0.5  1.0  0.0  …  0.0  0.0  0.0  0.0  0.0  0.0  0.0\n",
       " 0.0  0.0  0.0  0.0  0.0  0.0  0.5  1.0     0.0  0.0  0.0  0.0  0.0  0.0  0.0\n",
       " 0.0  0.0  0.0  0.0  0.0  0.0  0.0  0.5     0.0  0.0  0.0  0.0  0.0  0.0  0.0\n",
       " 0.0  0.0  0.0  0.0  0.0  0.0  0.0  0.0     0.0  0.0  0.0  0.0  0.0  0.0  0.0\n",
       " 0.0  0.0  0.0  0.0  0.0  0.0  0.0  0.0     0.0  0.0  0.0  0.0  0.0  0.0  0.0\n",
       " 0.0  0.0  0.0  0.0  0.0  0.0  0.0  0.0  …  0.0  0.0  0.0  0.0  0.0  0.0  0.0\n",
       " 0.0  0.0  0.0  0.0  0.0  0.0  0.0  0.0     0.0  0.0  0.0  0.0  0.0  0.0  0.0\n",
       " 0.0  0.0  0.0  0.0  0.0  0.0  0.0  0.0     0.0  0.0  0.0  0.0  0.0  0.0  0.0\n",
       " ⋮                        ⋮              ⋱            ⋮                      \n",
       " 0.0  0.0  0.0  0.0  0.0  0.0  0.0  0.0     0.0  0.0  0.0  0.0  0.0  0.0  0.0\n",
       " 0.0  0.0  0.0  0.0  0.0  0.0  0.0  0.0     0.0  0.0  0.0  0.0  0.0  0.0  0.0\n",
       " 0.0  0.0  0.0  0.0  0.0  0.0  0.0  0.0  …  0.0  0.0  0.0  0.0  0.0  0.0  0.0\n",
       " 0.0  0.0  0.0  0.0  0.0  0.0  0.0  0.0     0.0  0.0  0.0  0.0  0.0  0.0  0.0\n",
       " 0.0  0.0  0.0  0.0  0.0  0.0  0.0  0.0     1.0  0.0  0.0  0.0  0.0  0.0  0.0\n",
       " 0.0  0.0  0.0  0.0  0.0  0.0  0.0  0.0     0.5  1.0  0.0  0.0  0.0  0.0  0.0\n",
       " 0.0  0.0  0.0  0.0  0.0  0.0  0.0  0.0     0.0  0.5  1.0  0.0  0.0  0.0  0.0\n",
       " 0.0  0.0  0.0  0.0  0.0  0.0  0.0  0.0  …  0.0  0.0  0.5  1.0  0.0  0.0  0.0\n",
       " 0.0  0.0  0.0  0.0  0.0  0.0  0.0  0.0     0.0  0.0  0.0  0.5  1.0  0.0  0.0\n",
       " 0.0  0.0  0.0  0.0  0.0  0.0  0.0  0.0     0.0  0.0  0.0  0.0  0.5  1.0  0.0\n",
       " 0.0  0.0  0.0  0.0  0.0  0.0  0.0  0.0     0.0  0.0  0.0  0.0  0.0  0.5  1.0\n",
       " 0.0  0.0  0.0  0.0  0.0  0.0  0.0  0.0     0.0  0.0  0.0  0.0  0.0  0.0  0.5"
      ]
     },
     "execution_count": 21,
     "metadata": {},
     "output_type": "execute_result"
    }
   ],
   "source": [
    "n=70\n",
    "c=0.5\n",
    "J=Bidiagonal(c*ones(n),ones(n-1),true)"
   ]
  },
  {
   "cell_type": "code",
   "execution_count": 26,
   "metadata": {
    "collapsed": false
   },
   "outputs": [
    {
     "name": "stdout",
     "output_type": "stream",
     "text": [
      "  0.000173 seconds (19 allocations: 11.000 KB)\n"
     ]
    }
   ],
   "source": [
    "@time s=svdvals(J);"
   ]
  },
  {
   "cell_type": "markdown",
   "metadata": {},
   "source": [
    "Julia uses convention that function names ending in `!` overwrite the input data.\n",
    "Thus, we first make a copy of `J`."
   ]
  },
  {
   "cell_type": "code",
   "execution_count": 23,
   "metadata": {
    "collapsed": false
   },
   "outputs": [],
   "source": [
    "J1=deepcopy(J);"
   ]
  },
  {
   "cell_type": "code",
   "execution_count": 24,
   "metadata": {
    "collapsed": false
   },
   "outputs": [
    {
     "data": {
      "text/plain": [
       "3x3 Bidiagonal{Float64}:\n",
       " 1.0  1.0  0.0\n",
       " 0.0  1.0  1.0\n",
       " 0.0  0.0  1.0"
      ]
     },
     "execution_count": 24,
     "metadata": {},
     "output_type": "execute_result"
    }
   ],
   "source": [
    "J0=Bidiagonal([1.0,1,1],[1,1],true)"
   ]
  },
  {
   "cell_type": "code",
   "execution_count": 25,
   "metadata": {
    "collapsed": false
   },
   "outputs": [
    {
     "data": {
      "text/plain": [
       "3-element Array{Float64,1}:\n",
       " 1.80194 \n",
       " 1.24698 \n",
       " 0.445042"
      ]
     },
     "execution_count": 25,
     "metadata": {},
     "output_type": "execute_result"
    }
   ],
   "source": [
    "LinearAlgebra.SVDModule.svdvals!(J0)"
   ]
  },
  {
   "cell_type": "code",
   "execution_count": 28,
   "metadata": {
    "collapsed": false
   },
   "outputs": [
    {
     "name": "stdout",
     "output_type": "stream",
     "text": [
      "  0.000041 seconds (16 allocations: 1.984 KB)\n"
     ]
    }
   ],
   "source": [
    "@time s1=LinearAlgebra.SVDModule.svdvals!(J1);"
   ]
  },
  {
   "cell_type": "code",
   "execution_count": 29,
   "metadata": {
    "collapsed": false
   },
   "outputs": [
    {
     "data": {
      "text/plain": [
       "(Array{Float64,1},[1.49967,1.49867,1.49701,1.49468,1.4917,1.48805,1.48375,1.47879,1.47318,1.46693  …  0.576594,0.561598,0.547933,0.535733,0.525133,0.516259,0.509224,0.504125,0.501035,6.35275e-22])"
      ]
     },
     "execution_count": 29,
     "metadata": {},
     "output_type": "execute_result"
    }
   ],
   "source": [
    "typeof(s1), s1"
   ]
  },
  {
   "cell_type": "code",
   "execution_count": 30,
   "metadata": {
    "collapsed": false
   },
   "outputs": [
    {
     "data": {
      "text/plain": [
       "(6.352747104407252e-22,6.352747104407255e-22)"
      ]
     },
     "execution_count": 30,
     "metadata": {},
     "output_type": "execute_result"
    }
   ],
   "source": [
    "# The tiny singular value is accurate\n",
    "s[70], s1[70]"
   ]
  },
  {
   "cell_type": "markdown",
   "metadata": {
    "collapsed": true
   },
   "source": [
    "## `Pkg.rm()`\n",
    "\n",
    "This command removes (deletes) added or cloned packages and all required packages not in use otherwise."
   ]
  },
  {
   "cell_type": "code",
   "execution_count": 38,
   "metadata": {
    "collapsed": false
   },
   "outputs": [
    {
     "name": "stderr",
     "output_type": "stream",
     "text": [
      "INFO: Removing Graphs v0.6.0\n",
      "INFO: Package database updated\n"
     ]
    }
   ],
   "source": [
    "Pkg.rm(\"Graphs\")"
   ]
  },
  {
   "cell_type": "code",
   "execution_count": 39,
   "metadata": {
    "collapsed": false
   },
   "outputs": [
    {
     "name": "stderr",
     "output_type": "stream",
     "text": [
      "INFO: Removing LinearAlgebra (unregistered)\n"
     ]
    }
   ],
   "source": [
    "Pkg.rm(\"LinearAlgebra\")"
   ]
  },
  {
   "cell_type": "code",
   "execution_count": 40,
   "metadata": {
    "collapsed": false
   },
   "outputs": [
    {
     "name": "stdout",
     "output_type": "stream",
     "text": [
      "Union{ASCIIString,UTF8String}[\"ArrayViews\",\"Arrowhead\",\"BinDeps\",\".cache\",\"Cairo\",\"Calculus\",\"Codecs\",\"Colors\",\"ColorTypes\",\"Compat\",\"Compose\",\"Conda\",\"Contour\",\"DataArrays\",\"DataFrames\",\"DataStructures\",\"Dates\",\"Distances\",\"Distributions\",\"Docile\",\"DoubleDouble\",\"DualNumbers\",\"FixedPointNumbers\",\"FixedSizeArrays\",\"Fontconfig\",\"Gadfly\",\"Graphics\",\"Grid\",\"GZip\",\"Hexagons\",\"IJulia\",\"IJuliaPortrayals\",\"IniFile\",\"Interact\",\"IterativeSolvers\",\"Iterators\",\"JSON\",\"KernelDensity\",\"Loess\",\"MatrixDepot\",\"Measures\",\"META_BRANCH\",\"METADATA\",\"NaNMath\",\"Nettle\",\"Optim\",\"PDMats\",\"Polynomials\",\"PositiveFactorizations\",\"Reactive\",\"Reexport\",\"REQUIRE\",\"SHA\",\"Showoff\",\"SortingAlgorithms\",\"SpecialMatrices\",\"StatsBase\",\"StatsFuns\",\"Tk\",\".trash\",\"URIParser\",\"Winston\",\"WoodburyMatrices\",\"ZMQ\"]\n"
     ]
    }
   ],
   "source": [
    "a=readdir(\"/home/slap/.julia/v0.4\"); # or /users/Ivan in Windows\n",
    "println(a)"
   ]
  },
  {
   "cell_type": "markdown",
   "metadata": {
    "collapsed": true
   },
   "source": [
    "## Creating packages\n",
    "\n",
    "You need to use GitHub:\n",
    "\n",
    "1. Go to [GitHub](https://github.com) and `Sign up` and `Sign in`.\n",
    "2. [Set up Git](https://help.github.com/articles/set-up-git/#platform-windows) at your computer. \n",
    "\n",
    "N.B. Check out [GitHub Guides](https://guides.github.com/).\n",
    "\n",
    "One way to start developing packages is \n",
    "\n",
    "1. [Create new repository](https://help.github.com/articles/create-a-repo/) at GitHub.\n",
    "2. Clone the created package to your computer with\n",
    "```\n",
    "git clone https://github.com/your_user_name/your_repository_name.jl\n",
    "```\n",
    "3. Start writing your code as described in [Contents of the Package](#contents).\n",
    "4. Check what you have changed \n",
    "```\n",
    "git commit\n",
    "```\n",
    "5. Add changes to be commited with \n",
    "```\n",
    "git add file1 file2 ...\n",
    "```\n",
    "6. Commit the changes (you need to supply the message)\n",
    "```\n",
    "git commit\n",
    "```\n",
    "7. Push the changes to your GitHub repository\n",
    "```\n",
    "git push\n",
    "```\n",
    "\n",
    "N.B. There are various other possibilities and shorthands (see the Guides).\n",
    "For example, steps 4., 5. and 6. can be shortened with\n",
    "```\n",
    "git commit -am \"your message\"\n",
    "```\n",
    "Also, if you work on your package from two computers, you may need to synchronize your repository: assume that you pushed the changes that you made on computer A to GitHub, and that you want to continue to work on your repository from computer B. Then, you obviously need to synchronize computer B with the latest version from GitHub. This is done with the following commands issued on computer B:\n",
    "```\n",
    "git fetch origin\n",
    "git reset --hard origin/master\n",
    "git clean -f -d\n",
    "```\n",
    "\n"
   ]
  },
  {
   "cell_type": "markdown",
   "metadata": {
    "collapsed": true
   },
   "source": [
    "## Be social\n",
    "\n",
    "You can fork other people's repositories, and use them and change them as your own. You can make pull requests to incorporate those changes to those repositories.\n",
    "\n",
    "You can easily make different branches of your repository, and test different options.\n",
    "\n",
    "GitHub enables you to share your work with others, so even small, undocumented packages can be very useful."
   ]
  },
  {
   "cell_type": "code",
   "execution_count": null,
   "metadata": {
    "collapsed": true
   },
   "outputs": [],
   "source": []
  }
 ],
 "metadata": {
  "kernelspec": {
   "display_name": "Julia 0.4.5",
   "language": "julia",
   "name": "julia-0.4"
  },
  "language_info": {
   "file_extension": ".jl",
   "mimetype": "application/julia",
   "name": "julia",
   "version": "0.4.5"
  }
 },
 "nbformat": 4,
 "nbformat_minor": 0
}
