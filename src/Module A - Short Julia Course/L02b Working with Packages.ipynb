{
 "cells": [
  {
   "cell_type": "markdown",
   "metadata": {},
   "source": [
    "# Working with Packages\n",
    "\n",
    "---\n",
    "\n",
    "Starting Julia loads Julia kernel and `Base` module. The `Base` (core) is kept small and all other functionality is accessible through packages which need to be individually included by the user.\n",
    "\n",
    "Currently there are __900+__ registered packages listed at \n",
    "[Julia Package Listing](http://pkg.julialang.org/).\n",
    "\n",
    "In this notebook, we demonstrate how to use packages.\n",
    "\n",
    "## Prerequisites\n",
    "\n",
    "Read sections [Packages](http://docs.julialang.org/en/release-0.4/manual/packages/) and \n",
    "[Package Development](http://docs.julialang.org/en/release-0.4/manual/packages/#package-development) of the Julia manual (15 min). \n",
    "\n",
    "\n",
    "## Competences \n",
    "\n",
    "The reader should be able to install and use registered and unregistered packages and create own packages.\n",
    "\n",
    "\n",
    "## Credits \n",
    "\n",
    "Some examples are taken from [The Julia Manual](http://julia.readthedocs.org/en/latest/manual/).\n",
    "\n",
    "---"
   ]
  },
  {
   "cell_type": "markdown",
   "metadata": {},
   "source": [
    "## `Pkg.status()`"
   ]
  },
  {
   "cell_type": "code",
   "execution_count": 1,
   "metadata": {
    "collapsed": false
   },
   "outputs": [
    {
     "data": {
      "text/latex": [
       "\\begin{verbatim}\n",
       "status()\n",
       "\\end{verbatim}\n",
       "Prints out a summary of what packages are installed and what version and state they're in.\n"
      ],
      "text/markdown": [
       "```\n",
       "status()\n",
       "```\n",
       "\n",
       "Prints out a summary of what packages are installed and what version and state they're in.\n"
      ],
      "text/plain": [
       "```\n",
       "status()\n",
       "```\n",
       "\n",
       "Prints out a summary of what packages are installed and what version and state they're in.\n"
      ]
     },
     "execution_count": 1,
     "metadata": {},
     "output_type": "execute_result"
    }
   ],
   "source": [
    "?Pkg.status()"
   ]
  },
  {
   "cell_type": "code",
   "execution_count": 2,
   "metadata": {
    "collapsed": false,
    "scrolled": true
   },
   "outputs": [
    {
     "name": "stdout",
     "output_type": "stream",
     "text": [
      "11 required packages:\n",
      " - Arrowhead                     0.0.1+             master\n",
      " - Cairo                         0.2.31\n",
      " - DataFrames                    0.7.0\n",
      " - Fontconfig                    0.0.2\n",
      " - Gadfly                        0.4.2\n",
      " - IJulia                        1.1.9\n",
      " - Interact                      0.3.1\n",
      " - IterativeSolvers              0.2.2\n",
      " - MatrixDepot                   0.5.5\n",
      " - SpecialMatrices               0.1.3\n",
      " - Winston                       0.11.13\n",
      "47 additional packages:\n",
      " - ArrayViews                    0.6.4\n",
      " - BinDeps                       0.3.21\n",
      " - Calculus                      0.1.14\n",
      " - Codecs                        0.1.5\n",
      " - ColorTypes                    0.2.2\n",
      " - Colors                        0.6.3\n",
      " - Compat                        0.7.14\n",
      " - Compose                       0.4.2\n",
      " - Conda                         0.1.9\n",
      " - Contour                       0.1.0\n",
      " - DataArrays                    0.2.20\n",
      " - DataStructures                0.4.4\n",
      " - Dates                         0.4.4\n",
      " - Distances                     0.3.0\n",
      " - Distributions                 0.8.10\n",
      " - Docile                        0.5.23\n",
      " - DoubleDouble                  0.1.0\n",
      " - DualNumbers                   0.2.2\n",
      " - FixedPointNumbers             0.1.3\n",
      " - FixedSizeArrays               0.1.0\n",
      " - GZip                          0.2.18\n",
      " - Graphics                      0.1.3\n",
      " - Grid                          0.4.0\n",
      " - Hexagons                      0.0.4\n",
      " - IniFile                       0.2.5\n",
      " - Iterators                     0.1.9\n",
      " - JSON                          0.5.0\n",
      " - KernelDensity                 0.1.2\n",
      " - Loess                         0.0.6\n",
      " - Measures                      0.0.2\n",
      " - NaNMath                       0.2.1\n",
      " - Nettle                        0.2.3\n",
      " - Optim                         0.4.5\n",
      " - PDMats                        0.4.1\n",
      " - Polynomials                   0.0.5\n",
      " - PositiveFactorizations        0.0.1\n",
      " - Reactive                      0.3.2\n",
      " - Reexport                      0.0.3\n",
      " - SHA                           0.1.2\n",
      " - Showoff                       0.0.6\n",
      " - SortingAlgorithms             0.0.6\n",
      " - StatsBase                     0.8.0\n",
      " - StatsFuns                     0.2.0\n",
      " - Tk                            0.3.7\n",
      " - URIParser                     0.1.3\n",
      " - WoodburyMatrices              0.1.5\n",
      " - ZMQ                           0.3.1\n"
     ]
    }
   ],
   "source": [
    "Pkg.status() # This is slow due to communication with GitHub"
   ]
  },
  {
   "cell_type": "markdown",
   "metadata": {
    "collapsed": false
   },
   "source": [
    "## `Pkg.add()`\n",
    "\n",
    "This command adds registered package from [Julia Package Listing](http://pkg.julialang.org/).\n",
    "Adding the package downloads the package source code (and all other required packages) to your `.julia/v0.4/` directory.\n",
    "\n",
    "GitHub repository names of registered Julia packages always end with the extension `.jl`, which is ommited in `Pkg.add()` command. The example below installs the package from the GitHub repository https://github.com/JuliaLang/Graphs.jl.\n",
    "\n",
    "N.B. There are other registered packages dealing with graphs, please check them out."
   ]
  },
  {
   "cell_type": "code",
   "execution_count": 3,
   "metadata": {
    "collapsed": false
   },
   "outputs": [
    {
     "data": {
      "text/latex": [
       "\\begin{verbatim}\n",
       "add(pkg, vers...)\n",
       "\\end{verbatim}\n",
       "Add a requirement entry for \\texttt{pkg} to \\texttt{Pkg.dir(\"REQUIRE\")} and call \\texttt{Pkg.resolve()}. If \\texttt{vers} are given, they must be \\texttt{VersionNumber} objects and they specify acceptable version intervals for \\texttt{pkg}.\n"
      ],
      "text/markdown": [
       "```\n",
       "add(pkg, vers...)\n",
       "```\n",
       "\n",
       "Add a requirement entry for `pkg` to `Pkg.dir(\"REQUIRE\")` and call `Pkg.resolve()`. If `vers` are given, they must be `VersionNumber` objects and they specify acceptable version intervals for `pkg`.\n"
      ],
      "text/plain": [
       "```\n",
       "add(pkg, vers...)\n",
       "```\n",
       "\n",
       "Add a requirement entry for `pkg` to `Pkg.dir(\"REQUIRE\")` and call `Pkg.resolve()`. If `vers` are given, they must be `VersionNumber` objects and they specify acceptable version intervals for `pkg`.\n"
      ]
     },
     "execution_count": 3,
     "metadata": {},
     "output_type": "execute_result"
    }
   ],
   "source": [
    "?Pkg.add"
   ]
  },
  {
   "cell_type": "code",
   "execution_count": 4,
   "metadata": {
    "collapsed": false
   },
   "outputs": [
    {
     "name": "stderr",
     "output_type": "stream",
     "text": [
      "INFO: Cloning cache of Graphs from git://github.com/JuliaLang/Graphs.jl.git\n",
      "INFO: Installing Graphs v0.6.0\n",
      "INFO: Package database updated\n"
     ]
    }
   ],
   "source": [
    "Pkg.add(\"Graphs\")"
   ]
  },
  {
   "cell_type": "code",
   "execution_count": 6,
   "metadata": {
    "collapsed": false
   },
   "outputs": [
    {
     "data": {
      "text/plain": [
       "63-element Array{ByteString,1}:\n",
       " \"ArrayViews\"       \n",
       " \"Arrowhead\"        \n",
       " \"BinDeps\"          \n",
       " \".cache\"           \n",
       " \"Cairo\"            \n",
       " \"Calculus\"         \n",
       " \"Codecs\"           \n",
       " \"Colors\"           \n",
       " \"ColorTypes\"       \n",
       " \"Compat\"           \n",
       " \"Compose\"          \n",
       " \"Conda\"            \n",
       " \"Contour\"          \n",
       " ⋮                  \n",
       " \"REQUIRE\"          \n",
       " \"SHA\"              \n",
       " \"Showoff\"          \n",
       " \"SortingAlgorithms\"\n",
       " \"SpecialMatrices\"  \n",
       " \"StatsBase\"        \n",
       " \"StatsFuns\"        \n",
       " \"Tk\"               \n",
       " \"URIParser\"        \n",
       " \"Winston\"          \n",
       " \"WoodburyMatrices\" \n",
       " \"ZMQ\"              "
      ]
     },
     "execution_count": 6,
     "metadata": {},
     "output_type": "execute_result"
    }
   ],
   "source": [
    "a=readdir(\"/home/slap/.julia/v0.4\") # This is Julia's default display"
   ]
  },
  {
   "cell_type": "code",
   "execution_count": 7,
   "metadata": {
    "collapsed": false
   },
   "outputs": [
    {
     "name": "stdout",
     "output_type": "stream",
     "text": [
      "Union{ASCIIString,UTF8String}[\"ArrayViews\",\"Arrowhead\",\"BinDeps\",\".cache\",\"Cairo\",\"Calculus\",\"Codecs\",\"Colors\",\"ColorTypes\",\"Compat\",\"Compose\",\"Conda\",\"Contour\",\"DataArrays\",\"DataFrames\",\"DataStructures\",\"Dates\",\"Distances\",\"Distributions\",\"Docile\",\"DoubleDouble\",\"DualNumbers\",\"FixedPointNumbers\",\"FixedSizeArrays\",\"Fontconfig\",\"Gadfly\",\"Graphics\",\"Graphs\",\"Grid\",\"GZip\",\"Hexagons\",\"IJulia\",\"IniFile\",\"Interact\",\"IterativeSolvers\",\"Iterators\",\"JSON\",\"KernelDensity\",\"Loess\",\"MatrixDepot\",\"Measures\",\"META_BRANCH\",\"METADATA\",\"NaNMath\",\"Nettle\",\"Optim\",\"PDMats\",\"Polynomials\",\"PositiveFactorizations\",\"Reactive\",\"Reexport\",\"REQUIRE\",\"SHA\",\"Showoff\",\"SortingAlgorithms\",\"SpecialMatrices\",\"StatsBase\",\"StatsFuns\",\"Tk\",\"URIParser\",\"Winston\",\"WoodburyMatrices\",\"ZMQ\"]\n"
     ]
    }
   ],
   "source": [
    "println(a)"
   ]
  },
  {
   "cell_type": "markdown",
   "metadata": {},
   "source": [
    "## <a name=\"contents\"></a> Contents of a package\n",
    "\n",
    "We now have directory `/home/slap/.julia/v0.4/Graphs`. Let us examine its content\n",
    "(this can also be done directly from the GitHub repository  https://github.com/JuliaLang/Graphs.jl).\n",
    "\n",
    "### Files\n",
    "\n",
    "Each package has the following three files:\n",
    "\n",
    "- `REQUIRE` \n",
    "    - may contain the version of Julia needed for the package to run\n",
    "    - must contain all other registered packages that the present package is using (these packages are installed automatically, if not present) and\n",
    "    - may contain the version of those packages. \n",
    "    \n",
    "    \n",
    "    \n",
    "- `README.md` is the Markdown file, which contains the descritption of the package as displayed on the repository's home page.\n",
    "- `LICENSE.md` contains the licensing information.\n",
    "\n",
    "The file `travis.yml`, if present, defines how is the package tested on [Travis-CI](https://travis-ci.org/) after every posted change (via `git push` command). \n",
    "Details on using Travis-CI for Julia projects are at \n",
    "https://docs.travis-ci.com/user/languages/julia. Since testing is done on machines other than yours, with operating systems other than yours, and using Julia version which may differ from yours, this is a great way to correct bugs, and also a way to give users examples of how to run your code.\n",
    "\n",
    "### Directories\n",
    "\n",
    "The `src/` directory contains the actual code of your package.\n",
    "\n",
    "It must contan the file named as the package itself, `src/Graphs.jl` in this case, which containd the following:\n",
    "\n",
    "- `module` line starts the description of the main module, which has the same name as the package,\n",
    "- `using` line(s) lists other registered packages used by the package. These packages are also listed in the `REQUIRE` file.\n",
    "- `import` line lists the other modules and their components which are modified in this module\n",
    "- `export` line lists all component which will be accessible directly in the main namespace. The components which are not exported, can still be used but the full name (including mogule name) must be used\n",
    "- `include()` commands include the source files\n",
    "- `end` concludes the description of the module.\n",
    "\n",
    "If Travis-CI is used, the `test/` directory contains the file `runtests.jl` which is exaceuted during the testing, and, eventually, other files that this file is calling.\n",
    "\n",
    "The `doc/` is optional and is used to store documentation.\n",
    "\n",
    "The `deps/` directory is optional and is used to store dependencies if the package is using software written in other languages. There are many examples which can be checked out."
   ]
  },
  {
   "cell_type": "markdown",
   "metadata": {},
   "source": [
    "## `using` and `import`\n",
    "\n",
    "Package needs to be added only once, prior to the first use.\n",
    "We are now ready to use the package. \n",
    "\n",
    "We have two methods to do so, which differ in\n",
    "their treatment of the namespace:\n",
    "* `using` adds all methods,  constructors etc. from the package into the main namespace, so they can be called directly, like the function `simple_graph(4)` below.\n",
    "* `import` enables us to use all the methods, constructors, etc. from the package, but they are not included in the namespace, so they must be called together with the package name,\n",
    "`Graphs.simple_graph(4)`.\n",
    "\n",
    "N.B. `import` can also be used on a particular function(s), as we shall explain later."
   ]
  },
  {
   "cell_type": "code",
   "execution_count": 8,
   "metadata": {
    "collapsed": false
   },
   "outputs": [],
   "source": [
    "using Graphs"
   ]
  },
  {
   "cell_type": "code",
   "execution_count": 9,
   "metadata": {
    "collapsed": false,
    "scrolled": true
   },
   "outputs": [
    {
     "name": "stdout",
     "output_type": "stream",
     "text": [
      "             @graph_implements    363 bytes  Function\n",
      "               @graph_requires    361 bytes  Function\n",
      "       AbstractDijkstraVisitor     92 bytes  DataType\n",
      " AbstractEdgePropertyInspector    148 bytes  DataType\n",
      "                 AbstractGraph    188 bytes  DataType\n",
      "          AbstractGraphVisitor     92 bytes  DataType\n",
      "            AbstractMASVisitor     92 bytes  DataType\n",
      "           AbstractPrimVisitor     92 bytes  DataType\n",
      "                 AdjacencyList     80 bytes  TypeConstructor\n",
      "                 AttributeDict    200 bytes  DataType\n",
      "AttributeEdgePropertyInspector    168 bytes  DataType\n",
      "             BellmanFordStates    232 bytes  DataType\n",
      "                  BreadthFirst     92 bytes  DataType\n",
      " ConstantEdgePropertyInspector    168 bytes  DataType\n",
      "                    DepthFirst     92 bytes  DataType\n",
      "                DijkstraStates    348 bytes  DataType\n",
      "                          Edge    192 bytes  DataType\n",
      "                      EdgeList    120 bytes  TypeConstructor\n",
      "                        ExEdge    204 bytes  DataType\n",
      "                      ExVertex    136 bytes  DataType\n",
      "          GenericAdjacencyList    284 bytes  DataType\n",
      "               GenericEdgeList    312 bytes  DataType\n",
      "                  GenericGraph    388 bytes  DataType\n",
      "          GenericIncidenceList    324 bytes  DataType\n",
      "                         Graph    120 bytes  TypeConstructor\n",
      "                        Graphs    366 KB     Module\n",
      "                 IncidenceList    120 bytes  TypeConstructor\n",
      "                     KeyVertex    180 bytes  DataType\n",
      "               LogGraphVisitor    168 bytes  DataType\n",
      "              MaximumAdjacency     92 bytes  DataType\n",
      "            NegativeCycleError     92 bytes  DataType\n",
      "                    PrimStates    336 bytes  DataType\n",
      "           SimpleAdjacencyList    172 bytes  DataType\n",
      "                   SimpleGraph    212 bytes  DataType\n",
      "           SimpleIncidenceList    180 bytes  DataType\n",
      "           TrivialGraphVisitor     92 bytes  DataType\n",
      "   VectorEdgePropertyInspector    168 bytes  DataType\n",
      "                  WeightedEdge    220 bytes  DataType\n",
      "                     add_edge!   7394 bytes  Function\n",
      "                   add_vertex!   5916 bytes  Function\n",
      "              adjacency_matrix   1013 bytes  Function\n",
      "       adjacency_matrix_sparse   1027 bytes  Function\n",
      "                       adjlist   3120 bytes  Function\n",
      "                    attributes    950 bytes  Function\n",
      "   bellman_ford_shortest_paths   1635 bytes  Function\n",
      "  bellman_ford_shortest_paths!   4672 bytes  Function\n",
      "                 close_vertex!   6920 bytes  Function\n",
      "                 collect_edges   2002 bytes  Function\n",
      "        collect_weighted_edges   3590 bytes  Function\n",
      "          connected_components   2084 bytes  Function\n",
      "    create_bellman_ford_states   1067 bytes  Function\n",
      "        create_dijkstra_states   1430 bytes  Function\n",
      "            create_prim_states   1293 bytes  Function\n",
      "       dijkstra_shortest_paths   6348 bytes  Function\n",
      "      dijkstra_shortest_paths!   4450 bytes  Function\n",
      "dijkstra_shortest_paths_withlog   1496 bytes  Function\n",
      "              discover_vertex!   6497 bytes  Function\n",
      "               distance_matrix   1232 bytes  Function\n",
      "                    edge_index   2351 bytes  Function\n",
      "                 edge_property   1745 bytes  Function\n",
      "     edge_property_requirement    668 bytes  Function\n",
      "                     edge_type    578 bytes  Function\n",
      "                      edgelist   1887 bytes  Function\n",
      "                         edges    894 bytes  Function\n",
      "             enumerate_indices   2949 bytes  Function\n",
      "               enumerate_paths   2347 bytes  Function\n",
      "             erdos_renyi_graph   3449 bytes  Function\n",
      "                 examine_edge!   2797 bytes  Function\n",
      "             examine_neighbor!   4629 bytes  Function\n",
      "                floyd_warshall    605 bytes  Function\n",
      "               floyd_warshall!   5472 bytes  Function\n",
      "                    gdistances   1646 bytes  Function\n",
      "                   gdistances!   2353 bytes  Function\n",
      "                         graph   1823 bytes  Function\n",
      "       has_negative_edge_cycle   1792 bytes  Function\n",
      "     implements_adjacency_list   1298 bytes  Function\n",
      "   implements_adjacency_matrix    474 bytes  Function\n",
      "implements_bidirectional_adjacency_list    862 bytes  Function\n",
      "implements_bidirectional_incidence_list    862 bytes  Function\n",
      "          implements_edge_list   1250 bytes  Function\n",
      "           implements_edge_map   1638 bytes  Function\n",
      "     implements_incidence_list    902 bytes  Function\n",
      "        implements_vertex_list   2026 bytes  Function\n",
      "         implements_vertex_map   2026 bytes  Function\n",
      "                     in_degree    568 bytes  Function\n",
      "                      in_edges    596 bytes  Function\n",
      "                  in_neighbors    586 bytes  Function\n",
      "                       inclist   6412 bytes  Function\n",
      "                   is_directed   1726 bytes  Function\n",
      "      kruskal_minimum_spantree   3128 bytes  Function\n",
      "                kruskal_select   2841 bytes  Function\n",
      "              laplacian_matrix   8854 bytes  Function\n",
      "       laplacian_matrix_sparse     13 KB     Function\n",
      "                     make_edge   1179 bytes  Function\n",
      "                   make_vertex   1044 bytes  Function\n",
      "               maximal_cliques   8430 bytes  Function\n",
      "       maximum_adjacency_visit   5962 bytes  Function\n",
      "                       min_cut   3582 bytes  Function\n",
      "          moebius_kantor_graph    813 bytes  Function\n",
      "                     num_edges   1716 bytes  Function\n",
      "                  num_vertices   1738 bytes  Function\n",
      "                  open_vertex!    967 bytes  Function\n",
      "                    out_degree   1541 bytes  Function\n",
      "                     out_edges   1092 bytes  Function\n",
      "                 out_neighbors   1603 bytes  Function\n",
      "                          plot    901 bytes  Function\n",
      "         prim_minimum_spantree   2278 bytes  Function\n",
      "        prim_minimum_spantree!   2922 bytes  Function\n",
      " prim_minimum_spantree_withlog   1140 bytes  Function\n",
      "                       revedge   1111 bytes  Function\n",
      "                 shortest_path   3780 bytes  Function\n",
      "                simple_adjlist   3080 bytes  Function\n",
      "             simple_bull_graph    547 bytes  Function\n",
      "          simple_chvatal_graph    813 bytes  Function\n",
      "         simple_complete_graph   1587 bytes  Function\n",
      "          simple_cubical_graph    693 bytes  Function\n",
      "        simple_desargues_graph    873 bytes  Function\n",
      "          simple_diamond_graph    547 bytes  Function\n",
      "     simple_dodecahedral_graph    873 bytes  Function\n",
      "               simple_edgelist   1747 bytes  Function\n",
      "           simple_frucht_graph    753 bytes  Function\n",
      "                  simple_graph   1575 bytes  Function\n",
      "          simple_heawood_graph    783 bytes  Function\n",
      "            simple_house_graph    633 bytes  Function\n",
      "          simple_house_x_graph    704 bytes  Function\n",
      "      simple_icosahedral_graph    873 bytes  Function\n",
      "                simple_inclist   1594 bytes  Function\n",
      "  simple_krackhardt_kite_graph    753 bytes  Function\n",
      "       simple_octahedral_graph    693 bytes  Function\n",
      "           simple_pappus_graph    843 bytes  Function\n",
      "             simple_path_graph   1583 bytes  Function\n",
      "         simple_petersen_graph    723 bytes  Function\n",
      "   simple_sedgewick_maze_graph    673 bytes  Function\n",
      "             simple_star_graph   1583 bytes  Function\n",
      "      simple_tetrahedral_graph    557 bytes  Function\n",
      "   simple_truncated_cube_graph    933 bytes  Function\n",
      "simple_truncated_tetrahedron_graph    753 bytes  Function\n",
      "            simple_tutte_graph   1263 bytes  Function\n",
      "            simple_wheel_graph   1585 bytes  Function\n",
      "                        source   1826 bytes  Function\n",
      "          sparse2adjacencylist   2404 bytes  Function\n",
      " strongly_connected_components   2267 bytes  Function\n",
      "                        target   1826 bytes  Function\n",
      "            test_cyclic_by_dfs   1839 bytes  Function\n",
      "                        to_dot   9016 bytes  Function\n",
      "       topological_sort_by_dfs   1746 bytes  Function\n",
      "                traverse_graph   8316 bytes  Function\n",
      "        traverse_graph_withlog   1232 bytes  Function\n",
      "                  vertex_index   3616 bytes  Function\n",
      "                   vertex_type    578 bytes  Function\n",
      "                      vertices   1714 bytes  Function\n",
      "              visited_vertices    969 bytes  Function\n",
      "          watts_strogatz_graph   2588 bytes  Function\n",
      "                 weight_matrix    641 bytes  Function\n",
      "          weight_matrix_sparse    648 bytes  Function\n"
     ]
    }
   ],
   "source": [
    "whos(Graphs)"
   ]
  },
  {
   "cell_type": "markdown",
   "metadata": {
    "collapsed": false
   },
   "source": [
    "### Example\n",
    "\n",
    "Let us construct the famous graph of the [Seven Bridges of Königsberg](https://en.wikipedia.org/wiki/Seven_Bridges_of_K%C3%B6nigsberg), plot it, and compute the number of _different_ walks which cross 3 bridges between the north side and the center island. Can you enumerate the walks?\n",
    "\n",
    "For the `plot(g)` to work, [GraphViz](http://www.graphviz.org/) must be installed.\n",
    "\n",
    "In Windows, this in not enough, and we must use the package [IJuliaPortrayals](https://github.com/jbn/IJuliaPortrayals.jl) \n",
    "(with line 263 changed from `gv_process.exitcode == 0` to `gv_process.exitcode != 0` - a bug!).\n",
    "\n",
    "N.B. `IJuliaPortrayals` can be used to include various media, see the demo of the package."
   ]
  },
  {
   "cell_type": "code",
   "execution_count": 13,
   "metadata": {
    "collapsed": false
   },
   "outputs": [
    {
     "data": {
      "text/plain": [
       "Undirected Graph (4 vertices, 0 edges)"
      ]
     },
     "execution_count": 13,
     "metadata": {},
     "output_type": "execute_result"
    }
   ],
   "source": [
    "g=simple_graph(4,is_directed=false)"
   ]
  },
  {
   "cell_type": "code",
   "execution_count": 14,
   "metadata": {
    "collapsed": false
   },
   "outputs": [
    {
     "data": {
      "text/plain": [
       "Undirected Graph (4 vertices, 7 edges)"
      ]
     },
     "execution_count": 14,
     "metadata": {},
     "output_type": "execute_result"
    }
   ],
   "source": [
    "add_edge!(g,1,2)\n",
    "add_edge!(g,1,2)\n",
    "add_edge!(g,1,3)\n",
    "add_edge!(g,1,3)\n",
    "add_edge!(g,1,4)\n",
    "add_edge!(g,2,4)\n",
    "add_edge!(g,3,4)\n",
    "g"
   ]
  },
  {
   "cell_type": "code",
   "execution_count": 15,
   "metadata": {
    "collapsed": false
   },
   "outputs": [
    {
     "name": "stderr",
     "output_type": "stream",
     "text": [
      "INFO: Nothing to be done\n"
     ]
    }
   ],
   "source": [
    "Pkg.add(\"IJuliaPortrayals\")\n",
    "using IJuliaPortrayals"
   ]
  },
  {
   "cell_type": "code",
   "execution_count": 16,
   "metadata": {
    "collapsed": false,
    "scrolled": true
   },
   "outputs": [
    {
     "data": {
      "text/html": [
       "<?xml version=\"1.0\" encoding=\"UTF-8\" standalone=\"no\"?>\n",
       "<!DOCTYPE svg PUBLIC \"-//W3C//DTD SVG 1.1//EN\"\n",
       " \"http://www.w3.org/Graphics/SVG/1.1/DTD/svg11.dtd\">\n",
       "<!-- Generated by graphviz version 2.38.0 (20140413.2041)\n",
       " -->\n",
       "<!-- Title: graphname Pages: 1 -->\n",
       "<svg width=\"150pt\" height=\"136pt\"\n",
       " viewBox=\"0.00 0.00 149.86 136.16\" xmlns=\"http://www.w3.org/2000/svg\" xmlns:xlink=\"http://www.w3.org/1999/xlink\">\n",
       "<g id=\"graph0\" class=\"graph\" transform=\"scale(1 1) rotate(0) translate(67.7693 58.4632)\">\n",
       "<title>graphname</title>\n",
       "<polygon fill=\"white\" stroke=\"none\" points=\"-67.7693,77.6928 -67.7693,-58.4632 82.0935,-58.4632 82.0935,77.6928 -67.7693,77.6928\"/>\n",
       "<!-- 1 -->\n",
       "<g id=\"node1\" class=\"node\"><title>1</title>\n",
       "<ellipse fill=\"none\" stroke=\"black\" cx=\"-36.7693\" cy=\"4.19266\" rx=\"27\" ry=\"18\"/>\n",
       "<text text-anchor=\"middle\" x=\"-36.7693\" y=\"7.89266\" font-family=\"Times,serif\" font-size=\"14.00\">1</text>\n",
       "</g>\n",
       "<!-- 2 -->\n",
       "<g id=\"node2\" class=\"node\"><title>2</title>\n",
       "<ellipse fill=\"none\" stroke=\"black\" cx=\"51.0935\" cy=\"-23.4223\" rx=\"27\" ry=\"18\"/>\n",
       "<text text-anchor=\"middle\" x=\"51.0935\" y=\"-19.7223\" font-family=\"Times,serif\" font-size=\"14.00\">2</text>\n",
       "</g>\n",
       "<!-- 1&#45;&#45;2 -->\n",
       "<g id=\"edge1\" class=\"edge\"><title>1&#45;&#45;2</title>\n",
       "<path fill=\"none\" stroke=\"black\" d=\"M-16.8241,-8.27705C-4.7301,-13.1463 10.8475,-18.1319 24.0392,-21.3892\"/>\n",
       "</g>\n",
       "<!-- 1&#45;&#45;2 -->\n",
       "<g id=\"edge2\" class=\"edge\"><title>1&#45;&#45;2</title>\n",
       "<path fill=\"none\" stroke=\"black\" d=\"M-9.50091,2.10666C3.72508,-1.17139 19.3085,-6.17014 31.368,-11.0411\"/>\n",
       "</g>\n",
       "<!-- 3 -->\n",
       "<g id=\"node3\" class=\"node\"><title>3</title>\n",
       "<ellipse fill=\"none\" stroke=\"black\" cx=\"-7.67237\" cy=\"55.6928\" rx=\"27\" ry=\"18\"/>\n",
       "<text text-anchor=\"middle\" x=\"-7.67237\" y=\"59.3928\" font-family=\"Times,serif\" font-size=\"14.00\">3</text>\n",
       "</g>\n",
       "<!-- 1&#45;&#45;3 -->\n",
       "<g id=\"edge3\" class=\"edge\"><title>1&#45;&#45;3</title>\n",
       "<path fill=\"none\" stroke=\"black\" d=\"M-20.9582,19.0216C-17.1605,24.8351 -13.4778,31.5378 -10.7595,37.6263\"/>\n",
       "</g>\n",
       "<!-- 1&#45;&#45;3 -->\n",
       "<g id=\"edge4\" class=\"edge\"><title>1&#45;&#45;3</title>\n",
       "<path fill=\"none\" stroke=\"black\" d=\"M-33.7391,22.1316C-31.0083,28.2699 -27.2884,35.0449 -23.4536,40.9096\"/>\n",
       "</g>\n",
       "<!-- 4 -->\n",
       "<g id=\"node4\" class=\"node\"><title>4</title>\n",
       "<ellipse fill=\"none\" stroke=\"black\" cx=\"-6.65192\" cy=\"-36.4632\" rx=\"27\" ry=\"18\"/>\n",
       "<text text-anchor=\"middle\" x=\"-6.65192\" y=\"-32.7632\" font-family=\"Times,serif\" font-size=\"14.00\">4</text>\n",
       "</g>\n",
       "<!-- 1&#45;&#45;4 -->\n",
       "<g id=\"edge5\" class=\"edge\"><title>1&#45;&#45;4</title>\n",
       "<path fill=\"none\" stroke=\"black\" d=\"M-24.5194,-12.3436C-22.6303,-14.8938 -20.68,-17.5265 -18.7933,-20.0734\"/>\n",
       "</g>\n",
       "<!-- 2&#45;&#45;4 -->\n",
       "<g id=\"edge6\" class=\"edge\"><title>2&#45;&#45;4</title>\n",
       "<path fill=\"none\" stroke=\"black\" d=\"M25.261,-29.2562C23.219,-29.7173 21.1565,-30.1831 19.1149,-30.6442\"/>\n",
       "</g>\n",
       "<!-- 3&#45;&#45;4 -->\n",
       "<g id=\"edge7\" class=\"edge\"><title>3&#45;&#45;4</title>\n",
       "<path fill=\"none\" stroke=\"black\" d=\"M-7.47076,37.4858C-7.29187,21.3295 -7.03188,-2.14921 -6.85311,-18.294\"/>\n",
       "</g>\n",
       "</g>\n",
       "</svg>\n"
      ],
      "text/plain": [
       "IJuliaPortrayals.GraphViz(\"graph graphname {\\n1\\n2\\n3\\n4\\n1 -- 2\\n1 -- 2\\n1 -- 3\\n1 -- 3\\n1 -- 4\\n2 -- 4\\n3 -- 4\\n}\\n\",\"neato\",\"svg\")"
      ]
     },
     "execution_count": 16,
     "metadata": {},
     "output_type": "execute_result"
    }
   ],
   "source": [
    "GraphViz(to_dot(g),\"neato\", \"svg\")"
   ]
  },
  {
   "cell_type": "code",
   "execution_count": 17,
   "metadata": {
    "collapsed": false
   },
   "outputs": [
    {
     "data": {
      "text/plain": [
       "4x4 Array{Bool,2}:\n",
       " false   true   true   true\n",
       "  true  false  false   true\n",
       "  true  false  false   true\n",
       "  true   true   true  false"
      ]
     },
     "execution_count": 17,
     "metadata": {},
     "output_type": "execute_result"
    }
   ],
   "source": [
    "a=adjacency_matrix(g) #This is not what we want"
   ]
  },
  {
   "cell_type": "code",
   "execution_count": 18,
   "metadata": {
    "collapsed": false
   },
   "outputs": [
    {
     "data": {
      "text/plain": [
       "7-element Array{Graphs.Edge{Int64},1}:\n",
       " edge [1]: 1 -- 2\n",
       " edge [2]: 1 -- 2\n",
       " edge [3]: 1 -- 3\n",
       " edge [4]: 1 -- 3\n",
       " edge [5]: 1 -- 4\n",
       " edge [6]: 2 -- 4\n",
       " edge [7]: 3 -- 4"
      ]
     },
     "execution_count": 18,
     "metadata": {},
     "output_type": "execute_result"
    }
   ],
   "source": [
    "edges(g) # Lets look at the edges"
   ]
  },
  {
   "cell_type": "code",
   "execution_count": 19,
   "metadata": {
    "collapsed": false
   },
   "outputs": [
    {
     "data": {
      "text/plain": [
       "4x4 Array{Int64,2}:\n",
       " 0  2  2  1\n",
       " 2  0  0  1\n",
       " 2  0  0  1\n",
       " 1  1  1  0"
      ]
     },
     "execution_count": 19,
     "metadata": {},
     "output_type": "execute_result"
    }
   ],
   "source": [
    "weights=[2,2,2,2,1,1,1]  # We shall emulate our adjacency matrix with the weight matrix\n",
    "a=weight_matrix(g,weights)"
   ]
  },
  {
   "cell_type": "code",
   "execution_count": 20,
   "metadata": {
    "collapsed": false
   },
   "outputs": [
    {
     "data": {
      "text/plain": [
       "22"
      ]
     },
     "execution_count": 20,
     "metadata": {},
     "output_type": "execute_result"
    }
   ],
   "source": [
    "no_of_walks=(a^3)[1,2]"
   ]
  },
  {
   "cell_type": "markdown",
   "metadata": {},
   "source": [
    "## Pkg.checkout()\n",
    "\n",
    "The contents of a registered package obtained by the command `Pkg.add(\"Package_name\")` is fixed at the time of registration. \n",
    "\n",
    "The package owner may further develop the package, but those changes are not registered (until the registration of a new version). \n",
    "\n",
    "If you want to use the latest available version, the command `Pkg.cehckout(\"Package_name\")` downloads the latest master."
   ]
  },
  {
   "cell_type": "markdown",
   "metadata": {},
   "source": [
    "## Pkg.clone()\n",
    "\n",
    "Adds unregistered packages or repositories. Here the full GitHub address needs to be supplied.\n",
    "As an example, we shall use the package [LinearAlgebra.jl](https://github.com/andreasnoack/LinearAlgebra.jl).\n",
    "\n",
    "N.B. In Julia, the linear algebra routines are incorporated as wrappers of various \n",
    "[LAPACK ](http://www.netlib.org/lapack/). This package contains several routines written directly in Julia.\n",
    "\n",
    "By inspecting the file `src/LinearAlgebra.jl`, we see that nothing is exported so all methods need to be fully specified. We also see that the SVD related stuff may be in the file \n",
    "`src/svd.jl`. There we see that the sub-module `SVDModule` is defined, but with nothing eported, and we must specify the full command `LinearAlgebra.SVDModule.svdvals!()`.\n",
    "\n",
    "We shall compute the singular values of the bidiagonal unity Jordan form with the standard Julia function `svdvals()` and the function from the package."
   ]
  },
  {
   "cell_type": "code",
   "execution_count": 21,
   "metadata": {
    "collapsed": false
   },
   "outputs": [
    {
     "name": "stderr",
     "output_type": "stream",
     "text": [
      "INFO: Cloning LinearAlgebra from https://github.com/andreasnoack/LinearAlgebra.jl\n",
      "INFO: Computing changes...\n",
      "INFO: No packages to install, update or remove\n"
     ]
    }
   ],
   "source": [
    "Pkg.clone(\"https://github.com/andreasnoack/LinearAlgebra.jl\")"
   ]
  },
  {
   "cell_type": "code",
   "execution_count": 22,
   "metadata": {
    "collapsed": false
   },
   "outputs": [],
   "source": [
    "using LinearAlgebra"
   ]
  },
  {
   "cell_type": "code",
   "execution_count": 23,
   "metadata": {
    "collapsed": false
   },
   "outputs": [
    {
     "name": "stdout",
     "output_type": "stream",
     "text": [
      "                 LinearAlgebra    318 KB     Module\n",
      "                   numnegevals   2383 bytes  Function\n"
     ]
    }
   ],
   "source": [
    "whos(LinearAlgebra) # Not much of an information"
   ]
  },
  {
   "cell_type": "code",
   "execution_count": 24,
   "metadata": {
    "collapsed": false
   },
   "outputs": [
    {
     "name": "stdout",
     "output_type": "stream",
     "text": [
      "                     SVDModule     30 KB     Module\n"
     ]
    }
   ],
   "source": [
    "whos(LinearAlgebra.SVDModule) # Also no information"
   ]
  },
  {
   "cell_type": "code",
   "execution_count": 25,
   "metadata": {
    "collapsed": false
   },
   "outputs": [
    {
     "data": {
      "text/html": [
       "3 methods for generic function <b>svdvals!</b>:<ul><li> svdvals!<i>{T<:Real}</i>(B::<b>Bidiagonal{T<:Real}</b>) at <a href=\"https://github.com/andreasnoack/LinearAlgebra.jl/tree/a9b553e64a22eb6de2212d6abb0295273a4b70a9/src/svd.jl#L107\" target=\"_blank\">/home/slap/.julia/v0.4/LinearAlgebra/src/svd.jl:107</a><li> svdvals!<i>{T<:Real}</i>(B::<b>Bidiagonal{T<:Real}</b>, tol) at <a href=\"https://github.com/andreasnoack/LinearAlgebra.jl/tree/a9b553e64a22eb6de2212d6abb0295273a4b70a9/src/svd.jl#L107\" target=\"_blank\">/home/slap/.julia/v0.4/LinearAlgebra/src/svd.jl:107</a><li> svdvals!(A::<b>Union{DenseArray{T,2},SubArray{T,2,A<:DenseArray{T,N},I<:Tuple{Vararg{Union{Colon,Int64,Range{Int64}}}},LD}}</b>) at <a href=\"https://github.com/andreasnoack/LinearAlgebra.jl/tree/a9b553e64a22eb6de2212d6abb0295273a4b70a9/src/svd.jl#L291\" target=\"_blank\">/home/slap/.julia/v0.4/LinearAlgebra/src/svd.jl:291</a></ul>"
      ],
      "text/plain": [
       "# 3 methods for generic function \"svdvals!\":\n",
       "svdvals!{T<:Real}(B::Bidiagonal{T<:Real}) at /home/slap/.julia/v0.4/LinearAlgebra/src/svd.jl:107\n",
       "svdvals!{T<:Real}(B::Bidiagonal{T<:Real}, tol) at /home/slap/.julia/v0.4/LinearAlgebra/src/svd.jl:107\n",
       "svdvals!(A::Union{DenseArray{T,2},SubArray{T,2,A<:DenseArray{T,N},I<:Tuple{Vararg{Union{Colon,Int64,Range{Int64}}}},LD}}) at /home/slap/.julia/v0.4/LinearAlgebra/src/svd.jl:291"
      ]
     },
     "execution_count": 25,
     "metadata": {},
     "output_type": "execute_result"
    }
   ],
   "source": [
    "methods(LinearAlgebra.SVDModule.svdvals!)"
   ]
  },
  {
   "cell_type": "code",
   "execution_count": 26,
   "metadata": {
    "collapsed": false
   },
   "outputs": [
    {
     "data": {
      "text/plain": [
       "7-element Array{Any,1}:\n",
       " call{T}(::Type{Bidiagonal{T}}, dv::AbstractArray{T,1}, ev::AbstractArray{T,1}, isupper::Bool) at linalg/bidiag.jl:15      \n",
       " call{T}(::Type{Bidiagonal{T}}, dv::AbstractArray{T,1}, ev::AbstractArray{T,1}) at linalg/bidiag.jl:16                     \n",
       " call(::Type{Bidiagonal{T}}, dv::AbstractArray{T,1}, ev::AbstractArray{T,1}, uplo::Char) at linalg/bidiag.jl:19            \n",
       " call{Td,Te}(::Type{Bidiagonal{T}}, dv::AbstractArray{Td,1}, ev::AbstractArray{Te,1}, isupper::Bool) at linalg/bidiag.jl:30\n",
       " call(::Type{Bidiagonal{T}}, A::AbstractArray{T,2}, isupper::Bool) at linalg/bidiag.jl:34                                  \n",
       " call{T}(::Type{T}, arg) at essentials.jl:56                                                                               \n",
       " call{T}(::Type{T}, args...) at essentials.jl:57                                                                           "
      ]
     },
     "execution_count": 26,
     "metadata": {},
     "output_type": "execute_result"
    }
   ],
   "source": [
    "methods(Bidiagonal) # We now know how to define bidiagonal matrix"
   ]
  },
  {
   "cell_type": "code",
   "execution_count": 27,
   "metadata": {
    "collapsed": false
   },
   "outputs": [
    {
     "data": {
      "text/plain": [
       "70x70 Bidiagonal{Float64}:\n",
       " 0.5  1.0  0.0  0.0  0.0  0.0  0.0  0.0  …  0.0  0.0  0.0  0.0  0.0  0.0  0.0\n",
       " 0.0  0.5  1.0  0.0  0.0  0.0  0.0  0.0     0.0  0.0  0.0  0.0  0.0  0.0  0.0\n",
       " 0.0  0.0  0.5  1.0  0.0  0.0  0.0  0.0     0.0  0.0  0.0  0.0  0.0  0.0  0.0\n",
       " 0.0  0.0  0.0  0.5  1.0  0.0  0.0  0.0     0.0  0.0  0.0  0.0  0.0  0.0  0.0\n",
       " 0.0  0.0  0.0  0.0  0.5  1.0  0.0  0.0     0.0  0.0  0.0  0.0  0.0  0.0  0.0\n",
       " 0.0  0.0  0.0  0.0  0.0  0.5  1.0  0.0  …  0.0  0.0  0.0  0.0  0.0  0.0  0.0\n",
       " 0.0  0.0  0.0  0.0  0.0  0.0  0.5  1.0     0.0  0.0  0.0  0.0  0.0  0.0  0.0\n",
       " 0.0  0.0  0.0  0.0  0.0  0.0  0.0  0.5     0.0  0.0  0.0  0.0  0.0  0.0  0.0\n",
       " 0.0  0.0  0.0  0.0  0.0  0.0  0.0  0.0     0.0  0.0  0.0  0.0  0.0  0.0  0.0\n",
       " 0.0  0.0  0.0  0.0  0.0  0.0  0.0  0.0     0.0  0.0  0.0  0.0  0.0  0.0  0.0\n",
       " 0.0  0.0  0.0  0.0  0.0  0.0  0.0  0.0  …  0.0  0.0  0.0  0.0  0.0  0.0  0.0\n",
       " 0.0  0.0  0.0  0.0  0.0  0.0  0.0  0.0     0.0  0.0  0.0  0.0  0.0  0.0  0.0\n",
       " 0.0  0.0  0.0  0.0  0.0  0.0  0.0  0.0     0.0  0.0  0.0  0.0  0.0  0.0  0.0\n",
       " ⋮                        ⋮              ⋱            ⋮                      \n",
       " 0.0  0.0  0.0  0.0  0.0  0.0  0.0  0.0     0.0  0.0  0.0  0.0  0.0  0.0  0.0\n",
       " 0.0  0.0  0.0  0.0  0.0  0.0  0.0  0.0     0.0  0.0  0.0  0.0  0.0  0.0  0.0\n",
       " 0.0  0.0  0.0  0.0  0.0  0.0  0.0  0.0  …  0.0  0.0  0.0  0.0  0.0  0.0  0.0\n",
       " 0.0  0.0  0.0  0.0  0.0  0.0  0.0  0.0     0.0  0.0  0.0  0.0  0.0  0.0  0.0\n",
       " 0.0  0.0  0.0  0.0  0.0  0.0  0.0  0.0     1.0  0.0  0.0  0.0  0.0  0.0  0.0\n",
       " 0.0  0.0  0.0  0.0  0.0  0.0  0.0  0.0     0.5  1.0  0.0  0.0  0.0  0.0  0.0\n",
       " 0.0  0.0  0.0  0.0  0.0  0.0  0.0  0.0     0.0  0.5  1.0  0.0  0.0  0.0  0.0\n",
       " 0.0  0.0  0.0  0.0  0.0  0.0  0.0  0.0  …  0.0  0.0  0.5  1.0  0.0  0.0  0.0\n",
       " 0.0  0.0  0.0  0.0  0.0  0.0  0.0  0.0     0.0  0.0  0.0  0.5  1.0  0.0  0.0\n",
       " 0.0  0.0  0.0  0.0  0.0  0.0  0.0  0.0     0.0  0.0  0.0  0.0  0.5  1.0  0.0\n",
       " 0.0  0.0  0.0  0.0  0.0  0.0  0.0  0.0     0.0  0.0  0.0  0.0  0.0  0.5  1.0\n",
       " 0.0  0.0  0.0  0.0  0.0  0.0  0.0  0.0     0.0  0.0  0.0  0.0  0.0  0.0  0.5"
      ]
     },
     "execution_count": 27,
     "metadata": {},
     "output_type": "execute_result"
    }
   ],
   "source": [
    "n=70\n",
    "c=0.5\n",
    "J=Bidiagonal(c*ones(n),ones(n-1),true)"
   ]
  },
  {
   "cell_type": "code",
   "execution_count": 29,
   "metadata": {
    "collapsed": false
   },
   "outputs": [
    {
     "name": "stdout",
     "output_type": "stream",
     "text": [
      "  0.000312 seconds (19 allocations: 11.000 KB)\n"
     ]
    }
   ],
   "source": [
    "@time s=svdvals(J);"
   ]
  },
  {
   "cell_type": "markdown",
   "metadata": {},
   "source": [
    "Julia uses convention that function names ending in `!` overwrite the input data.\n",
    "Thus, we first make a copy of `J`."
   ]
  },
  {
   "cell_type": "code",
   "execution_count": 30,
   "metadata": {
    "collapsed": false
   },
   "outputs": [],
   "source": [
    "J1=deepcopy(J);"
   ]
  },
  {
   "cell_type": "code",
   "execution_count": 31,
   "metadata": {
    "collapsed": false
   },
   "outputs": [
    {
     "data": {
      "text/plain": [
       "3x3 Bidiagonal{Float64}:\n",
       " 1.0  1.0  0.0\n",
       " 0.0  1.0  1.0\n",
       " 0.0  0.0  1.0"
      ]
     },
     "execution_count": 31,
     "metadata": {},
     "output_type": "execute_result"
    }
   ],
   "source": [
    "J0=Bidiagonal([1.0,1,1],[1,1],true)"
   ]
  },
  {
   "cell_type": "code",
   "execution_count": 32,
   "metadata": {
    "collapsed": false
   },
   "outputs": [
    {
     "data": {
      "text/plain": [
       "3-element Array{Float64,1}:\n",
       " 1.80194 \n",
       " 1.24698 \n",
       " 0.445042"
      ]
     },
     "execution_count": 32,
     "metadata": {},
     "output_type": "execute_result"
    }
   ],
   "source": [
    "LinearAlgebra.SVDModule.svdvals!(J0)"
   ]
  },
  {
   "cell_type": "code",
   "execution_count": 33,
   "metadata": {
    "collapsed": false
   },
   "outputs": [
    {
     "name": "stdout",
     "output_type": "stream",
     "text": [
      "  0.000656 seconds (17 allocations: 2.031 KB)\n"
     ]
    }
   ],
   "source": [
    "@time s1=LinearAlgebra.SVDModule.svdvals!(J1);"
   ]
  },
  {
   "cell_type": "code",
   "execution_count": 34,
   "metadata": {
    "collapsed": false
   },
   "outputs": [
    {
     "data": {
      "text/plain": [
       "(Array{Float64,1},[1.49967,1.49867,1.49701,1.49468,1.4917,1.48805,1.48375,1.47879,1.47318,1.46693  …  0.576594,0.561598,0.547933,0.535733,0.525133,0.516259,0.509224,0.504125,0.501035,6.35275e-22])"
      ]
     },
     "execution_count": 34,
     "metadata": {},
     "output_type": "execute_result"
    }
   ],
   "source": [
    "typeof(s1), s1"
   ]
  },
  {
   "cell_type": "code",
   "execution_count": 37,
   "metadata": {
    "collapsed": false
   },
   "outputs": [
    {
     "data": {
      "text/plain": [
       "(6.352747104407252e-22,6.352747104407255e-22)"
      ]
     },
     "execution_count": 37,
     "metadata": {},
     "output_type": "execute_result"
    }
   ],
   "source": [
    "# The tiny singular value is accurate\n",
    "s[70], s1[70]"
   ]
  },
  {
   "cell_type": "markdown",
   "metadata": {
    "collapsed": true
   },
   "source": [
    "## `Pkg.rm()`\n",
    "\n",
    "This command removes (deletes) added or cloned packages and all required packages not in use otherwise."
   ]
  },
  {
   "cell_type": "code",
   "execution_count": 38,
   "metadata": {
    "collapsed": false
   },
   "outputs": [
    {
     "name": "stderr",
     "output_type": "stream",
     "text": [
      "INFO: Removing Graphs v0.6.0\n",
      "INFO: Package database updated\n"
     ]
    }
   ],
   "source": [
    "Pkg.rm(\"Graphs\")"
   ]
  },
  {
   "cell_type": "code",
   "execution_count": 39,
   "metadata": {
    "collapsed": false
   },
   "outputs": [
    {
     "name": "stderr",
     "output_type": "stream",
     "text": [
      "INFO: Removing LinearAlgebra (unregistered)\n"
     ]
    }
   ],
   "source": [
    "Pkg.rm(\"LinearAlgebra\")"
   ]
  },
  {
   "cell_type": "code",
   "execution_count": 40,
   "metadata": {
    "collapsed": false
   },
   "outputs": [
    {
     "name": "stdout",
     "output_type": "stream",
     "text": [
      "Union{ASCIIString,UTF8String}[\"ArrayViews\",\"Arrowhead\",\"BinDeps\",\".cache\",\"Cairo\",\"Calculus\",\"Codecs\",\"Colors\",\"ColorTypes\",\"Compat\",\"Compose\",\"Conda\",\"Contour\",\"DataArrays\",\"DataFrames\",\"DataStructures\",\"Dates\",\"Distances\",\"Distributions\",\"Docile\",\"DoubleDouble\",\"DualNumbers\",\"FixedPointNumbers\",\"FixedSizeArrays\",\"Fontconfig\",\"Gadfly\",\"Graphics\",\"Grid\",\"GZip\",\"Hexagons\",\"IJulia\",\"IJuliaPortrayals\",\"IniFile\",\"Interact\",\"IterativeSolvers\",\"Iterators\",\"JSON\",\"KernelDensity\",\"Loess\",\"MatrixDepot\",\"Measures\",\"META_BRANCH\",\"METADATA\",\"NaNMath\",\"Nettle\",\"Optim\",\"PDMats\",\"Polynomials\",\"PositiveFactorizations\",\"Reactive\",\"Reexport\",\"REQUIRE\",\"SHA\",\"Showoff\",\"SortingAlgorithms\",\"SpecialMatrices\",\"StatsBase\",\"StatsFuns\",\"Tk\",\".trash\",\"URIParser\",\"Winston\",\"WoodburyMatrices\",\"ZMQ\"]\n"
     ]
    }
   ],
   "source": [
    "a=readdir(\"/home/slap/.julia/v0.4\"); # or /users/Ivan in Windows\n",
    "println(a)"
   ]
  },
  {
   "cell_type": "markdown",
   "metadata": {
    "collapsed": true
   },
   "source": [
    "## Creating packages\n",
    "\n",
    "You need to use GitHub:\n",
    "\n",
    "1. Go to [GitHub](https://github.com) and `Sign up` and `Sign in`.\n",
    "2. [Set up Git](https://help.github.com/articles/set-up-git/#platform-windows) at your computer. \n",
    "\n",
    "N.B. Check out [GitHub Guides](https://guides.github.com/).\n",
    "\n",
    "One way to start developing packages is \n",
    "\n",
    "1. [Create new repository](https://help.github.com/articles/create-a-repo/) at GitHub.\n",
    "2. Clone the created package to your computer with\n",
    "```\n",
    "git clone https://github.com/your_user_name/your_repository_name.jl\n",
    "```\n",
    "3. Start writing your code as described in [Contents of the Package](#contents).\n",
    "4. Check what you have changed \n",
    "```\n",
    "git commit\n",
    "```\n",
    "5. Add changes to be commited with \n",
    "```\n",
    "git add file1 file2 ...\n",
    "```\n",
    "6. Commit the changes (you need to supply the message)\n",
    "```\n",
    "git commit\n",
    "```\n",
    "7. Push the changes to your GitHub repository\n",
    "```\n",
    "git push\n",
    "```\n",
    "\n",
    "N.B. There are various other possibilities and shorthands (see the Guides).\n",
    "For example, steps 4., 5. and 6. can be shortened with\n",
    "```\n",
    "git commit -am \"your message\"\n",
    "```\n",
    "Also, if you work on your package from two computers, you may need to synchronize your repository: assume that you pushed the changes that you made on computer A to GitHub, and that you want to continue to work on your repository from computer B. Then, you obviously need to synchronize computer B with the latest version from GitHub. This is done with the following commands issued on computer B:\n",
    "```\n",
    "git fetch origin\n",
    "git reset --hard origin/master\n",
    "git clean -f -d\n",
    "```\n",
    "\n"
   ]
  },
  {
   "cell_type": "markdown",
   "metadata": {
    "collapsed": true
   },
   "source": [
    "## Be social\n",
    "\n",
    "You can fork other people's repositories, and use them and change them as your own. You can make pull requests to incorporate those changes to those repositories.\n",
    "\n",
    "You can easily make different branches of your repository, and test different options.\n",
    "\n",
    "GitHub enables you to share your work with others, so even small, undocumented packages can be very useful."
   ]
  },
  {
   "cell_type": "code",
   "execution_count": null,
   "metadata": {
    "collapsed": true
   },
   "outputs": [],
   "source": []
  }
 ],
 "metadata": {
  "kernelspec": {
   "display_name": "Julia 0.4.5",
   "language": "julia",
   "name": "julia-0.4"
  },
  "language_info": {
   "file_extension": ".jl",
   "mimetype": "application/julia",
   "name": "julia",
   "version": "0.4.5"
  }
 },
 "nbformat": 4,
 "nbformat_minor": 0
}
