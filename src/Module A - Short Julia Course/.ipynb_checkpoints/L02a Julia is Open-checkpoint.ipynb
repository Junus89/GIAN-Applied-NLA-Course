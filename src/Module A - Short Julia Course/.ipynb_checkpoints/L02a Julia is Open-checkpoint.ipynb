{
 "cells": [
  {
   "cell_type": "markdown",
   "metadata": {},
   "source": [
    "# Julia is Open - `whos()`, `methods()`, `@which`, ...\n",
    "\n",
    "---\n",
    "\n",
    "`Julia` is an open-source project, source being entirely hosted on `github`: http://github.com/julialang\n",
    "\n",
    "The code consists of (actual numbers may differ):\n",
    "\n",
    "- 29K lines of `C/C++`\n",
    "- 6K lines of `scheme`\n",
    "- 68K lines of `julia`\n",
    "\n",
    "Julia uses [LLVM](http://llvm.org) which itself has 680K lines of code. Therefore, Julia is very compact, compared to other languages, like LLVM's `C` compiler `clang` (513K lines of code) or `gcc`  (3,530K lines). This makes it easy to read the actuall code and get full information, in spite the fact that some parts of the documentation are insufficient. `Julia`'s \"navigating\" system,\n",
    "consisting of commands `whos()`, `methods()` and `@which`, makes this even easier.\n",
    "\n",
    "Further, the `Base` (core) of Julia is kept small, and the rest of the functionality is obtained through packages.\n",
    "Since packages are written in Julia, they are navigated on the same way.\n",
    "\n",
    "\n",
    "\n",
    "\n",
    "In this notebook, we demonstrate how to get help and navigate the source code.\n",
    "\n",
    "## Prerequisites\n",
    "\n",
    "Basic knowledge of programming in any language.\n",
    "\n",
    "Read [Methods](http://julia.readthedocs.org/en/latest/manual/methods/) section of the `Julia` manual. (5 min)\n",
    "\n",
    "## Competences \n",
    "\n",
    "The reader should be able to read the code and be able to find and understand calling sequences and outputs of any function.\n",
    "\n",
    "## Credits \n",
    "\n",
    "Some examples are taken from [The Julia Manual](http://julia.readthedocs.org/en/latest/manual/).\n"
   ]
  },
  {
   "cell_type": "markdown",
   "metadata": {},
   "source": [
    "## Operators `+`, `*` and `⋅`\n",
    "\n",
    "Consider operators `+`, `*` and `⋅`, the first two of them seem rather basic in any language. The `⋅` symbol is typed as LaTeX command `\\cdot` + `Tab`.\n",
    "\n",
    "`?+` gives some information, which is vary sparse. We would expect more details, and we also suspect that `+` can be used in more ways that just hose two.\n",
    "\n",
    "`?*` explaind more instances where `*` can be used, but the text itself is vague and not sufficient. \n",
    "\n",
    "`?⋅` appears to be what we expect fro the dot product off two vectors."
   ]
  },
  {
   "cell_type": "code",
   "execution_count": 1,
   "metadata": {
    "collapsed": false
   },
   "outputs": [
    {
     "name": "stdout",
     "output_type": "stream",
     "text": [
      "search: + .+\n",
      "\n"
     ]
    },
    {
     "data": {
      "text/latex": [
       "\\begin{verbatim}\n",
       "+(x, y...)\n",
       "\\end{verbatim}\n",
       "Addition operator. \\texttt{x+y+z+...} calls this function with all arguments, i.e. \\texttt{+(x, y, z, ...)}.\n"
      ],
      "text/markdown": [
       "```\n",
       "+(x, y...)\n",
       "```\n",
       "\n",
       "Addition operator. `x+y+z+...` calls this function with all arguments, i.e. `+(x, y, z, ...)`.\n"
      ],
      "text/plain": [
       "```\n",
       "+(x, y...)\n",
       "```\n",
       "\n",
       "Addition operator. `x+y+z+...` calls this function with all arguments, i.e. `+(x, y, z, ...)`.\n"
      ]
     },
     "execution_count": 1,
     "metadata": {},
     "output_type": "execute_result"
    }
   ],
   "source": [
    "?+"
   ]
  },
  {
   "cell_type": "code",
   "execution_count": 2,
   "metadata": {
    "collapsed": false
   },
   "outputs": [
    {
     "name": "stdout",
     "output_type": "stream",
     "text": [
      "search: * .*\n",
      "\n"
     ]
    },
    {
     "data": {
      "text/latex": [
       "\\begin{verbatim}\n",
       "*(x, y...)\n",
       "\\end{verbatim}\n",
       "Multiplication operator. \\texttt{x*y*z*...} calls this function with all arguments, i.e. \\texttt{*(x, y, z, ...)}.\n",
       "\\begin{verbatim}\n",
       "*(s, t)\n",
       "\\end{verbatim}\n",
       "Concatenate strings. The \\texttt{*} operator is an alias to this function.\n",
       "\\begin{verbatim}\n",
       "julia> \"Hello \" * \"world\"\n",
       "\"Hello world\"\n",
       "\\end{verbatim}\n",
       "\\begin{verbatim}\n",
       "*(A, B)\n",
       "\\end{verbatim}\n",
       "Matrix multiplication\n"
      ],
      "text/markdown": [
       "```\n",
       "*(x, y...)\n",
       "```\n",
       "\n",
       "Multiplication operator. `x*y*z*...` calls this function with all arguments, i.e. `*(x, y, z, ...)`.\n",
       "\n",
       "```\n",
       "*(s, t)\n",
       "```\n",
       "\n",
       "Concatenate strings. The `*` operator is an alias to this function.\n",
       "\n",
       "```jldoctest\n",
       "julia> \"Hello \" * \"world\"\n",
       "\"Hello world\"\n",
       "```\n",
       "\n",
       "```\n",
       "*(A, B)\n",
       "```\n",
       "\n",
       "Matrix multiplication\n"
      ],
      "text/plain": [
       "```\n",
       "*(x, y...)\n",
       "```\n",
       "\n",
       "Multiplication operator. `x*y*z*...` calls this function with all arguments, i.e. `*(x, y, z, ...)`.\n",
       "\n",
       "```\n",
       "*(s, t)\n",
       "```\n",
       "\n",
       "Concatenate strings. The `*` operator is an alias to this function.\n",
       "\n",
       "```jldoctest\n",
       "julia> \"Hello \" * \"world\"\n",
       "\"Hello world\"\n",
       "```\n",
       "\n",
       "```\n",
       "*(A, B)\n",
       "```\n",
       "\n",
       "Matrix multiplication\n"
      ]
     },
     "execution_count": 2,
     "metadata": {},
     "output_type": "execute_result"
    }
   ],
   "source": [
    "?*"
   ]
  },
  {
   "cell_type": "code",
   "execution_count": 3,
   "metadata": {
    "collapsed": false
   },
   "outputs": [
    {
     "name": "stdout",
     "output_type": "stream",
     "text": [
      "search: ⋅\n",
      "\n"
     ]
    },
    {
     "data": {
      "text/latex": [
       "\\begin{verbatim}\n",
       "dot(x, y)\n",
       "⋅(x,y)\n",
       "\\end{verbatim}\n",
       "Compute the dot product. For complex vectors, the first vector is conjugated.\n"
      ],
      "text/markdown": [
       "```\n",
       "dot(x, y)\n",
       "⋅(x,y)\n",
       "```\n",
       "\n",
       "Compute the dot product. For complex vectors, the first vector is conjugated.\n"
      ],
      "text/plain": [
       "```\n",
       "dot(x, y)\n",
       "⋅(x,y)\n",
       "```\n",
       "\n",
       "Compute the dot product. For complex vectors, the first vector is conjugated.\n"
      ]
     },
     "execution_count": 3,
     "metadata": {},
     "output_type": "execute_result"
    }
   ],
   "source": [
    "?⋅"
   ]
  },
  {
   "cell_type": "markdown",
   "metadata": {},
   "source": [
    "## methods()\n",
    "\n",
    "`Julia` functions have a feature called _multiple dispatch_, which means that the method depends on the name __AND__ the input.\n",
    "Full range of existing methods for certain function name is given by the `methods()` command. \n",
    "> Running `methods(+)` sheds a completely differfent light on `+`.\n",
    "\n",
    "The great `IJulia` feature is that the links to the source code where the respective version of the function is defined, are readily provided. "
   ]
  },
  {
   "cell_type": "code",
   "execution_count": 4,
   "metadata": {
    "collapsed": false
   },
   "outputs": [
    {
     "name": "stdout",
     "output_type": "stream",
     "text": [
      "search: methods methodswith method_exists Method MethodTable MethodError\n",
      "\n"
     ]
    },
    {
     "data": {
      "text/latex": [
       "\\begin{verbatim}\n",
       "methods(f, [types])\n",
       "\\end{verbatim}\n",
       "Returns the method table for \\texttt{f}.\n",
       "If \\texttt{types} is specified, returns an array of methods whose types match.\n"
      ],
      "text/markdown": [
       "```\n",
       "methods(f, [types])\n",
       "```\n",
       "\n",
       "Returns the method table for `f`.\n",
       "\n",
       "If `types` is specified, returns an array of methods whose types match.\n"
      ],
      "text/plain": [
       "```\n",
       "methods(f, [types])\n",
       "```\n",
       "\n",
       "Returns the method table for `f`.\n",
       "\n",
       "If `types` is specified, returns an array of methods whose types match.\n"
      ]
     },
     "execution_count": 4,
     "metadata": {},
     "output_type": "execute_result"
    }
   ],
   "source": [
    "?methods"
   ]
  },
  {
   "cell_type": "markdown",
   "metadata": {},
   "source": [
    "### The `\"+\"` operator\n",
    "\n",
    "__N.B.__ For convenience, Left click on the left area of the `Out[]` cell toggles  scrolling. Double click collapses the output completely. "
   ]
  },
  {
   "cell_type": "code",
   "execution_count": 8,
   "metadata": {
    "collapsed": false
   },
   "outputs": [
    {
     "data": {
      "text/html": [
       "171 methods for generic function <b>+</b>:<ul><li> +(x::<b>Bool</b>) at <a href=\"https://github.com/JuliaLang/julia/tree/2ac304dfba75fad148d4070ef4f8a2e400c305bb/base/bool.jl#L33\" target=\"_blank\">bool.jl:33</a><li> +(x::<b>Bool</b>, y::<b>Bool</b>) at <a href=\"https://github.com/JuliaLang/julia/tree/2ac304dfba75fad148d4070ef4f8a2e400c305bb/base/bool.jl#L36\" target=\"_blank\">bool.jl:36</a><li> +(y::<b>AbstractFloat</b>, x::<b>Bool</b>) at <a href=\"https://github.com/JuliaLang/julia/tree/2ac304dfba75fad148d4070ef4f8a2e400c305bb/base/bool.jl#L46\" target=\"_blank\">bool.jl:46</a><li> +(x::<b>Int64</b>, y::<b>Int64</b>) at <a href=\"https://github.com/JuliaLang/julia/tree/2ac304dfba75fad148d4070ef4f8a2e400c305bb/base/int.jl#L8\" target=\"_blank\">int.jl:8</a><li> +(x::<b>Int8</b>, y::<b>Int8</b>) at <a href=\"https://github.com/JuliaLang/julia/tree/2ac304dfba75fad148d4070ef4f8a2e400c305bb/base/int.jl#L16\" target=\"_blank\">int.jl:16</a><li> +(x::<b>UInt8</b>, y::<b>UInt8</b>) at <a href=\"https://github.com/JuliaLang/julia/tree/2ac304dfba75fad148d4070ef4f8a2e400c305bb/base/int.jl#L16\" target=\"_blank\">int.jl:16</a><li> +(x::<b>Int16</b>, y::<b>Int16</b>) at <a href=\"https://github.com/JuliaLang/julia/tree/2ac304dfba75fad148d4070ef4f8a2e400c305bb/base/int.jl#L16\" target=\"_blank\">int.jl:16</a><li> +(x::<b>UInt16</b>, y::<b>UInt16</b>) at <a href=\"https://github.com/JuliaLang/julia/tree/2ac304dfba75fad148d4070ef4f8a2e400c305bb/base/int.jl#L16\" target=\"_blank\">int.jl:16</a><li> +(x::<b>Int32</b>, y::<b>Int32</b>) at <a href=\"https://github.com/JuliaLang/julia/tree/2ac304dfba75fad148d4070ef4f8a2e400c305bb/base/int.jl#L16\" target=\"_blank\">int.jl:16</a><li> +(x::<b>UInt32</b>, y::<b>UInt32</b>) at <a href=\"https://github.com/JuliaLang/julia/tree/2ac304dfba75fad148d4070ef4f8a2e400c305bb/base/int.jl#L16\" target=\"_blank\">int.jl:16</a><li> +(x::<b>UInt64</b>, y::<b>UInt64</b>) at <a href=\"https://github.com/JuliaLang/julia/tree/2ac304dfba75fad148d4070ef4f8a2e400c305bb/base/int.jl#L16\" target=\"_blank\">int.jl:16</a><li> +(x::<b>Int128</b>, y::<b>Int128</b>) at <a href=\"https://github.com/JuliaLang/julia/tree/2ac304dfba75fad148d4070ef4f8a2e400c305bb/base/int.jl#L16\" target=\"_blank\">int.jl:16</a><li> +(x::<b>UInt128</b>, y::<b>UInt128</b>) at <a href=\"https://github.com/JuliaLang/julia/tree/2ac304dfba75fad148d4070ef4f8a2e400c305bb/base/int.jl#L16\" target=\"_blank\">int.jl:16</a><li> +(x::<b>Integer</b>, y::<b>Ptr{T}</b>) at <a href=\"https://github.com/JuliaLang/julia/tree/2ac304dfba75fad148d4070ef4f8a2e400c305bb/base/pointer.jl#L77\" target=\"_blank\">pointer.jl:77</a><li> +(x::<b>Float32</b>, y::<b>Float32</b>) at <a href=\"https://github.com/JuliaLang/julia/tree/2ac304dfba75fad148d4070ef4f8a2e400c305bb/base/float.jl#L207\" target=\"_blank\">float.jl:207</a><li> +(x::<b>Float64</b>, y::<b>Float64</b>) at <a href=\"https://github.com/JuliaLang/julia/tree/2ac304dfba75fad148d4070ef4f8a2e400c305bb/base/float.jl#L208\" target=\"_blank\">float.jl:208</a><li> +(z::<b>Complex{T<:Real}</b>, w::<b>Complex{T<:Real}</b>) at <a href=\"https://github.com/JuliaLang/julia/tree/2ac304dfba75fad148d4070ef4f8a2e400c305bb/base/complex.jl#L111\" target=\"_blank\">complex.jl:111</a><li> +(x::<b>Bool</b>, z::<b>Complex{Bool}</b>) at <a href=\"https://github.com/JuliaLang/julia/tree/2ac304dfba75fad148d4070ef4f8a2e400c305bb/base/complex.jl#L118\" target=\"_blank\">complex.jl:118</a><li> +(z::<b>Complex{Bool}</b>, x::<b>Bool</b>) at <a href=\"https://github.com/JuliaLang/julia/tree/2ac304dfba75fad148d4070ef4f8a2e400c305bb/base/complex.jl#L119\" target=\"_blank\">complex.jl:119</a><li> +(x::<b>Bool</b>, z::<b>Complex{T<:Real}</b>) at <a href=\"https://github.com/JuliaLang/julia/tree/2ac304dfba75fad148d4070ef4f8a2e400c305bb/base/complex.jl#L125\" target=\"_blank\">complex.jl:125</a><li> +(z::<b>Complex{T<:Real}</b>, x::<b>Bool</b>) at <a href=\"https://github.com/JuliaLang/julia/tree/2ac304dfba75fad148d4070ef4f8a2e400c305bb/base/complex.jl#L126\" target=\"_blank\">complex.jl:126</a><li> +(x::<b>Real</b>, z::<b>Complex{Bool}</b>) at <a href=\"https://github.com/JuliaLang/julia/tree/2ac304dfba75fad148d4070ef4f8a2e400c305bb/base/complex.jl#L132\" target=\"_blank\">complex.jl:132</a><li> +(z::<b>Complex{Bool}</b>, x::<b>Real</b>) at <a href=\"https://github.com/JuliaLang/julia/tree/2ac304dfba75fad148d4070ef4f8a2e400c305bb/base/complex.jl#L133\" target=\"_blank\">complex.jl:133</a><li> +(x::<b>Real</b>, z::<b>Complex{T<:Real}</b>) at <a href=\"https://github.com/JuliaLang/julia/tree/2ac304dfba75fad148d4070ef4f8a2e400c305bb/base/complex.jl#L144\" target=\"_blank\">complex.jl:144</a><li> +(z::<b>Complex{T<:Real}</b>, x::<b>Real</b>) at <a href=\"https://github.com/JuliaLang/julia/tree/2ac304dfba75fad148d4070ef4f8a2e400c305bb/base/complex.jl#L145\" target=\"_blank\">complex.jl:145</a><li> +(x::<b>Rational{T<:Integer}</b>, y::<b>Rational{T<:Integer}</b>) at <a href=\"https://github.com/JuliaLang/julia/tree/2ac304dfba75fad148d4070ef4f8a2e400c305bb/base/rational.jl#L179\" target=\"_blank\">rational.jl:179</a><li> +(x::<b>Bool</b>, A::<b>AbstractArray{Bool,N}</b>) at <a href=\"https://github.com/JuliaLang/julia/tree/2ac304dfba75fad148d4070ef4f8a2e400c305bb/base/arraymath.jl#L136\" target=\"_blank\">arraymath.jl:136</a><li> +(x::<b>Integer</b>, y::<b>Char</b>) at <a href=\"https://github.com/JuliaLang/julia/tree/2ac304dfba75fad148d4070ef4f8a2e400c305bb/base/char.jl#L43\" target=\"_blank\">char.jl:43</a><li> +(a::<b>Float16</b>, b::<b>Float16</b>) at <a href=\"https://github.com/JuliaLang/julia/tree/2ac304dfba75fad148d4070ef4f8a2e400c305bb/base/float16.jl#L136\" target=\"_blank\">float16.jl:136</a><li> +(x::<b>BigInt</b>, y::<b>BigInt</b>) at <a href=\"https://github.com/JuliaLang/julia/tree/2ac304dfba75fad148d4070ef4f8a2e400c305bb/base/gmp.jl#L256\" target=\"_blank\">gmp.jl:256</a><li> +(a::<b>BigInt</b>, b::<b>BigInt</b>, c::<b>BigInt</b>) at <a href=\"https://github.com/JuliaLang/julia/tree/2ac304dfba75fad148d4070ef4f8a2e400c305bb/base/gmp.jl#L279\" target=\"_blank\">gmp.jl:279</a><li> +(a::<b>BigInt</b>, b::<b>BigInt</b>, c::<b>BigInt</b>, d::<b>BigInt</b>) at <a href=\"https://github.com/JuliaLang/julia/tree/2ac304dfba75fad148d4070ef4f8a2e400c305bb/base/gmp.jl#L285\" target=\"_blank\">gmp.jl:285</a><li> +(a::<b>BigInt</b>, b::<b>BigInt</b>, c::<b>BigInt</b>, d::<b>BigInt</b>, e::<b>BigInt</b>) at <a href=\"https://github.com/JuliaLang/julia/tree/2ac304dfba75fad148d4070ef4f8a2e400c305bb/base/gmp.jl#L292\" target=\"_blank\">gmp.jl:292</a><li> +(x::<b>BigInt</b>, c::<b>Union{UInt16,UInt32,UInt8}</b>) at <a href=\"https://github.com/JuliaLang/julia/tree/2ac304dfba75fad148d4070ef4f8a2e400c305bb/base/gmp.jl#L304\" target=\"_blank\">gmp.jl:304</a><li> +(c::<b>Union{UInt16,UInt32,UInt8}</b>, x::<b>BigInt</b>) at <a href=\"https://github.com/JuliaLang/julia/tree/2ac304dfba75fad148d4070ef4f8a2e400c305bb/base/gmp.jl#L308\" target=\"_blank\">gmp.jl:308</a><li> +(x::<b>BigInt</b>, c::<b>Union{Int16,Int32,Int8}</b>) at <a href=\"https://github.com/JuliaLang/julia/tree/2ac304dfba75fad148d4070ef4f8a2e400c305bb/base/gmp.jl#L320\" target=\"_blank\">gmp.jl:320</a><li> +(c::<b>Union{Int16,Int32,Int8}</b>, x::<b>BigInt</b>) at <a href=\"https://github.com/JuliaLang/julia/tree/2ac304dfba75fad148d4070ef4f8a2e400c305bb/base/gmp.jl#L321\" target=\"_blank\">gmp.jl:321</a><li> +(x::<b>BigFloat</b>, y::<b>BigFloat</b>) at <a href=\"https://github.com/JuliaLang/julia/tree/2ac304dfba75fad148d4070ef4f8a2e400c305bb/base/mpfr.jl#L208\" target=\"_blank\">mpfr.jl:208</a><li> +(x::<b>BigFloat</b>, c::<b>Union{UInt16,UInt32,UInt8}</b>) at <a href=\"https://github.com/JuliaLang/julia/tree/2ac304dfba75fad148d4070ef4f8a2e400c305bb/base/mpfr.jl#L215\" target=\"_blank\">mpfr.jl:215</a><li> +(c::<b>Union{UInt16,UInt32,UInt8}</b>, x::<b>BigFloat</b>) at <a href=\"https://github.com/JuliaLang/julia/tree/2ac304dfba75fad148d4070ef4f8a2e400c305bb/base/mpfr.jl#L219\" target=\"_blank\">mpfr.jl:219</a><li> +(x::<b>BigFloat</b>, c::<b>Union{Int16,Int32,Int8}</b>) at <a href=\"https://github.com/JuliaLang/julia/tree/2ac304dfba75fad148d4070ef4f8a2e400c305bb/base/mpfr.jl#L223\" target=\"_blank\">mpfr.jl:223</a><li> +(c::<b>Union{Int16,Int32,Int8}</b>, x::<b>BigFloat</b>) at <a href=\"https://github.com/JuliaLang/julia/tree/2ac304dfba75fad148d4070ef4f8a2e400c305bb/base/mpfr.jl#L227\" target=\"_blank\">mpfr.jl:227</a><li> +(x::<b>BigFloat</b>, c::<b>Union{Float16,Float32,Float64}</b>) at <a href=\"https://github.com/JuliaLang/julia/tree/2ac304dfba75fad148d4070ef4f8a2e400c305bb/base/mpfr.jl#L231\" target=\"_blank\">mpfr.jl:231</a><li> +(c::<b>Union{Float16,Float32,Float64}</b>, x::<b>BigFloat</b>) at <a href=\"https://github.com/JuliaLang/julia/tree/2ac304dfba75fad148d4070ef4f8a2e400c305bb/base/mpfr.jl#L235\" target=\"_blank\">mpfr.jl:235</a><li> +(x::<b>BigFloat</b>, c::<b>BigInt</b>) at <a href=\"https://github.com/JuliaLang/julia/tree/2ac304dfba75fad148d4070ef4f8a2e400c305bb/base/mpfr.jl#L239\" target=\"_blank\">mpfr.jl:239</a><li> +(c::<b>BigInt</b>, x::<b>BigFloat</b>) at <a href=\"https://github.com/JuliaLang/julia/tree/2ac304dfba75fad148d4070ef4f8a2e400c305bb/base/mpfr.jl#L243\" target=\"_blank\">mpfr.jl:243</a><li> +(a::<b>BigFloat</b>, b::<b>BigFloat</b>, c::<b>BigFloat</b>) at <a href=\"https://github.com/JuliaLang/julia/tree/2ac304dfba75fad148d4070ef4f8a2e400c305bb/base/mpfr.jl#L379\" target=\"_blank\">mpfr.jl:379</a><li> +(a::<b>BigFloat</b>, b::<b>BigFloat</b>, c::<b>BigFloat</b>, d::<b>BigFloat</b>) at <a href=\"https://github.com/JuliaLang/julia/tree/2ac304dfba75fad148d4070ef4f8a2e400c305bb/base/mpfr.jl#L385\" target=\"_blank\">mpfr.jl:385</a><li> +(a::<b>BigFloat</b>, b::<b>BigFloat</b>, c::<b>BigFloat</b>, d::<b>BigFloat</b>, e::<b>BigFloat</b>) at <a href=\"https://github.com/JuliaLang/julia/tree/2ac304dfba75fad148d4070ef4f8a2e400c305bb/base/mpfr.jl#L392\" target=\"_blank\">mpfr.jl:392</a><li> +(x::<b>Irrational{sym}</b>, y::<b>Irrational{sym}</b>) at <a href=\"https://github.com/JuliaLang/julia/tree/2ac304dfba75fad148d4070ef4f8a2e400c305bb/base/irrationals.jl#L72\" target=\"_blank\">irrationals.jl:72</a><li> +(x::<b>Number</b>) at <a href=\"https://github.com/JuliaLang/julia/tree/2ac304dfba75fad148d4070ef4f8a2e400c305bb/base/operators.jl#L73\" target=\"_blank\">operators.jl:73</a><li> +<i>{T<:Number}</i>(x::<b>T<:Number</b>, y::<b>T<:Number</b>) at <a href=\"https://github.com/JuliaLang/julia/tree/2ac304dfba75fad148d4070ef4f8a2e400c305bb/base/promotion.jl#L211\" target=\"_blank\">promotion.jl:211</a><li> +<i>{T<:AbstractFloat}</i>(x::<b>Bool</b>, y::<b>T<:AbstractFloat</b>) at <a href=\"https://github.com/JuliaLang/julia/tree/2ac304dfba75fad148d4070ef4f8a2e400c305bb/base/bool.jl#L43\" target=\"_blank\">bool.jl:43</a><li> +(x::<b>Number</b>, y::<b>Number</b>) at <a href=\"https://github.com/JuliaLang/julia/tree/2ac304dfba75fad148d4070ef4f8a2e400c305bb/base/promotion.jl#L167\" target=\"_blank\">promotion.jl:167</a><li> +(r1::<b>OrdinalRange{T,S}</b>, r2::<b>OrdinalRange{T,S}</b>) at <a href=\"https://github.com/JuliaLang/julia/tree/2ac304dfba75fad148d4070ef4f8a2e400c305bb/base/operators.jl#L330\" target=\"_blank\">operators.jl:330</a><li> +<i>{T<:AbstractFloat}</i>(r1::<b>FloatRange{T<:AbstractFloat}</b>, r2::<b>FloatRange{T<:AbstractFloat}</b>) at <a href=\"https://github.com/JuliaLang/julia/tree/2ac304dfba75fad148d4070ef4f8a2e400c305bb/base/operators.jl#L337\" target=\"_blank\">operators.jl:337</a><li> +<i>{T<:AbstractFloat}</i>(r1::<b>LinSpace{T<:AbstractFloat}</b>, r2::<b>LinSpace{T<:AbstractFloat}</b>) at <a href=\"https://github.com/JuliaLang/julia/tree/2ac304dfba75fad148d4070ef4f8a2e400c305bb/base/operators.jl#L356\" target=\"_blank\">operators.jl:356</a><li> +(r1::<b>Union{FloatRange{T<:AbstractFloat},LinSpace{T<:AbstractFloat},OrdinalRange{T,S}}</b>, r2::<b>Union{FloatRange{T<:AbstractFloat},LinSpace{T<:AbstractFloat},OrdinalRange{T,S}}</b>) at <a href=\"https://github.com/JuliaLang/julia/tree/2ac304dfba75fad148d4070ef4f8a2e400c305bb/base/operators.jl#L369\" target=\"_blank\">operators.jl:369</a><li> +(x::<b>Ptr{T}</b>, y::<b>Integer</b>) at <a href=\"https://github.com/JuliaLang/julia/tree/2ac304dfba75fad148d4070ef4f8a2e400c305bb/base/pointer.jl#L75\" target=\"_blank\">pointer.jl:75</a><li> +<i>{S,T}</i>(A::<b>Range{S}</b>, B::<b>Range{T}</b>) at <a href=\"https://github.com/JuliaLang/julia/tree/2ac304dfba75fad148d4070ef4f8a2e400c305bb/base/arraymath.jl#L69\" target=\"_blank\">arraymath.jl:69</a><li> +<i>{S,T}</i>(A::<b>Range{S}</b>, B::<b>AbstractArray{T,N}</b>) at <a href=\"https://github.com/JuliaLang/julia/tree/2ac304dfba75fad148d4070ef4f8a2e400c305bb/base/arraymath.jl#L87\" target=\"_blank\">arraymath.jl:87</a><li> +(A::<b>BitArray{N}</b>, B::<b>BitArray{N}</b>) at <a href=\"https://github.com/JuliaLang/julia/tree/2ac304dfba75fad148d4070ef4f8a2e400c305bb/base/bitarray.jl#L834\" target=\"_blank\">bitarray.jl:834</a><li> +<i>{T}</i>(B::<b>BitArray{2}</b>, J::<b>UniformScaling{T}</b>) at <a href=\"https://github.com/JuliaLang/julia/tree/2ac304dfba75fad148d4070ef4f8a2e400c305bb/base/linalg/uniformscaling.jl#L28\" target=\"_blank\">linalg/uniformscaling.jl:28</a><li> +(A::<b>Array{T,2}</b>, B::<b>Diagonal{T}</b>) at <a href=\"https://github.com/JuliaLang/julia/tree/2ac304dfba75fad148d4070ef4f8a2e400c305bb/base/linalg/special.jl#L122\" target=\"_blank\">linalg/special.jl:122</a><li> +(A::<b>Array{T,2}</b>, B::<b>Bidiagonal{T}</b>) at <a href=\"https://github.com/JuliaLang/julia/tree/2ac304dfba75fad148d4070ef4f8a2e400c305bb/base/linalg/special.jl#L122\" target=\"_blank\">linalg/special.jl:122</a><li> +(A::<b>Array{T,2}</b>, B::<b>Tridiagonal{T}</b>) at <a href=\"https://github.com/JuliaLang/julia/tree/2ac304dfba75fad148d4070ef4f8a2e400c305bb/base/linalg/special.jl#L122\" target=\"_blank\">linalg/special.jl:122</a><li> +(A::<b>Array{T,2}</b>, B::<b>SymTridiagonal{T}</b>) at <a href=\"https://github.com/JuliaLang/julia/tree/2ac304dfba75fad148d4070ef4f8a2e400c305bb/base/linalg/special.jl#L131\" target=\"_blank\">linalg/special.jl:131</a><li> +(A::<b>Array{T,2}</b>, B::<b>Base.LinAlg.AbstractTriangular{T,S<:AbstractArray{T,2}}</b>) at <a href=\"https://github.com/JuliaLang/julia/tree/2ac304dfba75fad148d4070ef4f8a2e400c305bb/base/linalg/special.jl#L159\" target=\"_blank\">linalg/special.jl:159</a><li> +(A::<b>Array{T,N}</b>, B::<b>SparseMatrixCSC{Tv,Ti<:Integer}</b>) at <a href=\"https://github.com/JuliaLang/julia/tree/2ac304dfba75fad148d4070ef4f8a2e400c305bb/base/sparse/sparsematrix.jl#L1019\" target=\"_blank\">sparse/sparsematrix.jl:1019</a><li> +<i>{P<:Union{Base.Dates.CompoundPeriod,Base.Dates.Period}}</i>(x::<b>Union{DenseArray{P<:Union{Base.Dates.CompoundPeriod,Base.Dates.Period},N},SubArray{P<:Union{Base.Dates.CompoundPeriod,Base.Dates.Period},N,A<:DenseArray{T,N},I<:Tuple{Vararg{Union{Colon,Int64,Range{Int64}}}},LD}}</b>) at <a href=\"https://github.com/JuliaLang/julia/tree/2ac304dfba75fad148d4070ef4f8a2e400c305bb/base/dates/periods.jl#L202\" target=\"_blank\">dates/periods.jl:202</a><li> +(A::<b>AbstractArray{Bool,N}</b>, x::<b>Bool</b>) at <a href=\"https://github.com/JuliaLang/julia/tree/2ac304dfba75fad148d4070ef4f8a2e400c305bb/base/arraymath.jl#L135\" target=\"_blank\">arraymath.jl:135</a><li> +(A::<b>Union{DenseArray{Bool,N},SubArray{Bool,N,A<:DenseArray{T,N},I<:Tuple{Vararg{Union{Colon,Int64,Range{Int64}}}},LD}}</b>, B::<b>Union{DenseArray{Bool,N},SubArray{Bool,N,A<:DenseArray{T,N},I<:Tuple{Vararg{Union{Colon,Int64,Range{Int64}}}},LD}}</b>) at <a href=\"https://github.com/JuliaLang/julia/tree/2ac304dfba75fad148d4070ef4f8a2e400c305bb/base/arraymath.jl#L166\" target=\"_blank\">arraymath.jl:166</a><li> +(A::<b>SymTridiagonal{T}</b>, B::<b>SymTridiagonal{T}</b>) at <a href=\"https://github.com/JuliaLang/julia/tree/2ac304dfba75fad148d4070ef4f8a2e400c305bb/base/linalg/tridiag.jl#L84\" target=\"_blank\">linalg/tridiag.jl:84</a><li> +(A::<b>Tridiagonal{T}</b>, B::<b>Tridiagonal{T}</b>) at <a href=\"https://github.com/JuliaLang/julia/tree/2ac304dfba75fad148d4070ef4f8a2e400c305bb/base/linalg/tridiag.jl#L404\" target=\"_blank\">linalg/tridiag.jl:404</a><li> +(A::<b>UpperTriangular{T,S<:AbstractArray{T,2}}</b>, B::<b>UpperTriangular{T,S<:AbstractArray{T,2}}</b>) at <a href=\"https://github.com/JuliaLang/julia/tree/2ac304dfba75fad148d4070ef4f8a2e400c305bb/base/linalg/triangular.jl#L347\" target=\"_blank\">linalg/triangular.jl:347</a><li> +(A::<b>LowerTriangular{T,S<:AbstractArray{T,2}}</b>, B::<b>LowerTriangular{T,S<:AbstractArray{T,2}}</b>) at <a href=\"https://github.com/JuliaLang/julia/tree/2ac304dfba75fad148d4070ef4f8a2e400c305bb/base/linalg/triangular.jl#L348\" target=\"_blank\">linalg/triangular.jl:348</a><li> +(A::<b>UpperTriangular{T,S<:AbstractArray{T,2}}</b>, B::<b>Base.LinAlg.UnitUpperTriangular{T,S<:AbstractArray{T,2}}</b>) at <a href=\"https://github.com/JuliaLang/julia/tree/2ac304dfba75fad148d4070ef4f8a2e400c305bb/base/linalg/triangular.jl#L349\" target=\"_blank\">linalg/triangular.jl:349</a><li> +(A::<b>LowerTriangular{T,S<:AbstractArray{T,2}}</b>, B::<b>Base.LinAlg.UnitLowerTriangular{T,S<:AbstractArray{T,2}}</b>) at <a href=\"https://github.com/JuliaLang/julia/tree/2ac304dfba75fad148d4070ef4f8a2e400c305bb/base/linalg/triangular.jl#L350\" target=\"_blank\">linalg/triangular.jl:350</a><li> +(A::<b>Base.LinAlg.UnitUpperTriangular{T,S<:AbstractArray{T,2}}</b>, B::<b>UpperTriangular{T,S<:AbstractArray{T,2}}</b>) at <a href=\"https://github.com/JuliaLang/julia/tree/2ac304dfba75fad148d4070ef4f8a2e400c305bb/base/linalg/triangular.jl#L351\" target=\"_blank\">linalg/triangular.jl:351</a><li> +(A::<b>Base.LinAlg.UnitLowerTriangular{T,S<:AbstractArray{T,2}}</b>, B::<b>LowerTriangular{T,S<:AbstractArray{T,2}}</b>) at <a href=\"https://github.com/JuliaLang/julia/tree/2ac304dfba75fad148d4070ef4f8a2e400c305bb/base/linalg/triangular.jl#L352\" target=\"_blank\">linalg/triangular.jl:352</a><li> +(A::<b>Base.LinAlg.UnitUpperTriangular{T,S<:AbstractArray{T,2}}</b>, B::<b>Base.LinAlg.UnitUpperTriangular{T,S<:AbstractArray{T,2}}</b>) at <a href=\"https://github.com/JuliaLang/julia/tree/2ac304dfba75fad148d4070ef4f8a2e400c305bb/base/linalg/triangular.jl#L353\" target=\"_blank\">linalg/triangular.jl:353</a><li> +(A::<b>Base.LinAlg.UnitLowerTriangular{T,S<:AbstractArray{T,2}}</b>, B::<b>Base.LinAlg.UnitLowerTriangular{T,S<:AbstractArray{T,2}}</b>) at <a href=\"https://github.com/JuliaLang/julia/tree/2ac304dfba75fad148d4070ef4f8a2e400c305bb/base/linalg/triangular.jl#L354\" target=\"_blank\">linalg/triangular.jl:354</a><li> +(A::<b>Base.LinAlg.AbstractTriangular{T,S<:AbstractArray{T,2}}</b>, B::<b>Base.LinAlg.AbstractTriangular{T,S<:AbstractArray{T,2}}</b>) at <a href=\"https://github.com/JuliaLang/julia/tree/2ac304dfba75fad148d4070ef4f8a2e400c305bb/base/linalg/triangular.jl#L355\" target=\"_blank\">linalg/triangular.jl:355</a><li> +(Da::<b>Diagonal{T}</b>, Db::<b>Diagonal{T}</b>) at <a href=\"https://github.com/JuliaLang/julia/tree/2ac304dfba75fad148d4070ef4f8a2e400c305bb/base/linalg/diagonal.jl#L86\" target=\"_blank\">linalg/diagonal.jl:86</a><li> +(A::<b>Bidiagonal{T}</b>, B::<b>Bidiagonal{T}</b>) at <a href=\"https://github.com/JuliaLang/julia/tree/2ac304dfba75fad148d4070ef4f8a2e400c305bb/base/linalg/bidiag.jl#L176\" target=\"_blank\">linalg/bidiag.jl:176</a><li> +(UL::<b>UpperTriangular{T,S<:AbstractArray{T,2}}</b>, J::<b>UniformScaling{T<:Number}</b>) at <a href=\"https://github.com/JuliaLang/julia/tree/2ac304dfba75fad148d4070ef4f8a2e400c305bb/base/linalg/uniformscaling.jl#L45\" target=\"_blank\">linalg/uniformscaling.jl:45</a><li> +(UL::<b>Base.LinAlg.UnitUpperTriangular{T,S<:AbstractArray{T,2}}</b>, J::<b>UniformScaling{T<:Number}</b>) at <a href=\"https://github.com/JuliaLang/julia/tree/2ac304dfba75fad148d4070ef4f8a2e400c305bb/base/linalg/uniformscaling.jl#L48\" target=\"_blank\">linalg/uniformscaling.jl:48</a><li> +(UL::<b>LowerTriangular{T,S<:AbstractArray{T,2}}</b>, J::<b>UniformScaling{T<:Number}</b>) at <a href=\"https://github.com/JuliaLang/julia/tree/2ac304dfba75fad148d4070ef4f8a2e400c305bb/base/linalg/uniformscaling.jl#L45\" target=\"_blank\">linalg/uniformscaling.jl:45</a><li> +(UL::<b>Base.LinAlg.UnitLowerTriangular{T,S<:AbstractArray{T,2}}</b>, J::<b>UniformScaling{T<:Number}</b>) at <a href=\"https://github.com/JuliaLang/julia/tree/2ac304dfba75fad148d4070ef4f8a2e400c305bb/base/linalg/uniformscaling.jl#L48\" target=\"_blank\">linalg/uniformscaling.jl:48</a><li> +(A::<b>Diagonal{T}</b>, B::<b>Bidiagonal{T}</b>) at <a href=\"https://github.com/JuliaLang/julia/tree/2ac304dfba75fad148d4070ef4f8a2e400c305bb/base/linalg/special.jl#L121\" target=\"_blank\">linalg/special.jl:121</a><li> +(A::<b>Bidiagonal{T}</b>, B::<b>Diagonal{T}</b>) at <a href=\"https://github.com/JuliaLang/julia/tree/2ac304dfba75fad148d4070ef4f8a2e400c305bb/base/linalg/special.jl#L122\" target=\"_blank\">linalg/special.jl:122</a><li> +(A::<b>Diagonal{T}</b>, B::<b>Tridiagonal{T}</b>) at <a href=\"https://github.com/JuliaLang/julia/tree/2ac304dfba75fad148d4070ef4f8a2e400c305bb/base/linalg/special.jl#L121\" target=\"_blank\">linalg/special.jl:121</a><li> +(A::<b>Tridiagonal{T}</b>, B::<b>Diagonal{T}</b>) at <a href=\"https://github.com/JuliaLang/julia/tree/2ac304dfba75fad148d4070ef4f8a2e400c305bb/base/linalg/special.jl#L122\" target=\"_blank\">linalg/special.jl:122</a><li> +(A::<b>Diagonal{T}</b>, B::<b>Array{T,2}</b>) at <a href=\"https://github.com/JuliaLang/julia/tree/2ac304dfba75fad148d4070ef4f8a2e400c305bb/base/linalg/special.jl#L121\" target=\"_blank\">linalg/special.jl:121</a><li> +(A::<b>Bidiagonal{T}</b>, B::<b>Tridiagonal{T}</b>) at <a href=\"https://github.com/JuliaLang/julia/tree/2ac304dfba75fad148d4070ef4f8a2e400c305bb/base/linalg/special.jl#L121\" target=\"_blank\">linalg/special.jl:121</a><li> +(A::<b>Tridiagonal{T}</b>, B::<b>Bidiagonal{T}</b>) at <a href=\"https://github.com/JuliaLang/julia/tree/2ac304dfba75fad148d4070ef4f8a2e400c305bb/base/linalg/special.jl#L122\" target=\"_blank\">linalg/special.jl:122</a><li> +(A::<b>Bidiagonal{T}</b>, B::<b>Array{T,2}</b>) at <a href=\"https://github.com/JuliaLang/julia/tree/2ac304dfba75fad148d4070ef4f8a2e400c305bb/base/linalg/special.jl#L121\" target=\"_blank\">linalg/special.jl:121</a><li> +(A::<b>Tridiagonal{T}</b>, B::<b>Array{T,2}</b>) at <a href=\"https://github.com/JuliaLang/julia/tree/2ac304dfba75fad148d4070ef4f8a2e400c305bb/base/linalg/special.jl#L121\" target=\"_blank\">linalg/special.jl:121</a><li> +(A::<b>SymTridiagonal{T}</b>, B::<b>Tridiagonal{T}</b>) at <a href=\"https://github.com/JuliaLang/julia/tree/2ac304dfba75fad148d4070ef4f8a2e400c305bb/base/linalg/special.jl#L130\" target=\"_blank\">linalg/special.jl:130</a><li> +(A::<b>Tridiagonal{T}</b>, B::<b>SymTridiagonal{T}</b>) at <a href=\"https://github.com/JuliaLang/julia/tree/2ac304dfba75fad148d4070ef4f8a2e400c305bb/base/linalg/special.jl#L131\" target=\"_blank\">linalg/special.jl:131</a><li> +(A::<b>SymTridiagonal{T}</b>, B::<b>Array{T,2}</b>) at <a href=\"https://github.com/JuliaLang/julia/tree/2ac304dfba75fad148d4070ef4f8a2e400c305bb/base/linalg/special.jl#L130\" target=\"_blank\">linalg/special.jl:130</a><li> +(A::<b>Diagonal{T}</b>, B::<b>SymTridiagonal{T}</b>) at <a href=\"https://github.com/JuliaLang/julia/tree/2ac304dfba75fad148d4070ef4f8a2e400c305bb/base/linalg/special.jl#L139\" target=\"_blank\">linalg/special.jl:139</a><li> +(A::<b>SymTridiagonal{T}</b>, B::<b>Diagonal{T}</b>) at <a href=\"https://github.com/JuliaLang/julia/tree/2ac304dfba75fad148d4070ef4f8a2e400c305bb/base/linalg/special.jl#L140\" target=\"_blank\">linalg/special.jl:140</a><li> +(A::<b>Bidiagonal{T}</b>, B::<b>SymTridiagonal{T}</b>) at <a href=\"https://github.com/JuliaLang/julia/tree/2ac304dfba75fad148d4070ef4f8a2e400c305bb/base/linalg/special.jl#L139\" target=\"_blank\">linalg/special.jl:139</a><li> +(A::<b>SymTridiagonal{T}</b>, B::<b>Bidiagonal{T}</b>) at <a href=\"https://github.com/JuliaLang/julia/tree/2ac304dfba75fad148d4070ef4f8a2e400c305bb/base/linalg/special.jl#L140\" target=\"_blank\">linalg/special.jl:140</a><li> +(A::<b>Diagonal{T}</b>, B::<b>UpperTriangular{T,S<:AbstractArray{T,2}}</b>) at <a href=\"https://github.com/JuliaLang/julia/tree/2ac304dfba75fad148d4070ef4f8a2e400c305bb/base/linalg/special.jl#L151\" target=\"_blank\">linalg/special.jl:151</a><li> +(A::<b>UpperTriangular{T,S<:AbstractArray{T,2}}</b>, B::<b>Diagonal{T}</b>) at <a href=\"https://github.com/JuliaLang/julia/tree/2ac304dfba75fad148d4070ef4f8a2e400c305bb/base/linalg/special.jl#L152\" target=\"_blank\">linalg/special.jl:152</a><li> +(A::<b>Diagonal{T}</b>, B::<b>Base.LinAlg.UnitUpperTriangular{T,S<:AbstractArray{T,2}}</b>) at <a href=\"https://github.com/JuliaLang/julia/tree/2ac304dfba75fad148d4070ef4f8a2e400c305bb/base/linalg/special.jl#L151\" target=\"_blank\">linalg/special.jl:151</a><li> +(A::<b>Base.LinAlg.UnitUpperTriangular{T,S<:AbstractArray{T,2}}</b>, B::<b>Diagonal{T}</b>) at <a href=\"https://github.com/JuliaLang/julia/tree/2ac304dfba75fad148d4070ef4f8a2e400c305bb/base/linalg/special.jl#L152\" target=\"_blank\">linalg/special.jl:152</a><li> +(A::<b>Diagonal{T}</b>, B::<b>LowerTriangular{T,S<:AbstractArray{T,2}}</b>) at <a href=\"https://github.com/JuliaLang/julia/tree/2ac304dfba75fad148d4070ef4f8a2e400c305bb/base/linalg/special.jl#L151\" target=\"_blank\">linalg/special.jl:151</a><li> +(A::<b>LowerTriangular{T,S<:AbstractArray{T,2}}</b>, B::<b>Diagonal{T}</b>) at <a href=\"https://github.com/JuliaLang/julia/tree/2ac304dfba75fad148d4070ef4f8a2e400c305bb/base/linalg/special.jl#L152\" target=\"_blank\">linalg/special.jl:152</a><li> +(A::<b>Diagonal{T}</b>, B::<b>Base.LinAlg.UnitLowerTriangular{T,S<:AbstractArray{T,2}}</b>) at <a href=\"https://github.com/JuliaLang/julia/tree/2ac304dfba75fad148d4070ef4f8a2e400c305bb/base/linalg/special.jl#L151\" target=\"_blank\">linalg/special.jl:151</a><li> +(A::<b>Base.LinAlg.UnitLowerTriangular{T,S<:AbstractArray{T,2}}</b>, B::<b>Diagonal{T}</b>) at <a href=\"https://github.com/JuliaLang/julia/tree/2ac304dfba75fad148d4070ef4f8a2e400c305bb/base/linalg/special.jl#L152\" target=\"_blank\">linalg/special.jl:152</a><li> +(A::<b>Base.LinAlg.AbstractTriangular{T,S<:AbstractArray{T,2}}</b>, B::<b>SymTridiagonal{T}</b>) at <a href=\"https://github.com/JuliaLang/julia/tree/2ac304dfba75fad148d4070ef4f8a2e400c305bb/base/linalg/special.jl#L158\" target=\"_blank\">linalg/special.jl:158</a><li> +(A::<b>SymTridiagonal{T}</b>, B::<b>Base.LinAlg.AbstractTriangular{T,S<:AbstractArray{T,2}}</b>) at <a href=\"https://github.com/JuliaLang/julia/tree/2ac304dfba75fad148d4070ef4f8a2e400c305bb/base/linalg/special.jl#L159\" target=\"_blank\">linalg/special.jl:159</a><li> +(A::<b>Base.LinAlg.AbstractTriangular{T,S<:AbstractArray{T,2}}</b>, B::<b>Tridiagonal{T}</b>) at <a href=\"https://github.com/JuliaLang/julia/tree/2ac304dfba75fad148d4070ef4f8a2e400c305bb/base/linalg/special.jl#L158\" target=\"_blank\">linalg/special.jl:158</a><li> +(A::<b>Tridiagonal{T}</b>, B::<b>Base.LinAlg.AbstractTriangular{T,S<:AbstractArray{T,2}}</b>) at <a href=\"https://github.com/JuliaLang/julia/tree/2ac304dfba75fad148d4070ef4f8a2e400c305bb/base/linalg/special.jl#L159\" target=\"_blank\">linalg/special.jl:159</a><li> +(A::<b>Base.LinAlg.AbstractTriangular{T,S<:AbstractArray{T,2}}</b>, B::<b>Bidiagonal{T}</b>) at <a href=\"https://github.com/JuliaLang/julia/tree/2ac304dfba75fad148d4070ef4f8a2e400c305bb/base/linalg/special.jl#L158\" target=\"_blank\">linalg/special.jl:158</a><li> +(A::<b>Bidiagonal{T}</b>, B::<b>Base.LinAlg.AbstractTriangular{T,S<:AbstractArray{T,2}}</b>) at <a href=\"https://github.com/JuliaLang/julia/tree/2ac304dfba75fad148d4070ef4f8a2e400c305bb/base/linalg/special.jl#L159\" target=\"_blank\">linalg/special.jl:159</a><li> +(A::<b>Base.LinAlg.AbstractTriangular{T,S<:AbstractArray{T,2}}</b>, B::<b>Array{T,2}</b>) at <a href=\"https://github.com/JuliaLang/julia/tree/2ac304dfba75fad148d4070ef4f8a2e400c305bb/base/linalg/special.jl#L158\" target=\"_blank\">linalg/special.jl:158</a><li> +<i>{Tv1,Ti1,Tv2,Ti2}</i>(A_1::<b>SparseMatrixCSC{Tv1,Ti1}</b>, A_2::<b>SparseMatrixCSC{Tv2,Ti2}</b>) at <a href=\"https://github.com/JuliaLang/julia/tree/2ac304dfba75fad148d4070ef4f8a2e400c305bb/base/sparse/sparsematrix.jl#L1005\" target=\"_blank\">sparse/sparsematrix.jl:1005</a><li> +(A::<b>SparseMatrixCSC{Tv,Ti<:Integer}</b>, B::<b>Array{T,N}</b>) at <a href=\"https://github.com/JuliaLang/julia/tree/2ac304dfba75fad148d4070ef4f8a2e400c305bb/base/sparse/sparsematrix.jl#L1017\" target=\"_blank\">sparse/sparsematrix.jl:1017</a><li> +(A::<b>SparseMatrixCSC{Tv,Ti<:Integer}</b>, J::<b>UniformScaling{T<:Number}</b>) at <a href=\"https://github.com/JuliaLang/julia/tree/2ac304dfba75fad148d4070ef4f8a2e400c305bb/base/sparse/sparsematrix.jl#L2988\" target=\"_blank\">sparse/sparsematrix.jl:2988</a><li> +<i>{P<:Union{Base.Dates.CompoundPeriod,Base.Dates.Period}}</i>(Y::<b>Union{DenseArray{P<:Union{Base.Dates.CompoundPeriod,Base.Dates.Period},N},SubArray{P<:Union{Base.Dates.CompoundPeriod,Base.Dates.Period},N,A<:DenseArray{T,N},I<:Tuple{Vararg{Union{Colon,Int64,Range{Int64}}}},LD}}</b>, x::<b>Union{Base.Dates.CompoundPeriod,Base.Dates.Period}</b>) at <a href=\"https://github.com/JuliaLang/julia/tree/2ac304dfba75fad148d4070ef4f8a2e400c305bb/base/dates/periods.jl#L216\" target=\"_blank\">dates/periods.jl:216</a><li> +<i>{P<:Union{Base.Dates.CompoundPeriod,Base.Dates.Period},Q<:Union{Base.Dates.CompoundPeriod,Base.Dates.Period}}</i>(X::<b>Union{DenseArray{P<:Union{Base.Dates.CompoundPeriod,Base.Dates.Period},N},SubArray{P<:Union{Base.Dates.CompoundPeriod,Base.Dates.Period},N,A<:DenseArray{T,N},I<:Tuple{Vararg{Union{Colon,Int64,Range{Int64}}}},LD}}</b>, Y::<b>Union{DenseArray{Q<:Union{Base.Dates.CompoundPeriod,Base.Dates.Period},N},SubArray{Q<:Union{Base.Dates.CompoundPeriod,Base.Dates.Period},N,A<:DenseArray{T,N},I<:Tuple{Vararg{Union{Colon,Int64,Range{Int64}}}},LD}}</b>) at <a href=\"https://github.com/JuliaLang/julia/tree/2ac304dfba75fad148d4070ef4f8a2e400c305bb/base/dates/periods.jl#L217\" target=\"_blank\">dates/periods.jl:217</a><li> +<i>{T<:Base.Dates.TimeType,P<:Union{Base.Dates.CompoundPeriod,Base.Dates.Period}}</i>(x::<b>Union{DenseArray{P<:Union{Base.Dates.CompoundPeriod,Base.Dates.Period},N},SubArray{P<:Union{Base.Dates.CompoundPeriod,Base.Dates.Period},N,A<:DenseArray{T,N},I<:Tuple{Vararg{Union{Colon,Int64,Range{Int64}}}},LD}}</b>, y::<b>T<:Base.Dates.TimeType</b>) at <a href=\"https://github.com/JuliaLang/julia/tree/2ac304dfba75fad148d4070ef4f8a2e400c305bb/base/dates/arithmetic.jl#L83\" target=\"_blank\">dates/arithmetic.jl:83</a><li> +<i>{T<:Base.Dates.TimeType}</i>(r::<b>Range{T<:Base.Dates.TimeType}</b>, x::<b>Base.Dates.Period</b>) at <a href=\"https://github.com/JuliaLang/julia/tree/2ac304dfba75fad148d4070ef4f8a2e400c305bb/base/dates/ranges.jl#L39\" target=\"_blank\">dates/ranges.jl:39</a><li> +<i>{T<:Number}</i>(x::<b>AbstractArray{T<:Number,N}</b>) at <a href=\"https://github.com/JuliaLang/julia/tree/2ac304dfba75fad148d4070ef4f8a2e400c305bb/base/abstractarraymath.jl#L49\" target=\"_blank\">abstractarraymath.jl:49</a><li> +<i>{S,T}</i>(A::<b>AbstractArray{S,N}</b>, B::<b>Range{T}</b>) at <a href=\"https://github.com/JuliaLang/julia/tree/2ac304dfba75fad148d4070ef4f8a2e400c305bb/base/arraymath.jl#L78\" target=\"_blank\">arraymath.jl:78</a><li> +<i>{S,T}</i>(A::<b>AbstractArray{S,N}</b>, B::<b>AbstractArray{T,N}</b>) at <a href=\"https://github.com/JuliaLang/julia/tree/2ac304dfba75fad148d4070ef4f8a2e400c305bb/base/arraymath.jl#L96\" target=\"_blank\">arraymath.jl:96</a><li> +(A::<b>AbstractArray{T,N}</b>, x::<b>Number</b>) at <a href=\"https://github.com/JuliaLang/julia/tree/2ac304dfba75fad148d4070ef4f8a2e400c305bb/base/arraymath.jl#L139\" target=\"_blank\">arraymath.jl:139</a><li> +(x::<b>Number</b>, A::<b>AbstractArray{T,N}</b>) at <a href=\"https://github.com/JuliaLang/julia/tree/2ac304dfba75fad148d4070ef4f8a2e400c305bb/base/arraymath.jl#L140\" target=\"_blank\">arraymath.jl:140</a><li> +(x::<b>Char</b>, y::<b>Integer</b>) at <a href=\"https://github.com/JuliaLang/julia/tree/2ac304dfba75fad148d4070ef4f8a2e400c305bb/base/char.jl#L42\" target=\"_blank\">char.jl:42</a><li> +<i>{N}</i>(index1::<b>CartesianIndex{N}</b>, index2::<b>CartesianIndex{N}</b>) at <a href=\"https://github.com/JuliaLang/julia/tree/2ac304dfba75fad148d4070ef4f8a2e400c305bb/base/multidimensional.jl#L42\" target=\"_blank\">multidimensional.jl:42</a><li> +(J1::<b>UniformScaling{T<:Number}</b>, J2::<b>UniformScaling{T<:Number}</b>) at <a href=\"https://github.com/JuliaLang/julia/tree/2ac304dfba75fad148d4070ef4f8a2e400c305bb/base/linalg/uniformscaling.jl#L27\" target=\"_blank\">linalg/uniformscaling.jl:27</a><li> +(J::<b>UniformScaling{T<:Number}</b>, B::<b>BitArray{2}</b>) at <a href=\"https://github.com/JuliaLang/julia/tree/2ac304dfba75fad148d4070ef4f8a2e400c305bb/base/linalg/uniformscaling.jl#L29\" target=\"_blank\">linalg/uniformscaling.jl:29</a><li> +(J::<b>UniformScaling{T<:Number}</b>, A::<b>AbstractArray{T,2}</b>) at <a href=\"https://github.com/JuliaLang/julia/tree/2ac304dfba75fad148d4070ef4f8a2e400c305bb/base/linalg/uniformscaling.jl#L30\" target=\"_blank\">linalg/uniformscaling.jl:30</a><li> +(J::<b>UniformScaling{T<:Number}</b>, x::<b>Number</b>) at <a href=\"https://github.com/JuliaLang/julia/tree/2ac304dfba75fad148d4070ef4f8a2e400c305bb/base/linalg/uniformscaling.jl#L31\" target=\"_blank\">linalg/uniformscaling.jl:31</a><li> +(x::<b>Number</b>, J::<b>UniformScaling{T<:Number}</b>) at <a href=\"https://github.com/JuliaLang/julia/tree/2ac304dfba75fad148d4070ef4f8a2e400c305bb/base/linalg/uniformscaling.jl#L32\" target=\"_blank\">linalg/uniformscaling.jl:32</a><li> +<i>{TA,TJ}</i>(A::<b>AbstractArray{TA,2}</b>, J::<b>UniformScaling{TJ}</b>) at <a href=\"https://github.com/JuliaLang/julia/tree/2ac304dfba75fad148d4070ef4f8a2e400c305bb/base/linalg/uniformscaling.jl#L92\" target=\"_blank\">linalg/uniformscaling.jl:92</a><li> +<i>{T}</i>(a::<b>Base.Pkg.Resolve.VersionWeights.HierarchicalValue{T}</b>, b::<b>Base.Pkg.Resolve.VersionWeights.HierarchicalValue{T}</b>) at <a href=\"https://github.com/JuliaLang/julia/tree/2ac304dfba75fad148d4070ef4f8a2e400c305bb/base/pkg/resolve/versionweight.jl#L23\" target=\"_blank\">pkg/resolve/versionweight.jl:23</a><li> +(a::<b>Base.Pkg.Resolve.VersionWeights.VWPreBuildItem</b>, b::<b>Base.Pkg.Resolve.VersionWeights.VWPreBuildItem</b>) at <a href=\"https://github.com/JuliaLang/julia/tree/2ac304dfba75fad148d4070ef4f8a2e400c305bb/base/pkg/resolve/versionweight.jl#L85\" target=\"_blank\">pkg/resolve/versionweight.jl:85</a><li> +(a::<b>Base.Pkg.Resolve.VersionWeights.VWPreBuild</b>, b::<b>Base.Pkg.Resolve.VersionWeights.VWPreBuild</b>) at <a href=\"https://github.com/JuliaLang/julia/tree/2ac304dfba75fad148d4070ef4f8a2e400c305bb/base/pkg/resolve/versionweight.jl#L131\" target=\"_blank\">pkg/resolve/versionweight.jl:131</a><li> +(a::<b>Base.Pkg.Resolve.VersionWeights.VersionWeight</b>, b::<b>Base.Pkg.Resolve.VersionWeights.VersionWeight</b>) at <a href=\"https://github.com/JuliaLang/julia/tree/2ac304dfba75fad148d4070ef4f8a2e400c305bb/base/pkg/resolve/versionweight.jl#L185\" target=\"_blank\">pkg/resolve/versionweight.jl:185</a><li> +(a::<b>Base.Pkg.Resolve.MaxSum.FieldValues.FieldValue</b>, b::<b>Base.Pkg.Resolve.MaxSum.FieldValues.FieldValue</b>) at <a href=\"https://github.com/JuliaLang/julia/tree/2ac304dfba75fad148d4070ef4f8a2e400c305bb/base/pkg/resolve/fieldvalue.jl#L44\" target=\"_blank\">pkg/resolve/fieldvalue.jl:44</a><li> +<i>{P<:Base.Dates.Period}</i>(x::<b>P<:Base.Dates.Period</b>, y::<b>P<:Base.Dates.Period</b>) at <a href=\"https://github.com/JuliaLang/julia/tree/2ac304dfba75fad148d4070ef4f8a2e400c305bb/base/dates/periods.jl#L43\" target=\"_blank\">dates/periods.jl:43</a><li> +(x::<b>Base.Dates.Period</b>, y::<b>Base.Dates.Period</b>) at <a href=\"https://github.com/JuliaLang/julia/tree/2ac304dfba75fad148d4070ef4f8a2e400c305bb/base/dates/periods.jl#L190\" target=\"_blank\">dates/periods.jl:190</a><li> +(x::<b>Base.Dates.CompoundPeriod</b>, y::<b>Base.Dates.Period</b>) at <a href=\"https://github.com/JuliaLang/julia/tree/2ac304dfba75fad148d4070ef4f8a2e400c305bb/base/dates/periods.jl#L191\" target=\"_blank\">dates/periods.jl:191</a><li> +(y::<b>Base.Dates.Period</b>, x::<b>Base.Dates.CompoundPeriod</b>) at <a href=\"https://github.com/JuliaLang/julia/tree/2ac304dfba75fad148d4070ef4f8a2e400c305bb/base/dates/periods.jl#L192\" target=\"_blank\">dates/periods.jl:192</a><li> +(x::<b>Base.Dates.CompoundPeriod</b>, y::<b>Base.Dates.CompoundPeriod</b>) at <a href=\"https://github.com/JuliaLang/julia/tree/2ac304dfba75fad148d4070ef4f8a2e400c305bb/base/dates/periods.jl#L193\" target=\"_blank\">dates/periods.jl:193</a><li> +(x::<b>Base.Dates.CompoundPeriod</b>, y::<b>Base.Dates.TimeType</b>) at <a href=\"https://github.com/JuliaLang/julia/tree/2ac304dfba75fad148d4070ef4f8a2e400c305bb/base/dates/periods.jl#L238\" target=\"_blank\">dates/periods.jl:238</a><li> +(y::<b>Base.Dates.Period</b>, x::<b>Base.Dates.TimeType</b>) at <a href=\"https://github.com/JuliaLang/julia/tree/2ac304dfba75fad148d4070ef4f8a2e400c305bb/base/dates/arithmetic.jl#L66\" target=\"_blank\">dates/arithmetic.jl:66</a><li> +<i>{T<:Base.Dates.TimeType}</i>(x::<b>Base.Dates.Period</b>, r::<b>Range{T<:Base.Dates.TimeType}</b>) at <a href=\"https://github.com/JuliaLang/julia/tree/2ac304dfba75fad148d4070ef4f8a2e400c305bb/base/dates/ranges.jl#L40\" target=\"_blank\">dates/ranges.jl:40</a><li> +(x::<b>Union{Base.Dates.CompoundPeriod,Base.Dates.Period}</b>) at <a href=\"https://github.com/JuliaLang/julia/tree/2ac304dfba75fad148d4070ef4f8a2e400c305bb/base/dates/periods.jl#L201\" target=\"_blank\">dates/periods.jl:201</a><li> +<i>{P<:Union{Base.Dates.CompoundPeriod,Base.Dates.Period}}</i>(x::<b>Union{Base.Dates.CompoundPeriod,Base.Dates.Period}</b>, Y::<b>Union{DenseArray{P<:Union{Base.Dates.CompoundPeriod,Base.Dates.Period},N},SubArray{P<:Union{Base.Dates.CompoundPeriod,Base.Dates.Period},N,A<:DenseArray{T,N},I<:Tuple{Vararg{Union{Colon,Int64,Range{Int64}}}},LD}}</b>) at <a href=\"https://github.com/JuliaLang/julia/tree/2ac304dfba75fad148d4070ef4f8a2e400c305bb/base/dates/periods.jl#L215\" target=\"_blank\">dates/periods.jl:215</a><li> +(dt::<b>DateTime</b>, y::<b>Base.Dates.Year</b>) at <a href=\"https://github.com/JuliaLang/julia/tree/2ac304dfba75fad148d4070ef4f8a2e400c305bb/base/dates/arithmetic.jl#L13\" target=\"_blank\">dates/arithmetic.jl:13</a><li> +(dt::<b>Date</b>, y::<b>Base.Dates.Year</b>) at <a href=\"https://github.com/JuliaLang/julia/tree/2ac304dfba75fad148d4070ef4f8a2e400c305bb/base/dates/arithmetic.jl#L17\" target=\"_blank\">dates/arithmetic.jl:17</a><li> +(dt::<b>DateTime</b>, z::<b>Base.Dates.Month</b>) at <a href=\"https://github.com/JuliaLang/julia/tree/2ac304dfba75fad148d4070ef4f8a2e400c305bb/base/dates/arithmetic.jl#L37\" target=\"_blank\">dates/arithmetic.jl:37</a><li> +(dt::<b>Date</b>, z::<b>Base.Dates.Month</b>) at <a href=\"https://github.com/JuliaLang/julia/tree/2ac304dfba75fad148d4070ef4f8a2e400c305bb/base/dates/arithmetic.jl#L43\" target=\"_blank\">dates/arithmetic.jl:43</a><li> +(x::<b>Date</b>, y::<b>Base.Dates.Week</b>) at <a href=\"https://github.com/JuliaLang/julia/tree/2ac304dfba75fad148d4070ef4f8a2e400c305bb/base/dates/arithmetic.jl#L60\" target=\"_blank\">dates/arithmetic.jl:60</a><li> +(x::<b>Date</b>, y::<b>Base.Dates.Day</b>) at <a href=\"https://github.com/JuliaLang/julia/tree/2ac304dfba75fad148d4070ef4f8a2e400c305bb/base/dates/arithmetic.jl#L62\" target=\"_blank\">dates/arithmetic.jl:62</a><li> +(x::<b>DateTime</b>, y::<b>Base.Dates.Period</b>) at <a href=\"https://github.com/JuliaLang/julia/tree/2ac304dfba75fad148d4070ef4f8a2e400c305bb/base/dates/arithmetic.jl#L64\" target=\"_blank\">dates/arithmetic.jl:64</a><li> +(x::<b>Base.Dates.TimeType</b>) at <a href=\"https://github.com/JuliaLang/julia/tree/2ac304dfba75fad148d4070ef4f8a2e400c305bb/base/dates/arithmetic.jl#L8\" target=\"_blank\">dates/arithmetic.jl:8</a><li> +(a::<b>Base.Dates.TimeType</b>, b::<b>Base.Dates.Period</b>, c::<b>Base.Dates.Period</b>) at <a href=\"https://github.com/JuliaLang/julia/tree/2ac304dfba75fad148d4070ef4f8a2e400c305bb/base/dates/periods.jl#L227\" target=\"_blank\">dates/periods.jl:227</a><li> +(a::<b>Base.Dates.TimeType</b>, b::<b>Base.Dates.Period</b>, c::<b>Base.Dates.Period</b>, d::<b>Base.Dates.Period...</b>) at <a href=\"https://github.com/JuliaLang/julia/tree/2ac304dfba75fad148d4070ef4f8a2e400c305bb/base/dates/periods.jl#L229\" target=\"_blank\">dates/periods.jl:229</a><li> +(x::<b>Base.Dates.TimeType</b>, y::<b>Base.Dates.CompoundPeriod</b>) at <a href=\"https://github.com/JuliaLang/julia/tree/2ac304dfba75fad148d4070ef4f8a2e400c305bb/base/dates/periods.jl#L233\" target=\"_blank\">dates/periods.jl:233</a><li> +(x::<b>Base.Dates.Instant</b>) at <a href=\"https://github.com/JuliaLang/julia/tree/2ac304dfba75fad148d4070ef4f8a2e400c305bb/base/dates/arithmetic.jl#L4\" target=\"_blank\">dates/arithmetic.jl:4</a><li> +<i>{T<:Base.Dates.TimeType}</i>(x::<b>AbstractArray{T<:Base.Dates.TimeType,N}</b>, y::<b>Union{Base.Dates.CompoundPeriod,Base.Dates.Period}</b>) at <a href=\"https://github.com/JuliaLang/julia/tree/2ac304dfba75fad148d4070ef4f8a2e400c305bb/base/dates/arithmetic.jl#L76\" target=\"_blank\">dates/arithmetic.jl:76</a><li> +<i>{T<:Base.Dates.TimeType}</i>(y::<b>Union{Base.Dates.CompoundPeriod,Base.Dates.Period}</b>, x::<b>AbstractArray{T<:Base.Dates.TimeType,N}</b>) at <a href=\"https://github.com/JuliaLang/julia/tree/2ac304dfba75fad148d4070ef4f8a2e400c305bb/base/dates/arithmetic.jl#L77\" target=\"_blank\">dates/arithmetic.jl:77</a><li> +<i>{P<:Union{Base.Dates.CompoundPeriod,Base.Dates.Period}}</i>(y::<b>Base.Dates.TimeType</b>, x::<b>Union{DenseArray{P<:Union{Base.Dates.CompoundPeriod,Base.Dates.Period},N},SubArray{P<:Union{Base.Dates.CompoundPeriod,Base.Dates.Period},N,A<:DenseArray{T,N},I<:Tuple{Vararg{Union{Colon,Int64,Range{Int64}}}},LD}}</b>) at <a href=\"https://github.com/JuliaLang/julia/tree/2ac304dfba75fad148d4070ef4f8a2e400c305bb/base/dates/arithmetic.jl#L84\" target=\"_blank\">dates/arithmetic.jl:84</a><li> +(a, b, c, xs...) at <a href=\"https://github.com/JuliaLang/julia/tree/2ac304dfba75fad148d4070ef4f8a2e400c305bb/base/operators.jl#L103\" target=\"_blank\">operators.jl:103</a></ul>"
      ],
      "text/plain": [
       "# 171 methods for generic function \"+\":\n",
       "+(x::Bool) at bool.jl:33\n",
       "+(x::Bool, y::Bool) at bool.jl:36\n",
       "+(y::AbstractFloat, x::Bool) at bool.jl:46\n",
       "+(x::Int64, y::Int64) at int.jl:8\n",
       "+(x::Int8, y::Int8) at int.jl:16\n",
       "+(x::UInt8, y::UInt8) at int.jl:16\n",
       "+(x::Int16, y::Int16) at int.jl:16\n",
       "+(x::UInt16, y::UInt16) at int.jl:16\n",
       "+(x::Int32, y::Int32) at int.jl:16\n",
       "+(x::UInt32, y::UInt32) at int.jl:16\n",
       "+(x::UInt64, y::UInt64) at int.jl:16\n",
       "+(x::Int128, y::Int128) at int.jl:16\n",
       "+(x::UInt128, y::UInt128) at int.jl:16\n",
       "+(x::Integer, y::Ptr{T}) at pointer.jl:77\n",
       "+(x::Float32, y::Float32) at float.jl:207\n",
       "+(x::Float64, y::Float64) at float.jl:208\n",
       "+(z::Complex{T<:Real}, w::Complex{T<:Real}) at complex.jl:111\n",
       "+(x::Bool, z::Complex{Bool}) at complex.jl:118\n",
       "+(z::Complex{Bool}, x::Bool) at complex.jl:119\n",
       "+(x::Bool, z::Complex{T<:Real}) at complex.jl:125\n",
       "+(z::Complex{T<:Real}, x::Bool) at complex.jl:126\n",
       "+(x::Real, z::Complex{Bool}) at complex.jl:132\n",
       "+(z::Complex{Bool}, x::Real) at complex.jl:133\n",
       "+(x::Real, z::Complex{T<:Real}) at complex.jl:144\n",
       "+(z::Complex{T<:Real}, x::Real) at complex.jl:145\n",
       "+(x::Rational{T<:Integer}, y::Rational{T<:Integer}) at rational.jl:179\n",
       "+(x::Bool, A::AbstractArray{Bool,N}) at arraymath.jl:136\n",
       "+(x::Integer, y::Char) at char.jl:43\n",
       "+(a::Float16, b::Float16) at float16.jl:136\n",
       "+(x::BigInt, y::BigInt) at gmp.jl:256\n",
       "+(a::BigInt, b::BigInt, c::BigInt) at gmp.jl:279\n",
       "+(a::BigInt, b::BigInt, c::BigInt, d::BigInt) at gmp.jl:285\n",
       "+(a::BigInt, b::BigInt, c::BigInt, d::BigInt, e::BigInt) at gmp.jl:292\n",
       "+(x::BigInt, c::Union{UInt16,UInt32,UInt8}) at gmp.jl:304\n",
       "+(c::Union{UInt16,UInt32,UInt8}, x::BigInt) at gmp.jl:308\n",
       "+(x::BigInt, c::Union{Int16,Int32,Int8}) at gmp.jl:320\n",
       "+(c::Union{Int16,Int32,Int8}, x::BigInt) at gmp.jl:321\n",
       "+(x::BigFloat, y::BigFloat) at mpfr.jl:208\n",
       "+(x::BigFloat, c::Union{UInt16,UInt32,UInt8}) at mpfr.jl:215\n",
       "+(c::Union{UInt16,UInt32,UInt8}, x::BigFloat) at mpfr.jl:219\n",
       "+(x::BigFloat, c::Union{Int16,Int32,Int8}) at mpfr.jl:223\n",
       "+(c::Union{Int16,Int32,Int8}, x::BigFloat) at mpfr.jl:227\n",
       "+(x::BigFloat, c::Union{Float16,Float32,Float64}) at mpfr.jl:231\n",
       "+(c::Union{Float16,Float32,Float64}, x::BigFloat) at mpfr.jl:235\n",
       "+(x::BigFloat, c::BigInt) at mpfr.jl:239\n",
       "+(c::BigInt, x::BigFloat) at mpfr.jl:243\n",
       "+(a::BigFloat, b::BigFloat, c::BigFloat) at mpfr.jl:379\n",
       "+(a::BigFloat, b::BigFloat, c::BigFloat, d::BigFloat) at mpfr.jl:385\n",
       "+(a::BigFloat, b::BigFloat, c::BigFloat, d::BigFloat, e::BigFloat) at mpfr.jl:392\n",
       "+(x::Irrational{sym}, y::Irrational{sym}) at irrationals.jl:72\n",
       "+(x::Number) at operators.jl:73\n",
       "+{T<:Number}(x::T<:Number, y::T<:Number) at promotion.jl:211\n",
       "+{T<:AbstractFloat}(x::Bool, y::T<:AbstractFloat) at bool.jl:43\n",
       "+(x::Number, y::Number) at promotion.jl:167\n",
       "+(r1::OrdinalRange{T,S}, r2::OrdinalRange{T,S}) at operators.jl:330\n",
       "+{T<:AbstractFloat}(r1::FloatRange{T<:AbstractFloat}, r2::FloatRange{T<:AbstractFloat}) at operators.jl:337\n",
       "+{T<:AbstractFloat}(r1::LinSpace{T<:AbstractFloat}, r2::LinSpace{T<:AbstractFloat}) at operators.jl:356\n",
       "+(r1::Union{FloatRange{T<:AbstractFloat},LinSpace{T<:AbstractFloat},OrdinalRange{T,S}}, r2::Union{FloatRange{T<:AbstractFloat},LinSpace{T<:AbstractFloat},OrdinalRange{T,S}}) at operators.jl:369\n",
       "+(x::Ptr{T}, y::Integer) at pointer.jl:75\n",
       "+{S,T}(A::Range{S}, B::Range{T}) at arraymath.jl:69\n",
       "+{S,T}(A::Range{S}, B::AbstractArray{T,N}) at arraymath.jl:87\n",
       "+(A::BitArray{N}, B::BitArray{N}) at bitarray.jl:834\n",
       "+{T}(B::BitArray{2}, J::UniformScaling{T}) at linalg/uniformscaling.jl:28\n",
       "+(A::Array{T,2}, B::Diagonal{T}) at linalg/special.jl:122\n",
       "+(A::Array{T,2}, B::Bidiagonal{T}) at linalg/special.jl:122\n",
       "+(A::Array{T,2}, B::Tridiagonal{T}) at linalg/special.jl:122\n",
       "+(A::Array{T,2}, B::SymTridiagonal{T}) at linalg/special.jl:131\n",
       "+(A::Array{T,2}, B::Base.LinAlg.AbstractTriangular{T,S<:AbstractArray{T,2}}) at linalg/special.jl:159\n",
       "+(A::Array{T,N}, B::SparseMatrixCSC{Tv,Ti<:Integer}) at sparse/sparsematrix.jl:1019\n",
       "+{P<:Union{Base.Dates.CompoundPeriod,Base.Dates.Period}}(x::Union{DenseArray{P<:Union{Base.Dates.CompoundPeriod,Base.Dates.Period},N},SubArray{P<:Union{Base.Dates.CompoundPeriod,Base.Dates.Period},N,A<:DenseArray{T,N},I<:Tuple{Vararg{Union{Colon,Int64,Range{Int64}}}},LD}}) at dates/periods.jl:202\n",
       "+(A::AbstractArray{Bool,N}, x::Bool) at arraymath.jl:135\n",
       "+(A::Union{DenseArray{Bool,N},SubArray{Bool,N,A<:DenseArray{T,N},I<:Tuple{Vararg{Union{Colon,Int64,Range{Int64}}}},LD}}, B::Union{DenseArray{Bool,N},SubArray{Bool,N,A<:DenseArray{T,N},I<:Tuple{Vararg{Union{Colon,Int64,Range{Int64}}}},LD}}) at arraymath.jl:166\n",
       "+(A::SymTridiagonal{T}, B::SymTridiagonal{T}) at linalg/tridiag.jl:84\n",
       "+(A::Tridiagonal{T}, B::Tridiagonal{T}) at linalg/tridiag.jl:404\n",
       "+(A::UpperTriangular{T,S<:AbstractArray{T,2}}, B::UpperTriangular{T,S<:AbstractArray{T,2}}) at linalg/triangular.jl:347\n",
       "+(A::LowerTriangular{T,S<:AbstractArray{T,2}}, B::LowerTriangular{T,S<:AbstractArray{T,2}}) at linalg/triangular.jl:348\n",
       "+(A::UpperTriangular{T,S<:AbstractArray{T,2}}, B::Base.LinAlg.UnitUpperTriangular{T,S<:AbstractArray{T,2}}) at linalg/triangular.jl:349\n",
       "+(A::LowerTriangular{T,S<:AbstractArray{T,2}}, B::Base.LinAlg.UnitLowerTriangular{T,S<:AbstractArray{T,2}}) at linalg/triangular.jl:350\n",
       "+(A::Base.LinAlg.UnitUpperTriangular{T,S<:AbstractArray{T,2}}, B::UpperTriangular{T,S<:AbstractArray{T,2}}) at linalg/triangular.jl:351\n",
       "+(A::Base.LinAlg.UnitLowerTriangular{T,S<:AbstractArray{T,2}}, B::LowerTriangular{T,S<:AbstractArray{T,2}}) at linalg/triangular.jl:352\n",
       "+(A::Base.LinAlg.UnitUpperTriangular{T,S<:AbstractArray{T,2}}, B::Base.LinAlg.UnitUpperTriangular{T,S<:AbstractArray{T,2}}) at linalg/triangular.jl:353\n",
       "+(A::Base.LinAlg.UnitLowerTriangular{T,S<:AbstractArray{T,2}}, B::Base.LinAlg.UnitLowerTriangular{T,S<:AbstractArray{T,2}}) at linalg/triangular.jl:354\n",
       "+(A::Base.LinAlg.AbstractTriangular{T,S<:AbstractArray{T,2}}, B::Base.LinAlg.AbstractTriangular{T,S<:AbstractArray{T,2}}) at linalg/triangular.jl:355\n",
       "+(Da::Diagonal{T}, Db::Diagonal{T}) at linalg/diagonal.jl:86\n",
       "+(A::Bidiagonal{T}, B::Bidiagonal{T}) at linalg/bidiag.jl:176\n",
       "+(UL::UpperTriangular{T,S<:AbstractArray{T,2}}, J::UniformScaling{T<:Number}) at linalg/uniformscaling.jl:45\n",
       "+(UL::Base.LinAlg.UnitUpperTriangular{T,S<:AbstractArray{T,2}}, J::UniformScaling{T<:Number}) at linalg/uniformscaling.jl:48\n",
       "+(UL::LowerTriangular{T,S<:AbstractArray{T,2}}, J::UniformScaling{T<:Number}) at linalg/uniformscaling.jl:45\n",
       "+(UL::Base.LinAlg.UnitLowerTriangular{T,S<:AbstractArray{T,2}}, J::UniformScaling{T<:Number}) at linalg/uniformscaling.jl:48\n",
       "+(A::Diagonal{T}, B::Bidiagonal{T}) at linalg/special.jl:121\n",
       "+(A::Bidiagonal{T}, B::Diagonal{T}) at linalg/special.jl:122\n",
       "+(A::Diagonal{T}, B::Tridiagonal{T}) at linalg/special.jl:121\n",
       "+(A::Tridiagonal{T}, B::Diagonal{T}) at linalg/special.jl:122\n",
       "+(A::Diagonal{T}, B::Array{T,2}) at linalg/special.jl:121\n",
       "+(A::Bidiagonal{T}, B::Tridiagonal{T}) at linalg/special.jl:121\n",
       "+(A::Tridiagonal{T}, B::Bidiagonal{T}) at linalg/special.jl:122\n",
       "+(A::Bidiagonal{T}, B::Array{T,2}) at linalg/special.jl:121\n",
       "+(A::Tridiagonal{T}, B::Array{T,2}) at linalg/special.jl:121\n",
       "+(A::SymTridiagonal{T}, B::Tridiagonal{T}) at linalg/special.jl:130\n",
       "+(A::Tridiagonal{T}, B::SymTridiagonal{T}) at linalg/special.jl:131\n",
       "+(A::SymTridiagonal{T}, B::Array{T,2}) at linalg/special.jl:130\n",
       "+(A::Diagonal{T}, B::SymTridiagonal{T}) at linalg/special.jl:139\n",
       "+(A::SymTridiagonal{T}, B::Diagonal{T}) at linalg/special.jl:140\n",
       "+(A::Bidiagonal{T}, B::SymTridiagonal{T}) at linalg/special.jl:139\n",
       "+(A::SymTridiagonal{T}, B::Bidiagonal{T}) at linalg/special.jl:140\n",
       "+(A::Diagonal{T}, B::UpperTriangular{T,S<:AbstractArray{T,2}}) at linalg/special.jl:151\n",
       "+(A::UpperTriangular{T,S<:AbstractArray{T,2}}, B::Diagonal{T}) at linalg/special.jl:152\n",
       "+(A::Diagonal{T}, B::Base.LinAlg.UnitUpperTriangular{T,S<:AbstractArray{T,2}}) at linalg/special.jl:151\n",
       "+(A::Base.LinAlg.UnitUpperTriangular{T,S<:AbstractArray{T,2}}, B::Diagonal{T}) at linalg/special.jl:152\n",
       "+(A::Diagonal{T}, B::LowerTriangular{T,S<:AbstractArray{T,2}}) at linalg/special.jl:151\n",
       "+(A::LowerTriangular{T,S<:AbstractArray{T,2}}, B::Diagonal{T}) at linalg/special.jl:152\n",
       "+(A::Diagonal{T}, B::Base.LinAlg.UnitLowerTriangular{T,S<:AbstractArray{T,2}}) at linalg/special.jl:151\n",
       "+(A::Base.LinAlg.UnitLowerTriangular{T,S<:AbstractArray{T,2}}, B::Diagonal{T}) at linalg/special.jl:152\n",
       "+(A::Base.LinAlg.AbstractTriangular{T,S<:AbstractArray{T,2}}, B::SymTridiagonal{T}) at linalg/special.jl:158\n",
       "+(A::SymTridiagonal{T}, B::Base.LinAlg.AbstractTriangular{T,S<:AbstractArray{T,2}}) at linalg/special.jl:159\n",
       "+(A::Base.LinAlg.AbstractTriangular{T,S<:AbstractArray{T,2}}, B::Tridiagonal{T}) at linalg/special.jl:158\n",
       "+(A::Tridiagonal{T}, B::Base.LinAlg.AbstractTriangular{T,S<:AbstractArray{T,2}}) at linalg/special.jl:159\n",
       "+(A::Base.LinAlg.AbstractTriangular{T,S<:AbstractArray{T,2}}, B::Bidiagonal{T}) at linalg/special.jl:158\n",
       "+(A::Bidiagonal{T}, B::Base.LinAlg.AbstractTriangular{T,S<:AbstractArray{T,2}}) at linalg/special.jl:159\n",
       "+(A::Base.LinAlg.AbstractTriangular{T,S<:AbstractArray{T,2}}, B::Array{T,2}) at linalg/special.jl:158\n",
       "+{Tv1,Ti1,Tv2,Ti2}(A_1::SparseMatrixCSC{Tv1,Ti1}, A_2::SparseMatrixCSC{Tv2,Ti2}) at sparse/sparsematrix.jl:1005\n",
       "+(A::SparseMatrixCSC{Tv,Ti<:Integer}, B::Array{T,N}) at sparse/sparsematrix.jl:1017\n",
       "+(A::SparseMatrixCSC{Tv,Ti<:Integer}, J::UniformScaling{T<:Number}) at sparse/sparsematrix.jl:2988\n",
       "+{P<:Union{Base.Dates.CompoundPeriod,Base.Dates.Period}}(Y::Union{DenseArray{P<:Union{Base.Dates.CompoundPeriod,Base.Dates.Period},N},SubArray{P<:Union{Base.Dates.CompoundPeriod,Base.Dates.Period},N,A<:DenseArray{T,N},I<:Tuple{Vararg{Union{Colon,Int64,Range{Int64}}}},LD}}, x::Union{Base.Dates.CompoundPeriod,Base.Dates.Period}) at dates/periods.jl:216\n",
       "+{P<:Union{Base.Dates.CompoundPeriod,Base.Dates.Period},Q<:Union{Base.Dates.CompoundPeriod,Base.Dates.Period}}(X::Union{DenseArray{P<:Union{Base.Dates.CompoundPeriod,Base.Dates.Period},N},SubArray{P<:Union{Base.Dates.CompoundPeriod,Base.Dates.Period},N,A<:DenseArray{T,N},I<:Tuple{Vararg{Union{Colon,Int64,Range{Int64}}}},LD}}, Y::Union{DenseArray{Q<:Union{Base.Dates.CompoundPeriod,Base.Dates.Period},N},SubArray{Q<:Union{Base.Dates.CompoundPeriod,Base.Dates.Period},N,A<:DenseArray{T,N},I<:Tuple{Vararg{Union{Colon,Int64,Range{Int64}}}},LD}}) at dates/periods.jl:217\n",
       "+{T<:Base.Dates.TimeType,P<:Union{Base.Dates.CompoundPeriod,Base.Dates.Period}}(x::Union{DenseArray{P<:Union{Base.Dates.CompoundPeriod,Base.Dates.Period},N},SubArray{P<:Union{Base.Dates.CompoundPeriod,Base.Dates.Period},N,A<:DenseArray{T,N},I<:Tuple{Vararg{Union{Colon,Int64,Range{Int64}}}},LD}}, y::T<:Base.Dates.TimeType) at dates/arithmetic.jl:83\n",
       "+{T<:Base.Dates.TimeType}(r::Range{T<:Base.Dates.TimeType}, x::Base.Dates.Period) at dates/ranges.jl:39\n",
       "+{T<:Number}(x::AbstractArray{T<:Number,N}) at abstractarraymath.jl:49\n",
       "+{S,T}(A::AbstractArray{S,N}, B::Range{T}) at arraymath.jl:78\n",
       "+{S,T}(A::AbstractArray{S,N}, B::AbstractArray{T,N}) at arraymath.jl:96\n",
       "+(A::AbstractArray{T,N}, x::Number) at arraymath.jl:139\n",
       "+(x::Number, A::AbstractArray{T,N}) at arraymath.jl:140\n",
       "+(x::Char, y::Integer) at char.jl:42\n",
       "+{N}(index1::CartesianIndex{N}, index2::CartesianIndex{N}) at multidimensional.jl:42\n",
       "+(J1::UniformScaling{T<:Number}, J2::UniformScaling{T<:Number}) at linalg/uniformscaling.jl:27\n",
       "+(J::UniformScaling{T<:Number}, B::BitArray{2}) at linalg/uniformscaling.jl:29\n",
       "+(J::UniformScaling{T<:Number}, A::AbstractArray{T,2}) at linalg/uniformscaling.jl:30\n",
       "+(J::UniformScaling{T<:Number}, x::Number) at linalg/uniformscaling.jl:31\n",
       "+(x::Number, J::UniformScaling{T<:Number}) at linalg/uniformscaling.jl:32\n",
       "+{TA,TJ}(A::AbstractArray{TA,2}, J::UniformScaling{TJ}) at linalg/uniformscaling.jl:92\n",
       "+{T}(a::Base.Pkg.Resolve.VersionWeights.HierarchicalValue{T}, b::Base.Pkg.Resolve.VersionWeights.HierarchicalValue{T}) at pkg/resolve/versionweight.jl:23\n",
       "+(a::Base.Pkg.Resolve.VersionWeights.VWPreBuildItem, b::Base.Pkg.Resolve.VersionWeights.VWPreBuildItem) at pkg/resolve/versionweight.jl:85\n",
       "+(a::Base.Pkg.Resolve.VersionWeights.VWPreBuild, b::Base.Pkg.Resolve.VersionWeights.VWPreBuild) at pkg/resolve/versionweight.jl:131\n",
       "+(a::Base.Pkg.Resolve.VersionWeights.VersionWeight, b::Base.Pkg.Resolve.VersionWeights.VersionWeight) at pkg/resolve/versionweight.jl:185\n",
       "+(a::Base.Pkg.Resolve.MaxSum.FieldValues.FieldValue, b::Base.Pkg.Resolve.MaxSum.FieldValues.FieldValue) at pkg/resolve/fieldvalue.jl:44\n",
       "+{P<:Base.Dates.Period}(x::P<:Base.Dates.Period, y::P<:Base.Dates.Period) at dates/periods.jl:43\n",
       "+(x::Base.Dates.Period, y::Base.Dates.Period) at dates/periods.jl:190\n",
       "+(x::Base.Dates.CompoundPeriod, y::Base.Dates.Period) at dates/periods.jl:191\n",
       "+(y::Base.Dates.Period, x::Base.Dates.CompoundPeriod) at dates/periods.jl:192\n",
       "+(x::Base.Dates.CompoundPeriod, y::Base.Dates.CompoundPeriod) at dates/periods.jl:193\n",
       "+(x::Base.Dates.CompoundPeriod, y::Base.Dates.TimeType) at dates/periods.jl:238\n",
       "+(y::Base.Dates.Period, x::Base.Dates.TimeType) at dates/arithmetic.jl:66\n",
       "+{T<:Base.Dates.TimeType}(x::Base.Dates.Period, r::Range{T<:Base.Dates.TimeType}) at dates/ranges.jl:40\n",
       "+(x::Union{Base.Dates.CompoundPeriod,Base.Dates.Period}) at dates/periods.jl:201\n",
       "+{P<:Union{Base.Dates.CompoundPeriod,Base.Dates.Period}}(x::Union{Base.Dates.CompoundPeriod,Base.Dates.Period}, Y::Union{DenseArray{P<:Union{Base.Dates.CompoundPeriod,Base.Dates.Period},N},SubArray{P<:Union{Base.Dates.CompoundPeriod,Base.Dates.Period},N,A<:DenseArray{T,N},I<:Tuple{Vararg{Union{Colon,Int64,Range{Int64}}}},LD}}) at dates/periods.jl:215\n",
       "+(dt::DateTime, y::Base.Dates.Year) at dates/arithmetic.jl:13\n",
       "+(dt::Date, y::Base.Dates.Year) at dates/arithmetic.jl:17\n",
       "+(dt::DateTime, z::Base.Dates.Month) at dates/arithmetic.jl:37\n",
       "+(dt::Date, z::Base.Dates.Month) at dates/arithmetic.jl:43\n",
       "+(x::Date, y::Base.Dates.Week) at dates/arithmetic.jl:60\n",
       "+(x::Date, y::Base.Dates.Day) at dates/arithmetic.jl:62\n",
       "+(x::DateTime, y::Base.Dates.Period) at dates/arithmetic.jl:64\n",
       "+(x::Base.Dates.TimeType) at dates/arithmetic.jl:8\n",
       "+(a::Base.Dates.TimeType, b::Base.Dates.Period, c::Base.Dates.Period) at dates/periods.jl:227\n",
       "+(a::Base.Dates.TimeType, b::Base.Dates.Period, c::Base.Dates.Period, d::Base.Dates.Period...) at dates/periods.jl:229\n",
       "+(x::Base.Dates.TimeType, y::Base.Dates.CompoundPeriod) at dates/periods.jl:233\n",
       "+(x::Base.Dates.Instant) at dates/arithmetic.jl:4\n",
       "+{T<:Base.Dates.TimeType}(x::AbstractArray{T<:Base.Dates.TimeType,N}, y::Union{Base.Dates.CompoundPeriod,Base.Dates.Period}) at dates/arithmetic.jl:76\n",
       "+{T<:Base.Dates.TimeType}(y::Union{Base.Dates.CompoundPeriod,Base.Dates.Period}, x::AbstractArray{T<:Base.Dates.TimeType,N}) at dates/arithmetic.jl:77\n",
       "+{P<:Union{Base.Dates.CompoundPeriod,Base.Dates.Period}}(y::Base.Dates.TimeType, x::Union{DenseArray{P<:Union{Base.Dates.CompoundPeriod,Base.Dates.Period},N},SubArray{P<:Union{Base.Dates.CompoundPeriod,Base.Dates.Period},N,A<:DenseArray{T,N},I<:Tuple{Vararg{Union{Colon,Int64,Range{Int64}}}},LD}}) at dates/arithmetic.jl:84\n",
       "+(a, b, c, xs...) at operators.jl:103"
      ]
     },
     "execution_count": 8,
     "metadata": {},
     "output_type": "execute_result"
    }
   ],
   "source": [
    "methods(+)"
   ]
  },
  {
   "cell_type": "markdown",
   "metadata": {},
   "source": [
    "Following the first link, we get the following code snippet:\n",
    "```\n",
    "+(x::Bool) = int(x)\n",
    "-(x::Bool) = -int(x)\n",
    "+(x::Bool, y::Bool) = int(x) + int(y)\n",
    "-(x::Bool, y::Bool) = int(x) - int(y)\n",
    "*(x::Bool, y::Bool) = x & y\n",
    "```\n",
    "\n",
    "Therefore:"
   ]
  },
  {
   "cell_type": "code",
   "execution_count": 9,
   "metadata": {
    "collapsed": false
   },
   "outputs": [
    {
     "data": {
      "text/plain": [
       "(1,0,-1,0)"
      ]
     },
     "execution_count": 9,
     "metadata": {},
     "output_type": "execute_result"
    }
   ],
   "source": [
    "+(true), +(false),-(true),-(false)"
   ]
  },
  {
   "cell_type": "code",
   "execution_count": 10,
   "metadata": {
    "collapsed": false
   },
   "outputs": [
    {
     "data": {
      "text/plain": [
       "(Bool[false,true,false,true,false,true],Bool[false,true,true,true,true,false])"
      ]
     },
     "execution_count": 10,
     "metadata": {},
     "output_type": "execute_result"
    }
   ],
   "source": [
    "x, y = bitpack([0,1,0,1,0,1]), bitpack([0,1,1,1,1,0])"
   ]
  },
  {
   "cell_type": "markdown",
   "metadata": {},
   "source": [
    "The above command is equivalent to \n",
    "```\n",
    "x = bitpack([0,1,0,1,0,1]); y = bitpack([0,1,1,1,1,0])\n",
    "```\n",
    "except that only the last result would be displayed"
   ]
  },
  {
   "cell_type": "code",
   "execution_count": 11,
   "metadata": {
    "collapsed": false
   },
   "outputs": [
    {
     "data": {
      "text/plain": [
       "(Bool[false,true,false,true,false,true],[0,-1,0,-1,0,-1])"
      ]
     },
     "execution_count": 11,
     "metadata": {},
     "output_type": "execute_result"
    }
   ],
   "source": [
    "+x,-(x)"
   ]
  },
  {
   "cell_type": "code",
   "execution_count": 12,
   "metadata": {
    "collapsed": false
   },
   "outputs": [
    {
     "data": {
      "text/plain": [
       "([0,2,1,2,1,1],[0,2,1,2,1,1])"
      ]
     },
     "execution_count": 12,
     "metadata": {},
     "output_type": "execute_result"
    }
   ],
   "source": [
    "x+y, +(x,y)"
   ]
  },
  {
   "cell_type": "code",
   "execution_count": 9,
   "metadata": {
    "collapsed": false
   },
   "outputs": [
    {
     "data": {
      "text/plain": [
       "6-element Array{Int64,1}:\n",
       " 0\n",
       " 2\n",
       " 1\n",
       " 2\n",
       " 1\n",
       " 1"
      ]
     },
     "execution_count": 9,
     "metadata": {},
     "output_type": "execute_result"
    }
   ],
   "source": [
    "c1=x+y"
   ]
  },
  {
   "cell_type": "code",
   "execution_count": 10,
   "metadata": {
    "collapsed": false
   },
   "outputs": [
    {
     "data": {
      "text/plain": [
       "6-element Array{Int64,1}:\n",
       " 0\n",
       " 2\n",
       " 1\n",
       " 2\n",
       " 1\n",
       " 1"
      ]
     },
     "execution_count": 10,
     "metadata": {},
     "output_type": "execute_result"
    }
   ],
   "source": [
    "c2=+(x,y)"
   ]
  },
  {
   "cell_type": "markdown",
   "metadata": {},
   "source": [
    "### Manipulating dates\n",
    "\n",
    "We see that one of the `+` methods is adding days to time: \n",
    "\n",
    "```\n",
    " +(x::Date,y::Base.Dates.Day) at dates/arithmetic.jl:60\n",
    "```\n",
    "Therefore, the 135-th day from today is:"
   ]
  },
  {
   "cell_type": "code",
   "execution_count": 13,
   "metadata": {
    "collapsed": false
   },
   "outputs": [
    {
     "data": {
      "text/plain": [
       "2016-06-27"
      ]
     },
     "execution_count": 13,
     "metadata": {},
     "output_type": "execute_result"
    }
   ],
   "source": [
    "Dates.today()"
   ]
  },
  {
   "cell_type": "code",
   "execution_count": 14,
   "metadata": {
    "collapsed": false
   },
   "outputs": [
    {
     "data": {
      "text/plain": [
       "2016-11-09"
      ]
     },
     "execution_count": 14,
     "metadata": {},
     "output_type": "execute_result"
    }
   ],
   "source": [
    "dd=Dates.today()+Dates.Day(135)"
   ]
  },
  {
   "cell_type": "code",
   "execution_count": 15,
   "metadata": {
    "collapsed": false
   },
   "outputs": [
    {
     "data": {
      "text/plain": [
       "Date"
      ]
     },
     "execution_count": 15,
     "metadata": {},
     "output_type": "execute_result"
    }
   ],
   "source": [
    "typeof(dd)"
   ]
  },
  {
   "cell_type": "markdown",
   "metadata": {},
   "source": [
    "More information about the two types can be obtained by `methods(Dates.Date)` and `methods(Dates.Day)`, respectively. "
   ]
  },
  {
   "cell_type": "markdown",
   "metadata": {},
   "source": [
    "### Adding tridiagonal matrices\n",
    "\n",
    "In the above output of `methods(+)`,  we see that we can add tridiagonal matrices:\n",
    "```\n",
    "+(A::Tridiagonal{T}, B::Tridiagonal{T}) at linalg/tridiag.jl:404\n",
    "```\n",
    "Following the link, we see that the method separately adds lower, main and upper diagonals, denoted by `dl`, `d` and `du`, respectively:\n",
    "```\n",
    "404: +(A::Tridiagonal, B::Tridiagonal) = Tridiagonal(A.dl+B.dl, A.d+B.d, A.du+B.du)\n",
    "```\n",
    "Let us see how exactly is the type `Tridiagonal` defined:"
   ]
  },
  {
   "cell_type": "code",
   "execution_count": 16,
   "metadata": {
    "collapsed": false
   },
   "outputs": [
    {
     "data": {
      "text/plain": [
       "6-element Array{Any,1}:\n",
       " call{T}(::Type{Tridiagonal{T}}, dl::Array{T,1}, d::Array{T,1}, du::Array{T,1}, du2::Array{T,1}) at linalg/tridiag.jl:267\n",
       " call{T}(::Type{Tridiagonal{T}}, dl::Array{T,1}, d::Array{T,1}, du::Array{T,1}) at linalg/tridiag.jl:273                 \n",
       " call{Tl,Td,Tu}(::Type{Tridiagonal{T}}, dl::Array{Tl,1}, d::Array{Td,1}, du::Array{Tu,1}) at linalg/tridiag.jl:280       \n",
       " call{T}(::Type{Tridiagonal{T}}, M::Bidiagonal{T}) at linalg/bidiag.jl:63                                                \n",
       " call{T}(::Type{T}, arg) at essentials.jl:56                                                                             \n",
       " call{T}(::Type{T}, args...) at essentials.jl:57                                                                         "
      ]
     },
     "execution_count": 16,
     "metadata": {},
     "output_type": "execute_result"
    }
   ],
   "source": [
    "methods(Tridiagonal)"
   ]
  },
  {
   "cell_type": "markdown",
   "metadata": {},
   "source": [
    "This output seems confusing, but from the second line we conclude that we can define three diagonals, lower, main and upper diagonal, denoted as above. We also know that that the lower and upper diagonals are of size $n-1$. Let us try it out:"
   ]
  },
  {
   "cell_type": "code",
   "execution_count": 17,
   "metadata": {
    "collapsed": false
   },
   "outputs": [
    {
     "data": {
      "text/plain": [
       "7x7 Tridiagonal{Float64}:\n",
       " 0.788104  0.0808071  0.0       0.0       0.0       0.0        0.0     \n",
       " 0.033025  0.255864   0.356216  0.0       0.0       0.0        0.0     \n",
       " 0.0       0.699346   0.680459  0.586916  0.0       0.0        0.0     \n",
       " 0.0       0.0        0.425879  0.594901  0.016702  0.0        0.0     \n",
       " 0.0       0.0        0.0       0.647992  0.739524  0.327748   0.0     \n",
       " 0.0       0.0        0.0       0.0       0.624889  0.0482795  0.754741\n",
       " 0.0       0.0        0.0       0.0       0.0       0.806467   0.141231"
      ]
     },
     "execution_count": 17,
     "metadata": {},
     "output_type": "execute_result"
    }
   ],
   "source": [
    "T1 = Tridiagonal(rand(6),rand(7),rand(6))"
   ]
  },
  {
   "cell_type": "code",
   "execution_count": 18,
   "metadata": {
    "collapsed": false
   },
   "outputs": [
    {
     "data": {
      "text/plain": [
       "7x7 Tridiagonal{Float64}:\n",
       "  0.238621  -7.0        0.0        0.0         0.0       0.0       0.0    \n",
       " -1.0        0.558798  -6.0        0.0         0.0       0.0       0.0    \n",
       "  0.0       -4.0        0.744293  -9.0         0.0       0.0       0.0    \n",
       "  0.0        0.0       -1.0        0.0550874  -1.0       0.0       0.0    \n",
       "  0.0        0.0        0.0        1.0         1.24508  -5.0       0.0    \n",
       "  0.0        0.0        0.0        0.0        -3.0       1.97232  -3.0    \n",
       "  0.0        0.0        0.0        0.0         0.0      -3.0       1.81925"
      ]
     },
     "execution_count": 18,
     "metadata": {},
     "output_type": "execute_result"
    }
   ],
   "source": [
    "T2 = Tridiagonal(rand(-5:5,6),randn(7),rand(-9:0,6))"
   ]
  },
  {
   "cell_type": "code",
   "execution_count": 19,
   "metadata": {
    "collapsed": false
   },
   "outputs": [
    {
     "data": {
      "text/plain": [
       "7x7 Tridiagonal{Float64}:\n",
       "  1.02672   -6.91919    0.0        0.0        0.0        0.0       0.0    \n",
       " -0.966975   0.814662  -5.64378    0.0        0.0        0.0       0.0    \n",
       "  0.0       -3.30065    1.42475   -8.41308    0.0        0.0       0.0    \n",
       "  0.0        0.0       -0.574121   0.649988  -0.983298   0.0       0.0    \n",
       "  0.0        0.0        0.0        1.64799    1.9846    -4.67225   0.0    \n",
       "  0.0        0.0        0.0        0.0       -2.37511    2.0206   -2.24526\n",
       "  0.0        0.0        0.0        0.0        0.0       -2.19353   1.96048"
      ]
     },
     "execution_count": 19,
     "metadata": {},
     "output_type": "execute_result"
    }
   ],
   "source": [
    "T3 = T1 + T2"
   ]
  },
  {
   "cell_type": "markdown",
   "metadata": {},
   "source": [
    "This worked as expected, the result is again a `Tridiagonal`. We can access each diagonal by:"
   ]
  },
  {
   "cell_type": "code",
   "execution_count": 20,
   "metadata": {
    "collapsed": false
   },
   "outputs": [
    {
     "data": {
      "text/plain": [
       "4-element Array{Symbol,1}:\n",
       " :dl \n",
       " :d  \n",
       " :du \n",
       " :du2"
      ]
     },
     "execution_count": 20,
     "metadata": {},
     "output_type": "execute_result"
    }
   ],
   "source": [
    "fieldnames(T3)"
   ]
  },
  {
   "cell_type": "code",
   "execution_count": 21,
   "metadata": {
    "collapsed": false
   },
   "outputs": [
    {
     "name": "stdout",
     "output_type": "stream",
     "text": [
      "[-0.9669750160268864,-3.3006535766187115,-0.5741208927323576,1.6479919658087303,-2.375111016003166,-2.1935329362715663][1.0267248624130698,0.8146619840630321,1.4247520484272789,0.6499882507927407,1.9845994549445591,2.0205978395062383,1.960477182794874][-6.9191928648010235,-5.643783666245672,-8.413084261531251,-0.9832979899782073,-4.672251961164073,-2.245259147359543]\n"
     ]
    }
   ],
   "source": [
    "println(T3.dl, T3.d, T3.du)"
   ]
  },
  {
   "cell_type": "code",
   "execution_count": 23,
   "metadata": {
    "collapsed": false
   },
   "outputs": [
    {
     "data": {
      "text/plain": [
       "7x7 Array{Float64,2}:\n",
       "  1.02672   -6.91919    0.0        0.0        0.0        0.0       0.0    \n",
       " -0.966975   0.814662  -5.64378    0.0        0.0        0.0       0.0    \n",
       "  0.0       -3.30065    1.42475   -8.41308    0.0        0.0       0.0    \n",
       "  0.0        0.0       -0.574121   0.649988  -0.983298   0.0       0.0    \n",
       "  0.0        0.0        0.0        1.64799    1.9846    -4.67225   0.0    \n",
       "  0.0        0.0        0.0        0.0       -2.37511    2.0206   -2.24526\n",
       "  0.0        0.0        0.0        0.0        0.0       -2.19353   1.96048"
      ]
     },
     "execution_count": 23,
     "metadata": {},
     "output_type": "execute_result"
    }
   ],
   "source": [
    "B=full(T3)"
   ]
  },
  {
   "cell_type": "markdown",
   "metadata": {},
   "source": [
    "### `@which`\n",
    "\n",
    "Let us take a closer look at what happens. The `@which` command gives the link to the part of the code which is actually invoked. The argument should be only function, without assignment, that is \n",
    "```\n",
    "@which T1=Tridiagonal(rand(6),rand(7),rand(6))\n",
    "```\n",
    "throws an error."
   ]
  },
  {
   "cell_type": "code",
   "execution_count": 19,
   "metadata": {
    "collapsed": false
   },
   "outputs": [
    {
     "data": {
      "text/html": [
       "call<i>{T}</i>(::<b>Type{Tridiagonal{T}}</b>, dl::<b>Array{T,1}</b>, d::<b>Array{T,1}</b>, du::<b>Array{T,1}</b>) at <a href=\"https://github.com/JuliaLang/julia/tree/2ac304dfba75fad148d4070ef4f8a2e400c305bb/base/linalg/tridiag.jl#L273\" target=\"_blank\">linalg/tridiag.jl:273</a>"
      ],
      "text/plain": [
       "call{T}(::Type{Tridiagonal{T}}, dl::Array{T,1}, d::Array{T,1}, du::Array{T,1}) at linalg/tridiag.jl:273"
      ]
     },
     "execution_count": 19,
     "metadata": {},
     "output_type": "execute_result"
    }
   ],
   "source": [
    "@which Tridiagonal(rand(6),rand(7),rand(6))"
   ]
  },
  {
   "cell_type": "markdown",
   "metadata": {},
   "source": [
    "In the code, we see that there is a type definition in the `immutable` block:\n",
    "```\n",
    "## Tridiagonal matrices ##\n",
    "immutable Tridiagonal{T} <: AbstractMatrix{T}\n",
    "dl::Vector{T} # sub-diagonal\n",
    "d::Vector{T} # diagonal\n",
    "du::Vector{T} # sup-diagonal\n",
    "du2::Vector{T} # supsup-diagonal for pivoting\n",
    "end\n",
    "```\n",
    "The `Tridiagonal` type consists of __four__ vectors.\n",
    "In our case, we actually called the function `Tridiagonal()` with __three__ vector arguments. The function creates the type of the same name, setting the fourth reqired vector `du2` to `zeros(T,n-2)`.\n",
    "\n",
    "The next function with the same name is invoked when the input vectors have different types, in which case the types arer promoted to a most general one, if possible."
   ]
  },
  {
   "cell_type": "code",
   "execution_count": 20,
   "metadata": {
    "collapsed": false
   },
   "outputs": [
    {
     "data": {
      "text/plain": [
       "4x4 Tridiagonal{Complex{Float64}}:\n",
       " 2.0+0.0im  0.20347+0.676614im       0.0+0.0im           0.0+0.0im    \n",
       " 1.0+0.0im      3.0+0.0im       0.707746+0.66663im       0.0+0.0im    \n",
       " 0.0+0.0im      2.0+0.0im        3.14159+0.0im      0.557531+0.89053im\n",
       " 0.0+0.0im      0.0+0.0im            3.0+0.0im           4.0+0.0im    "
      ]
     },
     "execution_count": 20,
     "metadata": {},
     "output_type": "execute_result"
    }
   ],
   "source": [
    "T4 = Tridiagonal([1,2,3], [2.0,3.0,pi,4.0],rand(3)+im*rand(3))"
   ]
  },
  {
   "cell_type": "markdown",
   "metadata": {},
   "source": [
    "### `size()` and `full()`\n",
    "\n",
    "For each matrix type we need to define the function which returns the size of a matrix, and the function which converts the matrix of a given type to a full matrix. These function are listed after the second `Tridiagonal()` function."
   ]
  },
  {
   "cell_type": "code",
   "execution_count": 21,
   "metadata": {
    "collapsed": false
   },
   "outputs": [
    {
     "data": {
      "text/plain": [
       "(4,4)"
      ]
     },
     "execution_count": 21,
     "metadata": {},
     "output_type": "execute_result"
    }
   ],
   "source": [
    "size(T4)"
   ]
  },
  {
   "cell_type": "code",
   "execution_count": 22,
   "metadata": {
    "collapsed": false
   },
   "outputs": [
    {
     "data": {
      "text/plain": [
       "4x4 Array{Complex{Float64},2}:\n",
       " 2.0+0.0im  0.20347+0.676614im       0.0+0.0im           0.0+0.0im    \n",
       " 1.0+0.0im      3.0+0.0im       0.707746+0.66663im       0.0+0.0im    \n",
       " 0.0+0.0im      2.0+0.0im        3.14159+0.0im      0.557531+0.89053im\n",
       " 0.0+0.0im      0.0+0.0im            3.0+0.0im           4.0+0.0im    "
      ]
     },
     "execution_count": 22,
     "metadata": {},
     "output_type": "execute_result"
    }
   ],
   "source": [
    "T4 = full(T4)"
   ]
  },
  {
   "cell_type": "markdown",
   "metadata": {},
   "source": [
    "### `sizeof()` \n",
    "\n",
    "Of course, using special types can leasd to much more efficient programs. For example, for `Tridiagonal` type, onlt four diagonals are stored, in comparison to storing full matrix when $n^2$ elements are stored. The storage used is obtained by the `sizeof()` function."
   ]
  },
  {
   "cell_type": "code",
   "execution_count": 23,
   "metadata": {
    "collapsed": false
   },
   "outputs": [
    {
     "data": {
      "text/plain": [
       "7x7 Tridiagonal{Float64}:\n",
       " 0.82623   0.39287   0.0        0.0        0.0       0.0       0.0     \n",
       " 0.800854  0.306805  0.539296   0.0        0.0       0.0       0.0     \n",
       " 0.0       0.798668  0.0476339  0.0170054  0.0       0.0       0.0     \n",
       " 0.0       0.0       0.477484   0.376727   0.476926  0.0       0.0     \n",
       " 0.0       0.0       0.0        0.309081   0.265363  0.674934  0.0     \n",
       " 0.0       0.0       0.0        0.0        0.604978  0.232923  0.529863\n",
       " 0.0       0.0       0.0        0.0        0.0       0.405191  0.613519"
      ]
     },
     "execution_count": 23,
     "metadata": {},
     "output_type": "execute_result"
    }
   ],
   "source": [
    "T1"
   ]
  },
  {
   "cell_type": "code",
   "execution_count": 24,
   "metadata": {
    "collapsed": false
   },
   "outputs": [
    {
     "data": {
      "text/plain": [
       "7x7 Array{Float64,2}:\n",
       " 0.82623   0.39287   0.0        0.0        0.0       0.0       0.0     \n",
       " 0.800854  0.306805  0.539296   0.0        0.0       0.0       0.0     \n",
       " 0.0       0.798668  0.0476339  0.0170054  0.0       0.0       0.0     \n",
       " 0.0       0.0       0.477484   0.376727   0.476926  0.0       0.0     \n",
       " 0.0       0.0       0.0        0.309081   0.265363  0.674934  0.0     \n",
       " 0.0       0.0       0.0        0.0        0.604978  0.232923  0.529863\n",
       " 0.0       0.0       0.0        0.0        0.0       0.405191  0.613519"
      ]
     },
     "execution_count": 24,
     "metadata": {},
     "output_type": "execute_result"
    }
   ],
   "source": [
    "T1f=full(T1)"
   ]
  },
  {
   "cell_type": "code",
   "execution_count": 25,
   "metadata": {
    "collapsed": false
   },
   "outputs": [
    {
     "data": {
      "text/plain": [
       "392"
      ]
     },
     "execution_count": 25,
     "metadata": {},
     "output_type": "execute_result"
    }
   ],
   "source": [
    "sizeof(T1f)  #   392 =  7 * 7 * 8 bytes"
   ]
  },
  {
   "cell_type": "code",
   "execution_count": 26,
   "metadata": {
    "collapsed": false
   },
   "outputs": [
    {
     "data": {
      "text/plain": [
       "32"
      ]
     },
     "execution_count": 26,
     "metadata": {},
     "output_type": "execute_result"
    }
   ],
   "source": [
    "sizeof(T1) # This is not implemented for Tridiagonal - only the storage required for 4 vector variables' names is displayed"
   ]
  },
  {
   "cell_type": "markdown",
   "metadata": {},
   "source": [
    "### `immutable`\n",
    "\n",
    "The `immutable` command means that we can change individual elements of defined parts, but not the parts as a whole (an alternative is to use the `type` construtor). For example: "
   ]
  },
  {
   "cell_type": "code",
   "execution_count": 27,
   "metadata": {
    "collapsed": false
   },
   "outputs": [
    {
     "name": "stdout",
     "output_type": "stream",
     "text": [
      "T5 = Tridiagonal([1,2,3],[2,3,4,5],[-1,1,2]) = [2 -1 0 0\n",
      " 1 3 1 0\n",
      " 0 2 4 2\n",
      " 0 0 3 5]\n",
      "T5 = [2 -1 0 0\n",
      " 1 123 1 0\n",
      " 0 2 4 2\n",
      " 0 0 3 5]\n"
     ]
    },
    {
     "ename": "LoadError",
     "evalue": "LoadError: type Tridiagonal is immutable\nwhile loading In[27], in expression starting on line 4",
     "output_type": "error",
     "traceback": [
      "LoadError: type Tridiagonal is immutable\nwhile loading In[27], in expression starting on line 4",
      ""
     ]
    }
   ],
   "source": [
    "@show T5 = Tridiagonal([1,2,3],[2,3,4,5],[-1,1,2])\n",
    "T5.d[2]=123\n",
    "@show T5\n",
    "T5.dl = [-1, -1 ,1]"
   ]
  },
  {
   "cell_type": "markdown",
   "metadata": {},
   "source": [
    "### `methodswith()`\n",
    "\n",
    "This is the reverse of `methods()` - which methods exist for the given type. For example, what can we do with `Tridiagonal` matrices, or with `Dates.Day`:"
   ]
  },
  {
   "cell_type": "code",
   "execution_count": 28,
   "metadata": {
    "collapsed": false
   },
   "outputs": [
    {
     "data": {
      "text/html": [
       "77-element Array{Method,1}:<ul><li> *(A::<b>Tridiagonal{T}</b>, B::<b>Number</b>) at <a href=\"https://github.com/JuliaLang/julia/tree/2ac304dfba75fad148d4070ef4f8a2e400c305bb/base/linalg/tridiag.jl#L406\" target=\"_blank\">linalg/tridiag.jl:406</a><li> *(A::<b>Tridiagonal{T}</b>, B::<b>UpperTriangular{T,S<:AbstractArray{T,2}}</b>) at <a href=\"https://github.com/JuliaLang/julia/tree/2ac304dfba75fad148d4070ef4f8a2e400c305bb/base/linalg/triangular.jl#L969\" target=\"_blank\">linalg/triangular.jl:969</a><li> *(A::<b>Tridiagonal{T}</b>, B::<b>Base.LinAlg.UnitUpperTriangular{T,S<:AbstractArray{T,2}}</b>) at <a href=\"https://github.com/JuliaLang/julia/tree/2ac304dfba75fad148d4070ef4f8a2e400c305bb/base/linalg/triangular.jl#L969\" target=\"_blank\">linalg/triangular.jl:969</a><li> *(A::<b>Tridiagonal{T}</b>, B::<b>LowerTriangular{T,S<:AbstractArray{T,2}}</b>) at <a href=\"https://github.com/JuliaLang/julia/tree/2ac304dfba75fad148d4070ef4f8a2e400c305bb/base/linalg/triangular.jl#L969\" target=\"_blank\">linalg/triangular.jl:969</a><li> *(A::<b>Tridiagonal{T}</b>, B::<b>Base.LinAlg.UnitLowerTriangular{T,S<:AbstractArray{T,2}}</b>) at <a href=\"https://github.com/JuliaLang/julia/tree/2ac304dfba75fad148d4070ef4f8a2e400c305bb/base/linalg/triangular.jl#L969\" target=\"_blank\">linalg/triangular.jl:969</a><li> *(B::<b>Number</b>, A::<b>Tridiagonal{T}</b>) at <a href=\"https://github.com/JuliaLang/julia/tree/2ac304dfba75fad148d4070ef4f8a2e400c305bb/base/linalg/tridiag.jl#L407\" target=\"_blank\">linalg/tridiag.jl:407</a><li> +(A::<b>Array{T,2}</b>, B::<b>Tridiagonal{T}</b>) at <a href=\"https://github.com/JuliaLang/julia/tree/2ac304dfba75fad148d4070ef4f8a2e400c305bb/base/linalg/special.jl#L122\" target=\"_blank\">linalg/special.jl:122</a><li> +(A::<b>Tridiagonal{T}</b>, B::<b>Tridiagonal{T}</b>) at <a href=\"https://github.com/JuliaLang/julia/tree/2ac304dfba75fad148d4070ef4f8a2e400c305bb/base/linalg/tridiag.jl#L404\" target=\"_blank\">linalg/tridiag.jl:404</a><li> +(A::<b>Diagonal{T}</b>, B::<b>Tridiagonal{T}</b>) at <a href=\"https://github.com/JuliaLang/julia/tree/2ac304dfba75fad148d4070ef4f8a2e400c305bb/base/linalg/special.jl#L121\" target=\"_blank\">linalg/special.jl:121</a><li> +(A::<b>Tridiagonal{T}</b>, B::<b>Diagonal{T}</b>) at <a href=\"https://github.com/JuliaLang/julia/tree/2ac304dfba75fad148d4070ef4f8a2e400c305bb/base/linalg/special.jl#L122\" target=\"_blank\">linalg/special.jl:122</a><li> +(A::<b>Bidiagonal{T}</b>, B::<b>Tridiagonal{T}</b>) at <a href=\"https://github.com/JuliaLang/julia/tree/2ac304dfba75fad148d4070ef4f8a2e400c305bb/base/linalg/special.jl#L121\" target=\"_blank\">linalg/special.jl:121</a><li> +(A::<b>Tridiagonal{T}</b>, B::<b>Bidiagonal{T}</b>) at <a href=\"https://github.com/JuliaLang/julia/tree/2ac304dfba75fad148d4070ef4f8a2e400c305bb/base/linalg/special.jl#L122\" target=\"_blank\">linalg/special.jl:122</a><li> +(A::<b>Tridiagonal{T}</b>, B::<b>Array{T,2}</b>) at <a href=\"https://github.com/JuliaLang/julia/tree/2ac304dfba75fad148d4070ef4f8a2e400c305bb/base/linalg/special.jl#L121\" target=\"_blank\">linalg/special.jl:121</a><li> +(A::<b>SymTridiagonal{T}</b>, B::<b>Tridiagonal{T}</b>) at <a href=\"https://github.com/JuliaLang/julia/tree/2ac304dfba75fad148d4070ef4f8a2e400c305bb/base/linalg/special.jl#L130\" target=\"_blank\">linalg/special.jl:130</a><li> +(A::<b>Tridiagonal{T}</b>, B::<b>SymTridiagonal{T}</b>) at <a href=\"https://github.com/JuliaLang/julia/tree/2ac304dfba75fad148d4070ef4f8a2e400c305bb/base/linalg/special.jl#L131\" target=\"_blank\">linalg/special.jl:131</a><li> +(A::<b>Base.LinAlg.AbstractTriangular{T,S<:AbstractArray{T,2}}</b>, B::<b>Tridiagonal{T}</b>) at <a href=\"https://github.com/JuliaLang/julia/tree/2ac304dfba75fad148d4070ef4f8a2e400c305bb/base/linalg/special.jl#L158\" target=\"_blank\">linalg/special.jl:158</a><li> +(A::<b>Tridiagonal{T}</b>, B::<b>Base.LinAlg.AbstractTriangular{T,S<:AbstractArray{T,2}}</b>) at <a href=\"https://github.com/JuliaLang/julia/tree/2ac304dfba75fad148d4070ef4f8a2e400c305bb/base/linalg/special.jl#L159\" target=\"_blank\">linalg/special.jl:159</a><li> -(A::<b>Array{T,2}</b>, B::<b>Tridiagonal{T}</b>) at <a href=\"https://github.com/JuliaLang/julia/tree/2ac304dfba75fad148d4070ef4f8a2e400c305bb/base/linalg/special.jl#L122\" target=\"_blank\">linalg/special.jl:122</a><li> -(A::<b>Tridiagonal{T}</b>, B::<b>Tridiagonal{T}</b>) at <a href=\"https://github.com/JuliaLang/julia/tree/2ac304dfba75fad148d4070ef4f8a2e400c305bb/base/linalg/tridiag.jl#L405\" target=\"_blank\">linalg/tridiag.jl:405</a><li> -(A::<b>Diagonal{T}</b>, B::<b>Tridiagonal{T}</b>) at <a href=\"https://github.com/JuliaLang/julia/tree/2ac304dfba75fad148d4070ef4f8a2e400c305bb/base/linalg/special.jl#L121\" target=\"_blank\">linalg/special.jl:121</a><li> -(A::<b>Tridiagonal{T}</b>, B::<b>Diagonal{T}</b>) at <a href=\"https://github.com/JuliaLang/julia/tree/2ac304dfba75fad148d4070ef4f8a2e400c305bb/base/linalg/special.jl#L122\" target=\"_blank\">linalg/special.jl:122</a><li> -(A::<b>Bidiagonal{T}</b>, B::<b>Tridiagonal{T}</b>) at <a href=\"https://github.com/JuliaLang/julia/tree/2ac304dfba75fad148d4070ef4f8a2e400c305bb/base/linalg/special.jl#L121\" target=\"_blank\">linalg/special.jl:121</a><li> -(A::<b>Tridiagonal{T}</b>, B::<b>Bidiagonal{T}</b>) at <a href=\"https://github.com/JuliaLang/julia/tree/2ac304dfba75fad148d4070ef4f8a2e400c305bb/base/linalg/special.jl#L122\" target=\"_blank\">linalg/special.jl:122</a><li> -(A::<b>Tridiagonal{T}</b>, B::<b>Array{T,2}</b>) at <a href=\"https://github.com/JuliaLang/julia/tree/2ac304dfba75fad148d4070ef4f8a2e400c305bb/base/linalg/special.jl#L121\" target=\"_blank\">linalg/special.jl:121</a><li> -(A::<b>SymTridiagonal{T}</b>, B::<b>Tridiagonal{T}</b>) at <a href=\"https://github.com/JuliaLang/julia/tree/2ac304dfba75fad148d4070ef4f8a2e400c305bb/base/linalg/special.jl#L130\" target=\"_blank\">linalg/special.jl:130</a><li> -(A::<b>Tridiagonal{T}</b>, B::<b>SymTridiagonal{T}</b>) at <a href=\"https://github.com/JuliaLang/julia/tree/2ac304dfba75fad148d4070ef4f8a2e400c305bb/base/linalg/special.jl#L131\" target=\"_blank\">linalg/special.jl:131</a><li> -(A::<b>Base.LinAlg.AbstractTriangular{T,S<:AbstractArray{T,2}}</b>, B::<b>Tridiagonal{T}</b>) at <a href=\"https://github.com/JuliaLang/julia/tree/2ac304dfba75fad148d4070ef4f8a2e400c305bb/base/linalg/special.jl#L158\" target=\"_blank\">linalg/special.jl:158</a><li> -(A::<b>Tridiagonal{T}</b>, B::<b>Base.LinAlg.AbstractTriangular{T,S<:AbstractArray{T,2}}</b>) at <a href=\"https://github.com/JuliaLang/julia/tree/2ac304dfba75fad148d4070ef4f8a2e400c305bb/base/linalg/special.jl#L159\" target=\"_blank\">linalg/special.jl:159</a><li> /(A::<b>Tridiagonal{T}</b>, B::<b>Number</b>) at <a href=\"https://github.com/JuliaLang/julia/tree/2ac304dfba75fad148d4070ef4f8a2e400c305bb/base/linalg/tridiag.jl#L408\" target=\"_blank\">linalg/tridiag.jl:408</a><li> ==(A::<b>Tridiagonal{T}</b>, B::<b>Tridiagonal{T}</b>) at <a href=\"https://github.com/JuliaLang/julia/tree/2ac304dfba75fad148d4070ef4f8a2e400c305bb/base/linalg/tridiag.jl#L410\" target=\"_blank\">linalg/tridiag.jl:410</a><li> ==(A::<b>Tridiagonal{T}</b>, B::<b>SymTridiagonal{T}</b>) at <a href=\"https://github.com/JuliaLang/julia/tree/2ac304dfba75fad148d4070ef4f8a2e400c305bb/base/linalg/tridiag.jl#L411\" target=\"_blank\">linalg/tridiag.jl:411</a><li> ==(A::<b>SymTridiagonal{T}</b>, B::<b>Tridiagonal{T}</b>) at <a href=\"https://github.com/JuliaLang/julia/tree/2ac304dfba75fad148d4070ef4f8a2e400c305bb/base/linalg/tridiag.jl#L412\" target=\"_blank\">linalg/tridiag.jl:412</a><li> A_mul_B!(C::<b>Union{AbstractArray{T,1},AbstractArray{T,2}}</b>, A::<b>Tridiagonal{T}</b>, B::<b>Union{AbstractArray{T,1},AbstractArray{T,2}}</b>) at <a href=\"https://github.com/JuliaLang/julia/tree/2ac304dfba75fad148d4070ef4f8a2e400c305bb/base/linalg/tridiag.jl#L429\" target=\"_blank\">linalg/tridiag.jl:429</a><li> A_mul_B!(A::<b>Tridiagonal{T}</b>, B::<b>Base.LinAlg.AbstractTriangular{T,S<:AbstractArray{T,2}}</b>) at <a href=\"https://github.com/JuliaLang/julia/tree/2ac304dfba75fad148d4070ef4f8a2e400c305bb/base/linalg/triangular.jl#L371\" target=\"_blank\">linalg/triangular.jl:371</a><li> abs(M::<b>Tridiagonal{T}</b>) at <a href=\"https://github.com/JuliaLang/julia/tree/2ac304dfba75fad148d4070ef4f8a2e400c305bb/base/linalg/tridiag.jl#L320\" target=\"_blank\">linalg/tridiag.jl:320</a><li> ceil(M::<b>Tridiagonal{T}</b>) at <a href=\"https://github.com/JuliaLang/julia/tree/2ac304dfba75fad148d4070ef4f8a2e400c305bb/base/linalg/tridiag.jl#L320\" target=\"_blank\">linalg/tridiag.jl:320</a><li> ceil<i>{T<:Integer}</i>(::<b>Type{T<:Integer}</b>, M::<b>Tridiagonal{T}</b>) at <a href=\"https://github.com/JuliaLang/julia/tree/2ac304dfba75fad148d4070ef4f8a2e400c305bb/base/linalg/tridiag.jl#L325\" target=\"_blank\">linalg/tridiag.jl:325</a><li> conj(M::<b>Tridiagonal{T}</b>) at <a href=\"https://github.com/JuliaLang/julia/tree/2ac304dfba75fad148d4070ef4f8a2e400c305bb/base/linalg/tridiag.jl#L320\" target=\"_blank\">linalg/tridiag.jl:320</a><li> convert<i>{T}</i>(::<b>Type{AbstractArray{T,2}}</b>, M::<b>Tridiagonal{T}</b>) at <a href=\"https://github.com/JuliaLang/julia/tree/2ac304dfba75fad148d4070ef4f8a2e400c305bb/base/linalg/tridiag.jl#L418\" target=\"_blank\">linalg/tridiag.jl:418</a><li> convert<i>{T}</i>(::<b>Type{Array{T,2}}</b>, M::<b>Tridiagonal{T}</b>) at <a href=\"https://github.com/JuliaLang/julia/tree/2ac304dfba75fad148d4070ef4f8a2e400c305bb/base/linalg/tridiag.jl#L296\" target=\"_blank\">linalg/tridiag.jl:296</a><li> convert<i>{T}</i>(::<b>Type{Array{T,2}}</b>, M::<b>Tridiagonal{T}</b>) at <a href=\"https://github.com/JuliaLang/julia/tree/2ac304dfba75fad148d4070ef4f8a2e400c305bb/base/linalg/tridiag.jl#L306\" target=\"_blank\">linalg/tridiag.jl:306</a><li> convert<i>{T}</i>(::<b>Type{Tridiagonal{T}}</b>, M::<b>Tridiagonal{T}</b>) at <a href=\"https://github.com/JuliaLang/julia/tree/2ac304dfba75fad148d4070ef4f8a2e400c305bb/base/linalg/tridiag.jl#L417\" target=\"_blank\">linalg/tridiag.jl:417</a><li> convert<i>{T}</i>(::<b>Type{SymTridiagonal{T}}</b>, M::<b>Tridiagonal{T}</b>) at <a href=\"https://github.com/JuliaLang/julia/tree/2ac304dfba75fad148d4070ef4f8a2e400c305bb/base/linalg/tridiag.jl#L421\" target=\"_blank\">linalg/tridiag.jl:421</a><li> convert(::<b>Type{Diagonal{T}}</b>, A::<b>Tridiagonal{T}</b>) at <a href=\"https://github.com/JuliaLang/julia/tree/2ac304dfba75fad148d4070ef4f8a2e400c305bb/base/linalg/special.jl#L51\" target=\"_blank\">linalg/special.jl:51</a><li> convert(::<b>Type{Bidiagonal{T}}</b>, A::<b>Tridiagonal{T}</b>) at <a href=\"https://github.com/JuliaLang/julia/tree/2ac304dfba75fad148d4070ef4f8a2e400c305bb/base/linalg/special.jl#L58\" target=\"_blank\">linalg/special.jl:58</a><li> convert(::<b>Type{SymTridiagonal{T}}</b>, A::<b>Tridiagonal{T}</b>) at <a href=\"https://github.com/JuliaLang/julia/tree/2ac304dfba75fad148d4070ef4f8a2e400c305bb/base/linalg/special.jl#L65\" target=\"_blank\">linalg/special.jl:65</a><li> copy(M::<b>Tridiagonal{T}</b>) at <a href=\"https://github.com/JuliaLang/julia/tree/2ac304dfba75fad148d4070ef4f8a2e400c305bb/base/linalg/tridiag.jl#L320\" target=\"_blank\">linalg/tridiag.jl:320</a><li> copy!(dest::<b>Tridiagonal{T}</b>, src::<b>Tridiagonal{T}</b>) at <a href=\"https://github.com/JuliaLang/julia/tree/2ac304dfba75fad148d4070ef4f8a2e400c305bb/base/linalg/tridiag.jl#L315\" target=\"_blank\">linalg/tridiag.jl:315</a><li> ctranspose(M::<b>Tridiagonal{T}</b>) at <a href=\"https://github.com/JuliaLang/julia/tree/2ac304dfba75fad148d4070ef4f8a2e400c305bb/base/linalg/tridiag.jl#L330\" target=\"_blank\">linalg/tridiag.jl:330</a><li> det(A::<b>Tridiagonal{T}</b>) at <a href=\"https://github.com/JuliaLang/julia/tree/2ac304dfba75fad148d4070ef4f8a2e400c305bb/base/linalg/tridiag.jl#L415\" target=\"_blank\">linalg/tridiag.jl:415</a><li> diag<i>{T}</i>(M::<b>Tridiagonal{T}</b>) at <a href=\"https://github.com/JuliaLang/julia/tree/2ac304dfba75fad148d4070ef4f8a2e400c305bb/base/linalg/tridiag.jl#L333\" target=\"_blank\">linalg/tridiag.jl:333</a><li> diag<i>{T}</i>(M::<b>Tridiagonal{T}</b>, n::<b>Integer</b>) at <a href=\"https://github.com/JuliaLang/julia/tree/2ac304dfba75fad148d4070ef4f8a2e400c305bb/base/linalg/tridiag.jl#L333\" target=\"_blank\">linalg/tridiag.jl:333</a><li> factorize(A::<b>Tridiagonal{T}</b>) at <a href=\"https://github.com/JuliaLang/julia/tree/2ac304dfba75fad148d4070ef4f8a2e400c305bb/base/linalg/lu.jl#L286\" target=\"_blank\">linalg/lu.jl:286</a><li> floor(M::<b>Tridiagonal{T}</b>) at <a href=\"https://github.com/JuliaLang/julia/tree/2ac304dfba75fad148d4070ef4f8a2e400c305bb/base/linalg/tridiag.jl#L320\" target=\"_blank\">linalg/tridiag.jl:320</a><li> floor<i>{T<:Integer}</i>(::<b>Type{T<:Integer}</b>, M::<b>Tridiagonal{T}</b>) at <a href=\"https://github.com/JuliaLang/julia/tree/2ac304dfba75fad148d4070ef4f8a2e400c305bb/base/linalg/tridiag.jl#L325\" target=\"_blank\">linalg/tridiag.jl:325</a><li> full<i>{T}</i>(M::<b>Tridiagonal{T}</b>) at <a href=\"https://github.com/JuliaLang/julia/tree/2ac304dfba75fad148d4070ef4f8a2e400c305bb/base/linalg/tridiag.jl#L294\" target=\"_blank\">linalg/tridiag.jl:294</a><li> getindex<i>{T}</i>(A::<b>Tridiagonal{T}</b>, i::<b>Integer</b>, j::<b>Integer</b>) at <a href=\"https://github.com/JuliaLang/julia/tree/2ac304dfba75fad148d4070ef4f8a2e400c305bb/base/linalg/tridiag.jl#L347\" target=\"_blank\">linalg/tridiag.jl:347</a><li> imag(M::<b>Tridiagonal{T}</b>) at <a href=\"https://github.com/JuliaLang/julia/tree/2ac304dfba75fad148d4070ef4f8a2e400c305bb/base/linalg/tridiag.jl#L320\" target=\"_blank\">linalg/tridiag.jl:320</a><li> inv(A::<b>Tridiagonal{T}</b>) at <a href=\"https://github.com/JuliaLang/julia/tree/2ac304dfba75fad148d4070ef4f8a2e400c305bb/base/linalg/tridiag.jl#L414\" target=\"_blank\">linalg/tridiag.jl:414</a><li> istril(M::<b>Tridiagonal{T}</b>) at <a href=\"https://github.com/JuliaLang/julia/tree/2ac304dfba75fad148d4070ef4f8a2e400c305bb/base/linalg/tridiag.jl#L364\" target=\"_blank\">linalg/tridiag.jl:364</a><li> istriu(M::<b>Tridiagonal{T}</b>) at <a href=\"https://github.com/JuliaLang/julia/tree/2ac304dfba75fad148d4070ef4f8a2e400c305bb/base/linalg/tridiag.jl#L363\" target=\"_blank\">linalg/tridiag.jl:363</a><li> lufact!<i>{T}</i>(A::<b>Tridiagonal{T}</b>) at <a href=\"https://github.com/JuliaLang/julia/tree/2ac304dfba75fad148d4070ef4f8a2e400c305bb/base/linalg/lu.jl#L222\" target=\"_blank\">linalg/lu.jl:222</a><li> lufact!<i>{T}</i>(A::<b>Tridiagonal{T}</b>, pivot::<b>Union{Type{Val{false}},Type{Val{true}}}</b>) at <a href=\"https://github.com/JuliaLang/julia/tree/2ac304dfba75fad148d4070ef4f8a2e400c305bb/base/linalg/lu.jl#L222\" target=\"_blank\">linalg/lu.jl:222</a><li> real(M::<b>Tridiagonal{T}</b>) at <a href=\"https://github.com/JuliaLang/julia/tree/2ac304dfba75fad148d4070ef4f8a2e400c305bb/base/linalg/tridiag.jl#L320\" target=\"_blank\">linalg/tridiag.jl:320</a><li> round(M::<b>Tridiagonal{T}</b>) at <a href=\"https://github.com/JuliaLang/julia/tree/2ac304dfba75fad148d4070ef4f8a2e400c305bb/base/linalg/tridiag.jl#L320\" target=\"_blank\">linalg/tridiag.jl:320</a><li> round<i>{T<:Integer}</i>(::<b>Type{T<:Integer}</b>, M::<b>Tridiagonal{T}</b>) at <a href=\"https://github.com/JuliaLang/julia/tree/2ac304dfba75fad148d4070ef4f8a2e400c305bb/base/linalg/tridiag.jl#L325\" target=\"_blank\">linalg/tridiag.jl:325</a><li> similar(M::<b>Tridiagonal{T}</b>, T, dims::<b>Tuple{Vararg{Int64}}</b>) at <a href=\"https://github.com/JuliaLang/julia/tree/2ac304dfba75fad148d4070ef4f8a2e400c305bb/base/linalg/tridiag.jl#L308\" target=\"_blank\">linalg/tridiag.jl:308</a><li> size(M::<b>Tridiagonal{T}</b>) at <a href=\"https://github.com/JuliaLang/julia/tree/2ac304dfba75fad148d4070ef4f8a2e400c305bb/base/linalg/tridiag.jl#L283\" target=\"_blank\">linalg/tridiag.jl:283</a><li> size(M::<b>Tridiagonal{T}</b>, d::<b>Integer</b>) at <a href=\"https://github.com/JuliaLang/julia/tree/2ac304dfba75fad148d4070ef4f8a2e400c305bb/base/linalg/tridiag.jl#L285\" target=\"_blank\">linalg/tridiag.jl:285</a><li> sparse(T::<b>Tridiagonal{T}</b>) at <a href=\"https://github.com/JuliaLang/julia/tree/2ac304dfba75fad148d4070ef4f8a2e400c305bb/base/sparse/sparsematrix.jl#L396\" target=\"_blank\">sparse/sparsematrix.jl:396</a><li> transpose(M::<b>Tridiagonal{T}</b>) at <a href=\"https://github.com/JuliaLang/julia/tree/2ac304dfba75fad148d4070ef4f8a2e400c305bb/base/linalg/tridiag.jl#L329\" target=\"_blank\">linalg/tridiag.jl:329</a><li> tril!(M::<b>Tridiagonal{T}</b>) at <a href=\"https://github.com/JuliaLang/julia/tree/2ac304dfba75fad148d4070ef4f8a2e400c305bb/base/linalg/tridiag.jl#L367\" target=\"_blank\">linalg/tridiag.jl:367</a><li> tril!(M::<b>Tridiagonal{T}</b>, k::<b>Integer</b>) at <a href=\"https://github.com/JuliaLang/julia/tree/2ac304dfba75fad148d4070ef4f8a2e400c305bb/base/linalg/tridiag.jl#L367\" target=\"_blank\">linalg/tridiag.jl:367</a><li> triu!(M::<b>Tridiagonal{T}</b>) at <a href=\"https://github.com/JuliaLang/julia/tree/2ac304dfba75fad148d4070ef4f8a2e400c305bb/base/linalg/tridiag.jl#L384\" target=\"_blank\">linalg/tridiag.jl:384</a><li> triu!(M::<b>Tridiagonal{T}</b>, k::<b>Integer</b>) at <a href=\"https://github.com/JuliaLang/julia/tree/2ac304dfba75fad148d4070ef4f8a2e400c305bb/base/linalg/tridiag.jl#L384\" target=\"_blank\">linalg/tridiag.jl:384</a><li> trunc(M::<b>Tridiagonal{T}</b>) at <a href=\"https://github.com/JuliaLang/julia/tree/2ac304dfba75fad148d4070ef4f8a2e400c305bb/base/linalg/tridiag.jl#L320\" target=\"_blank\">linalg/tridiag.jl:320</a><li> trunc<i>{T<:Integer}</i>(::<b>Type{T<:Integer}</b>, M::<b>Tridiagonal{T}</b>) at <a href=\"https://github.com/JuliaLang/julia/tree/2ac304dfba75fad148d4070ef4f8a2e400c305bb/base/linalg/tridiag.jl#L325\" target=\"_blank\">linalg/tridiag.jl:325</a></ul>"
      ],
      "text/plain": [
       "77-element Array{Method,1}:\n",
       " *(A::Tridiagonal{T}, B::Number) at linalg/tridiag.jl:406                                                                                              \n",
       " *(A::Tridiagonal{T}, B::UpperTriangular{T,S<:AbstractArray{T,2}}) at linalg/triangular.jl:969                                                         \n",
       " *(A::Tridiagonal{T}, B::Base.LinAlg.UnitUpperTriangular{T,S<:AbstractArray{T,2}}) at linalg/triangular.jl:969                                         \n",
       " *(A::Tridiagonal{T}, B::LowerTriangular{T,S<:AbstractArray{T,2}}) at linalg/triangular.jl:969                                                         \n",
       " *(A::Tridiagonal{T}, B::Base.LinAlg.UnitLowerTriangular{T,S<:AbstractArray{T,2}}) at linalg/triangular.jl:969                                         \n",
       " *(B::Number, A::Tridiagonal{T}) at linalg/tridiag.jl:407                                                                                              \n",
       " +(A::Array{T,2}, B::Tridiagonal{T}) at linalg/special.jl:122                                                                                          \n",
       " +(A::Tridiagonal{T}, B::Tridiagonal{T}) at linalg/tridiag.jl:404                                                                                      \n",
       " +(A::Diagonal{T}, B::Tridiagonal{T}) at linalg/special.jl:121                                                                                         \n",
       " +(A::Tridiagonal{T}, B::Diagonal{T}) at linalg/special.jl:122                                                                                         \n",
       " +(A::Bidiagonal{T}, B::Tridiagonal{T}) at linalg/special.jl:121                                                                                       \n",
       " +(A::Tridiagonal{T}, B::Bidiagonal{T}) at linalg/special.jl:122                                                                                       \n",
       " +(A::Tridiagonal{T}, B::Array{T,2}) at linalg/special.jl:121                                                                                          \n",
       " +(A::SymTridiagonal{T}, B::Tridiagonal{T}) at linalg/special.jl:130                                                                                   \n",
       " +(A::Tridiagonal{T}, B::SymTridiagonal{T}) at linalg/special.jl:131                                                                                   \n",
       " +(A::Base.LinAlg.AbstractTriangular{T,S<:AbstractArray{T,2}}, B::Tridiagonal{T}) at linalg/special.jl:158                                             \n",
       " +(A::Tridiagonal{T}, B::Base.LinAlg.AbstractTriangular{T,S<:AbstractArray{T,2}}) at linalg/special.jl:159                                             \n",
       " -(A::Array{T,2}, B::Tridiagonal{T}) at linalg/special.jl:122                                                                                          \n",
       " -(A::Tridiagonal{T}, B::Tridiagonal{T}) at linalg/tridiag.jl:405                                                                                      \n",
       " -(A::Diagonal{T}, B::Tridiagonal{T}) at linalg/special.jl:121                                                                                         \n",
       " -(A::Tridiagonal{T}, B::Diagonal{T}) at linalg/special.jl:122                                                                                         \n",
       " -(A::Bidiagonal{T}, B::Tridiagonal{T}) at linalg/special.jl:121                                                                                       \n",
       " -(A::Tridiagonal{T}, B::Bidiagonal{T}) at linalg/special.jl:122                                                                                       \n",
       " -(A::Tridiagonal{T}, B::Array{T,2}) at linalg/special.jl:121                                                                                          \n",
       " -(A::SymTridiagonal{T}, B::Tridiagonal{T}) at linalg/special.jl:130                                                                                   \n",
       " -(A::Tridiagonal{T}, B::SymTridiagonal{T}) at linalg/special.jl:131                                                                                   \n",
       " -(A::Base.LinAlg.AbstractTriangular{T,S<:AbstractArray{T,2}}, B::Tridiagonal{T}) at linalg/special.jl:158                                             \n",
       " -(A::Tridiagonal{T}, B::Base.LinAlg.AbstractTriangular{T,S<:AbstractArray{T,2}}) at linalg/special.jl:159                                             \n",
       " /(A::Tridiagonal{T}, B::Number) at linalg/tridiag.jl:408                                                                                              \n",
       " ==(A::Tridiagonal{T}, B::Tridiagonal{T}) at linalg/tridiag.jl:410                                                                                     \n",
       " ==(A::Tridiagonal{T}, B::SymTridiagonal{T}) at linalg/tridiag.jl:411                                                                                  \n",
       " ==(A::SymTridiagonal{T}, B::Tridiagonal{T}) at linalg/tridiag.jl:412                                                                                  \n",
       " A_mul_B!(C::Union{AbstractArray{T,1},AbstractArray{T,2}}, A::Tridiagonal{T}, B::Union{AbstractArray{T,1},AbstractArray{T,2}}) at linalg/tridiag.jl:429\n",
       " A_mul_B!(A::Tridiagonal{T}, B::Base.LinAlg.AbstractTriangular{T,S<:AbstractArray{T,2}}) at linalg/triangular.jl:371                                   \n",
       " abs(M::Tridiagonal{T}) at linalg/tridiag.jl:320                                                                                                       \n",
       " ceil(M::Tridiagonal{T}) at linalg/tridiag.jl:320                                                                                                      \n",
       " ceil{T<:Integer}(::Type{T<:Integer}, M::Tridiagonal{T}) at linalg/tridiag.jl:325                                                                      \n",
       " conj(M::Tridiagonal{T}) at linalg/tridiag.jl:320                                                                                                      \n",
       " convert{T}(::Type{AbstractArray{T,2}}, M::Tridiagonal{T}) at linalg/tridiag.jl:418                                                                    \n",
       " convert{T}(::Type{Array{T,2}}, M::Tridiagonal{T}) at linalg/tridiag.jl:296                                                                            \n",
       " convert{T}(::Type{Array{T,2}}, M::Tridiagonal{T}) at linalg/tridiag.jl:306                                                                            \n",
       " convert{T}(::Type{Tridiagonal{T}}, M::Tridiagonal{T}) at linalg/tridiag.jl:417                                                                        \n",
       " convert{T}(::Type{SymTridiagonal{T}}, M::Tridiagonal{T}) at linalg/tridiag.jl:421                                                                     \n",
       " convert(::Type{Diagonal{T}}, A::Tridiagonal{T}) at linalg/special.jl:51                                                                               \n",
       " convert(::Type{Bidiagonal{T}}, A::Tridiagonal{T}) at linalg/special.jl:58                                                                             \n",
       " convert(::Type{SymTridiagonal{T}}, A::Tridiagonal{T}) at linalg/special.jl:65                                                                         \n",
       " copy(M::Tridiagonal{T}) at linalg/tridiag.jl:320                                                                                                      \n",
       " copy!(dest::Tridiagonal{T}, src::Tridiagonal{T}) at linalg/tridiag.jl:315                                                                             \n",
       " ctranspose(M::Tridiagonal{T}) at linalg/tridiag.jl:330                                                                                                \n",
       " det(A::Tridiagonal{T}) at linalg/tridiag.jl:415                                                                                                       \n",
       " diag{T}(M::Tridiagonal{T}) at linalg/tridiag.jl:333                                                                                                   \n",
       " diag{T}(M::Tridiagonal{T}, n::Integer) at linalg/tridiag.jl:333                                                                                       \n",
       " factorize(A::Tridiagonal{T}) at linalg/lu.jl:286                                                                                                      \n",
       " floor(M::Tridiagonal{T}) at linalg/tridiag.jl:320                                                                                                     \n",
       " floor{T<:Integer}(::Type{T<:Integer}, M::Tridiagonal{T}) at linalg/tridiag.jl:325                                                                     \n",
       " full{T}(M::Tridiagonal{T}) at linalg/tridiag.jl:294                                                                                                   \n",
       " getindex{T}(A::Tridiagonal{T}, i::Integer, j::Integer) at linalg/tridiag.jl:347                                                                       \n",
       " imag(M::Tridiagonal{T}) at linalg/tridiag.jl:320                                                                                                      \n",
       " inv(A::Tridiagonal{T}) at linalg/tridiag.jl:414                                                                                                       \n",
       " istril(M::Tridiagonal{T}) at linalg/tridiag.jl:364                                                                                                    \n",
       " istriu(M::Tridiagonal{T}) at linalg/tridiag.jl:363                                                                                                    \n",
       " lufact!{T}(A::Tridiagonal{T}) at linalg/lu.jl:222                                                                                                     \n",
       " lufact!{T}(A::Tridiagonal{T}, pivot::Union{Type{Val{false}},Type{Val{true}}}) at linalg/lu.jl:222                                                     \n",
       " real(M::Tridiagonal{T}) at linalg/tridiag.jl:320                                                                                                      \n",
       " round(M::Tridiagonal{T}) at linalg/tridiag.jl:320                                                                                                     \n",
       " round{T<:Integer}(::Type{T<:Integer}, M::Tridiagonal{T}) at linalg/tridiag.jl:325                                                                     \n",
       " similar(M::Tridiagonal{T}, T, dims::Tuple{Vararg{Int64}}) at linalg/tridiag.jl:308                                                                    \n",
       " size(M::Tridiagonal{T}) at linalg/tridiag.jl:283                                                                                                      \n",
       " size(M::Tridiagonal{T}, d::Integer) at linalg/tridiag.jl:285                                                                                          \n",
       " sparse(T::Tridiagonal{T}) at sparse/sparsematrix.jl:396                                                                                               \n",
       " transpose(M::Tridiagonal{T}) at linalg/tridiag.jl:329                                                                                                 \n",
       " tril!(M::Tridiagonal{T}) at linalg/tridiag.jl:367                                                                                                     \n",
       " tril!(M::Tridiagonal{T}, k::Integer) at linalg/tridiag.jl:367                                                                                         \n",
       " triu!(M::Tridiagonal{T}) at linalg/tridiag.jl:384                                                                                                     \n",
       " triu!(M::Tridiagonal{T}, k::Integer) at linalg/tridiag.jl:384                                                                                         \n",
       " trunc(M::Tridiagonal{T}) at linalg/tridiag.jl:320                                                                                                     \n",
       " trunc{T<:Integer}(::Type{T<:Integer}, M::Tridiagonal{T}) at linalg/tridiag.jl:325                                                                     "
      ]
     },
     "execution_count": 28,
     "metadata": {},
     "output_type": "execute_result"
    }
   ],
   "source": [
    "methodswith(Tridiagonal)"
   ]
  },
  {
   "cell_type": "code",
   "execution_count": 29,
   "metadata": {
    "collapsed": false
   },
   "outputs": [
    {
     "data": {
      "text/html": [
       "13-element Array{Method,1}:<ul><li> +(x::<b>Date</b>, y::<b>Base.Dates.Day</b>) at <a href=\"https://github.com/JuliaLang/julia/tree/2ac304dfba75fad148d4070ef4f8a2e400c305bb/base/dates/arithmetic.jl#L62\" target=\"_blank\">dates/arithmetic.jl:62</a><li> -(x::<b>Date</b>, y::<b>Base.Dates.Day</b>) at <a href=\"https://github.com/JuliaLang/julia/tree/2ac304dfba75fad148d4070ef4f8a2e400c305bb/base/dates/arithmetic.jl#L63\" target=\"_blank\">dates/arithmetic.jl:63</a><li> call(::<b>Type{DateTime}</b>, y::<b>Base.Dates.Year</b>, m::<b>Base.Dates.Month</b>, d::<b>Base.Dates.Day</b>) at <a href=\"https://github.com/JuliaLang/julia/tree/2ac304dfba75fad148d4070ef4f8a2e400c305bb/base/dates/types.jl#L101\" target=\"_blank\">dates/types.jl:101</a><li> call(::<b>Type{DateTime}</b>, y::<b>Base.Dates.Year</b>, m::<b>Base.Dates.Month</b>, d::<b>Base.Dates.Day</b>, h::<b>Base.Dates.Hour</b>) at <a href=\"https://github.com/JuliaLang/julia/tree/2ac304dfba75fad148d4070ef4f8a2e400c305bb/base/dates/types.jl#L101\" target=\"_blank\">dates/types.jl:101</a><li> call(::<b>Type{DateTime}</b>, y::<b>Base.Dates.Year</b>, m::<b>Base.Dates.Month</b>, d::<b>Base.Dates.Day</b>, h::<b>Base.Dates.Hour</b>, mi::<b>Base.Dates.Minute</b>) at <a href=\"https://github.com/JuliaLang/julia/tree/2ac304dfba75fad148d4070ef4f8a2e400c305bb/base/dates/types.jl#L101\" target=\"_blank\">dates/types.jl:101</a><li> call(::<b>Type{DateTime}</b>, y::<b>Base.Dates.Year</b>, m::<b>Base.Dates.Month</b>, d::<b>Base.Dates.Day</b>, h::<b>Base.Dates.Hour</b>, mi::<b>Base.Dates.Minute</b>, s::<b>Base.Dates.Second</b>) at <a href=\"https://github.com/JuliaLang/julia/tree/2ac304dfba75fad148d4070ef4f8a2e400c305bb/base/dates/types.jl#L101\" target=\"_blank\">dates/types.jl:101</a><li> call(::<b>Type{DateTime}</b>, y::<b>Base.Dates.Year</b>, m::<b>Base.Dates.Month</b>, d::<b>Base.Dates.Day</b>, h::<b>Base.Dates.Hour</b>, mi::<b>Base.Dates.Minute</b>, s::<b>Base.Dates.Second</b>, ms::<b>Base.Dates.Millisecond</b>) at <a href=\"https://github.com/JuliaLang/julia/tree/2ac304dfba75fad148d4070ef4f8a2e400c305bb/base/dates/types.jl#L101\" target=\"_blank\">dates/types.jl:101</a><li> call(::<b>Type{Date}</b>, y::<b>Base.Dates.Year</b>, m::<b>Base.Dates.Month</b>, d::<b>Base.Dates.Day</b>) at <a href=\"https://github.com/JuliaLang/julia/tree/2ac304dfba75fad148d4070ef4f8a2e400c305bb/base/dates/types.jl#L105\" target=\"_blank\">dates/types.jl:105</a><li> convert(::<b>Type{Base.Dates.Week}</b>, x::<b>Base.Dates.Day</b>) at <a href=\"https://github.com/JuliaLang/julia/tree/2ac304dfba75fad148d4070ef4f8a2e400c305bb/base/dates/periods.jl#L277\" target=\"_blank\">dates/periods.jl:277</a><li> convert(::<b>Type{Base.Dates.Hour}</b>, x::<b>Base.Dates.Day</b>) at <a href=\"https://github.com/JuliaLang/julia/tree/2ac304dfba75fad148d4070ef4f8a2e400c305bb/base/dates/periods.jl#L270\" target=\"_blank\">dates/periods.jl:270</a><li> convert(::<b>Type{Base.Dates.Minute}</b>, x::<b>Base.Dates.Day</b>) at <a href=\"https://github.com/JuliaLang/julia/tree/2ac304dfba75fad148d4070ef4f8a2e400c305bb/base/dates/periods.jl#L270\" target=\"_blank\">dates/periods.jl:270</a><li> convert(::<b>Type{Base.Dates.Second}</b>, x::<b>Base.Dates.Day</b>) at <a href=\"https://github.com/JuliaLang/julia/tree/2ac304dfba75fad148d4070ef4f8a2e400c305bb/base/dates/periods.jl#L270\" target=\"_blank\">dates/periods.jl:270</a><li> convert(::<b>Type{Base.Dates.Millisecond}</b>, x::<b>Base.Dates.Day</b>) at <a href=\"https://github.com/JuliaLang/julia/tree/2ac304dfba75fad148d4070ef4f8a2e400c305bb/base/dates/periods.jl#L270\" target=\"_blank\">dates/periods.jl:270</a></ul>"
      ],
      "text/plain": [
       "13-element Array{Method,1}:\n",
       " +(x::Date, y::Base.Dates.Day) at dates/arithmetic.jl:62                                                                                                                                              \n",
       " -(x::Date, y::Base.Dates.Day) at dates/arithmetic.jl:63                                                                                                                                              \n",
       " call(::Type{DateTime}, y::Base.Dates.Year, m::Base.Dates.Month, d::Base.Dates.Day) at dates/types.jl:101                                                                                             \n",
       " call(::Type{DateTime}, y::Base.Dates.Year, m::Base.Dates.Month, d::Base.Dates.Day, h::Base.Dates.Hour) at dates/types.jl:101                                                                         \n",
       " call(::Type{DateTime}, y::Base.Dates.Year, m::Base.Dates.Month, d::Base.Dates.Day, h::Base.Dates.Hour, mi::Base.Dates.Minute) at dates/types.jl:101                                                  \n",
       " call(::Type{DateTime}, y::Base.Dates.Year, m::Base.Dates.Month, d::Base.Dates.Day, h::Base.Dates.Hour, mi::Base.Dates.Minute, s::Base.Dates.Second) at dates/types.jl:101                            \n",
       " call(::Type{DateTime}, y::Base.Dates.Year, m::Base.Dates.Month, d::Base.Dates.Day, h::Base.Dates.Hour, mi::Base.Dates.Minute, s::Base.Dates.Second, ms::Base.Dates.Millisecond) at dates/types.jl:101\n",
       " call(::Type{Date}, y::Base.Dates.Year, m::Base.Dates.Month, d::Base.Dates.Day) at dates/types.jl:105                                                                                                 \n",
       " convert(::Type{Base.Dates.Week}, x::Base.Dates.Day) at dates/periods.jl:277                                                                                                                          \n",
       " convert(::Type{Base.Dates.Hour}, x::Base.Dates.Day) at dates/periods.jl:270                                                                                                                          \n",
       " convert(::Type{Base.Dates.Minute}, x::Base.Dates.Day) at dates/periods.jl:270                                                                                                                        \n",
       " convert(::Type{Base.Dates.Second}, x::Base.Dates.Day) at dates/periods.jl:270                                                                                                                        \n",
       " convert(::Type{Base.Dates.Millisecond}, x::Base.Dates.Day) at dates/periods.jl:270                                                                                                                   "
      ]
     },
     "execution_count": 29,
     "metadata": {},
     "output_type": "execute_result"
    }
   ],
   "source": [
    "methodswith(Dates.Day)"
   ]
  },
  {
   "cell_type": "markdown",
   "metadata": {},
   "source": [
    "### The `\"*\"` operator"
   ]
  },
  {
   "cell_type": "code",
   "execution_count": 27,
   "metadata": {
    "collapsed": false,
    "scrolled": true
   },
   "outputs": [
    {
     "data": {
      "text/html": [
       "138 methods for generic function <b>*</b>:<ul><li> *(x::<b>Bool</b>, y::<b>Bool</b>) at <a href=\"https://github.com/JuliaLang/julia/tree/2ac304dfba75fad148d4070ef4f8a2e400c305bb/base/bool.jl#L38\" target=\"_blank\">bool.jl:38</a><li> *<i>{T<:Unsigned}</i>(x::<b>Bool</b>, y::<b>T<:Unsigned</b>) at <a href=\"https://github.com/JuliaLang/julia/tree/2ac304dfba75fad148d4070ef4f8a2e400c305bb/base/bool.jl#L53\" target=\"_blank\">bool.jl:53</a><li> *(x::<b>Bool</b>, z::<b>Complex{Bool}</b>) at <a href=\"https://github.com/JuliaLang/julia/tree/2ac304dfba75fad148d4070ef4f8a2e400c305bb/base/complex.jl#L122\" target=\"_blank\">complex.jl:122</a><li> *(x::<b>Bool</b>, z::<b>Complex{T<:Real}</b>) at <a href=\"https://github.com/JuliaLang/julia/tree/2ac304dfba75fad148d4070ef4f8a2e400c305bb/base/complex.jl#L129\" target=\"_blank\">complex.jl:129</a><li> *<i>{T<:Number}</i>(x::<b>Bool</b>, y::<b>T<:Number</b>) at <a href=\"https://github.com/JuliaLang/julia/tree/2ac304dfba75fad148d4070ef4f8a2e400c305bb/base/bool.jl#L49\" target=\"_blank\">bool.jl:49</a><li> *(x::<b>Float32</b>, y::<b>Float32</b>) at <a href=\"https://github.com/JuliaLang/julia/tree/2ac304dfba75fad148d4070ef4f8a2e400c305bb/base/float.jl#L211\" target=\"_blank\">float.jl:211</a><li> *(x::<b>Float64</b>, y::<b>Float64</b>) at <a href=\"https://github.com/JuliaLang/julia/tree/2ac304dfba75fad148d4070ef4f8a2e400c305bb/base/float.jl#L212\" target=\"_blank\">float.jl:212</a><li> *(z::<b>Complex{T<:Real}</b>, w::<b>Complex{T<:Real}</b>) at <a href=\"https://github.com/JuliaLang/julia/tree/2ac304dfba75fad148d4070ef4f8a2e400c305bb/base/complex.jl#L113\" target=\"_blank\">complex.jl:113</a><li> *(z::<b>Complex{Bool}</b>, x::<b>Bool</b>) at <a href=\"https://github.com/JuliaLang/julia/tree/2ac304dfba75fad148d4070ef4f8a2e400c305bb/base/complex.jl#L123\" target=\"_blank\">complex.jl:123</a><li> *(z::<b>Complex{T<:Real}</b>, x::<b>Bool</b>) at <a href=\"https://github.com/JuliaLang/julia/tree/2ac304dfba75fad148d4070ef4f8a2e400c305bb/base/complex.jl#L130\" target=\"_blank\">complex.jl:130</a><li> *(x::<b>Real</b>, z::<b>Complex{Bool}</b>) at <a href=\"https://github.com/JuliaLang/julia/tree/2ac304dfba75fad148d4070ef4f8a2e400c305bb/base/complex.jl#L140\" target=\"_blank\">complex.jl:140</a><li> *(z::<b>Complex{Bool}</b>, x::<b>Real</b>) at <a href=\"https://github.com/JuliaLang/julia/tree/2ac304dfba75fad148d4070ef4f8a2e400c305bb/base/complex.jl#L141\" target=\"_blank\">complex.jl:141</a><li> *(x::<b>Real</b>, z::<b>Complex{T<:Real}</b>) at <a href=\"https://github.com/JuliaLang/julia/tree/2ac304dfba75fad148d4070ef4f8a2e400c305bb/base/complex.jl#L152\" target=\"_blank\">complex.jl:152</a><li> *(z::<b>Complex{T<:Real}</b>, x::<b>Real</b>) at <a href=\"https://github.com/JuliaLang/julia/tree/2ac304dfba75fad148d4070ef4f8a2e400c305bb/base/complex.jl#L153\" target=\"_blank\">complex.jl:153</a><li> *(x::<b>Rational{T<:Integer}</b>, y::<b>Rational{T<:Integer}</b>) at <a href=\"https://github.com/JuliaLang/julia/tree/2ac304dfba75fad148d4070ef4f8a2e400c305bb/base/rational.jl#L186\" target=\"_blank\">rational.jl:186</a><li> *(a::<b>Float16</b>, b::<b>Float16</b>) at <a href=\"https://github.com/JuliaLang/julia/tree/2ac304dfba75fad148d4070ef4f8a2e400c305bb/base/float16.jl#L136\" target=\"_blank\">float16.jl:136</a><li> *<i>{N}</i>(a::<b>Integer</b>, index::<b>CartesianIndex{N}</b>) at <a href=\"https://github.com/JuliaLang/julia/tree/2ac304dfba75fad148d4070ef4f8a2e400c305bb/base/multidimensional.jl#L50\" target=\"_blank\">multidimensional.jl:50</a><li> *(x::<b>BigInt</b>, y::<b>BigInt</b>) at <a href=\"https://github.com/JuliaLang/julia/tree/2ac304dfba75fad148d4070ef4f8a2e400c305bb/base/gmp.jl#L256\" target=\"_blank\">gmp.jl:256</a><li> *(a::<b>BigInt</b>, b::<b>BigInt</b>, c::<b>BigInt</b>) at <a href=\"https://github.com/JuliaLang/julia/tree/2ac304dfba75fad148d4070ef4f8a2e400c305bb/base/gmp.jl#L279\" target=\"_blank\">gmp.jl:279</a><li> *(a::<b>BigInt</b>, b::<b>BigInt</b>, c::<b>BigInt</b>, d::<b>BigInt</b>) at <a href=\"https://github.com/JuliaLang/julia/tree/2ac304dfba75fad148d4070ef4f8a2e400c305bb/base/gmp.jl#L285\" target=\"_blank\">gmp.jl:285</a><li> *(a::<b>BigInt</b>, b::<b>BigInt</b>, c::<b>BigInt</b>, d::<b>BigInt</b>, e::<b>BigInt</b>) at <a href=\"https://github.com/JuliaLang/julia/tree/2ac304dfba75fad148d4070ef4f8a2e400c305bb/base/gmp.jl#L292\" target=\"_blank\">gmp.jl:292</a><li> *(x::<b>BigInt</b>, c::<b>Union{UInt16,UInt32,UInt8}</b>) at <a href=\"https://github.com/JuliaLang/julia/tree/2ac304dfba75fad148d4070ef4f8a2e400c305bb/base/gmp.jl#L326\" target=\"_blank\">gmp.jl:326</a><li> *(c::<b>Union{UInt16,UInt32,UInt8}</b>, x::<b>BigInt</b>) at <a href=\"https://github.com/JuliaLang/julia/tree/2ac304dfba75fad148d4070ef4f8a2e400c305bb/base/gmp.jl#L330\" target=\"_blank\">gmp.jl:330</a><li> *(x::<b>BigInt</b>, c::<b>Union{Int16,Int32,Int8}</b>) at <a href=\"https://github.com/JuliaLang/julia/tree/2ac304dfba75fad148d4070ef4f8a2e400c305bb/base/gmp.jl#L332\" target=\"_blank\">gmp.jl:332</a><li> *(c::<b>Union{Int16,Int32,Int8}</b>, x::<b>BigInt</b>) at <a href=\"https://github.com/JuliaLang/julia/tree/2ac304dfba75fad148d4070ef4f8a2e400c305bb/base/gmp.jl#L336\" target=\"_blank\">gmp.jl:336</a><li> *(x::<b>BigFloat</b>, y::<b>BigFloat</b>) at <a href=\"https://github.com/JuliaLang/julia/tree/2ac304dfba75fad148d4070ef4f8a2e400c305bb/base/mpfr.jl#L208\" target=\"_blank\">mpfr.jl:208</a><li> *(x::<b>BigFloat</b>, c::<b>Union{UInt16,UInt32,UInt8}</b>) at <a href=\"https://github.com/JuliaLang/julia/tree/2ac304dfba75fad148d4070ef4f8a2e400c305bb/base/mpfr.jl#L215\" target=\"_blank\">mpfr.jl:215</a><li> *(c::<b>Union{UInt16,UInt32,UInt8}</b>, x::<b>BigFloat</b>) at <a href=\"https://github.com/JuliaLang/julia/tree/2ac304dfba75fad148d4070ef4f8a2e400c305bb/base/mpfr.jl#L219\" target=\"_blank\">mpfr.jl:219</a><li> *(x::<b>BigFloat</b>, c::<b>Union{Int16,Int32,Int8}</b>) at <a href=\"https://github.com/JuliaLang/julia/tree/2ac304dfba75fad148d4070ef4f8a2e400c305bb/base/mpfr.jl#L223\" target=\"_blank\">mpfr.jl:223</a><li> *(c::<b>Union{Int16,Int32,Int8}</b>, x::<b>BigFloat</b>) at <a href=\"https://github.com/JuliaLang/julia/tree/2ac304dfba75fad148d4070ef4f8a2e400c305bb/base/mpfr.jl#L227\" target=\"_blank\">mpfr.jl:227</a><li> *(x::<b>BigFloat</b>, c::<b>Union{Float16,Float32,Float64}</b>) at <a href=\"https://github.com/JuliaLang/julia/tree/2ac304dfba75fad148d4070ef4f8a2e400c305bb/base/mpfr.jl#L231\" target=\"_blank\">mpfr.jl:231</a><li> *(c::<b>Union{Float16,Float32,Float64}</b>, x::<b>BigFloat</b>) at <a href=\"https://github.com/JuliaLang/julia/tree/2ac304dfba75fad148d4070ef4f8a2e400c305bb/base/mpfr.jl#L235\" target=\"_blank\">mpfr.jl:235</a><li> *(x::<b>BigFloat</b>, c::<b>BigInt</b>) at <a href=\"https://github.com/JuliaLang/julia/tree/2ac304dfba75fad148d4070ef4f8a2e400c305bb/base/mpfr.jl#L239\" target=\"_blank\">mpfr.jl:239</a><li> *(c::<b>BigInt</b>, x::<b>BigFloat</b>) at <a href=\"https://github.com/JuliaLang/julia/tree/2ac304dfba75fad148d4070ef4f8a2e400c305bb/base/mpfr.jl#L243\" target=\"_blank\">mpfr.jl:243</a><li> *(a::<b>BigFloat</b>, b::<b>BigFloat</b>, c::<b>BigFloat</b>) at <a href=\"https://github.com/JuliaLang/julia/tree/2ac304dfba75fad148d4070ef4f8a2e400c305bb/base/mpfr.jl#L379\" target=\"_blank\">mpfr.jl:379</a><li> *(a::<b>BigFloat</b>, b::<b>BigFloat</b>, c::<b>BigFloat</b>, d::<b>BigFloat</b>) at <a href=\"https://github.com/JuliaLang/julia/tree/2ac304dfba75fad148d4070ef4f8a2e400c305bb/base/mpfr.jl#L385\" target=\"_blank\">mpfr.jl:385</a><li> *(a::<b>BigFloat</b>, b::<b>BigFloat</b>, c::<b>BigFloat</b>, d::<b>BigFloat</b>, e::<b>BigFloat</b>) at <a href=\"https://github.com/JuliaLang/julia/tree/2ac304dfba75fad148d4070ef4f8a2e400c305bb/base/mpfr.jl#L392\" target=\"_blank\">mpfr.jl:392</a><li> *<i>{T<:Number}</i>(x::<b>T<:Number</b>, D::<b>Diagonal{T}</b>) at <a href=\"https://github.com/JuliaLang/julia/tree/2ac304dfba75fad148d4070ef4f8a2e400c305bb/base/linalg/diagonal.jl#L89\" target=\"_blank\">linalg/diagonal.jl:89</a><li> *(x::<b>Irrational{sym}</b>, y::<b>Irrational{sym}</b>) at <a href=\"https://github.com/JuliaLang/julia/tree/2ac304dfba75fad148d4070ef4f8a2e400c305bb/base/irrationals.jl#L72\" target=\"_blank\">irrationals.jl:72</a><li> *(y::<b>Real</b>, x::<b>Base.Dates.Period</b>) at <a href=\"https://github.com/JuliaLang/julia/tree/2ac304dfba75fad148d4070ef4f8a2e400c305bb/base/dates/periods.jl#L55\" target=\"_blank\">dates/periods.jl:55</a><li> *(x::<b>Number</b>) at <a href=\"https://github.com/JuliaLang/julia/tree/2ac304dfba75fad148d4070ef4f8a2e400c305bb/base/operators.jl#L74\" target=\"_blank\">operators.jl:74</a><li> *(y::<b>Number</b>, x::<b>Bool</b>) at <a href=\"https://github.com/JuliaLang/julia/tree/2ac304dfba75fad148d4070ef4f8a2e400c305bb/base/bool.jl#L55\" target=\"_blank\">bool.jl:55</a><li> *(x::<b>Int8</b>, y::<b>Int8</b>) at <a href=\"https://github.com/JuliaLang/julia/tree/2ac304dfba75fad148d4070ef4f8a2e400c305bb/base/int.jl#L19\" target=\"_blank\">int.jl:19</a><li> *(x::<b>UInt8</b>, y::<b>UInt8</b>) at <a href=\"https://github.com/JuliaLang/julia/tree/2ac304dfba75fad148d4070ef4f8a2e400c305bb/base/int.jl#L19\" target=\"_blank\">int.jl:19</a><li> *(x::<b>Int16</b>, y::<b>Int16</b>) at <a href=\"https://github.com/JuliaLang/julia/tree/2ac304dfba75fad148d4070ef4f8a2e400c305bb/base/int.jl#L19\" target=\"_blank\">int.jl:19</a><li> *(x::<b>UInt16</b>, y::<b>UInt16</b>) at <a href=\"https://github.com/JuliaLang/julia/tree/2ac304dfba75fad148d4070ef4f8a2e400c305bb/base/int.jl#L19\" target=\"_blank\">int.jl:19</a><li> *(x::<b>Int32</b>, y::<b>Int32</b>) at <a href=\"https://github.com/JuliaLang/julia/tree/2ac304dfba75fad148d4070ef4f8a2e400c305bb/base/int.jl#L19\" target=\"_blank\">int.jl:19</a><li> *(x::<b>UInt32</b>, y::<b>UInt32</b>) at <a href=\"https://github.com/JuliaLang/julia/tree/2ac304dfba75fad148d4070ef4f8a2e400c305bb/base/int.jl#L19\" target=\"_blank\">int.jl:19</a><li> *(x::<b>Int64</b>, y::<b>Int64</b>) at <a href=\"https://github.com/JuliaLang/julia/tree/2ac304dfba75fad148d4070ef4f8a2e400c305bb/base/int.jl#L19\" target=\"_blank\">int.jl:19</a><li> *(x::<b>UInt64</b>, y::<b>UInt64</b>) at <a href=\"https://github.com/JuliaLang/julia/tree/2ac304dfba75fad148d4070ef4f8a2e400c305bb/base/int.jl#L19\" target=\"_blank\">int.jl:19</a><li> *(x::<b>Int128</b>, y::<b>Int128</b>) at <a href=\"https://github.com/JuliaLang/julia/tree/2ac304dfba75fad148d4070ef4f8a2e400c305bb/base/int.jl#L456\" target=\"_blank\">int.jl:456</a><li> *(x::<b>UInt128</b>, y::<b>UInt128</b>) at <a href=\"https://github.com/JuliaLang/julia/tree/2ac304dfba75fad148d4070ef4f8a2e400c305bb/base/int.jl#L457\" target=\"_blank\">int.jl:457</a><li> *<i>{T<:Number}</i>(x::<b>T<:Number</b>, y::<b>T<:Number</b>) at <a href=\"https://github.com/JuliaLang/julia/tree/2ac304dfba75fad148d4070ef4f8a2e400c305bb/base/promotion.jl#L212\" target=\"_blank\">promotion.jl:212</a><li> *(x::<b>Number</b>, y::<b>Number</b>) at <a href=\"https://github.com/JuliaLang/julia/tree/2ac304dfba75fad148d4070ef4f8a2e400c305bb/base/promotion.jl#L168\" target=\"_blank\">promotion.jl:168</a><li> *<i>{T<:Union{Complex{Float32},Complex{Float64},Float32,Float64},S}</i>(A::<b>Union{DenseArray{T<:Union{Complex{Float32},Complex{Float64},Float32,Float64},2},SubArray{T<:Union{Complex{Float32},Complex{Float64},Float32,Float64},2,A<:DenseArray{T,N},I<:Tuple{Vararg{Union{Colon,Int64,Range{Int64}}}},LD}}</b>, x::<b>Union{DenseArray{S,1},SubArray{S,1,A<:DenseArray{T,N},I<:Tuple{Vararg{Union{Colon,Int64,Range{Int64}}}},LD}}</b>) at <a href=\"https://github.com/JuliaLang/julia/tree/2ac304dfba75fad148d4070ef4f8a2e400c305bb/base/linalg/matmul.jl#L82\" target=\"_blank\">linalg/matmul.jl:82</a><li> *(A::<b>SymTridiagonal{T}</b>, B::<b>Number</b>) at <a href=\"https://github.com/JuliaLang/julia/tree/2ac304dfba75fad148d4070ef4f8a2e400c305bb/base/linalg/tridiag.jl#L86\" target=\"_blank\">linalg/tridiag.jl:86</a><li> *(A::<b>Tridiagonal{T}</b>, B::<b>Number</b>) at <a href=\"https://github.com/JuliaLang/julia/tree/2ac304dfba75fad148d4070ef4f8a2e400c305bb/base/linalg/tridiag.jl#L406\" target=\"_blank\">linalg/tridiag.jl:406</a><li> *(A::<b>UpperTriangular{T,S<:AbstractArray{T,2}}</b>, x::<b>Number</b>) at <a href=\"https://github.com/JuliaLang/julia/tree/2ac304dfba75fad148d4070ef4f8a2e400c305bb/base/linalg/triangular.jl#L454\" target=\"_blank\">linalg/triangular.jl:454</a><li> *(A::<b>Base.LinAlg.UnitUpperTriangular{T,S<:AbstractArray{T,2}}</b>, x::<b>Number</b>) at <a href=\"https://github.com/JuliaLang/julia/tree/2ac304dfba75fad148d4070ef4f8a2e400c305bb/base/linalg/triangular.jl#L457\" target=\"_blank\">linalg/triangular.jl:457</a><li> *(A::<b>LowerTriangular{T,S<:AbstractArray{T,2}}</b>, x::<b>Number</b>) at <a href=\"https://github.com/JuliaLang/julia/tree/2ac304dfba75fad148d4070ef4f8a2e400c305bb/base/linalg/triangular.jl#L454\" target=\"_blank\">linalg/triangular.jl:454</a><li> *(A::<b>Base.LinAlg.UnitLowerTriangular{T,S<:AbstractArray{T,2}}</b>, x::<b>Number</b>) at <a href=\"https://github.com/JuliaLang/julia/tree/2ac304dfba75fad148d4070ef4f8a2e400c305bb/base/linalg/triangular.jl#L457\" target=\"_blank\">linalg/triangular.jl:457</a><li> *(A::<b>Tridiagonal{T}</b>, B::<b>UpperTriangular{T,S<:AbstractArray{T,2}}</b>) at <a href=\"https://github.com/JuliaLang/julia/tree/2ac304dfba75fad148d4070ef4f8a2e400c305bb/base/linalg/triangular.jl#L969\" target=\"_blank\">linalg/triangular.jl:969</a><li> *(A::<b>Tridiagonal{T}</b>, B::<b>Base.LinAlg.UnitUpperTriangular{T,S<:AbstractArray{T,2}}</b>) at <a href=\"https://github.com/JuliaLang/julia/tree/2ac304dfba75fad148d4070ef4f8a2e400c305bb/base/linalg/triangular.jl#L969\" target=\"_blank\">linalg/triangular.jl:969</a><li> *(A::<b>Tridiagonal{T}</b>, B::<b>LowerTriangular{T,S<:AbstractArray{T,2}}</b>) at <a href=\"https://github.com/JuliaLang/julia/tree/2ac304dfba75fad148d4070ef4f8a2e400c305bb/base/linalg/triangular.jl#L969\" target=\"_blank\">linalg/triangular.jl:969</a><li> *(A::<b>Tridiagonal{T}</b>, B::<b>Base.LinAlg.UnitLowerTriangular{T,S<:AbstractArray{T,2}}</b>) at <a href=\"https://github.com/JuliaLang/julia/tree/2ac304dfba75fad148d4070ef4f8a2e400c305bb/base/linalg/triangular.jl#L969\" target=\"_blank\">linalg/triangular.jl:969</a><li> *(A::<b>Base.LinAlg.AbstractTriangular{T,S<:AbstractArray{T,2}}</b>, B::<b>Base.LinAlg.AbstractTriangular{T,S<:AbstractArray{T,2}}</b>) at <a href=\"https://github.com/JuliaLang/julia/tree/2ac304dfba75fad148d4070ef4f8a2e400c305bb/base/linalg/triangular.jl#L975\" target=\"_blank\">linalg/triangular.jl:975</a><li> *<i>{TA,TB}</i>(A::<b>Base.LinAlg.AbstractTriangular{TA,S<:AbstractArray{T,2}}</b>, B::<b>Union{DenseArray{TB,1},DenseArray{TB,2},SubArray{TB,1,A<:DenseArray{T,N},I<:Tuple{Vararg{Union{Colon,Int64,Range{Int64}}}},LD},SubArray{TB,2,A<:DenseArray{T,N},I<:Tuple{Vararg{Union{Colon,Int64,Range{Int64}}}},LD}}</b>) at <a href=\"https://github.com/JuliaLang/julia/tree/2ac304dfba75fad148d4070ef4f8a2e400c305bb/base/linalg/triangular.jl#L989\" target=\"_blank\">linalg/triangular.jl:989</a><li> *<i>{TA,TB}</i>(A::<b>Union{DenseArray{TA,1},DenseArray{TA,2},SubArray{TA,1,A<:DenseArray{T,N},I<:Tuple{Vararg{Union{Colon,Int64,Range{Int64}}}},LD},SubArray{TA,2,A<:DenseArray{T,N},I<:Tuple{Vararg{Union{Colon,Int64,Range{Int64}}}},LD}}</b>, B::<b>Base.LinAlg.AbstractTriangular{TB,S<:AbstractArray{T,2}}</b>) at <a href=\"https://github.com/JuliaLang/julia/tree/2ac304dfba75fad148d4070ef4f8a2e400c305bb/base/linalg/triangular.jl#L1016\" target=\"_blank\">linalg/triangular.jl:1016</a><li> *<i>{TA,Tb}</i>(A::<b>Union{Base.LinAlg.QRCompactWYQ{TA,M<:AbstractArray{T,2}},Base.LinAlg.QRPackedQ{TA,S<:AbstractArray{T,2}}}</b>, b::<b>Union{DenseArray{Tb,1},SubArray{Tb,1,A<:DenseArray{T,N},I<:Tuple{Vararg{Union{Colon,Int64,Range{Int64}}}},LD}}</b>) at <a href=\"https://github.com/JuliaLang/julia/tree/2ac304dfba75fad148d4070ef4f8a2e400c305bb/base/linalg/qr.jl#L166\" target=\"_blank\">linalg/qr.jl:166</a><li> *<i>{TA,TB}</i>(A::<b>Union{Base.LinAlg.QRCompactWYQ{TA,M<:AbstractArray{T,2}},Base.LinAlg.QRPackedQ{TA,S<:AbstractArray{T,2}}}</b>, B::<b>Union{DenseArray{TB,2},SubArray{TB,2,A<:DenseArray{T,N},I<:Tuple{Vararg{Union{Colon,Int64,Range{Int64}}}},LD}}</b>) at <a href=\"https://github.com/JuliaLang/julia/tree/2ac304dfba75fad148d4070ef4f8a2e400c305bb/base/linalg/qr.jl#L178\" target=\"_blank\">linalg/qr.jl:178</a><li> *<i>{TA,TQ,N}</i>(A::<b>Union{DenseArray{TA,N},SubArray{TA,N,A<:DenseArray{T,N},I<:Tuple{Vararg{Union{Colon,Int64,Range{Int64}}}},LD}}</b>, Q::<b>Union{Base.LinAlg.QRCompactWYQ{TQ,M<:AbstractArray{T,2}},Base.LinAlg.QRPackedQ{TQ,S<:AbstractArray{T,2}}}</b>) at <a href=\"https://github.com/JuliaLang/julia/tree/2ac304dfba75fad148d4070ef4f8a2e400c305bb/base/linalg/qr.jl#L253\" target=\"_blank\">linalg/qr.jl:253</a><li> *(A::<b>Union{Hermitian{T,S},Symmetric{T,S}}</b>, B::<b>Union{Hermitian{T,S},Symmetric{T,S}}</b>) at <a href=\"https://github.com/JuliaLang/julia/tree/2ac304dfba75fad148d4070ef4f8a2e400c305bb/base/linalg/symmetric.jl#L117\" target=\"_blank\">linalg/symmetric.jl:117</a><li> *(A::<b>Union{DenseArray{T,2},SubArray{T,2,A<:DenseArray{T,N},I<:Tuple{Vararg{Union{Colon,Int64,Range{Int64}}}},LD}}</b>, B::<b>Union{Hermitian{T,S},Symmetric{T,S}}</b>) at <a href=\"https://github.com/JuliaLang/julia/tree/2ac304dfba75fad148d4070ef4f8a2e400c305bb/base/linalg/symmetric.jl#L118\" target=\"_blank\">linalg/symmetric.jl:118</a><li> *<i>{T<:Number}</i>(D::<b>Diagonal{T}</b>, x::<b>T<:Number</b>) at <a href=\"https://github.com/JuliaLang/julia/tree/2ac304dfba75fad148d4070ef4f8a2e400c305bb/base/linalg/diagonal.jl#L90\" target=\"_blank\">linalg/diagonal.jl:90</a><li> *(Da::<b>Diagonal{T}</b>, Db::<b>Diagonal{T}</b>) at <a href=\"https://github.com/JuliaLang/julia/tree/2ac304dfba75fad148d4070ef4f8a2e400c305bb/base/linalg/diagonal.jl#L92\" target=\"_blank\">linalg/diagonal.jl:92</a><li> *(D::<b>Diagonal{T}</b>, V::<b>Array{T,1}</b>) at <a href=\"https://github.com/JuliaLang/julia/tree/2ac304dfba75fad148d4070ef4f8a2e400c305bb/base/linalg/diagonal.jl#L93\" target=\"_blank\">linalg/diagonal.jl:93</a><li> *(A::<b>Array{T,2}</b>, D::<b>Diagonal{T}</b>) at <a href=\"https://github.com/JuliaLang/julia/tree/2ac304dfba75fad148d4070ef4f8a2e400c305bb/base/linalg/diagonal.jl#L94\" target=\"_blank\">linalg/diagonal.jl:94</a><li> *(D::<b>Diagonal{T}</b>, A::<b>Array{T,2}</b>) at <a href=\"https://github.com/JuliaLang/julia/tree/2ac304dfba75fad148d4070ef4f8a2e400c305bb/base/linalg/diagonal.jl#L95\" target=\"_blank\">linalg/diagonal.jl:95</a><li> *(A::<b>Bidiagonal{T}</b>, B::<b>Number</b>) at <a href=\"https://github.com/JuliaLang/julia/tree/2ac304dfba75fad148d4070ef4f8a2e400c305bb/base/linalg/bidiag.jl#L192\" target=\"_blank\">linalg/bidiag.jl:192</a><li> *(A::<b>Union{Base.LinAlg.AbstractTriangular{T,S<:AbstractArray{T,2}},Bidiagonal{T},Diagonal{T},SymTridiagonal{T},Tridiagonal{T}}</b>, B::<b>Union{Base.LinAlg.AbstractTriangular{T,S<:AbstractArray{T,2}},Bidiagonal{T},Diagonal{T},SymTridiagonal{T},Tridiagonal{T}}</b>) at <a href=\"https://github.com/JuliaLang/julia/tree/2ac304dfba75fad148d4070ef4f8a2e400c305bb/base/linalg/bidiag.jl#L198\" target=\"_blank\">linalg/bidiag.jl:198</a><li> *<i>{T}</i>(A::<b>Bidiagonal{T}</b>, B::<b>AbstractArray{T,1}</b>) at <a href=\"https://github.com/JuliaLang/julia/tree/2ac304dfba75fad148d4070ef4f8a2e400c305bb/base/linalg/bidiag.jl#L202\" target=\"_blank\">linalg/bidiag.jl:202</a><li> *(B::<b>BitArray{2}</b>, J::<b>UniformScaling{T<:Number}</b>) at <a href=\"https://github.com/JuliaLang/julia/tree/2ac304dfba75fad148d4070ef4f8a2e400c305bb/base/linalg/uniformscaling.jl#L122\" target=\"_blank\">linalg/uniformscaling.jl:122</a><li> *<i>{T,S}</i>(s::<b>Base.LinAlg.SVDOperator{T,S}</b>, v::<b>Array{T,1}</b>) at <a href=\"https://github.com/JuliaLang/julia/tree/2ac304dfba75fad148d4070ef4f8a2e400c305bb/base/linalg/arnoldi.jl#L261\" target=\"_blank\">linalg/arnoldi.jl:261</a><li> *(S::<b>SparseMatrixCSC{Tv,Ti<:Integer}</b>, J::<b>UniformScaling{T<:Number}</b>) at <a href=\"https://github.com/JuliaLang/julia/tree/2ac304dfba75fad148d4070ef4f8a2e400c305bb/base/sparse/linalg.jl#L23\" target=\"_blank\">sparse/linalg.jl:23</a><li> *<i>{Tv,Ti}</i>(A::<b>SparseMatrixCSC{Tv,Ti}</b>, B::<b>SparseMatrixCSC{Tv,Ti}</b>) at <a href=\"https://github.com/JuliaLang/julia/tree/2ac304dfba75fad148d4070ef4f8a2e400c305bb/base/sparse/linalg.jl#L108\" target=\"_blank\">sparse/linalg.jl:108</a><li> *<i>{TvA,TiA,TvB,TiB}</i>(A::<b>SparseMatrixCSC{TvA,TiA}</b>, B::<b>SparseMatrixCSC{TvB,TiB}</b>) at <a href=\"https://github.com/JuliaLang/julia/tree/2ac304dfba75fad148d4070ef4f8a2e400c305bb/base/sparse/linalg.jl#L29\" target=\"_blank\">sparse/linalg.jl:29</a><li> *<i>{TX,TvA,TiA}</i>(X::<b>Union{DenseArray{TX,2},SubArray{TX,2,A<:DenseArray{T,N},I<:Tuple{Vararg{Union{Colon,Int64,Range{Int64}}}},LD}}</b>, A::<b>SparseMatrixCSC{TvA,TiA}</b>) at <a href=\"https://github.com/JuliaLang/julia/tree/2ac304dfba75fad148d4070ef4f8a2e400c305bb/base/sparse/linalg.jl#L94\" target=\"_blank\">sparse/linalg.jl:94</a><li> *(A::<b>Base.SparseMatrix.CHOLMOD.Sparse{Tv<:Union{Complex{Float64},Float64}}</b>, B::<b>Base.SparseMatrix.CHOLMOD.Sparse{Tv<:Union{Complex{Float64},Float64}}</b>) at <a href=\"https://github.com/JuliaLang/julia/tree/2ac304dfba75fad148d4070ef4f8a2e400c305bb/base/sparse/cholmod.jl#L1157\" target=\"_blank\">sparse/cholmod.jl:1157</a><li> *(A::<b>Base.SparseMatrix.CHOLMOD.Sparse{Tv<:Union{Complex{Float64},Float64}}</b>, B::<b>Base.SparseMatrix.CHOLMOD.Dense{T<:Union{Complex{Float64},Float64}}</b>) at <a href=\"https://github.com/JuliaLang/julia/tree/2ac304dfba75fad148d4070ef4f8a2e400c305bb/base/sparse/cholmod.jl#L1158\" target=\"_blank\">sparse/cholmod.jl:1158</a><li> *(A::<b>Base.SparseMatrix.CHOLMOD.Sparse{Tv<:Union{Complex{Float64},Float64}}</b>, B::<b>Union{Array{T,1},Array{T,2}}</b>) at <a href=\"https://github.com/JuliaLang/julia/tree/2ac304dfba75fad148d4070ef4f8a2e400c305bb/base/sparse/cholmod.jl#L1159\" target=\"_blank\">sparse/cholmod.jl:1159</a><li> *<i>{Ti}</i>(A::<b>Symmetric{Float64,SparseMatrixCSC{Float64,Ti}}</b>, B::<b>SparseMatrixCSC{Float64,Ti}</b>) at <a href=\"https://github.com/JuliaLang/julia/tree/2ac304dfba75fad148d4070ef4f8a2e400c305bb/base/sparse/cholmod.jl#L1418\" target=\"_blank\">sparse/cholmod.jl:1418</a><li> *<i>{Ti}</i>(A::<b>Hermitian{Complex{Float64},SparseMatrixCSC{Complex{Float64},Ti}}</b>, B::<b>SparseMatrixCSC{Complex{Float64},Ti}</b>) at <a href=\"https://github.com/JuliaLang/julia/tree/2ac304dfba75fad148d4070ef4f8a2e400c305bb/base/sparse/cholmod.jl#L1419\" target=\"_blank\">sparse/cholmod.jl:1419</a><li> *<i>{T<:Number}</i>(x::<b>AbstractArray{T<:Number,2}</b>) at <a href=\"https://github.com/JuliaLang/julia/tree/2ac304dfba75fad148d4070ef4f8a2e400c305bb/base/abstractarraymath.jl#L50\" target=\"_blank\">abstractarraymath.jl:50</a><li> *(B::<b>Number</b>, A::<b>SymTridiagonal{T}</b>) at <a href=\"https://github.com/JuliaLang/julia/tree/2ac304dfba75fad148d4070ef4f8a2e400c305bb/base/linalg/tridiag.jl#L87\" target=\"_blank\">linalg/tridiag.jl:87</a><li> *(B::<b>Number</b>, A::<b>Tridiagonal{T}</b>) at <a href=\"https://github.com/JuliaLang/julia/tree/2ac304dfba75fad148d4070ef4f8a2e400c305bb/base/linalg/tridiag.jl#L407\" target=\"_blank\">linalg/tridiag.jl:407</a><li> *(x::<b>Number</b>, A::<b>UpperTriangular{T,S<:AbstractArray{T,2}}</b>) at <a href=\"https://github.com/JuliaLang/julia/tree/2ac304dfba75fad148d4070ef4f8a2e400c305bb/base/linalg/triangular.jl#L464\" target=\"_blank\">linalg/triangular.jl:464</a><li> *(x::<b>Number</b>, A::<b>Base.LinAlg.UnitUpperTriangular{T,S<:AbstractArray{T,2}}</b>) at <a href=\"https://github.com/JuliaLang/julia/tree/2ac304dfba75fad148d4070ef4f8a2e400c305bb/base/linalg/triangular.jl#L467\" target=\"_blank\">linalg/triangular.jl:467</a><li> *(x::<b>Number</b>, A::<b>LowerTriangular{T,S<:AbstractArray{T,2}}</b>) at <a href=\"https://github.com/JuliaLang/julia/tree/2ac304dfba75fad148d4070ef4f8a2e400c305bb/base/linalg/triangular.jl#L464\" target=\"_blank\">linalg/triangular.jl:464</a><li> *(x::<b>Number</b>, A::<b>Base.LinAlg.UnitLowerTriangular{T,S<:AbstractArray{T,2}}</b>) at <a href=\"https://github.com/JuliaLang/julia/tree/2ac304dfba75fad148d4070ef4f8a2e400c305bb/base/linalg/triangular.jl#L467\" target=\"_blank\">linalg/triangular.jl:467</a><li> *(B::<b>Number</b>, A::<b>Bidiagonal{T}</b>) at <a href=\"https://github.com/JuliaLang/julia/tree/2ac304dfba75fad148d4070ef4f8a2e400c305bb/base/linalg/bidiag.jl#L193\" target=\"_blank\">linalg/bidiag.jl:193</a><li> *(A::<b>Number</b>, B::<b>AbstractArray{T,N}</b>) at <a href=\"https://github.com/JuliaLang/julia/tree/2ac304dfba75fad148d4070ef4f8a2e400c305bb/base/abstractarraymath.jl#L54\" target=\"_blank\">abstractarraymath.jl:54</a><li> *(A::<b>AbstractArray{T,N}</b>, B::<b>Number</b>) at <a href=\"https://github.com/JuliaLang/julia/tree/2ac304dfba75fad148d4070ef4f8a2e400c305bb/base/abstractarraymath.jl#L55\" target=\"_blank\">abstractarraymath.jl:55</a><li> *(s1::<b>AbstractString</b>, ss::<b>AbstractString...</b>) at <a href=\"https://github.com/JuliaLang/julia/tree/2ac304dfba75fad148d4070ef4f8a2e400c305bb/base/strings/basic.jl#L50\" target=\"_blank\">strings/basic.jl:50</a><li> *(this::<b>Base.Grisu.Float</b>, other::<b>Base.Grisu.Float</b>) at <a href=\"https://github.com/JuliaLang/julia/tree/2ac304dfba75fad148d4070ef4f8a2e400c305bb/base/grisu/float.jl#L138\" target=\"_blank\">grisu/float.jl:138</a><li> *(index::<b>CartesianIndex{N}</b>, a::<b>Integer</b>) at <a href=\"https://github.com/JuliaLang/julia/tree/2ac304dfba75fad148d4070ef4f8a2e400c305bb/base/multidimensional.jl#L54\" target=\"_blank\">multidimensional.jl:54</a><li> *<i>{T,S}</i>(A::<b>AbstractArray{T,2}</b>, B::<b>Union{DenseArray{S,2},SubArray{S,2,A<:DenseArray{T,N},I<:Tuple{Vararg{Union{Colon,Int64,Range{Int64}}}},LD}}</b>) at <a href=\"https://github.com/JuliaLang/julia/tree/2ac304dfba75fad148d4070ef4f8a2e400c305bb/base/linalg/matmul.jl#L131\" target=\"_blank\">linalg/matmul.jl:131</a><li> *<i>{T,S}</i>(A::<b>AbstractArray{T,2}</b>, x::<b>AbstractArray{S,1}</b>) at <a href=\"https://github.com/JuliaLang/julia/tree/2ac304dfba75fad148d4070ef4f8a2e400c305bb/base/linalg/matmul.jl#L86\" target=\"_blank\">linalg/matmul.jl:86</a><li> *(A::<b>AbstractArray{T,1}</b>, B::<b>AbstractArray{T,2}</b>) at <a href=\"https://github.com/JuliaLang/julia/tree/2ac304dfba75fad148d4070ef4f8a2e400c305bb/base/linalg/matmul.jl#L89\" target=\"_blank\">linalg/matmul.jl:89</a><li> *(J1::<b>UniformScaling{T<:Number}</b>, J2::<b>UniformScaling{T<:Number}</b>) at <a href=\"https://github.com/JuliaLang/julia/tree/2ac304dfba75fad148d4070ef4f8a2e400c305bb/base/linalg/uniformscaling.jl#L121\" target=\"_blank\">linalg/uniformscaling.jl:121</a><li> *(J::<b>UniformScaling{T<:Number}</b>, B::<b>BitArray{2}</b>) at <a href=\"https://github.com/JuliaLang/julia/tree/2ac304dfba75fad148d4070ef4f8a2e400c305bb/base/linalg/uniformscaling.jl#L123\" target=\"_blank\">linalg/uniformscaling.jl:123</a><li> *(A::<b>AbstractArray{T,2}</b>, J::<b>UniformScaling{T<:Number}</b>) at <a href=\"https://github.com/JuliaLang/julia/tree/2ac304dfba75fad148d4070ef4f8a2e400c305bb/base/linalg/uniformscaling.jl#L124\" target=\"_blank\">linalg/uniformscaling.jl:124</a><li> *<i>{Tv,Ti}</i>(J::<b>UniformScaling{T<:Number}</b>, S::<b>SparseMatrixCSC{Tv,Ti}</b>) at <a href=\"https://github.com/JuliaLang/julia/tree/2ac304dfba75fad148d4070ef4f8a2e400c305bb/base/sparse/linalg.jl#L24\" target=\"_blank\">sparse/linalg.jl:24</a><li> *(J::<b>UniformScaling{T<:Number}</b>, A::<b>Union{AbstractArray{T,1},AbstractArray{T,2}}</b>) at <a href=\"https://github.com/JuliaLang/julia/tree/2ac304dfba75fad148d4070ef4f8a2e400c305bb/base/linalg/uniformscaling.jl#L125\" target=\"_blank\">linalg/uniformscaling.jl:125</a><li> *(x::<b>Number</b>, J::<b>UniformScaling{T<:Number}</b>) at <a href=\"https://github.com/JuliaLang/julia/tree/2ac304dfba75fad148d4070ef4f8a2e400c305bb/base/linalg/uniformscaling.jl#L127\" target=\"_blank\">linalg/uniformscaling.jl:127</a><li> *(J::<b>UniformScaling{T<:Number}</b>, x::<b>Number</b>) at <a href=\"https://github.com/JuliaLang/julia/tree/2ac304dfba75fad148d4070ef4f8a2e400c305bb/base/linalg/uniformscaling.jl#L128\" target=\"_blank\">linalg/uniformscaling.jl:128</a><li> *<i>{T,S}</i>(R::<b>Base.LinAlg.AbstractRotation{T}</b>, A::<b>Union{AbstractArray{S,1},AbstractArray{S,2}}</b>) at <a href=\"https://github.com/JuliaLang/julia/tree/2ac304dfba75fad148d4070ef4f8a2e400c305bb/base/linalg/givens.jl#L9\" target=\"_blank\">linalg/givens.jl:9</a><li> *<i>{T}</i>(G1::<b>Base.LinAlg.Givens{T}</b>, G2::<b>Base.LinAlg.Givens{T}</b>) at <a href=\"https://github.com/JuliaLang/julia/tree/2ac304dfba75fad148d4070ef4f8a2e400c305bb/base/linalg/givens.jl#L307\" target=\"_blank\">linalg/givens.jl:307</a><li> *(p::<b>Base.DFT.ScaledPlan{T,P,N}</b>, x::<b>AbstractArray{T,N}</b>) at <a href=\"https://github.com/JuliaLang/julia/tree/2ac304dfba75fad148d4070ef4f8a2e400c305bb/base/dft.jl#L262\" target=\"_blank\">dft.jl:262</a><li> *<i>{T,K,N}</i>(p::<b>Base.DFT.FFTW.cFFTWPlan{T,K,false,N}</b>, x::<b>Union{DenseArray{T,N},SubArray{T,N,A<:DenseArray{T,N},I<:Tuple{Vararg{Union{Colon,Int64,Range{Int64}}}},LD}}</b>) at <a href=\"https://github.com/JuliaLang/julia/tree/2ac304dfba75fad148d4070ef4f8a2e400c305bb/base/fft/FFTW.jl#L621\" target=\"_blank\">fft/FFTW.jl:621</a><li> *<i>{T,K}</i>(p::<b>Base.DFT.FFTW.cFFTWPlan{T,K,true,N}</b>, x::<b>Union{DenseArray{T,N},SubArray{T,N,A<:DenseArray{T,N},I<:Tuple{Vararg{Union{Colon,Int64,Range{Int64}}}},LD}}</b>) at <a href=\"https://github.com/JuliaLang/julia/tree/2ac304dfba75fad148d4070ef4f8a2e400c305bb/base/fft/FFTW.jl#L628\" target=\"_blank\">fft/FFTW.jl:628</a><li> *<i>{N}</i>(p::<b>Base.DFT.FFTW.rFFTWPlan{Float32,-1,false,N}</b>, x::<b>Union{DenseArray{Float32,N},SubArray{Float32,N,A<:DenseArray{T,N},I<:Tuple{Vararg{Union{Colon,Int64,Range{Int64}}}},LD}}</b>) at <a href=\"https://github.com/JuliaLang/julia/tree/2ac304dfba75fad148d4070ef4f8a2e400c305bb/base/fft/FFTW.jl#L698\" target=\"_blank\">fft/FFTW.jl:698</a><li> *<i>{N}</i>(p::<b>Base.DFT.FFTW.rFFTWPlan{Complex{Float32},1,false,N}</b>, x::<b>Union{DenseArray{Complex{Float32},N},SubArray{Complex{Float32},N,A<:DenseArray{T,N},I<:Tuple{Vararg{Union{Colon,Int64,Range{Int64}}}},LD}}</b>) at <a href=\"https://github.com/JuliaLang/julia/tree/2ac304dfba75fad148d4070ef4f8a2e400c305bb/base/fft/FFTW.jl#L705\" target=\"_blank\">fft/FFTW.jl:705</a><li> *<i>{N}</i>(p::<b>Base.DFT.FFTW.rFFTWPlan{Float64,-1,false,N}</b>, x::<b>Union{DenseArray{Float64,N},SubArray{Float64,N,A<:DenseArray{T,N},I<:Tuple{Vararg{Union{Colon,Int64,Range{Int64}}}},LD}}</b>) at <a href=\"https://github.com/JuliaLang/julia/tree/2ac304dfba75fad148d4070ef4f8a2e400c305bb/base/fft/FFTW.jl#L698\" target=\"_blank\">fft/FFTW.jl:698</a><li> *<i>{N}</i>(p::<b>Base.DFT.FFTW.rFFTWPlan{Complex{Float64},1,false,N}</b>, x::<b>Union{DenseArray{Complex{Float64},N},SubArray{Complex{Float64},N,A<:DenseArray{T,N},I<:Tuple{Vararg{Union{Colon,Int64,Range{Int64}}}},LD}}</b>) at <a href=\"https://github.com/JuliaLang/julia/tree/2ac304dfba75fad148d4070ef4f8a2e400c305bb/base/fft/FFTW.jl#L705\" target=\"_blank\">fft/FFTW.jl:705</a><li> *<i>{T,K,N}</i>(p::<b>Base.DFT.FFTW.r2rFFTWPlan{T,K,false,N}</b>, x::<b>Union{DenseArray{T,N},SubArray{T,N,A<:DenseArray{T,N},I<:Tuple{Vararg{Union{Colon,Int64,Range{Int64}}}},LD}}</b>) at <a href=\"https://github.com/JuliaLang/julia/tree/2ac304dfba75fad148d4070ef4f8a2e400c305bb/base/fft/FFTW.jl#L866\" target=\"_blank\">fft/FFTW.jl:866</a><li> *<i>{T,K}</i>(p::<b>Base.DFT.FFTW.r2rFFTWPlan{T,K,true,N}</b>, x::<b>Union{DenseArray{T,N},SubArray{T,N,A<:DenseArray{T,N},I<:Tuple{Vararg{Union{Colon,Int64,Range{Int64}}}},LD}}</b>) at <a href=\"https://github.com/JuliaLang/julia/tree/2ac304dfba75fad148d4070ef4f8a2e400c305bb/base/fft/FFTW.jl#L873\" target=\"_blank\">fft/FFTW.jl:873</a><li> *<i>{T}</i>(p::<b>Base.DFT.FFTW.DCTPlan{T,5,false}</b>, x::<b>Union{DenseArray{T,N},SubArray{T,N,A<:DenseArray{T,N},I<:Tuple{Vararg{Union{Colon,Int64,Range{Int64}}}},LD}}</b>) at <a href=\"https://github.com/JuliaLang/julia/tree/2ac304dfba75fad148d4070ef4f8a2e400c305bb/base/fft\\dct.jl#L188\" target=\"_blank\">fft\\dct.jl:188</a><li> *<i>{T}</i>(p::<b>Base.DFT.FFTW.DCTPlan{T,4,false}</b>, x::<b>Union{DenseArray{T,N},SubArray{T,N,A<:DenseArray{T,N},I<:Tuple{Vararg{Union{Colon,Int64,Range{Int64}}}},LD}}</b>) at <a href=\"https://github.com/JuliaLang/julia/tree/2ac304dfba75fad148d4070ef4f8a2e400c305bb/base/fft\\dct.jl#L191\" target=\"_blank\">fft\\dct.jl:191</a><li> *<i>{T,K}</i>(p::<b>Base.DFT.FFTW.DCTPlan{T,K,true}</b>, x::<b>Union{DenseArray{T,N},SubArray{T,N,A<:DenseArray{T,N},I<:Tuple{Vararg{Union{Colon,Int64,Range{Int64}}}},LD}}</b>) at <a href=\"https://github.com/JuliaLang/julia/tree/2ac304dfba75fad148d4070ef4f8a2e400c305bb/base/fft\\dct.jl#L194\" target=\"_blank\">fft\\dct.jl:194</a><li> *<i>{T}</i>(p::<b>Base.DFT.Plan{T}</b>, x::<b>AbstractArray{T,N}</b>) at <a href=\"https://github.com/JuliaLang/julia/tree/2ac304dfba75fad148d4070ef4f8a2e400c305bb/base/dft.jl#L221\" target=\"_blank\">dft.jl:221</a><li> *(α::<b>Number</b>, p::<b>Base.DFT.Plan{T}</b>) at <a href=\"https://github.com/JuliaLang/julia/tree/2ac304dfba75fad148d4070ef4f8a2e400c305bb/base/dft.jl#L264\" target=\"_blank\">dft.jl:264</a><li> *(p::<b>Base.DFT.Plan{T}</b>, α::<b>Number</b>) at <a href=\"https://github.com/JuliaLang/julia/tree/2ac304dfba75fad148d4070ef4f8a2e400c305bb/base/dft.jl#L265\" target=\"_blank\">dft.jl:265</a><li> *(I::<b>UniformScaling{T<:Number}</b>, p::<b>Base.DFT.ScaledPlan{T,P,N}</b>) at <a href=\"https://github.com/JuliaLang/julia/tree/2ac304dfba75fad148d4070ef4f8a2e400c305bb/base/dft.jl#L266\" target=\"_blank\">dft.jl:266</a><li> *(p::<b>Base.DFT.ScaledPlan{T,P,N}</b>, I::<b>UniformScaling{T<:Number}</b>) at <a href=\"https://github.com/JuliaLang/julia/tree/2ac304dfba75fad148d4070ef4f8a2e400c305bb/base/dft.jl#L267\" target=\"_blank\">dft.jl:267</a><li> *(I::<b>UniformScaling{T<:Number}</b>, p::<b>Base.DFT.Plan{T}</b>) at <a href=\"https://github.com/JuliaLang/julia/tree/2ac304dfba75fad148d4070ef4f8a2e400c305bb/base/dft.jl#L268\" target=\"_blank\">dft.jl:268</a><li> *(p::<b>Base.DFT.Plan{T}</b>, I::<b>UniformScaling{T<:Number}</b>) at <a href=\"https://github.com/JuliaLang/julia/tree/2ac304dfba75fad148d4070ef4f8a2e400c305bb/base/dft.jl#L269\" target=\"_blank\">dft.jl:269</a><li> *<i>{P<:Base.Dates.Period}</i>(x::<b>P<:Base.Dates.Period</b>, y::<b>Real</b>) at <a href=\"https://github.com/JuliaLang/julia/tree/2ac304dfba75fad148d4070ef4f8a2e400c305bb/base/dates/periods.jl#L54\" target=\"_blank\">dates/periods.jl:54</a><li> *(a, b, c, xs...) at <a href=\"https://github.com/JuliaLang/julia/tree/2ac304dfba75fad148d4070ef4f8a2e400c305bb/base/operators.jl#L103\" target=\"_blank\">operators.jl:103</a></ul>"
      ],
      "text/plain": [
       "# 138 methods for generic function \"*\":\n",
       "*(x::Bool, y::Bool) at bool.jl:38\n",
       "*{T<:Unsigned}(x::Bool, y::T<:Unsigned) at bool.jl:53\n",
       "*(x::Bool, z::Complex{Bool}) at complex.jl:122\n",
       "*(x::Bool, z::Complex{T<:Real}) at complex.jl:129\n",
       "*{T<:Number}(x::Bool, y::T<:Number) at bool.jl:49\n",
       "*(x::Float32, y::Float32) at float.jl:211\n",
       "*(x::Float64, y::Float64) at float.jl:212\n",
       "*(z::Complex{T<:Real}, w::Complex{T<:Real}) at complex.jl:113\n",
       "*(z::Complex{Bool}, x::Bool) at complex.jl:123\n",
       "*(z::Complex{T<:Real}, x::Bool) at complex.jl:130\n",
       "*(x::Real, z::Complex{Bool}) at complex.jl:140\n",
       "*(z::Complex{Bool}, x::Real) at complex.jl:141\n",
       "*(x::Real, z::Complex{T<:Real}) at complex.jl:152\n",
       "*(z::Complex{T<:Real}, x::Real) at complex.jl:153\n",
       "*(x::Rational{T<:Integer}, y::Rational{T<:Integer}) at rational.jl:186\n",
       "*(a::Float16, b::Float16) at float16.jl:136\n",
       "*{N}(a::Integer, index::CartesianIndex{N}) at multidimensional.jl:50\n",
       "*(x::BigInt, y::BigInt) at gmp.jl:256\n",
       "*(a::BigInt, b::BigInt, c::BigInt) at gmp.jl:279\n",
       "*(a::BigInt, b::BigInt, c::BigInt, d::BigInt) at gmp.jl:285\n",
       "*(a::BigInt, b::BigInt, c::BigInt, d::BigInt, e::BigInt) at gmp.jl:292\n",
       "*(x::BigInt, c::Union{UInt16,UInt32,UInt8}) at gmp.jl:326\n",
       "*(c::Union{UInt16,UInt32,UInt8}, x::BigInt) at gmp.jl:330\n",
       "*(x::BigInt, c::Union{Int16,Int32,Int8}) at gmp.jl:332\n",
       "*(c::Union{Int16,Int32,Int8}, x::BigInt) at gmp.jl:336\n",
       "*(x::BigFloat, y::BigFloat) at mpfr.jl:208\n",
       "*(x::BigFloat, c::Union{UInt16,UInt32,UInt8}) at mpfr.jl:215\n",
       "*(c::Union{UInt16,UInt32,UInt8}, x::BigFloat) at mpfr.jl:219\n",
       "*(x::BigFloat, c::Union{Int16,Int32,Int8}) at mpfr.jl:223\n",
       "*(c::Union{Int16,Int32,Int8}, x::BigFloat) at mpfr.jl:227\n",
       "*(x::BigFloat, c::Union{Float16,Float32,Float64}) at mpfr.jl:231\n",
       "*(c::Union{Float16,Float32,Float64}, x::BigFloat) at mpfr.jl:235\n",
       "*(x::BigFloat, c::BigInt) at mpfr.jl:239\n",
       "*(c::BigInt, x::BigFloat) at mpfr.jl:243\n",
       "*(a::BigFloat, b::BigFloat, c::BigFloat) at mpfr.jl:379\n",
       "*(a::BigFloat, b::BigFloat, c::BigFloat, d::BigFloat) at mpfr.jl:385\n",
       "*(a::BigFloat, b::BigFloat, c::BigFloat, d::BigFloat, e::BigFloat) at mpfr.jl:392\n",
       "*{T<:Number}(x::T<:Number, D::Diagonal{T}) at linalg/diagonal.jl:89\n",
       "*(x::Irrational{sym}, y::Irrational{sym}) at irrationals.jl:72\n",
       "*(y::Real, x::Base.Dates.Period) at dates/periods.jl:55\n",
       "*(x::Number) at operators.jl:74\n",
       "*(y::Number, x::Bool) at bool.jl:55\n",
       "*(x::Int8, y::Int8) at int.jl:19\n",
       "*(x::UInt8, y::UInt8) at int.jl:19\n",
       "*(x::Int16, y::Int16) at int.jl:19\n",
       "*(x::UInt16, y::UInt16) at int.jl:19\n",
       "*(x::Int32, y::Int32) at int.jl:19\n",
       "*(x::UInt32, y::UInt32) at int.jl:19\n",
       "*(x::Int64, y::Int64) at int.jl:19\n",
       "*(x::UInt64, y::UInt64) at int.jl:19\n",
       "*(x::Int128, y::Int128) at int.jl:456\n",
       "*(x::UInt128, y::UInt128) at int.jl:457\n",
       "*{T<:Number}(x::T<:Number, y::T<:Number) at promotion.jl:212\n",
       "*(x::Number, y::Number) at promotion.jl:168\n",
       "*{T<:Union{Complex{Float32},Complex{Float64},Float32,Float64},S}(A::Union{DenseArray{T<:Union{Complex{Float32},Complex{Float64},Float32,Float64},2},SubArray{T<:Union{Complex{Float32},Complex{Float64},Float32,Float64},2,A<:DenseArray{T,N},I<:Tuple{Vararg{Union{Colon,Int64,Range{Int64}}}},LD}}, x::Union{DenseArray{S,1},SubArray{S,1,A<:DenseArray{T,N},I<:Tuple{Vararg{Union{Colon,Int64,Range{Int64}}}},LD}}) at linalg/matmul.jl:82\n",
       "*(A::SymTridiagonal{T}, B::Number) at linalg/tridiag.jl:86\n",
       "*(A::Tridiagonal{T}, B::Number) at linalg/tridiag.jl:406\n",
       "*(A::UpperTriangular{T,S<:AbstractArray{T,2}}, x::Number) at linalg/triangular.jl:454\n",
       "*(A::Base.LinAlg.UnitUpperTriangular{T,S<:AbstractArray{T,2}}, x::Number) at linalg/triangular.jl:457\n",
       "*(A::LowerTriangular{T,S<:AbstractArray{T,2}}, x::Number) at linalg/triangular.jl:454\n",
       "*(A::Base.LinAlg.UnitLowerTriangular{T,S<:AbstractArray{T,2}}, x::Number) at linalg/triangular.jl:457\n",
       "*(A::Tridiagonal{T}, B::UpperTriangular{T,S<:AbstractArray{T,2}}) at linalg/triangular.jl:969\n",
       "*(A::Tridiagonal{T}, B::Base.LinAlg.UnitUpperTriangular{T,S<:AbstractArray{T,2}}) at linalg/triangular.jl:969\n",
       "*(A::Tridiagonal{T}, B::LowerTriangular{T,S<:AbstractArray{T,2}}) at linalg/triangular.jl:969\n",
       "*(A::Tridiagonal{T}, B::Base.LinAlg.UnitLowerTriangular{T,S<:AbstractArray{T,2}}) at linalg/triangular.jl:969\n",
       "*(A::Base.LinAlg.AbstractTriangular{T,S<:AbstractArray{T,2}}, B::Base.LinAlg.AbstractTriangular{T,S<:AbstractArray{T,2}}) at linalg/triangular.jl:975\n",
       "*{TA,TB}(A::Base.LinAlg.AbstractTriangular{TA,S<:AbstractArray{T,2}}, B::Union{DenseArray{TB,1},DenseArray{TB,2},SubArray{TB,1,A<:DenseArray{T,N},I<:Tuple{Vararg{Union{Colon,Int64,Range{Int64}}}},LD},SubArray{TB,2,A<:DenseArray{T,N},I<:Tuple{Vararg{Union{Colon,Int64,Range{Int64}}}},LD}}) at linalg/triangular.jl:989\n",
       "*{TA,TB}(A::Union{DenseArray{TA,1},DenseArray{TA,2},SubArray{TA,1,A<:DenseArray{T,N},I<:Tuple{Vararg{Union{Colon,Int64,Range{Int64}}}},LD},SubArray{TA,2,A<:DenseArray{T,N},I<:Tuple{Vararg{Union{Colon,Int64,Range{Int64}}}},LD}}, B::Base.LinAlg.AbstractTriangular{TB,S<:AbstractArray{T,2}}) at linalg/triangular.jl:1016\n",
       "*{TA,Tb}(A::Union{Base.LinAlg.QRCompactWYQ{TA,M<:AbstractArray{T,2}},Base.LinAlg.QRPackedQ{TA,S<:AbstractArray{T,2}}}, b::Union{DenseArray{Tb,1},SubArray{Tb,1,A<:DenseArray{T,N},I<:Tuple{Vararg{Union{Colon,Int64,Range{Int64}}}},LD}}) at linalg/qr.jl:166\n",
       "*{TA,TB}(A::Union{Base.LinAlg.QRCompactWYQ{TA,M<:AbstractArray{T,2}},Base.LinAlg.QRPackedQ{TA,S<:AbstractArray{T,2}}}, B::Union{DenseArray{TB,2},SubArray{TB,2,A<:DenseArray{T,N},I<:Tuple{Vararg{Union{Colon,Int64,Range{Int64}}}},LD}}) at linalg/qr.jl:178\n",
       "*{TA,TQ,N}(A::Union{DenseArray{TA,N},SubArray{TA,N,A<:DenseArray{T,N},I<:Tuple{Vararg{Union{Colon,Int64,Range{Int64}}}},LD}}, Q::Union{Base.LinAlg.QRCompactWYQ{TQ,M<:AbstractArray{T,2}},Base.LinAlg.QRPackedQ{TQ,S<:AbstractArray{T,2}}}) at linalg/qr.jl:253\n",
       "*(A::Union{Hermitian{T,S},Symmetric{T,S}}, B::Union{Hermitian{T,S},Symmetric{T,S}}) at linalg/symmetric.jl:117\n",
       "*(A::Union{DenseArray{T,2},SubArray{T,2,A<:DenseArray{T,N},I<:Tuple{Vararg{Union{Colon,Int64,Range{Int64}}}},LD}}, B::Union{Hermitian{T,S},Symmetric{T,S}}) at linalg/symmetric.jl:118\n",
       "*{T<:Number}(D::Diagonal{T}, x::T<:Number) at linalg/diagonal.jl:90\n",
       "*(Da::Diagonal{T}, Db::Diagonal{T}) at linalg/diagonal.jl:92\n",
       "*(D::Diagonal{T}, V::Array{T,1}) at linalg/diagonal.jl:93\n",
       "*(A::Array{T,2}, D::Diagonal{T}) at linalg/diagonal.jl:94\n",
       "*(D::Diagonal{T}, A::Array{T,2}) at linalg/diagonal.jl:95\n",
       "*(A::Bidiagonal{T}, B::Number) at linalg/bidiag.jl:192\n",
       "*(A::Union{Base.LinAlg.AbstractTriangular{T,S<:AbstractArray{T,2}},Bidiagonal{T},Diagonal{T},SymTridiagonal{T},Tridiagonal{T}}, B::Union{Base.LinAlg.AbstractTriangular{T,S<:AbstractArray{T,2}},Bidiagonal{T},Diagonal{T},SymTridiagonal{T},Tridiagonal{T}}) at linalg/bidiag.jl:198\n",
       "*{T}(A::Bidiagonal{T}, B::AbstractArray{T,1}) at linalg/bidiag.jl:202\n",
       "*(B::BitArray{2}, J::UniformScaling{T<:Number}) at linalg/uniformscaling.jl:122\n",
       "*{T,S}(s::Base.LinAlg.SVDOperator{T,S}, v::Array{T,1}) at linalg/arnoldi.jl:261\n",
       "*(S::SparseMatrixCSC{Tv,Ti<:Integer}, J::UniformScaling{T<:Number}) at sparse/linalg.jl:23\n",
       "*{Tv,Ti}(A::SparseMatrixCSC{Tv,Ti}, B::SparseMatrixCSC{Tv,Ti}) at sparse/linalg.jl:108\n",
       "*{TvA,TiA,TvB,TiB}(A::SparseMatrixCSC{TvA,TiA}, B::SparseMatrixCSC{TvB,TiB}) at sparse/linalg.jl:29\n",
       "*{TX,TvA,TiA}(X::Union{DenseArray{TX,2},SubArray{TX,2,A<:DenseArray{T,N},I<:Tuple{Vararg{Union{Colon,Int64,Range{Int64}}}},LD}}, A::SparseMatrixCSC{TvA,TiA}) at sparse/linalg.jl:94\n",
       "*(A::Base.SparseMatrix.CHOLMOD.Sparse{Tv<:Union{Complex{Float64},Float64}}, B::Base.SparseMatrix.CHOLMOD.Sparse{Tv<:Union{Complex{Float64},Float64}}) at sparse/cholmod.jl:1157\n",
       "*(A::Base.SparseMatrix.CHOLMOD.Sparse{Tv<:Union{Complex{Float64},Float64}}, B::Base.SparseMatrix.CHOLMOD.Dense{T<:Union{Complex{Float64},Float64}}) at sparse/cholmod.jl:1158\n",
       "*(A::Base.SparseMatrix.CHOLMOD.Sparse{Tv<:Union{Complex{Float64},Float64}}, B::Union{Array{T,1},Array{T,2}}) at sparse/cholmod.jl:1159\n",
       "*{Ti}(A::Symmetric{Float64,SparseMatrixCSC{Float64,Ti}}, B::SparseMatrixCSC{Float64,Ti}) at sparse/cholmod.jl:1418\n",
       "*{Ti}(A::Hermitian{Complex{Float64},SparseMatrixCSC{Complex{Float64},Ti}}, B::SparseMatrixCSC{Complex{Float64},Ti}) at sparse/cholmod.jl:1419\n",
       "*{T<:Number}(x::AbstractArray{T<:Number,2}) at abstractarraymath.jl:50\n",
       "*(B::Number, A::SymTridiagonal{T}) at linalg/tridiag.jl:87\n",
       "*(B::Number, A::Tridiagonal{T}) at linalg/tridiag.jl:407\n",
       "*(x::Number, A::UpperTriangular{T,S<:AbstractArray{T,2}}) at linalg/triangular.jl:464\n",
       "*(x::Number, A::Base.LinAlg.UnitUpperTriangular{T,S<:AbstractArray{T,2}}) at linalg/triangular.jl:467\n",
       "*(x::Number, A::LowerTriangular{T,S<:AbstractArray{T,2}}) at linalg/triangular.jl:464\n",
       "*(x::Number, A::Base.LinAlg.UnitLowerTriangular{T,S<:AbstractArray{T,2}}) at linalg/triangular.jl:467\n",
       "*(B::Number, A::Bidiagonal{T}) at linalg/bidiag.jl:193\n",
       "*(A::Number, B::AbstractArray{T,N}) at abstractarraymath.jl:54\n",
       "*(A::AbstractArray{T,N}, B::Number) at abstractarraymath.jl:55\n",
       "*(s1::AbstractString, ss::AbstractString...) at strings/basic.jl:50\n",
       "*(this::Base.Grisu.Float, other::Base.Grisu.Float) at grisu/float.jl:138\n",
       "*(index::CartesianIndex{N}, a::Integer) at multidimensional.jl:54\n",
       "*{T,S}(A::AbstractArray{T,2}, B::Union{DenseArray{S,2},SubArray{S,2,A<:DenseArray{T,N},I<:Tuple{Vararg{Union{Colon,Int64,Range{Int64}}}},LD}}) at linalg/matmul.jl:131\n",
       "*{T,S}(A::AbstractArray{T,2}, x::AbstractArray{S,1}) at linalg/matmul.jl:86\n",
       "*(A::AbstractArray{T,1}, B::AbstractArray{T,2}) at linalg/matmul.jl:89\n",
       "*(J1::UniformScaling{T<:Number}, J2::UniformScaling{T<:Number}) at linalg/uniformscaling.jl:121\n",
       "*(J::UniformScaling{T<:Number}, B::BitArray{2}) at linalg/uniformscaling.jl:123\n",
       "*(A::AbstractArray{T,2}, J::UniformScaling{T<:Number}) at linalg/uniformscaling.jl:124\n",
       "*{Tv,Ti}(J::UniformScaling{T<:Number}, S::SparseMatrixCSC{Tv,Ti}) at sparse/linalg.jl:24\n",
       "*(J::UniformScaling{T<:Number}, A::Union{AbstractArray{T,1},AbstractArray{T,2}}) at linalg/uniformscaling.jl:125\n",
       "*(x::Number, J::UniformScaling{T<:Number}) at linalg/uniformscaling.jl:127\n",
       "*(J::UniformScaling{T<:Number}, x::Number) at linalg/uniformscaling.jl:128\n",
       "*{T,S}(R::Base.LinAlg.AbstractRotation{T}, A::Union{AbstractArray{S,1},AbstractArray{S,2}}) at linalg/givens.jl:9\n",
       "*{T}(G1::Base.LinAlg.Givens{T}, G2::Base.LinAlg.Givens{T}) at linalg/givens.jl:307\n",
       "*(p::Base.DFT.ScaledPlan{T,P,N}, x::AbstractArray{T,N}) at dft.jl:262\n",
       "*{T,K,N}(p::Base.DFT.FFTW.cFFTWPlan{T,K,false,N}, x::Union{DenseArray{T,N},SubArray{T,N,A<:DenseArray{T,N},I<:Tuple{Vararg{Union{Colon,Int64,Range{Int64}}}},LD}}) at fft/FFTW.jl:621\n",
       "*{T,K}(p::Base.DFT.FFTW.cFFTWPlan{T,K,true,N}, x::Union{DenseArray{T,N},SubArray{T,N,A<:DenseArray{T,N},I<:Tuple{Vararg{Union{Colon,Int64,Range{Int64}}}},LD}}) at fft/FFTW.jl:628\n",
       "*{N}(p::Base.DFT.FFTW.rFFTWPlan{Float32,-1,false,N}, x::Union{DenseArray{Float32,N},SubArray{Float32,N,A<:DenseArray{T,N},I<:Tuple{Vararg{Union{Colon,Int64,Range{Int64}}}},LD}}) at fft/FFTW.jl:698\n",
       "*{N}(p::Base.DFT.FFTW.rFFTWPlan{Complex{Float32},1,false,N}, x::Union{DenseArray{Complex{Float32},N},SubArray{Complex{Float32},N,A<:DenseArray{T,N},I<:Tuple{Vararg{Union{Colon,Int64,Range{Int64}}}},LD}}) at fft/FFTW.jl:705\n",
       "*{N}(p::Base.DFT.FFTW.rFFTWPlan{Float64,-1,false,N}, x::Union{DenseArray{Float64,N},SubArray{Float64,N,A<:DenseArray{T,N},I<:Tuple{Vararg{Union{Colon,Int64,Range{Int64}}}},LD}}) at fft/FFTW.jl:698\n",
       "*{N}(p::Base.DFT.FFTW.rFFTWPlan{Complex{Float64},1,false,N}, x::Union{DenseArray{Complex{Float64},N},SubArray{Complex{Float64},N,A<:DenseArray{T,N},I<:Tuple{Vararg{Union{Colon,Int64,Range{Int64}}}},LD}}) at fft/FFTW.jl:705\n",
       "*{T,K,N}(p::Base.DFT.FFTW.r2rFFTWPlan{T,K,false,N}, x::Union{DenseArray{T,N},SubArray{T,N,A<:DenseArray{T,N},I<:Tuple{Vararg{Union{Colon,Int64,Range{Int64}}}},LD}}) at fft/FFTW.jl:866\n",
       "*{T,K}(p::Base.DFT.FFTW.r2rFFTWPlan{T,K,true,N}, x::Union{DenseArray{T,N},SubArray{T,N,A<:DenseArray{T,N},I<:Tuple{Vararg{Union{Colon,Int64,Range{Int64}}}},LD}}) at fft/FFTW.jl:873\n",
       "*{T}(p::Base.DFT.FFTW.DCTPlan{T,5,false}, x::Union{DenseArray{T,N},SubArray{T,N,A<:DenseArray{T,N},I<:Tuple{Vararg{Union{Colon,Int64,Range{Int64}}}},LD}}) at fft\\dct.jl:188\n",
       "*{T}(p::Base.DFT.FFTW.DCTPlan{T,4,false}, x::Union{DenseArray{T,N},SubArray{T,N,A<:DenseArray{T,N},I<:Tuple{Vararg{Union{Colon,Int64,Range{Int64}}}},LD}}) at fft\\dct.jl:191\n",
       "*{T,K}(p::Base.DFT.FFTW.DCTPlan{T,K,true}, x::Union{DenseArray{T,N},SubArray{T,N,A<:DenseArray{T,N},I<:Tuple{Vararg{Union{Colon,Int64,Range{Int64}}}},LD}}) at fft\\dct.jl:194\n",
       "*{T}(p::Base.DFT.Plan{T}, x::AbstractArray{T,N}) at dft.jl:221\n",
       "*(α::Number, p::Base.DFT.Plan{T}) at dft.jl:264\n",
       "*(p::Base.DFT.Plan{T}, α::Number) at dft.jl:265\n",
       "*(I::UniformScaling{T<:Number}, p::Base.DFT.ScaledPlan{T,P,N}) at dft.jl:266\n",
       "*(p::Base.DFT.ScaledPlan{T,P,N}, I::UniformScaling{T<:Number}) at dft.jl:267\n",
       "*(I::UniformScaling{T<:Number}, p::Base.DFT.Plan{T}) at dft.jl:268\n",
       "*(p::Base.DFT.Plan{T}, I::UniformScaling{T<:Number}) at dft.jl:269\n",
       "*{P<:Base.Dates.Period}(x::P<:Base.Dates.Period, y::Real) at dates/periods.jl:54\n",
       "*(a, b, c, xs...) at operators.jl:103"
      ]
     },
     "execution_count": 27,
     "metadata": {},
     "output_type": "execute_result"
    }
   ],
   "source": [
    "methods(*)"
   ]
  },
  {
   "cell_type": "markdown",
   "metadata": {},
   "source": [
    "We can multiply various types of numbers and matrices. Notice, however, that there is no multiplication specifically defined for `Tridiagonal` matrices. This would not make much sense, since the product of two tridiagonal matrices is a pentadiagonal matrix, the product of three tridiagonal matrices is septadiagonal matrix, ...\n",
    "\n",
    "Therefore, two tridiagonal matrices are first converted to full matrices, and then multiplied, as is seen in the source code."
   ]
  },
  {
   "cell_type": "code",
   "execution_count": 33,
   "metadata": {
    "collapsed": false
   },
   "outputs": [
    {
     "data": {
      "text/plain": [
       "7x7 Array{Float64,2}:\n",
       " 0.808367  -7.0538   -0.78574    0.0        0.0        0.0        0.0     \n",
       " 0.709541  -9.60564  -1.39174   -4.31437    0.0        0.0        0.0     \n",
       " 0.798668   0.53895  -1.70008   -0.394389  -0.136043   0.0        0.0     \n",
       " 0.0       -2.38742  -1.4424    -4.59183   -2.2882    -1.43078    0.0     \n",
       " 0.0        0.0      -0.618162  -0.507422  -4.09372   -0.886393  -0.674934\n",
       " 0.0        0.0       0.0       -0.604978   0.22167   -3.43569    0.601938\n",
       " 0.0        0.0       0.0        0.0       -1.21557   -1.89477    0.56148 "
      ]
     },
     "execution_count": 33,
     "metadata": {},
     "output_type": "execute_result"
    }
   ],
   "source": [
    "T1*T2"
   ]
  },
  {
   "cell_type": "code",
   "execution_count": 34,
   "metadata": {
    "collapsed": false
   },
   "outputs": [
    {
     "data": {
      "text/html": [
       "*(A::<b>Union{Base.LinAlg.AbstractTriangular{T,S<:AbstractArray{T,2}},Bidiagonal{T},Diagonal{T},SymTridiagonal{T},Tridiagonal{T}}</b>, B::<b>Union{Base.LinAlg.AbstractTriangular{T,S<:AbstractArray{T,2}},Bidiagonal{T},Diagonal{T},SymTridiagonal{T},Tridiagonal{T}}</b>) at <a href=\"https://github.com/JuliaLang/julia/tree/2ac304dfba75fad148d4070ef4f8a2e400c305bb/base/linalg/bidiag.jl#L198\" target=\"_blank\">linalg/bidiag.jl:198</a>"
      ],
      "text/plain": [
       "*(A::Union{Base.LinAlg.AbstractTriangular{T,S<:AbstractArray{T,2}},Bidiagonal{T},Diagonal{T},SymTridiagonal{T},Tridiagonal{T}}, B::Union{Base.LinAlg.AbstractTriangular{T,S<:AbstractArray{T,2}},Bidiagonal{T},Diagonal{T},SymTridiagonal{T},Tridiagonal{T}}) at linalg/bidiag.jl:198"
      ]
     },
     "execution_count": 34,
     "metadata": {},
     "output_type": "execute_result"
    }
   ],
   "source": [
    "@which T1*T2"
   ]
  },
  {
   "cell_type": "code",
   "execution_count": 29,
   "metadata": {
    "collapsed": false
   },
   "outputs": [
    {
     "data": {
      "text/plain": [
       "7x7 Array{Float64,2}:\n",
       " -0.0961737  -1.73039   -2.27898   …   0.0         0.0        0.0      \n",
       " -0.245406   -1.29539   -2.76855      -0.0535458   0.0        0.0      \n",
       " -0.62814    -3.64372   -6.33473      -0.535783   -0.19236    0.0      \n",
       " -0.0562586  -0.630233  -2.40722      -0.53994    -0.192194  -0.0630284\n",
       "  0.0        -0.453171  -0.110782     -2.41912    -1.17312   -2.44173  \n",
       "  0.0         0.0        0.266127  …  -2.82912     0.942483  -3.82172  \n",
       "  0.0         0.0        0.0          -1.06001    -2.48057    0.575311 "
      ]
     },
     "execution_count": 29,
     "metadata": {},
     "output_type": "execute_result"
    }
   ],
   "source": [
    "T1*(T2*T1) # Currently, T1*T2*T1, which is equal to (T1*T2)*T1 does not work, it will be fixed soon!"
   ]
  },
  {
   "cell_type": "code",
   "execution_count": 26,
   "metadata": {
    "collapsed": false,
    "scrolled": true
   },
   "outputs": [
    {
     "data": {
      "text/html": [
       "77-element Array{Method,1}:<ul><li> *(A::<b>Tridiagonal{T}</b>, B::<b>Number</b>) at <a href=\"https://github.com/JuliaLang/julia/tree/2ac304dfba75fad148d4070ef4f8a2e400c305bb/base/linalg/tridiag.jl#L406\" target=\"_blank\">linalg/tridiag.jl:406</a><li> *(A::<b>Tridiagonal{T}</b>, B::<b>UpperTriangular{T,S<:AbstractArray{T,2}}</b>) at <a href=\"https://github.com/JuliaLang/julia/tree/2ac304dfba75fad148d4070ef4f8a2e400c305bb/base/linalg/triangular.jl#L969\" target=\"_blank\">linalg/triangular.jl:969</a><li> *(A::<b>Tridiagonal{T}</b>, B::<b>Base.LinAlg.UnitUpperTriangular{T,S<:AbstractArray{T,2}}</b>) at <a href=\"https://github.com/JuliaLang/julia/tree/2ac304dfba75fad148d4070ef4f8a2e400c305bb/base/linalg/triangular.jl#L969\" target=\"_blank\">linalg/triangular.jl:969</a><li> *(A::<b>Tridiagonal{T}</b>, B::<b>LowerTriangular{T,S<:AbstractArray{T,2}}</b>) at <a href=\"https://github.com/JuliaLang/julia/tree/2ac304dfba75fad148d4070ef4f8a2e400c305bb/base/linalg/triangular.jl#L969\" target=\"_blank\">linalg/triangular.jl:969</a><li> *(A::<b>Tridiagonal{T}</b>, B::<b>Base.LinAlg.UnitLowerTriangular{T,S<:AbstractArray{T,2}}</b>) at <a href=\"https://github.com/JuliaLang/julia/tree/2ac304dfba75fad148d4070ef4f8a2e400c305bb/base/linalg/triangular.jl#L969\" target=\"_blank\">linalg/triangular.jl:969</a><li> *(B::<b>Number</b>, A::<b>Tridiagonal{T}</b>) at <a href=\"https://github.com/JuliaLang/julia/tree/2ac304dfba75fad148d4070ef4f8a2e400c305bb/base/linalg/tridiag.jl#L407\" target=\"_blank\">linalg/tridiag.jl:407</a><li> +(A::<b>Array{T,2}</b>, B::<b>Tridiagonal{T}</b>) at <a href=\"https://github.com/JuliaLang/julia/tree/2ac304dfba75fad148d4070ef4f8a2e400c305bb/base/linalg/special.jl#L122\" target=\"_blank\">linalg/special.jl:122</a><li> +(A::<b>Tridiagonal{T}</b>, B::<b>Tridiagonal{T}</b>) at <a href=\"https://github.com/JuliaLang/julia/tree/2ac304dfba75fad148d4070ef4f8a2e400c305bb/base/linalg/tridiag.jl#L404\" target=\"_blank\">linalg/tridiag.jl:404</a><li> +(A::<b>Diagonal{T}</b>, B::<b>Tridiagonal{T}</b>) at <a href=\"https://github.com/JuliaLang/julia/tree/2ac304dfba75fad148d4070ef4f8a2e400c305bb/base/linalg/special.jl#L121\" target=\"_blank\">linalg/special.jl:121</a><li> +(A::<b>Tridiagonal{T}</b>, B::<b>Diagonal{T}</b>) at <a href=\"https://github.com/JuliaLang/julia/tree/2ac304dfba75fad148d4070ef4f8a2e400c305bb/base/linalg/special.jl#L122\" target=\"_blank\">linalg/special.jl:122</a><li> +(A::<b>Bidiagonal{T}</b>, B::<b>Tridiagonal{T}</b>) at <a href=\"https://github.com/JuliaLang/julia/tree/2ac304dfba75fad148d4070ef4f8a2e400c305bb/base/linalg/special.jl#L121\" target=\"_blank\">linalg/special.jl:121</a><li> +(A::<b>Tridiagonal{T}</b>, B::<b>Bidiagonal{T}</b>) at <a href=\"https://github.com/JuliaLang/julia/tree/2ac304dfba75fad148d4070ef4f8a2e400c305bb/base/linalg/special.jl#L122\" target=\"_blank\">linalg/special.jl:122</a><li> +(A::<b>Tridiagonal{T}</b>, B::<b>Array{T,2}</b>) at <a href=\"https://github.com/JuliaLang/julia/tree/2ac304dfba75fad148d4070ef4f8a2e400c305bb/base/linalg/special.jl#L121\" target=\"_blank\">linalg/special.jl:121</a><li> +(A::<b>SymTridiagonal{T}</b>, B::<b>Tridiagonal{T}</b>) at <a href=\"https://github.com/JuliaLang/julia/tree/2ac304dfba75fad148d4070ef4f8a2e400c305bb/base/linalg/special.jl#L130\" target=\"_blank\">linalg/special.jl:130</a><li> +(A::<b>Tridiagonal{T}</b>, B::<b>SymTridiagonal{T}</b>) at <a href=\"https://github.com/JuliaLang/julia/tree/2ac304dfba75fad148d4070ef4f8a2e400c305bb/base/linalg/special.jl#L131\" target=\"_blank\">linalg/special.jl:131</a><li> +(A::<b>Base.LinAlg.AbstractTriangular{T,S<:AbstractArray{T,2}}</b>, B::<b>Tridiagonal{T}</b>) at <a href=\"https://github.com/JuliaLang/julia/tree/2ac304dfba75fad148d4070ef4f8a2e400c305bb/base/linalg/special.jl#L158\" target=\"_blank\">linalg/special.jl:158</a><li> +(A::<b>Tridiagonal{T}</b>, B::<b>Base.LinAlg.AbstractTriangular{T,S<:AbstractArray{T,2}}</b>) at <a href=\"https://github.com/JuliaLang/julia/tree/2ac304dfba75fad148d4070ef4f8a2e400c305bb/base/linalg/special.jl#L159\" target=\"_blank\">linalg/special.jl:159</a><li> -(A::<b>Array{T,2}</b>, B::<b>Tridiagonal{T}</b>) at <a href=\"https://github.com/JuliaLang/julia/tree/2ac304dfba75fad148d4070ef4f8a2e400c305bb/base/linalg/special.jl#L122\" target=\"_blank\">linalg/special.jl:122</a><li> -(A::<b>Tridiagonal{T}</b>, B::<b>Tridiagonal{T}</b>) at <a href=\"https://github.com/JuliaLang/julia/tree/2ac304dfba75fad148d4070ef4f8a2e400c305bb/base/linalg/tridiag.jl#L405\" target=\"_blank\">linalg/tridiag.jl:405</a><li> -(A::<b>Diagonal{T}</b>, B::<b>Tridiagonal{T}</b>) at <a href=\"https://github.com/JuliaLang/julia/tree/2ac304dfba75fad148d4070ef4f8a2e400c305bb/base/linalg/special.jl#L121\" target=\"_blank\">linalg/special.jl:121</a><li> -(A::<b>Tridiagonal{T}</b>, B::<b>Diagonal{T}</b>) at <a href=\"https://github.com/JuliaLang/julia/tree/2ac304dfba75fad148d4070ef4f8a2e400c305bb/base/linalg/special.jl#L122\" target=\"_blank\">linalg/special.jl:122</a><li> -(A::<b>Bidiagonal{T}</b>, B::<b>Tridiagonal{T}</b>) at <a href=\"https://github.com/JuliaLang/julia/tree/2ac304dfba75fad148d4070ef4f8a2e400c305bb/base/linalg/special.jl#L121\" target=\"_blank\">linalg/special.jl:121</a><li> -(A::<b>Tridiagonal{T}</b>, B::<b>Bidiagonal{T}</b>) at <a href=\"https://github.com/JuliaLang/julia/tree/2ac304dfba75fad148d4070ef4f8a2e400c305bb/base/linalg/special.jl#L122\" target=\"_blank\">linalg/special.jl:122</a><li> -(A::<b>Tridiagonal{T}</b>, B::<b>Array{T,2}</b>) at <a href=\"https://github.com/JuliaLang/julia/tree/2ac304dfba75fad148d4070ef4f8a2e400c305bb/base/linalg/special.jl#L121\" target=\"_blank\">linalg/special.jl:121</a><li> -(A::<b>SymTridiagonal{T}</b>, B::<b>Tridiagonal{T}</b>) at <a href=\"https://github.com/JuliaLang/julia/tree/2ac304dfba75fad148d4070ef4f8a2e400c305bb/base/linalg/special.jl#L130\" target=\"_blank\">linalg/special.jl:130</a><li> -(A::<b>Tridiagonal{T}</b>, B::<b>SymTridiagonal{T}</b>) at <a href=\"https://github.com/JuliaLang/julia/tree/2ac304dfba75fad148d4070ef4f8a2e400c305bb/base/linalg/special.jl#L131\" target=\"_blank\">linalg/special.jl:131</a><li> -(A::<b>Base.LinAlg.AbstractTriangular{T,S<:AbstractArray{T,2}}</b>, B::<b>Tridiagonal{T}</b>) at <a href=\"https://github.com/JuliaLang/julia/tree/2ac304dfba75fad148d4070ef4f8a2e400c305bb/base/linalg/special.jl#L158\" target=\"_blank\">linalg/special.jl:158</a><li> -(A::<b>Tridiagonal{T}</b>, B::<b>Base.LinAlg.AbstractTriangular{T,S<:AbstractArray{T,2}}</b>) at <a href=\"https://github.com/JuliaLang/julia/tree/2ac304dfba75fad148d4070ef4f8a2e400c305bb/base/linalg/special.jl#L159\" target=\"_blank\">linalg/special.jl:159</a><li> /(A::<b>Tridiagonal{T}</b>, B::<b>Number</b>) at <a href=\"https://github.com/JuliaLang/julia/tree/2ac304dfba75fad148d4070ef4f8a2e400c305bb/base/linalg/tridiag.jl#L408\" target=\"_blank\">linalg/tridiag.jl:408</a><li> ==(A::<b>Tridiagonal{T}</b>, B::<b>Tridiagonal{T}</b>) at <a href=\"https://github.com/JuliaLang/julia/tree/2ac304dfba75fad148d4070ef4f8a2e400c305bb/base/linalg/tridiag.jl#L410\" target=\"_blank\">linalg/tridiag.jl:410</a><li> ==(A::<b>Tridiagonal{T}</b>, B::<b>SymTridiagonal{T}</b>) at <a href=\"https://github.com/JuliaLang/julia/tree/2ac304dfba75fad148d4070ef4f8a2e400c305bb/base/linalg/tridiag.jl#L411\" target=\"_blank\">linalg/tridiag.jl:411</a><li> ==(A::<b>SymTridiagonal{T}</b>, B::<b>Tridiagonal{T}</b>) at <a href=\"https://github.com/JuliaLang/julia/tree/2ac304dfba75fad148d4070ef4f8a2e400c305bb/base/linalg/tridiag.jl#L412\" target=\"_blank\">linalg/tridiag.jl:412</a><li> A_mul_B!(C::<b>Union{AbstractArray{T,1},AbstractArray{T,2}}</b>, A::<b>Tridiagonal{T}</b>, B::<b>Union{AbstractArray{T,1},AbstractArray{T,2}}</b>) at <a href=\"https://github.com/JuliaLang/julia/tree/2ac304dfba75fad148d4070ef4f8a2e400c305bb/base/linalg/tridiag.jl#L429\" target=\"_blank\">linalg/tridiag.jl:429</a><li> A_mul_B!(A::<b>Tridiagonal{T}</b>, B::<b>Base.LinAlg.AbstractTriangular{T,S<:AbstractArray{T,2}}</b>) at <a href=\"https://github.com/JuliaLang/julia/tree/2ac304dfba75fad148d4070ef4f8a2e400c305bb/base/linalg/triangular.jl#L371\" target=\"_blank\">linalg/triangular.jl:371</a><li> abs(M::<b>Tridiagonal{T}</b>) at <a href=\"https://github.com/JuliaLang/julia/tree/2ac304dfba75fad148d4070ef4f8a2e400c305bb/base/linalg/tridiag.jl#L320\" target=\"_blank\">linalg/tridiag.jl:320</a><li> ceil(M::<b>Tridiagonal{T}</b>) at <a href=\"https://github.com/JuliaLang/julia/tree/2ac304dfba75fad148d4070ef4f8a2e400c305bb/base/linalg/tridiag.jl#L320\" target=\"_blank\">linalg/tridiag.jl:320</a><li> ceil<i>{T<:Integer}</i>(::<b>Type{T<:Integer}</b>, M::<b>Tridiagonal{T}</b>) at <a href=\"https://github.com/JuliaLang/julia/tree/2ac304dfba75fad148d4070ef4f8a2e400c305bb/base/linalg/tridiag.jl#L325\" target=\"_blank\">linalg/tridiag.jl:325</a><li> conj(M::<b>Tridiagonal{T}</b>) at <a href=\"https://github.com/JuliaLang/julia/tree/2ac304dfba75fad148d4070ef4f8a2e400c305bb/base/linalg/tridiag.jl#L320\" target=\"_blank\">linalg/tridiag.jl:320</a><li> convert<i>{T}</i>(::<b>Type{AbstractArray{T,2}}</b>, M::<b>Tridiagonal{T}</b>) at <a href=\"https://github.com/JuliaLang/julia/tree/2ac304dfba75fad148d4070ef4f8a2e400c305bb/base/linalg/tridiag.jl#L418\" target=\"_blank\">linalg/tridiag.jl:418</a><li> convert<i>{T}</i>(::<b>Type{Array{T,2}}</b>, M::<b>Tridiagonal{T}</b>) at <a href=\"https://github.com/JuliaLang/julia/tree/2ac304dfba75fad148d4070ef4f8a2e400c305bb/base/linalg/tridiag.jl#L296\" target=\"_blank\">linalg/tridiag.jl:296</a><li> convert<i>{T}</i>(::<b>Type{Array{T,2}}</b>, M::<b>Tridiagonal{T}</b>) at <a href=\"https://github.com/JuliaLang/julia/tree/2ac304dfba75fad148d4070ef4f8a2e400c305bb/base/linalg/tridiag.jl#L306\" target=\"_blank\">linalg/tridiag.jl:306</a><li> convert<i>{T}</i>(::<b>Type{Tridiagonal{T}}</b>, M::<b>Tridiagonal{T}</b>) at <a href=\"https://github.com/JuliaLang/julia/tree/2ac304dfba75fad148d4070ef4f8a2e400c305bb/base/linalg/tridiag.jl#L417\" target=\"_blank\">linalg/tridiag.jl:417</a><li> convert<i>{T}</i>(::<b>Type{SymTridiagonal{T}}</b>, M::<b>Tridiagonal{T}</b>) at <a href=\"https://github.com/JuliaLang/julia/tree/2ac304dfba75fad148d4070ef4f8a2e400c305bb/base/linalg/tridiag.jl#L421\" target=\"_blank\">linalg/tridiag.jl:421</a><li> convert(::<b>Type{Diagonal{T}}</b>, A::<b>Tridiagonal{T}</b>) at <a href=\"https://github.com/JuliaLang/julia/tree/2ac304dfba75fad148d4070ef4f8a2e400c305bb/base/linalg/special.jl#L51\" target=\"_blank\">linalg/special.jl:51</a><li> convert(::<b>Type{Bidiagonal{T}}</b>, A::<b>Tridiagonal{T}</b>) at <a href=\"https://github.com/JuliaLang/julia/tree/2ac304dfba75fad148d4070ef4f8a2e400c305bb/base/linalg/special.jl#L58\" target=\"_blank\">linalg/special.jl:58</a><li> convert(::<b>Type{SymTridiagonal{T}}</b>, A::<b>Tridiagonal{T}</b>) at <a href=\"https://github.com/JuliaLang/julia/tree/2ac304dfba75fad148d4070ef4f8a2e400c305bb/base/linalg/special.jl#L65\" target=\"_blank\">linalg/special.jl:65</a><li> copy(M::<b>Tridiagonal{T}</b>) at <a href=\"https://github.com/JuliaLang/julia/tree/2ac304dfba75fad148d4070ef4f8a2e400c305bb/base/linalg/tridiag.jl#L320\" target=\"_blank\">linalg/tridiag.jl:320</a><li> copy!(dest::<b>Tridiagonal{T}</b>, src::<b>Tridiagonal{T}</b>) at <a href=\"https://github.com/JuliaLang/julia/tree/2ac304dfba75fad148d4070ef4f8a2e400c305bb/base/linalg/tridiag.jl#L315\" target=\"_blank\">linalg/tridiag.jl:315</a><li> ctranspose(M::<b>Tridiagonal{T}</b>) at <a href=\"https://github.com/JuliaLang/julia/tree/2ac304dfba75fad148d4070ef4f8a2e400c305bb/base/linalg/tridiag.jl#L330\" target=\"_blank\">linalg/tridiag.jl:330</a><li> det(A::<b>Tridiagonal{T}</b>) at <a href=\"https://github.com/JuliaLang/julia/tree/2ac304dfba75fad148d4070ef4f8a2e400c305bb/base/linalg/tridiag.jl#L415\" target=\"_blank\">linalg/tridiag.jl:415</a><li> diag<i>{T}</i>(M::<b>Tridiagonal{T}</b>) at <a href=\"https://github.com/JuliaLang/julia/tree/2ac304dfba75fad148d4070ef4f8a2e400c305bb/base/linalg/tridiag.jl#L333\" target=\"_blank\">linalg/tridiag.jl:333</a><li> diag<i>{T}</i>(M::<b>Tridiagonal{T}</b>, n::<b>Integer</b>) at <a href=\"https://github.com/JuliaLang/julia/tree/2ac304dfba75fad148d4070ef4f8a2e400c305bb/base/linalg/tridiag.jl#L333\" target=\"_blank\">linalg/tridiag.jl:333</a><li> factorize(A::<b>Tridiagonal{T}</b>) at <a href=\"https://github.com/JuliaLang/julia/tree/2ac304dfba75fad148d4070ef4f8a2e400c305bb/base/linalg/lu.jl#L286\" target=\"_blank\">linalg/lu.jl:286</a><li> floor(M::<b>Tridiagonal{T}</b>) at <a href=\"https://github.com/JuliaLang/julia/tree/2ac304dfba75fad148d4070ef4f8a2e400c305bb/base/linalg/tridiag.jl#L320\" target=\"_blank\">linalg/tridiag.jl:320</a><li> floor<i>{T<:Integer}</i>(::<b>Type{T<:Integer}</b>, M::<b>Tridiagonal{T}</b>) at <a href=\"https://github.com/JuliaLang/julia/tree/2ac304dfba75fad148d4070ef4f8a2e400c305bb/base/linalg/tridiag.jl#L325\" target=\"_blank\">linalg/tridiag.jl:325</a><li> full<i>{T}</i>(M::<b>Tridiagonal{T}</b>) at <a href=\"https://github.com/JuliaLang/julia/tree/2ac304dfba75fad148d4070ef4f8a2e400c305bb/base/linalg/tridiag.jl#L294\" target=\"_blank\">linalg/tridiag.jl:294</a><li> getindex<i>{T}</i>(A::<b>Tridiagonal{T}</b>, i::<b>Integer</b>, j::<b>Integer</b>) at <a href=\"https://github.com/JuliaLang/julia/tree/2ac304dfba75fad148d4070ef4f8a2e400c305bb/base/linalg/tridiag.jl#L347\" target=\"_blank\">linalg/tridiag.jl:347</a><li> imag(M::<b>Tridiagonal{T}</b>) at <a href=\"https://github.com/JuliaLang/julia/tree/2ac304dfba75fad148d4070ef4f8a2e400c305bb/base/linalg/tridiag.jl#L320\" target=\"_blank\">linalg/tridiag.jl:320</a><li> inv(A::<b>Tridiagonal{T}</b>) at <a href=\"https://github.com/JuliaLang/julia/tree/2ac304dfba75fad148d4070ef4f8a2e400c305bb/base/linalg/tridiag.jl#L414\" target=\"_blank\">linalg/tridiag.jl:414</a><li> istril(M::<b>Tridiagonal{T}</b>) at <a href=\"https://github.com/JuliaLang/julia/tree/2ac304dfba75fad148d4070ef4f8a2e400c305bb/base/linalg/tridiag.jl#L364\" target=\"_blank\">linalg/tridiag.jl:364</a><li> istriu(M::<b>Tridiagonal{T}</b>) at <a href=\"https://github.com/JuliaLang/julia/tree/2ac304dfba75fad148d4070ef4f8a2e400c305bb/base/linalg/tridiag.jl#L363\" target=\"_blank\">linalg/tridiag.jl:363</a><li> lufact!<i>{T}</i>(A::<b>Tridiagonal{T}</b>) at <a href=\"https://github.com/JuliaLang/julia/tree/2ac304dfba75fad148d4070ef4f8a2e400c305bb/base/linalg/lu.jl#L222\" target=\"_blank\">linalg/lu.jl:222</a><li> lufact!<i>{T}</i>(A::<b>Tridiagonal{T}</b>, pivot::<b>Union{Type{Val{false}},Type{Val{true}}}</b>) at <a href=\"https://github.com/JuliaLang/julia/tree/2ac304dfba75fad148d4070ef4f8a2e400c305bb/base/linalg/lu.jl#L222\" target=\"_blank\">linalg/lu.jl:222</a><li> real(M::<b>Tridiagonal{T}</b>) at <a href=\"https://github.com/JuliaLang/julia/tree/2ac304dfba75fad148d4070ef4f8a2e400c305bb/base/linalg/tridiag.jl#L320\" target=\"_blank\">linalg/tridiag.jl:320</a><li> round(M::<b>Tridiagonal{T}</b>) at <a href=\"https://github.com/JuliaLang/julia/tree/2ac304dfba75fad148d4070ef4f8a2e400c305bb/base/linalg/tridiag.jl#L320\" target=\"_blank\">linalg/tridiag.jl:320</a><li> round<i>{T<:Integer}</i>(::<b>Type{T<:Integer}</b>, M::<b>Tridiagonal{T}</b>) at <a href=\"https://github.com/JuliaLang/julia/tree/2ac304dfba75fad148d4070ef4f8a2e400c305bb/base/linalg/tridiag.jl#L325\" target=\"_blank\">linalg/tridiag.jl:325</a><li> similar(M::<b>Tridiagonal{T}</b>, T, dims::<b>Tuple{Vararg{Int64}}</b>) at <a href=\"https://github.com/JuliaLang/julia/tree/2ac304dfba75fad148d4070ef4f8a2e400c305bb/base/linalg/tridiag.jl#L308\" target=\"_blank\">linalg/tridiag.jl:308</a><li> size(M::<b>Tridiagonal{T}</b>) at <a href=\"https://github.com/JuliaLang/julia/tree/2ac304dfba75fad148d4070ef4f8a2e400c305bb/base/linalg/tridiag.jl#L283\" target=\"_blank\">linalg/tridiag.jl:283</a><li> size(M::<b>Tridiagonal{T}</b>, d::<b>Integer</b>) at <a href=\"https://github.com/JuliaLang/julia/tree/2ac304dfba75fad148d4070ef4f8a2e400c305bb/base/linalg/tridiag.jl#L285\" target=\"_blank\">linalg/tridiag.jl:285</a><li> sparse(T::<b>Tridiagonal{T}</b>) at <a href=\"https://github.com/JuliaLang/julia/tree/2ac304dfba75fad148d4070ef4f8a2e400c305bb/base/sparse/sparsematrix.jl#L396\" target=\"_blank\">sparse/sparsematrix.jl:396</a><li> transpose(M::<b>Tridiagonal{T}</b>) at <a href=\"https://github.com/JuliaLang/julia/tree/2ac304dfba75fad148d4070ef4f8a2e400c305bb/base/linalg/tridiag.jl#L329\" target=\"_blank\">linalg/tridiag.jl:329</a><li> tril!(M::<b>Tridiagonal{T}</b>) at <a href=\"https://github.com/JuliaLang/julia/tree/2ac304dfba75fad148d4070ef4f8a2e400c305bb/base/linalg/tridiag.jl#L367\" target=\"_blank\">linalg/tridiag.jl:367</a><li> tril!(M::<b>Tridiagonal{T}</b>, k::<b>Integer</b>) at <a href=\"https://github.com/JuliaLang/julia/tree/2ac304dfba75fad148d4070ef4f8a2e400c305bb/base/linalg/tridiag.jl#L367\" target=\"_blank\">linalg/tridiag.jl:367</a><li> triu!(M::<b>Tridiagonal{T}</b>) at <a href=\"https://github.com/JuliaLang/julia/tree/2ac304dfba75fad148d4070ef4f8a2e400c305bb/base/linalg/tridiag.jl#L384\" target=\"_blank\">linalg/tridiag.jl:384</a><li> triu!(M::<b>Tridiagonal{T}</b>, k::<b>Integer</b>) at <a href=\"https://github.com/JuliaLang/julia/tree/2ac304dfba75fad148d4070ef4f8a2e400c305bb/base/linalg/tridiag.jl#L384\" target=\"_blank\">linalg/tridiag.jl:384</a><li> trunc(M::<b>Tridiagonal{T}</b>) at <a href=\"https://github.com/JuliaLang/julia/tree/2ac304dfba75fad148d4070ef4f8a2e400c305bb/base/linalg/tridiag.jl#L320\" target=\"_blank\">linalg/tridiag.jl:320</a><li> trunc<i>{T<:Integer}</i>(::<b>Type{T<:Integer}</b>, M::<b>Tridiagonal{T}</b>) at <a href=\"https://github.com/JuliaLang/julia/tree/2ac304dfba75fad148d4070ef4f8a2e400c305bb/base/linalg/tridiag.jl#L325\" target=\"_blank\">linalg/tridiag.jl:325</a></ul>"
      ],
      "text/plain": [
       "77-element Array{Method,1}:\n",
       " *(A::Tridiagonal{T}, B::Number) at linalg/tridiag.jl:406                                                                                              \n",
       " *(A::Tridiagonal{T}, B::UpperTriangular{T,S<:AbstractArray{T,2}}) at linalg/triangular.jl:969                                                         \n",
       " *(A::Tridiagonal{T}, B::Base.LinAlg.UnitUpperTriangular{T,S<:AbstractArray{T,2}}) at linalg/triangular.jl:969                                         \n",
       " *(A::Tridiagonal{T}, B::LowerTriangular{T,S<:AbstractArray{T,2}}) at linalg/triangular.jl:969                                                         \n",
       " *(A::Tridiagonal{T}, B::Base.LinAlg.UnitLowerTriangular{T,S<:AbstractArray{T,2}}) at linalg/triangular.jl:969                                         \n",
       " *(B::Number, A::Tridiagonal{T}) at linalg/tridiag.jl:407                                                                                              \n",
       " +(A::Array{T,2}, B::Tridiagonal{T}) at linalg/special.jl:122                                                                                          \n",
       " +(A::Tridiagonal{T}, B::Tridiagonal{T}) at linalg/tridiag.jl:404                                                                                      \n",
       " +(A::Diagonal{T}, B::Tridiagonal{T}) at linalg/special.jl:121                                                                                         \n",
       " +(A::Tridiagonal{T}, B::Diagonal{T}) at linalg/special.jl:122                                                                                         \n",
       " +(A::Bidiagonal{T}, B::Tridiagonal{T}) at linalg/special.jl:121                                                                                       \n",
       " +(A::Tridiagonal{T}, B::Bidiagonal{T}) at linalg/special.jl:122                                                                                       \n",
       " +(A::Tridiagonal{T}, B::Array{T,2}) at linalg/special.jl:121                                                                                          \n",
       " +(A::SymTridiagonal{T}, B::Tridiagonal{T}) at linalg/special.jl:130                                                                                   \n",
       " +(A::Tridiagonal{T}, B::SymTridiagonal{T}) at linalg/special.jl:131                                                                                   \n",
       " +(A::Base.LinAlg.AbstractTriangular{T,S<:AbstractArray{T,2}}, B::Tridiagonal{T}) at linalg/special.jl:158                                             \n",
       " +(A::Tridiagonal{T}, B::Base.LinAlg.AbstractTriangular{T,S<:AbstractArray{T,2}}) at linalg/special.jl:159                                             \n",
       " -(A::Array{T,2}, B::Tridiagonal{T}) at linalg/special.jl:122                                                                                          \n",
       " -(A::Tridiagonal{T}, B::Tridiagonal{T}) at linalg/tridiag.jl:405                                                                                      \n",
       " -(A::Diagonal{T}, B::Tridiagonal{T}) at linalg/special.jl:121                                                                                         \n",
       " -(A::Tridiagonal{T}, B::Diagonal{T}) at linalg/special.jl:122                                                                                         \n",
       " -(A::Bidiagonal{T}, B::Tridiagonal{T}) at linalg/special.jl:121                                                                                       \n",
       " -(A::Tridiagonal{T}, B::Bidiagonal{T}) at linalg/special.jl:122                                                                                       \n",
       " -(A::Tridiagonal{T}, B::Array{T,2}) at linalg/special.jl:121                                                                                          \n",
       " -(A::SymTridiagonal{T}, B::Tridiagonal{T}) at linalg/special.jl:130                                                                                   \n",
       " -(A::Tridiagonal{T}, B::SymTridiagonal{T}) at linalg/special.jl:131                                                                                   \n",
       " -(A::Base.LinAlg.AbstractTriangular{T,S<:AbstractArray{T,2}}, B::Tridiagonal{T}) at linalg/special.jl:158                                             \n",
       " -(A::Tridiagonal{T}, B::Base.LinAlg.AbstractTriangular{T,S<:AbstractArray{T,2}}) at linalg/special.jl:159                                             \n",
       " /(A::Tridiagonal{T}, B::Number) at linalg/tridiag.jl:408                                                                                              \n",
       " ==(A::Tridiagonal{T}, B::Tridiagonal{T}) at linalg/tridiag.jl:410                                                                                     \n",
       " ==(A::Tridiagonal{T}, B::SymTridiagonal{T}) at linalg/tridiag.jl:411                                                                                  \n",
       " ==(A::SymTridiagonal{T}, B::Tridiagonal{T}) at linalg/tridiag.jl:412                                                                                  \n",
       " A_mul_B!(C::Union{AbstractArray{T,1},AbstractArray{T,2}}, A::Tridiagonal{T}, B::Union{AbstractArray{T,1},AbstractArray{T,2}}) at linalg/tridiag.jl:429\n",
       " A_mul_B!(A::Tridiagonal{T}, B::Base.LinAlg.AbstractTriangular{T,S<:AbstractArray{T,2}}) at linalg/triangular.jl:371                                   \n",
       " abs(M::Tridiagonal{T}) at linalg/tridiag.jl:320                                                                                                       \n",
       " ceil(M::Tridiagonal{T}) at linalg/tridiag.jl:320                                                                                                      \n",
       " ceil{T<:Integer}(::Type{T<:Integer}, M::Tridiagonal{T}) at linalg/tridiag.jl:325                                                                      \n",
       " conj(M::Tridiagonal{T}) at linalg/tridiag.jl:320                                                                                                      \n",
       " convert{T}(::Type{AbstractArray{T,2}}, M::Tridiagonal{T}) at linalg/tridiag.jl:418                                                                    \n",
       " convert{T}(::Type{Array{T,2}}, M::Tridiagonal{T}) at linalg/tridiag.jl:296                                                                            \n",
       " convert{T}(::Type{Array{T,2}}, M::Tridiagonal{T}) at linalg/tridiag.jl:306                                                                            \n",
       " convert{T}(::Type{Tridiagonal{T}}, M::Tridiagonal{T}) at linalg/tridiag.jl:417                                                                        \n",
       " convert{T}(::Type{SymTridiagonal{T}}, M::Tridiagonal{T}) at linalg/tridiag.jl:421                                                                     \n",
       " convert(::Type{Diagonal{T}}, A::Tridiagonal{T}) at linalg/special.jl:51                                                                               \n",
       " convert(::Type{Bidiagonal{T}}, A::Tridiagonal{T}) at linalg/special.jl:58                                                                             \n",
       " convert(::Type{SymTridiagonal{T}}, A::Tridiagonal{T}) at linalg/special.jl:65                                                                         \n",
       " copy(M::Tridiagonal{T}) at linalg/tridiag.jl:320                                                                                                      \n",
       " copy!(dest::Tridiagonal{T}, src::Tridiagonal{T}) at linalg/tridiag.jl:315                                                                             \n",
       " ctranspose(M::Tridiagonal{T}) at linalg/tridiag.jl:330                                                                                                \n",
       " det(A::Tridiagonal{T}) at linalg/tridiag.jl:415                                                                                                       \n",
       " diag{T}(M::Tridiagonal{T}) at linalg/tridiag.jl:333                                                                                                   \n",
       " diag{T}(M::Tridiagonal{T}, n::Integer) at linalg/tridiag.jl:333                                                                                       \n",
       " factorize(A::Tridiagonal{T}) at linalg/lu.jl:286                                                                                                      \n",
       " floor(M::Tridiagonal{T}) at linalg/tridiag.jl:320                                                                                                     \n",
       " floor{T<:Integer}(::Type{T<:Integer}, M::Tridiagonal{T}) at linalg/tridiag.jl:325                                                                     \n",
       " full{T}(M::Tridiagonal{T}) at linalg/tridiag.jl:294                                                                                                   \n",
       " getindex{T}(A::Tridiagonal{T}, i::Integer, j::Integer) at linalg/tridiag.jl:347                                                                       \n",
       " imag(M::Tridiagonal{T}) at linalg/tridiag.jl:320                                                                                                      \n",
       " inv(A::Tridiagonal{T}) at linalg/tridiag.jl:414                                                                                                       \n",
       " istril(M::Tridiagonal{T}) at linalg/tridiag.jl:364                                                                                                    \n",
       " istriu(M::Tridiagonal{T}) at linalg/tridiag.jl:363                                                                                                    \n",
       " lufact!{T}(A::Tridiagonal{T}) at linalg/lu.jl:222                                                                                                     \n",
       " lufact!{T}(A::Tridiagonal{T}, pivot::Union{Type{Val{false}},Type{Val{true}}}) at linalg/lu.jl:222                                                     \n",
       " real(M::Tridiagonal{T}) at linalg/tridiag.jl:320                                                                                                      \n",
       " round(M::Tridiagonal{T}) at linalg/tridiag.jl:320                                                                                                     \n",
       " round{T<:Integer}(::Type{T<:Integer}, M::Tridiagonal{T}) at linalg/tridiag.jl:325                                                                     \n",
       " similar(M::Tridiagonal{T}, T, dims::Tuple{Vararg{Int64}}) at linalg/tridiag.jl:308                                                                    \n",
       " size(M::Tridiagonal{T}) at linalg/tridiag.jl:283                                                                                                      \n",
       " size(M::Tridiagonal{T}, d::Integer) at linalg/tridiag.jl:285                                                                                          \n",
       " sparse(T::Tridiagonal{T}) at sparse/sparsematrix.jl:396                                                                                               \n",
       " transpose(M::Tridiagonal{T}) at linalg/tridiag.jl:329                                                                                                 \n",
       " tril!(M::Tridiagonal{T}) at linalg/tridiag.jl:367                                                                                                     \n",
       " tril!(M::Tridiagonal{T}, k::Integer) at linalg/tridiag.jl:367                                                                                         \n",
       " triu!(M::Tridiagonal{T}) at linalg/tridiag.jl:384                                                                                                     \n",
       " triu!(M::Tridiagonal{T}, k::Integer) at linalg/tridiag.jl:384                                                                                         \n",
       " trunc(M::Tridiagonal{T}) at linalg/tridiag.jl:320                                                                                                     \n",
       " trunc{T<:Integer}(::Type{T<:Integer}, M::Tridiagonal{T}) at linalg/tridiag.jl:325                                                                     "
      ]
     },
     "execution_count": 26,
     "metadata": {},
     "output_type": "execute_result"
    }
   ],
   "source": [
    "methodswith(Tridiagonal)"
   ]
  },
  {
   "cell_type": "markdown",
   "metadata": {},
   "source": [
    "### The \"$\\cdot$\" operator"
   ]
  },
  {
   "cell_type": "code",
   "execution_count": 30,
   "metadata": {
    "collapsed": false
   },
   "outputs": [
    {
     "data": {
      "text/html": [
       "5 methods for generic function <b>dot</b>:<ul><li> dot(x::<b>Number</b>, y::<b>Number</b>) at <a href=\"https://github.com/JuliaLang/julia/tree/2ac304dfba75fad148d4070ef4f8a2e400c305bb/base/linalg/generic.jl#L291\" target=\"_blank\">linalg/generic.jl:291</a><li> dot<i>{T<:Union{Float32,Float64},TI<:Integer}</i>(x::<b>Array{T<:Union{Float32,Float64},1}</b>, rx::<b>Union{Range{TI<:Integer},UnitRange{TI<:Integer}}</b>, y::<b>Array{T<:Union{Float32,Float64},1}</b>, ry::<b>Union{Range{TI<:Integer},UnitRange{TI<:Integer}}</b>) at <a href=\"https://github.com/JuliaLang/julia/tree/2ac304dfba75fad148d4070ef4f8a2e400c305bb/base/linalg/matmul.jl#L51\" target=\"_blank\">linalg/matmul.jl:51</a><li> dot<i>{T<:Union{Complex{Float32},Complex{Float64}},TI<:Integer}</i>(x::<b>Array{T<:Union{Complex{Float32},Complex{Float64}},1}</b>, rx::<b>Union{Range{TI<:Integer},UnitRange{TI<:Integer}}</b>, y::<b>Array{T<:Union{Complex{Float32},Complex{Float64}},1}</b>, ry::<b>Union{Range{TI<:Integer},UnitRange{TI<:Integer}}</b>) at <a href=\"https://github.com/JuliaLang/julia/tree/2ac304dfba75fad148d4070ef4f8a2e400c305bb/base/linalg/matmul.jl#L64\" target=\"_blank\">linalg/matmul.jl:64</a><li> dot(x::<b>BitArray{1}</b>, y::<b>BitArray{1}</b>) at <a href=\"https://github.com/JuliaLang/julia/tree/2ac304dfba75fad148d4070ef4f8a2e400c305bb/base/linalg/bitarray.jl#L5\" target=\"_blank\">linalg/bitarray.jl:5</a><li> dot(x::<b>AbstractArray{T,1}</b>, y::<b>AbstractArray{T,1}</b>) at <a href=\"https://github.com/JuliaLang/julia/tree/2ac304dfba75fad148d4070ef4f8a2e400c305bb/base/linalg/generic.jl#L292\" target=\"_blank\">linalg/generic.jl:292</a></ul>"
      ],
      "text/plain": [
       "# 5 methods for generic function \"dot\":\n",
       "dot(x::Number, y::Number) at linalg/generic.jl:291\n",
       "dot{T<:Union{Float32,Float64},TI<:Integer}(x::Array{T<:Union{Float32,Float64},1}, rx::Union{Range{TI<:Integer},UnitRange{TI<:Integer}}, y::Array{T<:Union{Float32,Float64},1}, ry::Union{Range{TI<:Integer},UnitRange{TI<:Integer}}) at linalg/matmul.jl:51\n",
       "dot{T<:Union{Complex{Float32},Complex{Float64}},TI<:Integer}(x::Array{T<:Union{Complex{Float32},Complex{Float64}},1}, rx::Union{Range{TI<:Integer},UnitRange{TI<:Integer}}, y::Array{T<:Union{Complex{Float32},Complex{Float64}},1}, ry::Union{Range{TI<:Integer},UnitRange{TI<:Integer}}) at linalg/matmul.jl:64\n",
       "dot(x::BitArray{1}, y::BitArray{1}) at linalg/bitarray.jl:5\n",
       "dot(x::AbstractArray{T,1}, y::AbstractArray{T,1}) at linalg/generic.jl:292"
      ]
     },
     "execution_count": 30,
     "metadata": {},
     "output_type": "execute_result"
    }
   ],
   "source": [
    "methods(⋅)"
   ]
  },
  {
   "cell_type": "markdown",
   "metadata": {},
   "source": [
    "By inspecting the source, we see that the `scalar` or the `dot` product of two vectors (1-dimensional arrays) is \n",
    "computed via `BLAS` function `dot` for real arguments, and the function `dotc` for complex arguments.  "
   ]
  },
  {
   "cell_type": "code",
   "execution_count": 31,
   "metadata": {
    "collapsed": false
   },
   "outputs": [
    {
     "data": {
      "text/html": [
       "dot(x::<b>AbstractArray{T,1}</b>, y::<b>AbstractArray{T,1}</b>) at <a href=\"https://github.com/JuliaLang/julia/tree/2ac304dfba75fad148d4070ef4f8a2e400c305bb/base/linalg/generic.jl#L292\" target=\"_blank\">linalg/generic.jl:292</a>"
      ],
      "text/plain": [
       "dot(x::AbstractArray{T,1}, y::AbstractArray{T,1}) at linalg/generic.jl:292"
      ]
     },
     "execution_count": 31,
     "metadata": {},
     "output_type": "execute_result"
    }
   ],
   "source": [
    "a=rand(4); b=rand(4)\n",
    "@which a⋅b"
   ]
  },
  {
   "cell_type": "code",
   "execution_count": 32,
   "metadata": {
    "collapsed": false
   },
   "outputs": [
    {
     "name": "stdout",
     "output_type": "stream",
     "text": [
      "(x,y,z,w) = ([5,1,1,4,1],[-4,-4,-5,-2,-1],[0.7744754212645102,0.22659568835022603,0.34789203017305104,0.40054131978278984,0.8616511650805037],Complex{Float64}[0.3398887180364336 + 0.7514051053703097im,0.010099485366519279 + 0.3252337306512254im,0.024111262377866316 + 0.4915558821677388im,0.5354978734485039 + 0.5703424056663431im,0.13282456003100496 + 0.8439661857332146im])\n"
     ]
    },
    {
     "data": {
      "text/plain": [
       "(-38,6.910681269057491,6.910681269057491,4.008470391751574 + 7.6991509480691im,0.6028495358155636 + 1.7822998675037018im,0.6028495358155636 - 1.7822998675037018im)"
      ]
     },
     "execution_count": 32,
     "metadata": {},
     "output_type": "execute_result"
    }
   ],
   "source": [
    "x = rand(1:5,5); y  = rand(-5:0,5); a = x⋅y\n",
    "z = rand(5); b = x⋅z; c = z⋅x\n",
    "w = rand(5) + im*rand(5); d = x⋅w; e = z⋅w; f = w⋅z\n",
    "@show x, y, z, w\n",
    "a, b, c, d, e, f"
   ]
  },
  {
   "cell_type": "markdown",
   "metadata": {},
   "source": [
    "## `whos()`\n",
    "\n",
    "The command `whos()` reveals the content of the specified package or module. It can be invoked either with the package name, or with the package name and a regular expression."
   ]
  },
  {
   "cell_type": "code",
   "execution_count": 34,
   "metadata": {
    "collapsed": false
   },
   "outputs": [
    {
     "name": "stdout",
     "output_type": "stream",
     "text": [
      "                           Apr      8 bytes  Int64\n",
      "                         April      8 bytes  Int64\n",
      "                           Aug      8 bytes  Int64\n",
      "                        August      8 bytes  Int64\n",
      "                          Date    112 bytes  DataType\n",
      "                    DateFormat    136 bytes  DataType\n",
      "                    DatePeriod     92 bytes  DataType\n",
      "                      DateTime    112 bytes  DataType\n",
      "                         Dates    309 KB     Module\n",
      "                           Day    112 bytes  DataType\n",
      "                           Dec      8 bytes  Int64\n",
      "                      December      8 bytes  Int64\n",
      "                           Feb      8 bytes  Int64\n",
      "                      February      8 bytes  Int64\n",
      "                           Fri      8 bytes  Int64\n",
      "                        Friday      8 bytes  Int64\n",
      "                          Hour    112 bytes  DataType\n",
      "                 ISODateFormat    265 bytes  Base.Dates.DateFormat\n",
      "             ISODateTimeFormat    461 bytes  Base.Dates.DateFormat\n",
      "                           Jan      8 bytes  Int64\n",
      "                       January      8 bytes  Int64\n",
      "                           Jul      8 bytes  Int64\n",
      "                          July      8 bytes  Int64\n",
      "                           Jun      8 bytes  Int64\n",
      "                          June      8 bytes  Int64\n",
      "                           Mar      8 bytes  Int64\n",
      "                         March      8 bytes  Int64\n",
      "                           May      8 bytes  Int64\n",
      "                   Millisecond    112 bytes  DataType\n",
      "                        Minute    112 bytes  DataType\n",
      "                           Mon      8 bytes  Int64\n",
      "                        Monday      8 bytes  Int64\n",
      "                         Month    112 bytes  DataType\n",
      "                           Nov      8 bytes  Int64\n",
      "                      November      8 bytes  Int64\n",
      "                           Oct      8 bytes  Int64\n",
      "                       October      8 bytes  Int64\n",
      "                        Period     92 bytes  DataType\n",
      "                 RFC1123Format    462 bytes  Base.Dates.DateFormat\n",
      "                           Sat      8 bytes  Int64\n",
      "                      Saturday      8 bytes  Int64\n",
      "                        Second    112 bytes  DataType\n",
      "                           Sep      8 bytes  Int64\n",
      "                     September      8 bytes  Int64\n",
      "                           Sun      8 bytes  Int64\n",
      "                        Sunday      8 bytes  Int64\n",
      "                           Thu      8 bytes  Int64\n",
      "                      Thursday      8 bytes  Int64\n",
      "                    TimePeriod     92 bytes  DataType\n",
      "                      TimeType     92 bytes  DataType\n",
      "                      TimeZone     92 bytes  DataType\n",
      "                           Tue      8 bytes  Int64\n",
      "                       Tuesday      8 bytes  Int64\n",
      "                           UTC     92 bytes  DataType\n",
      "                           Wed      8 bytes  Int64\n",
      "                     Wednesday      8 bytes  Int64\n",
      "                          Week    112 bytes  DataType\n",
      "                          Year    112 bytes  DataType\n",
      "                        adjust   2689 bytes  Function\n",
      "               datetime2julian   4245 bytes  Function\n",
      "                 datetime2rata   4210 bytes  Function\n",
      "                 datetime2unix   4237 bytes  Function\n",
      "                           day   5098 bytes  Function\n",
      "                       dayabbr   6507 bytes  Function\n",
      "                       dayname   6507 bytes  Function\n",
      "                    dayofmonth   4202 bytes  Function\n",
      "                  dayofquarter   4262 bytes  Function\n",
      "                     dayofweek   5176 bytes  Function\n",
      "              dayofweekofmonth   4333 bytes  Function\n",
      "                     dayofyear   5058 bytes  Function\n",
      "                   daysinmonth   5722 bytes  Function\n",
      "                    daysinyear   4597 bytes  Function\n",
      "             daysofweekinmonth   4828 bytes  Function\n",
      "               firstdayofmonth   4666 bytes  Function\n",
      "             firstdayofquarter   5050 bytes  Function\n",
      "                firstdayofweek   4668 bytes  Function\n",
      "                firstdayofyear   4668 bytes  Function\n",
      "                          hour   4683 bytes  Function\n",
      "                    isleapyear   5559 bytes  Function\n",
      "               julian2datetime   4338 bytes  Function\n",
      "                lastdayofmonth   5022 bytes  Function\n",
      "              lastdayofquarter   5362 bytes  Function\n",
      "                 lastdayofweek   4664 bytes  Function\n",
      "                 lastdayofyear   5036 bytes  Function\n",
      "                   millisecond   4217 bytes  Function\n",
      "                        minute   4697 bytes  Function\n",
      "                         month   5098 bytes  Function\n",
      "                     monthabbr   6529 bytes  Function\n",
      "                      monthday   5224 bytes  Function\n",
      "                     monthname   6529 bytes  Function\n",
      "                           now   1977 bytes  Function\n",
      "                 quarterofyear   4328 bytes  Function\n",
      "                 rata2datetime   4259 bytes  Function\n",
      "                         recur   3614 bytes  Function\n",
      "                        second   4697 bytes  Function\n",
      "                         today   1127 bytes  Function\n",
      "                       tofirst   1664 bytes  Function\n",
      "                        tolast   1662 bytes  Function\n",
      "                        tonext   3484 bytes  Function\n",
      "                        toprev   3492 bytes  Function\n",
      "                 unix2datetime   4330 bytes  Function\n",
      "                          week   5030 bytes  Function\n",
      "                          year   5094 bytes  Function\n",
      "                     yearmonth   5149 bytes  Function\n",
      "                  yearmonthday   7920 bytes  Function\n"
     ]
    }
   ],
   "source": [
    "whos(Dates)"
   ]
  },
  {
   "cell_type": "code",
   "execution_count": 35,
   "metadata": {
    "collapsed": false
   },
   "outputs": [
    {
     "name": "stdout",
     "output_type": "stream",
     "text": [
      "                             /     30 KB     Function\n",
      "               ARPACKException    144 bytes  DataType\n",
      "                     A_ldiv_B!     44 KB     Function\n",
      "                     A_ldiv_Bc    487 bytes  Function\n",
      "                     A_ldiv_Bt    486 bytes  Function\n",
      "                      A_mul_B!     61 KB     Function\n",
      "                      A_mul_Bc   6943 bytes  Function\n",
      "                     A_mul_Bc!     22 KB     Function\n",
      "                      A_mul_Bt   2442 bytes  Function\n",
      "                     A_mul_Bt!   2979 bytes  Function\n",
      "                     A_rdiv_Bc   2981 bytes  Function\n",
      "                     A_rdiv_Bt   2536 bytes  Function\n",
      "                     Ac_ldiv_B   5890 bytes  Function\n",
      "                    Ac_ldiv_Bc   1920 bytes  Function\n",
      "                      Ac_mul_B   8932 bytes  Function\n",
      "                     Ac_mul_B!     23 KB     Function\n",
      "                     Ac_mul_Bc   1685 bytes  Function\n",
      "                    Ac_mul_Bc!   1478 bytes  Function\n",
      "                     Ac_rdiv_B    487 bytes  Function\n",
      "                    Ac_rdiv_Bc    504 bytes  Function\n",
      "                     At_ldiv_B   3723 bytes  Function\n",
      "                    At_ldiv_Bt   1924 bytes  Function\n",
      "                      At_mul_B   6213 bytes  Function\n",
      "                     At_mul_B!   6919 bytes  Function\n",
      "                     At_mul_Bt   1747 bytes  Function\n",
      "                    At_mul_Bt!   1478 bytes  Function\n",
      "                     At_rdiv_B    486 bytes  Function\n",
      "                    At_rdiv_Bt    502 bytes  Function\n",
      "                          BLAS    217 KB     Module\n",
      "                    Bidiagonal    192 bytes  DataType\n",
      "                  BunchKaufman    308 bytes  DataType\n",
      "                      Cholesky    284 bytes  DataType\n",
      "               CholeskyPivoted    332 bytes  DataType\n",
      "                      Diagonal    168 bytes  DataType\n",
      "                         Eigen    428 bytes  DataType\n",
      "                 Factorization    148 bytes  DataType\n",
      "              GeneralizedEigen    428 bytes  DataType\n",
      "                GeneralizedSVD    356 bytes  DataType\n",
      "              GeneralizedSchur    444 bytes  DataType\n",
      "                     Hermitian    284 bytes  DataType\n",
      "                    Hessenberg    284 bytes  DataType\n",
      "                             I      8 bytes  UniformScaling{Int64}\n",
      "                        LAPACK    934 KB     Module\n",
      "               LAPACKException    112 bytes  DataType\n",
      "                          LDLt    272 bytes  DataType\n",
      "                            LU    296 bytes  DataType\n",
      "                        LinAlg   2442 KB     Module\n",
      "               LowerTriangular    272 bytes  DataType\n",
      "               PosDefException    112 bytes  DataType\n",
      "                            QR    284 bytes  DataType\n",
      "                     QRPivoted    296 bytes  DataType\n",
      "        RankDeficientException    112 bytes  DataType\n",
      "                           SVD    272 bytes  DataType\n",
      "                         Schur    408 bytes  DataType\n",
      "             SingularException    112 bytes  DataType\n",
      "                SymTridiagonal    180 bytes  DataType\n",
      "                     Symmetric    284 bytes  DataType\n",
      "                   Tridiagonal    204 bytes  DataType\n",
      "                UniformScaling    168 bytes  DataType\n",
      "               UpperTriangular    272 bytes  DataType\n",
      "                             \\     32 KB     Function\n",
      "                         axpy!   9528 bytes  Function\n",
      "                        bkfact   3114 bytes  Function\n",
      "                       bkfact!   3912 bytes  Function\n",
      "                          chol   2800 bytes  Function\n",
      "                      cholfact     11 KB     Function\n",
      "                     cholfact!   9004 bytes  Function\n",
      "                          cond     10 KB     Function\n",
      "                     condskeel   3776 bytes  Function\n",
      "                         copy!     92 KB     Function\n",
      "                         cross    746 bytes  Function\n",
      "                    ctranspose     16 KB     Function\n",
      "                           det     11 KB     Function\n",
      "                          diag     11 KB     Function\n",
      "                       diagind   2124 bytes  Function\n",
      "                         diagm   4677 bytes  Function\n",
      "                          diff   4962 bytes  Function\n",
      "                           dot   9428 bytes  Function\n",
      "                           eig   3228 bytes  Function\n",
      "                       eigfact   8359 bytes  Function\n",
      "                      eigfact!     12 KB     Function\n",
      "                        eigmax   2921 bytes  Function\n",
      "                        eigmin   2885 bytes  Function\n",
      "                          eigs     11 KB     Function\n",
      "                       eigvals     10 KB     Function\n",
      "                      eigvals!     10 KB     Function\n",
      "                       eigvecs     10 KB     Function\n",
      "                          expm   3540 bytes  Function\n",
      "                           eye   3151 bytes  Function\n",
      "                     factorize   9903 bytes  Function\n",
      "                        givens   2677 bytes  Function\n",
      "                      gradient   4401 bytes  Function\n",
      "                      hessfact   1142 bytes  Function\n",
      "                     hessfact!    587 bytes  Function\n",
      "                        isdiag    921 bytes  Function\n",
      "                   ishermitian   6548 bytes  Function\n",
      "                      isposdef   3391 bytes  Function\n",
      "                     isposdef!   1231 bytes  Function\n",
      "                         issym   5789 bytes  Function\n",
      "                        istril   6683 bytes  Function\n",
      "                        istriu   6587 bytes  Function\n",
      "                          kron     13 KB     Function\n",
      "                      ldltfact   6552 bytes  Function\n",
      "                     ldltfact!   1997 bytes  Function\n",
      "                        linreg   1192 bytes  Function\n",
      "                     logabsdet   1996 bytes  Function\n",
      "                        logdet   5829 bytes  Function\n",
      "                          logm     19 KB     Function\n",
      "                            lu   1801 bytes  Function\n",
      "                        lufact   4642 bytes  Function\n",
      "                       lufact!   6816 bytes  Function\n",
      "                          lyap   2381 bytes  Function\n",
      "                          norm   7438 bytes  Function\n",
      "                     nullspace   1966 bytes  Function\n",
      "                      ordschur   2546 bytes  Function\n",
      "                     ordschur!   2951 bytes  Function\n",
      "                     peakflops   2802 bytes  Function\n",
      "                          pinv   6546 bytes  Function\n",
      "                            qr   3550 bytes  Function\n",
      "                        qrfact   2894 bytes  Function\n",
      "                       qrfact!   3472 bytes  Function\n",
      "                          rank   2282 bytes  Function\n",
      "                         scale   3011 bytes  Function\n",
      "                        scale!     16 KB     Function\n",
      "                         schur   1302 bytes  Function\n",
      "                     schurfact   2355 bytes  Function\n",
      "                    schurfact!   1195 bytes  Function\n",
      "                         sqrtm     10 KB     Function\n",
      "                           svd   6474 bytes  Function\n",
      "                       svdfact   7512 bytes  Function\n",
      "                      svdfact!   4968 bytes  Function\n",
      "                          svds   5708 bytes  Function\n",
      "                       svdvals   4953 bytes  Function\n",
      "                      svdvals!   3505 bytes  Function\n",
      "                     sylvester   2222 bytes  Function\n",
      "                         trace   3314 bytes  Function\n",
      "                     transpose     16 KB     Function\n",
      "                          tril     10 KB     Function\n",
      "                         tril!     15 KB     Function\n",
      "                          triu     10 KB     Function\n",
      "                         triu!     15 KB     Function\n",
      "                        vecdot     19 KB     Function\n",
      "                       vecnorm   3235 bytes  Function\n"
     ]
    }
   ],
   "source": [
    "whos(LinAlg)"
   ]
  },
  {
   "cell_type": "code",
   "execution_count": 36,
   "metadata": {
    "collapsed": false
   },
   "outputs": [
    {
     "name": "stdout",
     "output_type": "stream",
     "text": [
      "                           eig   3228 bytes  Function\n",
      "                       eigfact   8359 bytes  Function\n",
      "                      eigfact!     12 KB     Function\n",
      "                        eigmax   2921 bytes  Function\n",
      "                        eigmin   2885 bytes  Function\n",
      "                          eigs     11 KB     Function\n",
      "                       eigvals     10 KB     Function\n",
      "                      eigvals!     10 KB     Function\n",
      "                       eigvecs     10 KB     Function\n"
     ]
    }
   ],
   "source": [
    "# Now with a regular expression - we are looking for 'eigenvalue' related stuff. \n",
    "whos(Base, Regex(\"eig\")) "
   ]
  },
  {
   "cell_type": "markdown",
   "metadata": {},
   "source": [
    "Funally, let us list all we have in `Julia`'s `Base` module. __It is a long list!__ \n",
    "Notice that `Dates` and `LinAlg` are modules themselves."
   ]
  },
  {
   "cell_type": "code",
   "execution_count": 37,
   "metadata": {
    "collapsed": false,
    "scrolled": true
   },
   "outputs": [
    {
     "name": "stdout",
     "output_type": "stream",
     "text": [
      "                             !   2222 bytes  Function\n",
      "                            !=     15 KB     Function\n",
      "                           !==     75 KB     Function\n",
      "                             $     30 KB     Function\n",
      "                             %     60 KB     Function\n",
      "                             &     34 KB     Function\n",
      "                             *    104 KB     Function\n",
      "                             +    147 KB     Function\n",
      "                             -    151 KB     Function\n",
      "                           .!=   7199 bytes  Function\n",
      "                            .%   4284 bytes  Function\n",
      "                            .*     15 KB     Function\n",
      "                            .+     21 KB     Function\n",
      "                            .-     20 KB     Function\n",
      "                            ./     10 KB     Function\n",
      "                           .//   2548 bytes  Function\n",
      "                            .<   7658 bytes  Function\n",
      "                           .<<   2550 bytes  Function\n",
      "                           .<=   4909 bytes  Function\n",
      "                           .==   6941 bytes  Function\n",
      "                            .>   2047 bytes  Function\n",
      "                           .>=    468 bytes  Function\n",
      "                           .>>   3034 bytes  Function\n",
      "                            .\\   4968 bytes  Function\n",
      "                            .^     14 KB     Function\n",
      "                            .≠   7199 bytes  Function\n",
      "                            .≤   4909 bytes  Function\n",
      "                            .≥    468 bytes  Function\n",
      "                             /     30 KB     Function\n",
      "                            //   4908 bytes  Function\n",
      "                             :      0 bytes  Colon\n",
      "                             <     46 KB     Function\n",
      "                            <:     24 bytes  Function\n",
      "                            <<     36 KB     Function\n",
      "                            <=     37 KB     Function\n",
      "                            ==    936 KB     Function\n",
      "                            =>    220 bytes  DataType\n",
      "                             >   7752 bytes  Function\n",
      "                            >=   5554 bytes  Function\n",
      "                            >>     35 KB     Function\n",
      "                           >>>     34 KB     Function\n",
      "                         @MIME    448 bytes  Function\n",
      "                     @MIME_str    270 bytes  Function\n",
      "                     @__FILE__    208 bytes  Function\n",
      "                    @allocated    593 bytes  Function\n",
      "                       @assert   1354 bytes  Function\n",
      "                        @async    504 bytes  Function\n",
      "                        @b_str    276 bytes  Function\n",
      "                      @big_str    504 bytes  Function\n",
      "                  @boundscheck    309 bytes  Function\n",
      "                          @cmd    250 bytes  Function\n",
      "                    @code_llvm    277 bytes  Function\n",
      "                 @code_lowered    280 bytes  Function\n",
      "                  @code_native    279 bytes  Function\n",
      "                   @code_typed    278 bytes  Function\n",
      "                @code_warntype    281 bytes  Function\n",
      "                    @deprecate   2127 bytes  Function\n",
      "                          @doc    274 bytes  Function\n",
      "                      @doc_str    537 bytes  Function\n",
      "                         @edit    272 bytes  Function\n",
      "                      @elapsed    758 bytes  Function\n",
      "                         @enum     10 KB     Function\n",
      "                         @eval    259 bytes  Function\n",
      "                     @evalpoly   4107 bytes  Function\n",
      "                   @everywhere    750 bytes  Function\n",
      "                     @fastmath    253 bytes  Function\n",
      "                        @fetch    462 bytes  Function\n",
      "                    @fetchfrom    461 bytes  Function\n",
      "                    @generated    906 bytes  Function\n",
      "                       @gensym   1095 bytes  Function\n",
      "                         @goto    245 bytes  Function\n",
      "                     @html_str    234 bytes  Function\n",
      "                     @inbounds    269 bytes  Function\n",
      "                       @inline    237 bytes  Function\n",
      "                   @int128_str    224 bytes  Function\n",
      "                       @ip_str    223 bytes  Function\n",
      "                        @label    246 bytes  Function\n",
      "                         @less    272 bytes  Function\n",
      "                        @linux    279 bytes  Function\n",
      "                   @linux_only    211 bytes  Function\n",
      "                   @math_const    363 bytes  Function\n",
      "                     @noinline    239 bytes  Function\n",
      "                          @osx    280 bytes  Function\n",
      "                     @osx_only    211 bytes  Function\n",
      "                     @parallel   1321 bytes  Function\n",
      "                       @printf   1105 bytes  Function\n",
      "                      @profile    524 bytes  Function\n",
      "                        @r_str    293 bytes  Function\n",
      "                        @s_str    230 bytes  Function\n",
      "                     @schedule    433 bytes  Function\n",
      "                         @show   1338 bytes  Function\n",
      "                         @simd    256 bytes  Function\n",
      "                        @spawn    427 bytes  Function\n",
      "                      @spawnat    452 bytes  Function\n",
      "                      @sprintf   1050 bytes  Function\n",
      "                         @sync    578 bytes  Function\n",
      "                         @task    368 bytes  Function\n",
      "                     @text_str    238 bytes  Function\n",
      "                         @time    774 bytes  Function\n",
      "                        @timed    734 bytes  Function\n",
      "                        @timev    646 bytes  Function\n",
      "                  @uint128_str    225 bytes  Function\n",
      "                         @unix    277 bytes  Function\n",
      "                    @unix_only    211 bytes  Function\n",
      "                        @v_str    233 bytes  Function\n",
      "               @vectorize_1arg   2071 bytes  Function\n",
      "               @vectorize_2arg   2489 bytes  Function\n",
      "                        @which    273 bytes  Function\n",
      "                      @windows    281 bytes  Function\n",
      "                 @windows_only    222 bytes  Function\n",
      "                          ARGS    110 bytes  1-element Array{UTF8String,1}\n",
      "                     A_ldiv_B!     44 KB     Function\n",
      "                     A_ldiv_Bc    487 bytes  Function\n",
      "                     A_ldiv_Bt    486 bytes  Function\n",
      "                      A_mul_B!     61 KB     Function\n",
      "                      A_mul_Bc   6943 bytes  Function\n",
      "                     A_mul_Bc!     22 KB     Function\n",
      "                      A_mul_Bt   2442 bytes  Function\n",
      "                     A_mul_Bt!   2979 bytes  Function\n",
      "                     A_rdiv_Bc   2981 bytes  Function\n",
      "                     A_rdiv_Bt   2536 bytes  Function\n",
      "               AbstractChannel     92 bytes  DataType\n",
      "                AbstractMatrix     80 bytes  TypeConstructor\n",
      "                   AbstractRNG     92 bytes  DataType\n",
      "           AbstractSparseArray    228 bytes  DataType\n",
      "          AbstractSparseMatrix    120 bytes  TypeConstructor\n",
      "          AbstractSparseVector    120 bytes  TypeConstructor\n",
      "              AbstractVecOrMat    112 bytes  TypeConstructor\n",
      "                AbstractVector     80 bytes  TypeConstructor\n",
      "                     Ac_ldiv_B   5890 bytes  Function\n",
      "                    Ac_ldiv_Bc   1920 bytes  Function\n",
      "                      Ac_mul_B   8932 bytes  Function\n",
      "                     Ac_mul_B!     23 KB     Function\n",
      "                     Ac_mul_Bc   1685 bytes  Function\n",
      "                    Ac_mul_Bc!   1478 bytes  Function\n",
      "                     Ac_rdiv_B    487 bytes  Function\n",
      "                    Ac_rdiv_Bc    504 bytes  Function\n",
      "                 ArgumentError    112 bytes  DataType\n",
      "                         Array    188 bytes  DataType\n",
      "                AssertionError    112 bytes  DataType\n",
      "                   Associative    188 bytes  DataType\n",
      "                     At_ldiv_B   3723 bytes  Function\n",
      "                    At_ldiv_Bt   1924 bytes  Function\n",
      "                      At_mul_B   6213 bytes  Function\n",
      "                     At_mul_B!   6919 bytes  Function\n",
      "                     At_mul_Bt   1747 bytes  Function\n",
      "                    At_mul_Bt!   1478 bytes  Function\n",
      "                     At_rdiv_B    486 bytes  Function\n",
      "                    At_rdiv_Bt    502 bytes  Function\n",
      "                          BLAS    217 KB     Module\n",
      "                          Base  27171 KB     Module\n",
      "              Base64DecodePipe    136 bytes  DataType\n",
      "              Base64EncodePipe    148 bytes  DataType\n",
      "                    Bidiagonal    192 bytes  DataType\n",
      "                      BigFloat    148 bytes  DataType\n",
      "                        BigInt    136 bytes  DataType\n",
      "                      BitArray    192 bytes  DataType\n",
      "                     BitMatrix    152 bytes  DataType\n",
      "                     BitVector    152 bytes  DataType\n",
      "                  BufferStream    172 bytes  DataType\n",
      "                     CPU_CORES      8 bytes  Int64\n",
      "                        C_NULL      8 bytes  Ptr{Void}\n",
      "             CapturedException    124 bytes  DataType\n",
      "                CartesianIndex    168 bytes  DataType\n",
      "                CartesianRange    180 bytes  DataType\n",
      "                         Cchar     92 bytes  DataType\n",
      "                       Cdouble     92 bytes  DataType\n",
      "                        Cfloat     92 bytes  DataType\n",
      "                       Channel    216 bytes  DataType\n",
      "                          Cint     92 bytes  DataType\n",
      "                     Cintmax_t     92 bytes  DataType\n",
      "                         Clong     92 bytes  DataType\n",
      "                     Clonglong     92 bytes  DataType\n",
      "                ClusterManager     92 bytes  DataType\n",
      "                           Cmd    192 bytes  DataType\n",
      "                        Coff_t     92 bytes  DataType\n",
      "                   Collections     19 KB     Module\n",
      "                         Colon     92 bytes  DataType\n",
      "                       Complex    180 bytes  DataType\n",
      "                    Complex128    132 bytes  DataType\n",
      "                     Complex32    132 bytes  DataType\n",
      "                     Complex64    132 bytes  DataType\n",
      "            CompositeException    112 bytes  DataType\n",
      "                     Condition    112 bytes  DataType\n",
      "                    Cptrdiff_t     92 bytes  DataType\n",
      "                        Cshort     92 bytes  DataType\n",
      "                       Csize_t     92 bytes  DataType\n",
      "                      Cssize_t     92 bytes  DataType\n",
      "                       Cstring     92 bytes  DataType\n",
      "                        Cuchar     92 bytes  DataType\n",
      "                         Cuint     92 bytes  DataType\n",
      "                    Cuintmax_t     92 bytes  DataType\n",
      "                        Culong     92 bytes  DataType\n",
      "                    Culonglong     92 bytes  DataType\n",
      "                       Cushort     92 bytes  DataType\n",
      "                      Cwchar_t     92 bytes  DataType\n",
      "                      Cwstring     92 bytes  DataType\n",
      "                          Date    112 bytes  DataType\n",
      "                      DateTime    112 bytes  DataType\n",
      "                         Dates    309 KB     Module\n",
      "                   DenseMatrix     80 bytes  TypeConstructor\n",
      "                 DenseVecOrMat    112 bytes  TypeConstructor\n",
      "                   DenseVector     80 bytes  TypeConstructor\n",
      "                       DevNull      0 bytes  Base.DevNullStream\n",
      "                      Diagonal    168 bytes  DataType\n",
      "                          Dict    280 bytes  DataType\n",
      "             DimensionMismatch    112 bytes  DataType\n",
      "                          Dims    104 bytes  DataType\n",
      "                       Display     92 bytes  DataType\n",
      "                          Docs    459 KB     Module\n",
      "                    ENDIAN_BOM      4 bytes  UInt32\n",
      "                           ENV      0 bytes  Base.EnvHash with 45 entries\n",
      "                      EOFError     92 bytes  DataType\n",
      "                      EachLine    124 bytes  DataType\n",
      "                          Enum     92 bytes  DataType\n",
      "                     Enumerate    168 bytes  DataType\n",
      "                ErrorException    112 bytes  DataType\n",
      "                          FFTW    150 KB     Module\n",
      "                 Factorization    148 bytes  DataType\n",
      "                   FileMonitor    180 bytes  DataType\n",
      "                    FileOffset     92 bytes  DataType\n",
      "                        Filter    220 bytes  DataType\n",
      "                    FloatRange    204 bytes  DataType\n",
      "                          HTML    168 bytes  DataType\n",
      "                     Hermitian    284 bytes  DataType\n",
      "                             I      8 bytes  UniformScaling{Int64}\n",
      "                            IO     92 bytes  DataType\n",
      "                      IOBuffer    216 bytes  DataType\n",
      "                      IOStream    148 bytes  DataType\n",
      "                          IPv4    112 bytes  DataType\n",
      "                          IPv6    112 bytes  DataType\n",
      "                           Inf      8 bytes  Float64\n",
      "                         Inf16      2 bytes  Float16\n",
      "                         Inf32      4 bytes  Float32\n",
      "                         Inf64      8 bytes  Float64\n",
      "                     InitError    124 bytes  DataType\n",
      "                 InsertionSort      0 bytes  Base.Sort.InsertionSortAlg\n",
      "                        IntSet    136 bytes  DataType\n",
      "         InvalidStateException    124 bytes  DataType\n",
      "                    Irrational    148 bytes  DataType\n",
      "                    JULIA_HOME     51 bytes  ASCIIString\n",
      "                      KeyError    112 bytes  DataType\n",
      "                        LAPACK    934 KB     Module\n",
      "                     LOAD_PATH    160 bytes  2-element Array{ByteString,1}\n",
      "                          Libc     31 KB     Module\n",
      "                         Libdl     13 KB     Module\n",
      "                        LinAlg   2442 KB     Module\n",
      "                      LinSpace    204 bytes  DataType\n",
      "                     LoadError    136 bytes  DataType\n",
      "                  LocalProcess    136 bytes  DataType\n",
      "               LowerTriangular    272 bytes  DataType\n",
      "                          MIME    148 bytes  DataType\n",
      "                      Markdown    376 KB     Module\n",
      "                        Matrix     80 bytes  TypeConstructor\n",
      "                     MergeSort      0 bytes  Base.Sort.MergeSortAlg\n",
      "               MersenneTwister    148 bytes  DataType\n",
      "                          Meta     10 KB     Module\n",
      "                   MethodError    124 bytes  DataType\n",
      "                          Mmap     70 KB     Module\n",
      "                           NaN      8 bytes  Float64\n",
      "                         NaN16      2 bytes  Float16\n",
      "                         NaN32      4 bytes  Float32\n",
      "                         NaN64      8 bytes  Float64\n",
      "                 NullException     92 bytes  DataType\n",
      "                      Nullable    180 bytes  DataType\n",
      "                       OS_NAME      0 bytes  Symbol\n",
      "                  ObjectIdDict    112 bytes  DataType\n",
      "                     Operators   4928 KB     Module\n",
      "                  OrdinalRange    188 bytes  DataType\n",
      "                          Pair    220 bytes  DataType\n",
      "                    ParseError    112 bytes  DataType\n",
      "              PartialQuickSort    200 bytes  DataType\n",
      "                          Pipe    124 bytes  DataType\n",
      "                    PipeBuffer   2873 bytes  Function\n",
      "                           Pkg    655 KB     Module\n",
      "            PollingFileWatcher    192 bytes  DataType\n",
      "        ProcessExitedException     92 bytes  DataType\n",
      "                  ProcessGroup    148 bytes  DataType\n",
      "                       Profile     68 KB     Module\n",
      "                     QuickSort      0 bytes  Base.Sort.QuickSortAlg\n",
      "                  RandomDevice    112 bytes  DataType\n",
      "                         Range    148 bytes  DataType\n",
      "                    RangeIndex     40 bytes  Union\n",
      "                      Rational    180 bytes  DataType\n",
      "                         RawFD    112 bytes  DataType\n",
      "                 ReentrantLock    136 bytes  DataType\n",
      "                         Regex    216 bytes  DataType\n",
      "                    RegexMatch    160 bytes  DataType\n",
      "               RemoteException    124 bytes  DataType\n",
      "                     RemoteRef    192 bytes  DataType\n",
      "                     RepString    124 bytes  DataType\n",
      "                     RevString    168 bytes  DataType\n",
      "                    RopeString    148 bytes  DataType\n",
      "                     RoundDown      0 bytes  RoundingMode{:Down}\n",
      "                 RoundFromZero      0 bytes  RoundingMode{:FromZero}\n",
      "                  RoundNearest      0 bytes  RoundingMode{:Nearest}\n",
      "          RoundNearestTiesAway      0 bytes  RoundingMode{:NearestTiesAway}\n",
      "            RoundNearestTiesUp      0 bytes  RoundingMode{:NearestTiesUp}\n",
      "                   RoundToZero      0 bytes  RoundingMode{:ToZero}\n",
      "                       RoundUp      0 bytes  RoundingMode{:Up}\n",
      "                  RoundingMode    148 bytes  DataType\n",
      "                        STDERR    241 bytes  Base.PipeEndpoint\n",
      "                         STDIN    241 bytes  Base.PipeEndpoint\n",
      "                        STDOUT    241 bytes  Base.PipeEndpoint\n",
      "            SerializationState    192 bytes  DataType\n",
      "                    Serializer     69 KB     Module\n",
      "                           Set    168 bytes  DataType\n",
      "                   SharedArray    280 bytes  DataType\n",
      "                  SharedMatrix     80 bytes  TypeConstructor\n",
      "                  SharedVector     80 bytes  TypeConstructor\n",
      "                  SparseMatrix    487 KB     Module\n",
      "               SparseMatrixCSC    256 bytes  DataType\n",
      "                    StatStruct    244 bytes  DataType\n",
      "                     StepRange    232 bytes  DataType\n",
      "                  StridedArray    232 bytes  TypeConstructor\n",
      "                 StridedMatrix    192 bytes  TypeConstructor\n",
      "               StridedVecOrMat    128 bytes  TypeConstructor\n",
      "                 StridedVector    192 bytes  TypeConstructor\n",
      "                      SubArray    376 bytes  DataType\n",
      "                     SubString    192 bytes  DataType\n",
      "                SymTridiagonal    180 bytes  DataType\n",
      "                     Symmetric    284 bytes  DataType\n",
      "                           Sys     12 KB     Module\n",
      "                   SystemError    124 bytes  DataType\n",
      "                     TCPSocket    288 bytes  DataType\n",
      "                          Test     18 KB     Module\n",
      "                          Text    168 bytes  DataType\n",
      "                   TextDisplay    112 bytes  DataType\n",
      "                         Timer    136 bytes  DataType\n",
      "                   Tridiagonal    204 bytes  DataType\n",
      "                     TypeError    148 bytes  DataType\n",
      "                     UDPSocket    160 bytes  DataType\n",
      "                   UTF16String    112 bytes  DataType\n",
      "                   UTF32String    112 bytes  DataType\n",
      "                  UnicodeError    136 bytes  DataType\n",
      "                UniformScaling    168 bytes  DataType\n",
      "                         Union    112 bytes  DataType\n",
      "                     UnitRange    180 bytes  DataType\n",
      "               UpperTriangular    272 bytes  DataType\n",
      "                       VERSION     40 bytes  VersionNumber\n",
      "                           Val    148 bytes  DataType\n",
      "                      VecOrMat    112 bytes  TypeConstructor\n",
      "                        Vector     80 bytes  TypeConstructor\n",
      "                 VersionNumber    160 bytes  DataType\n",
      "                     WORD_SIZE      8 bytes  Int64\n",
      "                       WString    112 bytes  DataType\n",
      "                   WeakKeyDict    220 bytes  DataType\n",
      "                  WorkerConfig    304 bytes  DataType\n",
      "                           Zip    220 bytes  DataType\n",
      "                             \\     32 KB     Function\n",
      "                             ^     27 KB     Function\n",
      "                __precompile__   2516 bytes  Function\n",
      "                           abs     26 KB     Function\n",
      "                          abs2   8630 bytes  Function\n",
      "                       abspath   8621 bytes  Function\n",
      "                        accept   1928 bytes  Function\n",
      "                          acos     10 KB     Function\n",
      "                         acosd   5386 bytes  Function\n",
      "                         acosh   8568 bytes  Function\n",
      "                          acot   2129 bytes  Function\n",
      "                         acotd   5386 bytes  Function\n",
      "                         acoth    943 bytes  Function\n",
      "                          acsc    941 bytes  Function\n",
      "                         acscd   4196 bytes  Function\n",
      "                         acsch   2133 bytes  Function\n",
      "                      addprocs   9970 bytes  Function\n",
      "                          airy     10 KB     Function\n",
      "                        airyai   4895 bytes  Function\n",
      "                   airyaiprime   4203 bytes  Function\n",
      "                        airybi   4188 bytes  Function\n",
      "                   airybiprime   4203 bytes  Function\n",
      "                     airyprime   4197 bytes  Function\n",
      "                         airyx     10 KB     Function\n",
      "                           all   9601 bytes  Function\n",
      "                          all!   3076 bytes  Function\n",
      "                         angle   4461 bytes  Function\n",
      "                           any     20 KB     Function\n",
      "                          any!   3076 bytes  Function\n",
      "                       append!      9 KB     Function\n",
      "                         apply    545 bytes  Function\n",
      "                       apropos   2365 bytes  Function\n",
      "                         ascii   2170 bytes  Function\n",
      "                          asec    941 bytes  Function\n",
      "                         asecd   4196 bytes  Function\n",
      "                         asech   2133 bytes  Function\n",
      "                          asin      9 KB     Function\n",
      "                         asind   6277 bytes  Function\n",
      "                         asinh   9557 bytes  Function\n",
      "                        assert    686 bytes  Function\n",
      "                          atan   9551 bytes  Function\n",
      "                         atan2   6979 bytes  Function\n",
      "                         atand   6277 bytes  Function\n",
      "                         atanh     11 KB     Function\n",
      "                        atexit   1072 bytes  Function\n",
      "                    atreplinit    475 bytes  Function\n",
      "                     backtrace    623 bytes  Function\n",
      "                          base   3193 bytes  Function\n",
      "                        base64    586 bytes  Function\n",
      "                  base64decode    846 bytes  Function\n",
      "                  base64encode     27 KB     Function\n",
      "                      basename    457 bytes  Function\n",
      "                    beginswith    590 bytes  Function\n",
      "                       besselh   6353 bytes  Function\n",
      "                      besselhx   2158 bytes  Function\n",
      "                       besseli   6389 bytes  Function\n",
      "                      besselix   6445 bytes  Function\n",
      "                       besselj   8777 bytes  Function\n",
      "                      besselj0   6150 bytes  Function\n",
      "                      besselj1   6150 bytes  Function\n",
      "                      besseljx   6398 bytes  Function\n",
      "                       besselk   6187 bytes  Function\n",
      "                      besselkx   6194 bytes  Function\n",
      "                       bessely   8697 bytes  Function\n",
      "                      bessely0   6305 bytes  Function\n",
      "                      bessely1   6305 bytes  Function\n",
      "                      besselyx   6300 bytes  Function\n",
      "                          beta   5142 bytes  Function\n",
      "                          bfft   2622 bytes  Function\n",
      "                         bfft!    858 bytes  Function\n",
      "                           big     11 KB     Function\n",
      "                           bin   3697 bytes  Function\n",
      "                          bind     11 KB     Function\n",
      "                      binomial   3045 bytes  Function\n",
      "                  bitbroadcast    595 bytes  Function\n",
      "                       bitpack   1177 bytes  Function\n",
      "                       bitrand   1662 bytes  Function\n",
      "                          bits   2226 bytes  Function\n",
      "                     bitunpack    510 bytes  Function\n",
      "                        bkfact   3114 bytes  Function\n",
      "                       bkfact!   3912 bytes  Function\n",
      "          blas_set_num_threads   2299 bytes  Function\n",
      "                       blkdiag   3925 bytes  Function\n",
      "                          bool    903 bytes  Function\n",
      "                         brfft   2798 bytes  Function\n",
      "                     broadcast   1357 bytes  Function\n",
      "                    broadcast!     17 KB     Function\n",
      "           broadcast!_function    447 bytes  Function\n",
      "            broadcast_function    447 bytes  Function\n",
      "            broadcast_getindex    617 bytes  Function\n",
      "           broadcast_setindex!   4084 bytes  Function\n",
      "                         bswap   5704 bytes  Function\n",
      "                     bytes2hex   2583 bytes  Function\n",
      "                    bytestring     11 KB     Function\n",
      "                      c_calloc    601 bytes  Function\n",
      "                        c_free    593 bytes  Function\n",
      "                      c_malloc    589 bytes  Function\n",
      "                     c_realloc    605 bytes  Function\n",
      "                          call   1804 KB     Function\n",
      "                  cartesianmap    806 bytes  Function\n",
      "                           cat     14 KB     Function\n",
      "                       catalan      0 bytes  Irrational{:catalan}\n",
      "               catch_backtrace    611 bytes  Function\n",
      "                          cbrt   6070 bytes  Function\n",
      "                            cd   5907 bytes  Function\n",
      "                          ceil     26 KB     Function\n",
      "                          cell   1703 bytes  Function\n",
      "                     cfunction   1567 bytes  Function\n",
      "                       cglobal      4 bytes  IntrinsicFunction\n",
      "                          char   1322 bytes  Function\n",
      "                     charwidth    804 bytes  Function\n",
      "                   checkbounds     38 KB     Function\n",
      "                         chmod   3580 bytes  Function\n",
      "                          chol   2800 bytes  Function\n",
      "                      cholfact     11 KB     Function\n",
      "                     cholfact!   9004 bytes  Function\n",
      "                         chomp   5186 bytes  Function\n",
      "                          chop   1252 bytes  Function\n",
      "                       chr2ind   5205 bytes  Function\n",
      "                     circshift   1890 bytes  Function\n",
      "                           cis   4520 bytes  Function\n",
      "                         clamp   5905 bytes  Function\n",
      "                        clamp!    886 bytes  Function\n",
      "                           cld   6398 bytes  Function\n",
      "                     clipboard   4588 bytes  Function\n",
      "                         close     21 KB     Function\n",
      "                           cmp     57 KB     Function\n",
      "                     code_llvm   2630 bytes  Function\n",
      "                  code_lowered    529 bytes  Function\n",
      "                   code_native   1517 bytes  Function\n",
      "                    code_typed   2933 bytes  Function\n",
      "                 code_warntype   2397 bytes  Function\n",
      "                       collect     25 KB     Function\n",
      "                         colon     12 KB     Function\n",
      "                  combinations    595 bytes  Function\n",
      "                    complement    467 bytes  Function\n",
      "                   complement!    940 bytes  Function\n",
      "                       complex   6065 bytes  Function\n",
      "                    complex128   1344 bytes  Function\n",
      "                     complex32    949 bytes  Function\n",
      "                     complex64   1341 bytes  Function\n",
      "                          cond     10 KB     Function\n",
      "                     condskeel   3776 bytes  Function\n",
      "                          conj   5015 bytes  Function\n",
      "                         conj!   2832 bytes  Function\n",
      "                       connect     16 KB     Function\n",
      "                       consume   1684 bytes  Function\n",
      "                      contains   2093 bytes  Function\n",
      "                          conv   3052 bytes  Function\n",
      "                         conv2   3448 bytes  Function\n",
      "                       convert    472 KB     Function\n",
      "                          copy     31 KB     Function\n",
      "                         copy!     92 KB     Function\n",
      "                      copysign   9261 bytes  Function\n",
      "                           cor   7215 bytes  Function\n",
      "                           cos   9600 bytes  Function\n",
      "                          cosc   7159 bytes  Function\n",
      "                          cosd   6911 bytes  Function\n",
      "                          cosh   8824 bytes  Function\n",
      "                         cospi   9711 bytes  Function\n",
      "                           cot   2125 bytes  Function\n",
      "                          cotd   2129 bytes  Function\n",
      "                          coth   2827 bytes  Function\n",
      "                         count   4049 bytes  Function\n",
      "                    count_ones   4678 bytes  Function\n",
      "                   count_zeros    460 bytes  Function\n",
      "                     countfrom   1203 bytes  Function\n",
      "                    countlines   3069 bytes  Function\n",
      "                       countnz   2883 bytes  Function\n",
      "                           cov      9 KB     Function\n",
      "                            cp   8244 bytes  Function\n",
      "                         cross    746 bytes  Function\n",
      "                           csc   2976 bytes  Function\n",
      "                          cscd   2129 bytes  Function\n",
      "                          csch   2827 bytes  Function\n",
      "                         ctime    500 bytes  Function\n",
      "                    ctranspose     16 KB     Function\n",
      "                   ctranspose!   5724 bytes  Function\n",
      "                        cummax   3341 bytes  Function\n",
      "                        cummin   3347 bytes  Function\n",
      "                       cumprod   1339 bytes  Function\n",
      "                      cumprod!   3557 bytes  Function\n",
      "                        cumsum   1380 bytes  Function\n",
      "                       cumsum!   3555 bytes  Function\n",
      "                    cumsum_kbn   4455 bytes  Function\n",
      "                current_module    776 bytes  Function\n",
      "                  current_task    787 bytes  Function\n",
      "                         cycle    461 bytes  Function\n",
      "                        dawson   6625 bytes  Function\n",
      "                           dct   1846 bytes  Function\n",
      "                          dct!   1850 bytes  Function\n",
      "                           dec     12 KB     Function\n",
      "                        deconv    906 bytes  Function\n",
      "                      deepcopy   1332 bytes  Function\n",
      "                       deg2rad   4557 bytes  Function\n",
      "                       delete!     14 KB     Function\n",
      "                     deleteat!     19 KB     Function\n",
      "                           den    949 bytes  Function\n",
      "                   deserialize     16 KB     Function\n",
      "                           det     11 KB     Function\n",
      "                        detach    655 bytes  Function\n",
      "                          diag     11 KB     Function\n",
      "                       diagind   2124 bytes  Function\n",
      "                         diagm   4677 bytes  Function\n",
      "                          diff   4962 bytes  Function\n",
      "                       digamma   8736 bytes  Function\n",
      "                        digits   1609 bytes  Function\n",
      "                       digits!   1434 bytes  Function\n",
      "                       dirname   1663 bytes  Function\n",
      "                disable_sigint    737 bytes  Function\n",
      "                       display     20 KB     Function\n",
      "                   displayable   2127 bytes  Function\n",
      "                           div     34 KB     Function\n",
      "                        divrem   2343 bytes  Function\n",
      "                       dlclose    602 bytes  Function\n",
      "                        dlopen    598 bytes  Function\n",
      "                      dlopen_e    606 bytes  Function\n",
      "                         dlsym    594 bytes  Function\n",
      "                       dlsym_e    602 bytes  Function\n",
      "                          done    213 KB     Function\n",
      "                           dot   9428 bytes  Function\n",
      "                      download   1559 bytes  Function\n",
      "                          drop    487 bytes  Function\n",
      "                          dump   5766 bytes  Function\n",
      "                             e      0 bytes  Irrational{:e}\n",
      "                     eachindex     26 KB     Function\n",
      "                      eachline   2224 bytes  Function\n",
      "                     eachmatch   1163 bytes  Function\n",
      "                          edit   6043 bytes  Function\n",
      "                           eig   3228 bytes  Function\n",
      "                       eigfact   8359 bytes  Function\n",
      "                      eigfact!     12 KB     Function\n",
      "                        eigmax   2921 bytes  Function\n",
      "                        eigmin   2885 bytes  Function\n",
      "                          eigs     11 KB     Function\n",
      "                       eigvals     10 KB     Function\n",
      "                      eigvals!     10 KB     Function\n",
      "                       eigvecs     10 KB     Function\n",
      "                        eltype     47 KB     Function\n",
      "                        empty!   6283 bytes  Function\n",
      "                         endof     26 KB     Function\n",
      "                      endswith   4469 bytes  Function\n",
      "                     enumerate   1354 bytes  Function\n",
      "                           eof   6817 bytes  Function\n",
      "                           eps   3894 bytes  Function\n",
      "                           erf   7599 bytes  Function\n",
      "                          erfc   7604 bytes  Function\n",
      "                       erfcinv   7220 bytes  Function\n",
      "                         erfcx   6620 bytes  Function\n",
      "                          erfi   6615 bytes  Function\n",
      "                        erfinv   8675 bytes  Function\n",
      "                         errno    593 bytes  Function\n",
      "                         error     13 KB     Function\n",
      "                           esc   1589 bytes  Function\n",
      "                 escape_string   1075 bytes  Function\n",
      "                           eta   7143 bytes  Function\n",
      "                         etree   4596 bytes  Function\n",
      "                            eu      0 bytes  Irrational{:e}\n",
      "                    eulergamma      0 bytes  Irrational{:γ}\n",
      "                      evalfile   1692 bytes  Function\n",
      "                          exit   1155 bytes  Function\n",
      "                           exp     10 KB     Function\n",
      "                         exp10   7362 bytes  Function\n",
      "                          exp2   7846 bytes  Function\n",
      "                        expand    744 bytes  Function\n",
      "                    expanduser    648 bytes  Function\n",
      "                          expm   3540 bytes  Function\n",
      "                         expm1   9333 bytes  Function\n",
      "                      exponent   7185 bytes  Function\n",
      "                       extrema   4945 bytes  Function\n",
      "                           eye   3151 bytes  Function\n",
      "                        factor   1855 bytes  Function\n",
      "                     factorial   6190 bytes  Function\n",
      "                     factorize   9903 bytes  Function\n",
      "                        falses    841 bytes  Function\n",
      "                            fd   2070 bytes  Function\n",
      "                          fdio   3879 bytes  Function\n",
      "                         fetch   1467 bytes  Function\n",
      "                           fft   2616 bytes  Function\n",
      "                          fft!    856 bytes  Function\n",
      "                      fftshift   1021 bytes  Function\n",
      "                    fieldnames   6568 bytes  Function\n",
      "                  fieldoffsets    631 bytes  Function\n",
      "                      filemode    495 bytes  Function\n",
      "                      filesize    494 bytes  Function\n",
      "                          fill   1772 bytes  Function\n",
      "                         fill!     41 KB     Function\n",
      "                          filt   1351 bytes  Function\n",
      "                         filt!   3258 bytes  Function\n",
      "                        filter   8667 bytes  Function\n",
      "                       filter!     14 KB     Function\n",
      "                      finalize    519 bytes  Function\n",
      "                     finalizer     10 KB     Function\n",
      "                          find     10 KB     Function\n",
      "                  find_library    622 bytes  Function\n",
      "                     findfirst   2311 bytes  Function\n",
      "                        findin   3175 bytes  Function\n",
      "                      findlast   1251 bytes  Function\n",
      "                       findmax   9302 bytes  Function\n",
      "                       findmin   9710 bytes  Function\n",
      "                         findn   7151 bytes  Function\n",
      "                      findnext     28 KB     Function\n",
      "                        findnz   3689 bytes  Function\n",
      "                      findprev   4991 bytes  Function\n",
      "                         first   6015 bytes  Function\n",
      "                           fld   6961 bytes  Function\n",
      "                        fldmod    501 bytes  Function\n",
      "                     flipbits!   1008 bytes  Function\n",
      "                       flipdim     12 KB     Function\n",
      "                        fliplr    505 bytes  Function\n",
      "                      flipsign   9808 bytes  Function\n",
      "                        flipud    505 bytes  Function\n",
      "                         float      9 KB     Function\n",
      "                       float16   2588 bytes  Function\n",
      "                       float32   4027 bytes  Function\n",
      "               float32_isvalid    526 bytes  Function\n",
      "                       float64   4024 bytes  Function\n",
      "               float64_isvalid    526 bytes  Function\n",
      "                         floor     26 KB     Function\n",
      "                         flush   9471 bytes  Function\n",
      "                  flush_cstdio    621 bytes  Function\n",
      "                           fma   4013 bytes  Function\n",
      "                         foldl   1133 bytes  Function\n",
      "                         foldr    912 bytes  Function\n",
      "                         frexp   3305 bytes  Function\n",
      "                          full     14 KB     Function\n",
      "                      fullname   2431 bytes  Function\n",
      "                   functionloc   1606 bytes  Function\n",
      "                  functionlocs    561 bytes  Function\n",
      "                         gamma   7100 bytes  Function\n",
      "                            gc    852 bytes  Function\n",
      "                    gc_disable    476 bytes  Function\n",
      "                     gc_enable    928 bytes  Function\n",
      "                           gcd   4648 bytes  Function\n",
      "                          gcdx   3746 bytes  Function\n",
      "                        gensym   3535 bytes  Function\n",
      "                           get     46 KB     Function\n",
      "                          get!   6755 bytes  Function\n",
      "        get_bigfloat_precision    624 bytes  Function\n",
      "                  get_rounding    955 bytes  Function\n",
      "           get_zero_subnormals    466 bytes  Function\n",
      "                   getaddrinfo   5021 bytes  Function\n",
      "                   gethostname    753 bytes  Function\n",
      "                      getindex    459 KB     Function\n",
      "                     getipaddr   6201 bytes  Function\n",
      "                        getkey   2002 bytes  Function\n",
      "                        getpid    741 bytes  Function\n",
      "                        givens   2677 bytes  Function\n",
      "                        golden      0 bytes  Irrational{:φ}\n",
      "                         gperm    883 bytes  Function\n",
      "                      gradient   4401 bytes  Function\n",
      "                     graphemes    495 bytes  Function\n",
      "                      hankelh1   4297 bytes  Function\n",
      "                     hankelh1x   4301 bytes  Function\n",
      "                      hankelh2   4297 bytes  Function\n",
      "                     hankelh2x   4301 bytes  Function\n",
      "                          hash     65 KB     Function\n",
      "                        haskey     38 KB     Function\n",
      "                          hcat     15 KB     Function\n",
      "                      hessfact   1142 bytes  Function\n",
      "                     hessfact!    587 bytes  Function\n",
      "                           hex     11 KB     Function\n",
      "                     hex2bytes   2609 bytes  Function\n",
      "                       hex2num    586 bytes  Function\n",
      "                          hist   2683 bytes  Function\n",
      "                         hist!   3380 bytes  Function\n",
      "                        hist2d   2400 bytes  Function\n",
      "                       hist2d!   1932 bytes  Function\n",
      "                     histrange   4269 bytes  Function\n",
      "                       homedir    600 bytes  Function\n",
      "                          htol    436 bytes  Function\n",
      "                          hton    846 bytes  Function\n",
      "                         hvcat     14 KB     Function\n",
      "                         hypot   7489 bytes  Function\n",
      "                         iceil    992 bytes  Function\n",
      "                          idct   1850 bytes  Function\n",
      "                         idct!   1854 bytes  Function\n",
      "                      identity    442 bytes  Function\n",
      "                        ifelse   6852 bytes  Function\n",
      "                          ifft   2622 bytes  Function\n",
      "                         ifft!    858 bytes  Function\n",
      "                     ifftshift   1033 bytes  Function\n",
      "                        ifloor    996 bytes  Function\n",
      "                  ignorestatus    935 bytes  Function\n",
      "                            im      2 bytes  Complex{Bool}\n",
      "                          imag   9037 bytes  Function\n",
      "                            in     46 KB     Function\n",
      "                       include   5818 bytes  Function\n",
      "            include_dependency    491 bytes  Function\n",
      "                include_string   4037 bytes  Function\n",
      "                       ind2chr   4536 bytes  Function\n",
      "                       ind2sub   4724 bytes  Function\n",
      "                      ind2sub!   1553 bytes  Function\n",
      "                       indexin   6085 bytes  Function\n",
      "                     indexpids    466 bytes  Function\n",
      "                        indmax   4561 bytes  Function\n",
      "                        indmin    816 bytes  Function\n",
      "                           inf    960 bytes  Function\n",
      "                          info   3871 bytes  Function\n",
      "                   init_worker   2571 bytes  Function\n",
      "                       insert!   8838 bytes  Function\n",
      "                     instances    560 bytes  Function\n",
      "                           int   4514 bytes  Function\n",
      "                        int128   4578 bytes  Function\n",
      "                         int16   4562 bytes  Function\n",
      "                         int32   4538 bytes  Function\n",
      "                         int64   4542 bytes  Function\n",
      "                          int8   4546 bytes  Function\n",
      "                       integer   4207 bytes  Function\n",
      "                     interrupt   3646 bytes  Function\n",
      "                     intersect     16 KB     Function\n",
      "                    intersect!   1633 bytes  Function\n",
      "                           inv     16 KB     Function\n",
      "                    invdigamma   5869 bytes  Function\n",
      "                        invmod   2103 bytes  Function\n",
      "                       invperm   1191 bytes  Function\n",
      "                     ipermute!    589 bytes  Function\n",
      "                  ipermutedims    914 bytes  Function\n",
      "                         irfft   2798 bytes  Function\n",
      "                        iround    996 bytes  Function\n",
      "              is_assigned_char    506 bytes  Function\n",
      "                is_valid_ascii    936 bytes  Function\n",
      "                 is_valid_char    939 bytes  Function\n",
      "                is_valid_utf16    936 bytes  Function\n",
      "                is_valid_utf32    936 bytes  Function\n",
      "                 is_valid_utf8    933 bytes  Function\n",
      "                     isabspath   1576 bytes  Function\n",
      "                       isalnum   1498 bytes  Function\n",
      "                       isalpha   2008 bytes  Function\n",
      "                      isapprox   3742 bytes  Function\n",
      "                       isascii   2090 bytes  Function\n",
      "                    isassigned     24 KB     Function\n",
      "                        isbits     27 KB     Function\n",
      "                       isblank    977 bytes  Function\n",
      "                    isblockdev    884 bytes  Function\n",
      "                     ischardev    883 bytes  Function\n",
      "                       iscntrl   1305 bytes  Function\n",
      "                       isconst    986 bytes  Function\n",
      "                        isdiag    921 bytes  Function\n",
      "                       isdigit   1206 bytes  Function\n",
      "                         isdir   2383 bytes  Function\n",
      "                     isdirpath   1860 bytes  Function\n",
      "                      iseltype    541 bytes  Function\n",
      "                       isempty     36 KB     Function\n",
      "                       isequal     44 KB     Function\n",
      "                        iseven    760 bytes  Function\n",
      "                  isexecutable    883 bytes  Function\n",
      "                        isfifo    880 bytes  Function\n",
      "                        isfile   5079 bytes  Function\n",
      "                      isfinite   8476 bytes  Function\n",
      "                     isgeneric    886 bytes  Function\n",
      "                       isgraph   1296 bytes  Function\n",
      "                   ishermitian   6548 bytes  Function\n",
      "                   isimmutable   5014 bytes  Function\n",
      "                         isinf   6625 bytes  Function\n",
      "                     isinteger   3039 bytes  Function\n",
      "                 isinteractive    552 bytes  Function\n",
      "                    isleaftype     14 KB     Function\n",
      "                        isless     27 KB     Function\n",
      "                        islink   1822 bytes  Function\n",
      "                       islower   1217 bytes  Function\n",
      "                      ismarked   1537 bytes  Function\n",
      "                       ismatch   5724 bytes  Function\n",
      "                       ismount   1008 bytes  Function\n",
      "                         isnan   6868 bytes  Function\n",
      "                        isnull   2286 bytes  Function\n",
      "                      isnumber   1697 bytes  Function\n",
      "                         isodd    737 bytes  Function\n",
      "                        isopen   9015 bytes  Function\n",
      "                        ispath   2845 bytes  Function\n",
      "                        isperm   1051 bytes  Function\n",
      "                      isposdef   3391 bytes  Function\n",
      "                     isposdef!   1231 bytes  Function\n",
      "                        ispow2    681 bytes  Function\n",
      "                       isprime   3473 bytes  Function\n",
      "                       isprint   1984 bytes  Function\n",
      "                       ispunct   1296 bytes  Function\n",
      "                         isqrt   2745 bytes  Function\n",
      "                    isreadable   7075 bytes  Function\n",
      "                    isreadonly    495 bytes  Function\n",
      "                       isready   1457 bytes  Function\n",
      "                        isreal   1634 bytes  Function\n",
      "                      issetgid    879 bytes  Function\n",
      "                      issetuid    879 bytes  Function\n",
      "                      issocket    882 bytes  Function\n",
      "                      issorted   4081 bytes  Function\n",
      "                       isspace   4904 bytes  Function\n",
      "                      issparse    810 bytes  Function\n",
      "                      issticky    879 bytes  Function\n",
      "                   issubnormal    858 bytes  Function\n",
      "                      issubset   1665 bytes  Function\n",
      "                         issym   5789 bytes  Function\n",
      "                    istaskdone   1013 bytes  Function\n",
      "                 istaskstarted    463 bytes  Function\n",
      "                        istext     12 KB     Function\n",
      "                        istril   6683 bytes  Function\n",
      "                        istriu   6587 bytes  Function\n",
      "                       isupper   1367 bytes  Function\n",
      "                       isvalid     13 KB     Function\n",
      "                    iswritable   6193 bytes  Function\n",
      "                      isxdigit   2224 bytes  Function\n",
      "                        itrunc   1468 bytes  Function\n",
      "                          join   5919 bytes  Function\n",
      "                      joinpath     30 KB     Function\n",
      "                          keys   2727 bytes  Function\n",
      "                       keytype    652 bytes  Function\n",
      "                          kill   3907 bytes  Function\n",
      "                          kron     13 KB     Function\n",
      "                          last   5793 bytes  Function\n",
      "                        launch   3682 bytes  Function\n",
      "                         lbeta   4338 bytes  Function\n",
      "                       lcfirst   1444 bytes  Function\n",
      "                           lcm   3341 bytes  Function\n",
      "                         ldexp   4632 bytes  Function\n",
      "                      ldltfact   6552 bytes  Function\n",
      "                     ldltfact!   1997 bytes  Function\n",
      "                  leading_ones    463 bytes  Function\n",
      "                 leading_zeros   4752 bytes  Function\n",
      "                        length    166 KB     Function\n",
      "                          less   2273 bytes  Function\n",
      "                    levicivita   2427 bytes  Function\n",
      "                        lexcmp   4100 bytes  Function\n",
      "                       lexless    484 bytes  Function\n",
      "                         lfact   4247 bytes  Function\n",
      "                        lgamma   7508 bytes  Function\n",
      "                      linrange    582 bytes  Function\n",
      "                        linreg   1192 bytes  Function\n",
      "                      linspace   5274 bytes  Function\n",
      "                        listen     12 KB     Function\n",
      "                     listenany   2645 bytes  Function\n",
      "                  localindexes    536 bytes  Function\n",
      "                          lock   4136 bytes  Function\n",
      "                           log     15 KB     Function\n",
      "                         log10   8286 bytes  Function\n",
      "                         log1p   9621 bytes  Function\n",
      "                          log2   8706 bytes  Function\n",
      "                     logabsdet   1996 bytes  Function\n",
      "                        logdet   5829 bytes  Function\n",
      "                          logm     19 KB     Function\n",
      "                      logspace    878 bytes  Function\n",
      "                     lowercase   6124 bytes  Function\n",
      "                          lpad   5144 bytes  Function\n",
      "                         lstat   5829 bytes  Function\n",
      "                        lstrip     12 KB     Function\n",
      "                          ltoh    436 bytes  Function\n",
      "                            lu   1801 bytes  Function\n",
      "                        lufact   4642 bytes  Function\n",
      "                       lufact!   6816 bytes  Function\n",
      "                          lyap   2381 bytes  Function\n",
      "                   macroexpand    911 bytes  Function\n",
      "                        manage   1821 bytes  Function\n",
      "                           map     85 KB     Function\n",
      "                          map!     12 KB     Function\n",
      "                      mapfoldl   5228 bytes  Function\n",
      "                      mapfoldr   1016 bytes  Function\n",
      "                     mapreduce   6947 bytes  Function\n",
      "                  mapreducedim   1145 bytes  Function\n",
      "                     mapslices   3911 bytes  Function\n",
      "                          mark    891 bytes  Function\n",
      "                         match     18 KB     Function\n",
      "                      matchall   6409 bytes  Function\n",
      "                           max     19 KB     Function\n",
      "                        maxabs    879 bytes  Function\n",
      "                       maxabs!   1577 bytes  Function\n",
      "                       maximum   4036 bytes  Function\n",
      "                      maximum!   3092 bytes  Function\n",
      "                   maxintfloat   2701 bytes  Function\n",
      "                          mean   3051 bytes  Function\n",
      "                         mean!    652 bytes  Function\n",
      "                        median   4174 bytes  Function\n",
      "                       median!   3180 bytes  Function\n",
      "                         merge   3410 bytes  Function\n",
      "                        merge!   5896 bytes  Function\n",
      "                       methods   7673 bytes  Function\n",
      "                   methodswith   9866 bytes  Function\n",
      "                        middle   3053 bytes  Function\n",
      "                     midpoints   1593 bytes  Function\n",
      "                  mimewritable     24 KB     Function\n",
      "                           min     19 KB     Function\n",
      "                        minabs    879 bytes  Function\n",
      "                       minabs!   1577 bytes  Function\n",
      "                       minimum   3595 bytes  Function\n",
      "                      minimum!   3092 bytes  Function\n",
      "                        minmax   2117 bytes  Function\n",
      "                         mkdir   3491 bytes  Function\n",
      "                        mkpath   3860 bytes  Function\n",
      "                        mktemp   2280 bytes  Function\n",
      "                     mktempdir   6662 bytes  Function\n",
      "                    mmap_array    907 bytes  Function\n",
      "                 mmap_bitarray   2077 bytes  Function\n",
      "                           mod     21 KB     Function\n",
      "                          mod1   1211 bytes  Function\n",
      "                        mod2pi   2727 bytes  Function\n",
      "                          modf   2630 bytes  Function\n",
      "                   module_name    942 bytes  Function\n",
      "                 module_parent    958 bytes  Function\n",
      "                         msync   1658 bytes  Function\n",
      "                         mtime   1419 bytes  Function\n",
      "                        muladd   2829 bytes  Function\n",
      "                            mv   3435 bytes  Function\n",
      "                          myid    524 bytes  Function\n",
      "                         names   3640 bytes  Function\n",
      "                           nan    960 bytes  Function\n",
      "                  nb_available   3523 bytes  Function\n",
      "                       ndigits   2789 bytes  Function\n",
      "                         ndims     10 KB     Function\n",
      "                          next    270 KB     Function\n",
      "                     nextfloat   5819 bytes  Function\n",
      "                       nextind     10 KB     Function\n",
      "                       nextpow    920 bytes  Function\n",
      "                      nextpow2   1557 bytes  Function\n",
      "                      nextprod   3193 bytes  Function\n",
      "                           nnz   2493 bytes  Function\n",
      "                      nonzeros    444 bytes  Function\n",
      "                          norm   7438 bytes  Function\n",
      "              normalize_string   4897 bytes  Function\n",
      "                      normpath     12 KB     Function\n",
      "                        notify     21 KB     Function\n",
      "                           now   1977 bytes  Function\n",
      "                        nprocs    544 bytes  Function\n",
      "                       nthperm   1871 bytes  Function\n",
      "                      nthperm!   1821 bytes  Function\n",
      "                          ntoh   1094 bytes  Function\n",
      "                        ntuple   5914 bytes  Function\n",
      "                          null    576 bytes  Function\n",
      "                     nullspace   1966 bytes  Function\n",
      "                           num    942 bytes  Function\n",
      "                       num2hex   1616 bytes  Function\n",
      "                      nworkers    478 bytes  Function\n",
      "                       nzrange    526 bytes  Function\n",
      "                     object_id   3189 bytes  Function\n",
      "                           oct   3714 bytes  Function\n",
      "                        oftype   8294 bytes  Function\n",
      "                           one   8287 bytes  Function\n",
      "                          ones   1523 bytes  Function\n",
      "                          open     21 KB     Function\n",
      "                         operm    873 bytes  Function\n",
      "                      ordschur   2546 bytes  Function\n",
      "                     ordschur!   2951 bytes  Function\n",
      "                        parent    807 bytes  Function\n",
      "                 parentindexes    836 bytes  Function\n",
      "                        parity    673 bytes  Function\n",
      "                         parse     30 KB     Function\n",
      "                    parsefloat    945 bytes  Function\n",
      "                      parseint   1834 bytes  Function\n",
      "                       parseip   2817 bytes  Function\n",
      "                    partitions   2005 bytes  Function\n",
      "                     peakflops   2802 bytes  Function\n",
      "                  permutations    470 bytes  Function\n",
      "                      permute!    588 bytes  Function\n",
      "                   permutedims   1181 bytes  Function\n",
      "                  permutedims!   4724 bytes  Function\n",
      "                            pi      0 bytes  Irrational{:π}\n",
      "                          pinv   6546 bytes  Function\n",
      "                          pipe    574 bytes  Function\n",
      "                      pipeline   5664 bytes  Function\n",
      "                     plan_bfft   8799 bytes  Function\n",
      "                    plan_bfft!   5829 bytes  Function\n",
      "                    plan_brfft   8863 bytes  Function\n",
      "                      plan_dct   5878 bytes  Function\n",
      "                     plan_dct!   5886 bytes  Function\n",
      "                      plan_fft   8785 bytes  Function\n",
      "                     plan_fft!   5819 bytes  Function\n",
      "                     plan_idct   5886 bytes  Function\n",
      "                    plan_idct!   5894 bytes  Function\n",
      "                     plan_ifft   6910 bytes  Function\n",
      "                    plan_ifft!   3948 bytes  Function\n",
      "                    plan_irfft   4192 bytes  Function\n",
      "                     plan_rfft      9 KB     Function\n",
      "                          pmap   2417 bytes  Function\n",
      "                       pointer     25 KB     Function\n",
      "           pointer_from_objref   9169 bytes  Function\n",
      "              pointer_to_array   6894 bytes  Function\n",
      "             pointer_to_string   2878 bytes  Function\n",
      "                       poll_fd   3213 bytes  Function\n",
      "                     poll_file   2303 bytes  Function\n",
      "                     polygamma   6171 bytes  Function\n",
      "                          pop!     21 KB     Function\n",
      "                    popdisplay   5906 bytes  Function\n",
      "                      position   2706 bytes  Function\n",
      "                      powermod   3364 bytes  Function\n",
      "                     precision   3252 bytes  Function\n",
      "                    precompile   8488 bytes  Function\n",
      "                      prepend!   4727 bytes  Function\n",
      "                     prevfloat   1345 bytes  Function\n",
      "                       prevind   4654 bytes  Function\n",
      "                       prevpow    863 bytes  Function\n",
      "                      prevpow2   1570 bytes  Function\n",
      "                      prevprod   3278 bytes  Function\n",
      "                        primes   5512 bytes  Function\n",
      "                    primesmask   4051 bytes  Function\n",
      "                         print    161 KB     Function\n",
      "                 print_escaped     21 KB     Function\n",
      "                  print_joined     28 KB     Function\n",
      "                print_shortest   1808 bytes  Function\n",
      "               print_unescaped   4500 bytes  Function\n",
      "              print_with_color   2442 bytes  Function\n",
      "                       println     18 KB     Function\n",
      "                process_exited   1374 bytes  Function\n",
      "               process_running   1404 bytes  Function\n",
      "                         procs   4650 bytes  Function\n",
      "                          prod   3471 bytes  Function\n",
      "                         prod!   3080 bytes  Function\n",
      "                       produce   2339 bytes  Function\n",
      "                       promote     23 KB     Function\n",
      "                  promote_rule     57 KB     Function\n",
      "                 promote_shape   3437 bytes  Function\n",
      "                  promote_type     49 KB     Function\n",
      "                         push!     61 KB     Function\n",
      "                   pushdisplay   3006 bytes  Function\n",
      "                          put!   3118 bytes  Function\n",
      "                           pwd   1750 bytes  Function\n",
      "                            qr   3550 bytes  Function\n",
      "                        qrfact   2894 bytes  Function\n",
      "                       qrfact!   3472 bytes  Function\n",
      "                        quadgk   6570 bytes  Function\n",
      "                      quantile   1666 bytes  Function\n",
      "                     quantile!   4546 bytes  Function\n",
      "                          quit    566 bytes  Function\n",
      "                       rad2deg   4557 bytes  Function\n",
      "                          rand     29 KB     Function\n",
      "                         rand!     21 KB     Function\n",
      "                      randbool   2585 bytes  Function\n",
      "                     randbool!    578 bytes  Function\n",
      "                     randcycle   1368 bytes  Function\n",
      "                       randexp   2686 bytes  Function\n",
      "                      randexp!   1192 bytes  Function\n",
      "                      randjump   1518 bytes  Function\n",
      "                         randn   5157 bytes  Function\n",
      "                        randn!   5150 bytes  Function\n",
      "                      randperm   1425 bytes  Function\n",
      "                    randstring   1749 bytes  Function\n",
      "                    randsubseq    973 bytes  Function\n",
      "                   randsubseq!   2277 bytes  Function\n",
      "                         range   3556 bytes  Function\n",
      "                          rank   2282 bytes  Function\n",
      "                   rationalize   4502 bytes  Function\n",
      "                          read     31 KB     Function\n",
      "                         read!     10 KB     Function\n",
      "                       readall   4783 bytes  Function\n",
      "                  readandwrite    766 bytes  Function\n",
      "                 readavailable   1900 bytes  Function\n",
      "                     readbytes   9940 bytes  Function\n",
      "                    readbytes!   8624 bytes  Function\n",
      "                     readchomp    903 bytes  Function\n",
      "                       readcsv   2912 bytes  Function\n",
      "                       readdir     10 KB     Function\n",
      "                       readdlm   8848 bytes  Function\n",
      "                      readline   3678 bytes  Function\n",
      "                     readlines   1231 bytes  Function\n",
      "                      readlink   5483 bytes  Function\n",
      "                     readuntil     14 KB     Function\n",
      "                          real     11 KB     Function\n",
      "                       realmax   2227 bytes  Function\n",
      "                       realmin   2418 bytes  Function\n",
      "                      realpath   3726 bytes  Function\n",
      "                          recv   4636 bytes  Function\n",
      "                      recvfrom    793 bytes  Function\n",
      "               redirect_stderr   2090 bytes  Function\n",
      "                redirect_stdin   2099 bytes  Function\n",
      "               redirect_stdout   2090 bytes  Function\n",
      "                     redisplay   3846 bytes  Function\n",
      "                        reduce   3095 bytes  Function\n",
      "                     reducedim    998 bytes  Function\n",
      "               reenable_sigint    737 bytes  Function\n",
      "                          reim    632 bytes  Function\n",
      "                   reinterpret     22 KB     Function\n",
      "                        reload    732 bytes  Function\n",
      "                       relpath   2446 bytes  Function\n",
      "                           rem     60 KB     Function\n",
      "                          rem1    944 bytes  Function\n",
      "                    remotecall   3755 bytes  Function\n",
      "              remotecall_fetch   5404 bytes  Function\n",
      "               remotecall_wait   3403 bytes  Function\n",
      "                        repeat   6638 bytes  Function\n",
      "                      repeated    984 bytes  Function\n",
      "                       replace     26 KB     Function\n",
      "                        repmat   3016 bytes  Function\n",
      "                          repr   8271 bytes  Function\n",
      "                      reprmime     65 KB     Function\n",
      "                       require     12 KB     Function\n",
      "                         reset   1139 bytes  Function\n",
      "                       reshape   6882 bytes  Function\n",
      "                       resize!     50 KB     Function\n",
      "                          rest    478 bytes  Function\n",
      "                       rethrow   1137 bytes  Function\n",
      "                       reverse     22 KB     Function\n",
      "                      reverse!   6555 bytes  Function\n",
      "                    reverseind   4992 bytes  Function\n",
      "                          rfft   1768 bytes  Function\n",
      "                            rm   4083 bytes  Function\n",
      "                       rmprocs   2650 bytes  Function\n",
      "                           rol    494 bytes  Function\n",
      "                          rol!   1558 bytes  Function\n",
      "                           ror    494 bytes  Function\n",
      "                          ror!   1558 bytes  Function\n",
      "                        rot180   3317 bytes  Function\n",
      "                        rotl90   3359 bytes  Function\n",
      "                        rotr90   3207 bytes  Function\n",
      "                         round     44 KB     Function\n",
      "                       rowvals    444 bytes  Function\n",
      "                          rpad   6379 bytes  Function\n",
      "                       rsearch     17 KB     Function\n",
      "                  rsearchindex   3173 bytes  Function\n",
      "                        rsplit   4906 bytes  Function\n",
      "                        rstrip     10 KB     Function\n",
      "                           run   3637 bytes  Function\n",
      "                         scale   3011 bytes  Function\n",
      "                        scale!     16 KB     Function\n",
      "                      schedule     10 KB     Function\n",
      "                         schur   1302 bytes  Function\n",
      "                     schurfact   2355 bytes  Function\n",
      "                    schurfact!   1195 bytes  Function\n",
      "                         sdata    816 bytes  Function\n",
      "                        search     46 KB     Function\n",
      "                   searchindex   7425 bytes  Function\n",
      "                  searchsorted   9510 bytes  Function\n",
      "             searchsortedfirst   7712 bytes  Function\n",
      "              searchsortedlast   7640 bytes  Function\n",
      "                           sec   2976 bytes  Function\n",
      "                          secd   2129 bytes  Function\n",
      "                          sech   2827 bytes  Function\n",
      "                          seek   4669 bytes  Function\n",
      "                       seekend   2333 bytes  Function\n",
      "                     seekstart    458 bytes  Function\n",
      "                        select   1698 bytes  Function\n",
      "                       select!   2744 bytes  Function\n",
      "                    selectperm   1706 bytes  Function\n",
      "                   selectperm!   2639 bytes  Function\n",
      "                          send     10 KB     Function\n",
      "                     serialize     21 KB     Function\n",
      "        set_bigfloat_precision    579 bytes  Function\n",
      "                  set_rounding   1005 bytes  Function\n",
      "           set_zero_subnormals    577 bytes  Function\n",
      "                       setdiff   7182 bytes  Function\n",
      "                      setdiff!   1389 bytes  Function\n",
      "                        setenv   6638 bytes  Function\n",
      "                     setindex!    424 KB     Function\n",
      "                        shift!   7787 bytes  Function\n",
      "                          show    210 KB     Function\n",
      "                       showall   7162 bytes  Function\n",
      "                   showcompact   4520 bytes  Function\n",
      "                     showerror     37 KB     Function\n",
      "                       shuffle    940 bytes  Function\n",
      "                      shuffle!   1336 bytes  Function\n",
      "                          sign   4664 bytes  Function\n",
      "                       signbit   4778 bytes  Function\n",
      "                        signed   4248 bytes  Function\n",
      "                        signif   1785 bytes  Function\n",
      "                   significand   6177 bytes  Function\n",
      "                       similar     52 KB     Function\n",
      "                           sin     10 KB     Function\n",
      "                          sinc   6253 bytes  Function\n",
      "                          sind   8193 bytes  Function\n",
      "                          sinh   9809 bytes  Function\n",
      "                         sinpi     10 KB     Function\n",
      "                          size     47 KB     Function\n",
      "                      sizehint    535 bytes  Function\n",
      "                     sizehint!     46 KB     Function\n",
      "                        sizeof     19 KB     Function\n",
      "                          skip   2439 bytes  Function\n",
      "                     skipchars   1671 bytes  Function\n",
      "                         sleep   1779 bytes  Function\n",
      "                         slice    964 bytes  Function\n",
      "                      slicedim   5774 bytes  Function\n",
      "                          sort   6470 bytes  Function\n",
      "                         sort!     81 KB     Function\n",
      "                      sortcols   1586 bytes  Function\n",
      "                      sortperm   5868 bytes  Function\n",
      "                     sortperm!   2692 bytes  Function\n",
      "                      sortrows   1586 bytes  Function\n",
      "                        sparse     22 KB     Function\n",
      "                     sparsevec   4427 bytes  Function\n",
      "                         spawn     13 KB     Function\n",
      "                       spdiagm   2866 bytes  Function\n",
      "                         speye   2464 bytes  Function\n",
      "                       splice!     13 KB     Function\n",
      "                         split     16 KB     Function\n",
      "                      splitdir   5093 bytes  Function\n",
      "                    splitdrive   2017 bytes  Function\n",
      "                      splitext    884 bytes  Function\n",
      "                        spones    664 bytes  Function\n",
      "                        sprand   4160 bytes  Function\n",
      "                    sprandbool   1002 bytes  Function\n",
      "                       sprandn    995 bytes  Function\n",
      "                        sprint    129 KB     Function\n",
      "                       spzeros   1563 bytes  Function\n",
      "                          sqrt     10 KB     Function\n",
      "                         sqrtm     10 KB     Function\n",
      "                       squeeze   3223 bytes  Function\n",
      "                         srand   9065 bytes  Function\n",
      "                         start    171 KB     Function\n",
      "                    startswith     14 KB     Function\n",
      "                          stat     12 KB     Function\n",
      "                           std   4888 bytes  Function\n",
      "                          stdm   3066 bytes  Function\n",
      "                          step   2557 bytes  Function\n",
      "                    stop_timer    580 bytes  Function\n",
      "                      strerror    605 bytes  Function\n",
      "                      strftime    605 bytes  Function\n",
      "                        stride   2639 bytes  Function\n",
      "                       strides   4027 bytes  Function\n",
      "                        string    270 KB     Function\n",
      "                    stringmime     57 KB     Function\n",
      "                         strip   3178 bytes  Function\n",
      "                      strptime    605 bytes  Function\n",
      "                      strwidth   3542 bytes  Function\n",
      "                           sub   1341 bytes  Function\n",
      "                       sub2ind   5403 bytes  Function\n",
      "                      subtypes   1295 bytes  Function\n",
      "                       success   2290 bytes  Function\n",
      "                           sum   8340 bytes  Function\n",
      "                          sum!   3076 bytes  Function\n",
      "                       sum_kbn   1227 bytes  Function\n",
      "                        sumabs    875 bytes  Function\n",
      "                       sumabs!   1577 bytes  Function\n",
      "                       sumabs2    877 bytes  Function\n",
      "                      sumabs2!   1579 bytes  Function\n",
      "                       summary     28 KB     Function\n",
      "                         super     18 KB     Function\n",
      "                           svd   6474 bytes  Function\n",
      "                       svdfact   7512 bytes  Function\n",
      "                      svdfact!   4968 bytes  Function\n",
      "                          svds   5708 bytes  Function\n",
      "                       svdvals   4953 bytes  Function\n",
      "                      svdvals!   3505 bytes  Function\n",
      "                     sylvester   2222 bytes  Function\n",
      "                        symbol   9718 bytes  Function\n",
      "                       symdiff   1794 bytes  Function\n",
      "                      symdiff!   3104 bytes  Function\n",
      "                       symlink     11 KB     Function\n",
      "                       symperm   4165 bytes  Function\n",
      "                   systemerror   1606 bytes  Function\n",
      "                          take    487 bytes  Function\n",
      "                         take!   3076 bytes  Function\n",
      "                 takebuf_array   5119 bytes  Function\n",
      "                takebuf_string   2911 bytes  Function\n",
      "                           tan   9482 bytes  Function\n",
      "                          tand   6659 bytes  Function\n",
      "                          tanh     10 KB     Function\n",
      "            task_local_storage   4121 bytes  Function\n",
      "                       tempdir   2388 bytes  Function\n",
      "                      tempname   6330 bytes  Function\n",
      "                           tic    579 bytes  Function\n",
      "                          time   1059 bytes  Function\n",
      "                       time_ns    436 bytes  Function\n",
      "                     timedwait   1576 bytes  Function\n",
      "                           toc    493 bytes  Function\n",
      "                           toq    795 bytes  Function\n",
      "                         touch    986 bytes  Function\n",
      "                         trace   3314 bytes  Function\n",
      "                 trailing_ones   1195 bytes  Function\n",
      "                trailing_zeros   4880 bytes  Function\n",
      "                     transpose     16 KB     Function\n",
      "                    transpose!   5714 bytes  Function\n",
      "                      trigamma   8006 bytes  Function\n",
      "                          tril     10 KB     Function\n",
      "                         tril!     15 KB     Function\n",
      "                          triu     10 KB     Function\n",
      "                         triu!     15 KB     Function\n",
      "                         trues    681 bytes  Function\n",
      "                         trunc     44 KB     Function\n",
      "                      truncate   4379 bytes  Function\n",
      "                      tryparse   6315 bytes  Function\n",
      "                 typeintersect   1033 bytes  Function\n",
      "                      typejoin    136 KB     Function\n",
      "                       typemax     11 KB     Function\n",
      "                       typemin     15 KB     Function\n",
      "                       ucfirst   1432 bytes  Function\n",
      "                          uint   4530 bytes  Function\n",
      "                       uint128   4594 bytes  Function\n",
      "                        uint16   4578 bytes  Function\n",
      "                        uint32   4554 bytes  Function\n",
      "                        uint64   4566 bytes  Function\n",
      "                         uint8   5340 bytes  Function\n",
      "               unescape_string    489 bytes  Function\n",
      "                         union   8715 bytes  Function\n",
      "                        union!     14 KB     Function\n",
      "                        unique     15 KB     Function\n",
      "                        unlock   3910 bytes  Function\n",
      "                        unmark   1471 bytes  Function\n",
      "                  unsafe_copy!     58 KB     Function\n",
      "                   unsafe_load   2852 bytes  Function\n",
      "      unsafe_pointer_to_objref    686 bytes  Function\n",
      "                 unsafe_store!   2078 bytes  Function\n",
      "                  unsafe_trunc     10 KB     Function\n",
      "                      unshift!     11 KB     Function\n",
      "                      unsigned   5693 bytes  Function\n",
      "                         uperm    883 bytes  Function\n",
      "                     uppercase   6265 bytes  Function\n",
      "                         utf16   2991 bytes  Function\n",
      "                         utf32   2863 bytes  Function\n",
      "                          utf8   4336 bytes  Function\n",
      "                       valtype    652 bytes  Function\n",
      "                        values   1015 bytes  Function\n",
      "                           var   5666 bytes  Function\n",
      "                          varm   5545 bytes  Function\n",
      "                          vcat     61 KB     Function\n",
      "                           vec   2637 bytes  Function\n",
      "                        vecdot     19 KB     Function\n",
      "                       vecnorm   3235 bytes  Function\n",
      "                   versioninfo   5210 bytes  Function\n",
      "                          wait     19 KB     Function\n",
      "                          warn     13 KB     Function\n",
      "                    watch_file   1638 bytes  Function\n",
      "                         which   3531 bytes  Function\n",
      "                          whos     27 KB     Function\n",
      "                       widemul   2443 bytes  Function\n",
      "                         widen   8101 bytes  Function\n",
      "       with_bigfloat_precision    964 bytes  Function\n",
      "                      with_env    560 bytes  Function\n",
      "                 with_rounding   1037 bytes  Function\n",
      "                       withenv   2463 bytes  Function\n",
      "                       workers   1008 bytes  Function\n",
      "                     workspace    975 bytes  Function\n",
      "                         write     74 KB     Function\n",
      "                      writecsv   1577 bytes  Function\n",
      "                      writedlm   8716 bytes  Function\n",
      "                     writemime     43 KB     Function\n",
      "                       wstring   2991 bytes  Function\n",
      "                         xcorr    835 bytes  Function\n",
      "                         xdump   9649 bytes  Function\n",
      "                         yield    616 bytes  Function\n",
      "                       yieldto   1806 bytes  Function\n",
      "                          zero   9406 bytes  Function\n",
      "                         zeros   5607 bytes  Function\n",
      "                          zeta     21 KB     Function\n",
      "                           zip   1856 bytes  Function\n",
      "                             |     32 KB     Function\n",
      "                            |>   4089 bytes  Function\n",
      "                             ~   9371 bytes  Function\n",
      "                             ×    746 bytes  Function\n",
      "                             ÷     34 KB     Function\n",
      "                             γ      0 bytes  Irrational{:γ}\n",
      "                             π      0 bytes  Irrational{:π}\n",
      "                             φ      0 bytes  Irrational{:φ}\n",
      "                             ∈     46 KB     Function\n",
      "                             ∉   1200 bytes  Function\n",
      "                             ∋    469 bytes  Function\n",
      "                             ∌    477 bytes  Function\n",
      "                             √     10 KB     Function\n",
      "                             ∛   6070 bytes  Function\n",
      "                             ∩     16 KB     Function\n",
      "                             ∪   8715 bytes  Function\n",
      "                             ≈   3742 bytes  Function\n",
      "                             ≉    493 bytes  Function\n",
      "                             ≠     15 KB     Function\n",
      "                             ≡     24 bytes  Function\n",
      "                             ≢     79 KB     Function\n",
      "                             ≤     37 KB     Function\n",
      "                             ≥   5554 bytes  Function\n",
      "                             ⊆   1665 bytes  Function\n",
      "                             ⊈    486 bytes  Function\n",
      "                             ⊊    476 bytes  Function\n",
      "                             ⋅   9428 bytes  Function\n"
     ]
    }
   ],
   "source": [
    "whos(Base)"
   ]
  },
  {
   "cell_type": "code",
   "execution_count": null,
   "metadata": {
    "collapsed": true
   },
   "outputs": [],
   "source": []
  }
 ],
 "metadata": {
  "kernelspec": {
   "display_name": "Julia 0.4.5",
   "language": "julia",
   "name": "julia-0.4"
  },
  "language_info": {
   "file_extension": ".jl",
   "mimetype": "application/julia",
   "name": "julia",
   "version": "0.4.5"
  }
 },
 "nbformat": 4,
 "nbformat_minor": 0
}
