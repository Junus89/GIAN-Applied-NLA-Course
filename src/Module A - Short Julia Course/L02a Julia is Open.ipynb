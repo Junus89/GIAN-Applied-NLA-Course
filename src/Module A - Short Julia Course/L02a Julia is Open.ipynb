{
 "cells": [
  {
   "cell_type": "markdown",
   "metadata": {},
   "source": [
    "# Julia is Open - `whos()`, `methods()`, `@which`, ...\n",
    "\n",
    "---\n",
    "\n",
    "`Julia` is an open-source project, source being entirely hosted on `github`: http://github.com/julialang\n",
    "\n",
    "The code consists of (actual numbers may differ):\n",
    "\n",
    "- 29K lines of `C/C++`\n",
    "- 6K lines of `scheme`\n",
    "- 68K lines of `julia`\n",
    "\n",
    "Julia uses [LLVM](http://llvm.org) which itself has 680K lines of code. Therefore, `Julia` is very compact, compared to other languages, like LLVM's `C` compiler `clang` (513K lines of code) or `gcc`  (3,530K lines). This makes it easy to read the actuall code and get full information, in spite the fact that some parts of the documentation are insufficient. `Julia`'s \"navigating\" system,\n",
    "consisting of commands `whos()`, `methods()` and `@which`, makes this even easier.\n",
    "\n",
    "Further, the `Base` (core) of `Julia` is kept small, and the rest of the functionality is obtained through packages.\n",
    "Since packages are written in `Julia`, they are navigated on the same way.\n",
    "\n",
    "\n",
    "\n",
    "\n",
    "In this notebook, we demonstrate how to get help and navigate the source code.\n",
    "\n",
    "## Prerequisites\n",
    "\n",
    "Basic knowledge of programming in any language.\n",
    "\n",
    "Read [Methods](http://julia.readthedocs.org/en/latest/manual/methods/) section of the `Julia` manual. (5 min)\n",
    "\n",
    "## Competences \n",
    "\n",
    "The reader should be able to read the code and be able to find and understand calling sequences and outputs of any function.\n",
    "\n",
    "## Credits \n",
    "\n",
    "Some examples are taken from [The Julia Manual](http://julia.readthedocs.org/en/latest/manual/).\n"
   ]
  },
  {
   "cell_type": "markdown",
   "metadata": {},
   "source": [
    "## Operators `+`, `*` and `⋅`\n",
    "\n",
    "Consider operators `+`, `*` and `⋅`, the first two of them seem rather basic in any language. The `⋅` symbol is typed as LaTeX command `\\cdot` + `Tab`.\n",
    "\n",
    "`?+` gives some information, which is vary sparse. We would expect more details, and we also suspect that `+` can be used in more ways that just hose two.\n",
    "\n",
    "`?*` explaind more instances where `*` can be used, but the text itself is vague and not sufficient. \n",
    "\n",
    "`?⋅` appears to be what we expect fro the dot product off two vectors."
   ]
  },
  {
   "cell_type": "code",
   "execution_count": 1,
   "metadata": {
    "collapsed": false
   },
   "outputs": [
    {
     "name": "stdout",
     "output_type": "stream",
     "text": [
      "search: \u001b[1m+\u001b[22m .\u001b[1m+\u001b[22m\n",
      "\n"
     ]
    },
    {
     "data": {
      "text/markdown": [
       "```\n",
       "+(x, y...)\n",
       "```\n",
       "\n",
       "Addition operator. `x+y+z+...` calls this function with all arguments, i.e. `+(x, y, z, ...)`.\n"
      ],
      "text/plain": [
       "```\n",
       "+(x, y...)\n",
       "```\n",
       "\n",
       "Addition operator. `x+y+z+...` calls this function with all arguments, i.e. `+(x, y, z, ...)`.\n"
      ]
     },
     "execution_count": 1,
     "metadata": {},
     "output_type": "execute_result"
    }
   ],
   "source": [
    "?+"
   ]
  },
  {
   "cell_type": "code",
   "execution_count": 2,
   "metadata": {
    "collapsed": false
   },
   "outputs": [
    {
     "name": "stdout",
     "output_type": "stream",
     "text": [
      "search: \u001b[1m*\u001b[22m .\u001b[1m*\u001b[22m\n",
      "\n"
     ]
    },
    {
     "data": {
      "text/markdown": [
       "```\n",
       "*(A, B)\n",
       "```\n",
       "\n",
       "Matrix multiplication.\n",
       "\n",
       "```\n",
       "*(x, y...)\n",
       "```\n",
       "\n",
       "Multiplication operator. `x*y*z*...` calls this function with all arguments, i.e. `*(x, y, z, ...)`.\n",
       "\n",
       "```\n",
       "*(s, t)\n",
       "```\n",
       "\n",
       "Concatenate strings. The `*` operator is an alias to this function.\n",
       "\n",
       "```jldoctest\n",
       "julia> \"Hello \" * \"world\"\n",
       "\"Hello world\"\n",
       "```\n"
      ],
      "text/plain": [
       "```\n",
       "*(A, B)\n",
       "```\n",
       "\n",
       "Matrix multiplication.\n",
       "\n",
       "```\n",
       "*(x, y...)\n",
       "```\n",
       "\n",
       "Multiplication operator. `x*y*z*...` calls this function with all arguments, i.e. `*(x, y, z, ...)`.\n",
       "\n",
       "```\n",
       "*(s, t)\n",
       "```\n",
       "\n",
       "Concatenate strings. The `*` operator is an alias to this function.\n",
       "\n",
       "```jldoctest\n",
       "julia> \"Hello \" * \"world\"\n",
       "\"Hello world\"\n",
       "```\n"
      ]
     },
     "execution_count": 2,
     "metadata": {},
     "output_type": "execute_result"
    }
   ],
   "source": [
    "?*"
   ]
  },
  {
   "cell_type": "code",
   "execution_count": 3,
   "metadata": {
    "collapsed": false
   },
   "outputs": [
    {
     "name": "stdout",
     "output_type": "stream",
     "text": [
      "search: \u001b[1m⋅\u001b[22m\n",
      "\n"
     ]
    },
    {
     "data": {
      "text/markdown": [
       "```\n",
       "dot(x, y)\n",
       "⋅(x,y)\n",
       "```\n",
       "\n",
       "Compute the dot product. For complex vectors, the first vector is conjugated.\n",
       "\n",
       "```\n",
       "dot(n, X, incx, Y, incy)\n",
       "```\n",
       "\n",
       "Dot product of two vectors consisting of `n` elements of array `X` with stride `incx` and `n` elements of array `Y` with stride `incy`.\n"
      ],
      "text/plain": [
       "```\n",
       "dot(x, y)\n",
       "⋅(x,y)\n",
       "```\n",
       "\n",
       "Compute the dot product. For complex vectors, the first vector is conjugated.\n",
       "\n",
       "```\n",
       "dot(n, X, incx, Y, incy)\n",
       "```\n",
       "\n",
       "Dot product of two vectors consisting of `n` elements of array `X` with stride `incx` and `n` elements of array `Y` with stride `incy`.\n"
      ]
     },
     "execution_count": 3,
     "metadata": {},
     "output_type": "execute_result"
    }
   ],
   "source": [
    "?⋅"
   ]
  },
  {
   "cell_type": "markdown",
   "metadata": {},
   "source": [
    "## methods()\n",
    "\n",
    "`Julia` functions have a feature called _multiple dispatch_, which means that the method depends on the name __AND__ the input.\n",
    "Full range of existing methods for certain function name is given by the `methods()` command. \n",
    "> Running `methods(+)` sheds a completely differfent light on `+`.\n",
    "\n",
    "The great `IJulia` feature is that the links to the source code where the respective version of the function is defined, are readily provided. "
   ]
  },
  {
   "cell_type": "code",
   "execution_count": 4,
   "metadata": {
    "collapsed": false
   },
   "outputs": [
    {
     "name": "stdout",
     "output_type": "stream",
     "text": [
      "search: \u001b[1mm\u001b[22m\u001b[1me\u001b[22m\u001b[1mt\u001b[22m\u001b[1mh\u001b[22m\u001b[1mo\u001b[22m\u001b[1md\u001b[22m\u001b[1ms\u001b[22m \u001b[1mm\u001b[22m\u001b[1me\u001b[22m\u001b[1mt\u001b[22m\u001b[1mh\u001b[22m\u001b[1mo\u001b[22m\u001b[1md\u001b[22m\u001b[1ms\u001b[22mwith \u001b[1mm\u001b[22m\u001b[1me\u001b[22m\u001b[1mt\u001b[22m\u001b[1mh\u001b[22m\u001b[1mo\u001b[22m\u001b[1md\u001b[22m_exi\u001b[1ms\u001b[22mts \u001b[1mM\u001b[22m\u001b[1me\u001b[22m\u001b[1mt\u001b[22m\u001b[1mh\u001b[22m\u001b[1mo\u001b[22m\u001b[1md\u001b[22m \u001b[1mM\u001b[22m\u001b[1me\u001b[22m\u001b[1mt\u001b[22m\u001b[1mh\u001b[22m\u001b[1mo\u001b[22m\u001b[1md\u001b[22mTable \u001b[1mM\u001b[22m\u001b[1me\u001b[22m\u001b[1mt\u001b[22m\u001b[1mh\u001b[22m\u001b[1mo\u001b[22m\u001b[1md\u001b[22mError\n",
      "\n"
     ]
    },
    {
     "data": {
      "text/markdown": [
       "```\n",
       "methods(f, [types])\n",
       "```\n",
       "\n",
       "Returns the method table for `f`.\n",
       "\n",
       "If `types` is specified, returns an array of methods whose types match.\n"
      ],
      "text/plain": [
       "```\n",
       "methods(f, [types])\n",
       "```\n",
       "\n",
       "Returns the method table for `f`.\n",
       "\n",
       "If `types` is specified, returns an array of methods whose types match.\n"
      ]
     },
     "execution_count": 4,
     "metadata": {},
     "output_type": "execute_result"
    }
   ],
   "source": [
    "?methods"
   ]
  },
  {
   "cell_type": "markdown",
   "metadata": {},
   "source": [
    "### The `\"+\"` operator\n",
    "\n",
    "__N.B.__ For convenience, Left click on the left area of the `Out[]` cell toggles  scrolling. Double click collapses the output completely. "
   ]
  },
  {
   "cell_type": "code",
   "execution_count": 5,
   "metadata": {
    "collapsed": false,
    "scrolled": true
   },
   "outputs": [
    {
     "data": {
      "text/html": [
       "163 methods for generic function <b>+</b>:<ul><li> +(x::<b>Bool</b>, z::<b>Complex{Bool}</b>) at <a href=\"https://github.com/JuliaLang/julia/tree/6445c82d0060dbe82b88436f0f4371a4ee64d918/base/complex.jl#L136\" target=\"_blank\">complex.jl:136</a></li> <li> +(x::<b>Bool</b>, y::<b>Bool</b>) at <a href=\"https://github.com/JuliaLang/julia/tree/6445c82d0060dbe82b88436f0f4371a4ee64d918/base/bool.jl#L48\" target=\"_blank\">bool.jl:48</a></li> <li> +(x::<b>Bool</b>) at <a href=\"https://github.com/JuliaLang/julia/tree/6445c82d0060dbe82b88436f0f4371a4ee64d918/base/bool.jl#L45\" target=\"_blank\">bool.jl:45</a></li> <li> +<i>{T<:AbstractFloat}</i>(x::<b>Bool</b>, y::<b>T</b>) at <a href=\"https://github.com/JuliaLang/julia/tree/6445c82d0060dbe82b88436f0f4371a4ee64d918/base/bool.jl#L55\" target=\"_blank\">bool.jl:55</a></li> <li> +(x::<b>Bool</b>, z::<b>Complex</b>) at <a href=\"https://github.com/JuliaLang/julia/tree/6445c82d0060dbe82b88436f0f4371a4ee64d918/base/complex.jl#L143\" target=\"_blank\">complex.jl:143</a></li> <li> +(x::<b>Bool</b>, A::<b>AbstractArray{Bool,N<:Any}</b>) at <a href=\"https://github.com/JuliaLang/julia/tree/6445c82d0060dbe82b88436f0f4371a4ee64d918/base/arraymath.jl#L126\" target=\"_blank\">arraymath.jl:126</a></li> <li> +(x::<b>Float32</b>, y::<b>Float32</b>) at <a href=\"https://github.com/JuliaLang/julia/tree/6445c82d0060dbe82b88436f0f4371a4ee64d918/base/float.jl#L239\" target=\"_blank\">float.jl:239</a></li> <li> +(x::<b>Float64</b>, y::<b>Float64</b>) at <a href=\"https://github.com/JuliaLang/julia/tree/6445c82d0060dbe82b88436f0f4371a4ee64d918/base/float.jl#L240\" target=\"_blank\">float.jl:240</a></li> <li> +(z::<b>Complex{Bool}</b>, x::<b>Bool</b>) at <a href=\"https://github.com/JuliaLang/julia/tree/6445c82d0060dbe82b88436f0f4371a4ee64d918/base/complex.jl#L137\" target=\"_blank\">complex.jl:137</a></li> <li> +(z::<b>Complex{Bool}</b>, x::<b>Real</b>) at <a href=\"https://github.com/JuliaLang/julia/tree/6445c82d0060dbe82b88436f0f4371a4ee64d918/base/complex.jl#L151\" target=\"_blank\">complex.jl:151</a></li> <li> +(a::<b>Float16</b>, b::<b>Float16</b>) at <a href=\"https://github.com/JuliaLang/julia/tree/6445c82d0060dbe82b88436f0f4371a4ee64d918/base/float16.jl#L136\" target=\"_blank\">float16.jl:136</a></li> <li> +(x::<b>Char</b>, y::<b>Integer</b>) at <a href=\"https://github.com/JuliaLang/julia/tree/6445c82d0060dbe82b88436f0f4371a4ee64d918/base/char.jl#L40\" target=\"_blank\">char.jl:40</a></li> <li> +(c::<b>BigInt</b>, x::<b>BigFloat</b>) at <a href=\"https://github.com/JuliaLang/julia/tree/6445c82d0060dbe82b88436f0f4371a4ee64d918/base/mpfr.jl#L240\" target=\"_blank\">mpfr.jl:240</a></li> <li> +(a::<b>BigInt</b>, b::<b>BigInt</b>, c::<b>BigInt</b>, d::<b>BigInt</b>, e::<b>BigInt</b>) at <a href=\"https://github.com/JuliaLang/julia/tree/6445c82d0060dbe82b88436f0f4371a4ee64d918/base/gmp.jl#L298\" target=\"_blank\">gmp.jl:298</a></li> <li> +(a::<b>BigInt</b>, b::<b>BigInt</b>, c::<b>BigInt</b>, d::<b>BigInt</b>) at <a href=\"https://github.com/JuliaLang/julia/tree/6445c82d0060dbe82b88436f0f4371a4ee64d918/base/gmp.jl#L291\" target=\"_blank\">gmp.jl:291</a></li> <li> +(a::<b>BigInt</b>, b::<b>BigInt</b>, c::<b>BigInt</b>) at <a href=\"https://github.com/JuliaLang/julia/tree/6445c82d0060dbe82b88436f0f4371a4ee64d918/base/gmp.jl#L285\" target=\"_blank\">gmp.jl:285</a></li> <li> +(x::<b>BigInt</b>, y::<b>BigInt</b>) at <a href=\"https://github.com/JuliaLang/julia/tree/6445c82d0060dbe82b88436f0f4371a4ee64d918/base/gmp.jl#L255\" target=\"_blank\">gmp.jl:255</a></li> <li> +(x::<b>BigInt</b>, c::<b>Union{UInt16,UInt32,UInt8}</b>) at <a href=\"https://github.com/JuliaLang/julia/tree/6445c82d0060dbe82b88436f0f4371a4ee64d918/base/gmp.jl#L310\" target=\"_blank\">gmp.jl:310</a></li> <li> +(x::<b>BigInt</b>, c::<b>Union{Int16,Int32,Int8}</b>) at <a href=\"https://github.com/JuliaLang/julia/tree/6445c82d0060dbe82b88436f0f4371a4ee64d918/base/gmp.jl#L326\" target=\"_blank\">gmp.jl:326</a></li> <li> +(a::<b>BigFloat</b>, b::<b>BigFloat</b>, c::<b>BigFloat</b>, d::<b>BigFloat</b>, e::<b>BigFloat</b>) at <a href=\"https://github.com/JuliaLang/julia/tree/6445c82d0060dbe82b88436f0f4371a4ee64d918/base/mpfr.jl#L388\" target=\"_blank\">mpfr.jl:388</a></li> <li> +(a::<b>BigFloat</b>, b::<b>BigFloat</b>, c::<b>BigFloat</b>, d::<b>BigFloat</b>) at <a href=\"https://github.com/JuliaLang/julia/tree/6445c82d0060dbe82b88436f0f4371a4ee64d918/base/mpfr.jl#L381\" target=\"_blank\">mpfr.jl:381</a></li> <li> +(a::<b>BigFloat</b>, b::<b>BigFloat</b>, c::<b>BigFloat</b>) at <a href=\"https://github.com/JuliaLang/julia/tree/6445c82d0060dbe82b88436f0f4371a4ee64d918/base/mpfr.jl#L375\" target=\"_blank\">mpfr.jl:375</a></li> <li> +(x::<b>BigFloat</b>, c::<b>BigInt</b>) at <a href=\"https://github.com/JuliaLang/julia/tree/6445c82d0060dbe82b88436f0f4371a4ee64d918/base/mpfr.jl#L236\" target=\"_blank\">mpfr.jl:236</a></li> <li> +(x::<b>BigFloat</b>, y::<b>BigFloat</b>) at <a href=\"https://github.com/JuliaLang/julia/tree/6445c82d0060dbe82b88436f0f4371a4ee64d918/base/mpfr.jl#L205\" target=\"_blank\">mpfr.jl:205</a></li> <li> +(x::<b>BigFloat</b>, c::<b>Union{UInt16,UInt32,UInt8}</b>) at <a href=\"https://github.com/JuliaLang/julia/tree/6445c82d0060dbe82b88436f0f4371a4ee64d918/base/mpfr.jl#L212\" target=\"_blank\">mpfr.jl:212</a></li> <li> +(x::<b>BigFloat</b>, c::<b>Union{Int16,Int32,Int8}</b>) at <a href=\"https://github.com/JuliaLang/julia/tree/6445c82d0060dbe82b88436f0f4371a4ee64d918/base/mpfr.jl#L220\" target=\"_blank\">mpfr.jl:220</a></li> <li> +(x::<b>BigFloat</b>, c::<b>Union{Float16,Float32,Float64}</b>) at <a href=\"https://github.com/JuliaLang/julia/tree/6445c82d0060dbe82b88436f0f4371a4ee64d918/base/mpfr.jl#L228\" target=\"_blank\">mpfr.jl:228</a></li> <li> +<i>{T}</i>(B::<b>BitArray{2}</b>, J::<b>UniformScaling{T}</b>) at <a href=\"https://github.com/JuliaLang/julia/tree/6445c82d0060dbe82b88436f0f4371a4ee64d918/base/linalg/uniformscaling.jl#L38\" target=\"_blank\">linalg\\uniformscaling.jl:38</a></li> <li> +(a::<b>Base.Pkg.Resolve.VersionWeights.VWPreBuildItem</b>, b::<b>Base.Pkg.Resolve.VersionWeights.VWPreBuildItem</b>) at <a href=\"https://github.com/JuliaLang/julia/tree/6445c82d0060dbe82b88436f0f4371a4ee64d918/base/pkg/resolve/versionweight.jl#L85\" target=\"_blank\">pkg/resolve/versionweight.jl:85</a></li> <li> +(a::<b>Base.Pkg.Resolve.VersionWeights.VWPreBuild</b>, b::<b>Base.Pkg.Resolve.VersionWeights.VWPreBuild</b>) at <a href=\"https://github.com/JuliaLang/julia/tree/6445c82d0060dbe82b88436f0f4371a4ee64d918/base/pkg/resolve/versionweight.jl#L131\" target=\"_blank\">pkg/resolve/versionweight.jl:131</a></li> <li> +(a::<b>Base.Pkg.Resolve.VersionWeights.VersionWeight</b>, b::<b>Base.Pkg.Resolve.VersionWeights.VersionWeight</b>) at <a href=\"https://github.com/JuliaLang/julia/tree/6445c82d0060dbe82b88436f0f4371a4ee64d918/base/pkg/resolve/versionweight.jl#L181\" target=\"_blank\">pkg/resolve/versionweight.jl:181</a></li> <li> +(a::<b>Base.Pkg.Resolve.MaxSum.FieldValues.FieldValue</b>, b::<b>Base.Pkg.Resolve.MaxSum.FieldValues.FieldValue</b>) at <a href=\"https://github.com/JuliaLang/julia/tree/6445c82d0060dbe82b88436f0f4371a4ee64d918/base/pkg/resolve/fieldvalue.jl#L44\" target=\"_blank\">pkg/resolve/fieldvalue.jl:44</a></li> <li> +(x::<b>Base.Dates.CompoundPeriod</b>, y::<b>Base.Dates.CompoundPeriod</b>) at <a href=\"https://github.com/JuliaLang/julia/tree/6445c82d0060dbe82b88436f0f4371a4ee64d918/base/dates/periods.jl#L314\" target=\"_blank\">dates\\periods.jl:314</a></li> <li> +(x::<b>Base.Dates.CompoundPeriod</b>, y::<b>Base.Dates.Period</b>) at <a href=\"https://github.com/JuliaLang/julia/tree/6445c82d0060dbe82b88436f0f4371a4ee64d918/base/dates/periods.jl#L312\" target=\"_blank\">dates\\periods.jl:312</a></li> <li> +(x::<b>Base.Dates.CompoundPeriod</b>, y::<b>Base.Dates.TimeType</b>) at <a href=\"https://github.com/JuliaLang/julia/tree/6445c82d0060dbe82b88436f0f4371a4ee64d918/base/dates/periods.jl#L359\" target=\"_blank\">dates\\periods.jl:359</a></li> <li> +(dt::<b>DateTime</b>, z::<b>Base.Dates.Month</b>) at <a href=\"https://github.com/JuliaLang/julia/tree/6445c82d0060dbe82b88436f0f4371a4ee64d918/base/dates/arithmetic.jl#L37\" target=\"_blank\">dates\\arithmetic.jl:37</a></li> <li> +(dt::<b>DateTime</b>, y::<b>Base.Dates.Year</b>) at <a href=\"https://github.com/JuliaLang/julia/tree/6445c82d0060dbe82b88436f0f4371a4ee64d918/base/dates/arithmetic.jl#L13\" target=\"_blank\">dates\\arithmetic.jl:13</a></li> <li> +(x::<b>DateTime</b>, y::<b>Base.Dates.Period</b>) at <a href=\"https://github.com/JuliaLang/julia/tree/6445c82d0060dbe82b88436f0f4371a4ee64d918/base/dates/arithmetic.jl#L64\" target=\"_blank\">dates\\arithmetic.jl:64</a></li> <li> +(x::<b>Date</b>, y::<b>Base.Dates.Day</b>) at <a href=\"https://github.com/JuliaLang/julia/tree/6445c82d0060dbe82b88436f0f4371a4ee64d918/base/dates/arithmetic.jl#L62\" target=\"_blank\">dates\\arithmetic.jl:62</a></li> <li> +(x::<b>Date</b>, y::<b>Base.Dates.Week</b>) at <a href=\"https://github.com/JuliaLang/julia/tree/6445c82d0060dbe82b88436f0f4371a4ee64d918/base/dates/arithmetic.jl#L60\" target=\"_blank\">dates\\arithmetic.jl:60</a></li> <li> +(dt::<b>Date</b>, z::<b>Base.Dates.Month</b>) at <a href=\"https://github.com/JuliaLang/julia/tree/6445c82d0060dbe82b88436f0f4371a4ee64d918/base/dates/arithmetic.jl#L43\" target=\"_blank\">dates\\arithmetic.jl:43</a></li> <li> +(dt::<b>Date</b>, y::<b>Base.Dates.Year</b>) at <a href=\"https://github.com/JuliaLang/julia/tree/6445c82d0060dbe82b88436f0f4371a4ee64d918/base/dates/arithmetic.jl#L17\" target=\"_blank\">dates\\arithmetic.jl:17</a></li> <li> +(y::<b>AbstractFloat</b>, x::<b>Bool</b>) at <a href=\"https://github.com/JuliaLang/julia/tree/6445c82d0060dbe82b88436f0f4371a4ee64d918/base/bool.jl#L57\" target=\"_blank\">bool.jl:57</a></li> <li> +<i>{T<:Union{Int128,Int16,Int32,Int64,Int8,UInt128,UInt16,UInt32,UInt64,UInt8}}</i>(x::<b>T</b>, y::<b>T</b>) at <a href=\"https://github.com/JuliaLang/julia/tree/6445c82d0060dbe82b88436f0f4371a4ee64d918/base/int.jl#L32\" target=\"_blank\">int.jl:32</a></li> <li> +(x::<b>Integer</b>, y::<b>Ptr</b>) at <a href=\"https://github.com/JuliaLang/julia/tree/6445c82d0060dbe82b88436f0f4371a4ee64d918/base/pointer.jl#L108\" target=\"_blank\">pointer.jl:108</a></li> <li> +(z::<b>Complex</b>, w::<b>Complex</b>) at <a href=\"https://github.com/JuliaLang/julia/tree/6445c82d0060dbe82b88436f0f4371a4ee64d918/base/complex.jl#L125\" target=\"_blank\">complex.jl:125</a></li> <li> +(z::<b>Complex</b>, x::<b>Bool</b>) at <a href=\"https://github.com/JuliaLang/julia/tree/6445c82d0060dbe82b88436f0f4371a4ee64d918/base/complex.jl#L144\" target=\"_blank\">complex.jl:144</a></li> <li> +(x::<b>Real</b>, z::<b>Complex{Bool}</b>) at <a href=\"https://github.com/JuliaLang/julia/tree/6445c82d0060dbe82b88436f0f4371a4ee64d918/base/complex.jl#L150\" target=\"_blank\">complex.jl:150</a></li> <li> +(x::<b>Real</b>, z::<b>Complex</b>) at <a href=\"https://github.com/JuliaLang/julia/tree/6445c82d0060dbe82b88436f0f4371a4ee64d918/base/complex.jl#L162\" target=\"_blank\">complex.jl:162</a></li> <li> +(z::<b>Complex</b>, x::<b>Real</b>) at <a href=\"https://github.com/JuliaLang/julia/tree/6445c82d0060dbe82b88436f0f4371a4ee64d918/base/complex.jl#L163\" target=\"_blank\">complex.jl:163</a></li> <li> +(x::<b>Rational</b>, y::<b>Rational</b>) at <a href=\"https://github.com/JuliaLang/julia/tree/6445c82d0060dbe82b88436f0f4371a4ee64d918/base/rational.jl#L202\" target=\"_blank\">rational.jl:202</a></li> <li> +(x::<b>Integer</b>, y::<b>Char</b>) at <a href=\"https://github.com/JuliaLang/julia/tree/6445c82d0060dbe82b88436f0f4371a4ee64d918/base/char.jl#L41\" target=\"_blank\">char.jl:41</a></li> <li> +<i>{N}</i>(i::<b>Integer</b>, index::<b>CartesianIndex{N}</b>) at <a href=\"https://github.com/JuliaLang/julia/tree/6445c82d0060dbe82b88436f0f4371a4ee64d918/base/multidimensional.jl#L58\" target=\"_blank\">multidimensional.jl:58</a></li> <li> +(c::<b>Union{UInt16,UInt32,UInt8}</b>, x::<b>BigInt</b>) at <a href=\"https://github.com/JuliaLang/julia/tree/6445c82d0060dbe82b88436f0f4371a4ee64d918/base/gmp.jl#L314\" target=\"_blank\">gmp.jl:314</a></li> <li> +(c::<b>Union{Int16,Int32,Int8}</b>, x::<b>BigInt</b>) at <a href=\"https://github.com/JuliaLang/julia/tree/6445c82d0060dbe82b88436f0f4371a4ee64d918/base/gmp.jl#L327\" target=\"_blank\">gmp.jl:327</a></li> <li> +(c::<b>Union{UInt16,UInt32,UInt8}</b>, x::<b>BigFloat</b>) at <a href=\"https://github.com/JuliaLang/julia/tree/6445c82d0060dbe82b88436f0f4371a4ee64d918/base/mpfr.jl#L216\" target=\"_blank\">mpfr.jl:216</a></li> <li> +(c::<b>Union{Int16,Int32,Int8}</b>, x::<b>BigFloat</b>) at <a href=\"https://github.com/JuliaLang/julia/tree/6445c82d0060dbe82b88436f0f4371a4ee64d918/base/mpfr.jl#L224\" target=\"_blank\">mpfr.jl:224</a></li> <li> +(c::<b>Union{Float16,Float32,Float64}</b>, x::<b>BigFloat</b>) at <a href=\"https://github.com/JuliaLang/julia/tree/6445c82d0060dbe82b88436f0f4371a4ee64d918/base/mpfr.jl#L232\" target=\"_blank\">mpfr.jl:232</a></li> <li> +(x::<b>Irrational</b>, y::<b>Irrational</b>) at <a href=\"https://github.com/JuliaLang/julia/tree/6445c82d0060dbe82b88436f0f4371a4ee64d918/base/irrationals.jl#L88\" target=\"_blank\">irrationals.jl:88</a></li> <li> +(x::<b>Number</b>) at <a href=\"https://github.com/JuliaLang/julia/tree/6445c82d0060dbe82b88436f0f4371a4ee64d918/base/operators.jl#L115\" target=\"_blank\">operators.jl:115</a></li> <li> +<i>{T<:Number}</i>(x::<b>T</b>, y::<b>T</b>) at <a href=\"https://github.com/JuliaLang/julia/tree/6445c82d0060dbe82b88436f0f4371a4ee64d918/base/promotion.jl#L255\" target=\"_blank\">promotion.jl:255</a></li> <li> +(x::<b>Number</b>, y::<b>Number</b>) at <a href=\"https://github.com/JuliaLang/julia/tree/6445c82d0060dbe82b88436f0f4371a4ee64d918/base/promotion.jl#L190\" target=\"_blank\">promotion.jl:190</a></li> <li> +(r1::<b>OrdinalRange</b>, r2::<b>OrdinalRange</b>) at <a href=\"https://github.com/JuliaLang/julia/tree/6445c82d0060dbe82b88436f0f4371a4ee64d918/base/operators.jl#L505\" target=\"_blank\">operators.jl:505</a></li> <li> +<i>{T<:AbstractFloat}</i>(r1::<b>FloatRange{T}</b>, r2::<b>FloatRange{T}</b>) at <a href=\"https://github.com/JuliaLang/julia/tree/6445c82d0060dbe82b88436f0f4371a4ee64d918/base/operators.jl#L512\" target=\"_blank\">operators.jl:512</a></li> <li> +<i>{T<:AbstractFloat}</i>(r1::<b>LinSpace{T}</b>, r2::<b>LinSpace{T}</b>) at <a href=\"https://github.com/JuliaLang/julia/tree/6445c82d0060dbe82b88436f0f4371a4ee64d918/base/operators.jl#L531\" target=\"_blank\">operators.jl:531</a></li> <li> +(r1::<b>Union{FloatRange,LinSpace,OrdinalRange}</b>, r2::<b>Union{FloatRange,LinSpace,OrdinalRange}</b>) at <a href=\"https://github.com/JuliaLang/julia/tree/6445c82d0060dbe82b88436f0f4371a4ee64d918/base/operators.jl#L544\" target=\"_blank\">operators.jl:544</a></li> <li> +(x::<b>Ptr</b>, y::<b>Integer</b>) at <a href=\"https://github.com/JuliaLang/julia/tree/6445c82d0060dbe82b88436f0f4371a4ee64d918/base/pointer.jl#L106\" target=\"_blank\">pointer.jl:106</a></li> <li> +(A::<b>BitArray</b>, B::<b>BitArray</b>) at <a href=\"https://github.com/JuliaLang/julia/tree/6445c82d0060dbe82b88436f0f4371a4ee64d918/base/bitarray.jl#L1056\" target=\"_blank\">bitarray.jl:1056</a></li> <li> +(A::<b>Array{T<:Any,2}</b>, B::<b>Diagonal</b>) at <a href=\"https://github.com/JuliaLang/julia/tree/6445c82d0060dbe82b88436f0f4371a4ee64d918/base/linalg/special.jl#L121\" target=\"_blank\">linalg\\special.jl:121</a></li> <li> +(A::<b>Array{T<:Any,2}</b>, B::<b>Bidiagonal</b>) at <a href=\"https://github.com/JuliaLang/julia/tree/6445c82d0060dbe82b88436f0f4371a4ee64d918/base/linalg/special.jl#L121\" target=\"_blank\">linalg\\special.jl:121</a></li> <li> +(A::<b>Array{T<:Any,2}</b>, B::<b>Tridiagonal</b>) at <a href=\"https://github.com/JuliaLang/julia/tree/6445c82d0060dbe82b88436f0f4371a4ee64d918/base/linalg/special.jl#L121\" target=\"_blank\">linalg\\special.jl:121</a></li> <li> +(A::<b>Array{T<:Any,2}</b>, B::<b>SymTridiagonal</b>) at <a href=\"https://github.com/JuliaLang/julia/tree/6445c82d0060dbe82b88436f0f4371a4ee64d918/base/linalg/special.jl#L130\" target=\"_blank\">linalg\\special.jl:130</a></li> <li> +(A::<b>Array{T<:Any,2}</b>, B::<b>Base.LinAlg.AbstractTriangular</b>) at <a href=\"https://github.com/JuliaLang/julia/tree/6445c82d0060dbe82b88436f0f4371a4ee64d918/base/linalg/special.jl#L158\" target=\"_blank\">linalg\\special.jl:158</a></li> <li> +(A::<b>Array</b>, B::<b>SparseMatrixCSC</b>) at <a href=\"https://github.com/JuliaLang/julia/tree/6445c82d0060dbe82b88436f0f4371a4ee64d918/base/sparse/sparsematrix.jl#L1711\" target=\"_blank\">sparse\\sparsematrix.jl:1711</a></li> <li> +<i>{P<:Union{Base.Dates.CompoundPeriod,Base.Dates.Period}}</i>(x::<b>Union{Base.ReshapedArray{P,N<:Any,A<:DenseArray,MI<:Tuple{Vararg{Base.MultiplicativeInverses.SignedMultiplicativeInverse{Int64},N<:Any}}},DenseArray{P,N<:Any},SubArray{P,N<:Any,A<:Union{Base.ReshapedArray{T<:Any,N<:Any,A<:DenseArray,MI<:Tuple{Vararg{Base.MultiplicativeInverses.SignedMultiplicativeInverse{Int64},N<:Any}}},DenseArray},I<:Tuple{Vararg{Union{Base.AbstractCartesianIndex,Colon,Int64,Range{Int64}},N<:Any}},L<:Any}}</b>) at <a href=\"https://github.com/JuliaLang/julia/tree/6445c82d0060dbe82b88436f0f4371a4ee64d918/base/dates/periods.jl#L323\" target=\"_blank\">dates\\periods.jl:323</a></li> <li> +(A::<b>AbstractArray{Bool,N<:Any}</b>, x::<b>Bool</b>) at <a href=\"https://github.com/JuliaLang/julia/tree/6445c82d0060dbe82b88436f0f4371a4ee64d918/base/arraymath.jl#L125\" target=\"_blank\">arraymath.jl:125</a></li> <li> +(A::<b>SymTridiagonal</b>, B::<b>SymTridiagonal</b>) at <a href=\"https://github.com/JuliaLang/julia/tree/6445c82d0060dbe82b88436f0f4371a4ee64d918/base/linalg/tridiag.jl#L96\" target=\"_blank\">linalg\\tridiag.jl:96</a></li> <li> +(A::<b>Tridiagonal</b>, B::<b>Tridiagonal</b>) at <a href=\"https://github.com/JuliaLang/julia/tree/6445c82d0060dbe82b88436f0f4371a4ee64d918/base/linalg/tridiag.jl#L494\" target=\"_blank\">linalg\\tridiag.jl:494</a></li> <li> +(A::<b>UpperTriangular</b>, B::<b>UpperTriangular</b>) at <a href=\"https://github.com/JuliaLang/julia/tree/6445c82d0060dbe82b88436f0f4371a4ee64d918/base/linalg/triangular.jl#L357\" target=\"_blank\">linalg\\triangular.jl:357</a></li> <li> +(A::<b>LowerTriangular</b>, B::<b>LowerTriangular</b>) at <a href=\"https://github.com/JuliaLang/julia/tree/6445c82d0060dbe82b88436f0f4371a4ee64d918/base/linalg/triangular.jl#L358\" target=\"_blank\">linalg\\triangular.jl:358</a></li> <li> +(A::<b>UpperTriangular</b>, B::<b>Base.LinAlg.UnitUpperTriangular</b>) at <a href=\"https://github.com/JuliaLang/julia/tree/6445c82d0060dbe82b88436f0f4371a4ee64d918/base/linalg/triangular.jl#L359\" target=\"_blank\">linalg\\triangular.jl:359</a></li> <li> +(A::<b>LowerTriangular</b>, B::<b>Base.LinAlg.UnitLowerTriangular</b>) at <a href=\"https://github.com/JuliaLang/julia/tree/6445c82d0060dbe82b88436f0f4371a4ee64d918/base/linalg/triangular.jl#L360\" target=\"_blank\">linalg\\triangular.jl:360</a></li> <li> +(A::<b>Base.LinAlg.UnitUpperTriangular</b>, B::<b>UpperTriangular</b>) at <a href=\"https://github.com/JuliaLang/julia/tree/6445c82d0060dbe82b88436f0f4371a4ee64d918/base/linalg/triangular.jl#L361\" target=\"_blank\">linalg\\triangular.jl:361</a></li> <li> +(A::<b>Base.LinAlg.UnitLowerTriangular</b>, B::<b>LowerTriangular</b>) at <a href=\"https://github.com/JuliaLang/julia/tree/6445c82d0060dbe82b88436f0f4371a4ee64d918/base/linalg/triangular.jl#L362\" target=\"_blank\">linalg\\triangular.jl:362</a></li> <li> +(A::<b>Base.LinAlg.UnitUpperTriangular</b>, B::<b>Base.LinAlg.UnitUpperTriangular</b>) at <a href=\"https://github.com/JuliaLang/julia/tree/6445c82d0060dbe82b88436f0f4371a4ee64d918/base/linalg/triangular.jl#L363\" target=\"_blank\">linalg\\triangular.jl:363</a></li> <li> +(A::<b>Base.LinAlg.UnitLowerTriangular</b>, B::<b>Base.LinAlg.UnitLowerTriangular</b>) at <a href=\"https://github.com/JuliaLang/julia/tree/6445c82d0060dbe82b88436f0f4371a4ee64d918/base/linalg/triangular.jl#L364\" target=\"_blank\">linalg\\triangular.jl:364</a></li> <li> +(A::<b>Base.LinAlg.AbstractTriangular</b>, B::<b>Base.LinAlg.AbstractTriangular</b>) at <a href=\"https://github.com/JuliaLang/julia/tree/6445c82d0060dbe82b88436f0f4371a4ee64d918/base/linalg/triangular.jl#L365\" target=\"_blank\">linalg\\triangular.jl:365</a></li> <li> +(Da::<b>Diagonal</b>, Db::<b>Diagonal</b>) at <a href=\"https://github.com/JuliaLang/julia/tree/6445c82d0060dbe82b88436f0f4371a4ee64d918/base/linalg/diagonal.jl#L110\" target=\"_blank\">linalg\\diagonal.jl:110</a></li> <li> +(A::<b>Bidiagonal</b>, B::<b>Bidiagonal</b>) at <a href=\"https://github.com/JuliaLang/julia/tree/6445c82d0060dbe82b88436f0f4371a4ee64d918/base/linalg/bidiag.jl#L256\" target=\"_blank\">linalg\\bidiag.jl:256</a></li> <li> +(UL::<b>UpperTriangular</b>, J::<b>UniformScaling</b>) at <a href=\"https://github.com/JuliaLang/julia/tree/6445c82d0060dbe82b88436f0f4371a4ee64d918/base/linalg/uniformscaling.jl#L55\" target=\"_blank\">linalg\\uniformscaling.jl:55</a></li> <li> +(UL::<b>Base.LinAlg.UnitUpperTriangular</b>, J::<b>UniformScaling</b>) at <a href=\"https://github.com/JuliaLang/julia/tree/6445c82d0060dbe82b88436f0f4371a4ee64d918/base/linalg/uniformscaling.jl#L58\" target=\"_blank\">linalg\\uniformscaling.jl:58</a></li> <li> +(UL::<b>LowerTriangular</b>, J::<b>UniformScaling</b>) at <a href=\"https://github.com/JuliaLang/julia/tree/6445c82d0060dbe82b88436f0f4371a4ee64d918/base/linalg/uniformscaling.jl#L55\" target=\"_blank\">linalg\\uniformscaling.jl:55</a></li> <li> +(UL::<b>Base.LinAlg.UnitLowerTriangular</b>, J::<b>UniformScaling</b>) at <a href=\"https://github.com/JuliaLang/julia/tree/6445c82d0060dbe82b88436f0f4371a4ee64d918/base/linalg/uniformscaling.jl#L58\" target=\"_blank\">linalg\\uniformscaling.jl:58</a></li> <li> +(A::<b>Diagonal</b>, B::<b>Bidiagonal</b>) at <a href=\"https://github.com/JuliaLang/julia/tree/6445c82d0060dbe82b88436f0f4371a4ee64d918/base/linalg/special.jl#L120\" target=\"_blank\">linalg\\special.jl:120</a></li> <li> +(A::<b>Bidiagonal</b>, B::<b>Diagonal</b>) at <a href=\"https://github.com/JuliaLang/julia/tree/6445c82d0060dbe82b88436f0f4371a4ee64d918/base/linalg/special.jl#L121\" target=\"_blank\">linalg\\special.jl:121</a></li> <li> +(A::<b>Diagonal</b>, B::<b>Tridiagonal</b>) at <a href=\"https://github.com/JuliaLang/julia/tree/6445c82d0060dbe82b88436f0f4371a4ee64d918/base/linalg/special.jl#L120\" target=\"_blank\">linalg\\special.jl:120</a></li> <li> +(A::<b>Tridiagonal</b>, B::<b>Diagonal</b>) at <a href=\"https://github.com/JuliaLang/julia/tree/6445c82d0060dbe82b88436f0f4371a4ee64d918/base/linalg/special.jl#L121\" target=\"_blank\">linalg\\special.jl:121</a></li> <li> +(A::<b>Diagonal</b>, B::<b>Array{T<:Any,2}</b>) at <a href=\"https://github.com/JuliaLang/julia/tree/6445c82d0060dbe82b88436f0f4371a4ee64d918/base/linalg/special.jl#L120\" target=\"_blank\">linalg\\special.jl:120</a></li> <li> +(A::<b>Bidiagonal</b>, B::<b>Tridiagonal</b>) at <a href=\"https://github.com/JuliaLang/julia/tree/6445c82d0060dbe82b88436f0f4371a4ee64d918/base/linalg/special.jl#L120\" target=\"_blank\">linalg\\special.jl:120</a></li> <li> +(A::<b>Tridiagonal</b>, B::<b>Bidiagonal</b>) at <a href=\"https://github.com/JuliaLang/julia/tree/6445c82d0060dbe82b88436f0f4371a4ee64d918/base/linalg/special.jl#L121\" target=\"_blank\">linalg\\special.jl:121</a></li> <li> +(A::<b>Bidiagonal</b>, B::<b>Array{T<:Any,2}</b>) at <a href=\"https://github.com/JuliaLang/julia/tree/6445c82d0060dbe82b88436f0f4371a4ee64d918/base/linalg/special.jl#L120\" target=\"_blank\">linalg\\special.jl:120</a></li> <li> +(A::<b>Tridiagonal</b>, B::<b>Array{T<:Any,2}</b>) at <a href=\"https://github.com/JuliaLang/julia/tree/6445c82d0060dbe82b88436f0f4371a4ee64d918/base/linalg/special.jl#L120\" target=\"_blank\">linalg\\special.jl:120</a></li> <li> +(A::<b>SymTridiagonal</b>, B::<b>Tridiagonal</b>) at <a href=\"https://github.com/JuliaLang/julia/tree/6445c82d0060dbe82b88436f0f4371a4ee64d918/base/linalg/special.jl#L129\" target=\"_blank\">linalg\\special.jl:129</a></li> <li> +(A::<b>Tridiagonal</b>, B::<b>SymTridiagonal</b>) at <a href=\"https://github.com/JuliaLang/julia/tree/6445c82d0060dbe82b88436f0f4371a4ee64d918/base/linalg/special.jl#L130\" target=\"_blank\">linalg\\special.jl:130</a></li> <li> +(A::<b>SymTridiagonal</b>, B::<b>Array{T<:Any,2}</b>) at <a href=\"https://github.com/JuliaLang/julia/tree/6445c82d0060dbe82b88436f0f4371a4ee64d918/base/linalg/special.jl#L129\" target=\"_blank\">linalg\\special.jl:129</a></li> <li> +(A::<b>Diagonal</b>, B::<b>SymTridiagonal</b>) at <a href=\"https://github.com/JuliaLang/julia/tree/6445c82d0060dbe82b88436f0f4371a4ee64d918/base/linalg/special.jl#L138\" target=\"_blank\">linalg\\special.jl:138</a></li> <li> +(A::<b>SymTridiagonal</b>, B::<b>Diagonal</b>) at <a href=\"https://github.com/JuliaLang/julia/tree/6445c82d0060dbe82b88436f0f4371a4ee64d918/base/linalg/special.jl#L139\" target=\"_blank\">linalg\\special.jl:139</a></li> <li> +(A::<b>Bidiagonal</b>, B::<b>SymTridiagonal</b>) at <a href=\"https://github.com/JuliaLang/julia/tree/6445c82d0060dbe82b88436f0f4371a4ee64d918/base/linalg/special.jl#L138\" target=\"_blank\">linalg\\special.jl:138</a></li> <li> +(A::<b>SymTridiagonal</b>, B::<b>Bidiagonal</b>) at <a href=\"https://github.com/JuliaLang/julia/tree/6445c82d0060dbe82b88436f0f4371a4ee64d918/base/linalg/special.jl#L139\" target=\"_blank\">linalg\\special.jl:139</a></li> <li> +(A::<b>Diagonal</b>, B::<b>UpperTriangular</b>) at <a href=\"https://github.com/JuliaLang/julia/tree/6445c82d0060dbe82b88436f0f4371a4ee64d918/base/linalg/special.jl#L150\" target=\"_blank\">linalg\\special.jl:150</a></li> <li> +(A::<b>UpperTriangular</b>, B::<b>Diagonal</b>) at <a href=\"https://github.com/JuliaLang/julia/tree/6445c82d0060dbe82b88436f0f4371a4ee64d918/base/linalg/special.jl#L151\" target=\"_blank\">linalg\\special.jl:151</a></li> <li> +(A::<b>Diagonal</b>, B::<b>Base.LinAlg.UnitUpperTriangular</b>) at <a href=\"https://github.com/JuliaLang/julia/tree/6445c82d0060dbe82b88436f0f4371a4ee64d918/base/linalg/special.jl#L150\" target=\"_blank\">linalg\\special.jl:150</a></li> <li> +(A::<b>Base.LinAlg.UnitUpperTriangular</b>, B::<b>Diagonal</b>) at <a href=\"https://github.com/JuliaLang/julia/tree/6445c82d0060dbe82b88436f0f4371a4ee64d918/base/linalg/special.jl#L151\" target=\"_blank\">linalg\\special.jl:151</a></li> <li> +(A::<b>Diagonal</b>, B::<b>LowerTriangular</b>) at <a href=\"https://github.com/JuliaLang/julia/tree/6445c82d0060dbe82b88436f0f4371a4ee64d918/base/linalg/special.jl#L150\" target=\"_blank\">linalg\\special.jl:150</a></li> <li> +(A::<b>LowerTriangular</b>, B::<b>Diagonal</b>) at <a href=\"https://github.com/JuliaLang/julia/tree/6445c82d0060dbe82b88436f0f4371a4ee64d918/base/linalg/special.jl#L151\" target=\"_blank\">linalg\\special.jl:151</a></li> <li> +(A::<b>Diagonal</b>, B::<b>Base.LinAlg.UnitLowerTriangular</b>) at <a href=\"https://github.com/JuliaLang/julia/tree/6445c82d0060dbe82b88436f0f4371a4ee64d918/base/linalg/special.jl#L150\" target=\"_blank\">linalg\\special.jl:150</a></li> <li> +(A::<b>Base.LinAlg.UnitLowerTriangular</b>, B::<b>Diagonal</b>) at <a href=\"https://github.com/JuliaLang/julia/tree/6445c82d0060dbe82b88436f0f4371a4ee64d918/base/linalg/special.jl#L151\" target=\"_blank\">linalg\\special.jl:151</a></li> <li> +(A::<b>Base.LinAlg.AbstractTriangular</b>, B::<b>SymTridiagonal</b>) at <a href=\"https://github.com/JuliaLang/julia/tree/6445c82d0060dbe82b88436f0f4371a4ee64d918/base/linalg/special.jl#L157\" target=\"_blank\">linalg\\special.jl:157</a></li> <li> +(A::<b>SymTridiagonal</b>, B::<b>Base.LinAlg.AbstractTriangular</b>) at <a href=\"https://github.com/JuliaLang/julia/tree/6445c82d0060dbe82b88436f0f4371a4ee64d918/base/linalg/special.jl#L158\" target=\"_blank\">linalg\\special.jl:158</a></li> <li> +(A::<b>Base.LinAlg.AbstractTriangular</b>, B::<b>Tridiagonal</b>) at <a href=\"https://github.com/JuliaLang/julia/tree/6445c82d0060dbe82b88436f0f4371a4ee64d918/base/linalg/special.jl#L157\" target=\"_blank\">linalg\\special.jl:157</a></li> <li> +(A::<b>Tridiagonal</b>, B::<b>Base.LinAlg.AbstractTriangular</b>) at <a href=\"https://github.com/JuliaLang/julia/tree/6445c82d0060dbe82b88436f0f4371a4ee64d918/base/linalg/special.jl#L158\" target=\"_blank\">linalg\\special.jl:158</a></li> <li> +(A::<b>Base.LinAlg.AbstractTriangular</b>, B::<b>Bidiagonal</b>) at <a href=\"https://github.com/JuliaLang/julia/tree/6445c82d0060dbe82b88436f0f4371a4ee64d918/base/linalg/special.jl#L157\" target=\"_blank\">linalg\\special.jl:157</a></li> <li> +(A::<b>Bidiagonal</b>, B::<b>Base.LinAlg.AbstractTriangular</b>) at <a href=\"https://github.com/JuliaLang/julia/tree/6445c82d0060dbe82b88436f0f4371a4ee64d918/base/linalg/special.jl#L158\" target=\"_blank\">linalg\\special.jl:158</a></li> <li> +(A::<b>Base.LinAlg.AbstractTriangular</b>, B::<b>Array{T<:Any,2}</b>) at <a href=\"https://github.com/JuliaLang/julia/tree/6445c82d0060dbe82b88436f0f4371a4ee64d918/base/linalg/special.jl#L157\" target=\"_blank\">linalg\\special.jl:157</a></li> <li> +<i>{P<:Union{Base.Dates.CompoundPeriod,Base.Dates.Period}}</i>(Y::<b>Union{Base.ReshapedArray{P,N<:Any,A<:DenseArray,MI<:Tuple{Vararg{Base.MultiplicativeInverses.SignedMultiplicativeInverse{Int64},N<:Any}}},DenseArray{P,N<:Any},SubArray{P,N<:Any,A<:Union{Base.ReshapedArray{T<:Any,N<:Any,A<:DenseArray,MI<:Tuple{Vararg{Base.MultiplicativeInverses.SignedMultiplicativeInverse{Int64},N<:Any}}},DenseArray},I<:Tuple{Vararg{Union{Base.AbstractCartesianIndex,Colon,Int64,Range{Int64}},N<:Any}},L<:Any}}</b>, x::<b>Union{Base.Dates.CompoundPeriod,Base.Dates.Period}</b>) at <a href=\"https://github.com/JuliaLang/julia/tree/6445c82d0060dbe82b88436f0f4371a4ee64d918/base/dates/periods.jl#L337\" target=\"_blank\">dates\\periods.jl:337</a></li> <li> +<i>{P<:Union{Base.Dates.CompoundPeriod,Base.Dates.Period},Q<:Union{Base.Dates.CompoundPeriod,Base.Dates.Period}}</i>(X::<b>Union{Base.ReshapedArray{P,N<:Any,A<:DenseArray,MI<:Tuple{Vararg{Base.MultiplicativeInverses.SignedMultiplicativeInverse{Int64},N<:Any}}},DenseArray{P,N<:Any},SubArray{P,N<:Any,A<:Union{Base.ReshapedArray{T<:Any,N<:Any,A<:DenseArray,MI<:Tuple{Vararg{Base.MultiplicativeInverses.SignedMultiplicativeInverse{Int64},N<:Any}}},DenseArray},I<:Tuple{Vararg{Union{Base.AbstractCartesianIndex,Colon,Int64,Range{Int64}},N<:Any}},L<:Any}}</b>, Y::<b>Union{Base.ReshapedArray{Q,N<:Any,A<:DenseArray,MI<:Tuple{Vararg{Base.MultiplicativeInverses.SignedMultiplicativeInverse{Int64},N<:Any}}},DenseArray{Q,N<:Any},SubArray{Q,N<:Any,A<:Union{Base.ReshapedArray{T<:Any,N<:Any,A<:DenseArray,MI<:Tuple{Vararg{Base.MultiplicativeInverses.SignedMultiplicativeInverse{Int64},N<:Any}}},DenseArray},I<:Tuple{Vararg{Union{Base.AbstractCartesianIndex,Colon,Int64,Range{Int64}},N<:Any}},L<:Any}}</b>) at <a href=\"https://github.com/JuliaLang/julia/tree/6445c82d0060dbe82b88436f0f4371a4ee64d918/base/dates/periods.jl#L338\" target=\"_blank\">dates\\periods.jl:338</a></li> <li> +<i>{T<:Base.Dates.TimeType,P<:Union{Base.Dates.CompoundPeriod,Base.Dates.Period}}</i>(x::<b>Union{Base.ReshapedArray{P,N<:Any,A<:DenseArray,MI<:Tuple{Vararg{Base.MultiplicativeInverses.SignedMultiplicativeInverse{Int64},N<:Any}}},DenseArray{P,N<:Any},SubArray{P,N<:Any,A<:Union{Base.ReshapedArray{T<:Any,N<:Any,A<:DenseArray,MI<:Tuple{Vararg{Base.MultiplicativeInverses.SignedMultiplicativeInverse{Int64},N<:Any}}},DenseArray},I<:Tuple{Vararg{Union{Base.AbstractCartesianIndex,Colon,Int64,Range{Int64}},N<:Any}},L<:Any}}</b>, y::<b>T</b>) at <a href=\"https://github.com/JuliaLang/julia/tree/6445c82d0060dbe82b88436f0f4371a4ee64d918/base/dates/arithmetic.jl#L83\" target=\"_blank\">dates\\arithmetic.jl:83</a></li> <li> +<i>{T<:Base.Dates.TimeType}</i>(r::<b>Range{T}</b>, x::<b>Base.Dates.Period</b>) at <a href=\"https://github.com/JuliaLang/julia/tree/6445c82d0060dbe82b88436f0f4371a4ee64d918/base/dates/ranges.jl#L39\" target=\"_blank\">dates\\ranges.jl:39</a></li> <li> +<i>{Tv1,Ti1,Tv2,Ti2}</i>(A_1::<b>SparseMatrixCSC{Tv1,Ti1}</b>, A_2::<b>SparseMatrixCSC{Tv2,Ti2}</b>) at <a href=\"https://github.com/JuliaLang/julia/tree/6445c82d0060dbe82b88436f0f4371a4ee64d918/base/sparse/sparsematrix.jl#L1697\" target=\"_blank\">sparse\\sparsematrix.jl:1697</a></li> <li> +(A::<b>SparseMatrixCSC</b>, B::<b>Array</b>) at <a href=\"https://github.com/JuliaLang/julia/tree/6445c82d0060dbe82b88436f0f4371a4ee64d918/base/sparse/sparsematrix.jl#L1709\" target=\"_blank\">sparse\\sparsematrix.jl:1709</a></li> <li> +(A::<b>SparseMatrixCSC</b>, J::<b>UniformScaling</b>) at <a href=\"https://github.com/JuliaLang/julia/tree/6445c82d0060dbe82b88436f0f4371a4ee64d918/base/sparse/sparsematrix.jl#L3811\" target=\"_blank\">sparse\\sparsematrix.jl:3811</a></li> <li> +(x::<b>AbstractSparseArray{Tv<:Any,Ti<:Any,1}</b>, y::<b>AbstractSparseArray{Tv<:Any,Ti<:Any,1}</b>) at <a href=\"https://github.com/JuliaLang/julia/tree/6445c82d0060dbe82b88436f0f4371a4ee64d918/base/sparse/sparsevector.jl#L1179\" target=\"_blank\">sparse\\sparsevector.jl:1179</a></li> <li> +(x::<b>Union{Base.ReshapedArray{T<:Any,1,A<:DenseArray,MI<:Tuple{Vararg{Base.MultiplicativeInverses.SignedMultiplicativeInverse{Int64},N<:Any}}},DenseArray{T<:Any,1},SubArray{T<:Any,1,A<:Union{Base.ReshapedArray{T<:Any,N<:Any,A<:DenseArray,MI<:Tuple{Vararg{Base.MultiplicativeInverses.SignedMultiplicativeInverse{Int64},N<:Any}}},DenseArray},I<:Tuple{Vararg{Union{Base.AbstractCartesianIndex,Colon,Int64,Range{Int64}},N<:Any}},L<:Any}}</b>, y::<b>AbstractSparseArray{Tv<:Any,Ti<:Any,1}</b>) at <a href=\"https://github.com/JuliaLang/julia/tree/6445c82d0060dbe82b88436f0f4371a4ee64d918/base/sparse/sparsevector.jl#L1180\" target=\"_blank\">sparse\\sparsevector.jl:1180</a></li> <li> +(x::<b>AbstractSparseArray{Tv<:Any,Ti<:Any,1}</b>, y::<b>Union{Base.ReshapedArray{T<:Any,1,A<:DenseArray,MI<:Tuple{Vararg{Base.MultiplicativeInverses.SignedMultiplicativeInverse{Int64},N<:Any}}},DenseArray{T<:Any,1},SubArray{T<:Any,1,A<:Union{Base.ReshapedArray{T<:Any,N<:Any,A<:DenseArray,MI<:Tuple{Vararg{Base.MultiplicativeInverses.SignedMultiplicativeInverse{Int64},N<:Any}}},DenseArray},I<:Tuple{Vararg{Union{Base.AbstractCartesianIndex,Colon,Int64,Range{Int64}},N<:Any}},L<:Any}}</b>) at <a href=\"https://github.com/JuliaLang/julia/tree/6445c82d0060dbe82b88436f0f4371a4ee64d918/base/sparse/sparsevector.jl#L1181\" target=\"_blank\">sparse\\sparsevector.jl:1181</a></li> <li> +<i>{T<:Number}</i>(x::<b>AbstractArray{T,N<:Any}</b>) at <a href=\"https://github.com/JuliaLang/julia/tree/6445c82d0060dbe82b88436f0f4371a4ee64d918/base/abstractarraymath.jl#L91\" target=\"_blank\">abstractarraymath.jl:91</a></li> <li> +<i>{R,S}</i>(A::<b>AbstractArray{R,N<:Any}</b>, B::<b>AbstractArray{S,N<:Any}</b>) at <a href=\"https://github.com/JuliaLang/julia/tree/6445c82d0060dbe82b88436f0f4371a4ee64d918/base/arraymath.jl#L63\" target=\"_blank\">arraymath.jl:63</a></li> <li> +(A::<b>AbstractArray</b>, x::<b>Number</b>) at <a href=\"https://github.com/JuliaLang/julia/tree/6445c82d0060dbe82b88436f0f4371a4ee64d918/base/arraymath.jl#L129\" target=\"_blank\">arraymath.jl:129</a></li> <li> +(x::<b>Number</b>, A::<b>AbstractArray</b>) at <a href=\"https://github.com/JuliaLang/julia/tree/6445c82d0060dbe82b88436f0f4371a4ee64d918/base/arraymath.jl#L130\" target=\"_blank\">arraymath.jl:130</a></li> <li> +<i>{N}</i>(index1::<b>CartesianIndex{N}</b>, index2::<b>CartesianIndex{N}</b>) at <a href=\"https://github.com/JuliaLang/julia/tree/6445c82d0060dbe82b88436f0f4371a4ee64d918/base/multidimensional.jl#L52\" target=\"_blank\">multidimensional.jl:52</a></li> <li> +<i>{N}</i>(index::<b>CartesianIndex{N}</b>, i::<b>Integer</b>) at <a href=\"https://github.com/JuliaLang/julia/tree/6445c82d0060dbe82b88436f0f4371a4ee64d918/base/multidimensional.jl#L57\" target=\"_blank\">multidimensional.jl:57</a></li> <li> +(J1::<b>UniformScaling</b>, J2::<b>UniformScaling</b>) at <a href=\"https://github.com/JuliaLang/julia/tree/6445c82d0060dbe82b88436f0f4371a4ee64d918/base/linalg/uniformscaling.jl#L37\" target=\"_blank\">linalg\\uniformscaling.jl:37</a></li> <li> +(J::<b>UniformScaling</b>, B::<b>BitArray{2}</b>) at <a href=\"https://github.com/JuliaLang/julia/tree/6445c82d0060dbe82b88436f0f4371a4ee64d918/base/linalg/uniformscaling.jl#L39\" target=\"_blank\">linalg\\uniformscaling.jl:39</a></li> <li> +(J::<b>UniformScaling</b>, A::<b>AbstractArray{T<:Any,2}</b>) at <a href=\"https://github.com/JuliaLang/julia/tree/6445c82d0060dbe82b88436f0f4371a4ee64d918/base/linalg/uniformscaling.jl#L40\" target=\"_blank\">linalg\\uniformscaling.jl:40</a></li> <li> +(J::<b>UniformScaling</b>, x::<b>Number</b>) at <a href=\"https://github.com/JuliaLang/julia/tree/6445c82d0060dbe82b88436f0f4371a4ee64d918/base/linalg/uniformscaling.jl#L41\" target=\"_blank\">linalg\\uniformscaling.jl:41</a></li> <li> +(x::<b>Number</b>, J::<b>UniformScaling</b>) at <a href=\"https://github.com/JuliaLang/julia/tree/6445c82d0060dbe82b88436f0f4371a4ee64d918/base/linalg/uniformscaling.jl#L42\" target=\"_blank\">linalg\\uniformscaling.jl:42</a></li> <li> +<i>{TA,TJ}</i>(A::<b>AbstractArray{TA,2}</b>, J::<b>UniformScaling{TJ}</b>) at <a href=\"https://github.com/JuliaLang/julia/tree/6445c82d0060dbe82b88436f0f4371a4ee64d918/base/linalg/uniformscaling.jl#L102\" target=\"_blank\">linalg\\uniformscaling.jl:102</a></li> <li> +<i>{T}</i>(a::<b>Base.Pkg.Resolve.VersionWeights.HierarchicalValue{T}</b>, b::<b>Base.Pkg.Resolve.VersionWeights.HierarchicalValue{T}</b>) at <a href=\"https://github.com/JuliaLang/julia/tree/6445c82d0060dbe82b88436f0f4371a4ee64d918/base/pkg/resolve/versionweight.jl#L23\" target=\"_blank\">pkg/resolve/versionweight.jl:23</a></li> <li> +<i>{P<:Base.Dates.Period}</i>(x::<b>P</b>, y::<b>P</b>) at <a href=\"https://github.com/JuliaLang/julia/tree/6445c82d0060dbe82b88436f0f4371a4ee64d918/base/dates/periods.jl#L70\" target=\"_blank\">dates\\periods.jl:70</a></li> <li> +(x::<b>Base.Dates.Period</b>, y::<b>Base.Dates.Period</b>) at <a href=\"https://github.com/JuliaLang/julia/tree/6445c82d0060dbe82b88436f0f4371a4ee64d918/base/dates/periods.jl#L311\" target=\"_blank\">dates\\periods.jl:311</a></li> <li> +(y::<b>Base.Dates.Period</b>, x::<b>Base.Dates.CompoundPeriod</b>) at <a href=\"https://github.com/JuliaLang/julia/tree/6445c82d0060dbe82b88436f0f4371a4ee64d918/base/dates/periods.jl#L313\" target=\"_blank\">dates\\periods.jl:313</a></li> <li> +(y::<b>Base.Dates.Period</b>, x::<b>Base.Dates.TimeType</b>) at <a href=\"https://github.com/JuliaLang/julia/tree/6445c82d0060dbe82b88436f0f4371a4ee64d918/base/dates/arithmetic.jl#L66\" target=\"_blank\">dates\\arithmetic.jl:66</a></li> <li> +<i>{T<:Base.Dates.TimeType}</i>(x::<b>Base.Dates.Period</b>, r::<b>Range{T}</b>) at <a href=\"https://github.com/JuliaLang/julia/tree/6445c82d0060dbe82b88436f0f4371a4ee64d918/base/dates/ranges.jl#L40\" target=\"_blank\">dates\\ranges.jl:40</a></li> <li> +(x::<b>Union{Base.Dates.CompoundPeriod,Base.Dates.Period}</b>) at <a href=\"https://github.com/JuliaLang/julia/tree/6445c82d0060dbe82b88436f0f4371a4ee64d918/base/dates/periods.jl#L322\" target=\"_blank\">dates\\periods.jl:322</a></li> <li> +<i>{P<:Union{Base.Dates.CompoundPeriod,Base.Dates.Period}}</i>(x::<b>Union{Base.Dates.CompoundPeriod,Base.Dates.Period}</b>, Y::<b>Union{Base.ReshapedArray{P,N<:Any,A<:DenseArray,MI<:Tuple{Vararg{Base.MultiplicativeInverses.SignedMultiplicativeInverse{Int64},N<:Any}}},DenseArray{P,N<:Any},SubArray{P,N<:Any,A<:Union{Base.ReshapedArray{T<:Any,N<:Any,A<:DenseArray,MI<:Tuple{Vararg{Base.MultiplicativeInverses.SignedMultiplicativeInverse{Int64},N<:Any}}},DenseArray},I<:Tuple{Vararg{Union{Base.AbstractCartesianIndex,Colon,Int64,Range{Int64}},N<:Any}},L<:Any}}</b>) at <a href=\"https://github.com/JuliaLang/julia/tree/6445c82d0060dbe82b88436f0f4371a4ee64d918/base/dates/periods.jl#L336\" target=\"_blank\">dates\\periods.jl:336</a></li> <li> +(x::<b>Base.Dates.TimeType</b>) at <a href=\"https://github.com/JuliaLang/julia/tree/6445c82d0060dbe82b88436f0f4371a4ee64d918/base/dates/arithmetic.jl#L8\" target=\"_blank\">dates\\arithmetic.jl:8</a></li> <li> +(a::<b>Base.Dates.TimeType</b>, b::<b>Base.Dates.Period</b>, c::<b>Base.Dates.Period</b>) at <a href=\"https://github.com/JuliaLang/julia/tree/6445c82d0060dbe82b88436f0f4371a4ee64d918/base/dates/periods.jl#L348\" target=\"_blank\">dates\\periods.jl:348</a></li> <li> +(a::<b>Base.Dates.TimeType</b>, b::<b>Base.Dates.Period</b>, c::<b>Base.Dates.Period</b>, d::<b>Base.Dates.Period...</b>) at <a href=\"https://github.com/JuliaLang/julia/tree/6445c82d0060dbe82b88436f0f4371a4ee64d918/base/dates/periods.jl#L350\" target=\"_blank\">dates\\periods.jl:350</a></li> <li> +(x::<b>Base.Dates.TimeType</b>, y::<b>Base.Dates.CompoundPeriod</b>) at <a href=\"https://github.com/JuliaLang/julia/tree/6445c82d0060dbe82b88436f0f4371a4ee64d918/base/dates/periods.jl#L354\" target=\"_blank\">dates\\periods.jl:354</a></li> <li> +(x::<b>Base.Dates.Instant</b>) at <a href=\"https://github.com/JuliaLang/julia/tree/6445c82d0060dbe82b88436f0f4371a4ee64d918/base/dates/arithmetic.jl#L4\" target=\"_blank\">dates\\arithmetic.jl:4</a></li> <li> +<i>{T<:Base.Dates.TimeType}</i>(x::<b>AbstractArray{T,N<:Any}</b>, y::<b>Union{Base.Dates.CompoundPeriod,Base.Dates.Period}</b>) at <a href=\"https://github.com/JuliaLang/julia/tree/6445c82d0060dbe82b88436f0f4371a4ee64d918/base/dates/arithmetic.jl#L76\" target=\"_blank\">dates\\arithmetic.jl:76</a></li> <li> +<i>{T<:Base.Dates.TimeType}</i>(y::<b>Union{Base.Dates.CompoundPeriod,Base.Dates.Period}</b>, x::<b>AbstractArray{T,N<:Any}</b>) at <a href=\"https://github.com/JuliaLang/julia/tree/6445c82d0060dbe82b88436f0f4371a4ee64d918/base/dates/arithmetic.jl#L77\" target=\"_blank\">dates\\arithmetic.jl:77</a></li> <li> +<i>{P<:Union{Base.Dates.CompoundPeriod,Base.Dates.Period}}</i>(y::<b>Base.Dates.TimeType</b>, x::<b>Union{Base.ReshapedArray{P,N<:Any,A<:DenseArray,MI<:Tuple{Vararg{Base.MultiplicativeInverses.SignedMultiplicativeInverse{Int64},N<:Any}}},DenseArray{P,N<:Any},SubArray{P,N<:Any,A<:Union{Base.ReshapedArray{T<:Any,N<:Any,A<:DenseArray,MI<:Tuple{Vararg{Base.MultiplicativeInverses.SignedMultiplicativeInverse{Int64},N<:Any}}},DenseArray},I<:Tuple{Vararg{Union{Base.AbstractCartesianIndex,Colon,Int64,Range{Int64}},N<:Any}},L<:Any}}</b>) at <a href=\"https://github.com/JuliaLang/julia/tree/6445c82d0060dbe82b88436f0f4371a4ee64d918/base/dates/arithmetic.jl#L84\" target=\"_blank\">dates\\arithmetic.jl:84</a></li> <li> +(a, b, c, xs...) at <a href=\"https://github.com/JuliaLang/julia/tree/6445c82d0060dbe82b88436f0f4371a4ee64d918/base/operators.jl#L138\" target=\"_blank\">operators.jl:138</a></li> </ul>"
      ],
      "text/plain": [
       "# 163 methods for generic function \"+\":\n",
       "+(x::Bool, z::Complex{Bool}) at complex.jl:136\n",
       "+(x::Bool, y::Bool) at bool.jl:48\n",
       "+(x::Bool) at bool.jl:45\n",
       "+{T<:AbstractFloat}(x::Bool, y::T) at bool.jl:55\n",
       "+(x::Bool, z::Complex) at complex.jl:143\n",
       "+(x::Bool, A::AbstractArray{Bool,N<:Any}) at arraymath.jl:126\n",
       "+(x::Float32, y::Float32) at float.jl:239\n",
       "+(x::Float64, y::Float64) at float.jl:240\n",
       "+(z::Complex{Bool}, x::Bool) at complex.jl:137\n",
       "+(z::Complex{Bool}, x::Real) at complex.jl:151\n",
       "+(a::Float16, b::Float16) at float16.jl:136\n",
       "+(x::Char, y::Integer) at char.jl:40\n",
       "+(c::BigInt, x::BigFloat) at mpfr.jl:240\n",
       "+(a::BigInt, b::BigInt, c::BigInt, d::BigInt, e::BigInt) at gmp.jl:298\n",
       "+(a::BigInt, b::BigInt, c::BigInt, d::BigInt) at gmp.jl:291\n",
       "+(a::BigInt, b::BigInt, c::BigInt) at gmp.jl:285\n",
       "+(x::BigInt, y::BigInt) at gmp.jl:255\n",
       "+(x::BigInt, c::Union{UInt16,UInt32,UInt8}) at gmp.jl:310\n",
       "+(x::BigInt, c::Union{Int16,Int32,Int8}) at gmp.jl:326\n",
       "+(a::BigFloat, b::BigFloat, c::BigFloat, d::BigFloat, e::BigFloat) at mpfr.jl:388\n",
       "+(a::BigFloat, b::BigFloat, c::BigFloat, d::BigFloat) at mpfr.jl:381\n",
       "+(a::BigFloat, b::BigFloat, c::BigFloat) at mpfr.jl:375\n",
       "+(x::BigFloat, c::BigInt) at mpfr.jl:236\n",
       "+(x::BigFloat, y::BigFloat) at mpfr.jl:205\n",
       "+(x::BigFloat, c::Union{UInt16,UInt32,UInt8}) at mpfr.jl:212\n",
       "+(x::BigFloat, c::Union{Int16,Int32,Int8}) at mpfr.jl:220\n",
       "+(x::BigFloat, c::Union{Float16,Float32,Float64}) at mpfr.jl:228\n",
       "+{T}(B::BitArray{2}, J::UniformScaling{T}) at linalg\\uniformscaling.jl:38\n",
       "+(a::Base.Pkg.Resolve.VersionWeights.VWPreBuildItem, b::Base.Pkg.Resolve.VersionWeights.VWPreBuildItem) at pkg/resolve/versionweight.jl:85\n",
       "+(a::Base.Pkg.Resolve.VersionWeights.VWPreBuild, b::Base.Pkg.Resolve.VersionWeights.VWPreBuild) at pkg/resolve/versionweight.jl:131\n",
       "+(a::Base.Pkg.Resolve.VersionWeights.VersionWeight, b::Base.Pkg.Resolve.VersionWeights.VersionWeight) at pkg/resolve/versionweight.jl:181\n",
       "+(a::Base.Pkg.Resolve.MaxSum.FieldValues.FieldValue, b::Base.Pkg.Resolve.MaxSum.FieldValues.FieldValue) at pkg/resolve/fieldvalue.jl:44\n",
       "+(x::Base.Dates.CompoundPeriod, y::Base.Dates.CompoundPeriod) at dates\\periods.jl:314\n",
       "+(x::Base.Dates.CompoundPeriod, y::Base.Dates.Period) at dates\\periods.jl:312\n",
       "+(x::Base.Dates.CompoundPeriod, y::Base.Dates.TimeType) at dates\\periods.jl:359\n",
       "+(dt::DateTime, z::Base.Dates.Month) at dates\\arithmetic.jl:37\n",
       "+(dt::DateTime, y::Base.Dates.Year) at dates\\arithmetic.jl:13\n",
       "+(x::DateTime, y::Base.Dates.Period) at dates\\arithmetic.jl:64\n",
       "+(x::Date, y::Base.Dates.Day) at dates\\arithmetic.jl:62\n",
       "+(x::Date, y::Base.Dates.Week) at dates\\arithmetic.jl:60\n",
       "+(dt::Date, z::Base.Dates.Month) at dates\\arithmetic.jl:43\n",
       "+(dt::Date, y::Base.Dates.Year) at dates\\arithmetic.jl:17\n",
       "+(y::AbstractFloat, x::Bool) at bool.jl:57\n",
       "+{T<:Union{Int128,Int16,Int32,Int64,Int8,UInt128,UInt16,UInt32,UInt64,UInt8}}(x::T, y::T) at int.jl:32\n",
       "+(x::Integer, y::Ptr) at pointer.jl:108\n",
       "+(z::Complex, w::Complex) at complex.jl:125\n",
       "+(z::Complex, x::Bool) at complex.jl:144\n",
       "+(x::Real, z::Complex{Bool}) at complex.jl:150\n",
       "+(x::Real, z::Complex) at complex.jl:162\n",
       "+(z::Complex, x::Real) at complex.jl:163\n",
       "+(x::Rational, y::Rational) at rational.jl:202\n",
       "+(x::Integer, y::Char) at char.jl:41\n",
       "+{N}(i::Integer, index::CartesianIndex{N}) at multidimensional.jl:58\n",
       "+(c::Union{UInt16,UInt32,UInt8}, x::BigInt) at gmp.jl:314\n",
       "+(c::Union{Int16,Int32,Int8}, x::BigInt) at gmp.jl:327\n",
       "+(c::Union{UInt16,UInt32,UInt8}, x::BigFloat) at mpfr.jl:216\n",
       "+(c::Union{Int16,Int32,Int8}, x::BigFloat) at mpfr.jl:224\n",
       "+(c::Union{Float16,Float32,Float64}, x::BigFloat) at mpfr.jl:232\n",
       "+(x::Irrational, y::Irrational) at irrationals.jl:88\n",
       "+(x::Number) at operators.jl:115\n",
       "+{T<:Number}(x::T, y::T) at promotion.jl:255\n",
       "+(x::Number, y::Number) at promotion.jl:190\n",
       "+(r1::OrdinalRange, r2::OrdinalRange) at operators.jl:505\n",
       "+{T<:AbstractFloat}(r1::FloatRange{T}, r2::FloatRange{T}) at operators.jl:512\n",
       "+{T<:AbstractFloat}(r1::LinSpace{T}, r2::LinSpace{T}) at operators.jl:531\n",
       "+(r1::Union{FloatRange,LinSpace,OrdinalRange}, r2::Union{FloatRange,LinSpace,OrdinalRange}) at operators.jl:544\n",
       "+(x::Ptr, y::Integer) at pointer.jl:106\n",
       "+(A::BitArray, B::BitArray) at bitarray.jl:1056\n",
       "+(A::Array{T<:Any,2}, B::Diagonal) at linalg\\special.jl:121\n",
       "+(A::Array{T<:Any,2}, B::Bidiagonal) at linalg\\special.jl:121\n",
       "+(A::Array{T<:Any,2}, B::Tridiagonal) at linalg\\special.jl:121\n",
       "+(A::Array{T<:Any,2}, B::SymTridiagonal) at linalg\\special.jl:130\n",
       "+(A::Array{T<:Any,2}, B::Base.LinAlg.AbstractTriangular) at linalg\\special.jl:158\n",
       "+(A::Array, B::SparseMatrixCSC) at sparse\\sparsematrix.jl:1711\n",
       "+{P<:Union{Base.Dates.CompoundPeriod,Base.Dates.Period}}(x::Union{Base.ReshapedArray{P,N<:Any,A<:DenseArray,MI<:Tuple{Vararg{Base.MultiplicativeInverses.SignedMultiplicativeInverse{Int64},N<:Any}}},DenseArray{P,N<:Any},SubArray{P,N<:Any,A<:Union{Base.ReshapedArray{T<:Any,N<:Any,A<:DenseArray,MI<:Tuple{Vararg{Base.MultiplicativeInverses.SignedMultiplicativeInverse{Int64},N<:Any}}},DenseArray},I<:Tuple{Vararg{Union{Base.AbstractCartesianIndex,Colon,Int64,Range{Int64}},N<:Any}},L<:Any}}) at dates\\periods.jl:323\n",
       "+(A::AbstractArray{Bool,N<:Any}, x::Bool) at arraymath.jl:125\n",
       "+(A::SymTridiagonal, B::SymTridiagonal) at linalg\\tridiag.jl:96\n",
       "+(A::Tridiagonal, B::Tridiagonal) at linalg\\tridiag.jl:494\n",
       "+(A::UpperTriangular, B::UpperTriangular) at linalg\\triangular.jl:357\n",
       "+(A::LowerTriangular, B::LowerTriangular) at linalg\\triangular.jl:358\n",
       "+(A::UpperTriangular, B::Base.LinAlg.UnitUpperTriangular) at linalg\\triangular.jl:359\n",
       "+(A::LowerTriangular, B::Base.LinAlg.UnitLowerTriangular) at linalg\\triangular.jl:360\n",
       "+(A::Base.LinAlg.UnitUpperTriangular, B::UpperTriangular) at linalg\\triangular.jl:361\n",
       "+(A::Base.LinAlg.UnitLowerTriangular, B::LowerTriangular) at linalg\\triangular.jl:362\n",
       "+(A::Base.LinAlg.UnitUpperTriangular, B::Base.LinAlg.UnitUpperTriangular) at linalg\\triangular.jl:363\n",
       "+(A::Base.LinAlg.UnitLowerTriangular, B::Base.LinAlg.UnitLowerTriangular) at linalg\\triangular.jl:364\n",
       "+(A::Base.LinAlg.AbstractTriangular, B::Base.LinAlg.AbstractTriangular) at linalg\\triangular.jl:365\n",
       "+(Da::Diagonal, Db::Diagonal) at linalg\\diagonal.jl:110\n",
       "+(A::Bidiagonal, B::Bidiagonal) at linalg\\bidiag.jl:256\n",
       "+(UL::UpperTriangular, J::UniformScaling) at linalg\\uniformscaling.jl:55\n",
       "+(UL::Base.LinAlg.UnitUpperTriangular, J::UniformScaling) at linalg\\uniformscaling.jl:58\n",
       "+(UL::LowerTriangular, J::UniformScaling) at linalg\\uniformscaling.jl:55\n",
       "+(UL::Base.LinAlg.UnitLowerTriangular, J::UniformScaling) at linalg\\uniformscaling.jl:58\n",
       "+(A::Diagonal, B::Bidiagonal) at linalg\\special.jl:120\n",
       "+(A::Bidiagonal, B::Diagonal) at linalg\\special.jl:121\n",
       "+(A::Diagonal, B::Tridiagonal) at linalg\\special.jl:120\n",
       "+(A::Tridiagonal, B::Diagonal) at linalg\\special.jl:121\n",
       "+(A::Diagonal, B::Array{T<:Any,2}) at linalg\\special.jl:120\n",
       "+(A::Bidiagonal, B::Tridiagonal) at linalg\\special.jl:120\n",
       "+(A::Tridiagonal, B::Bidiagonal) at linalg\\special.jl:121\n",
       "+(A::Bidiagonal, B::Array{T<:Any,2}) at linalg\\special.jl:120\n",
       "+(A::Tridiagonal, B::Array{T<:Any,2}) at linalg\\special.jl:120\n",
       "+(A::SymTridiagonal, B::Tridiagonal) at linalg\\special.jl:129\n",
       "+(A::Tridiagonal, B::SymTridiagonal) at linalg\\special.jl:130\n",
       "+(A::SymTridiagonal, B::Array{T<:Any,2}) at linalg\\special.jl:129\n",
       "+(A::Diagonal, B::SymTridiagonal) at linalg\\special.jl:138\n",
       "+(A::SymTridiagonal, B::Diagonal) at linalg\\special.jl:139\n",
       "+(A::Bidiagonal, B::SymTridiagonal) at linalg\\special.jl:138\n",
       "+(A::SymTridiagonal, B::Bidiagonal) at linalg\\special.jl:139\n",
       "+(A::Diagonal, B::UpperTriangular) at linalg\\special.jl:150\n",
       "+(A::UpperTriangular, B::Diagonal) at linalg\\special.jl:151\n",
       "+(A::Diagonal, B::Base.LinAlg.UnitUpperTriangular) at linalg\\special.jl:150\n",
       "+(A::Base.LinAlg.UnitUpperTriangular, B::Diagonal) at linalg\\special.jl:151\n",
       "+(A::Diagonal, B::LowerTriangular) at linalg\\special.jl:150\n",
       "+(A::LowerTriangular, B::Diagonal) at linalg\\special.jl:151\n",
       "+(A::Diagonal, B::Base.LinAlg.UnitLowerTriangular) at linalg\\special.jl:150\n",
       "+(A::Base.LinAlg.UnitLowerTriangular, B::Diagonal) at linalg\\special.jl:151\n",
       "+(A::Base.LinAlg.AbstractTriangular, B::SymTridiagonal) at linalg\\special.jl:157\n",
       "+(A::SymTridiagonal, B::Base.LinAlg.AbstractTriangular) at linalg\\special.jl:158\n",
       "+(A::Base.LinAlg.AbstractTriangular, B::Tridiagonal) at linalg\\special.jl:157\n",
       "+(A::Tridiagonal, B::Base.LinAlg.AbstractTriangular) at linalg\\special.jl:158\n",
       "+(A::Base.LinAlg.AbstractTriangular, B::Bidiagonal) at linalg\\special.jl:157\n",
       "+(A::Bidiagonal, B::Base.LinAlg.AbstractTriangular) at linalg\\special.jl:158\n",
       "+(A::Base.LinAlg.AbstractTriangular, B::Array{T<:Any,2}) at linalg\\special.jl:157\n",
       "+{P<:Union{Base.Dates.CompoundPeriod,Base.Dates.Period}}(Y::Union{Base.ReshapedArray{P,N<:Any,A<:DenseArray,MI<:Tuple{Vararg{Base.MultiplicativeInverses.SignedMultiplicativeInverse{Int64},N<:Any}}},DenseArray{P,N<:Any},SubArray{P,N<:Any,A<:Union{Base.ReshapedArray{T<:Any,N<:Any,A<:DenseArray,MI<:Tuple{Vararg{Base.MultiplicativeInverses.SignedMultiplicativeInverse{Int64},N<:Any}}},DenseArray},I<:Tuple{Vararg{Union{Base.AbstractCartesianIndex,Colon,Int64,Range{Int64}},N<:Any}},L<:Any}}, x::Union{Base.Dates.CompoundPeriod,Base.Dates.Period}) at dates\\periods.jl:337\n",
       "+{P<:Union{Base.Dates.CompoundPeriod,Base.Dates.Period},Q<:Union{Base.Dates.CompoundPeriod,Base.Dates.Period}}(X::Union{Base.ReshapedArray{P,N<:Any,A<:DenseArray,MI<:Tuple{Vararg{Base.MultiplicativeInverses.SignedMultiplicativeInverse{Int64},N<:Any}}},DenseArray{P,N<:Any},SubArray{P,N<:Any,A<:Union{Base.ReshapedArray{T<:Any,N<:Any,A<:DenseArray,MI<:Tuple{Vararg{Base.MultiplicativeInverses.SignedMultiplicativeInverse{Int64},N<:Any}}},DenseArray},I<:Tuple{Vararg{Union{Base.AbstractCartesianIndex,Colon,Int64,Range{Int64}},N<:Any}},L<:Any}}, Y::Union{Base.ReshapedArray{Q,N<:Any,A<:DenseArray,MI<:Tuple{Vararg{Base.MultiplicativeInverses.SignedMultiplicativeInverse{Int64},N<:Any}}},DenseArray{Q,N<:Any},SubArray{Q,N<:Any,A<:Union{Base.ReshapedArray{T<:Any,N<:Any,A<:DenseArray,MI<:Tuple{Vararg{Base.MultiplicativeInverses.SignedMultiplicativeInverse{Int64},N<:Any}}},DenseArray},I<:Tuple{Vararg{Union{Base.AbstractCartesianIndex,Colon,Int64,Range{Int64}},N<:Any}},L<:Any}}) at dates\\periods.jl:338\n",
       "+{T<:Base.Dates.TimeType,P<:Union{Base.Dates.CompoundPeriod,Base.Dates.Period}}(x::Union{Base.ReshapedArray{P,N<:Any,A<:DenseArray,MI<:Tuple{Vararg{Base.MultiplicativeInverses.SignedMultiplicativeInverse{Int64},N<:Any}}},DenseArray{P,N<:Any},SubArray{P,N<:Any,A<:Union{Base.ReshapedArray{T<:Any,N<:Any,A<:DenseArray,MI<:Tuple{Vararg{Base.MultiplicativeInverses.SignedMultiplicativeInverse{Int64},N<:Any}}},DenseArray},I<:Tuple{Vararg{Union{Base.AbstractCartesianIndex,Colon,Int64,Range{Int64}},N<:Any}},L<:Any}}, y::T) at dates\\arithmetic.jl:83\n",
       "+{T<:Base.Dates.TimeType}(r::Range{T}, x::Base.Dates.Period) at dates\\ranges.jl:39\n",
       "+{Tv1,Ti1,Tv2,Ti2}(A_1::SparseMatrixCSC{Tv1,Ti1}, A_2::SparseMatrixCSC{Tv2,Ti2}) at sparse\\sparsematrix.jl:1697\n",
       "+(A::SparseMatrixCSC, B::Array) at sparse\\sparsematrix.jl:1709\n",
       "+(A::SparseMatrixCSC, J::UniformScaling) at sparse\\sparsematrix.jl:3811\n",
       "+(x::AbstractSparseArray{Tv<:Any,Ti<:Any,1}, y::AbstractSparseArray{Tv<:Any,Ti<:Any,1}) at sparse\\sparsevector.jl:1179\n",
       "+(x::Union{Base.ReshapedArray{T<:Any,1,A<:DenseArray,MI<:Tuple{Vararg{Base.MultiplicativeInverses.SignedMultiplicativeInverse{Int64},N<:Any}}},DenseArray{T<:Any,1},SubArray{T<:Any,1,A<:Union{Base.ReshapedArray{T<:Any,N<:Any,A<:DenseArray,MI<:Tuple{Vararg{Base.MultiplicativeInverses.SignedMultiplicativeInverse{Int64},N<:Any}}},DenseArray},I<:Tuple{Vararg{Union{Base.AbstractCartesianIndex,Colon,Int64,Range{Int64}},N<:Any}},L<:Any}}, y::AbstractSparseArray{Tv<:Any,Ti<:Any,1}) at sparse\\sparsevector.jl:1180\n",
       "+(x::AbstractSparseArray{Tv<:Any,Ti<:Any,1}, y::Union{Base.ReshapedArray{T<:Any,1,A<:DenseArray,MI<:Tuple{Vararg{Base.MultiplicativeInverses.SignedMultiplicativeInverse{Int64},N<:Any}}},DenseArray{T<:Any,1},SubArray{T<:Any,1,A<:Union{Base.ReshapedArray{T<:Any,N<:Any,A<:DenseArray,MI<:Tuple{Vararg{Base.MultiplicativeInverses.SignedMultiplicativeInverse{Int64},N<:Any}}},DenseArray},I<:Tuple{Vararg{Union{Base.AbstractCartesianIndex,Colon,Int64,Range{Int64}},N<:Any}},L<:Any}}) at sparse\\sparsevector.jl:1181\n",
       "+{T<:Number}(x::AbstractArray{T,N<:Any}) at abstractarraymath.jl:91\n",
       "+{R,S}(A::AbstractArray{R,N<:Any}, B::AbstractArray{S,N<:Any}) at arraymath.jl:63\n",
       "+(A::AbstractArray, x::Number) at arraymath.jl:129\n",
       "+(x::Number, A::AbstractArray) at arraymath.jl:130\n",
       "+{N}(index1::CartesianIndex{N}, index2::CartesianIndex{N}) at multidimensional.jl:52\n",
       "+{N}(index::CartesianIndex{N}, i::Integer) at multidimensional.jl:57\n",
       "+(J1::UniformScaling, J2::UniformScaling) at linalg\\uniformscaling.jl:37\n",
       "+(J::UniformScaling, B::BitArray{2}) at linalg\\uniformscaling.jl:39\n",
       "+(J::UniformScaling, A::AbstractArray{T<:Any,2}) at linalg\\uniformscaling.jl:40\n",
       "+(J::UniformScaling, x::Number) at linalg\\uniformscaling.jl:41\n",
       "+(x::Number, J::UniformScaling) at linalg\\uniformscaling.jl:42\n",
       "+{TA,TJ}(A::AbstractArray{TA,2}, J::UniformScaling{TJ}) at linalg\\uniformscaling.jl:102\n",
       "+{T}(a::Base.Pkg.Resolve.VersionWeights.HierarchicalValue{T}, b::Base.Pkg.Resolve.VersionWeights.HierarchicalValue{T}) at pkg/resolve/versionweight.jl:23\n",
       "+{P<:Base.Dates.Period}(x::P, y::P) at dates\\periods.jl:70\n",
       "+(x::Base.Dates.Period, y::Base.Dates.Period) at dates\\periods.jl:311\n",
       "+(y::Base.Dates.Period, x::Base.Dates.CompoundPeriod) at dates\\periods.jl:313\n",
       "+(y::Base.Dates.Period, x::Base.Dates.TimeType) at dates\\arithmetic.jl:66\n",
       "+{T<:Base.Dates.TimeType}(x::Base.Dates.Period, r::Range{T}) at dates\\ranges.jl:40\n",
       "+(x::Union{Base.Dates.CompoundPeriod,Base.Dates.Period}) at dates\\periods.jl:322\n",
       "+{P<:Union{Base.Dates.CompoundPeriod,Base.Dates.Period}}(x::Union{Base.Dates.CompoundPeriod,Base.Dates.Period}, Y::Union{Base.ReshapedArray{P,N<:Any,A<:DenseArray,MI<:Tuple{Vararg{Base.MultiplicativeInverses.SignedMultiplicativeInverse{Int64},N<:Any}}},DenseArray{P,N<:Any},SubArray{P,N<:Any,A<:Union{Base.ReshapedArray{T<:Any,N<:Any,A<:DenseArray,MI<:Tuple{Vararg{Base.MultiplicativeInverses.SignedMultiplicativeInverse{Int64},N<:Any}}},DenseArray},I<:Tuple{Vararg{Union{Base.AbstractCartesianIndex,Colon,Int64,Range{Int64}},N<:Any}},L<:Any}}) at dates\\periods.jl:336\n",
       "+(x::Base.Dates.TimeType) at dates\\arithmetic.jl:8\n",
       "+(a::Base.Dates.TimeType, b::Base.Dates.Period, c::Base.Dates.Period) at dates\\periods.jl:348\n",
       "+(a::Base.Dates.TimeType, b::Base.Dates.Period, c::Base.Dates.Period, d::Base.Dates.Period...) at dates\\periods.jl:350\n",
       "+(x::Base.Dates.TimeType, y::Base.Dates.CompoundPeriod) at dates\\periods.jl:354\n",
       "+(x::Base.Dates.Instant) at dates\\arithmetic.jl:4\n",
       "+{T<:Base.Dates.TimeType}(x::AbstractArray{T,N<:Any}, y::Union{Base.Dates.CompoundPeriod,Base.Dates.Period}) at dates\\arithmetic.jl:76\n",
       "+{T<:Base.Dates.TimeType}(y::Union{Base.Dates.CompoundPeriod,Base.Dates.Period}, x::AbstractArray{T,N<:Any}) at dates\\arithmetic.jl:77\n",
       "+{P<:Union{Base.Dates.CompoundPeriod,Base.Dates.Period}}(y::Base.Dates.TimeType, x::Union{Base.ReshapedArray{P,N<:Any,A<:DenseArray,MI<:Tuple{Vararg{Base.MultiplicativeInverses.SignedMultiplicativeInverse{Int64},N<:Any}}},DenseArray{P,N<:Any},SubArray{P,N<:Any,A<:Union{Base.ReshapedArray{T<:Any,N<:Any,A<:DenseArray,MI<:Tuple{Vararg{Base.MultiplicativeInverses.SignedMultiplicativeInverse{Int64},N<:Any}}},DenseArray},I<:Tuple{Vararg{Union{Base.AbstractCartesianIndex,Colon,Int64,Range{Int64}},N<:Any}},L<:Any}}) at dates\\arithmetic.jl:84\n",
       "+(a, b, c, xs...) at operators.jl:138"
      ]
     },
     "execution_count": 5,
     "metadata": {},
     "output_type": "execute_result"
    }
   ],
   "source": [
    "methods(+)"
   ]
  },
  {
   "cell_type": "markdown",
   "metadata": {},
   "source": [
    "Following the third link, we get the following code snippet:\n",
    "```\n",
    "+(x::Bool) = int(x)\n",
    "-(x::Bool) = -int(x)\n",
    "+(x::Bool, y::Bool) = int(x) + int(y)\n",
    "-(x::Bool, y::Bool) = int(x) - int(y)\n",
    "*(x::Bool, y::Bool) = x & y\n",
    "```\n",
    "\n",
    "Therefore:"
   ]
  },
  {
   "cell_type": "code",
   "execution_count": 6,
   "metadata": {
    "collapsed": false
   },
   "outputs": [
    {
     "data": {
      "text/plain": [
       "(1,0,-1,0)"
      ]
     },
     "execution_count": 6,
     "metadata": {},
     "output_type": "execute_result"
    }
   ],
   "source": [
    "+(true), +(false),-(true),-(false)"
   ]
  },
  {
   "cell_type": "code",
   "execution_count": 7,
   "metadata": {
    "collapsed": false
   },
   "outputs": [
    {
     "data": {
      "text/plain": [
       "(Bool[false,true,false,true,false,true],Bool[false,true,true,true,true,false])"
      ]
     },
     "execution_count": 7,
     "metadata": {},
     "output_type": "execute_result"
    }
   ],
   "source": [
    "x, y = BitArray([0,1,0,1,0,1]), BitArray([0,1,1,1,1,0])"
   ]
  },
  {
   "cell_type": "markdown",
   "metadata": {},
   "source": [
    "The above command is equivalent to \n",
    "```\n",
    "x = bitpack([0,1,0,1,0,1]); y = bitpack([0,1,1,1,1,0])\n",
    "```\n",
    "except that only the last result would be displayed"
   ]
  },
  {
   "cell_type": "code",
   "execution_count": 8,
   "metadata": {
    "collapsed": false
   },
   "outputs": [
    {
     "data": {
      "text/plain": [
       "(Bool[false,true,false,true,false,true],[0,-1,0,-1,0,-1])"
      ]
     },
     "execution_count": 8,
     "metadata": {},
     "output_type": "execute_result"
    }
   ],
   "source": [
    "+x,-(x)"
   ]
  },
  {
   "cell_type": "code",
   "execution_count": 9,
   "metadata": {
    "collapsed": false
   },
   "outputs": [
    {
     "data": {
      "text/plain": [
       "([0,2,1,2,1,1],[0,2,1,2,1,1])"
      ]
     },
     "execution_count": 9,
     "metadata": {},
     "output_type": "execute_result"
    }
   ],
   "source": [
    "x+y, +(x,y)"
   ]
  },
  {
   "cell_type": "code",
   "execution_count": 10,
   "metadata": {
    "collapsed": false
   },
   "outputs": [
    {
     "data": {
      "text/plain": [
       "6-element Array{Int64,1}:\n",
       " 0\n",
       " 2\n",
       " 1\n",
       " 2\n",
       " 1\n",
       " 1"
      ]
     },
     "execution_count": 10,
     "metadata": {},
     "output_type": "execute_result"
    }
   ],
   "source": [
    "c1=x+y"
   ]
  },
  {
   "cell_type": "code",
   "execution_count": 11,
   "metadata": {
    "collapsed": false
   },
   "outputs": [
    {
     "data": {
      "text/plain": [
       "6-element Array{Int64,1}:\n",
       " 0\n",
       " 2\n",
       " 1\n",
       " 2\n",
       " 1\n",
       " 1"
      ]
     },
     "execution_count": 11,
     "metadata": {},
     "output_type": "execute_result"
    }
   ],
   "source": [
    "c2=+(x,y)"
   ]
  },
  {
   "cell_type": "markdown",
   "metadata": {},
   "source": [
    "### Manipulating dates\n",
    "\n",
    "We see that one of the `+` methods is adding days to time: \n",
    "\n",
    "```\n",
    " +(x::Date,y::Base.Dates.Day) at dates/arithmetic.jl:60\n",
    "```\n",
    "Therefore, the 135-th day from today is:"
   ]
  },
  {
   "cell_type": "code",
   "execution_count": 12,
   "metadata": {
    "collapsed": false
   },
   "outputs": [
    {
     "data": {
      "text/plain": [
       "2017-04-19"
      ]
     },
     "execution_count": 12,
     "metadata": {},
     "output_type": "execute_result"
    }
   ],
   "source": [
    "Dates.today()"
   ]
  },
  {
   "cell_type": "code",
   "execution_count": 13,
   "metadata": {
    "collapsed": false
   },
   "outputs": [
    {
     "data": {
      "text/plain": [
       "2017-09-01"
      ]
     },
     "execution_count": 13,
     "metadata": {},
     "output_type": "execute_result"
    }
   ],
   "source": [
    "dd=Dates.today()+Dates.Day(135)"
   ]
  },
  {
   "cell_type": "code",
   "execution_count": 14,
   "metadata": {
    "collapsed": false
   },
   "outputs": [
    {
     "data": {
      "text/plain": [
       "Date"
      ]
     },
     "execution_count": 14,
     "metadata": {},
     "output_type": "execute_result"
    }
   ],
   "source": [
    "typeof(dd)"
   ]
  },
  {
   "cell_type": "markdown",
   "metadata": {},
   "source": [
    "More information about the two types can be obtained by `methods(Dates.Date)` and `methods(Dates.Day)`, respectively. "
   ]
  },
  {
   "cell_type": "markdown",
   "metadata": {},
   "source": [
    "### Adding tridiagonal matrices\n",
    "\n",
    "In the above output of `methods(+)`,  we see that we can add tridiagonal matrices:\n",
    "```\n",
    "+(A::Tridiagonal{T}, B::Tridiagonal{T}) at linalg/tridiag.jl:404\n",
    "```\n",
    "Following the link, we see that the method separately adds lower, main and upper diagonals, denoted by `dl`, `d` and `du`, respectively:\n",
    "```\n",
    "404: +(A::Tridiagonal, B::Tridiagonal) = Tridiagonal(A.dl+B.dl, A.d+B.d, A.du+B.du)\n",
    "```\n",
    "Let us see how exactly is the type `Tridiagonal` defined:"
   ]
  },
  {
   "cell_type": "code",
   "execution_count": 15,
   "metadata": {
    "collapsed": false
   },
   "outputs": [
    {
     "data": {
      "text/html": [
       "6 methods for generic function <b>Type</b>:<ul><li> (::<b>Type{Tridiagonal}</b>)<i>{T}</i>(dl::<b>Array{T,1}</b>, d::<b>Array{T,1}</b>, du::<b>Array{T,1}</b>, du2::<b>Array{T,1}</b>) at <a href=\"https://github.com/JuliaLang/julia/tree/6445c82d0060dbe82b88436f0f4371a4ee64d918/base/linalg/tridiag.jl#L319\" target=\"_blank\">linalg\\tridiag.jl:319</a></li> <li> (::<b>Type{Tridiagonal}</b>)<i>{T}</i>(dl::<b>Array{T,1}</b>, d::<b>Array{T,1}</b>, du::<b>Array{T,1}</b>) at <a href=\"https://github.com/JuliaLang/julia/tree/6445c82d0060dbe82b88436f0f4371a4ee64d918/base/linalg/tridiag.jl#L335\" target=\"_blank\">linalg\\tridiag.jl:335</a></li> <li> (::<b>Type{Tridiagonal}</b>)<i>{T}</i>(M::<b>Bidiagonal{T}</b>) at <a href=\"https://github.com/JuliaLang/julia/tree/6445c82d0060dbe82b88436f0f4371a4ee64d918/base/linalg/bidiag.jl#L137\" target=\"_blank\">linalg\\bidiag.jl:137</a></li> <li> (::<b>Type{Tridiagonal}</b>)<i>{Tl,Td,Tu}</i>(dl::<b>AbstractArray{Tl,1}</b>, d::<b>AbstractArray{Td,1}</b>, du::<b>AbstractArray{Tu,1}</b>) at <a href=\"https://github.com/JuliaLang/julia/tree/6445c82d0060dbe82b88436f0f4371a4ee64d918/base/linalg/tridiag.jl#L344\" target=\"_blank\">linalg\\tridiag.jl:344</a></li> <li> (::<b>Type{Tridiagonal}</b>)(A::<b>AbstractArray{T<:Any,2}</b>) at <a href=\"https://github.com/JuliaLang/julia/tree/6445c82d0060dbe82b88436f0f4371a4ee64d918/base/linalg/tridiag.jl#L355\" target=\"_blank\">linalg\\tridiag.jl:355</a></li> <li> (::<b>Type{T}</b>)<i>{T}</i>(arg) at <a href=\"https://github.com/JuliaLang/julia/tree/6445c82d0060dbe82b88436f0f4371a4ee64d918/base/sysimg.jl#L53\" target=\"_blank\">sysimg.jl:53</a></li> </ul>"
      ],
      "text/plain": [
       "# 6 methods for generic function \"(::Type)\":\n",
       "(::Type{Tridiagonal}){T}(dl::Array{T,1}, d::Array{T,1}, du::Array{T,1}, du2::Array{T,1}) at linalg\\tridiag.jl:319\n",
       "(::Type{Tridiagonal}){T}(dl::Array{T,1}, d::Array{T,1}, du::Array{T,1}) at linalg\\tridiag.jl:335\n",
       "(::Type{Tridiagonal}){T}(M::Bidiagonal{T}) at linalg\\bidiag.jl:137\n",
       "(::Type{Tridiagonal}){Tl,Td,Tu}(dl::AbstractArray{Tl,1}, d::AbstractArray{Td,1}, du::AbstractArray{Tu,1}) at linalg\\tridiag.jl:344\n",
       "(::Type{Tridiagonal})(A::AbstractArray{T<:Any,2}) at linalg\\tridiag.jl:355\n",
       "(::Type{T}){T}(arg) at sysimg.jl:53"
      ]
     },
     "execution_count": 15,
     "metadata": {},
     "output_type": "execute_result"
    }
   ],
   "source": [
    "methods(Tridiagonal)"
   ]
  },
  {
   "cell_type": "markdown",
   "metadata": {},
   "source": [
    "This output seems confusing, but from the second line we conclude that we can define three diagonals, lower, main and upper diagonal, denoted as above. We also know that that the lower and upper diagonals are of size $n-1$. Let us try it out:"
   ]
  },
  {
   "cell_type": "code",
   "execution_count": 16,
   "metadata": {
    "collapsed": false
   },
   "outputs": [
    {
     "data": {
      "text/plain": [
       "7×7 Tridiagonal{Float64}:\n",
       " 0.244947   0.0498246   ⋅         ⋅         ⋅         ⋅         ⋅      \n",
       " 0.0466415  0.370643   0.675246   ⋅         ⋅         ⋅         ⋅      \n",
       "  ⋅         0.198166   0.625542  0.951448   ⋅         ⋅         ⋅      \n",
       "  ⋅          ⋅         0.176512  0.623833  0.844704   ⋅         ⋅      \n",
       "  ⋅          ⋅          ⋅        0.774254  0.451302  0.134293   ⋅      \n",
       "  ⋅          ⋅          ⋅         ⋅        0.6204    0.92166   0.411225\n",
       "  ⋅          ⋅          ⋅         ⋅         ⋅        0.950335  0.119784"
      ]
     },
     "execution_count": 16,
     "metadata": {},
     "output_type": "execute_result"
    }
   ],
   "source": [
    "T1 = Tridiagonal(rand(6),rand(7),rand(6))"
   ]
  },
  {
   "cell_type": "code",
   "execution_count": 17,
   "metadata": {
    "collapsed": false
   },
   "outputs": [
    {
     "data": {
      "text/plain": [
       "7×7 Array{Float64,2}:\n",
       " 0.244947   0.0498246  0.0       0.0       0.0       0.0       0.0     \n",
       " 0.0466415  0.370643   0.675246  0.0       0.0       0.0       0.0     \n",
       " 0.0        0.198166   0.625542  0.951448  0.0       0.0       0.0     \n",
       " 0.0        0.0        0.176512  0.623833  0.844704  0.0       0.0     \n",
       " 0.0        0.0        0.0       0.774254  0.451302  0.134293  0.0     \n",
       " 0.0        0.0        0.0       0.0       0.6204    0.92166   0.411225\n",
       " 0.0        0.0        0.0       0.0       0.0       0.950335  0.119784"
      ]
     },
     "execution_count": 17,
     "metadata": {},
     "output_type": "execute_result"
    }
   ],
   "source": [
    "full(T1)"
   ]
  },
  {
   "cell_type": "code",
   "execution_count": 18,
   "metadata": {
    "collapsed": false
   },
   "outputs": [
    {
     "data": {
      "text/plain": [
       "7×7 Tridiagonal{Float64}:\n",
       " 0.733067  -2.0        ⋅         ⋅        ⋅          ⋅          ⋅      \n",
       " 5.0       -0.33284  -4.0        ⋅        ⋅          ⋅          ⋅      \n",
       "  ⋅         1.0      -1.14754  -6.0       ⋅          ⋅          ⋅      \n",
       "  ⋅          ⋅        5.0       1.2479  -2.0         ⋅          ⋅      \n",
       "  ⋅          ⋅         ⋅       -3.0      0.978454  -6.0         ⋅      \n",
       "  ⋅          ⋅         ⋅         ⋅       5.0        0.401844  -2.0     \n",
       "  ⋅          ⋅         ⋅         ⋅        ⋅        -3.0       -0.894658"
      ]
     },
     "execution_count": 18,
     "metadata": {},
     "output_type": "execute_result"
    }
   ],
   "source": [
    "T2 = Tridiagonal(rand(-5:5,6),randn(7),rand(-9:0,6))"
   ]
  },
  {
   "cell_type": "code",
   "execution_count": 21,
   "metadata": {
    "collapsed": false
   },
   "outputs": [
    {
     "data": {
      "text/plain": [
       "7×7 Tridiagonal{Float64}:\n",
       " 0.978014  -1.95018      ⋅          ⋅         ⋅         ⋅         ⋅      \n",
       " 5.04664    0.0378037  -3.32475     ⋅         ⋅         ⋅         ⋅      \n",
       "  ⋅         1.19817    -0.521998  -5.04855    ⋅         ⋅         ⋅      \n",
       "  ⋅          ⋅          5.17651    1.87174  -1.1553     ⋅         ⋅      \n",
       "  ⋅          ⋅           ⋅        -2.22575   1.42976  -5.86571    ⋅      \n",
       "  ⋅          ⋅           ⋅          ⋅        5.6204    1.3235   -1.58877 \n",
       "  ⋅          ⋅           ⋅          ⋅         ⋅       -2.04966  -0.774874"
      ]
     },
     "execution_count": 21,
     "metadata": {},
     "output_type": "execute_result"
    }
   ],
   "source": [
    "T3=T1+T2"
   ]
  },
  {
   "cell_type": "code",
   "execution_count": 19,
   "metadata": {
    "collapsed": false
   },
   "outputs": [
    {
     "data": {
      "text/html": [
       "+(A::<b>Tridiagonal</b>, B::<b>Tridiagonal</b>) at <a href=\"https://github.com/JuliaLang/julia/tree/6445c82d0060dbe82b88436f0f4371a4ee64d918/base/linalg/tridiag.jl#L494\" target=\"_blank\">linalg\\tridiag.jl:494</a>"
      ],
      "text/plain": [
       "+(A::Tridiagonal, B::Tridiagonal) at linalg\\tridiag.jl:494"
      ]
     },
     "execution_count": 19,
     "metadata": {},
     "output_type": "execute_result"
    }
   ],
   "source": [
    "@which T1 + T2"
   ]
  },
  {
   "cell_type": "markdown",
   "metadata": {},
   "source": [
    "This worked as expected, the result is again a `Tridiagonal`. We can access each diagonal by:"
   ]
  },
  {
   "cell_type": "code",
   "execution_count": 22,
   "metadata": {
    "collapsed": false
   },
   "outputs": [
    {
     "name": "stdout",
     "output_type": "stream",
     "text": [
      "[5.04664,1.19817,5.17651,-2.22575,5.6204,-2.04966][0.978014,0.0378037,-0.521998,1.87174,1.42976,1.3235,-0.774874][-1.95018,-3.32475,-5.04855,-1.1553,-5.86571,-1.58877]\n"
     ]
    }
   ],
   "source": [
    "println(T3.dl, T3.d, T3.du)"
   ]
  },
  {
   "cell_type": "markdown",
   "metadata": {},
   "source": [
    "### `@which`\n",
    "\n",
    "Let us take a closer look at what happens. The `@which` command gives the link to the part of the code which is actually invoked. The argument should be only function, without assignment, that is \n",
    "```\n",
    "@which T1=Tridiagonal(rand(6),rand(7),rand(6))\n",
    "```\n",
    "throws an error."
   ]
  },
  {
   "cell_type": "code",
   "execution_count": 23,
   "metadata": {
    "collapsed": false
   },
   "outputs": [
    {
     "data": {
      "text/html": [
       "(::<b>Type{Tridiagonal}</b>)<i>{T}</i>(dl::<b>Array{T,1}</b>, d::<b>Array{T,1}</b>, du::<b>Array{T,1}</b>) at <a href=\"https://github.com/JuliaLang/julia/tree/6445c82d0060dbe82b88436f0f4371a4ee64d918/base/linalg/tridiag.jl#L335\" target=\"_blank\">linalg\\tridiag.jl:335</a>"
      ],
      "text/plain": [
       "(::Type{Tridiagonal}){T}(dl::Array{T,1}, d::Array{T,1}, du::Array{T,1}) at linalg\\tridiag.jl:335"
      ]
     },
     "execution_count": 23,
     "metadata": {},
     "output_type": "execute_result"
    }
   ],
   "source": [
    "@which Tridiagonal(rand(6),rand(7),rand(6))"
   ]
  },
  {
   "cell_type": "markdown",
   "metadata": {},
   "source": [
    "In the code, we see that there is a type definition in the `immutable` block:\n",
    "```\n",
    "## Tridiagonal matrices ##\n",
    "immutable Tridiagonal{T} <: AbstractMatrix{T}\n",
    "dl::Vector{T} # sub-diagonal\n",
    "d::Vector{T} # diagonal\n",
    "du::Vector{T} # sup-diagonal\n",
    "du2::Vector{T} # supsup-diagonal for pivoting\n",
    "end\n",
    "```\n",
    "The `Tridiagonal` type consists of __four__ vectors.\n",
    "In our case, we actually called the function `Tridiagonal()` with __three__ vector arguments. The function creates the type of the same name, setting the fourth reqired vector `du2` to `zeros(T,n-2)`.\n",
    "\n",
    "The next function with the same name is invoked when the input vectors have different types, in which case the types arer promoted to a most general one, if possible."
   ]
  },
  {
   "cell_type": "code",
   "execution_count": 24,
   "metadata": {
    "collapsed": false
   },
   "outputs": [
    {
     "data": {
      "text/plain": [
       "4×4 Tridiagonal{Complex{Float64}}:\n",
       " 2.0+0.0im  0.15579+0.753237im           ⋅                    ⋅         \n",
       " 1.0+0.0im      3.0+0.0im       0.658566+0.825549im           ⋅         \n",
       "     ⋅          2.0+0.0im        3.14159+0.0im       0.247965+0.670974im\n",
       "     ⋅              ⋅                3.0+0.0im            4.0+0.0im     "
      ]
     },
     "execution_count": 24,
     "metadata": {},
     "output_type": "execute_result"
    }
   ],
   "source": [
    "T4 = Tridiagonal([1,2,3], [2.0,3.0,pi,4.0],rand(3)+im*rand(3))"
   ]
  },
  {
   "cell_type": "markdown",
   "metadata": {},
   "source": [
    "### `size()` and `full()`\n",
    "\n",
    "For each matrix type we need to define the function which returns the size of a matrix, and the function which converts the matrix of a given type to a full matrix. These function are listed after the second `Tridiagonal()` function."
   ]
  },
  {
   "cell_type": "code",
   "execution_count": 25,
   "metadata": {
    "collapsed": false
   },
   "outputs": [
    {
     "data": {
      "text/plain": [
       "(4,4)"
      ]
     },
     "execution_count": 25,
     "metadata": {},
     "output_type": "execute_result"
    }
   ],
   "source": [
    "size(T4)"
   ]
  },
  {
   "cell_type": "code",
   "execution_count": 26,
   "metadata": {
    "collapsed": false
   },
   "outputs": [
    {
     "data": {
      "text/plain": [
       "4×4 Array{Complex{Float64},2}:\n",
       " 2.0+0.0im  0.15579+0.753237im       0.0+0.0im            0.0+0.0im     \n",
       " 1.0+0.0im      3.0+0.0im       0.658566+0.825549im       0.0+0.0im     \n",
       " 0.0+0.0im      2.0+0.0im        3.14159+0.0im       0.247965+0.670974im\n",
       " 0.0+0.0im      0.0+0.0im            3.0+0.0im            4.0+0.0im     "
      ]
     },
     "execution_count": 26,
     "metadata": {},
     "output_type": "execute_result"
    }
   ],
   "source": [
    "T4 = full(T4)"
   ]
  },
  {
   "cell_type": "markdown",
   "metadata": {},
   "source": [
    "### `sizeof()` \n",
    "\n",
    "Of course, using special types can leasd to much more efficient programs. For example, for `Tridiagonal` type, onlt four diagonals are stored, in comparison to storing full matrix when $n^2$ elements are stored. The storage used is obtained by the `sizeof()` function."
   ]
  },
  {
   "cell_type": "code",
   "execution_count": 27,
   "metadata": {
    "collapsed": false
   },
   "outputs": [
    {
     "data": {
      "text/plain": [
       "7×7 Tridiagonal{Float64}:\n",
       " 0.244947   0.0498246   ⋅         ⋅         ⋅         ⋅         ⋅      \n",
       " 0.0466415  0.370643   0.675246   ⋅         ⋅         ⋅         ⋅      \n",
       "  ⋅         0.198166   0.625542  0.951448   ⋅         ⋅         ⋅      \n",
       "  ⋅          ⋅         0.176512  0.623833  0.844704   ⋅         ⋅      \n",
       "  ⋅          ⋅          ⋅        0.774254  0.451302  0.134293   ⋅      \n",
       "  ⋅          ⋅          ⋅         ⋅        0.6204    0.92166   0.411225\n",
       "  ⋅          ⋅          ⋅         ⋅         ⋅        0.950335  0.119784"
      ]
     },
     "execution_count": 27,
     "metadata": {},
     "output_type": "execute_result"
    }
   ],
   "source": [
    "T1"
   ]
  },
  {
   "cell_type": "code",
   "execution_count": 28,
   "metadata": {
    "collapsed": false
   },
   "outputs": [
    {
     "data": {
      "text/plain": [
       "7×7 Array{Float64,2}:\n",
       " 0.244947   0.0498246  0.0       0.0       0.0       0.0       0.0     \n",
       " 0.0466415  0.370643   0.675246  0.0       0.0       0.0       0.0     \n",
       " 0.0        0.198166   0.625542  0.951448  0.0       0.0       0.0     \n",
       " 0.0        0.0        0.176512  0.623833  0.844704  0.0       0.0     \n",
       " 0.0        0.0        0.0       0.774254  0.451302  0.134293  0.0     \n",
       " 0.0        0.0        0.0       0.0       0.6204    0.92166   0.411225\n",
       " 0.0        0.0        0.0       0.0       0.0       0.950335  0.119784"
      ]
     },
     "execution_count": 28,
     "metadata": {},
     "output_type": "execute_result"
    }
   ],
   "source": [
    "T1f=full(T1)"
   ]
  },
  {
   "cell_type": "code",
   "execution_count": 29,
   "metadata": {
    "collapsed": false
   },
   "outputs": [
    {
     "data": {
      "text/plain": [
       "392"
      ]
     },
     "execution_count": 29,
     "metadata": {},
     "output_type": "execute_result"
    }
   ],
   "source": [
    "sizeof(T1f)  #   392 =  7 * 7 * 8 bytes"
   ]
  },
  {
   "cell_type": "code",
   "execution_count": 30,
   "metadata": {
    "collapsed": false
   },
   "outputs": [
    {
     "data": {
      "text/plain": [
       "32"
      ]
     },
     "execution_count": 30,
     "metadata": {},
     "output_type": "execute_result"
    }
   ],
   "source": [
    "sizeof(T1) # This is not yet implemented for Tridiagonal - only the storage required for 4 vector variables' names is displayed"
   ]
  },
  {
   "cell_type": "markdown",
   "metadata": {},
   "source": [
    "### `immutable`\n",
    "\n",
    "The `immutable` command means that we can change individual elements of defined parts, but not the parts as a whole (an alternative is to use the `type` construtor). For example: "
   ]
  },
  {
   "cell_type": "code",
   "execution_count": 31,
   "metadata": {
    "collapsed": false
   },
   "outputs": [
    {
     "name": "stdout",
     "output_type": "stream",
     "text": [
      "T5 = Tridiagonal([1,2,3],[2,3,4,5],[-1,1,2]) = [2 -1 0 0; 1 3 1 0; 0 2 4 2; 0 0 3 5]\n",
      "T5 = [2 -1 0 0; 1 123 1 0; 0 2 4 2; 0 0 3 5]\n"
     ]
    },
    {
     "ename": "LoadError",
     "evalue": "type Tridiagonal is immutable",
     "output_type": "error",
     "traceback": [
      "type Tridiagonal is immutable",
      ""
     ]
    }
   ],
   "source": [
    "@show T5 = Tridiagonal([1,2,3],[2,3,4,5],[-1,1,2])\n",
    "T5.d[2]=123\n",
    "@show T5\n",
    "T5.dl = [-1, -1 ,1]"
   ]
  },
  {
   "cell_type": "markdown",
   "metadata": {},
   "source": [
    "### `methodswith()`\n",
    "\n",
    "This is the reverse of `methods()` - which methods exist for the given type. For example, what can we do with `Tridiagonal` matrices, or with `Dates.Day`:"
   ]
  },
  {
   "cell_type": "code",
   "execution_count": 32,
   "metadata": {
    "collapsed": false,
    "scrolled": true
   },
   "outputs": [
    {
     "data": {
      "text/html": [
       "91-element Array{Method,1}:<ul><li> *(A::<b>Tridiagonal</b>, B::<b>Number</b>) at <a href=\"https://github.com/JuliaLang/julia/tree/6445c82d0060dbe82b88436f0f4371a4ee64d918/base/linalg/tridiag.jl#L496\" target=\"_blank\">linalg\\tridiag.jl:496</a><li> *(A::<b>Tridiagonal</b>, B::<b>UpperTriangular</b>) at <a href=\"https://github.com/JuliaLang/julia/tree/6445c82d0060dbe82b88436f0f4371a4ee64d918/base/linalg/triangular.jl#L1324\" target=\"_blank\">linalg\\triangular.jl:1324</a><li> *(A::<b>Tridiagonal</b>, B::<b>Base.LinAlg.UnitUpperTriangular</b>) at <a href=\"https://github.com/JuliaLang/julia/tree/6445c82d0060dbe82b88436f0f4371a4ee64d918/base/linalg/triangular.jl#L1324\" target=\"_blank\">linalg\\triangular.jl:1324</a><li> *(A::<b>Tridiagonal</b>, B::<b>LowerTriangular</b>) at <a href=\"https://github.com/JuliaLang/julia/tree/6445c82d0060dbe82b88436f0f4371a4ee64d918/base/linalg/triangular.jl#L1324\" target=\"_blank\">linalg\\triangular.jl:1324</a><li> *(A::<b>Tridiagonal</b>, B::<b>Base.LinAlg.UnitLowerTriangular</b>) at <a href=\"https://github.com/JuliaLang/julia/tree/6445c82d0060dbe82b88436f0f4371a4ee64d918/base/linalg/triangular.jl#L1324\" target=\"_blank\">linalg\\triangular.jl:1324</a><li> *(A::<b>Base.LinAlg.AbstractTriangular</b>, B::<b>Union{Bidiagonal,SymTridiagonal,Tridiagonal}</b>) at <a href=\"https://github.com/JuliaLang/julia/tree/6445c82d0060dbe82b88436f0f4371a4ee64d918/base/linalg/bidiag.jl#L415\" target=\"_blank\">linalg\\bidiag.jl:415</a><li> *(A::<b>Union{Bidiagonal,SymTridiagonal,Tridiagonal}</b>, B::<b>Union{Bidiagonal,SymTridiagonal,Tridiagonal}</b>) at <a href=\"https://github.com/JuliaLang/julia/tree/6445c82d0060dbe82b88436f0f4371a4ee64d918/base/linalg/bidiag.jl#L416\" target=\"_blank\">linalg\\bidiag.jl:416</a><li> *(B::<b>Number</b>, A::<b>Tridiagonal</b>) at <a href=\"https://github.com/JuliaLang/julia/tree/6445c82d0060dbe82b88436f0f4371a4ee64d918/base/linalg/tridiag.jl#L497\" target=\"_blank\">linalg\\tridiag.jl:497</a><li> +(A::<b>Array{T<:Any,2}</b>, B::<b>Tridiagonal</b>) at <a href=\"https://github.com/JuliaLang/julia/tree/6445c82d0060dbe82b88436f0f4371a4ee64d918/base/linalg/special.jl#L121\" target=\"_blank\">linalg\\special.jl:121</a><li> +(A::<b>Tridiagonal</b>, B::<b>Tridiagonal</b>) at <a href=\"https://github.com/JuliaLang/julia/tree/6445c82d0060dbe82b88436f0f4371a4ee64d918/base/linalg/tridiag.jl#L494\" target=\"_blank\">linalg\\tridiag.jl:494</a><li> +(A::<b>Diagonal</b>, B::<b>Tridiagonal</b>) at <a href=\"https://github.com/JuliaLang/julia/tree/6445c82d0060dbe82b88436f0f4371a4ee64d918/base/linalg/special.jl#L120\" target=\"_blank\">linalg\\special.jl:120</a><li> +(A::<b>Tridiagonal</b>, B::<b>Diagonal</b>) at <a href=\"https://github.com/JuliaLang/julia/tree/6445c82d0060dbe82b88436f0f4371a4ee64d918/base/linalg/special.jl#L121\" target=\"_blank\">linalg\\special.jl:121</a><li> +(A::<b>Bidiagonal</b>, B::<b>Tridiagonal</b>) at <a href=\"https://github.com/JuliaLang/julia/tree/6445c82d0060dbe82b88436f0f4371a4ee64d918/base/linalg/special.jl#L120\" target=\"_blank\">linalg\\special.jl:120</a><li> +(A::<b>Tridiagonal</b>, B::<b>Bidiagonal</b>) at <a href=\"https://github.com/JuliaLang/julia/tree/6445c82d0060dbe82b88436f0f4371a4ee64d918/base/linalg/special.jl#L121\" target=\"_blank\">linalg\\special.jl:121</a><li> +(A::<b>Tridiagonal</b>, B::<b>Array{T<:Any,2}</b>) at <a href=\"https://github.com/JuliaLang/julia/tree/6445c82d0060dbe82b88436f0f4371a4ee64d918/base/linalg/special.jl#L120\" target=\"_blank\">linalg\\special.jl:120</a><li> +(A::<b>SymTridiagonal</b>, B::<b>Tridiagonal</b>) at <a href=\"https://github.com/JuliaLang/julia/tree/6445c82d0060dbe82b88436f0f4371a4ee64d918/base/linalg/special.jl#L129\" target=\"_blank\">linalg\\special.jl:129</a><li> +(A::<b>Tridiagonal</b>, B::<b>SymTridiagonal</b>) at <a href=\"https://github.com/JuliaLang/julia/tree/6445c82d0060dbe82b88436f0f4371a4ee64d918/base/linalg/special.jl#L130\" target=\"_blank\">linalg\\special.jl:130</a><li> +(A::<b>Base.LinAlg.AbstractTriangular</b>, B::<b>Tridiagonal</b>) at <a href=\"https://github.com/JuliaLang/julia/tree/6445c82d0060dbe82b88436f0f4371a4ee64d918/base/linalg/special.jl#L157\" target=\"_blank\">linalg\\special.jl:157</a><li> +(A::<b>Tridiagonal</b>, B::<b>Base.LinAlg.AbstractTriangular</b>) at <a href=\"https://github.com/JuliaLang/julia/tree/6445c82d0060dbe82b88436f0f4371a4ee64d918/base/linalg/special.jl#L158\" target=\"_blank\">linalg\\special.jl:158</a><li> -(A::<b>Tridiagonal</b>, B::<b>Tridiagonal</b>) at <a href=\"https://github.com/JuliaLang/julia/tree/6445c82d0060dbe82b88436f0f4371a4ee64d918/base/linalg/tridiag.jl#L495\" target=\"_blank\">linalg\\tridiag.jl:495</a><li> -(A::<b>Diagonal</b>, B::<b>Tridiagonal</b>) at <a href=\"https://github.com/JuliaLang/julia/tree/6445c82d0060dbe82b88436f0f4371a4ee64d918/base/linalg/special.jl#L120\" target=\"_blank\">linalg\\special.jl:120</a><li> -(A::<b>Tridiagonal</b>, B::<b>Diagonal</b>) at <a href=\"https://github.com/JuliaLang/julia/tree/6445c82d0060dbe82b88436f0f4371a4ee64d918/base/linalg/special.jl#L121\" target=\"_blank\">linalg\\special.jl:121</a><li> -(A::<b>Bidiagonal</b>, B::<b>Tridiagonal</b>) at <a href=\"https://github.com/JuliaLang/julia/tree/6445c82d0060dbe82b88436f0f4371a4ee64d918/base/linalg/special.jl#L120\" target=\"_blank\">linalg\\special.jl:120</a><li> -(A::<b>Tridiagonal</b>, B::<b>Bidiagonal</b>) at <a href=\"https://github.com/JuliaLang/julia/tree/6445c82d0060dbe82b88436f0f4371a4ee64d918/base/linalg/special.jl#L121\" target=\"_blank\">linalg\\special.jl:121</a><li> -(A::<b>Tridiagonal</b>, B::<b>Array{T<:Any,2}</b>) at <a href=\"https://github.com/JuliaLang/julia/tree/6445c82d0060dbe82b88436f0f4371a4ee64d918/base/linalg/special.jl#L120\" target=\"_blank\">linalg\\special.jl:120</a><li> -(A::<b>Array{T<:Any,2}</b>, B::<b>Tridiagonal</b>) at <a href=\"https://github.com/JuliaLang/julia/tree/6445c82d0060dbe82b88436f0f4371a4ee64d918/base/linalg/special.jl#L121\" target=\"_blank\">linalg\\special.jl:121</a><li> -(A::<b>SymTridiagonal</b>, B::<b>Tridiagonal</b>) at <a href=\"https://github.com/JuliaLang/julia/tree/6445c82d0060dbe82b88436f0f4371a4ee64d918/base/linalg/special.jl#L129\" target=\"_blank\">linalg\\special.jl:129</a><li> -(A::<b>Tridiagonal</b>, B::<b>SymTridiagonal</b>) at <a href=\"https://github.com/JuliaLang/julia/tree/6445c82d0060dbe82b88436f0f4371a4ee64d918/base/linalg/special.jl#L130\" target=\"_blank\">linalg\\special.jl:130</a><li> -(A::<b>Base.LinAlg.AbstractTriangular</b>, B::<b>Tridiagonal</b>) at <a href=\"https://github.com/JuliaLang/julia/tree/6445c82d0060dbe82b88436f0f4371a4ee64d918/base/linalg/special.jl#L157\" target=\"_blank\">linalg\\special.jl:157</a><li> -(A::<b>Tridiagonal</b>, B::<b>Base.LinAlg.AbstractTriangular</b>) at <a href=\"https://github.com/JuliaLang/julia/tree/6445c82d0060dbe82b88436f0f4371a4ee64d918/base/linalg/special.jl#L158\" target=\"_blank\">linalg\\special.jl:158</a><li> /(A::<b>Tridiagonal</b>, B::<b>Number</b>) at <a href=\"https://github.com/JuliaLang/julia/tree/6445c82d0060dbe82b88436f0f4371a4ee64d918/base/linalg/tridiag.jl#L498\" target=\"_blank\">linalg\\tridiag.jl:498</a><li> ==(A::<b>Tridiagonal</b>, B::<b>Tridiagonal</b>) at <a href=\"https://github.com/JuliaLang/julia/tree/6445c82d0060dbe82b88436f0f4371a4ee64d918/base/linalg/tridiag.jl#L500\" target=\"_blank\">linalg\\tridiag.jl:500</a><li> ==(A::<b>Tridiagonal</b>, B::<b>SymTridiagonal</b>) at <a href=\"https://github.com/JuliaLang/julia/tree/6445c82d0060dbe82b88436f0f4371a4ee64d918/base/linalg/tridiag.jl#L501\" target=\"_blank\">linalg\\tridiag.jl:501</a><li> ==(A::<b>SymTridiagonal</b>, B::<b>Tridiagonal</b>) at <a href=\"https://github.com/JuliaLang/julia/tree/6445c82d0060dbe82b88436f0f4371a4ee64d918/base/linalg/tridiag.jl#L502\" target=\"_blank\">linalg\\tridiag.jl:502</a><li> A_mul_B!(A::<b>Tridiagonal</b>, B::<b>Base.LinAlg.AbstractTriangular</b>) at <a href=\"https://github.com/JuliaLang/julia/tree/6445c82d0060dbe82b88436f0f4371a4ee64d918/base/linalg/triangular.jl#L381\" target=\"_blank\">linalg\\triangular.jl:381</a><li> A_mul_B!(C::<b>AbstractArray{T<:Any,1}</b>, A::<b>Union{Bidiagonal,Tridiagonal}</b>, B::<b>AbstractArray{T<:Any,1}</b>) at <a href=\"https://github.com/JuliaLang/julia/tree/6445c82d0060dbe82b88436f0f4371a4ee64d918/base/linalg/bidiag.jl#L284\" target=\"_blank\">linalg\\bidiag.jl:284</a><li> A_mul_B!(C::<b>AbstractArray{T<:Any,2}</b>, A::<b>Base.LinAlg.AbstractTriangular</b>, B::<b>Tridiagonal</b>) at <a href=\"https://github.com/JuliaLang/julia/tree/6445c82d0060dbe82b88436f0f4371a4ee64d918/base/linalg/triangular.jl#L382\" target=\"_blank\">linalg\\triangular.jl:382</a><li> A_mul_B!(C::<b>AbstractArray{T<:Any,2}</b>, A::<b>Tridiagonal</b>, B::<b>Base.LinAlg.AbstractTriangular</b>) at <a href=\"https://github.com/JuliaLang/julia/tree/6445c82d0060dbe82b88436f0f4371a4ee64d918/base/linalg/triangular.jl#L383\" target=\"_blank\">linalg\\triangular.jl:383</a><li> A_mul_B!(C::<b>AbstractArray{T<:Any,2}</b>, A::<b>Base.LinAlg.AbstractTriangular</b>, B::<b>Union{Bidiagonal,SymTridiagonal,Tridiagonal}</b>) at <a href=\"https://github.com/JuliaLang/julia/tree/6445c82d0060dbe82b88436f0f4371a4ee64d918/base/linalg/bidiag.jl#L282\" target=\"_blank\">linalg\\bidiag.jl:282</a><li> A_mul_B!(C::<b>AbstractArray{T<:Any,2}</b>, A::<b>SymTridiagonal</b>, B::<b>Union{Bidiagonal,SymTridiagonal,Tridiagonal}</b>) at <a href=\"https://github.com/JuliaLang/julia/tree/6445c82d0060dbe82b88436f0f4371a4ee64d918/base/linalg/bidiag.jl#L279\" target=\"_blank\">linalg\\bidiag.jl:279</a><li> A_mul_B!(C::<b>AbstractArray{T<:Any,2}</b>, A::<b>Union{Bidiagonal,Tridiagonal}</b>, B::<b>Union{Bidiagonal,SymTridiagonal,Tridiagonal}</b>) at <a href=\"https://github.com/JuliaLang/julia/tree/6445c82d0060dbe82b88436f0f4371a4ee64d918/base/linalg/bidiag.jl#L280\" target=\"_blank\">linalg\\bidiag.jl:280</a><li> A_mul_B!(C::<b>AbstractArray{T<:Any,2}</b>, A::<b>Union{Bidiagonal,SymTridiagonal,Tridiagonal}</b>, B::<b>Union{Bidiagonal,SymTridiagonal,Tridiagonal}</b>) at <a href=\"https://github.com/JuliaLang/julia/tree/6445c82d0060dbe82b88436f0f4371a4ee64d918/base/linalg/bidiag.jl#L281\" target=\"_blank\">linalg\\bidiag.jl:281</a><li> A_mul_B!(C::<b>AbstractArray{T<:Any,2}</b>, A::<b>AbstractArray{T<:Any,2}</b>, B::<b>Union{Bidiagonal,SymTridiagonal,Tridiagonal}</b>) at <a href=\"https://github.com/JuliaLang/julia/tree/6445c82d0060dbe82b88436f0f4371a4ee64d918/base/linalg/bidiag.jl#L283\" target=\"_blank\">linalg\\bidiag.jl:283</a><li> A_mul_B!(C::<b>AbstractArray{T<:Any,2}</b>, A::<b>Union{Bidiagonal,Tridiagonal}</b>, B::<b>Union{AbstractArray{T<:Any,1},AbstractArray{T<:Any,2}}</b>) at <a href=\"https://github.com/JuliaLang/julia/tree/6445c82d0060dbe82b88436f0f4371a4ee64d918/base/linalg/bidiag.jl#L285\" target=\"_blank\">linalg\\bidiag.jl:285</a><li> A_mul_B!(C::<b>Union{AbstractArray{T<:Any,1},AbstractArray{T<:Any,2}}</b>, A::<b>Union{Bidiagonal,Tridiagonal}</b>, B::<b>Union{AbstractArray{T<:Any,1},AbstractArray{T<:Any,2}}</b>) at <a href=\"https://github.com/JuliaLang/julia/tree/6445c82d0060dbe82b88436f0f4371a4ee64d918/base/linalg/bidiag.jl#L286\" target=\"_blank\">linalg\\bidiag.jl:286</a><li> abs(M::<b>Tridiagonal</b>) at <a href=\"https://github.com/JuliaLang/julia/tree/6445c82d0060dbe82b88436f0f4371a4ee64d918/base/linalg/tridiag.jl#L393\" target=\"_blank\">linalg\\tridiag.jl:393</a><li> ceil(M::<b>Tridiagonal</b>) at <a href=\"https://github.com/JuliaLang/julia/tree/6445c82d0060dbe82b88436f0f4371a4ee64d918/base/linalg/tridiag.jl#L393\" target=\"_blank\">linalg\\tridiag.jl:393</a><li> ceil<i>{T<:Integer}</i>(::<b>Type{T}</b>, M::<b>Tridiagonal</b>) at <a href=\"https://github.com/JuliaLang/julia/tree/6445c82d0060dbe82b88436f0f4371a4ee64d918/base/linalg/tridiag.jl#L398\" target=\"_blank\">linalg\\tridiag.jl:398</a><li> conj(M::<b>Tridiagonal</b>) at <a href=\"https://github.com/JuliaLang/julia/tree/6445c82d0060dbe82b88436f0f4371a4ee64d918/base/linalg/tridiag.jl#L393\" target=\"_blank\">linalg\\tridiag.jl:393</a><li> convert<i>{T}</i>(::<b>Type{AbstractArray{T,2}}</b>, M::<b>Tridiagonal</b>) at <a href=\"https://github.com/JuliaLang/julia/tree/6445c82d0060dbe82b88436f0f4371a4ee64d918/base/linalg/tridiag.jl#L508\" target=\"_blank\">linalg\\tridiag.jl:508</a><li> convert<i>{T}</i>(::<b>Type{Array{T,2}}</b>, M::<b>Tridiagonal{T}</b>) at <a href=\"https://github.com/JuliaLang/julia/tree/6445c82d0060dbe82b88436f0f4371a4ee64d918/base/linalg/tridiag.jl#L370\" target=\"_blank\">linalg\\tridiag.jl:370</a><li> convert<i>{T}</i>(::<b>Type{Array{T<:Any,2}}</b>, M::<b>Tridiagonal{T}</b>) at <a href=\"https://github.com/JuliaLang/julia/tree/6445c82d0060dbe82b88436f0f4371a4ee64d918/base/linalg/tridiag.jl#L380\" target=\"_blank\">linalg\\tridiag.jl:380</a><li> convert(::<b>Type{Array}</b>, M::<b>Tridiagonal</b>) at <a href=\"https://github.com/JuliaLang/julia/tree/6445c82d0060dbe82b88436f0f4371a4ee64d918/base/linalg/tridiag.jl#L381\" target=\"_blank\">linalg\\tridiag.jl:381</a><li> convert<i>{T}</i>(::<b>Type{Tridiagonal{T}}</b>, M::<b>Tridiagonal</b>) at <a href=\"https://github.com/JuliaLang/julia/tree/6445c82d0060dbe82b88436f0f4371a4ee64d918/base/linalg/tridiag.jl#L507\" target=\"_blank\">linalg\\tridiag.jl:507</a><li> convert<i>{T}</i>(::<b>Type{SymTridiagonal{T}}</b>, M::<b>Tridiagonal</b>) at <a href=\"https://github.com/JuliaLang/julia/tree/6445c82d0060dbe82b88436f0f4371a4ee64d918/base/linalg/tridiag.jl#L511\" target=\"_blank\">linalg\\tridiag.jl:511</a><li> convert(::<b>Type{Diagonal}</b>, A::<b>Tridiagonal</b>) at <a href=\"https://github.com/JuliaLang/julia/tree/6445c82d0060dbe82b88436f0f4371a4ee64d918/base/linalg/special.jl#L50\" target=\"_blank\">linalg\\special.jl:50</a><li> convert(::<b>Type{Bidiagonal}</b>, A::<b>Tridiagonal</b>) at <a href=\"https://github.com/JuliaLang/julia/tree/6445c82d0060dbe82b88436f0f4371a4ee64d918/base/linalg/special.jl#L57\" target=\"_blank\">linalg\\special.jl:57</a><li> convert(::<b>Type{SymTridiagonal}</b>, A::<b>Tridiagonal</b>) at <a href=\"https://github.com/JuliaLang/julia/tree/6445c82d0060dbe82b88436f0f4371a4ee64d918/base/linalg/special.jl#L64\" target=\"_blank\">linalg\\special.jl:64</a><li> copy(M::<b>Tridiagonal</b>) at <a href=\"https://github.com/JuliaLang/julia/tree/6445c82d0060dbe82b88436f0f4371a4ee64d918/base/linalg/tridiag.jl#L393\" target=\"_blank\">linalg\\tridiag.jl:393</a><li> copy!(dest::<b>Tridiagonal</b>, src::<b>Tridiagonal</b>) at <a href=\"https://github.com/JuliaLang/julia/tree/6445c82d0060dbe82b88436f0f4371a4ee64d918/base/linalg/tridiag.jl#L388\" target=\"_blank\">linalg\\tridiag.jl:388</a><li> ctranspose(M::<b>Tridiagonal</b>) at <a href=\"https://github.com/JuliaLang/julia/tree/6445c82d0060dbe82b88436f0f4371a4ee64d918/base/linalg/tridiag.jl#L403\" target=\"_blank\">linalg\\tridiag.jl:403</a><li> det(A::<b>Tridiagonal</b>) at <a href=\"https://github.com/JuliaLang/julia/tree/6445c82d0060dbe82b88436f0f4371a4ee64d918/base/linalg/tridiag.jl#L505\" target=\"_blank\">linalg\\tridiag.jl:505</a><li> diag<i>{T}</i>(M::<b>Tridiagonal{T}</b>) at <a href=\"https://github.com/JuliaLang/julia/tree/6445c82d0060dbe82b88436f0f4371a4ee64d918/base/linalg/tridiag.jl#L406\" target=\"_blank\">linalg\\tridiag.jl:406</a><li> diag<i>{T}</i>(M::<b>Tridiagonal{T}</b>, n::<b>Integer</b>) at <a href=\"https://github.com/JuliaLang/julia/tree/6445c82d0060dbe82b88436f0f4371a4ee64d918/base/linalg/tridiag.jl#L406\" target=\"_blank\">linalg\\tridiag.jl:406</a><li> factorize(A::<b>Tridiagonal</b>) at <a href=\"https://github.com/JuliaLang/julia/tree/6445c82d0060dbe82b88436f0f4371a4ee64d918/base/linalg/lu.jl#L306\" target=\"_blank\">linalg\\lu.jl:306</a><li> fill!(A::<b>Union{Bidiagonal,SymTridiagonal,Tridiagonal}</b>, x) at <a href=\"https://github.com/JuliaLang/julia/tree/6445c82d0060dbe82b88436f0f4371a4ee64d918/base/linalg/bidiag.jl#L551\" target=\"_blank\">linalg\\bidiag.jl:551</a><li> floor(M::<b>Tridiagonal</b>) at <a href=\"https://github.com/JuliaLang/julia/tree/6445c82d0060dbe82b88436f0f4371a4ee64d918/base/linalg/tridiag.jl#L393\" target=\"_blank\">linalg\\tridiag.jl:393</a><li> floor<i>{T<:Integer}</i>(::<b>Type{T}</b>, M::<b>Tridiagonal</b>) at <a href=\"https://github.com/JuliaLang/julia/tree/6445c82d0060dbe82b88436f0f4371a4ee64d918/base/linalg/tridiag.jl#L398\" target=\"_blank\">linalg\\tridiag.jl:398</a><li> full(M::<b>Tridiagonal</b>) at <a href=\"https://github.com/JuliaLang/julia/tree/6445c82d0060dbe82b88436f0f4371a4ee64d918/base/linalg/tridiag.jl#L382\" target=\"_blank\">linalg\\tridiag.jl:382</a><li> getindex<i>{T}</i>(A::<b>Tridiagonal{T}</b>, i::<b>Integer</b>, j::<b>Integer</b>) at <a href=\"https://github.com/JuliaLang/julia/tree/6445c82d0060dbe82b88436f0f4371a4ee64d918/base/linalg/tridiag.jl#L420\" target=\"_blank\">linalg\\tridiag.jl:420</a><li> imag(M::<b>Tridiagonal</b>) at <a href=\"https://github.com/JuliaLang/julia/tree/6445c82d0060dbe82b88436f0f4371a4ee64d918/base/linalg/tridiag.jl#L393\" target=\"_blank\">linalg\\tridiag.jl:393</a><li> inv(A::<b>Tridiagonal</b>) at <a href=\"https://github.com/JuliaLang/julia/tree/6445c82d0060dbe82b88436f0f4371a4ee64d918/base/linalg/tridiag.jl#L504\" target=\"_blank\">linalg\\tridiag.jl:504</a><li> istril(M::<b>Tridiagonal</b>) at <a href=\"https://github.com/JuliaLang/julia/tree/6445c82d0060dbe82b88436f0f4371a4ee64d918/base/linalg/tridiag.jl#L454\" target=\"_blank\">linalg\\tridiag.jl:454</a><li> istriu(M::<b>Tridiagonal</b>) at <a href=\"https://github.com/JuliaLang/julia/tree/6445c82d0060dbe82b88436f0f4371a4ee64d918/base/linalg/tridiag.jl#L453\" target=\"_blank\">linalg\\tridiag.jl:453</a><li> lufact!<i>{T}</i>(A::<b>Tridiagonal{T}</b>) at <a href=\"https://github.com/JuliaLang/julia/tree/6445c82d0060dbe82b88436f0f4371a4ee64d918/base/linalg/lu.jl#L242\" target=\"_blank\">linalg\\lu.jl:242</a><li> lufact!<i>{T}</i>(A::<b>Tridiagonal{T}</b>, pivot::<b>Union{Type{Val{false}},Type{Val{true}}}</b>) at <a href=\"https://github.com/JuliaLang/julia/tree/6445c82d0060dbe82b88436f0f4371a4ee64d918/base/linalg/lu.jl#L242\" target=\"_blank\">linalg\\lu.jl:242</a><li> real(M::<b>Tridiagonal</b>) at <a href=\"https://github.com/JuliaLang/julia/tree/6445c82d0060dbe82b88436f0f4371a4ee64d918/base/linalg/tridiag.jl#L393\" target=\"_blank\">linalg\\tridiag.jl:393</a><li> round(M::<b>Tridiagonal</b>) at <a href=\"https://github.com/JuliaLang/julia/tree/6445c82d0060dbe82b88436f0f4371a4ee64d918/base/linalg/tridiag.jl#L393\" target=\"_blank\">linalg\\tridiag.jl:393</a><li> round<i>{T<:Integer}</i>(::<b>Type{T}</b>, M::<b>Tridiagonal</b>) at <a href=\"https://github.com/JuliaLang/julia/tree/6445c82d0060dbe82b88436f0f4371a4ee64d918/base/linalg/tridiag.jl#L398\" target=\"_blank\">linalg\\tridiag.jl:398</a><li> setindex!(A::<b>Tridiagonal</b>, x, i::<b>Integer</b>, j::<b>Integer</b>) at <a href=\"https://github.com/JuliaLang/julia/tree/6445c82d0060dbe82b88436f0f4371a4ee64d918/base/linalg/tridiag.jl#L435\" target=\"_blank\">linalg\\tridiag.jl:435</a><li> similar<i>{T}</i>(M::<b>Tridiagonal</b>, ::<b>Type{T}</b>) at <a href=\"https://github.com/JuliaLang/julia/tree/6445c82d0060dbe82b88436f0f4371a4ee64d918/base/linalg/tridiag.jl#L384\" target=\"_blank\">linalg\\tridiag.jl:384</a><li> size(M::<b>Tridiagonal</b>) at <a href=\"https://github.com/JuliaLang/julia/tree/6445c82d0060dbe82b88436f0f4371a4ee64d918/base/linalg/tridiag.jl#L358\" target=\"_blank\">linalg\\tridiag.jl:358</a><li> size(M::<b>Tridiagonal</b>, d::<b>Integer</b>) at <a href=\"https://github.com/JuliaLang/julia/tree/6445c82d0060dbe82b88436f0f4371a4ee64d918/base/linalg/tridiag.jl#L360\" target=\"_blank\">linalg\\tridiag.jl:360</a><li> sparse(T::<b>Tridiagonal</b>) at <a href=\"https://github.com/JuliaLang/julia/tree/6445c82d0060dbe82b88436f0f4371a4ee64d918/base/sparse/sparsematrix.jl#L605\" target=\"_blank\">sparse\\sparsematrix.jl:605</a><li> transpose(M::<b>Tridiagonal</b>) at <a href=\"https://github.com/JuliaLang/julia/tree/6445c82d0060dbe82b88436f0f4371a4ee64d918/base/linalg/tridiag.jl#L402\" target=\"_blank\">linalg\\tridiag.jl:402</a><li> tril!(M::<b>Tridiagonal</b>) at <a href=\"https://github.com/JuliaLang/julia/tree/6445c82d0060dbe82b88436f0f4371a4ee64d918/base/linalg/tridiag.jl#L457\" target=\"_blank\">linalg\\tridiag.jl:457</a><li> tril!(M::<b>Tridiagonal</b>, k::<b>Integer</b>) at <a href=\"https://github.com/JuliaLang/julia/tree/6445c82d0060dbe82b88436f0f4371a4ee64d918/base/linalg/tridiag.jl#L457\" target=\"_blank\">linalg\\tridiag.jl:457</a><li> triu!(M::<b>Tridiagonal</b>) at <a href=\"https://github.com/JuliaLang/julia/tree/6445c82d0060dbe82b88436f0f4371a4ee64d918/base/linalg/tridiag.jl#L474\" target=\"_blank\">linalg\\tridiag.jl:474</a><li> triu!(M::<b>Tridiagonal</b>, k::<b>Integer</b>) at <a href=\"https://github.com/JuliaLang/julia/tree/6445c82d0060dbe82b88436f0f4371a4ee64d918/base/linalg/tridiag.jl#L474\" target=\"_blank\">linalg\\tridiag.jl:474</a><li> trunc(M::<b>Tridiagonal</b>) at <a href=\"https://github.com/JuliaLang/julia/tree/6445c82d0060dbe82b88436f0f4371a4ee64d918/base/linalg/tridiag.jl#L393\" target=\"_blank\">linalg\\tridiag.jl:393</a><li> trunc<i>{T<:Integer}</i>(::<b>Type{T}</b>, M::<b>Tridiagonal</b>) at <a href=\"https://github.com/JuliaLang/julia/tree/6445c82d0060dbe82b88436f0f4371a4ee64d918/base/linalg/tridiag.jl#L398\" target=\"_blank\">linalg\\tridiag.jl:398</a></ul>"
      ],
      "text/plain": [
       "91-element Array{Method,1}:\n",
       " *(A::Tridiagonal, B::Number) at linalg\\tridiag.jl:496                                                                                                                                   \n",
       " *(A::Tridiagonal, B::UpperTriangular) at linalg\\triangular.jl:1324                                                                                                                      \n",
       " *(A::Tridiagonal, B::Base.LinAlg.UnitUpperTriangular) at linalg\\triangular.jl:1324                                                                                                      \n",
       " *(A::Tridiagonal, B::LowerTriangular) at linalg\\triangular.jl:1324                                                                                                                      \n",
       " *(A::Tridiagonal, B::Base.LinAlg.UnitLowerTriangular) at linalg\\triangular.jl:1324                                                                                                      \n",
       " *(A::Base.LinAlg.AbstractTriangular, B::Union{Bidiagonal,SymTridiagonal,Tridiagonal}) at linalg\\bidiag.jl:415                                                                           \n",
       " *(A::Union{Bidiagonal,SymTridiagonal,Tridiagonal}, B::Union{Bidiagonal,SymTridiagonal,Tridiagonal}) at linalg\\bidiag.jl:416                                                             \n",
       " *(B::Number, A::Tridiagonal) at linalg\\tridiag.jl:497                                                                                                                                   \n",
       " +(A::Array{T<:Any,2}, B::Tridiagonal) at linalg\\special.jl:121                                                                                                                          \n",
       " +(A::Tridiagonal, B::Tridiagonal) at linalg\\tridiag.jl:494                                                                                                                              \n",
       " +(A::Diagonal, B::Tridiagonal) at linalg\\special.jl:120                                                                                                                                 \n",
       " +(A::Tridiagonal, B::Diagonal) at linalg\\special.jl:121                                                                                                                                 \n",
       " +(A::Bidiagonal, B::Tridiagonal) at linalg\\special.jl:120                                                                                                                               \n",
       " +(A::Tridiagonal, B::Bidiagonal) at linalg\\special.jl:121                                                                                                                               \n",
       " +(A::Tridiagonal, B::Array{T<:Any,2}) at linalg\\special.jl:120                                                                                                                          \n",
       " +(A::SymTridiagonal, B::Tridiagonal) at linalg\\special.jl:129                                                                                                                           \n",
       " +(A::Tridiagonal, B::SymTridiagonal) at linalg\\special.jl:130                                                                                                                           \n",
       " +(A::Base.LinAlg.AbstractTriangular, B::Tridiagonal) at linalg\\special.jl:157                                                                                                           \n",
       " +(A::Tridiagonal, B::Base.LinAlg.AbstractTriangular) at linalg\\special.jl:158                                                                                                           \n",
       " -(A::Tridiagonal, B::Tridiagonal) at linalg\\tridiag.jl:495                                                                                                                              \n",
       " -(A::Diagonal, B::Tridiagonal) at linalg\\special.jl:120                                                                                                                                 \n",
       " -(A::Tridiagonal, B::Diagonal) at linalg\\special.jl:121                                                                                                                                 \n",
       " -(A::Bidiagonal, B::Tridiagonal) at linalg\\special.jl:120                                                                                                                               \n",
       " -(A::Tridiagonal, B::Bidiagonal) at linalg\\special.jl:121                                                                                                                               \n",
       " -(A::Tridiagonal, B::Array{T<:Any,2}) at linalg\\special.jl:120                                                                                                                          \n",
       " -(A::Array{T<:Any,2}, B::Tridiagonal) at linalg\\special.jl:121                                                                                                                          \n",
       " -(A::SymTridiagonal, B::Tridiagonal) at linalg\\special.jl:129                                                                                                                           \n",
       " -(A::Tridiagonal, B::SymTridiagonal) at linalg\\special.jl:130                                                                                                                           \n",
       " -(A::Base.LinAlg.AbstractTriangular, B::Tridiagonal) at linalg\\special.jl:157                                                                                                           \n",
       " -(A::Tridiagonal, B::Base.LinAlg.AbstractTriangular) at linalg\\special.jl:158                                                                                                           \n",
       " /(A::Tridiagonal, B::Number) at linalg\\tridiag.jl:498                                                                                                                                   \n",
       " ==(A::Tridiagonal, B::Tridiagonal) at linalg\\tridiag.jl:500                                                                                                                             \n",
       " ==(A::Tridiagonal, B::SymTridiagonal) at linalg\\tridiag.jl:501                                                                                                                          \n",
       " ==(A::SymTridiagonal, B::Tridiagonal) at linalg\\tridiag.jl:502                                                                                                                          \n",
       " A_mul_B!(A::Tridiagonal, B::Base.LinAlg.AbstractTriangular) at linalg\\triangular.jl:381                                                                                                 \n",
       " A_mul_B!(C::AbstractArray{T<:Any,1}, A::Union{Bidiagonal,Tridiagonal}, B::AbstractArray{T<:Any,1}) at linalg\\bidiag.jl:284                                                              \n",
       " A_mul_B!(C::AbstractArray{T<:Any,2}, A::Base.LinAlg.AbstractTriangular, B::Tridiagonal) at linalg\\triangular.jl:382                                                                     \n",
       " A_mul_B!(C::AbstractArray{T<:Any,2}, A::Tridiagonal, B::Base.LinAlg.AbstractTriangular) at linalg\\triangular.jl:383                                                                     \n",
       " A_mul_B!(C::AbstractArray{T<:Any,2}, A::Base.LinAlg.AbstractTriangular, B::Union{Bidiagonal,SymTridiagonal,Tridiagonal}) at linalg\\bidiag.jl:282                                        \n",
       " A_mul_B!(C::AbstractArray{T<:Any,2}, A::SymTridiagonal, B::Union{Bidiagonal,SymTridiagonal,Tridiagonal}) at linalg\\bidiag.jl:279                                                        \n",
       " A_mul_B!(C::AbstractArray{T<:Any,2}, A::Union{Bidiagonal,Tridiagonal}, B::Union{Bidiagonal,SymTridiagonal,Tridiagonal}) at linalg\\bidiag.jl:280                                         \n",
       " A_mul_B!(C::AbstractArray{T<:Any,2}, A::Union{Bidiagonal,SymTridiagonal,Tridiagonal}, B::Union{Bidiagonal,SymTridiagonal,Tridiagonal}) at linalg\\bidiag.jl:281                          \n",
       " A_mul_B!(C::AbstractArray{T<:Any,2}, A::AbstractArray{T<:Any,2}, B::Union{Bidiagonal,SymTridiagonal,Tridiagonal}) at linalg\\bidiag.jl:283                                               \n",
       " A_mul_B!(C::AbstractArray{T<:Any,2}, A::Union{Bidiagonal,Tridiagonal}, B::Union{AbstractArray{T<:Any,1},AbstractArray{T<:Any,2}}) at linalg\\bidiag.jl:285                               \n",
       " A_mul_B!(C::Union{AbstractArray{T<:Any,1},AbstractArray{T<:Any,2}}, A::Union{Bidiagonal,Tridiagonal}, B::Union{AbstractArray{T<:Any,1},AbstractArray{T<:Any,2}}) at linalg\\bidiag.jl:286\n",
       " abs(M::Tridiagonal) at linalg\\tridiag.jl:393                                                                                                                                            \n",
       " ceil(M::Tridiagonal) at linalg\\tridiag.jl:393                                                                                                                                           \n",
       " ceil{T<:Integer}(::Type{T}, M::Tridiagonal) at linalg\\tridiag.jl:398                                                                                                                    \n",
       " conj(M::Tridiagonal) at linalg\\tridiag.jl:393                                                                                                                                           \n",
       " convert{T}(::Type{AbstractArray{T,2}}, M::Tridiagonal) at linalg\\tridiag.jl:508                                                                                                         \n",
       " convert{T}(::Type{Array{T,2}}, M::Tridiagonal{T}) at linalg\\tridiag.jl:370                                                                                                              \n",
       " convert{T}(::Type{Array{T<:Any,2}}, M::Tridiagonal{T}) at linalg\\tridiag.jl:380                                                                                                         \n",
       " convert(::Type{Array}, M::Tridiagonal) at linalg\\tridiag.jl:381                                                                                                                         \n",
       " convert{T}(::Type{Tridiagonal{T}}, M::Tridiagonal) at linalg\\tridiag.jl:507                                                                                                             \n",
       " convert{T}(::Type{SymTridiagonal{T}}, M::Tridiagonal) at linalg\\tridiag.jl:511                                                                                                          \n",
       " convert(::Type{Diagonal}, A::Tridiagonal) at linalg\\special.jl:50                                                                                                                       \n",
       " convert(::Type{Bidiagonal}, A::Tridiagonal) at linalg\\special.jl:57                                                                                                                     \n",
       " convert(::Type{SymTridiagonal}, A::Tridiagonal) at linalg\\special.jl:64                                                                                                                 \n",
       " copy(M::Tridiagonal) at linalg\\tridiag.jl:393                                                                                                                                           \n",
       " copy!(dest::Tridiagonal, src::Tridiagonal) at linalg\\tridiag.jl:388                                                                                                                     \n",
       " ctranspose(M::Tridiagonal) at linalg\\tridiag.jl:403                                                                                                                                     \n",
       " det(A::Tridiagonal) at linalg\\tridiag.jl:505                                                                                                                                            \n",
       " diag{T}(M::Tridiagonal{T}) at linalg\\tridiag.jl:406                                                                                                                                     \n",
       " diag{T}(M::Tridiagonal{T}, n::Integer) at linalg\\tridiag.jl:406                                                                                                                         \n",
       " factorize(A::Tridiagonal) at linalg\\lu.jl:306                                                                                                                                           \n",
       " fill!(A::Union{Bidiagonal,SymTridiagonal,Tridiagonal}, x) at linalg\\bidiag.jl:551                                                                                                       \n",
       " floor(M::Tridiagonal) at linalg\\tridiag.jl:393                                                                                                                                          \n",
       " floor{T<:Integer}(::Type{T}, M::Tridiagonal) at linalg\\tridiag.jl:398                                                                                                                   \n",
       " full(M::Tridiagonal) at linalg\\tridiag.jl:382                                                                                                                                           \n",
       " getindex{T}(A::Tridiagonal{T}, i::Integer, j::Integer) at linalg\\tridiag.jl:420                                                                                                         \n",
       " imag(M::Tridiagonal) at linalg\\tridiag.jl:393                                                                                                                                           \n",
       " inv(A::Tridiagonal) at linalg\\tridiag.jl:504                                                                                                                                            \n",
       " istril(M::Tridiagonal) at linalg\\tridiag.jl:454                                                                                                                                         \n",
       " istriu(M::Tridiagonal) at linalg\\tridiag.jl:453                                                                                                                                         \n",
       " lufact!{T}(A::Tridiagonal{T}) at linalg\\lu.jl:242                                                                                                                                       \n",
       " lufact!{T}(A::Tridiagonal{T}, pivot::Union{Type{Val{false}},Type{Val{true}}}) at linalg\\lu.jl:242                                                                                       \n",
       " real(M::Tridiagonal) at linalg\\tridiag.jl:393                                                                                                                                           \n",
       " round(M::Tridiagonal) at linalg\\tridiag.jl:393                                                                                                                                          \n",
       " round{T<:Integer}(::Type{T}, M::Tridiagonal) at linalg\\tridiag.jl:398                                                                                                                   \n",
       " setindex!(A::Tridiagonal, x, i::Integer, j::Integer) at linalg\\tridiag.jl:435                                                                                                           \n",
       " similar{T}(M::Tridiagonal, ::Type{T}) at linalg\\tridiag.jl:384                                                                                                                          \n",
       " size(M::Tridiagonal) at linalg\\tridiag.jl:358                                                                                                                                           \n",
       " size(M::Tridiagonal, d::Integer) at linalg\\tridiag.jl:360                                                                                                                               \n",
       " sparse(T::Tridiagonal) at sparse\\sparsematrix.jl:605                                                                                                                                    \n",
       " transpose(M::Tridiagonal) at linalg\\tridiag.jl:402                                                                                                                                      \n",
       " tril!(M::Tridiagonal) at linalg\\tridiag.jl:457                                                                                                                                          \n",
       " tril!(M::Tridiagonal, k::Integer) at linalg\\tridiag.jl:457                                                                                                                              \n",
       " triu!(M::Tridiagonal) at linalg\\tridiag.jl:474                                                                                                                                          \n",
       " triu!(M::Tridiagonal, k::Integer) at linalg\\tridiag.jl:474                                                                                                                              \n",
       " trunc(M::Tridiagonal) at linalg\\tridiag.jl:393                                                                                                                                          \n",
       " trunc{T<:Integer}(::Type{T}, M::Tridiagonal) at linalg\\tridiag.jl:398                                                                                                                   "
      ]
     },
     "execution_count": 32,
     "metadata": {},
     "output_type": "execute_result"
    }
   ],
   "source": [
    "methodswith(Tridiagonal)"
   ]
  },
  {
   "cell_type": "code",
   "execution_count": 33,
   "metadata": {
    "collapsed": false
   },
   "outputs": [
    {
     "data": {
      "text/html": [
       "8-element Array{Method,1}:<ul><li> +(x::<b>Date</b>, y::<b>Base.Dates.Day</b>) at <a href=\"https://github.com/JuliaLang/julia/tree/6445c82d0060dbe82b88436f0f4371a4ee64d918/base/dates/arithmetic.jl#L62\" target=\"_blank\">dates\\arithmetic.jl:62</a><li> -(x::<b>Date</b>, y::<b>Base.Dates.Day</b>) at <a href=\"https://github.com/JuliaLang/julia/tree/6445c82d0060dbe82b88436f0f4371a4ee64d918/base/dates/arithmetic.jl#L63\" target=\"_blank\">dates\\arithmetic.jl:63</a><li> convert(::<b>Type{Base.Dates.Week}</b>, x::<b>Base.Dates.Day</b>) at <a href=\"https://github.com/JuliaLang/julia/tree/6445c82d0060dbe82b88436f0f4371a4ee64d918/base/dates/periods.jl#L398\" target=\"_blank\">dates\\periods.jl:398</a><li> convert(::<b>Type{Base.Dates.Hour}</b>, x::<b>Base.Dates.Day</b>) at <a href=\"https://github.com/JuliaLang/julia/tree/6445c82d0060dbe82b88436f0f4371a4ee64d918/base/dates/periods.jl#L391\" target=\"_blank\">dates\\periods.jl:391</a><li> convert(::<b>Type{Base.Dates.Minute}</b>, x::<b>Base.Dates.Day</b>) at <a href=\"https://github.com/JuliaLang/julia/tree/6445c82d0060dbe82b88436f0f4371a4ee64d918/base/dates/periods.jl#L391\" target=\"_blank\">dates\\periods.jl:391</a><li> convert(::<b>Type{Base.Dates.Second}</b>, x::<b>Base.Dates.Day</b>) at <a href=\"https://github.com/JuliaLang/julia/tree/6445c82d0060dbe82b88436f0f4371a4ee64d918/base/dates/periods.jl#L391\" target=\"_blank\">dates\\periods.jl:391</a><li> convert(::<b>Type{Base.Dates.Millisecond}</b>, x::<b>Base.Dates.Day</b>) at <a href=\"https://github.com/JuliaLang/julia/tree/6445c82d0060dbe82b88436f0f4371a4ee64d918/base/dates/periods.jl#L391\" target=\"_blank\">dates\\periods.jl:391</a><li> floor(dt::<b>Date</b>, p::<b>Base.Dates.Day</b>) at <a href=\"https://github.com/JuliaLang/julia/tree/6445c82d0060dbe82b88436f0f4371a4ee64d918/base/dates/rounding.jl#L66\" target=\"_blank\">dates\\rounding.jl:66</a></ul>"
      ],
      "text/plain": [
       "8-element Array{Method,1}:\n",
       " +(x::Date, y::Base.Dates.Day) at dates\\arithmetic.jl:62                           \n",
       " -(x::Date, y::Base.Dates.Day) at dates\\arithmetic.jl:63                           \n",
       " convert(::Type{Base.Dates.Week}, x::Base.Dates.Day) at dates\\periods.jl:398       \n",
       " convert(::Type{Base.Dates.Hour}, x::Base.Dates.Day) at dates\\periods.jl:391       \n",
       " convert(::Type{Base.Dates.Minute}, x::Base.Dates.Day) at dates\\periods.jl:391     \n",
       " convert(::Type{Base.Dates.Second}, x::Base.Dates.Day) at dates\\periods.jl:391     \n",
       " convert(::Type{Base.Dates.Millisecond}, x::Base.Dates.Day) at dates\\periods.jl:391\n",
       " floor(dt::Date, p::Base.Dates.Day) at dates\\rounding.jl:66                        "
      ]
     },
     "execution_count": 33,
     "metadata": {},
     "output_type": "execute_result"
    }
   ],
   "source": [
    "methodswith(Dates.Day)"
   ]
  },
  {
   "cell_type": "markdown",
   "metadata": {},
   "source": [
    "### The `\"*\"` operator"
   ]
  },
  {
   "cell_type": "code",
   "execution_count": 34,
   "metadata": {
    "collapsed": false,
    "scrolled": true
   },
   "outputs": [
    {
     "data": {
      "text/html": [
       "149 methods for generic function <b>*</b>:<ul><li> *(x::<b>Bool</b>, z::<b>Complex{Bool}</b>) at <a href=\"https://github.com/JuliaLang/julia/tree/6445c82d0060dbe82b88436f0f4371a4ee64d918/base/complex.jl#L140\" target=\"_blank\">complex.jl:140</a></li> <li> *(x::<b>Bool</b>, y::<b>Bool</b>) at <a href=\"https://github.com/JuliaLang/julia/tree/6445c82d0060dbe82b88436f0f4371a4ee64d918/base/bool.jl#L50\" target=\"_blank\">bool.jl:50</a></li> <li> *<i>{T<:Unsigned}</i>(x::<b>Bool</b>, y::<b>T</b>) at <a href=\"https://github.com/JuliaLang/julia/tree/6445c82d0060dbe82b88436f0f4371a4ee64d918/base/bool.jl#L63\" target=\"_blank\">bool.jl:63</a></li> <li> *(x::<b>Bool</b>, z::<b>Complex</b>) at <a href=\"https://github.com/JuliaLang/julia/tree/6445c82d0060dbe82b88436f0f4371a4ee64d918/base/complex.jl#L147\" target=\"_blank\">complex.jl:147</a></li> <li> *(x::<b>Bool</b>, y::<b>Irrational</b>) at <a href=\"https://github.com/JuliaLang/julia/tree/6445c82d0060dbe82b88436f0f4371a4ee64d918/base/irrationals.jl#L90\" target=\"_blank\">irrationals.jl:90</a></li> <li> *<i>{T<:Number}</i>(x::<b>Bool</b>, y::<b>T</b>) at <a href=\"https://github.com/JuliaLang/julia/tree/6445c82d0060dbe82b88436f0f4371a4ee64d918/base/bool.jl#L60\" target=\"_blank\">bool.jl:60</a></li> <li> *(x::<b>Float32</b>, y::<b>Float32</b>) at <a href=\"https://github.com/JuliaLang/julia/tree/6445c82d0060dbe82b88436f0f4371a4ee64d918/base/float.jl#L243\" target=\"_blank\">float.jl:243</a></li> <li> *(x::<b>Float64</b>, y::<b>Float64</b>) at <a href=\"https://github.com/JuliaLang/julia/tree/6445c82d0060dbe82b88436f0f4371a4ee64d918/base/float.jl#L244\" target=\"_blank\">float.jl:244</a></li> <li> *(z::<b>Complex{Bool}</b>, x::<b>Bool</b>) at <a href=\"https://github.com/JuliaLang/julia/tree/6445c82d0060dbe82b88436f0f4371a4ee64d918/base/complex.jl#L141\" target=\"_blank\">complex.jl:141</a></li> <li> *(z::<b>Complex{Bool}</b>, x::<b>Real</b>) at <a href=\"https://github.com/JuliaLang/julia/tree/6445c82d0060dbe82b88436f0f4371a4ee64d918/base/complex.jl#L159\" target=\"_blank\">complex.jl:159</a></li> <li> *(a::<b>Float16</b>, b::<b>Float16</b>) at <a href=\"https://github.com/JuliaLang/julia/tree/6445c82d0060dbe82b88436f0f4371a4ee64d918/base/float16.jl#L136\" target=\"_blank\">float16.jl:136</a></li> <li> *(this::<b>Base.Grisu.Float</b>, other::<b>Base.Grisu.Float</b>) at <a href=\"https://github.com/JuliaLang/julia/tree/6445c82d0060dbe82b88436f0f4371a4ee64d918/base/grisu/float.jl#L138\" target=\"_blank\">grisu/float.jl:138</a></li> <li> *(c::<b>BigInt</b>, x::<b>BigFloat</b>) at <a href=\"https://github.com/JuliaLang/julia/tree/6445c82d0060dbe82b88436f0f4371a4ee64d918/base/mpfr.jl#L240\" target=\"_blank\">mpfr.jl:240</a></li> <li> *(a::<b>BigInt</b>, b::<b>BigInt</b>, c::<b>BigInt</b>, d::<b>BigInt</b>, e::<b>BigInt</b>) at <a href=\"https://github.com/JuliaLang/julia/tree/6445c82d0060dbe82b88436f0f4371a4ee64d918/base/gmp.jl#L298\" target=\"_blank\">gmp.jl:298</a></li> <li> *(a::<b>BigInt</b>, b::<b>BigInt</b>, c::<b>BigInt</b>, d::<b>BigInt</b>) at <a href=\"https://github.com/JuliaLang/julia/tree/6445c82d0060dbe82b88436f0f4371a4ee64d918/base/gmp.jl#L291\" target=\"_blank\">gmp.jl:291</a></li> <li> *(a::<b>BigInt</b>, b::<b>BigInt</b>, c::<b>BigInt</b>) at <a href=\"https://github.com/JuliaLang/julia/tree/6445c82d0060dbe82b88436f0f4371a4ee64d918/base/gmp.jl#L285\" target=\"_blank\">gmp.jl:285</a></li> <li> *(x::<b>BigInt</b>, y::<b>BigInt</b>) at <a href=\"https://github.com/JuliaLang/julia/tree/6445c82d0060dbe82b88436f0f4371a4ee64d918/base/gmp.jl#L255\" target=\"_blank\">gmp.jl:255</a></li> <li> *(x::<b>BigInt</b>, c::<b>Union{UInt16,UInt32,UInt8}</b>) at <a href=\"https://github.com/JuliaLang/julia/tree/6445c82d0060dbe82b88436f0f4371a4ee64d918/base/gmp.jl#L332\" target=\"_blank\">gmp.jl:332</a></li> <li> *(x::<b>BigInt</b>, c::<b>Union{Int16,Int32,Int8}</b>) at <a href=\"https://github.com/JuliaLang/julia/tree/6445c82d0060dbe82b88436f0f4371a4ee64d918/base/gmp.jl#L338\" target=\"_blank\">gmp.jl:338</a></li> <li> *(a::<b>BigFloat</b>, b::<b>BigFloat</b>, c::<b>BigFloat</b>, d::<b>BigFloat</b>, e::<b>BigFloat</b>) at <a href=\"https://github.com/JuliaLang/julia/tree/6445c82d0060dbe82b88436f0f4371a4ee64d918/base/mpfr.jl#L388\" target=\"_blank\">mpfr.jl:388</a></li> <li> *(a::<b>BigFloat</b>, b::<b>BigFloat</b>, c::<b>BigFloat</b>, d::<b>BigFloat</b>) at <a href=\"https://github.com/JuliaLang/julia/tree/6445c82d0060dbe82b88436f0f4371a4ee64d918/base/mpfr.jl#L381\" target=\"_blank\">mpfr.jl:381</a></li> <li> *(a::<b>BigFloat</b>, b::<b>BigFloat</b>, c::<b>BigFloat</b>) at <a href=\"https://github.com/JuliaLang/julia/tree/6445c82d0060dbe82b88436f0f4371a4ee64d918/base/mpfr.jl#L375\" target=\"_blank\">mpfr.jl:375</a></li> <li> *(x::<b>BigFloat</b>, c::<b>BigInt</b>) at <a href=\"https://github.com/JuliaLang/julia/tree/6445c82d0060dbe82b88436f0f4371a4ee64d918/base/mpfr.jl#L236\" target=\"_blank\">mpfr.jl:236</a></li> <li> *(x::<b>BigFloat</b>, y::<b>BigFloat</b>) at <a href=\"https://github.com/JuliaLang/julia/tree/6445c82d0060dbe82b88436f0f4371a4ee64d918/base/mpfr.jl#L205\" target=\"_blank\">mpfr.jl:205</a></li> <li> *(x::<b>BigFloat</b>, c::<b>Union{UInt16,UInt32,UInt8}</b>) at <a href=\"https://github.com/JuliaLang/julia/tree/6445c82d0060dbe82b88436f0f4371a4ee64d918/base/mpfr.jl#L212\" target=\"_blank\">mpfr.jl:212</a></li> <li> *(x::<b>BigFloat</b>, c::<b>Union{Int16,Int32,Int8}</b>) at <a href=\"https://github.com/JuliaLang/julia/tree/6445c82d0060dbe82b88436f0f4371a4ee64d918/base/mpfr.jl#L220\" target=\"_blank\">mpfr.jl:220</a></li> <li> *(x::<b>BigFloat</b>, c::<b>Union{Float16,Float32,Float64}</b>) at <a href=\"https://github.com/JuliaLang/julia/tree/6445c82d0060dbe82b88436f0f4371a4ee64d918/base/mpfr.jl#L228\" target=\"_blank\">mpfr.jl:228</a></li> <li> *(B::<b>BitArray{2}</b>, J::<b>UniformScaling</b>) at <a href=\"https://github.com/JuliaLang/julia/tree/6445c82d0060dbe82b88436f0f4371a4ee64d918/base/linalg/uniformscaling.jl#L132\" target=\"_blank\">linalg\\uniformscaling.jl:132</a></li> <li> *(z::<b>Complex</b>, w::<b>Complex</b>) at <a href=\"https://github.com/JuliaLang/julia/tree/6445c82d0060dbe82b88436f0f4371a4ee64d918/base/complex.jl#L127\" target=\"_blank\">complex.jl:127</a></li> <li> *<i>{T<:Union{Int128,UInt128}}</i>(x::<b>T</b>, y::<b>T</b>) at <a href=\"https://github.com/JuliaLang/julia/tree/6445c82d0060dbe82b88436f0f4371a4ee64d918/base/int.jl#L426\" target=\"_blank\">int.jl:426</a></li> <li> *<i>{T<:Union{Int128,Int16,Int32,Int64,Int8,UInt128,UInt16,UInt32,UInt64,UInt8}}</i>(x::<b>T</b>, y::<b>T</b>) at <a href=\"https://github.com/JuliaLang/julia/tree/6445c82d0060dbe82b88436f0f4371a4ee64d918/base/int.jl#L33\" target=\"_blank\">int.jl:33</a></li> <li> *(z::<b>Complex</b>, x::<b>Bool</b>) at <a href=\"https://github.com/JuliaLang/julia/tree/6445c82d0060dbe82b88436f0f4371a4ee64d918/base/complex.jl#L148\" target=\"_blank\">complex.jl:148</a></li> <li> *(x::<b>Real</b>, z::<b>Complex{Bool}</b>) at <a href=\"https://github.com/JuliaLang/julia/tree/6445c82d0060dbe82b88436f0f4371a4ee64d918/base/complex.jl#L158\" target=\"_blank\">complex.jl:158</a></li> <li> *(x::<b>Real</b>, z::<b>Complex</b>) at <a href=\"https://github.com/JuliaLang/julia/tree/6445c82d0060dbe82b88436f0f4371a4ee64d918/base/complex.jl#L170\" target=\"_blank\">complex.jl:170</a></li> <li> *(z::<b>Complex</b>, x::<b>Real</b>) at <a href=\"https://github.com/JuliaLang/julia/tree/6445c82d0060dbe82b88436f0f4371a4ee64d918/base/complex.jl#L171\" target=\"_blank\">complex.jl:171</a></li> <li> *(x::<b>Rational</b>, y::<b>Rational</b>) at <a href=\"https://github.com/JuliaLang/julia/tree/6445c82d0060dbe82b88436f0f4371a4ee64d918/base/rational.jl#L209\" target=\"_blank\">rational.jl:209</a></li> <li> *<i>{N}</i>(a::<b>Integer</b>, index::<b>CartesianIndex{N}</b>) at <a href=\"https://github.com/JuliaLang/julia/tree/6445c82d0060dbe82b88436f0f4371a4ee64d918/base/multidimensional.jl#L61\" target=\"_blank\">multidimensional.jl:61</a></li> <li> *(c::<b>Union{UInt16,UInt32,UInt8}</b>, x::<b>BigInt</b>) at <a href=\"https://github.com/JuliaLang/julia/tree/6445c82d0060dbe82b88436f0f4371a4ee64d918/base/gmp.jl#L336\" target=\"_blank\">gmp.jl:336</a></li> <li> *(c::<b>Union{Int16,Int32,Int8}</b>, x::<b>BigInt</b>) at <a href=\"https://github.com/JuliaLang/julia/tree/6445c82d0060dbe82b88436f0f4371a4ee64d918/base/gmp.jl#L342\" target=\"_blank\">gmp.jl:342</a></li> <li> *(c::<b>Union{UInt16,UInt32,UInt8}</b>, x::<b>BigFloat</b>) at <a href=\"https://github.com/JuliaLang/julia/tree/6445c82d0060dbe82b88436f0f4371a4ee64d918/base/mpfr.jl#L216\" target=\"_blank\">mpfr.jl:216</a></li> <li> *(c::<b>Union{Int16,Int32,Int8}</b>, x::<b>BigFloat</b>) at <a href=\"https://github.com/JuliaLang/julia/tree/6445c82d0060dbe82b88436f0f4371a4ee64d918/base/mpfr.jl#L224\" target=\"_blank\">mpfr.jl:224</a></li> <li> *(c::<b>Union{Float16,Float32,Float64}</b>, x::<b>BigFloat</b>) at <a href=\"https://github.com/JuliaLang/julia/tree/6445c82d0060dbe82b88436f0f4371a4ee64d918/base/mpfr.jl#L232\" target=\"_blank\">mpfr.jl:232</a></li> <li> *<i>{T<:Number}</i>(x::<b>T</b>, D::<b>Diagonal</b>) at <a href=\"https://github.com/JuliaLang/julia/tree/6445c82d0060dbe82b88436f0f4371a4ee64d918/base/linalg/diagonal.jl#L113\" target=\"_blank\">linalg\\diagonal.jl:113</a></li> <li> *(x::<b>Irrational</b>, y::<b>Irrational</b>) at <a href=\"https://github.com/JuliaLang/julia/tree/6445c82d0060dbe82b88436f0f4371a4ee64d918/base/irrationals.jl#L88\" target=\"_blank\">irrationals.jl:88</a></li> <li> *(y::<b>Real</b>, x::<b>Base.Dates.Period</b>) at <a href=\"https://github.com/JuliaLang/julia/tree/6445c82d0060dbe82b88436f0f4371a4ee64d918/base/dates/periods.jl#L90\" target=\"_blank\">dates\\periods.jl:90</a></li> <li> *(x::<b>Number</b>) at <a href=\"https://github.com/JuliaLang/julia/tree/6445c82d0060dbe82b88436f0f4371a4ee64d918/base/operators.jl#L116\" target=\"_blank\">operators.jl:116</a></li> <li> *(y::<b>Number</b>, x::<b>Bool</b>) at <a href=\"https://github.com/JuliaLang/julia/tree/6445c82d0060dbe82b88436f0f4371a4ee64d918/base/bool.jl#L65\" target=\"_blank\">bool.jl:65</a></li> <li> *<i>{T<:Number}</i>(x::<b>T</b>, y::<b>T</b>) at <a href=\"https://github.com/JuliaLang/julia/tree/6445c82d0060dbe82b88436f0f4371a4ee64d918/base/promotion.jl#L256\" target=\"_blank\">promotion.jl:256</a></li> <li> *(x::<b>Number</b>, y::<b>Number</b>) at <a href=\"https://github.com/JuliaLang/julia/tree/6445c82d0060dbe82b88436f0f4371a4ee64d918/base/promotion.jl#L191\" target=\"_blank\">promotion.jl:191</a></li> <li> *<i>{T<:Union{Complex{Float32},Complex{Float64},Float32,Float64},S}</i>(A::<b>Union{Base.ReshapedArray{T,2,A<:DenseArray,MI<:Tuple{Vararg{Base.MultiplicativeInverses.SignedMultiplicativeInverse{Int64},N<:Any}}},DenseArray{T,2},SubArray{T,2,A<:Union{Base.ReshapedArray{T<:Any,N<:Any,A<:DenseArray,MI<:Tuple{Vararg{Base.MultiplicativeInverses.SignedMultiplicativeInverse{Int64},N<:Any}}},DenseArray},I<:Tuple{Vararg{Union{Base.AbstractCartesianIndex,Colon,Int64,Range{Int64}},N<:Any}},L<:Any}}</b>, x::<b>Union{Base.ReshapedArray{S,1,A<:DenseArray,MI<:Tuple{Vararg{Base.MultiplicativeInverses.SignedMultiplicativeInverse{Int64},N<:Any}}},DenseArray{S,1},SubArray{S,1,A<:Union{Base.ReshapedArray{T<:Any,N<:Any,A<:DenseArray,MI<:Tuple{Vararg{Base.MultiplicativeInverses.SignedMultiplicativeInverse{Int64},N<:Any}}},DenseArray},I<:Tuple{Vararg{Union{Base.AbstractCartesianIndex,Colon,Int64,Range{Int64}},N<:Any}},L<:Any}}</b>) at <a href=\"https://github.com/JuliaLang/julia/tree/6445c82d0060dbe82b88436f0f4371a4ee64d918/base/linalg/matmul.jl#L79\" target=\"_blank\">linalg\\matmul.jl:79</a></li> <li> *(A::<b>SymTridiagonal</b>, B::<b>Number</b>) at <a href=\"https://github.com/JuliaLang/julia/tree/6445c82d0060dbe82b88436f0f4371a4ee64d918/base/linalg/tridiag.jl#L98\" target=\"_blank\">linalg\\tridiag.jl:98</a></li> <li> *(A::<b>Tridiagonal</b>, B::<b>Number</b>) at <a href=\"https://github.com/JuliaLang/julia/tree/6445c82d0060dbe82b88436f0f4371a4ee64d918/base/linalg/tridiag.jl#L496\" target=\"_blank\">linalg\\tridiag.jl:496</a></li> <li> *(A::<b>UpperTriangular</b>, x::<b>Number</b>) at <a href=\"https://github.com/JuliaLang/julia/tree/6445c82d0060dbe82b88436f0f4371a4ee64d918/base/linalg/triangular.jl#L477\" target=\"_blank\">linalg\\triangular.jl:477</a></li> <li> *(A::<b>Base.LinAlg.UnitUpperTriangular</b>, x::<b>Number</b>) at <a href=\"https://github.com/JuliaLang/julia/tree/6445c82d0060dbe82b88436f0f4371a4ee64d918/base/linalg/triangular.jl#L480\" target=\"_blank\">linalg\\triangular.jl:480</a></li> <li> *(A::<b>LowerTriangular</b>, x::<b>Number</b>) at <a href=\"https://github.com/JuliaLang/julia/tree/6445c82d0060dbe82b88436f0f4371a4ee64d918/base/linalg/triangular.jl#L477\" target=\"_blank\">linalg\\triangular.jl:477</a></li> <li> *(A::<b>Base.LinAlg.UnitLowerTriangular</b>, x::<b>Number</b>) at <a href=\"https://github.com/JuliaLang/julia/tree/6445c82d0060dbe82b88436f0f4371a4ee64d918/base/linalg/triangular.jl#L480\" target=\"_blank\">linalg\\triangular.jl:480</a></li> <li> *(A::<b>Tridiagonal</b>, B::<b>UpperTriangular</b>) at <a href=\"https://github.com/JuliaLang/julia/tree/6445c82d0060dbe82b88436f0f4371a4ee64d918/base/linalg/triangular.jl#L1324\" target=\"_blank\">linalg\\triangular.jl:1324</a></li> <li> *(A::<b>Tridiagonal</b>, B::<b>Base.LinAlg.UnitUpperTriangular</b>) at <a href=\"https://github.com/JuliaLang/julia/tree/6445c82d0060dbe82b88436f0f4371a4ee64d918/base/linalg/triangular.jl#L1324\" target=\"_blank\">linalg\\triangular.jl:1324</a></li> <li> *(A::<b>Tridiagonal</b>, B::<b>LowerTriangular</b>) at <a href=\"https://github.com/JuliaLang/julia/tree/6445c82d0060dbe82b88436f0f4371a4ee64d918/base/linalg/triangular.jl#L1324\" target=\"_blank\">linalg\\triangular.jl:1324</a></li> <li> *(A::<b>Tridiagonal</b>, B::<b>Base.LinAlg.UnitLowerTriangular</b>) at <a href=\"https://github.com/JuliaLang/julia/tree/6445c82d0060dbe82b88436f0f4371a4ee64d918/base/linalg/triangular.jl#L1324\" target=\"_blank\">linalg\\triangular.jl:1324</a></li> <li> *(A::<b>LowerTriangular</b>, B::<b>LowerTriangular</b>) at <a href=\"https://github.com/JuliaLang/julia/tree/6445c82d0060dbe82b88436f0f4371a4ee64d918/base/linalg/triangular.jl#L1331\" target=\"_blank\">linalg\\triangular.jl:1331</a></li> <li> *(A::<b>Base.LinAlg.UnitLowerTriangular</b>, B::<b>LowerTriangular</b>) at <a href=\"https://github.com/JuliaLang/julia/tree/6445c82d0060dbe82b88436f0f4371a4ee64d918/base/linalg/triangular.jl#L1339\" target=\"_blank\">linalg\\triangular.jl:1339</a></li> <li> *(A::<b>UpperTriangular</b>, B::<b>UpperTriangular</b>) at <a href=\"https://github.com/JuliaLang/julia/tree/6445c82d0060dbe82b88436f0f4371a4ee64d918/base/linalg/triangular.jl#L1347\" target=\"_blank\">linalg\\triangular.jl:1347</a></li> <li> *(A::<b>Base.LinAlg.UnitUpperTriangular</b>, B::<b>UpperTriangular</b>) at <a href=\"https://github.com/JuliaLang/julia/tree/6445c82d0060dbe82b88436f0f4371a4ee64d918/base/linalg/triangular.jl#L1355\" target=\"_blank\">linalg\\triangular.jl:1355</a></li> <li> *(A::<b>Base.LinAlg.AbstractTriangular</b>, B::<b>Base.LinAlg.AbstractTriangular</b>) at <a href=\"https://github.com/JuliaLang/julia/tree/6445c82d0060dbe82b88436f0f4371a4ee64d918/base/linalg/triangular.jl#L1472\" target=\"_blank\">linalg\\triangular.jl:1472</a></li> <li> *(A::<b>Base.LinAlg.AbstractTriangular</b>, D::<b>Diagonal</b>) at <a href=\"https://github.com/JuliaLang/julia/tree/6445c82d0060dbe82b88436f0f4371a4ee64d918/base/linalg/diagonal.jl#L119\" target=\"_blank\">linalg\\diagonal.jl:119</a></li> <li> *(A::<b>Base.LinAlg.AbstractTriangular</b>, B::<b>Union{Bidiagonal,SymTridiagonal,Tridiagonal}</b>) at <a href=\"https://github.com/JuliaLang/julia/tree/6445c82d0060dbe82b88436f0f4371a4ee64d918/base/linalg/bidiag.jl#L415\" target=\"_blank\">linalg\\bidiag.jl:415</a></li> <li> *(A::<b>Base.LinAlg.AbstractTriangular</b>, B::<b>AbstractArray{T<:Any,1}</b>) at <a href=\"https://github.com/JuliaLang/julia/tree/6445c82d0060dbe82b88436f0f4371a4ee64d918/base/linalg/triangular.jl#L1496\" target=\"_blank\">linalg\\triangular.jl:1496</a></li> <li> *(A::<b>Base.LinAlg.AbstractTriangular</b>, B::<b>AbstractArray{T<:Any,2}</b>) at <a href=\"https://github.com/JuliaLang/julia/tree/6445c82d0060dbe82b88436f0f4371a4ee64d918/base/linalg/triangular.jl#L1496\" target=\"_blank\">linalg\\triangular.jl:1496</a></li> <li> *(A::<b>Union{Base.LinAlg.QRCompactWYQ,Base.LinAlg.QRPackedQ}</b>, b::<b>Union{Base.ReshapedArray{T<:Any,1,A<:DenseArray,MI<:Tuple{Vararg{Base.MultiplicativeInverses.SignedMultiplicativeInverse{Int64},N<:Any}}},DenseArray{T<:Any,1},SubArray{T<:Any,1,A<:Union{Base.ReshapedArray{T<:Any,N<:Any,A<:DenseArray,MI<:Tuple{Vararg{Base.MultiplicativeInverses.SignedMultiplicativeInverse{Int64},N<:Any}}},DenseArray},I<:Tuple{Vararg{Union{Base.AbstractCartesianIndex,Colon,Int64,Range{Int64}},N<:Any}},L<:Any}}</b>) at <a href=\"https://github.com/JuliaLang/julia/tree/6445c82d0060dbe82b88436f0f4371a4ee64d918/base/linalg/qr.jl#L372\" target=\"_blank\">linalg\\qr.jl:372</a></li> <li> *(A::<b>Union{Base.LinAlg.QRCompactWYQ,Base.LinAlg.QRPackedQ}</b>, B::<b>Union{Base.ReshapedArray{T<:Any,2,A<:DenseArray,MI<:Tuple{Vararg{Base.MultiplicativeInverses.SignedMultiplicativeInverse{Int64},N<:Any}}},DenseArray{T<:Any,2},SubArray{T<:Any,2,A<:Union{Base.ReshapedArray{T<:Any,N<:Any,A<:DenseArray,MI<:Tuple{Vararg{Base.MultiplicativeInverses.SignedMultiplicativeInverse{Int64},N<:Any}}},DenseArray},I<:Tuple{Vararg{Union{Base.AbstractCartesianIndex,Colon,Int64,Range{Int64}},N<:Any}},L<:Any}}</b>) at <a href=\"https://github.com/JuliaLang/julia/tree/6445c82d0060dbe82b88436f0f4371a4ee64d918/base/linalg/qr.jl#L384\" target=\"_blank\">linalg\\qr.jl:384</a></li> <li> *(A::<b>Union{Base.ReshapedArray{T<:Any,2,A<:DenseArray,MI<:Tuple{Vararg{Base.MultiplicativeInverses.SignedMultiplicativeInverse{Int64},N<:Any}}},DenseArray{T<:Any,2},SubArray{T<:Any,2,A<:Union{Base.ReshapedArray{T<:Any,N<:Any,A<:DenseArray,MI<:Tuple{Vararg{Base.MultiplicativeInverses.SignedMultiplicativeInverse{Int64},N<:Any}}},DenseArray},I<:Tuple{Vararg{Union{Base.AbstractCartesianIndex,Colon,Int64,Range{Int64}},N<:Any}},L<:Any}}</b>, Q::<b>Union{Base.LinAlg.QRCompactWYQ,Base.LinAlg.QRPackedQ}</b>) at <a href=\"https://github.com/JuliaLang/julia/tree/6445c82d0060dbe82b88436f0f4371a4ee64d918/base/linalg/qr.jl#L472\" target=\"_blank\">linalg\\qr.jl:472</a></li> <li> *<i>{T,S}</i>(Q::<b>Base.LinAlg.HessenbergQ{T,S<:AbstractArray{T<:Any,2}}</b>, X::<b>Union{Base.ReshapedArray{S,1,A<:DenseArray,MI<:Tuple{Vararg{Base.MultiplicativeInverses.SignedMultiplicativeInverse{Int64},N<:Any}}},Base.ReshapedArray{S,2,A<:DenseArray,MI<:Tuple{Vararg{Base.MultiplicativeInverses.SignedMultiplicativeInverse{Int64},N<:Any}}},DenseArray{S,1},DenseArray{S,2},SubArray{S,1,A<:Union{Base.ReshapedArray{T<:Any,N<:Any,A<:DenseArray,MI<:Tuple{Vararg{Base.MultiplicativeInverses.SignedMultiplicativeInverse{Int64},N<:Any}}},DenseArray},I<:Tuple{Vararg{Union{Base.AbstractCartesianIndex,Colon,Int64,Range{Int64}},N<:Any}},L<:Any},SubArray{S,2,A<:Union{Base.ReshapedArray{T<:Any,N<:Any,A<:DenseArray,MI<:Tuple{Vararg{Base.MultiplicativeInverses.SignedMultiplicativeInverse{Int64},N<:Any}}},DenseArray},I<:Tuple{Vararg{Union{Base.AbstractCartesianIndex,Colon,Int64,Range{Int64}},N<:Any}},L<:Any}}</b>) at <a href=\"https://github.com/JuliaLang/julia/tree/6445c82d0060dbe82b88436f0f4371a4ee64d918/base/linalg/hessenberg.jl#L76\" target=\"_blank\">linalg\\hessenberg.jl:76</a></li> <li> *<i>{T,S}</i>(X::<b>Union{Base.ReshapedArray{S,1,A<:DenseArray,MI<:Tuple{Vararg{Base.MultiplicativeInverses.SignedMultiplicativeInverse{Int64},N<:Any}}},Base.ReshapedArray{S,2,A<:DenseArray,MI<:Tuple{Vararg{Base.MultiplicativeInverses.SignedMultiplicativeInverse{Int64},N<:Any}}},DenseArray{S,1},DenseArray{S,2},SubArray{S,1,A<:Union{Base.ReshapedArray{T<:Any,N<:Any,A<:DenseArray,MI<:Tuple{Vararg{Base.MultiplicativeInverses.SignedMultiplicativeInverse{Int64},N<:Any}}},DenseArray},I<:Tuple{Vararg{Union{Base.AbstractCartesianIndex,Colon,Int64,Range{Int64}},N<:Any}},L<:Any},SubArray{S,2,A<:Union{Base.ReshapedArray{T<:Any,N<:Any,A<:DenseArray,MI<:Tuple{Vararg{Base.MultiplicativeInverses.SignedMultiplicativeInverse{Int64},N<:Any}}},DenseArray},I<:Tuple{Vararg{Union{Base.AbstractCartesianIndex,Colon,Int64,Range{Int64}},N<:Any}},L<:Any}}</b>, Q::<b>Base.LinAlg.HessenbergQ{T,S<:AbstractArray{T<:Any,2}}</b>) at <a href=\"https://github.com/JuliaLang/julia/tree/6445c82d0060dbe82b88436f0f4371a4ee64d918/base/linalg/hessenberg.jl#L80\" target=\"_blank\">linalg\\hessenberg.jl:80</a></li> <li> *(A::<b>Base.LinAlg.LQPackedQ</b>, B::<b>Union{Base.ReshapedArray{T<:Any,1,A<:DenseArray,MI<:Tuple{Vararg{Base.MultiplicativeInverses.SignedMultiplicativeInverse{Int64},N<:Any}}},Base.ReshapedArray{T<:Any,2,A<:DenseArray,MI<:Tuple{Vararg{Base.MultiplicativeInverses.SignedMultiplicativeInverse{Int64},N<:Any}}},DenseArray{T<:Any,1},DenseArray{T<:Any,2},SubArray{T<:Any,1,A<:Union{Base.ReshapedArray{T<:Any,N<:Any,A<:DenseArray,MI<:Tuple{Vararg{Base.MultiplicativeInverses.SignedMultiplicativeInverse{Int64},N<:Any}}},DenseArray},I<:Tuple{Vararg{Union{Base.AbstractCartesianIndex,Colon,Int64,Range{Int64}},N<:Any}},L<:Any},SubArray{T<:Any,2,A<:Union{Base.ReshapedArray{T<:Any,N<:Any,A<:DenseArray,MI<:Tuple{Vararg{Base.MultiplicativeInverses.SignedMultiplicativeInverse{Int64},N<:Any}}},DenseArray},I<:Tuple{Vararg{Union{Base.AbstractCartesianIndex,Colon,Int64,Range{Int64}},N<:Any}},L<:Any}}</b>) at <a href=\"https://github.com/JuliaLang/julia/tree/6445c82d0060dbe82b88436f0f4371a4ee64d918/base/linalg/lq.jl#L134\" target=\"_blank\">linalg\\lq.jl:134</a></li> <li> *<i>{TA,TB}</i>(A::<b>Union{Base.ReshapedArray{TA,2,A<:DenseArray,MI<:Tuple{Vararg{Base.MultiplicativeInverses.SignedMultiplicativeInverse{Int64},N<:Any}}},DenseArray{TA,2},SubArray{TA,2,A<:Union{Base.ReshapedArray{T<:Any,N<:Any,A<:DenseArray,MI<:Tuple{Vararg{Base.MultiplicativeInverses.SignedMultiplicativeInverse{Int64},N<:Any}}},DenseArray},I<:Tuple{Vararg{Union{Base.AbstractCartesianIndex,Colon,Int64,Range{Int64}},N<:Any}},L<:Any}}</b>, B::<b>Base.LinAlg.LQPackedQ{TB,S<:AbstractArray{T<:Any,2}}</b>) at <a href=\"https://github.com/JuliaLang/julia/tree/6445c82d0060dbe82b88436f0f4371a4ee64d918/base/linalg/lq.jl#L168\" target=\"_blank\">linalg\\lq.jl:168</a></li> <li> *(A::<b>Union{Hermitian{T<:Any,S<:Any},Symmetric{T<:Any,S<:Any}}</b>, B::<b>Union{Hermitian{T<:Any,S<:Any},Symmetric{T<:Any,S<:Any}}</b>) at <a href=\"https://github.com/JuliaLang/julia/tree/6445c82d0060dbe82b88436f0f4371a4ee64d918/base/linalg/symmetric.jl#L180\" target=\"_blank\">linalg\\symmetric.jl:180</a></li> <li> *(A::<b>Union{Base.ReshapedArray{T<:Any,2,A<:DenseArray,MI<:Tuple{Vararg{Base.MultiplicativeInverses.SignedMultiplicativeInverse{Int64},N<:Any}}},DenseArray{T<:Any,2},SubArray{T<:Any,2,A<:Union{Base.ReshapedArray{T<:Any,N<:Any,A<:DenseArray,MI<:Tuple{Vararg{Base.MultiplicativeInverses.SignedMultiplicativeInverse{Int64},N<:Any}}},DenseArray},I<:Tuple{Vararg{Union{Base.AbstractCartesianIndex,Colon,Int64,Range{Int64}},N<:Any}},L<:Any}}</b>, B::<b>Union{Hermitian{T<:Any,S<:Any},Symmetric{T<:Any,S<:Any}}</b>) at <a href=\"https://github.com/JuliaLang/julia/tree/6445c82d0060dbe82b88436f0f4371a4ee64d918/base/linalg/symmetric.jl#L181\" target=\"_blank\">linalg\\symmetric.jl:181</a></li> <li> *<i>{T<:Number}</i>(D::<b>Diagonal</b>, x::<b>T</b>) at <a href=\"https://github.com/JuliaLang/julia/tree/6445c82d0060dbe82b88436f0f4371a4ee64d918/base/linalg/diagonal.jl#L114\" target=\"_blank\">linalg\\diagonal.jl:114</a></li> <li> *(Da::<b>Diagonal</b>, Db::<b>Diagonal</b>) at <a href=\"https://github.com/JuliaLang/julia/tree/6445c82d0060dbe82b88436f0f4371a4ee64d918/base/linalg/diagonal.jl#L116\" target=\"_blank\">linalg\\diagonal.jl:116</a></li> <li> *(D::<b>Diagonal</b>, B::<b>Base.LinAlg.AbstractTriangular</b>) at <a href=\"https://github.com/JuliaLang/julia/tree/6445c82d0060dbe82b88436f0f4371a4ee64d918/base/linalg/diagonal.jl#L120\" target=\"_blank\">linalg\\diagonal.jl:120</a></li> <li> *(D::<b>Diagonal</b>, A::<b>SparseMatrixCSC</b>) at <a href=\"https://github.com/JuliaLang/julia/tree/6445c82d0060dbe82b88436f0f4371a4ee64d918/base/sparse/linalg.jl#L114\" target=\"_blank\">sparse\\linalg.jl:114</a></li> <li> *(D::<b>Diagonal</b>, V::<b>AbstractArray{T<:Any,1}</b>) at <a href=\"https://github.com/JuliaLang/julia/tree/6445c82d0060dbe82b88436f0f4371a4ee64d918/base/linalg/diagonal.jl#L117\" target=\"_blank\">linalg\\diagonal.jl:117</a></li> <li> *(D::<b>Diagonal</b>, A::<b>AbstractArray{T<:Any,2}</b>) at <a href=\"https://github.com/JuliaLang/julia/tree/6445c82d0060dbe82b88436f0f4371a4ee64d918/base/linalg/diagonal.jl#L124\" target=\"_blank\">linalg\\diagonal.jl:124</a></li> <li> *(A::<b>Bidiagonal</b>, B::<b>Number</b>) at <a href=\"https://github.com/JuliaLang/julia/tree/6445c82d0060dbe82b88436f0f4371a4ee64d918/base/linalg/bidiag.jl#L272\" target=\"_blank\">linalg\\bidiag.jl:272</a></li> <li> *(A::<b>Union{Bidiagonal,SymTridiagonal,Tridiagonal}</b>, B::<b>Union{Bidiagonal,SymTridiagonal,Tridiagonal}</b>) at <a href=\"https://github.com/JuliaLang/julia/tree/6445c82d0060dbe82b88436f0f4371a4ee64d918/base/linalg/bidiag.jl#L416\" target=\"_blank\">linalg\\bidiag.jl:416</a></li> <li> *<i>{T}</i>(A::<b>Bidiagonal{T}</b>, B::<b>AbstractArray{T,1}</b>) at <a href=\"https://github.com/JuliaLang/julia/tree/6445c82d0060dbe82b88436f0f4371a4ee64d918/base/linalg/bidiag.jl#L420\" target=\"_blank\">linalg\\bidiag.jl:420</a></li> <li> *<i>{TX,TvA,TiA}</i>(X::<b>Union{Base.ReshapedArray{TX,2,A<:DenseArray,MI<:Tuple{Vararg{Base.MultiplicativeInverses.SignedMultiplicativeInverse{Int64},N<:Any}}},DenseArray{TX,2},SubArray{TX,2,A<:Union{Base.ReshapedArray{T<:Any,N<:Any,A<:DenseArray,MI<:Tuple{Vararg{Base.MultiplicativeInverses.SignedMultiplicativeInverse{Int64},N<:Any}}},DenseArray},I<:Tuple{Vararg{Union{Base.AbstractCartesianIndex,Colon,Int64,Range{Int64}},N<:Any}},L<:Any}}</b>, A::<b>SparseMatrixCSC{TvA,TiA}</b>) at <a href=\"https://github.com/JuliaLang/julia/tree/6445c82d0060dbe82b88436f0f4371a4ee64d918/base/sparse/linalg.jl#L102\" target=\"_blank\">sparse\\linalg.jl:102</a></li> <li> *<i>{Ta,Tx}</i>(A::<b>Union{Base.ReshapedArray{Ta,2,A<:DenseArray,MI<:Tuple{Vararg{Base.MultiplicativeInverses.SignedMultiplicativeInverse{Int64},N<:Any}}},DenseArray{Ta,2},SubArray{Ta,2,A<:Union{Base.ReshapedArray{T<:Any,N<:Any,A<:DenseArray,MI<:Tuple{Vararg{Base.MultiplicativeInverses.SignedMultiplicativeInverse{Int64},N<:Any}}},DenseArray},I<:Tuple{Vararg{Union{Base.AbstractCartesianIndex,Colon,Int64,Range{Int64}},N<:Any}},L<:Any}}</b>, x::<b>AbstractSparseArray{Tx,Ti<:Any,1}</b>) at <a href=\"https://github.com/JuliaLang/julia/tree/6445c82d0060dbe82b88436f0f4371a4ee64d918/base/sparse/sparsevector.jl#L1360\" target=\"_blank\">sparse\\sparsevector.jl:1360</a></li> <li> *(A::<b>SparseMatrixCSC</b>, x::<b>AbstractSparseArray{Tv<:Any,Ti<:Any,1}</b>) at <a href=\"https://github.com/JuliaLang/julia/tree/6445c82d0060dbe82b88436f0f4371a4ee64d918/base/sparse/sparsevector.jl#L1538\" target=\"_blank\">sparse\\sparsevector.jl:1538</a></li> <li> *<i>{Tv,Ti}</i>(A::<b>SparseMatrixCSC{Tv,Ti}</b>, B::<b>SparseMatrixCSC{Tv,Ti}</b>) at <a href=\"https://github.com/JuliaLang/julia/tree/6445c82d0060dbe82b88436f0f4371a4ee64d918/base/sparse/linalg.jl#L125\" target=\"_blank\">sparse\\linalg.jl:125</a></li> <li> *<i>{TvA,TiA,TvB,TiB}</i>(A::<b>SparseMatrixCSC{TvA,TiA}</b>, B::<b>SparseMatrixCSC{TvB,TiB}</b>) at <a href=\"https://github.com/JuliaLang/julia/tree/6445c82d0060dbe82b88436f0f4371a4ee64d918/base/sparse/linalg.jl#L24\" target=\"_blank\">sparse\\linalg.jl:24</a></li> <li> *(A::<b>SparseMatrixCSC</b>, D::<b>Diagonal</b>) at <a href=\"https://github.com/JuliaLang/julia/tree/6445c82d0060dbe82b88436f0f4371a4ee64d918/base/sparse/linalg.jl#L118\" target=\"_blank\">sparse\\linalg.jl:118</a></li> <li> *(A::<b>Base.SparseArrays.CHOLMOD.Sparse</b>, B::<b>Base.SparseArrays.CHOLMOD.Sparse</b>) at <a href=\"https://github.com/JuliaLang/julia/tree/6445c82d0060dbe82b88436f0f4371a4ee64d918/base/sparse/cholmod.jl#L1206\" target=\"_blank\">sparse\\cholmod.jl:1206</a></li> <li> *(A::<b>Base.SparseArrays.CHOLMOD.Sparse</b>, B::<b>Base.SparseArrays.CHOLMOD.Dense</b>) at <a href=\"https://github.com/JuliaLang/julia/tree/6445c82d0060dbe82b88436f0f4371a4ee64d918/base/sparse/cholmod.jl#L1207\" target=\"_blank\">sparse\\cholmod.jl:1207</a></li> <li> *(A::<b>Base.SparseArrays.CHOLMOD.Sparse</b>, B::<b>Union{Array{T<:Any,1},Array{T<:Any,2}}</b>) at <a href=\"https://github.com/JuliaLang/julia/tree/6445c82d0060dbe82b88436f0f4371a4ee64d918/base/sparse/cholmod.jl#L1208\" target=\"_blank\">sparse\\cholmod.jl:1208</a></li> <li> *<i>{Ti}</i>(A::<b>Symmetric{Float64,SparseMatrixCSC{Float64,Ti}}</b>, B::<b>Union{SparseMatrixCSC{Float64,Ti},SparseVector{Float64,Ti}}</b>) at <a href=\"https://github.com/JuliaLang/julia/tree/6445c82d0060dbe82b88436f0f4371a4ee64d918/base/sparse/cholmod.jl#L1621\" target=\"_blank\">sparse\\cholmod.jl:1621</a></li> <li> *<i>{Ti}</i>(A::<b>Hermitian{Complex{Float64},SparseMatrixCSC{Complex{Float64},Ti}}</b>, B::<b>Union{SparseMatrixCSC{Complex{Float64},Ti},SparseVector{Complex{Float64},Ti}}</b>) at <a href=\"https://github.com/JuliaLang/julia/tree/6445c82d0060dbe82b88436f0f4371a4ee64d918/base/sparse/cholmod.jl#L1622\" target=\"_blank\">sparse\\cholmod.jl:1622</a></li> <li> *<i>{Ti}</i>(A::<b>Hermitian{Float64,SparseMatrixCSC{Float64,Ti}}</b>, B::<b>Union{SparseMatrixCSC{Float64,Ti},SparseVector{Float64,Ti}}</b>) at <a href=\"https://github.com/JuliaLang/julia/tree/6445c82d0060dbe82b88436f0f4371a4ee64d918/base/sparse/cholmod.jl#L1623\" target=\"_blank\">sparse\\cholmod.jl:1623</a></li> <li> *<i>{T<:Number}</i>(x::<b>AbstractArray{T,2}</b>) at <a href=\"https://github.com/JuliaLang/julia/tree/6445c82d0060dbe82b88436f0f4371a4ee64d918/base/abstractarraymath.jl#L92\" target=\"_blank\">abstractarraymath.jl:92</a></li> <li> *(B::<b>Number</b>, A::<b>SymTridiagonal</b>) at <a href=\"https://github.com/JuliaLang/julia/tree/6445c82d0060dbe82b88436f0f4371a4ee64d918/base/linalg/tridiag.jl#L99\" target=\"_blank\">linalg\\tridiag.jl:99</a></li> <li> *(B::<b>Number</b>, A::<b>Tridiagonal</b>) at <a href=\"https://github.com/JuliaLang/julia/tree/6445c82d0060dbe82b88436f0f4371a4ee64d918/base/linalg/tridiag.jl#L497\" target=\"_blank\">linalg\\tridiag.jl:497</a></li> <li> *(x::<b>Number</b>, A::<b>UpperTriangular</b>) at <a href=\"https://github.com/JuliaLang/julia/tree/6445c82d0060dbe82b88436f0f4371a4ee64d918/base/linalg/triangular.jl#L487\" target=\"_blank\">linalg\\triangular.jl:487</a></li> <li> *(x::<b>Number</b>, A::<b>Base.LinAlg.UnitUpperTriangular</b>) at <a href=\"https://github.com/JuliaLang/julia/tree/6445c82d0060dbe82b88436f0f4371a4ee64d918/base/linalg/triangular.jl#L490\" target=\"_blank\">linalg\\triangular.jl:490</a></li> <li> *(x::<b>Number</b>, A::<b>LowerTriangular</b>) at <a href=\"https://github.com/JuliaLang/julia/tree/6445c82d0060dbe82b88436f0f4371a4ee64d918/base/linalg/triangular.jl#L487\" target=\"_blank\">linalg\\triangular.jl:487</a></li> <li> *(x::<b>Number</b>, A::<b>Base.LinAlg.UnitLowerTriangular</b>) at <a href=\"https://github.com/JuliaLang/julia/tree/6445c82d0060dbe82b88436f0f4371a4ee64d918/base/linalg/triangular.jl#L490\" target=\"_blank\">linalg\\triangular.jl:490</a></li> <li> *(B::<b>Number</b>, A::<b>Bidiagonal</b>) at <a href=\"https://github.com/JuliaLang/julia/tree/6445c82d0060dbe82b88436f0f4371a4ee64d918/base/linalg/bidiag.jl#L273\" target=\"_blank\">linalg\\bidiag.jl:273</a></li> <li> *(A::<b>Number</b>, B::<b>AbstractArray</b>) at <a href=\"https://github.com/JuliaLang/julia/tree/6445c82d0060dbe82b88436f0f4371a4ee64d918/base/abstractarraymath.jl#L96\" target=\"_blank\">abstractarraymath.jl:96</a></li> <li> *(A::<b>AbstractArray</b>, B::<b>Number</b>) at <a href=\"https://github.com/JuliaLang/julia/tree/6445c82d0060dbe82b88436f0f4371a4ee64d918/base/abstractarraymath.jl#L97\" target=\"_blank\">abstractarraymath.jl:97</a></li> <li> *(s1::<b>AbstractString</b>, ss::<b>AbstractString...</b>) at <a href=\"https://github.com/JuliaLang/julia/tree/6445c82d0060dbe82b88436f0f4371a4ee64d918/base/strings/basic.jl#L84\" target=\"_blank\">strings/basic.jl:84</a></li> <li> *(index::<b>CartesianIndex</b>, a::<b>Integer</b>) at <a href=\"https://github.com/JuliaLang/julia/tree/6445c82d0060dbe82b88436f0f4371a4ee64d918/base/multidimensional.jl#L62\" target=\"_blank\">multidimensional.jl:62</a></li> <li> *(A::<b>AbstractArray{T<:Any,2}</b>, B::<b>Base.LinAlg.AbstractTriangular</b>) at <a href=\"https://github.com/JuliaLang/julia/tree/6445c82d0060dbe82b88436f0f4371a4ee64d918/base/linalg/triangular.jl#L1529\" target=\"_blank\">linalg\\triangular.jl:1529</a></li> <li> *(A::<b>AbstractArray{T<:Any,2}</b>, D::<b>Diagonal</b>) at <a href=\"https://github.com/JuliaLang/julia/tree/6445c82d0060dbe82b88436f0f4371a4ee64d918/base/linalg/diagonal.jl#L122\" target=\"_blank\">linalg\\diagonal.jl:122</a></li> <li> *<i>{T,S}</i>(A::<b>AbstractArray{T,2}</b>, x::<b>AbstractArray{S,1}</b>) at <a href=\"https://github.com/JuliaLang/julia/tree/6445c82d0060dbe82b88436f0f4371a4ee64d918/base/linalg/matmul.jl#L83\" target=\"_blank\">linalg\\matmul.jl:83</a></li> <li> *(A::<b>AbstractArray{T<:Any,1}</b>, B::<b>Base.LinAlg.AbstractTriangular</b>) at <a href=\"https://github.com/JuliaLang/julia/tree/6445c82d0060dbe82b88436f0f4371a4ee64d918/base/linalg/triangular.jl#L1529\" target=\"_blank\">linalg\\triangular.jl:1529</a></li> <li> *(A::<b>AbstractArray{T<:Any,1}</b>, B::<b>AbstractArray{T<:Any,2}</b>) at <a href=\"https://github.com/JuliaLang/julia/tree/6445c82d0060dbe82b88436f0f4371a4ee64d918/base/linalg/matmul.jl#L86\" target=\"_blank\">linalg\\matmul.jl:86</a></li> <li> *<i>{T,S}</i>(A::<b>AbstractArray{T,2}</b>, B::<b>AbstractArray{S,2}</b>) at <a href=\"https://github.com/JuliaLang/julia/tree/6445c82d0060dbe82b88436f0f4371a4ee64d918/base/linalg/matmul.jl#L128\" target=\"_blank\">linalg\\matmul.jl:128</a></li> <li> *<i>{TA,TB}</i>(A::<b>Base.LinAlg.LQ{TA,S<:AbstractArray{T<:Any,2}}</b>, B::<b>Union{Base.ReshapedArray{TB,1,A<:DenseArray,MI<:Tuple{Vararg{Base.MultiplicativeInverses.SignedMultiplicativeInverse{Int64},N<:Any}}},Base.ReshapedArray{TB,2,A<:DenseArray,MI<:Tuple{Vararg{Base.MultiplicativeInverses.SignedMultiplicativeInverse{Int64},N<:Any}}},DenseArray{TB,1},DenseArray{TB,2},SubArray{TB,1,A<:Union{Base.ReshapedArray{T<:Any,N<:Any,A<:DenseArray,MI<:Tuple{Vararg{Base.MultiplicativeInverses.SignedMultiplicativeInverse{Int64},N<:Any}}},DenseArray},I<:Tuple{Vararg{Union{Base.AbstractCartesianIndex,Colon,Int64,Range{Int64}},N<:Any}},L<:Any},SubArray{TB,2,A<:Union{Base.ReshapedArray{T<:Any,N<:Any,A<:DenseArray,MI<:Tuple{Vararg{Base.MultiplicativeInverses.SignedMultiplicativeInverse{Int64},N<:Any}}},DenseArray},I<:Tuple{Vararg{Union{Base.AbstractCartesianIndex,Colon,Int64,Range{Int64}},N<:Any}},L<:Any}}</b>) at <a href=\"https://github.com/JuliaLang/julia/tree/6445c82d0060dbe82b88436f0f4371a4ee64d918/base/linalg/lq.jl#L118\" target=\"_blank\">linalg\\lq.jl:118</a></li> <li> *<i>{TA,TB}</i>(A::<b>Base.LinAlg.LQ{TA,S<:AbstractArray{T<:Any,2}}</b>, B::<b>Base.LinAlg.QR{TB,S<:AbstractArray{T<:Any,2}}</b>) at <a href=\"https://github.com/JuliaLang/julia/tree/6445c82d0060dbe82b88436f0f4371a4ee64d918/base/linalg/lq.jl#L122\" target=\"_blank\">linalg\\lq.jl:122</a></li> <li> *<i>{TA,TB}</i>(A::<b>Base.LinAlg.QR{TA,S<:AbstractArray{T<:Any,2}}</b>, B::<b>Base.LinAlg.LQ{TB,S<:AbstractArray{T<:Any,2}}</b>) at <a href=\"https://github.com/JuliaLang/julia/tree/6445c82d0060dbe82b88436f0f4371a4ee64d918/base/linalg/lq.jl#L126\" target=\"_blank\">linalg\\lq.jl:126</a></li> <li> *(J1::<b>UniformScaling</b>, J2::<b>UniformScaling</b>) at <a href=\"https://github.com/JuliaLang/julia/tree/6445c82d0060dbe82b88436f0f4371a4ee64d918/base/linalg/uniformscaling.jl#L131\" target=\"_blank\">linalg\\uniformscaling.jl:131</a></li> <li> *(J::<b>UniformScaling</b>, B::<b>BitArray{2}</b>) at <a href=\"https://github.com/JuliaLang/julia/tree/6445c82d0060dbe82b88436f0f4371a4ee64d918/base/linalg/uniformscaling.jl#L133\" target=\"_blank\">linalg\\uniformscaling.jl:133</a></li> <li> *(A::<b>AbstractArray{T<:Any,2}</b>, J::<b>UniformScaling</b>) at <a href=\"https://github.com/JuliaLang/julia/tree/6445c82d0060dbe82b88436f0f4371a4ee64d918/base/linalg/uniformscaling.jl#L134\" target=\"_blank\">linalg\\uniformscaling.jl:134</a></li> <li> *(J::<b>UniformScaling</b>, A::<b>Union{AbstractArray{T<:Any,1},AbstractArray{T<:Any,2}}</b>) at <a href=\"https://github.com/JuliaLang/julia/tree/6445c82d0060dbe82b88436f0f4371a4ee64d918/base/linalg/uniformscaling.jl#L135\" target=\"_blank\">linalg\\uniformscaling.jl:135</a></li> <li> *(x::<b>Number</b>, J::<b>UniformScaling</b>) at <a href=\"https://github.com/JuliaLang/julia/tree/6445c82d0060dbe82b88436f0f4371a4ee64d918/base/linalg/uniformscaling.jl#L136\" target=\"_blank\">linalg\\uniformscaling.jl:136</a></li> <li> *(J::<b>UniformScaling</b>, x::<b>Number</b>) at <a href=\"https://github.com/JuliaLang/julia/tree/6445c82d0060dbe82b88436f0f4371a4ee64d918/base/linalg/uniformscaling.jl#L137\" target=\"_blank\">linalg\\uniformscaling.jl:137</a></li> <li> *<i>{T,S}</i>(R::<b>Base.LinAlg.AbstractRotation{T}</b>, A::<b>Union{AbstractArray{S,1},AbstractArray{S,2}}</b>) at <a href=\"https://github.com/JuliaLang/julia/tree/6445c82d0060dbe82b88436f0f4371a4ee64d918/base/linalg/givens.jl#L9\" target=\"_blank\">linalg\\givens.jl:9</a></li> <li> *<i>{T}</i>(G1::<b>Base.LinAlg.Givens{T}</b>, G2::<b>Base.LinAlg.Givens{T}</b>) at <a href=\"https://github.com/JuliaLang/julia/tree/6445c82d0060dbe82b88436f0f4371a4ee64d918/base/linalg/givens.jl#L362\" target=\"_blank\">linalg\\givens.jl:362</a></li> <li> *(p::<b>Base.DFT.ScaledPlan</b>, x::<b>AbstractArray</b>) at <a href=\"https://github.com/JuliaLang/julia/tree/6445c82d0060dbe82b88436f0f4371a4ee64d918/base/dft.jl#L255\" target=\"_blank\">dft.jl:255</a></li> <li> *<i>{T,K,N}</i>(p::<b>Base.DFT.FFTW.cFFTWPlan{T,K,false,N<:Any}</b>, x::<b>Union{Base.ReshapedArray{T,N,A<:DenseArray,MI<:Tuple{Vararg{Base.MultiplicativeInverses.SignedMultiplicativeInverse{Int64},N<:Any}}},DenseArray{T,N},SubArray{T,N,A<:Union{Base.ReshapedArray{T<:Any,N<:Any,A<:DenseArray,MI<:Tuple{Vararg{Base.MultiplicativeInverses.SignedMultiplicativeInverse{Int64},N<:Any}}},DenseArray},I<:Tuple{Vararg{Union{Base.AbstractCartesianIndex,Colon,Int64,Range{Int64}},N<:Any}},L<:Any}}</b>) at <a href=\"https://github.com/JuliaLang/julia/tree/6445c82d0060dbe82b88436f0f4371a4ee64d918/base/fft/FFTW.jl#L616\" target=\"_blank\">fft/FFTW.jl:616</a></li> <li> *<i>{T,K}</i>(p::<b>Base.DFT.FFTW.cFFTWPlan{T,K,true,N<:Any}</b>, x::<b>Union{Base.ReshapedArray{T,N<:Any,A<:DenseArray,MI<:Tuple{Vararg{Base.MultiplicativeInverses.SignedMultiplicativeInverse{Int64},N<:Any}}},DenseArray{T,N<:Any},SubArray{T,N<:Any,A<:Union{Base.ReshapedArray{T<:Any,N<:Any,A<:DenseArray,MI<:Tuple{Vararg{Base.MultiplicativeInverses.SignedMultiplicativeInverse{Int64},N<:Any}}},DenseArray},I<:Tuple{Vararg{Union{Base.AbstractCartesianIndex,Colon,Int64,Range{Int64}},N<:Any}},L<:Any}}</b>) at <a href=\"https://github.com/JuliaLang/julia/tree/6445c82d0060dbe82b88436f0f4371a4ee64d918/base/fft/FFTW.jl#L623\" target=\"_blank\">fft/FFTW.jl:623</a></li> <li> *<i>{N}</i>(p::<b>Base.DFT.FFTW.rFFTWPlan{Float32,-1,false,N<:Any}</b>, x::<b>Union{Base.ReshapedArray{Float32,N,A<:DenseArray,MI<:Tuple{Vararg{Base.MultiplicativeInverses.SignedMultiplicativeInverse{Int64},N<:Any}}},DenseArray{Float32,N},SubArray{Float32,N,A<:Union{Base.ReshapedArray{T<:Any,N<:Any,A<:DenseArray,MI<:Tuple{Vararg{Base.MultiplicativeInverses.SignedMultiplicativeInverse{Int64},N<:Any}}},DenseArray},I<:Tuple{Vararg{Union{Base.AbstractCartesianIndex,Colon,Int64,Range{Int64}},N<:Any}},L<:Any}}</b>) at <a href=\"https://github.com/JuliaLang/julia/tree/6445c82d0060dbe82b88436f0f4371a4ee64d918/base/fft/FFTW.jl#L693\" target=\"_blank\">fft/FFTW.jl:693</a></li> <li> *<i>{N}</i>(p::<b>Base.DFT.FFTW.rFFTWPlan{Complex{Float32},1,false,N<:Any}</b>, x::<b>Union{Base.ReshapedArray{Complex{Float32},N,A<:DenseArray,MI<:Tuple{Vararg{Base.MultiplicativeInverses.SignedMultiplicativeInverse{Int64},N<:Any}}},DenseArray{Complex{Float32},N},SubArray{Complex{Float32},N,A<:Union{Base.ReshapedArray{T<:Any,N<:Any,A<:DenseArray,MI<:Tuple{Vararg{Base.MultiplicativeInverses.SignedMultiplicativeInverse{Int64},N<:Any}}},DenseArray},I<:Tuple{Vararg{Union{Base.AbstractCartesianIndex,Colon,Int64,Range{Int64}},N<:Any}},L<:Any}}</b>) at <a href=\"https://github.com/JuliaLang/julia/tree/6445c82d0060dbe82b88436f0f4371a4ee64d918/base/fft/FFTW.jl#L700\" target=\"_blank\">fft/FFTW.jl:700</a></li> <li> *<i>{N}</i>(p::<b>Base.DFT.FFTW.rFFTWPlan{Float64,-1,false,N<:Any}</b>, x::<b>Union{Base.ReshapedArray{Float64,N,A<:DenseArray,MI<:Tuple{Vararg{Base.MultiplicativeInverses.SignedMultiplicativeInverse{Int64},N<:Any}}},DenseArray{Float64,N},SubArray{Float64,N,A<:Union{Base.ReshapedArray{T<:Any,N<:Any,A<:DenseArray,MI<:Tuple{Vararg{Base.MultiplicativeInverses.SignedMultiplicativeInverse{Int64},N<:Any}}},DenseArray},I<:Tuple{Vararg{Union{Base.AbstractCartesianIndex,Colon,Int64,Range{Int64}},N<:Any}},L<:Any}}</b>) at <a href=\"https://github.com/JuliaLang/julia/tree/6445c82d0060dbe82b88436f0f4371a4ee64d918/base/fft/FFTW.jl#L693\" target=\"_blank\">fft/FFTW.jl:693</a></li> <li> *<i>{N}</i>(p::<b>Base.DFT.FFTW.rFFTWPlan{Complex{Float64},1,false,N<:Any}</b>, x::<b>Union{Base.ReshapedArray{Complex{Float64},N,A<:DenseArray,MI<:Tuple{Vararg{Base.MultiplicativeInverses.SignedMultiplicativeInverse{Int64},N<:Any}}},DenseArray{Complex{Float64},N},SubArray{Complex{Float64},N,A<:Union{Base.ReshapedArray{T<:Any,N<:Any,A<:DenseArray,MI<:Tuple{Vararg{Base.MultiplicativeInverses.SignedMultiplicativeInverse{Int64},N<:Any}}},DenseArray},I<:Tuple{Vararg{Union{Base.AbstractCartesianIndex,Colon,Int64,Range{Int64}},N<:Any}},L<:Any}}</b>) at <a href=\"https://github.com/JuliaLang/julia/tree/6445c82d0060dbe82b88436f0f4371a4ee64d918/base/fft/FFTW.jl#L700\" target=\"_blank\">fft/FFTW.jl:700</a></li> <li> *<i>{T,K,N}</i>(p::<b>Base.DFT.FFTW.r2rFFTWPlan{T,K,false,N<:Any}</b>, x::<b>Union{Base.ReshapedArray{T,N,A<:DenseArray,MI<:Tuple{Vararg{Base.MultiplicativeInverses.SignedMultiplicativeInverse{Int64},N<:Any}}},DenseArray{T,N},SubArray{T,N,A<:Union{Base.ReshapedArray{T<:Any,N<:Any,A<:DenseArray,MI<:Tuple{Vararg{Base.MultiplicativeInverses.SignedMultiplicativeInverse{Int64},N<:Any}}},DenseArray},I<:Tuple{Vararg{Union{Base.AbstractCartesianIndex,Colon,Int64,Range{Int64}},N<:Any}},L<:Any}}</b>) at <a href=\"https://github.com/JuliaLang/julia/tree/6445c82d0060dbe82b88436f0f4371a4ee64d918/base/fft/FFTW.jl#L848\" target=\"_blank\">fft/FFTW.jl:848</a></li> <li> *<i>{T,K}</i>(p::<b>Base.DFT.FFTW.r2rFFTWPlan{T,K,true,N<:Any}</b>, x::<b>Union{Base.ReshapedArray{T,N<:Any,A<:DenseArray,MI<:Tuple{Vararg{Base.MultiplicativeInverses.SignedMultiplicativeInverse{Int64},N<:Any}}},DenseArray{T,N<:Any},SubArray{T,N<:Any,A<:Union{Base.ReshapedArray{T<:Any,N<:Any,A<:DenseArray,MI<:Tuple{Vararg{Base.MultiplicativeInverses.SignedMultiplicativeInverse{Int64},N<:Any}}},DenseArray},I<:Tuple{Vararg{Union{Base.AbstractCartesianIndex,Colon,Int64,Range{Int64}},N<:Any}},L<:Any}}</b>) at <a href=\"https://github.com/JuliaLang/julia/tree/6445c82d0060dbe82b88436f0f4371a4ee64d918/base/fft/FFTW.jl#L855\" target=\"_blank\">fft/FFTW.jl:855</a></li> <li> *<i>{T}</i>(p::<b>Base.DFT.FFTW.DCTPlan{T,5,false}</b>, x::<b>Union{Base.ReshapedArray{T,N<:Any,A<:DenseArray,MI<:Tuple{Vararg{Base.MultiplicativeInverses.SignedMultiplicativeInverse{Int64},N<:Any}}},DenseArray{T,N<:Any},SubArray{T,N<:Any,A<:Union{Base.ReshapedArray{T<:Any,N<:Any,A<:DenseArray,MI<:Tuple{Vararg{Base.MultiplicativeInverses.SignedMultiplicativeInverse{Int64},N<:Any}}},DenseArray},I<:Tuple{Vararg{Union{Base.AbstractCartesianIndex,Colon,Int64,Range{Int64}},N<:Any}},L<:Any}}</b>) at <a href=\"https://github.com/JuliaLang/julia/tree/6445c82d0060dbe82b88436f0f4371a4ee64d918/base/fft/dct.jl#L170\" target=\"_blank\">fft\\dct.jl:170</a></li> <li> *<i>{T}</i>(p::<b>Base.DFT.FFTW.DCTPlan{T,4,false}</b>, x::<b>Union{Base.ReshapedArray{T,N<:Any,A<:DenseArray,MI<:Tuple{Vararg{Base.MultiplicativeInverses.SignedMultiplicativeInverse{Int64},N<:Any}}},DenseArray{T,N<:Any},SubArray{T,N<:Any,A<:Union{Base.ReshapedArray{T<:Any,N<:Any,A<:DenseArray,MI<:Tuple{Vararg{Base.MultiplicativeInverses.SignedMultiplicativeInverse{Int64},N<:Any}}},DenseArray},I<:Tuple{Vararg{Union{Base.AbstractCartesianIndex,Colon,Int64,Range{Int64}},N<:Any}},L<:Any}}</b>) at <a href=\"https://github.com/JuliaLang/julia/tree/6445c82d0060dbe82b88436f0f4371a4ee64d918/base/fft/dct.jl#L173\" target=\"_blank\">fft\\dct.jl:173</a></li> <li> *<i>{T,K}</i>(p::<b>Base.DFT.FFTW.DCTPlan{T,K,true}</b>, x::<b>Union{Base.ReshapedArray{T,N<:Any,A<:DenseArray,MI<:Tuple{Vararg{Base.MultiplicativeInverses.SignedMultiplicativeInverse{Int64},N<:Any}}},DenseArray{T,N<:Any},SubArray{T,N<:Any,A<:Union{Base.ReshapedArray{T<:Any,N<:Any,A<:DenseArray,MI<:Tuple{Vararg{Base.MultiplicativeInverses.SignedMultiplicativeInverse{Int64},N<:Any}}},DenseArray},I<:Tuple{Vararg{Union{Base.AbstractCartesianIndex,Colon,Int64,Range{Int64}},N<:Any}},L<:Any}}</b>) at <a href=\"https://github.com/JuliaLang/julia/tree/6445c82d0060dbe82b88436f0f4371a4ee64d918/base/fft/dct.jl#L176\" target=\"_blank\">fft\\dct.jl:176</a></li> <li> *<i>{T}</i>(p::<b>Base.DFT.Plan{T}</b>, x::<b>AbstractArray</b>) at <a href=\"https://github.com/JuliaLang/julia/tree/6445c82d0060dbe82b88436f0f4371a4ee64d918/base/dft.jl#L214\" target=\"_blank\">dft.jl:214</a></li> <li> *(α::<b>Number</b>, p::<b>Base.DFT.Plan</b>) at <a href=\"https://github.com/JuliaLang/julia/tree/6445c82d0060dbe82b88436f0f4371a4ee64d918/base/dft.jl#L257\" target=\"_blank\">dft.jl:257</a></li> <li> *(p::<b>Base.DFT.Plan</b>, α::<b>Number</b>) at <a href=\"https://github.com/JuliaLang/julia/tree/6445c82d0060dbe82b88436f0f4371a4ee64d918/base/dft.jl#L258\" target=\"_blank\">dft.jl:258</a></li> <li> *(I::<b>UniformScaling</b>, p::<b>Base.DFT.ScaledPlan</b>) at <a href=\"https://github.com/JuliaLang/julia/tree/6445c82d0060dbe82b88436f0f4371a4ee64d918/base/dft.jl#L259\" target=\"_blank\">dft.jl:259</a></li> <li> *(p::<b>Base.DFT.ScaledPlan</b>, I::<b>UniformScaling</b>) at <a href=\"https://github.com/JuliaLang/julia/tree/6445c82d0060dbe82b88436f0f4371a4ee64d918/base/dft.jl#L260\" target=\"_blank\">dft.jl:260</a></li> <li> *(I::<b>UniformScaling</b>, p::<b>Base.DFT.Plan</b>) at <a href=\"https://github.com/JuliaLang/julia/tree/6445c82d0060dbe82b88436f0f4371a4ee64d918/base/dft.jl#L261\" target=\"_blank\">dft.jl:261</a></li> <li> *(p::<b>Base.DFT.Plan</b>, I::<b>UniformScaling</b>) at <a href=\"https://github.com/JuliaLang/julia/tree/6445c82d0060dbe82b88436f0f4371a4ee64d918/base/dft.jl#L262\" target=\"_blank\">dft.jl:262</a></li> <li> *<i>{P<:Base.Dates.Period}</i>(x::<b>P</b>, y::<b>Real</b>) at <a href=\"https://github.com/JuliaLang/julia/tree/6445c82d0060dbe82b88436f0f4371a4ee64d918/base/dates/periods.jl#L89\" target=\"_blank\">dates\\periods.jl:89</a></li> <li> *(a, b, c, xs...) at <a href=\"https://github.com/JuliaLang/julia/tree/6445c82d0060dbe82b88436f0f4371a4ee64d918/base/operators.jl#L138\" target=\"_blank\">operators.jl:138</a></li> </ul>"
      ],
      "text/plain": [
       "# 149 methods for generic function \"*\":\n",
       "*(x::Bool, z::Complex{Bool}) at complex.jl:140\n",
       "*(x::Bool, y::Bool) at bool.jl:50\n",
       "*{T<:Unsigned}(x::Bool, y::T) at bool.jl:63\n",
       "*(x::Bool, z::Complex) at complex.jl:147\n",
       "*(x::Bool, y::Irrational) at irrationals.jl:90\n",
       "*{T<:Number}(x::Bool, y::T) at bool.jl:60\n",
       "*(x::Float32, y::Float32) at float.jl:243\n",
       "*(x::Float64, y::Float64) at float.jl:244\n",
       "*(z::Complex{Bool}, x::Bool) at complex.jl:141\n",
       "*(z::Complex{Bool}, x::Real) at complex.jl:159\n",
       "*(a::Float16, b::Float16) at float16.jl:136\n",
       "*(this::Base.Grisu.Float, other::Base.Grisu.Float) at grisu/float.jl:138\n",
       "*(c::BigInt, x::BigFloat) at mpfr.jl:240\n",
       "*(a::BigInt, b::BigInt, c::BigInt, d::BigInt, e::BigInt) at gmp.jl:298\n",
       "*(a::BigInt, b::BigInt, c::BigInt, d::BigInt) at gmp.jl:291\n",
       "*(a::BigInt, b::BigInt, c::BigInt) at gmp.jl:285\n",
       "*(x::BigInt, y::BigInt) at gmp.jl:255\n",
       "*(x::BigInt, c::Union{UInt16,UInt32,UInt8}) at gmp.jl:332\n",
       "*(x::BigInt, c::Union{Int16,Int32,Int8}) at gmp.jl:338\n",
       "*(a::BigFloat, b::BigFloat, c::BigFloat, d::BigFloat, e::BigFloat) at mpfr.jl:388\n",
       "*(a::BigFloat, b::BigFloat, c::BigFloat, d::BigFloat) at mpfr.jl:381\n",
       "*(a::BigFloat, b::BigFloat, c::BigFloat) at mpfr.jl:375\n",
       "*(x::BigFloat, c::BigInt) at mpfr.jl:236\n",
       "*(x::BigFloat, y::BigFloat) at mpfr.jl:205\n",
       "*(x::BigFloat, c::Union{UInt16,UInt32,UInt8}) at mpfr.jl:212\n",
       "*(x::BigFloat, c::Union{Int16,Int32,Int8}) at mpfr.jl:220\n",
       "*(x::BigFloat, c::Union{Float16,Float32,Float64}) at mpfr.jl:228\n",
       "*(B::BitArray{2}, J::UniformScaling) at linalg\\uniformscaling.jl:132\n",
       "*(z::Complex, w::Complex) at complex.jl:127\n",
       "*{T<:Union{Int128,UInt128}}(x::T, y::T) at int.jl:426\n",
       "*{T<:Union{Int128,Int16,Int32,Int64,Int8,UInt128,UInt16,UInt32,UInt64,UInt8}}(x::T, y::T) at int.jl:33\n",
       "*(z::Complex, x::Bool) at complex.jl:148\n",
       "*(x::Real, z::Complex{Bool}) at complex.jl:158\n",
       "*(x::Real, z::Complex) at complex.jl:170\n",
       "*(z::Complex, x::Real) at complex.jl:171\n",
       "*(x::Rational, y::Rational) at rational.jl:209\n",
       "*{N}(a::Integer, index::CartesianIndex{N}) at multidimensional.jl:61\n",
       "*(c::Union{UInt16,UInt32,UInt8}, x::BigInt) at gmp.jl:336\n",
       "*(c::Union{Int16,Int32,Int8}, x::BigInt) at gmp.jl:342\n",
       "*(c::Union{UInt16,UInt32,UInt8}, x::BigFloat) at mpfr.jl:216\n",
       "*(c::Union{Int16,Int32,Int8}, x::BigFloat) at mpfr.jl:224\n",
       "*(c::Union{Float16,Float32,Float64}, x::BigFloat) at mpfr.jl:232\n",
       "*{T<:Number}(x::T, D::Diagonal) at linalg\\diagonal.jl:113\n",
       "*(x::Irrational, y::Irrational) at irrationals.jl:88\n",
       "*(y::Real, x::Base.Dates.Period) at dates\\periods.jl:90\n",
       "*(x::Number) at operators.jl:116\n",
       "*(y::Number, x::Bool) at bool.jl:65\n",
       "*{T<:Number}(x::T, y::T) at promotion.jl:256\n",
       "*(x::Number, y::Number) at promotion.jl:191\n",
       "*{T<:Union{Complex{Float32},Complex{Float64},Float32,Float64},S}(A::Union{Base.ReshapedArray{T,2,A<:DenseArray,MI<:Tuple{Vararg{Base.MultiplicativeInverses.SignedMultiplicativeInverse{Int64},N<:Any}}},DenseArray{T,2},SubArray{T,2,A<:Union{Base.ReshapedArray{T<:Any,N<:Any,A<:DenseArray,MI<:Tuple{Vararg{Base.MultiplicativeInverses.SignedMultiplicativeInverse{Int64},N<:Any}}},DenseArray},I<:Tuple{Vararg{Union{Base.AbstractCartesianIndex,Colon,Int64,Range{Int64}},N<:Any}},L<:Any}}, x::Union{Base.ReshapedArray{S,1,A<:DenseArray,MI<:Tuple{Vararg{Base.MultiplicativeInverses.SignedMultiplicativeInverse{Int64},N<:Any}}},DenseArray{S,1},SubArray{S,1,A<:Union{Base.ReshapedArray{T<:Any,N<:Any,A<:DenseArray,MI<:Tuple{Vararg{Base.MultiplicativeInverses.SignedMultiplicativeInverse{Int64},N<:Any}}},DenseArray},I<:Tuple{Vararg{Union{Base.AbstractCartesianIndex,Colon,Int64,Range{Int64}},N<:Any}},L<:Any}}) at linalg\\matmul.jl:79\n",
       "*(A::SymTridiagonal, B::Number) at linalg\\tridiag.jl:98\n",
       "*(A::Tridiagonal, B::Number) at linalg\\tridiag.jl:496\n",
       "*(A::UpperTriangular, x::Number) at linalg\\triangular.jl:477\n",
       "*(A::Base.LinAlg.UnitUpperTriangular, x::Number) at linalg\\triangular.jl:480\n",
       "*(A::LowerTriangular, x::Number) at linalg\\triangular.jl:477\n",
       "*(A::Base.LinAlg.UnitLowerTriangular, x::Number) at linalg\\triangular.jl:480\n",
       "*(A::Tridiagonal, B::UpperTriangular) at linalg\\triangular.jl:1324\n",
       "*(A::Tridiagonal, B::Base.LinAlg.UnitUpperTriangular) at linalg\\triangular.jl:1324\n",
       "*(A::Tridiagonal, B::LowerTriangular) at linalg\\triangular.jl:1324\n",
       "*(A::Tridiagonal, B::Base.LinAlg.UnitLowerTriangular) at linalg\\triangular.jl:1324\n",
       "*(A::LowerTriangular, B::LowerTriangular) at linalg\\triangular.jl:1331\n",
       "*(A::Base.LinAlg.UnitLowerTriangular, B::LowerTriangular) at linalg\\triangular.jl:1339\n",
       "*(A::UpperTriangular, B::UpperTriangular) at linalg\\triangular.jl:1347\n",
       "*(A::Base.LinAlg.UnitUpperTriangular, B::UpperTriangular) at linalg\\triangular.jl:1355\n",
       "*(A::Base.LinAlg.AbstractTriangular, B::Base.LinAlg.AbstractTriangular) at linalg\\triangular.jl:1472\n",
       "*(A::Base.LinAlg.AbstractTriangular, D::Diagonal) at linalg\\diagonal.jl:119\n",
       "*(A::Base.LinAlg.AbstractTriangular, B::Union{Bidiagonal,SymTridiagonal,Tridiagonal}) at linalg\\bidiag.jl:415\n",
       "*(A::Base.LinAlg.AbstractTriangular, B::AbstractArray{T<:Any,1}) at linalg\\triangular.jl:1496\n",
       "*(A::Base.LinAlg.AbstractTriangular, B::AbstractArray{T<:Any,2}) at linalg\\triangular.jl:1496\n",
       "*(A::Union{Base.LinAlg.QRCompactWYQ,Base.LinAlg.QRPackedQ}, b::Union{Base.ReshapedArray{T<:Any,1,A<:DenseArray,MI<:Tuple{Vararg{Base.MultiplicativeInverses.SignedMultiplicativeInverse{Int64},N<:Any}}},DenseArray{T<:Any,1},SubArray{T<:Any,1,A<:Union{Base.ReshapedArray{T<:Any,N<:Any,A<:DenseArray,MI<:Tuple{Vararg{Base.MultiplicativeInverses.SignedMultiplicativeInverse{Int64},N<:Any}}},DenseArray},I<:Tuple{Vararg{Union{Base.AbstractCartesianIndex,Colon,Int64,Range{Int64}},N<:Any}},L<:Any}}) at linalg\\qr.jl:372\n",
       "*(A::Union{Base.LinAlg.QRCompactWYQ,Base.LinAlg.QRPackedQ}, B::Union{Base.ReshapedArray{T<:Any,2,A<:DenseArray,MI<:Tuple{Vararg{Base.MultiplicativeInverses.SignedMultiplicativeInverse{Int64},N<:Any}}},DenseArray{T<:Any,2},SubArray{T<:Any,2,A<:Union{Base.ReshapedArray{T<:Any,N<:Any,A<:DenseArray,MI<:Tuple{Vararg{Base.MultiplicativeInverses.SignedMultiplicativeInverse{Int64},N<:Any}}},DenseArray},I<:Tuple{Vararg{Union{Base.AbstractCartesianIndex,Colon,Int64,Range{Int64}},N<:Any}},L<:Any}}) at linalg\\qr.jl:384\n",
       "*(A::Union{Base.ReshapedArray{T<:Any,2,A<:DenseArray,MI<:Tuple{Vararg{Base.MultiplicativeInverses.SignedMultiplicativeInverse{Int64},N<:Any}}},DenseArray{T<:Any,2},SubArray{T<:Any,2,A<:Union{Base.ReshapedArray{T<:Any,N<:Any,A<:DenseArray,MI<:Tuple{Vararg{Base.MultiplicativeInverses.SignedMultiplicativeInverse{Int64},N<:Any}}},DenseArray},I<:Tuple{Vararg{Union{Base.AbstractCartesianIndex,Colon,Int64,Range{Int64}},N<:Any}},L<:Any}}, Q::Union{Base.LinAlg.QRCompactWYQ,Base.LinAlg.QRPackedQ}) at linalg\\qr.jl:472\n",
       "*{T,S}(Q::Base.LinAlg.HessenbergQ{T,S<:AbstractArray{T<:Any,2}}, X::Union{Base.ReshapedArray{S,1,A<:DenseArray,MI<:Tuple{Vararg{Base.MultiplicativeInverses.SignedMultiplicativeInverse{Int64},N<:Any}}},Base.ReshapedArray{S,2,A<:DenseArray,MI<:Tuple{Vararg{Base.MultiplicativeInverses.SignedMultiplicativeInverse{Int64},N<:Any}}},DenseArray{S,1},DenseArray{S,2},SubArray{S,1,A<:Union{Base.ReshapedArray{T<:Any,N<:Any,A<:DenseArray,MI<:Tuple{Vararg{Base.MultiplicativeInverses.SignedMultiplicativeInverse{Int64},N<:Any}}},DenseArray},I<:Tuple{Vararg{Union{Base.AbstractCartesianIndex,Colon,Int64,Range{Int64}},N<:Any}},L<:Any},SubArray{S,2,A<:Union{Base.ReshapedArray{T<:Any,N<:Any,A<:DenseArray,MI<:Tuple{Vararg{Base.MultiplicativeInverses.SignedMultiplicativeInverse{Int64},N<:Any}}},DenseArray},I<:Tuple{Vararg{Union{Base.AbstractCartesianIndex,Colon,Int64,Range{Int64}},N<:Any}},L<:Any}}) at linalg\\hessenberg.jl:76\n",
       "*{T,S}(X::Union{Base.ReshapedArray{S,1,A<:DenseArray,MI<:Tuple{Vararg{Base.MultiplicativeInverses.SignedMultiplicativeInverse{Int64},N<:Any}}},Base.ReshapedArray{S,2,A<:DenseArray,MI<:Tuple{Vararg{Base.MultiplicativeInverses.SignedMultiplicativeInverse{Int64},N<:Any}}},DenseArray{S,1},DenseArray{S,2},SubArray{S,1,A<:Union{Base.ReshapedArray{T<:Any,N<:Any,A<:DenseArray,MI<:Tuple{Vararg{Base.MultiplicativeInverses.SignedMultiplicativeInverse{Int64},N<:Any}}},DenseArray},I<:Tuple{Vararg{Union{Base.AbstractCartesianIndex,Colon,Int64,Range{Int64}},N<:Any}},L<:Any},SubArray{S,2,A<:Union{Base.ReshapedArray{T<:Any,N<:Any,A<:DenseArray,MI<:Tuple{Vararg{Base.MultiplicativeInverses.SignedMultiplicativeInverse{Int64},N<:Any}}},DenseArray},I<:Tuple{Vararg{Union{Base.AbstractCartesianIndex,Colon,Int64,Range{Int64}},N<:Any}},L<:Any}}, Q::Base.LinAlg.HessenbergQ{T,S<:AbstractArray{T<:Any,2}}) at linalg\\hessenberg.jl:80\n",
       "*(A::Base.LinAlg.LQPackedQ, B::Union{Base.ReshapedArray{T<:Any,1,A<:DenseArray,MI<:Tuple{Vararg{Base.MultiplicativeInverses.SignedMultiplicativeInverse{Int64},N<:Any}}},Base.ReshapedArray{T<:Any,2,A<:DenseArray,MI<:Tuple{Vararg{Base.MultiplicativeInverses.SignedMultiplicativeInverse{Int64},N<:Any}}},DenseArray{T<:Any,1},DenseArray{T<:Any,2},SubArray{T<:Any,1,A<:Union{Base.ReshapedArray{T<:Any,N<:Any,A<:DenseArray,MI<:Tuple{Vararg{Base.MultiplicativeInverses.SignedMultiplicativeInverse{Int64},N<:Any}}},DenseArray},I<:Tuple{Vararg{Union{Base.AbstractCartesianIndex,Colon,Int64,Range{Int64}},N<:Any}},L<:Any},SubArray{T<:Any,2,A<:Union{Base.ReshapedArray{T<:Any,N<:Any,A<:DenseArray,MI<:Tuple{Vararg{Base.MultiplicativeInverses.SignedMultiplicativeInverse{Int64},N<:Any}}},DenseArray},I<:Tuple{Vararg{Union{Base.AbstractCartesianIndex,Colon,Int64,Range{Int64}},N<:Any}},L<:Any}}) at linalg\\lq.jl:134\n",
       "*{TA,TB}(A::Union{Base.ReshapedArray{TA,2,A<:DenseArray,MI<:Tuple{Vararg{Base.MultiplicativeInverses.SignedMultiplicativeInverse{Int64},N<:Any}}},DenseArray{TA,2},SubArray{TA,2,A<:Union{Base.ReshapedArray{T<:Any,N<:Any,A<:DenseArray,MI<:Tuple{Vararg{Base.MultiplicativeInverses.SignedMultiplicativeInverse{Int64},N<:Any}}},DenseArray},I<:Tuple{Vararg{Union{Base.AbstractCartesianIndex,Colon,Int64,Range{Int64}},N<:Any}},L<:Any}}, B::Base.LinAlg.LQPackedQ{TB,S<:AbstractArray{T<:Any,2}}) at linalg\\lq.jl:168\n",
       "*(A::Union{Hermitian{T<:Any,S<:Any},Symmetric{T<:Any,S<:Any}}, B::Union{Hermitian{T<:Any,S<:Any},Symmetric{T<:Any,S<:Any}}) at linalg\\symmetric.jl:180\n",
       "*(A::Union{Base.ReshapedArray{T<:Any,2,A<:DenseArray,MI<:Tuple{Vararg{Base.MultiplicativeInverses.SignedMultiplicativeInverse{Int64},N<:Any}}},DenseArray{T<:Any,2},SubArray{T<:Any,2,A<:Union{Base.ReshapedArray{T<:Any,N<:Any,A<:DenseArray,MI<:Tuple{Vararg{Base.MultiplicativeInverses.SignedMultiplicativeInverse{Int64},N<:Any}}},DenseArray},I<:Tuple{Vararg{Union{Base.AbstractCartesianIndex,Colon,Int64,Range{Int64}},N<:Any}},L<:Any}}, B::Union{Hermitian{T<:Any,S<:Any},Symmetric{T<:Any,S<:Any}}) at linalg\\symmetric.jl:181\n",
       "*{T<:Number}(D::Diagonal, x::T) at linalg\\diagonal.jl:114\n",
       "*(Da::Diagonal, Db::Diagonal) at linalg\\diagonal.jl:116\n",
       "*(D::Diagonal, B::Base.LinAlg.AbstractTriangular) at linalg\\diagonal.jl:120\n",
       "*(D::Diagonal, A::SparseMatrixCSC) at sparse\\linalg.jl:114\n",
       "*(D::Diagonal, V::AbstractArray{T<:Any,1}) at linalg\\diagonal.jl:117\n",
       "*(D::Diagonal, A::AbstractArray{T<:Any,2}) at linalg\\diagonal.jl:124\n",
       "*(A::Bidiagonal, B::Number) at linalg\\bidiag.jl:272\n",
       "*(A::Union{Bidiagonal,SymTridiagonal,Tridiagonal}, B::Union{Bidiagonal,SymTridiagonal,Tridiagonal}) at linalg\\bidiag.jl:416\n",
       "*{T}(A::Bidiagonal{T}, B::AbstractArray{T,1}) at linalg\\bidiag.jl:420\n",
       "*{TX,TvA,TiA}(X::Union{Base.ReshapedArray{TX,2,A<:DenseArray,MI<:Tuple{Vararg{Base.MultiplicativeInverses.SignedMultiplicativeInverse{Int64},N<:Any}}},DenseArray{TX,2},SubArray{TX,2,A<:Union{Base.ReshapedArray{T<:Any,N<:Any,A<:DenseArray,MI<:Tuple{Vararg{Base.MultiplicativeInverses.SignedMultiplicativeInverse{Int64},N<:Any}}},DenseArray},I<:Tuple{Vararg{Union{Base.AbstractCartesianIndex,Colon,Int64,Range{Int64}},N<:Any}},L<:Any}}, A::SparseMatrixCSC{TvA,TiA}) at sparse\\linalg.jl:102\n",
       "*{Ta,Tx}(A::Union{Base.ReshapedArray{Ta,2,A<:DenseArray,MI<:Tuple{Vararg{Base.MultiplicativeInverses.SignedMultiplicativeInverse{Int64},N<:Any}}},DenseArray{Ta,2},SubArray{Ta,2,A<:Union{Base.ReshapedArray{T<:Any,N<:Any,A<:DenseArray,MI<:Tuple{Vararg{Base.MultiplicativeInverses.SignedMultiplicativeInverse{Int64},N<:Any}}},DenseArray},I<:Tuple{Vararg{Union{Base.AbstractCartesianIndex,Colon,Int64,Range{Int64}},N<:Any}},L<:Any}}, x::AbstractSparseArray{Tx,Ti<:Any,1}) at sparse\\sparsevector.jl:1360\n",
       "*(A::SparseMatrixCSC, x::AbstractSparseArray{Tv<:Any,Ti<:Any,1}) at sparse\\sparsevector.jl:1538\n",
       "*{Tv,Ti}(A::SparseMatrixCSC{Tv,Ti}, B::SparseMatrixCSC{Tv,Ti}) at sparse\\linalg.jl:125\n",
       "*{TvA,TiA,TvB,TiB}(A::SparseMatrixCSC{TvA,TiA}, B::SparseMatrixCSC{TvB,TiB}) at sparse\\linalg.jl:24\n",
       "*(A::SparseMatrixCSC, D::Diagonal) at sparse\\linalg.jl:118\n",
       "*(A::Base.SparseArrays.CHOLMOD.Sparse, B::Base.SparseArrays.CHOLMOD.Sparse) at sparse\\cholmod.jl:1206\n",
       "*(A::Base.SparseArrays.CHOLMOD.Sparse, B::Base.SparseArrays.CHOLMOD.Dense) at sparse\\cholmod.jl:1207\n",
       "*(A::Base.SparseArrays.CHOLMOD.Sparse, B::Union{Array{T<:Any,1},Array{T<:Any,2}}) at sparse\\cholmod.jl:1208\n",
       "*{Ti}(A::Symmetric{Float64,SparseMatrixCSC{Float64,Ti}}, B::Union{SparseMatrixCSC{Float64,Ti},SparseVector{Float64,Ti}}) at sparse\\cholmod.jl:1621\n",
       "*{Ti}(A::Hermitian{Complex{Float64},SparseMatrixCSC{Complex{Float64},Ti}}, B::Union{SparseMatrixCSC{Complex{Float64},Ti},SparseVector{Complex{Float64},Ti}}) at sparse\\cholmod.jl:1622\n",
       "*{Ti}(A::Hermitian{Float64,SparseMatrixCSC{Float64,Ti}}, B::Union{SparseMatrixCSC{Float64,Ti},SparseVector{Float64,Ti}}) at sparse\\cholmod.jl:1623\n",
       "*{T<:Number}(x::AbstractArray{T,2}) at abstractarraymath.jl:92\n",
       "*(B::Number, A::SymTridiagonal) at linalg\\tridiag.jl:99\n",
       "*(B::Number, A::Tridiagonal) at linalg\\tridiag.jl:497\n",
       "*(x::Number, A::UpperTriangular) at linalg\\triangular.jl:487\n",
       "*(x::Number, A::Base.LinAlg.UnitUpperTriangular) at linalg\\triangular.jl:490\n",
       "*(x::Number, A::LowerTriangular) at linalg\\triangular.jl:487\n",
       "*(x::Number, A::Base.LinAlg.UnitLowerTriangular) at linalg\\triangular.jl:490\n",
       "*(B::Number, A::Bidiagonal) at linalg\\bidiag.jl:273\n",
       "*(A::Number, B::AbstractArray) at abstractarraymath.jl:96\n",
       "*(A::AbstractArray, B::Number) at abstractarraymath.jl:97\n",
       "*(s1::AbstractString, ss::AbstractString...) at strings/basic.jl:84\n",
       "*(index::CartesianIndex, a::Integer) at multidimensional.jl:62\n",
       "*(A::AbstractArray{T<:Any,2}, B::Base.LinAlg.AbstractTriangular) at linalg\\triangular.jl:1529\n",
       "*(A::AbstractArray{T<:Any,2}, D::Diagonal) at linalg\\diagonal.jl:122\n",
       "*{T,S}(A::AbstractArray{T,2}, x::AbstractArray{S,1}) at linalg\\matmul.jl:83\n",
       "*(A::AbstractArray{T<:Any,1}, B::Base.LinAlg.AbstractTriangular) at linalg\\triangular.jl:1529\n",
       "*(A::AbstractArray{T<:Any,1}, B::AbstractArray{T<:Any,2}) at linalg\\matmul.jl:86\n",
       "*{T,S}(A::AbstractArray{T,2}, B::AbstractArray{S,2}) at linalg\\matmul.jl:128\n",
       "*{TA,TB}(A::Base.LinAlg.LQ{TA,S<:AbstractArray{T<:Any,2}}, B::Union{Base.ReshapedArray{TB,1,A<:DenseArray,MI<:Tuple{Vararg{Base.MultiplicativeInverses.SignedMultiplicativeInverse{Int64},N<:Any}}},Base.ReshapedArray{TB,2,A<:DenseArray,MI<:Tuple{Vararg{Base.MultiplicativeInverses.SignedMultiplicativeInverse{Int64},N<:Any}}},DenseArray{TB,1},DenseArray{TB,2},SubArray{TB,1,A<:Union{Base.ReshapedArray{T<:Any,N<:Any,A<:DenseArray,MI<:Tuple{Vararg{Base.MultiplicativeInverses.SignedMultiplicativeInverse{Int64},N<:Any}}},DenseArray},I<:Tuple{Vararg{Union{Base.AbstractCartesianIndex,Colon,Int64,Range{Int64}},N<:Any}},L<:Any},SubArray{TB,2,A<:Union{Base.ReshapedArray{T<:Any,N<:Any,A<:DenseArray,MI<:Tuple{Vararg{Base.MultiplicativeInverses.SignedMultiplicativeInverse{Int64},N<:Any}}},DenseArray},I<:Tuple{Vararg{Union{Base.AbstractCartesianIndex,Colon,Int64,Range{Int64}},N<:Any}},L<:Any}}) at linalg\\lq.jl:118\n",
       "*{TA,TB}(A::Base.LinAlg.LQ{TA,S<:AbstractArray{T<:Any,2}}, B::Base.LinAlg.QR{TB,S<:AbstractArray{T<:Any,2}}) at linalg\\lq.jl:122\n",
       "*{TA,TB}(A::Base.LinAlg.QR{TA,S<:AbstractArray{T<:Any,2}}, B::Base.LinAlg.LQ{TB,S<:AbstractArray{T<:Any,2}}) at linalg\\lq.jl:126\n",
       "*(J1::UniformScaling, J2::UniformScaling) at linalg\\uniformscaling.jl:131\n",
       "*(J::UniformScaling, B::BitArray{2}) at linalg\\uniformscaling.jl:133\n",
       "*(A::AbstractArray{T<:Any,2}, J::UniformScaling) at linalg\\uniformscaling.jl:134\n",
       "*(J::UniformScaling, A::Union{AbstractArray{T<:Any,1},AbstractArray{T<:Any,2}}) at linalg\\uniformscaling.jl:135\n",
       "*(x::Number, J::UniformScaling) at linalg\\uniformscaling.jl:136\n",
       "*(J::UniformScaling, x::Number) at linalg\\uniformscaling.jl:137\n",
       "*{T,S}(R::Base.LinAlg.AbstractRotation{T}, A::Union{AbstractArray{S,1},AbstractArray{S,2}}) at linalg\\givens.jl:9\n",
       "*{T}(G1::Base.LinAlg.Givens{T}, G2::Base.LinAlg.Givens{T}) at linalg\\givens.jl:362\n",
       "*(p::Base.DFT.ScaledPlan, x::AbstractArray) at dft.jl:255\n",
       "*{T,K,N}(p::Base.DFT.FFTW.cFFTWPlan{T,K,false,N<:Any}, x::Union{Base.ReshapedArray{T,N,A<:DenseArray,MI<:Tuple{Vararg{Base.MultiplicativeInverses.SignedMultiplicativeInverse{Int64},N<:Any}}},DenseArray{T,N},SubArray{T,N,A<:Union{Base.ReshapedArray{T<:Any,N<:Any,A<:DenseArray,MI<:Tuple{Vararg{Base.MultiplicativeInverses.SignedMultiplicativeInverse{Int64},N<:Any}}},DenseArray},I<:Tuple{Vararg{Union{Base.AbstractCartesianIndex,Colon,Int64,Range{Int64}},N<:Any}},L<:Any}}) at fft/FFTW.jl:616\n",
       "*{T,K}(p::Base.DFT.FFTW.cFFTWPlan{T,K,true,N<:Any}, x::Union{Base.ReshapedArray{T,N<:Any,A<:DenseArray,MI<:Tuple{Vararg{Base.MultiplicativeInverses.SignedMultiplicativeInverse{Int64},N<:Any}}},DenseArray{T,N<:Any},SubArray{T,N<:Any,A<:Union{Base.ReshapedArray{T<:Any,N<:Any,A<:DenseArray,MI<:Tuple{Vararg{Base.MultiplicativeInverses.SignedMultiplicativeInverse{Int64},N<:Any}}},DenseArray},I<:Tuple{Vararg{Union{Base.AbstractCartesianIndex,Colon,Int64,Range{Int64}},N<:Any}},L<:Any}}) at fft/FFTW.jl:623\n",
       "*{N}(p::Base.DFT.FFTW.rFFTWPlan{Float32,-1,false,N<:Any}, x::Union{Base.ReshapedArray{Float32,N,A<:DenseArray,MI<:Tuple{Vararg{Base.MultiplicativeInverses.SignedMultiplicativeInverse{Int64},N<:Any}}},DenseArray{Float32,N},SubArray{Float32,N,A<:Union{Base.ReshapedArray{T<:Any,N<:Any,A<:DenseArray,MI<:Tuple{Vararg{Base.MultiplicativeInverses.SignedMultiplicativeInverse{Int64},N<:Any}}},DenseArray},I<:Tuple{Vararg{Union{Base.AbstractCartesianIndex,Colon,Int64,Range{Int64}},N<:Any}},L<:Any}}) at fft/FFTW.jl:693\n",
       "*{N}(p::Base.DFT.FFTW.rFFTWPlan{Complex{Float32},1,false,N<:Any}, x::Union{Base.ReshapedArray{Complex{Float32},N,A<:DenseArray,MI<:Tuple{Vararg{Base.MultiplicativeInverses.SignedMultiplicativeInverse{Int64},N<:Any}}},DenseArray{Complex{Float32},N},SubArray{Complex{Float32},N,A<:Union{Base.ReshapedArray{T<:Any,N<:Any,A<:DenseArray,MI<:Tuple{Vararg{Base.MultiplicativeInverses.SignedMultiplicativeInverse{Int64},N<:Any}}},DenseArray},I<:Tuple{Vararg{Union{Base.AbstractCartesianIndex,Colon,Int64,Range{Int64}},N<:Any}},L<:Any}}) at fft/FFTW.jl:700\n",
       "*{N}(p::Base.DFT.FFTW.rFFTWPlan{Float64,-1,false,N<:Any}, x::Union{Base.ReshapedArray{Float64,N,A<:DenseArray,MI<:Tuple{Vararg{Base.MultiplicativeInverses.SignedMultiplicativeInverse{Int64},N<:Any}}},DenseArray{Float64,N},SubArray{Float64,N,A<:Union{Base.ReshapedArray{T<:Any,N<:Any,A<:DenseArray,MI<:Tuple{Vararg{Base.MultiplicativeInverses.SignedMultiplicativeInverse{Int64},N<:Any}}},DenseArray},I<:Tuple{Vararg{Union{Base.AbstractCartesianIndex,Colon,Int64,Range{Int64}},N<:Any}},L<:Any}}) at fft/FFTW.jl:693\n",
       "*{N}(p::Base.DFT.FFTW.rFFTWPlan{Complex{Float64},1,false,N<:Any}, x::Union{Base.ReshapedArray{Complex{Float64},N,A<:DenseArray,MI<:Tuple{Vararg{Base.MultiplicativeInverses.SignedMultiplicativeInverse{Int64},N<:Any}}},DenseArray{Complex{Float64},N},SubArray{Complex{Float64},N,A<:Union{Base.ReshapedArray{T<:Any,N<:Any,A<:DenseArray,MI<:Tuple{Vararg{Base.MultiplicativeInverses.SignedMultiplicativeInverse{Int64},N<:Any}}},DenseArray},I<:Tuple{Vararg{Union{Base.AbstractCartesianIndex,Colon,Int64,Range{Int64}},N<:Any}},L<:Any}}) at fft/FFTW.jl:700\n",
       "*{T,K,N}(p::Base.DFT.FFTW.r2rFFTWPlan{T,K,false,N<:Any}, x::Union{Base.ReshapedArray{T,N,A<:DenseArray,MI<:Tuple{Vararg{Base.MultiplicativeInverses.SignedMultiplicativeInverse{Int64},N<:Any}}},DenseArray{T,N},SubArray{T,N,A<:Union{Base.ReshapedArray{T<:Any,N<:Any,A<:DenseArray,MI<:Tuple{Vararg{Base.MultiplicativeInverses.SignedMultiplicativeInverse{Int64},N<:Any}}},DenseArray},I<:Tuple{Vararg{Union{Base.AbstractCartesianIndex,Colon,Int64,Range{Int64}},N<:Any}},L<:Any}}) at fft/FFTW.jl:848\n",
       "*{T,K}(p::Base.DFT.FFTW.r2rFFTWPlan{T,K,true,N<:Any}, x::Union{Base.ReshapedArray{T,N<:Any,A<:DenseArray,MI<:Tuple{Vararg{Base.MultiplicativeInverses.SignedMultiplicativeInverse{Int64},N<:Any}}},DenseArray{T,N<:Any},SubArray{T,N<:Any,A<:Union{Base.ReshapedArray{T<:Any,N<:Any,A<:DenseArray,MI<:Tuple{Vararg{Base.MultiplicativeInverses.SignedMultiplicativeInverse{Int64},N<:Any}}},DenseArray},I<:Tuple{Vararg{Union{Base.AbstractCartesianIndex,Colon,Int64,Range{Int64}},N<:Any}},L<:Any}}) at fft/FFTW.jl:855\n",
       "*{T}(p::Base.DFT.FFTW.DCTPlan{T,5,false}, x::Union{Base.ReshapedArray{T,N<:Any,A<:DenseArray,MI<:Tuple{Vararg{Base.MultiplicativeInverses.SignedMultiplicativeInverse{Int64},N<:Any}}},DenseArray{T,N<:Any},SubArray{T,N<:Any,A<:Union{Base.ReshapedArray{T<:Any,N<:Any,A<:DenseArray,MI<:Tuple{Vararg{Base.MultiplicativeInverses.SignedMultiplicativeInverse{Int64},N<:Any}}},DenseArray},I<:Tuple{Vararg{Union{Base.AbstractCartesianIndex,Colon,Int64,Range{Int64}},N<:Any}},L<:Any}}) at fft\\dct.jl:170\n",
       "*{T}(p::Base.DFT.FFTW.DCTPlan{T,4,false}, x::Union{Base.ReshapedArray{T,N<:Any,A<:DenseArray,MI<:Tuple{Vararg{Base.MultiplicativeInverses.SignedMultiplicativeInverse{Int64},N<:Any}}},DenseArray{T,N<:Any},SubArray{T,N<:Any,A<:Union{Base.ReshapedArray{T<:Any,N<:Any,A<:DenseArray,MI<:Tuple{Vararg{Base.MultiplicativeInverses.SignedMultiplicativeInverse{Int64},N<:Any}}},DenseArray},I<:Tuple{Vararg{Union{Base.AbstractCartesianIndex,Colon,Int64,Range{Int64}},N<:Any}},L<:Any}}) at fft\\dct.jl:173\n",
       "*{T,K}(p::Base.DFT.FFTW.DCTPlan{T,K,true}, x::Union{Base.ReshapedArray{T,N<:Any,A<:DenseArray,MI<:Tuple{Vararg{Base.MultiplicativeInverses.SignedMultiplicativeInverse{Int64},N<:Any}}},DenseArray{T,N<:Any},SubArray{T,N<:Any,A<:Union{Base.ReshapedArray{T<:Any,N<:Any,A<:DenseArray,MI<:Tuple{Vararg{Base.MultiplicativeInverses.SignedMultiplicativeInverse{Int64},N<:Any}}},DenseArray},I<:Tuple{Vararg{Union{Base.AbstractCartesianIndex,Colon,Int64,Range{Int64}},N<:Any}},L<:Any}}) at fft\\dct.jl:176\n",
       "*{T}(p::Base.DFT.Plan{T}, x::AbstractArray) at dft.jl:214\n",
       "*(α::Number, p::Base.DFT.Plan) at dft.jl:257\n",
       "*(p::Base.DFT.Plan, α::Number) at dft.jl:258\n",
       "*(I::UniformScaling, p::Base.DFT.ScaledPlan) at dft.jl:259\n",
       "*(p::Base.DFT.ScaledPlan, I::UniformScaling) at dft.jl:260\n",
       "*(I::UniformScaling, p::Base.DFT.Plan) at dft.jl:261\n",
       "*(p::Base.DFT.Plan, I::UniformScaling) at dft.jl:262\n",
       "*{P<:Base.Dates.Period}(x::P, y::Real) at dates\\periods.jl:89\n",
       "*(a, b, c, xs...) at operators.jl:138"
      ]
     },
     "execution_count": 34,
     "metadata": {},
     "output_type": "execute_result"
    }
   ],
   "source": [
    "methods(*)"
   ]
  },
  {
   "cell_type": "markdown",
   "metadata": {},
   "source": [
    "We can multiply various types of numbers and matrices. Notice, however, that there is no multiplication specifically defined for `Tridiagonal` matrices. This would not make much sense, since the product of two tridiagonal matrices is a pentadiagonal matrix, the product of three tridiagonal matrices is septadiagonal matrix, ...\n",
    "\n",
    "Therefore, two tridiagonal matrices are first converted to full matrices, and then multiplied, as is seen in the source code."
   ]
  },
  {
   "cell_type": "code",
   "execution_count": 35,
   "metadata": {
    "collapsed": false
   },
   "outputs": [
    {
     "data": {
      "text/plain": [
       "7×7 Array{Float64,2}:\n",
       " 0.428686  -0.506479  -0.199299   0.0       0.0        0.0         0.0     \n",
       " 1.88741    0.458598  -2.25744   -4.05147   0.0        0.0         0.0     \n",
       " 0.990828   0.559585   3.24674   -2.56594  -1.9029     0.0         0.0     \n",
       " 0.0        0.176512   2.91661   -2.8147   -0.421161  -5.06823     0.0     \n",
       " 0.0        0.0        3.87127   -0.38771  -0.435464  -2.65385    -0.268587\n",
       " 0.0        0.0        0.0       -1.8612    5.21533   -4.58571    -2.21123 \n",
       " 0.0        0.0        0.0        0.0       4.75168    0.0225352  -2.00784 "
      ]
     },
     "execution_count": 35,
     "metadata": {},
     "output_type": "execute_result"
    }
   ],
   "source": [
    "T1*T2"
   ]
  },
  {
   "cell_type": "code",
   "execution_count": 36,
   "metadata": {
    "collapsed": false
   },
   "outputs": [
    {
     "data": {
      "text/html": [
       "*(A::<b>Union{Bidiagonal,SymTridiagonal,Tridiagonal}</b>, B::<b>Union{Bidiagonal,SymTridiagonal,Tridiagonal}</b>) at <a href=\"https://github.com/JuliaLang/julia/tree/6445c82d0060dbe82b88436f0f4371a4ee64d918/base/linalg/bidiag.jl#L416\" target=\"_blank\">linalg\\bidiag.jl:416</a>"
      ],
      "text/plain": [
       "*(A::Union{Bidiagonal,SymTridiagonal,Tridiagonal}, B::Union{Bidiagonal,SymTridiagonal,Tridiagonal}) at linalg\\bidiag.jl:416"
      ]
     },
     "execution_count": 36,
     "metadata": {},
     "output_type": "execute_result"
    }
   ],
   "source": [
    "@which T1*T2"
   ]
  },
  {
   "cell_type": "code",
   "execution_count": 37,
   "metadata": {
    "collapsed": false
   },
   "outputs": [
    {
     "data": {
      "text/plain": [
       "7×7 Array{Float64,2}:\n",
       " 0.0813826  -0.205858  -0.466667  -0.189622    0.0       0.0        0.0     \n",
       " 0.483705   -0.183332  -1.8176    -4.67528    -3.4223    0.0        0.0     \n",
       " 0.268801    0.900166   1.95591    0.0150613  -3.02624  -0.255546   0.0     \n",
       " 0.0082328   0.643395   1.44682    0.693012   -5.71199  -4.72774   -2.08418 \n",
       " 0.0         0.767153   2.35321    3.10429    -2.17047  -2.75967   -1.1235  \n",
       " 0.0         0.0       -0.328524   2.87692    -2.06345  -5.62749   -2.15063 \n",
       " 0.0         0.0        0.0        3.67901     2.15842  -1.24923   -0.231239"
      ]
     },
     "execution_count": 37,
     "metadata": {},
     "output_type": "execute_result"
    }
   ],
   "source": [
    "T1*T2*T1"
   ]
  },
  {
   "cell_type": "markdown",
   "metadata": {},
   "source": [
    "### The \"$\\cdot$\" operator"
   ]
  },
  {
   "cell_type": "code",
   "execution_count": 38,
   "metadata": {
    "collapsed": false
   },
   "outputs": [
    {
     "data": {
      "text/html": [
       "11 methods for generic function <b>dot</b>:<ul><li> dot(x::<b>BitArray{1}</b>, y::<b>BitArray{1}</b>) at <a href=\"https://github.com/JuliaLang/julia/tree/6445c82d0060dbe82b88436f0f4371a4ee64d918/base/linalg/bitarray.jl#L5\" target=\"_blank\">linalg\\bitarray.jl:5</a></li> <li> dot(x::<b>Number</b>, y::<b>Number</b>) at <a href=\"https://github.com/JuliaLang/julia/tree/6445c82d0060dbe82b88436f0f4371a4ee64d918/base/linalg/generic.jl#L301\" target=\"_blank\">linalg\\generic.jl:301</a></li> <li> dot<i>{T<:Union{Float32,Float64}}</i>(DX::<b>Union{Base.ReshapedArray{T,1,A<:DenseArray,MI<:Tuple{Vararg{Base.MultiplicativeInverses.SignedMultiplicativeInverse{Int64},N<:Any}}},DenseArray{T,1},DenseArray{T,N<:Any},SubArray{T,1,A<:Union{Base.ReshapedArray{T<:Any,N<:Any,A<:DenseArray,MI<:Tuple{Vararg{Base.MultiplicativeInverses.SignedMultiplicativeInverse{Int64},N<:Any}}},DenseArray},I<:Tuple{Vararg{Union{Base.AbstractCartesianIndex,Colon,Int64,Range{Int64}},N<:Any}},L<:Any}}</b>, DY::<b>Union{Base.ReshapedArray{T,1,A<:DenseArray,MI<:Tuple{Vararg{Base.MultiplicativeInverses.SignedMultiplicativeInverse{Int64},N<:Any}}},DenseArray{T,1},DenseArray{T,N<:Any},SubArray{T,1,A<:Union{Base.ReshapedArray{T<:Any,N<:Any,A<:DenseArray,MI<:Tuple{Vararg{Base.MultiplicativeInverses.SignedMultiplicativeInverse{Int64},N<:Any}}},DenseArray},I<:Tuple{Vararg{Union{Base.AbstractCartesianIndex,Colon,Int64,Range{Int64}},N<:Any}},L<:Any}}</b>) at <a href=\"https://github.com/JuliaLang/julia/tree/6445c82d0060dbe82b88436f0f4371a4ee64d918/base/linalg/blas.jl#L290\" target=\"_blank\">linalg\\blas.jl:290</a></li> <li> dot<i>{T<:Union{Float32,Float64},TI<:Integer}</i>(x::<b>Array{T,1}</b>, rx::<b>Union{Range{TI},UnitRange{TI}}</b>, y::<b>Array{T,1}</b>, ry::<b>Union{Range{TI},UnitRange{TI}}</b>) at <a href=\"https://github.com/JuliaLang/julia/tree/6445c82d0060dbe82b88436f0f4371a4ee64d918/base/linalg/matmul.jl#L48\" target=\"_blank\">linalg\\matmul.jl:48</a></li> <li> dot<i>{T<:Union{Complex{Float32},Complex{Float64}},TI<:Integer}</i>(x::<b>Array{T,1}</b>, rx::<b>Union{Range{TI},UnitRange{TI}}</b>, y::<b>Array{T,1}</b>, ry::<b>Union{Range{TI},UnitRange{TI}}</b>) at <a href=\"https://github.com/JuliaLang/julia/tree/6445c82d0060dbe82b88436f0f4371a4ee64d918/base/linalg/matmul.jl#L61\" target=\"_blank\">linalg\\matmul.jl:61</a></li> <li> dot<i>{Tx<:Number,Ty<:Number}</i>(x::<b>Union{Base.ReshapedArray{Tx,1,A<:DenseArray,MI<:Tuple{Vararg{Base.MultiplicativeInverses.SignedMultiplicativeInverse{Int64},N<:Any}}},DenseArray{Tx,1},SubArray{Tx,1,A<:Union{Base.ReshapedArray{T<:Any,N<:Any,A<:DenseArray,MI<:Tuple{Vararg{Base.MultiplicativeInverses.SignedMultiplicativeInverse{Int64},N<:Any}}},DenseArray},I<:Tuple{Vararg{Union{Base.AbstractCartesianIndex,Colon,Int64,Range{Int64}},N<:Any}},L<:Any}}</b>, y::<b>AbstractSparseArray{Ty,Ti<:Any,1}</b>) at <a href=\"https://github.com/JuliaLang/julia/tree/6445c82d0060dbe82b88436f0f4371a4ee64d918/base/sparse/sparsevector.jl#L1295\" target=\"_blank\">sparse\\sparsevector.jl:1295</a></li> <li> dot<i>{Tx<:Number,Ty<:Number}</i>(x::<b>AbstractSparseArray{Tx,Ti<:Any,1}</b>, y::<b>AbstractSparseArray{Ty,Ti<:Any,1}</b>) at <a href=\"https://github.com/JuliaLang/julia/tree/6445c82d0060dbe82b88436f0f4371a4ee64d918/base/sparse/sparsevector.jl#L1340\" target=\"_blank\">sparse\\sparsevector.jl:1340</a></li> <li> dot<i>{Tx<:Number,Ty<:Number}</i>(x::<b>AbstractSparseArray{Tx,Ti<:Any,1}</b>, y::<b>AbstractArray{Ty,1}</b>) at <a href=\"https://github.com/JuliaLang/julia/tree/6445c82d0060dbe82b88436f0f4371a4ee64d918/base/sparse/sparsevector.jl#L1307\" target=\"_blank\">sparse\\sparsevector.jl:1307</a></li> <li> dot(x::<b>AbstractArray{T<:Any,1}</b>, y::<b>AbstractArray{T<:Any,1}</b>) at <a href=\"https://github.com/JuliaLang/julia/tree/6445c82d0060dbe82b88436f0f4371a4ee64d918/base/linalg/generic.jl#L302\" target=\"_blank\">linalg\\generic.jl:302</a></li> <li> dot(n::<b>Integer</b>, DX::<b>Union{DenseArray{Float64,N<:Any},Ptr{Float64}}</b>, incx::<b>Integer</b>, DY::<b>Union{DenseArray{Float64,N<:Any},Ptr{Float64}}</b>, incy::<b>Integer</b>) at <a href=\"https://github.com/JuliaLang/julia/tree/6445c82d0060dbe82b88436f0f4371a4ee64d918/base/linalg/blas.jl#L247\" target=\"_blank\">linalg\\blas.jl:247</a></li> <li> dot(n::<b>Integer</b>, DX::<b>Union{DenseArray{Float32,N<:Any},Ptr{Float32}}</b>, incx::<b>Integer</b>, DY::<b>Union{DenseArray{Float32,N<:Any},Ptr{Float32}}</b>, incy::<b>Integer</b>) at <a href=\"https://github.com/JuliaLang/julia/tree/6445c82d0060dbe82b88436f0f4371a4ee64d918/base/linalg/blas.jl#L247\" target=\"_blank\">linalg\\blas.jl:247</a></li> </ul>"
      ],
      "text/plain": [
       "# 11 methods for generic function \"dot\":\n",
       "dot(x::BitArray{1}, y::BitArray{1}) at linalg\\bitarray.jl:5\n",
       "dot(x::Number, y::Number) at linalg\\generic.jl:301\n",
       "dot{T<:Union{Float32,Float64}}(DX::Union{Base.ReshapedArray{T,1,A<:DenseArray,MI<:Tuple{Vararg{Base.MultiplicativeInverses.SignedMultiplicativeInverse{Int64},N<:Any}}},DenseArray{T,1},DenseArray{T,N<:Any},SubArray{T,1,A<:Union{Base.ReshapedArray{T<:Any,N<:Any,A<:DenseArray,MI<:Tuple{Vararg{Base.MultiplicativeInverses.SignedMultiplicativeInverse{Int64},N<:Any}}},DenseArray},I<:Tuple{Vararg{Union{Base.AbstractCartesianIndex,Colon,Int64,Range{Int64}},N<:Any}},L<:Any}}, DY::Union{Base.ReshapedArray{T,1,A<:DenseArray,MI<:Tuple{Vararg{Base.MultiplicativeInverses.SignedMultiplicativeInverse{Int64},N<:Any}}},DenseArray{T,1},DenseArray{T,N<:Any},SubArray{T,1,A<:Union{Base.ReshapedArray{T<:Any,N<:Any,A<:DenseArray,MI<:Tuple{Vararg{Base.MultiplicativeInverses.SignedMultiplicativeInverse{Int64},N<:Any}}},DenseArray},I<:Tuple{Vararg{Union{Base.AbstractCartesianIndex,Colon,Int64,Range{Int64}},N<:Any}},L<:Any}}) at linalg\\blas.jl:290\n",
       "dot{T<:Union{Float32,Float64},TI<:Integer}(x::Array{T,1}, rx::Union{Range{TI},UnitRange{TI}}, y::Array{T,1}, ry::Union{Range{TI},UnitRange{TI}}) at linalg\\matmul.jl:48\n",
       "dot{T<:Union{Complex{Float32},Complex{Float64}},TI<:Integer}(x::Array{T,1}, rx::Union{Range{TI},UnitRange{TI}}, y::Array{T,1}, ry::Union{Range{TI},UnitRange{TI}}) at linalg\\matmul.jl:61\n",
       "dot{Tx<:Number,Ty<:Number}(x::Union{Base.ReshapedArray{Tx,1,A<:DenseArray,MI<:Tuple{Vararg{Base.MultiplicativeInverses.SignedMultiplicativeInverse{Int64},N<:Any}}},DenseArray{Tx,1},SubArray{Tx,1,A<:Union{Base.ReshapedArray{T<:Any,N<:Any,A<:DenseArray,MI<:Tuple{Vararg{Base.MultiplicativeInverses.SignedMultiplicativeInverse{Int64},N<:Any}}},DenseArray},I<:Tuple{Vararg{Union{Base.AbstractCartesianIndex,Colon,Int64,Range{Int64}},N<:Any}},L<:Any}}, y::AbstractSparseArray{Ty,Ti<:Any,1}) at sparse\\sparsevector.jl:1295\n",
       "dot{Tx<:Number,Ty<:Number}(x::AbstractSparseArray{Tx,Ti<:Any,1}, y::AbstractSparseArray{Ty,Ti<:Any,1}) at sparse\\sparsevector.jl:1340\n",
       "dot{Tx<:Number,Ty<:Number}(x::AbstractSparseArray{Tx,Ti<:Any,1}, y::AbstractArray{Ty,1}) at sparse\\sparsevector.jl:1307\n",
       "dot(x::AbstractArray{T<:Any,1}, y::AbstractArray{T<:Any,1}) at linalg\\generic.jl:302\n",
       "dot(n::Integer, DX::Union{DenseArray{Float64,N<:Any},Ptr{Float64}}, incx::Integer, DY::Union{DenseArray{Float64,N<:Any},Ptr{Float64}}, incy::Integer) at linalg\\blas.jl:247\n",
       "dot(n::Integer, DX::Union{DenseArray{Float32,N<:Any},Ptr{Float32}}, incx::Integer, DY::Union{DenseArray{Float32,N<:Any},Ptr{Float32}}, incy::Integer) at linalg\\blas.jl:247"
      ]
     },
     "execution_count": 38,
     "metadata": {},
     "output_type": "execute_result"
    }
   ],
   "source": [
    "methods(⋅)"
   ]
  },
  {
   "cell_type": "markdown",
   "metadata": {},
   "source": [
    "By inspecting the source, we see that the `scalar` or the `dot` product of two vectors (1-dimensional arrays) is \n",
    "computed via `BLAS` function `dot` for real arguments, and the function `dotc` for complex arguments.  "
   ]
  },
  {
   "cell_type": "code",
   "execution_count": 39,
   "metadata": {
    "collapsed": false
   },
   "outputs": [
    {
     "name": "stdout",
     "output_type": "stream",
     "text": [
      "(x,y,z,w) = ([5,1,2,5,4],[-4,-5,-5,-1,-1],[0.18227,0.246293,0.79531,0.350186,0.881482],Complex{Float64}[0.137062+0.779661im,0.420614+0.817883im,0.00927016+0.732884im,0.951312+0.3763im,0.458019+0.73735im])\n",
      "(a,b,c,d,e,f) = (-44,8.025117533903412,8.025117533903412,7.713101623383132 + 11.012856620885627im,0.8728205557925923 + 1.708152921907408im,0.8728205557925923 - 1.708152921907408im)\n"
     ]
    },
    {
     "data": {
      "text/plain": [
       "(-44,8.025117533903412,8.025117533903412,7.713101623383132 + 11.012856620885627im,0.8728205557925923 + 1.708152921907408im,0.8728205557925923 - 1.708152921907408im)"
      ]
     },
     "execution_count": 39,
     "metadata": {},
     "output_type": "execute_result"
    }
   ],
   "source": [
    "x = rand(1:5,5); y  = rand(-5:0,5); a = x⋅y\n",
    "z = rand(5); b = x⋅z; c = z⋅x\n",
    "w = rand(5) + im*rand(5); d = x⋅w; e = z⋅w; f = w⋅z\n",
    "@show x, y, z, w\n",
    "@show a, b, c, d, e, f"
   ]
  },
  {
   "cell_type": "markdown",
   "metadata": {},
   "source": [
    "## `whos()`\n",
    "\n",
    "The command `whos()` reveals the content of the specified package or module. It can be invoked either with the package name, or with the package name and a regular expression."
   ]
  },
  {
   "cell_type": "code",
   "execution_count": 40,
   "metadata": {
    "collapsed": false,
    "scrolled": true
   },
   "outputs": [
    {
     "name": "stdout",
     "output_type": "stream",
     "text": [
      "                           Apr      8 bytes  Int64\n",
      "                         April      8 bytes  Int64\n",
      "                           Aug      8 bytes  Int64\n",
      "                        August      8 bytes  Int64\n",
      "                          Date    112 bytes  DataType\n",
      "                    DateFormat    136 bytes  DataType\n",
      "                    DatePeriod     92 bytes  DataType\n",
      "                      DateTime    112 bytes  DataType\n",
      "                         Dates   6069 KB     Module\n",
      "                           Day    112 bytes  DataType\n",
      "                           Dec      8 bytes  Int64\n",
      "                      December      8 bytes  Int64\n",
      "                           Feb      8 bytes  Int64\n",
      "                      February      8 bytes  Int64\n",
      "                           Fri      8 bytes  Int64\n",
      "                        Friday      8 bytes  Int64\n",
      "                          Hour    112 bytes  DataType\n",
      "                 ISODateFormat    265 bytes  Base.Dates.DateFormat\n",
      "             ISODateTimeFormat    461 bytes  Base.Dates.DateFormat\n",
      "                           Jan      8 bytes  Int64\n",
      "                       January      8 bytes  Int64\n",
      "                           Jul      8 bytes  Int64\n",
      "                          July      8 bytes  Int64\n",
      "                           Jun      8 bytes  Int64\n",
      "                          June      8 bytes  Int64\n",
      "                           Mar      8 bytes  Int64\n",
      "                         March      8 bytes  Int64\n",
      "                           May      8 bytes  Int64\n",
      "                   Millisecond    112 bytes  DataType\n",
      "                        Minute    112 bytes  DataType\n",
      "                           Mon      8 bytes  Int64\n",
      "                        Monday      8 bytes  Int64\n",
      "                         Month    112 bytes  DataType\n",
      "                           Nov      8 bytes  Int64\n",
      "                      November      8 bytes  Int64\n",
      "                           Oct      8 bytes  Int64\n",
      "                       October      8 bytes  Int64\n",
      "                        Period     92 bytes  DataType\n",
      "                 RFC1123Format    462 bytes  Base.Dates.DateFormat\n",
      "                           Sat      8 bytes  Int64\n",
      "                      Saturday      8 bytes  Int64\n",
      "                        Second    112 bytes  DataType\n",
      "                           Sep      8 bytes  Int64\n",
      "                     September      8 bytes  Int64\n",
      "                           Sun      8 bytes  Int64\n",
      "                        Sunday      8 bytes  Int64\n",
      "                           Thu      8 bytes  Int64\n",
      "                      Thursday      8 bytes  Int64\n",
      "                    TimePeriod     92 bytes  DataType\n",
      "                      TimeType     92 bytes  DataType\n",
      "                      TimeZone     92 bytes  DataType\n",
      "                           Tue      8 bytes  Int64\n",
      "                       Tuesday      8 bytes  Int64\n",
      "                           UTC     92 bytes  DataType\n",
      "                           Wed      8 bytes  Int64\n",
      "                     Wednesday      8 bytes  Int64\n",
      "                          Week    112 bytes  DataType\n",
      "                          Year    112 bytes  DataType\n",
      "                        adjust      0 bytes  Base.Dates.#adjust\n",
      "               datetime2julian      0 bytes  Base.Dates.#datetime2julian\n",
      "                 datetime2rata      0 bytes  Base.Dates.#datetime2rata\n",
      "                 datetime2unix      0 bytes  Base.Dates.#datetime2unix\n",
      "                           day      0 bytes  Base.Dates.#day\n",
      "                       dayabbr      0 bytes  Base.Dates.#dayabbr\n",
      "                       dayname      0 bytes  Base.Dates.#dayname\n",
      "                    dayofmonth      0 bytes  Base.Dates.#dayofmonth\n",
      "                  dayofquarter      0 bytes  Base.Dates.#dayofquarter\n",
      "                     dayofweek      0 bytes  Base.Dates.#dayofweek\n",
      "              dayofweekofmonth      0 bytes  Base.Dates.#dayofweekofmonth\n",
      "                     dayofyear      0 bytes  Base.Dates.#dayofyear\n",
      "                   daysinmonth      0 bytes  Base.Dates.#daysinmonth\n",
      "                    daysinyear      0 bytes  Base.Dates.#daysinyear\n",
      "             daysofweekinmonth      0 bytes  Base.Dates.#daysofweekinmonth\n",
      "               firstdayofmonth      0 bytes  Base.Dates.#firstdayofmonth\n",
      "             firstdayofquarter      0 bytes  Base.Dates.#firstdayofquarter\n",
      "                firstdayofweek      0 bytes  Base.Dates.#firstdayofweek\n",
      "                firstdayofyear      0 bytes  Base.Dates.#firstdayofyear\n",
      "                          hour      0 bytes  Base.Dates.#hour\n",
      "                    isleapyear      0 bytes  Base.Dates.#isleapyear\n",
      "               julian2datetime      0 bytes  Base.Dates.#julian2datetime\n",
      "                lastdayofmonth      0 bytes  Base.Dates.#lastdayofmonth\n",
      "              lastdayofquarter      0 bytes  Base.Dates.#lastdayofquarter\n",
      "                 lastdayofweek      0 bytes  Base.Dates.#lastdayofweek\n",
      "                 lastdayofyear      0 bytes  Base.Dates.#lastdayofyear\n",
      "                   millisecond      0 bytes  Base.Dates.#millisecond\n",
      "                        minute      0 bytes  Base.Dates.#minute\n",
      "                         month      0 bytes  Base.Dates.#month\n",
      "                     monthabbr      0 bytes  Base.Dates.#monthabbr\n",
      "                      monthday      0 bytes  Base.Dates.#monthday\n",
      "                     monthname      0 bytes  Base.Dates.#monthname\n",
      "                           now      0 bytes  Base.Dates.#now\n",
      "                 quarterofyear      0 bytes  Base.Dates.#quarterofyear\n",
      "                 rata2datetime      0 bytes  Base.Dates.#rata2datetime\n",
      "                         recur      0 bytes  Base.Dates.#recur\n",
      "                        second      0 bytes  Base.Dates.#second\n",
      "                         today      0 bytes  Base.Dates.#today\n",
      "                       tofirst      0 bytes  Base.Dates.#tofirst\n",
      "                        tolast      0 bytes  Base.Dates.#tolast\n",
      "                        tonext      0 bytes  Base.Dates.#tonext\n",
      "                        toprev      0 bytes  Base.Dates.#toprev\n",
      "                 unix2datetime      0 bytes  Base.Dates.#unix2datetime\n",
      "                          week      0 bytes  Base.Dates.#week\n",
      "                          year      0 bytes  Base.Dates.#year\n",
      "                     yearmonth      0 bytes  Base.Dates.#yearmonth\n",
      "                  yearmonthday      0 bytes  Base.Dates.#yearmonthday\n"
     ]
    }
   ],
   "source": [
    "whos(Dates)"
   ]
  },
  {
   "cell_type": "code",
   "execution_count": 41,
   "metadata": {
    "collapsed": false,
    "scrolled": true
   },
   "outputs": [
    {
     "name": "stdout",
     "output_type": "stream",
     "text": [
      "                             /      0 bytes  Base.#/\n",
      "               ARPACKException    112 bytes  DataType\n",
      "                     A_ldiv_B!      0 bytes  Base.LinAlg.#A_ldiv_B!\n",
      "                     A_ldiv_Bc      0 bytes  Base.#A_ldiv_Bc\n",
      "                     A_ldiv_Bt      0 bytes  Base.#A_ldiv_Bt\n",
      "                      A_mul_B!      0 bytes  Base.LinAlg.#A_mul_B!\n",
      "                      A_mul_Bc      0 bytes  Base.#A_mul_Bc\n",
      "                     A_mul_Bc!      0 bytes  Base.LinAlg.#A_mul_Bc!\n",
      "                      A_mul_Bt      0 bytes  Base.#A_mul_Bt\n",
      "                     A_mul_Bt!      0 bytes  Base.LinAlg.#A_mul_Bt!\n",
      "                     A_rdiv_Bc      0 bytes  Base.#A_rdiv_Bc\n",
      "                     A_rdiv_Bt      0 bytes  Base.#A_rdiv_Bt\n",
      "                     Ac_ldiv_B      0 bytes  Base.#Ac_ldiv_B\n",
      "                    Ac_ldiv_B!      0 bytes  Base.LinAlg.#Ac_ldiv_B!\n",
      "                    Ac_ldiv_Bc      0 bytes  Base.#Ac_ldiv_Bc\n",
      "                      Ac_mul_B      0 bytes  Base.#Ac_mul_B\n",
      "                     Ac_mul_B!      0 bytes  Base.LinAlg.#Ac_mul_B!\n",
      "                     Ac_mul_Bc      0 bytes  Base.#Ac_mul_Bc\n",
      "                    Ac_mul_Bc!      0 bytes  Base.LinAlg.#Ac_mul_Bc!\n",
      "                     Ac_rdiv_B      0 bytes  Base.#Ac_rdiv_B\n",
      "                    Ac_rdiv_Bc      0 bytes  Base.#Ac_rdiv_Bc\n",
      "                     At_ldiv_B      0 bytes  Base.#At_ldiv_B\n",
      "                    At_ldiv_B!      0 bytes  Base.LinAlg.#At_ldiv_B!\n",
      "                    At_ldiv_Bt      0 bytes  Base.#At_ldiv_Bt\n",
      "                      At_mul_B      0 bytes  Base.#At_mul_B\n",
      "                     At_mul_B!      0 bytes  Base.LinAlg.#At_mul_B!\n",
      "                     At_mul_Bt      0 bytes  Base.#At_mul_Bt\n",
      "                    At_mul_Bt!      0 bytes  Base.LinAlg.#At_mul_Bt!\n",
      "                     At_rdiv_B      0 bytes  Base.#At_rdiv_B\n",
      "                    At_rdiv_Bt      0 bytes  Base.#At_rdiv_Bt\n",
      "                          BLAS   6106 KB     Module\n",
      "                    Bidiagonal    192 bytes  DataType\n",
      "                  BunchKaufman    332 bytes  DataType\n",
      "                      Cholesky    284 bytes  DataType\n",
      "               CholeskyPivoted    332 bytes  DataType\n",
      "                      Diagonal    168 bytes  DataType\n",
      "                         Eigen    428 bytes  DataType\n",
      "                 Factorization    148 bytes  DataType\n",
      "              GeneralizedEigen    428 bytes  DataType\n",
      "                GeneralizedSVD    356 bytes  DataType\n",
      "              GeneralizedSchur    444 bytes  DataType\n",
      "                     Hermitian    284 bytes  DataType\n",
      "                    Hessenberg    284 bytes  DataType\n",
      "                             I      8 bytes  UniformScaling{Int64}\n",
      "                        LAPACK   6754 KB     Module\n",
      "               LAPACKException    112 bytes  DataType\n",
      "                          LDLt    272 bytes  DataType\n",
      "                            LQ    284 bytes  DataType\n",
      "                            LU    296 bytes  DataType\n",
      "                        LinAlg   8387 KB     Module\n",
      "               LowerTriangular    272 bytes  DataType\n",
      "               PosDefException    112 bytes  DataType\n",
      "                            QR    284 bytes  DataType\n",
      "                     QRPivoted    296 bytes  DataType\n",
      "        RankDeficientException    112 bytes  DataType\n",
      "                           SVD    272 bytes  DataType\n",
      "                         Schur    408 bytes  DataType\n",
      "             SingularException    112 bytes  DataType\n",
      "                SymTridiagonal    180 bytes  DataType\n",
      "                     Symmetric    284 bytes  DataType\n",
      "                   Tridiagonal    204 bytes  DataType\n",
      "                UniformScaling    168 bytes  DataType\n",
      "               UpperTriangular    272 bytes  DataType\n",
      "                             \\      0 bytes  Base.#\\\n",
      "                         axpy!      0 bytes  Base.LinAlg.#axpy!\n",
      "                        bkfact      0 bytes  Base.LinAlg.#bkfact\n",
      "                       bkfact!      0 bytes  Base.LinAlg.#bkfact!\n",
      "                          chol      0 bytes  Base.LinAlg.#chol\n",
      "                      cholfact      0 bytes  Base.LinAlg.#cholfact\n",
      "                     cholfact!      0 bytes  Base.LinAlg.#cholfact!\n",
      "                          cond      0 bytes  Base.LinAlg.#cond\n",
      "                     condskeel      0 bytes  Base.LinAlg.#condskeel\n",
      "                         copy!      0 bytes  Base.#copy!\n",
      "                         cross      0 bytes  Base.LinAlg.#cross\n",
      "                    ctranspose      0 bytes  Base.#ctranspose\n",
      "                           det      0 bytes  Base.LinAlg.#det\n",
      "                          diag      0 bytes  Base.LinAlg.#diag\n",
      "                       diagind      0 bytes  Base.LinAlg.#diagind\n",
      "                         diagm      0 bytes  Base.LinAlg.#diagm\n",
      "                          diff      0 bytes  Base.LinAlg.#diff\n",
      "                           dot      0 bytes  Base.LinAlg.#dot\n",
      "                           eig      0 bytes  Base.LinAlg.#eig\n",
      "                       eigfact      0 bytes  Base.LinAlg.#eigfact\n",
      "                      eigfact!      0 bytes  Base.LinAlg.#eigfact!\n",
      "                        eigmax      0 bytes  Base.LinAlg.#eigmax\n",
      "                        eigmin      0 bytes  Base.LinAlg.#eigmin\n",
      "                          eigs      0 bytes  Base.LinAlg.#eigs\n",
      "                       eigvals      0 bytes  Base.LinAlg.#eigvals\n",
      "                      eigvals!      0 bytes  Base.LinAlg.#eigvals!\n",
      "                       eigvecs      0 bytes  Base.LinAlg.#eigvecs\n",
      "                          expm      0 bytes  Base.LinAlg.#expm\n",
      "                           eye      0 bytes  Base.#eye\n",
      "                     factorize      0 bytes  Base.LinAlg.#factorize\n",
      "                        givens      0 bytes  Base.LinAlg.#givens\n",
      "                      gradient      0 bytes  Base.LinAlg.#gradient\n",
      "                      hessfact      0 bytes  Base.LinAlg.#hessfact\n",
      "                     hessfact!      0 bytes  Base.LinAlg.#hessfact!\n",
      "                        isdiag      0 bytes  Base.LinAlg.#isdiag\n",
      "                   ishermitian      0 bytes  Base.LinAlg.#ishermitian\n",
      "                      isposdef      0 bytes  Base.LinAlg.#isposdef\n",
      "                     isposdef!      0 bytes  Base.LinAlg.#isposdef!\n",
      "                   issymmetric      0 bytes  Base.LinAlg.#issymmetric\n",
      "                        istril      0 bytes  Base.LinAlg.#istril\n",
      "                        istriu      0 bytes  Base.LinAlg.#istriu\n",
      "                          kron      0 bytes  Base.#kron\n",
      "                      ldltfact      0 bytes  Base.LinAlg.#ldltfact\n",
      "                     ldltfact!      0 bytes  Base.LinAlg.#ldltfact!\n",
      "                        linreg      0 bytes  Base.LinAlg.#linreg\n",
      "                     logabsdet      0 bytes  Base.LinAlg.#logabsdet\n",
      "                        logdet      0 bytes  Base.LinAlg.#logdet\n",
      "                          logm      0 bytes  Base.LinAlg.#logm\n",
      "                            lq      0 bytes  Base.LinAlg.#lq\n",
      "                        lqfact      0 bytes  Base.LinAlg.#lqfact\n",
      "                       lqfact!      0 bytes  Base.LinAlg.#lqfact!\n",
      "                            lu      0 bytes  Base.LinAlg.#lu\n",
      "                        lufact      0 bytes  Base.LinAlg.#lufact\n",
      "                       lufact!      0 bytes  Base.LinAlg.#lufact!\n",
      "                          lyap      0 bytes  Base.LinAlg.#lyap\n",
      "                          norm      0 bytes  Base.LinAlg.#norm\n",
      "                     normalize      0 bytes  Base.LinAlg.#normalize\n",
      "                    normalize!      0 bytes  Base.LinAlg.#normalize!\n",
      "                     nullspace      0 bytes  Base.LinAlg.#nullspace\n",
      "                      ordschur      0 bytes  Base.LinAlg.#ordschur\n",
      "                     ordschur!      0 bytes  Base.LinAlg.#ordschur!\n",
      "                     peakflops      0 bytes  Base.LinAlg.#peakflops\n",
      "                          pinv      0 bytes  Base.LinAlg.#pinv\n",
      "                            qr      0 bytes  Base.LinAlg.#qr\n",
      "                        qrfact      0 bytes  Base.LinAlg.#qrfact\n",
      "                       qrfact!      0 bytes  Base.LinAlg.#qrfact!\n",
      "                          rank      0 bytes  Base.LinAlg.#rank\n",
      "                        scale!      0 bytes  Base.LinAlg.#scale!\n",
      "                         schur      0 bytes  Base.LinAlg.#schur\n",
      "                     schurfact      0 bytes  Base.LinAlg.#schurfact\n",
      "                    schurfact!      0 bytes  Base.LinAlg.#schurfact!\n",
      "                         sqrtm      0 bytes  Base.LinAlg.#sqrtm\n",
      "                           svd      0 bytes  Base.LinAlg.#svd\n",
      "                       svdfact      0 bytes  Base.LinAlg.#svdfact\n",
      "                      svdfact!      0 bytes  Base.LinAlg.#svdfact!\n",
      "                          svds      0 bytes  Base.LinAlg.#svds\n",
      "                       svdvals      0 bytes  Base.LinAlg.#svdvals\n",
      "                      svdvals!      0 bytes  Base.LinAlg.#svdvals!\n",
      "                     sylvester      0 bytes  Base.LinAlg.#sylvester\n",
      "                         trace      0 bytes  Base.LinAlg.#trace\n",
      "                     transpose      0 bytes  Base.#transpose\n",
      "                          tril      0 bytes  Base.LinAlg.#tril\n",
      "                         tril!      0 bytes  Base.LinAlg.#tril!\n",
      "                          triu      0 bytes  Base.LinAlg.#triu\n",
      "                         triu!      0 bytes  Base.LinAlg.#triu!\n",
      "                        vecdot      0 bytes  Base.LinAlg.#vecdot\n",
      "                       vecnorm      0 bytes  Base.LinAlg.#vecnorm\n"
     ]
    }
   ],
   "source": [
    "whos(LinAlg)"
   ]
  },
  {
   "cell_type": "code",
   "execution_count": 43,
   "metadata": {
    "collapsed": false
   },
   "outputs": [
    {
     "name": "stdout",
     "output_type": "stream",
     "text": [
      "                           eig      0 bytes  Base.LinAlg.#eig\n",
      "                       eigfact      0 bytes  Base.LinAlg.#eigfact\n",
      "                      eigfact!      0 bytes  Base.LinAlg.#eigfact!\n",
      "                        eigmax      0 bytes  Base.LinAlg.#eigmax\n",
      "                        eigmin      0 bytes  Base.LinAlg.#eigmin\n",
      "                          eigs      0 bytes  Base.LinAlg.#eigs\n",
      "                       eigvals      0 bytes  Base.LinAlg.#eigvals\n",
      "                      eigvals!      0 bytes  Base.LinAlg.#eigvals!\n",
      "                       eigvecs      0 bytes  Base.LinAlg.#eigvecs\n"
     ]
    }
   ],
   "source": [
    "# Now with a regular expression - we are looking for \n",
    "# 'eigenvalue' related stuff. \n",
    "whos(Base, Regex(\"eig\"))"
   ]
  },
  {
   "cell_type": "markdown",
   "metadata": {},
   "source": [
    "Funally,let us list all we have in `Julia`'s `Base` module. __It is a long list!__ \n",
    "Notice that `Dates` and `LinAlg` are modules themselves."
   ]
  },
  {
   "cell_type": "code",
   "execution_count": 44,
   "metadata": {
    "collapsed": false,
    "scrolled": true
   },
   "outputs": [
    {
     "name": "stdout",
     "output_type": "stream",
     "text": [
      "                             !      0 bytes  Base.#!\n",
      "                            !=      0 bytes  Base.#!=\n",
      "                           !==      0 bytes  Base.#!==\n",
      "                             $      0 bytes  Base.#$\n",
      "                             %      0 bytes  Base.#rem\n",
      "                             &      0 bytes  Base.#&\n",
      "                             *      0 bytes  Base.#*\n",
      "                             +      0 bytes  Base.#+\n",
      "                             -      0 bytes  Base.#-\n",
      "                           .!=      0 bytes  Base.#.!=\n",
      "                            .%      0 bytes  Base.#.%\n",
      "                            .*      0 bytes  Base.#.*\n",
      "                            .+      0 bytes  Base.#.+\n",
      "                            .-      0 bytes  Base.#.-\n",
      "                            ./      0 bytes  Base.#./\n",
      "                           .//      0 bytes  Base.#.//\n",
      "                            .<      0 bytes  Base.#.<\n",
      "                           .<<      0 bytes  Base.#.<<\n",
      "                           .<=      0 bytes  Base.#.<=\n",
      "                           .==      0 bytes  Base.#.==\n",
      "                            .>      0 bytes  Base.#.>\n",
      "                           .>=      0 bytes  Base.#.>=\n",
      "                           .>>      0 bytes  Base.#.>>\n",
      "                            .\\      0 bytes  Base.#.\\\n",
      "                            .^      0 bytes  Base.#.^\n",
      "                            .÷      0 bytes  Base.#.÷\n",
      "                            .≠      0 bytes  Base.#.!=\n",
      "                            .≤      0 bytes  Base.#.<=\n",
      "                            .≥      0 bytes  Base.#.>=\n",
      "                             /      0 bytes  Base.#/\n",
      "                            //      0 bytes  Base.#//\n",
      "                             :      0 bytes  Colon\n",
      "                             <      0 bytes  Base.#<\n",
      "                            <:      0 bytes  Core.#issubtype\n",
      "                            <<      0 bytes  Base.#<<\n",
      "                            <=      0 bytes  Base.#<=\n",
      "                            ==      0 bytes  Base.#==\n",
      "                            =>    220 bytes  DataType\n",
      "                             >      0 bytes  Base.#>\n",
      "                            >=      0 bytes  Base.#>=\n",
      "                            >>      0 bytes  Base.#>>\n",
      "                           >>>      0 bytes  Base.#>>>\n",
      "                     @MIME_str      0 bytes  Base.Multimedia.#@MIME_str\n",
      "                     @__FILE__      0 bytes  Base.#@__FILE__\n",
      "                    @allocated      0 bytes  Base.#@allocated\n",
      "                       @assert      0 bytes  Base.#@assert\n",
      "                        @async      0 bytes  Base.#@async\n",
      "                        @b_str      0 bytes  Base.#@b_str\n",
      "                      @big_str      0 bytes  Base.#@big_str\n",
      "                  @boundscheck      0 bytes  Base.#@boundscheck\n",
      "                          @cmd      0 bytes  Base.#@cmd\n",
      "                    @code_llvm      0 bytes  Base.#@code_llvm\n",
      "                 @code_lowered      0 bytes  Base.#@code_lowered\n",
      "                  @code_native      0 bytes  Base.#@code_native\n",
      "                   @code_typed      0 bytes  Base.#@code_typed\n",
      "                @code_warntype      0 bytes  Base.#@code_warntype\n",
      "                    @deprecate      0 bytes  Base.#@deprecate\n",
      "                          @doc      0 bytes  Core.#@doc\n",
      "                      @doc_str      0 bytes  Core.#@doc_str\n",
      "                         @edit      0 bytes  Base.#@edit\n",
      "                      @elapsed      0 bytes  Base.#@elapsed\n",
      "                         @enum      0 bytes  Base.Enums.#@enum\n",
      "                         @eval      0 bytes  Base.#@eval\n",
      "                     @evalpoly      0 bytes  Base.Math.#@evalpoly\n",
      "                   @everywhere      0 bytes  Base.#@everywhere\n",
      "                     @fastmath      0 bytes  Base.FastMath.#@fastmath\n",
      "                        @fetch      0 bytes  Base.#@fetch\n",
      "                    @fetchfrom      0 bytes  Base.#@fetchfrom\n",
      "                  @functionloc      0 bytes  Base.#@functionloc\n",
      "                    @generated      0 bytes  Base.#@generated\n",
      "                       @gensym      0 bytes  Base.#@gensym\n",
      "                         @goto      0 bytes  Base.#@goto\n",
      "                     @html_str      0 bytes  Base.Docs.#@html_str\n",
      "                     @inbounds      0 bytes  Base.#@inbounds\n",
      "                       @inline      0 bytes  Base.#@inline\n",
      "                   @int128_str      0 bytes  Base.#@int128_str\n",
      "                       @ip_str      0 bytes  Base.#@ip_str\n",
      "                        @label      0 bytes  Base.#@label\n",
      "                         @less      0 bytes  Base.#@less\n",
      "                        @linux      0 bytes  Base.#@linux\n",
      "                   @linux_only      0 bytes  Base.#@linux_only\n",
      "                     @noinline      0 bytes  Base.#@noinline\n",
      "                          @osx      0 bytes  Base.#@osx\n",
      "                     @osx_only      0 bytes  Base.#@osx_only\n",
      "                     @parallel      0 bytes  Base.#@parallel\n",
      "                        @polly      0 bytes  Base.#@polly\n",
      "                       @printf      0 bytes  Base.Printf.#@printf\n",
      "                      @profile      0 bytes  Base.Profile.#@profile\n",
      "                        @r_str      0 bytes  Base.#@r_str\n",
      "                        @s_str      0 bytes  Base.#@s_str\n",
      "                     @schedule      0 bytes  Base.#@schedule\n",
      "                         @show      0 bytes  Base.#@show\n",
      "                         @simd      0 bytes  Base.SimdLoop.#@simd\n",
      "                        @spawn      0 bytes  Base.#@spawn\n",
      "                      @spawnat      0 bytes  Base.#@spawnat\n",
      "                      @sprintf      0 bytes  Base.Printf.#@sprintf\n",
      "                       @static      0 bytes  Base.#@static\n",
      "                         @sync      0 bytes  Base.#@sync\n",
      "                         @task      0 bytes  Base.#@task\n",
      "                     @text_str      0 bytes  Base.Docs.#@text_str\n",
      "                   @threadcall      0 bytes  Base.#@threadcall\n",
      "                         @time      0 bytes  Base.#@time\n",
      "                        @timed      0 bytes  Base.#@timed\n",
      "                        @timev      0 bytes  Base.#@timev\n",
      "                  @uint128_str      0 bytes  Base.#@uint128_str\n",
      "                         @unix      0 bytes  Base.#@unix\n",
      "                    @unix_only      0 bytes  Base.#@unix_only\n",
      "                        @v_str      0 bytes  Base.#@v_str\n",
      "               @vectorize_1arg      0 bytes  Base.#@vectorize_1arg\n",
      "               @vectorize_2arg      0 bytes  Base.#@vectorize_2arg\n",
      "                         @view      0 bytes  Base.#@view\n",
      "                        @which      0 bytes  Base.#@which\n",
      "                      @windows      0 bytes  Base.#@windows\n",
      "                 @windows_only      0 bytes  Base.#@windows_only\n",
      "                          ARGS    110 bytes  1-element Array{String,1}\n",
      "                     A_ldiv_B!      0 bytes  Base.LinAlg.#A_ldiv_B!\n",
      "                     A_ldiv_Bc      0 bytes  Base.#A_ldiv_Bc\n",
      "                     A_ldiv_Bt      0 bytes  Base.#A_ldiv_Bt\n",
      "                      A_mul_B!      0 bytes  Base.LinAlg.#A_mul_B!\n",
      "                      A_mul_Bc      0 bytes  Base.#A_mul_Bc\n",
      "                     A_mul_Bc!      0 bytes  Base.LinAlg.#A_mul_Bc!\n",
      "                      A_mul_Bt      0 bytes  Base.#A_mul_Bt\n",
      "                     A_mul_Bt!      0 bytes  Base.LinAlg.#A_mul_Bt!\n",
      "                     A_rdiv_Bc      0 bytes  Base.#A_rdiv_Bc\n",
      "                     A_rdiv_Bt      0 bytes  Base.#A_rdiv_Bt\n",
      "               AbstractChannel     92 bytes  DataType\n",
      "                AbstractMatrix     80 bytes  TypeConstructor\n",
      "                   AbstractRNG     92 bytes  DataType\n",
      "            AbstractSerializer     92 bytes  DataType\n",
      "           AbstractSparseArray    228 bytes  DataType\n",
      "          AbstractSparseMatrix    120 bytes  TypeConstructor\n",
      "          AbstractSparseVector    120 bytes  TypeConstructor\n",
      "             AbstractUnitRange    148 bytes  DataType\n",
      "              AbstractVecOrMat    112 bytes  TypeConstructor\n",
      "                AbstractVector     80 bytes  TypeConstructor\n",
      "                     Ac_ldiv_B      0 bytes  Base.#Ac_ldiv_B\n",
      "                    Ac_ldiv_B!      0 bytes  Base.LinAlg.#Ac_ldiv_B!\n",
      "                    Ac_ldiv_Bc      0 bytes  Base.#Ac_ldiv_Bc\n",
      "                      Ac_mul_B      0 bytes  Base.#Ac_mul_B\n",
      "                     Ac_mul_B!      0 bytes  Base.LinAlg.#Ac_mul_B!\n",
      "                     Ac_mul_Bc      0 bytes  Base.#Ac_mul_Bc\n",
      "                    Ac_mul_Bc!      0 bytes  Base.LinAlg.#Ac_mul_Bc!\n",
      "                     Ac_rdiv_B      0 bytes  Base.#Ac_rdiv_B\n",
      "                    Ac_rdiv_Bc      0 bytes  Base.#Ac_rdiv_Bc\n",
      "                 ArgumentError    112 bytes  DataType\n",
      "                         Array    188 bytes  DataType\n",
      "                AssertionError    112 bytes  DataType\n",
      "                   Associative    188 bytes  DataType\n",
      "                     At_ldiv_B      0 bytes  Base.#At_ldiv_B\n",
      "                    At_ldiv_B!      0 bytes  Base.LinAlg.#At_ldiv_B!\n",
      "                    At_ldiv_Bt      0 bytes  Base.#At_ldiv_Bt\n",
      "                      At_mul_B      0 bytes  Base.#At_mul_B\n",
      "                     At_mul_B!      0 bytes  Base.LinAlg.#At_mul_B!\n",
      "                     At_mul_Bt      0 bytes  Base.#At_mul_Bt\n",
      "                    At_mul_Bt!      0 bytes  Base.LinAlg.#At_mul_Bt!\n",
      "                     At_rdiv_B      0 bytes  Base.#At_rdiv_B\n",
      "                    At_rdiv_Bt      0 bytes  Base.#At_rdiv_Bt\n",
      "                          BLAS   6107 KB     Module\n",
      "                          Base  36256 KB     Module\n",
      "              Base64DecodePipe    136 bytes  DataType\n",
      "              Base64EncodePipe    148 bytes  DataType\n",
      "                    Bidiagonal    192 bytes  DataType\n",
      "                      BigFloat    148 bytes  DataType\n",
      "                        BigInt    136 bytes  DataType\n",
      "                      BitArray    192 bytes  DataType\n",
      "                     BitMatrix    152 bytes  DataType\n",
      "                     BitVector    152 bytes  DataType\n",
      "                  BufferStream    172 bytes  DataType\n",
      "                        C_NULL      8 bytes  Ptr{Void}\n",
      "                   CachingPool    136 bytes  DataType\n",
      "             CapturedException    124 bytes  DataType\n",
      "                CartesianIndex    168 bytes  DataType\n",
      "                CartesianRange    180 bytes  DataType\n",
      "                         Cchar     92 bytes  DataType\n",
      "                       Cdouble     92 bytes  DataType\n",
      "                        Cfloat     92 bytes  DataType\n",
      "                       Channel    216 bytes  DataType\n",
      "                          Cint     92 bytes  DataType\n",
      "                     Cintmax_t     92 bytes  DataType\n",
      "                         Clong     92 bytes  DataType\n",
      "                     Clonglong     92 bytes  DataType\n",
      "                ClusterManager     92 bytes  DataType\n",
      "                           Cmd    192 bytes  DataType\n",
      "                   Collections     35 KB     Module\n",
      "                         Colon     92 bytes  DataType\n",
      "                       Complex    180 bytes  DataType\n",
      "                    Complex128    132 bytes  DataType\n",
      "                     Complex32    132 bytes  DataType\n",
      "                     Complex64    132 bytes  DataType\n",
      "            CompositeException    112 bytes  DataType\n",
      "                     Condition    112 bytes  DataType\n",
      "                    Cptrdiff_t     92 bytes  DataType\n",
      "                        Cshort     92 bytes  DataType\n",
      "                       Csize_t     92 bytes  DataType\n",
      "                      Cssize_t     92 bytes  DataType\n",
      "                       Cstring     92 bytes  DataType\n",
      "                        Cuchar     92 bytes  DataType\n",
      "                         Cuint     92 bytes  DataType\n",
      "                    Cuintmax_t     92 bytes  DataType\n",
      "                        Culong     92 bytes  DataType\n",
      "                    Culonglong     92 bytes  DataType\n",
      "                       Cushort     92 bytes  DataType\n",
      "                      Cwchar_t     92 bytes  DataType\n",
      "                      Cwstring     92 bytes  DataType\n",
      "                          Date    112 bytes  DataType\n",
      "                      DateTime    112 bytes  DataType\n",
      "                         Dates   6089 KB     Module\n",
      "                   DenseMatrix     80 bytes  TypeConstructor\n",
      "                 DenseVecOrMat    112 bytes  TypeConstructor\n",
      "                   DenseVector     80 bytes  TypeConstructor\n",
      "                       DevNull      0 bytes  Base.DevNullStream\n",
      "                      Diagonal    168 bytes  DataType\n",
      "                          Dict    292 bytes  DataType\n",
      "             DimensionMismatch    112 bytes  DataType\n",
      "                          Dims     80 bytes  TypeConstructor\n",
      "                       Display     92 bytes  DataType\n",
      "                          Docs   6939 KB     Module\n",
      "                    ENDIAN_BOM      4 bytes  UInt32\n",
      "                           ENV      0 bytes  Base.EnvHash with 57 entries\n",
      "                      EOFError     92 bytes  DataType\n",
      "                      EachLine    124 bytes  DataType\n",
      "                          Enum     92 bytes  DataType\n",
      "                     Enumerate    168 bytes  DataType\n",
      "                ErrorException    112 bytes  DataType\n",
      "                          FFTW    173 KB     Module\n",
      "                 Factorization    148 bytes  DataType\n",
      "                   FileMonitor    148 bytes  DataType\n",
      "                        Filter    220 bytes  DataType\n",
      "                    FloatRange    204 bytes  DataType\n",
      "                        Future    148 bytes  DataType\n",
      "                          HTML    168 bytes  DataType\n",
      "                     Hermitian    284 bytes  DataType\n",
      "                             I      8 bytes  UniformScaling{Int64}\n",
      "                      IOBuffer    216 bytes  DataType\n",
      "                     IOContext    180 bytes  DataType\n",
      "                      IOStream    148 bytes  DataType\n",
      "                        IPAddr     92 bytes  DataType\n",
      "                          IPv4    112 bytes  DataType\n",
      "                          IPv6    112 bytes  DataType\n",
      "                           Inf      8 bytes  Float64\n",
      "                         Inf16      2 bytes  Float16\n",
      "                         Inf32      4 bytes  Float32\n",
      "                         Inf64      8 bytes  Float64\n",
      "                     InitError    124 bytes  DataType\n",
      "                 InsertionSort      0 bytes  Base.Sort.InsertionSortAlg\n",
      "                        IntSet    136 bytes  DataType\n",
      "         InvalidStateException    124 bytes  DataType\n",
      "                    Irrational    148 bytes  DataType\n",
      "                    JULIA_HOME     51 bytes  String\n",
      "                      KeyError    112 bytes  DataType\n",
      "                        LAPACK   6767 KB     Module\n",
      "                     LOAD_PATH    160 bytes  2-element Array{String,1}\n",
      "                       LibGit2   7058 KB     Module\n",
      "                          Libc   5814 KB     Module\n",
      "                         Libdl   5785 KB     Module\n",
      "                        LinAlg   8400 KB     Module\n",
      "                      LinSpace    204 bytes  DataType\n",
      "                     LoadError    136 bytes  DataType\n",
      "               LowerTriangular    272 bytes  DataType\n",
      "                          MIME    148 bytes  DataType\n",
      "                      Markdown   6672 KB     Module\n",
      "                        Matrix     80 bytes  TypeConstructor\n",
      "                     MergeSort      0 bytes  Base.Sort.MergeSortAlg\n",
      "               MersenneTwister    148 bytes  DataType\n",
      "                          Meta   5773 KB     Module\n",
      "                   MethodError    124 bytes  DataType\n",
      "                          Mmap     64 KB     Module\n",
      "                        NTuple    120 bytes  TypeConstructor\n",
      "                           NaN      8 bytes  Float64\n",
      "                         NaN16      2 bytes  Float16\n",
      "                         NaN32      4 bytes  Float32\n",
      "                         NaN64      8 bytes  Float64\n",
      "                 NullException     92 bytes  DataType\n",
      "                      Nullable    180 bytes  DataType\n",
      "                  ObjectIdDict    124 bytes  DataType\n",
      "                     Operators     16 bytes  Module\n",
      "                  OrdinalRange    188 bytes  DataType\n",
      "                  PROGRAM_FILE     54 bytes  String\n",
      "                          Pair    220 bytes  DataType\n",
      "                    ParseError    112 bytes  DataType\n",
      "              PartialQuickSort    200 bytes  DataType\n",
      "                          Pipe    124 bytes  DataType\n",
      "                    PipeBuffer      0 bytes  Base.#PipeBuffer\n",
      "                           Pkg   7586 KB     Module\n",
      "            PollingFileWatcher    160 bytes  DataType\n",
      "        ProcessExitedException     92 bytes  DataType\n",
      "                       Profile     87 KB     Module\n",
      "                     QuickSort      0 bytes  Base.Sort.QuickSortAlg\n",
      "                  RandomDevice    112 bytes  DataType\n",
      "                         Range    148 bytes  DataType\n",
      "                    RangeIndex     40 bytes  Union\n",
      "                      Rational    180 bytes  DataType\n",
      "                         RawFD    112 bytes  DataType\n",
      "                 ReentrantLock    136 bytes  DataType\n",
      "                         Regex    184 bytes  DataType\n",
      "                    RegexMatch    160 bytes  DataType\n",
      "                 RemoteChannel    192 bytes  DataType\n",
      "               RemoteException    124 bytes  DataType\n",
      "                     RemoteRef      0 bytes  Base.#RemoteRef\n",
      "                     RepString    124 bytes  DataType\n",
      "                     RevString    168 bytes  DataType\n",
      "                     RoundDown      0 bytes  RoundingMode{:Down}\n",
      "                 RoundFromZero      0 bytes  RoundingMode{:FromZero}\n",
      "                  RoundNearest      0 bytes  RoundingMode{:Nearest}\n",
      "          RoundNearestTiesAway      0 bytes  RoundingMode{:NearestTiesAway}\n",
      "            RoundNearestTiesUp      0 bytes  RoundingMode{:NearestTiesUp}\n",
      "                   RoundToZero      0 bytes  RoundingMode{:ToZero}\n",
      "                       RoundUp      0 bytes  RoundingMode{:Up}\n",
      "                  RoundingMode    148 bytes  DataType\n",
      "                        STDERR    241 bytes  Base.PipeEndpoint\n",
      "                         STDIN    241 bytes  Base.PipeEndpoint\n",
      "                        STDOUT    241 bytes  Base.PipeEndpoint\n",
      "            SerializationState    192 bytes  DataType\n",
      "                    Serializer   5858 KB     Module\n",
      "                           Set    168 bytes  DataType\n",
      "                   SharedArray    344 bytes  DataType\n",
      "                  SharedMatrix     80 bytes  TypeConstructor\n",
      "                  SharedVector     80 bytes  TypeConstructor\n",
      "                  SparseArrays   6397 KB     Module\n",
      "               SparseMatrixCSC    256 bytes  DataType\n",
      "                  SparseVector    232 bytes  DataType\n",
      "                    StackFrame    184 bytes  DataType\n",
      "                    StackTrace    124 bytes  DataType\n",
      "                   StackTraces   5798 KB     Module\n",
      "                     StepRange    232 bytes  DataType\n",
      "                  StridedArray    416 bytes  TypeConstructor\n",
      "                 StridedMatrix    376 bytes  TypeConstructor\n",
      "               StridedVecOrMat    144 bytes  TypeConstructor\n",
      "                 StridedVector    376 bytes  TypeConstructor\n",
      "                        String    112 bytes  DataType\n",
      "                      SubArray    364 bytes  DataType\n",
      "                     SubString    192 bytes  DataType\n",
      "                SymTridiagonal    180 bytes  DataType\n",
      "                     Symmetric    284 bytes  DataType\n",
      "                           Sys   5867 KB     Module\n",
      "                   SystemError    136 bytes  DataType\n",
      "                     TCPSocket    288 bytes  DataType\n",
      "                          Test   5862 KB     Module\n",
      "                          Text    168 bytes  DataType\n",
      "                   TextDisplay    112 bytes  DataType\n",
      "                       Threads    112 KB     Module\n",
      "                         Timer    136 bytes  DataType\n",
      "                   Tridiagonal    204 bytes  DataType\n",
      "                     TypeError    148 bytes  DataType\n",
      "                     UDPSocket    160 bytes  DataType\n",
      "                  UnicodeError    136 bytes  DataType\n",
      "                UniformScaling    168 bytes  DataType\n",
      "                     UnitRange    180 bytes  DataType\n",
      "               UpperTriangular    272 bytes  DataType\n",
      "                       VERSION     40 bytes  VersionNumber\n",
      "                           Val    148 bytes  DataType\n",
      "                      VecOrMat    112 bytes  TypeConstructor\n",
      "                        Vector     80 bytes  TypeConstructor\n",
      "                 VersionNumber    160 bytes  DataType\n",
      "                   WeakKeyDict    232 bytes  DataType\n",
      "                  WorkerConfig    304 bytes  DataType\n",
      "                    WorkerPool    124 bytes  DataType\n",
      "                           Zip    220 bytes  DataType\n",
      "                             \\      0 bytes  Base.#\\\n",
      "                             ^      0 bytes  Base.#^\n",
      "                __precompile__      0 bytes  Base.#__precompile__\n",
      "                           abs      0 bytes  Base.#abs\n",
      "                          abs2      0 bytes  Base.#abs2\n",
      "                       abspath      0 bytes  Base.Filesystem.#abspath\n",
      "                        accept      0 bytes  Base.#accept\n",
      "                          acos      0 bytes  Base.#acos\n",
      "                         acosd      0 bytes  Base.Math.#acosd\n",
      "                         acosh      0 bytes  Base.#acosh\n",
      "                          acot      0 bytes  Base.Math.#acot\n",
      "                         acotd      0 bytes  Base.Math.#acotd\n",
      "                         acoth      0 bytes  Base.Math.#acoth\n",
      "                          acsc      0 bytes  Base.Math.#acsc\n",
      "                         acscd      0 bytes  Base.Math.#acscd\n",
      "                         acsch      0 bytes  Base.Math.#acsch\n",
      "                      addprocs      0 bytes  Base.#addprocs\n",
      "                          airy      0 bytes  Base.Math.#airy\n",
      "                        airyai      0 bytes  Base.Math.#airyai\n",
      "                   airyaiprime      0 bytes  Base.Math.#airyaiprime\n",
      "                        airybi      0 bytes  Base.Math.#airybi\n",
      "                   airybiprime      0 bytes  Base.Math.#airybiprime\n",
      "                     airyprime      0 bytes  Base.Math.#airyprime\n",
      "                         airyx      0 bytes  Base.Math.#airyx\n",
      "                           all      0 bytes  Base.#all\n",
      "                          all!      0 bytes  Base.#all!\n",
      "                     allunique      0 bytes  Base.#allunique\n",
      "                         angle      0 bytes  Base.#angle\n",
      "                           any      0 bytes  Base.#any\n",
      "                          any!      0 bytes  Base.#any!\n",
      "                       append!      0 bytes  Base.#append!\n",
      "                       apropos      0 bytes  Base.Docs.#apropos\n",
      "                         ascii      0 bytes  Base.#ascii\n",
      "                          asec      0 bytes  Base.Math.#asec\n",
      "                         asecd      0 bytes  Base.Math.#asecd\n",
      "                         asech      0 bytes  Base.Math.#asech\n",
      "                          asin      0 bytes  Base.#asin\n",
      "                         asind      0 bytes  Base.Math.#asind\n",
      "                         asinh      0 bytes  Base.#asinh\n",
      "                        assert      0 bytes  Base.#assert\n",
      "                      asyncmap      0 bytes  Base.#asyncmap\n",
      "                          atan      0 bytes  Base.#atan\n",
      "                         atan2      0 bytes  Base.Math.#atan2\n",
      "                         atand      0 bytes  Base.Math.#atand\n",
      "                         atanh      0 bytes  Base.#atanh\n",
      "                        atexit      0 bytes  Base.#atexit\n",
      "                    atreplinit      0 bytes  Base.#atreplinit\n",
      "                     backtrace      0 bytes  Base.#backtrace\n",
      "                          base      0 bytes  Base.#base\n",
      "                  base64decode      0 bytes  Base.Base64.#base64decode\n",
      "                  base64encode      0 bytes  Base.Base64.#base64encode\n",
      "                      basename      0 bytes  Base.Filesystem.#basename\n",
      "                       besselh      0 bytes  Base.Math.#besselh\n",
      "                      besselhx      0 bytes  Base.Math.#besselhx\n",
      "                       besseli      0 bytes  Base.Math.#besseli\n",
      "                      besselix      0 bytes  Base.Math.#besselix\n",
      "                       besselj      0 bytes  Base.Math.#besselj\n",
      "                      besselj0      0 bytes  Base.Math.#besselj0\n",
      "                      besselj1      0 bytes  Base.Math.#besselj1\n",
      "                      besseljx      0 bytes  Base.Math.#besseljx\n",
      "                       besselk      0 bytes  Base.Math.#besselk\n",
      "                      besselkx      0 bytes  Base.Math.#besselkx\n",
      "                       bessely      0 bytes  Base.Math.#bessely\n",
      "                      bessely0      0 bytes  Base.Math.#bessely0\n",
      "                      bessely1      0 bytes  Base.Math.#bessely1\n",
      "                      besselyx      0 bytes  Base.Math.#besselyx\n",
      "                          beta      0 bytes  Base.Math.#beta\n",
      "                          bfft      0 bytes  Base.DFT.#bfft\n",
      "                         bfft!      0 bytes  Base.DFT.#bfft!\n",
      "                           big      0 bytes  Base.#big\n",
      "                           bin      0 bytes  Base.#bin\n",
      "                          bind      0 bytes  Base.#bind\n",
      "                      binomial      0 bytes  Base.#binomial\n",
      "                  bitbroadcast      0 bytes  Base.Broadcast.#bitbroadcast\n",
      "                       bitpack      0 bytes  Base.#bitpack\n",
      "                       bitrand      0 bytes  Base.Random.#bitrand\n",
      "                          bits      0 bytes  Base.#bits\n",
      "                     bitunpack      0 bytes  Base.#bitunpack\n",
      "                        bkfact      0 bytes  Base.LinAlg.#bkfact\n",
      "                       bkfact!      0 bytes  Base.LinAlg.#bkfact!\n",
      "          blas_set_num_threads      0 bytes  Base.#blas_set_num_threads\n",
      "                       blkdiag      0 bytes  Base.SparseArrays.#blkdiag\n",
      "                         brfft      0 bytes  Base.DFT.#brfft\n",
      "                     broadcast      0 bytes  Base.Broadcast.#broadcast\n",
      "                    broadcast!      0 bytes  Base.Broadcast.#broadcast!\n",
      "           broadcast!_function      0 bytes  Base.#broadcast!_function\n",
      "            broadcast_function      0 bytes  Base.#broadcast_function\n",
      "            broadcast_getindex      0 bytes  Base.Broadcast.#broadcast_getindex\n",
      "           broadcast_setindex!      0 bytes  Base.Broadcast.#broadcast_setindex!\n",
      "                         bswap      0 bytes  Base.#bswap\n",
      "                     bytes2hex      0 bytes  Base.#bytes2hex\n",
      "                    bytestring      0 bytes  Base.#bytestring\n",
      "                          call      0 bytes  Base.##1005#1007\n",
      "                           cat      0 bytes  Base.#cat\n",
      "                       catalan      0 bytes  Irrational{:catalan}\n",
      "               catch_backtrace      0 bytes  Base.#catch_backtrace\n",
      "              catch_stacktrace      0 bytes  Base.StackTraces.#catch_stacktrace\n",
      "                          cbrt      0 bytes  Base.Math.#cbrt\n",
      "                            cd      0 bytes  Base.Filesystem.#cd\n",
      "                          ceil      0 bytes  Base.#ceil\n",
      "                          cell      0 bytes  Base.#cell\n",
      "                     cfunction      0 bytes  Base.#cfunction\n",
      "                       cglobal      4 bytes  Core.IntrinsicFunction\n",
      "                     charwidth      0 bytes  Base.UTF8proc.#charwidth\n",
      "                   checkbounds      0 bytes  Base.#checkbounds\n",
      "                    checkindex      0 bytes  Base.#checkindex\n",
      "                         chmod      0 bytes  Base.Filesystem.#chmod\n",
      "                          chol      0 bytes  Base.LinAlg.#chol\n",
      "                      cholfact      0 bytes  Base.LinAlg.#cholfact\n",
      "                     cholfact!      0 bytes  Base.LinAlg.#cholfact!\n",
      "                         chomp      0 bytes  Base.#chomp\n",
      "                          chop      0 bytes  Base.#chop\n",
      "                         chown      0 bytes  Base.Filesystem.#chown\n",
      "                       chr2ind      0 bytes  Base.#chr2ind\n",
      "                     circshift      0 bytes  Base.#circshift\n",
      "                           cis      0 bytes  Base.#cis\n",
      "                         clamp      0 bytes  Base.Math.#clamp\n",
      "                        clamp!      0 bytes  Base.Math.#clamp!\n",
      "                           cld      0 bytes  Base.#cld\n",
      "                        clear!      0 bytes  Base.#clear!\n",
      "                     clipboard      0 bytes  Base.#clipboard\n",
      "                         close      0 bytes  Base.#close\n",
      "                           cmp      0 bytes  Base.#cmp\n",
      "                     code_llvm      0 bytes  Base.#code_llvm\n",
      "                  code_lowered      0 bytes  Base.#code_lowered\n",
      "                   code_native      0 bytes  Base.#code_native\n",
      "                    code_typed      0 bytes  Base.#code_typed\n",
      "                 code_warntype      0 bytes  Base.#code_warntype\n",
      "                       collect      0 bytes  Base.#collect\n",
      "                         colon      0 bytes  Base.#colon\n",
      "                  combinations      0 bytes  Base.#combinations\n",
      "                       complex      0 bytes  Base.#complex\n",
      "                          cond      0 bytes  Base.LinAlg.#cond\n",
      "                     condskeel      0 bytes  Base.LinAlg.#condskeel\n",
      "                          conj      0 bytes  Base.#conj\n",
      "                         conj!      0 bytes  Base.#conj!\n",
      "                       connect      0 bytes  Base.#connect\n",
      "                       consume      0 bytes  Base.#consume\n",
      "                      contains      0 bytes  Base.#contains\n",
      "                          conv      0 bytes  Base.DSP.#conv\n",
      "                         conv2      0 bytes  Base.DSP.#conv2\n",
      "                       convert      0 bytes  Base.#convert\n",
      "                          copy      0 bytes  Base.#copy\n",
      "                         copy!      0 bytes  Base.#copy!\n",
      "                      copysign      0 bytes  Base.#copysign\n",
      "                           cor      0 bytes  Base.#cor\n",
      "                           cos      0 bytes  Base.#cos\n",
      "                          cosc      0 bytes  Base.Math.#cosc\n",
      "                          cosd      0 bytes  Base.Math.#cosd\n",
      "                          cosh      0 bytes  Base.#cosh\n",
      "                         cospi      0 bytes  Base.Math.#cospi\n",
      "                           cot      0 bytes  Base.Math.#cot\n",
      "                          cotd      0 bytes  Base.Math.#cotd\n",
      "                          coth      0 bytes  Base.Math.#coth\n",
      "                         count      0 bytes  Base.#count\n",
      "                    count_ones      0 bytes  Base.#count_ones\n",
      "                   count_zeros      0 bytes  Base.#count_zeros\n",
      "                     countfrom      0 bytes  Base.#countfrom\n",
      "                    countlines      0 bytes  Base.DataFmt.#countlines\n",
      "                       countnz      0 bytes  Base.#countnz\n",
      "                           cov      0 bytes  Base.#cov\n",
      "                            cp      0 bytes  Base.Filesystem.#cp\n",
      "                         cross      0 bytes  Base.LinAlg.#cross\n",
      "                           csc      0 bytes  Base.Math.#csc\n",
      "                          cscd      0 bytes  Base.Math.#cscd\n",
      "                          csch      0 bytes  Base.Math.#csch\n",
      "                         ctime      0 bytes  Base.Filesystem.#ctime\n",
      "                    ctranspose      0 bytes  Base.#ctranspose\n",
      "                   ctranspose!      0 bytes  Base.#ctranspose!\n",
      "                        cummax      0 bytes  Base.#cummax\n",
      "                        cummin      0 bytes  Base.#cummin\n",
      "                       cumprod      0 bytes  Base.#cumprod\n",
      "                      cumprod!      0 bytes  Base.#cumprod!\n",
      "                        cumsum      0 bytes  Base.#cumsum\n",
      "                       cumsum!      0 bytes  Base.#cumsum!\n",
      "                    cumsum_kbn      0 bytes  Base.#cumsum_kbn\n",
      "                current_module      0 bytes  Base.#current_module\n",
      "                  current_task      0 bytes  Base.#current_task\n",
      "                         cycle      0 bytes  Base.#cycle\n",
      "                        dawson      0 bytes  Base.Math.#dawson\n",
      "                           dct      0 bytes  Base.DFT.FFTW.#dct\n",
      "                          dct!      0 bytes  Base.DFT.FFTW.#dct!\n",
      "                           dec      0 bytes  Base.#dec\n",
      "                        deconv      0 bytes  Base.DSP.#deconv\n",
      "                      deepcopy      0 bytes  Base.#deepcopy\n",
      "           default_worker_pool      0 bytes  Base.#default_worker_pool\n",
      "                       deg2rad      0 bytes  Base.Math.#deg2rad\n",
      "                       delete!      0 bytes  Base.#delete!\n",
      "                     deleteat!      0 bytes  Base.#deleteat!\n",
      "                           den      0 bytes  Base.#den\n",
      "                   deserialize      0 bytes  Base.Serializer.#deserialize\n",
      "                           det      0 bytes  Base.LinAlg.#det\n",
      "                        detach      0 bytes  Base.#detach\n",
      "                          diag      0 bytes  Base.LinAlg.#diag\n",
      "                       diagind      0 bytes  Base.LinAlg.#diagind\n",
      "                         diagm      0 bytes  Base.LinAlg.#diagm\n",
      "                          diff      0 bytes  Base.LinAlg.#diff\n",
      "                       digamma      0 bytes  Base.Math.#digamma\n",
      "                        digits      0 bytes  Base.#digits\n",
      "                       digits!      0 bytes  Base.#digits!\n",
      "                       dirname      0 bytes  Base.Filesystem.#dirname\n",
      "                disable_sigint      0 bytes  Base.#disable_sigint\n",
      "                       display      0 bytes  Base.Multimedia.#display\n",
      "                   displayable      0 bytes  Base.Multimedia.#displayable\n",
      "                   displaysize      0 bytes  Base.#displaysize\n",
      "                           div      0 bytes  Base.#div\n",
      "                        divrem      0 bytes  Base.#divrem\n",
      "                          done      0 bytes  Base.#done\n",
      "                           dot      0 bytes  Base.LinAlg.#dot\n",
      "                      download      0 bytes  Base.#download\n",
      "                          drop      0 bytes  Base.#drop\n",
      "                     dropzeros      0 bytes  Base.SparseArrays.#dropzeros\n",
      "                    dropzeros!      0 bytes  Base.SparseArrays.#dropzeros!\n",
      "                          dump      0 bytes  Base.#dump\n",
      "                             e      0 bytes  Irrational{:e}\n",
      "                     eachindex      0 bytes  Base.#eachindex\n",
      "                      eachline      0 bytes  Base.#eachline\n",
      "                     eachmatch      0 bytes  Base.#eachmatch\n",
      "                          edit      0 bytes  Base.#edit\n",
      "                           eig      0 bytes  Base.LinAlg.#eig\n",
      "                       eigfact      0 bytes  Base.LinAlg.#eigfact\n",
      "                      eigfact!      0 bytes  Base.LinAlg.#eigfact!\n",
      "                        eigmax      0 bytes  Base.LinAlg.#eigmax\n",
      "                        eigmin      0 bytes  Base.LinAlg.#eigmin\n",
      "                          eigs      0 bytes  Base.LinAlg.#eigs\n",
      "                       eigvals      0 bytes  Base.LinAlg.#eigvals\n",
      "                      eigvals!      0 bytes  Base.LinAlg.#eigvals!\n",
      "                       eigvecs      0 bytes  Base.LinAlg.#eigvecs\n",
      "                        eltype      0 bytes  Base.#eltype\n",
      "                        empty!      0 bytes  Base.#empty!\n",
      "                         endof      0 bytes  Base.#endof\n",
      "                      endswith      0 bytes  Base.#endswith\n",
      "                     enumerate      0 bytes  Base.#enumerate\n",
      "                           eof      0 bytes  Base.#eof\n",
      "                           eps      0 bytes  Base.#eps\n",
      "                           erf      0 bytes  Base.Math.#erf\n",
      "                          erfc      0 bytes  Base.Math.#erfc\n",
      "                       erfcinv      0 bytes  Base.Math.#erfcinv\n",
      "                         erfcx      0 bytes  Base.Math.#erfcx\n",
      "                          erfi      0 bytes  Base.Math.#erfi\n",
      "                        erfinv      0 bytes  Base.Math.#erfinv\n",
      "                         error      0 bytes  Base.#error\n",
      "                           esc      0 bytes  Base.#esc\n",
      "                 escape_string      0 bytes  Base.#escape_string\n",
      "                           eta      0 bytes  Base.Math.#eta\n",
      "                         etree      0 bytes  Base.#etree\n",
      "                            eu      0 bytes  Irrational{:e}\n",
      "                    eulergamma      0 bytes  Irrational{:γ}\n",
      "                      evalfile      0 bytes  Base.#evalfile\n",
      "                          exit      0 bytes  Base.#exit\n",
      "                           exp      0 bytes  Base.#exp\n",
      "                         exp10      0 bytes  Base.#exp10\n",
      "                          exp2      0 bytes  Base.#exp2\n",
      "                        expand      0 bytes  Base.#expand\n",
      "                    expanduser      0 bytes  Base.Filesystem.#expanduser\n",
      "                          expm      0 bytes  Base.LinAlg.#expm\n",
      "                         expm1      0 bytes  Base.#expm1\n",
      "                      exponent      0 bytes  Base.Math.#exponent\n",
      "                       extrema      0 bytes  Base.#extrema\n",
      "                           eye      0 bytes  Base.#eye\n",
      "                        factor      0 bytes  Base.#factor\n",
      "                     factorial      0 bytes  Base.#factorial\n",
      "                     factorize      0 bytes  Base.LinAlg.#factorize\n",
      "                        falses      0 bytes  Base.#falses\n",
      "                            fd      0 bytes  Base.#fd\n",
      "                          fdio      0 bytes  Base.#fdio\n",
      "                         fetch      0 bytes  Base.#fetch\n",
      "                           fft      0 bytes  Base.DFT.#fft\n",
      "                          fft!      0 bytes  Base.DFT.#fft!\n",
      "                      fftshift      0 bytes  Base.DFT.#fftshift\n",
      "                  field_offset      0 bytes  Base.#field_offset\n",
      "                     fieldname      0 bytes  Base.#fieldname\n",
      "                    fieldnames      0 bytes  Base.#fieldnames\n",
      "                   fieldoffset      0 bytes  Base.#fieldoffset\n",
      "                  fieldoffsets      0 bytes  Base.#fieldoffsets\n",
      "                      filemode      0 bytes  Base.Filesystem.#filemode\n",
      "                      filesize      0 bytes  Base.Filesystem.#filesize\n",
      "                          fill      0 bytes  Base.#fill\n",
      "                         fill!      0 bytes  Base.#fill!\n",
      "                          filt      0 bytes  Base.DSP.#filt\n",
      "                         filt!      0 bytes  Base.DSP.#filt!\n",
      "                        filter      0 bytes  Base.#filter\n",
      "                       filter!      0 bytes  Base.#filter!\n",
      "                      finalize      0 bytes  Base.#finalize\n",
      "                     finalizer      0 bytes  Base.#finalizer\n",
      "                          find      0 bytes  Base.#find\n",
      "                     findfirst      0 bytes  Base.#findfirst\n",
      "                        findin      0 bytes  Base.#findin\n",
      "                      findlast      0 bytes  Base.#findlast\n",
      "                       findmax      0 bytes  Base.#findmax\n",
      "                      findmax!      0 bytes  Base.#findmax!\n",
      "                       findmin      0 bytes  Base.#findmin\n",
      "                      findmin!      0 bytes  Base.#findmin!\n",
      "                         findn      0 bytes  Base.#findn\n",
      "                      findnext      0 bytes  Base.#findnext\n",
      "                        findnz      0 bytes  Base.#findnz\n",
      "                      findprev      0 bytes  Base.#findprev\n",
      "                         first      0 bytes  Base.#first\n",
      "                           fld      0 bytes  Base.#fld\n",
      "                          fld1      0 bytes  Base.#fld1\n",
      "                        fldmod      0 bytes  Base.#fldmod\n",
      "                       fldmod1      0 bytes  Base.#fldmod1\n",
      "                     flipbits!      0 bytes  Base.#flipbits!\n",
      "                       flipdim      0 bytes  Base.#flipdim\n",
      "                      flipsign      0 bytes  Base.#flipsign\n",
      "                         float      0 bytes  Base.#float\n",
      "                         floor      0 bytes  Base.#floor\n",
      "                         flush      0 bytes  Base.#flush\n",
      "                           fma      0 bytes  Base.#fma\n",
      "                         foldl      0 bytes  Base.#foldl\n",
      "                         foldr      0 bytes  Base.#foldr\n",
      "                       foreach      0 bytes  Base.#foreach\n",
      "                         frexp      0 bytes  Base.Math.#frexp\n",
      "                          full      0 bytes  Base.#full\n",
      "                      fullname      0 bytes  Base.#fullname\n",
      "                   functionloc      0 bytes  Base.#functionloc\n",
      "                         gamma      0 bytes  Base.Math.#gamma\n",
      "                            gc      0 bytes  Base.#gc\n",
      "                     gc_enable      0 bytes  Base.#gc_enable\n",
      "                           gcd      0 bytes  Base.#gcd\n",
      "                          gcdx      0 bytes  Base.#gcdx\n",
      "                        gensym      0 bytes  Base.#gensym\n",
      "                           get      0 bytes  Base.#get\n",
      "                          get!      0 bytes  Base.#get!\n",
      "        get_bigfloat_precision      0 bytes  Base.#get_bigfloat_precision\n",
      "                  get_rounding      0 bytes  Base.#get_rounding\n",
      "           get_zero_subnormals      0 bytes  Base.Rounding.#get_zero_subnormals\n",
      "                   getaddrinfo      0 bytes  Base.#getaddrinfo\n",
      "                   gethostname      0 bytes  Base.Libc.#gethostname\n",
      "                      getindex      0 bytes  Base.#getindex\n",
      "                     getipaddr      0 bytes  Base.#getipaddr\n",
      "                        getkey      0 bytes  Base.#getkey\n",
      "                        getpid      0 bytes  Base.Libc.#getpid\n",
      "                   getsockname      0 bytes  Base.#getsockname\n",
      "                        givens      0 bytes  Base.LinAlg.#givens\n",
      "                        golden      0 bytes  Irrational{:φ}\n",
      "                         gperm      0 bytes  Base.Filesystem.#gperm\n",
      "                      gradient      0 bytes  Base.LinAlg.#gradient\n",
      "                     graphemes      0 bytes  Base.UTF8proc.#graphemes\n",
      "                      hankelh1      0 bytes  Base.Math.#hankelh1\n",
      "                     hankelh1x      0 bytes  Base.Math.#hankelh1x\n",
      "                      hankelh2      0 bytes  Base.Math.#hankelh2\n",
      "                     hankelh2x      0 bytes  Base.Math.#hankelh2x\n",
      "                          hash      0 bytes  Base.#hash\n",
      "                        haskey      0 bytes  Base.#haskey\n",
      "                          hcat      0 bytes  Base.#hcat\n",
      "                      hessfact      0 bytes  Base.LinAlg.#hessfact\n",
      "                     hessfact!      0 bytes  Base.LinAlg.#hessfact!\n",
      "                           hex      0 bytes  Base.#hex\n",
      "                     hex2bytes      0 bytes  Base.#hex2bytes\n",
      "                       hex2num      0 bytes  Base.#hex2num\n",
      "                          hist      0 bytes  Base.#hist\n",
      "                         hist!      0 bytes  Base.#hist!\n",
      "                        hist2d      0 bytes  Base.#hist2d\n",
      "                       hist2d!      0 bytes  Base.#hist2d!\n",
      "                     histrange      0 bytes  Base.#histrange\n",
      "                       homedir      0 bytes  Base.Filesystem.#homedir\n",
      "                          htol      0 bytes  Base.#htol\n",
      "                          hton      0 bytes  Base.#hton\n",
      "                         hvcat      0 bytes  Base.#hvcat\n",
      "                         hypot      0 bytes  Base.Math.#hypot\n",
      "                          idct      0 bytes  Base.DFT.FFTW.#idct\n",
      "                         idct!      0 bytes  Base.DFT.FFTW.#idct!\n",
      "                      identity      0 bytes  Base.#identity\n",
      "                        ifelse      0 bytes  Base.#ifelse\n",
      "                          ifft      0 bytes  Base.DFT.#ifft\n",
      "                         ifft!      0 bytes  Base.DFT.#ifft!\n",
      "                     ifftshift      0 bytes  Base.DFT.#ifftshift\n",
      "                  ignorestatus      0 bytes  Base.#ignorestatus\n",
      "                            im      2 bytes  Complex{Bool}\n",
      "                          imag      0 bytes  Base.#imag\n",
      "                            in      0 bytes  Base.#in\n",
      "                       include      0 bytes  Base.#include_from_node1\n",
      "            include_dependency      0 bytes  Base.#include_dependency\n",
      "                include_string      0 bytes  Base.#include_string\n",
      "                       ind2chr      0 bytes  Base.#ind2chr\n",
      "                       ind2sub      0 bytes  Base.#ind2sub\n",
      "                       indexin      0 bytes  Base.#indexin\n",
      "                     indexpids      0 bytes  Base.#indexpids\n",
      "                       indices      0 bytes  Base.#indices\n",
      "                        indmax      0 bytes  Base.#indmax\n",
      "                        indmin      0 bytes  Base.#indmin\n",
      "                          info      0 bytes  Base.#info\n",
      "                   init_worker      0 bytes  Base.#init_worker\n",
      "                       insert!      0 bytes  Base.#insert!\n",
      "                     instances      0 bytes  Base.#instances\n",
      "                     interrupt      0 bytes  Base.#interrupt\n",
      "                     intersect      0 bytes  Base.#intersect\n",
      "                    intersect!      0 bytes  Base.#intersect!\n",
      "                           inv      0 bytes  Base.#inv\n",
      "                    invdigamma      0 bytes  Base.Math.#invdigamma\n",
      "                        invmod      0 bytes  Base.#invmod\n",
      "                       invperm      0 bytes  Base.#invperm\n",
      "                     ipermute!      0 bytes  Base.#ipermute!\n",
      "                  ipermutedims      0 bytes  Base.#ipermutedims\n",
      "                         irfft      0 bytes  Base.DFT.#irfft\n",
      "                      is_apple      0 bytes  Base.#is_apple\n",
      "              is_assigned_char      0 bytes  Base.UTF8proc.#is_assigned_char\n",
      "                        is_bsd      0 bytes  Base.#is_bsd\n",
      "                      is_linux      0 bytes  Base.#is_linux\n",
      "                       is_unix      0 bytes  Base.#is_unix\n",
      "                    is_windows      0 bytes  Base.#is_windows\n",
      "                     isabspath      0 bytes  Base.Filesystem.#isabspath\n",
      "                       isalnum      0 bytes  Base.UTF8proc.#isalnum\n",
      "                       isalpha      0 bytes  Base.UTF8proc.#isalpha\n",
      "                      isapprox      0 bytes  Base.#isapprox\n",
      "                       isascii      0 bytes  Base.#isascii\n",
      "                    isassigned      0 bytes  Base.#isassigned\n",
      "                        isbits      0 bytes  Base.#isbits\n",
      "                    isblockdev      0 bytes  Base.Filesystem.#isblockdev\n",
      "                     ischardev      0 bytes  Base.Filesystem.#ischardev\n",
      "                       iscntrl      0 bytes  Base.UTF8proc.#iscntrl\n",
      "                       isconst      0 bytes  Base.#isconst\n",
      "                        isdiag      0 bytes  Base.LinAlg.#isdiag\n",
      "                       isdigit      0 bytes  Base.UTF8proc.#isdigit\n",
      "                         isdir      0 bytes  Base.Filesystem.#isdir\n",
      "                     isdirpath      0 bytes  Base.Filesystem.#isdirpath\n",
      "                       isempty      0 bytes  Base.#isempty\n",
      "                       isequal      0 bytes  Base.#isequal\n",
      "                        iseven      0 bytes  Base.#iseven\n",
      "                  isexecutable      0 bytes  Base.#isexecutable\n",
      "                        isfifo      0 bytes  Base.Filesystem.#isfifo\n",
      "                        isfile      0 bytes  Base.Filesystem.#isfile\n",
      "                      isfinite      0 bytes  Base.#isfinite\n",
      "                     isgeneric      0 bytes  Base.#isgeneric\n",
      "                       isgraph      0 bytes  Base.UTF8proc.#isgraph\n",
      "                   ishermitian      0 bytes  Base.LinAlg.#ishermitian\n",
      "                        isimag      0 bytes  Base.#isimag\n",
      "                   isimmutable      0 bytes  Base.#isimmutable\n",
      "                         isinf      0 bytes  Base.#isinf\n",
      "                     isinteger      0 bytes  Base.#isinteger\n",
      "                 isinteractive      0 bytes  Base.#isinteractive\n",
      "                    isleaftype      0 bytes  Base.#isleaftype\n",
      "                        isless      0 bytes  Base.#isless\n",
      "                        islink      0 bytes  Base.Filesystem.#islink\n",
      "                      islocked      0 bytes  Base.#islocked\n",
      "                       islower      0 bytes  Base.UTF8proc.#islower\n",
      "                      ismarked      0 bytes  Base.#ismarked\n",
      "                       ismatch      0 bytes  Base.#ismatch\n",
      "                       ismount      0 bytes  Base.Filesystem.#ismount\n",
      "                         isnan      0 bytes  Base.#isnan\n",
      "                        isnull      0 bytes  Base.#isnull\n",
      "                      isnumber      0 bytes  Base.UTF8proc.#isnumber\n",
      "                         isodd      0 bytes  Base.#isodd\n",
      "                        isopen      0 bytes  Base.#isopen\n",
      "                        ispath      0 bytes  Base.Filesystem.#ispath\n",
      "                        isperm      0 bytes  Base.#isperm\n",
      "                      isposdef      0 bytes  Base.LinAlg.#isposdef\n",
      "                     isposdef!      0 bytes  Base.LinAlg.#isposdef!\n",
      "                        ispow2      0 bytes  Base.#ispow2\n",
      "                       isprime      0 bytes  Base.#isprime\n",
      "                       isprint      0 bytes  Base.UTF8proc.#isprint\n",
      "                       ispunct      0 bytes  Base.UTF8proc.#ispunct\n",
      "                         isqrt      0 bytes  Base.#isqrt\n",
      "                    isreadable      0 bytes  Base.#isreadable\n",
      "                    isreadonly      0 bytes  Base.#isreadonly\n",
      "                       isready      0 bytes  Base.#isready\n",
      "                        isreal      0 bytes  Base.#isreal\n",
      "                      issetgid      0 bytes  Base.Filesystem.#issetgid\n",
      "                      issetuid      0 bytes  Base.Filesystem.#issetuid\n",
      "                      issocket      0 bytes  Base.Filesystem.#issocket\n",
      "                      issorted      0 bytes  Base.#issorted\n",
      "                       isspace      0 bytes  Base.UTF8proc.#isspace\n",
      "                      issparse      0 bytes  Base.SparseArrays.#issparse\n",
      "                      issticky      0 bytes  Base.Filesystem.#issticky\n",
      "                   issubnormal      0 bytes  Base.#issubnormal\n",
      "                      issubset      0 bytes  Base.#issubset\n",
      "                         issym      0 bytes  Base.#issym\n",
      "                   issymmetric      0 bytes  Base.LinAlg.#issymmetric\n",
      "                    istaskdone      0 bytes  Base.#istaskdone\n",
      "                 istaskstarted      0 bytes  Base.#istaskstarted\n",
      "                        istext      0 bytes  Base.#istext\n",
      "                    istextmime      0 bytes  Base.Multimedia.#istextmime\n",
      "                        istril      0 bytes  Base.LinAlg.#istril\n",
      "                        istriu      0 bytes  Base.LinAlg.#istriu\n",
      "                       isupper      0 bytes  Base.UTF8proc.#isupper\n",
      "                       isvalid      0 bytes  Base.#isvalid\n",
      "                    iswritable      0 bytes  Base.#iswritable\n",
      "                      isxdigit      0 bytes  Base.#isxdigit\n",
      "                          join      0 bytes  Base.#join\n",
      "                      joinpath      0 bytes  Base.Filesystem.#joinpath\n",
      "                          keys      0 bytes  Base.#keys\n",
      "                       keytype      0 bytes  Base.#keytype\n",
      "                          kill      0 bytes  Base.#kill\n",
      "                          kron      0 bytes  Base.#kron\n",
      "                          last      0 bytes  Base.#last\n",
      "                        launch      0 bytes  Base.#launch\n",
      "                         lbeta      0 bytes  Base.Math.#lbeta\n",
      "                       lcfirst      0 bytes  Base.#lcfirst\n",
      "                           lcm      0 bytes  Base.#lcm\n",
      "                         ldexp      0 bytes  Base.Math.#ldexp\n",
      "                      ldltfact      0 bytes  Base.LinAlg.#ldltfact\n",
      "                     ldltfact!      0 bytes  Base.LinAlg.#ldltfact!\n",
      "                  leading_ones      0 bytes  Base.#leading_ones\n",
      "                 leading_zeros      0 bytes  Base.#leading_zeros\n",
      "                        length      0 bytes  Base.#length\n",
      "                          less      0 bytes  Base.#less\n",
      "                    levicivita      0 bytes  Base.#levicivita\n",
      "                        lexcmp      0 bytes  Base.#lexcmp\n",
      "                       lexless      0 bytes  Base.#lexless\n",
      "                         lfact      0 bytes  Base.Math.#lfact\n",
      "                        lgamma      0 bytes  Base.Math.#lgamma\n",
      "                 linearindices      0 bytes  Base.#linearindices\n",
      "                        linreg      0 bytes  Base.LinAlg.#linreg\n",
      "                      linspace      0 bytes  Base.#linspace\n",
      "                        listen      0 bytes  Base.#listen\n",
      "                     listenany      0 bytes  Base.#listenany\n",
      "                  localindexes      0 bytes  Base.#localindexes\n",
      "                          lock      0 bytes  Base.#lock\n",
      "                           log      0 bytes  Base.#log\n",
      "                         log10      0 bytes  Base.#log10\n",
      "                         log1p      0 bytes  Base.#log1p\n",
      "                          log2      0 bytes  Base.#log2\n",
      "                     logabsdet      0 bytes  Base.LinAlg.#logabsdet\n",
      "                        logdet      0 bytes  Base.LinAlg.#logdet\n",
      "                          logm      0 bytes  Base.LinAlg.#logm\n",
      "                      logspace      0 bytes  Base.#logspace\n",
      "                     lowercase      0 bytes  Base.#lowercase\n",
      "                          lpad      0 bytes  Base.#lpad\n",
      "                            lq      0 bytes  Base.LinAlg.#lq\n",
      "                        lqfact      0 bytes  Base.LinAlg.#lqfact\n",
      "                       lqfact!      0 bytes  Base.LinAlg.#lqfact!\n",
      "                         lstat      0 bytes  Base.Filesystem.#lstat\n",
      "                        lstrip      0 bytes  Base.#lstrip\n",
      "                          ltoh      0 bytes  Base.#ltoh\n",
      "                            lu      0 bytes  Base.LinAlg.#lu\n",
      "                        lufact      0 bytes  Base.LinAlg.#lufact\n",
      "                       lufact!      0 bytes  Base.LinAlg.#lufact!\n",
      "                          lyap      0 bytes  Base.LinAlg.#lyap\n",
      "                   macroexpand      0 bytes  Base.#macroexpand\n",
      "                        manage      0 bytes  Base.#manage\n",
      "                           map      0 bytes  Base.#map\n",
      "                          map!      0 bytes  Base.#map!\n",
      "                      mapfoldl      0 bytes  Base.#mapfoldl\n",
      "                      mapfoldr      0 bytes  Base.#mapfoldr\n",
      "                     mapreduce      0 bytes  Base.#mapreduce\n",
      "                  mapreducedim      0 bytes  Base.#mapreducedim\n",
      "                     mapslices      0 bytes  Base.#mapslices\n",
      "                          mark      0 bytes  Base.#mark\n",
      "                         match      0 bytes  Base.#match\n",
      "                      matchall      0 bytes  Base.#matchall\n",
      "                           max      0 bytes  Base.#max\n",
      "                        maxabs      0 bytes  Base.#maxabs\n",
      "                       maxabs!      0 bytes  Base.#maxabs!\n",
      "                       maximum      0 bytes  Base.#maximum\n",
      "                      maximum!      0 bytes  Base.#maximum!\n",
      "                   maxintfloat      0 bytes  Base.#maxintfloat\n",
      "                          mean      0 bytes  Base.#mean\n",
      "                         mean!      0 bytes  Base.#mean!\n",
      "                        median      0 bytes  Base.#median\n",
      "                       median!      0 bytes  Base.#median!\n",
      "                         merge      0 bytes  Base.#merge\n",
      "                        merge!      0 bytes  Base.#merge!\n",
      "                 method_exists      0 bytes  Base.#method_exists\n",
      "                       methods      0 bytes  Base.#methods\n",
      "                   methodswith      0 bytes  Base.#methodswith\n",
      "                        middle      0 bytes  Base.#middle\n",
      "                     midpoints      0 bytes  Base.#midpoints\n",
      "                  mimewritable      0 bytes  Base.Multimedia.#mimewritable\n",
      "                           min      0 bytes  Base.#min\n",
      "                        minabs      0 bytes  Base.#minabs\n",
      "                       minabs!      0 bytes  Base.#minabs!\n",
      "                       minimum      0 bytes  Base.#minimum\n",
      "                      minimum!      0 bytes  Base.#minimum!\n",
      "                        minmax      0 bytes  Base.#minmax\n",
      "                         mkdir      0 bytes  Base.Filesystem.#mkdir\n",
      "                        mkpath      0 bytes  Base.Filesystem.#mkpath\n",
      "                        mktemp      0 bytes  Base.Filesystem.#mktemp\n",
      "                     mktempdir      0 bytes  Base.Filesystem.#mktempdir\n",
      "                           mod      0 bytes  Base.#mod\n",
      "                          mod1      0 bytes  Base.#mod1\n",
      "                        mod2pi      0 bytes  Base.Math.#mod2pi\n",
      "                          modf      0 bytes  Base.Math.#modf\n",
      "                   module_name      0 bytes  Base.#module_name\n",
      "                 module_parent      0 bytes  Base.#module_parent\n",
      "                         mtime      0 bytes  Base.Filesystem.#mtime\n",
      "                        muladd      0 bytes  Base.#muladd\n",
      "                            mv      0 bytes  Base.Filesystem.#mv\n",
      "                          myid      0 bytes  Base.#myid\n",
      "                         names      0 bytes  Base.#names\n",
      "                  nb_available      0 bytes  Base.#nb_available\n",
      "                       ndigits      0 bytes  Base.#ndigits\n",
      "                         ndims      0 bytes  Base.#ndims\n",
      "                          next      0 bytes  Base.#next\n",
      "                     nextfloat      0 bytes  Base.#nextfloat\n",
      "                       nextind      0 bytes  Base.#nextind\n",
      "                       nextpow      0 bytes  Base.#nextpow\n",
      "                      nextpow2      0 bytes  Base.#nextpow2\n",
      "                      nextprod      0 bytes  Base.#nextprod\n",
      "                           nnz      0 bytes  Base.SparseArrays.#nnz\n",
      "                      nonzeros      0 bytes  Base.SparseArrays.#nonzeros\n",
      "                          norm      0 bytes  Base.LinAlg.#norm\n",
      "                     normalize      0 bytes  Base.LinAlg.#normalize\n",
      "                    normalize!      0 bytes  Base.LinAlg.#normalize!\n",
      "              normalize_string      0 bytes  Base.UTF8proc.#normalize_string\n",
      "                      normpath      0 bytes  Base.Filesystem.#normpath\n",
      "                        notify      0 bytes  Base.#notify\n",
      "                           now      0 bytes  Base.Dates.#now\n",
      "                        nprocs      0 bytes  Base.#nprocs\n",
      "                       nthperm      0 bytes  Base.#nthperm\n",
      "                      nthperm!      0 bytes  Base.#nthperm!\n",
      "                          ntoh      0 bytes  Base.#ntoh\n",
      "                        ntuple      0 bytes  Base.#ntuple\n",
      "                     nullspace      0 bytes  Base.LinAlg.#nullspace\n",
      "                           num      0 bytes  Base.#num\n",
      "                       num2hex      0 bytes  Base.#num2hex\n",
      "                      nworkers      0 bytes  Base.#nworkers\n",
      "                       nzrange      0 bytes  Base.SparseArrays.#nzrange\n",
      "                     object_id      0 bytes  Base.#object_id\n",
      "                           oct      0 bytes  Base.#oct\n",
      "                        oftype      0 bytes  Base.#oftype\n",
      "                           one      0 bytes  Base.#one\n",
      "                          ones      0 bytes  Base.#ones\n",
      "                          open      0 bytes  Base.#open\n",
      "                         operm      0 bytes  Base.Filesystem.#operm\n",
      "                      ordschur      0 bytes  Base.LinAlg.#ordschur\n",
      "                     ordschur!      0 bytes  Base.LinAlg.#ordschur!\n",
      "                        parent      0 bytes  Base.#parent\n",
      "                 parentindexes      0 bytes  Base.#parentindexes\n",
      "                        parity      0 bytes  Base.#parity\n",
      "                         parse      0 bytes  Base.#parse\n",
      "                       parseip      0 bytes  Base.#parseip\n",
      "                    partitions      0 bytes  Base.#partitions\n",
      "                     peakflops      0 bytes  Base.LinAlg.#peakflops\n",
      "                  permutations      0 bytes  Base.#permutations\n",
      "                       permute      0 bytes  Base.SparseArrays.#permute\n",
      "                      permute!      0 bytes  Base.#permute!\n",
      "                   permutedims      0 bytes  Base.#permutedims\n",
      "                  permutedims!      0 bytes  Base.#permutedims!\n",
      "                            pi      0 bytes  Irrational{:π}\n",
      "                          pinv      0 bytes  Base.LinAlg.#pinv\n",
      "                      pipeline      0 bytes  Base.#pipeline\n",
      "                     plan_bfft      0 bytes  Base.DFT.#plan_bfft\n",
      "                    plan_bfft!      0 bytes  Base.DFT.#plan_bfft!\n",
      "                    plan_brfft      0 bytes  Base.DFT.#plan_brfft\n",
      "                      plan_dct      0 bytes  Base.DFT.FFTW.#plan_dct\n",
      "                     plan_dct!      0 bytes  Base.DFT.FFTW.#plan_dct!\n",
      "                      plan_fft      0 bytes  Base.DFT.#plan_fft\n",
      "                     plan_fft!      0 bytes  Base.DFT.#plan_fft!\n",
      "                     plan_idct      0 bytes  Base.DFT.FFTW.#plan_idct\n",
      "                    plan_idct!      0 bytes  Base.DFT.FFTW.#plan_idct!\n",
      "                     plan_ifft      0 bytes  Base.DFT.#plan_ifft\n",
      "                    plan_ifft!      0 bytes  Base.DFT.#plan_ifft!\n",
      "                    plan_irfft      0 bytes  Base.DFT.#plan_irfft\n",
      "                     plan_rfft      0 bytes  Base.DFT.#plan_rfft\n",
      "                          pmap      0 bytes  Base.#pmap\n",
      "                       pointer      0 bytes  Base.#pointer\n",
      "           pointer_from_objref      0 bytes  Base.#pointer_from_objref\n",
      "              pointer_to_array      0 bytes  Base.#pointer_to_array\n",
      "             pointer_to_string      0 bytes  Base.#pointer_to_string\n",
      "                       poll_fd      0 bytes  Base.Filesystem.#poll_fd\n",
      "                     poll_file      0 bytes  Base.Filesystem.#poll_file\n",
      "                     polygamma      0 bytes  Base.Math.#polygamma\n",
      "                          pop!      0 bytes  Base.#pop!\n",
      "                    popdisplay      0 bytes  Base.Multimedia.#popdisplay\n",
      "                      position      0 bytes  Base.#position\n",
      "                      powermod      0 bytes  Base.#powermod\n",
      "                     precision      0 bytes  Base.#precision\n",
      "                    precompile      0 bytes  Base.#precompile\n",
      "                      prepend!      0 bytes  Base.#prepend!\n",
      "                     prevfloat      0 bytes  Base.#prevfloat\n",
      "                       prevind      0 bytes  Base.#prevind\n",
      "                       prevpow      0 bytes  Base.#prevpow\n",
      "                      prevpow2      0 bytes  Base.#prevpow2\n",
      "                      prevprod      0 bytes  Base.#prevprod\n",
      "                        primes      0 bytes  Base.#primes\n",
      "                    primesmask      0 bytes  Base.#primesmask\n",
      "                         print      0 bytes  Base.#print\n",
      "                 print_escaped      0 bytes  Base.#print_escaped\n",
      "                  print_joined      0 bytes  Base.#print_joined\n",
      "                print_shortest      0 bytes  Base.Grisu.#print_shortest\n",
      "               print_unescaped      0 bytes  Base.#print_unescaped\n",
      "              print_with_color      0 bytes  Base.#print_with_color\n",
      "                       println      0 bytes  Base.#println\n",
      "                process_exited      0 bytes  Base.#process_exited\n",
      "               process_running      0 bytes  Base.#process_running\n",
      "                         procs      0 bytes  Base.#procs\n",
      "                          prod      0 bytes  Base.#prod\n",
      "                         prod!      0 bytes  Base.#prod!\n",
      "                       produce      0 bytes  Base.#produce\n",
      "                       promote      0 bytes  Base.#promote\n",
      "                  promote_rule      0 bytes  Base.#promote_rule\n",
      "                 promote_shape      0 bytes  Base.#promote_shape\n",
      "                  promote_type      0 bytes  Base.#promote_type\n",
      "                         push!      0 bytes  Base.#push!\n",
      "                   pushdisplay      0 bytes  Base.Multimedia.#pushdisplay\n",
      "                          put!      0 bytes  Base.#put!\n",
      "                           pwd      0 bytes  Base.Filesystem.#pwd\n",
      "                            qr      0 bytes  Base.LinAlg.#qr\n",
      "                        qrfact      0 bytes  Base.LinAlg.#qrfact\n",
      "                       qrfact!      0 bytes  Base.LinAlg.#qrfact!\n",
      "                        quadgk      0 bytes  Base.QuadGK.#quadgk\n",
      "                      quantile      0 bytes  Base.#quantile\n",
      "                     quantile!      0 bytes  Base.#quantile!\n",
      "                          quit      0 bytes  Base.#quit\n",
      "                       rad2deg      0 bytes  Base.Math.#rad2deg\n",
      "                          rand      0 bytes  Base.Random.#rand\n",
      "                         rand!      0 bytes  Base.Random.#rand!\n",
      "                     randcycle      0 bytes  Base.Random.#randcycle\n",
      "                       randexp      0 bytes  Base.Random.#randexp\n",
      "                      randexp!      0 bytes  Base.Random.#randexp!\n",
      "                      randjump      0 bytes  Base.Random.#randjump\n",
      "                         randn      0 bytes  Base.Random.#randn\n",
      "                        randn!      0 bytes  Base.Random.#randn!\n",
      "                      randperm      0 bytes  Base.Random.#randperm\n",
      "                    randstring      0 bytes  Base.Random.#randstring\n",
      "                    randsubseq      0 bytes  Base.Random.#randsubseq\n",
      "                   randsubseq!      0 bytes  Base.Random.#randsubseq!\n",
      "                         range      0 bytes  Base.#range\n",
      "                          rank      0 bytes  Base.LinAlg.#rank\n",
      "                   rationalize      0 bytes  Base.#rationalize\n",
      "                          read      0 bytes  Base.#read\n",
      "                         read!      0 bytes  Base.#read!\n",
      "                       readall      0 bytes  Base.#readall\n",
      "                  readandwrite      0 bytes  Base.#readandwrite\n",
      "                 readavailable      0 bytes  Base.#readavailable\n",
      "                     readbytes      0 bytes  Base.#readbytes\n",
      "                    readbytes!      0 bytes  Base.#readbytes!\n",
      "                     readchomp      0 bytes  Base.#readchomp\n",
      "                       readcsv      0 bytes  Base.DataFmt.#readcsv\n",
      "                       readdir      0 bytes  Base.Filesystem.#readdir\n",
      "                       readdlm      0 bytes  Base.DataFmt.#readdlm\n",
      "                      readline      0 bytes  Base.#readline\n",
      "                     readlines      0 bytes  Base.#readlines\n",
      "                      readlink      0 bytes  Base.Filesystem.#readlink\n",
      "                    readstring      0 bytes  Base.#readstring\n",
      "                     readuntil      0 bytes  Base.#readuntil\n",
      "                          real      0 bytes  Base.#real\n",
      "                       realmax      0 bytes  Base.#realmax\n",
      "                       realmin      0 bytes  Base.#realmin\n",
      "                      realpath      0 bytes  Base.Filesystem.#realpath\n",
      "                          recv      0 bytes  Base.#recv\n",
      "                      recvfrom      0 bytes  Base.#recvfrom\n",
      "               redirect_stderr      0 bytes  Base.#redirect_stderr\n",
      "                redirect_stdin      0 bytes  Base.#redirect_stdin\n",
      "               redirect_stdout      0 bytes  Base.#redirect_stdout\n",
      "                     redisplay      0 bytes  Base.Multimedia.#redisplay\n",
      "                        reduce      0 bytes  Base.#reduce\n",
      "                     reducedim      0 bytes  Base.#reducedim\n",
      "               reenable_sigint      0 bytes  Base.#reenable_sigint\n",
      "                          reim      0 bytes  Base.#reim\n",
      "                   reinterpret      0 bytes  Base.#reinterpret\n",
      "                        reload      0 bytes  Base.#reload\n",
      "                       relpath      0 bytes  Base.Filesystem.#relpath\n",
      "                           rem      0 bytes  Base.#rem\n",
      "                          rem1      0 bytes  Base.#rem1\n",
      "                        remote      0 bytes  Base.#remote\n",
      "                    remotecall      0 bytes  Base.#remotecall\n",
      "              remotecall_fetch      0 bytes  Base.#remotecall_fetch\n",
      "               remotecall_wait      0 bytes  Base.#remotecall_wait\n",
      "                        repeat      0 bytes  Base.#repeat\n",
      "                      repeated      0 bytes  Base.#repeated\n",
      "                       replace      0 bytes  Base.#replace\n",
      "                        repmat      0 bytes  Base.#repmat\n",
      "                          repr      0 bytes  Base.#repr\n",
      "                      reprmime      0 bytes  Base.Multimedia.#reprmime\n",
      "                         reset      0 bytes  Base.#reset\n",
      "                       reshape      0 bytes  Base.#reshape\n",
      "                       resize!      0 bytes  Base.#resize!\n",
      "                          rest      0 bytes  Base.#rest\n",
      "                       rethrow      0 bytes  Base.#rethrow\n",
      "                         retry      0 bytes  Base.#retry\n",
      "                       reverse      0 bytes  Base.#reverse\n",
      "                      reverse!      0 bytes  Base.#reverse!\n",
      "                    reverseind      0 bytes  Base.#reverseind\n",
      "                          rfft      0 bytes  Base.DFT.#rfft\n",
      "                            rm      0 bytes  Base.Filesystem.#rm\n",
      "                       rmprocs      0 bytes  Base.#rmprocs\n",
      "                           rol      0 bytes  Base.#rol\n",
      "                          rol!      0 bytes  Base.#rol!\n",
      "                           ror      0 bytes  Base.#ror\n",
      "                          ror!      0 bytes  Base.#ror!\n",
      "                        rot180      0 bytes  Base.#rot180\n",
      "                        rotl90      0 bytes  Base.#rotl90\n",
      "                        rotr90      0 bytes  Base.#rotr90\n",
      "                         round      0 bytes  Base.#round\n",
      "                      rounding      0 bytes  Base.Rounding.#rounding\n",
      "                       rowvals      0 bytes  Base.SparseArrays.#rowvals\n",
      "                          rpad      0 bytes  Base.#rpad\n",
      "                       rsearch      0 bytes  Base.#rsearch\n",
      "                  rsearchindex      0 bytes  Base.#rsearchindex\n",
      "                        rsplit      0 bytes  Base.#rsplit\n",
      "                        rstrip      0 bytes  Base.#rstrip\n",
      "                           run      0 bytes  Base.#run\n",
      "                         scale      0 bytes  Base.#scale\n",
      "                        scale!      0 bytes  Base.LinAlg.#scale!\n",
      "                      schedule      0 bytes  Base.#schedule\n",
      "                         schur      0 bytes  Base.LinAlg.#schur\n",
      "                     schurfact      0 bytes  Base.LinAlg.#schurfact\n",
      "                    schurfact!      0 bytes  Base.LinAlg.#schurfact!\n",
      "                         sdata      0 bytes  Base.#sdata\n",
      "                        search      0 bytes  Base.#search\n",
      "                   searchindex      0 bytes  Base.#searchindex\n",
      "                  searchsorted      0 bytes  Base.Sort.#searchsorted\n",
      "             searchsortedfirst      0 bytes  Base.Sort.#searchsortedfirst\n",
      "              searchsortedlast      0 bytes  Base.Sort.#searchsortedlast\n",
      "                           sec      0 bytes  Base.Math.#sec\n",
      "                          secd      0 bytes  Base.Math.#secd\n",
      "                          sech      0 bytes  Base.Math.#sech\n",
      "                          seek      0 bytes  Base.#seek\n",
      "                       seekend      0 bytes  Base.#seekend\n",
      "                     seekstart      0 bytes  Base.#seekstart\n",
      "                        select      0 bytes  Base.Sort.#select\n",
      "                       select!      0 bytes  Base.Sort.#select!\n",
      "                    selectperm      0 bytes  Base.Sort.#selectperm\n",
      "                   selectperm!      0 bytes  Base.Sort.#selectperm!\n",
      "                          send      0 bytes  Base.#send\n",
      "                     serialize      0 bytes  Base.Serializer.#serialize\n",
      "        set_bigfloat_precision      0 bytes  Base.#set_bigfloat_precision\n",
      "                  set_rounding      0 bytes  Base.#set_rounding\n",
      "           set_zero_subnormals      0 bytes  Base.Rounding.#set_zero_subnormals\n",
      "                       setdiff      0 bytes  Base.#setdiff\n",
      "                      setdiff!      0 bytes  Base.#setdiff!\n",
      "                        setenv      0 bytes  Base.#setenv\n",
      "                     setindex!      0 bytes  Base.#setindex!\n",
      "                  setprecision      0 bytes  Base.MPFR.#setprecision\n",
      "                   setrounding      0 bytes  Base.Rounding.#setrounding\n",
      "                        shift!      0 bytes  Base.#shift!\n",
      "                          show      0 bytes  Base.#show\n",
      "                       showall      0 bytes  Base.#showall\n",
      "                   showcompact      0 bytes  Base.#showcompact\n",
      "               showcompact_lim      0 bytes  Base.#showcompact_lim\n",
      "                     showerror      0 bytes  Base.#showerror\n",
      "                       shuffle      0 bytes  Base.Random.#shuffle\n",
      "                      shuffle!      0 bytes  Base.Random.#shuffle!\n",
      "                          sign      0 bytes  Base.#sign\n",
      "                       signbit      0 bytes  Base.#signbit\n",
      "                        signed      0 bytes  Base.#signed\n",
      "                        signif      0 bytes  Base.#signif\n",
      "                   significand      0 bytes  Base.Math.#significand\n",
      "                       similar      0 bytes  Base.#similar\n",
      "                           sin      0 bytes  Base.#sin\n",
      "                          sinc      0 bytes  Base.Math.#sinc\n",
      "                          sind      0 bytes  Base.Math.#sind\n",
      "                          sinh      0 bytes  Base.#sinh\n",
      "                         sinpi      0 bytes  Base.Math.#sinpi\n",
      "                          size      0 bytes  Base.#size\n",
      "                     sizehint!      0 bytes  Base.#sizehint!\n",
      "                        sizeof      0 bytes  Base.#sizeof\n",
      "                          skip      0 bytes  Base.#skip\n",
      "                     skipchars      0 bytes  Base.#skipchars\n",
      "                         sleep      0 bytes  Base.#sleep\n",
      "                         slice      0 bytes  Base.#slice\n",
      "                      slicedim      0 bytes  Base.#slicedim\n",
      "                          sort      0 bytes  Base.#sort\n",
      "                         sort!      0 bytes  Base.#sort!\n",
      "                      sortcols      0 bytes  Base.Sort.#sortcols\n",
      "                      sortperm      0 bytes  Base.#sortperm\n",
      "                     sortperm!      0 bytes  Base.Sort.#sortperm!\n",
      "                      sortrows      0 bytes  Base.Sort.#sortrows\n",
      "                        sparse      0 bytes  Base.SparseArrays.#sparse\n",
      "                     sparsevec      0 bytes  Base.SparseArrays.#sparsevec\n",
      "                         spawn      0 bytes  Base.#spawn\n",
      "                       spdiagm      0 bytes  Base.SparseArrays.#spdiagm\n",
      "            specialized_binary      0 bytes  Base.#specialized_binary\n",
      "    specialized_bitwise_binary      0 bytes  Base.#specialized_bitwise_binary\n",
      "     specialized_bitwise_unary      0 bytes  Base.#specialized_bitwise_unary\n",
      "             specialized_unary      0 bytes  Base.#specialized_unary\n",
      "                         speye      0 bytes  Base.SparseArrays.#speye\n",
      "                       splice!      0 bytes  Base.#splice!\n",
      "                         split      0 bytes  Base.#split\n",
      "                      splitdir      0 bytes  Base.Filesystem.#splitdir\n",
      "                    splitdrive      0 bytes  Base.Filesystem.#splitdrive\n",
      "                      splitext      0 bytes  Base.Filesystem.#splitext\n",
      "                        spones      0 bytes  Base.SparseArrays.#spones\n",
      "                        sprand      0 bytes  Base.SparseArrays.#sprand\n",
      "                    sprandbool      0 bytes  Base.#sprandbool\n",
      "                       sprandn      0 bytes  Base.SparseArrays.#sprandn\n",
      "                        sprint      0 bytes  Base.#sprint\n",
      "                       spzeros      0 bytes  Base.SparseArrays.#spzeros\n",
      "                          sqrt      0 bytes  Base.#sqrt\n",
      "                         sqrtm      0 bytes  Base.LinAlg.#sqrtm\n",
      "                       squeeze      0 bytes  Base.#squeeze\n",
      "                         srand      0 bytes  Base.Random.#srand\n",
      "                    stacktrace      0 bytes  Base.StackTraces.#stacktrace\n",
      "                         start      0 bytes  Base.#start\n",
      "                    startswith      0 bytes  Base.#startswith\n",
      "                          stat      0 bytes  Base.#stat\n",
      "                           std      0 bytes  Base.#std\n",
      "                          stdm      0 bytes  Base.#stdm\n",
      "                          step      0 bytes  Base.#step\n",
      "                        stride      0 bytes  Base.#stride\n",
      "                       strides      0 bytes  Base.#strides\n",
      "                        string      0 bytes  Base.#string\n",
      "                    stringmime      0 bytes  Base.Multimedia.#stringmime\n",
      "                         strip      0 bytes  Base.#strip\n",
      "                      strwidth      0 bytes  Base.#strwidth\n",
      "                           sub      0 bytes  Base.#sub\n",
      "                       sub2ind      0 bytes  Base.#sub2ind\n",
      "                      subtypes      0 bytes  Base.#subtypes\n",
      "                       success      0 bytes  Base.#success\n",
      "                           sum      0 bytes  Base.#sum\n",
      "                          sum!      0 bytes  Base.#sum!\n",
      "                       sum_kbn      0 bytes  Base.#sum_kbn\n",
      "                        sumabs      0 bytes  Base.#sumabs\n",
      "                       sumabs!      0 bytes  Base.#sumabs!\n",
      "                       sumabs2      0 bytes  Base.#sumabs2\n",
      "                      sumabs2!      0 bytes  Base.#sumabs2!\n",
      "                       summary      0 bytes  Base.#summary\n",
      "                         super      0 bytes  Base.#super\n",
      "                     supertype      0 bytes  Base.#supertype\n",
      "                           svd      0 bytes  Base.LinAlg.#svd\n",
      "                       svdfact      0 bytes  Base.LinAlg.#svdfact\n",
      "                      svdfact!      0 bytes  Base.LinAlg.#svdfact!\n",
      "                          svds      0 bytes  Base.LinAlg.#svds\n",
      "                       svdvals      0 bytes  Base.LinAlg.#svdvals\n",
      "                      svdvals!      0 bytes  Base.LinAlg.#svdvals!\n",
      "                     sylvester      0 bytes  Base.LinAlg.#sylvester\n",
      "                        symbol      0 bytes  Base.#symbol\n",
      "                       symdiff      0 bytes  Base.#symdiff\n",
      "                      symdiff!      0 bytes  Base.#symdiff!\n",
      "                       symlink      0 bytes  Base.Filesystem.#symlink\n",
      "                       symperm      0 bytes  Base.#symperm\n",
      "                   systemerror      0 bytes  Base.#systemerror\n",
      "                          take      0 bytes  Base.#take\n",
      "                         take!      0 bytes  Base.#take!\n",
      "                 takebuf_array      0 bytes  Base.#takebuf_array\n",
      "                takebuf_string      0 bytes  Base.#takebuf_string\n",
      "                           tan      0 bytes  Base.#tan\n",
      "                          tand      0 bytes  Base.Math.#tand\n",
      "                          tanh      0 bytes  Base.#tanh\n",
      "            task_local_storage      0 bytes  Base.#task_local_storage\n",
      "                       tempdir      0 bytes  Base.Filesystem.#tempdir\n",
      "                      tempname      0 bytes  Base.Filesystem.#tempname\n",
      "                           tic      0 bytes  Base.#tic\n",
      "                          time      0 bytes  Base.Libc.#time\n",
      "                       time_ns      0 bytes  Base.#time_ns\n",
      "                     timedwait      0 bytes  Base.#timedwait\n",
      "                           toc      0 bytes  Base.#toc\n",
      "                           toq      0 bytes  Base.#toq\n",
      "                         touch      0 bytes  Base.Filesystem.#touch\n",
      "                         trace      0 bytes  Base.LinAlg.#trace\n",
      "                 trailing_ones      0 bytes  Base.#trailing_ones\n",
      "                trailing_zeros      0 bytes  Base.#trailing_zeros\n",
      "                  trailingsize      0 bytes  Base.#trailingsize\n",
      "                     transcode      0 bytes  Base.#transcode\n",
      "                     transpose      0 bytes  Base.#transpose\n",
      "                    transpose!      0 bytes  Base.#transpose!\n",
      "                      trigamma      0 bytes  Base.Math.#trigamma\n",
      "                          tril      0 bytes  Base.LinAlg.#tril\n",
      "                         tril!      0 bytes  Base.LinAlg.#tril!\n",
      "                          triu      0 bytes  Base.LinAlg.#triu\n",
      "                         triu!      0 bytes  Base.LinAlg.#triu!\n",
      "                         trues      0 bytes  Base.#trues\n",
      "                         trunc      0 bytes  Base.#trunc\n",
      "                      truncate      0 bytes  Base.#truncate\n",
      "                       trylock      0 bytes  Base.#trylock\n",
      "                      tryparse      0 bytes  Base.#tryparse\n",
      "                 typeintersect      0 bytes  Base.#typeintersect\n",
      "                      typejoin      0 bytes  Base.#typejoin\n",
      "                       typemax      0 bytes  Base.#typemax\n",
      "                       typemin      0 bytes  Base.#typemin\n",
      "                       ucfirst      0 bytes  Base.#ucfirst\n",
      "               unescape_string      0 bytes  Base.#unescape_string\n",
      "                         union      0 bytes  Base.#union\n",
      "                        union!      0 bytes  Base.#union!\n",
      "                        unique      0 bytes  Base.#unique\n",
      "                        unlock      0 bytes  Base.#unlock\n",
      "                        unmark      0 bytes  Base.#unmark\n",
      "                  unsafe_copy!      0 bytes  Base.#unsafe_copy!\n",
      "                   unsafe_load      0 bytes  Base.#unsafe_load\n",
      "      unsafe_pointer_to_objref      0 bytes  Base.#unsafe_pointer_to_objref\n",
      "                   unsafe_read      0 bytes  Base.#unsafe_read\n",
      "                 unsafe_store!      0 bytes  Base.#unsafe_store!\n",
      "                 unsafe_string      0 bytes  Base.#unsafe_string\n",
      "                  unsafe_trunc      0 bytes  Base.#unsafe_trunc\n",
      "                   unsafe_wrap      0 bytes  Base.#unsafe_wrap\n",
      "                  unsafe_write      0 bytes  Base.#unsafe_write\n",
      "                      unshift!      0 bytes  Base.#unshift!\n",
      "                      unsigned      0 bytes  Base.#unsigned\n",
      "                         uperm      0 bytes  Base.Filesystem.#uperm\n",
      "                     uppercase      0 bytes  Base.#uppercase\n",
      "                          utf8      0 bytes  Base.#utf8\n",
      "                       valtype      0 bytes  Base.#valtype\n",
      "                        values      0 bytes  Base.#values\n",
      "                           var      0 bytes  Base.#var\n",
      "                          varm      0 bytes  Base.#varm\n",
      "                          vcat      0 bytes  Base.#vcat\n",
      "                           vec      0 bytes  Base.#vec\n",
      "                        vecdot      0 bytes  Base.LinAlg.#vecdot\n",
      "                       vecnorm      0 bytes  Base.LinAlg.#vecnorm\n",
      "                   versioninfo      0 bytes  Base.#versioninfo\n",
      "                          view      0 bytes  Base.#view\n",
      "                          wait      0 bytes  Base.#wait\n",
      "                       walkdir      0 bytes  Base.Filesystem.#walkdir\n",
      "                          warn      0 bytes  Base.#warn\n",
      "                    watch_file      0 bytes  Base.Filesystem.#watch_file\n",
      "                         which      0 bytes  Base.#which\n",
      "                          whos      0 bytes  Base.#whos\n",
      "                       widemul      0 bytes  Base.#widemul\n",
      "                         widen      0 bytes  Base.#widen\n",
      "       with_bigfloat_precision      0 bytes  Base.#with_bigfloat_precision\n",
      "                 with_rounding      0 bytes  Base.#with_rounding\n",
      "                       withenv      0 bytes  Base.#withenv\n",
      "                       workers      0 bytes  Base.#workers\n",
      "                     workspace      0 bytes  Base.#workspace\n",
      "                         write      0 bytes  Base.#write\n",
      "                      writecsv      0 bytes  Base.DataFmt.#writecsv\n",
      "                      writedlm      0 bytes  Base.DataFmt.#writedlm\n",
      "                         xcorr      0 bytes  Base.DSP.#xcorr\n",
      "                         xdump      0 bytes  Base.#xdump\n",
      "                         yield      0 bytes  Base.#yield\n",
      "                       yieldto      0 bytes  Base.#yieldto\n",
      "                          zero      0 bytes  Base.#zero\n",
      "                         zeros      0 bytes  Base.#zeros\n",
      "                          zeta      0 bytes  Base.Math.#zeta\n",
      "                           zip      0 bytes  Base.#zip\n",
      "                             |      0 bytes  Base.#|\n",
      "                            |>      0 bytes  Base.#|>\n",
      "                             ~      0 bytes  Base.#~\n",
      "                             ×      0 bytes  Base.LinAlg.#cross\n",
      "                             ÷      0 bytes  Base.#div\n",
      "                             γ      0 bytes  Irrational{:γ}\n",
      "                             π      0 bytes  Irrational{:π}\n",
      "                             φ      0 bytes  Irrational{:φ}\n",
      "                             ∈      0 bytes  Base.#in\n",
      "                             ∉      0 bytes  Base.#∉\n",
      "                             ∋      0 bytes  Base.#∋\n",
      "                             ∌      0 bytes  Base.#∌\n",
      "                             √      0 bytes  Base.#sqrt\n",
      "                             ∛      0 bytes  Base.Math.#cbrt\n",
      "                             ∩      0 bytes  Base.#intersect\n",
      "                             ∪      0 bytes  Base.#union\n",
      "                             ≈      0 bytes  Base.#isapprox\n",
      "                             ≉      0 bytes  Base.#≉\n",
      "                             ≠      0 bytes  Base.#!=\n",
      "                             ≡      0 bytes  Core.#is\n",
      "                             ≢      0 bytes  Base.#!==\n",
      "                             ≤      0 bytes  Base.#<=\n",
      "                             ≥      0 bytes  Base.#>=\n",
      "                             ⊆      0 bytes  Base.#issubset\n",
      "                             ⊈      0 bytes  Base.#⊈\n",
      "                             ⊊      0 bytes  Base.#⊊\n",
      "                             ⋅      0 bytes  Base.LinAlg.#dot\n"
     ]
    }
   ],
   "source": [
    "whos(Base)"
   ]
  },
  {
   "cell_type": "code",
   "execution_count": null,
   "metadata": {
    "collapsed": true
   },
   "outputs": [],
   "source": []
  }
 ],
 "metadata": {
  "anaconda-cloud": {},
  "kernelspec": {
   "display_name": "Julia 0.5.1",
   "language": "julia",
   "name": "julia-0.5"
  },
  "language_info": {
   "file_extension": ".jl",
   "mimetype": "application/julia",
   "name": "julia",
   "version": "0.5.1"
  }
 },
 "nbformat": 4,
 "nbformat_minor": 0
}
