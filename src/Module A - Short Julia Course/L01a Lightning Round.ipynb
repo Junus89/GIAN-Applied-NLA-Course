{
 "cells": [
  {
   "cell_type": "markdown",
   "metadata": {},
   "source": [
    "# Lightning Round - Basic Features and Commands \n",
    "\n",
    "---\n",
    "\n",
    "In this notebook, we go through basic constructs and commands.\n",
    "\n",
    "## Competences \n",
    "\n",
    "The user should know to start `Julia` in various modes (command line prompt, `IJulia`), how to exit, learn some features and be able to write simple programs.\n",
    "\n",
    "## Credits\n",
    "\n",
    "This notebook is based on the [slides](https://github.com/JuliaLang/julia-tutorial/tree/master/LightningRound) accompanying  the Lightning Round [video]( https://www.youtube.com/watch?v=37L1OMk_3FU&feature=player_embedded#at=33) by [Alan Edelman](http://www-math.mit.edu/~edelman/index.php), all part of the [Julia Tutorial](https://github.com/JuliaLang/julia-tutorial)."
   ]
  },
  {
   "cell_type": "markdown",
   "metadata": {},
   "source": [
    "## Julia resources\n",
    "\n",
    "Julia resources are accessible through the [Julia home page](http://julialang.org).\n",
    "\n",
    "Please check `packages`, `docs` and `juliacon` (_here you will also find links to videos from previous conferences_).\n"
   ]
  },
  {
   "cell_type": "markdown",
   "metadata": {},
   "source": [
    "## Execution\n",
    "To execute cell use `Shift + Enter` or press `Play` (__Run cell__).\n",
    "\n",
    "To run all cells in the notebook go to `Cell` -> `Run All` "
   ]
  },
  {
   "cell_type": "markdown",
   "metadata": {},
   "source": [
    "## Markdown cells\n",
    "\n",
    "Possibility to write comments / code / formulas in `Markdown` cells, makes Jupyter notebooks ideal for teaching and research. Text is written using _Julia Markdown_, which is _GitHub Markdown_ with additional understanding of basic `LaTeX`.\n",
    "\n",
    "[Mastering (GitHub) Markdown](https://guides.github.com/features/mastering-markdown/) is a 3-minute read, another short and very good manual is at http://daringfireball.net/projects/markdown/.\n",
    "\n",
    "Some particulars of Julia Markdown are described in \n",
    "[Documentation](http://docs.julialang.org/en/release-0.4/manual/documentation/) section of Julia Manual, yet another 3-minute read."
   ]
  },
  {
   "cell_type": "markdown",
   "metadata": {},
   "source": [
    "## `nbconvert`\n",
    "\n",
    "It is extremely easy to convert notebooks to slides, LaTeX, or PDF.\n",
    "For details see the \n",
    "[documentation](https://nbconvert.readthedocs.org/en/latest/usage.html).\n",
    "\n",
    "### Slides\n",
    "\n",
    "Clicking `View` -> `Cell Toolbar` -> `Slideshow` opens the `Slide Type` menu for each cell.\n",
    "\n",
    "The slideshow is made with the command\n",
    "\n",
    "`jupyter nbconvert --to slides notebook.ipynb`\n",
    "\n",
    "The slideshow is displayed in browser with the command\n",
    "\n",
    "`jupyter nbconvert --to slides --post serve notebook.ipynb`\n",
    "\n",
    "\n",
    "### LaTeX\n",
    "\n",
    "`jupyter nbconvert --to latex notebook.ipynb`\n",
    "\n",
    "###  PDF \n",
    "\n",
    "`jupyter nbconvert --to PDF notebook.ipynb`\n",
    "\n",
    "N.B. For the above conversions [Pandoc](http://pandoc.org/installing.html) needs to be installed."
   ]
  },
  {
   "cell_type": "markdown",
   "metadata": {},
   "source": [
    "## Which version of `Julia` is running?"
   ]
  },
  {
   "cell_type": "code",
   "execution_count": 1,
   "metadata": {
    "collapsed": false
   },
   "outputs": [
    {
     "name": "stdout",
     "output_type": "stream",
     "text": [
      "Julia Version 0.4.5\n",
      "Commit 2ac304d (2016-03-18 00:58 UTC)\n",
      "Platform Info:\n",
      "  System: Linux (x86_64-unknown-linux-gnu)\n",
      "  CPU: Intel(R) Core(TM) i5-3470 CPU @ 3.20GHz\n",
      "  WORD_SIZE: 64\n",
      "  BLAS: libopenblas (USE64BITINT DYNAMIC_ARCH NO_AFFINITY Sandybridge)\n",
      "  LAPACK: libopenblas64_\n",
      "  LIBM: libopenlibm\n",
      "  LLVM: libLLVM-3.3\n"
     ]
    }
   ],
   "source": [
    "versioninfo()"
   ]
  },
  {
   "cell_type": "markdown",
   "metadata": {},
   "source": [
    "## Quitting\n",
    "\n",
    "__Exiting__ from `julia>` or __restarting kernel__ in `IJulia`"
   ]
  },
  {
   "cell_type": "code",
   "execution_count": 2,
   "metadata": {
    "collapsed": false
   },
   "outputs": [],
   "source": [
    "# exit()"
   ]
  },
  {
   "cell_type": "markdown",
   "metadata": {},
   "source": [
    "## Documentation\n",
    "\n",
    "Documentation is well written and the starting point is http://docs.julialang.org/en/latest/\n",
    "\n",
    "But, also remeber that `Julia` is __open source__ and all routines are available on [GitHub](http://github.com). You will learn how to make full use of this later in the course."
   ]
  },
  {
   "cell_type": "markdown",
   "metadata": {},
   "source": [
    "## Punctuation review\n",
    "\n",
    "* `[...]` are for indexing, array constructors and __Comprehensions__\n",
    "* `(...)` are __required__ for functions `quit()`, `tic()`, `toc()`, `help()` \n",
    "* `{...}` are for arrays\n",
    "* `#` is for comments"
   ]
  },
  {
   "cell_type": "markdown",
   "metadata": {},
   "source": [
    "## Basic indexing"
   ]
  },
  {
   "cell_type": "code",
   "execution_count": 3,
   "metadata": {
    "collapsed": false
   },
   "outputs": [
    {
     "data": {
      "text/plain": [
       "5x5 Array{Float64,2}:\n",
       " 0.589141   0.236581  0.784648  0.609539  0.277695 \n",
       " 0.434805   0.768152  0.981204  0.328945  0.542079 \n",
       " 0.674388   0.310239  0.444064  0.956564  0.379369 \n",
       " 0.59245    0.21946   0.685676  0.338136  0.0315785\n",
       " 0.0814153  0.247983  0.186041  0.856269  0.192363 "
      ]
     },
     "execution_count": 3,
     "metadata": {},
     "output_type": "execute_result"
    }
   ],
   "source": [
    "A=rand(5,5) # Matrix with random entries between 0 and 1"
   ]
  },
  {
   "cell_type": "code",
   "execution_count": 4,
   "metadata": {
    "collapsed": false
   },
   "outputs": [
    {
     "data": {
      "text/plain": [
       "0.5891406598959215"
      ]
     },
     "execution_count": 4,
     "metadata": {},
     "output_type": "execute_result"
    }
   ],
   "source": [
    "A[1,1]"
   ]
  },
  {
   "cell_type": "code",
   "execution_count": 5,
   "metadata": {
    "collapsed": false
   },
   "outputs": [
    {
     "data": {
      "text/plain": [
       "2x2 Array{Float64,2}:\n",
       " 0.610606  0.00812121\n",
       " 0.39545   0.333569  "
      ]
     },
     "execution_count": 5,
     "metadata": {},
     "output_type": "execute_result"
    }
   ],
   "source": [
    "rand(5,5)[1:2,3:4] # You can even do this"
   ]
  },
  {
   "cell_type": "markdown",
   "metadata": {},
   "source": [
    "### Indexing is elegant\n",
    "\n",
    "If you want to compute the lower right $2\\times 2$ block of $A^{10}$, in most languages you need to first compute $B=A^{10}$ and then index into $B$. In Julia, the command is simply"
   ]
  },
  {
   "cell_type": "code",
   "execution_count": 6,
   "metadata": {
    "collapsed": false
   },
   "outputs": [
    {
     "data": {
      "text/plain": [
       "2x2 Array{Float64,2}:\n",
       " 1242.61   535.399\n",
       "  914.326  393.953"
      ]
     },
     "execution_count": 6,
     "metadata": {},
     "output_type": "execute_result"
    }
   ],
   "source": [
    "(A^10)[4:5,4:5] # Parenthesses around A^10 are necessary"
   ]
  },
  {
   "cell_type": "markdown",
   "metadata": {},
   "source": [
    "### Comprehensions - elegant array constructors"
   ]
  },
  {
   "cell_type": "code",
   "execution_count": 7,
   "metadata": {
    "collapsed": false
   },
   "outputs": [
    {
     "data": {
      "text/plain": [
       "5-element Array{Int64,1}:\n",
       " 1\n",
       " 2\n",
       " 3\n",
       " 4\n",
       " 5"
      ]
     },
     "execution_count": 7,
     "metadata": {},
     "output_type": "execute_result"
    }
   ],
   "source": [
    "[i for i=1:5]"
   ]
  },
  {
   "cell_type": "code",
   "execution_count": 8,
   "metadata": {
    "collapsed": false
   },
   "outputs": [
    {
     "data": {
      "text/plain": [
       "5-element Array{Float64,1}:\n",
       " 0.765719\n",
       " 0.893854\n",
       " 1.27039 \n",
       " 2.38561 \n",
       " 2.3785  "
      ]
     },
     "execution_count": 8,
     "metadata": {},
     "output_type": "execute_result"
    }
   ],
   "source": [
    "[trace(rand(n,n)) for n=1:5]"
   ]
  },
  {
   "cell_type": "code",
   "execution_count": 9,
   "metadata": {
    "collapsed": false
   },
   "outputs": [
    {
     "data": {
      "text/plain": [
       "1:10"
      ]
     },
     "execution_count": 9,
     "metadata": {},
     "output_type": "execute_result"
    }
   ],
   "source": [
    "x=1:10"
   ]
  },
  {
   "cell_type": "code",
   "execution_count": 10,
   "metadata": {
    "collapsed": false
   },
   "outputs": [
    {
     "data": {
      "text/plain": [
       "9-element Array{Any,1}:\n",
       "  3\n",
       "  5\n",
       "  7\n",
       "  9\n",
       " 11\n",
       " 13\n",
       " 15\n",
       " 17\n",
       " 19"
      ]
     },
     "execution_count": 10,
     "metadata": {},
     "output_type": "execute_result"
    }
   ],
   "source": [
    "[ x[i]+x[i+1] for i=1:9 ]"
   ]
  },
  {
   "cell_type": "code",
   "execution_count": 11,
   "metadata": {
    "collapsed": false
   },
   "outputs": [
    {
     "data": {
      "text/plain": [
       "5-element Array{Array{Float64,2},1}:\n",
       " 1x1 Array{Float64,2}:\n",
       " 1.0                                                                                                                        \n",
       " 2x2 Array{Float64,2}:\n",
       " 1.0  0.0\n",
       " 0.0  1.0                                                                                                         \n",
       " 3x3 Array{Float64,2}:\n",
       " 1.0  0.0  0.0\n",
       " 0.0  1.0  0.0\n",
       " 0.0  0.0  1.0                                                                                \n",
       " 4x4 Array{Float64,2}:\n",
       " 1.0  0.0  0.0  0.0\n",
       " 0.0  1.0  0.0  0.0\n",
       " 0.0  0.0  1.0  0.0\n",
       " 0.0  0.0  0.0  1.0                                             \n",
       " 5x5 Array{Float64,2}:\n",
       " 1.0  0.0  0.0  0.0  0.0\n",
       " 0.0  1.0  0.0  0.0  0.0\n",
       " 0.0  0.0  1.0  0.0  0.0\n",
       " 0.0  0.0  0.0  1.0  0.0\n",
       " 0.0  0.0  0.0  0.0  1.0"
      ]
     },
     "execution_count": 11,
     "metadata": {},
     "output_type": "execute_result"
    }
   ],
   "source": [
    "z = [eye(n) for n=1:5]  # z is Array of Arrays"
   ]
  },
  {
   "cell_type": "code",
   "execution_count": 12,
   "metadata": {
    "collapsed": false
   },
   "outputs": [
    {
     "data": {
      "text/plain": [
       "1x1 Array{Float64,2}:\n",
       " 1.0"
      ]
     },
     "execution_count": 12,
     "metadata": {},
     "output_type": "execute_result"
    }
   ],
   "source": [
    "z[1] # First element is a 1x1 Array"
   ]
  },
  {
   "cell_type": "code",
   "execution_count": 13,
   "metadata": {
    "collapsed": false
   },
   "outputs": [
    {
     "data": {
      "text/plain": [
       "4x4 Array{Float64,2}:\n",
       " 1.0  0.0  0.0  0.0\n",
       " 0.0  1.0  0.0  0.0\n",
       " 0.0  0.0  1.0  0.0\n",
       " 0.0  0.0  0.0  1.0"
      ]
     },
     "execution_count": 13,
     "metadata": {},
     "output_type": "execute_result"
    }
   ],
   "source": [
    "z[4] # What is the fourth element?"
   ]
  },
  {
   "cell_type": "code",
   "execution_count": 14,
   "metadata": {
    "collapsed": false
   },
   "outputs": [
    {
     "data": {
      "text/plain": [
       "5x5 Array{Int64,2}:\n",
       " 2  3  4  5   6\n",
       " 3  4  5  6   7\n",
       " 4  5  6  7   8\n",
       " 5  6  7  8   9\n",
       " 6  7  8  9  10"
      ]
     },
     "execution_count": 14,
     "metadata": {},
     "output_type": "execute_result"
    }
   ],
   "source": [
    "A=[ i+j for i=1:5, j=1:5 ] # Another example of a comprehension"
   ]
  },
  {
   "cell_type": "code",
   "execution_count": 15,
   "metadata": {
    "collapsed": false
   },
   "outputs": [
    {
     "data": {
      "text/plain": [
       "5x5 Array{Float64,2}:\n",
       " 2.0  3.0  4.0  5.0   6.0\n",
       " 3.0  4.0  5.0  6.0   7.0\n",
       " 4.0  5.0  6.0  7.0   8.0\n",
       " 5.0  6.0  7.0  8.0   9.0\n",
       " 6.0  7.0  8.0  9.0  10.0"
      ]
     },
     "execution_count": 15,
     "metadata": {},
     "output_type": "execute_result"
    }
   ],
   "source": [
    "B=[ i+j for i=1:5, j=1.0:5 ] # Notice the promotion"
   ]
  },
  {
   "cell_type": "markdown",
   "metadata": {},
   "source": [
    "## Commands `ndims()` and `typeof()`"
   ]
  },
  {
   "cell_type": "code",
   "execution_count": 16,
   "metadata": {
    "collapsed": false
   },
   "outputs": [
    {
     "data": {
      "text/plain": [
       "2"
      ]
     },
     "execution_count": 16,
     "metadata": {},
     "output_type": "execute_result"
    }
   ],
   "source": [
    "ndims(ans)"
   ]
  },
  {
   "cell_type": "code",
   "execution_count": 17,
   "metadata": {
    "collapsed": false
   },
   "outputs": [
    {
     "data": {
      "text/plain": [
       "1"
      ]
     },
     "execution_count": 17,
     "metadata": {},
     "output_type": "execute_result"
    }
   ],
   "source": [
    "ndims(z) # z is a one-dimensional array"
   ]
  },
  {
   "cell_type": "code",
   "execution_count": 18,
   "metadata": {
    "collapsed": false
   },
   "outputs": [
    {
     "data": {
      "text/plain": [
       "Array{Array{Float64,2},1}"
      ]
     },
     "execution_count": 18,
     "metadata": {},
     "output_type": "execute_result"
    }
   ],
   "source": [
    "typeof(z) # Array of Arrays"
   ]
  },
  {
   "cell_type": "code",
   "execution_count": 19,
   "metadata": {
    "collapsed": false
   },
   "outputs": [
    {
     "data": {
      "text/plain": [
       "Array{Float64,2}"
      ]
     },
     "execution_count": 19,
     "metadata": {},
     "output_type": "execute_result"
    }
   ],
   "source": [
    "typeof(z[5]) # z[5] is a two-dimensional array"
   ]
  },
  {
   "cell_type": "code",
   "execution_count": 20,
   "metadata": {
    "collapsed": false
   },
   "outputs": [
    {
     "data": {
      "text/plain": [
       "Array{Int64,2}"
      ]
     },
     "execution_count": 20,
     "metadata": {},
     "output_type": "execute_result"
    }
   ],
   "source": [
    "typeof(A)"
   ]
  },
  {
   "cell_type": "markdown",
   "metadata": {},
   "source": [
    "## Vectors are 1-dimensional arrays\n",
    "\n",
    "See [Multi-dimensional arrays](http://julia.readthedocs.org/en/latest/manual/arrays/) for more."
   ]
  },
  {
   "cell_type": "code",
   "execution_count": 21,
   "metadata": {
    "collapsed": false
   },
   "outputs": [
    {
     "data": {
      "text/plain": [
       "5x1 Array{Float64,2}:\n",
       " 0.32014  \n",
       " 0.552837 \n",
       " 0.0274691\n",
       " 0.490916 \n",
       " 0.646462 "
      ]
     },
     "execution_count": 21,
     "metadata": {},
     "output_type": "execute_result"
    }
   ],
   "source": [
    "v=rand(5,1) # This is 2-dimensional array"
   ]
  },
  {
   "cell_type": "code",
   "execution_count": 22,
   "metadata": {
    "collapsed": false
   },
   "outputs": [
    {
     "data": {
      "text/plain": [
       "5-element Array{Float64,1}:\n",
       " 0.32014  \n",
       " 0.552837 \n",
       " 0.0274691\n",
       " 0.490916 \n",
       " 0.646462 "
      ]
     },
     "execution_count": 22,
     "metadata": {},
     "output_type": "execute_result"
    }
   ],
   "source": [
    "vv=vec(v) # This is an 1-dimensional array or vector"
   ]
  },
  {
   "cell_type": "code",
   "execution_count": 23,
   "metadata": {
    "collapsed": false
   },
   "outputs": [
    {
     "data": {
      "text/plain": [
       "false"
      ]
     },
     "execution_count": 23,
     "metadata": {},
     "output_type": "execute_result"
    }
   ],
   "source": [
    "v==vv  # Notice that they are different"
   ]
  },
  {
   "cell_type": "code",
   "execution_count": 24,
   "metadata": {
    "collapsed": false
   },
   "outputs": [
    {
     "data": {
      "text/plain": [
       "5x1 Array{Float64,2}:\n",
       " 0.0\n",
       " 0.0\n",
       " 0.0\n",
       " 0.0\n",
       " 0.0"
      ]
     },
     "execution_count": 24,
     "metadata": {},
     "output_type": "execute_result"
    }
   ],
   "source": [
    "v-vv # Again a promotion"
   ]
  },
  {
   "cell_type": "code",
   "execution_count": 25,
   "metadata": {
    "collapsed": false
   },
   "outputs": [
    {
     "data": {
      "text/plain": [
       "5-element Array{Float64,1}:\n",
       " 0.343098 \n",
       " 0.922818 \n",
       " 0.650603 \n",
       " 0.0498243\n",
       " 0.414088 "
      ]
     },
     "execution_count": 25,
     "metadata": {},
     "output_type": "execute_result"
    }
   ],
   "source": [
    "w=rand(5) # This is again a vector"
   ]
  },
  {
   "cell_type": "code",
   "execution_count": 26,
   "metadata": {
    "collapsed": false
   },
   "outputs": [
    {
     "data": {
      "text/plain": [
       "5x2 Array{Float64,2}:\n",
       " 0.32014    0.343098 \n",
       " 0.552837   0.922818 \n",
       " 0.0274691  0.650603 \n",
       " 0.490916   0.0498243\n",
       " 0.646462   0.414088 "
      ]
     },
     "execution_count": 26,
     "metadata": {},
     "output_type": "execute_result"
    }
   ],
   "source": [
    "Mv=[v w] # First column is a 5 x 1 matrix, second column is a vector of length 5"
   ]
  },
  {
   "cell_type": "code",
   "execution_count": 27,
   "metadata": {
    "collapsed": false
   },
   "outputs": [
    {
     "data": {
      "text/plain": [
       "5-element Array{Float64,1}:\n",
       " 0.32014  \n",
       " 0.552837 \n",
       " 0.0274691\n",
       " 0.490916 \n",
       " 0.646462 "
      ]
     },
     "execution_count": 27,
     "metadata": {},
     "output_type": "execute_result"
    }
   ],
   "source": [
    "x=Mv[:,1] # Matrix columns are extracted as vectors"
   ]
  },
  {
   "cell_type": "code",
   "execution_count": 28,
   "metadata": {
    "collapsed": false
   },
   "outputs": [
    {
     "data": {
      "text/plain": [
       "5-element Array{Float64,1}:\n",
       " 0.343098 \n",
       " 0.922818 \n",
       " 0.650603 \n",
       " 0.0498243\n",
       " 0.414088 "
      ]
     },
     "execution_count": 28,
     "metadata": {},
     "output_type": "execute_result"
    }
   ],
   "source": [
    "y=Mv[:,2]"
   ]
  },
  {
   "cell_type": "code",
   "execution_count": 29,
   "metadata": {
    "collapsed": false
   },
   "outputs": [
    {
     "data": {
      "text/plain": [
       "false"
      ]
     },
     "execution_count": 29,
     "metadata": {},
     "output_type": "execute_result"
    }
   ],
   "source": [
    "x==v # The types differ"
   ]
  },
  {
   "cell_type": "code",
   "execution_count": 30,
   "metadata": {
    "collapsed": false
   },
   "outputs": [
    {
     "data": {
      "text/plain": [
       "true"
      ]
     },
     "execution_count": 30,
     "metadata": {},
     "output_type": "execute_result"
    }
   ],
   "source": [
    "y==w"
   ]
  },
  {
   "cell_type": "markdown",
   "metadata": {},
   "source": [
    "### Sometimes brackets are needed"
   ]
  },
  {
   "cell_type": "code",
   "execution_count": 31,
   "metadata": {
    "collapsed": false
   },
   "outputs": [
    {
     "data": {
      "text/plain": [
       "1.0:1.0:5.0"
      ]
     },
     "execution_count": 31,
     "metadata": {},
     "output_type": "execute_result"
    }
   ],
   "source": [
    "w=1.0:5"
   ]
  },
  {
   "cell_type": "code",
   "execution_count": 32,
   "metadata": {
    "collapsed": false
   },
   "outputs": [
    {
     "ename": "LoadError",
     "evalue": "LoadError: MethodError: `A_mul_B!` has no method matching A_mul_B!(::Array{Float64,1}, ::Array{Int64,2}, ::FloatRange{Float64})\nClosest candidates are:\n  A_mul_B!(::Union{DenseArray{T,1},SubArray{T,1,A<:DenseArray{T,N},I<:Tuple{Vararg{Union{Colon,Int64,Range{Int64}}}},LD}}, ::Union{DenseArray{T,1},DenseArray{T,2},SubArray{T,1,A<:DenseArray{T,N},I<:Tuple{Vararg{Union{Colon,Int64,Range{Int64}}}},LD},SubArray{T,2,A<:DenseArray{T,N},I<:Tuple{Vararg{Union{Colon,Int64,Range{Int64}}}},LD}}, !Matched::Union{DenseArray{T,1},SubArray{T,1,A<:DenseArray{T,N},I<:Tuple{Vararg{Union{Colon,Int64,Range{Int64}}}},LD}})\n  A_mul_B!(::Union{AbstractArray{T,1},AbstractArray{T,2}}, !Matched::Tridiagonal{T}, ::Union{AbstractArray{T,1},AbstractArray{T,2}})\n  A_mul_B!(::Union{AbstractArray{T,1},AbstractArray{T,2}}, !Matched::Base.LinAlg.AbstractTriangular{T,S<:AbstractArray{T,2}}, ::Union{AbstractArray{T,1},AbstractArray{T,2}})\n  ...\nwhile loading In[32], in expression starting on line 1",
     "output_type": "error",
     "traceback": [
      "LoadError: MethodError: `A_mul_B!` has no method matching A_mul_B!(::Array{Float64,1}, ::Array{Int64,2}, ::FloatRange{Float64})\nClosest candidates are:\n  A_mul_B!(::Union{DenseArray{T,1},SubArray{T,1,A<:DenseArray{T,N},I<:Tuple{Vararg{Union{Colon,Int64,Range{Int64}}}},LD}}, ::Union{DenseArray{T,1},DenseArray{T,2},SubArray{T,1,A<:DenseArray{T,N},I<:Tuple{Vararg{Union{Colon,Int64,Range{Int64}}}},LD},SubArray{T,2,A<:DenseArray{T,N},I<:Tuple{Vararg{Union{Colon,Int64,Range{Int64}}}},LD}}, !Matched::Union{DenseArray{T,1},SubArray{T,1,A<:DenseArray{T,N},I<:Tuple{Vararg{Union{Colon,Int64,Range{Int64}}}},LD}})\n  A_mul_B!(::Union{AbstractArray{T,1},AbstractArray{T,2}}, !Matched::Tridiagonal{T}, ::Union{AbstractArray{T,1},AbstractArray{T,2}})\n  A_mul_B!(::Union{AbstractArray{T,1},AbstractArray{T,2}}, !Matched::Base.LinAlg.AbstractTriangular{T,S<:AbstractArray{T,2}}, ::Union{AbstractArray{T,1},AbstractArray{T,2}})\n  ...\nwhile loading In[32], in expression starting on line 1",
      "",
      " in * at linalg/matmul.jl:87"
     ]
    }
   ],
   "source": [
    "A*w  # This returns an error"
   ]
  },
  {
   "cell_type": "code",
   "execution_count": 33,
   "metadata": {
    "collapsed": false
   },
   "outputs": [
    {
     "data": {
      "text/plain": [
       "5-element Array{Float64,1}:\n",
       " 1.0\n",
       " 2.0\n",
       " 3.0\n",
       " 4.0\n",
       " 5.0"
      ]
     },
     "execution_count": 33,
     "metadata": {},
     "output_type": "execute_result"
    }
   ],
   "source": [
    "w=collect(1.0:5) "
   ]
  },
  {
   "cell_type": "code",
   "execution_count": 34,
   "metadata": {
    "collapsed": false
   },
   "outputs": [
    {
     "data": {
      "text/plain": [
       "5-element Array{Float64,1}:\n",
       "  70.0\n",
       "  85.0\n",
       " 100.0\n",
       " 115.0\n",
       " 130.0"
      ]
     },
     "execution_count": 34,
     "metadata": {},
     "output_type": "execute_result"
    }
   ],
   "source": [
    "A*w  # This returns a 1-dimensional array"
   ]
  },
  {
   "cell_type": "code",
   "execution_count": 35,
   "metadata": {
    "collapsed": false
   },
   "outputs": [
    {
     "data": {
      "text/plain": [
       "5x1 Array{Float64,2}:\n",
       "  8.74202\n",
       " 10.7798 \n",
       " 12.8177 \n",
       " 14.8555 \n",
       " 16.8933 "
      ]
     },
     "execution_count": 35,
     "metadata": {},
     "output_type": "execute_result"
    }
   ],
   "source": [
    "A*v # This returns a 2-dimensional array - v is a 5 x 1 array"
   ]
  },
  {
   "cell_type": "markdown",
   "metadata": {},
   "source": [
    "## Discussion\n",
    "\n",
    "Such behavior is due to the fact that `Julia` has vectors as a special type. __ Pros? Cons? __\n",
    " \n",
    "What is matrix $\\times$ vector?\n",
    "\n",
    "What is the result of \n",
    "\n",
    "$$ C[i,j]=A[i,:]*B[:,j]$$"
   ]
  },
  {
   "cell_type": "code",
   "execution_count": 36,
   "metadata": {
    "collapsed": false
   },
   "outputs": [
    {
     "data": {
      "text/plain": [
       "5x5 Array{Any,2}:\n",
       " [90]   [110]  [130]  [150]  [170]\n",
       " [110]  [135]  [160]  [185]  [210]\n",
       " [130]  [160]  [190]  [220]  [250]\n",
       " [150]  [185]  [220]  [255]  [290]\n",
       " [170]  [210]  [250]  [290]  [330]"
      ]
     },
     "execution_count": 36,
     "metadata": {},
     "output_type": "execute_result"
    }
   ],
   "source": [
    "B=[A[i,:]*A[:,j] for i=1:5, j=1:5]"
   ]
  },
  {
   "cell_type": "code",
   "execution_count": 37,
   "metadata": {
    "collapsed": false
   },
   "outputs": [
    {
     "ename": "LoadError",
     "evalue": "LoadError: MethodError: `one` has no method matching one(::Type{Any})\nwhile loading In[37], in expression starting on line 1",
     "output_type": "error",
     "traceback": [
      "LoadError: MethodError: `one` has no method matching one(::Type{Any})\nwhile loading In[37], in expression starting on line 1",
      ""
     ]
    }
   ],
   "source": [
    "inv(B) # Why this this happen? How to resolve it?"
   ]
  },
  {
   "cell_type": "code",
   "execution_count": 38,
   "metadata": {
    "collapsed": false
   },
   "outputs": [
    {
     "data": {
      "text/plain": [
       "5x5 Array{Any,2}:\n",
       "  90  110  130  150  170\n",
       " 110  135  160  185  210\n",
       " 130  160  190  220  250\n",
       " 150  185  220  255  290\n",
       " 170  210  250  290  330"
      ]
     },
     "execution_count": 38,
     "metadata": {},
     "output_type": "execute_result"
    }
   ],
   "source": [
    "B=[(A[i,:]*A[:,j])[1] for i=1:5, j=1:5] # (First) element of a vector is a number"
   ]
  },
  {
   "cell_type": "code",
   "execution_count": 39,
   "metadata": {
    "collapsed": false
   },
   "outputs": [
    {
     "data": {
      "text/plain": [
       "5x5 Array{Int64,2}:\n",
       "  90  110  130  150  170\n",
       " 110  135  160  185  210\n",
       " 130  160  190  220  250\n",
       " 150  185  220  255  290\n",
       " 170  210  250  290  330"
      ]
     },
     "execution_count": 39,
     "metadata": {},
     "output_type": "execute_result"
    }
   ],
   "source": [
    "map(Int64,B) # Need to map it to `Int64` "
   ]
  },
  {
   "cell_type": "markdown",
   "metadata": {},
   "source": [
    "Or, we can use the dot product of two vectors - still need mapping of the comprehension to `Int64`"
   ]
  },
  {
   "cell_type": "code",
   "execution_count": 40,
   "metadata": {
    "collapsed": false
   },
   "outputs": [
    {
     "data": {
      "text/plain": [
       "5x5 Array{Any,2}:\n",
       "  90  110  130  150  170\n",
       " 110  135  160  185  210\n",
       " 130  160  190  220  250\n",
       " 150  185  220  255  290\n",
       " 170  210  250  290  330"
      ]
     },
     "execution_count": 40,
     "metadata": {},
     "output_type": "execute_result"
    }
   ],
   "source": [
    "B=[vec(A[i,:])⋅A[:,j] for i=1:5, j=1:5] "
   ]
  },
  {
   "cell_type": "markdown",
   "metadata": {},
   "source": [
    "## `ones()`, `eye()` and `zeros()`\n",
    "   \n",
    "Notice that the output type depends on the argument. This is a general Julia feature called `Multiple dispatch` \n",
    "and will be explained later in more detail. "
   ]
  },
  {
   "cell_type": "code",
   "execution_count": 41,
   "metadata": {
    "collapsed": false
   },
   "outputs": [
    {
     "data": {
      "text/plain": [
       "(\n",
       "3x5 Array{Float64,2}:\n",
       " 1.0  1.0  1.0  1.0  1.0\n",
       " 1.0  1.0  1.0  1.0  1.0\n",
       " 1.0  1.0  1.0  1.0  1.0,\n",
       "\n",
       "[1.0,1.0,1.0,1.0,1.0],\n",
       "4x6 Array{Int64,2}:\n",
       " 1  1  1  1  1  1\n",
       " 1  1  1  1  1  1\n",
       " 1  1  1  1  1  1\n",
       " 1  1  1  1  1  1)"
      ]
     },
     "execution_count": 41,
     "metadata": {},
     "output_type": "execute_result"
    }
   ],
   "source": [
    "ones(3,5), ones(5), ones(rand(1:3,4,6)) \n",
    "# The output type depends on the argument. Float64 is the default."
   ]
  },
  {
   "cell_type": "code",
   "execution_count": 42,
   "metadata": {
    "collapsed": false
   },
   "outputs": [
    {
     "data": {
      "text/plain": [
       "4x6 Array{Int64,2}:\n",
       " 1  1  2  3  2  3\n",
       " 2  1  2  3  1  3\n",
       " 3  1  1  1  3  2\n",
       " 1  3  1  1  3  1"
      ]
     },
     "execution_count": 42,
     "metadata": {},
     "output_type": "execute_result"
    }
   ],
   "source": [
    "rand(1:3,4,6)"
   ]
  },
  {
   "cell_type": "code",
   "execution_count": 43,
   "metadata": {
    "collapsed": false
   },
   "outputs": [
    {
     "data": {
      "text/plain": [
       "(\n",
       "3x5 Array{Float64,2}:\n",
       " 0.0  0.0  0.0  0.0  0.0\n",
       " 0.0  0.0  0.0  0.0  0.0\n",
       " 0.0  0.0  0.0  0.0  0.0,\n",
       "\n",
       "[0.0,0.0,0.0,0.0,0.0],\n",
       "4x6 Array{Int64,2}:\n",
       " 0  0  0  0  0  0\n",
       " 0  0  0  0  0  0\n",
       " 0  0  0  0  0  0\n",
       " 0  0  0  0  0  0)"
      ]
     },
     "execution_count": 43,
     "metadata": {},
     "output_type": "execute_result"
    }
   ],
   "source": [
    "zeros(3,5), zeros(5), zeros(rand(1:3,4,6))"
   ]
  },
  {
   "cell_type": "code",
   "execution_count": 44,
   "metadata": {
    "collapsed": false
   },
   "outputs": [
    {
     "data": {
      "text/plain": [
       "(\n",
       "4x4 Array{Float64,2}:\n",
       " 1.0  0.0  0.0  0.0\n",
       " 0.0  1.0  0.0  0.0\n",
       " 0.0  0.0  1.0  0.0\n",
       " 0.0  0.0  0.0  1.0,\n",
       "\n",
       "4x4 Array{Int64,2}:\n",
       " 1  0  0  0\n",
       " 0  1  0  0\n",
       " 0  0  1  0\n",
       " 0  0  0  1,\n",
       "\n",
       "4x4 Array{Int32,2}:\n",
       " 1  0  0  0\n",
       " 0  1  0  0\n",
       " 0  0  1  0\n",
       " 0  0  0  1,\n",
       "\n",
       "4x4 Array{Complex{Float64},2}:\n",
       " 1.0+0.0im  0.0+0.0im  0.0+0.0im  0.0+0.0im\n",
       " 0.0+0.0im  1.0+0.0im  0.0+0.0im  0.0+0.0im\n",
       " 0.0+0.0im  0.0+0.0im  1.0+0.0im  0.0+0.0im\n",
       " 0.0+0.0im  0.0+0.0im  0.0+0.0im  1.0+0.0im)"
      ]
     },
     "execution_count": 44,
     "metadata": {},
     "output_type": "execute_result"
    }
   ],
   "source": [
    "eye(4), round(Int64,eye(4)), round(Int32,eye(4)), complex(eye(4)) \n",
    "# type can also be set"
   ]
  },
  {
   "cell_type": "markdown",
   "metadata": {},
   "source": [
    "## Complex numbers\n",
    "\n",
    "`i` is too valuable symbol for loops, so Julia uses `im` for the complex unit. "
   ]
  },
  {
   "cell_type": "code",
   "execution_count": 45,
   "metadata": {
    "collapsed": false
   },
   "outputs": [
    {
     "data": {
      "text/plain": [
       "im"
      ]
     },
     "execution_count": 45,
     "metadata": {},
     "output_type": "execute_result"
    }
   ],
   "source": [
    "im"
   ]
  },
  {
   "cell_type": "code",
   "execution_count": 46,
   "metadata": {
    "collapsed": false
   },
   "outputs": [
    {
     "data": {
      "text/plain": [
       "0 + 2im"
      ]
     },
     "execution_count": 46,
     "metadata": {},
     "output_type": "execute_result"
    }
   ],
   "source": [
    "2im"
   ]
  },
  {
   "cell_type": "code",
   "execution_count": 47,
   "metadata": {
    "collapsed": false
   },
   "outputs": [
    {
     "data": {
      "text/plain": [
       "Complex{Int64}"
      ]
     },
     "execution_count": 47,
     "metadata": {},
     "output_type": "execute_result"
    }
   ],
   "source": [
    "typeof(ans)"
   ]
  },
  {
   "cell_type": "code",
   "execution_count": 48,
   "metadata": {
    "collapsed": false
   },
   "outputs": [
    {
     "data": {
      "text/plain": [
       "Complex{Float64}"
      ]
     },
     "execution_count": 48,
     "metadata": {},
     "output_type": "execute_result"
    }
   ],
   "source": [
    "typeof(2.0im)"
   ]
  },
  {
   "cell_type": "code",
   "execution_count": 49,
   "metadata": {
    "collapsed": false
   },
   "outputs": [
    {
     "data": {
      "text/plain": [
       "3 + 4im"
      ]
     },
     "execution_count": 49,
     "metadata": {},
     "output_type": "execute_result"
    }
   ],
   "source": [
    "complex(3,4) # Another way of defining complex numbers"
   ]
  },
  {
   "cell_type": "code",
   "execution_count": 50,
   "metadata": {
    "collapsed": false
   },
   "outputs": [
    {
     "data": {
      "text/plain": [
       "3.0 + 4.0im"
      ]
     },
     "execution_count": 50,
     "metadata": {},
     "output_type": "execute_result"
    }
   ],
   "source": [
    "complex(3,4.0) # If one of the arguments if Float64, so is the entire number"
   ]
  },
  {
   "cell_type": "code",
   "execution_count": 51,
   "metadata": {
    "collapsed": false
   },
   "outputs": [
    {
     "ename": "LoadError",
     "evalue": "LoadError: DomainError:\nsqrt will only return a complex result if called with a complex argument. Try sqrt(complex(x)).\nwhile loading In[51], in expression starting on line 1",
     "output_type": "error",
     "traceback": [
      "LoadError: DomainError:\nsqrt will only return a complex result if called with a complex argument. Try sqrt(complex(x)).\nwhile loading In[51], in expression starting on line 1",
      "",
      " in sqrt at math.jl:146"
     ]
    }
   ],
   "source": [
    "sqrt(-1) # This produces an error (like in any other language),"
   ]
  },
  {
   "cell_type": "code",
   "execution_count": 52,
   "metadata": {
    "collapsed": false
   },
   "outputs": [
    {
     "data": {
      "text/plain": [
       "0.0 + 1.0im"
      ]
     },
     "execution_count": 52,
     "metadata": {},
     "output_type": "execute_result"
    }
   ],
   "source": [
    "sqrt(complex(-1))  # and this is fine."
   ]
  },
  {
   "cell_type": "markdown",
   "metadata": {},
   "source": [
    "## Ternary operator\n",
    "Let us define our version of the sign function"
   ]
  },
  {
   "cell_type": "code",
   "execution_count": 53,
   "metadata": {
    "collapsed": false
   },
   "outputs": [
    {
     "data": {
      "text/plain": [
       "si (generic function with 1 method)"
      ]
     },
     "execution_count": 53,
     "metadata": {},
     "output_type": "execute_result"
    }
   ],
   "source": [
    "si(x) = (x>0) ? 1 : -1"
   ]
  },
  {
   "cell_type": "code",
   "execution_count": 54,
   "metadata": {
    "collapsed": false
   },
   "outputs": [
    {
     "data": {
      "text/plain": [
       "-1"
      ]
     },
     "execution_count": 54,
     "metadata": {},
     "output_type": "execute_result"
    }
   ],
   "source": [
    "si(-13)"
   ]
  },
  {
   "cell_type": "markdown",
   "metadata": {},
   "source": [
    "This is equivalent to:"
   ]
  },
  {
   "cell_type": "code",
   "execution_count": 55,
   "metadata": {
    "collapsed": false
   },
   "outputs": [
    {
     "data": {
      "text/plain": [
       "si (generic function with 1 method)"
      ]
     },
     "execution_count": 55,
     "metadata": {},
     "output_type": "execute_result"
    }
   ],
   "source": [
    "function si(x)\n",
    "    if x>0\n",
    "        return 1\n",
    "    else\n",
    "        return -1\n",
    "    end\n",
    "end"
   ]
  },
  {
   "cell_type": "code",
   "execution_count": 56,
   "metadata": {
    "collapsed": false
   },
   "outputs": [
    {
     "data": {
      "text/plain": [
       "(-1,-1,-1)"
      ]
     },
     "execution_count": 56,
     "metadata": {},
     "output_type": "execute_result"
    }
   ],
   "source": [
    "si(pi-8), si(0), si(0.0)"
   ]
  },
  {
   "cell_type": "markdown",
   "metadata": {},
   "source": [
    "The expressions can be nested:"
   ]
  },
  {
   "cell_type": "code",
   "execution_count": 57,
   "metadata": {
    "collapsed": false
   },
   "outputs": [
    {
     "data": {
      "text/plain": [
       "si (generic function with 1 method)"
      ]
     },
     "execution_count": 57,
     "metadata": {},
     "output_type": "execute_result"
    }
   ],
   "source": [
    "si(x) = (x>0) ? 1 : ((x<0) ? -1: 0) # now si(0) is 0"
   ]
  },
  {
   "cell_type": "code",
   "execution_count": 58,
   "metadata": {
    "collapsed": false
   },
   "outputs": [
    {
     "data": {
      "text/plain": [
       "(-1,0)"
      ]
     },
     "execution_count": 58,
     "metadata": {},
     "output_type": "execute_result"
    }
   ],
   "source": [
    "si(π-8), si(0) # '\\pi Tab' produces π and means π"
   ]
  },
  {
   "cell_type": "markdown",
   "metadata": {},
   "source": [
    "## Typing\n",
    "Special mathematical (LaTeX) symbols can be used (like $\\alpha$, $\\Xi$, $\\pi$, $\\oplus$, $\\cdot$, etc.). The symbol in both, the notebook and command line version, is produced by writing \n",
    "LaTeX command followed by `Tab` "
   ]
  },
  {
   "cell_type": "code",
   "execution_count": 59,
   "metadata": {
    "collapsed": false
   },
   "outputs": [
    {
     "data": {
      "text/plain": [
       "48"
      ]
     },
     "execution_count": 59,
     "metadata": {},
     "output_type": "execute_result"
    }
   ],
   "source": [
    "Ξ = 8; Ψ  = 6; Γ = Ξ ⋅ Ψ\n"
   ]
  },
  {
   "cell_type": "code",
   "execution_count": 60,
   "metadata": {
    "collapsed": false
   },
   "outputs": [
    {
     "data": {
      "text/plain": [
       "Int64"
      ]
     },
     "execution_count": 60,
     "metadata": {},
     "output_type": "execute_result"
    }
   ],
   "source": [
    "typeof(Γ)"
   ]
  },
  {
   "cell_type": "markdown",
   "metadata": {},
   "source": [
    "## Writing a program and running a file\n",
    "\n",
    "Special feature of Julia is that the results of commands are not displayed, unless explicitely required. \n",
    "\n",
    "To display results you can use commands `@show` or `println()` (or many others, see the [Text I/O](http://julia.readthedocs.org/en/latest/stdlib/base/?highlight=print#text-i-o) in the manual.)\n",
    "\n",
    "Consider the file `deploy.jl` with the following code\n",
    "```julia\n",
    "n=int(ARGS[1])          # take one integer argument\n",
    "println(rand(1:n,n,n))  # generate and print n x n matrix of random integers between 1 and n\n",
    "@show b=3               # set b to 3 and show the result\n",
    "c=4                     # set c to 4\n",
    "```\n",
    "Running the program in the shell gives\n",
    "```julia\n",
    "$ julia deploy.jl 5\n",
    "[1 3 2 4 1\n",
    " 5 3 1 1 4\n",
    " 5 4 2 2 5\n",
    " 3 1 2 3 4\n",
    " 4 4 5 4 4]\n",
    "b = 3 => 3\n",
    "```\n",
    "Notice that the result of the last command (_c_) is not displayed.\n",
    "\n",
    ">You can, of course, also run the above command in the `Console` tab of `JuliaBox`. To do this, you first have to change the directory\n",
    "```\n",
    "cd Julia-Course/src\n",
    "```\n",
    "\n",
    "Similarly, the program can be converted to executable and run directly, \n",
    "without referencing `julia` in the command line.\n",
    "The refernece to `julia` must be added in the first line, as in the file `deploy1.jl`:\n",
    "```julia\n",
    "#!/usr/bin/julia\n",
    "n=int(ARGS[1])\n",
    "println(rand(1:n,n,n))\n",
    "@show b=3\n",
    "c=4\n",
    "```\n",
    "In the shell do:\n",
    "```\n",
    "$ chmod +x deploy1.jl\n",
    "$ ./deploy1.jl 5\n",
    "[4 5 3 2 5\n",
    " 4 2 1 5 1\n",
    " 3 2 4 5 1\n",
    " 2 4 4 3 1\n",
    " 3 4 5 3 3]\n",
    "b = 3 => 3\n",
    "```\n",
    "Finally, to run the same program in `julia` shell or `IJulia`, the input has to be changed, as in the file `deploy2.jl`:\n",
    "```julia\n",
    "n=int(readline(STDIN))\n",
    "println(rand(1:n,n,n))\n",
    "@show b=3\n",
    "c=4\n",
    "```\n",
    "__Notice that now the result of the last line is displayed by default__  - in this case it is `4`, the values of `c`. The output of the random matrix and of `b` is forced."
   ]
  },
  {
   "cell_type": "code",
   "execution_count": 61,
   "metadata": {
    "collapsed": false
   },
   "outputs": [
    {
     "name": "stdout",
     "output_type": "stream",
     "text": [
      "STDIN> 5\n",
      "[1 2 4 1 2\n",
      " 2 2 2 5 4\n",
      " 2 3 5 5 4\n",
      " 1 3 3 4 3\n",
      " 2 5 1 3 4]\n",
      "b = 3 = 3\n"
     ]
    },
    {
     "data": {
      "text/plain": [
       "4"
      ]
     },
     "execution_count": 61,
     "metadata": {},
     "output_type": "execute_result"
    }
   ],
   "source": [
    "include(\"deploy2.jl\")"
   ]
  },
  {
   "cell_type": "markdown",
   "metadata": {},
   "source": [
    "## Running external programs and unix pipe\n",
    "\n",
    "### `run()` - calling external program"
   ]
  },
  {
   "cell_type": "code",
   "execution_count": 62,
   "metadata": {
    "collapsed": false
   },
   "outputs": [
    {
     "name": "stdout",
     "output_type": "stream",
     "text": [
      "search: run trunc truncate itrunc round RoundUp RoundDown RoundToZero\n",
      "\n"
     ]
    },
    {
     "data": {
      "text/latex": [
       "\\begin{verbatim}\n",
       "run(command)\n",
       "\\end{verbatim}\n",
       "Run a command object, constructed with backticks. Throws an error if anything goes wrong, including the process exiting with a non-zero status.\n"
      ],
      "text/markdown": [
       "```\n",
       "run(command)\n",
       "```\n",
       "\n",
       "Run a command object, constructed with backticks. Throws an error if anything goes wrong, including the process exiting with a non-zero status.\n"
      ],
      "text/plain": [
       "```\n",
       "run(command)\n",
       "```\n",
       "\n",
       "Run a command object, constructed with backticks. Throws an error if anything goes wrong, including the process exiting with a non-zero status.\n"
      ]
     },
     "execution_count": 62,
     "metadata": {},
     "output_type": "execute_result"
    }
   ],
   "source": [
    "?(run) # ?() is also a function - gives help"
   ]
  },
  {
   "cell_type": "code",
   "execution_count": 63,
   "metadata": {
    "collapsed": false
   },
   "outputs": [
    {
     "name": "stdout",
     "output_type": "stream",
     "text": [
      "search: run trunc truncate itrunc round RoundUp RoundDown RoundToZero\n",
      "\n"
     ]
    },
    {
     "data": {
      "text/latex": [
       "\\begin{verbatim}\n",
       "run(command)\n",
       "\\end{verbatim}\n",
       "Run a command object, constructed with backticks. Throws an error if anything goes wrong, including the process exiting with a non-zero status.\n"
      ],
      "text/markdown": [
       "```\n",
       "run(command)\n",
       "```\n",
       "\n",
       "Run a command object, constructed with backticks. Throws an error if anything goes wrong, including the process exiting with a non-zero status.\n"
      ],
      "text/plain": [
       "```\n",
       "run(command)\n",
       "```\n",
       "\n",
       "Run a command object, constructed with backticks. Throws an error if anything goes wrong, including the process exiting with a non-zero status.\n"
      ]
     },
     "execution_count": 63,
     "metadata": {},
     "output_type": "execute_result"
    }
   ],
   "source": [
    "?run # parentheses can be ommited"
   ]
  },
  {
   "cell_type": "markdown",
   "metadata": {},
   "source": [
    "Notice, that this is not a gret help, Julia has much better commands for this."
   ]
  },
  {
   "cell_type": "code",
   "execution_count": 64,
   "metadata": {
    "collapsed": false
   },
   "outputs": [
    {
     "name": "stdout",
     "output_type": "stream",
     "text": [
      "      May 2016      \n",
      "Su Mo Tu We Th Fr Sa\n",
      " 1  2  3  4  5  6  7 \n",
      " 8  9 10 11 12 13 14 \n",
      "15 16 17 18 19 20 21 \n",
      "22 23 24 25 26 27 28 \n",
      "29 30 31             \n",
      "                     \n"
     ]
    }
   ],
   "source": [
    "run(`cal`) # This calls the unix Calendar program"
   ]
  },
  {
   "cell_type": "code",
   "execution_count": 65,
   "metadata": {
    "collapsed": false
   },
   "outputs": [
    {
     "name": "stdout",
     "output_type": "stream",
     "text": [
      "Su Mo Tu We Th Fr Sa\n"
     ]
    }
   ],
   "source": [
    "run(pipeline(`cal`,`grep Sa`)) # The pipe is '|>' instead of usual '|'"
   ]
  },
  {
   "cell_type": "markdown",
   "metadata": {},
   "source": [
    "### `ccall()` - calling `C` program"
   ]
  },
  {
   "cell_type": "code",
   "execution_count": 66,
   "metadata": {
    "collapsed": false
   },
   "outputs": [
    {
     "name": "stdout",
     "output_type": "stream",
     "text": [
      "Base.Libdl.find_library\n",
      "(intrinsic function #87)\n",
      "Base.Libc.errno\n"
     ]
    }
   ],
   "source": [
    "?(\"ccall\") # ccall is the only function which needs \"\" in ?() - but this is no much help either :)"
   ]
  },
  {
   "cell_type": "code",
   "execution_count": 67,
   "metadata": {
    "collapsed": false
   },
   "outputs": [
    {
     "data": {
      "text/plain": [
       "139849201859136"
      ]
     },
     "execution_count": 67,
     "metadata": {},
     "output_type": "execute_result"
    }
   ],
   "source": [
    "ccall(:ctime, Int, ()) # Simple version"
   ]
  },
  {
   "cell_type": "code",
   "execution_count": 68,
   "metadata": {
    "collapsed": false
   },
   "outputs": [
    {
     "data": {
      "text/plain": [
       "\"Mon Jul 25 16:30:56 4433340\\n\""
      ]
     },
     "execution_count": 68,
     "metadata": {},
     "output_type": "execute_result"
    }
   ],
   "source": [
    "bytestring(ccall(:ctime, Ptr{UInt8}, ())) # Human readable version"
   ]
  },
  {
   "cell_type": "code",
   "execution_count": 69,
   "metadata": {
    "collapsed": false
   },
   "outputs": [
    {
     "data": {
      "text/plain": [
       "\"Mon Jul 25 18:01:36 4433340\\n\""
      ]
     },
     "execution_count": 69,
     "metadata": {},
     "output_type": "execute_result"
    }
   ],
   "source": [
    "bytestring(ccall((:ctime,\"libc\"), Ptr{UInt8}, ())) \n",
    "# With specifying the library"
   ]
  },
  {
   "cell_type": "code",
   "execution_count": 70,
   "metadata": {
    "collapsed": false
   },
   "outputs": [
    {
     "data": {
      "text/plain": [
       "Ptr{UInt8} @0x00007f312dffba40"
      ]
     },
     "execution_count": 70,
     "metadata": {},
     "output_type": "execute_result"
    }
   ],
   "source": [
    "ccall(:ctime, Ptr{UInt8}, ()) # Or with pointers"
   ]
  },
  {
   "cell_type": "markdown",
   "metadata": {},
   "source": [
    "## `Task()`, `produce()` and `consume()` \n",
    "`Julia` has  a control flow feature that allows computations to be suspended \n",
    "and resumed in a flexible manner (see\n",
    "[tasks](http://julia.readthedocs.org/en/latest/manual/control-flow/#man-tasks) in the manual)."
   ]
  },
  {
   "cell_type": "code",
   "execution_count": 71,
   "metadata": {
    "collapsed": false
   },
   "outputs": [
    {
     "data": {
      "text/plain": [
       "stepbystep (generic function with 1 method)"
      ]
     },
     "execution_count": 71,
     "metadata": {},
     "output_type": "execute_result"
    }
   ],
   "source": [
    "function stepbystep()\n",
    "    for n=1:3\n",
    "        produce(n^2)\n",
    "    end\n",
    "end"
   ]
  },
  {
   "cell_type": "code",
   "execution_count": 72,
   "metadata": {
    "collapsed": false
   },
   "outputs": [
    {
     "data": {
      "text/plain": [
       "Task (runnable) @0x00007f2f2d777080"
      ]
     },
     "execution_count": 72,
     "metadata": {},
     "output_type": "execute_result"
    }
   ],
   "source": [
    "p=Task(stepbystep)"
   ]
  },
  {
   "cell_type": "code",
   "execution_count": 73,
   "metadata": {
    "collapsed": false
   },
   "outputs": [
    {
     "data": {
      "text/plain": [
       "1"
      ]
     },
     "execution_count": 73,
     "metadata": {},
     "output_type": "execute_result"
    }
   ],
   "source": [
    "consume(p)"
   ]
  },
  {
   "cell_type": "code",
   "execution_count": 74,
   "metadata": {
    "collapsed": false
   },
   "outputs": [
    {
     "data": {
      "text/plain": [
       "4"
      ]
     },
     "execution_count": 74,
     "metadata": {},
     "output_type": "execute_result"
    }
   ],
   "source": [
    "consume(p)"
   ]
  },
  {
   "cell_type": "code",
   "execution_count": 75,
   "metadata": {
    "collapsed": false
   },
   "outputs": [
    {
     "data": {
      "text/plain": [
       "9"
      ]
     },
     "execution_count": 75,
     "metadata": {},
     "output_type": "execute_result"
    }
   ],
   "source": [
    "consume(p) "
   ]
  },
  {
   "cell_type": "code",
   "execution_count": 76,
   "metadata": {
    "collapsed": false
   },
   "outputs": [],
   "source": [
    "consume(p) # Guess what comes next?"
   ]
  },
  {
   "cell_type": "code",
   "execution_count": null,
   "metadata": {
    "collapsed": false
   },
   "outputs": [],
   "source": []
  }
 ],
 "metadata": {
  "kernelspec": {
   "display_name": "Julia 0.4.5",
   "language": "julia",
   "name": "julia-0.4"
  },
  "language_info": {
   "file_extension": ".jl",
   "mimetype": "application/julia",
   "name": "julia",
   "version": "0.4.5"
  }
 },
 "nbformat": 4,
 "nbformat_minor": 0
}
