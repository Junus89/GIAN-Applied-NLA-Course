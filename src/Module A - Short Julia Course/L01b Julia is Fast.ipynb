{
 "cells": [
  {
   "cell_type": "markdown",
   "metadata": {},
   "source": [
    "# Julia is Fast - `@time`, `@elapsed` and `@inbounds`\n",
    "\n",
    "---\n",
    "\n",
    "In this notebook, we demonstrate how fast `Julia` is, compared to other dynamically typed languages. \n",
    "\n",
    "## Prerequisites\n",
    "\n",
    "Read the text [Why Julia?](https://github.com/stevengj/julia-mit/blob/master/README.md#why-julia) (3 min)\n",
    "\n",
    "Read [Performance tips](http://julia.readthedocs.org/en/latest/manual/performance-tips/) section of the `Julia` manual. (20 min) \n",
    "\n",
    "## Competences \n",
    "\n",
    "The reader should understand effects of \"[just-in-time\n",
    "compiler](https://en.wikipedia.org/wiki/Just-in-time_compilation)\"\n",
    "called [LLVM](http://llvm.org/) on the speed of execution of programs. \n",
    "The reader should be able to write simple, but fast, programs containing loops.\n",
    "\n",
    "## Credits \n",
    "\n",
    "Some examples are taken from [The Julia Manual](http://julia.readthedocs.org/en/latest/manual/).\n"
   ]
  },
  {
   "cell_type": "markdown",
   "metadata": {},
   "source": [
    "## Scholarly example - summing integer halves\n",
    "\n",
    "Consider the function `f` which sums halves of integers from `1` to `n`:\n",
    "\n",
    "__N.B.__ `Esc l` toggles the line numbers in the current cell."
   ]
  },
  {
   "cell_type": "code",
   "execution_count": 1,
   "metadata": {
    "collapsed": false
   },
   "outputs": [
    {
     "data": {
      "text/plain": [
       "f (generic function with 1 method)"
      ]
     },
     "execution_count": 1,
     "metadata": {},
     "output_type": "execute_result"
    }
   ],
   "source": [
    "function f(n)\n",
    "    s = 0\n",
    "    for i = 1:n\n",
    "        s += i/2\n",
    "    end\n",
    "    s\n",
    "end"
   ]
  },
  {
   "cell_type": "markdown",
   "metadata": {},
   "source": [
    "In order for the fast execution, the function must first be compiled. Compilation is performed automatically, when the function is invoked for the first time. Therefore, the first call can be done with some trivial choice of parameters.\n",
    "\n",
    "The timing can be done by two commands, `@time` and `@elapsed`: "
   ]
  },
  {
   "cell_type": "code",
   "execution_count": 2,
   "metadata": {
    "collapsed": false
   },
   "outputs": [
    {
     "data": {
      "text/latex": [
       "\\begin{verbatim}\n",
       "@time\n",
       "\\end{verbatim}\n",
       "A macro to execute an expression, printing the time it took to execute, the number of allocations, and the total number of bytes its execution caused to be allocated, before returning the value of the expression.\n"
      ],
      "text/markdown": [
       "```\n",
       "@time\n",
       "```\n",
       "\n",
       "A macro to execute an expression, printing the time it took to execute, the number of allocations, and the total number of bytes its execution caused to be allocated, before returning the value of the expression.\n"
      ],
      "text/plain": [
       "```\n",
       "@time\n",
       "```\n",
       "\n",
       "A macro to execute an expression, printing the time it took to execute, the number of allocations, and the total number of bytes its execution caused to be allocated, before returning the value of the expression.\n"
      ]
     },
     "execution_count": 2,
     "metadata": {},
     "output_type": "execute_result"
    }
   ],
   "source": [
    "?@time"
   ]
  },
  {
   "cell_type": "code",
   "execution_count": 3,
   "metadata": {
    "collapsed": false
   },
   "outputs": [
    {
     "data": {
      "text/latex": [
       "\\begin{verbatim}\n",
       "@elapsed\n",
       "\\end{verbatim}\n",
       "A macro to evaluate an expression, discarding the resulting value, instead returning the number of seconds it took to execute as a floating-point number.\n"
      ],
      "text/markdown": [
       "```\n",
       "@elapsed\n",
       "```\n",
       "\n",
       "A macro to evaluate an expression, discarding the resulting value, instead returning the number of seconds it took to execute as a floating-point number.\n"
      ],
      "text/plain": [
       "```\n",
       "@elapsed\n",
       "```\n",
       "\n",
       "A macro to evaluate an expression, discarding the resulting value, instead returning the number of seconds it took to execute as a floating-point number.\n"
      ]
     },
     "execution_count": 3,
     "metadata": {},
     "output_type": "execute_result"
    }
   ],
   "source": [
    "?@elapsed"
   ]
  },
  {
   "cell_type": "code",
   "execution_count": 4,
   "metadata": {
    "collapsed": false
   },
   "outputs": [
    {
     "name": "stdout",
     "output_type": "stream",
     "text": [
      "  0.007015 seconds (2.47 k allocations: 127.565 KB)\n"
     ]
    },
    {
     "data": {
      "text/plain": [
       "0.5"
      ]
     },
     "execution_count": 4,
     "metadata": {},
     "output_type": "execute_result"
    }
   ],
   "source": [
    "@time f(1) "
   ]
  },
  {
   "cell_type": "code",
   "execution_count": 5,
   "metadata": {
    "collapsed": false
   },
   "outputs": [
    {
     "data": {
      "text/plain": [
       "4.314e-6"
      ]
     },
     "execution_count": 5,
     "metadata": {},
     "output_type": "execute_result"
    }
   ],
   "source": [
    "@elapsed f(1)  # This run is much faster, since the function is already compiled"
   ]
  },
  {
   "cell_type": "markdown",
   "metadata": {},
   "source": [
    "Let us now run the big-size computation. Notice the unnaturally high byte allocation and the huge amount of time spent on \n",
    "[garbage collection](http://en.wikipedia.org/wiki/Garbage_collection_%28computer_science%29)."
   ]
  },
  {
   "cell_type": "code",
   "execution_count": 6,
   "metadata": {
    "collapsed": false
   },
   "outputs": [
    {
     "name": "stdout",
     "output_type": "stream",
     "text": [
      "  0.047478 seconds (2.00 M allocations: 30.518 MB, 16.67% gc time)\n"
     ]
    },
    {
     "data": {
      "text/plain": [
       "2.5000025e11"
      ]
     },
     "execution_count": 6,
     "metadata": {},
     "output_type": "execute_result"
    }
   ],
   "source": [
    "@time f(1000000) # Notice the unnaturally high byte  allocation!"
   ]
  },
  {
   "cell_type": "code",
   "execution_count": 7,
   "metadata": {
    "collapsed": false
   },
   "outputs": [
    {
     "data": {
      "text/plain": [
       "0.039124939"
      ]
     },
     "execution_count": 7,
     "metadata": {},
     "output_type": "execute_result"
    }
   ],
   "source": [
    "@elapsed f(1000000) # We shall be using @time from now on"
   ]
  },
  {
   "cell_type": "markdown",
   "metadata": {},
   "source": [
    "> Since your computer can execute several _Gigaflops_ (floating-point operations per second), this is rather slow. This slowness is due to _type instability_: variable `s` is in the beginning assumed to be of type `Integer`, while at every other step, the result is a real number of type `Float64`. Permanent checking of types requires permanent memory allocation and deallocation (garbage collection). This is corrected by very simple means: just declare `s` as a real number, and the execution is more than 10 times faster with almost no memory allocation (and, consequently, no garbage collection)."
   ]
  },
  {
   "cell_type": "code",
   "execution_count": 8,
   "metadata": {
    "collapsed": false
   },
   "outputs": [
    {
     "data": {
      "text/plain": [
       "f1 (generic function with 1 method)"
      ]
     },
     "execution_count": 8,
     "metadata": {},
     "output_type": "execute_result"
    }
   ],
   "source": [
    "function f1(n)\n",
    "    s = 0.0\n",
    "    for i = 1:n\n",
    "        s += i/2\n",
    "    end\n",
    "    s\n",
    "end"
   ]
  },
  {
   "cell_type": "code",
   "execution_count": 9,
   "metadata": {
    "collapsed": false
   },
   "outputs": [
    {
     "name": "stdout",
     "output_type": "stream",
     "text": [
      "  0.005002 seconds (1.79 k allocations: 90.213 KB)\n"
     ]
    },
    {
     "data": {
      "text/plain": [
       "0.5"
      ]
     },
     "execution_count": 9,
     "metadata": {},
     "output_type": "execute_result"
    }
   ],
   "source": [
    "@time f1(1)"
   ]
  },
  {
   "cell_type": "code",
   "execution_count": 10,
   "metadata": {
    "collapsed": false
   },
   "outputs": [
    {
     "name": "stdout",
     "output_type": "stream",
     "text": [
      "  0.001592 seconds (5 allocations: 176 bytes)\n"
     ]
    },
    {
     "data": {
      "text/plain": [
       "2.5000025e11"
      ]
     },
     "execution_count": 10,
     "metadata": {},
     "output_type": "execute_result"
    }
   ],
   "source": [
    "@time f1(1000000)"
   ]
  },
  {
   "cell_type": "markdown",
   "metadata": {},
   "source": [
    "`@time` can alo be invoked as a function, but only on a function call, and not when the output is assigned, as well:"
   ]
  },
  {
   "cell_type": "code",
   "execution_count": 11,
   "metadata": {
    "collapsed": false
   },
   "outputs": [
    {
     "name": "stdout",
     "output_type": "stream",
     "text": [
      "  0.001322 seconds (5 allocations: 176 bytes)\n"
     ]
    },
    {
     "data": {
      "text/plain": [
       "2.5000025e11"
      ]
     },
     "execution_count": 11,
     "metadata": {},
     "output_type": "execute_result"
    }
   ],
   "source": [
    "@time(f1(1000000))"
   ]
  },
  {
   "cell_type": "code",
   "execution_count": 12,
   "metadata": {
    "collapsed": false
   },
   "outputs": [
    {
     "name": "stdout",
     "output_type": "stream",
     "text": [
      "  0.001781 seconds (6 allocations: 224 bytes)\n"
     ]
    },
    {
     "data": {
      "text/plain": [
       "2.5000025e11"
      ]
     },
     "execution_count": 12,
     "metadata": {},
     "output_type": "execute_result"
    }
   ],
   "source": [
    "@time s2=f1(1000000)"
   ]
  },
  {
   "cell_type": "code",
   "execution_count": 13,
   "metadata": {
    "collapsed": false
   },
   "outputs": [
    {
     "ename": "LoadError",
     "evalue": "LoadError: unsupported or misplaced expression kw\nwhile loading In[13], in expression starting on line 155",
     "output_type": "error",
     "traceback": [
      "LoadError: unsupported or misplaced expression kw\nwhile loading In[13], in expression starting on line 155",
      ""
     ]
    }
   ],
   "source": [
    "@time(s2=f1(1000000))"
   ]
  },
  {
   "cell_type": "markdown",
   "metadata": {},
   "source": [
    "## Real-world example - exponential moving average\n",
    "\n",
    "[Exponential moving average](http://en.wikipedia.org/wiki/Moving_average#Exponential_moving_average) is a fast _one pass_ formula (each data point of the given data set $A$ is accessed only once) often used in high-frequency on-line trading (see [Online Algorithms in High-Frequency Trading](http://cacm.acm.org/magazines/2013/10/168184-online-algorithms-in-high-frequency-trading/fulltext) for more details). __Notice that the output array $X$ is declared in advance.__\n",
    "\n",
    "Using `return` in the last line is here optional.\n"
   ]
  },
  {
   "cell_type": "code",
   "execution_count": 14,
   "metadata": {
    "collapsed": false
   },
   "outputs": [
    {
     "data": {
      "text/plain": [
       "fexpma (generic function with 1 method)"
      ]
     },
     "execution_count": 14,
     "metadata": {},
     "output_type": "execute_result"
    }
   ],
   "source": [
    "function fexpma{T}( A::Vector{T}, alpha::T )\n",
    "    # fast exponential moving average: X - moving average, A - data, \n",
    "    # alpha - exponential forgetting parameter\n",
    "    n = length(A)\n",
    "    X = Array(T,n) # Declare X\n",
    "    beta = one(T)-alpha\n",
    "    X[1] = A[1]\n",
    "    for k = 2:n\n",
    "        X[k] = beta*A[k] + alpha*X[k-1]\n",
    "    end\n",
    "    return X\n",
    "end\n"
   ]
  },
  {
   "cell_type": "code",
   "execution_count": 15,
   "metadata": {
    "collapsed": false
   },
   "outputs": [
    {
     "data": {
      "text/plain": [
       "1-element Array{Float64,1}:\n",
       " 1.0"
      ]
     },
     "execution_count": 15,
     "metadata": {},
     "output_type": "execute_result"
    }
   ],
   "source": [
    "fexpma([1.0],0.5) # First run for compilation"
   ]
  },
  {
   "cell_type": "markdown",
   "metadata": {},
   "source": [
    "We now generate some big-size data:"
   ]
  },
  {
   "cell_type": "code",
   "execution_count": 20,
   "metadata": {
    "collapsed": false
   },
   "outputs": [
    {
     "data": {
      "text/plain": [
       "20000000-element Array{Float64,1}:\n",
       "   0.369455 \n",
       "   0.149719 \n",
       "   0.205221 \n",
       "   0.382511 \n",
       "   0.27614  \n",
       "   0.512635 \n",
       "   0.994414 \n",
       "   0.497099 \n",
       "   0.0377593\n",
       "   0.70887  \n",
       "   0.262477 \n",
       "   0.789219 \n",
       "   0.817069 \n",
       "   ⋮        \n",
       " 186.359    \n",
       "  71.6288   \n",
       "   9.84393  \n",
       " 139.452    \n",
       " 106.447    \n",
       " 150.534    \n",
       "  57.7558   \n",
       "  32.4917   \n",
       " 183.647    \n",
       " 187.343    \n",
       " 131.351    \n",
       " 198.581    "
      ]
     },
     "execution_count": 20,
     "metadata": {},
     "output_type": "execute_result"
    }
   ],
   "source": [
    "# Big random slightly increasing sequence\n",
    "A=[rand() + 0.00001*k*rand() for k=1:20_000_000] "
   ]
  },
  {
   "cell_type": "code",
   "execution_count": 21,
   "metadata": {
    "collapsed": false
   },
   "outputs": [
    {
     "name": "stdout",
     "output_type": "stream",
     "text": [
      "  0.236168 seconds (6 allocations: 152.588 MB)\n"
     ]
    },
    {
     "data": {
      "text/plain": [
       "20000000-element Array{Float64,1}:\n",
       "   0.369455\n",
       "   0.347481\n",
       "   0.333255\n",
       "   0.338181\n",
       "   0.331977\n",
       "   0.350043\n",
       "   0.41448 \n",
       "   0.422742\n",
       "   0.384243\n",
       "   0.416706\n",
       "   0.401283\n",
       "   0.440077\n",
       "   0.477776\n",
       "   ⋮       \n",
       " 100.28    \n",
       "  97.4149  \n",
       "  88.6578  \n",
       "  93.7372  \n",
       "  95.0082  \n",
       " 100.561   \n",
       "  96.2803  \n",
       "  89.9014  \n",
       "  99.276   \n",
       " 108.083   \n",
       " 110.41    \n",
       " 119.227   "
      ]
     },
     "execution_count": 21,
     "metadata": {},
     "output_type": "execute_result"
    }
   ],
   "source": [
    "@time X=fexpma(A,0.9)"
   ]
  },
  {
   "cell_type": "markdown",
   "metadata": {},
   "source": [
    "## `@inbounds`\n",
    "\n",
    "The `@inbounds` command eliminates array bounds checking within expressions. Be certain before doing this. If the subscripts are ever out of bounds, you may suffer crashes or silent corruption. The above program runs 40% faster.,"
   ]
  },
  {
   "cell_type": "code",
   "execution_count": 22,
   "metadata": {
    "collapsed": false
   },
   "outputs": [
    {
     "data": {
      "text/plain": [
       "fexpma (generic function with 1 method)"
      ]
     },
     "execution_count": 22,
     "metadata": {},
     "output_type": "execute_result"
    }
   ],
   "source": [
    "function fexpma{T}( A::Vector{T}, alpha::T )\n",
    "    # fast exponential moving average: X - moving average, A - data, \n",
    "    # alpha - exponential forgetting parameter\n",
    "    n = length(A)\n",
    "    X = Array(T,n) # Declare X\n",
    "    beta = one(T)-alpha\n",
    "    X[1] = A[1]\n",
    "    @inbounds for k = 2:n\n",
    "        X[k] = beta*A[k] + alpha*X[k-1]\n",
    "    end\n",
    "    return X\n",
    "end"
   ]
  },
  {
   "cell_type": "code",
   "execution_count": 24,
   "metadata": {
    "collapsed": false
   },
   "outputs": [
    {
     "name": "stdout",
     "output_type": "stream",
     "text": [
      "  0.137284 seconds (6 allocations: 152.588 MB)\n"
     ]
    },
    {
     "data": {
      "text/plain": [
       "20000000-element Array{Float64,1}:\n",
       "   0.369455\n",
       "   0.347481\n",
       "   0.333255\n",
       "   0.338181\n",
       "   0.331977\n",
       "   0.350043\n",
       "   0.41448 \n",
       "   0.422742\n",
       "   0.384243\n",
       "   0.416706\n",
       "   0.401283\n",
       "   0.440077\n",
       "   0.477776\n",
       "   ⋮       \n",
       " 100.28    \n",
       "  97.4149  \n",
       "  88.6578  \n",
       "  93.7372  \n",
       "  95.0082  \n",
       " 100.561   \n",
       "  96.2803  \n",
       "  89.9014  \n",
       "  99.276   \n",
       " 108.083   \n",
       " 110.41    \n",
       " 119.227   "
      ]
     },
     "execution_count": 24,
     "metadata": {},
     "output_type": "execute_result"
    }
   ],
   "source": [
    "@time X=fexpma(A,0.9)"
   ]
  },
  {
   "cell_type": "markdown",
   "metadata": {},
   "source": [
    "Similar `Matlab` programs give the following timing for the two versions of the function, first _without_ prior declaration of $X$ and then _with_ prior declaration. The _latter_ version is several times faster, but still slow. \n",
    "\n",
    "---\n",
    "```\n",
    "function X = fexpma0( A,alpha )\n",
    "% fast exponential moving average: X - moving average, A - data, \n",
    "% alpha - exponential forgetting parameter\n",
    "n=length(A);\n",
    "beta=1-alpha;\n",
    "X(1)=A(1);\n",
    "for k=2:n\n",
    "    X(k)=beta*A(k)+alpha*X(k-1);\n",
    "end\n",
    "```\n",
    "```\n",
    ">> A=rand(20000000,1)+0.00001*[1:20000000]'.*rand(20000000,1);\n",
    ">> tic, X=fexpma0(A,0.9); toc\n",
    "Elapsed time is 3.073359 seconds.\n",
    "```\n",
    "\n",
    "---\n",
    "\n",
    "```\n",
    "function X = fexpma( A,alpha )\n",
    "% fast exponential moving average: X - moving average, A - data, \n",
    "% alpha - exponential forgetting parameter\n",
    "n=length(A);\n",
    "X=zeros(n,1); % Allocate X in advance\n",
    "beta=1-alpha;\n",
    "X(1)=A(1);\n",
    "for k=2:n\n",
    "    X(k)=beta*A(k)+alpha*X(k-1);\n",
    "end\n",
    "```\n",
    "```\n",
    ">> tic, X=fexpma(A,0.9); toc\n",
    "Elapsed time is 0.320976 seconds.\n",
    "```"
   ]
  },
  {
   "cell_type": "markdown",
   "metadata": {},
   "source": [
    "## Plotting the moving average\n",
    "\n",
    "Let us plot the data $A$ and its exponential moving average $X$. The dimension of the data is too large for meaningful direct plot. In `Julia` we can use `@manipulate` command to slide through the data. It takes a while to read packages `Winston` (for plotting) and `Interact`, but this is needed only for the first invocation."
   ]
  },
  {
   "cell_type": "code",
   "execution_count": 26,
   "metadata": {
    "collapsed": false
   },
   "outputs": [],
   "source": [
    "using Winston\n",
    "using Interact"
   ]
  },
  {
   "cell_type": "code",
   "execution_count": 27,
   "metadata": {
    "collapsed": false
   },
   "outputs": [
    {
     "data": {
      "text/html": [],
      "text/plain": [
       "Interact.Slider{Int64}(Signal{Int64}(9999001, nactions=0),\"k\",9999001,1:1000:19999001,true)"
      ]
     },
     "metadata": {},
     "output_type": "display_data"
    },
    {
     "data": {
      "image/png": "[encoded data removed]",
      "text/plain": [
       "Winston.FramedPlot(...)"
      ]
     },
     "execution_count": 27,
     "metadata": {
      "comm_id": "8e198315-7929-46b8-bbb9-c66c90c6c4ef",
      "reactive": true
     },
     "output_type": "execute_result"
    }
   ],
   "source": [
    "@manipulate for k=1:1000:20000000\n",
    "    plot(collect(k:k+1000),A[k:k+1000],\"r.\",collect(k:k+1000),X[k:k+1000],\"b\")\n",
    "end"
   ]
  },
  {
   "cell_type": "markdown",
   "metadata": {},
   "source": [
    "### Remark\n",
    "More details about optimizing your programs are given in the [Profiling Notebook]()."
   ]
  },
  {
   "cell_type": "markdown",
   "metadata": {},
   "source": [
    "## Pre-allocating output\n",
    "\n",
    "The following example is from [Pre-allocating outputs](http://julia.readthedocs.org/en/latest/manual/performance-tips/#pre-allocating-outputs). The functions `loopinc()` and `loopinc_prealloc()` both compute $\\sum_{i=2}^{10000001}i$, the second one being 10 times faster: "
   ]
  },
  {
   "cell_type": "code",
   "execution_count": 28,
   "metadata": {
    "collapsed": false
   },
   "outputs": [
    {
     "data": {
      "text/plain": [
       "loopinc_prealloc (generic function with 1 method)"
      ]
     },
     "execution_count": 28,
     "metadata": {},
     "output_type": "execute_result"
    }
   ],
   "source": [
    "function xinc(x)\n",
    "    return [x, x+1, x+2]\n",
    "end\n",
    "\n",
    "function loopinc()\n",
    "    y = 0\n",
    "    for i = 1:10^7\n",
    "        ret = xinc(i)\n",
    "        y += ret[2]\n",
    "    end\n",
    "    y\n",
    "end\n",
    "\n",
    "function xinc!{T}(ret::AbstractVector{T}, x::T)\n",
    "    ret[1] = x\n",
    "    ret[2] = x+1\n",
    "    ret[3] = x+2\n",
    "    nothing\n",
    "end\n",
    "\n",
    "function loopinc_prealloc()\n",
    "    ret = Array(Int, 3)\n",
    "    y = 0\n",
    "    for i = 1:10^7\n",
    "        xinc!(ret, i)\n",
    "        y += ret[2]\n",
    "    end\n",
    "    y\n",
    "end"
   ]
  },
  {
   "cell_type": "code",
   "execution_count": 29,
   "metadata": {
    "collapsed": false
   },
   "outputs": [
    {
     "name": "stdout",
     "output_type": "stream",
     "text": [
      "  0.960494 seconds (40.01 M allocations: 1.342 GB, 45.23% gc time)\n"
     ]
    },
    {
     "data": {
      "text/plain": [
       "50000015000000"
      ]
     },
     "execution_count": 29,
     "metadata": {},
     "output_type": "execute_result"
    }
   ],
   "source": [
    "@time loopinc()"
   ]
  },
  {
   "cell_type": "code",
   "execution_count": 30,
   "metadata": {
    "collapsed": false
   },
   "outputs": [
    {
     "name": "stdout",
     "output_type": "stream",
     "text": [
      "  0.037649 seconds (3.06 k allocations: 160.258 KB)\n"
     ]
    },
    {
     "data": {
      "text/plain": [
       "50000015000000"
      ]
     },
     "execution_count": 30,
     "metadata": {},
     "output_type": "execute_result"
    }
   ],
   "source": [
    "@time loopinc_prealloc() # After the second run"
   ]
  },
  {
   "cell_type": "markdown",
   "metadata": {},
   "source": [
    "## Memory access\n",
    "\n",
    "The following example is from [Access arrays in memory order, along columns](http://julia.readthedocs.org/en/latest/manual/performance-tips/#access-arrays-in-memory-order-along-columns).\n",
    "\n",
    "Multidimensional arrays in Julia are stored in column-major order, which means that arrays are stacked one column at a time. This convention for ordering arrays is common in many languages like Fortran, Matlab, and R (to name a few). The alternative to column-major ordering is row-major ordering, which is the convention adopted by C and Python (numpy) among other languages. The ordering can be verified using the `vec()` function or the syntax `[:]`:"
   ]
  },
  {
   "cell_type": "code",
   "execution_count": 31,
   "metadata": {
    "collapsed": false
   },
   "outputs": [
    {
     "data": {
      "text/plain": [
       "4x3 Array{Int64,2}:\n",
       " 9  8  7\n",
       " 6  3  9\n",
       " 6  1  1\n",
       " 4  9  3"
      ]
     },
     "execution_count": 31,
     "metadata": {},
     "output_type": "execute_result"
    }
   ],
   "source": [
    "B = rand(0:9,4,3)"
   ]
  },
  {
   "cell_type": "code",
   "execution_count": 32,
   "metadata": {
    "collapsed": false
   },
   "outputs": [
    {
     "data": {
      "text/plain": [
       "12-element Array{Int64,1}:\n",
       " 9\n",
       " 6\n",
       " 6\n",
       " 4\n",
       " 8\n",
       " 3\n",
       " 1\n",
       " 9\n",
       " 7\n",
       " 9\n",
       " 1\n",
       " 3"
      ]
     },
     "execution_count": 32,
     "metadata": {},
     "output_type": "execute_result"
    }
   ],
   "source": [
    "B[:]"
   ]
  },
  {
   "cell_type": "code",
   "execution_count": 33,
   "metadata": {
    "collapsed": false
   },
   "outputs": [
    {
     "data": {
      "text/plain": [
       "12-element Array{Int64,1}:\n",
       " 9\n",
       " 6\n",
       " 6\n",
       " 4\n",
       " 8\n",
       " 3\n",
       " 1\n",
       " 9\n",
       " 7\n",
       " 9\n",
       " 1\n",
       " 3"
      ]
     },
     "execution_count": 33,
     "metadata": {},
     "output_type": "execute_result"
    }
   ],
   "source": [
    "vec(B)"
   ]
  },
  {
   "cell_type": "markdown",
   "metadata": {},
   "source": [
    "The ordering of arrays can have significant performance effects when looping over arrays. Loops should be organized such that the subsequent accessed elements are close to each other in physical memory.\n",
    "\n",
    "The following functions accept a `Vector` and and return a square `Array` with the rows or the columns filled with copies of the input vector, respectively."
   ]
  },
  {
   "cell_type": "code",
   "execution_count": 34,
   "metadata": {
    "collapsed": false
   },
   "outputs": [
    {
     "data": {
      "text/plain": [
       "copy_rows (generic function with 1 method)"
      ]
     },
     "execution_count": 34,
     "metadata": {},
     "output_type": "execute_result"
    }
   ],
   "source": [
    "function copy_cols{T}(x::Vector{T})\n",
    "    n = size(x, 1)\n",
    "    out = Array(eltype(x), n, n)\n",
    "    for i=1:n\n",
    "        out[:, i] = x\n",
    "    end\n",
    "    out\n",
    "end\n",
    "\n",
    "function copy_rows{T}(x::Vector{T})\n",
    "    n = size(x, 1)\n",
    "    out = Array(eltype(x), n, n)\n",
    "    for i=1:n\n",
    "        out[i, :] = x\n",
    "    end\n",
    "    out\n",
    "end"
   ]
  },
  {
   "cell_type": "code",
   "execution_count": 35,
   "metadata": {
    "collapsed": false
   },
   "outputs": [
    {
     "data": {
      "text/plain": [
       "2x2 Array{Float64,2}:\n",
       " 1.0  2.0\n",
       " 1.0  2.0"
      ]
     },
     "execution_count": 35,
     "metadata": {},
     "output_type": "execute_result"
    }
   ],
   "source": [
    "copy_cols([1.0,2])\n",
    "copy_rows([1.0,2])"
   ]
  },
  {
   "cell_type": "code",
   "execution_count": 36,
   "metadata": {
    "collapsed": false
   },
   "outputs": [
    {
     "data": {
      "text/plain": [
       "5000-element Array{Float64,1}:\n",
       " 0.270683 \n",
       " 0.617161 \n",
       " 0.20085  \n",
       " 0.799526 \n",
       " 0.41825  \n",
       " 0.775518 \n",
       " 0.992601 \n",
       " 0.947305 \n",
       " 0.16775  \n",
       " 0.767546 \n",
       " 0.0377609\n",
       " 0.313661 \n",
       " 0.934166 \n",
       " ⋮        \n",
       " 0.955947 \n",
       " 0.413041 \n",
       " 0.470317 \n",
       " 0.805511 \n",
       " 0.224841 \n",
       " 0.789954 \n",
       " 0.100358 \n",
       " 0.594421 \n",
       " 0.864206 \n",
       " 0.873242 \n",
       " 0.162148 \n",
       " 0.702579 "
      ]
     },
     "execution_count": 36,
     "metadata": {},
     "output_type": "execute_result"
    }
   ],
   "source": [
    "x=rand(5000) # generate a random vector"
   ]
  },
  {
   "cell_type": "code",
   "execution_count": 37,
   "metadata": {
    "collapsed": false
   },
   "outputs": [
    {
     "name": "stdout",
     "output_type": "stream",
     "text": [
      "  0.467792 seconds (4.50 k allocations: 190.804 MB, 1.35% gc time)\n"
     ]
    },
    {
     "data": {
      "text/plain": [
       "5000x5000 Array{Float64,2}:\n",
       " 0.270683   0.270683   0.270683   …  0.270683   0.270683   0.270683 \n",
       " 0.617161   0.617161   0.617161      0.617161   0.617161   0.617161 \n",
       " 0.20085    0.20085    0.20085       0.20085    0.20085    0.20085  \n",
       " 0.799526   0.799526   0.799526      0.799526   0.799526   0.799526 \n",
       " 0.41825    0.41825    0.41825       0.41825    0.41825    0.41825  \n",
       " 0.775518   0.775518   0.775518   …  0.775518   0.775518   0.775518 \n",
       " 0.992601   0.992601   0.992601      0.992601   0.992601   0.992601 \n",
       " 0.947305   0.947305   0.947305      0.947305   0.947305   0.947305 \n",
       " 0.16775    0.16775    0.16775       0.16775    0.16775    0.16775  \n",
       " 0.767546   0.767546   0.767546      0.767546   0.767546   0.767546 \n",
       " 0.0377609  0.0377609  0.0377609  …  0.0377609  0.0377609  0.0377609\n",
       " 0.313661   0.313661   0.313661      0.313661   0.313661   0.313661 \n",
       " 0.934166   0.934166   0.934166      0.934166   0.934166   0.934166 \n",
       " ⋮                                ⋱                                 \n",
       " 0.955947   0.955947   0.955947      0.955947   0.955947   0.955947 \n",
       " 0.413041   0.413041   0.413041      0.413041   0.413041   0.413041 \n",
       " 0.470317   0.470317   0.470317   …  0.470317   0.470317   0.470317 \n",
       " 0.805511   0.805511   0.805511      0.805511   0.805511   0.805511 \n",
       " 0.224841   0.224841   0.224841      0.224841   0.224841   0.224841 \n",
       " 0.789954   0.789954   0.789954      0.789954   0.789954   0.789954 \n",
       " 0.100358   0.100358   0.100358      0.100358   0.100358   0.100358 \n",
       " 0.594421   0.594421   0.594421   …  0.594421   0.594421   0.594421 \n",
       " 0.864206   0.864206   0.864206      0.864206   0.864206   0.864206 \n",
       " 0.873242   0.873242   0.873242      0.873242   0.873242   0.873242 \n",
       " 0.162148   0.162148   0.162148      0.162148   0.162148   0.162148 \n",
       " 0.702579   0.702579   0.702579      0.702579   0.702579   0.702579 "
      ]
     },
     "execution_count": 37,
     "metadata": {},
     "output_type": "execute_result"
    }
   ],
   "source": [
    "@time C=copy_cols(x)  # We generate a large matrix"
   ]
  },
  {
   "cell_type": "code",
   "execution_count": 38,
   "metadata": {
    "collapsed": false
   },
   "outputs": [
    {
     "name": "stdout",
     "output_type": "stream",
     "text": [
      "  0.346238 seconds (4.50 k allocations: 190.804 MB, 1.13% gc time)\n"
     ]
    },
    {
     "data": {
      "text/plain": [
       "5000x5000 Array{Float64,2}:\n",
       " 0.270683  0.617161  0.20085  0.799526  …  0.873242  0.162148  0.702579\n",
       " 0.270683  0.617161  0.20085  0.799526     0.873242  0.162148  0.702579\n",
       " 0.270683  0.617161  0.20085  0.799526     0.873242  0.162148  0.702579\n",
       " 0.270683  0.617161  0.20085  0.799526     0.873242  0.162148  0.702579\n",
       " 0.270683  0.617161  0.20085  0.799526     0.873242  0.162148  0.702579\n",
       " 0.270683  0.617161  0.20085  0.799526  …  0.873242  0.162148  0.702579\n",
       " 0.270683  0.617161  0.20085  0.799526     0.873242  0.162148  0.702579\n",
       " 0.270683  0.617161  0.20085  0.799526     0.873242  0.162148  0.702579\n",
       " 0.270683  0.617161  0.20085  0.799526     0.873242  0.162148  0.702579\n",
       " 0.270683  0.617161  0.20085  0.799526     0.873242  0.162148  0.702579\n",
       " 0.270683  0.617161  0.20085  0.799526  …  0.873242  0.162148  0.702579\n",
       " 0.270683  0.617161  0.20085  0.799526     0.873242  0.162148  0.702579\n",
       " 0.270683  0.617161  0.20085  0.799526     0.873242  0.162148  0.702579\n",
       " ⋮                                      ⋱                              \n",
       " 0.270683  0.617161  0.20085  0.799526     0.873242  0.162148  0.702579\n",
       " 0.270683  0.617161  0.20085  0.799526     0.873242  0.162148  0.702579\n",
       " 0.270683  0.617161  0.20085  0.799526  …  0.873242  0.162148  0.702579\n",
       " 0.270683  0.617161  0.20085  0.799526     0.873242  0.162148  0.702579\n",
       " 0.270683  0.617161  0.20085  0.799526     0.873242  0.162148  0.702579\n",
       " 0.270683  0.617161  0.20085  0.799526     0.873242  0.162148  0.702579\n",
       " 0.270683  0.617161  0.20085  0.799526     0.873242  0.162148  0.702579\n",
       " 0.270683  0.617161  0.20085  0.799526  …  0.873242  0.162148  0.702579\n",
       " 0.270683  0.617161  0.20085  0.799526     0.873242  0.162148  0.702579\n",
       " 0.270683  0.617161  0.20085  0.799526     0.873242  0.162148  0.702579\n",
       " 0.270683  0.617161  0.20085  0.799526     0.873242  0.162148  0.702579\n",
       " 0.270683  0.617161  0.20085  0.799526     0.873242  0.162148  0.702579"
      ]
     },
     "execution_count": 38,
     "metadata": {},
     "output_type": "execute_result"
    }
   ],
   "source": [
    "@time D=copy_rows(x) # This is several times slower"
   ]
  },
  {
   "cell_type": "markdown",
   "metadata": {},
   "source": [
    "### Remark\n",
    "There is also a built-in function `repmat()`:"
   ]
  },
  {
   "cell_type": "code",
   "execution_count": 39,
   "metadata": {
    "collapsed": false
   },
   "outputs": [
    {
     "name": "stdout",
     "output_type": "stream",
     "text": [
      "search: repmat\n",
      "\n"
     ]
    },
    {
     "data": {
      "text/latex": [
       "\\begin{verbatim}\n",
       "repmat(A, n, m)\n",
       "\\end{verbatim}\n",
       "Construct a matrix by repeating the given matrix \\texttt{n} times in dimension 1 and \\texttt{m} times in dimension 2.\n"
      ],
      "text/markdown": [
       "```\n",
       "repmat(A, n, m)\n",
       "```\n",
       "\n",
       "Construct a matrix by repeating the given matrix `n` times in dimension 1 and `m` times in dimension 2.\n"
      ],
      "text/plain": [
       "```\n",
       "repmat(A, n, m)\n",
       "```\n",
       "\n",
       "Construct a matrix by repeating the given matrix `n` times in dimension 1 and `m` times in dimension 2.\n"
      ]
     },
     "execution_count": 39,
     "metadata": {},
     "output_type": "execute_result"
    }
   ],
   "source": [
    "?repmat"
   ]
  },
  {
   "cell_type": "code",
   "execution_count": 40,
   "metadata": {
    "collapsed": false
   },
   "outputs": [
    {
     "name": "stdout",
     "output_type": "stream",
     "text": [
      "  0.447391 seconds (60.16 k allocations: 193.389 MB, 18.40% gc time)\n"
     ]
    },
    {
     "data": {
      "text/plain": [
       "5000x5000 Array{Float64,2}:\n",
       " 0.270683   0.270683   0.270683   …  0.270683   0.270683   0.270683 \n",
       " 0.617161   0.617161   0.617161      0.617161   0.617161   0.617161 \n",
       " 0.20085    0.20085    0.20085       0.20085    0.20085    0.20085  \n",
       " 0.799526   0.799526   0.799526      0.799526   0.799526   0.799526 \n",
       " 0.41825    0.41825    0.41825       0.41825    0.41825    0.41825  \n",
       " 0.775518   0.775518   0.775518   …  0.775518   0.775518   0.775518 \n",
       " 0.992601   0.992601   0.992601      0.992601   0.992601   0.992601 \n",
       " 0.947305   0.947305   0.947305      0.947305   0.947305   0.947305 \n",
       " 0.16775    0.16775    0.16775       0.16775    0.16775    0.16775  \n",
       " 0.767546   0.767546   0.767546      0.767546   0.767546   0.767546 \n",
       " 0.0377609  0.0377609  0.0377609  …  0.0377609  0.0377609  0.0377609\n",
       " 0.313661   0.313661   0.313661      0.313661   0.313661   0.313661 \n",
       " 0.934166   0.934166   0.934166      0.934166   0.934166   0.934166 \n",
       " ⋮                                ⋱                                 \n",
       " 0.955947   0.955947   0.955947      0.955947   0.955947   0.955947 \n",
       " 0.413041   0.413041   0.413041      0.413041   0.413041   0.413041 \n",
       " 0.470317   0.470317   0.470317   …  0.470317   0.470317   0.470317 \n",
       " 0.805511   0.805511   0.805511      0.805511   0.805511   0.805511 \n",
       " 0.224841   0.224841   0.224841      0.224841   0.224841   0.224841 \n",
       " 0.789954   0.789954   0.789954      0.789954   0.789954   0.789954 \n",
       " 0.100358   0.100358   0.100358      0.100358   0.100358   0.100358 \n",
       " 0.594421   0.594421   0.594421   …  0.594421   0.594421   0.594421 \n",
       " 0.864206   0.864206   0.864206      0.864206   0.864206   0.864206 \n",
       " 0.873242   0.873242   0.873242      0.873242   0.873242   0.873242 \n",
       " 0.162148   0.162148   0.162148      0.162148   0.162148   0.162148 \n",
       " 0.702579   0.702579   0.702579      0.702579   0.702579   0.702579 "
      ]
     },
     "execution_count": 40,
     "metadata": {},
     "output_type": "execute_result"
    }
   ],
   "source": [
    "@time C1=repmat(x,1,5000)"
   ]
  },
  {
   "cell_type": "code",
   "execution_count": 35,
   "metadata": {
    "collapsed": false
   },
   "outputs": [],
   "source": []
  }
 ],
 "metadata": {
  "kernelspec": {
   "display_name": "Julia 0.4.5",
   "language": "julia",
   "name": "julia-0.4"
  },
  "language_info": {
   "file_extension": ".jl",
   "mimetype": "application/julia",
   "name": "julia",
   "version": "0.4.5"
  }
 },
 "nbformat": 4,
 "nbformat_minor": 0
}
