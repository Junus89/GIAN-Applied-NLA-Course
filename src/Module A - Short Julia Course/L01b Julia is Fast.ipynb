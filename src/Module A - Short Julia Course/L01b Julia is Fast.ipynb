{
 "cells": [
  {
   "cell_type": "markdown",
   "metadata": {},
   "source": [
    "# Julia is Fast - `@time`, `@elapsed` and `@inbounds`\n",
    "\n",
    "---\n",
    "\n",
    "In this notebook, we demonstrate how fast `Julia` is, compared to other dynamically typed languages. \n",
    "\n",
    "## Prerequisites\n",
    "\n",
    "Read the text [Why Julia?](https://github.com/stevengj/julia-mit/blob/master/README.md#why-julia) (3 min)\n",
    "\n",
    "Read [Performance tips](http://julia.readthedocs.org/en/latest/manual/performance-tips/) section of the `Julia` manual. (20 min) \n",
    "\n",
    "## Competences \n",
    "\n",
    "The reader should understand effects of \"[just-in-time\n",
    "compiler](https://en.wikipedia.org/wiki/Just-in-time_compilation)\"\n",
    "called [LLVM](http://llvm.org/)`LLVM` on the speed of execution of programs. \n",
    "The reader should be able to write simple, but fast, programs containing loops.\n",
    "\n",
    "## Credits \n",
    "\n",
    "Some examples are taken from [The Julia Manual](http://julia.readthedocs.org/en/latest/manual/).\n"
   ]
  },
  {
   "cell_type": "markdown",
   "metadata": {},
   "source": [
    "## Scholarly example - summing integer halves\n",
    "\n",
    "Consider the function `f` which sums halves of integers from `1` to `n`:\n",
    "\n",
    "__N.B.__ `Esc l` toggles line numbers in the current cell."
   ]
  },
  {
   "cell_type": "code",
   "execution_count": 1,
   "metadata": {
    "collapsed": false
   },
   "outputs": [
    {
     "data": {
      "text/plain": [
       "f (generic function with 1 method)"
      ]
     },
     "execution_count": 1,
     "metadata": {},
     "output_type": "execute_result"
    }
   ],
   "source": [
    "function f(n)\n",
    "    s = 0\n",
    "    for i = 1:n\n",
    "        s += i/2\n",
    "    end\n",
    "    s\n",
    "end"
   ]
  },
  {
   "cell_type": "markdown",
   "metadata": {},
   "source": [
    "In order for the fast execution, the function must first be compiled. Compilation is performed automatically, when the function is invoked for the first time. Therefore, the first call can be done with some trivial choice of parameters.\n",
    "\n",
    "The timing can be done by two commands, `@time` and `@elapsed`: "
   ]
  },
  {
   "cell_type": "code",
   "execution_count": 2,
   "metadata": {
    "collapsed": false
   },
   "outputs": [
    {
     "data": {
      "text/markdown": [
       "```\n",
       "@time\n",
       "```\n",
       "\n",
       "A macro to execute an expression, printing the time it took to execute, the number of allocations, and the total number of bytes its execution caused to be allocated, before returning the value of the expression.\n",
       "\n",
       "See also [`@timev`](:func:`@timev`), [`@timed`](:func:`@timed`), [`@elapsed`](:func:`@elapsed`), and [`@allocated`](:func:`@allocated`).\n"
      ],
      "text/plain": [
       "```\n",
       "@time\n",
       "```\n",
       "\n",
       "A macro to execute an expression, printing the time it took to execute, the number of allocations, and the total number of bytes its execution caused to be allocated, before returning the value of the expression.\n",
       "\n",
       "See also [`@timev`](:func:`@timev`), [`@timed`](:func:`@timed`), [`@elapsed`](:func:`@elapsed`), and [`@allocated`](:func:`@allocated`).\n"
      ]
     },
     "execution_count": 2,
     "metadata": {},
     "output_type": "execute_result"
    }
   ],
   "source": [
    "?@time"
   ]
  },
  {
   "cell_type": "code",
   "execution_count": 3,
   "metadata": {
    "collapsed": false
   },
   "outputs": [
    {
     "data": {
      "text/markdown": [
       "```\n",
       "@elapsed\n",
       "```\n",
       "\n",
       "A macro to evaluate an expression, discarding the resulting value, instead returning the number of seconds it took to execute as a floating-point number.\n",
       "\n",
       "See also [`@time`](:func:`@time`), [`@timev`](:func:`@timev`), [`@timed`](:func:`@timed`), and [`@allocated`](:func:`@allocated`).\n"
      ],
      "text/plain": [
       "```\n",
       "@elapsed\n",
       "```\n",
       "\n",
       "A macro to evaluate an expression, discarding the resulting value, instead returning the number of seconds it took to execute as a floating-point number.\n",
       "\n",
       "See also [`@time`](:func:`@time`), [`@timev`](:func:`@timev`), [`@timed`](:func:`@timed`), and [`@allocated`](:func:`@allocated`).\n"
      ]
     },
     "execution_count": 3,
     "metadata": {},
     "output_type": "execute_result"
    }
   ],
   "source": [
    "?@elapsed"
   ]
  },
  {
   "cell_type": "code",
   "execution_count": 4,
   "metadata": {
    "collapsed": false
   },
   "outputs": [
    {
     "name": "stdout",
     "output_type": "stream",
     "text": [
      "  0.013366 seconds (2.27 k allocations: 109.386 KB)\n"
     ]
    },
    {
     "data": {
      "text/plain": [
       "0.5"
      ]
     },
     "execution_count": 4,
     "metadata": {},
     "output_type": "execute_result"
    }
   ],
   "source": [
    "@time f(1) "
   ]
  },
  {
   "cell_type": "code",
   "execution_count": 5,
   "metadata": {
    "collapsed": false
   },
   "outputs": [
    {
     "data": {
      "text/plain": [
       "2.8e-6"
      ]
     },
     "execution_count": 5,
     "metadata": {},
     "output_type": "execute_result"
    }
   ],
   "source": [
    "@elapsed f(1)  # This run is much faster, since the function is already compiled"
   ]
  },
  {
   "cell_type": "markdown",
   "metadata": {},
   "source": [
    "Let us now run the big-size computation. Notice the unnaturally high byte allocation and the huge amount of time spent on \n",
    "[garbage collection](http://en.wikipedia.org/wiki/Garbage_collection_%28computer_science%29)."
   ]
  },
  {
   "cell_type": "code",
   "execution_count": 6,
   "metadata": {
    "collapsed": false
   },
   "outputs": [
    {
     "name": "stdout",
     "output_type": "stream",
     "text": [
      "  0.052041 seconds (3.00 M allocations: 45.777 MB, 35.82% gc time)\n"
     ]
    },
    {
     "data": {
      "text/plain": [
       "2.5000025e11"
      ]
     },
     "execution_count": 6,
     "metadata": {},
     "output_type": "execute_result"
    }
   ],
   "source": [
    "@time f(1000000) # Notice the unnaturally high byte  allocation!"
   ]
  },
  {
   "cell_type": "code",
   "execution_count": 7,
   "metadata": {
    "collapsed": false
   },
   "outputs": [
    {
     "data": {
      "text/plain": [
       "0.041119658"
      ]
     },
     "execution_count": 7,
     "metadata": {},
     "output_type": "execute_result"
    }
   ],
   "source": [
    "@elapsed f(1000000) # We shall be using @time from now on"
   ]
  },
  {
   "cell_type": "markdown",
   "metadata": {},
   "source": [
    "> Since your computer can execute several _Gigaflops_ (floating-point operations per second), this is rather slow. This slowness is due to _type instability_: variable `s` is in the beginning assumed to be of type `Integer`, while at every other step, the result is a real number of type `Float64`. Permanent checking of types requires permanent memory allocation and deallocation (garbage collection). This is corrected by very simple means: just declare `s` as a real number, and the execution is more than 10 times faster with almost no memory allocation (and, consequently, no garbage collection)."
   ]
  },
  {
   "cell_type": "code",
   "execution_count": 8,
   "metadata": {
    "collapsed": false
   },
   "outputs": [
    {
     "data": {
      "text/plain": [
       "f1 (generic function with 1 method)"
      ]
     },
     "execution_count": 8,
     "metadata": {},
     "output_type": "execute_result"
    }
   ],
   "source": [
    "function f1(n)\n",
    "    s = 0.0\n",
    "    for i = 1:n\n",
    "        s += i/2\n",
    "    end\n",
    "    s\n",
    "end"
   ]
  },
  {
   "cell_type": "code",
   "execution_count": 9,
   "metadata": {
    "collapsed": false
   },
   "outputs": [
    {
     "name": "stdout",
     "output_type": "stream",
     "text": [
      "  0.006713 seconds (1.48 k allocations: 68.880 KB)\n"
     ]
    },
    {
     "data": {
      "text/plain": [
       "0.5"
      ]
     },
     "execution_count": 9,
     "metadata": {},
     "output_type": "execute_result"
    }
   ],
   "source": [
    "@time f1(1)"
   ]
  },
  {
   "cell_type": "code",
   "execution_count": 10,
   "metadata": {
    "collapsed": false
   },
   "outputs": [
    {
     "name": "stdout",
     "output_type": "stream",
     "text": [
      "  0.001210 seconds (5 allocations: 176 bytes)\n"
     ]
    },
    {
     "data": {
      "text/plain": [
       "2.5000025e11"
      ]
     },
     "execution_count": 10,
     "metadata": {},
     "output_type": "execute_result"
    }
   ],
   "source": [
    "@time f1(1000000)"
   ]
  },
  {
   "cell_type": "markdown",
   "metadata": {},
   "source": [
    "`@time` can alo be invoked as a function, but only on a function call, and not when the output is assigned, as well:"
   ]
  },
  {
   "cell_type": "code",
   "execution_count": 11,
   "metadata": {
    "collapsed": false
   },
   "outputs": [
    {
     "name": "stdout",
     "output_type": "stream",
     "text": [
      "  0.001277 seconds (5 allocations: 176 bytes)\n"
     ]
    },
    {
     "data": {
      "text/plain": [
       "2.5000025e11"
      ]
     },
     "execution_count": 11,
     "metadata": {},
     "output_type": "execute_result"
    }
   ],
   "source": [
    "@time(f1(1000000))"
   ]
  },
  {
   "cell_type": "code",
   "execution_count": 12,
   "metadata": {
    "collapsed": false
   },
   "outputs": [
    {
     "name": "stdout",
     "output_type": "stream",
     "text": [
      "  0.001424 seconds (6 allocations: 224 bytes)\n"
     ]
    },
    {
     "data": {
      "text/plain": [
       "2.5000025e11"
      ]
     },
     "execution_count": 12,
     "metadata": {},
     "output_type": "execute_result"
    }
   ],
   "source": [
    "@time s2=f1(1000000)"
   ]
  },
  {
   "cell_type": "code",
   "execution_count": 13,
   "metadata": {
    "collapsed": false
   },
   "outputs": [
    {
     "ename": "LoadError",
     "evalue": "syntax: unhandled expr (kw s2 (call f1 1000000))",
     "output_type": "error",
     "traceback": [
      "syntax: unhandled expr (kw s2 (call f1 1000000))",
      ""
     ]
    }
   ],
   "source": [
    "@time(s2=f1(1000000))"
   ]
  },
  {
   "cell_type": "markdown",
   "metadata": {},
   "source": [
    "## Real-world example - exponential moving average\n",
    "\n",
    "[Exponential moving average](http://en.wikipedia.org/wiki/Moving_average#Exponential_moving_average) is a fast _one pass_ formula (each data point of the given data set $A$ is accessed only once) often used in high-frequency on-line trading (see [Online Algorithms in High-Frequency Trading](http://cacm.acm.org/magazines/2013/10/168184-online-algorithms-in-high-frequency-trading/fulltext) for more details). __Notice that the output array $X$ is declared in advance.__\n",
    "\n",
    "Using `return` in the last line is here optional.\n"
   ]
  },
  {
   "cell_type": "code",
   "execution_count": 14,
   "metadata": {
    "collapsed": false
   },
   "outputs": [
    {
     "data": {
      "text/plain": [
       "fexpma (generic function with 1 method)"
      ]
     },
     "execution_count": 14,
     "metadata": {},
     "output_type": "execute_result"
    }
   ],
   "source": [
    "function fexpma{T}( A::Vector{T}, α::T )\n",
    "# fast exponential moving average: X - moving average, \n",
    "# A - data, alpha - exponential forgetting parameter\n",
    "    n = length(A)\n",
    "    X = Array(T,n) # Declare X\n",
    "    β = one(T)-α\n",
    "    X[1] = A[1]\n",
    "    for k = 2:n\n",
    "        X[k] = β*A[k] + α*X[k-1]\n",
    "    end\n",
    "    return X\n",
    "end\n"
   ]
  },
  {
   "cell_type": "code",
   "execution_count": 15,
   "metadata": {
    "collapsed": false
   },
   "outputs": [
    {
     "data": {
      "text/plain": [
       "1-element Array{Float64,1}:\n",
       " 1.0"
      ]
     },
     "execution_count": 15,
     "metadata": {},
     "output_type": "execute_result"
    }
   ],
   "source": [
    "fexpma([1.0],0.5) # First run for compilation"
   ]
  },
  {
   "cell_type": "markdown",
   "metadata": {},
   "source": [
    "We now generate some big-size data:"
   ]
  },
  {
   "cell_type": "code",
   "execution_count": 16,
   "metadata": {
    "collapsed": false
   },
   "outputs": [
    {
     "data": {
      "text/plain": [
       "20000000-element Array{Float64,1}:\n",
       "   0.0809027\n",
       "   0.0205733\n",
       "   0.870344 \n",
       "   0.852708 \n",
       "   0.929132 \n",
       "   0.080693 \n",
       "   0.923342 \n",
       "   0.0700654\n",
       "   0.926241 \n",
       "   0.13218  \n",
       "   0.464649 \n",
       "   0.843474 \n",
       "   0.747224 \n",
       "   ⋮        \n",
       " 143.076    \n",
       " 120.634    \n",
       " 129.311    \n",
       "   4.7183   \n",
       "  17.791    \n",
       " 188.182    \n",
       "  11.7123   \n",
       "  46.1101   \n",
       "  37.5213   \n",
       " 140.129    \n",
       " 198.236    \n",
       " 134.366    "
      ]
     },
     "execution_count": 16,
     "metadata": {},
     "output_type": "execute_result"
    }
   ],
   "source": [
    "# Big random slightly increasing sequence\n",
    "A=[rand() + 0.00001*k*rand() for k=1:20_000_000]"
   ]
  },
  {
   "cell_type": "code",
   "execution_count": 17,
   "metadata": {
    "collapsed": false
   },
   "outputs": [
    {
     "name": "stdout",
     "output_type": "stream",
     "text": [
      "  0.230893 seconds (7 allocations: 152.588 MB, 38.19% gc time)\n"
     ]
    },
    {
     "data": {
      "text/plain": [
       "20000000-element Array{Float64,1}:\n",
       "  0.0809027\n",
       "  0.0748698\n",
       "  0.154417 \n",
       "  0.224246 \n",
       "  0.294735 \n",
       "  0.273331 \n",
       "  0.338332 \n",
       "  0.311505 \n",
       "  0.372979 \n",
       "  0.348899 \n",
       "  0.360474 \n",
       "  0.408774 \n",
       "  0.442619 \n",
       "  ⋮        \n",
       " 92.1736   \n",
       " 95.0196   \n",
       " 98.4488   \n",
       " 89.0758   \n",
       " 81.9473   \n",
       " 92.5707   \n",
       " 84.4849   \n",
       " 80.6474   \n",
       " 76.3348   \n",
       " 82.7143   \n",
       " 94.2665   \n",
       " 98.2764   "
      ]
     },
     "execution_count": 17,
     "metadata": {},
     "output_type": "execute_result"
    }
   ],
   "source": [
    "@time X=fexpma(A,0.9)"
   ]
  },
  {
   "cell_type": "markdown",
   "metadata": {},
   "source": [
    "## `@inbounds`\n",
    "\n",
    "The `@inbounds` command eliminates array bounds checking within expressions. Be certain before doing this. If the subscripts are ever out of bounds, you may suffer crashes or silent corruption. The above program runs 40% faster.,"
   ]
  },
  {
   "cell_type": "code",
   "execution_count": 18,
   "metadata": {
    "collapsed": false
   },
   "outputs": [
    {
     "name": "stderr",
     "output_type": "stream",
     "text": [
      "WARNING: Method definition fexpma(Array{#T<:Any, 1"
     ]
    },
    {
     "data": {
      "text/plain": [
       "fexpma (generic function with 1 method)"
      ]
     },
     "execution_count": 18,
     "metadata": {},
     "output_type": "execute_result"
    },
    {
     "name": "stderr",
     "output_type": "stream",
     "text": [
      "}, #T<:Any) in module Main at In[14]:4 overwritten at In[18]:4.\n"
     ]
    }
   ],
   "source": [
    "function fexpma{T}( A::Vector{T}, α::T )\n",
    "# fast exponential moving average: X - moving average, \n",
    "# A - data, alpha - exponential forgetting parameter\n",
    "    n = length(A)\n",
    "    X = Array(T,n) # Declare X\n",
    "    β = one(T)-α\n",
    "    X[1] = A[1]\n",
    "    @inbounds for k = 2:n\n",
    "        X[k] = β*A[k] + α*X[k-1]\n",
    "    end\n",
    "    return X\n",
    "end"
   ]
  },
  {
   "cell_type": "code",
   "execution_count": 19,
   "metadata": {
    "collapsed": false
   },
   "outputs": [
    {
     "name": "stdout",
     "output_type": "stream",
     "text": [
      "  0.200910 seconds (2.79 k allocations: 152.715 MB, 45.07% gc time)\n"
     ]
    },
    {
     "data": {
      "text/plain": [
       "20000000-element Array{Float64,1}:\n",
       "  0.0809027\n",
       "  0.0748698\n",
       "  0.154417 \n",
       "  0.224246 \n",
       "  0.294735 \n",
       "  0.273331 \n",
       "  0.338332 \n",
       "  0.311505 \n",
       "  0.372979 \n",
       "  0.348899 \n",
       "  0.360474 \n",
       "  0.408774 \n",
       "  0.442619 \n",
       "  ⋮        \n",
       " 92.1736   \n",
       " 95.0196   \n",
       " 98.4488   \n",
       " 89.0758   \n",
       " 81.9473   \n",
       " 92.5707   \n",
       " 84.4849   \n",
       " 80.6474   \n",
       " 76.3348   \n",
       " 82.7143   \n",
       " 94.2665   \n",
       " 98.2764   "
      ]
     },
     "execution_count": 19,
     "metadata": {},
     "output_type": "execute_result"
    }
   ],
   "source": [
    "@time X=fexpma(A,0.9)"
   ]
  },
  {
   "cell_type": "markdown",
   "metadata": {},
   "source": [
    "Similar `Matlab` programs give the following timing for the two versions of the function, first _without_ prior declaration of $X$ and then _with_ prior declaration. The _latter_ version is several times faster, but still slow. \n",
    "\n",
    "---\n",
    "```\n",
    "function X = fexpma0( A,alpha )\n",
    "% fast exponential moving average: X - moving average, A - data, alpha - exponential forgetting parameter\n",
    "n=length(A);\n",
    "beta=1-alpha;\n",
    "X(1)=A(1);\n",
    "for k=2:n\n",
    "    X(k)=beta*A(k)+alpha*X(k-1);\n",
    "end\n",
    "```\n",
    "```\n",
    ">> A=rand(20000000,1)+0.00001*[1:20000000]'.*rand(20000000,1);\n",
    ">> tic, X=fexpma0(A,0.9); toc\n",
    "Elapsed time is 3.073359 seconds.\n",
    "```\n",
    "\n",
    "---\n",
    "\n",
    "```\n",
    "function X = fexpma( A,alpha )\n",
    "% fast exponential moving average: X - moving average, A - data, alpha - exponential forgetting parameter\n",
    "n=length(A);\n",
    "X=zeros(n,1); % Allocate X in advance\n",
    "beta=1-alpha;\n",
    "X(1)=A(1);\n",
    "for k=2:n\n",
    "    X(k)=beta*A(k)+alpha*X(k-1);\n",
    "end\n",
    "```\n",
    "```\n",
    ">> tic, X=fexpma(A,0.9); toc\n",
    "Elapsed time is 0.320976 seconds.\n",
    "```"
   ]
  },
  {
   "cell_type": "markdown",
   "metadata": {},
   "source": [
    "## Plotting the moving average\n",
    "\n",
    "Let us plot the data $A$ and its exponential moving average $X$. The dimension of the data is too large for meaningful direct plot. In `Julia` we can use `@manipulate` command to slide through the data. It takes a while to read packages `Winston` (for plotting) and `Interact`, but this is needed only for the first invocation."
   ]
  },
  {
   "cell_type": "code",
   "execution_count": 20,
   "metadata": {
    "collapsed": false
   },
   "outputs": [
    {
     "data": {
      "text/html": [
       "<div id=\"interact-js-shim\">\n",
       "    <script charset=\"utf-8\">\n",
       "(function (IPython, $, _, MathJax) {\n",
       "    $.event.special.destroyed = {\n",
       "\tremove: function(o) {\n",
       "\t    if (o.handler) {\n",
       "\t\to.handler.apply(this, arguments)\n",
       "\t    }\n",
       "\t}\n",
       "    }\n",
       "\n",
       "    var OutputArea = IPython.version >= \"4.0.0\" ? require(\"notebook/js/outputarea\").OutputArea : IPython.OutputArea;\n",
       "\n",
       "    var redrawValue = function (container, type, val) {\n",
       "\tvar selector = $(\"<div/>\");\n",
       "\tvar oa = new OutputArea(_.extend(selector, {\n",
       "\t    selector: selector,\n",
       "\t    prompt_area: true,\n",
       "\t    events: IPython.events,\n",
       "\t    keyboard_manager: IPython.keyboard_manager\n",
       "\t})); // Hack to work with IPython 2.1.0\n",
       "\n",
       "\tswitch (type) {\n",
       "\tcase \"image/png\":\n",
       "            var _src = 'data:' + type + ';base64,' + val;\n",
       "\t    $(container).find(\"img\").attr('src', _src);\n",
       "\t    break;\n",
       "\tcase \"text/latex\":\n",
       "\t\tif (MathJax){\n",
       "\t\t\tvar math = MathJax.Hub.getAllJax(container)[0];\n",
       "\t\t\tMathJax.Hub.Queue([\"Text\", math, val.replace(/^\\${1,2}|\\${1,2}$/g, '')]);\n",
       "\t\t\tbreak;\n",
       "\t\t}\n",
       "\tdefault:\n",
       "\t    var toinsert = OutputArea.append_map[type].apply(\n",
       "\t\toa, [val, {}, selector]\n",
       "\t    );\n",
       "\t    $(container).empty().append(toinsert.contents());\n",
       "\t    selector.remove();\n",
       "\t}\n",
       "    }\n",
       "\n",
       "\n",
       "    $(document).ready(function() {\n",
       "\tfunction initComm(evt, data) {\n",
       "\t    var comm_manager = data.kernel.comm_manager;\n",
       "        //_.extend(comm_manager.targets, require(\"widgets/js/widget\"))\n",
       "\t    comm_manager.register_target(\"Signal\", function (comm) {\n",
       "            comm.on_msg(function (msg) {\n",
       "                var val = msg.content.data.value;\n",
       "                $(\".signal-\" + comm.comm_id).each(function() {\n",
       "                var type = $(this).data(\"type\");\n",
       "                if (typeof(val[type]) !== \"undefined\" && val[type] !== null) {\n",
       "                    redrawValue(this, type, val[type], type);\n",
       "                }\n",
       "                });\n",
       "                delete val;\n",
       "                delete msg.content.data.value;\n",
       "            });\n",
       "\t    });\n",
       "\n",
       "\t    // coordingate with Comm and redraw Signals\n",
       "\t    // XXX: Test using Reactive here to improve performance\n",
       "\t    $([IPython.events]).on(\n",
       "\t\t'output_appended.OutputArea', function (event, type, value, md, toinsert) {\n",
       "\t\t    if (md && md.reactive) {\n",
       "                // console.log(md.comm_id);\n",
       "                toinsert.addClass(\"signal-\" + md.comm_id);\n",
       "                toinsert.data(\"type\", type);\n",
       "                // Signal back indicating the mimetype required\n",
       "                var comm_manager = IPython.notebook.kernel.comm_manager;\n",
       "                var comm = comm_manager.comms[md.comm_id];\n",
       "                comm.then(function (c) {\n",
       "                    c.send({action: \"subscribe_mime\",\n",
       "                       mime: type});\n",
       "                    toinsert.bind(\"destroyed\", function() {\n",
       "                        c.send({action: \"unsubscribe_mime\",\n",
       "                               mime: type});\n",
       "                    });\n",
       "                })\n",
       "\t\t    }\n",
       "\t    });\n",
       "\t}\n",
       "\n",
       "\ttry {\n",
       "\t    // try to initialize right away. otherwise, wait on the status_started event.\n",
       "\t    initComm(undefined, IPython.notebook);\n",
       "\t} catch (e) {\n",
       "\t    $([IPython.events]).on('kernel_created.Kernel kernel_created.Session', initComm);\n",
       "\t}\n",
       "    });\n",
       "})(IPython, jQuery, _, MathJax);\n",
       "</script>\n",
       "    <script>\n",
       "        window.interactLoadedFlag = true\n",
       "       $(\"#interact-js-shim\").bind(\"destroyed\", function () {\n",
       "           if (window.interactLoadedFlag) {\n",
       "               console.warn(\"JavaScript required by Interact will be removed if you remove this cell or run using Interact more than once.\")\n",
       "           }\n",
       "       })\n",
       "       $([IPython.events]).on(\"kernel_starting.Kernel kernel_restarting.Kernel\", function () { window.interactLoadedFlag = false })\n",
       "   </script>\n",
       "</div>"
      ]
     },
     "metadata": {},
     "output_type": "display_data"
    }
   ],
   "source": [
    "using Winston\n",
    "using Interact"
   ]
  },
  {
   "cell_type": "code",
   "execution_count": 21,
   "metadata": {
    "collapsed": false
   },
   "outputs": [
    {
     "data": {
      "text/html": [],
      "text/plain": [
       "Interact.Options{:SelectionSlider,Int64}(Signal{Int64}(9999001, nactions=1),\"k\",9999001,\"9999001\",Interact.OptionDict(DataStructures.OrderedDict(\"1\"=>1,\"1001\"=>1001,\"2001\"=>2001,\"3001\"=>3001,\"4001\"=>4001,\"5001\"=>5001,\"6001\"=>6001,\"7001\"=>7001,\"8001\"=>8001,\"9001\"=>9001…),Dict(3454001=>\"3454001\",12015001=>\"12015001\",18813001=>\"18813001\",447001=>\"447001\",39001=>\"39001\",6157001=>\"6157001\",5292001=>\"5292001\",3713001=>\"3713001\",12507001=>\"12507001\",14797001=>\"14797001\"…)),Any[],Any[],true,\"horizontal\")"
      ]
     },
     "metadata": {},
     "output_type": "display_data"
    },
    {
     "data": {
      "image/png": "[encoded data removed]",
      "text/plain": [
       "Winston.FramedPlot(...)"
      ]
     },
     "execution_count": 21,
     "metadata": {
      "comm_id": "a82d1749-a494-452a-beb9-4dae57f59248",
      "reactive": true
     },
     "output_type": "execute_result"
    }
   ],
   "source": [
    "@manipulate for k=1:1000:20000000\n",
    "    plot(collect(k:k+1000),A[k:k+1000],\"r.\",\n",
    "        collect(k:k+1000),X[k:k+1000],\"b\")\n",
    "end"
   ]
  },
  {
   "cell_type": "markdown",
   "metadata": {},
   "source": [
    "### Remark\n",
    "More details about optimizing your programs are given in the [Profiling Notebook]()."
   ]
  },
  {
   "cell_type": "markdown",
   "metadata": {},
   "source": [
    "## Pre-allocating output\n",
    "\n",
    "The following example is from [Pre-allocating outputs](http://julia.readthedocs.org/en/latest/manual/performance-tips/#pre-allocating-outputs). The functions `loopinc()` and `loopinc_prealloc()` both compute $\\sum_{i=2}^{10000001}i$, the second one being 10 times faster: "
   ]
  },
  {
   "cell_type": "code",
   "execution_count": 22,
   "metadata": {
    "collapsed": false
   },
   "outputs": [
    {
     "data": {
      "text/plain": [
       "loopinc_prealloc (generic function with 1 method)"
      ]
     },
     "execution_count": 22,
     "metadata": {},
     "output_type": "execute_result"
    }
   ],
   "source": [
    "function xinc(x)\n",
    "    return [x, x+1, x+2]\n",
    "end\n",
    "\n",
    "function loopinc()\n",
    "    y = 0\n",
    "    for i = 1:10^7\n",
    "        ret = xinc(i)\n",
    "        y += ret[2]\n",
    "    end\n",
    "    y\n",
    "end\n",
    "\n",
    "function xinc!{T}(ret::AbstractVector{T}, x::T)\n",
    "    ret[1] = x\n",
    "    ret[2] = x+1\n",
    "    ret[3] = x+2\n",
    "    nothing\n",
    "end\n",
    "\n",
    "function loopinc_prealloc()\n",
    "    ret = Array(Int, 3)\n",
    "    y = 0\n",
    "    for i = 1:10^7\n",
    "        xinc!(ret, i)\n",
    "        y += ret[2]\n",
    "    end\n",
    "    y\n",
    "end"
   ]
  },
  {
   "cell_type": "code",
   "execution_count": 25,
   "metadata": {
    "collapsed": false
   },
   "outputs": [
    {
     "name": "stdout",
     "output_type": "stream",
     "text": [
      "  0.911403 seconds (40.00 M allocations: 1.490 GB, 12.67% gc time)\n"
     ]
    },
    {
     "data": {
      "text/plain": [
       "50000015000000"
      ]
     },
     "execution_count": 25,
     "metadata": {},
     "output_type": "execute_result"
    }
   ],
   "source": [
    "@time loopinc()"
   ]
  },
  {
   "cell_type": "code",
   "execution_count": 26,
   "metadata": {
    "collapsed": false
   },
   "outputs": [
    {
     "name": "stdout",
     "output_type": "stream",
     "text": [
      "  0.044271 seconds (6 allocations: 288 bytes)\n"
     ]
    },
    {
     "data": {
      "text/plain": [
       "50000015000000"
      ]
     },
     "execution_count": 26,
     "metadata": {},
     "output_type": "execute_result"
    }
   ],
   "source": [
    "@time loopinc_prealloc() # After the second run"
   ]
  },
  {
   "cell_type": "markdown",
   "metadata": {},
   "source": [
    "## Memory access\n",
    "\n",
    "The following example is from [Access arrays in memory order, along columns](http://julia.readthedocs.org/en/latest/manual/performance-tips/#access-arrays-in-memory-order-along-columns).\n",
    "\n",
    "Multidimensional arrays in Julia are stored in column-major order, which means that arrays are stacked one column at a time. This convention for ordering arrays is common in many languages like Fortran, Matlab, and R (to name a few). The alternative to column-major ordering is row-major ordering, which is the convention adopted by C and Python (numpy) among other languages. The ordering can be verified using the `vec()` function or the syntax `[:]`:"
   ]
  },
  {
   "cell_type": "code",
   "execution_count": 27,
   "metadata": {
    "collapsed": false
   },
   "outputs": [
    {
     "data": {
      "text/plain": [
       "4×3 Array{Int64,2}:\n",
       " 4  1  2\n",
       " 2  3  6\n",
       " 8  4  2\n",
       " 1  2  2"
      ]
     },
     "execution_count": 27,
     "metadata": {},
     "output_type": "execute_result"
    }
   ],
   "source": [
    "B = rand(0:9,4,3)"
   ]
  },
  {
   "cell_type": "code",
   "execution_count": 28,
   "metadata": {
    "collapsed": false
   },
   "outputs": [
    {
     "data": {
      "text/plain": [
       "12-element Array{Int64,1}:\n",
       " 4\n",
       " 2\n",
       " 8\n",
       " 1\n",
       " 1\n",
       " 3\n",
       " 4\n",
       " 2\n",
       " 2\n",
       " 6\n",
       " 2\n",
       " 2"
      ]
     },
     "execution_count": 28,
     "metadata": {},
     "output_type": "execute_result"
    }
   ],
   "source": [
    "B[:]"
   ]
  },
  {
   "cell_type": "code",
   "execution_count": 29,
   "metadata": {
    "collapsed": false
   },
   "outputs": [
    {
     "data": {
      "text/plain": [
       "12-element Array{Int64,1}:\n",
       " 4\n",
       " 2\n",
       " 8\n",
       " 1\n",
       " 1\n",
       " 3\n",
       " 4\n",
       " 2\n",
       " 2\n",
       " 6\n",
       " 2\n",
       " 2"
      ]
     },
     "execution_count": 29,
     "metadata": {},
     "output_type": "execute_result"
    }
   ],
   "source": [
    "vec(B)"
   ]
  },
  {
   "cell_type": "markdown",
   "metadata": {},
   "source": [
    "The ordering of arrays can have significant performance effects when looping over arrays. Loops should be organized such that the subsequent accessed elements are close to each other in physical memory.\n",
    "\n",
    "The following functions accept a `Vector` and and return a square `Array` with the rows or the columns filled with copies of the input vector, respectively."
   ]
  },
  {
   "cell_type": "code",
   "execution_count": 30,
   "metadata": {
    "collapsed": false
   },
   "outputs": [
    {
     "data": {
      "text/plain": [
       "copy_rows (generic function with 1 method)"
      ]
     },
     "execution_count": 30,
     "metadata": {},
     "output_type": "execute_result"
    }
   ],
   "source": [
    "function copy_cols{T}(x::Vector{T})\n",
    "    n = size(x, 1)\n",
    "    out = Array(eltype(x), n, n)\n",
    "    for i=1:n\n",
    "        out[:, i] = x\n",
    "    end\n",
    "    out\n",
    "end\n",
    "\n",
    "function copy_rows{T}(x::Vector{T})\n",
    "    n = size(x, 1)\n",
    "    out = Array(eltype(x), n, n)\n",
    "    for i=1:n\n",
    "        out[i, :] = x\n",
    "    end\n",
    "    out\n",
    "end"
   ]
  },
  {
   "cell_type": "code",
   "execution_count": 31,
   "metadata": {
    "collapsed": false
   },
   "outputs": [
    {
     "data": {
      "text/plain": [
       "2×2 Array{Float64,2}:\n",
       " 1.0  2.0\n",
       " 1.0  2.0"
      ]
     },
     "execution_count": 31,
     "metadata": {},
     "output_type": "execute_result"
    }
   ],
   "source": [
    "copy_cols([1.0,2])\n",
    "copy_rows([1.0,2])"
   ]
  },
  {
   "cell_type": "code",
   "execution_count": 32,
   "metadata": {
    "collapsed": false
   },
   "outputs": [
    {
     "data": {
      "text/plain": [
       "5000-element Array{Float64,1}:\n",
       " 0.0971603\n",
       " 0.865009 \n",
       " 0.317087 \n",
       " 0.946193 \n",
       " 0.425674 \n",
       " 0.296344 \n",
       " 0.763157 \n",
       " 0.843491 \n",
       " 0.830559 \n",
       " 0.0846631\n",
       " 0.718372 \n",
       " 0.316023 \n",
       " 0.134015 \n",
       " ⋮        \n",
       " 0.590454 \n",
       " 0.669914 \n",
       " 0.359843 \n",
       " 0.905258 \n",
       " 0.60837  \n",
       " 0.643336 \n",
       " 0.817395 \n",
       " 0.160449 \n",
       " 0.639891 \n",
       " 0.287711 \n",
       " 0.116012 \n",
       " 0.0256861"
      ]
     },
     "execution_count": 32,
     "metadata": {},
     "output_type": "execute_result"
    }
   ],
   "source": [
    "x=rand(5000) # generate a random vector"
   ]
  },
  {
   "cell_type": "code",
   "execution_count": 33,
   "metadata": {
    "collapsed": false
   },
   "outputs": [
    {
     "name": "stdout",
     "output_type": "stream",
     "text": [
      "  0.106217 seconds (4.50 k allocations: 190.804 MB, 5.84% gc time)\n"
     ]
    },
    {
     "data": {
      "text/plain": [
       "5000×5000 Array{Float64,2}:\n",
       " 0.0971603  0.0971603  0.0971603  …  0.0971603  0.0971603  0.0971603\n",
       " 0.865009   0.865009   0.865009      0.865009   0.865009   0.865009 \n",
       " 0.317087   0.317087   0.317087      0.317087   0.317087   0.317087 \n",
       " 0.946193   0.946193   0.946193      0.946193   0.946193   0.946193 \n",
       " 0.425674   0.425674   0.425674      0.425674   0.425674   0.425674 \n",
       " 0.296344   0.296344   0.296344   …  0.296344   0.296344   0.296344 \n",
       " 0.763157   0.763157   0.763157      0.763157   0.763157   0.763157 \n",
       " 0.843491   0.843491   0.843491      0.843491   0.843491   0.843491 \n",
       " 0.830559   0.830559   0.830559      0.830559   0.830559   0.830559 \n",
       " 0.0846631  0.0846631  0.0846631     0.0846631  0.0846631  0.0846631\n",
       " 0.718372   0.718372   0.718372   …  0.718372   0.718372   0.718372 \n",
       " 0.316023   0.316023   0.316023      0.316023   0.316023   0.316023 \n",
       " 0.134015   0.134015   0.134015      0.134015   0.134015   0.134015 \n",
       " ⋮                                ⋱                                 \n",
       " 0.590454   0.590454   0.590454      0.590454   0.590454   0.590454 \n",
       " 0.669914   0.669914   0.669914      0.669914   0.669914   0.669914 \n",
       " 0.359843   0.359843   0.359843   …  0.359843   0.359843   0.359843 \n",
       " 0.905258   0.905258   0.905258      0.905258   0.905258   0.905258 \n",
       " 0.60837    0.60837    0.60837       0.60837    0.60837    0.60837  \n",
       " 0.643336   0.643336   0.643336      0.643336   0.643336   0.643336 \n",
       " 0.817395   0.817395   0.817395      0.817395   0.817395   0.817395 \n",
       " 0.160449   0.160449   0.160449   …  0.160449   0.160449   0.160449 \n",
       " 0.639891   0.639891   0.639891      0.639891   0.639891   0.639891 \n",
       " 0.287711   0.287711   0.287711      0.287711   0.287711   0.287711 \n",
       " 0.116012   0.116012   0.116012      0.116012   0.116012   0.116012 \n",
       " 0.0256861  0.0256861  0.0256861     0.0256861  0.0256861  0.0256861"
      ]
     },
     "execution_count": 33,
     "metadata": {},
     "output_type": "execute_result"
    }
   ],
   "source": [
    "@time C=copy_cols(x)  # We generate a large matrix"
   ]
  },
  {
   "cell_type": "code",
   "execution_count": 34,
   "metadata": {
    "collapsed": false
   },
   "outputs": [
    {
     "name": "stdout",
     "output_type": "stream",
     "text": [
      "  0.328677 seconds (4.50 k allocations: 190.804 MB, 10.06% gc time)\n"
     ]
    },
    {
     "data": {
      "text/plain": [
       "5000×5000 Array{Float64,2}:\n",
       " 0.0971603  0.865009  0.317087  0.946193  …  0.287711  0.116012  0.0256861\n",
       " 0.0971603  0.865009  0.317087  0.946193     0.287711  0.116012  0.0256861\n",
       " 0.0971603  0.865009  0.317087  0.946193     0.287711  0.116012  0.0256861\n",
       " 0.0971603  0.865009  0.317087  0.946193     0.287711  0.116012  0.0256861\n",
       " 0.0971603  0.865009  0.317087  0.946193     0.287711  0.116012  0.0256861\n",
       " 0.0971603  0.865009  0.317087  0.946193  …  0.287711  0.116012  0.0256861\n",
       " 0.0971603  0.865009  0.317087  0.946193     0.287711  0.116012  0.0256861\n",
       " 0.0971603  0.865009  0.317087  0.946193     0.287711  0.116012  0.0256861\n",
       " 0.0971603  0.865009  0.317087  0.946193     0.287711  0.116012  0.0256861\n",
       " 0.0971603  0.865009  0.317087  0.946193     0.287711  0.116012  0.0256861\n",
       " 0.0971603  0.865009  0.317087  0.946193  …  0.287711  0.116012  0.0256861\n",
       " 0.0971603  0.865009  0.317087  0.946193     0.287711  0.116012  0.0256861\n",
       " 0.0971603  0.865009  0.317087  0.946193     0.287711  0.116012  0.0256861\n",
       " ⋮                                        ⋱                               \n",
       " 0.0971603  0.865009  0.317087  0.946193     0.287711  0.116012  0.0256861\n",
       " 0.0971603  0.865009  0.317087  0.946193     0.287711  0.116012  0.0256861\n",
       " 0.0971603  0.865009  0.317087  0.946193  …  0.287711  0.116012  0.0256861\n",
       " 0.0971603  0.865009  0.317087  0.946193     0.287711  0.116012  0.0256861\n",
       " 0.0971603  0.865009  0.317087  0.946193     0.287711  0.116012  0.0256861\n",
       " 0.0971603  0.865009  0.317087  0.946193     0.287711  0.116012  0.0256861\n",
       " 0.0971603  0.865009  0.317087  0.946193     0.287711  0.116012  0.0256861\n",
       " 0.0971603  0.865009  0.317087  0.946193  …  0.287711  0.116012  0.0256861\n",
       " 0.0971603  0.865009  0.317087  0.946193     0.287711  0.116012  0.0256861\n",
       " 0.0971603  0.865009  0.317087  0.946193     0.287711  0.116012  0.0256861\n",
       " 0.0971603  0.865009  0.317087  0.946193     0.287711  0.116012  0.0256861\n",
       " 0.0971603  0.865009  0.317087  0.946193     0.287711  0.116012  0.0256861"
      ]
     },
     "execution_count": 34,
     "metadata": {},
     "output_type": "execute_result"
    }
   ],
   "source": [
    "@time D=copy_rows(x) # This is several times slower"
   ]
  },
  {
   "cell_type": "markdown",
   "metadata": {},
   "source": [
    "### Remark\n",
    "There is also a built-in function `repmat()`:"
   ]
  },
  {
   "cell_type": "code",
   "execution_count": 35,
   "metadata": {
    "collapsed": false
   },
   "outputs": [
    {
     "name": "stdout",
     "output_type": "stream",
     "text": [
      "search: \u001b[1mr\u001b[22m\u001b[1me\u001b[22m\u001b[1mp\u001b[22m\u001b[1mm\u001b[22m\u001b[1ma\u001b[22m\u001b[1mt\u001b[22m\n",
      "\n"
     ]
    },
    {
     "data": {
      "text/markdown": [
       "```\n",
       "repmat(A, n, m)\n",
       "```\n",
       "\n",
       "Construct a matrix by repeating the given matrix `n` times in dimension 1 and `m` times in dimension 2.\n"
      ],
      "text/plain": [
       "```\n",
       "repmat(A, n, m)\n",
       "```\n",
       "\n",
       "Construct a matrix by repeating the given matrix `n` times in dimension 1 and `m` times in dimension 2.\n"
      ]
     },
     "execution_count": 35,
     "metadata": {},
     "output_type": "execute_result"
    }
   ],
   "source": [
    "?repmat"
   ]
  },
  {
   "cell_type": "code",
   "execution_count": 36,
   "metadata": {
    "collapsed": false
   },
   "outputs": [
    {
     "name": "stdout",
     "output_type": "stream",
     "text": [
      "  0.223246 seconds (41.24 k allocations: 192.371 MB, 35.30% gc time)\n"
     ]
    },
    {
     "data": {
      "text/plain": [
       "5000×5000 Array{Float64,2}:\n",
       " 0.0971603  0.0971603  0.0971603  …  0.0971603  0.0971603  0.0971603\n",
       " 0.865009   0.865009   0.865009      0.865009   0.865009   0.865009 \n",
       " 0.317087   0.317087   0.317087      0.317087   0.317087   0.317087 \n",
       " 0.946193   0.946193   0.946193      0.946193   0.946193   0.946193 \n",
       " 0.425674   0.425674   0.425674      0.425674   0.425674   0.425674 \n",
       " 0.296344   0.296344   0.296344   …  0.296344   0.296344   0.296344 \n",
       " 0.763157   0.763157   0.763157      0.763157   0.763157   0.763157 \n",
       " 0.843491   0.843491   0.843491      0.843491   0.843491   0.843491 \n",
       " 0.830559   0.830559   0.830559      0.830559   0.830559   0.830559 \n",
       " 0.0846631  0.0846631  0.0846631     0.0846631  0.0846631  0.0846631\n",
       " 0.718372   0.718372   0.718372   …  0.718372   0.718372   0.718372 \n",
       " 0.316023   0.316023   0.316023      0.316023   0.316023   0.316023 \n",
       " 0.134015   0.134015   0.134015      0.134015   0.134015   0.134015 \n",
       " ⋮                                ⋱                                 \n",
       " 0.590454   0.590454   0.590454      0.590454   0.590454   0.590454 \n",
       " 0.669914   0.669914   0.669914      0.669914   0.669914   0.669914 \n",
       " 0.359843   0.359843   0.359843   …  0.359843   0.359843   0.359843 \n",
       " 0.905258   0.905258   0.905258      0.905258   0.905258   0.905258 \n",
       " 0.60837    0.60837    0.60837       0.60837    0.60837    0.60837  \n",
       " 0.643336   0.643336   0.643336      0.643336   0.643336   0.643336 \n",
       " 0.817395   0.817395   0.817395      0.817395   0.817395   0.817395 \n",
       " 0.160449   0.160449   0.160449   …  0.160449   0.160449   0.160449 \n",
       " 0.639891   0.639891   0.639891      0.639891   0.639891   0.639891 \n",
       " 0.287711   0.287711   0.287711      0.287711   0.287711   0.287711 \n",
       " 0.116012   0.116012   0.116012      0.116012   0.116012   0.116012 \n",
       " 0.0256861  0.0256861  0.0256861     0.0256861  0.0256861  0.0256861"
      ]
     },
     "execution_count": 36,
     "metadata": {},
     "output_type": "execute_result"
    }
   ],
   "source": [
    "@time C1=repmat(x,1,5000)"
   ]
  },
  {
   "cell_type": "code",
   "execution_count": null,
   "metadata": {
    "collapsed": false
   },
   "outputs": [],
   "source": []
  }
 ],
 "metadata": {
  "anaconda-cloud": {},
  "kernelspec": {
   "display_name": "Julia 0.5.1",
   "language": "julia",
   "name": "julia-0.5"
  },
  "language_info": {
   "file_extension": ".jl",
   "mimetype": "application/julia",
   "name": "julia",
   "version": "0.5.1"
  },
  "widgets": {
   "state": {
    "660e53b0-36f0-49b0-aeaf-c4ddd60726d2": {
     "views": [
      {
       "cell_index": 31
      }
     ]
    }
   },
   "version": "1.2.0"
  }
 },
 "nbformat": 4,
 "nbformat_minor": 0
}
